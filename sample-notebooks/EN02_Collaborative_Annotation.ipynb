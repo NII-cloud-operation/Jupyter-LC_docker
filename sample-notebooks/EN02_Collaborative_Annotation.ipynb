{
 "cells": [
  {
   "cell_type": "markdown",
   "metadata": {
    "lc_cell_meme": {
     "current": "30a1809e-df67-11e9-af3e-0242ac110002",
     "history": [
      {
       "current": "30a1809e-df67-11e9-af3e-0242ac110002",
       "next": "2f730eb0-7b4c-11e9-afcf-0242ac110002",
       "previous": "115c0dec-7b4b-11e9-afcf-0242ac110002"
      },
      {
       "current": "30a1809e-df67-11e9-af3e-0242ac110002",
       "next": "115c0dec-7b4b-11e9-afcf-0242ac110002",
       "previous": null
      },
      {
       "current": "30a1809e-df67-11e9-af3e-0242ac110002",
       "next": "2f730eb0-7b4c-11e9-afcf-0242ac110002",
       "previous": null
      }
     ],
     "next": "f2a0c984-df85-11e9-af3e-0242ac110002",
     "previous": null
    }
   },
   "source": [
    "# sidestickies - <font color=gray small>Collaborative Annotation for Jupyter Notebook</font>\n",
    "\n",
    "[<span class='fa fa-fw fa-external-link'></span>https://github.com/NII-cloud-operation/sidestickies](https://github.com/NII-cloud-operation/sidestickies)\n",
    "\n",
    "**Description:**<br>\n",
    "`sidestickies` is a notebook extension, which enables to attach *sticky notes* to each cell utilizing [**Scrapbox**](https://scrapbox.io/product/).\n",
    "\n",
    "Jupyter notebook's narrative stories are efficient to share workflows and activities of researchers, educators, engineers, and other practitioners for reproducible computing. The notebooks are crucial tools both for describing and capturing a series of related events, results, or the like as narratives, in ether prospective or retrospective cases. <br>\n",
    "However, it is not sufficient enough because those narratives mainly focus on the subjects and stories within the notebook itself. We would like to have separate **channels for meta-, side-, and reflective-communications**, which are well-known use cases for sticky notes."
   ]
  },
  {
   "cell_type": "markdown",
   "metadata": {
    "lc_cell_meme": {
     "current": "f2a0c984-df85-11e9-af3e-0242ac110002",
     "history": [
      {
       "current": "f2a0c984-df85-11e9-af3e-0242ac110002",
       "next": "be80519e-7b4c-11e9-afcf-0242ac110002",
       "previous": "30a1809e-df67-11e9-af3e-0242ac110002"
      },
      {
       "current": "f2a0c984-df85-11e9-af3e-0242ac110002",
       "next": "b16d2592-df86-11e9-af3e-0242ac110002",
       "previous": "30a1809e-df67-11e9-af3e-0242ac110002"
      }
     ],
     "next": "c9308854-df86-11e9-af3e-0242ac110002",
     "previous": "30a1809e-df67-11e9-af3e-0242ac110002"
    }
   },
   "source": [
    "## Place a sticky note\n",
    "\n",
    "The toggle button on *Toolbar*  \"<i class='fa fa-comments'></i>\"  show/hide `sitestickes`.\n",
    "\n",
    "<i><small>For enabling `sidestickies`, please refer [Let's try sitestikies](https://scrapbox.io/sidestickies/Let's_try_%22sitestickies%22) and [README.md](https://github.com/NII-cloud-operation/sidestickies/blob/master/README.md)</small></i>\n"
   ]
  },
  {
   "cell_type": "markdown",
   "metadata": {
    "deletable": false,
    "editable": false,
    "lc_cell_meme": {
     "current": "c9308854-df86-11e9-af3e-0242ac110002",
     "history": [
      {
       "current": "c9308854-df86-11e9-af3e-0242ac110002",
       "next": "be80519e-7b4c-11e9-afcf-0242ac110002",
       "previous": "b16d2592-df86-11e9-af3e-0242ac110002"
      },
      {
       "current": "c9308854-df86-11e9-af3e-0242ac110002",
       "next": "46dbc81e-df90-11e9-af3e-0242ac110002",
       "previous": "b16d2592-df86-11e9-af3e-0242ac110002"
      },
      {
       "current": "c9308854-df86-11e9-af3e-0242ac110002",
       "next": "861dfea6-7b50-11e9-afcf-0242ac110002",
       "previous": "b16d2592-df86-11e9-af3e-0242ac110002"
      }
     ],
     "next": "b16d2592-df86-11e9-af3e-0242ac110002",
     "previous": "f2a0c984-df85-11e9-af3e-0242ac110002"
    },
    "run_through_control": {
     "frozen": true,
     "read_only": false
    }
   },
   "source": [
    "This cell already has a sticky note!"
   ]
  },
  {
   "cell_type": "markdown",
   "metadata": {
    "lc_cell_meme": {
     "current": "b16d2592-df86-11e9-af3e-0242ac110002",
     "history": [
      {
       "current": "b16d2592-df86-11e9-af3e-0242ac110002",
       "next": "be80519e-7b4c-11e9-afcf-0242ac110002",
       "previous": "f2a0c984-df85-11e9-af3e-0242ac110002"
      },
      {
       "current": "b16d2592-df86-11e9-af3e-0242ac110002",
       "next": "c9308854-df86-11e9-af3e-0242ac110002",
       "previous": "f2a0c984-df85-11e9-af3e-0242ac110002"
      }
     ],
     "next": "861dfea6-7b50-11e9-afcf-0242ac110002",
     "previous": "c9308854-df86-11e9-af3e-0242ac110002"
    }
   },
   "source": [
    "This cell does not have a sticky note yet.<br>\n",
    "<i><small>If you have write-permission to the associated Scrapbox, you can create a new page.</small></i>"
   ]
  },
  {
   "cell_type": "code",
   "execution_count": null,
   "metadata": {
    "lc_cell_meme": {
     "current": "861dfea6-7b50-11e9-afcf-0242ac110002",
     "history": [
      {
       "current": "861dfea6-7b50-11e9-afcf-0242ac110002",
       "next": "6ba9cd54-7b4e-11e9-afcf-0242ac110002",
       "previous": "60581dfa-7b50-11e9-afcf-0242ac110002"
      },
      {
       "current": "861dfea6-7b50-11e9-afcf-0242ac110002",
       "next": "dd6dca2e-7b50-11e9-afcf-0242ac110002",
       "previous": "60581dfa-7b50-11e9-afcf-0242ac110002"
      },
      {
       "current": "861dfea6-7b50-11e9-afcf-0242ac110002",
       "next": "785a985a-7b51-11e9-a6b5-a26e065752ae",
       "previous": "60581dfa-7b50-11e9-afcf-0242ac110002"
      },
      {
       "current": "861dfea6-7b50-11e9-afcf-0242ac110002",
       "next": "bfda26b4-7b51-11e9-a6b5-a26e065752ae",
       "previous": "60581dfa-7b50-11e9-afcf-0242ac110002"
      },
      {
       "current": "861dfea6-7b50-11e9-afcf-0242ac110002",
       "next": "58b0ee9e-82d3-11e9-a002-0242ac110002",
       "previous": "60581dfa-7b50-11e9-afcf-0242ac110002"
      },
      {
       "current": "861dfea6-7b50-11e9-afcf-0242ac110002",
       "next": "58b0ee9e-82d3-11e9-a002-0242ac110002",
       "previous": "46dbc81e-df90-11e9-af3e-0242ac110002"
      },
      {
       "current": "861dfea6-7b50-11e9-afcf-0242ac110002",
       "next": "46dbc81e-df90-11e9-af3e-0242ac110002",
       "previous": "c9308854-df86-11e9-af3e-0242ac110002"
      }
     ],
     "next": "46dbc81e-df90-11e9-af3e-0242ac110002",
     "previous": "b16d2592-df86-11e9-af3e-0242ac110002"
    },
    "lc_wrapper": {
     "log_history": [
      "/home/jovyan/.log/20190925/20190925-214531-0781.log"
     ]
    },
    "scrolled": true
   },
   "outputs": [],
   "source": [
    "#You can place a sticky note onto code cells as well.\n",
    "print('Hello!')"
   ]
  },
  {
   "cell_type": "markdown",
   "metadata": {
    "lc_cell_meme": {
     "current": "46dbc81e-df90-11e9-af3e-0242ac110002",
     "history": [
      {
       "current": "46dbc81e-df90-11e9-af3e-0242ac110002",
       "next": "be80519e-7b4c-11e9-afcf-0242ac110002",
       "previous": "c9308854-df86-11e9-af3e-0242ac110002"
      },
      {
       "current": "46dbc81e-df90-11e9-af3e-0242ac110002",
       "next": "861dfea6-7b50-11e9-afcf-0242ac110002",
       "previous": "c9308854-df86-11e9-af3e-0242ac110002"
      }
     ],
     "next": "66f4f174-df9b-11e9-af3e-0242ac110002",
     "previous": "861dfea6-7b50-11e9-afcf-0242ac110002"
    }
   },
   "source": [
    "## About Internals\n",
    "The extension [`nblineage`](https://github.com/NII-cloud-operation/Jupyter-LC_nblineage) assigns unique UUID to the cell, which is so-called `meme`.  Then, `sidestickes` use this `meme` as a reference key and associate a cell to a page of [**Scrapbox**](https://scrapbox.io/product/), which is a powerful wiki."
   ]
  },
  {
   "cell_type": "markdown",
   "metadata": {
    "lc_cell_meme": {
     "current": "66f4f174-df9b-11e9-af3e-0242ac110002",
     "next": "58b0ee9e-82d3-11e9-a002-0242ac110002",
     "previous": "46dbc81e-df90-11e9-af3e-0242ac110002"
    }
   },
   "source": [
    "---"
   ]
  },
  {
   "cell_type": "markdown",
   "metadata": {
    "lc_cell_meme": {
     "current": "58b0ee9e-82d3-11e9-a002-0242ac110002",
     "history": [
      {
       "current": "58b0ee9e-82d3-11e9-a002-0242ac110002",
       "next": "bfda26b4-7b51-11e9-a6b5-a26e065752ae",
       "previous": "861dfea6-7b50-11e9-afcf-0242ac110002"
      }
     ],
     "next": "bfda26b4-7b51-11e9-a6b5-a26e065752ae",
     "previous": "66f4f174-df9b-11e9-af3e-0242ac110002"
    }
   },
   "source": [
    "<span style='background-color:mistyrose;'>付箋ページの内容を変更するためには Scrapbox https://scrapbox.io/sidestickies-public/ に対する編集権限が必要です。実際に編集してみたい場合は、クラウド運用チームにお問い合せください(Facebookページ https://www.facebook.com/groups/792904597583420/ )。</span>"
   ]
  },
  {
   "cell_type": "markdown",
   "metadata": {
    "lc_cell_meme": {
     "current": "bfda26b4-7b51-11e9-a6b5-a26e065752ae",
     "history": [
      {
       "current": "bfda26b4-7b51-11e9-a6b5-a26e065752ae",
       "next": "dd6dca2e-7b50-11e9-afcf-0242ac110002",
       "previous": "861dfea6-7b50-11e9-afcf-0242ac110002"
      },
      {
       "current": "bfda26b4-7b51-11e9-a6b5-a26e065752ae",
       "next": "423d935a-7b4f-11e9-afcf-0242ac110002",
       "previous": "861dfea6-7b50-11e9-afcf-0242ac110002"
      }
     ],
     "next": "423d935a-7b4f-11e9-afcf-0242ac110002",
     "previous": "58b0ee9e-82d3-11e9-a002-0242ac110002"
    }
   },
   "source": [
    "`Scrapbox` の編集権限がある場合、編集欄でページの内容、タイトルを変更することができます。<br>\n",
    "変更した場合は、付箋左端の更新ボタン<i class='fa fa-refresh'></i> を押してみてください。最新のコメントを取得することができます。"
   ]
  },
  {
   "cell_type": "markdown",
   "metadata": {
    "lc_cell_meme": {
     "current": "423d935a-7b4f-11e9-afcf-0242ac110002",
     "history": [
      {
       "current": "423d935a-7b4f-11e9-afcf-0242ac110002",
       "next": null,
       "previous": "6ba9cd54-7b4e-11e9-afcf-0242ac110002"
      },
      {
       "current": "423d935a-7b4f-11e9-afcf-0242ac110002",
       "next": "dd6dcd26-7b50-11e9-afcf-0242ac110002",
       "previous": "6ba9cd54-7b4e-11e9-afcf-0242ac110002"
      },
      {
       "current": "423d935a-7b4f-11e9-afcf-0242ac110002",
       "next": "dd6dcd26-7b50-11e9-afcf-0242ac110002",
       "previous": "dd6dca2e-7b50-11e9-afcf-0242ac110002"
      }
     ],
     "next": null,
     "previous": "bfda26b4-7b51-11e9-a6b5-a26e065752ae"
    }
   },
   "source": [
    "次に、現在のNotebookを複製してみましょう。 メニューバーから.. \"File\" >> \"Make a Copy..\" を選択してください。<br>\n",
    "現在在開いているのと同じNotebookのコピーが表示されます。<br>\n",
    "未だ、付箋ページが存在しない Cell の付箋から右端の <i class=\"fa fa-comment\" style='color:#cccccc;'></i> をクリックすると付箋ページの編集欄が表示されます。タイトル等入力してみましょう。<br><br>\n",
    "入力後、コピー元のNotebookに戻って、対応するCellの付箋を確認すると、新たに入力した付箋ページのタイトルや内容が伝搬して表示されるのを確認できます。\n"
   ]
  }
 ],
 "metadata": {
  "kernelspec": {
   "display_name": "Python 3 (LC_wrapper)",
   "language": "python",
   "name": "python3-wrapper"
  },
  "language_info": {
   "file_extension": ".py",
   "mimetype": "text/x-python",
   "name": "python",
   "nbconvert_exporter": "python",
   "pygments_lexer": "ipython3",
   "version": "3.7.3"
  },
  "lc_notebook_meme": {
   "current": "115c0806-7b4b-11e9-afcf-0242ac110002",
   "lc_server_signature": {
    "current": {
     "notebook_dir": "/home/jovyan",
     "notebook_path": "/",
     "server_url": "http://localhost:8000/",
     "signature_id": "3c3fd376-e00f-11e9-8d7e-0242ac110002"
    },
    "history": [
     {
      "notebook_dir": "/home/jovyan",
      "notebook_path": "/",
      "server_url": "http://localhost:8000/",
      "signature_id": "e9ce57ca-8294-11e9-a002-0242ac110002"
     },
     {
      "notebook_dir": "/home/jovyan",
      "notebook_path": "/",
      "server_url": "http://localhost:8000/",
      "signature_id": "fe283382-df5d-11e9-af3e-0242ac110002"
     }
    ]
   }
  },
  "sidestickies": {
   "visible": false
  },
  "toc": {
   "base_numbering": 1,
   "nav_menu": {},
   "number_sections": false,
   "sideBar": true,
   "skip_h1_title": false,
   "title_cell": "Table of Contents",
   "title_sidebar": "Contents",
   "toc_cell": false,
   "toc_position": {},
   "toc_section_display": true,
   "toc_window_display": false
  }
 },
 "nbformat": 4,
 "nbformat_minor": 2
}
