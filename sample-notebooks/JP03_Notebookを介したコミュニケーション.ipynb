{
 "cells": [
  {
   "cell_type": "markdown",
   "metadata": {
    "lc_cell_meme": {
     "current": "115c0dec-7b4b-11e9-afcf-0242ac110002",
     "history": [
      {
       "current": "115c0dec-7b4b-11e9-afcf-0242ac110002",
       "next": null,
       "previous": null
      }
     ],
     "next": "2f730eb0-7b4c-11e9-afcf-0242ac110002",
     "previous": null
    }
   },
   "source": [
    "# Notebookを介したコミュニケーション\n",
    "\n",
    "<img src=\"./images/literate_computing-logo.png\" align=\"left\" />\n",
    "\n",
    "計算機インフラの御守では種々雑多なドキュメンテーションが不可欠です。日々の作業で証跡を残す、手順を整理して共有・再利用する、ユーザマニュアルや教材を整備する.. 国立情報学研究所（NII）のクラウド運用担当では、これらをシームレスに記述・蓄積する方法を研究しています。\n",
    "\n",
    "このプロジェクト、Literate Computing for Reproducible Infrastructure（以下 「LC4RI」）では、インフラ運用の場面において [Jupyter Notebook]( http://jupyter.org ) を用いた **機械的に再現できる、人が読み解ける手順** を手段として、過度に自動化に依存することのない、レジリエントな **人間中心の機械化** をめざしています。そこでは、作業を効率化しつつもブラックボックス化せず、作業に対する理解をチーム内でコミュニケーションできる、また、目的と手段の整合性や限界を理解し議論・評価できると言った場を維持することで、ノウハウの移転・共有を促し運用者のスキル向上とエンジニアリングチームの再生産をはかることを目指しています。\n",
    "\n",
    "これらを実現してゆくためには、運用作業者が自身の作成したNotebookを振り返ったり（過去の自分とのコミュニケーション）、別の運用作業者がより良い解を指摘したり（チーム内のコミュニケーション）することが重要になります。Notebookを介してこれらのコミュニケーションを円滑に行うために [`nblineage`](https://github.com/NII-cloud-operation/Jupyter-LC_nblineage)、[`sidestickies`](https://github.com/NII-cloud-operation/sidestickies)と言った機能を開発しています。\n",
    "\n",
    "---\n",
    "[**`nblineage`**](https://github.com/NII-cloud-operation/Jupyter-LC_nblineage): \n",
    "特定の作業に関する作業記録としてのNotebookは多くのコード、文章から成りたっています。`nblinage`はNotebookに含まれるコードや文章に対してCellの単位でユニークな `meme`(ミーム)ID を付与します。Notebookを流用するなどして複製されたCellは同一の `meme`ID を引き継ぐので、過去のNotebookを振り返ったり、派生したNotebook群を比較する際に各要素の流用や由来を追跡することができます。\n",
    "\n",
    "[**`sidestickies`**](https://github.com/NII-cloud-operation/sidestickies):\n",
    "通常のNotebookでもmarkdown中に色々なコメントや注釈を記述することができますが、`sidestickes(付箋機能)`ではCell（実際には`meme`ID）に対して`「付箋ページ」`を付与することができます。Notebookに記述しているストーリーとは異なる観点で、相互にコメントしたりヒントを与えたりするなどサイド・コミュニケーションに活用できます。また、付箋ページは`meme`IDに結びつけてあるので...由来が同じ、つまり同一の`meme`IDを持つCellは同一の付箋ページを参照します。例えば、複製して流用しているNotebookを用いた作業の途中に、そこでの気づきをコメントすると、関連するNotebookの読者にコメント内容を伝搬させることができます。流用元であった現在用いられていないNotebookを参照した場合や、共通起源から派生した他の場面で用いられているNotebookを参照した場合、由来が同じであるCellからは同じ付箋ページが参照されるので、Notebook群を横断したコミュニケーション手段として利用できます。Notebook群やNotebookを構成している要素間の関係性を把握し、効率よくメンテナンス・共有するために活用できます。\n",
    "\n",
    "付箋ページの格納先には [**`Scrapbox`** `https://scrapbox.io/`](https://scrapbox.io/product/)の`page` を利用しています。\n",
    "\n",
    "\n",
    "---\n",
    "ここではNotebookを介してどのようなコミュニケーション行うことができるのかを紹介します。"
   ]
  },
  {
   "cell_type": "markdown",
   "metadata": {
    "lc_cell_meme": {
     "current": "2f730eb0-7b4c-11e9-afcf-0242ac110002",
     "history": [
      {
       "current": "2f730eb0-7b4c-11e9-afcf-0242ac110002",
       "next": null,
       "previous": "115c0dec-7b4b-11e9-afcf-0242ac110002"
      }
     ],
     "next": "be80519e-7b4c-11e9-afcf-0242ac110002",
     "previous": "115c0dec-7b4b-11e9-afcf-0242ac110002"
    }
   },
   "source": [
    "# 説明・コードの追跡\n",
    "\n",
    "運用作業を構成する手順には様々なものがあります。\n",
    "\n",
    "* 障害発生時のログの取得\n",
    "* バージョンアップ時の最新ソフトウェアの取得\n",
    "* ...\n",
    "\n",
    "いずれの操作も一回きりということはあまりなく、何かイベントが発生した際に繰り返し実施する性格の操作です。\n",
    "そのため、状況により、あるいは操作対象となる個々のシステム毎に、手順がコピーされて再利用されることが多く発生します。\n",
    "\n",
    "では、その操作に変更の必要性が出てきたらどのようにメンテナンスすれば良いでしょうか？対象システムのバージョンアップによりログファイルの\n",
    "パスが変わった、アップデート方法が変わった、など... このような場合には、同じルーツを持つ説明・コード(Cell)に対して横断的にコメント等を付けられるようにすることで、複数存在するコピーに対するメンテナンスが容易になると考えられます。\n",
    "\n",
    "このような、Cellのルーツを追跡する仕組みとして [**`nblineage`**](https://github.com/NII-cloud-operation/Jupyter-LC_nblineage) を、`nblineage`により同じルーツを持つと判断されるCellに横断的にコメント等を付加するツールとして [**`sidestickies`**](https://github.com/NII-cloud-operation/sidestickies) という付箋機能を開発しています。"
   ]
  },
  {
   "attachments": {
    "stickienote.png": {
     "image/png": "[encoded data removed]"
    }
   },
   "cell_type": "markdown",
   "metadata": {
    "lc_cell_meme": {
     "current": "be80519e-7b4c-11e9-afcf-0242ac110002",
     "history": [
      {
       "current": "be80519e-7b4c-11e9-afcf-0242ac110002",
       "next": null,
       "previous": "2f730eb0-7b4c-11e9-afcf-0242ac110002"
      },
      {
       "current": "be80519e-7b4c-11e9-afcf-0242ac110002",
       "next": "6ba9cd54-7b4e-11e9-afcf-0242ac110002",
       "previous": "2f730eb0-7b4c-11e9-afcf-0242ac110002"
      }
     ],
     "next": "60581dfa-7b50-11e9-afcf-0242ac110002",
     "previous": "2f730eb0-7b4c-11e9-afcf-0242ac110002"
    }
   },
   "source": [
    "# セルへコメントをつける\n",
    "\n",
    "<img src=\"attachment:stickienote.png\" align=\"right\" width=\"10%\"/> \n",
    "`sidestickies`の機能を利用するには、ツールバーの <i class='fa fa-comments'></i> トグルボタンをクリックします。<br>\n",
    "トグルをONにすると、Cell右端に`「付箋」:sidestickies`が表示されます。この付箋がCellに対する`付箋ページ`の入力欄です。\n",
    "\n",
    "各Cellが作成、保存された時、`nblineage` によりそれぞれのCellに固有のIDが設定されます。Cellがコピーされると、このIDがそのまま引き継がれます。つまり、CellのルーツがこのIDで識別できるわけです。このIDを`nblineage`では`meme`(ミーム)と呼んでいます。\n",
    "`sidestickies`は、この`meme`を手がかりに、[**`Scrapbox`**](https://scrapbox.io/product/)というサービス上に付箋ページを作ります。作成した付箋ページは **`Scrapbox`** の機能を利用して編集したり、検索したりできます。"
   ]
  },
  {
   "cell_type": "markdown",
   "metadata": {
    "lc_cell_meme": {
     "current": "60581dfa-7b50-11e9-afcf-0242ac110002",
     "history": [
      {
       "current": "60581dfa-7b50-11e9-afcf-0242ac110002",
       "next": "6ba9cd54-7b4e-11e9-afcf-0242ac110002",
       "previous": "be80519e-7b4c-11e9-afcf-0242ac110002"
      }
     ],
     "next": "861dfea6-7b50-11e9-afcf-0242ac110002",
     "previous": "be80519e-7b4c-11e9-afcf-0242ac110002"
    }
   },
   "source": [
    "試しに、以下のセルの右側にある付箋右端の <i class=\"fa fa-comments\"></i> をクリックしてみてください。Scrapboxのウインドウが開き、Cellの `meme` IDに対応する付箋ページの編集欄が表示されます。\n",
    "\n"
   ]
  },
  {
   "cell_type": "code",
   "execution_count": 1,
   "metadata": {
    "lc_cell_meme": {
     "current": "861dfea6-7b50-11e9-afcf-0242ac110002",
     "history": [
      {
       "current": "861dfea6-7b50-11e9-afcf-0242ac110002",
       "next": "6ba9cd54-7b4e-11e9-afcf-0242ac110002",
       "previous": "60581dfa-7b50-11e9-afcf-0242ac110002"
      },
      {
       "current": "861dfea6-7b50-11e9-afcf-0242ac110002",
       "next": "dd6dca2e-7b50-11e9-afcf-0242ac110002",
       "previous": "60581dfa-7b50-11e9-afcf-0242ac110002"
      },
      {
       "current": "861dfea6-7b50-11e9-afcf-0242ac110002",
       "next": "785a985a-7b51-11e9-a6b5-a26e065752ae",
       "previous": "60581dfa-7b50-11e9-afcf-0242ac110002"
      },
      {
       "current": "861dfea6-7b50-11e9-afcf-0242ac110002",
       "next": "bfda26b4-7b51-11e9-a6b5-a26e065752ae",
       "previous": "60581dfa-7b50-11e9-afcf-0242ac110002"
      }
     ],
     "next": "58b0ee9e-82d3-11e9-a002-0242ac110002",
     "previous": "60581dfa-7b50-11e9-afcf-0242ac110002"
    },
    "lc_wrapper": {
     "log_history": []
    },
    "scrolled": true
   },
   "outputs": [
    {
     "name": "stdout",
     "output_type": "stream",
     "text": [
      "Hello!\n"
     ]
    }
   ],
   "source": [
    "print('Hello!')"
   ]
  },
  {
   "cell_type": "markdown",
   "metadata": {
    "lc_cell_meme": {
     "current": "58b0ee9e-82d3-11e9-a002-0242ac110002",
     "next": "bfda26b4-7b51-11e9-a6b5-a26e065752ae",
     "previous": "861dfea6-7b50-11e9-afcf-0242ac110002"
    }
   },
   "source": [
    "> <span style='background-color:mistyrose;'>本デモ環境で、付箋ページの内容を変更するためには Scrapbox https://scrapbox.io/sidestickies-public/ に対する編集権限が必要です。実際に編集してみたい場合は、クラウド運用チームにお問い合せください(Facebookページ https://www.facebook.com/groups/792904597583420/ )。</span>"
   ]
  },
  {
   "cell_type": "markdown",
   "metadata": {
    "lc_cell_meme": {
     "current": "bfda26b4-7b51-11e9-a6b5-a26e065752ae",
     "history": [
      {
       "current": "bfda26b4-7b51-11e9-a6b5-a26e065752ae",
       "next": "dd6dca2e-7b50-11e9-afcf-0242ac110002",
       "previous": "861dfea6-7b50-11e9-afcf-0242ac110002"
      },
      {
       "current": "bfda26b4-7b51-11e9-a6b5-a26e065752ae",
       "next": "423d935a-7b4f-11e9-afcf-0242ac110002",
       "previous": "861dfea6-7b50-11e9-afcf-0242ac110002"
      }
     ],
     "next": "423d935a-7b4f-11e9-afcf-0242ac110002",
     "previous": "58b0ee9e-82d3-11e9-a002-0242ac110002"
    }
   },
   "source": [
    "`Scrapbox` の編集権限がある場合、編集欄でページの内容、タイトルを変更することができます。<br>\n",
    "変更した場合は、付箋左端の更新ボタン<i class='fa fa-refresh'></i> を押してみてください。最新のコメントを取得することができます。"
   ]
  },
  {
   "cell_type": "markdown",
   "metadata": {
    "lc_cell_meme": {
     "current": "423d935a-7b4f-11e9-afcf-0242ac110002",
     "history": [
      {
       "current": "423d935a-7b4f-11e9-afcf-0242ac110002",
       "next": null,
       "previous": "6ba9cd54-7b4e-11e9-afcf-0242ac110002"
      },
      {
       "current": "423d935a-7b4f-11e9-afcf-0242ac110002",
       "next": "dd6dcd26-7b50-11e9-afcf-0242ac110002",
       "previous": "6ba9cd54-7b4e-11e9-afcf-0242ac110002"
      },
      {
       "current": "423d935a-7b4f-11e9-afcf-0242ac110002",
       "next": "dd6dcd26-7b50-11e9-afcf-0242ac110002",
       "previous": "dd6dca2e-7b50-11e9-afcf-0242ac110002"
      }
     ],
     "next": "dd6dcd26-7b50-11e9-afcf-0242ac110002",
     "previous": "bfda26b4-7b51-11e9-a6b5-a26e065752ae"
    }
   },
   "source": [
    "次に、現在のNotebookを複製してみましょう。 メニューバーから.. \"File\" >> \"Make a Copy..\" を選択してください。<br>\n",
    "現在在開いているのと同じNotebookのコピーが表示されます。<br>\n",
    "未だ、付箋ページが存在しない Cell の付箋から右端の <i class=\"fa fa-comment\" style='color:#cccccc;'></i> をクリックすると付箋ページの編集欄が表示されます。タイトル等入力してみましょう。<br><br>\n",
    "入力後、コピー元のNotebookに戻って、対応するCellの付箋を確認すると、新たに入力した付箋ページのタイトルや内容が伝搬して表示されるのを確認できます。\n"
   ]
  },
  {
   "cell_type": "markdown",
   "metadata": {
    "lc_cell_meme": {
     "current": "dd6dcd26-7b50-11e9-afcf-0242ac110002",
     "history": [
      {
       "current": "dd6dcd26-7b50-11e9-afcf-0242ac110002",
       "next": null,
       "previous": "423d935a-7b4f-11e9-afcf-0242ac110002"
      }
     ],
     "next": null,
     "previous": "423d935a-7b4f-11e9-afcf-0242ac110002"
    }
   },
   "source": [
    "# まとめ\n",
    "\n",
    "Notebookのコピーが増えてきた場合でも、横断的にコメントを付加できるようにすること、またコメント内容の検索や整理に Scrapboxを利用できるようにすることなど、Notebook群の管理の助けとなるような機能を開発しています。"
   ]
  }
 ],
 "metadata": {
  "kernelspec": {
   "display_name": "Python 3 (LC_wrapper)",
   "language": "python",
   "name": "python3-wrapper"
  },
  "language_info": {
   "file_extension": ".py",
   "mimetype": "text/x-python",
   "name": "python",
   "nbconvert_exporter": "python",
   "pygments_lexer": "ipython3",
   "version": "3.7.3"
  },
  "lc_notebook_meme": {
   "current": "115c0806-7b4b-11e9-afcf-0242ac110002",
   "lc_server_signature": {
    "current": {
     "notebook_dir": "/home/jovyan",
     "notebook_path": "/",
     "server_url": "http://localhost:8000/",
     "signature_id": "e9ce57ca-8294-11e9-a002-0242ac110002"
    },
    "history": []
   }
  },
  "sidestickies": {
   "visible": false
  },
  "toc": {
   "base_numbering": 1,
   "nav_menu": {},
   "number_sections": true,
   "sideBar": true,
   "skip_h1_title": false,
   "title_cell": "Table of Contents",
   "title_sidebar": "Contents",
   "toc_cell": false,
   "toc_position": {},
   "toc_section_display": true,
   "toc_window_display": false
  }
 },
 "nbformat": 4,
 "nbformat_minor": 2
}
