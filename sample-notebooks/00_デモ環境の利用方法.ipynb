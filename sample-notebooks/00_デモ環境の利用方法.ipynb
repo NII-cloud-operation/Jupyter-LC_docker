{
 "cells": [
  {
   "cell_type": "markdown",
   "metadata": {
    "lc_cell_meme": {
     "current": "c41ba89a-4bd5-11e7-892b-02420aff0006-1-73fe",
     "history": [
      {
       "current": "c41ba89a-4bd5-11e7-892b-02420aff0006",
       "next": "57ac9d8c-466b-11e7-958b-02420aff0006",
       "previous": "9fa05c96-480f-11e7-8475-02420aff0008"
      },
      {
       "current": "c41ba89a-4bd5-11e7-892b-02420aff0006",
       "next": "36f4261c-4bd6-11e7-892b-02420aff0006",
       "previous": "9fa05c96-480f-11e7-8475-02420aff0008"
      },
      {
       "current": "c41ba89a-4bd5-11e7-892b-02420aff0006-1-73fe",
       "next": "36f4261c-4bd6-11e7-892b-02420aff0006",
       "previous": null
      }
     ],
     "next": "36f4261c-4bd6-11e7-892b-02420aff0006-1-2150",
     "previous": null
    }
   },
   "source": [
    "# デモ環境の利用方法\n",
    "\n",
    "このデモ環境ではJupyterのインタフェースを使った運用手順の模擬事例や、我々のチームがLC4RIの実践のために開発している各種Extensionを試すといった体験ができます。\n",
    "\n",
    "なお、この環境ではNotebookを自由に作成、編集することができますが、Notebookに対する変更等は、 **保存されません** 。この環境は[Binder](https://mybinder.readthedocs.io/en/latest/)サービスの上でデプロイされており、一定時間が経過すると自動的に削除されます。編集したNotebookなどの情報は失われますのでご注意ください。\n",
    "\n",
    "また、Sidestickies という Notebookに対して Sticky Note（付箋）を付与する機能では [Scrapbox](https://scrapbox.io/product/)サービスを利用しています。デモ環境の Sticky Note は参照のみで、編集できません。\n",
    "\n",
    "\n",
    "> <span style='background-color:mistyrose;'> **デモ環境を体験するに際して、 [Binder](https://mybinder.readthedocs.io/en/latest/) および [Scrapbox](https://scrapbox.io/product/) の利用規約は各自で確認ください。** </span>\n"
   ]
  },
  {
   "cell_type": "markdown",
   "metadata": {
    "lc_cell_meme": {
     "current": "36f4261c-4bd6-11e7-892b-02420aff0006-1-2150",
     "history": [
      {
       "current": "36f4261c-4bd6-11e7-892b-02420aff0006",
       "next": "36f4284c-4bd6-11e7-892b-02420aff0006",
       "previous": "c41ba89a-4bd5-11e7-892b-02420aff0006"
      },
      {
       "current": "36f4261c-4bd6-11e7-892b-02420aff0006-1-2150",
       "next": "0330cd96-4be8-11e7-bfea-02420aff0006",
       "previous": "c41ba89a-4bd5-11e7-892b-02420aff0006"
      }
     ],
     "next": "0330cd96-4be8-11e7-bfea-02420aff0006-1-e516",
     "previous": "c41ba89a-4bd5-11e7-892b-02420aff0006-1-73fe"
    }
   },
   "source": [
    "## Notebookの実行方法\n",
    "\n",
    "このデモ環境には、Notebookという形式で、実際に実行可能な作業手順の例が保存されています。\n",
    "\n",
    "説明を読み進めていくと、コードが現れます。コードは、メニューバーの実行［<span class=\"fa-step-forward fa\"></span> Run］ボタンにより実行し、出力結果を確認することができます。試しに、以下のコードをクリックしてから、実行［<span class=\"fa-step-forward fa\"></span> Run］ボタンを押してみてください。"
   ]
  },
  {
   "cell_type": "code",
   "execution_count": null,
   "metadata": {
    "lc_cell_meme": {
     "current": "0330cd96-4be8-11e7-bfea-02420aff0006-1-e516",
     "history": [
      {
       "current": "0330cd96-4be8-11e7-bfea-02420aff0006",
       "next": "36f4284c-4bd6-11e7-892b-02420aff0006",
       "previous": "36f4261c-4bd6-11e7-892b-02420aff0006"
      },
      {
       "current": "0330cd96-4be8-11e7-bfea-02420aff0006-1-e516",
       "next": "4ac0116c-4be8-11e7-bfea-02420aff0006",
       "previous": "36f4261c-4bd6-11e7-892b-02420aff0006"
      }
     ],
     "next": "4ac0116c-4be8-11e7-bfea-02420aff0006-1-d5ce",
     "previous": "36f4261c-4bd6-11e7-892b-02420aff0006-1-2150"
    }
   },
   "outputs": [],
   "source": [
    "from datetime import datetime\n",
    "print(u'現在時刻は、 {} です。'.format(datetime.now()))"
   ]
  },
  {
   "cell_type": "markdown",
   "metadata": {
    "lc_cell_meme": {
     "current": "4ac0116c-4be8-11e7-bfea-02420aff0006-1-d5ce",
     "history": [
      {
       "current": "4ac0116c-4be8-11e7-bfea-02420aff0006",
       "next": "36f4284c-4bd6-11e7-892b-02420aff0006",
       "previous": "0330cd96-4be8-11e7-bfea-02420aff0006"
      },
      {
       "current": "4ac0116c-4be8-11e7-bfea-02420aff0006-1-d5ce",
       "next": null,
       "previous": "0330cd96-4be8-11e7-bfea-02420aff0006"
      }
     ],
     "next": "6919371a-d19b-11ea-80e3-0242ac110002",
     "previous": "0330cd96-4be8-11e7-bfea-02420aff0006-1-e516"
    }
   },
   "source": [
    "説明や、コードといったNotebookを構成する単位を「セル」と呼びます。セルには種別があり、文書を記述するための「マークダウン・セル」、コードを記述するための「コード・セル」、コードの出力が表示される「アウトプット・セル」などがあります。\n",
    "\n",
    "さて、実行してみていただくとわかるように、実行済みのコード・セルは左端の領域の色が変わります。また、凍結 <span class='fa fa-fw fa-snowflake-o' style='background-color:cornflowerblue;color:white;'></span>アイコンが表示され、編集、実行いずれもできなくなります。再度編集したり実行したい場合は、運動上部のメニューアイコンから、解凍 <span class='fa fa-fw fa-snowflake-o' style='color:gray;'></span> アイコンをクリックします。これら機能の拡張については、[02_NII謹製_Jupyterの機能拡張について](02_NII謹製_Jupyterの機能拡張について.ipynb) にて詳しく紹介しています。\n",
    "\n",
    "まず最初は、 [01_Literate_Computingの運用への適用例](01_Literate_Computingの運用への適用例.ipynb) を開いて、Notebookを実行してみて、Jupyterでの作業を体感してみてください！"
   ]
  },
  {
   "cell_type": "code",
   "execution_count": null,
   "metadata": {
    "lc_cell_meme": {
     "current": "6919371a-d19b-11ea-80e3-0242ac110002",
     "next": null,
     "previous": "4ac0116c-4be8-11e7-bfea-02420aff0006-1-d5ce"
    }
   },
   "outputs": [],
   "source": []
  }
 ],
 "metadata": {
  "kernelspec": {
   "display_name": "Python 3",
   "language": "python",
   "name": "python3"
  },
  "language_info": {
   "file_extension": ".py",
   "mimetype": "text/x-python",
   "name": "python",
   "nbconvert_exporter": "python",
   "pygments_lexer": "ipython3",
   "version": "3.8.3"
  },
  "lc_notebook_meme": {
   "current": "f2125990-4669-11e7-958b-02420aff0006",
   "lc_server_signature": {
    "current": {
     "notebook_dir": "/home/jovyan",
     "notebook_path": "/",
     "server_url": "http://127.0.0.1:57993/",
     "signature_id": "2e9d865e-d19b-11ea-80e3-0242ac110002"
    },
    "history": [
     {
      "notebook_dir": "/home/jovyan",
      "notebook_path": "/",
      "server_url": "http://localhost:8000/",
      "signature_id": "3ef25910-802c-11e9-8f9b-0242ac110002"
     },
     {
      "notebook_dir": "/home/jovyan",
      "notebook_path": "/",
      "server_url": "http://localhost:9999/",
      "signature_id": "28b99dea-7a85-11e9-9fa2-0242ac110002"
     }
    ]
   }
  },
  "toc": {
   "base_numbering": 1,
   "nav_menu": {
    "height": "84px",
    "width": "252px"
   },
   "number_sections": true,
   "sideBar": true,
   "skip_h1_title": false,
   "title_cell": "Table of Contents",
   "title_sidebar": "Contents",
   "toc_cell": false,
   "toc_position": {},
   "toc_section_display": "block",
   "toc_window_display": false
  }
 },
 "nbformat": 4,
 "nbformat_minor": 2
}
