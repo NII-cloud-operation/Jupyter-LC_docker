{
 "cells": [
  {
   "cell_type": "markdown",
   "metadata": {
    "lc_cell_meme": {
     "current": "09a5fd84-85dd-11e7-ad95-0242ac110002",
     "history": [
      {
       "current": "09a5fd84-85dd-11e7-ad95-0242ac110002",
       "next": "09a5fe56-85dd-11e7-ad95-0242ac110002",
       "previous": "09a5fca8-85dd-11e7-ad95-0242ac110002"
      },
      {
       "current": "09a5fd84-85dd-11e7-ad95-0242ac110002",
       "next": "09a5fe56-85dd-11e7-ad95-0242ac110002",
       "previous": "79855e8c-bee1-11e7-affc-0242ac110002"
      },
      {
       "current": "09a5fd84-85dd-11e7-ad95-0242ac110002",
       "next": "09a5fe56-85dd-11e7-ad95-0242ac110002",
       "previous": "9cd73bbc-bee1-11e7-affc-0242ac110002"
      },
      {
       "current": "09a5fd84-85dd-11e7-ad95-0242ac110002",
       "next": "09a5fe56-85dd-11e7-ad95-0242ac110002",
       "previous": null
      },
      {
       "current": "09a5fd84-85dd-11e7-ad95-0242ac110002",
       "next": "0bc55300-c366-11e7-89a3-0242ac110002",
       "previous": null
      },
      {
       "current": "09a5fd84-85dd-11e7-ad95-0242ac110002",
       "next": "09a5fe56-85dd-11e7-ad95-0242ac110002",
       "previous": null
      },
      {
       "current": "09a5fd84-85dd-11e7-ad95-0242ac110002",
       "next": "64207a8e-c370-11e7-89a3-0242ac110002",
       "previous": null
      }
     ],
     "next": "abb43a02-c370-11e7-89a3-0242ac110002",
     "previous": null
    }
   },
   "source": [
    "# LC_wrapper kernel - <font color=gray small>display summarized lines and save entire original outputs into indivisual log files</font>\n",
    "\n",
    "\n",
    "[<span class='fa fa-fw fa-external-link'></span>https://github.com/NII-cloud-operation/Jupyter-LC_wrapper](https://github.com/NII-cloud-operation/Jupyter-LC_wrapper)\n",
    "\n",
    "**Description:**<br>\n",
    "When installing some packages, there would be massive output lines.  Jupyter Web UI is inefficient for handling a large number of output lines.\n",
    "With this extension:\n",
    "* Summarize massive output lines by starting code with \"!!\".\n",
    "* At each cell’s execution, all original output lines are saved into an individual file with a time-stamp etc.\n",
    "* You can review whole output lines and compare them with previous results from different executions.\n"
   ]
  },
  {
   "cell_type": "markdown",
   "metadata": {
    "lc_cell_meme": {
     "current": "abb43a02-c370-11e7-89a3-0242ac110002",
     "history": [
      {
       "current": "abb43a02-c370-11e7-89a3-0242ac110002",
       "next": "09a5ff28-85dd-11e7-ad95-0242ac110002",
       "previous": "09a5fe56-85dd-11e7-ad95-0242ac110002"
      }
     ],
     "next": "64207a8e-c370-11e7-89a3-0242ac110002",
     "previous": "09a5fd84-85dd-11e7-ad95-0242ac110002"
    }
   },
   "source": [
    "**Usage:**\n",
    "\n",
    "<div style=\"width:30%\"><img src=\"images/LC_wrapper_mov.gif\"></div>\n"
   ]
  },
  {
   "cell_type": "markdown",
   "metadata": {
    "lc_cell_meme": {
     "current": "64207a8e-c370-11e7-89a3-0242ac110002",
     "history": [
      {
       "current": "64207a8e-c370-11e7-89a3-0242ac110002",
       "next": "09a5fe56-85dd-11e7-ad95-0242ac110002",
       "previous": "09a5fd84-85dd-11e7-ad95-0242ac110002"
      }
     ],
     "next": "09a5fe56-85dd-11e7-ad95-0242ac110002",
     "previous": "abb43a02-c370-11e7-89a3-0242ac110002"
    }
   },
   "source": [
    "**Options:**<br>\n",
    "Configure using `.lc_wrapper` being searched in the current working directory, then the home directory.\n",
    "\n",
    "Example:\n",
    "```\n",
    "lc_wrapper_force=on  # force summalizing mode\n",
    "lc_wrapper= s:h:e:t\n",
    "lc_wrapper_regex=pattern-1|pattern-2|pattern-3\n",
    "\n",
    "# s : Summary starts when # of output lines exceed 's' (default s=1)\n",
    "# h : Summary displays the first h lines and max 2 x h error lines.\n",
    "# e : Max # of output lines in progress. \n",
    "# t : Summary displays the last t lines (default t=1)\n",
    "```"
   ]
  },
  {
   "cell_type": "code",
   "execution_count": null,
   "metadata": {
    "lc_cell_meme": {
     "current": "09a5fe56-85dd-11e7-ad95-0242ac110002",
     "execution_end_time": "2019-09-11T12:41:13.598097Z",
     "history": [
      {
       "current": "09a5fe56-85dd-11e7-ad95-0242ac110002",
       "next": "09a5ff28-85dd-11e7-ad95-0242ac110002",
       "previous": "09a5fd84-85dd-11e7-ad95-0242ac110002"
      },
      {
       "current": "09a5fe56-85dd-11e7-ad95-0242ac110002",
       "next": "09a5ff28-85dd-11e7-ad95-0242ac110002",
       "previous": "0bc55300-c366-11e7-89a3-0242ac110002"
      },
      {
       "current": "09a5fe56-85dd-11e7-ad95-0242ac110002",
       "next": "09a5ff28-85dd-11e7-ad95-0242ac110002",
       "previous": "09a5fd84-85dd-11e7-ad95-0242ac110002"
      },
      {
       "current": "09a5fe56-85dd-11e7-ad95-0242ac110002",
       "next": "09a5ff28-85dd-11e7-ad95-0242ac110002",
       "previous": "64207a8e-c370-11e7-89a3-0242ac110002"
      },
      {
       "current": "09a5fe56-85dd-11e7-ad95-0242ac110002",
       "next": "abb43a02-c370-11e7-89a3-0242ac110002",
       "previous": "64207a8e-c370-11e7-89a3-0242ac110002"
      },
      {
       "current": "09a5fe56-85dd-11e7-ad95-0242ac110002",
       "next": "09a5ff28-85dd-11e7-ad95-0242ac110002",
       "previous": "64207a8e-c370-11e7-89a3-0242ac110002"
      },
      {
       "current": "09a5fe56-85dd-11e7-ad95-0242ac110002",
       "next": "5a12a592-da13-11e9-94ed-0242ac110002",
       "previous": "64207a8e-c370-11e7-89a3-0242ac110002"
      },
      {
       "current": "09a5fe56-85dd-11e7-ad95-0242ac110002",
       "next": "a196c506-da13-11e9-94ed-0242ac110002",
       "previous": "64207a8e-c370-11e7-89a3-0242ac110002"
      }
     ],
     "next": "09a5ff28-85dd-11e7-ad95-0242ac110002",
     "previous": "64207a8e-c370-11e7-89a3-0242ac110002"
    },
    "lc_wrapper": {
     "log_history": [
      "/home/jovyan/local/.log/20190911/20190911-214042-0572.log",
      "/home/jovyan/local/.log/20190911/20190911-214113-0578.log",
      "/home/jovyan/.log/20190919/20190919-212128-0023.log",
      "/home/jovyan/.log/20190919/20190919-215911-0254.log",
      "/home/jovyan/.log/20190919/20190919-220322-0471.log",
      "/home/jovyan/.log/20190919/20190919-220929-0485.log",
      "/home/jovyan/.log/20190919/20190919-221246-0728.log"
     ]
    }
   },
   "outputs": [],
   "source": [
    "!echo \"lc_wrapper=8:8:10:10\" > .lc_wrapper\n",
    "# lc_wrapper s:h:e:t\n",
    "#\n",
    "# s : Summary starts when # of output lines exceed 's' (default s=1)\n",
    "# h : Summary displays the first h lines and max 2 x h error lines.\n",
    "# e : Max # of output lines in progress. \n",
    "# t : Summary displays the last t lines (default t=1)"
   ]
  },
  {
   "cell_type": "code",
   "execution_count": null,
   "metadata": {
    "lc_cell_meme": {
     "current": "09a5ff28-85dd-11e7-ad95-0242ac110002",
     "execution_end_time": "2019-09-11T12:41:53.933147Z",
     "history": [
      {
       "current": "09a5ff28-85dd-11e7-ad95-0242ac110002",
       "next": null,
       "previous": "09a5fe56-85dd-11e7-ad95-0242ac110002"
      },
      {
       "current": "09a5ff28-85dd-11e7-ad95-0242ac110002",
       "next": null,
       "previous": "abb43a02-c370-11e7-89a3-0242ac110002"
      },
      {
       "current": "09a5ff28-85dd-11e7-ad95-0242ac110002",
       "next": "db7a0e18-c372-11e7-89a3-0242ac110002",
       "previous": "abb43a02-c370-11e7-89a3-0242ac110002"
      },
      {
       "current": "09a5ff28-85dd-11e7-ad95-0242ac110002",
       "next": "db7a0e18-c372-11e7-89a3-0242ac110002",
       "previous": "09a5fe56-85dd-11e7-ad95-0242ac110002"
      },
      {
       "current": "09a5ff28-85dd-11e7-ad95-0242ac110002",
       "next": "db7a0e18-c372-11e7-89a3-0242ac110002",
       "previous": "5a12a592-da13-11e9-94ed-0242ac110002"
      },
      {
       "current": "09a5ff28-85dd-11e7-ad95-0242ac110002",
       "next": "db7a0e18-c372-11e7-89a3-0242ac110002",
       "previous": "a196c506-da13-11e9-94ed-0242ac110002"
      },
      {
       "current": "09a5ff28-85dd-11e7-ad95-0242ac110002",
       "next": "d56ba7f2-dad6-11e9-b5e7-0242ac110002",
       "previous": "a196c506-da13-11e9-94ed-0242ac110002"
      },
      {
       "current": "09a5ff28-85dd-11e7-ad95-0242ac110002",
       "next": "d56ba7f2-dad6-11e9-b5e7-0242ac110002",
       "previous": "09a5fe56-85dd-11e7-ad95-0242ac110002"
      }
     ],
     "next": "db7a0e18-c372-11e7-89a3-0242ac110002",
     "previous": "09a5fe56-85dd-11e7-ad95-0242ac110002"
    },
    "lc_wrapper": {
     "log_history": [
      "/home/jovyan/local/.log/20190911/20190911-141023-0135.log",
      "/home/jovyan/local/.log/20190911/20190911-214123-0514.log",
      "/home/jovyan/local/.log/20190911/20190911-214143-0600.log",
      "/home/jovyan/.log/20190919/20190919-212132-0720.log",
      "/home/jovyan/.log/20190919/20190919-220430-0776.log",
      "/home/jovyan/.log/20190919/20190919-221036-0826.log",
      "/home/jovyan/.log/20190919/20190919-221346-0555.log"
     ]
    },
    "pinned_outputs": []
   },
   "outputs": [],
   "source": [
    "!!from time import sleep\n",
    "with open(\"resources/bootstrap.log\", \"r\") as f:\n",
    "    count = 0\n",
    "    limit = 200\n",
    "    for line in f:\n",
    "        count = count+1\n",
    "        if count > limit: break\n",
    "        print(line,end=''),\n",
    "        sleep(0.05)\n",
    "print (\"after\", limit, \"lines are ignored\")\n",
    "#\n",
    "# Emulate large log output.."
   ]
  },
  {
   "cell_type": "markdown",
   "metadata": {
    "lc_cell_meme": {
     "current": "db7a0e18-c372-11e7-89a3-0242ac110002",
     "history": [
      {
       "current": "db7a0e18-c372-11e7-89a3-0242ac110002",
       "next": null,
       "previous": "09a5ff28-85dd-11e7-ad95-0242ac110002"
      },
      {
       "current": "db7a0e18-c372-11e7-89a3-0242ac110002",
       "next": null,
       "previous": "d56ba7f2-dad6-11e9-b5e7-0242ac110002"
      },
      {
       "current": "db7a0e18-c372-11e7-89a3-0242ac110002",
       "next": null,
       "previous": "1cca6ade-dad7-11e9-b5e7-0242ac110002"
      }
     ],
     "next": null,
     "previous": "09a5ff28-85dd-11e7-ad95-0242ac110002"
    }
   },
   "source": [
    "---\n",
    "<br><br><br><br><br><br><br><br><br><br>\n",
    "<br><br><br><br><br><br><br><br><br><br>\n",
    "<br><br><br><br><br><br><br><br><br><br>"
   ]
  }
 ],
 "metadata": {
  "kernelspec": {
   "display_name": "Python 3 (LC_wrapper)",
   "language": "python",
   "name": "python3-wrapper"
  },
  "language_info": {
   "file_extension": ".py",
   "mimetype": "text/x-python",
   "name": "python",
   "nbconvert_exporter": "python",
   "pygments_lexer": "ipython3",
   "version": "3.7.3"
  },
  "lc_notebook_meme": {
   "current": "09a5f41a-85dd-11e7-ad95-0242ac110002",
   "history": [],
   "lc_server_signature": {
    "current": {
     "notebook_dir": "/home/jovyan",
     "notebook_path": "/",
     "server_url": "http://localhost:8000/",
     "signature_id": "da7c8582-dad5-11e9-b5e7-0242ac110002"
    },
    "history": [
     {
      "notebook_dir": "/notebooks",
      "notebook_path": "/",
      "server_url": "http://localhost:8888/",
      "signature_id": "bf498a06-7760-11e7-870e-0242ac110002"
     },
     {
      "notebook_dir": "/notebooks",
      "notebook_path": "/local",
      "server_url": "http://localhost:8888/",
      "signature_id": "bf498a06-7760-11e7-870e-0242ac110002"
     },
     {
      "notebook_dir": "/notebooks",
      "notebook_path": "/local",
      "server_url": "http://localhost:8888/",
      "signature_id": "e0d50d64-7c31-11e7-a813-0242ac110002"
     },
     {
      "notebook_dir": "/notebooks",
      "notebook_path": "/local",
      "server_url": "http://localhost:8888/",
      "signature_id": "c8237390-7d9f-11e7-8ebd-0242ac110002"
     },
     {
      "notebook_dir": "/notebooks",
      "notebook_path": "/local",
      "server_url": "http://localhost:8888/",
      "signature_id": "3a8d3368-8317-11e7-99be-0242ac110002"
     },
     {
      "notebook_dir": "/notebooks",
      "notebook_path": "/local",
      "server_url": "http://localhost:8888/",
      "signature_id": "b912be16-83bb-11e7-bfdf-0242ac110002"
     },
     {
      "notebook_dir": "/notebooks",
      "notebook_path": "/local",
      "server_url": "http://localhost:8888/",
      "signature_id": "17a0c5d8-8437-11e7-b866-0242ac110002"
     },
     {
      "notebook_dir": "/notebooks",
      "notebook_path": "/local",
      "server_url": "http://localhost:8888/",
      "signature_id": "9ec1d752-84e4-11e7-aefb-0242ac110002"
     },
     {
      "notebook_dir": "/notebooks",
      "notebook_path": "/local",
      "server_url": "http://localhost:8888/",
      "signature_id": "7fe9d000-857a-11e7-8db0-0242ac110002"
     },
     {
      "notebook_dir": "/notebooks",
      "notebook_path": "/local",
      "server_url": "http://localhost:8888/",
      "signature_id": "9143995e-85b0-11e7-9142-0242ac110002"
     },
     {
      "notebook_dir": "/notebooks",
      "notebook_path": "/local",
      "server_url": "http://localhost:8888/",
      "signature_id": "21f86cca-ba06-11e7-a043-0242ac110002"
     },
     {
      "notebook_dir": "/notebooks",
      "notebook_path": "/local",
      "server_url": "http://localhost:8888/",
      "signature_id": "d69eaa08-bed0-11e7-affc-0242ac110002"
     },
     {
      "notebook_dir": "/notebooks",
      "notebook_path": "/local",
      "server_url": "http://localhost:8000/",
      "signature_id": "336daa12-c2c9-11e7-bf0f-0242ac110002"
     },
     {
      "notebook_dir": "/notebooks",
      "notebook_path": "/local",
      "server_url": "http://localhost:8000/",
      "signature_id": "c9c2e268-c362-11e7-89a3-0242ac110002"
     },
     {
      "notebook_dir": "/notebooks",
      "notebook_path": "/local",
      "server_url": "http://localhost:8000/",
      "signature_id": "b495566e-c394-11e7-baf6-0242ac110002"
     },
     {
      "notebook_dir": "/notebooks",
      "notebook_path": "/local",
      "server_url": "http://localhost:8000/",
      "signature_id": "1649beae-c52f-11e7-bc88-0242ac110002"
     },
     {
      "notebook_dir": "/notebooks",
      "notebook_path": "/local",
      "server_url": "http://localhost:8000/",
      "signature_id": "4bdd1e84-c8a0-11e7-ab3b-0242ac110002"
     },
     {
      "notebook_dir": "/notebooks",
      "notebook_path": "/local",
      "server_url": "http://localhost:8000/",
      "signature_id": "02bed5b6-e73c-11e7-92bd-0242ac110002"
     },
     {
      "notebook_dir": "/home/jovyan",
      "notebook_path": "/local",
      "server_url": "http://localhost:8000/",
      "signature_id": "1f48b2ba-d452-11e9-bb61-0242ac110002"
     },
     {
      "notebook_dir": "/home/jovyan",
      "notebook_path": "/local",
      "server_url": "http://localhost:8000/",
      "signature_id": "447aee5e-d48e-11e9-8339-0242ac110002"
     },
     {
      "notebook_dir": "/home/jovyan",
      "notebook_path": "/local",
      "server_url": "http://localhost:8000/",
      "signature_id": "9eb60ddc-da0a-11e9-94ed-0242ac110002"
     },
     {
      "notebook_dir": "/home/jovyan",
      "notebook_path": "/",
      "server_url": "http://localhost:8000/",
      "signature_id": "9eb60ddc-da0a-11e9-94ed-0242ac110002"
     }
    ]
   },
   "root_cells": [
    "09a5f640-85dd-11e7-ad95-0242ac110002",
    "09a5f76c-85dd-11e7-ad95-0242ac110002",
    "09a5f866-85dd-11e7-ad95-0242ac110002",
    "09a5f94c-85dd-11e7-ad95-0242ac110002",
    "09a5fa1e-85dd-11e7-ad95-0242ac110002",
    "09a5fafa-85dd-11e7-ad95-0242ac110002",
    "09a5fbd6-85dd-11e7-ad95-0242ac110002",
    "09a5fca8-85dd-11e7-ad95-0242ac110002",
    "09a5fd84-85dd-11e7-ad95-0242ac110002",
    "09a5fe56-85dd-11e7-ad95-0242ac110002",
    "09a5ff28-85dd-11e7-ad95-0242ac110002",
    "09a5fffa-85dd-11e7-ad95-0242ac110002",
    "09a600cc-85dd-11e7-ad95-0242ac110002",
    "09a6019e-85dd-11e7-ad95-0242ac110002",
    "09a60270-85dd-11e7-ad95-0242ac110002",
    "09a60342-85dd-11e7-ad95-0242ac110002",
    "09a60414-85dd-11e7-ad95-0242ac110002",
    "09a604dc-85dd-11e7-ad95-0242ac110002"
   ]
  },
  "toc": {
   "base_numbering": 1,
   "nav_menu": {
    "height": "12px",
    "width": "252px"
   },
   "number_sections": false,
   "sideBar": true,
   "skip_h1_title": false,
   "title_cell": "Table of Contents",
   "title_sidebar": "Contents",
   "toc_cell": false,
   "toc_position": {},
   "toc_section_display": "block",
   "toc_window_display": false
  }
 },
 "nbformat": 4,
 "nbformat_minor": 2
}
