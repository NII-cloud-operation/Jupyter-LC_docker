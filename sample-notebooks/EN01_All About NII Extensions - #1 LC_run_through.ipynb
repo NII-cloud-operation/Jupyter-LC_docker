{
 "cells": [
  {
   "cell_type": "markdown",
   "metadata": {
    "lc_cell_meme": {
     "current": "412956e6-d49d-11e9-afda-0242ac110002",
     "history": [],
     "next": "41295844-d49d-11e9-afda-0242ac110002",
     "previous": null
    }
   },
   "source": [
    "# LC_run_through - <font color=gray small>enhanced collapsible headings for DevOps engineers</font>\n",
    "\n",
    "\n",
    "[<span class='fa fa-fw fa-external-link'></span>https://github.com/NII-cloud-operation/Jupyter-LC_wrapper](https://github.com/NII-cloud-operation/Jupyter-LC_run_through)\n",
    "\n",
    "**Description:**<br>\n",
    "When using Jupyter Notebook as a workflow live-document, we would like to have robust execution control. It is step-by-step operations with confirming, rather than non-constrained explorative freedom. This extension gives:\n",
    "\n",
    "\n",
    "* **Enhanced Collapsible Headings**: \n",
    "Ordinal [Collapsible Headings<span class='fa fa-fw fa-external-link'></span>](https://github.com/ipython-contrib/jupyter_contrib_nbextensions/tree/master/src/jupyter_contrib_nbextensions/nbextensions/collapsible_headings)</span> hide everything underneath. With this extension, the collapsed code-cells underneath are represented as **bricks**, and those collapsed cells can be **run_through** as a whole with a click on the play button.\n",
    "\n",
    "* **Bricks**: \n",
    "Giving a summarized perspective and awareness for execution control. The collapsed code-cells are represented as **bricks**;<span class='fa fa-fw fa-square' style='color:#cccccc;'></span><span class='fa fa-fw fa-square' style='color:#88ff88;'></span><span class='fa fa-fw fa-square' style='color:#ff8888;'></span>.  \n",
    "\n",
    "* **Run_through**: \n",
    "A click on the play button <span class='fa fa-fw fa-play-circle'></span> runs through all bricks together with visualized progress as color changes.\n",
    "\n",
    "* **Freeze**: \n",
    "Preventing miss-operation; once a code-cell has been executed, it freezes against unintended execution and modification. A snowflake <span class='fa fa-fw fa-snowflake-o' style='background-color:cornflowerblue;color:white;'></span> indicates its code-cell is \"frozen\". Note that the freeze makes *executed cell(s)* un-executable and un-editable in the context of operational procedures. It is a different state from the read-only lock. "
   ]
  },
  {
   "cell_type": "markdown",
   "metadata": {
    "lc_cell_meme": {
     "current": "41295844-d49d-11e9-afda-0242ac110002",
     "history": [],
     "next": "41295948-d49d-11e9-afda-0242ac110002",
     "previous": "412956e6-d49d-11e9-afda-0242ac110002"
    }
   },
   "source": [
    "**How-to: run_through** <br>\n",
    "The <span class='fa fa-fw fa-caret-right' style='color:#a0a0a0;'></span> on the collapsed headding indicates there are collapsed markdowns and cells.  With clicking <span class='fa fa-fw fa-caret-right' style='color:#a0a0a0;'></span> and <span class='fa fa-fw fa-caret-down' style='color:#a0a0a0;'></span> switch the expand/collapse.<br clear=\"right\">\n",
    "\n",
    "<img src=\"./images/run_through.png\" align=\"right\" width=30% />When headings are collapsed, executable cells underneath are represented as blicks. Each blick <span class='fa fa-fw fa-square' style='color:#cccccc;'></span> represents its collesponding cell's status, the gray means 'not executed yet'. \n",
    "Click <span class='fa fa-fw fa-play-circle'></span> runs through cells altogeather.<br clear=\"right\">\n",
    "\n",
    "<img src=\"./images/run_through_OK.png\" width=30% align=right /> Normally executed and completed cells truned to light green <span class='fa fa-fw fa-square' style='color:#88ff88;'></span>. In addition completed cells are \"frozen\" <span class='fa fa-fw fa-snowflake-o' style='background-color:cornflowerblue;color:white;'></span>, that would not be executed again until \"unfreeze\" via toolbar <span class='fa fa-fw fa-snowflake-o'style='color:gray;'></span>.<br clear=\"right\">\n",
    "\n",
    "<img src=\"./images/run_through_NG.png\" width=30% align=right /> In the case of error cells' execution is aborted and the blick turned to light coral<span class='fa fa-fw fa-square' style='color:#ff8888;'></span>.  You can examine the error by expanding folded cells with <span class='fa fa-fw fa-caret-right' style='color:#a0a0a0;'></span>.\n"
   ]
  },
  {
   "cell_type": "markdown",
   "metadata": {
    "heading_collapsed": true,
    "lc_cell_meme": {
     "current": "41295948-d49d-11e9-afda-0242ac110002",
     "history": [],
     "next": "41295a4c-d49d-11e9-afda-0242ac110002",
     "previous": "41295844-d49d-11e9-afda-0242ac110002"
    }
   },
   "source": [
    "### Usage:\n",
    "Try &ldquo;<span class='fa fa-fw fa-caret-right' style='color:#a0a0a0;'></span>&rdquo;, which will collapse cells, then, &ldquo;<span class='fa fa-fw fa-play-circle'></span>&rdquo; will run through seven bricks.<br>\n",
    "<br>\n",
    "<span class='fa fa-fw fa-square' style='color:#88ff88;'></span>: The light green bricks indicate successfull completion.<br>\n",
    "<span class='fa fa-fw fa-square' style='color:#ff8888;'></span>: The third light coral brick indicates some error.<br>\n",
    "<br>\n",
    "<span class='fa fa-fw fa-snowflake-o' style='background-color:#cccccc;color:white;'></span><span class='fa fa-fw fa-snowflake-o' style='background-color:#88ff88;color:white;'></span><span class='fa fa-fw fa-snowflake-o' style='background-color:cornflowerblue;color:white;'></span>: The snowflake indicates those bricks are frozen.  Executions and edits are prohibited.  The &ldquo;<span class='fa fa-fw fa-snowflake-o' style='color:gray;'></span>&rdquo; will unfreeze bricks.<br>\n",
    "Success cells <span class='fa fa-fw fa-square' style='color:#88ff88;'></span> will be automatically frozen in order to prevent accidental duplicate operations.  Error cells\n",
    "<span class='fa fa-fw fa-square' style='color:#ff8888;'></span> remain unfreeze so you can fix errors and re-execute the cell.  You can continue execution on following not-yet-executed cells <span class='fa fa-fw fa-square' style='color:#cccccc;'></span>."
   ]
  },
  {
   "cell_type": "code",
   "execution_count": null,
   "metadata": {
    "hidden": true,
    "lc_cell_meme": {
     "current": "41295a4c-d49d-11e9-afda-0242ac110002",
     "history": [],
     "next": "41295b32-d49d-11e9-afda-0242ac110002",
     "previous": "41295948-d49d-11e9-afda-0242ac110002"
    },
    "pinned_outputs": []
   },
   "outputs": [],
   "source": [
    "! echo \"This is 1st step\" > foo && cat foo"
   ]
  },
  {
   "cell_type": "code",
   "execution_count": null,
   "metadata": {
    "hidden": true,
    "lc_cell_meme": {
     "current": "41295b32-d49d-11e9-afda-0242ac110002",
     "history": [],
     "next": "41295c22-d49d-11e9-afda-0242ac110002",
     "previous": "41295a4c-d49d-11e9-afda-0242ac110002"
    },
    "pinned_outputs": [],
    "scrolled": true
   },
   "outputs": [],
   "source": [
    "! echo \".. 2nd step...\" >> foo && cat foo"
   ]
  },
  {
   "cell_type": "markdown",
   "metadata": {
    "hidden": true,
    "lc_cell_meme": {
     "current": "41295c22-d49d-11e9-afda-0242ac110002",
     "history": [],
     "next": "41295d08-d49d-11e9-afda-0242ac110002",
     "previous": "41295b32-d49d-11e9-afda-0242ac110002"
    }
   },
   "source": [
    "Once the cell has been executed, it is frozen and cannot edit or execute again."
   ]
  },
  {
   "cell_type": "code",
   "execution_count": null,
   "metadata": {
    "hidden": true,
    "lc_cell_meme": {
     "current": "41295d08-d49d-11e9-afda-0242ac110002",
     "history": [],
     "next": "41295dee-d49d-11e9-afda-0242ac110002",
     "previous": "41295c22-d49d-11e9-afda-0242ac110002"
    },
    "pinned_outputs": []
   },
   "outputs": [],
   "source": [
    "!echooo \".. 3rd step... will fail\" >> foo && cat foo"
   ]
  },
  {
   "cell_type": "markdown",
   "metadata": {
    "hidden": true,
    "lc_cell_meme": {
     "current": "41295dee-d49d-11e9-afda-0242ac110002",
     "history": [],
     "next": "41295eca-d49d-11e9-afda-0242ac110002",
     "previous": "41295d08-d49d-11e9-afda-0242ac110002"
    }
   },
   "source": [
    "Ooops!  Fix the error then continue..  <br>You can fold <span class='fa fa-fw fa-caret-down' style='color:#a0a0a0;'></span> and click <span class='fa fa-fw fa-play-circle'></span> again.   Frozen cells, which have already executed, will be skipped, thus you can sefely continue."
   ]
  },
  {
   "cell_type": "code",
   "execution_count": null,
   "metadata": {
    "hidden": true,
    "lc_cell_meme": {
     "current": "41295eca-d49d-11e9-afda-0242ac110002",
     "history": [],
     "next": "41295fc4-d49d-11e9-afda-0242ac110002",
     "previous": "41295dee-d49d-11e9-afda-0242ac110002"
    }
   },
   "outputs": [],
   "source": [
    "! echo \".. 4th step...\" >> foo && cat foo"
   ]
  },
  {
   "cell_type": "code",
   "execution_count": null,
   "metadata": {
    "hidden": true,
    "lc_cell_meme": {
     "current": "41295fc4-d49d-11e9-afda-0242ac110002",
     "history": [],
     "next": "412960aa-d49d-11e9-afda-0242ac110002",
     "previous": "41295eca-d49d-11e9-afda-0242ac110002"
    }
   },
   "outputs": [],
   "source": [
    "! echo -n \".. 5th step..\" >> foo && date >> foo && cat foo"
   ]
  },
  {
   "cell_type": "code",
   "execution_count": null,
   "metadata": {
    "hidden": true,
    "lc_cell_meme": {
     "current": "412960aa-d49d-11e9-afda-0242ac110002",
     "history": [],
     "next": "41296186-d49d-11e9-afda-0242ac110002",
     "previous": "41295fc4-d49d-11e9-afda-0242ac110002"
    },
    "pinned_outputs": []
   },
   "outputs": [],
   "source": [
    "! echo \".. 6th step...\" >> foo && cat foo"
   ]
  },
  {
   "cell_type": "markdown",
   "metadata": {
    "hidden": true,
    "lc_cell_meme": {
     "current": "41296186-d49d-11e9-afda-0242ac110002",
     "history": [],
     "next": null,
     "previous": "412960aa-d49d-11e9-afda-0242ac110002"
    }
   },
   "source": [
    "---"
   ]
  }
 ],
 "metadata": {
  "kernelspec": {
   "display_name": "Python 3",
   "language": "python",
   "name": "python3"
  },
  "language_info": {
   "codemirror_mode": {
    "name": "ipython",
    "version": 3
   },
   "file_extension": ".py",
   "mimetype": "text/x-python",
   "name": "python",
   "nbconvert_exporter": "python",
   "pygments_lexer": "ipython3",
   "version": "3.7.3"
  },
  "lc_notebook_meme": {
   "current": "41295272-d49d-11e9-afda-0242ac110002",
   "history": [],
   "lc_server_signature": {
    "current": {
     "notebook_dir": "/home/jovyan",
     "notebook_path": "/",
     "server_url": "http://localhost:8000/",
     "signature_id": "4f7fde7a-d9bd-11e9-a6da-0242ac110002"
    },
    "history": [
     {
      "notebook_dir": "/home/jovyan",
      "notebook_path": "/local",
      "server_url": "http://localhost:8000/",
      "signature_id": "447aee5e-d48e-11e9-8339-0242ac110002"
     }
    ]
   },
   "root_cells": [
    "412956e6-d49d-11e9-afda-0242ac110002",
    "41295844-d49d-11e9-afda-0242ac110002",
    "41295948-d49d-11e9-afda-0242ac110002",
    "41295a4c-d49d-11e9-afda-0242ac110002",
    "41295b32-d49d-11e9-afda-0242ac110002",
    "41295c22-d49d-11e9-afda-0242ac110002",
    "41295d08-d49d-11e9-afda-0242ac110002",
    "41295dee-d49d-11e9-afda-0242ac110002",
    "41295eca-d49d-11e9-afda-0242ac110002",
    "41295fc4-d49d-11e9-afda-0242ac110002",
    "412960aa-d49d-11e9-afda-0242ac110002",
    "41296186-d49d-11e9-afda-0242ac110002"
   ]
  },
  "toc": {
   "base_numbering": 1,
   "nav_menu": {
    "height": "12px",
    "width": "252px"
   },
   "number_sections": false,
   "sideBar": true,
   "skip_h1_title": false,
   "title_cell": "Table of Contents",
   "title_sidebar": "Contents",
   "toc_cell": false,
   "toc_position": {},
   "toc_section_display": "block",
   "toc_window_display": false
  }
 },
 "nbformat": 4,
 "nbformat_minor": 2
}
