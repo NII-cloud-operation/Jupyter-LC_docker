{
 "cells": [
  {
   "cell_type": "markdown",
   "metadata": {
    "lc_cell_meme": {
     "current": "0ab0c5c4-14ea-11e7-b31a-0242ac12000d",
     "history": [
      {
       "current": "0ab0c5c4-14ea-11e7-b31a-0242ac12000d",
       "next": "0ab0c808-14ea-11e7-b31a-0242ac12000d",
       "previous": null
      },
      {
       "current": "0ab0c5c4-14ea-11e7-b31a-0242ac12000d",
       "next": "7d55a8be-4c13-11e7-8a6b-02420aff0006",
       "previous": null
      }
     ],
     "next": "9afd9336-7517-11e7-a4c6-0242ac110002",
     "previous": null
    }
   },
   "source": [
    "# Elastic Stackの構築手順：収容（AWS）\n",
    "\n",
    "----\n",
    "\n",
    "Elasticsearchのインストール先となる Amazon&nbsp;EC2インスタンスを確保します。  \n"
   ]
  },
  {
   "cell_type": "markdown",
   "metadata": {
    "lc_cell_meme": {
     "current": "9afd9336-7517-11e7-a4c6-0242ac110002",
     "next": "7d55a8be-4c13-11e7-8a6b-02420aff0006",
     "previous": "0ab0c5c4-14ea-11e7-b31a-0242ac12000d"
    }
   },
   "source": [
    "## 事前条件の確認\n",
    "\n",
    "**事前に [01_01_Outline.ipynb#設定ファイルの出力](01_01_Outline.ipynb#設定ファイルの出力) を実行しておく必要があります。**\n"
   ]
  },
  {
   "cell_type": "code",
   "execution_count": 1,
   "metadata": {
    "collapsed": true,
    "lc_cell_meme": {
     "current": "7d55a8be-4c13-11e7-8a6b-02420aff0006",
     "history": [
      {
       "current": "7d55a8be-4c13-11e7-8a6b-02420aff0006",
       "next": "7d55aada-4c13-11e7-8a6b-02420aff0006",
       "previous": "0ab0c5c4-14ea-11e7-b31a-0242ac12000d"
      }
     ],
     "next": "7d55aada-4c13-11e7-8a6b-02420aff0006",
     "previous": "9afd9336-7517-11e7-a4c6-0242ac110002"
    }
   },
   "outputs": [],
   "source": [
    "import os\n",
    "assert os.path.exists('group_vars/all')"
   ]
  },
  {
   "cell_type": "markdown",
   "metadata": {
    "lc_cell_meme": {
     "current": "7d55aada-4c13-11e7-8a6b-02420aff0006",
     "history": [
      {
       "current": "7d55aada-4c13-11e7-8a6b-02420aff0006",
       "next": "0ab0c808-14ea-11e7-b31a-0242ac12000d",
       "previous": "7d55a8be-4c13-11e7-8a6b-02420aff0006"
      }
     ],
     "next": "e283d4cc-7517-11e7-a4c6-0242ac110002",
     "previous": "7d55a8be-4c13-11e7-8a6b-02420aff0006"
    }
   },
   "source": [
    "\n",
    "**上記がエラーになる場合は、[01_01_Outline.ipynb#設定ファイルの出力](01_01_Outline.ipynb#設定ファイルの出力)を実行してください。**"
   ]
  },
  {
   "cell_type": "markdown",
   "metadata": {
    "lc_cell_meme": {
     "current": "e283d4cc-7517-11e7-a4c6-0242ac110002",
     "history": [
      {
       "current": "e283d4cc-7517-11e7-a4c6-0242ac110002",
       "next": "e283d922-7517-11e7-a4c6-0242ac110002",
       "previous": "7d55aada-4c13-11e7-8a6b-02420aff0006"
      }
     ],
     "next": "2a0b4712-7518-11e7-a4c6-0242ac110002",
     "previous": "7d55aada-4c13-11e7-8a6b-02420aff0006"
    }
   },
   "source": [
    "**事前にTerminalから、 `aws configure` を実施してください。**\n",
    "\n",
    "`aws configure` の実施例:\n",
    "\n",
    "```\n",
    "$ aws configure\n",
    "AWS Access Key ID [None]: (自身のアカウントのアクセスキー)\n",
    "AWS Secret Access Key [None]: (自身のアカウントのシークレットアクセスキー)\n",
    "Default region name [None]: ap-northeast-1 (使用したいリージョン)\n",
    "Default output format [None]: json\n",
    "```\n",
    "\n",
    "正しくアクセス情報が指定されているかどうかを、`describe-account-attributes`により確認します。**以下のコマンド実行がエラーとなる場合、`aws configure`が正しくなされていない可能性があります。**"
   ]
  },
  {
   "cell_type": "code",
   "execution_count": 2,
   "metadata": {
    "lc_cell_meme": {
     "current": "2a0b4712-7518-11e7-a4c6-0242ac110002",
     "history": [
      {
       "current": "2a0b4712-7518-11e7-a4c6-0242ac110002",
       "next": "0ab0c808-14ea-11e7-b31a-0242ac12000d",
       "previous": "e283d4cc-7517-11e7-a4c6-0242ac110002"
      },
      {
       "current": "2a0b4712-7518-11e7-a4c6-0242ac110002",
       "next": "6d377bd6-751e-11e7-a4c6-0242ac110002",
       "previous": "e283d4cc-7517-11e7-a4c6-0242ac110002"
      }
     ],
     "next": "0ab0c808-14ea-11e7-b31a-0242ac12000d",
     "previous": "e283d4cc-7517-11e7-a4c6-0242ac110002"
    },
    "scrolled": true
   },
   "outputs": [
    {
     "name": "stdout",
     "output_type": "stream",
     "text": [
      "{\r\n",
      "    \"AccountAttributes\": [\r\n",
      "        {\r\n",
      "            \"AttributeName\": \"supported-platforms\", \r\n",
      "            \"AttributeValues\": [\r\n",
      "                {\r\n",
      "                    \"AttributeValue\": \"VPC\"\r\n",
      "                }\r\n",
      "            ]\r\n",
      "        }, \r\n",
      "        {\r\n",
      "            \"AttributeName\": \"vpc-max-security-groups-per-interface\", \r\n",
      "            \"AttributeValues\": [\r\n",
      "                {\r\n",
      "                    \"AttributeValue\": \"5\"\r\n",
      "                }\r\n",
      "            ]\r\n",
      "        }, \r\n",
      "        {\r\n",
      "            \"AttributeName\": \"max-elastic-ips\", \r\n",
      "            \"AttributeValues\": [\r\n",
      "                {\r\n",
      "                    \"AttributeValue\": \"5\"\r\n",
      "                }\r\n",
      "            ]\r\n",
      "        }, \r\n",
      "        {\r\n",
      "            \"AttributeName\": \"max-instances\", \r\n",
      "            \"AttributeValues\": [\r\n",
      "                {\r\n",
      "                    \"AttributeValue\": \"20\"\r\n",
      "                }\r\n",
      "            ]\r\n",
      "        }, \r\n",
      "        {\r\n",
      "            \"AttributeName\": \"vpc-max-elastic-ips\", \r\n",
      "            \"AttributeValues\": [\r\n",
      "                {\r\n",
      "                    \"AttributeValue\": \"5\"\r\n",
      "                }\r\n",
      "            ]\r\n",
      "        }, \r\n",
      "        {\r\n",
      "            \"AttributeName\": \"default-vpc\", \r\n",
      "            \"AttributeValues\": [\r\n",
      "                {\r\n",
      "                    \"AttributeValue\": \"vpc-27878540\"\r\n",
      "                }\r\n",
      "            ]\r\n",
      "        }\r\n",
      "    ]\r\n",
      "}\r\n"
     ]
    }
   ],
   "source": [
    "!aws ec2 describe-account-attributes"
   ]
  },
  {
   "cell_type": "markdown",
   "metadata": {
    "lc_cell_meme": {
     "current": "0ab0c808-14ea-11e7-b31a-0242ac12000d",
     "history": [
      {
       "current": "0ab0c808-14ea-11e7-b31a-0242ac12000d",
       "next": "0ab0ca06-14ea-11e7-b31a-0242ac12000d",
       "previous": "0ab0c5c4-14ea-11e7-b31a-0242ac12000d"
      },
      {
       "current": "0ab0c808-14ea-11e7-b31a-0242ac12000d",
       "next": "0ab0ca06-14ea-11e7-b31a-0242ac12000d",
       "previous": "7d55aada-4c13-11e7-8a6b-02420aff0006"
      },
      {
       "current": "0ab0c808-14ea-11e7-b31a-0242ac12000d",
       "next": "0ab0ca06-14ea-11e7-b31a-0242ac12000d",
       "previous": "e283deb8-7517-11e7-a4c6-0242ac110002"
      },
      {
       "current": "0ab0c808-14ea-11e7-b31a-0242ac12000d",
       "next": "0ab0ca06-14ea-11e7-b31a-0242ac12000d",
       "previous": "2a0b4712-7518-11e7-a4c6-0242ac110002"
      },
      {
       "current": "0ab0c808-14ea-11e7-b31a-0242ac12000d",
       "next": "0ab0ca06-14ea-11e7-b31a-0242ac12000d",
       "previous": "6d377bd6-751e-11e7-a4c6-0242ac110002"
      }
     ],
     "next": "0ab0ca06-14ea-11e7-b31a-0242ac12000d",
     "previous": "2a0b4712-7518-11e7-a4c6-0242ac110002"
    }
   },
   "source": [
    "## 設定\n",
    "インスタンスの生成に必要な情報を設定します。"
   ]
  },
  {
   "cell_type": "markdown",
   "metadata": {
    "lc_cell_meme": {
     "current": "0ab0ca06-14ea-11e7-b31a-0242ac12000d",
     "next": "0ab0cbf0-14ea-11e7-b31a-0242ac12000d",
     "previous": "0ab0c808-14ea-11e7-b31a-0242ac12000d"
    }
   },
   "source": [
    "マシンイメージを設定します。"
   ]
  },
  {
   "cell_type": "code",
   "execution_count": 3,
   "metadata": {
    "collapsed": true,
    "lc_cell_meme": {
     "current": "0ab0cbf0-14ea-11e7-b31a-0242ac12000d",
     "next": "0ab0cde4-14ea-11e7-b31a-0242ac12000d",
     "previous": "0ab0ca06-14ea-11e7-b31a-0242ac12000d"
    }
   },
   "outputs": [],
   "source": [
    "#CentOS 7 (x86_64) - with Updates HVM\n",
    "# ap-northeast-1 (アジアパシフィック東京リージョン) を使用する場合のAMI ID\n",
    "image_id = 'ami-eec1c380'\n",
    "\n",
    "# us-west-2 (オレゴン) を使用する場合\n",
    "#image_id = 'ami-f4533694'"
   ]
  },
  {
   "cell_type": "markdown",
   "metadata": {
    "lc_cell_meme": {
     "current": "0ab0cde4-14ea-11e7-b31a-0242ac12000d",
     "history": [
      {
       "current": "0ab0cde4-14ea-11e7-b31a-0242ac12000d",
       "next": "0ab0cfba-14ea-11e7-b31a-0242ac12000d",
       "previous": "0ab0cbf0-14ea-11e7-b31a-0242ac12000d"
      },
      {
       "current": "0ab0cde4-14ea-11e7-b31a-0242ac12000d",
       "next": "c4db6f0c-4c13-11e7-8a6b-02420aff0006",
       "previous": "0ab0cbf0-14ea-11e7-b31a-0242ac12000d"
      }
     ],
     "next": "0ab0cfba-14ea-11e7-b31a-0242ac12000d",
     "previous": "0ab0cbf0-14ea-11e7-b31a-0242ac12000d"
    }
   },
   "source": [
    "インスタンスタイプとインスタンス数を設定します。  \n",
    "[Amazon EC2 インスタンス](https://aws.amazon.com/jp/ec2/instance-types/)のページから適切なタイプを選択してください。\n",
    "\n",
    "例えば64GBのメモリを利用するのであれば **m4.4xlarge** が選択候補となります。  \n",
    "利用したいサイズに応じてタイプを選んで下さい。"
   ]
  },
  {
   "cell_type": "code",
   "execution_count": 4,
   "metadata": {
    "collapsed": true,
    "lc_cell_meme": {
     "current": "0ab0cfba-14ea-11e7-b31a-0242ac12000d",
     "history": [
      {
       "current": "0ab0cfba-14ea-11e7-b31a-0242ac12000d",
       "next": "0ab0d190-14ea-11e7-b31a-0242ac12000d",
       "previous": "0ab0cde4-14ea-11e7-b31a-0242ac12000d"
      },
      {
       "current": "0ab0cfba-14ea-11e7-b31a-0242ac12000d",
       "next": "c4db6f0c-4c13-11e7-8a6b-02420aff0006",
       "previous": "0ab0cde4-14ea-11e7-b31a-0242ac12000d"
      },
      {
       "current": "0ab0cfba-14ea-11e7-b31a-0242ac12000d",
       "next": "0ab0d366-14ea-11e7-b31a-0242ac12000d",
       "previous": "c4db6f0c-4c13-11e7-8a6b-02420aff0006"
      },
      {
       "current": "0ab0cfba-14ea-11e7-b31a-0242ac12000d",
       "next": "0ab0d712-14ea-11e7-b31a-0242ac12000d",
       "previous": "0ab0cde4-14ea-11e7-b31a-0242ac12000d"
      }
     ],
     "next": "0ab0d8d4-14ea-11e7-b31a-0242ac12000d",
     "previous": "0ab0cde4-14ea-11e7-b31a-0242ac12000d"
    }
   },
   "outputs": [],
   "source": [
    "instance_type = 'm4.4xlarge'\n",
    "instance_count = 1"
   ]
  },
  {
   "cell_type": "markdown",
   "metadata": {
    "lc_cell_meme": {
     "current": "0ab0d8d4-14ea-11e7-b31a-0242ac12000d",
     "history": [
      {
       "current": "0ab0d8d4-14ea-11e7-b31a-0242ac12000d",
       "next": "0ab0dab4-14ea-11e7-b31a-0242ac12000d",
       "previous": "0ab0d712-14ea-11e7-b31a-0242ac12000d"
      }
     ],
     "next": "0ab0dab4-14ea-11e7-b31a-0242ac12000d",
     "previous": "0ab0cfba-14ea-11e7-b31a-0242ac12000d"
    }
   },
   "source": [
    "データ蓄積ディスクとなる[EBS](http://docs.aws.amazon.com/ja_jp/AWSEC2/latest/UserGuide/AmazonEBS.html)の[ブロックデバイスマッピング](http://docs.aws.amazon.com/ja_jp/AWSEC2/latest/UserGuide/block-device-mapping-concepts.html)設定を行います。  \n",
    "`VolumeSize`、`VolumeType`を設定します。  \n",
    "`DeleteOnTermination`にtrueを設定すると、インスタンス破棄時にEBSが削除されます。  \n"
   ]
  },
  {
   "cell_type": "code",
   "execution_count": 5,
   "metadata": {
    "collapsed": true,
    "lc_cell_meme": {
     "current": "0ab0dab4-14ea-11e7-b31a-0242ac12000d",
     "history": [
      {
       "current": "0ab0dab4-14ea-11e7-b31a-0242ac12000d",
       "next": "0ab0dc80-14ea-11e7-b31a-0242ac12000d",
       "previous": "0ab0d8d4-14ea-11e7-b31a-0242ac12000d"
      },
      {
       "current": "0ab0dab4-14ea-11e7-b31a-0242ac12000d",
       "next": "0ab0e022-14ea-11e7-b31a-0242ac12000d",
       "previous": "0ab0d8d4-14ea-11e7-b31a-0242ac12000d"
      }
     ],
     "next": "0ab0e3ba-14ea-11e7-b31a-0242ac12000d",
     "previous": "0ab0d8d4-14ea-11e7-b31a-0242ac12000d"
    }
   },
   "outputs": [],
   "source": [
    "block_device_mappings = {\n",
    "    \"DeviceName\": \"/dev/sda1\",\n",
    "    \"Ebs\": {\n",
    "      \"VolumeSize\": 1024,\n",
    "      \"VolumeType\": \"gp2\",\n",
    "      \"DeleteOnTermination\": \"true\",\n",
    "    }\n",
    "}"
   ]
  },
  {
   "cell_type": "markdown",
   "metadata": {
    "lc_cell_meme": {
     "current": "0ab0e3ba-14ea-11e7-b31a-0242ac12000d",
     "history": [
      {
       "current": "0ab0e3ba-14ea-11e7-b31a-0242ac12000d",
       "next": "0ab0e6f8-14ea-11e7-b31a-0242ac12000d",
       "previous": "0ab0e1ee-14ea-11e7-b31a-0242ac12000d"
      },
      {
       "current": "0ab0e3ba-14ea-11e7-b31a-0242ac12000d",
       "next": "0ab0e6f8-14ea-11e7-b31a-0242ac12000d",
       "previous": "0ab0dab4-14ea-11e7-b31a-0242ac12000d"
      },
      {
       "current": "0ab0e3ba-14ea-11e7-b31a-0242ac12000d",
       "next": "5d431a24-74e1-11e7-b116-0242ac110002",
       "previous": "0ab0dab4-14ea-11e7-b31a-0242ac12000d"
      }
     ],
     "next": "9978fc82-74e3-11e7-b116-0242ac110002",
     "previous": "0ab0dab4-14ea-11e7-b31a-0242ac12000d"
    }
   },
   "source": [
    "### Keypairの準備\n",
    "\n",
    "使用するキーペア名を設定します。"
   ]
  },
  {
   "cell_type": "code",
   "execution_count": 6,
   "metadata": {
    "lc_cell_meme": {
     "current": "9978fc82-74e3-11e7-b116-0242ac110002",
     "next": "5d431a24-74e1-11e7-b116-0242ac110002",
     "previous": "0ab0e3ba-14ea-11e7-b31a-0242ac12000d"
    }
   },
   "outputs": [
    {
     "data": {
      "text/plain": [
       "'es-jupyter-6918f135xxxx'"
      ]
     },
     "execution_count": 6,
     "metadata": {},
     "output_type": "execute_result"
    }
   ],
   "source": [
    "hostname = !hostname\n",
    "keypair_name = 'es-jupyter-{}'.format(hostname[0])\n",
    "keypair_name"
   ]
  },
  {
   "cell_type": "code",
   "execution_count": 7,
   "metadata": {
    "lc_cell_meme": {
     "current": "5d431a24-74e1-11e7-b116-0242ac110002",
     "history": [
      {
       "current": "5d431a24-74e1-11e7-b116-0242ac110002",
       "next": "0ab0e6f8-14ea-11e7-b31a-0242ac12000d",
       "previous": "0ab0e3ba-14ea-11e7-b31a-0242ac12000d"
      },
      {
       "current": "5d431a24-74e1-11e7-b116-0242ac110002",
       "next": "33d892ee-74e2-11e7-b116-0242ac110002",
       "previous": "0ab0e3ba-14ea-11e7-b31a-0242ac12000d"
      }
     ],
     "next": "33d892ee-74e2-11e7-b116-0242ac110002",
     "previous": "9978fc82-74e3-11e7-b116-0242ac110002"
    }
   },
   "outputs": [
    {
     "name": "stdout",
     "output_type": "stream",
     "text": [
      "ssh-rsa XXXXXXXXXXXXXXXXXXXXXXXXXXXXXXXXXXXXXXXXXXXXXXXXXXXXXXXXXXXXXXXXXXXXXXXXXXXXXXXXXXXXXXXXXXXXXXXX ansible\r\n"
     ]
    }
   ],
   "source": [
    "import os\n",
    "ssh_keypath = os.path.expanduser('~/.ssh')\n",
    "if not os.path.exists(os.path.join(ssh_keypath, 'ansible_id_rsa')):\n",
    "    !ssh-keygen -t rsa -b 2048 -C ansible -f {ssh_keypath}/ansible_id_rsa -P ''\n",
    "!cat {ssh_keypath}/ansible_id_rsa.pub"
   ]
  },
  {
   "cell_type": "code",
   "execution_count": 8,
   "metadata": {
    "lc_cell_meme": {
     "current": "33d892ee-74e2-11e7-b116-0242ac110002",
     "history": [
      {
       "current": "33d892ee-74e2-11e7-b116-0242ac110002",
       "next": "0ab0e6f8-14ea-11e7-b31a-0242ac12000d",
       "previous": "5d431a24-74e1-11e7-b116-0242ac110002"
      },
      {
       "current": "33d892ee-74e2-11e7-b116-0242ac110002",
       "next": "28879dde-74e4-11e7-b116-0242ac110002",
       "previous": "5d431a24-74e1-11e7-b116-0242ac110002"
      }
     ],
     "next": "700e0738-74e4-11e7-b116-0242ac110002",
     "previous": "5d431a24-74e1-11e7-b116-0242ac110002"
    }
   },
   "outputs": [
    {
     "data": {
      "text/plain": [
       "[{u'KeyFingerprint': u'21:ca:56:ba:40:61:14:49:a5:f4:11:5c:xx:xx:xx:xx',\n",
       "  u'KeyName': u'es-jupyter-6918f135xxxx'}]"
      ]
     },
     "execution_count": 8,
     "metadata": {},
     "output_type": "execute_result"
    }
   ],
   "source": [
    "import json\n",
    "result = !aws ec2 describe-key-pairs\n",
    "keypairs = json.loads('\\n'.join(result))['KeyPairs']\n",
    "keypairs"
   ]
  },
  {
   "cell_type": "markdown",
   "metadata": {
    "lc_cell_meme": {
     "current": "700e0738-74e4-11e7-b116-0242ac110002",
     "next": "28879dde-74e4-11e7-b116-0242ac110002",
     "previous": "33d892ee-74e2-11e7-b116-0242ac110002"
    }
   },
   "source": [
    "既存キーペアを削除しておく。"
   ]
  },
  {
   "cell_type": "code",
   "execution_count": 9,
   "metadata": {
    "collapsed": true,
    "lc_cell_meme": {
     "current": "28879dde-74e4-11e7-b116-0242ac110002",
     "history": [
      {
       "current": "28879dde-74e4-11e7-b116-0242ac110002",
       "next": "0ab0e6f8-14ea-11e7-b31a-0242ac12000d",
       "previous": "33d892ee-74e2-11e7-b116-0242ac110002"
      }
     ],
     "next": "0ab0e6f8-14ea-11e7-b31a-0242ac12000d",
     "previous": "700e0738-74e4-11e7-b116-0242ac110002"
    }
   },
   "outputs": [],
   "source": [
    "if keypair_name in [k['KeyName'] for k in keypairs]:\n",
    "    !aws ec2 delete-key-pair --key-name {keypair_name}"
   ]
  },
  {
   "cell_type": "code",
   "execution_count": 10,
   "metadata": {
    "lc_cell_meme": {
     "current": "0ab0e6f8-14ea-11e7-b31a-0242ac12000d",
     "history": [
      {
       "current": "0ab0e6f8-14ea-11e7-b31a-0242ac12000d",
       "next": "0ab0e946-14ea-11e7-b31a-0242ac12000d",
       "previous": "0ab0e3ba-14ea-11e7-b31a-0242ac12000d"
      },
      {
       "current": "0ab0e6f8-14ea-11e7-b31a-0242ac12000d",
       "next": "0ab0fd32-14ea-11e7-b31a-0242ac12000d",
       "previous": "0ab0e3ba-14ea-11e7-b31a-0242ac12000d"
      },
      {
       "current": "0ab0e6f8-14ea-11e7-b31a-0242ac12000d",
       "next": "53ea6252-4c14-11e7-8a6b-02420aff0006",
       "previous": "0ab0e3ba-14ea-11e7-b31a-0242ac12000d"
      },
      {
       "current": "0ab0e6f8-14ea-11e7-b31a-0242ac12000d",
       "next": "53ea6252-4c14-11e7-8a6b-02420aff0006",
       "previous": "5d431a24-74e1-11e7-b116-0242ac110002"
      },
      {
       "current": "0ab0e6f8-14ea-11e7-b31a-0242ac12000d",
       "next": "53ea6252-4c14-11e7-8a6b-02420aff0006",
       "previous": "33d892ee-74e2-11e7-b116-0242ac110002"
      },
      {
       "current": "0ab0e6f8-14ea-11e7-b31a-0242ac12000d",
       "next": "53ea6252-4c14-11e7-8a6b-02420aff0006",
       "previous": "28879dde-74e4-11e7-b116-0242ac110002"
      }
     ],
     "next": "64fe7858-74e6-11e7-b116-0242ac110002",
     "previous": "28879dde-74e4-11e7-b116-0242ac110002"
    }
   },
   "outputs": [
    {
     "name": "stdout",
     "output_type": "stream",
     "text": [
      "{\r\n",
      "    \"KeyName\": \"es-jupyter-6918f135xxxx\", \r\n",
      "    \"KeyFingerprint\": \"21:ca:56:ba:40:61:14:49:a5:f4:11:5c:xx:xx:xx:xx\"\r\n",
      "}\r\n"
     ]
    }
   ],
   "source": [
    "!aws ec2 import-key-pair --key-name {keypair_name} --public-key-material file://{ssh_keypath}/ansible_id_rsa.pub"
   ]
  },
  {
   "cell_type": "markdown",
   "metadata": {
    "lc_cell_meme": {
     "current": "64fe7858-74e6-11e7-b116-0242ac110002",
     "history": [
      {
       "current": "64fe7858-74e6-11e7-b116-0242ac110002",
       "next": "9b6dded8-4c14-11e7-8a6b-02420aff0006",
       "previous": "0ab0e1ee-14ea-11e7-b31a-0242ac12000d"
      },
      {
       "current": "64fe7858-74e6-11e7-b116-0242ac110002",
       "next": "0ab0f616-14ea-11e7-b31a-0242ac12000d",
       "previous": "0ab0e1ee-14ea-11e7-b31a-0242ac12000d"
      },
      {
       "current": "64fe7858-74e6-11e7-b116-0242ac110002",
       "next": "0ab0f616-14ea-11e7-b31a-0242ac12000d",
       "previous": "0ab0e6f8-14ea-11e7-b31a-0242ac12000d"
      }
     ],
     "next": "30379f9e-7501-11e7-b116-0242ac110002",
     "previous": "0ab0e6f8-14ea-11e7-b31a-0242ac12000d"
    }
   },
   "source": [
    "### VPCの準備\n",
    "\n",
    "Elasticsearch構築Notebookは、VPCに仮想マシンを確保します。"
   ]
  },
  {
   "cell_type": "markdown",
   "metadata": {
    "lc_cell_meme": {
     "current": "30379f9e-7501-11e7-b116-0242ac110002",
     "next": "0ab0f616-14ea-11e7-b31a-0242ac12000d",
     "previous": "64fe7858-74e6-11e7-b116-0242ac110002"
    }
   },
   "source": [
    "すでに作成してあるVPC, Subnetに仮想マシンを作成したい場合は、以下に入力してください。"
   ]
  },
  {
   "cell_type": "code",
   "execution_count": 11,
   "metadata": {
    "collapsed": true,
    "lc_cell_meme": {
     "current": "0ab0f616-14ea-11e7-b31a-0242ac12000d",
     "history": [
      {
       "current": "0ab0f616-14ea-11e7-b31a-0242ac12000d",
       "next": "0ab0f7e2-14ea-11e7-b31a-0242ac12000d",
       "previous": "0ab0f418-14ea-11e7-b31a-0242ac12000d"
      },
      {
       "current": "0ab0f616-14ea-11e7-b31a-0242ac12000d",
       "next": "0ab0fd32-14ea-11e7-b31a-0242ac12000d",
       "previous": "0ab0eebe-14ea-11e7-b31a-0242ac12000d"
      },
      {
       "current": "0ab0f616-14ea-11e7-b31a-0242ac12000d",
       "next": "0ab0ff08-14ea-11e7-b31a-0242ac12000d",
       "previous": "0ab100d4-14ea-11e7-b31a-0242ac12000d"
      },
      {
       "current": "0ab0f616-14ea-11e7-b31a-0242ac12000d",
       "next": "ac851b3c-74e6-11e7-b116-0242ac110002",
       "previous": "64fe7858-74e6-11e7-b116-0242ac110002"
      }
     ],
     "next": "ac851b3c-74e6-11e7-b116-0242ac110002",
     "previous": "30379f9e-7501-11e7-b116-0242ac110002"
    }
   },
   "outputs": [],
   "source": [
    "# vpc_id = 'vpc-xxxxxxxx'\n",
    "# subnet_id = 'subnet-xxxxxxxx'"
   ]
  },
  {
   "cell_type": "markdown",
   "metadata": {
    "lc_cell_meme": {
     "current": "ac851b3c-74e6-11e7-b116-0242ac110002",
     "history": [
      {
       "current": "ac851b3c-74e6-11e7-b116-0242ac110002",
       "next": "9b6dded8-4c14-11e7-8a6b-02420aff0006",
       "previous": "0ab0f616-14ea-11e7-b31a-0242ac12000d"
      }
     ],
     "next": "f40b1182-74e6-11e7-b116-0242ac110002",
     "previous": "0ab0f616-14ea-11e7-b31a-0242ac12000d"
    }
   },
   "source": [
    "`vpc_id` が指定されたなかった場合は、本Notebookは `es-jupyter` という名前のVPCを構築し、Internet Gatewayをアタッチします。\n",
    "以下のセルを実行してください。\n",
    "\n",
    "> VPC, Subnetが不要になったら、AWSコンソールからVPCに関連するリソースを削除してください。"
   ]
  },
  {
   "cell_type": "code",
   "execution_count": 12,
   "metadata": {
    "lc_cell_meme": {
     "current": "f40b1182-74e6-11e7-b116-0242ac110002",
     "history": [
      {
       "current": "f40b1182-74e6-11e7-b116-0242ac110002",
       "next": "9b6dded8-4c14-11e7-8a6b-02420aff0006",
       "previous": "ac851b3c-74e6-11e7-b116-0242ac110002"
      },
      {
       "current": "f40b1182-74e6-11e7-b116-0242ac110002",
       "next": "3b91d61c-74e7-11e7-b116-0242ac110002",
       "previous": "ac851b3c-74e6-11e7-b116-0242ac110002"
      },
      {
       "current": "f40b1182-74e6-11e7-b116-0242ac110002",
       "next": "e8b9e7ac-74e8-11e7-b116-0242ac110002",
       "previous": "ac851b3c-74e6-11e7-b116-0242ac110002"
      },
      {
       "current": "f40b1182-74e6-11e7-b116-0242ac110002",
       "next": "3b91d61c-74e7-11e7-b116-0242ac110002",
       "previous": "ac851b3c-74e6-11e7-b116-0242ac110002"
      },
      {
       "current": "f40b1182-74e6-11e7-b116-0242ac110002",
       "next": "9b6dded8-4c14-11e7-8a6b-02420aff0006",
       "previous": "ac851b3c-74e6-11e7-b116-0242ac110002"
      },
      {
       "current": "f40b1182-74e6-11e7-b116-0242ac110002",
       "next": "401b2c72-74f3-11e7-b116-0242ac110002",
       "previous": "ac851b3c-74e6-11e7-b116-0242ac110002"
      }
     ],
     "next": "9b6dded8-4c14-11e7-8a6b-02420aff0006",
     "previous": "ac851b3c-74e6-11e7-b116-0242ac110002"
    }
   },
   "outputs": [
    {
     "name": "stdout",
     "output_type": "stream",
     "text": [
      "VPC created: vpc-cd43xxxx\n",
      "Subnet created: subnet-db8fxxxx\n",
      "{\n",
      "    \"Return\": true\n",
      "}\n"
     ]
    },
    {
     "data": {
      "text/plain": [
       "(u'vpc-cd43xxxx', u'subnet-db8fxxxx')"
      ]
     },
     "execution_count": 12,
     "metadata": {},
     "output_type": "execute_result"
    }
   ],
   "source": [
    "if 'vpc_id' not in locals():\n",
    "    vpc_cidr_block = '10.30.0.0/16'\n",
    "    # VPCの検索\n",
    "    result = !aws ec2 describe-vpcs\n",
    "    vpcs = json.loads(''.join(result))['Vpcs']\n",
    "    tagged_vpcs = [dict([(t['Key'], t['Value']) for t in vpc['Tags']] + [('VpcId', vpc['VpcId'])])\n",
    "                   for vpc in vpcs if 'Tags' in vpc]\n",
    "    target_vpcs = [v for v in tagged_vpcs if 'Name' in v and v['Name'] == 'es-jupyter']\n",
    "    if len(target_vpcs) == 0:\n",
    "        # VPCの作成\n",
    "        result = !aws ec2 create-vpc --cidr-block {vpc_cidr_block}\n",
    "        new_vpc_id = json.loads(''.join(result))['Vpc']['VpcId']\n",
    "        print('VPC created: {}'.format(new_vpc_id))\n",
    "        !aws ec2 create-tags --resources {new_vpc_id} --tags Key=Name,Value=es-jupyter\n",
    "\n",
    "        # Subnetの作成\n",
    "        result = !aws ec2 create-subnet --vpc-id {new_vpc_id} --cidr-block {vpc_cidr_block}\n",
    "        new_subnet_id = json.loads(''.join(result))['Subnet']['SubnetId']\n",
    "        print('Subnet created: {}'.format(new_subnet_id))\n",
    "        !aws ec2 create-tags --resources {new_subnet_id} --tags Key=Name,Value=es-jupyter\n",
    "\n",
    "        # Internet Gateway\n",
    "        result = !aws ec2 create-internet-gateway\n",
    "        new_internetgateway_id = json.loads(''.join(result))['InternetGateway']['InternetGatewayId']\n",
    "        !aws ec2 attach-internet-gateway --internet-gateway-id {new_internetgateway_id} --vpc-id {new_vpc_id}\n",
    "        !aws ec2 create-tags --resources {new_internetgateway_id} --tags Key=Name,Value=es-jupyter\n",
    "        # route\n",
    "        result = !aws ec2 describe-route-tables\n",
    "        routes = json.loads(''.join(result))['RouteTables']\n",
    "        target_routes = [r['RouteTableId']\n",
    "                         for r in routes if 'VpcId' in r and r['VpcId'] == new_vpc_id]\n",
    "        assert len(target_routes) > 0\n",
    "        !aws ec2 create-route --route-table-id {target_routes[0]} --destination-cidr-block '0.0.0.0/0' --gateway-id {new_internetgateway_id}\n",
    "\n",
    "        vpc_id = new_vpc_id\n",
    "        subnet_id = new_subnet_id\n",
    "    else:\n",
    "        existing_vpc_id = target_vpcs[0]['VpcId']\n",
    "        print('VPC found: {}'.format(existing_vpc_id))\n",
    "\n",
    "        # Subnetの検索\n",
    "        result = !aws ec2 describe-subnets\n",
    "        subnets = json.loads(''.join(result))['Subnets']\n",
    "        tagged_subnets = [dict([(t['Key'], t['Value']) for t in subnet['Tags']] + \\\n",
    "                               [('SubnetId', subnet['SubnetId']), ('VpcId', subnet['VpcId'])])\n",
    "                          for subnet in subnets if 'Tags' in subnet and 'VpcId' in subnet]\n",
    "        target_subnets = [v for v in tagged_subnets if 'Name' in v and v['Name'] == 'es-jupyter']\n",
    "        target_subnets = [v for v in target_subnets if v['VpcId'] == existing_vpc_id]\n",
    "        assert len(target_subnets) > 0\n",
    "        existing_subnet_id = target_subnets[0]['SubnetId']\n",
    "        print('Subnet found: {}'.format(existing_subnet_id))\n",
    "\n",
    "        vpc_id = existing_vpc_id\n",
    "        subnet_id = existing_subnet_id\n",
    "(vpc_id, subnet_id)"
   ]
  },
  {
   "cell_type": "markdown",
   "metadata": {
    "lc_cell_meme": {
     "current": "9b6dded8-4c14-11e7-8a6b-02420aff0006",
     "history": [
      {
       "current": "9b6dded8-4c14-11e7-8a6b-02420aff0006",
       "next": "0ab100d4-14ea-11e7-b31a-0242ac12000d",
       "previous": "0ab0e1ee-14ea-11e7-b31a-0242ac12000d"
      },
      {
       "current": "9b6dded8-4c14-11e7-8a6b-02420aff0006",
       "next": "0ab100d4-14ea-11e7-b31a-0242ac12000d",
       "previous": "64fe7858-74e6-11e7-b116-0242ac110002"
      },
      {
       "current": "9b6dded8-4c14-11e7-8a6b-02420aff0006",
       "next": "0ab100d4-14ea-11e7-b31a-0242ac12000d",
       "previous": "ac851b3c-74e6-11e7-b116-0242ac110002"
      },
      {
       "current": "9b6dded8-4c14-11e7-8a6b-02420aff0006",
       "next": "0ab100d4-14ea-11e7-b31a-0242ac12000d",
       "previous": "f40b1182-74e6-11e7-b116-0242ac110002"
      },
      {
       "current": "9b6dded8-4c14-11e7-8a6b-02420aff0006",
       "next": "0ab100d4-14ea-11e7-b31a-0242ac12000d",
       "previous": "3b91d61c-74e7-11e7-b116-0242ac110002"
      },
      {
       "current": "9b6dded8-4c14-11e7-8a6b-02420aff0006",
       "next": "0ab100d4-14ea-11e7-b31a-0242ac12000d",
       "previous": "f40b1182-74e6-11e7-b116-0242ac110002"
      },
      {
       "current": "9b6dded8-4c14-11e7-8a6b-02420aff0006",
       "next": "0ab100d4-14ea-11e7-b31a-0242ac12000d",
       "previous": "401b2c72-74f3-11e7-b116-0242ac110002"
      },
      {
       "current": "9b6dded8-4c14-11e7-8a6b-02420aff0006",
       "next": "0ab100d4-14ea-11e7-b31a-0242ac12000d",
       "previous": "f40b1182-74e6-11e7-b116-0242ac110002"
      }
     ],
     "next": "77be1b86-7501-11e7-b116-0242ac110002",
     "previous": "f40b1182-74e6-11e7-b116-0242ac110002"
    }
   },
   "source": [
    "### Security Groupの準備\n",
    "\n",
    "Security GroupもVPC同様に準備します。"
   ]
  },
  {
   "cell_type": "markdown",
   "metadata": {
    "lc_cell_meme": {
     "current": "77be1b86-7501-11e7-b116-0242ac110002",
     "next": "0ab100d4-14ea-11e7-b31a-0242ac12000d",
     "previous": "9b6dded8-4c14-11e7-8a6b-02420aff0006"
    }
   },
   "source": [
    "すでに作成してあるSecurity Groupを使用する場合は、以下にIDを設定してください。"
   ]
  },
  {
   "cell_type": "code",
   "execution_count": 13,
   "metadata": {
    "collapsed": true,
    "lc_cell_meme": {
     "current": "0ab100d4-14ea-11e7-b31a-0242ac12000d",
     "history": [
      {
       "current": "0ab100d4-14ea-11e7-b31a-0242ac12000d",
       "next": "0ab102a0-14ea-11e7-b31a-0242ac12000d",
       "previous": "0ab0ff08-14ea-11e7-b31a-0242ac12000d"
      },
      {
       "current": "0ab100d4-14ea-11e7-b31a-0242ac12000d",
       "next": "0ab0eb1c-14ea-11e7-b31a-0242ac12000d",
       "previous": "0ab0fd32-14ea-11e7-b31a-0242ac12000d"
      },
      {
       "current": "0ab100d4-14ea-11e7-b31a-0242ac12000d",
       "next": "0ab0e946-14ea-11e7-b31a-0242ac12000d",
       "previous": "0ab0fd32-14ea-11e7-b31a-0242ac12000d"
      },
      {
       "current": "0ab100d4-14ea-11e7-b31a-0242ac12000d",
       "next": "0ab0e946-14ea-11e7-b31a-0242ac12000d",
       "previous": "0ab0e1ee-14ea-11e7-b31a-0242ac12000d"
      },
      {
       "current": "0ab100d4-14ea-11e7-b31a-0242ac12000d",
       "next": "0ab0f616-14ea-11e7-b31a-0242ac12000d",
       "previous": "9b6dded8-4c14-11e7-8a6b-02420aff0006"
      },
      {
       "current": "0ab100d4-14ea-11e7-b31a-0242ac12000d",
       "next": "0ab0ff08-14ea-11e7-b31a-0242ac12000d",
       "previous": "9b6dded8-4c14-11e7-8a6b-02420aff0006"
      }
     ],
     "next": "77be1fa0-7501-11e7-b116-0242ac110002",
     "previous": "77be1b86-7501-11e7-b116-0242ac110002"
    }
   },
   "outputs": [],
   "source": [
    "#security_group_id = 'sg-xxxxxxxx'"
   ]
  },
  {
   "cell_type": "markdown",
   "metadata": {
    "lc_cell_meme": {
     "current": "77be1fa0-7501-11e7-b116-0242ac110002",
     "next": "0ab0ff08-14ea-11e7-b31a-0242ac12000d",
     "previous": "0ab100d4-14ea-11e7-b31a-0242ac12000d"
    }
   },
   "source": [
    "VPC同様、IDが設定されていない場合は、Security Groupを生成します。自身のIPアドレス(範囲)を正しく設定してください。"
   ]
  },
  {
   "cell_type": "code",
   "execution_count": 14,
   "metadata": {
    "lc_cell_meme": {
     "current": "0ab0ff08-14ea-11e7-b31a-0242ac12000d",
     "history": [
      {
       "current": "0ab0ff08-14ea-11e7-b31a-0242ac12000d",
       "next": "0ab100d4-14ea-11e7-b31a-0242ac12000d",
       "previous": "0ab0fd32-14ea-11e7-b31a-0242ac12000d"
      },
      {
       "current": "0ab0ff08-14ea-11e7-b31a-0242ac12000d",
       "next": "0ab102a0-14ea-11e7-b31a-0242ac12000d",
       "previous": "0ab0fd32-14ea-11e7-b31a-0242ac12000d"
      },
      {
       "current": "0ab0ff08-14ea-11e7-b31a-0242ac12000d",
       "next": "0ab102a0-14ea-11e7-b31a-0242ac12000d",
       "previous": "0ab0f616-14ea-11e7-b31a-0242ac12000d"
      },
      {
       "current": "0ab0ff08-14ea-11e7-b31a-0242ac12000d",
       "next": "0ab102a0-14ea-11e7-b31a-0242ac12000d",
       "previous": "0ab100d4-14ea-11e7-b31a-0242ac12000d"
      },
      {
       "current": "0ab0ff08-14ea-11e7-b31a-0242ac12000d",
       "next": "430b53e6-74ec-11e7-b116-0242ac110002",
       "previous": "0ab100d4-14ea-11e7-b31a-0242ac12000d"
      },
      {
       "current": "0ab0ff08-14ea-11e7-b31a-0242ac12000d",
       "next": "8a91fd6e-74ec-11e7-b116-0242ac110002",
       "previous": "0ab100d4-14ea-11e7-b31a-0242ac12000d"
      },
      {
       "current": "0ab0ff08-14ea-11e7-b31a-0242ac12000d",
       "next": "0ab102a0-14ea-11e7-b31a-0242ac12000d",
       "previous": "0ab100d4-14ea-11e7-b31a-0242ac12000d"
      }
     ],
     "next": "0ab102a0-14ea-11e7-b31a-0242ac12000d",
     "previous": "77be1fa0-7501-11e7-b116-0242ac110002"
    }
   },
   "outputs": [
    {
     "name": "stdout",
     "output_type": "stream",
     "text": [
      "Security Group created: sg-d524xxxx\n"
     ]
    },
    {
     "data": {
      "text/plain": [
       "u'sg-d524xxxx'"
      ]
     },
     "execution_count": 14,
     "metadata": {},
     "output_type": "execute_result"
    }
   ],
   "source": [
    "if 'security_group_id' not in locals():\n",
    "    # このJupyter Notebook Serverが動作している環境のグローバルIPアドレス範囲を設定\n",
    "    # (ping, SSH可能な範囲が制限されます)\n",
    "    # \n",
    "    # ホストを指定する場合\n",
    "    # my_ips = ['xxx.xxx.xxx.xxx/32']\n",
    "    # ネットワーク範囲を指定する場合\n",
    "    # my_ips = ['xxx.xxx.xxx.xxx/yy']\n",
    "    my_ips = \n",
    "\n",
    "    result = !aws ec2 describe-security-groups\n",
    "    sgs = json.loads(''.join(result))['SecurityGroups']\n",
    "    tagged_sgs = [dict([(t['Key'], t['Value']) for t in sg['Tags']] + \\\n",
    "                       [('GroupId', sg['GroupId']), ('VpcId', sg['VpcId'])])\n",
    "                   for sg in sgs if 'Tags' in sg and 'VpcId' in sg]\n",
    "    target_sgs = [sg for sg in tagged_sgs if 'Name' in sg and sg['Name'] == 'es-jupyter' and sg['VpcId'] == vpc_id]\n",
    "    if len(target_sgs) == 0:\n",
    "        result = !aws ec2 create-security-group --group-name es-jupyter --description es-jupyter --vpc-id {vpc_id}\n",
    "        new_sg_id = json.loads(''.join(result))['GroupId']\n",
    "        print('Security Group created: {}'.format(new_sg_id))\n",
    "        !aws ec2 create-tags --resources {new_sg_id} --tags Key=Name,Value=es-jupyter\n",
    "        for my_ip in my_ips:\n",
    "            # SSH\n",
    "            !aws ec2 authorize-security-group-ingress --group-id {new_sg_id} --cidr {my_ip} --protocol tcp --port 22\n",
    "            # ICMP\n",
    "            !aws ec2 authorize-security-group-ingress --group-id {new_sg_id} --cidr {my_ip} --protocol icmp --port -1\n",
    "            # Elasticsearch\n",
    "            !aws ec2 authorize-security-group-ingress --group-id {new_sg_id} --cidr {my_ip} --protocol tcp --port 9200\n",
    "        !aws ec2 authorize-security-group-ingress --group-id {new_sg_id} --source-group {new_sg_id} --protocol all\n",
    "        security_group_id = new_sg_id\n",
    "    else:\n",
    "        existing_sg_id = target_sgs[0]['GroupId']\n",
    "        print('Security Group found: {}'.format(existing_sg_id))\n",
    "        security_group_id = existing_sg_id\n",
    "security_group_id"
   ]
  },
  {
   "cell_type": "markdown",
   "metadata": {
    "lc_cell_meme": {
     "current": "0ab102a0-14ea-11e7-b31a-0242ac12000d",
     "history": [
      {
       "current": "0ab102a0-14ea-11e7-b31a-0242ac12000d",
       "next": "0ab10462-14ea-11e7-b31a-0242ac12000d",
       "previous": "0ab100d4-14ea-11e7-b31a-0242ac12000d"
      },
      {
       "current": "0ab102a0-14ea-11e7-b31a-0242ac12000d",
       "next": "0ab10462-14ea-11e7-b31a-0242ac12000d",
       "previous": "0ab0ff08-14ea-11e7-b31a-0242ac12000d"
      },
      {
       "current": "0ab102a0-14ea-11e7-b31a-0242ac12000d",
       "next": "0ab10bc4-14ea-11e7-b31a-0242ac12000d",
       "previous": "0ab0ff08-14ea-11e7-b31a-0242ac12000d"
      },
      {
       "current": "0ab102a0-14ea-11e7-b31a-0242ac12000d",
       "next": "0ab10bc4-14ea-11e7-b31a-0242ac12000d",
       "previous": "430b53e6-74ec-11e7-b116-0242ac110002"
      },
      {
       "current": "0ab102a0-14ea-11e7-b31a-0242ac12000d",
       "next": "0ab10bc4-14ea-11e7-b31a-0242ac12000d",
       "previous": "8a91fd6e-74ec-11e7-b116-0242ac110002"
      }
     ],
     "next": "0ab10bc4-14ea-11e7-b31a-0242ac12000d",
     "previous": "0ab0ff08-14ea-11e7-b31a-0242ac12000d"
    }
   },
   "source": [
    "## EC2インスタンスの起動・設定\n",
    "\n",
    "サーバ構成に応じたEC2インスタンスを起動し、各種設定を実施します。\n"
   ]
  },
  {
   "cell_type": "markdown",
   "metadata": {
    "lc_cell_meme": {
     "current": "0ab10bc4-14ea-11e7-b31a-0242ac12000d",
     "history": [
      {
       "current": "0ab10bc4-14ea-11e7-b31a-0242ac12000d",
       "next": "0ab10d90-14ea-11e7-b31a-0242ac12000d",
       "previous": "0ab10a02-14ea-11e7-b31a-0242ac12000d"
      },
      {
       "current": "0ab10bc4-14ea-11e7-b31a-0242ac12000d",
       "next": "0ab10d90-14ea-11e7-b31a-0242ac12000d",
       "previous": "0ab102a0-14ea-11e7-b31a-0242ac12000d"
      },
      {
       "current": "0ab10bc4-14ea-11e7-b31a-0242ac12000d",
       "next": "969ea3bc-473a-11e7-9f7c-02420aff0008",
       "previous": "0ab102a0-14ea-11e7-b31a-0242ac12000d"
      }
     ],
     "next": "95d9a350-7502-11e7-b116-0242ac110002",
     "previous": "0ab102a0-14ea-11e7-b31a-0242ac12000d"
    }
   },
   "source": [
    "### インスタンスの起動\n",
    "\n",
    "ここまでで設定した定義を用いてインスタンスを生成します。"
   ]
  },
  {
   "cell_type": "markdown",
   "metadata": {
    "lc_cell_meme": {
     "current": "95d9a350-7502-11e7-b116-0242ac110002",
     "next": "0ab10d90-14ea-11e7-b31a-0242ac12000d",
     "previous": "0ab10bc4-14ea-11e7-b31a-0242ac12000d"
    }
   },
   "source": [
    "以下では、AWSに対してインスタンス起動要求を発行しています。\n",
    "\n",
    "> Elasticsearchの試用が終わったら、AWSコンソールからインスタンスを削除するようにしてください。\n",
    "\n",
    "> **初めてこのNotebookを使ってインスタンスを起動する際**に、CentOSのAMIイメージの利用条件確認を求めるエラーメッセージが表示される場合があります。エラーメッセージ中にAMI MarketplaceのURLが表示されますので、利用条件を確認の上Acceptしてから再度実行してください。"
   ]
  },
  {
   "cell_type": "code",
   "execution_count": 15,
   "metadata": {
    "lc_cell_meme": {
     "current": "0ab10d90-14ea-11e7-b31a-0242ac12000d",
     "history": [
      {
       "current": "0ab10d90-14ea-11e7-b31a-0242ac12000d",
       "next": "0ab10f5c-14ea-11e7-b31a-0242ac12000d",
       "previous": "0ab10bc4-14ea-11e7-b31a-0242ac12000d"
      },
      {
       "current": "0ab10d90-14ea-11e7-b31a-0242ac12000d",
       "next": "0ab10f5c-14ea-11e7-b31a-0242ac12000d",
       "previous": "969ea3bc-473a-11e7-9f7c-02420aff0008"
      },
      {
       "current": "0ab10d90-14ea-11e7-b31a-0242ac12000d",
       "next": "29732f76-4747-11e7-9f7c-02420aff0008",
       "previous": "969ea3bc-473a-11e7-9f7c-02420aff0008"
      },
      {
       "current": "0ab10d90-14ea-11e7-b31a-0242ac12000d",
       "next": "b39ada56-474b-11e7-9f7c-02420aff0008",
       "previous": "969ea3bc-473a-11e7-9f7c-02420aff0008"
      },
      {
       "current": "0ab10d90-14ea-11e7-b31a-0242ac12000d",
       "next": "29732f76-4747-11e7-9f7c-02420aff0008",
       "previous": "969ea3bc-473a-11e7-9f7c-02420aff0008"
      },
      {
       "current": "0ab10d90-14ea-11e7-b31a-0242ac12000d",
       "next": "29732f76-4747-11e7-9f7c-02420aff0008",
       "previous": "5ad2f446-4a91-11e7-b091-02420aff0006"
      },
      {
       "current": "0ab10d90-14ea-11e7-b31a-0242ac12000d",
       "next": "f0331d00-74ed-11e7-b116-0242ac110002",
       "previous": "5ad2f446-4a91-11e7-b091-02420aff0006"
      },
      {
       "current": "0ab10d90-14ea-11e7-b31a-0242ac12000d",
       "next": "ec8137f4-74ee-11e7-b116-0242ac110002",
       "previous": "5ad2f446-4a91-11e7-b091-02420aff0006"
      }
     ],
     "next": "ec8137f4-74ee-11e7-b116-0242ac110002",
     "previous": "95d9a350-7502-11e7-b116-0242ac110002"
    },
    "scrolled": true
   },
   "outputs": [
    {
     "data": {
      "text/plain": [
       "[{u'AmiLaunchIndex': 0,\n",
       "  u'Architecture': u'x86_64',\n",
       "  u'BlockDeviceMappings': [],\n",
       "  u'ClientToken': u'',\n",
       "  u'EbsOptimized': False,\n",
       "  u'Hypervisor': u'xen',\n",
       "  u'ImageId': u'ami-f4533694',\n",
       "  u'InstanceId': u'i-0bf412a529d12xxxx',\n",
       "  u'InstanceType': u'm4.4xlarge',\n",
       "  u'KeyName': u'es-jupyter-6918f135xxxx',\n",
       "  u'LaunchTime': u'2017-07-30T12:44:06.000Z',\n",
       "  u'Monitoring': {u'State': u'disabled'},\n",
       "  u'NetworkInterfaces': [{u'Attachment': {u'AttachTime': u'2017-07-30T12:44:06.000Z',\n",
       "     u'AttachmentId': u'eni-attach-b36e825f',\n",
       "     u'DeleteOnTermination': True,\n",
       "     u'DeviceIndex': 0,\n",
       "     u'Status': u'attaching'},\n",
       "    u'Description': u'',\n",
       "    u'Groups': [{u'GroupId': u'sg-d524xxxx', u'GroupName': u'es-jupyter'}],\n",
       "    u'Ipv6Addresses': [],\n",
       "    u'MacAddress': u'06:4b:3a:d7:81:6c',\n",
       "    u'NetworkInterfaceId': u'eni-52ec176c',\n",
       "    u'OwnerId': u'845836667502',\n",
       "    u'PrivateIpAddress': u'10.30.xxx.xxx',\n",
       "    u'PrivateIpAddresses': [{u'Primary': True,\n",
       "      u'PrivateIpAddress': u'10.30.xxx.xxx'}],\n",
       "    u'SourceDestCheck': True,\n",
       "    u'Status': u'in-use',\n",
       "    u'SubnetId': u'subnet-db8fxxxx',\n",
       "    u'VpcId': u'vpc-cd43xxxx'}],\n",
       "  u'Placement': {u'AvailabilityZone': u'us-west-2b',\n",
       "   u'GroupName': u'',\n",
       "   u'Tenancy': u'default'},\n",
       "  u'PrivateDnsName': u'ip-10-30-117-160.us-west-2.compute.internal',\n",
       "  u'PrivateIpAddress': u'10.30.xxx.xxx',\n",
       "  u'ProductCodes': [],\n",
       "  u'PublicDnsName': u'',\n",
       "  u'RootDeviceName': u'/dev/sda1',\n",
       "  u'RootDeviceType': u'ebs',\n",
       "  u'SecurityGroups': [{u'GroupId': u'sg-d524xxxx',\n",
       "    u'GroupName': u'es-jupyter'}],\n",
       "  u'SourceDestCheck': True,\n",
       "  u'State': {u'Code': 0, u'Name': u'pending'},\n",
       "  u'StateReason': {u'Code': u'pending', u'Message': u'pending'},\n",
       "  u'StateTransitionReason': u'',\n",
       "  u'SubnetId': u'subnet-db8fxxxx',\n",
       "  u'VirtualizationType': u'hvm',\n",
       "  u'VpcId': u'vpc-cd43xxxx'}]"
      ]
     },
     "execution_count": 15,
     "metadata": {},
     "output_type": "execute_result"
    }
   ],
   "source": [
    "%run scripts/get-json-repr.py\n",
    "\n",
    "result = !aws ec2 run-instances --image-id {image_id} \\\n",
    "                                --count {instance_count} \\\n",
    "                                --instance-type {instance_type} \\\n",
    "                                --key-name {keypair_name} \\\n",
    "                                --block-device-mappings '{get_block_device_mappings_repr(block_device_mappings)}' \\\n",
    "                                --security-group-ids {security_group_id} \\\n",
    "                                --subnet-id {subnet_id}\n",
    "try:\n",
    "    instances = json.loads('\\n'.join(result))['Instances']\n",
    "except ValueError:\n",
    "    raise ValueError('\\n'.join(result))\n",
    "instances"
   ]
  },
  {
   "cell_type": "markdown",
   "metadata": {
    "lc_cell_meme": {
     "current": "ec8137f4-74ee-11e7-b116-0242ac110002",
     "history": [
      {
       "current": "ec8137f4-74ee-11e7-b116-0242ac110002",
       "next": "f0331f58-74ed-11e7-b116-0242ac110002",
       "previous": "f0331d00-74ed-11e7-b116-0242ac110002"
      }
     ],
     "next": "f0331f58-74ed-11e7-b116-0242ac110002",
     "previous": "0ab10d90-14ea-11e7-b31a-0242ac12000d"
    }
   },
   "source": [
    "\n",
    "生成したインスタンスIDを確認します。"
   ]
  },
  {
   "cell_type": "code",
   "execution_count": 16,
   "metadata": {
    "lc_cell_meme": {
     "current": "f0331f58-74ed-11e7-b116-0242ac110002",
     "history": [
      {
       "current": "f0331f58-74ed-11e7-b116-0242ac110002",
       "next": "29732f76-4747-11e7-9f7c-02420aff0008",
       "previous": "f0331d00-74ed-11e7-b116-0242ac110002"
      }
     ],
     "next": "29732f76-4747-11e7-9f7c-02420aff0008",
     "previous": "ec8137f4-74ee-11e7-b116-0242ac110002"
    }
   },
   "outputs": [
    {
     "data": {
      "text/plain": [
       "['i-0bf412a529d12xxxx']"
      ]
     },
     "execution_count": 16,
     "metadata": {},
     "output_type": "execute_result"
    }
   ],
   "source": [
    "id_list = map(lambda i: i['InstanceId'].encode('utf-8'), instances)\n",
    "id_list_text = ' '.join(id_list)\n",
    "id_list"
   ]
  },
  {
   "cell_type": "markdown",
   "metadata": {
    "lc_cell_meme": {
     "current": "29732f76-4747-11e7-9f7c-02420aff0008",
     "history": [
      {
       "current": "29732f76-4747-11e7-9f7c-02420aff0008",
       "next": "0ab10f5c-14ea-11e7-b31a-0242ac12000d",
       "previous": "0ab10d90-14ea-11e7-b31a-0242ac12000d"
      },
      {
       "current": "29732f76-4747-11e7-9f7c-02420aff0008",
       "next": "70fa054a-4747-11e7-9f7c-02420aff0008",
       "previous": "0ab10d90-14ea-11e7-b31a-0242ac12000d"
      },
      {
       "current": "29732f76-4747-11e7-9f7c-02420aff0008",
       "next": "70fa054a-4747-11e7-9f7c-02420aff0008",
       "previous": "b39ada56-474b-11e7-9f7c-02420aff0008"
      },
      {
       "current": "29732f76-4747-11e7-9f7c-02420aff0008",
       "next": "70fa054a-4747-11e7-9f7c-02420aff0008",
       "previous": "0ab10d90-14ea-11e7-b31a-0242ac12000d"
      },
      {
       "current": "29732f76-4747-11e7-9f7c-02420aff0008",
       "next": "70fa054a-4747-11e7-9f7c-02420aff0008",
       "previous": "f0331f58-74ed-11e7-b116-0242ac110002"
      }
     ],
     "next": "0ab114b6-14ea-11e7-b31a-0242ac12000d",
     "previous": "f0331f58-74ed-11e7-b116-0242ac110002"
    }
   },
   "source": [
    "\n",
    "インスタンスの状態が running になるまで待ちます。"
   ]
  },
  {
   "cell_type": "code",
   "execution_count": 17,
   "metadata": {
    "lc_cell_meme": {
     "current": "0ab114b6-14ea-11e7-b31a-0242ac12000d",
     "history": [
      {
       "current": "0ab114b6-14ea-11e7-b31a-0242ac12000d",
       "next": "0ab11682-14ea-11e7-b31a-0242ac12000d",
       "previous": "0ab112f4-14ea-11e7-b31a-0242ac12000d"
      },
      {
       "current": "0ab114b6-14ea-11e7-b31a-0242ac12000d",
       "next": "0ab1184e-14ea-11e7-b31a-0242ac12000d",
       "previous": "0ab112f4-14ea-11e7-b31a-0242ac12000d"
      },
      {
       "current": "0ab114b6-14ea-11e7-b31a-0242ac12000d",
       "next": "0ab11a10-14ea-11e7-b31a-0242ac12000d",
       "previous": "0ab112f4-14ea-11e7-b31a-0242ac12000d"
      },
      {
       "current": "0ab114b6-14ea-11e7-b31a-0242ac12000d",
       "next": "0ab11a10-14ea-11e7-b31a-0242ac12000d",
       "previous": "29732f76-4747-11e7-9f7c-02420aff0008"
      },
      {
       "current": "0ab114b6-14ea-11e7-b31a-0242ac12000d",
       "next": "0f367476-74ef-11e7-b116-0242ac110002",
       "previous": "29732f76-4747-11e7-9f7c-02420aff0008"
      }
     ],
     "next": "56be6272-74ef-11e7-b116-0242ac110002",
     "previous": "29732f76-4747-11e7-9f7c-02420aff0008"
    },
    "scrolled": true
   },
   "outputs": [
    {
     "name": "stdout",
     "output_type": "stream",
     "text": [
      "i-0bf412a529d12xxxx : pending\n",
      "Not running : 1\n",
      "------\n",
      "i-0bf412a529d12xxxx : running\n"
     ]
    },
    {
     "data": {
      "text/plain": [
       "[u'10.30.xxx.xxx']"
      ]
     },
     "execution_count": 17,
     "metadata": {},
     "output_type": "execute_result"
    }
   ],
   "source": [
    "from functools import reduce\n",
    "import time\n",
    "\n",
    "retries = 10\n",
    "while retries > 0:\n",
    "    # インスタンス情報を取得\n",
    "    desc_instances_stdout = !aws ec2 describe-instances --instance-ids $id_list_text\n",
    "    try:\n",
    "        json.loads('\\n'.join(desc_instances_stdout))\n",
    "    except:\n",
    "        print('\\n'.join(desc_instances_stdout))\n",
    "    \n",
    "    # JSON化し、インスタンスのリストとして取り出す\n",
    "    desc_instances = json.loads('\\n'.join(desc_instances_stdout))\n",
    "    target_instances = reduce(lambda x, y: x + y, map(lambda r: r['Instances'], desc_instances['Reservations']))\n",
    "    # IDと状態を出力\n",
    "    status_text = '\\n'.join(map(lambda i : '{0} : {1}'.format(i['InstanceId'], i['State']['Name']), target_instances))\n",
    "    print(status_text)\n",
    "    # runningになっていないものがまだあれば、スリープして最初に戻る。全てrunningなら終了。\n",
    "    not_running_num = len(list(filter(lambda i : i['State']['Name'] != 'running', target_instances)))\n",
    "    if not_running_num == 0:\n",
    "        break\n",
    "    print('Not running : {0}'.format(not_running_num))\n",
    "    time.sleep(5)\n",
    "    print('------')\n",
    "    retries -= 1\n",
    "\n",
    "for i in target_instances:\n",
    "    assert i['State']['Name'] == 'running'\n",
    "host_list = [i['PrivateIpAddress'] for i in target_instances]\n",
    "host_list"
   ]
  },
  {
   "cell_type": "markdown",
   "metadata": {
    "lc_cell_meme": {
     "current": "56be6272-74ef-11e7-b116-0242ac110002",
     "next": "56be6f2e-74ef-11e7-b116-0242ac110002",
     "previous": "0ab114b6-14ea-11e7-b31a-0242ac12000d"
    }
   },
   "source": [
    "### タグの設定\n",
    "\n",
    "タグのNameキーに名称を設定します。"
   ]
  },
  {
   "cell_type": "code",
   "execution_count": 18,
   "metadata": {
    "collapsed": true,
    "lc_cell_meme": {
     "current": "56be6f2e-74ef-11e7-b116-0242ac110002",
     "next": "0f367476-74ef-11e7-b116-0242ac110002",
     "previous": "56be6272-74ef-11e7-b116-0242ac110002"
    }
   },
   "outputs": [],
   "source": [
    "!aws ec2 create-tags --resources {id_list_text} --tags Key=Name,Value=es-jupyter"
   ]
  },
  {
   "cell_type": "markdown",
   "metadata": {
    "lc_cell_meme": {
     "current": "0f367476-74ef-11e7-b116-0242ac110002",
     "history": [
      {
       "current": "0f367476-74ef-11e7-b116-0242ac110002",
       "next": "0ab11a10-14ea-11e7-b31a-0242ac12000d",
       "previous": "0ab114b6-14ea-11e7-b31a-0242ac12000d"
      },
      {
       "current": "0f367476-74ef-11e7-b116-0242ac110002",
       "next": "0ab11a10-14ea-11e7-b31a-0242ac12000d",
       "previous": "56be6f2e-74ef-11e7-b116-0242ac110002"
      }
     ],
     "next": "9e44c028-74ef-11e7-b116-0242ac110002",
     "previous": "56be6f2e-74ef-11e7-b116-0242ac110002"
    }
   },
   "source": [
    "### Elastic IPの設定\n",
    "\n",
    "インスタンスにElastic IPを設定します。"
   ]
  },
  {
   "cell_type": "code",
   "execution_count": 19,
   "metadata": {
    "lc_cell_meme": {
     "current": "9e44c028-74ef-11e7-b116-0242ac110002",
     "history": [
      {
       "current": "9e44c028-74ef-11e7-b116-0242ac110002",
       "next": "0ab11a10-14ea-11e7-b31a-0242ac12000d",
       "previous": "0f367476-74ef-11e7-b116-0242ac110002"
      },
      {
       "current": "9e44c028-74ef-11e7-b116-0242ac110002",
       "next": "e5cab7d6-74ef-11e7-b116-0242ac110002",
       "previous": "0f367476-74ef-11e7-b116-0242ac110002"
      }
     ],
     "next": "0ab11a10-14ea-11e7-b31a-0242ac12000d",
     "previous": "0f367476-74ef-11e7-b116-0242ac110002"
    }
   },
   "outputs": [
    {
     "name": "stdout",
     "output_type": "stream",
     "text": [
      "{\r\n",
      "    \"AssociationId\": \"eipassoc-2ba0xxxx\"\r\n",
      "}\r\n"
     ]
    },
    {
     "data": {
      "text/plain": [
       "[(u'i-0bf412a529d12xxxx', u'34.213.xx.xx', u'10.30.xxx.xxx')]"
      ]
     },
     "execution_count": 19,
     "metadata": {},
     "output_type": "execute_result"
    }
   ],
   "source": [
    "host_list = []\n",
    "for i in target_instances:\n",
    "    result = !aws ec2 allocate-address\n",
    "    new_eip = json.loads(''.join(result))\n",
    "    !aws ec2 associate-address --allocation-id {new_eip['AllocationId']} --instance-id {i['InstanceId']}\n",
    "    host_list.append((i['InstanceId'], new_eip['PublicIp'], i['PrivateIpAddress']))\n",
    "host_list"
   ]
  },
  {
   "cell_type": "markdown",
   "metadata": {
    "lc_cell_meme": {
     "current": "0ab11a10-14ea-11e7-b31a-0242ac12000d",
     "history": [
      {
       "current": "0ab11a10-14ea-11e7-b31a-0242ac12000d",
       "next": "0ab11c0e-14ea-11e7-b31a-0242ac12000d",
       "previous": "0ab1184e-14ea-11e7-b31a-0242ac12000d"
      },
      {
       "current": "0ab11a10-14ea-11e7-b31a-0242ac12000d",
       "next": "0ab11c0e-14ea-11e7-b31a-0242ac12000d",
       "previous": "e433dd4c-46b6-11e7-ae73-02420aff0008"
      },
      {
       "current": "0ab11a10-14ea-11e7-b31a-0242ac12000d",
       "next": "0ab11c0e-14ea-11e7-b31a-0242ac12000d",
       "previous": "0ab1184e-14ea-11e7-b31a-0242ac12000d"
      },
      {
       "current": "0ab11a10-14ea-11e7-b31a-0242ac12000d",
       "next": "0ab11c0e-14ea-11e7-b31a-0242ac12000d",
       "previous": "0ab114b6-14ea-11e7-b31a-0242ac12000d"
      },
      {
       "current": "0ab11a10-14ea-11e7-b31a-0242ac12000d",
       "next": "0ab11c0e-14ea-11e7-b31a-0242ac12000d",
       "previous": "0f367476-74ef-11e7-b116-0242ac110002"
      },
      {
       "current": "0ab11a10-14ea-11e7-b31a-0242ac12000d",
       "next": "0ab11c0e-14ea-11e7-b31a-0242ac12000d",
       "previous": "9e44c028-74ef-11e7-b116-0242ac110002"
      },
      {
       "current": "0ab11a10-14ea-11e7-b31a-0242ac12000d",
       "next": "0ab11c0e-14ea-11e7-b31a-0242ac12000d",
       "previous": "e5cab7d6-74ef-11e7-b116-0242ac110002"
      }
     ],
     "next": "0ab11c0e-14ea-11e7-b31a-0242ac12000d",
     "previous": "9e44c028-74ef-11e7-b116-0242ac110002"
    }
   },
   "source": [
    "pingが通ることを確認します。\n",
    "\n",
    "Instanceがrunningになった後、**<font color=\"red\">pingが疎通するようになるまでしばらく(数分程度)</font>**かかる場合もあります。pingの実行が成功する(packet lossが0%)まで以下のセルの実行を試すようにしてください。"
   ]
  },
  {
   "cell_type": "code",
   "execution_count": 20,
   "metadata": {
    "lc_cell_meme": {
     "current": "0ab11c0e-14ea-11e7-b31a-0242ac12000d",
     "next": "0ab11de4-14ea-11e7-b31a-0242ac12000d",
     "previous": "0ab11a10-14ea-11e7-b31a-0242ac12000d"
    }
   },
   "outputs": [
    {
     "name": "stdout",
     "output_type": "stream",
     "text": [
      "PING 34.213.xx.xx (34.213.xx.xx): 56 data bytes\n",
      "64 bytes from 34.213.xx.xx: icmp_seq=0 ttl=37 time=0.352 ms\n",
      "64 bytes from 34.213.xx.xx: icmp_seq=1 ttl=37 time=0.595 ms\n",
      "64 bytes from 34.213.xx.xx: icmp_seq=2 ttl=37 time=0.476 ms\n",
      "64 bytes from 34.213.xx.xx: icmp_seq=3 ttl=37 time=0.295 ms\n",
      "--- 34.213.xx.xx ping statistics ---\n",
      "4 packets transmitted, 4 packets received, 0% packet loss\n",
      "round-trip min/avg/max/stddev = 0.295/0.429/0.595/0.116 ms\n"
     ]
    }
   ],
   "source": [
    "for iid, host, privip in host_list:\n",
    "    !ping -c 4 {host}"
   ]
  },
  {
   "cell_type": "markdown",
   "metadata": {
    "lc_cell_meme": {
     "current": "0ab11de4-14ea-11e7-b31a-0242ac12000d",
     "history": [
      {
       "current": "0ab11de4-14ea-11e7-b31a-0242ac12000d",
       "next": "0ab11fba-14ea-11e7-b31a-0242ac12000d",
       "previous": "0ab11c0e-14ea-11e7-b31a-0242ac12000d"
      },
      {
       "current": "0ab11de4-14ea-11e7-b31a-0242ac12000d",
       "next": "0ab128a2-14ea-11e7-b31a-0242ac12000d",
       "previous": "0ab11c0e-14ea-11e7-b31a-0242ac12000d"
      },
      {
       "current": "0ab11de4-14ea-11e7-b31a-0242ac12000d",
       "next": "56be769a-74ef-11e7-b116-0242ac110002",
       "previous": "0ab11c0e-14ea-11e7-b31a-0242ac12000d"
      }
     ],
     "next": "b9190f5c-7518-11e7-a4c6-0242ac110002",
     "previous": "0ab11c0e-14ea-11e7-b31a-0242ac12000d"
    }
   },
   "source": [
    "全てのインスタンスに対しpingが通ればEC2インスタンス生成は完了です。"
   ]
  },
  {
   "cell_type": "markdown",
   "metadata": {
    "lc_cell_meme": {
     "current": "b9190f5c-7518-11e7-a4c6-0242ac110002",
     "history": [
      {
       "current": "b9190f5c-7518-11e7-a4c6-0242ac110002",
       "next": "b9192da2-7518-11e7-a4c6-0242ac110002",
       "previous": "0ab11de4-14ea-11e7-b31a-0242ac12000d"
      },
      {
       "current": "b9190f5c-7518-11e7-a4c6-0242ac110002",
       "next": "4825ebd4-7519-11e7-a4c6-0242ac110002",
       "previous": "0ab11de4-14ea-11e7-b31a-0242ac12000d"
      }
     ],
     "next": "d734b7b0-7519-11e7-a4c6-0242ac110002",
     "previous": "0ab11de4-14ea-11e7-b31a-0242ac12000d"
    }
   },
   "source": [
    "### Host Keyの確認\n",
    "\n",
    "確保した仮想マシンのホストキーを確認します。Terminalからsshコマンドを実施し、Host Keyを確認してください。\n",
    "\n",
    "(ここではログインに必要な情報は設定していませんので、Host Keyを承認するのみで、Permission deniedとなります。)"
   ]
  },
  {
   "cell_type": "markdown",
   "metadata": {
    "lc_cell_meme": {
     "current": "d734b7b0-7519-11e7-a4c6-0242ac110002",
     "next": "4825ebd4-7519-11e7-a4c6-0242ac110002",
     "previous": "b9190f5c-7518-11e7-a4c6-0242ac110002"
    }
   },
   "source": [
    "まず、sshコマンド列を生成します。"
   ]
  },
  {
   "cell_type": "code",
   "execution_count": 21,
   "metadata": {
    "lc_cell_meme": {
     "current": "4825ebd4-7519-11e7-a4c6-0242ac110002",
     "history": [
      {
       "current": "4825ebd4-7519-11e7-a4c6-0242ac110002",
       "next": "4825f016-7519-11e7-a4c6-0242ac110002",
       "previous": "b9190f5c-7518-11e7-a4c6-0242ac110002"
      }
     ],
     "next": "d734bc38-7519-11e7-a4c6-0242ac110002",
     "previous": "d734b7b0-7519-11e7-a4c6-0242ac110002"
    }
   },
   "outputs": [
    {
     "name": "stdout",
     "output_type": "stream",
     "text": [
      "---- SSH: i-0bf412a529d12xxxx\n",
      "ssh 34.213.xx.xx\n",
      "\n"
     ]
    }
   ],
   "source": [
    "for iid, host, privip in host_list:\n",
    "    print('---- SSH: {}'.format(iid))\n",
    "    print('ssh {}\\n'.format(host))"
   ]
  },
  {
   "cell_type": "markdown",
   "metadata": {
    "lc_cell_meme": {
     "current": "d734bc38-7519-11e7-a4c6-0242ac110002",
     "history": [
      {
       "current": "d734bc38-7519-11e7-a4c6-0242ac110002",
       "next": "b9192da2-7518-11e7-a4c6-0242ac110002",
       "previous": "4825ebd4-7519-11e7-a4c6-0242ac110002"
      },
      {
       "current": "d734bc38-7519-11e7-a4c6-0242ac110002",
       "next": "43cac40a-751f-11e7-a4c6-0242ac110002",
       "previous": "4825ebd4-7519-11e7-a4c6-0242ac110002"
      }
     ],
     "next": "b9192da2-7518-11e7-a4c6-0242ac110002",
     "previous": "4825ebd4-7519-11e7-a4c6-0242ac110002"
    }
   },
   "source": [
    "EC2から、仮想マシンに設定されたHost Keyを確認します。\n",
    "\n",
    "起動後しばらくは **<font color=\"red\">Outputの内容が得られずエラー(KeyError: 'Output')となる場合があります。</font>** この状態が長く続く場合、AWSコンソールから [システムログの取得] で確認してみてください。"
   ]
  },
  {
   "cell_type": "code",
   "execution_count": 29,
   "metadata": {
    "lc_cell_meme": {
     "current": "b9192da2-7518-11e7-a4c6-0242ac110002",
     "history": [
      {
       "current": "b9192da2-7518-11e7-a4c6-0242ac110002",
       "next": "56be769a-74ef-11e7-b116-0242ac110002",
       "previous": "b9190f5c-7518-11e7-a4c6-0242ac110002"
      },
      {
       "current": "b9192da2-7518-11e7-a4c6-0242ac110002",
       "next": "56be769a-74ef-11e7-b116-0242ac110002",
       "previous": "4825f016-7519-11e7-a4c6-0242ac110002"
      },
      {
       "current": "b9192da2-7518-11e7-a4c6-0242ac110002",
       "next": "4825f016-7519-11e7-a4c6-0242ac110002",
       "previous": "d734bc38-7519-11e7-a4c6-0242ac110002"
      },
      {
       "current": "b9192da2-7518-11e7-a4c6-0242ac110002",
       "next": "4825f016-7519-11e7-a4c6-0242ac110002",
       "previous": "43cac40a-751f-11e7-a4c6-0242ac110002"
      }
     ],
     "next": "4825f016-7519-11e7-a4c6-0242ac110002",
     "previous": "d734bc38-7519-11e7-a4c6-0242ac110002"
    },
    "scrolled": true
   },
   "outputs": [
    {
     "name": "stdout",
     "output_type": "stream",
     "text": [
      "---- BEGIN: i-0bf412a529d12xxxx\n",
      "ec2: \n",
      "ec2: #############################################################\n",
      "ec2: -----BEGIN SSH HOST KEY FINGERPRINTS-----\n",
      "ec2: 256 7d:9a:ef:65:0d:47:58:7a:17:ab:ef:43:9d:ec:bb:d8   (ECDSA)\n",
      "ec2: 256 39:ed:31:a6:c0:4a:97:9b:22:92:98:31:e9:6b:ee:81   (ED25519)\n",
      "ec2: 2048 82:1f:a0:64:63:42:60:65:6d:47:6f:98:0e:be:5a:94   (RSA)\n",
      "ec2: -----END SSH HOST KEY FINGERPRINTS-----\n",
      "ec2: #############################################################\n",
      "---- END: i-0bf412a529d12xxxx\n",
      "\n",
      "\n"
     ]
    }
   ],
   "source": [
    "for iid, host, privip in host_list:\n",
    "    print('---- BEGIN: {}'.format(iid))\n",
    "    result = !aws ec2 get-console-output --instance-id {iid}\n",
    "    try:\n",
    "        print('\\n'.join([line\n",
    "                         for line in json.loads(''.join(result))['Output'].split('\\n')\n",
    "                         if line.startswith('ec2: ')]))\n",
    "    except KeyError:\n",
    "        print('No output')\n",
    "    print('---- END: {}\\n\\n'.format(iid))"
   ]
  },
  {
   "cell_type": "markdown",
   "metadata": {
    "lc_cell_meme": {
     "current": "4825f016-7519-11e7-a4c6-0242ac110002",
     "history": [
      {
       "current": "4825f016-7519-11e7-a4c6-0242ac110002",
       "next": "b9192da2-7518-11e7-a4c6-0242ac110002",
       "previous": "4825ebd4-7519-11e7-a4c6-0242ac110002"
      }
     ],
     "next": "56be769a-74ef-11e7-b116-0242ac110002",
     "previous": "b9192da2-7518-11e7-a4c6-0242ac110002"
    }
   },
   "source": [
    "上記のコマンドをJupyterのTerminalから実行すると、Host keyのFingerprintが表示されます。ここで表示されたFingerprintが、以下のセルの実行結果にあるSSH HOST KEY FINGERPRINTSと合致することを確認した上で、 *yes* を入力してください。\n",
    "\n",
    "SSHコマンドの出力例:\n",
    "\n",
    "```\n",
    "$ ssh 52.26.xxx.xxx\n",
    "The authenticity of host '52.26.xxx.xxx (52.26.xxx.xxx)' can't be established.\n",
    "ECDSA key fingerprint is 2e:da:4e:3c:a7:a3:79:bc:e0:93:35:4b:xx:xx:xx:xx.\n",
    "Are you sure you want to continue connecting (yes/no)?\n",
    "```"
   ]
  },
  {
   "cell_type": "markdown",
   "metadata": {
    "lc_cell_meme": {
     "current": "56be769a-74ef-11e7-b116-0242ac110002",
     "history": [
      {
       "current": "56be769a-74ef-11e7-b116-0242ac110002",
       "next": "56be816c-74ef-11e7-b116-0242ac110002",
       "previous": "0ab11de4-14ea-11e7-b31a-0242ac12000d"
      },
      {
       "current": "56be769a-74ef-11e7-b116-0242ac110002",
       "next": "56be816c-74ef-11e7-b116-0242ac110002",
       "previous": "b9192da2-7518-11e7-a4c6-0242ac110002"
      }
     ],
     "next": "56be816c-74ef-11e7-b116-0242ac110002",
     "previous": "4825f016-7519-11e7-a4c6-0242ac110002"
    }
   },
   "source": [
    "## セキュリティグループへのホスト情報の登録\n",
    "\n",
    "各インスタンスのPrivate IPアドレスを、セキュリティグループの許可リストに追加します。\n",
    "\n",
    "インスタンスごとに、9200番ポート（外部通信用）と9300番ポート（クラスタ内部通信用）の両方を許可します。"
   ]
  },
  {
   "cell_type": "code",
   "execution_count": 30,
   "metadata": {
    "collapsed": true,
    "lc_cell_meme": {
     "current": "56be816c-74ef-11e7-b116-0242ac110002",
     "next": "0ab128a2-14ea-11e7-b31a-0242ac12000d",
     "previous": "56be769a-74ef-11e7-b116-0242ac110002"
    }
   },
   "outputs": [],
   "source": [
    "for ip in [private_ip for iid, pubip, private_ip in host_list]:\n",
    "    !aws ec2 authorize-security-group-ingress --group-id {security_group_id} --protocol tcp --port 9200 --cidr {ip}/32\n",
    "    !aws ec2 authorize-security-group-ingress --group-id {security_group_id} --protocol tcp --port 9300 --cidr {ip}/32"
   ]
  },
  {
   "cell_type": "markdown",
   "metadata": {
    "lc_cell_meme": {
     "current": "0ab128a2-14ea-11e7-b31a-0242ac12000d",
     "history": [
      {
       "current": "0ab128a2-14ea-11e7-b31a-0242ac12000d",
       "next": "0ab12a78-14ea-11e7-b31a-0242ac12000d",
       "previous": "0ab126d6-14ea-11e7-b31a-0242ac12000d"
      },
      {
       "current": "0ab128a2-14ea-11e7-b31a-0242ac12000d",
       "next": "0ab12a78-14ea-11e7-b31a-0242ac12000d",
       "previous": "0ab11de4-14ea-11e7-b31a-0242ac12000d"
      }
     ],
     "next": "0ab12a78-14ea-11e7-b31a-0242ac12000d",
     "previous": "56be816c-74ef-11e7-b116-0242ac110002"
    }
   },
   "source": [
    "## Inventory作成用のインスタンスリストを作成\n",
    "ホストのパブリックDNS一覧をリスト化します  "
   ]
  },
  {
   "cell_type": "markdown",
   "metadata": {
    "lc_cell_meme": {
     "current": "0ab12a78-14ea-11e7-b31a-0242ac12000d",
     "next": "0ab12c3a-14ea-11e7-b31a-0242ac12000d",
     "previous": "0ab128a2-14ea-11e7-b31a-0242ac12000d"
    }
   },
   "source": [
    "次のブックの[Inventory作成](01_03_Set_Inventory.ipynb)で使用します。  \n",
    "出現した文字列をクリップボードにコピーしてください。"
   ]
  },
  {
   "cell_type": "code",
   "execution_count": 31,
   "metadata": {
    "lc_cell_meme": {
     "current": "0ab12c3a-14ea-11e7-b31a-0242ac12000d",
     "history": [
      {
       "current": "0ab12c3a-14ea-11e7-b31a-0242ac12000d",
       "next": null,
       "previous": "0ab12a78-14ea-11e7-b31a-0242ac12000d"
      },
      {
       "current": "0ab12c3a-14ea-11e7-b31a-0242ac12000d",
       "next": "e433df68-46b6-11e7-ae73-02420aff0008",
       "previous": "0ab12a78-14ea-11e7-b31a-0242ac12000d"
      }
     ],
     "next": "2201240e-74f2-11e7-b116-0242ac110002",
     "previous": "0ab12a78-14ea-11e7-b31a-0242ac12000d"
    }
   },
   "outputs": [
    {
     "name": "stdout",
     "output_type": "stream",
     "text": [
      "host_list = {'host1': (u'i-0bf412a529d12xxxx', u'34.213.xx.xx', u'10.30.xxx.xxx')}\n"
     ]
    }
   ],
   "source": [
    "print('host_list = {}'.format(repr(dict([('host{}'.format(i + 1), h) for i, h in enumerate(host_list)]))))"
   ]
  },
  {
   "cell_type": "code",
   "execution_count": null,
   "metadata": {
    "collapsed": true,
    "lc_cell_meme": {
     "current": "2201240e-74f2-11e7-b116-0242ac110002",
     "next": null,
     "previous": "0ab12c3a-14ea-11e7-b31a-0242ac12000d"
    }
   },
   "outputs": [],
   "source": []
  }
 ],
 "metadata": {
  "anaconda-cloud": {},
  "celltoolbar": "Raw Cell Format",
  "kernelspec": {
   "display_name": "Python 2 (LC_wrapper)",
   "language": "python",
   "name": "python2-wrapper"
  },
  "language_info": {
   "file_extension": ".py",
   "mimetype": "text/x-python",
   "name": "python",
   "nbconvert_exporter": "python",
   "pygments_lexer": "ipython2",
   "version": "2.7.9"
  },
  "lc_notebook_meme": {
   "current": "0ab0c164-14ea-11e7-b31a-0242ac12000d"
  },
  "toc": {
   "colors": {
    "hover_highlight": "#DAA520",
    "navigate_num": "#000000",
    "navigate_text": "#333333",
    "running_highlight": "#FF0000",
    "selected_highlight": "#FFD700",
    "sidebar_border": "#EEEEEE",
    "wrapper_background": "#FFFFFF"
   },
   "moveMenuLeft": true,
   "nav_menu": {
    "height": "30px",
    "width": "252px"
   },
   "navigate_menu": true,
   "number_sections": true,
   "sideBar": true,
   "skip_h1_title": false,
   "threshold": 4,
   "toc_cell": false,
   "toc_position": {
    "height": "835px",
    "left": "0px",
    "right": "1654.67px",
    "top": "106px",
    "width": "292px"
   },
   "toc_section_display": "block",
   "toc_window_display": true,
   "widenNotebook": false
  }
 },
 "nbformat": 4,
 "nbformat_minor": 2
}
