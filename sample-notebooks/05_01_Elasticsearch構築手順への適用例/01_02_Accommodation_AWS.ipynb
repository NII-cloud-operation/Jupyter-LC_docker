{
 "cells": [
  {
   "cell_type": "markdown",
   "metadata": {
    "lc_cell_meme": {
     "current": "0ab0c5c4-14ea-11e7-b31a-0242ac12000d-2-b5bb-86f5",
     "history": [
      {
       "current": "0ab0c5c4-14ea-11e7-b31a-0242ac12000d",
       "next": "0ab0c808-14ea-11e7-b31a-0242ac12000d",
       "previous": null
      },
      {
       "current": "0ab0c5c4-14ea-11e7-b31a-0242ac12000d",
       "next": "7d55a8be-4c13-11e7-8a6b-02420aff0006",
       "previous": null
      },
      {
       "current": "0ab0c5c4-14ea-11e7-b31a-0242ac12000d-1-b5bb",
       "next": "9afd9336-7517-11e7-a4c6-0242ac110002",
       "previous": null
      },
      {
       "current": "0ab0c5c4-14ea-11e7-b31a-0242ac12000d-2-b5bb-86f5",
       "next": "9afd9336-7517-11e7-a4c6-0242ac110002-1-63fb",
       "previous": null
      }
     ],
     "next": "9afd9336-7517-11e7-a4c6-0242ac110002-2-63fb-b985",
     "previous": null
    }
   },
   "source": [
    "# Elastic Stackの構築手順：収容（AWS）\n",
    "\n",
    "----\n",
    "\n",
    "Elasticsearchのインストール先となる Amazon&nbsp;EC2インスタンスを確保します。  \n"
   ]
  },
  {
   "cell_type": "markdown",
   "metadata": {
    "lc_cell_meme": {
     "current": "9afd9336-7517-11e7-a4c6-0242ac110002-2-63fb-b985",
     "history": [
      {
       "current": "9afd9336-7517-11e7-a4c6-0242ac110002-1-63fb",
       "next": "7d55a8be-4c13-11e7-8a6b-02420aff0006",
       "previous": "0ab0c5c4-14ea-11e7-b31a-0242ac12000d"
      },
      {
       "current": "9afd9336-7517-11e7-a4c6-0242ac110002-2-63fb-b985",
       "next": "7d55a8be-4c13-11e7-8a6b-02420aff0006-1-1886",
       "previous": "0ab0c5c4-14ea-11e7-b31a-0242ac12000d-1-b5bb"
      }
     ],
     "next": "7d55a8be-4c13-11e7-8a6b-02420aff0006-2-1886-bde4",
     "previous": "0ab0c5c4-14ea-11e7-b31a-0242ac12000d-2-b5bb-86f5"
    }
   },
   "source": [
    "## 事前条件の確認\n",
    "\n",
    "**事前に [01_01_Outline.ipynb#設定ファイルの出力](01_01_Outline.ipynb#設定ファイルの出力) を実行しておく必要があります。**\n"
   ]
  },
  {
   "cell_type": "code",
   "execution_count": null,
   "metadata": {
    "lc_cell_meme": {
     "current": "7d55a8be-4c13-11e7-8a6b-02420aff0006-2-1886-bde4",
     "history": [
      {
       "current": "7d55a8be-4c13-11e7-8a6b-02420aff0006",
       "next": "7d55aada-4c13-11e7-8a6b-02420aff0006",
       "previous": "0ab0c5c4-14ea-11e7-b31a-0242ac12000d"
      },
      {
       "current": "7d55a8be-4c13-11e7-8a6b-02420aff0006-1-1886",
       "next": "7d55aada-4c13-11e7-8a6b-02420aff0006",
       "previous": "9afd9336-7517-11e7-a4c6-0242ac110002"
      },
      {
       "current": "7d55a8be-4c13-11e7-8a6b-02420aff0006-2-1886-bde4",
       "next": "7d55aada-4c13-11e7-8a6b-02420aff0006-1-2ab0",
       "previous": "9afd9336-7517-11e7-a4c6-0242ac110002-1-63fb"
      }
     ],
     "next": "7d55aada-4c13-11e7-8a6b-02420aff0006-2-2ab0-3c21",
     "previous": "9afd9336-7517-11e7-a4c6-0242ac110002-2-63fb-b985"
    },
    "lc_wrapper": {
     "log_history": [
      "/home/john/notebooks/05_01_Elasticsearch構築手順への適用例/.log/20200729/20200729-014419-0241.log",
      "/home/john/notebooks/05_01_Elasticsearch構築手順への適用例/.log/20200729/20200729-043037-0791.log"
     ]
    }
   },
   "outputs": [],
   "source": [
    "import os\n",
    "assert os.path.exists('group_vars/all')"
   ]
  },
  {
   "cell_type": "markdown",
   "metadata": {
    "lc_cell_meme": {
     "current": "7d55aada-4c13-11e7-8a6b-02420aff0006-2-2ab0-3c21",
     "history": [
      {
       "current": "7d55aada-4c13-11e7-8a6b-02420aff0006",
       "next": "0ab0c808-14ea-11e7-b31a-0242ac12000d",
       "previous": "7d55a8be-4c13-11e7-8a6b-02420aff0006"
      },
      {
       "current": "7d55aada-4c13-11e7-8a6b-02420aff0006-1-2ab0",
       "next": "e283d4cc-7517-11e7-a4c6-0242ac110002",
       "previous": "7d55a8be-4c13-11e7-8a6b-02420aff0006"
      },
      {
       "current": "7d55aada-4c13-11e7-8a6b-02420aff0006-2-2ab0-3c21",
       "next": "e283d4cc-7517-11e7-a4c6-0242ac110002-1-83d1",
       "previous": "7d55a8be-4c13-11e7-8a6b-02420aff0006-1-1886"
      }
     ],
     "next": "e283d4cc-7517-11e7-a4c6-0242ac110002-2-83d1-2084",
     "previous": "7d55a8be-4c13-11e7-8a6b-02420aff0006-2-1886-bde4"
    }
   },
   "source": [
    "**上記がエラーになる場合は、[01_01_Outline.ipynb#設定ファイルの出力](01_01_Outline.ipynb#設定ファイルの出力)を実行してください。**"
   ]
  },
  {
   "cell_type": "markdown",
   "metadata": {
    "lc_cell_meme": {
     "current": "e283d4cc-7517-11e7-a4c6-0242ac110002-2-83d1-2084",
     "history": [
      {
       "current": "e283d4cc-7517-11e7-a4c6-0242ac110002",
       "next": "e283d922-7517-11e7-a4c6-0242ac110002",
       "previous": "7d55aada-4c13-11e7-8a6b-02420aff0006"
      },
      {
       "current": "e283d4cc-7517-11e7-a4c6-0242ac110002-1-83d1",
       "next": "2a0b4712-7518-11e7-a4c6-0242ac110002",
       "previous": "7d55aada-4c13-11e7-8a6b-02420aff0006"
      },
      {
       "current": "e283d4cc-7517-11e7-a4c6-0242ac110002-2-83d1-2084",
       "next": "2a0b4712-7518-11e7-a4c6-0242ac110002-1-909b",
       "previous": "7d55aada-4c13-11e7-8a6b-02420aff0006-1-2ab0"
      }
     ],
     "next": "2a0b4712-7518-11e7-a4c6-0242ac110002-2-909b-9c89",
     "previous": "7d55aada-4c13-11e7-8a6b-02420aff0006-2-2ab0-3c21"
    }
   },
   "source": [
    "> 以下はOperationHubのお試し環境から実施する場合は不要です。\n",
    "\n",
    "**事前にTerminalから、 `aws configure` を実施してください。**\n",
    "\n",
    "`aws configure` の実施例:\n",
    "\n",
    "```\n",
    "$ aws configure\n",
    "AWS Access Key ID [None]: (自身のアカウントのアクセスキー)\n",
    "AWS Secret Access Key [None]: (自身のアカウントのシークレットアクセスキー)\n",
    "Default region name [None]: ap-northeast-1 (使用したいリージョン)\n",
    "Default output format [None]: json\n",
    "```\n",
    "\n",
    "正しくアクセス情報が指定されているかどうかを、`describe-account-attributes`により確認します。**以下のコマンド実行がエラーとなる場合、`aws configure`が正しくなされていない可能性があります。**"
   ]
  },
  {
   "cell_type": "code",
   "execution_count": null,
   "metadata": {
    "lc_cell_meme": {
     "current": "2a0b4712-7518-11e7-a4c6-0242ac110002-2-909b-9c89",
     "history": [
      {
       "current": "2a0b4712-7518-11e7-a4c6-0242ac110002",
       "next": "0ab0c808-14ea-11e7-b31a-0242ac12000d",
       "previous": "e283d4cc-7517-11e7-a4c6-0242ac110002"
      },
      {
       "current": "2a0b4712-7518-11e7-a4c6-0242ac110002",
       "next": "6d377bd6-751e-11e7-a4c6-0242ac110002",
       "previous": "e283d4cc-7517-11e7-a4c6-0242ac110002"
      },
      {
       "current": "2a0b4712-7518-11e7-a4c6-0242ac110002-1-909b",
       "next": "0ab0c808-14ea-11e7-b31a-0242ac12000d",
       "previous": "e283d4cc-7517-11e7-a4c6-0242ac110002"
      },
      {
       "current": "2a0b4712-7518-11e7-a4c6-0242ac110002-2-909b-9c89",
       "next": "0ab0c808-14ea-11e7-b31a-0242ac12000d-1-0e1c",
       "previous": "e283d4cc-7517-11e7-a4c6-0242ac110002-1-83d1"
      }
     ],
     "next": "0ab0c808-14ea-11e7-b31a-0242ac12000d-2-0e1c-f9d3",
     "previous": "e283d4cc-7517-11e7-a4c6-0242ac110002-2-83d1-2084"
    },
    "lc_wrapper": {
     "log_history": [
      "/home/john/notebooks/05_01_Elasticsearch構築手順への適用例/.log/20200729/20200729-014419-0855.log",
      "/home/john/notebooks/05_01_Elasticsearch構築手順への適用例/.log/20200729/20200729-043037-0806.log"
     ]
    },
    "scrolled": true
   },
   "outputs": [],
   "source": [
    "!aws ec2 describe-account-attributes"
   ]
  },
  {
   "cell_type": "markdown",
   "metadata": {
    "lc_cell_meme": {
     "current": "0ab0c808-14ea-11e7-b31a-0242ac12000d-2-0e1c-f9d3",
     "history": [
      {
       "current": "0ab0c808-14ea-11e7-b31a-0242ac12000d",
       "next": "0ab0ca06-14ea-11e7-b31a-0242ac12000d",
       "previous": "0ab0c5c4-14ea-11e7-b31a-0242ac12000d"
      },
      {
       "current": "0ab0c808-14ea-11e7-b31a-0242ac12000d",
       "next": "0ab0ca06-14ea-11e7-b31a-0242ac12000d",
       "previous": "7d55aada-4c13-11e7-8a6b-02420aff0006"
      },
      {
       "current": "0ab0c808-14ea-11e7-b31a-0242ac12000d",
       "next": "0ab0ca06-14ea-11e7-b31a-0242ac12000d",
       "previous": "e283deb8-7517-11e7-a4c6-0242ac110002"
      },
      {
       "current": "0ab0c808-14ea-11e7-b31a-0242ac12000d",
       "next": "0ab0ca06-14ea-11e7-b31a-0242ac12000d",
       "previous": "2a0b4712-7518-11e7-a4c6-0242ac110002"
      },
      {
       "current": "0ab0c808-14ea-11e7-b31a-0242ac12000d",
       "next": "0ab0ca06-14ea-11e7-b31a-0242ac12000d",
       "previous": "6d377bd6-751e-11e7-a4c6-0242ac110002"
      },
      {
       "current": "0ab0c808-14ea-11e7-b31a-0242ac12000d-1-0e1c",
       "next": "0ab0ca06-14ea-11e7-b31a-0242ac12000d",
       "previous": "2a0b4712-7518-11e7-a4c6-0242ac110002"
      },
      {
       "current": "0ab0c808-14ea-11e7-b31a-0242ac12000d-2-0e1c-f9d3",
       "next": "0ab0ca06-14ea-11e7-b31a-0242ac12000d-1-88db",
       "previous": "2a0b4712-7518-11e7-a4c6-0242ac110002-1-909b"
      }
     ],
     "next": "0ab0ca06-14ea-11e7-b31a-0242ac12000d-2-88db-18ce",
     "previous": "2a0b4712-7518-11e7-a4c6-0242ac110002-2-909b-9c89"
    }
   },
   "source": [
    "## 設定\n",
    "インスタンスの生成に必要な情報を設定します。"
   ]
  },
  {
   "cell_type": "markdown",
   "metadata": {
    "lc_cell_meme": {
     "current": "0ab0ca06-14ea-11e7-b31a-0242ac12000d-2-88db-18ce",
     "history": [
      {
       "current": "0ab0ca06-14ea-11e7-b31a-0242ac12000d-1-88db",
       "next": "0ab0cbf0-14ea-11e7-b31a-0242ac12000d",
       "previous": "0ab0c808-14ea-11e7-b31a-0242ac12000d"
      },
      {
       "current": "0ab0ca06-14ea-11e7-b31a-0242ac12000d-2-88db-18ce",
       "next": "0ab0cbf0-14ea-11e7-b31a-0242ac12000d-1-2896",
       "previous": "0ab0c808-14ea-11e7-b31a-0242ac12000d-1-0e1c"
      }
     ],
     "next": "0ab0cbf0-14ea-11e7-b31a-0242ac12000d-2-2896-88d3",
     "previous": "0ab0c808-14ea-11e7-b31a-0242ac12000d-2-0e1c-f9d3"
    }
   },
   "source": [
    "マシンイメージを設定します。"
   ]
  },
  {
   "cell_type": "code",
   "execution_count": null,
   "metadata": {
    "lc_cell_meme": {
     "current": "0ab0cbf0-14ea-11e7-b31a-0242ac12000d-2-2896-88d3",
     "history": [
      {
       "current": "0ab0cbf0-14ea-11e7-b31a-0242ac12000d-1-2896",
       "next": "0ab0cde4-14ea-11e7-b31a-0242ac12000d",
       "previous": "0ab0ca06-14ea-11e7-b31a-0242ac12000d"
      },
      {
       "current": "0ab0cbf0-14ea-11e7-b31a-0242ac12000d-2-2896-88d3",
       "next": "0ab0cde4-14ea-11e7-b31a-0242ac12000d-1-8051",
       "previous": "0ab0ca06-14ea-11e7-b31a-0242ac12000d-1-88db"
      }
     ],
     "next": "0ab0cde4-14ea-11e7-b31a-0242ac12000d-2-8051-1bf7",
     "previous": "0ab0ca06-14ea-11e7-b31a-0242ac12000d-2-88db-18ce"
    },
    "lc_wrapper": {
     "log_history": [
      "/home/john/notebooks/05_01_Elasticsearch構築手順への適用例/.log/20200729/20200729-015151-0464.log",
      "/home/john/notebooks/05_01_Elasticsearch構築手順への適用例/.log/20200729/20200729-043039-0587.log"
     ]
    }
   },
   "outputs": [],
   "source": [
    "#CentOS 7 (x86_64) - with Updates HVM\n",
    "# ap-northeast-1 (アジアパシフィック東京リージョン) を使用する場合のAMI ID\n",
    "image_id = 'ami-eec1c380'\n",
    "\n",
    "# us-west-2 (オレゴン) を使用する場合\n",
    "#image_id = 'ami-f4533694'"
   ]
  },
  {
   "cell_type": "markdown",
   "metadata": {
    "lc_cell_meme": {
     "current": "0ab0cde4-14ea-11e7-b31a-0242ac12000d-2-8051-1bf7",
     "history": [
      {
       "current": "0ab0cde4-14ea-11e7-b31a-0242ac12000d",
       "next": "0ab0cfba-14ea-11e7-b31a-0242ac12000d",
       "previous": "0ab0cbf0-14ea-11e7-b31a-0242ac12000d"
      },
      {
       "current": "0ab0cde4-14ea-11e7-b31a-0242ac12000d",
       "next": "c4db6f0c-4c13-11e7-8a6b-02420aff0006",
       "previous": "0ab0cbf0-14ea-11e7-b31a-0242ac12000d"
      },
      {
       "current": "0ab0cde4-14ea-11e7-b31a-0242ac12000d-1-8051",
       "next": "0ab0cfba-14ea-11e7-b31a-0242ac12000d",
       "previous": "0ab0cbf0-14ea-11e7-b31a-0242ac12000d"
      },
      {
       "current": "0ab0cde4-14ea-11e7-b31a-0242ac12000d-2-8051-1bf7",
       "next": "0ab0cfba-14ea-11e7-b31a-0242ac12000d-1-7f12",
       "previous": "0ab0cbf0-14ea-11e7-b31a-0242ac12000d-1-2896"
      }
     ],
     "next": "0ab0cfba-14ea-11e7-b31a-0242ac12000d-2-7f12-0471",
     "previous": "0ab0cbf0-14ea-11e7-b31a-0242ac12000d-2-2896-88d3"
    }
   },
   "source": [
    "インスタンスタイプとインスタンス数を設定します。  \n",
    "[Amazon EC2 インスタンス](https://aws.amazon.com/jp/ec2/instance-types/)のページから適切なタイプを選択してください。\n",
    "\n",
    "例えば64GBのメモリを利用するのであれば **m4.4xlarge** が選択候補となります。  \n",
    "利用したいサイズに応じてタイプを選んで下さい。"
   ]
  },
  {
   "cell_type": "code",
   "execution_count": null,
   "metadata": {
    "lc_cell_meme": {
     "current": "0ab0cfba-14ea-11e7-b31a-0242ac12000d-2-7f12-0471",
     "history": [
      {
       "current": "0ab0cfba-14ea-11e7-b31a-0242ac12000d",
       "next": "0ab0d190-14ea-11e7-b31a-0242ac12000d",
       "previous": "0ab0cde4-14ea-11e7-b31a-0242ac12000d"
      },
      {
       "current": "0ab0cfba-14ea-11e7-b31a-0242ac12000d",
       "next": "c4db6f0c-4c13-11e7-8a6b-02420aff0006",
       "previous": "0ab0cde4-14ea-11e7-b31a-0242ac12000d"
      },
      {
       "current": "0ab0cfba-14ea-11e7-b31a-0242ac12000d",
       "next": "0ab0d366-14ea-11e7-b31a-0242ac12000d",
       "previous": "c4db6f0c-4c13-11e7-8a6b-02420aff0006"
      },
      {
       "current": "0ab0cfba-14ea-11e7-b31a-0242ac12000d",
       "next": "0ab0d712-14ea-11e7-b31a-0242ac12000d",
       "previous": "0ab0cde4-14ea-11e7-b31a-0242ac12000d"
      },
      {
       "current": "0ab0cfba-14ea-11e7-b31a-0242ac12000d-1-7f12",
       "next": "0ab0d8d4-14ea-11e7-b31a-0242ac12000d",
       "previous": "0ab0cde4-14ea-11e7-b31a-0242ac12000d"
      },
      {
       "current": "0ab0cfba-14ea-11e7-b31a-0242ac12000d-2-7f12-0471",
       "next": "0ab0d8d4-14ea-11e7-b31a-0242ac12000d-1-4e95",
       "previous": "0ab0cde4-14ea-11e7-b31a-0242ac12000d-1-8051"
      }
     ],
     "next": "0ab0d8d4-14ea-11e7-b31a-0242ac12000d-2-4e95-1f0f",
     "previous": "0ab0cde4-14ea-11e7-b31a-0242ac12000d-2-8051-1bf7"
    },
    "lc_wrapper": {
     "log_history": [
      "/home/john/notebooks/05_01_Elasticsearch構築手順への適用例/.log/20200729/20200729-015151-0476.log",
      "/home/john/notebooks/05_01_Elasticsearch構築手順への適用例/.log/20200729/20200729-043039-0602.log"
     ]
    }
   },
   "outputs": [],
   "source": [
    "instance_type = 'm4.4xlarge'\n",
    "instance_count = 1"
   ]
  },
  {
   "cell_type": "markdown",
   "metadata": {
    "lc_cell_meme": {
     "current": "0ab0d8d4-14ea-11e7-b31a-0242ac12000d-2-4e95-1f0f",
     "history": [
      {
       "current": "0ab0d8d4-14ea-11e7-b31a-0242ac12000d",
       "next": "0ab0dab4-14ea-11e7-b31a-0242ac12000d",
       "previous": "0ab0d712-14ea-11e7-b31a-0242ac12000d"
      },
      {
       "current": "0ab0d8d4-14ea-11e7-b31a-0242ac12000d-1-4e95",
       "next": "0ab0dab4-14ea-11e7-b31a-0242ac12000d",
       "previous": "0ab0cfba-14ea-11e7-b31a-0242ac12000d"
      },
      {
       "current": "0ab0d8d4-14ea-11e7-b31a-0242ac12000d-2-4e95-1f0f",
       "next": "0ab0dab4-14ea-11e7-b31a-0242ac12000d-1-59ef",
       "previous": "0ab0cfba-14ea-11e7-b31a-0242ac12000d-1-7f12"
      }
     ],
     "next": "0ab0dab4-14ea-11e7-b31a-0242ac12000d-2-59ef-cdc9",
     "previous": "0ab0cfba-14ea-11e7-b31a-0242ac12000d-2-7f12-0471"
    }
   },
   "source": [
    "データ蓄積ディスクとなる[EBS](http://docs.aws.amazon.com/ja_jp/AWSEC2/latest/UserGuide/AmazonEBS.html)の[ブロックデバイスマッピング](http://docs.aws.amazon.com/ja_jp/AWSEC2/latest/UserGuide/block-device-mapping-concepts.html)設定を行います。  \n",
    "`VolumeSize`、`VolumeType`を設定します。  \n",
    "`DeleteOnTermination`にtrueを設定すると、インスタンス破棄時にEBSが削除されます。  \n"
   ]
  },
  {
   "cell_type": "code",
   "execution_count": null,
   "metadata": {
    "lc_cell_meme": {
     "current": "0ab0dab4-14ea-11e7-b31a-0242ac12000d-2-59ef-cdc9",
     "history": [
      {
       "current": "0ab0dab4-14ea-11e7-b31a-0242ac12000d",
       "next": "0ab0dc80-14ea-11e7-b31a-0242ac12000d",
       "previous": "0ab0d8d4-14ea-11e7-b31a-0242ac12000d"
      },
      {
       "current": "0ab0dab4-14ea-11e7-b31a-0242ac12000d",
       "next": "0ab0e022-14ea-11e7-b31a-0242ac12000d",
       "previous": "0ab0d8d4-14ea-11e7-b31a-0242ac12000d"
      },
      {
       "current": "0ab0dab4-14ea-11e7-b31a-0242ac12000d-1-59ef",
       "next": "0ab0e3ba-14ea-11e7-b31a-0242ac12000d",
       "previous": "0ab0d8d4-14ea-11e7-b31a-0242ac12000d"
      },
      {
       "current": "0ab0dab4-14ea-11e7-b31a-0242ac12000d-2-59ef-cdc9",
       "next": "0ab0e3ba-14ea-11e7-b31a-0242ac12000d-1-d2ca",
       "previous": "0ab0d8d4-14ea-11e7-b31a-0242ac12000d-1-4e95"
      }
     ],
     "next": "0ab0e3ba-14ea-11e7-b31a-0242ac12000d-2-d2ca-9876",
     "previous": "0ab0d8d4-14ea-11e7-b31a-0242ac12000d-2-4e95-1f0f"
    },
    "lc_wrapper": {
     "log_history": [
      "/home/john/notebooks/05_01_Elasticsearch構築手順への適用例/.log/20200729/20200729-015151-0491.log",
      "/home/john/notebooks/05_01_Elasticsearch構築手順への適用例/.log/20200729/20200729-043039-0616.log"
     ]
    }
   },
   "outputs": [],
   "source": [
    "block_device_mappings = {\n",
    "    \"DeviceName\": \"/dev/sda1\",\n",
    "    \"Ebs\": {\n",
    "      \"VolumeSize\": 1024,\n",
    "      \"VolumeType\": \"gp2\",\n",
    "      \"DeleteOnTermination\": \"true\",\n",
    "    }\n",
    "}"
   ]
  },
  {
   "cell_type": "markdown",
   "metadata": {
    "lc_cell_meme": {
     "current": "0ab0e3ba-14ea-11e7-b31a-0242ac12000d-2-d2ca-9876",
     "history": [
      {
       "current": "0ab0e3ba-14ea-11e7-b31a-0242ac12000d",
       "next": "0ab0e6f8-14ea-11e7-b31a-0242ac12000d",
       "previous": "0ab0e1ee-14ea-11e7-b31a-0242ac12000d"
      },
      {
       "current": "0ab0e3ba-14ea-11e7-b31a-0242ac12000d",
       "next": "0ab0e6f8-14ea-11e7-b31a-0242ac12000d",
       "previous": "0ab0dab4-14ea-11e7-b31a-0242ac12000d"
      },
      {
       "current": "0ab0e3ba-14ea-11e7-b31a-0242ac12000d",
       "next": "5d431a24-74e1-11e7-b116-0242ac110002",
       "previous": "0ab0dab4-14ea-11e7-b31a-0242ac12000d"
      },
      {
       "current": "0ab0e3ba-14ea-11e7-b31a-0242ac12000d-1-d2ca",
       "next": "9978fc82-74e3-11e7-b116-0242ac110002",
       "previous": "0ab0dab4-14ea-11e7-b31a-0242ac12000d"
      },
      {
       "current": "0ab0e3ba-14ea-11e7-b31a-0242ac12000d-2-d2ca-9876",
       "next": "9978fc82-74e3-11e7-b116-0242ac110002-1-1350",
       "previous": "0ab0dab4-14ea-11e7-b31a-0242ac12000d-1-59ef"
      }
     ],
     "next": "9978fc82-74e3-11e7-b116-0242ac110002-2-1350-cab6",
     "previous": "0ab0dab4-14ea-11e7-b31a-0242ac12000d-2-59ef-cdc9"
    }
   },
   "source": [
    "### Keypairの準備\n",
    "\n",
    "使用するキーペア名を設定します。"
   ]
  },
  {
   "cell_type": "code",
   "execution_count": null,
   "metadata": {
    "lc_cell_meme": {
     "current": "9978fc82-74e3-11e7-b116-0242ac110002-2-1350-cab6",
     "history": [
      {
       "current": "9978fc82-74e3-11e7-b116-0242ac110002-1-1350",
       "next": "5d431a24-74e1-11e7-b116-0242ac110002",
       "previous": "0ab0e3ba-14ea-11e7-b31a-0242ac12000d"
      },
      {
       "current": "9978fc82-74e3-11e7-b116-0242ac110002-2-1350-cab6",
       "next": "5d431a24-74e1-11e7-b116-0242ac110002-1-5f07",
       "previous": "0ab0e3ba-14ea-11e7-b31a-0242ac12000d-1-d2ca"
      }
     ],
     "next": "5d431a24-74e1-11e7-b116-0242ac110002-2-5f07-643c",
     "previous": "0ab0e3ba-14ea-11e7-b31a-0242ac12000d-2-d2ca-9876"
    },
    "lc_wrapper": {
     "log_history": [
      "/home/john/notebooks/05_01_Elasticsearch構築手順への適用例/.log/20200729/20200729-015151-0504.log",
      "/home/john/notebooks/05_01_Elasticsearch構築手順への適用例/.log/20200729/20200729-043039-0633.log"
     ]
    }
   },
   "outputs": [],
   "source": [
    "hostname = !hostname\n",
    "keypair_name = 'es-jupyter-{}'.format(hostname[0])\n",
    "keypair_name"
   ]
  },
  {
   "cell_type": "code",
   "execution_count": null,
   "metadata": {
    "lc_cell_meme": {
     "current": "5d431a24-74e1-11e7-b116-0242ac110002-2-5f07-643c",
     "history": [
      {
       "current": "5d431a24-74e1-11e7-b116-0242ac110002",
       "next": "0ab0e6f8-14ea-11e7-b31a-0242ac12000d",
       "previous": "0ab0e3ba-14ea-11e7-b31a-0242ac12000d"
      },
      {
       "current": "5d431a24-74e1-11e7-b116-0242ac110002",
       "next": "33d892ee-74e2-11e7-b116-0242ac110002",
       "previous": "0ab0e3ba-14ea-11e7-b31a-0242ac12000d"
      },
      {
       "current": "5d431a24-74e1-11e7-b116-0242ac110002-1-5f07",
       "next": "33d892ee-74e2-11e7-b116-0242ac110002",
       "previous": "9978fc82-74e3-11e7-b116-0242ac110002"
      },
      {
       "current": "5d431a24-74e1-11e7-b116-0242ac110002-2-5f07-643c",
       "next": "33d892ee-74e2-11e7-b116-0242ac110002-1-2154",
       "previous": "9978fc82-74e3-11e7-b116-0242ac110002-1-1350"
      }
     ],
     "next": "33d892ee-74e2-11e7-b116-0242ac110002-2-2154-cef7",
     "previous": "9978fc82-74e3-11e7-b116-0242ac110002-2-1350-cab6"
    },
    "lc_wrapper": {
     "log_history": [
      "/home/john/notebooks/05_01_Elasticsearch構築手順への適用例/.log/20200729/20200729-015151-0528.log",
      "/home/john/notebooks/05_01_Elasticsearch構築手順への適用例/.log/20200729/20200729-043039-0664.log"
     ]
    }
   },
   "outputs": [],
   "source": [
    "import os\n",
    "ssh_keypath = os.path.expanduser('~/.ssh')\n",
    "if not os.path.exists(os.path.join(ssh_keypath, 'ansible_id_rsa')):\n",
    "    !ssh-keygen -t rsa -b 2048 -C ansible -f {ssh_keypath}/ansible_id_rsa -P ''\n",
    "!cat {ssh_keypath}/ansible_id_rsa.pub"
   ]
  },
  {
   "cell_type": "code",
   "execution_count": null,
   "metadata": {
    "lc_cell_meme": {
     "current": "33d892ee-74e2-11e7-b116-0242ac110002-2-2154-cef7",
     "history": [
      {
       "current": "33d892ee-74e2-11e7-b116-0242ac110002",
       "next": "0ab0e6f8-14ea-11e7-b31a-0242ac12000d",
       "previous": "5d431a24-74e1-11e7-b116-0242ac110002"
      },
      {
       "current": "33d892ee-74e2-11e7-b116-0242ac110002",
       "next": "28879dde-74e4-11e7-b116-0242ac110002",
       "previous": "5d431a24-74e1-11e7-b116-0242ac110002"
      },
      {
       "current": "33d892ee-74e2-11e7-b116-0242ac110002-1-2154",
       "next": "700e0738-74e4-11e7-b116-0242ac110002",
       "previous": "5d431a24-74e1-11e7-b116-0242ac110002"
      },
      {
       "current": "33d892ee-74e2-11e7-b116-0242ac110002-2-2154-cef7",
       "next": "700e0738-74e4-11e7-b116-0242ac110002-1-afb4",
       "previous": "5d431a24-74e1-11e7-b116-0242ac110002-1-5f07"
      }
     ],
     "next": "700e0738-74e4-11e7-b116-0242ac110002-2-afb4-4a7d",
     "previous": "5d431a24-74e1-11e7-b116-0242ac110002-2-5f07-643c"
    },
    "lc_wrapper": {
     "log_history": [
      "/home/john/notebooks/05_01_Elasticsearch構築手順への適用例/.log/20200729/20200729-015153-0720.log",
      "/home/john/notebooks/05_01_Elasticsearch構築手順への適用例/.log/20200729/20200729-043041-0809.log"
     ]
    }
   },
   "outputs": [],
   "source": [
    "import json\n",
    "result = !aws ec2 describe-key-pairs\n",
    "keypairs = json.loads('\\n'.join(result))['KeyPairs']\n",
    "keypairs"
   ]
  },
  {
   "cell_type": "markdown",
   "metadata": {
    "lc_cell_meme": {
     "current": "700e0738-74e4-11e7-b116-0242ac110002-2-afb4-4a7d",
     "history": [
      {
       "current": "700e0738-74e4-11e7-b116-0242ac110002-1-afb4",
       "next": "28879dde-74e4-11e7-b116-0242ac110002",
       "previous": "33d892ee-74e2-11e7-b116-0242ac110002"
      },
      {
       "current": "700e0738-74e4-11e7-b116-0242ac110002-2-afb4-4a7d",
       "next": "28879dde-74e4-11e7-b116-0242ac110002-1-42d9",
       "previous": "33d892ee-74e2-11e7-b116-0242ac110002-1-2154"
      }
     ],
     "next": "28879dde-74e4-11e7-b116-0242ac110002-2-42d9-b0e1",
     "previous": "33d892ee-74e2-11e7-b116-0242ac110002-2-2154-cef7"
    }
   },
   "source": [
    "既存キーペアを削除しておく。"
   ]
  },
  {
   "cell_type": "code",
   "execution_count": null,
   "metadata": {
    "lc_cell_meme": {
     "current": "28879dde-74e4-11e7-b116-0242ac110002-2-42d9-b0e1",
     "history": [
      {
       "current": "28879dde-74e4-11e7-b116-0242ac110002",
       "next": "0ab0e6f8-14ea-11e7-b31a-0242ac12000d",
       "previous": "33d892ee-74e2-11e7-b116-0242ac110002"
      },
      {
       "current": "28879dde-74e4-11e7-b116-0242ac110002-1-42d9",
       "next": "0ab0e6f8-14ea-11e7-b31a-0242ac12000d",
       "previous": "700e0738-74e4-11e7-b116-0242ac110002"
      },
      {
       "current": "28879dde-74e4-11e7-b116-0242ac110002-2-42d9-b0e1",
       "next": "0ab0e6f8-14ea-11e7-b31a-0242ac12000d-1-8dec",
       "previous": "700e0738-74e4-11e7-b116-0242ac110002-1-afb4"
      }
     ],
     "next": "0ab0e6f8-14ea-11e7-b31a-0242ac12000d-2-8dec-95fa",
     "previous": "700e0738-74e4-11e7-b116-0242ac110002-2-afb4-4a7d"
    },
    "lc_wrapper": {
     "log_history": [
      "/home/john/notebooks/05_01_Elasticsearch構築手順への適用例/.log/20200729/20200729-015154-0432.log",
      "/home/john/notebooks/05_01_Elasticsearch構築手順への適用例/.log/20200729/20200729-043042-0560.log"
     ]
    }
   },
   "outputs": [],
   "source": [
    "if keypair_name in [k['KeyName'] for k in keypairs]:\n",
    "    !aws ec2 delete-key-pair --key-name {keypair_name}"
   ]
  },
  {
   "cell_type": "code",
   "execution_count": null,
   "metadata": {
    "lc_cell_meme": {
     "current": "0ab0e6f8-14ea-11e7-b31a-0242ac12000d-2-8dec-95fa",
     "history": [
      {
       "current": "0ab0e6f8-14ea-11e7-b31a-0242ac12000d",
       "next": "0ab0e946-14ea-11e7-b31a-0242ac12000d",
       "previous": "0ab0e3ba-14ea-11e7-b31a-0242ac12000d"
      },
      {
       "current": "0ab0e6f8-14ea-11e7-b31a-0242ac12000d",
       "next": "0ab0fd32-14ea-11e7-b31a-0242ac12000d",
       "previous": "0ab0e3ba-14ea-11e7-b31a-0242ac12000d"
      },
      {
       "current": "0ab0e6f8-14ea-11e7-b31a-0242ac12000d",
       "next": "53ea6252-4c14-11e7-8a6b-02420aff0006",
       "previous": "0ab0e3ba-14ea-11e7-b31a-0242ac12000d"
      },
      {
       "current": "0ab0e6f8-14ea-11e7-b31a-0242ac12000d",
       "next": "53ea6252-4c14-11e7-8a6b-02420aff0006",
       "previous": "5d431a24-74e1-11e7-b116-0242ac110002"
      },
      {
       "current": "0ab0e6f8-14ea-11e7-b31a-0242ac12000d",
       "next": "53ea6252-4c14-11e7-8a6b-02420aff0006",
       "previous": "33d892ee-74e2-11e7-b116-0242ac110002"
      },
      {
       "current": "0ab0e6f8-14ea-11e7-b31a-0242ac12000d",
       "next": "53ea6252-4c14-11e7-8a6b-02420aff0006",
       "previous": "28879dde-74e4-11e7-b116-0242ac110002"
      },
      {
       "current": "0ab0e6f8-14ea-11e7-b31a-0242ac12000d-1-8dec",
       "next": "64fe7858-74e6-11e7-b116-0242ac110002",
       "previous": "28879dde-74e4-11e7-b116-0242ac110002"
      },
      {
       "current": "0ab0e6f8-14ea-11e7-b31a-0242ac12000d-2-8dec-95fa",
       "next": "64fe7858-74e6-11e7-b116-0242ac110002-1-dbaf",
       "previous": "28879dde-74e4-11e7-b116-0242ac110002-1-42d9"
      }
     ],
     "next": "64fe7858-74e6-11e7-b116-0242ac110002-2-dbaf-8007",
     "previous": "28879dde-74e4-11e7-b116-0242ac110002-2-42d9-b0e1"
    },
    "lc_wrapper": {
     "log_history": [
      "/home/john/notebooks/05_01_Elasticsearch構築手順への適用例/.log/20200729/20200729-015154-0445.log",
      "/home/john/notebooks/05_01_Elasticsearch構築手順への適用例/.log/20200729/20200729-043042-0577.log"
     ]
    }
   },
   "outputs": [],
   "source": [
    "!aws ec2 import-key-pair --key-name {keypair_name} --public-key-material file://{ssh_keypath}/ansible_id_rsa.pub"
   ]
  },
  {
   "cell_type": "markdown",
   "metadata": {
    "lc_cell_meme": {
     "current": "64fe7858-74e6-11e7-b116-0242ac110002-2-dbaf-8007",
     "history": [
      {
       "current": "64fe7858-74e6-11e7-b116-0242ac110002",
       "next": "9b6dded8-4c14-11e7-8a6b-02420aff0006",
       "previous": "0ab0e1ee-14ea-11e7-b31a-0242ac12000d"
      },
      {
       "current": "64fe7858-74e6-11e7-b116-0242ac110002",
       "next": "0ab0f616-14ea-11e7-b31a-0242ac12000d",
       "previous": "0ab0e1ee-14ea-11e7-b31a-0242ac12000d"
      },
      {
       "current": "64fe7858-74e6-11e7-b116-0242ac110002",
       "next": "0ab0f616-14ea-11e7-b31a-0242ac12000d",
       "previous": "0ab0e6f8-14ea-11e7-b31a-0242ac12000d"
      },
      {
       "current": "64fe7858-74e6-11e7-b116-0242ac110002-1-dbaf",
       "next": "30379f9e-7501-11e7-b116-0242ac110002",
       "previous": "0ab0e6f8-14ea-11e7-b31a-0242ac12000d"
      },
      {
       "current": "64fe7858-74e6-11e7-b116-0242ac110002-2-dbaf-8007",
       "next": "4ab3710e-d13d-11ea-9188-0242ac120004",
       "previous": "0ab0e6f8-14ea-11e7-b31a-0242ac12000d-1-8dec"
      }
     ],
     "next": "4ab3710e-d13d-11ea-9188-0242ac120004-1-44e3",
     "previous": "0ab0e6f8-14ea-11e7-b31a-0242ac12000d-2-8dec-95fa"
    }
   },
   "source": [
    "### VPCの準備\n",
    "\n",
    "Elasticsearch構築Notebookは、VPCに仮想マシンを確保します。"
   ]
  },
  {
   "cell_type": "markdown",
   "metadata": {
    "lc_cell_meme": {
     "current": "4ab3710e-d13d-11ea-9188-0242ac120004-1-44e3",
     "history": [
      {
       "current": "4ab3710e-d13d-11ea-9188-0242ac120004-1-44e3",
       "next": "0ab0f616-14ea-11e7-b31a-0242ac12000d-1-7380",
       "previous": "64fe7858-74e6-11e7-b116-0242ac110002-1-dbaf"
      }
     ],
     "next": "0ab0f616-14ea-11e7-b31a-0242ac12000d-2-7380-b26f",
     "previous": "64fe7858-74e6-11e7-b116-0242ac110002-2-dbaf-8007"
    }
   },
   "source": [
    "> 以下はOperationHubのお試し環境から実施する場合を想定し、CloudFormationの出力ファイルからVPC, Subnetを決定しています。"
   ]
  },
  {
   "cell_type": "code",
   "execution_count": null,
   "metadata": {
    "lc_cell_meme": {
     "current": "0ab0f616-14ea-11e7-b31a-0242ac12000d-2-7380-b26f",
     "history": [
      {
       "current": "0ab0f616-14ea-11e7-b31a-0242ac12000d",
       "next": "0ab0f7e2-14ea-11e7-b31a-0242ac12000d",
       "previous": "0ab0f418-14ea-11e7-b31a-0242ac12000d"
      },
      {
       "current": "0ab0f616-14ea-11e7-b31a-0242ac12000d",
       "next": "0ab0fd32-14ea-11e7-b31a-0242ac12000d",
       "previous": "0ab0eebe-14ea-11e7-b31a-0242ac12000d"
      },
      {
       "current": "0ab0f616-14ea-11e7-b31a-0242ac12000d",
       "next": "0ab0ff08-14ea-11e7-b31a-0242ac12000d",
       "previous": "0ab100d4-14ea-11e7-b31a-0242ac12000d"
      },
      {
       "current": "0ab0f616-14ea-11e7-b31a-0242ac12000d",
       "next": "ac851b3c-74e6-11e7-b116-0242ac110002",
       "previous": "64fe7858-74e6-11e7-b116-0242ac110002"
      },
      {
       "current": "0ab0f616-14ea-11e7-b31a-0242ac12000d-1-7380",
       "next": "ac851b3c-74e6-11e7-b116-0242ac110002",
       "previous": "30379f9e-7501-11e7-b116-0242ac110002"
      },
      {
       "current": "0ab0f616-14ea-11e7-b31a-0242ac12000d-2-7380-b26f",
       "next": "9b6dded8-4c14-11e7-8a6b-02420aff0006-1-3ad6",
       "previous": "4ab3710e-d13d-11ea-9188-0242ac120004"
      }
     ],
     "next": "9b6dded8-4c14-11e7-8a6b-02420aff0006-2-3ad6-09be",
     "previous": "4ab3710e-d13d-11ea-9188-0242ac120004-1-44e3"
    },
    "lc_wrapper": {
     "log_history": [
      "/home/john/notebooks/05_01_Elasticsearch構築手順への適用例/.log/20200729/20200729-014733-0894.log",
      "/home/john/notebooks/05_01_Elasticsearch構築手順への適用例/.log/20200729/20200729-014828-0019.log",
      "/home/john/notebooks/05_01_Elasticsearch構築手順への適用例/.log/20200729/20200729-043044-0352.log"
     ]
    }
   },
   "outputs": [],
   "source": [
    "import json\n",
    "with open(os.path.expanduser('~/cloudformation-stack.json'), 'r') as f:\n",
    "    cf_stack = json.load(f)\n",
    "\n",
    "vpc_id = [c['OutputValue'] for c in cf_stack if c['OutputKey'] == 'OpHubVPC'][0]\n",
    "subnet_id = [c['OutputValue'] for c in cf_stack if c['OutputKey'] == 'OpHubSubnet'][0]\n",
    "(vpc_id, subnet_id)"
   ]
  },
  {
   "cell_type": "markdown",
   "metadata": {
    "lc_cell_meme": {
     "current": "9b6dded8-4c14-11e7-8a6b-02420aff0006-2-3ad6-09be",
     "history": [
      {
       "current": "9b6dded8-4c14-11e7-8a6b-02420aff0006",
       "next": "0ab100d4-14ea-11e7-b31a-0242ac12000d",
       "previous": "0ab0e1ee-14ea-11e7-b31a-0242ac12000d"
      },
      {
       "current": "9b6dded8-4c14-11e7-8a6b-02420aff0006",
       "next": "0ab100d4-14ea-11e7-b31a-0242ac12000d",
       "previous": "64fe7858-74e6-11e7-b116-0242ac110002"
      },
      {
       "current": "9b6dded8-4c14-11e7-8a6b-02420aff0006",
       "next": "0ab100d4-14ea-11e7-b31a-0242ac12000d",
       "previous": "ac851b3c-74e6-11e7-b116-0242ac110002"
      },
      {
       "current": "9b6dded8-4c14-11e7-8a6b-02420aff0006",
       "next": "0ab100d4-14ea-11e7-b31a-0242ac12000d",
       "previous": "f40b1182-74e6-11e7-b116-0242ac110002"
      },
      {
       "current": "9b6dded8-4c14-11e7-8a6b-02420aff0006",
       "next": "0ab100d4-14ea-11e7-b31a-0242ac12000d",
       "previous": "3b91d61c-74e7-11e7-b116-0242ac110002"
      },
      {
       "current": "9b6dded8-4c14-11e7-8a6b-02420aff0006",
       "next": "0ab100d4-14ea-11e7-b31a-0242ac12000d",
       "previous": "f40b1182-74e6-11e7-b116-0242ac110002"
      },
      {
       "current": "9b6dded8-4c14-11e7-8a6b-02420aff0006",
       "next": "0ab100d4-14ea-11e7-b31a-0242ac12000d",
       "previous": "401b2c72-74f3-11e7-b116-0242ac110002"
      },
      {
       "current": "9b6dded8-4c14-11e7-8a6b-02420aff0006",
       "next": "0ab100d4-14ea-11e7-b31a-0242ac12000d",
       "previous": "f40b1182-74e6-11e7-b116-0242ac110002"
      },
      {
       "current": "9b6dded8-4c14-11e7-8a6b-02420aff0006-1-3ad6",
       "next": "77be1b86-7501-11e7-b116-0242ac110002",
       "previous": "f40b1182-74e6-11e7-b116-0242ac110002"
      },
      {
       "current": "9b6dded8-4c14-11e7-8a6b-02420aff0006-1-3ad6",
       "next": "77be1b86-7501-11e7-b116-0242ac110002-1-41d5",
       "previous": "0ab0f616-14ea-11e7-b31a-0242ac12000d-1-7380"
      },
      {
       "current": "9b6dded8-4c14-11e7-8a6b-02420aff0006-2-3ad6-09be",
       "next": "d9c1f744-d13d-11ea-9188-0242ac120004",
       "previous": "0ab0f616-14ea-11e7-b31a-0242ac12000d-1-7380"
      }
     ],
     "next": "d9c1f744-d13d-11ea-9188-0242ac120004-1-a81e",
     "previous": "0ab0f616-14ea-11e7-b31a-0242ac12000d-2-7380-b26f"
    }
   },
   "source": [
    "### Security Groupの準備\n",
    "\n",
    "Security GroupもVPC同様に準備します。"
   ]
  },
  {
   "cell_type": "markdown",
   "metadata": {
    "lc_cell_meme": {
     "current": "d9c1f744-d13d-11ea-9188-0242ac120004-1-a81e",
     "execution_end_time": "2020-07-29T01:49:05.550859Z",
     "history": [
      {
       "current": "d9c1f744-d13d-11ea-9188-0242ac120004-1-a81e",
       "next": "77be1b86-7501-11e7-b116-0242ac110002-1-41d5",
       "previous": "9b6dded8-4c14-11e7-8a6b-02420aff0006-1-3ad6"
      }
     ],
     "next": "77be1b86-7501-11e7-b116-0242ac110002-2-41d5-f896",
     "previous": "9b6dded8-4c14-11e7-8a6b-02420aff0006-2-3ad6-09be"
    },
    "lc_wrapper": {
     "log_history": [
      "/home/john/notebooks/05_01_Elasticsearch構築手順への適用例/.log/20200729/20200729-014905-0543.log"
     ]
    }
   },
   "source": [
    "> 以下はOperationHubのお試し環境から実施する場合を想定しています。OperationHubとは異なるSecurity Groupを作成します。"
   ]
  },
  {
   "cell_type": "markdown",
   "metadata": {
    "lc_cell_meme": {
     "current": "77be1b86-7501-11e7-b116-0242ac110002-2-41d5-f896",
     "history": [
      {
       "current": "77be1b86-7501-11e7-b116-0242ac110002-1-41d5",
       "next": "0ab100d4-14ea-11e7-b31a-0242ac12000d",
       "previous": "9b6dded8-4c14-11e7-8a6b-02420aff0006"
      },
      {
       "current": "77be1b86-7501-11e7-b116-0242ac110002-1-41d5",
       "next": "0ab100d4-14ea-11e7-b31a-0242ac12000d-1-ceeb",
       "previous": "9b6dded8-4c14-11e7-8a6b-02420aff0006-1-3ad6"
      },
      {
       "current": "77be1b86-7501-11e7-b116-0242ac110002-2-41d5-f896",
       "next": "0ab100d4-14ea-11e7-b31a-0242ac12000d-1-ceeb",
       "previous": "d9c1f744-d13d-11ea-9188-0242ac120004"
      }
     ],
     "next": "0ab100d4-14ea-11e7-b31a-0242ac12000d-2-ceeb-6595",
     "previous": "d9c1f744-d13d-11ea-9188-0242ac120004-1-a81e"
    }
   },
   "source": [
    "すでに作成してあるSecurity Groupを使用する場合は、以下にIDを設定してください。"
   ]
  },
  {
   "cell_type": "code",
   "execution_count": null,
   "metadata": {
    "lc_cell_meme": {
     "current": "0ab100d4-14ea-11e7-b31a-0242ac12000d-2-ceeb-6595",
     "history": [
      {
       "current": "0ab100d4-14ea-11e7-b31a-0242ac12000d",
       "next": "0ab102a0-14ea-11e7-b31a-0242ac12000d",
       "previous": "0ab0ff08-14ea-11e7-b31a-0242ac12000d"
      },
      {
       "current": "0ab100d4-14ea-11e7-b31a-0242ac12000d",
       "next": "0ab0eb1c-14ea-11e7-b31a-0242ac12000d",
       "previous": "0ab0fd32-14ea-11e7-b31a-0242ac12000d"
      },
      {
       "current": "0ab100d4-14ea-11e7-b31a-0242ac12000d",
       "next": "0ab0e946-14ea-11e7-b31a-0242ac12000d",
       "previous": "0ab0fd32-14ea-11e7-b31a-0242ac12000d"
      },
      {
       "current": "0ab100d4-14ea-11e7-b31a-0242ac12000d",
       "next": "0ab0e946-14ea-11e7-b31a-0242ac12000d",
       "previous": "0ab0e1ee-14ea-11e7-b31a-0242ac12000d"
      },
      {
       "current": "0ab100d4-14ea-11e7-b31a-0242ac12000d",
       "next": "0ab0f616-14ea-11e7-b31a-0242ac12000d",
       "previous": "9b6dded8-4c14-11e7-8a6b-02420aff0006"
      },
      {
       "current": "0ab100d4-14ea-11e7-b31a-0242ac12000d",
       "next": "0ab0ff08-14ea-11e7-b31a-0242ac12000d",
       "previous": "9b6dded8-4c14-11e7-8a6b-02420aff0006"
      },
      {
       "current": "0ab100d4-14ea-11e7-b31a-0242ac12000d-1-ceeb",
       "next": "77be1fa0-7501-11e7-b116-0242ac110002",
       "previous": "77be1b86-7501-11e7-b116-0242ac110002"
      },
      {
       "current": "0ab100d4-14ea-11e7-b31a-0242ac12000d-2-ceeb-6595",
       "next": "77be1fa0-7501-11e7-b116-0242ac110002-1-5b3d",
       "previous": "77be1b86-7501-11e7-b116-0242ac110002-1-41d5"
      }
     ],
     "next": "77be1fa0-7501-11e7-b116-0242ac110002-2-5b3d-e07e",
     "previous": "77be1b86-7501-11e7-b116-0242ac110002-2-41d5-f896"
    },
    "lc_wrapper": {
     "log_history": [
      "/home/john/notebooks/05_01_Elasticsearch構築手順への適用例/.log/20200729/20200729-014913-0475.log",
      "/home/john/notebooks/05_01_Elasticsearch構築手順への適用例/.log/20200729/20200729-043044-0370.log"
     ]
    }
   },
   "outputs": [],
   "source": [
    "#security_group_id = 'sg-xxxxxxxx'"
   ]
  },
  {
   "cell_type": "markdown",
   "metadata": {
    "lc_cell_meme": {
     "current": "77be1fa0-7501-11e7-b116-0242ac110002-2-5b3d-e07e",
     "history": [
      {
       "current": "77be1fa0-7501-11e7-b116-0242ac110002-1-5b3d",
       "next": "0ab0ff08-14ea-11e7-b31a-0242ac12000d",
       "previous": "0ab100d4-14ea-11e7-b31a-0242ac12000d"
      },
      {
       "current": "77be1fa0-7501-11e7-b116-0242ac110002-2-5b3d-e07e",
       "next": "0ab0ff08-14ea-11e7-b31a-0242ac12000d-1-d6e3",
       "previous": "0ab100d4-14ea-11e7-b31a-0242ac12000d-1-ceeb"
      }
     ],
     "next": "0ab0ff08-14ea-11e7-b31a-0242ac12000d-2-d6e3-1705",
     "previous": "0ab100d4-14ea-11e7-b31a-0242ac12000d-2-ceeb-6595"
    }
   },
   "source": [
    "VPC同様、IDが設定されていない場合は、Security Groupを生成します。自身のIPアドレス(範囲)を正しく設定してください。"
   ]
  },
  {
   "cell_type": "code",
   "execution_count": null,
   "metadata": {
    "lc_cell_meme": {
     "current": "0ab0ff08-14ea-11e7-b31a-0242ac12000d-2-d6e3-1705",
     "history": [
      {
       "current": "0ab0ff08-14ea-11e7-b31a-0242ac12000d",
       "next": "0ab100d4-14ea-11e7-b31a-0242ac12000d",
       "previous": "0ab0fd32-14ea-11e7-b31a-0242ac12000d"
      },
      {
       "current": "0ab0ff08-14ea-11e7-b31a-0242ac12000d",
       "next": "0ab102a0-14ea-11e7-b31a-0242ac12000d",
       "previous": "0ab0fd32-14ea-11e7-b31a-0242ac12000d"
      },
      {
       "current": "0ab0ff08-14ea-11e7-b31a-0242ac12000d",
       "next": "0ab102a0-14ea-11e7-b31a-0242ac12000d",
       "previous": "0ab0f616-14ea-11e7-b31a-0242ac12000d"
      },
      {
       "current": "0ab0ff08-14ea-11e7-b31a-0242ac12000d",
       "next": "0ab102a0-14ea-11e7-b31a-0242ac12000d",
       "previous": "0ab100d4-14ea-11e7-b31a-0242ac12000d"
      },
      {
       "current": "0ab0ff08-14ea-11e7-b31a-0242ac12000d",
       "next": "430b53e6-74ec-11e7-b116-0242ac110002",
       "previous": "0ab100d4-14ea-11e7-b31a-0242ac12000d"
      },
      {
       "current": "0ab0ff08-14ea-11e7-b31a-0242ac12000d",
       "next": "8a91fd6e-74ec-11e7-b116-0242ac110002",
       "previous": "0ab100d4-14ea-11e7-b31a-0242ac12000d"
      },
      {
       "current": "0ab0ff08-14ea-11e7-b31a-0242ac12000d",
       "next": "0ab102a0-14ea-11e7-b31a-0242ac12000d",
       "previous": "0ab100d4-14ea-11e7-b31a-0242ac12000d"
      },
      {
       "current": "0ab0ff08-14ea-11e7-b31a-0242ac12000d-1-d6e3",
       "next": "0ab102a0-14ea-11e7-b31a-0242ac12000d",
       "previous": "77be1fa0-7501-11e7-b116-0242ac110002"
      },
      {
       "current": "0ab0ff08-14ea-11e7-b31a-0242ac12000d-2-d6e3-1705",
       "next": "0ab102a0-14ea-11e7-b31a-0242ac12000d-1-86a9",
       "previous": "77be1fa0-7501-11e7-b116-0242ac110002-1-5b3d"
      }
     ],
     "next": "0ab102a0-14ea-11e7-b31a-0242ac12000d-2-86a9-1380",
     "previous": "77be1fa0-7501-11e7-b116-0242ac110002-2-5b3d-e07e"
    },
    "lc_wrapper": {
     "log_history": [
      "/home/john/notebooks/05_01_Elasticsearch構築手順への適用例/.log/20200729/20200729-015104-0551.log",
      "/home/john/notebooks/05_01_Elasticsearch構築手順への適用例/.log/20200729/20200729-043044-0385.log"
     ]
    }
   },
   "outputs": [],
   "source": [
    "if 'security_group_id' not in locals():\n",
    "    # このJupyter Notebook Serverが動作している環境からのアクセスのみを許可\n",
    "    my_sg = [c['OutputValue'] for c in cf_stack if c['OutputKey'] == 'OpHubSecurityGroup'][0]\n",
    "\n",
    "    result = !aws ec2 describe-security-groups\n",
    "    sgs = json.loads(''.join(result))['SecurityGroups']\n",
    "    tagged_sgs = [dict([(t['Key'], t['Value']) for t in sg['Tags']] + \\\n",
    "                       [('GroupId', sg['GroupId']), ('VpcId', sg['VpcId'])])\n",
    "                   for sg in sgs if 'Tags' in sg and 'VpcId' in sg]\n",
    "    target_sgs = [sg for sg in tagged_sgs if 'Name' in sg and sg['Name'] == 'es-jupyter' and sg['VpcId'] == vpc_id]\n",
    "    if len(target_sgs) == 0:\n",
    "        result = !aws ec2 create-security-group --group-name es-jupyter --description es-jupyter --vpc-id {vpc_id}\n",
    "        new_sg_id = json.loads(''.join(result))['GroupId']\n",
    "        print('Security Group created: {}'.format(new_sg_id))\n",
    "        !aws ec2 create-tags --resources {new_sg_id} --tags Key=Name,Value=es-jupyter\n",
    "        # SSH\n",
    "        !aws ec2 authorize-security-group-ingress --group-id {new_sg_id} --source-group {my_sg} --protocol tcp --port 22\n",
    "        # ICMP\n",
    "        !aws ec2 authorize-security-group-ingress --group-id {new_sg_id} --source-group {my_sg} --protocol icmp --port -1\n",
    "        # Elasticsearch\n",
    "        !aws ec2 authorize-security-group-ingress --group-id {new_sg_id} --source-group {my_sg} --protocol tcp --port 9200\n",
    "        !aws ec2 authorize-security-group-ingress --group-id {new_sg_id} --source-group {new_sg_id} --protocol all\n",
    "        security_group_id = new_sg_id\n",
    "    else:\n",
    "        existing_sg_id = target_sgs[0]['GroupId']\n",
    "        print('Security Group found: {}'.format(existing_sg_id))\n",
    "        security_group_id = existing_sg_id\n",
    "security_group_id"
   ]
  },
  {
   "cell_type": "markdown",
   "metadata": {
    "lc_cell_meme": {
     "current": "0ab102a0-14ea-11e7-b31a-0242ac12000d-2-86a9-1380",
     "history": [
      {
       "current": "0ab102a0-14ea-11e7-b31a-0242ac12000d",
       "next": "0ab10462-14ea-11e7-b31a-0242ac12000d",
       "previous": "0ab100d4-14ea-11e7-b31a-0242ac12000d"
      },
      {
       "current": "0ab102a0-14ea-11e7-b31a-0242ac12000d",
       "next": "0ab10462-14ea-11e7-b31a-0242ac12000d",
       "previous": "0ab0ff08-14ea-11e7-b31a-0242ac12000d"
      },
      {
       "current": "0ab102a0-14ea-11e7-b31a-0242ac12000d",
       "next": "0ab10bc4-14ea-11e7-b31a-0242ac12000d",
       "previous": "0ab0ff08-14ea-11e7-b31a-0242ac12000d"
      },
      {
       "current": "0ab102a0-14ea-11e7-b31a-0242ac12000d",
       "next": "0ab10bc4-14ea-11e7-b31a-0242ac12000d",
       "previous": "430b53e6-74ec-11e7-b116-0242ac110002"
      },
      {
       "current": "0ab102a0-14ea-11e7-b31a-0242ac12000d",
       "next": "0ab10bc4-14ea-11e7-b31a-0242ac12000d",
       "previous": "8a91fd6e-74ec-11e7-b116-0242ac110002"
      },
      {
       "current": "0ab102a0-14ea-11e7-b31a-0242ac12000d-1-86a9",
       "next": "0ab10bc4-14ea-11e7-b31a-0242ac12000d",
       "previous": "0ab0ff08-14ea-11e7-b31a-0242ac12000d"
      },
      {
       "current": "0ab102a0-14ea-11e7-b31a-0242ac12000d-2-86a9-1380",
       "next": "0ab10bc4-14ea-11e7-b31a-0242ac12000d-1-8da2",
       "previous": "0ab0ff08-14ea-11e7-b31a-0242ac12000d-1-d6e3"
      }
     ],
     "next": "0ab10bc4-14ea-11e7-b31a-0242ac12000d-2-8da2-86c6",
     "previous": "0ab0ff08-14ea-11e7-b31a-0242ac12000d-2-d6e3-1705"
    }
   },
   "source": [
    "## EC2インスタンスの起動・設定\n",
    "\n",
    "サーバ構成に応じたEC2インスタンスを起動し、各種設定を実施します。\n"
   ]
  },
  {
   "cell_type": "markdown",
   "metadata": {
    "lc_cell_meme": {
     "current": "0ab10bc4-14ea-11e7-b31a-0242ac12000d-2-8da2-86c6",
     "history": [
      {
       "current": "0ab10bc4-14ea-11e7-b31a-0242ac12000d",
       "next": "0ab10d90-14ea-11e7-b31a-0242ac12000d",
       "previous": "0ab10a02-14ea-11e7-b31a-0242ac12000d"
      },
      {
       "current": "0ab10bc4-14ea-11e7-b31a-0242ac12000d",
       "next": "0ab10d90-14ea-11e7-b31a-0242ac12000d",
       "previous": "0ab102a0-14ea-11e7-b31a-0242ac12000d"
      },
      {
       "current": "0ab10bc4-14ea-11e7-b31a-0242ac12000d",
       "next": "969ea3bc-473a-11e7-9f7c-02420aff0008",
       "previous": "0ab102a0-14ea-11e7-b31a-0242ac12000d"
      },
      {
       "current": "0ab10bc4-14ea-11e7-b31a-0242ac12000d-1-8da2",
       "next": "95d9a350-7502-11e7-b116-0242ac110002",
       "previous": "0ab102a0-14ea-11e7-b31a-0242ac12000d"
      },
      {
       "current": "0ab10bc4-14ea-11e7-b31a-0242ac12000d-2-8da2-86c6",
       "next": "95d9a350-7502-11e7-b116-0242ac110002-1-b5b2",
       "previous": "0ab102a0-14ea-11e7-b31a-0242ac12000d-1-86a9"
      }
     ],
     "next": "95d9a350-7502-11e7-b116-0242ac110002-2-b5b2-b304",
     "previous": "0ab102a0-14ea-11e7-b31a-0242ac12000d-2-86a9-1380"
    }
   },
   "source": [
    "### インスタンスの起動\n",
    "\n",
    "ここまでで設定した定義を用いてインスタンスを生成します。"
   ]
  },
  {
   "cell_type": "markdown",
   "metadata": {
    "lc_cell_meme": {
     "current": "95d9a350-7502-11e7-b116-0242ac110002-2-b5b2-b304",
     "history": [
      {
       "current": "95d9a350-7502-11e7-b116-0242ac110002-1-b5b2",
       "next": "0ab10d90-14ea-11e7-b31a-0242ac12000d",
       "previous": "0ab10bc4-14ea-11e7-b31a-0242ac12000d"
      },
      {
       "current": "95d9a350-7502-11e7-b116-0242ac110002-2-b5b2-b304",
       "next": "0ab10d90-14ea-11e7-b31a-0242ac12000d-1-1140",
       "previous": "0ab10bc4-14ea-11e7-b31a-0242ac12000d-1-8da2"
      }
     ],
     "next": "0ab10d90-14ea-11e7-b31a-0242ac12000d-2-1140-e5c6",
     "previous": "0ab10bc4-14ea-11e7-b31a-0242ac12000d-2-8da2-86c6"
    }
   },
   "source": [
    "以下では、AWSに対してインスタンス起動要求を発行しています。\n",
    "\n",
    "> Elasticsearchの試用が終わったら、AWSコンソールからインスタンスを削除するようにしてください。\n",
    "\n",
    "> **初めてこのNotebookを使ってインスタンスを起動する際**に、CentOSのAMIイメージの利用条件確認を求めるエラーメッセージが表示される場合があります。エラーメッセージ中にAMI MarketplaceのURLが表示されますので、利用条件を確認の上Acceptしてから再度実行してください。"
   ]
  },
  {
   "cell_type": "code",
   "execution_count": null,
   "metadata": {
    "lc_cell_meme": {
     "current": "0ab10d90-14ea-11e7-b31a-0242ac12000d-2-1140-e5c6",
     "history": [
      {
       "current": "0ab10d90-14ea-11e7-b31a-0242ac12000d",
       "next": "0ab10f5c-14ea-11e7-b31a-0242ac12000d",
       "previous": "0ab10bc4-14ea-11e7-b31a-0242ac12000d"
      },
      {
       "current": "0ab10d90-14ea-11e7-b31a-0242ac12000d",
       "next": "0ab10f5c-14ea-11e7-b31a-0242ac12000d",
       "previous": "969ea3bc-473a-11e7-9f7c-02420aff0008"
      },
      {
       "current": "0ab10d90-14ea-11e7-b31a-0242ac12000d",
       "next": "29732f76-4747-11e7-9f7c-02420aff0008",
       "previous": "969ea3bc-473a-11e7-9f7c-02420aff0008"
      },
      {
       "current": "0ab10d90-14ea-11e7-b31a-0242ac12000d",
       "next": "b39ada56-474b-11e7-9f7c-02420aff0008",
       "previous": "969ea3bc-473a-11e7-9f7c-02420aff0008"
      },
      {
       "current": "0ab10d90-14ea-11e7-b31a-0242ac12000d",
       "next": "29732f76-4747-11e7-9f7c-02420aff0008",
       "previous": "969ea3bc-473a-11e7-9f7c-02420aff0008"
      },
      {
       "current": "0ab10d90-14ea-11e7-b31a-0242ac12000d",
       "next": "29732f76-4747-11e7-9f7c-02420aff0008",
       "previous": "5ad2f446-4a91-11e7-b091-02420aff0006"
      },
      {
       "current": "0ab10d90-14ea-11e7-b31a-0242ac12000d",
       "next": "f0331d00-74ed-11e7-b116-0242ac110002",
       "previous": "5ad2f446-4a91-11e7-b091-02420aff0006"
      },
      {
       "current": "0ab10d90-14ea-11e7-b31a-0242ac12000d",
       "next": "ec8137f4-74ee-11e7-b116-0242ac110002",
       "previous": "5ad2f446-4a91-11e7-b091-02420aff0006"
      },
      {
       "current": "0ab10d90-14ea-11e7-b31a-0242ac12000d-1-1140",
       "next": "ec8137f4-74ee-11e7-b116-0242ac110002",
       "previous": "95d9a350-7502-11e7-b116-0242ac110002"
      },
      {
       "current": "0ab10d90-14ea-11e7-b31a-0242ac12000d-2-1140-e5c6",
       "next": "ec8137f4-74ee-11e7-b116-0242ac110002-1-cc02",
       "previous": "95d9a350-7502-11e7-b116-0242ac110002-1-b5b2"
      }
     ],
     "next": "ec8137f4-74ee-11e7-b116-0242ac110002-2-cc02-b167",
     "previous": "95d9a350-7502-11e7-b116-0242ac110002-2-b5b2-b304"
    },
    "lc_wrapper": {
     "log_history": [
      "/home/john/notebooks/05_01_Elasticsearch構築手順への適用例/.log/20200729/20200729-015156-0217.log",
      "/home/john/notebooks/05_01_Elasticsearch構築手順への適用例/.log/20200729/20200729-043055-0432.log"
     ]
    },
    "scrolled": true
   },
   "outputs": [],
   "source": [
    "%run scripts/get-json-repr.py\n",
    "\n",
    "result = !aws ec2 run-instances --image-id {image_id} \\\n",
    "                                --count {instance_count} \\\n",
    "                                --instance-type {instance_type} \\\n",
    "                                --key-name {keypair_name} \\\n",
    "                                --block-device-mappings '{get_block_device_mappings_repr(block_device_mappings)}' \\\n",
    "                                --security-group-ids {security_group_id} \\\n",
    "                                --subnet-id {subnet_id}\n",
    "try:\n",
    "    instances = json.loads('\\n'.join(result))['Instances']\n",
    "except ValueError:\n",
    "    raise ValueError('\\n'.join(result))\n",
    "instances"
   ]
  },
  {
   "cell_type": "markdown",
   "metadata": {
    "lc_cell_meme": {
     "current": "ec8137f4-74ee-11e7-b116-0242ac110002-2-cc02-b167",
     "history": [
      {
       "current": "ec8137f4-74ee-11e7-b116-0242ac110002",
       "next": "f0331f58-74ed-11e7-b116-0242ac110002",
       "previous": "f0331d00-74ed-11e7-b116-0242ac110002"
      },
      {
       "current": "ec8137f4-74ee-11e7-b116-0242ac110002-1-cc02",
       "next": "f0331f58-74ed-11e7-b116-0242ac110002",
       "previous": "0ab10d90-14ea-11e7-b31a-0242ac12000d"
      },
      {
       "current": "ec8137f4-74ee-11e7-b116-0242ac110002-2-cc02-b167",
       "next": "f0331f58-74ed-11e7-b116-0242ac110002-1-b82f",
       "previous": "0ab10d90-14ea-11e7-b31a-0242ac12000d-1-1140"
      }
     ],
     "next": "f0331f58-74ed-11e7-b116-0242ac110002-2-b82f-56ee",
     "previous": "0ab10d90-14ea-11e7-b31a-0242ac12000d-2-1140-e5c6"
    }
   },
   "source": [
    "\n",
    "生成したインスタンスIDを確認します。"
   ]
  },
  {
   "cell_type": "code",
   "execution_count": null,
   "metadata": {
    "lc_cell_meme": {
     "current": "f0331f58-74ed-11e7-b116-0242ac110002-2-b82f-56ee",
     "history": [
      {
       "current": "f0331f58-74ed-11e7-b116-0242ac110002",
       "next": "29732f76-4747-11e7-9f7c-02420aff0008",
       "previous": "f0331d00-74ed-11e7-b116-0242ac110002"
      },
      {
       "current": "f0331f58-74ed-11e7-b116-0242ac110002-1-b82f",
       "next": "29732f76-4747-11e7-9f7c-02420aff0008",
       "previous": "ec8137f4-74ee-11e7-b116-0242ac110002"
      },
      {
       "current": "f0331f58-74ed-11e7-b116-0242ac110002-2-b82f-56ee",
       "next": "29732f76-4747-11e7-9f7c-02420aff0008-1-e11a",
       "previous": "ec8137f4-74ee-11e7-b116-0242ac110002-1-cc02"
      }
     ],
     "next": "29732f76-4747-11e7-9f7c-02420aff0008-2-e11a-c619",
     "previous": "ec8137f4-74ee-11e7-b116-0242ac110002-2-cc02-b167"
    },
    "lc_wrapper": {
     "log_history": [
      "/home/john/notebooks/05_01_Elasticsearch構築手順への適用例/.log/20200729/20200729-015200-0832.log",
      "/home/john/notebooks/05_01_Elasticsearch構築手順への適用例/.log/20200729/20200729-015214-0528.log",
      "/home/john/notebooks/05_01_Elasticsearch構築手順への適用例/.log/20200729/20200729-043100-0073.log"
     ]
    }
   },
   "outputs": [],
   "source": [
    "id_list = map(lambda i: i['InstanceId'], instances)\n",
    "id_list_text = ' '.join(id_list)\n",
    "id_list"
   ]
  },
  {
   "cell_type": "markdown",
   "metadata": {
    "lc_cell_meme": {
     "current": "29732f76-4747-11e7-9f7c-02420aff0008-2-e11a-c619",
     "history": [
      {
       "current": "29732f76-4747-11e7-9f7c-02420aff0008",
       "next": "0ab10f5c-14ea-11e7-b31a-0242ac12000d",
       "previous": "0ab10d90-14ea-11e7-b31a-0242ac12000d"
      },
      {
       "current": "29732f76-4747-11e7-9f7c-02420aff0008",
       "next": "70fa054a-4747-11e7-9f7c-02420aff0008",
       "previous": "0ab10d90-14ea-11e7-b31a-0242ac12000d"
      },
      {
       "current": "29732f76-4747-11e7-9f7c-02420aff0008",
       "next": "70fa054a-4747-11e7-9f7c-02420aff0008",
       "previous": "b39ada56-474b-11e7-9f7c-02420aff0008"
      },
      {
       "current": "29732f76-4747-11e7-9f7c-02420aff0008",
       "next": "70fa054a-4747-11e7-9f7c-02420aff0008",
       "previous": "0ab10d90-14ea-11e7-b31a-0242ac12000d"
      },
      {
       "current": "29732f76-4747-11e7-9f7c-02420aff0008",
       "next": "70fa054a-4747-11e7-9f7c-02420aff0008",
       "previous": "f0331f58-74ed-11e7-b116-0242ac110002"
      },
      {
       "current": "29732f76-4747-11e7-9f7c-02420aff0008-1-e11a",
       "next": "0ab114b6-14ea-11e7-b31a-0242ac12000d",
       "previous": "f0331f58-74ed-11e7-b116-0242ac110002"
      },
      {
       "current": "29732f76-4747-11e7-9f7c-02420aff0008-2-e11a-c619",
       "next": "0ab114b6-14ea-11e7-b31a-0242ac12000d-1-558d",
       "previous": "f0331f58-74ed-11e7-b116-0242ac110002-1-b82f"
      }
     ],
     "next": "0ab114b6-14ea-11e7-b31a-0242ac12000d-2-558d-c356",
     "previous": "f0331f58-74ed-11e7-b116-0242ac110002-2-b82f-56ee"
    }
   },
   "source": [
    "\n",
    "インスタンスの状態が running になるまで待ちます。"
   ]
  },
  {
   "cell_type": "code",
   "execution_count": null,
   "metadata": {
    "lc_cell_meme": {
     "current": "0ab114b6-14ea-11e7-b31a-0242ac12000d-2-558d-c356",
     "history": [
      {
       "current": "0ab114b6-14ea-11e7-b31a-0242ac12000d",
       "next": "0ab11682-14ea-11e7-b31a-0242ac12000d",
       "previous": "0ab112f4-14ea-11e7-b31a-0242ac12000d"
      },
      {
       "current": "0ab114b6-14ea-11e7-b31a-0242ac12000d",
       "next": "0ab1184e-14ea-11e7-b31a-0242ac12000d",
       "previous": "0ab112f4-14ea-11e7-b31a-0242ac12000d"
      },
      {
       "current": "0ab114b6-14ea-11e7-b31a-0242ac12000d",
       "next": "0ab11a10-14ea-11e7-b31a-0242ac12000d",
       "previous": "0ab112f4-14ea-11e7-b31a-0242ac12000d"
      },
      {
       "current": "0ab114b6-14ea-11e7-b31a-0242ac12000d",
       "next": "0ab11a10-14ea-11e7-b31a-0242ac12000d",
       "previous": "29732f76-4747-11e7-9f7c-02420aff0008"
      },
      {
       "current": "0ab114b6-14ea-11e7-b31a-0242ac12000d",
       "next": "0f367476-74ef-11e7-b116-0242ac110002",
       "previous": "29732f76-4747-11e7-9f7c-02420aff0008"
      },
      {
       "current": "0ab114b6-14ea-11e7-b31a-0242ac12000d-1-558d",
       "next": "56be6272-74ef-11e7-b116-0242ac110002",
       "previous": "29732f76-4747-11e7-9f7c-02420aff0008"
      },
      {
       "current": "0ab114b6-14ea-11e7-b31a-0242ac12000d-2-558d-c356",
       "next": "56be6272-74ef-11e7-b116-0242ac110002-1-5cb5",
       "previous": "29732f76-4747-11e7-9f7c-02420aff0008-1-e11a"
      }
     ],
     "next": "56be6272-74ef-11e7-b116-0242ac110002-2-5cb5-5004",
     "previous": "29732f76-4747-11e7-9f7c-02420aff0008-2-e11a-c619"
    },
    "lc_wrapper": {
     "log_history": [
      "/home/john/notebooks/05_01_Elasticsearch構築手順への適用例/.log/20200729/20200729-015214-0542.log",
      "/home/john/notebooks/05_01_Elasticsearch構築手順への適用例/.log/20200729/20200729-043100-0087.log",
      "/home/john/notebooks/05_01_Elasticsearch構築手順への適用例/.log/20200729/20200729-043220-0674.log"
     ]
    },
    "scrolled": true
   },
   "outputs": [],
   "source": [
    "from functools import reduce\n",
    "import time\n",
    "\n",
    "retries = 10\n",
    "while retries > 0:\n",
    "    # インスタンス情報を取得\n",
    "    desc_instances_stdout = !aws ec2 describe-instances --instance-ids $id_list_text\n",
    "    try:\n",
    "        json.loads('\\n'.join(desc_instances_stdout))\n",
    "    except:\n",
    "        print('\\n'.join(desc_instances_stdout))\n",
    "    \n",
    "    # JSON化し、インスタンスのリストとして取り出す\n",
    "    desc_instances = json.loads('\\n'.join(desc_instances_stdout))\n",
    "    target_instances = reduce(lambda x, y: x + y, map(lambda r: r['Instances'], desc_instances['Reservations']))\n",
    "    # IDと状態を出力\n",
    "    status_text = '\\n'.join(map(lambda i : '{0} : {1}'.format(i['InstanceId'], i['State']['Name']), target_instances))\n",
    "    print(status_text)\n",
    "    # runningになっていないものがまだあれば、スリープして最初に戻る。全てrunningなら終了。\n",
    "    not_running_num = len(list(filter(lambda i : i['State']['Name'] != 'running', target_instances)))\n",
    "    if not_running_num == 0:\n",
    "        break\n",
    "    print('Not running : {0}'.format(not_running_num))\n",
    "    time.sleep(5)\n",
    "    print('------')\n",
    "    retries -= 1\n",
    "\n",
    "for i in target_instances:\n",
    "    assert i['State']['Name'] == 'running'\n",
    "host_list = [(i['InstanceId'], i['PrivateIpAddress'], i['PrivateIpAddress']) for i in target_instances]\n",
    "host_list"
   ]
  },
  {
   "cell_type": "markdown",
   "metadata": {
    "lc_cell_meme": {
     "current": "56be6272-74ef-11e7-b116-0242ac110002-2-5cb5-5004",
     "history": [
      {
       "current": "56be6272-74ef-11e7-b116-0242ac110002-1-5cb5",
       "next": "56be6f2e-74ef-11e7-b116-0242ac110002",
       "previous": "0ab114b6-14ea-11e7-b31a-0242ac12000d"
      },
      {
       "current": "56be6272-74ef-11e7-b116-0242ac110002-2-5cb5-5004",
       "next": "56be6f2e-74ef-11e7-b116-0242ac110002-1-ae4d",
       "previous": "0ab114b6-14ea-11e7-b31a-0242ac12000d-1-558d"
      }
     ],
     "next": "56be6f2e-74ef-11e7-b116-0242ac110002-2-ae4d-2201",
     "previous": "0ab114b6-14ea-11e7-b31a-0242ac12000d-2-558d-c356"
    }
   },
   "source": [
    "### タグの設定\n",
    "\n",
    "タグのNameキーに名称を設定します。"
   ]
  },
  {
   "cell_type": "code",
   "execution_count": null,
   "metadata": {
    "lc_cell_meme": {
     "current": "56be6f2e-74ef-11e7-b116-0242ac110002-2-ae4d-2201",
     "history": [
      {
       "current": "56be6f2e-74ef-11e7-b116-0242ac110002-1-ae4d",
       "next": "0f367476-74ef-11e7-b116-0242ac110002",
       "previous": "56be6272-74ef-11e7-b116-0242ac110002"
      },
      {
       "current": "56be6f2e-74ef-11e7-b116-0242ac110002-1-ae4d",
       "next": "0f367476-74ef-11e7-b116-0242ac110002-1-3e01",
       "previous": "56be6272-74ef-11e7-b116-0242ac110002-1-5cb5"
      },
      {
       "current": "56be6f2e-74ef-11e7-b116-0242ac110002-2-ae4d-2201",
       "next": "0ab11a10-14ea-11e7-b31a-0242ac12000d-1-05f7",
       "previous": "56be6272-74ef-11e7-b116-0242ac110002-1-5cb5"
      },
      {
       "current": "56be6f2e-74ef-11e7-b116-0242ac110002-2-ae4d-2201",
       "next": "0ab11a10-14ea-11e7-b31a-0242ac12000d-2-05f7-2315",
       "previous": "56be6272-74ef-11e7-b116-0242ac110002-2-5cb5-5004"
      }
     ],
     "next": "0f367476-74ef-11e7-b116-0242ac110002-1-d313",
     "previous": "56be6272-74ef-11e7-b116-0242ac110002-2-5cb5-5004"
    },
    "lc_wrapper": {
     "log_history": [
      "/home/john/notebooks/05_01_Elasticsearch構築手順への適用例/.log/20200729/20200729-015215-0317.log",
      "/home/john/notebooks/05_01_Elasticsearch構築手順への適用例/.log/20200729/20200729-043225-0522.log"
     ]
    }
   },
   "outputs": [],
   "source": [
    "!aws ec2 create-tags --resources {id_list_text} --tags Key=Name,Value=es-jupyter"
   ]
  },
  {
   "cell_type": "markdown",
   "metadata": {
    "lc_cell_meme": {
     "current": "0f367476-74ef-11e7-b116-0242ac110002-1-d313",
     "history": [
      {
       "current": "0f367476-74ef-11e7-b116-0242ac110002",
       "next": "0ab11a10-14ea-11e7-b31a-0242ac12000d",
       "previous": "0ab114b6-14ea-11e7-b31a-0242ac12000d"
      },
      {
       "current": "0f367476-74ef-11e7-b116-0242ac110002",
       "next": "0ab11a10-14ea-11e7-b31a-0242ac12000d",
       "previous": "56be6f2e-74ef-11e7-b116-0242ac110002"
      },
      {
       "current": "0f367476-74ef-11e7-b116-0242ac110002-1-d313",
       "next": "9e44c028-74ef-11e7-b116-0242ac110002",
       "previous": "56be6f2e-74ef-11e7-b116-0242ac110002"
      }
     ],
     "next": "9e44c028-74ef-11e7-b116-0242ac110002-1-26f3",
     "previous": "56be6f2e-74ef-11e7-b116-0242ac110002-2-ae4d-2201"
    }
   },
   "source": [
    "### Elastic IPの設定\n",
    "\n",
    "インスタンスにElastic IPを設定します。"
   ]
  },
  {
   "cell_type": "code",
   "execution_count": null,
   "metadata": {
    "lc_cell_meme": {
     "current": "9e44c028-74ef-11e7-b116-0242ac110002-1-26f3",
     "history": [
      {
       "current": "9e44c028-74ef-11e7-b116-0242ac110002",
       "next": "0ab11a10-14ea-11e7-b31a-0242ac12000d",
       "previous": "0f367476-74ef-11e7-b116-0242ac110002"
      },
      {
       "current": "9e44c028-74ef-11e7-b116-0242ac110002",
       "next": "e5cab7d6-74ef-11e7-b116-0242ac110002",
       "previous": "0f367476-74ef-11e7-b116-0242ac110002"
      },
      {
       "current": "9e44c028-74ef-11e7-b116-0242ac110002-1-26f3",
       "next": "0ab11a10-14ea-11e7-b31a-0242ac12000d",
       "previous": "0f367476-74ef-11e7-b116-0242ac110002"
      }
     ],
     "next": "0ab11a10-14ea-11e7-b31a-0242ac12000d-2-05f7-2315",
     "previous": "0f367476-74ef-11e7-b116-0242ac110002-1-d313"
    },
    "lc_wrapper": {
     "log_history": [
      "/home/john/notebooks/05_01_Elasticsearch構築手順への適用例/.log/20200729/20200729-044215-0846.log"
     ]
    }
   },
   "outputs": [],
   "source": [
    "host_list = []\n",
    "for i in target_instances:\n",
    "    result = !aws ec2 allocate-address\n",
    "    new_eip = json.loads(''.join(result))\n",
    "    !aws ec2 associate-address --allocation-id {new_eip['AllocationId']} --instance-id {i['InstanceId']}\n",
    "    # OperationHubで実行することを想定して、全てPrivate Addressで通信する ... EIPを持たせるのは、外部との通信のため\n",
    "    host_list.append((i['InstanceId'], i['PrivateIpAddress'], i['PrivateIpAddress']))\n",
    "host_list"
   ]
  },
  {
   "cell_type": "markdown",
   "metadata": {
    "lc_cell_meme": {
     "current": "0ab11a10-14ea-11e7-b31a-0242ac12000d-2-05f7-2315",
     "history": [
      {
       "current": "0ab11a10-14ea-11e7-b31a-0242ac12000d",
       "next": "0ab11c0e-14ea-11e7-b31a-0242ac12000d",
       "previous": "0ab1184e-14ea-11e7-b31a-0242ac12000d"
      },
      {
       "current": "0ab11a10-14ea-11e7-b31a-0242ac12000d",
       "next": "0ab11c0e-14ea-11e7-b31a-0242ac12000d",
       "previous": "e433dd4c-46b6-11e7-ae73-02420aff0008"
      },
      {
       "current": "0ab11a10-14ea-11e7-b31a-0242ac12000d",
       "next": "0ab11c0e-14ea-11e7-b31a-0242ac12000d",
       "previous": "0ab1184e-14ea-11e7-b31a-0242ac12000d"
      },
      {
       "current": "0ab11a10-14ea-11e7-b31a-0242ac12000d",
       "next": "0ab11c0e-14ea-11e7-b31a-0242ac12000d",
       "previous": "0ab114b6-14ea-11e7-b31a-0242ac12000d"
      },
      {
       "current": "0ab11a10-14ea-11e7-b31a-0242ac12000d",
       "next": "0ab11c0e-14ea-11e7-b31a-0242ac12000d",
       "previous": "0f367476-74ef-11e7-b116-0242ac110002"
      },
      {
       "current": "0ab11a10-14ea-11e7-b31a-0242ac12000d",
       "next": "0ab11c0e-14ea-11e7-b31a-0242ac12000d",
       "previous": "9e44c028-74ef-11e7-b116-0242ac110002"
      },
      {
       "current": "0ab11a10-14ea-11e7-b31a-0242ac12000d",
       "next": "0ab11c0e-14ea-11e7-b31a-0242ac12000d",
       "previous": "e5cab7d6-74ef-11e7-b116-0242ac110002"
      },
      {
       "current": "0ab11a10-14ea-11e7-b31a-0242ac12000d-1-05f7",
       "next": "0ab11c0e-14ea-11e7-b31a-0242ac12000d",
       "previous": "9e44c028-74ef-11e7-b116-0242ac110002"
      },
      {
       "current": "0ab11a10-14ea-11e7-b31a-0242ac12000d-1-05f7",
       "next": "0ab11c0e-14ea-11e7-b31a-0242ac12000d-1-8fba",
       "previous": "9e44c028-74ef-11e7-b116-0242ac110002-1-62a9"
      },
      {
       "current": "0ab11a10-14ea-11e7-b31a-0242ac12000d-2-05f7-2315",
       "next": "0ab11c0e-14ea-11e7-b31a-0242ac12000d-1-8fba",
       "previous": "56be6f2e-74ef-11e7-b116-0242ac110002-1-ae4d"
      },
      {
       "current": "0ab11a10-14ea-11e7-b31a-0242ac12000d-2-05f7-2315",
       "next": "0ab11c0e-14ea-11e7-b31a-0242ac12000d-2-8fba-89d5",
       "previous": "56be6f2e-74ef-11e7-b116-0242ac110002-2-ae4d-2201"
      }
     ],
     "next": "0ab11c0e-14ea-11e7-b31a-0242ac12000d-2-8fba-89d5",
     "previous": "9e44c028-74ef-11e7-b116-0242ac110002-1-26f3"
    }
   },
   "source": [
    "pingが通ることを確認します。\n",
    "\n",
    "Instanceがrunningになった後、**<font color=\"red\">pingが疎通するようになるまでしばらく(数分程度)</font>**かかる場合もあります。pingの実行が成功する(packet lossが0%)まで以下のセルの実行を試すようにしてください。"
   ]
  },
  {
   "cell_type": "code",
   "execution_count": null,
   "metadata": {
    "lc_cell_meme": {
     "current": "0ab11c0e-14ea-11e7-b31a-0242ac12000d-2-8fba-89d5",
     "history": [
      {
       "current": "0ab11c0e-14ea-11e7-b31a-0242ac12000d-1-8fba",
       "next": "0ab11de4-14ea-11e7-b31a-0242ac12000d",
       "previous": "0ab11a10-14ea-11e7-b31a-0242ac12000d"
      },
      {
       "current": "0ab11c0e-14ea-11e7-b31a-0242ac12000d-2-8fba-89d5",
       "next": "0ab11de4-14ea-11e7-b31a-0242ac12000d-1-3eb3",
       "previous": "0ab11a10-14ea-11e7-b31a-0242ac12000d-1-05f7"
      }
     ],
     "next": "0ab11de4-14ea-11e7-b31a-0242ac12000d-2-3eb3-9f24",
     "previous": "0ab11a10-14ea-11e7-b31a-0242ac12000d-2-05f7-2315"
    },
    "lc_wrapper": {
     "log_history": [
      "/home/john/notebooks/05_01_Elasticsearch構築手順への適用例/.log/20200729/20200729-015220-0332.log",
      "/home/john/notebooks/05_01_Elasticsearch構築手順への適用例/.log/20200729/20200729-015310-0831.log",
      "/home/john/notebooks/05_01_Elasticsearch構築手順への適用例/.log/20200729/20200729-043232-0546.log"
     ]
    }
   },
   "outputs": [],
   "source": [
    "for _, host, _ in host_list:\n",
    "    !ping -c 4 {host}"
   ]
  },
  {
   "cell_type": "markdown",
   "metadata": {
    "lc_cell_meme": {
     "current": "0ab11de4-14ea-11e7-b31a-0242ac12000d-2-3eb3-9f24",
     "history": [
      {
       "current": "0ab11de4-14ea-11e7-b31a-0242ac12000d",
       "next": "0ab11fba-14ea-11e7-b31a-0242ac12000d",
       "previous": "0ab11c0e-14ea-11e7-b31a-0242ac12000d"
      },
      {
       "current": "0ab11de4-14ea-11e7-b31a-0242ac12000d",
       "next": "0ab128a2-14ea-11e7-b31a-0242ac12000d",
       "previous": "0ab11c0e-14ea-11e7-b31a-0242ac12000d"
      },
      {
       "current": "0ab11de4-14ea-11e7-b31a-0242ac12000d",
       "next": "56be769a-74ef-11e7-b116-0242ac110002",
       "previous": "0ab11c0e-14ea-11e7-b31a-0242ac12000d"
      },
      {
       "current": "0ab11de4-14ea-11e7-b31a-0242ac12000d-1-3eb3",
       "next": "b9190f5c-7518-11e7-a4c6-0242ac110002",
       "previous": "0ab11c0e-14ea-11e7-b31a-0242ac12000d"
      },
      {
       "current": "0ab11de4-14ea-11e7-b31a-0242ac12000d-2-3eb3-9f24",
       "next": "b9190f5c-7518-11e7-a4c6-0242ac110002-1-026c",
       "previous": "0ab11c0e-14ea-11e7-b31a-0242ac12000d-1-8fba"
      }
     ],
     "next": "b9190f5c-7518-11e7-a4c6-0242ac110002-2-026c-da24",
     "previous": "0ab11c0e-14ea-11e7-b31a-0242ac12000d-2-8fba-89d5"
    }
   },
   "source": [
    "全てのインスタンスに対しpingが通ればEC2インスタンス生成は完了です。"
   ]
  },
  {
   "cell_type": "markdown",
   "metadata": {
    "lc_cell_meme": {
     "current": "b9190f5c-7518-11e7-a4c6-0242ac110002-2-026c-da24",
     "history": [
      {
       "current": "b9190f5c-7518-11e7-a4c6-0242ac110002",
       "next": "b9192da2-7518-11e7-a4c6-0242ac110002",
       "previous": "0ab11de4-14ea-11e7-b31a-0242ac12000d"
      },
      {
       "current": "b9190f5c-7518-11e7-a4c6-0242ac110002",
       "next": "4825ebd4-7519-11e7-a4c6-0242ac110002",
       "previous": "0ab11de4-14ea-11e7-b31a-0242ac12000d"
      },
      {
       "current": "b9190f5c-7518-11e7-a4c6-0242ac110002-1-026c",
       "next": "d734b7b0-7519-11e7-a4c6-0242ac110002",
       "previous": "0ab11de4-14ea-11e7-b31a-0242ac12000d"
      },
      {
       "current": "b9190f5c-7518-11e7-a4c6-0242ac110002-2-026c-da24",
       "next": "d734b7b0-7519-11e7-a4c6-0242ac110002-1-3276",
       "previous": "0ab11de4-14ea-11e7-b31a-0242ac12000d-1-3eb3"
      },
      {
       "current": "b9190f5c-7518-11e7-a4c6-0242ac110002-2-026c-da24",
       "next": "d734b7b0-7519-11e7-a4c6-0242ac110002-2-3276-f81c",
       "previous": "0ab11de4-14ea-11e7-b31a-0242ac12000d-2-3eb3-9f24"
      }
     ],
     "next": "8bc1d9a4-928b-11e7-8297-0242ac120009-13-99a6-4551-f400-671f-e7c0-83d2-96bb-7782-bfb4-d457",
     "previous": "0ab11de4-14ea-11e7-b31a-0242ac12000d-2-3eb3-9f24"
    }
   },
   "source": [
    "### Host Keyの確認\n"
   ]
  },
  {
   "cell_type": "code",
   "execution_count": null,
   "metadata": {
    "lc_cell_meme": {
     "current": "8bc1d9a4-928b-11e7-8297-0242ac120009-13-99a6-4551-f400-671f-e7c0-83d2-96bb-7782-bfb4-d457",
     "history": [
      {
       "current": "8bc1d9a4-928b-11e7-8297-0242ac120009-1-b06c",
       "next": "1ad826b4-9284-11e7-8297-0242ac120009",
       "previous": "8bc1d594-928b-11e7-8297-0242ac120009"
      },
      {
       "current": "8bc1d9a4-928b-11e7-8297-0242ac120009-2-b06c-884f",
       "next": "1ad826b4-9284-11e7-8297-0242ac120009-1-0dd9",
       "previous": "8bc1d594-928b-11e7-8297-0242ac120009-1-421c"
      },
      {
       "current": "8bc1d9a4-928b-11e7-8297-0242ac120009-3-b06c-884f-1bb7",
       "next": "469f4360-87c4-11e7-ae7f-0242ac130002-2-a6fd-858e",
       "previous": "469f3ec4-87c4-11e7-ae7f-0242ac130002-2-956e-81e8"
      },
      {
       "current": "8bc1d9a4-928b-11e7-8297-0242ac120009-4-b06c-884f-1bb7-99a6",
       "next": "469f4360-87c4-11e7-ae7f-0242ac130002-3-a6fd-858e-4736",
       "previous": "469f3ec4-87c4-11e7-ae7f-0242ac130002-3-956e-81e8-7a76"
      },
      {
       "current": "8bc1d9a4-928b-11e7-8297-0242ac120009-5-b06c-884f-1bb7-99a6-4551",
       "next": "469f4360-87c4-11e7-ae7f-0242ac130002-4-a6fd-858e-4736-b7c2",
       "previous": "469f3ec4-87c4-11e7-ae7f-0242ac130002-4-956e-81e8-7a76-6e3c"
      },
      {
       "current": "8bc1d9a4-928b-11e7-8297-0242ac120009-6-b06c-884f-1bb7-99a6-4551-f400",
       "next": "469f4360-87c4-11e7-ae7f-0242ac130002-5-a6fd-858e-4736-b7c2-de6b",
       "previous": "469f3ec4-87c4-11e7-ae7f-0242ac130002-5-956e-81e8-7a76-6e3c-bdf0"
      },
      {
       "current": "8bc1d9a4-928b-11e7-8297-0242ac120009-7-b06c-884f-1bb7-99a6-4551-f400-671f",
       "next": "469f4360-87c4-11e7-ae7f-0242ac130002-6-a6fd-858e-4736-b7c2-de6b-3d15",
       "previous": "c0604c3a-cfe7-11ea-9dc1-0242ac160003"
      },
      {
       "current": "8bc1d9a4-928b-11e7-8297-0242ac120009-8-b06c-884f-1bb7-99a6-4551-f400-671f-e7c0",
       "next": "469f4360-87c4-11e7-ae7f-0242ac130002-7-a6fd-858e-4736-b7c2-de6b-3d15-4085",
       "previous": "c0604c3a-cfe7-11ea-9dc1-0242ac160003-1-2026"
      },
      {
       "current": "8bc1d9a4-928b-11e7-8297-0242ac120009-9-b06c-884f-1bb7-99a6-4551-f400-671f-e7c0-83d2",
       "next": "469f4360-87c4-11e7-ae7f-0242ac130002-8-a6fd-858e-4736-b7c2-de6b-3d15-4085-30f9",
       "previous": "c0604c3a-cfe7-11ea-9dc1-0242ac160003-2-2026-6791"
      },
      {
       "current": "8bc1d9a4-928b-11e7-8297-0242ac120009-10-b06c-884f-1bb7-99a6-4551-f400-671f-e7c0-83d2-96bb",
       "next": "469f4360-87c4-11e7-ae7f-0242ac130002-9-a6fd-858e-4736-b7c2-de6b-3d15-4085-30f9-1846",
       "previous": "c0604c3a-cfe7-11ea-9dc1-0242ac160003-3-2026-6791-a98b"
      },
      {
       "current": "8bc1d9a4-928b-11e7-8297-0242ac120009-11-884f-1bb7-99a6-4551-f400-671f-e7c0-83d2-96bb-7782",
       "next": "469f4360-87c4-11e7-ae7f-0242ac130002-10-a6fd-858e-4736-b7c2-de6b-3d15-4085-30f9-1846-7d32",
       "previous": "c0604c3a-cfe7-11ea-9dc1-0242ac160003-4-2026-6791-a98b-8864"
      },
      {
       "current": "8bc1d9a4-928b-11e7-8297-0242ac120009-12-1bb7-99a6-4551-f400-671f-e7c0-83d2-96bb-7782-bfb4",
       "next": "469f4360-87c4-11e7-ae7f-0242ac130002-11-858e-4736-b7c2-de6b-3d15-4085-30f9-1846-7d32-de70",
       "previous": "c0604c3a-cfe7-11ea-9dc1-0242ac160003-5-2026-6791-a98b-8864-b7ac"
      },
      {
       "current": "8bc1d9a4-928b-11e7-8297-0242ac120009-12-1bb7-99a6-4551-f400-671f-e7c0-83d2-96bb-7782-bfb4",
       "next": "36ef5c2e-65fb-11e7-9915-0242ac120009-11-d913-cad2-f559-9a1b-bb5e-ee27-32d4-bbe9-4f3f-e9e1",
       "previous": "d734bc38-7519-11e7-a4c6-0242ac110002-1-f6d7"
      },
      {
       "current": "8bc1d9a4-928b-11e7-8297-0242ac120009-13-99a6-4551-f400-671f-e7c0-83d2-96bb-7782-bfb4-d457",
       "next": "83246fee-d146-11ea-9188-0242ac120004",
       "previous": "d734bc38-7519-11e7-a4c6-0242ac110002-1-f6d7"
      },
      {
       "current": "8bc1d9a4-928b-11e7-8297-0242ac120009-13-99a6-4551-f400-671f-e7c0-83d2-96bb-7782-bfb4-d457",
       "next": "83246fee-d146-11ea-9188-0242ac120004-1-48d3",
       "previous": "d734bc38-7519-11e7-a4c6-0242ac110002-2-f6d7-f7b0"
      }
     ],
     "next": "83246fee-d146-11ea-9188-0242ac120004-1-48d3",
     "previous": "b9190f5c-7518-11e7-a4c6-0242ac110002-2-026c-da24"
    },
    "lc_wrapper": {
     "log_history": [
      "/home/jovyan/openvidu/.log/20200526/20200526-151329-0246.log",
      "/home/jovyan/openvidu/.log/20200604/20200604-140849-0055.log",
      "/home/jovyan/openvidu/.log/20200604/20200604-184649-0189.log",
      "/home/jovyan/05_AWS_VMへのOpHub環境構築例/.log/20200701/20200701-232935-0473.log",
      "/home/jovyan/05_AWS_VMへのOpHub環境構築例/.log/20200701/20200701-232945-0108.log",
      "/home/jovyan/05_AWS_VMへのOpHub環境構築例/.log/20200701/20200701-233928-0779.log",
      "/home/jovyan/05_AWS_VMへのOpHub環境構築例/.log/20200702/20200702-021052-0211.log",
      "/home/jovyan/lc/.log/20200727/20200727-180120-0180.log",
      "/home/jovyan/lc/.log/20200727/20200727-182944-0884.log",
      "/home/jovyan/lc/.log/20200727/20200727-183133-0937.log",
      "/home/jovyan/.log/20200727/20200727-095828-0001.log",
      "/home/jovyan/.log/20200727/20200727-102115-0098.log",
      "/home/jovyan/.log/20200727/20200727-113030-0333.log",
      "/home/jovyan/.log/20200727/20200727-121412-0627.log",
      "/home/jovyan/.log/20200728/20200728-124310-0328.log",
      "/home/jovyan/.log/20200728/20200728-223930-0589.log",
      "/home/jovyan/.log/20200728/20200728-232051-0114.log",
      "/home/jovyan/.log/20200729/20200729-013042-0818.log",
      "/home/john/notebooks/05_01_Elasticsearch構築手順への適用例/.log/20200729/20200729-024946-0741.log",
      "/home/john/notebooks/05_01_Elasticsearch構築手順への適用例/.log/20200729/20200729-043253-0420.log"
     ]
    },
    "pinned_outputs": [
     {
      "execution_count": 17,
      "outputs": [
       {
        "name": "stdout",
        "output_type": "stream",
        "text": "path: /home/satoshiyazawa4fc701/.log/20181008/20181008-100924-0310.log (5 logs recorded)\nstart time: 2018-10-08 10:09:24(JST)\nend time: 2018-10-08 10:09:24(JST)\noutput size: 510 bytes\n0 chunks with matched keywords or errors\n----\n"
       }
      ]
     }
    ],
    "scrolled": true
   },
   "outputs": [],
   "source": [
    "default_username = 'centos'\n",
    "default_username"
   ]
  },
  {
   "cell_type": "code",
   "execution_count": null,
   "metadata": {
    "lc_cell_meme": {
     "current": "83246fee-d146-11ea-9188-0242ac120004-1-48d3",
     "history": [
      {
       "current": "83246fee-d146-11ea-9188-0242ac120004-1-48d3",
       "next": "36ef5c2e-65fb-11e7-9915-0242ac120009-11-d913-cad2-f559-9a1b-bb5e-ee27-32d4-bbe9-4f3f-e9e1",
       "previous": "8bc1d9a4-928b-11e7-8297-0242ac120009-12-1bb7-99a6-4551-f400-671f-e7c0-83d2-96bb-7782-bfb4"
      }
     ],
     "next": "36ef5c2e-65fb-11e7-9915-0242ac120009-12-cad2-f559-9a1b-bb5e-ee27-32d4-bbe9-4f3f-e9e1-6fb5",
     "previous": "8bc1d9a4-928b-11e7-8297-0242ac120009-13-99a6-4551-f400-671f-e7c0-83d2-96bb-7782-bfb4-d457"
    },
    "lc_wrapper": {
     "log_history": [
      "/home/john/notebooks/05_01_Elasticsearch構築手順への適用例/.log/20200729/20200729-025043-0429.log",
      "/home/john/notebooks/05_01_Elasticsearch構築手順への適用例/.log/20200729/20200729-043255-0151.log"
     ]
    }
   },
   "outputs": [],
   "source": [
    "import tempfile\n",
    "work_dir = tempfile.mkdtemp()\n",
    "work_dir"
   ]
  },
  {
   "cell_type": "code",
   "execution_count": null,
   "metadata": {
    "lc_cell_meme": {
     "current": "36ef5c2e-65fb-11e7-9915-0242ac120009-12-cad2-f559-9a1b-bb5e-ee27-32d4-bbe9-4f3f-e9e1-6fb5",
     "history": [
      {
       "current": "36ef5c2e-65fb-11e7-9915-0242ac120009",
       "next": "36ef5e0e-65fb-11e7-9915-0242ac120009",
       "previous": "36ef5a3a-65fb-11e7-9915-0242ac120009"
      },
      {
       "current": "36ef5c2e-65fb-11e7-9915-0242ac120009",
       "next": "36ef5e0e-65fb-11e7-9915-0242ac120009",
       "previous": "c0d7fd72-66ac-11e7-8297-0242ac120009"
      },
      {
       "current": "36ef5c2e-65fb-11e7-9915-0242ac120009",
       "next": "085f81e2-66ad-11e7-8297-0242ac120009",
       "previous": "36ef5a3a-65fb-11e7-9915-0242ac120009"
      },
      {
       "current": "36ef5c2e-65fb-11e7-9915-0242ac120009",
       "next": "36ef5ff8-65fb-11e7-9915-0242ac120009",
       "previous": "36ef5a3a-65fb-11e7-9915-0242ac120009"
      },
      {
       "current": "36ef5c2e-65fb-11e7-9915-0242ac120009",
       "next": "36ef5ff8-65fb-11e7-9915-0242ac120009",
       "previous": "1ad84856-9284-11e7-8297-0242ac120009"
      },
      {
       "current": "36ef5c2e-65fb-11e7-9915-0242ac120009-1-7a84",
       "next": "36ef5ff8-65fb-11e7-9915-0242ac120009",
       "previous": "0f22302a-c2e5-11e8-80ad-0242ac110005"
      },
      {
       "current": "36ef5c2e-65fb-11e7-9915-0242ac120009-1-7a84",
       "next": "36ef5ff8-65fb-11e7-9915-0242ac120009-1-acfc",
       "previous": "fbe6a6da-9f15-11ea-a402-0242ac160003"
      },
      {
       "current": "36ef5c2e-65fb-11e7-9915-0242ac120009-2-7a84-d913",
       "next": "36ef5ff8-65fb-11e7-9915-0242ac120009-1-acfc",
       "previous": "d4e03bec-a621-11ea-9c79-0242ac160003"
      },
      {
       "current": "36ef5c2e-65fb-11e7-9915-0242ac120009-3-7a84-d913-cad2",
       "next": "36ef5ff8-65fb-11e7-9915-0242ac120009-2-acfc-d8cf",
       "previous": "d4e03bec-a621-11ea-9c79-0242ac160003-1-6750"
      },
      {
       "current": "36ef5c2e-65fb-11e7-9915-0242ac120009-3-7a84-d913-cad2",
       "next": "36ef5ff8-65fb-11e7-9915-0242ac120009-3-acfc-d8cf-a8d4",
       "previous": "d4e03bec-a621-11ea-9c79-0242ac160003-2-6750-04be"
      },
      {
       "current": "36ef5c2e-65fb-11e7-9915-0242ac120009-4-7a84-d913-cad2-f559",
       "next": "84361d8a-bc09-11ea-9c24-0242ac110002",
       "previous": "d4e03bec-a621-11ea-9c79-0242ac160003-2-6750-04be"
      },
      {
       "current": "36ef5c2e-65fb-11e7-9915-0242ac120009-5-7a84-d913-cad2-f559-9a1b",
       "next": "84361d8a-bc09-11ea-9c24-0242ac110002-1-ec96",
       "previous": "d4e03bec-a621-11ea-9c79-0242ac160003-3-6750-04be-e6fe"
      },
      {
       "current": "36ef5c2e-65fb-11e7-9915-0242ac120009-6-7a84-d913-cad2-f559-9a1b-bb5e",
       "next": "84361d8a-bc09-11ea-9c24-0242ac110002-2-ec96-6e33",
       "previous": "469f4360-87c4-11e7-ae7f-0242ac130002-6-a6fd-858e-4736-b7c2-de6b-3d15"
      },
      {
       "current": "36ef5c2e-65fb-11e7-9915-0242ac120009-7-7a84-d913-cad2-f559-9a1b-bb5e-ee27",
       "next": "84361d8a-bc09-11ea-9c24-0242ac110002-3-ec96-6e33-e09d",
       "previous": "469f4360-87c4-11e7-ae7f-0242ac130002-7-a6fd-858e-4736-b7c2-de6b-3d15-4085"
      },
      {
       "current": "36ef5c2e-65fb-11e7-9915-0242ac120009-8-7a84-d913-cad2-f559-9a1b-bb5e-ee27-32d4",
       "next": "84361d8a-bc09-11ea-9c24-0242ac110002-4-ec96-6e33-e09d-f411",
       "previous": "469f4360-87c4-11e7-ae7f-0242ac130002-8-a6fd-858e-4736-b7c2-de6b-3d15-4085-30f9"
      },
      {
       "current": "36ef5c2e-65fb-11e7-9915-0242ac120009-9-7a84-d913-cad2-f559-9a1b-bb5e-ee27-32d4-bbe9",
       "next": "84361d8a-bc09-11ea-9c24-0242ac110002-5-ec96-6e33-e09d-f411-5fb1",
       "previous": "469f4360-87c4-11e7-ae7f-0242ac130002-9-a6fd-858e-4736-b7c2-de6b-3d15-4085-30f9-1846"
      },
      {
       "current": "36ef5c2e-65fb-11e7-9915-0242ac120009-10-7a84-d913-cad2-f559-9a1b-bb5e-ee27-32d4-bbe9-4f3f",
       "next": "84361d8a-bc09-11ea-9c24-0242ac110002-6-ec96-6e33-e09d-f411-5fb1-cf7b",
       "previous": "469f4360-87c4-11e7-ae7f-0242ac130002-10-a6fd-858e-4736-b7c2-de6b-3d15-4085-30f9-1846-7d32"
      },
      {
       "current": "36ef5c2e-65fb-11e7-9915-0242ac120009-11-d913-cad2-f559-9a1b-bb5e-ee27-32d4-bbe9-4f3f-e9e1",
       "next": "84361d8a-bc09-11ea-9c24-0242ac110002-7-ec96-6e33-e09d-f411-5fb1-cf7b-0bd8",
       "previous": "469f4360-87c4-11e7-ae7f-0242ac130002-11-858e-4736-b7c2-de6b-3d15-4085-30f9-1846-7d32-de70"
      },
      {
       "current": "36ef5c2e-65fb-11e7-9915-0242ac120009-11-d913-cad2-f559-9a1b-bb5e-ee27-32d4-bbe9-4f3f-e9e1",
       "next": "b9192da2-7518-11e7-a4c6-0242ac110002-1-bc64",
       "previous": "8bc1d9a4-928b-11e7-8297-0242ac120009-12-1bb7-99a6-4551-f400-671f-e7c0-83d2-96bb-7782-bfb4"
      },
      {
       "current": "36ef5c2e-65fb-11e7-9915-0242ac120009-12-cad2-f559-9a1b-bb5e-ee27-32d4-bbe9-4f3f-e9e1-6fb5",
       "next": "84361d8a-bc09-11ea-9c24-0242ac110002-8-ec96-6e33-e09d-f411-5fb1-cf7b-0bd8-154d",
       "previous": "83246fee-d146-11ea-9188-0242ac120004"
      }
     ],
     "next": "84361d8a-bc09-11ea-9c24-0242ac110002-9-ec96-6e33-e09d-f411-5fb1-cf7b-0bd8-154d-161f",
     "previous": "83246fee-d146-11ea-9188-0242ac120004-1-48d3"
    },
    "lc_wrapper": {
     "log_history": [
      "/home/jovyan/openvidu/.log/20200526/20200526-151359-0809.log",
      "/home/jovyan/openvidu/.log/20200526/20200526-151752-0238.log",
      "/home/jovyan/openvidu/.log/20200604/20200604-140851-0179.log",
      "/home/jovyan/openvidu/.log/20200604/20200604-184734-0833.log",
      "/home/jovyan/05_AWS_VMへのOpHub環境構築例/.log/20200701/20200701-233200-0422.log",
      "/home/jovyan/05_AWS_VMへのOpHub環境構築例/.log/20200701/20200701-233934-0484.log",
      "/home/jovyan/05_AWS_VMへのOpHub環境構築例/.log/20200701/20200701-234055-0211.log",
      "/home/jovyan/05_AWS_VMへのOpHub環境構築例/.log/20200701/20200701-234115-0753.log",
      "/home/jovyan/05_AWS_VMへのOpHub環境構築例/.log/20200701/20200701-234220-0760.log",
      "/home/jovyan/05_AWS_VMへのOpHub環境構築例/.log/20200702/20200702-021106-0578.log",
      "/home/jovyan/lc/.log/20200727/20200727-180307-0335.log",
      "/home/jovyan/lc/.log/20200727/20200727-180355-0479.log",
      "/home/jovyan/lc/.log/20200727/20200727-180656-0224.log",
      "/home/jovyan/lc/.log/20200727/20200727-182946-0432.log",
      "/home/jovyan/lc/.log/20200727/20200727-183137-0068.log",
      "/home/jovyan/.log/20200727/20200727-095829-0181.log",
      "/home/jovyan/.log/20200727/20200727-102116-0113.log",
      "/home/jovyan/.log/20200727/20200727-113031-0553.log",
      "/home/jovyan/.log/20200727/20200727-121413-0904.log",
      "/home/jovyan/.log/20200728/20200728-124311-0431.log",
      "/home/jovyan/.log/20200728/20200728-223931-0707.log",
      "/home/jovyan/.log/20200728/20200728-232052-0032.log",
      "/home/jovyan/.log/20200729/20200729-013043-0897.log",
      "/home/john/notebooks/05_01_Elasticsearch構築手順への適用例/.log/20200729/20200729-025011-0298.log",
      "/home/john/notebooks/05_01_Elasticsearch構築手順への適用例/.log/20200729/20200729-025044-0113.log",
      "/home/john/notebooks/05_01_Elasticsearch構築手順への適用例/.log/20200729/20200729-043257-0389.log"
     ]
    },
    "pinned_outputs": [
     {
      "execution_count": 32,
      "outputs": [
       {
        "name": "stdout",
        "output_type": "stream",
        "text": "path: /home/satoshiyazawa4fc701/.log/20181008/20181008-102256-0346.log (1 logs recorded)\nstart time: 2018-10-08 10:22:56(JST)\nend time: 2018-10-08 10:22:56(JST)\noutput size: 958 bytes\n0 chunks with matched keywords or errors\n----\nWriting /tmp/tmpoCf2Jt/init-password-abc"
       }
      ]
     }
    ],
    "scrolled": true
   },
   "outputs": [],
   "source": [
    "%%writefile {work_dir}/init-password-aws\n",
    "#!/usr/bin/expect\n",
    "\n",
    "set host [lindex $argv 0]\n",
    "set key [lindex $argv 1]\n",
    "set username [lindex $argv 2]\n",
    "\n",
    "spawn env LANG=C ssh -i $key \"${username}\\@${host}\"\n",
    "\n",
    "expect {\n",
    "    -glob \"(yes/no/*)?\" {\n",
    "        send \"yes\\n\"\n",
    "        exp_continue\n",
    "    }\n",
    "}\n",
    "\n",
    "exit 0\n",
    "\n"
   ]
  },
  {
   "cell_type": "code",
   "execution_count": null,
   "metadata": {
    "lc_cell_meme": {
     "current": "84361d8a-bc09-11ea-9c24-0242ac110002-9-ec96-6e33-e09d-f411-5fb1-cf7b-0bd8-154d-161f",
     "history": [
      {
       "current": "84361d8a-bc09-11ea-9c24-0242ac110002",
       "next": "ac3ee152-87c5-11e7-ae7f-0242ac130002-4-db17-3d34-440c-7caa",
       "previous": "36ef5c2e-65fb-11e7-9915-0242ac120009-3-7a84-d913-cad2"
      },
      {
       "current": "84361d8a-bc09-11ea-9c24-0242ac110002-1-ec96",
       "next": "cc9305c0-bc09-11ea-9c24-0242ac110002",
       "previous": "36ef5c2e-65fb-11e7-9915-0242ac120009-3-7a84-d913-cad2"
      },
      {
       "current": "84361d8a-bc09-11ea-9c24-0242ac110002-2-ec96-6e33",
       "next": "cc9305c0-bc09-11ea-9c24-0242ac110002-1-152a",
       "previous": "36ef5c2e-65fb-11e7-9915-0242ac120009-4-7a84-d913-cad2-f559"
      },
      {
       "current": "84361d8a-bc09-11ea-9c24-0242ac110002-3-ec96-6e33-e09d",
       "next": "cc9305c0-bc09-11ea-9c24-0242ac110002-2-152a-8ffe",
       "previous": "36ef5c2e-65fb-11e7-9915-0242ac120009-5-7a84-d913-cad2-f559-9a1b"
      },
      {
       "current": "84361d8a-bc09-11ea-9c24-0242ac110002-4-ec96-6e33-e09d-f411",
       "next": "cc9305c0-bc09-11ea-9c24-0242ac110002-3-152a-8ffe-bf83",
       "previous": "36ef5c2e-65fb-11e7-9915-0242ac120009-6-7a84-d913-cad2-f559-9a1b-bb5e"
      },
      {
       "current": "84361d8a-bc09-11ea-9c24-0242ac110002-5-ec96-6e33-e09d-f411-5fb1",
       "next": "cc9305c0-bc09-11ea-9c24-0242ac110002-4-152a-8ffe-bf83-5b8c",
       "previous": "36ef5c2e-65fb-11e7-9915-0242ac120009-7-7a84-d913-cad2-f559-9a1b-bb5e-ee27"
      },
      {
       "current": "84361d8a-bc09-11ea-9c24-0242ac110002-6-ec96-6e33-e09d-f411-5fb1-cf7b",
       "next": "cc9305c0-bc09-11ea-9c24-0242ac110002-5-152a-8ffe-bf83-5b8c-839f",
       "previous": "36ef5c2e-65fb-11e7-9915-0242ac120009-8-7a84-d913-cad2-f559-9a1b-bb5e-ee27-32d4"
      },
      {
       "current": "84361d8a-bc09-11ea-9c24-0242ac110002-7-ec96-6e33-e09d-f411-5fb1-cf7b-0bd8",
       "next": "cc9305c0-bc09-11ea-9c24-0242ac110002-6-152a-8ffe-bf83-5b8c-839f-1dde",
       "previous": "36ef5c2e-65fb-11e7-9915-0242ac120009-9-7a84-d913-cad2-f559-9a1b-bb5e-ee27-32d4-bbe9"
      },
      {
       "current": "84361d8a-bc09-11ea-9c24-0242ac110002-8-ec96-6e33-e09d-f411-5fb1-cf7b-0bd8-154d",
       "next": "cc9305c0-bc09-11ea-9c24-0242ac110002-7-152a-8ffe-bf83-5b8c-839f-1dde-1e17",
       "previous": "36ef5c2e-65fb-11e7-9915-0242ac120009-10-7a84-d913-cad2-f559-9a1b-bb5e-ee27-32d4-bbe9-4f3f"
      },
      {
       "current": "84361d8a-bc09-11ea-9c24-0242ac110002-9-ec96-6e33-e09d-f411-5fb1-cf7b-0bd8-154d-161f",
       "next": "cc9305c0-bc09-11ea-9c24-0242ac110002-8-152a-8ffe-bf83-5b8c-839f-1dde-1e17-2e62",
       "previous": "36ef5c2e-65fb-11e7-9915-0242ac120009-11-d913-cad2-f559-9a1b-bb5e-ee27-32d4-bbe9-4f3f-e9e1"
      }
     ],
     "next": "cc9305c0-bc09-11ea-9c24-0242ac110002-9-152a-8ffe-bf83-5b8c-839f-1dde-1e17-2e62-fce1",
     "previous": "36ef5c2e-65fb-11e7-9915-0242ac120009-12-cad2-f559-9a1b-bb5e-ee27-32d4-bbe9-4f3f-e9e1-6fb5"
    },
    "lc_wrapper": {
     "log_history": [
      "/home/jovyan/05_AWS_VMへのOpHub環境構築例/.log/20200702/20200702-021212-0952.log",
      "/home/jovyan/lc/.log/20200727/20200727-180309-0451.log",
      "/home/jovyan/lc/.log/20200727/20200727-182946-0622.log",
      "/home/jovyan/.log/20200727/20200727-095829-0275.log",
      "/home/jovyan/.log/20200727/20200727-102116-0142.log",
      "/home/jovyan/.log/20200727/20200727-113031-0643.log",
      "/home/jovyan/.log/20200727/20200727-121413-0931.log",
      "/home/jovyan/.log/20200728/20200728-124311-0500.log",
      "/home/jovyan/.log/20200728/20200728-223931-0771.log",
      "/home/jovyan/.log/20200728/20200728-232052-0059.log",
      "/home/jovyan/.log/20200729/20200729-013043-0928.log",
      "/home/john/notebooks/05_01_Elasticsearch構築手順への適用例/.log/20200729/20200729-025123-0701.log",
      "/home/john/notebooks/05_01_Elasticsearch構築手順への適用例/.log/20200729/20200729-043259-0147.log"
     ]
    },
    "scrolled": true
   },
   "outputs": [],
   "source": [
    "import time\n",
    "\n",
    "# VMのsshserverが落ち着くまで待つ...\n",
    "time.sleep(30)"
   ]
  },
  {
   "cell_type": "code",
   "execution_count": null,
   "metadata": {
    "lc_cell_meme": {
     "current": "cc9305c0-bc09-11ea-9c24-0242ac110002-9-152a-8ffe-bf83-5b8c-839f-1dde-1e17-2e62-fce1",
     "history": [
      {
       "current": "cc9305c0-bc09-11ea-9c24-0242ac110002-1-152a",
       "next": "ac3ee152-87c5-11e7-ae7f-0242ac130002-4-db17-3d34-440c-7caa",
       "previous": "84361d8a-bc09-11ea-9c24-0242ac110002"
      },
      {
       "current": "cc9305c0-bc09-11ea-9c24-0242ac110002-2-152a-8ffe",
       "next": "ac3ee152-87c5-11e7-ae7f-0242ac130002-5-db17-3d34-440c-7caa-177c",
       "previous": "84361d8a-bc09-11ea-9c24-0242ac110002-1-ec96"
      },
      {
       "current": "cc9305c0-bc09-11ea-9c24-0242ac110002-3-152a-8ffe-bf83",
       "next": "ac3ee152-87c5-11e7-ae7f-0242ac130002-6-db17-3d34-440c-7caa-177c-856f",
       "previous": "84361d8a-bc09-11ea-9c24-0242ac110002-2-ec96-6e33"
      },
      {
       "current": "cc9305c0-bc09-11ea-9c24-0242ac110002-4-152a-8ffe-bf83-5b8c",
       "next": "ac3ee152-87c5-11e7-ae7f-0242ac130002-7-db17-3d34-440c-7caa-177c-856f-792b",
       "previous": "84361d8a-bc09-11ea-9c24-0242ac110002-3-ec96-6e33-e09d"
      },
      {
       "current": "cc9305c0-bc09-11ea-9c24-0242ac110002-5-152a-8ffe-bf83-5b8c-839f",
       "next": "ac3ee152-87c5-11e7-ae7f-0242ac130002-8-db17-3d34-440c-7caa-177c-856f-792b-07db",
       "previous": "84361d8a-bc09-11ea-9c24-0242ac110002-4-ec96-6e33-e09d-f411"
      },
      {
       "current": "cc9305c0-bc09-11ea-9c24-0242ac110002-6-152a-8ffe-bf83-5b8c-839f-1dde",
       "next": "ac3ee152-87c5-11e7-ae7f-0242ac130002-9-db17-3d34-440c-7caa-177c-856f-792b-07db-de02",
       "previous": "84361d8a-bc09-11ea-9c24-0242ac110002-5-ec96-6e33-e09d-f411-5fb1"
      },
      {
       "current": "cc9305c0-bc09-11ea-9c24-0242ac110002-7-152a-8ffe-bf83-5b8c-839f-1dde-1e17",
       "next": "ac3ee152-87c5-11e7-ae7f-0242ac130002-10-db17-3d34-440c-7caa-177c-856f-792b-07db-de02-4098",
       "previous": "84361d8a-bc09-11ea-9c24-0242ac110002-6-ec96-6e33-e09d-f411-5fb1-cf7b"
      },
      {
       "current": "cc9305c0-bc09-11ea-9c24-0242ac110002-8-152a-8ffe-bf83-5b8c-839f-1dde-1e17-2e62",
       "next": "ac3ee152-87c5-11e7-ae7f-0242ac130002-11-3d34-440c-7caa-177c-856f-792b-07db-de02-4098-bf0b",
       "previous": "84361d8a-bc09-11ea-9c24-0242ac110002-7-ec96-6e33-e09d-f411-5fb1-cf7b-0bd8"
      },
      {
       "current": "cc9305c0-bc09-11ea-9c24-0242ac110002-9-152a-8ffe-bf83-5b8c-839f-1dde-1e17-2e62-fce1",
       "next": "56be769a-74ef-11e7-b116-0242ac110002-1-c542",
       "previous": "84361d8a-bc09-11ea-9c24-0242ac110002-8-ec96-6e33-e09d-f411-5fb1-cf7b-0bd8-154d"
      }
     ],
     "next": "56be769a-74ef-11e7-b116-0242ac110002-2-c542-5c07",
     "previous": "84361d8a-bc09-11ea-9c24-0242ac110002-9-ec96-6e33-e09d-f411-5fb1-cf7b-0bd8-154d-161f"
    },
    "lc_wrapper": {
     "log_history": [
      "/home/jovyan/lc/.log/20200727/20200727-180320-0266.log",
      "/home/jovyan/lc/.log/20200727/20200727-180343-0280.log",
      "/home/jovyan/lc/.log/20200727/20200727-180725-0935.log",
      "/home/jovyan/lc/.log/20200727/20200727-183016-0723.log",
      "/home/jovyan/.log/20200727/20200727-095859-0287.log",
      "/home/jovyan/.log/20200727/20200727-102146-0156.log",
      "/home/jovyan/.log/20200727/20200727-113101-0684.log",
      "/home/jovyan/.log/20200727/20200727-121443-0946.log",
      "/home/jovyan/.log/20200728/20200728-124341-0498.log",
      "/home/jovyan/.log/20200728/20200728-224001-0802.log",
      "/home/jovyan/.log/20200728/20200728-232122-0061.log",
      "/home/jovyan/.log/20200729/20200729-013113-0941.log",
      "/home/john/notebooks/05_01_Elasticsearch構築手順への適用例/.log/20200729/20200729-025153-0742.log",
      "/home/john/notebooks/05_01_Elasticsearch構築手順への適用例/.log/20200729/20200729-043329-0159.log"
     ]
    },
    "scrolled": true
   },
   "outputs": [],
   "source": [
    "for _, host, _ in host_list:\n",
    "    !ssh-keygen -R {host} || exit 0\n",
    "    !expect {work_dir}/init-password-aws {host} ~/.ssh/ansible_id_rsa {default_username}"
   ]
  },
  {
   "cell_type": "markdown",
   "metadata": {
    "lc_cell_meme": {
     "current": "56be769a-74ef-11e7-b116-0242ac110002-2-c542-5c07",
     "history": [
      {
       "current": "56be769a-74ef-11e7-b116-0242ac110002",
       "next": "56be816c-74ef-11e7-b116-0242ac110002",
       "previous": "0ab11de4-14ea-11e7-b31a-0242ac12000d"
      },
      {
       "current": "56be769a-74ef-11e7-b116-0242ac110002",
       "next": "56be816c-74ef-11e7-b116-0242ac110002",
       "previous": "b9192da2-7518-11e7-a4c6-0242ac110002"
      },
      {
       "current": "56be769a-74ef-11e7-b116-0242ac110002-1-c542",
       "next": "56be816c-74ef-11e7-b116-0242ac110002",
       "previous": "4825f016-7519-11e7-a4c6-0242ac110002"
      },
      {
       "current": "56be769a-74ef-11e7-b116-0242ac110002-1-c542",
       "next": "56be816c-74ef-11e7-b116-0242ac110002-1-b5c4",
       "previous": "4825f016-7519-11e7-a4c6-0242ac110002-1-9583"
      },
      {
       "current": "56be769a-74ef-11e7-b116-0242ac110002-2-c542-5c07",
       "next": "56be816c-74ef-11e7-b116-0242ac110002-1-b5c4",
       "previous": "cc9305c0-bc09-11ea-9c24-0242ac110002-8-152a-8ffe-bf83-5b8c-839f-1dde-1e17-2e62"
      }
     ],
     "next": "56be816c-74ef-11e7-b116-0242ac110002-2-b5c4-20c9",
     "previous": "cc9305c0-bc09-11ea-9c24-0242ac110002-9-152a-8ffe-bf83-5b8c-839f-1dde-1e17-2e62-fce1"
    }
   },
   "source": [
    "## セキュリティグループへのホスト情報の登録\n",
    "\n",
    "各インスタンスのPrivate IPアドレスを、セキュリティグループの許可リストに追加します。\n",
    "\n",
    "インスタンスごとに、9200番ポート（外部通信用）と9300番ポート（クラスタ内部通信用）の両方を許可します。"
   ]
  },
  {
   "cell_type": "code",
   "execution_count": null,
   "metadata": {
    "lc_cell_meme": {
     "current": "56be816c-74ef-11e7-b116-0242ac110002-2-b5c4-20c9",
     "history": [
      {
       "current": "56be816c-74ef-11e7-b116-0242ac110002-1-b5c4",
       "next": "0ab128a2-14ea-11e7-b31a-0242ac12000d",
       "previous": "56be769a-74ef-11e7-b116-0242ac110002"
      },
      {
       "current": "56be816c-74ef-11e7-b116-0242ac110002-2-b5c4-20c9",
       "next": "0ab128a2-14ea-11e7-b31a-0242ac12000d-1-1d9a",
       "previous": "56be769a-74ef-11e7-b116-0242ac110002-1-c542"
      }
     ],
     "next": "0ab128a2-14ea-11e7-b31a-0242ac12000d-2-1d9a-ed95",
     "previous": "56be769a-74ef-11e7-b116-0242ac110002-2-c542-5c07"
    },
    "lc_wrapper": {
     "log_history": [
      "/home/john/notebooks/05_01_Elasticsearch構築手順への適用例/.log/20200729/20200729-025249-0334.log",
      "/home/john/notebooks/05_01_Elasticsearch構築手順への適用例/.log/20200729/20200729-043341-0726.log"
     ]
    }
   },
   "outputs": [],
   "source": [
    "!aws ec2 authorize-security-group-ingress --group-id {security_group_id} --protocol tcp --port 9200 --source-group {security_group_id}\n",
    "!aws ec2 authorize-security-group-ingress --group-id {security_group_id} --protocol tcp --port 9300 --source-group {security_group_id}"
   ]
  },
  {
   "cell_type": "markdown",
   "metadata": {
    "lc_cell_meme": {
     "current": "0ab128a2-14ea-11e7-b31a-0242ac12000d-2-1d9a-ed95",
     "history": [
      {
       "current": "0ab128a2-14ea-11e7-b31a-0242ac12000d",
       "next": "0ab12a78-14ea-11e7-b31a-0242ac12000d",
       "previous": "0ab126d6-14ea-11e7-b31a-0242ac12000d"
      },
      {
       "current": "0ab128a2-14ea-11e7-b31a-0242ac12000d",
       "next": "0ab12a78-14ea-11e7-b31a-0242ac12000d",
       "previous": "0ab11de4-14ea-11e7-b31a-0242ac12000d"
      },
      {
       "current": "0ab128a2-14ea-11e7-b31a-0242ac12000d-1-1d9a",
       "next": "0ab12a78-14ea-11e7-b31a-0242ac12000d",
       "previous": "56be816c-74ef-11e7-b116-0242ac110002"
      },
      {
       "current": "0ab128a2-14ea-11e7-b31a-0242ac12000d-2-1d9a-ed95",
       "next": "0ab12a78-14ea-11e7-b31a-0242ac12000d-1-fcfd",
       "previous": "56be816c-74ef-11e7-b116-0242ac110002-1-b5c4"
      }
     ],
     "next": "0ab12a78-14ea-11e7-b31a-0242ac12000d-2-fcfd-3fa6",
     "previous": "56be816c-74ef-11e7-b116-0242ac110002-2-b5c4-20c9"
    }
   },
   "source": [
    "## Inventory作成用のインスタンスリストを作成\n",
    "ホストのパブリックDNS一覧をリスト化します  "
   ]
  },
  {
   "cell_type": "markdown",
   "metadata": {
    "lc_cell_meme": {
     "current": "0ab12a78-14ea-11e7-b31a-0242ac12000d-2-fcfd-3fa6",
     "history": [
      {
       "current": "0ab12a78-14ea-11e7-b31a-0242ac12000d-1-fcfd",
       "next": "0ab12c3a-14ea-11e7-b31a-0242ac12000d",
       "previous": "0ab128a2-14ea-11e7-b31a-0242ac12000d"
      },
      {
       "current": "0ab12a78-14ea-11e7-b31a-0242ac12000d-2-fcfd-3fa6",
       "next": "0ab12c3a-14ea-11e7-b31a-0242ac12000d-1-7645",
       "previous": "0ab128a2-14ea-11e7-b31a-0242ac12000d-1-1d9a"
      }
     ],
     "next": "0ab12c3a-14ea-11e7-b31a-0242ac12000d-2-7645-5512",
     "previous": "0ab128a2-14ea-11e7-b31a-0242ac12000d-2-1d9a-ed95"
    }
   },
   "source": [
    "次のブックの[Inventory作成](01_03_Set_Inventory.ipynb)で使用します。  \n",
    "出現した文字列をクリップボードにコピーしてください。"
   ]
  },
  {
   "cell_type": "code",
   "execution_count": null,
   "metadata": {
    "lc_cell_meme": {
     "current": "0ab12c3a-14ea-11e7-b31a-0242ac12000d-2-7645-5512",
     "history": [
      {
       "current": "0ab12c3a-14ea-11e7-b31a-0242ac12000d",
       "next": null,
       "previous": "0ab12a78-14ea-11e7-b31a-0242ac12000d"
      },
      {
       "current": "0ab12c3a-14ea-11e7-b31a-0242ac12000d",
       "next": "e433df68-46b6-11e7-ae73-02420aff0008",
       "previous": "0ab12a78-14ea-11e7-b31a-0242ac12000d"
      },
      {
       "current": "0ab12c3a-14ea-11e7-b31a-0242ac12000d-1-7645",
       "next": "2201240e-74f2-11e7-b116-0242ac110002",
       "previous": "0ab12a78-14ea-11e7-b31a-0242ac12000d"
      },
      {
       "current": "0ab12c3a-14ea-11e7-b31a-0242ac12000d-2-7645-5512",
       "next": "2201240e-74f2-11e7-b116-0242ac110002-1-0d81",
       "previous": "0ab12a78-14ea-11e7-b31a-0242ac12000d-1-fcfd"
      }
     ],
     "next": "2201240e-74f2-11e7-b116-0242ac110002-2-0d81-426a",
     "previous": "0ab12a78-14ea-11e7-b31a-0242ac12000d-2-fcfd-3fa6"
    },
    "lc_wrapper": {
     "log_history": [
      "/home/john/notebooks/05_01_Elasticsearch構築手順への適用例/.log/20200729/20200729-025303-0494.log",
      "/home/john/notebooks/05_01_Elasticsearch構築手順への適用例/.log/20200729/20200729-043345-0517.log"
     ]
    }
   },
   "outputs": [],
   "source": [
    "print('host_list = {}'.format(repr(dict([('host{}'.format(i + 1), h) for i, h in enumerate(host_list)]))))"
   ]
  },
  {
   "cell_type": "code",
   "execution_count": null,
   "metadata": {
    "lc_cell_meme": {
     "current": "2201240e-74f2-11e7-b116-0242ac110002-2-0d81-426a",
     "history": [
      {
       "current": "2201240e-74f2-11e7-b116-0242ac110002-1-0d81",
       "next": null,
       "previous": "0ab12c3a-14ea-11e7-b31a-0242ac12000d"
      },
      {
       "current": "2201240e-74f2-11e7-b116-0242ac110002-2-0d81-426a",
       "next": null,
       "previous": "0ab12c3a-14ea-11e7-b31a-0242ac12000d-1-7645"
      }
     ],
     "next": null,
     "previous": "0ab12c3a-14ea-11e7-b31a-0242ac12000d-2-7645-5512"
    }
   },
   "outputs": [],
   "source": []
  }
 ],
 "metadata": {
  "anaconda-cloud": {},
  "celltoolbar": "Raw Cell Format",
  "kernelspec": {
   "display_name": "Python 3",
   "language": "python",
   "name": "python3"
  },
  "language_info": {
   "file_extension": ".py",
   "mimetype": "text/x-python",
   "name": "python",
   "nbconvert_exporter": "python",
   "pygments_lexer": "ipython3",
   "version": "3.8.3"
  },
  "lc_notebook_meme": {
   "current": "0ab0c164-14ea-11e7-b31a-0242ac12000d",
   "lc_server_signature": {
    "current": {
     "notebook_dir": "/home/john/notebooks",
     "notebook_path": "/05_01_Elasticsearch構築手順への適用例",
     "server_url": "https://54.238.176.148/user/john/",
     "signature_id": "d27f97be-d153-11ea-a63d-0242ac120002"
    },
    "history": [
     {
      "notebook_dir": "/home/john/notebooks",
      "notebook_path": "/05_01_Elasticsearch構築手順への適用例",
      "server_url": "https://18.178.75.47/user/john/",
      "signature_id": "56977f98-d13c-11ea-a97a-0242ac120002"
     }
    ]
   }
  },
  "toc": {
   "base_numbering": 1,
   "nav_menu": {
    "height": "30px",
    "width": "252px"
   },
   "number_sections": true,
   "sideBar": true,
   "skip_h1_title": false,
   "title_cell": "Table of Contents",
   "title_sidebar": "Contents",
   "toc_cell": false,
   "toc_position": {
    "height": "835px",
    "left": "0px",
    "right": "1654.67px",
    "top": "106px",
    "width": "292px"
   },
   "toc_section_display": "block",
   "toc_window_display": true
  }
 },
 "nbformat": 4,
 "nbformat_minor": 2
}
