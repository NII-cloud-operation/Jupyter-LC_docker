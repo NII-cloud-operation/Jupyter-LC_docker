{
 "cells": [
  {
   "cell_type": "markdown",
   "metadata": {
    "lc_cell_meme": {
     "current": "e5641ca4-1510-11e7-b31a-0242ac12000d",
     "next": "e5641ee8-1510-11e7-b31a-0242ac12000d",
     "previous": null
    }
   },
   "source": [
    "# Elastic Stackの構築手順：インストール\n",
    "----\n",
    "Elasticsearchをインストールし、 各種パラメータを設定してクラスタを構築します。  \n",
    "必要であればこの後のNotebookで利用するサンプルデータも投入します。"
   ]
  },
  {
   "cell_type": "markdown",
   "metadata": {
    "lc_cell_meme": {
     "current": "e5641ee8-1510-11e7-b31a-0242ac12000d",
     "history": [
      {
       "current": "e5641ee8-1510-11e7-b31a-0242ac12000d",
       "next": "e56420d2-1510-11e7-b31a-0242ac12000d",
       "previous": "e5641ca4-1510-11e7-b31a-0242ac12000d"
      }
     ],
     "next": "e56422a8-1510-11e7-b31a-0242ac12000d",
     "previous": "e5641ca4-1510-11e7-b31a-0242ac12000d"
    }
   },
   "source": [
    "## 設定情報の引き継ぎ\n",
    "\n",
    "アカウントや通信先などを読み込みます。"
   ]
  },
  {
   "cell_type": "code",
   "execution_count": 1,
   "metadata": {
    "lc_cell_meme": {
     "current": "e56422a8-1510-11e7-b31a-0242ac12000d",
     "history": [
      {
       "current": "e56422a8-1510-11e7-b31a-0242ac12000d",
       "next": "e5642492-1510-11e7-b31a-0242ac12000d",
       "previous": "e56420d2-1510-11e7-b31a-0242ac12000d"
      },
      {
       "current": "e56422a8-1510-11e7-b31a-0242ac12000d",
       "next": "e5642bc2-1510-11e7-b31a-0242ac12000d",
       "previous": "e56420d2-1510-11e7-b31a-0242ac12000d"
      },
      {
       "current": "e56422a8-1510-11e7-b31a-0242ac12000d",
       "next": "e5642d8e-1510-11e7-b31a-0242ac12000d",
       "previous": "e56420d2-1510-11e7-b31a-0242ac12000d"
      }
     ],
     "next": "e5642d8e-1510-11e7-b31a-0242ac12000d",
     "previous": "e5641ee8-1510-11e7-b31a-0242ac12000d"
    }
   },
   "outputs": [
    {
     "data": {
      "text/plain": [
       "('centos', '~/.ssh/ansible_id_rsa')"
      ]
     },
     "execution_count": 1,
     "metadata": {},
     "output_type": "execute_result"
    }
   ],
   "source": [
    "%run rc.py\n",
    "(USER, KEYPATH)"
   ]
  },
  {
   "cell_type": "code",
   "execution_count": 2,
   "metadata": {
    "lc_cell_meme": {
     "current": "e5642d8e-1510-11e7-b31a-0242ac12000d",
     "history": [
      {
       "current": "e5642d8e-1510-11e7-b31a-0242ac12000d",
       "next": "e5642f5a-1510-11e7-b31a-0242ac12000d",
       "previous": "e5642bc2-1510-11e7-b31a-0242ac12000d"
      }
     ],
     "next": "e5642f5a-1510-11e7-b31a-0242ac12000d",
     "previous": "e56422a8-1510-11e7-b31a-0242ac12000d"
    },
    "scrolled": true
   },
   "outputs": [
    {
     "name": "stdout",
     "output_type": "stream",
     "text": [
      "env: ES_CLIENT=34.213.xx.xx:9200\n"
     ]
    }
   ],
   "source": [
    "%env ES_CLIENT={es_host}:9200"
   ]
  },
  {
   "cell_type": "markdown",
   "metadata": {
    "lc_cell_meme": {
     "current": "e5642f5a-1510-11e7-b31a-0242ac12000d",
     "next": "e5643130-1510-11e7-b31a-0242ac12000d",
     "previous": "e5642d8e-1510-11e7-b31a-0242ac12000d"
    }
   },
   "source": [
    "このNotebookを含むファイルを設置したディレクトリを読み込みます。  \n",
    "※Logstash用の設定ファイルやサンプルデータはこの配下から取得します。変更する場合は下の設定を書き換えてください。"
   ]
  },
  {
   "cell_type": "code",
   "execution_count": 3,
   "metadata": {
    "lc_cell_meme": {
     "current": "e5643130-1510-11e7-b31a-0242ac12000d",
     "history": [
      {
       "current": "e5643130-1510-11e7-b31a-0242ac12000d",
       "next": "e5643306-1510-11e7-b31a-0242ac12000d",
       "previous": "e5642f5a-1510-11e7-b31a-0242ac12000d"
      },
      {
       "current": "e5643130-1510-11e7-b31a-0242ac12000d",
       "next": "1366df9a-1aa4-11e7-b31a-0242ac12000d",
       "previous": "e5642f5a-1510-11e7-b31a-0242ac12000d"
      }
     ],
     "next": "e5643306-1510-11e7-b31a-0242ac12000d",
     "previous": "e5642f5a-1510-11e7-b31a-0242ac12000d"
    }
   },
   "outputs": [
    {
     "data": {
      "text/plain": [
       "'/notebooks/03_Elasticsearch\\xe6\\xa7\\x8b\\xe7\\xaf\\x89\\xe6\\x89\\x8b\\xe9\\xa0\\x86\\xe3\\x81\\xb8\\xe3\\x81\\xae\\xe9\\x81\\xa9\\xe7\\x94\\xa8\\xe4\\xbe\\x8b'"
      ]
     },
     "execution_count": 3,
     "metadata": {},
     "output_type": "execute_result"
    }
   ],
   "source": [
    "import os\n",
    "notebooks_home = os.getcwd()\n",
    "notebooks_home"
   ]
  },
  {
   "cell_type": "markdown",
   "metadata": {
    "heading_collapsed": true,
    "lc_cell_meme": {
     "current": "e5643306-1510-11e7-b31a-0242ac12000d",
     "history": [
      {
       "current": "e5643306-1510-11e7-b31a-0242ac12000d",
       "next": "e56434c8-1510-11e7-b31a-0242ac12000d",
       "previous": "e5643130-1510-11e7-b31a-0242ac12000d"
      },
      {
       "current": "e5643306-1510-11e7-b31a-0242ac12000d",
       "next": "e56434c8-1510-11e7-b31a-0242ac12000d",
       "previous": "1366df9a-1aa4-11e7-b31a-0242ac12000d"
      },
      {
       "current": "e5643306-1510-11e7-b31a-0242ac12000d",
       "next": "e56434c8-1510-11e7-b31a-0242ac12000d",
       "previous": "a26a5064-1aa4-11e7-b31a-0242ac12000d"
      }
     ],
     "next": "e56434c8-1510-11e7-b31a-0242ac12000d",
     "previous": "e5643130-1510-11e7-b31a-0242ac12000d"
    }
   },
   "source": [
    "## インストール\n",
    "\n",
    "Elasticsearchのインストールし、設定、起動します。"
   ]
  },
  {
   "cell_type": "markdown",
   "metadata": {
    "hidden": true,
    "lc_cell_meme": {
     "current": "e56434c8-1510-11e7-b31a-0242ac12000d",
     "history": [
      {
       "current": "e56434c8-1510-11e7-b31a-0242ac12000d",
       "next": "e5643694-1510-11e7-b31a-0242ac12000d",
       "previous": "e5643306-1510-11e7-b31a-0242ac12000d"
      }
     ],
     "next": "e5643a22-1510-11e7-b31a-0242ac12000d",
     "previous": "e5643306-1510-11e7-b31a-0242ac12000d"
    }
   },
   "source": [
    "### jdkのインストール\n",
    "Elasticsearchを動作させるために、Javaをインストールします。"
   ]
  },
  {
   "cell_type": "markdown",
   "metadata": {
    "hidden": true,
    "lc_cell_meme": {
     "current": "e5643a22-1510-11e7-b31a-0242ac12000d",
     "history": [
      {
       "current": "e5643a22-1510-11e7-b31a-0242ac12000d",
       "next": "e5643bf8-1510-11e7-b31a-0242ac12000d",
       "previous": "e5643856-1510-11e7-b31a-0242ac12000d"
      }
     ],
     "next": "e5643bf8-1510-11e7-b31a-0242ac12000d",
     "previous": "e56434c8-1510-11e7-b31a-0242ac12000d"
    }
   },
   "source": [
    "次のコマンドを実行してインストールします。"
   ]
  },
  {
   "cell_type": "code",
   "execution_count": 4,
   "metadata": {
    "hidden": true,
    "lc_cell_meme": {
     "current": "e5643bf8-1510-11e7-b31a-0242ac12000d",
     "next": "e5643dba-1510-11e7-b31a-0242ac12000d",
     "previous": "e5643a22-1510-11e7-b31a-0242ac12000d"
    },
    "scrolled": true
   },
   "outputs": [
    {
     "name": "stdout",
     "output_type": "stream",
     "text": [
      "\n",
      "PLAY [all] *********************************************************************\n",
      "\n",
      "TASK [Gathering Facts] *********************************************************\n",
      "\u001b[0;32mok: [i-0bf412a529d12xxxx]\u001b[0m\n",
      "\n",
      "TASK [install jdk] *************************************************************\n",
      "\u001b[0;33mchanged: [i-0bf412a529d12xxxx]\u001b[0m\n",
      "\n",
      "TASK [set JAVA_HOME] ***********************************************************\n",
      "\u001b[0;33mchanged: [i-0bf412a529d12xxxx]\u001b[0m\n",
      "\n",
      "TASK [set PATH] ****************************************************************\n",
      "\u001b[0;33mchanged: [i-0bf412a529d12xxxx]\u001b[0m\n",
      "\n",
      "PLAY RECAP *********************************************************************\n",
      "\u001b[0;33mi-0bf412a529d12xxxx\u001b[0m        : \u001b[0;32mok=4   \u001b[0m \u001b[0;33mchanged=3   \u001b[0m unreachable=0    failed=0   \n",
      "\n"
     ]
    }
   ],
   "source": [
    "!ansible-playbook playbooks/install_jdk.yml -i ./hosts -u $USER --private-key=$KEYPATH"
   ]
  },
  {
   "cell_type": "markdown",
   "metadata": {
    "hidden": true,
    "lc_cell_meme": {
     "current": "e5643dba-1510-11e7-b31a-0242ac12000d",
     "next": "e5643f86-1510-11e7-b31a-0242ac12000d",
     "previous": "e5643bf8-1510-11e7-b31a-0242ac12000d"
    }
   },
   "source": [
    "### Elasticsearchのインストール\n",
    "Elasticsearchのパッケージをインストールします。"
   ]
  },
  {
   "cell_type": "markdown",
   "metadata": {
    "hidden": true,
    "lc_cell_meme": {
     "current": "e5643f86-1510-11e7-b31a-0242ac12000d",
     "history": [
      {
       "current": "e5643f86-1510-11e7-b31a-0242ac12000d",
       "next": "e5644148-1510-11e7-b31a-0242ac12000d",
       "previous": "e5643dba-1510-11e7-b31a-0242ac12000d"
      },
      {
       "current": "e5643f86-1510-11e7-b31a-0242ac12000d",
       "next": "60b0cc30-46d6-11e7-88b1-02420aff0008",
       "previous": "e5643dba-1510-11e7-b31a-0242ac12000d"
      }
     ],
     "next": "e5644148-1510-11e7-b31a-0242ac12000d",
     "previous": "e5643dba-1510-11e7-b31a-0242ac12000d"
    }
   },
   "source": [
    "次のコマンドを実行します。"
   ]
  },
  {
   "cell_type": "code",
   "execution_count": 5,
   "metadata": {
    "hidden": true,
    "lc_cell_meme": {
     "current": "e5644148-1510-11e7-b31a-0242ac12000d",
     "history": [
      {
       "current": "e5644148-1510-11e7-b31a-0242ac12000d",
       "next": "e564430a-1510-11e7-b31a-0242ac12000d",
       "previous": "e5643f86-1510-11e7-b31a-0242ac12000d"
      },
      {
       "current": "e5644148-1510-11e7-b31a-0242ac12000d",
       "next": "e564430a-1510-11e7-b31a-0242ac12000d",
       "previous": "60b0cc30-46d6-11e7-88b1-02420aff0008"
      }
     ],
     "next": "e564430a-1510-11e7-b31a-0242ac12000d",
     "previous": "e5643f86-1510-11e7-b31a-0242ac12000d"
    },
    "scrolled": false
   },
   "outputs": [
    {
     "name": "stdout",
     "output_type": "stream",
     "text": [
      "\n",
      "PLAY [all] *********************************************************************\n",
      "\n",
      "TASK [Gathering Facts] *********************************************************\n",
      "\u001b[0;32mok: [i-0bf412a529d12xxxx]\u001b[0m\n",
      "\n",
      "TASK [install elasticsearch 5.0.0] *********************************************\n",
      "\u001b[0;33mchanged: [i-0bf412a529d12xxxx]\u001b[0m\n",
      "\n",
      "PLAY RECAP *********************************************************************\n",
      "\u001b[0;33mi-0bf412a529d12xxxx\u001b[0m        : \u001b[0;32mok=2   \u001b[0m \u001b[0;33mchanged=1   \u001b[0m unreachable=0    failed=0   \n",
      "\n"
     ]
    }
   ],
   "source": [
    "!ansible-playbook playbooks/install_elasticsearch-5.0.0.yml -i ./hosts -u $USER --private-key=$KEYPATH"
   ]
  },
  {
   "cell_type": "markdown",
   "metadata": {
    "hidden": true,
    "lc_cell_meme": {
     "current": "e564430a-1510-11e7-b31a-0242ac12000d",
     "next": "e56444d6-1510-11e7-b31a-0242ac12000d",
     "previous": "e5644148-1510-11e7-b31a-0242ac12000d"
    }
   },
   "source": [
    "### Elasticsearchの設定\n",
    "Elasticsearchの設定を変更します。以下の2つを反映します。\n",
    "- [01_03_Set_Inventory.ipynb](01_03_Set_Inventory.ipynb)で設定したhosts（インベントリ）のグループ\n",
    "- [01_01_Outline.ipynb](01_01_Outline.ipynb)で出力したgroup_vars/all（パラメータ）"
   ]
  },
  {
   "cell_type": "markdown",
   "metadata": {
    "hidden": true,
    "lc_cell_meme": {
     "current": "e56444d6-1510-11e7-b31a-0242ac12000d",
     "next": "e5644698-1510-11e7-b31a-0242ac12000d",
     "previous": "e564430a-1510-11e7-b31a-0242ac12000d"
    }
   },
   "source": [
    "次のコマンドを実行して、elasticsearch.ymlを設定します。"
   ]
  },
  {
   "cell_type": "code",
   "execution_count": 6,
   "metadata": {
    "hidden": true,
    "lc_cell_meme": {
     "current": "e5644698-1510-11e7-b31a-0242ac12000d",
     "next": "e5644864-1510-11e7-b31a-0242ac12000d",
     "previous": "e56444d6-1510-11e7-b31a-0242ac12000d"
    },
    "scrolled": true
   },
   "outputs": [
    {
     "name": "stdout",
     "output_type": "stream",
     "text": [
      "\n",
      "PLAY [all] *********************************************************************\n",
      "\n",
      "TASK [Gathering Facts] *********************************************************\n",
      "\u001b[0;32mok: [i-0bf412a529d12xxxx]\u001b[0m\n",
      "\n",
      "TASK [set_cluster-name] ********************************************************\n",
      "\u001b[0;33mchanged: [i-0bf412a529d12xxxx]\u001b[0m\n",
      "\n",
      "TASK [set_network-host] ********************************************************\n",
      "\u001b[0;33mchanged: [i-0bf412a529d12xxxx]\u001b[0m\n",
      "\n",
      "TASK [set_node-master] *********************************************************\n",
      "\u001b[0;33mchanged: [i-0bf412a529d12xxxx]\u001b[0m\n",
      "\n",
      "TASK [set_node-data] ***********************************************************\n",
      "\u001b[0;33mchanged: [i-0bf412a529d12xxxx]\u001b[0m\n",
      "\n",
      "TASK [set node-ingest] *********************************************************\n",
      "\u001b[0;33mchanged: [i-0bf412a529d12xxxx]\u001b[0m\n",
      "\n",
      "TASK [set_discovery_zen_minimum_master_nodes] **********************************\n",
      "\u001b[0;33mchanged: [i-0bf412a529d12xxxx]\u001b[0m\n",
      "\n",
      "TASK [set_discovery_zen_ping_unicast_hosts] ************************************\n",
      "\u001b[0;33mchanged: [i-0bf412a529d12xxxx]\u001b[0m\n",
      "\n",
      "PLAY RECAP *********************************************************************\n",
      "\u001b[0;33mi-0bf412a529d12xxxx\u001b[0m        : \u001b[0;32mok=8   \u001b[0m \u001b[0;33mchanged=7   \u001b[0m unreachable=0    failed=0   \n",
      "\n"
     ]
    }
   ],
   "source": [
    "!ansible-playbook playbooks/set_elasticsearch.yml -i ./hosts -u $USER --private-key=$KEYPATH"
   ]
  },
  {
   "cell_type": "markdown",
   "metadata": {
    "hidden": true,
    "lc_cell_meme": {
     "current": "e5644864-1510-11e7-b31a-0242ac12000d",
     "next": "e5644a3a-1510-11e7-b31a-0242ac12000d",
     "previous": "e5644698-1510-11e7-b31a-0242ac12000d"
    }
   },
   "source": [
    "次のコマンドを実行して、ヒープサイズを設定します。/etc/elasticsearch/ にあるjvm.optionsにJavaの起動オプションとして指定します。"
   ]
  },
  {
   "cell_type": "code",
   "execution_count": 7,
   "metadata": {
    "hidden": true,
    "lc_cell_meme": {
     "current": "e5644a3a-1510-11e7-b31a-0242ac12000d",
     "next": "e5644c10-1510-11e7-b31a-0242ac12000d",
     "previous": "e5644864-1510-11e7-b31a-0242ac12000d"
    }
   },
   "outputs": [
    {
     "name": "stdout",
     "output_type": "stream",
     "text": [
      "\n",
      "PLAY [all] *********************************************************************\n",
      "\n",
      "TASK [Gathering Facts] *********************************************************\n",
      "\u001b[0;32mok: [i-0bf412a529d12xxxx]\u001b[0m\n",
      "\n",
      "TASK [set -Xms jvm option] *****************************************************\n",
      "\u001b[0;33mchanged: [i-0bf412a529d12xxxx]\u001b[0m\n",
      "\n",
      "TASK [set -Xmx jvm option] *****************************************************\n",
      "\u001b[0;33mchanged: [i-0bf412a529d12xxxx]\u001b[0m\n",
      "\n",
      "PLAY RECAP *********************************************************************\n",
      "\u001b[0;33mi-0bf412a529d12xxxx\u001b[0m        : \u001b[0;32mok=3   \u001b[0m \u001b[0;33mchanged=2   \u001b[0m unreachable=0    failed=0   \n",
      "\n"
     ]
    }
   ],
   "source": [
    "!ansible-playbook playbooks/set_heap-size.yml -i ./hosts -u $USER --private-key=$KEYPATH"
   ]
  },
  {
   "cell_type": "markdown",
   "metadata": {
    "hidden": true,
    "lc_cell_meme": {
     "current": "e5644c10-1510-11e7-b31a-0242ac12000d",
     "next": "e5644dd2-1510-11e7-b31a-0242ac12000d",
     "previous": "e5644a3a-1510-11e7-b31a-0242ac12000d"
    }
   },
   "source": [
    "次のコマンドを実行して、カーネルパラメータを変更します。  \n",
    "/etc/sysctl.conf のvm.max_map_count に 262144 を設定しています。"
   ]
  },
  {
   "cell_type": "code",
   "execution_count": 8,
   "metadata": {
    "hidden": true,
    "lc_cell_meme": {
     "current": "e5644dd2-1510-11e7-b31a-0242ac12000d",
     "next": "e5644f94-1510-11e7-b31a-0242ac12000d",
     "previous": "e5644c10-1510-11e7-b31a-0242ac12000d"
    }
   },
   "outputs": [
    {
     "name": "stdout",
     "output_type": "stream",
     "text": [
      "\n",
      "PLAY [all] *********************************************************************\n",
      "\n",
      "TASK [Gathering Facts] *********************************************************\n",
      "\u001b[0;32mok: [i-0bf412a529d12xxxx]\u001b[0m\n",
      "\n",
      "TASK [Set vm.max_map_count to 262144 in /etc/sysctl.conf] **********************\n",
      "\u001b[0;33mchanged: [i-0bf412a529d12xxxx]\u001b[0m\n",
      "\n",
      "PLAY RECAP *********************************************************************\n",
      "\u001b[0;33mi-0bf412a529d12xxxx\u001b[0m        : \u001b[0;32mok=2   \u001b[0m \u001b[0;33mchanged=1   \u001b[0m unreachable=0    failed=0   \n",
      "\n"
     ]
    }
   ],
   "source": [
    "!ansible-playbook playbooks/set_kernelparameter.yml -i ./hosts -u $USER --private-key=$KEYPATH"
   ]
  },
  {
   "cell_type": "markdown",
   "metadata": {
    "hidden": true,
    "lc_cell_meme": {
     "current": "e5644f94-1510-11e7-b31a-0242ac12000d",
     "next": "e5645156-1510-11e7-b31a-0242ac12000d",
     "previous": "e5644dd2-1510-11e7-b31a-0242ac12000d"
    }
   },
   "source": [
    "### Elasticsearchの起動\n",
    "Elasticsearchを起動します。"
   ]
  },
  {
   "cell_type": "markdown",
   "metadata": {
    "hidden": true,
    "lc_cell_meme": {
     "current": "e5645156-1510-11e7-b31a-0242ac12000d",
     "next": "e5645322-1510-11e7-b31a-0242ac12000d",
     "previous": "e5644f94-1510-11e7-b31a-0242ac12000d"
    }
   },
   "source": [
    "次のコマンドを実行します。"
   ]
  },
  {
   "cell_type": "code",
   "execution_count": 9,
   "metadata": {
    "hidden": true,
    "lc_cell_meme": {
     "current": "e5645322-1510-11e7-b31a-0242ac12000d",
     "next": "e56454da-1510-11e7-b31a-0242ac12000d",
     "previous": "e5645156-1510-11e7-b31a-0242ac12000d"
    },
    "scrolled": false
   },
   "outputs": [
    {
     "name": "stdout",
     "output_type": "stream",
     "text": [
      "\n",
      "PLAY [all] *********************************************************************\n",
      "\n",
      "TASK [Gathering Facts] *********************************************************\n",
      "\u001b[0;32mok: [i-0bf412a529d12xxxx]\u001b[0m\n",
      "\n",
      "TASK [start elasticsearch] *****************************************************\n",
      "\u001b[0;33mchanged: [i-0bf412a529d12xxxx]\u001b[0m\n",
      "\n",
      "PLAY RECAP *********************************************************************\n",
      "\u001b[0;33mi-0bf412a529d12xxxx\u001b[0m        : \u001b[0;32mok=2   \u001b[0m \u001b[0;33mchanged=1   \u001b[0m unreachable=0    failed=0   \n",
      "\n"
     ]
    }
   ],
   "source": [
    "!ansible-playbook playbooks/start_cluster.yml -i ./hosts -u $USER --private-key=$KEYPATH"
   ]
  },
  {
   "cell_type": "markdown",
   "metadata": {
    "hidden": true,
    "lc_cell_meme": {
     "current": "e56454da-1510-11e7-b31a-0242ac12000d",
     "next": "e56456a6-1510-11e7-b31a-0242ac12000d",
     "previous": "e5645322-1510-11e7-b31a-0242ac12000d"
    }
   },
   "source": [
    "各サーバの起動は次のコマンドで確認してください。"
   ]
  },
  {
   "cell_type": "code",
   "execution_count": 10,
   "metadata": {
    "hidden": true,
    "lc_cell_meme": {
     "current": "e56456a6-1510-11e7-b31a-0242ac12000d",
     "next": "e564587c-1510-11e7-b31a-0242ac12000d",
     "previous": "e56454da-1510-11e7-b31a-0242ac12000d"
    },
    "scrolled": true
   },
   "outputs": [
    {
     "name": "stdout",
     "output_type": "stream",
     "text": [
      "\u001b[0;32mi-0bf412a529d12xxxx | SUCCESS | rc=0 >>\u001b[0m\r\n",
      "\u001b[0;32m● elasticsearch.service - Elasticsearch\u001b[0m\r\n",
      "\u001b[0;32m   Loaded: loaded (/usr/lib/systemd/system/elasticsearch.service; disabled; vendor preset: disabled)\u001b[0m\r\n",
      "\u001b[0;32m   Active: active (running) since Sun 2017-07-30 12:53:43 UTC; 9s ago\u001b[0m\r\n",
      "\u001b[0;32m     Docs: http://www.elastic.co\u001b[0m\r\n",
      "\u001b[0;32m  Process: 11051 ExecStartPre=/usr/share/elasticsearch/bin/elasticsearch-systemd-pre-exec (code=exited, status=0/SUCCESS)\u001b[0m\r\n",
      "\u001b[0;32m Main PID: 11053 (java)\u001b[0m\r\n",
      "\u001b[0;32m   CGroup: /system.slice/elasticsearch.service\u001b[0m\r\n",
      "\u001b[0;32m           └─11053 /bin/java -Xms31g -Xmx31g -XX:+UseConcMarkSweepGC -XX:CMSInitiatingOccupancyFraction=75 -XX:+UseCMSInitiatingOccupancyOnly -XX:+DisableExplicitGC -XX:+AlwaysPreTouch -server -Djava.awt.headless=true -Dfile.encoding=UTF-8 -Djna.nosys=true -Dio.netty.noUnsafe=true -Dio.netty.noKeySetOptimization=true -Dlog4j.shutdownHookEnabled=false -Dlog4j2.disable.jmx=true -Dlog4j.skipJansi=true -XX:+HeapDumpOnOutOfMemoryError -Des.path.home=/usr/share/elasticsearch -cp /usr/share/elasticsearch/lib/elasticsearch-5.0.0.jar:/usr/share/elasticsearch/lib/* org.elasticsearch.bootstrap.Elasticsearch -p /var/run/elasticsearch/elasticsearch.pid --quiet -Edefault.path.logs=/var/log/elasticsearch -Edefault.path.data=/var/lib/elasticsearch -Edefault.path.conf=/etc/elasticsearch\u001b[0m\r\n",
      "\u001b[0;32m\u001b[0m\r\n",
      "\u001b[0;32mJul 30 12:53:43 ip-10-30-117-160 systemd[1]: Starting Elasticsearch...\u001b[0m\r\n",
      "\u001b[0;32mJul 30 12:53:43 ip-10-30-117-160 systemd[1]: Started Elasticsearch.\u001b[0m\r\n",
      "\u001b[0;32m\u001b[0m\r\n"
     ]
    }
   ],
   "source": [
    "!ansible all -m shell -b -a \"systemctl status elasticsearch\" -i ./hosts -u $USER --private-key=$KEYPATH"
   ]
  },
  {
   "cell_type": "markdown",
   "metadata": {
    "hidden": true,
    "lc_cell_meme": {
     "current": "e564587c-1510-11e7-b31a-0242ac12000d",
     "next": "e5645a3e-1510-11e7-b31a-0242ac12000d",
     "previous": "e56456a6-1510-11e7-b31a-0242ac12000d"
    }
   },
   "source": [
    "次のように  \n",
    "**Active: active (running)**    \n",
    "と表示されれば正常に起動しています。"
   ]
  },
  {
   "cell_type": "raw",
   "metadata": {
    "hidden": true,
    "lc_cell_meme": {
     "current": "e5645a3e-1510-11e7-b31a-0242ac12000d",
     "history": [
      {
       "current": "e5645a3e-1510-11e7-b31a-0242ac12000d",
       "next": "e5645c0a-1510-11e7-b31a-0242ac12000d",
       "previous": "e564587c-1510-11e7-b31a-0242ac12000d"
      }
     ],
     "next": "c6f25a84-4a93-11e7-b091-02420aff0006",
     "previous": "e564587c-1510-11e7-b31a-0242ac12000d"
    }
   },
   "source": [
    " Active: active (running) since Thu 2016-10-27 13:16:16 JST; 31min ago"
   ]
  },
  {
   "cell_type": "markdown",
   "metadata": {
    "hidden": true,
    "lc_cell_meme": {
     "current": "c6f25a84-4a93-11e7-b091-02420aff0006",
     "next": "c6f25c96-4a93-11e7-b091-02420aff0006",
     "previous": "e5645a3e-1510-11e7-b31a-0242ac12000d"
    }
   },
   "source": [
    "以下のコマンドでクラスタのヘルスチェックをすることができます。\n",
    "\n",
    "> 以下のセルを実行した際に、 `Failed to connect to 10.24.128.128 port 9200: Connection refused` などと表示される場合は、まだサービスが起動しきれていない可能性があります。しばらく待って、再度セル実行を試してみてください。"
   ]
  },
  {
   "cell_type": "code",
   "execution_count": 11,
   "metadata": {
    "hidden": true,
    "lc_cell_meme": {
     "current": "c6f25c96-4a93-11e7-b091-02420aff0006",
     "next": "e5645c0a-1510-11e7-b31a-0242ac12000d",
     "previous": "c6f25a84-4a93-11e7-b091-02420aff0006"
    }
   },
   "outputs": [
    {
     "name": "stdout",
     "output_type": "stream",
     "text": [
      "{\r\n",
      "  \"cluster_name\" : \"es-cluster\",\r\n",
      "  \"status\" : \"green\",\r\n",
      "  \"timed_out\" : false,\r\n",
      "  \"number_of_nodes\" : 1,\r\n",
      "  \"number_of_data_nodes\" : 1,\r\n",
      "  \"active_primary_shards\" : 0,\r\n",
      "  \"active_shards\" : 0,\r\n",
      "  \"relocating_shards\" : 0,\r\n",
      "  \"initializing_shards\" : 0,\r\n",
      "  \"unassigned_shards\" : 0,\r\n",
      "  \"delayed_unassigned_shards\" : 0,\r\n",
      "  \"number_of_pending_tasks\" : 0,\r\n",
      "  \"number_of_in_flight_fetch\" : 0,\r\n",
      "  \"task_max_waiting_in_queue_millis\" : 0,\r\n",
      "  \"active_shards_percent_as_number\" : 100.0\r\n",
      "}\r\n"
     ]
    }
   ],
   "source": [
    "!curl -XGET http://$ES_CLIENT/_cluster/health?pretty"
   ]
  },
  {
   "cell_type": "markdown",
   "metadata": {
    "hidden": true,
    "lc_cell_meme": {
     "current": "e5645c0a-1510-11e7-b31a-0242ac12000d",
     "history": [
      {
       "current": "e5645c0a-1510-11e7-b31a-0242ac12000d",
       "next": "e5645dcc-1510-11e7-b31a-0242ac12000d",
       "previous": "e5645a3e-1510-11e7-b31a-0242ac12000d"
      }
     ],
     "next": "e5645dcc-1510-11e7-b31a-0242ac12000d",
     "previous": "c6f25c96-4a93-11e7-b091-02420aff0006"
    }
   },
   "source": [
    "### Elasticsearchのテンプレートの投入\n",
    "Shard数、Replica数を、インデックステンプレートの形でで投入することで設定します。"
   ]
  },
  {
   "cell_type": "markdown",
   "metadata": {
    "hidden": true,
    "lc_cell_meme": {
     "current": "e5645dcc-1510-11e7-b31a-0242ac12000d",
     "next": "e5645fa2-1510-11e7-b31a-0242ac12000d",
     "previous": "e5645c0a-1510-11e7-b31a-0242ac12000d"
    }
   },
   "source": [
    "[Index Templates](https://www.elastic.co/guide/en/elasticsearch/reference/current/indices-templates.html)とはインデックス単位の設定やマッピングを定義したもので、インデックス生成時に適用されます。  \n",
    "投入はAPIにて実施します。よってElasticsearchが起動したあとの投入となります。\n",
    "\n",
    "次のコマンドを実行して、テンプレートを投入します。\n",
    "\n",
    "> 以下のコマンド実行に失敗する場合は、 [#Elasticsearchの起動](#Elasticsearchの起動) にてサービスが起動しているか、ヘルスチェックに応答しているかを確認するようにしてください。"
   ]
  },
  {
   "cell_type": "code",
   "execution_count": 12,
   "metadata": {
    "hidden": true,
    "lc_cell_meme": {
     "current": "e5645fa2-1510-11e7-b31a-0242ac12000d",
     "next": "e564616e-1510-11e7-b31a-0242ac12000d",
     "previous": "e5645dcc-1510-11e7-b31a-0242ac12000d"
    },
    "scrolled": true
   },
   "outputs": [
    {
     "name": "stdout",
     "output_type": "stream",
     "text": [
      "\n",
      "PLAY [data-nodes[0]] ***********************************************************\n",
      "\n",
      "TASK [Gathering Facts] *********************************************************\n",
      "\u001b[0;32mok: [i-0bf412a529d12xxxx]\u001b[0m\n",
      "\n",
      "TASK [post param] **************************************************************\n",
      "\u001b[0;32mok: [i-0bf412a529d12xxxx]\u001b[0m\n",
      "\n",
      "PLAY RECAP *********************************************************************\n",
      "\u001b[0;32mi-0bf412a529d12xxxx\u001b[0m        : \u001b[0;32mok=2   \u001b[0m changed=0    unreachable=0    failed=0   \n",
      "\n"
     ]
    }
   ],
   "source": [
    "!ansible-playbook playbooks/set_api_parameter.yml -i ./hosts -u $USER --private-key=$KEYPATH"
   ]
  },
  {
   "cell_type": "markdown",
   "metadata": {
    "hidden": true,
    "lc_cell_meme": {
     "current": "e564616e-1510-11e7-b31a-0242ac12000d",
     "next": "e5646330-1510-11e7-b31a-0242ac12000d",
     "previous": "e5645fa2-1510-11e7-b31a-0242ac12000d"
    }
   },
   "source": [
    "投入した内容は次のコマンドで表示できます。"
   ]
  },
  {
   "cell_type": "code",
   "execution_count": 13,
   "metadata": {
    "hidden": true,
    "lc_cell_meme": {
     "current": "e5646330-1510-11e7-b31a-0242ac12000d",
     "next": "e5646506-1510-11e7-b31a-0242ac12000d",
     "previous": "e564616e-1510-11e7-b31a-0242ac12000d"
    }
   },
   "outputs": [
    {
     "name": "stdout",
     "output_type": "stream",
     "text": [
      "{\r\n",
      "  \"template_base\" : {\r\n",
      "    \"order\" : 0,\r\n",
      "    \"template\" : \"*\",\r\n",
      "    \"settings\" : {\r\n",
      "      \"index\" : {\r\n",
      "        \"number_of_shards\" : \"1\",\r\n",
      "        \"number_of_replicas\" : \"0\"\r\n",
      "      }\r\n",
      "    },\r\n",
      "    \"mappings\" : { },\r\n",
      "    \"aliases\" : { }\r\n",
      "  }\r\n",
      "}\r\n"
     ]
    }
   ],
   "source": [
    "!curl -XGET $ES_CLIENT/_template/template_base?pretty"
   ]
  },
  {
   "cell_type": "markdown",
   "metadata": {
    "hidden": true,
    "lc_cell_meme": {
     "current": "e5646506-1510-11e7-b31a-0242ac12000d",
     "next": "e56466c8-1510-11e7-b31a-0242ac12000d",
     "previous": "e5646330-1510-11e7-b31a-0242ac12000d"
    }
   },
   "source": [
    "- テンプレートには任意の名称を指定できます。このコマンドではtemplate_baseという名称にしています。\n",
    "- **\"template\"**パラメータは、このテンプレートを適用する先のインデックス名を指定しています。\n",
    "  - **\"template\" : \"*\" **としているので全インデックスに適用されます。\n",
    "- あるインデックスが複数のテンプレートにマッチする場合、**\"order\"** に指定した数が大きいものが優先されます。\n",
    "  - このコマンドでは **\"order\" : 0 ** としているので最低の優先度となっており、よってどんな追加の指定でも上書き可能です。\n",
    "- **\"number_of_shards\"**、**\"number_of_replicas\" **でShard数、Replica数を指定しています。\n"
   ]
  },
  {
   "cell_type": "markdown",
   "metadata": {
    "hidden": true,
    "lc_cell_meme": {
     "current": "e56466c8-1510-11e7-b31a-0242ac12000d",
     "next": "e564689e-1510-11e7-b31a-0242ac12000d",
     "previous": "e5646506-1510-11e7-b31a-0242ac12000d"
    }
   },
   "source": [
    "テンプレートの変更を投入すること自体は任意のタイミングで可能ですが、変更前に投入されたインデックスに変更結果は適用されません。  \n",
    "インデックスの投入前に必要なテンプレートを投入する必要があります。  \n",
    "詳細はElasticsearch Referenceの[Index Templates](https://www.elastic.co/guide/en/elasticsearch/reference/current/indices-templates.html)を参照してください。"
   ]
  },
  {
   "cell_type": "markdown",
   "metadata": {
    "collapsed": true,
    "hidden": true,
    "lc_cell_meme": {
     "current": "e564689e-1510-11e7-b31a-0242ac12000d",
     "next": "e5646a6a-1510-11e7-b31a-0242ac12000d",
     "previous": "e56466c8-1510-11e7-b31a-0242ac12000d"
    }
   },
   "source": [
    "### Logstashのインストール\n",
    "Logstashのパッケージをインストールします。"
   ]
  },
  {
   "cell_type": "markdown",
   "metadata": {
    "hidden": true,
    "lc_cell_meme": {
     "current": "e5646a6a-1510-11e7-b31a-0242ac12000d",
     "next": "e5646c36-1510-11e7-b31a-0242ac12000d",
     "previous": "e564689e-1510-11e7-b31a-0242ac12000d"
    }
   },
   "source": [
    "次のコマンドを実行します。"
   ]
  },
  {
   "cell_type": "code",
   "execution_count": 14,
   "metadata": {
    "hidden": true,
    "lc_cell_meme": {
     "current": "e5646c36-1510-11e7-b31a-0242ac12000d",
     "next": "e5646e02-1510-11e7-b31a-0242ac12000d",
     "previous": "e5646a6a-1510-11e7-b31a-0242ac12000d"
    },
    "scrolled": true
   },
   "outputs": [
    {
     "name": "stdout",
     "output_type": "stream",
     "text": [
      "\n",
      "PLAY [logstash-server] *********************************************************\n",
      "\n",
      "TASK [Gathering Facts] *********************************************************\n",
      "\u001b[0;32mok: [i-0bf412a529d12xxxx]\u001b[0m\n",
      "\n",
      "TASK [install logstash 5.0.0] **************************************************\n",
      "\u001b[0;33mchanged: [i-0bf412a529d12xxxx]\u001b[0m\n",
      "\n",
      "PLAY RECAP *********************************************************************\n",
      "\u001b[0;33mi-0bf412a529d12xxxx\u001b[0m        : \u001b[0;32mok=2   \u001b[0m \u001b[0;33mchanged=1   \u001b[0m unreachable=0    failed=0   \n",
      "\n"
     ]
    }
   ],
   "source": [
    "!ansible-playbook playbooks/install_logstash-5.0.0.yml -i ./hosts -u $USER --private-key=$KEYPATH"
   ]
  },
  {
   "cell_type": "markdown",
   "metadata": {
    "heading_collapsed": true,
    "lc_cell_meme": {
     "current": "e5646e02-1510-11e7-b31a-0242ac12000d",
     "next": "e5646fc4-1510-11e7-b31a-0242ac12000d",
     "previous": "e5646c36-1510-11e7-b31a-0242ac12000d"
    }
   },
   "source": [
    "## クラスタのステータスの確認方法と監視方法\n",
    "クラスタのステータスを確認するためにCluster APIを発行します。"
   ]
  },
  {
   "cell_type": "markdown",
   "metadata": {
    "hidden": true,
    "lc_cell_meme": {
     "current": "e5646fc4-1510-11e7-b31a-0242ac12000d",
     "next": "e5647186-1510-11e7-b31a-0242ac12000d",
     "previous": "e5646e02-1510-11e7-b31a-0242ac12000d"
    }
   },
   "source": [
    "> ※本節では、クラスタの簡単な状態を確認するAPIのみを紹介します。  \n",
    "> 　詳細の確認やエラーの把握、各種リソースの状態チェックなどを実施したい場合は  \n",
    "> 　**[01_05_Diagnostics.ipynb](01_05_Diagnostics.ipynb)**を利用してください。"
   ]
  },
  {
   "cell_type": "markdown",
   "metadata": {
    "hidden": true,
    "lc_cell_meme": {
     "current": "e5647186-1510-11e7-b31a-0242ac12000d",
     "next": "e564735c-1510-11e7-b31a-0242ac12000d",
     "previous": "e5646fc4-1510-11e7-b31a-0242ac12000d"
    }
   },
   "source": [
    "概要を表示したい場合にはCluster Health APIを用います。  \n",
    "クラスタの状態や、クラスタに属しているノードの数などを見ることができます。"
   ]
  },
  {
   "cell_type": "code",
   "execution_count": 15,
   "metadata": {
    "hidden": true,
    "lc_cell_meme": {
     "current": "e564735c-1510-11e7-b31a-0242ac12000d",
     "next": "e5647528-1510-11e7-b31a-0242ac12000d",
     "previous": "e5647186-1510-11e7-b31a-0242ac12000d"
    },
    "scrolled": false
   },
   "outputs": [
    {
     "name": "stdout",
     "output_type": "stream",
     "text": [
      "{\r\n",
      "  \"cluster_name\" : \"es-cluster\",\r\n",
      "  \"status\" : \"green\",\r\n",
      "  \"timed_out\" : false,\r\n",
      "  \"number_of_nodes\" : 1,\r\n",
      "  \"number_of_data_nodes\" : 1,\r\n",
      "  \"active_primary_shards\" : 0,\r\n",
      "  \"active_shards\" : 0,\r\n",
      "  \"relocating_shards\" : 0,\r\n",
      "  \"initializing_shards\" : 0,\r\n",
      "  \"unassigned_shards\" : 0,\r\n",
      "  \"delayed_unassigned_shards\" : 0,\r\n",
      "  \"number_of_pending_tasks\" : 0,\r\n",
      "  \"number_of_in_flight_fetch\" : 0,\r\n",
      "  \"task_max_waiting_in_queue_millis\" : 0,\r\n",
      "  \"active_shards_percent_as_number\" : 100.0\r\n",
      "}\r\n"
     ]
    }
   ],
   "source": [
    "!curl -XGET http://$ES_CLIENT/_cluster/health?pretty"
   ]
  },
  {
   "cell_type": "markdown",
   "metadata": {
    "hidden": true,
    "lc_cell_meme": {
     "current": "e5647528-1510-11e7-b31a-0242ac12000d",
     "next": "e56476f4-1510-11e7-b31a-0242ac12000d",
     "previous": "e564735c-1510-11e7-b31a-0242ac12000d"
    }
   },
   "source": [
    "上記のコマンドを実行して得られる出力の中で、**status**や**number_of_nodes**を見れば  \n",
    "クラスタの状態およびクラスタ内のノード数を確認することができます。  \n",
    "データ投入直後などは、クラスタの状態がyellowになっている場合があります。その際はgreenになったことを確認してから検索などを行ってください。"
   ]
  },
  {
   "cell_type": "markdown",
   "metadata": {
    "hidden": true,
    "lc_cell_meme": {
     "current": "e56476f4-1510-11e7-b31a-0242ac12000d",
     "next": "e56478c0-1510-11e7-b31a-0242ac12000d",
     "previous": "e5647528-1510-11e7-b31a-0242ac12000d"
    }
   },
   "source": [
    "出力例"
   ]
  },
  {
   "cell_type": "raw",
   "metadata": {
    "hidden": true,
    "lc_cell_meme": {
     "current": "e56478c0-1510-11e7-b31a-0242ac12000d",
     "next": "e5647a82-1510-11e7-b31a-0242ac12000d",
     "previous": "e56476f4-1510-11e7-b31a-0242ac12000d"
    }
   },
   "source": [
    "　\"status\" : \"green\",\n",
    "  \"number_of_nodes\" : 5"
   ]
  },
  {
   "cell_type": "markdown",
   "metadata": {
    "hidden": true,
    "lc_cell_meme": {
     "current": "e5647a82-1510-11e7-b31a-0242ac12000d",
     "next": "e5647d02-1510-11e7-b31a-0242ac12000d",
     "previous": "e56478c0-1510-11e7-b31a-0242ac12000d"
    }
   },
   "source": [
    "より詳細な情報を確認したい場合にはCluster Stats APIを用います。"
   ]
  },
  {
   "cell_type": "code",
   "execution_count": 16,
   "metadata": {
    "hidden": true,
    "lc_cell_meme": {
     "current": "e5647d02-1510-11e7-b31a-0242ac12000d",
     "next": "e5647f28-1510-11e7-b31a-0242ac12000d",
     "previous": "e5647a82-1510-11e7-b31a-0242ac12000d"
    },
    "scrolled": true
   },
   "outputs": [
    {
     "name": "stdout",
     "output_type": "stream",
     "text": [
      "{\n",
      "  \"_nodes\" : {\n",
      "    \"total\" : 1,\n",
      "    \"successful\" : 1,\n",
      "    \"failed\" : 0\n",
      "  },\n",
      "  \"cluster_name\" : \"es-cluster\",\n",
      "  \"timestamp\" : 1501419291846,\n",
      "  \"status\" : \"green\",\n",
      "  \"indices\" : {\n",
      "    \"count\" : 0,\n",
      "    \"shards\" : { },\n",
      "    \"docs\" : {\n",
      "      \"count\" : 0,\n",
      "      \"deleted\" : 0\n",
      "    },\n",
      "    \"store\" : {\n",
      "      \"size_in_bytes\" : 0,\n",
      "      \"throttle_time_in_millis\" : 0\n",
      "    },\n",
      "    \"fielddata\" : {\n",
      "      \"memory_size_in_bytes\" : 0,\n",
      "      \"evictions\" : 0\n",
      "    },\n",
      "    \"query_cache\" : {\n",
      "      \"memory_size_in_bytes\" : 0,\n",
      "      \"total_count\" : 0,\n",
      "      \"hit_count\" : 0,\n",
      "      \"miss_count\" : 0,\n",
      "      \"cache_size\" : 0,\n",
      "      \"cache_count\" : 0,\n",
      "      \"evictions\" : 0\n",
      "    },\n",
      "    \"completion\" : {\n",
      "      \"size_in_bytes\" : 0\n",
      "    },\n",
      "    \"segments\" : {\n",
      "      \"count\" : 0,\n",
      "      \"memory_in_bytes\" : 0,\n",
      "      \"terms_memory_in_bytes\" : 0,\n",
      "      \"stored_fields_memory_in_bytes\" : 0,\n",
      "      \"term_vectors_memory_in_bytes\" : 0,\n",
      "      \"norms_memory_in_bytes\" : 0,\n",
      "      \"points_memory_in_bytes\" : 0,\n",
      "      \"doc_values_memory_in_bytes\" : 0,\n",
      "      \"index_writer_memory_in_bytes\" : 0,\n",
      "      \"version_map_memory_in_bytes\" : 0,\n",
      "      \"fixed_bit_set_memory_in_bytes\" : 0,\n",
      "      \"max_unsafe_auto_id_timestamp\" : -9223372036854775808,\n",
      "      \"file_sizes\" : { }\n",
      "    }\n",
      "  },\n",
      "  \"nodes\" : {\n",
      "    \"count\" : {\n",
      "      \"total\" : 1,\n",
      "      \"data\" : 1,\n",
      "      \"coordinating_only\" : 0,\n",
      "      \"master\" : 1,\n",
      "      \"ingest\" : 1\n",
      "    },\n",
      "    \"versions\" : [\n",
      "      \"5.0.0\"\n",
      "    ],\n",
      "    \"os\" : {\n",
      "      \"available_processors\" : 16,\n",
      "      \"allocated_processors\" : 16,\n",
      "      \"names\" : [\n",
      "        {\n",
      "          \"name\" : \"Linux\",\n",
      "          \"count\" : 1\n",
      "        }\n",
      "      ],\n",
      "      \"mem\" : {\n",
      "        \"total_in_bytes\" : 67104788480,\n",
      "        \"free_in_bytes\" : 31166857216,\n",
      "        \"used_in_bytes\" : 35937931264,\n",
      "        \"free_percent\" : 46,\n",
      "        \"used_percent\" : 54\n",
      "      }\n",
      "    },\n",
      "    \"process\" : {\n",
      "      \"cpu\" : {\n",
      "        \"percent\" : 1\n",
      "      },\n",
      "      \"open_file_descriptors\" : {\n",
      "        \"min\" : 387,\n",
      "        \"max\" : 387,\n",
      "        \"avg\" : 387\n",
      "      }\n",
      "    },\n",
      "    \"jvm\" : {\n",
      "      \"max_uptime_in_millis\" : 67952,\n",
      "      \"versions\" : [\n",
      "        {\n",
      "          \"version\" : \"1.8.0_141\",\n",
      "          \"vm_name\" : \"OpenJDK 64-Bit Server VM\",\n",
      "          \"vm_version\" : \"25.141-b16\",\n",
      "          \"vm_vendor\" : \"Oracle Corporation\",\n",
      "          \"count\" : 1\n",
      "        }\n",
      "      ],\n",
      "      \"mem\" : {\n",
      "        \"heap_used_in_bytes\" : 255688384,\n",
      "        \"heap_max_in_bytes\" : 33172619264\n",
      "      },\n",
      "      \"threads\" : 27\n",
      "    },\n",
      "    \"fs\" : {\n",
      "      \"total_in_bytes\" : 1099494543360,\n",
      "      \"free_in_bytes\" : 1097575350272,\n",
      "      \"available_in_bytes\" : 1097575350272\n",
      "    },\n",
      "    \"plugins\" : [ ],\n",
      "    \"network_types\" : {\n",
      "      \"transport_types\" : {\n",
      "        \"netty4\" : 1\n",
      "      },\n",
      "      \"http_types\" : {\n",
      "        \"netty4\" : 1\n",
      "      }\n",
      "    }\n",
      "  }\n",
      "}\n"
     ]
    }
   ],
   "source": [
    "!curl -XGET http://$ES_CLIENT/_cluster/stats?pretty"
   ]
  },
  {
   "cell_type": "markdown",
   "metadata": {
    "hidden": true,
    "lc_cell_meme": {
     "current": "e5647f28-1510-11e7-b31a-0242ac12000d",
     "next": "e56480fe-1510-11e7-b31a-0242ac12000d",
     "previous": "e5647d02-1510-11e7-b31a-0242ac12000d"
    }
   },
   "source": [
    "このコマンドでは、シャードやメモリに関する情報を取得することができます。  \n",
    "詳細はElasticsearch Referenceの[Cluster Stats](https://www.elastic.co/guide/en/elasticsearch/reference/current/cluster-stats.html)を参照してください。"
   ]
  },
  {
   "cell_type": "markdown",
   "metadata": {
    "hidden": true,
    "lc_cell_meme": {
     "current": "e56480fe-1510-11e7-b31a-0242ac12000d",
     "next": "e56482ca-1510-11e7-b31a-0242ac12000d",
     "previous": "e5647f28-1510-11e7-b31a-0242ac12000d"
    }
   },
   "source": [
    "### Monitoringによる監視"
   ]
  },
  {
   "cell_type": "markdown",
   "metadata": {
    "hidden": true,
    "lc_cell_meme": {
     "current": "e56482ca-1510-11e7-b31a-0242ac12000d",
     "next": "e5648496-1510-11e7-b31a-0242ac12000d",
     "previous": "e56480fe-1510-11e7-b31a-0242ac12000d"
    }
   },
   "source": [
    "Monitoring([公式ページ](https://www.elastic.co/guide/en/x-pack/current/xpack-monitoring.html))はサブスクリプションを購入すると利用できる「X-Pack」をインストールすることで有効になる機能です。  \n",
    "\n",
    "Elasticsearchの稼働状況を監視するプラグインで、CPU使用率やディスクサイズ、Latencyなどの情報を取得することができます。  \n",
    "取得した情報はElasticsearchに登録されるので、あとから遡ってクラスタのステータスを確認することも可能です。  \n",
    "\n",
    "また、X-Packに含まれるWatcherを用いることで、特定の条件下で通知を行うこともできます。  \n",
    "例） CPU使用率が特定の値を超えた、ディスク空き容量が一定量を下回ったなど。"
   ]
  },
  {
   "cell_type": "markdown",
   "metadata": {
    "heading_collapsed": true,
    "lc_cell_meme": {
     "current": "e5648496-1510-11e7-b31a-0242ac12000d",
     "next": "e5648662-1510-11e7-b31a-0242ac12000d",
     "previous": "e56482ca-1510-11e7-b31a-0242ac12000d"
    }
   },
   "source": [
    "## Logstashへのサンプルデータ投入（オプション）\n",
    "インストール済みのLogstashに、この後のNotebookで利用するサンプルデータを投入します。"
   ]
  },
  {
   "cell_type": "markdown",
   "metadata": {
    "hidden": true,
    "lc_cell_meme": {
     "current": "e5648662-1510-11e7-b31a-0242ac12000d",
     "next": "e5648838-1510-11e7-b31a-0242ac12000d",
     "previous": "e5648496-1510-11e7-b31a-0242ac12000d"
    }
   },
   "source": [
    "＃**この後の「02_Search.ipynb」以降のサンプルコマンドを実施する場合は、本節によりサンプルデータを投入してください。**  \n",
    "＃**サンプルデータが不要であれば、この節の内容はスキップしてください。**"
   ]
  },
  {
   "cell_type": "markdown",
   "metadata": {
    "hidden": true,
    "lc_cell_meme": {
     "current": "e5648838-1510-11e7-b31a-0242ac12000d",
     "next": "e5648a04-1510-11e7-b31a-0242ac12000d",
     "previous": "e5648662-1510-11e7-b31a-0242ac12000d"
    }
   },
   "source": [
    "### 環境設定ファイルの設置\n",
    "Logstash用の環境設定ファイルをサーバにコピーします。"
   ]
  },
  {
   "cell_type": "markdown",
   "metadata": {
    "collapsed": true,
    "hidden": true,
    "lc_cell_meme": {
     "current": "e5648a04-1510-11e7-b31a-0242ac12000d",
     "next": "e5648bc6-1510-11e7-b31a-0242ac12000d",
     "previous": "e5648838-1510-11e7-b31a-0242ac12000d"
    },
    "variables": {
     "ES_CLIENT": "157.1.207.232:9200"
    }
   },
   "source": [
    "サンプルデータをElasticsearchに登録するための設定は、[logstash_conf/main.conf](logstash_conf/main.conf)を用います。  \n",
    "LogstashサーバがData Nodeと同じホストに無い場合は、  \n",
    "main.confの \"**hosts => ～～**\" の部分にClient Nodeか、それが無い場合はData Nodeのリストを定義してください。  \n",
    "複数の場合は  \n",
    "[\"127.0.0.1:9200\",\"127.0.0.2:9200\"]  \n",
    "のようにします。"
   ]
  },
  {
   "cell_type": "raw",
   "metadata": {
    "hidden": true,
    "lc_cell_meme": {
     "current": "e5648bc6-1510-11e7-b31a-0242ac12000d",
     "next": "e5648d92-1510-11e7-b31a-0242ac12000d",
     "previous": "e5648a04-1510-11e7-b31a-0242ac12000d"
    }
   },
   "source": [
    "output{\n",
    "  elasticsearch{\n",
    "    hosts => \"localhost:9200\" ★ここを定義します。\n",
    "    index => \"meteorological-data-%{+YYYY.MM}\"\n",
    "    document_id => \"%{location}_%{date}\"\n",
    "  }\n",
    "}"
   ]
  },
  {
   "cell_type": "markdown",
   "metadata": {
    "hidden": true,
    "lc_cell_meme": {
     "current": "e5648d92-1510-11e7-b31a-0242ac12000d",
     "next": "e5648f5e-1510-11e7-b31a-0242ac12000d",
     "previous": "e5648bc6-1510-11e7-b31a-0242ac12000d"
    }
   },
   "source": [
    "次のリンクから修正してください。"
   ]
  },
  {
   "cell_type": "markdown",
   "metadata": {
    "hidden": true,
    "lc_cell_meme": {
     "current": "e5648f5e-1510-11e7-b31a-0242ac12000d",
     "next": "e564912a-1510-11e7-b31a-0242ac12000d",
     "previous": "e5648d92-1510-11e7-b31a-0242ac12000d"
    }
   },
   "source": [
    "- **[main.conf](../edit/logstash_conf/main.conf)**"
   ]
  },
  {
   "cell_type": "markdown",
   "metadata": {
    "hidden": true,
    "lc_cell_meme": {
     "current": "e564912a-1510-11e7-b31a-0242ac12000d",
     "next": "e56492ec-1510-11e7-b31a-0242ac12000d",
     "previous": "e5648f5e-1510-11e7-b31a-0242ac12000d"
    }
   },
   "source": [
    "ここで利用するmain.confは標準入力で読み込んだCSV形式の内容をElasticsearchに格納するための設定です。  \n",
    "具体的な意味は[04_Store_Data](04_Store_Data.ipynb)で説明します。"
   ]
  },
  {
   "cell_type": "markdown",
   "metadata": {
    "hidden": true,
    "lc_cell_meme": {
     "current": "e56492ec-1510-11e7-b31a-0242ac12000d",
     "next": "e56494b8-1510-11e7-b31a-0242ac12000d",
     "previous": "e564912a-1510-11e7-b31a-0242ac12000d"
    }
   },
   "source": [
    "main.confを /etc/logstash/conf.d/ 配下にコピーします。"
   ]
  },
  {
   "cell_type": "code",
   "execution_count": 17,
   "metadata": {
    "hidden": true,
    "lc_cell_meme": {
     "current": "e56494b8-1510-11e7-b31a-0242ac12000d",
     "next": "e5649684-1510-11e7-b31a-0242ac12000d",
     "previous": "e56492ec-1510-11e7-b31a-0242ac12000d"
    }
   },
   "outputs": [
    {
     "name": "stdout",
     "output_type": "stream",
     "text": [
      "\n",
      "PLAY [logstash-server] *********************************************************\n",
      "\n",
      "TASK [Gathering Facts] *********************************************************\n",
      "\u001b[0;32mok: [i-0bf412a529d12xxxx]\u001b[0m\n",
      "\n",
      "TASK [copy local main.conf to remote] ******************************************\n",
      "\u001b[0;33mchanged: [i-0bf412a529d12xxxx]\u001b[0m\n",
      "\n",
      "PLAY RECAP *********************************************************************\n",
      "\u001b[0;33mi-0bf412a529d12xxxx\u001b[0m        : \u001b[0;32mok=2   \u001b[0m \u001b[0;33mchanged=1   \u001b[0m unreachable=0    failed=0   \n",
      "\n"
     ]
    }
   ],
   "source": [
    "!ansible-playbook playbooks/copy_logstash_conf.yml --extra-vars \"notebooks_home=$notebooks_home\" -i ./hosts -u $USER --private-key=$KEYPATH"
   ]
  },
  {
   "cell_type": "markdown",
   "metadata": {
    "hidden": true,
    "lc_cell_meme": {
     "current": "e5649684-1510-11e7-b31a-0242ac12000d",
     "next": "e5649846-1510-11e7-b31a-0242ac12000d",
     "previous": "e56494b8-1510-11e7-b31a-0242ac12000d"
    }
   },
   "source": [
    "### データ型の定義（マッピング定義）\n",
    "サンプルデータ用のCSVの各列について、データ型をあらかじめ定義しておきます。"
   ]
  },
  {
   "cell_type": "markdown",
   "metadata": {
    "hidden": true,
    "lc_cell_meme": {
     "current": "e5649846-1510-11e7-b31a-0242ac12000d",
     "next": "e5649a12-1510-11e7-b31a-0242ac12000d",
     "previous": "e5649684-1510-11e7-b31a-0242ac12000d"
    }
   },
   "source": [
    "データ型の種類およびマッピング定義の詳細に関しては[05_Indexing](05_Indexing.ipynb)を参照してください。  \n",
    "次のコマンドを実行してマッピング定義を行います。  "
   ]
  },
  {
   "cell_type": "code",
   "execution_count": 18,
   "metadata": {
    "hidden": true,
    "lc_cell_meme": {
     "current": "e5649a12-1510-11e7-b31a-0242ac12000d",
     "next": "e5649bde-1510-11e7-b31a-0242ac12000d",
     "previous": "e5649846-1510-11e7-b31a-0242ac12000d"
    }
   },
   "outputs": [
    {
     "name": "stdout",
     "output_type": "stream",
     "text": [
      "{\"acknowledged\":true}"
     ]
    },
    {
     "name": "stderr",
     "output_type": "stream",
     "text": [
      "  % Total    % Received % Xferd  Average Speed   Time    Time     Time  Current\n",
      "                                 Dload  Upload   Total   Spent    Left  Speed\n",
      "\r",
      "  0     0    0     0    0     0      0      0 --:--:-- --:--:-- --:--:--     0\r",
      "100  1394  100    21  100  1373     34   2274 --:--:-- --:--:-- --:--:--  2276\n"
     ]
    }
   ],
   "source": [
    "%%bash\n",
    "curl -XPUT \"http://$ES_CLIENT/_template/weather\" -d @- << EOF\n",
    "{\n",
    "  \"template\" : \"meteorological-data-*\",\n",
    "  \"mappings\": {\n",
    "    \"logs\": {\n",
    "      \"dynamic_templates\" : [\n",
    "        {\n",
    "          \"my_strings\" : {\n",
    "            \"match_mapping_type\" : \"string\",\n",
    "            \"mapping\" : {\n",
    "              \"type\" : \"keyword\"\n",
    "            }\n",
    "          }\n",
    "        }\n",
    "      ],\n",
    "      \"properties\": {\n",
    "        \"atmospheric_pressure\": {\n",
    "          \"type\": \"float\"\n",
    "        },\n",
    "        \"sea_level_pressure\":{\n",
    "          \"type\": \"float\"\n",
    "        },\n",
    "        \"precipitation_day\": {\n",
    "          \"type\": \"integer\"\n",
    "        },\n",
    "        \"precipitation_day\": {\n",
    "          \"type\": \"float\"\n",
    "        },\n",
    "        \"precipitation_max_hour\":{\n",
    "          \"type\":\"float\"\n",
    "        },\n",
    "        \"precipitation_max_10min\":{\n",
    "          \"type\":\"float\"\n",
    "        },\n",
    "        \"temperature_avg\":{\n",
    "          \"type\":\"float\"\n",
    "        },\n",
    "        \"temperature_max\":{\n",
    "          \"type\":\"float\"\n",
    "        },\n",
    "        \"temperature_min\":{\n",
    "          \"type\":\"float\"\n",
    "        },\n",
    "        \"humidity_avg\":{\n",
    "          \"type\":\"float\"\n",
    "        },\n",
    "        \"humidity_min\":{\n",
    "          \"type\":\"float\"\n",
    "        },\n",
    "        \"wind_speed_avg\":{\n",
    "          \"type\":\"float\"\n",
    "        },\n",
    "        \"wind_speed_max\":{\n",
    "          \"type\":\"float\"\n",
    "        },\n",
    "        \"wind_speed_max_moment\":{\n",
    "          \"type\":\"float\"\n",
    "        },\n",
    "        \"sunshine_duration\":{\n",
    "          \"type\":\"float\"\n",
    "        },\n",
    "        \"snowfall\":{\n",
    "          \"type\":\"float\"\n",
    "        },\n",
    "        \"snowfall_max\":{\n",
    "          \"type\":\"float\"\n",
    "        }\n",
    "      }\n",
    "    }\n",
    "  }\n",
    "}\n",
    "EOF"
   ]
  },
  {
   "cell_type": "markdown",
   "metadata": {
    "hidden": true,
    "lc_cell_meme": {
     "current": "e5649bde-1510-11e7-b31a-0242ac12000d",
     "next": "e5649daa-1510-11e7-b31a-0242ac12000d",
     "previous": "e5649a12-1510-11e7-b31a-0242ac12000d"
    }
   },
   "source": [
    "### サンプルデータの投入\n",
    "実際のサンプルデータをLogstashに投入します。"
   ]
  },
  {
   "cell_type": "markdown",
   "metadata": {
    "hidden": true,
    "lc_cell_meme": {
     "current": "e5649daa-1510-11e7-b31a-0242ac12000d",
     "next": "e5649f6c-1510-11e7-b31a-0242ac12000d",
     "previous": "e5649bde-1510-11e7-b31a-0242ac12000d"
    }
   },
   "source": [
    "ここでは気象庁から提供されている気象データを利用します。\n",
    "[気象庁「過去の気象データ・ダウンロード」](http://www.data.jma.go.jp/gmd/risk/obsdl/)\n",
    "\n",
    "公開されているデータのうち、2015年の東京のデータ(1年分)を本Notebookで利用するCSV形式に変換し、サンプルデータとして利用します([tokyo2015.csv](sample_data/tokyo2015.csv))。\n",
    "\n",
    "サンプルデータと気象庁データの項目は、次のように対応しています。\n",
    "\n",
    "| サンプルデータの項目 | 気象庁データの項目 | 備考 |\n",
    "|-----------|--------------------|------|\n",
    "| @timestamp | 年月日 ||\n",
    "| location | 地点 | 気象庁データに直接の記載はないため、変換時に追加した |\n",
    "| atmospheric_pressure | 日平均現地気圧 ||\n",
    "| sea_level_pressure | 日平均海面気圧 ||\n",
    "| precipitation_day | 降水量の日合計 ||\n",
    "| precipitation_max_hour | 1時間降水量の日最大 ||\n",
    "| precipitation_max_10min | 10分間降水量の日最大 ||\n",
    "| temperature_avg | 日平均気温 ||\n",
    "| temperature_max | 日最高気温 ||\n",
    "| temperature_min | 日最低気温 ||\n",
    "| humidity_avg | 日平均相対湿度 ||\n",
    "| humidity_min | 日最小相対湿度 ||\n",
    "| wind_speed_avg | 日平均風速 ||\n",
    "| wind_speed_max | 日最大風速 ||\n",
    "| wind_direction | 日最大風速（風向） ||\n",
    "| wind_speed_max_moment | 日最大瞬間風速 ||\n",
    "| wind_direction_max_moment | 日最大瞬間風速（風向） ||\n",
    "| sunshine_duration | 日照時間 ||\n",
    "| snowfall | 降雪量の日合計 ||\n",
    "| snowfall_max | 日最深積雪 ||\n",
    "| information_daytime | 天気概況（昼：06時～18時） ||\n",
    "| information_night | 天気概況（夜：18時～翌日06時） |||\n",
    "\n",
    "気象庁データの利用あたっては気象庁が公開している[利用規約](http://www.jma.go.jp/jma/kishou/info/coment.html)を参照してください。"
   ]
  },
  {
   "cell_type": "markdown",
   "metadata": {
    "hidden": true,
    "lc_cell_meme": {
     "current": "e5649f6c-1510-11e7-b31a-0242ac12000d",
     "next": "e564a138-1510-11e7-b31a-0242ac12000d",
     "previous": "e5649daa-1510-11e7-b31a-0242ac12000d"
    }
   },
   "source": [
    "登録するデータの内容は次のコマンドで確認できます。1行目がデータの項目を表し、2行目以降が実際のデータです。  \n",
    "Elasticsearchは慣習として時刻情報を@timestampというフィールドに格納します。"
   ]
  },
  {
   "cell_type": "code",
   "execution_count": 19,
   "metadata": {
    "hidden": true,
    "lc_cell_meme": {
     "current": "e564a138-1510-11e7-b31a-0242ac12000d",
     "next": "e564a336-1510-11e7-b31a-0242ac12000d",
     "previous": "e5649f6c-1510-11e7-b31a-0242ac12000d"
    },
    "scrolled": true
   },
   "outputs": [
    {
     "name": "stdout",
     "output_type": "stream",
     "text": [
      "@timestamp,location,atmospheric_pressure,sea_level_pressure,precipitation_day,precipitation_max_hour,precipitation_max_10min,temperature_avg,temperature_max,temperature_min,humidity_avg,humidity_min,wind_speed_avg,wind_speed_max,wind_direction,wind_speed_max_moment,wind_direction_max_moment,sunshine_duration,snowfall,snowfall_max,information_daytime,information_night\r\n",
      "2015-01-01T00:00:00,tokyo,1000.4,1003.4,0,0,0,3.7,8.2,0.7,41.0,30.0,4.4,9.4,西,18.7,北西,1.3,,,時々晴一時雪,晴\r\n",
      "2015-01-02T00:00:00,tokyo,1007.4,1010.4,,,,2.7,7.9,-2.2,41.0,19.0,2.1,4.2,西,7.8,西,6.0,,,時々曇,一時曇\r\n",
      "2015-01-03T00:00:00,tokyo,1012.0,1015.1,,,,3.8,8.9,-1.1,42.0,19.0,3.0,7.4,北西,10.9,北西,8.9,,,晴,後薄曇\r\n",
      "2015-01-04T00:00:00,tokyo,1010.4,1013.4,,,,4.0,9.3,-0.4,51.0,33.0,1.3,2.8,北西,3.8,北東,6.0,,,後晴,晴\r\n"
     ]
    }
   ],
   "source": [
    "!head -n 5 ./sample_data/tokyo2015.csv"
   ]
  },
  {
   "cell_type": "markdown",
   "metadata": {
    "hidden": true,
    "lc_cell_meme": {
     "current": "e564a336-1510-11e7-b31a-0242ac12000d",
     "next": "e564a50c-1510-11e7-b31a-0242ac12000d",
     "previous": "e564a138-1510-11e7-b31a-0242ac12000d"
    }
   },
   "source": [
    "Logstashのサーバーにサンプルデータをコピーします。   \n",
    "Logstashをインストールしたサーバーの ~/ 配下に[sample_data](sample_data)のtokyo2015.csvをコピーします。"
   ]
  },
  {
   "cell_type": "code",
   "execution_count": 20,
   "metadata": {
    "hidden": true,
    "lc_cell_meme": {
     "current": "e564a50c-1510-11e7-b31a-0242ac12000d",
     "next": "e564a6d8-1510-11e7-b31a-0242ac12000d",
     "previous": "e564a336-1510-11e7-b31a-0242ac12000d"
    },
    "scrolled": true
   },
   "outputs": [
    {
     "name": "stdout",
     "output_type": "stream",
     "text": [
      "\n",
      "PLAY [logstash-server] *********************************************************\n",
      "\n",
      "TASK [Gathering Facts] *********************************************************\n",
      "\u001b[0;32mok: [i-0bf412a529d12xxxx]\u001b[0m\n",
      "\n",
      "TASK [copy local sample data to remote] ****************************************\n",
      "\u001b[0;33mchanged: [i-0bf412a529d12xxxx]\u001b[0m\n",
      "\n",
      "PLAY RECAP *********************************************************************\n",
      "\u001b[0;33mi-0bf412a529d12xxxx\u001b[0m        : \u001b[0;32mok=2   \u001b[0m \u001b[0;33mchanged=1   \u001b[0m unreachable=0    failed=0   \n",
      "\n"
     ]
    }
   ],
   "source": [
    "!ansible-playbook playbooks/copy_sample_data.yml --extra-vars \"notebooks_home=$notebooks_home\" -i ./hosts -u $USER --private-key=$KEYPATH"
   ]
  },
  {
   "cell_type": "markdown",
   "metadata": {
    "hidden": true,
    "lc_cell_meme": {
     "current": "e564a6d8-1510-11e7-b31a-0242ac12000d",
     "next": "e564a8ae-1510-11e7-b31a-0242ac12000d",
     "previous": "e564a50c-1510-11e7-b31a-0242ac12000d"
    }
   },
   "source": [
    "Logstashを使ってサンプルデータをElasticsearchに登録します。次のセルのコマンドを実行してください。"
   ]
  },
  {
   "cell_type": "code",
   "execution_count": 21,
   "metadata": {
    "hidden": true,
    "lc_cell_meme": {
     "current": "e564a8ae-1510-11e7-b31a-0242ac12000d",
     "next": "e564aa7a-1510-11e7-b31a-0242ac12000d",
     "previous": "e564a6d8-1510-11e7-b31a-0242ac12000d"
    },
    "scrolled": true
   },
   "outputs": [
    {
     "name": "stdout",
     "output_type": "stream",
     "text": [
      "\u001b[0;32mi-0bf412a529d12xxxx | SUCCESS | rc=0 >>\u001b[0m\r\n",
      "\u001b[0;32mSending Logstash logs to /var/log/logstash which is now configured via log4j2.properties.\u001b[0m\r\n",
      "\u001b[0;32m\u001b[0m\r\n"
     ]
    }
   ],
   "source": [
    "!ansible logstash-server -m shell -a \"cat tokyo2015.csv | sudo /usr/share/logstash/bin/logstash --path.settings /etc/logstash -f /etc/logstash/conf.d/main.conf\" -i ./hosts -u $USER --private-key=$KEYPATH"
   ]
  },
  {
   "cell_type": "markdown",
   "metadata": {
    "hidden": true,
    "lc_cell_meme": {
     "current": "e564aa7a-1510-11e7-b31a-0242ac12000d",
     "next": "e564ac50-1510-11e7-b31a-0242ac12000d",
     "previous": "e564a8ae-1510-11e7-b31a-0242ac12000d"
    }
   },
   "source": [
    "データが登録されているかどうかは、次のセルを実行することで確認できます。"
   ]
  },
  {
   "cell_type": "code",
   "execution_count": 22,
   "metadata": {
    "hidden": true,
    "lc_cell_meme": {
     "current": "e564ac50-1510-11e7-b31a-0242ac12000d",
     "next": "e564ae26-1510-11e7-b31a-0242ac12000d",
     "previous": "e564aa7a-1510-11e7-b31a-0242ac12000d"
    },
    "scrolled": true
   },
   "outputs": [
    {
     "name": "stdout",
     "output_type": "stream",
     "text": [
      "{\r\n",
      "  \"took\" : 34,\r\n",
      "  \"timed_out\" : false,\r\n",
      "  \"_shards\" : {\r\n",
      "    \"total\" : 13,\r\n",
      "    \"successful\" : 13,\r\n",
      "    \"failed\" : 0\r\n",
      "  },\r\n",
      "  \"hits\" : {\r\n",
      "    \"total\" : 358,\r\n",
      "    \"max_score\" : 1.0,\r\n",
      "    \"hits\" : [\r\n",
      "      {\r\n",
      "        \"_index\" : \"meteorological-data-2015.01\",\r\n",
      "        \"_type\" : \"logs\",\r\n",
      "        \"_id\" : \"tokyo_15-01-01\",\r\n",
      "        \"_score\" : 1.0,\r\n",
      "        \"_source\" : {\r\n",
      "          \"date\" : \"15-01-01\",\r\n",
      "          \"wind_speed_avg\" : \"4.4\",\r\n",
      "          \"snowfall\" : null,\r\n",
      "          \"temperature_max\" : \"8.2\",\r\n",
      "          \"precipitation_day\" : \"0\",\r\n",
      "          \"wind_speed_max\" : \"9.4\",\r\n",
      "          \"sunshine_duration\" : \"1.3\",\r\n",
      "          \"temperature_avg\" : \"3.7\",\r\n",
      "          \"temperature_min\" : \"0.7\",\r\n",
      "          \"@version\" : \"1\",\r\n",
      "          \"wind_direction_max_moment\" : \"北西\",\r\n",
      "          \"information_night\" : \"晴\",\r\n",
      "          \"precipitation_max_10min\" : \"0\",\r\n",
      "          \"precipitation_max_hour\" : \"0\",\r\n",
      "          \"wind_direction\" : \"西\",\r\n",
      "          \"information_daytime\" : \"時々晴一時雪\",\r\n",
      "          \"@timestamp\" : \"2015-01-01T00:00:00.000Z\",\r\n",
      "          \"humidity_avg\" : \"41.0\",\r\n",
      "          \"humidity_min\" : \"30.0\",\r\n",
      "          \"atmospheric_pressure\" : \"1000.4\",\r\n",
      "          \"location\" : \"tokyo\",\r\n",
      "          \"wind_speed_max_moment\" : \"18.7\",\r\n",
      "          \"snowfall_max\" : null,\r\n",
      "          \"sea_level_pressure\" : \"1003.4\"\r\n",
      "        }\r\n",
      "      },\r\n",
      "      {\r\n",
      "        \"_index\" : \"meteorological-data-2015.01\",\r\n",
      "        \"_type\" : \"logs\",\r\n",
      "        \"_id\" : \"tokyo_15-01-02\",\r\n",
      "        \"_score\" : 1.0,\r\n",
      "        \"_source\" : {\r\n",
      "          \"date\" : \"15-01-02\",\r\n",
      "          \"wind_speed_avg\" : \"2.1\",\r\n",
      "          \"snowfall\" : null,\r\n",
      "          \"temperature_max\" : \"7.9\",\r\n",
      "          \"precipitation_day\" : null,\r\n",
      "          \"wind_speed_max\" : \"4.2\",\r\n",
      "          \"sunshine_duration\" : \"6.0\",\r\n",
      "          \"temperature_avg\" : \"2.7\",\r\n",
      "          \"temperature_min\" : \"-2.2\",\r\n",
      "          \"@version\" : \"1\",\r\n",
      "          \"wind_direction_max_moment\" : \"西\",\r\n",
      "          \"information_night\" : \"一時曇\",\r\n",
      "          \"precipitation_max_10min\" : null,\r\n",
      "          \"precipitation_max_hour\" : null,\r\n",
      "          \"wind_direction\" : \"西\",\r\n",
      "          \"information_daytime\" : \"時々曇\",\r\n",
      "          \"@timestamp\" : \"2015-01-02T00:00:00.000Z\",\r\n",
      "          \"humidity_avg\" : \"41.0\",\r\n",
      "          \"humidity_min\" : \"19.0\",\r\n",
      "          \"atmospheric_pressure\" : \"1007.4\",\r\n",
      "          \"location\" : \"tokyo\",\r\n",
      "          \"wind_speed_max_moment\" : \"7.8\",\r\n",
      "          \"snowfall_max\" : null,\r\n",
      "          \"sea_level_pressure\" : \"1010.4\"\r\n",
      "        }\r\n",
      "      },\r\n",
      "      {\r\n",
      "        \"_index\" : \"meteorological-data-2015.01\",\r\n",
      "        \"_type\" : \"logs\",\r\n",
      "        \"_id\" : \"tokyo_15-01-03\",\r\n",
      "        \"_score\" : 1.0,\r\n",
      "        \"_source\" : {\r\n",
      "          \"date\" : \"15-01-03\",\r\n",
      "          \"wind_speed_avg\" : \"3.0\",\r\n",
      "          \"snowfall\" : null,\r\n",
      "          \"temperature_max\" : \"8.9\",\r\n",
      "          \"precipitation_day\" : null,\r\n",
      "          \"wind_speed_max\" : \"7.4\",\r\n",
      "          \"sunshine_duration\" : \"8.9\",\r\n",
      "          \"temperature_avg\" : \"3.8\",\r\n",
      "          \"temperature_min\" : \"-1.1\",\r\n",
      "          \"@version\" : \"1\",\r\n",
      "          \"wind_direction_max_moment\" : \"北西\",\r\n",
      "          \"information_night\" : \"後薄曇\",\r\n",
      "          \"precipitation_max_10min\" : null,\r\n",
      "          \"precipitation_max_hour\" : null,\r\n",
      "          \"wind_direction\" : \"北西\",\r\n",
      "          \"information_daytime\" : \"晴\",\r\n",
      "          \"@timestamp\" : \"2015-01-03T00:00:00.000Z\",\r\n",
      "          \"humidity_avg\" : \"42.0\",\r\n",
      "          \"humidity_min\" : \"19.0\",\r\n",
      "          \"atmospheric_pressure\" : \"1012.0\",\r\n",
      "          \"location\" : \"tokyo\",\r\n",
      "          \"wind_speed_max_moment\" : \"10.9\",\r\n",
      "          \"snowfall_max\" : null,\r\n",
      "          \"sea_level_pressure\" : \"1015.1\"\r\n",
      "        }\r\n",
      "      },\r\n",
      "      {\r\n",
      "        \"_index\" : \"meteorological-data-2015.01\",\r\n",
      "        \"_type\" : \"logs\",\r\n",
      "        \"_id\" : \"tokyo_15-01-04\",\r\n",
      "        \"_score\" : 1.0,\r\n",
      "        \"_source\" : {\r\n",
      "          \"date\" : \"15-01-04\",\r\n",
      "          \"wind_speed_avg\" : \"1.3\",\r\n",
      "          \"snowfall\" : null,\r\n",
      "          \"temperature_max\" : \"9.3\",\r\n",
      "          \"precipitation_day\" : null,\r\n",
      "          \"wind_speed_max\" : \"2.8\",\r\n",
      "          \"sunshine_duration\" : \"6.0\",\r\n",
      "          \"temperature_avg\" : \"4.0\",\r\n",
      "          \"temperature_min\" : \"-0.4\",\r\n",
      "          \"@version\" : \"1\",\r\n",
      "          \"wind_direction_max_moment\" : \"北東\",\r\n",
      "          \"information_night\" : \"晴\",\r\n",
      "          \"precipitation_max_10min\" : null,\r\n",
      "          \"precipitation_max_hour\" : null,\r\n",
      "          \"wind_direction\" : \"北西\",\r\n",
      "          \"information_daytime\" : \"後晴\",\r\n",
      "          \"@timestamp\" : \"2015-01-04T00:00:00.000Z\",\r\n",
      "          \"humidity_avg\" : \"51.0\",\r\n",
      "          \"humidity_min\" : \"33.0\",\r\n",
      "          \"atmospheric_pressure\" : \"1010.4\",\r\n",
      "          \"location\" : \"tokyo\",\r\n",
      "          \"wind_speed_max_moment\" : \"3.8\",\r\n",
      "          \"snowfall_max\" : null,\r\n",
      "          \"sea_level_pressure\" : \"1013.4\"\r\n",
      "        }\r\n",
      "      },\r\n",
      "      {\r\n",
      "        \"_index\" : \"meteorological-data-2015.01\",\r\n",
      "        \"_type\" : \"logs\",\r\n",
      "        \"_id\" : \"tokyo_15-01-05\",\r\n",
      "        \"_score\" : 1.0,\r\n",
      "        \"_source\" : {\r\n",
      "          \"date\" : \"15-01-05\",\r\n",
      "          \"wind_speed_avg\" : \"2.4\",\r\n",
      "          \"snowfall\" : null,\r\n",
      "          \"temperature_max\" : \"12.9\",\r\n",
      "          \"precipitation_day\" : null,\r\n",
      "          \"wind_speed_max\" : \"5.0\",\r\n",
      "          \"sunshine_duration\" : \"8.9\",\r\n",
      "          \"temperature_avg\" : \"6.9\",\r\n",
      "          \"temperature_min\" : \"1.3\",\r\n",
      "          \"@version\" : \"1\",\r\n",
      "          \"wind_direction_max_moment\" : \"北西\",\r\n",
      "          \"information_night\" : \"一時晴\",\r\n",
      "          \"precipitation_max_10min\" : null,\r\n",
      "          \"precipitation_max_hour\" : null,\r\n",
      "          \"wind_direction\" : \"北西\",\r\n",
      "          \"information_daytime\" : \"晴\",\r\n",
      "          \"@timestamp\" : \"2015-01-05T00:00:00.000Z\",\r\n",
      "          \"humidity_avg\" : \"56.0\",\r\n",
      "          \"humidity_min\" : \"29.0\",\r\n",
      "          \"atmospheric_pressure\" : \"1014.6\",\r\n",
      "          \"location\" : \"tokyo\",\r\n",
      "          \"wind_speed_max_moment\" : \"9.1\",\r\n",
      "          \"snowfall_max\" : null,\r\n",
      "          \"sea_level_pressure\" : \"1017.5\"\r\n",
      "        }\r\n",
      "      },\r\n",
      "      {\r\n",
      "        \"_index\" : \"meteorological-data-2015.01\",\r\n",
      "        \"_type\" : \"logs\",\r\n",
      "        \"_id\" : \"tokyo_15-01-06\",\r\n",
      "        \"_score\" : 1.0,\r\n",
      "        \"_source\" : {\r\n",
      "          \"date\" : \"15-01-06\",\r\n",
      "          \"wind_speed_avg\" : \"5.2\",\r\n",
      "          \"snowfall\" : null,\r\n",
      "          \"temperature_max\" : \"16.0\",\r\n",
      "          \"precipitation_day\" : \"6.5\",\r\n",
      "          \"wind_speed_max\" : \"8.9\",\r\n",
      "          \"sunshine_duration\" : \"0.2\",\r\n",
      "          \"temperature_avg\" : \"10.8\",\r\n",
      "          \"temperature_min\" : \"5.8\",\r\n",
      "          \"@version\" : \"1\",\r\n",
      "          \"wind_direction_max_moment\" : null,\r\n",
      "          \"information_night\" : \"時々晴\",\r\n",
      "          \"precipitation_max_10min\" : \"1.5\",\r\n",
      "          \"precipitation_max_hour\" : \"5.0\",\r\n",
      "          \"wind_direction\" : \"南西\",\r\n",
      "          \"information_daytime\" : \"後時々雨\",\r\n",
      "          \"@timestamp\" : \"2015-01-06T00:00:00.000Z\",\r\n",
      "          \"humidity_avg\" : \"64.0\",\r\n",
      "          \"humidity_min\" : \"40.0\",\r\n",
      "          \"atmospheric_pressure\" : \"1000.6\",\r\n",
      "          \"location\" : \"tokyo\",\r\n",
      "          \"wind_speed_max_moment\" : \"19.3\",\r\n",
      "          \"snowfall_max\" : null,\r\n",
      "          \"sea_level_pressure\" : \"1003.5\"\r\n",
      "        }\r\n",
      "      },\r\n",
      "      {\r\n",
      "        \"_index\" : \"meteorological-data-2015.01\",\r\n",
      "        \"_type\" : \"logs\",\r\n",
      "        \"_id\" : \"tokyo_15-01-07\",\r\n",
      "        \"_score\" : 1.0,\r\n",
      "        \"_source\" : {\r\n",
      "          \"date\" : \"15-01-07\",\r\n",
      "          \"wind_speed_avg\" : \"4.2\",\r\n",
      "          \"snowfall\" : null,\r\n",
      "          \"temperature_max\" : \"10.2\",\r\n",
      "          \"precipitation_day\" : null,\r\n",
      "          \"wind_speed_max\" : \"7.0\",\r\n",
      "          \"sunshine_duration\" : \"3.3\",\r\n",
      "          \"temperature_avg\" : \"5.6\",\r\n",
      "          \"temperature_min\" : \"3.0\",\r\n",
      "          \"@version\" : \"1\",\r\n",
      "          \"wind_direction_max_moment\" : \"北西\",\r\n",
      "          \"information_night\" : \"晴\",\r\n",
      "          \"precipitation_max_10min\" : null,\r\n",
      "          \"precipitation_max_hour\" : null,\r\n",
      "          \"wind_direction\" : \"北西\",\r\n",
      "          \"information_daytime\" : \"時々曇\",\r\n",
      "          \"@timestamp\" : \"2015-01-07T00:00:00.000Z\",\r\n",
      "          \"humidity_avg\" : \"35.0\",\r\n",
      "          \"humidity_min\" : \"23.0\",\r\n",
      "          \"atmospheric_pressure\" : \"1000.5\",\r\n",
      "          \"location\" : \"tokyo\",\r\n",
      "          \"wind_speed_max_moment\" : \"16.1\",\r\n",
      "          \"snowfall_max\" : null,\r\n",
      "          \"sea_level_pressure\" : \"1003.4\"\r\n",
      "        }\r\n",
      "      },\r\n",
      "      {\r\n",
      "        \"_index\" : \"meteorological-data-2015.01\",\r\n",
      "        \"_type\" : \"logs\",\r\n",
      "        \"_id\" : \"tokyo_15-01-08\",\r\n",
      "        \"_score\" : 1.0,\r\n",
      "        \"_source\" : {\r\n",
      "          \"date\" : \"15-01-08\",\r\n",
      "          \"wind_speed_avg\" : \"4.4\",\r\n",
      "          \"snowfall\" : null,\r\n",
      "          \"temperature_max\" : \"11.2\",\r\n",
      "          \"precipitation_day\" : null,\r\n",
      "          \"wind_speed_max\" : \"8.4\",\r\n",
      "          \"sunshine_duration\" : \"8.9\",\r\n",
      "          \"temperature_avg\" : \"6.2\",\r\n",
      "          \"temperature_min\" : \"2.0\",\r\n",
      "          \"@version\" : \"1\",\r\n",
      "          \"wind_direction_max_moment\" : \"北西\",\r\n",
      "          \"information_night\" : \"晴\",\r\n",
      "          \"precipitation_max_10min\" : null,\r\n",
      "          \"precipitation_max_hour\" : null,\r\n",
      "          \"wind_direction\" : \"西\",\r\n",
      "          \"information_daytime\" : \"晴\",\r\n",
      "          \"@timestamp\" : \"2015-01-08T00:00:00.000Z\",\r\n",
      "          \"humidity_avg\" : \"33.0\",\r\n",
      "          \"humidity_min\" : \"20.0\",\r\n",
      "          \"atmospheric_pressure\" : \"1006.2\",\r\n",
      "          \"location\" : \"tokyo\",\r\n",
      "          \"wind_speed_max_moment\" : \"13.6\",\r\n",
      "          \"snowfall_max\" : null,\r\n",
      "          \"sea_level_pressure\" : \"1009.2\"\r\n",
      "        }\r\n",
      "      },\r\n",
      "      {\r\n",
      "        \"_index\" : \"meteorological-data-2015.01\",\r\n",
      "        \"_type\" : \"logs\",\r\n",
      "        \"_id\" : \"tokyo_15-01-09\",\r\n",
      "        \"_score\" : 1.0,\r\n",
      "        \"_source\" : {\r\n",
      "          \"date\" : \"15-01-09\",\r\n",
      "          \"wind_speed_avg\" : \"4.1\",\r\n",
      "          \"snowfall\" : null,\r\n",
      "          \"temperature_max\" : \"11.0\",\r\n",
      "          \"precipitation_day\" : null,\r\n",
      "          \"wind_speed_max\" : \"8.1\",\r\n",
      "          \"sunshine_duration\" : \"8.9\",\r\n",
      "          \"temperature_avg\" : \"6.7\",\r\n",
      "          \"temperature_min\" : \"3.5\",\r\n",
      "          \"@version\" : \"1\",\r\n",
      "          \"wind_direction_max_moment\" : \"西\",\r\n",
      "          \"information_night\" : \"晴\",\r\n",
      "          \"precipitation_max_10min\" : null,\r\n",
      "          \"precipitation_max_hour\" : null,\r\n",
      "          \"wind_direction\" : \"西\",\r\n",
      "          \"information_daytime\" : \"晴\",\r\n",
      "          \"@timestamp\" : \"2015-01-09T00:00:00.000Z\",\r\n",
      "          \"humidity_avg\" : \"31.0\",\r\n",
      "          \"humidity_min\" : \"21.0\",\r\n",
      "          \"atmospheric_pressure\" : \"1008.2\",\r\n",
      "          \"location\" : \"tokyo\",\r\n",
      "          \"wind_speed_max_moment\" : \"14.4\",\r\n",
      "          \"snowfall_max\" : null,\r\n",
      "          \"sea_level_pressure\" : \"1011.2\"\r\n",
      "        }\r\n",
      "      },\r\n",
      "      {\r\n",
      "        \"_index\" : \"meteorological-data-2015.01\",\r\n",
      "        \"_type\" : \"logs\",\r\n",
      "        \"_id\" : \"tokyo_15-01-10\",\r\n",
      "        \"_score\" : 1.0,\r\n",
      "        \"_source\" : {\r\n",
      "          \"date\" : \"15-01-10\",\r\n",
      "          \"wind_speed_avg\" : \"3.5\",\r\n",
      "          \"snowfall\" : null,\r\n",
      "          \"temperature_max\" : \"11.2\",\r\n",
      "          \"precipitation_day\" : null,\r\n",
      "          \"wind_speed_max\" : \"8.8\",\r\n",
      "          \"sunshine_duration\" : \"9.1\",\r\n",
      "          \"temperature_avg\" : \"6.3\",\r\n",
      "          \"temperature_min\" : \"1.9\",\r\n",
      "          \"@version\" : \"1\",\r\n",
      "          \"wind_direction_max_moment\" : \"西\",\r\n",
      "          \"information_night\" : \"晴\",\r\n",
      "          \"precipitation_max_10min\" : null,\r\n",
      "          \"precipitation_max_hour\" : null,\r\n",
      "          \"wind_direction\" : \"西\",\r\n",
      "          \"information_daytime\" : \"晴\",\r\n",
      "          \"@timestamp\" : \"2015-01-10T00:00:00.000Z\",\r\n",
      "          \"humidity_avg\" : \"31.0\",\r\n",
      "          \"humidity_min\" : \"16.0\",\r\n",
      "          \"atmospheric_pressure\" : \"1008.8\",\r\n",
      "          \"location\" : \"tokyo\",\r\n",
      "          \"wind_speed_max_moment\" : \"17.7\",\r\n",
      "          \"snowfall_max\" : null,\r\n",
      "          \"sea_level_pressure\" : \"1011.8\"\r\n",
      "        }\r\n",
      "      }\r\n",
      "    ]\r\n",
      "  }\r\n",
      "}\r\n"
     ]
    }
   ],
   "source": [
    "!curl -XGET http://$ES_CLIENT/meteorological-data-*/_search/?pretty"
   ]
  },
  {
   "cell_type": "markdown",
   "metadata": {
    "hidden": true,
    "lc_cell_meme": {
     "current": "e564ae26-1510-11e7-b31a-0242ac12000d",
     "next": "e564aff2-1510-11e7-b31a-0242ac12000d",
     "previous": "e564ac50-1510-11e7-b31a-0242ac12000d"
    }
   },
   "source": [
    "登録したデータの内容がJSON形式で表示されるので、それを確認してください。  \n",
    "レスポンスのサイズを指定していないため、ここでは最大10件まで確認できます。  "
   ]
  },
  {
   "cell_type": "markdown",
   "metadata": {
    "hidden": true,
    "lc_cell_meme": {
     "current": "e564aff2-1510-11e7-b31a-0242ac12000d",
     "next": "e564b1be-1510-11e7-b31a-0242ac12000d",
     "previous": "e564ae26-1510-11e7-b31a-0242ac12000d"
    }
   },
   "source": [
    "### 分散配置の状態確認\n",
    "投入したでデータがData Nodeにどのように配置されているか確認します。"
   ]
  },
  {
   "cell_type": "markdown",
   "metadata": {
    "hidden": true,
    "lc_cell_meme": {
     "current": "e564b1be-1510-11e7-b31a-0242ac12000d",
     "next": "e564b394-1510-11e7-b31a-0242ac12000d",
     "previous": "e564aff2-1510-11e7-b31a-0242ac12000d"
    }
   },
   "source": [
    "次のコマンドで、Data NodeごとにPrimary/Replica Shardが分散配置されている状況を確認できます。"
   ]
  },
  {
   "cell_type": "code",
   "execution_count": 23,
   "metadata": {
    "hidden": true,
    "lc_cell_meme": {
     "current": "e564b394-1510-11e7-b31a-0242ac12000d",
     "next": "e564b560-1510-11e7-b31a-0242ac12000d",
     "previous": "e564b1be-1510-11e7-b31a-0242ac12000d"
    }
   },
   "outputs": [
    {
     "name": "stdout",
     "output_type": "stream",
     "text": [
      "index                       shard prirep state   docs  store ip            node\r\n",
      "meteorological-data-2015.07 0     p      STARTED   31 26.9kb 10.30.xxx.xxx fGNTupV\r\n",
      "meteorological-data-2015.05 0     p      STARTED   29 33.9kb 10.30.xxx.xxx fGNTupV\r\n",
      "meteorological-data-2015.11 0     p      STARTED   28 24.9kb 10.30.xxx.xxx fGNTupV\r\n",
      "meteorological-data-2015.01 0     p      STARTED   29 25.4kb 10.30.xxx.xxx fGNTupV\r\n",
      "meteorological-data-2017.07 0     p      STARTED    0   130b 10.30.xxx.xxx fGNTupV\r\n",
      "meteorological-data-2015.09 0     p      STARTED   30 36.8kb 10.30.xxx.xxx fGNTupV\r\n",
      "meteorological-data-2015.02 0     p      STARTED   28 24.4kb 10.30.xxx.xxx fGNTupV\r\n",
      "meteorological-data-2015.03 0     p      STARTED   31 26.6kb 10.30.xxx.xxx fGNTupV\r\n",
      "meteorological-data-2015.12 0     p      STARTED   31 26.4kb 10.30.xxx.xxx fGNTupV\r\n",
      "meteorological-data-2015.06 0     p      STARTED   29 26.1kb 10.30.xxx.xxx fGNTupV\r\n",
      "meteorological-data-2015.04 0     p      STARTED   30 26.4kb 10.30.xxx.xxx fGNTupV\r\n",
      "meteorological-data-2015.10 0     p      STARTED   31 26.5kb 10.30.xxx.xxx fGNTupV\r\n",
      "meteorological-data-2015.08 0     p      STARTED   31 26.6kb 10.30.xxx.xxx fGNTupV\r\n"
     ]
    }
   ],
   "source": [
    "!curl -XGET http://$ES_CLIENT/_cat/shards?v"
   ]
  },
  {
   "cell_type": "markdown",
   "metadata": {
    "hidden": true,
    "lc_cell_meme": {
     "current": "e564b560-1510-11e7-b31a-0242ac12000d",
     "next": "e564b72c-1510-11e7-b31a-0242ac12000d",
     "previous": "e564b394-1510-11e7-b31a-0242ac12000d"
    }
   },
   "source": [
    "例えばShard数が3、Replica数が1の場合、あるインデックスの分の表示は次のようになります。"
   ]
  },
  {
   "cell_type": "raw",
   "metadata": {
    "hidden": true,
    "lc_cell_meme": {
     "current": "e564b72c-1510-11e7-b31a-0242ac12000d",
     "next": "e564b90c-1510-11e7-b31a-0242ac12000d",
     "previous": "e564b560-1510-11e7-b31a-0242ac12000d"
    }
   },
   "source": [
    "index                       shard prirep state   docs  store ip            node\n",
    "meteorological-data-2015.09 1     p      STARTED   11 31.4kb 172.31.27.2   eYFCVbh\n",
    "meteorological-data-2015.09 1     r      STARTED   11   16kb 172.31.27.161 8vjNIap\n",
    "meteorological-data-2015.09 2     r      STARTED   10 15.6kb 172.31.25.41  Q8kI3ip\n",
    "meteorological-data-2015.09 2     p      STARTED   10 24.3kb 172.31.27.161 8vjNIap\n",
    "meteorological-data-2015.09 0     p      STARTED    9 22.9kb 172.31.25.41  Q8kI3ip\n",
    "meteorological-data-2015.09 0     r      STARTED    9 22.9kb 172.31.27.2   eYFCVbh\n",
    "（略）"
   ]
  },
  {
   "cell_type": "markdown",
   "metadata": {
    "hidden": true,
    "lc_cell_meme": {
     "current": "e564b90c-1510-11e7-b31a-0242ac12000d",
     "next": "e564bae2-1510-11e7-b31a-0242ac12000d",
     "previous": "e564b72c-1510-11e7-b31a-0242ac12000d"
    }
   },
   "source": [
    "左列からの順に次の意味です。\n",
    "\n",
    "|列名|意味|値の例|\n",
    "|----|----|----|\n",
    "|index|インデックス名|meteorological-data-2015.09|\n",
    "|shard|Shard番号|1|\n",
    "|prirep|Primary(p)かReplica(r)か|p|\n",
    "|state|状態|STARTED|\n",
    "|docs|ドキュメント数|11|\n",
    "|store|ディスクサイズ|31.4kb|\n",
    "|ip|配置先のData NodeのIP|172.31.27.2|\n"
   ]
  },
  {
   "cell_type": "markdown",
   "metadata": {
    "hidden": true,
    "lc_cell_meme": {
     "current": "e564bae2-1510-11e7-b31a-0242ac12000d",
     "next": "e564bcb8-1510-11e7-b31a-0242ac12000d",
     "previous": "e564b90c-1510-11e7-b31a-0242ac12000d"
    }
   },
   "source": [
    "※Shardの配置のイメージについては[01_01_Outline.ipynbの「Elasticsearchクラスタ」](01_01_Outline.ipynb#Elasticsearchクラスタ)の章にある図を参照してください。"
   ]
  },
  {
   "cell_type": "markdown",
   "metadata": {
    "hidden": true,
    "lc_cell_meme": {
     "current": "e564bcb8-1510-11e7-b31a-0242ac12000d",
     "history": [
      {
       "current": "e564bcb8-1510-11e7-b31a-0242ac12000d",
       "next": null,
       "previous": "e564bae2-1510-11e7-b31a-0242ac12000d"
      },
      {
       "current": "e564bcb8-1510-11e7-b31a-0242ac12000d",
       "next": "d7ed0f24-46e6-11e7-88b1-02420aff0008",
       "previous": "e564bae2-1510-11e7-b31a-0242ac12000d"
      }
     ],
     "next": "d7ed11b8-46e6-11e7-88b1-02420aff0008",
     "previous": "e564bae2-1510-11e7-b31a-0242ac12000d"
    }
   },
   "source": [
    "よって、次のようになっていればShard数、Replica数は正しく反映されています。\n",
    "- Shard番号の数の種類がShard数と同じだけある  \n",
    "（例えばShard数が3であれば、Shard番号は0,1,2の3種類あるはず）\n",
    "- あるインデックスのShard番号ごとに、\"r\"のついた行がReplica数だけある"
   ]
  },
  {
   "cell_type": "code",
   "execution_count": null,
   "metadata": {
    "collapsed": true,
    "hidden": true,
    "lc_cell_meme": {
     "current": "d7ed11b8-46e6-11e7-88b1-02420aff0008",
     "history": [
      {
       "current": "d7ed11b8-46e6-11e7-88b1-02420aff0008",
       "next": null,
       "previous": "d7ed10c8-46e6-11e7-88b1-02420aff0008"
      }
     ],
     "next": null,
     "previous": "e564bcb8-1510-11e7-b31a-0242ac12000d"
    }
   },
   "outputs": [],
   "source": []
  }
 ],
 "metadata": {
  "anaconda-cloud": {},
  "kernelspec": {
   "display_name": "Python 2 (LC_wrapper)",
   "language": "python",
   "name": "python2-wrapper"
  },
  "language_info": {
   "file_extension": ".py",
   "mimetype": "text/x-python",
   "name": "python",
   "nbconvert_exporter": "python",
   "pygments_lexer": "ipython2",
   "version": "2.7.9"
  },
  "latex_envs": {
   "bibliofile": "biblio.bib",
   "cite_by": "apalike",
   "current_citInitial": 1,
   "eqLabelWithNumbers": true,
   "eqNumInitial": 0
  },
  "lc_notebook_meme": {
   "current": "e5641894-1510-11e7-b31a-0242ac12000d"
  },
  "toc": {
   "colors": {
    "hover_highlight": "#DAA520",
    "navigate_num": "#000000",
    "navigate_text": "#333333",
    "running_highlight": "#FF0000",
    "selected_highlight": "#FFD700",
    "sidebar_border": "#EEEEEE",
    "wrapper_background": "#FFFFFF"
   },
   "moveMenuLeft": true,
   "nav_menu": {
    "height": "407px",
    "width": "252px"
   },
   "navigate_menu": true,
   "number_sections": true,
   "sideBar": true,
   "skip_h1_title": false,
   "threshold": 4,
   "toc_cell": false,
   "toc_position": {
    "height": "1094px",
    "left": "0px",
    "right": "1576px",
    "top": "106px",
    "width": "325px"
   },
   "toc_section_display": "block",
   "toc_window_display": true,
   "widenNotebook": false
  }
 },
 "nbformat": 4,
 "nbformat_minor": 1
}
