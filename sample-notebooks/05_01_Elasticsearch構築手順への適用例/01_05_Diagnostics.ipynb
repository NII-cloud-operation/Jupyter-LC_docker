{
 "cells": [
  {
   "cell_type": "markdown",
   "metadata": {
    "lc_cell_meme": {
     "current": "a6fba2a2-14ed-11e7-b31a-0242ac12000d",
     "history": [
      {
       "current": "a6fba2a2-14ed-11e7-b31a-0242ac12000d",
       "next": "a6fba4f0-14ed-11e7-b31a-0242ac12000d",
       "previous": null
      }
     ],
     "next": "a6fba6e4-14ed-11e7-b31a-0242ac12000d",
     "previous": null
    }
   },
   "source": [
    "# Elastic Stackの構築：状態の診断\n",
    "----\n",
    "稼働しているElasticsearchに異常がないか調べ、 異常がある場合の対処手順について説明します。"
   ]
  },
  {
   "cell_type": "markdown",
   "metadata": {
    "lc_cell_meme": {
     "current": "a6fba6e4-14ed-11e7-b31a-0242ac12000d",
     "history": [
      {
       "current": "a6fba6e4-14ed-11e7-b31a-0242ac12000d",
       "next": "a6fba8ce-14ed-11e7-b31a-0242ac12000d",
       "previous": "a6fba4f0-14ed-11e7-b31a-0242ac12000d"
      },
      {
       "current": "a6fba6e4-14ed-11e7-b31a-0242ac12000d",
       "next": "a6fba8ce-14ed-11e7-b31a-0242ac12000d",
       "previous": "a6fba2a2-14ed-11e7-b31a-0242ac12000d"
      }
     ],
     "next": "a6fbaaea-14ed-11e7-b31a-0242ac12000d",
     "previous": "a6fba2a2-14ed-11e7-b31a-0242ac12000d"
    }
   },
   "source": [
    "## 設定情報の引き継ぎ\n",
    "\n",
    "本章のコマンドを実行するための設定を行います。  "
   ]
  },
  {
   "cell_type": "code",
   "execution_count": 1,
   "metadata": {
    "lc_cell_meme": {
     "current": "a6fbaaea-14ed-11e7-b31a-0242ac12000d",
     "history": [
      {
       "current": "a6fbaaea-14ed-11e7-b31a-0242ac12000d",
       "next": "a6fbacc0-14ed-11e7-b31a-0242ac12000d",
       "previous": "a6fba8ce-14ed-11e7-b31a-0242ac12000d"
      },
      {
       "current": "a6fbaaea-14ed-11e7-b31a-0242ac12000d",
       "next": "5f7cb51c-4c18-11e7-8a6b-02420aff0006",
       "previous": "a6fba8ce-14ed-11e7-b31a-0242ac12000d"
      }
     ],
     "next": "5f7cb51c-4c18-11e7-8a6b-02420aff0006",
     "previous": "a6fba6e4-14ed-11e7-b31a-0242ac12000d"
    }
   },
   "outputs": [],
   "source": [
    "%run rc.py\n",
    "(USER, KEYPATH)"
   ]
  },
  {
   "cell_type": "code",
   "execution_count": 2,
   "metadata": {
    "lc_cell_meme": {
     "current": "5f7cb51c-4c18-11e7-8a6b-02420aff0006",
     "next": "a6fbacc0-14ed-11e7-b31a-0242ac12000d",
     "previous": "a6fbaaea-14ed-11e7-b31a-0242ac12000d"
    }
   },
   "outputs": [],
   "source": [
    "%env ES_HOST={es_host}:9200"
   ]
  },
  {
   "cell_type": "markdown",
   "metadata": {
    "lc_cell_meme": {
     "current": "a6fbacc0-14ed-11e7-b31a-0242ac12000d",
     "history": [
      {
       "current": "a6fbacc0-14ed-11e7-b31a-0242ac12000d",
       "next": "a6fbae8c-14ed-11e7-b31a-0242ac12000d",
       "previous": "a6fbaaea-14ed-11e7-b31a-0242ac12000d"
      }
     ],
     "next": "a6fbae8c-14ed-11e7-b31a-0242ac12000d",
     "previous": "5f7cb51c-4c18-11e7-8a6b-02420aff0006"
    }
   },
   "source": [
    "診断の対象としたいインデックスを指定してください。"
   ]
  },
  {
   "cell_type": "code",
   "execution_count": 3,
   "metadata": {
    "lc_cell_meme": {
     "current": "a6fbae8c-14ed-11e7-b31a-0242ac12000d",
     "history": [
      {
       "current": "a6fbae8c-14ed-11e7-b31a-0242ac12000d",
       "next": "a6fbb058-14ed-11e7-b31a-0242ac12000d",
       "previous": "a6fbacc0-14ed-11e7-b31a-0242ac12000d"
      }
     ],
     "next": "a6fbb404-14ed-11e7-b31a-0242ac12000d",
     "previous": "a6fbacc0-14ed-11e7-b31a-0242ac12000d"
    }
   },
   "outputs": [],
   "source": [
    "%env INDEX=meteorological-data-*"
   ]
  },
  {
   "cell_type": "markdown",
   "metadata": {
    "lc_cell_meme": {
     "current": "a6fbb404-14ed-11e7-b31a-0242ac12000d",
     "history": [
      {
       "current": "a6fbb404-14ed-11e7-b31a-0242ac12000d",
       "next": "a6fbb5da-14ed-11e7-b31a-0242ac12000d",
       "previous": "a6fbb224-14ed-11e7-b31a-0242ac12000d"
      }
     ],
     "next": "a6fbb5da-14ed-11e7-b31a-0242ac12000d",
     "previous": "a6fbae8c-14ed-11e7-b31a-0242ac12000d"
    }
   },
   "source": [
    "※この後のコマンドは、[01_03_Set_Inventory.ipynb](01_03_Set_Inventory.ipynb) で生成したインベントリに対して発行されるように構築されています。"
   ]
  },
  {
   "cell_type": "markdown",
   "metadata": {
    "heading_collapsed": true,
    "lc_cell_meme": {
     "current": "a6fbb5da-14ed-11e7-b31a-0242ac12000d",
     "next": "a6fbb7a6-14ed-11e7-b31a-0242ac12000d",
     "previous": "a6fbb404-14ed-11e7-b31a-0242ac12000d"
    }
   },
   "source": [
    "## 診断\n",
    "現在の状態を把握するために、各種の状態を診断します。  \n",
    "本章の一連のコマンドを実行してください。  "
   ]
  },
  {
   "cell_type": "markdown",
   "metadata": {
    "hidden": true,
    "lc_cell_meme": {
     "current": "a6fbb7a6-14ed-11e7-b31a-0242ac12000d",
     "next": "a6fbb968-14ed-11e7-b31a-0242ac12000d",
     "previous": "a6fbb5da-14ed-11e7-b31a-0242ac12000d"
    }
   },
   "source": [
    "「■確認内容」で異常があると診断できた場合、次章の[症状と対処](#症状と対処)の内容に従い状態を正常化してください。"
   ]
  },
  {
   "cell_type": "markdown",
   "metadata": {
    "heading_collapsed": true,
    "hidden": true,
    "lc_cell_meme": {
     "current": "a6fbb968-14ed-11e7-b31a-0242ac12000d",
     "next": "a6fbbb2a-14ed-11e7-b31a-0242ac12000d",
     "previous": "a6fbb7a6-14ed-11e7-b31a-0242ac12000d"
    }
   },
   "source": [
    "### サーバマシンが稼働しているか？\n",
    "サーバごとにpingコマンドを実行し、サーバが稼働しているか確認します。"
   ]
  },
  {
   "cell_type": "code",
   "execution_count": 4,
   "metadata": {
    "hidden": true,
    "lc_cell_meme": {
     "current": "a6fbbb2a-14ed-11e7-b31a-0242ac12000d",
     "next": "a6fbbcec-14ed-11e7-b31a-0242ac12000d",
     "previous": "a6fbb968-14ed-11e7-b31a-0242ac12000d"
    }
   },
   "outputs": [],
   "source": [
    "!ansible all -m ping -i ./hosts -u $USER --private-key=$KEYPATH"
   ]
  },
  {
   "cell_type": "markdown",
   "metadata": {
    "hidden": true,
    "lc_cell_meme": {
     "current": "a6fbbcec-14ed-11e7-b31a-0242ac12000d",
     "next": "a6fbbeae-14ed-11e7-b31a-0242ac12000d",
     "previous": "a6fbbb2a-14ed-11e7-b31a-0242ac12000d"
    }
   },
   "source": [
    "**■確認内容**"
   ]
  },
  {
   "cell_type": "markdown",
   "metadata": {
    "hidden": true,
    "lc_cell_meme": {
     "current": "a6fbbeae-14ed-11e7-b31a-0242ac12000d",
     "next": "a6fbc07a-14ed-11e7-b31a-0242ac12000d",
     "previous": "a6fbbcec-14ed-11e7-b31a-0242ac12000d"
    }
   },
   "source": [
    "サーバごとに次のような応答があれば正常です。"
   ]
  },
  {
   "cell_type": "raw",
   "metadata": {
    "hidden": true,
    "lc_cell_meme": {
     "current": "a6fbc07a-14ed-11e7-b31a-0242ac12000d",
     "next": "a6fbc232-14ed-11e7-b31a-0242ac12000d",
     "previous": "a6fbbeae-14ed-11e7-b31a-0242ac12000d"
    }
   },
   "source": [
    "<各サーバのIPアドレス> | SUCCESS => {\n",
    "    \"changed\": false, \n",
    "    \"ping\": \"pong\"\n",
    "}"
   ]
  },
  {
   "cell_type": "markdown",
   "metadata": {
    "heading_collapsed": true,
    "hidden": true,
    "lc_cell_meme": {
     "current": "a6fbc232-14ed-11e7-b31a-0242ac12000d",
     "next": "a6fbc3f4-14ed-11e7-b31a-0242ac12000d",
     "previous": "a6fbc07a-14ed-11e7-b31a-0242ac12000d"
    }
   },
   "source": [
    "### プロセスが稼働しているか？\n",
    "サーバごとにpsコマンドを実行し、Elasticsearchプロセスが稼働しているか確認します。"
   ]
  },
  {
   "cell_type": "code",
   "execution_count": 5,
   "metadata": {
    "hidden": true,
    "lc_cell_meme": {
     "current": "a6fbc3f4-14ed-11e7-b31a-0242ac12000d",
     "next": "a6fbc5c0-14ed-11e7-b31a-0242ac12000d",
     "previous": "a6fbc232-14ed-11e7-b31a-0242ac12000d"
    },
    "scrolled": true
   },
   "outputs": [],
   "source": [
    "!ansible all -m shell -a \"ps -aef |grep Elasticsearch |grep -v grep\" -i ./hosts -u $USER --private-key=$KEYPATH"
   ]
  },
  {
   "cell_type": "markdown",
   "metadata": {
    "hidden": true,
    "lc_cell_meme": {
     "current": "a6fbc5c0-14ed-11e7-b31a-0242ac12000d",
     "next": "a6fbc782-14ed-11e7-b31a-0242ac12000d",
     "previous": "a6fbc3f4-14ed-11e7-b31a-0242ac12000d"
    }
   },
   "source": [
    "**■確認内容**"
   ]
  },
  {
   "cell_type": "markdown",
   "metadata": {
    "hidden": true,
    "lc_cell_meme": {
     "current": "a6fbc782-14ed-11e7-b31a-0242ac12000d",
     "next": "a6fbc944-14ed-11e7-b31a-0242ac12000d",
     "previous": "a6fbc5c0-14ed-11e7-b31a-0242ac12000d"
    }
   },
   "source": [
    "Elastisearchが稼働しているはずのサーバごとに、次のコマンドのプロセスが存在していれば正常です。"
   ]
  },
  {
   "cell_type": "raw",
   "metadata": {
    "hidden": true,
    "lc_cell_meme": {
     "current": "a6fbc944-14ed-11e7-b31a-0242ac12000d",
     "next": "a6fbcb06-14ed-11e7-b31a-0242ac12000d",
     "previous": "a6fbc782-14ed-11e7-b31a-0242ac12000d"
    }
   },
   "source": [
    "/bin/java ～～ org.elasticsearch.bootstrap.Elasticsearch"
   ]
  },
  {
   "cell_type": "markdown",
   "metadata": {
    "heading_collapsed": true,
    "hidden": true,
    "lc_cell_meme": {
     "current": "a6fbcb06-14ed-11e7-b31a-0242ac12000d",
     "next": "a6fbccd2-14ed-11e7-b31a-0242ac12000d",
     "previous": "a6fbc944-14ed-11e7-b31a-0242ac12000d"
    }
   },
   "source": [
    "### ディスクの使用量に余裕があるか？\n",
    "サーバごとにdfコマンドを実行し、ディスクサイズに余裕があるか確認します。"
   ]
  },
  {
   "cell_type": "code",
   "execution_count": 6,
   "metadata": {
    "hidden": true,
    "lc_cell_meme": {
     "current": "a6fbccd2-14ed-11e7-b31a-0242ac12000d",
     "next": "a6fbce94-14ed-11e7-b31a-0242ac12000d",
     "previous": "a6fbcb06-14ed-11e7-b31a-0242ac12000d"
    },
    "scrolled": true
   },
   "outputs": [],
   "source": [
    "!ansible all -m shell -a \"df\" -i ./hosts -u $USER --private-key=$KEYPATH"
   ]
  },
  {
   "cell_type": "markdown",
   "metadata": {
    "hidden": true,
    "lc_cell_meme": {
     "current": "a6fbce94-14ed-11e7-b31a-0242ac12000d",
     "next": "a6fbd06a-14ed-11e7-b31a-0242ac12000d",
     "previous": "a6fbccd2-14ed-11e7-b31a-0242ac12000d"
    }
   },
   "source": [
    "**■確認内容**"
   ]
  },
  {
   "cell_type": "markdown",
   "metadata": {
    "hidden": true,
    "lc_cell_meme": {
     "current": "a6fbd06a-14ed-11e7-b31a-0242ac12000d",
     "next": "a6fbd240-14ed-11e7-b31a-0242ac12000d",
     "previous": "a6fbce94-14ed-11e7-b31a-0242ac12000d"
    }
   },
   "source": [
    "Elasticsearchのデフォルトの設定では、ディスク使用率が85%を越えると、そのノードに新たなシャードを割り当てません。そのため、**\"Use%\"**の列に出力されるディスク使用率が85%を越えないようにしてください。  \n",
    "ディスク使用率に余裕があれば問題ありません。"
   ]
  },
  {
   "cell_type": "markdown",
   "metadata": {
    "hidden": true,
    "lc_cell_meme": {
     "current": "a6fbd240-14ed-11e7-b31a-0242ac12000d",
     "next": "a6fbd40c-14ed-11e7-b31a-0242ac12000d",
     "previous": "a6fbd06a-14ed-11e7-b31a-0242ac12000d"
    }
   },
   "source": [
    "### クラスタと通信できるか？\n",
    "APIを発行し、Elasticsearchのクラウドと通信可能か確認します。"
   ]
  },
  {
   "cell_type": "code",
   "execution_count": 7,
   "metadata": {
    "hidden": true,
    "lc_cell_meme": {
     "current": "a6fbd40c-14ed-11e7-b31a-0242ac12000d",
     "next": "a6fbd5ce-14ed-11e7-b31a-0242ac12000d",
     "previous": "a6fbd240-14ed-11e7-b31a-0242ac12000d"
    },
    "scrolled": true
   },
   "outputs": [],
   "source": [
    "!curl -XGET \"http://$ES_HOST/\""
   ]
  },
  {
   "cell_type": "markdown",
   "metadata": {
    "hidden": true,
    "lc_cell_meme": {
     "current": "a6fbd5ce-14ed-11e7-b31a-0242ac12000d",
     "next": "a6fbd790-14ed-11e7-b31a-0242ac12000d",
     "previous": "a6fbd40c-14ed-11e7-b31a-0242ac12000d"
    }
   },
   "source": [
    "**■確認内容**"
   ]
  },
  {
   "cell_type": "markdown",
   "metadata": {
    "hidden": true,
    "lc_cell_meme": {
     "current": "a6fbd790-14ed-11e7-b31a-0242ac12000d",
     "next": "a6fbd95c-14ed-11e7-b31a-0242ac12000d",
     "previous": "a6fbd5ce-14ed-11e7-b31a-0242ac12000d"
    }
   },
   "source": [
    "JSON形式の応答が表示されれば問題ありません。  \n",
    "表示されない場合は、クラスタの状態か、クラスタまでの通信経路に問題があります。"
   ]
  },
  {
   "cell_type": "markdown",
   "metadata": {
    "heading_collapsed": true,
    "hidden": true,
    "lc_cell_meme": {
     "current": "a6fbd95c-14ed-11e7-b31a-0242ac12000d",
     "next": "a6fbdb1e-14ed-11e7-b31a-0242ac12000d",
     "previous": "a6fbd790-14ed-11e7-b31a-0242ac12000d"
    }
   },
   "source": [
    "### クラスタに全Nodeが参加しているか？\n",
    "クラスタのヘルスチェック用のAPIを発行し、参加しているノードの状態等を確認します。"
   ]
  },
  {
   "cell_type": "code",
   "execution_count": 8,
   "metadata": {
    "hidden": true,
    "lc_cell_meme": {
     "current": "a6fbdb1e-14ed-11e7-b31a-0242ac12000d",
     "next": "a6fbdce0-14ed-11e7-b31a-0242ac12000d",
     "previous": "a6fbd95c-14ed-11e7-b31a-0242ac12000d"
    },
    "scrolled": true
   },
   "outputs": [],
   "source": [
    "!curl -XGET \"http://$ES_HOST/_cluster/health?pretty\""
   ]
  },
  {
   "cell_type": "markdown",
   "metadata": {
    "hidden": true,
    "lc_cell_meme": {
     "current": "a6fbdce0-14ed-11e7-b31a-0242ac12000d",
     "next": "a6fbdea2-14ed-11e7-b31a-0242ac12000d",
     "previous": "a6fbdb1e-14ed-11e7-b31a-0242ac12000d"
    }
   },
   "source": [
    "**■確認内容**"
   ]
  },
  {
   "cell_type": "markdown",
   "metadata": {
    "hidden": true,
    "lc_cell_meme": {
     "current": "a6fbdea2-14ed-11e7-b31a-0242ac12000d",
     "next": "a6fbe078-14ed-11e7-b31a-0242ac12000d",
     "previous": "a6fbdce0-14ed-11e7-b31a-0242ac12000d"
    }
   },
   "source": [
    "出力結果から次の内容が確認できれば正常です。\n",
    "\n",
    "1. \"status\" が \"green\" かどうか？\n",
    "  - **green**  \n",
    "      ：正常です。\n",
    "  - **yellow**  \n",
    "    ：Primary Shardは割り当てられていますが、Replica Shardが割り当てられていません。\n",
    "  - **red**  \n",
    "    ：特定のShardがクラスタに割り当てられていません\n",
    "2. \"number_of_nodes\" の数が、起動しているはずの全Node数と一致しているか？\n",
    "3. \"number_of_data_nodes\"の数が、起動しているはずのData Node数と一致しているか？"
   ]
  },
  {
   "cell_type": "markdown",
   "metadata": {
    "heading_collapsed": true,
    "hidden": true,
    "lc_cell_meme": {
     "current": "a6fbe078-14ed-11e7-b31a-0242ac12000d",
     "next": "a6fbe276-14ed-11e7-b31a-0242ac12000d",
     "previous": "a6fbdea2-14ed-11e7-b31a-0242ac12000d"
    }
   },
   "source": [
    "### エラーログが無いか？\n",
    "各ElasticsearchプロセスがERRORメッセージをログに出力していないか確認します。"
   ]
  },
  {
   "cell_type": "markdown",
   "metadata": {
    "hidden": true,
    "lc_cell_meme": {
     "current": "a6fbe276-14ed-11e7-b31a-0242ac12000d",
     "next": "a6fbe442-14ed-11e7-b31a-0242ac12000d",
     "previous": "a6fbe078-14ed-11e7-b31a-0242ac12000d"
    }
   },
   "source": [
    "ログはデフォルトでは次の場所に出力されています。"
   ]
  },
  {
   "cell_type": "markdown",
   "metadata": {
    "hidden": true,
    "lc_cell_meme": {
     "current": "a6fbe442-14ed-11e7-b31a-0242ac12000d",
     "next": "a6fbe60e-14ed-11e7-b31a-0242ac12000d",
     "previous": "a6fbe276-14ed-11e7-b31a-0242ac12000d"
    }
   },
   "source": [
    "/var/log/elasticsearch/**{クラスタ名}**.log  \n"
   ]
  },
  {
   "cell_type": "markdown",
   "metadata": {
    "hidden": true,
    "lc_cell_meme": {
     "current": "a6fbe60e-14ed-11e7-b31a-0242ac12000d",
     "next": "a6fbe7da-14ed-11e7-b31a-0242ac12000d",
     "previous": "a6fbe442-14ed-11e7-b31a-0242ac12000d"
    }
   },
   "source": [
    "その他のログも含め、ログディレクトリ配下のファイルについてERRORが出力がされていないかgrepします。"
   ]
  },
  {
   "cell_type": "code",
   "execution_count": 9,
   "metadata": {
    "hidden": true,
    "lc_cell_meme": {
     "current": "a6fbe7da-14ed-11e7-b31a-0242ac12000d",
     "next": "a6fbe99c-14ed-11e7-b31a-0242ac12000d",
     "previous": "a6fbe60e-14ed-11e7-b31a-0242ac12000d"
    },
    "scrolled": true
   },
   "outputs": [],
   "source": [
    "!ansible all -m shell -a 'grep ERROR /var/log/elasticsearch/*.log || exit 0' -i ./hosts -u $USER --private-key=$KEYPATH"
   ]
  },
  {
   "cell_type": "markdown",
   "metadata": {
    "hidden": true,
    "lc_cell_meme": {
     "current": "a6fbe99c-14ed-11e7-b31a-0242ac12000d",
     "next": "a6fbeb54-14ed-11e7-b31a-0242ac12000d",
     "previous": "a6fbe7da-14ed-11e7-b31a-0242ac12000d"
    }
   },
   "source": [
    "**■確認内容**"
   ]
  },
  {
   "cell_type": "markdown",
   "metadata": {
    "hidden": true,
    "lc_cell_meme": {
     "current": "a6fbeb54-14ed-11e7-b31a-0242ac12000d",
     "next": "a6fbed20-14ed-11e7-b31a-0242ac12000d",
     "previous": "a6fbe99c-14ed-11e7-b31a-0242ac12000d"
    }
   },
   "source": [
    "    XXX.XXX.XXX.111 | FAILED | rc=1 >>\n",
    "\n",
    "のように出力される場合は、grepした結果でERRORが0行ということなので、問題がありません。  \n",
    "1行以上、何かの出力がある場合は問題があります。"
   ]
  },
  {
   "cell_type": "markdown",
   "metadata": {
    "heading_collapsed": true,
    "hidden": true,
    "lc_cell_meme": {
     "current": "a6fbed20-14ed-11e7-b31a-0242ac12000d",
     "next": "a6fbeef6-14ed-11e7-b31a-0242ac12000d",
     "previous": "a6fbeb54-14ed-11e7-b31a-0242ac12000d"
    }
   },
   "source": [
    "### Slowログが無いか？  \n",
    "各ElasticsearchプロセスがSlowログを出力していないか確認します。"
   ]
  },
  {
   "cell_type": "markdown",
   "metadata": {
    "hidden": true,
    "lc_cell_meme": {
     "current": "a6fbeef6-14ed-11e7-b31a-0242ac12000d",
     "next": "a6fbf0b8-14ed-11e7-b31a-0242ac12000d",
     "previous": "a6fbed20-14ed-11e7-b31a-0242ac12000d"
    }
   },
   "source": [
    "Slowログはデフォルトでは次の場所に出力されています。"
   ]
  },
  {
   "cell_type": "markdown",
   "metadata": {
    "hidden": true,
    "lc_cell_meme": {
     "current": "a6fbf0b8-14ed-11e7-b31a-0242ac12000d",
     "next": "a6fbf27a-14ed-11e7-b31a-0242ac12000d",
     "previous": "a6fbeef6-14ed-11e7-b31a-0242ac12000d"
    }
   },
   "source": [
    "/var/log/elasticsearch/**{クラスタ名}**_index_indexing_slowlog.log  \n",
    "/var/log/elasticsearch/**{クラスタ名}**_index_search_slowlog.log  "
   ]
  },
  {
   "cell_type": "code",
   "execution_count": 10,
   "metadata": {
    "hidden": true,
    "lc_cell_meme": {
     "current": "a6fbf27a-14ed-11e7-b31a-0242ac12000d",
     "next": "a6fbf43c-14ed-11e7-b31a-0242ac12000d",
     "previous": "a6fbf0b8-14ed-11e7-b31a-0242ac12000d"
    }
   },
   "outputs": [],
   "source": [
    "!ansible all -m shell -a 'cat /var/log/elasticsearch/*slowlog.log' -i ./hosts -u $USER --private-key=$KEYPATH"
   ]
  },
  {
   "cell_type": "markdown",
   "metadata": {
    "hidden": true,
    "lc_cell_meme": {
     "current": "a6fbf43c-14ed-11e7-b31a-0242ac12000d",
     "next": "a6fbf644-14ed-11e7-b31a-0242ac12000d",
     "previous": "a6fbf27a-14ed-11e7-b31a-0242ac12000d"
    }
   },
   "source": [
    "**■確認内容**"
   ]
  },
  {
   "cell_type": "markdown",
   "metadata": {
    "hidden": true,
    "lc_cell_meme": {
     "current": "a6fbf644-14ed-11e7-b31a-0242ac12000d",
     "next": "a6fbf81a-14ed-11e7-b31a-0242ac12000d",
     "previous": "a6fbf43c-14ed-11e7-b31a-0242ac12000d"
    }
   },
   "source": [
    "    XXX.XXX.XXX.111 | SUCCESS | rc=0 >>\n",
    "\n",
    "のように出力される場合は、Slowログが0行ということなので、問題がありません。  \n",
    "1行以上、何かの出力がある場合は問題があります。"
   ]
  },
  {
   "cell_type": "markdown",
   "metadata": {
    "heading_collapsed": true,
    "hidden": true,
    "lc_cell_meme": {
     "current": "a6fbf81a-14ed-11e7-b31a-0242ac12000d",
     "next": "a6fbf9dc-14ed-11e7-b31a-0242ac12000d",
     "previous": "a6fbf644-14ed-11e7-b31a-0242ac12000d"
    }
   },
   "source": [
    "### クラスタ内のサーバのCPU・メモリが枯渇してないか？\n",
    "CPU使用率、メモリ使用率が利用できる限界に近づいていないか確認します。"
   ]
  },
  {
   "cell_type": "code",
   "execution_count": 11,
   "metadata": {
    "hidden": true,
    "lc_cell_meme": {
     "current": "a6fbf9dc-14ed-11e7-b31a-0242ac12000d",
     "next": "a6fbfb9e-14ed-11e7-b31a-0242ac12000d",
     "previous": "a6fbf81a-14ed-11e7-b31a-0242ac12000d"
    },
    "scrolled": false
   },
   "outputs": [],
   "source": [
    "!ansible all -m shell -a 'top n 1 b ' -i ./hosts -u $USER --private-key=$KEYPATH"
   ]
  },
  {
   "cell_type": "markdown",
   "metadata": {
    "hidden": true,
    "lc_cell_meme": {
     "current": "a6fbfb9e-14ed-11e7-b31a-0242ac12000d",
     "next": "a6fbfd56-14ed-11e7-b31a-0242ac12000d",
     "previous": "a6fbf9dc-14ed-11e7-b31a-0242ac12000d"
    }
   },
   "source": [
    "**■確認内容**"
   ]
  },
  {
   "cell_type": "markdown",
   "metadata": {
    "hidden": true,
    "lc_cell_meme": {
     "current": "a6fbfd56-14ed-11e7-b31a-0242ac12000d",
     "next": "a6fbff22-14ed-11e7-b31a-0242ac12000d",
     "previous": "a6fbfb9e-14ed-11e7-b31a-0242ac12000d"
    }
   },
   "source": [
    "CPU使用率、メモリ使用率が継続的に100%近い数値になっていないか確認します。  \n",
    "継続的に100%近い数値になっている場合、リソースが枯渇していると考えられます。"
   ]
  },
  {
   "cell_type": "markdown",
   "metadata": {
    "heading_collapsed": true,
    "hidden": true,
    "lc_cell_meme": {
     "current": "a6fbff22-14ed-11e7-b31a-0242ac12000d",
     "next": "a6fc00e4-14ed-11e7-b31a-0242ac12000d",
     "previous": "a6fbfd56-14ed-11e7-b31a-0242ac12000d"
    }
   },
   "source": [
    "### ヒープが枯渇していないか？\n",
    "ノード状態を調査するAPIを発行し、ヒープの利用状況を確認します。"
   ]
  },
  {
   "cell_type": "markdown",
   "metadata": {
    "hidden": true,
    "lc_cell_meme": {
     "current": "a6fc00e4-14ed-11e7-b31a-0242ac12000d",
     "next": "a6fc02a6-14ed-11e7-b31a-0242ac12000d",
     "previous": "a6fbff22-14ed-11e7-b31a-0242ac12000d"
    }
   },
   "source": [
    "Nodes Stats APIを、JVMの状態を見るオプションを付与して発行します。  \n",
    "APIの詳細はElasticsearch Referenceの[Nodes Stats](https://www.elastic.co/guide/en/elasticsearch/reference/current/cluster-nodes-stats.html)を参照してください。"
   ]
  },
  {
   "cell_type": "code",
   "execution_count": 12,
   "metadata": {
    "hidden": true,
    "lc_cell_meme": {
     "current": "a6fc02a6-14ed-11e7-b31a-0242ac12000d",
     "next": "a6fc045e-14ed-11e7-b31a-0242ac12000d",
     "previous": "a6fc00e4-14ed-11e7-b31a-0242ac12000d"
    },
    "scrolled": true
   },
   "outputs": [],
   "source": [
    "!curl -XGET \"http://$ES_HOST/_nodes/stats/jvm?pretty\""
   ]
  },
  {
   "cell_type": "markdown",
   "metadata": {
    "hidden": true,
    "lc_cell_meme": {
     "current": "a6fc045e-14ed-11e7-b31a-0242ac12000d",
     "next": "a6fc0616-14ed-11e7-b31a-0242ac12000d",
     "previous": "a6fc02a6-14ed-11e7-b31a-0242ac12000d"
    }
   },
   "source": [
    "**■確認内容**"
   ]
  },
  {
   "cell_type": "markdown",
   "metadata": {
    "hidden": true,
    "lc_cell_meme": {
     "current": "a6fc0616-14ed-11e7-b31a-0242ac12000d",
     "history": [
      {
       "current": "a6fc0616-14ed-11e7-b31a-0242ac12000d",
       "next": "a6fc07e2-14ed-11e7-b31a-0242ac12000d",
       "previous": "a6fc045e-14ed-11e7-b31a-0242ac12000d"
      },
      {
       "current": "a6fc0616-14ed-11e7-b31a-0242ac12000d",
       "next": "a6fbff22-14ed-11e7-b31a-0242ac12000d",
       "previous": "a6fc045e-14ed-11e7-b31a-0242ac12000d"
      },
      {
       "current": "a6fc0616-14ed-11e7-b31a-0242ac12000d",
       "next": "a6fc07e2-14ed-11e7-b31a-0242ac12000d",
       "previous": "a6fc045e-14ed-11e7-b31a-0242ac12000d"
      }
     ],
     "next": "a6fbff22-14ed-11e7-b31a-0242ac12000d",
     "previous": "a6fc045e-14ed-11e7-b31a-0242ac12000d"
    }
   },
   "source": [
    "応答の\"nodes\"部分にNodeごとの状態が出力されます。  \n",
    "その下の\"jvm\"部分にJVMの状態が出力されます。次を確認してください。\n",
    "\n",
    "1. mem/heap_max_in_bytes に表示される最大ヒープサイズ（単位はbyte）がインストール時に指定した通りか？\n",
    "2. mem/heap_used_percent に表示されるヒープ使用率（単位はパーセント）が100近くになってしまっていないか？\n",
    "3. gc/collectors/old/collection_count に表示されるGCカウントが、稼働時間に比して大きすぎないか？"
   ]
  },
  {
   "cell_type": "markdown",
   "metadata": {
    "heading_collapsed": true,
    "hidden": true,
    "lc_cell_meme": {
     "current": "a6fbff22-14ed-11e7-b31a-0242ac12000d",
     "history": [
      {
       "current": "a6fbff22-14ed-11e7-b31a-0242ac12000d",
       "next": "a6fc00e4-14ed-11e7-b31a-0242ac12000d",
       "previous": "a6fbfd56-14ed-11e7-b31a-0242ac12000d"
      }
     ],
     "next": "a6fc00e4-14ed-11e7-b31a-0242ac12000d",
     "previous": "a6fc0616-14ed-11e7-b31a-0242ac12000d"
    }
   },
   "source": [
    "### 実行中の重いタスクが無いか？\n",
    "タスク管理用のAPIを発行し、実行中の重いタスクが無いか確認します。"
   ]
  },
  {
   "cell_type": "markdown",
   "metadata": {
    "hidden": true,
    "lc_cell_meme": {
     "current": "a6fc00e4-14ed-11e7-b31a-0242ac12000d",
     "next": "a6fc02a6-14ed-11e7-b31a-0242ac12000d",
     "previous": "a6fbff22-14ed-11e7-b31a-0242ac12000d"
    }
   },
   "source": [
    "Task Management APIでクラスタ内のノードで実行中のタスクを確認することができます。  \n",
    "APIの詳細はElasticsearch Referenceの[Task Management API](https://www.elastic.co/guide/en/elasticsearch/reference/5.0/tasks.html)を参照してください。\n"
   ]
  },
  {
   "cell_type": "code",
   "execution_count": 13,
   "metadata": {
    "hidden": true,
    "lc_cell_meme": {
     "current": "a6fc02a6-14ed-11e7-b31a-0242ac12000d",
     "next": "a6fc045e-14ed-11e7-b31a-0242ac12000d",
     "previous": "a6fc00e4-14ed-11e7-b31a-0242ac12000d"
    },
    "scrolled": true
   },
   "outputs": [],
   "source": [
    "!curl -XGET \"http://$ES_HOST/_tasks?pretty\""
   ]
  },
  {
   "cell_type": "markdown",
   "metadata": {
    "hidden": true,
    "lc_cell_meme": {
     "current": "a6fc045e-14ed-11e7-b31a-0242ac12000d",
     "next": "a6fc0616-14ed-11e7-b31a-0242ac12000d",
     "previous": "a6fc02a6-14ed-11e7-b31a-0242ac12000d"
    }
   },
   "source": [
    "**■確認内容**"
   ]
  },
  {
   "cell_type": "markdown",
   "metadata": {
    "hidden": true,
    "lc_cell_meme": {
     "current": "a6fc0616-14ed-11e7-b31a-0242ac12000d",
     "history": [
      {
       "current": "a6fc0616-14ed-11e7-b31a-0242ac12000d",
       "next": "a6fc07e2-14ed-11e7-b31a-0242ac12000d",
       "previous": "a6fc045e-14ed-11e7-b31a-0242ac12000d"
      },
      {
       "current": "a6fc0616-14ed-11e7-b31a-0242ac12000d",
       "next": "a6fbff22-14ed-11e7-b31a-0242ac12000d",
       "previous": "a6fc045e-14ed-11e7-b31a-0242ac12000d"
      },
      {
       "current": "a6fc0616-14ed-11e7-b31a-0242ac12000d",
       "next": "a6fc07e2-14ed-11e7-b31a-0242ac12000d",
       "previous": "a6fc045e-14ed-11e7-b31a-0242ac12000d"
      },
      {
       "current": "a6fc0616-14ed-11e7-b31a-0242ac12000d",
       "next": "a6fbff22-14ed-11e7-b31a-0242ac12000d",
       "previous": "a6fc045e-14ed-11e7-b31a-0242ac12000d"
      }
     ],
     "next": "a6fc07e2-14ed-11e7-b31a-0242ac12000d",
     "previous": "a6fc045e-14ed-11e7-b31a-0242ac12000d"
    }
   },
   "source": [
    "応答の\"nodes\"部分にNodeごとの状態が出力されます。  \n",
    "その下の\"tasks\"部分に走行しているタスクの種類と状態が出力されます。次を確認してください。\n",
    "\n",
    "1. tasksに現れるタスクに想定外の物が無いか？\n",
    "2. 特にrunning_time_in_nanos（実行時間）の長いものが無いか？\n",
    "3. 大量のタスクが滞留していないか？"
   ]
  },
  {
   "cell_type": "markdown",
   "metadata": {
    "heading_collapsed": true,
    "hidden": true,
    "lc_cell_meme": {
     "current": "a6fc07e2-14ed-11e7-b31a-0242ac12000d",
     "next": "a6fc09a4-14ed-11e7-b31a-0242ac12000d",
     "previous": "a6fc0616-14ed-11e7-b31a-0242ac12000d"
    }
   },
   "source": [
    "### インデックスが作成されているか？\n",
    "日付等のインデックスで、投入したドキュメントが適切に分割・管理されているか確認します。"
   ]
  },
  {
   "cell_type": "code",
   "execution_count": 14,
   "metadata": {
    "hidden": true,
    "lc_cell_meme": {
     "current": "a6fc09a4-14ed-11e7-b31a-0242ac12000d",
     "next": "a6fc0b8e-14ed-11e7-b31a-0242ac12000d",
     "previous": "a6fc07e2-14ed-11e7-b31a-0242ac12000d"
    },
    "scrolled": true
   },
   "outputs": [],
   "source": [
    "!curl -XGET http://$ES_HOST/_cat/indices?v"
   ]
  },
  {
   "cell_type": "markdown",
   "metadata": {
    "hidden": true,
    "lc_cell_meme": {
     "current": "a6fc0b8e-14ed-11e7-b31a-0242ac12000d",
     "next": "a6fc0d64-14ed-11e7-b31a-0242ac12000d",
     "previous": "a6fc09a4-14ed-11e7-b31a-0242ac12000d"
    }
   },
   "source": [
    "**■確認内容**"
   ]
  },
  {
   "cell_type": "markdown",
   "metadata": {
    "hidden": true,
    "lc_cell_meme": {
     "current": "a6fc0d64-14ed-11e7-b31a-0242ac12000d",
     "next": "a6fc0f30-14ed-11e7-b31a-0242ac12000d",
     "previous": "a6fc0b8e-14ed-11e7-b31a-0242ac12000d"
    }
   },
   "source": [
    "出力結果から次の内容が確認できれば正常です。\n",
    "\n",
    "1. indexの列に表示されるインデックス名が想定どおりか？  \n",
    "例えば日付インデックスであれば、日付形式の文字列が含まれるか？\n",
    "2. 各インデックスの\"health\" 列が \"green\" かどうか？\n",
    "  - **green**  \n",
    "      ：正常です。\n",
    "  - **yellow**  \n",
    "    ：Primary Shardは割り当てられていますが、Replica Shardが割り当てられていません。\n",
    "  - **red**  \n",
    "    ：特定のShardがクラスタに割り当てられていません"
   ]
  },
  {
   "cell_type": "markdown",
   "metadata": {
    "heading_collapsed": true,
    "hidden": true,
    "lc_cell_meme": {
     "current": "a6fc0f30-14ed-11e7-b31a-0242ac12000d",
     "next": "a6fc1106-14ed-11e7-b31a-0242ac12000d",
     "previous": "a6fc0d64-14ed-11e7-b31a-0242ac12000d"
    }
   },
   "source": [
    "### Shard数が設定通りか？\n",
    "インデックスごとに設定されるShard数が設定した（はずの）値になっているか確認します。"
   ]
  },
  {
   "cell_type": "code",
   "execution_count": 15,
   "metadata": {
    "hidden": true,
    "lc_cell_meme": {
     "current": "a6fc1106-14ed-11e7-b31a-0242ac12000d",
     "next": "a6fc12d2-14ed-11e7-b31a-0242ac12000d",
     "previous": "a6fc0f30-14ed-11e7-b31a-0242ac12000d"
    }
   },
   "outputs": [],
   "source": [
    "!curl -XGET http://$ES_HOST/$INDEX/_settings?pretty"
   ]
  },
  {
   "cell_type": "markdown",
   "metadata": {
    "hidden": true,
    "lc_cell_meme": {
     "current": "a6fc12d2-14ed-11e7-b31a-0242ac12000d",
     "next": "a6fc1494-14ed-11e7-b31a-0242ac12000d",
     "previous": "a6fc1106-14ed-11e7-b31a-0242ac12000d"
    }
   },
   "source": [
    "インデックスごとに次のような内容が出力されます。"
   ]
  },
  {
   "cell_type": "raw",
   "metadata": {
    "hidden": true,
    "lc_cell_meme": {
     "current": "a6fc1494-14ed-11e7-b31a-0242ac12000d",
     "next": "a6fc1656-14ed-11e7-b31a-0242ac12000d",
     "previous": "a6fc12d2-14ed-11e7-b31a-0242ac12000d"
    }
   },
   "source": [
    " \"meteorological-data-2015.02\" : {\n",
    "    \"settings\" : {\n",
    "      \"index\" : {\n",
    "        \"creation_date\" : \"1489559717930\",\n",
    "        \"number_of_shards\" : \"3\",\n",
    "        （略）"
   ]
  },
  {
   "cell_type": "markdown",
   "metadata": {
    "hidden": true,
    "lc_cell_meme": {
     "current": "a6fc1656-14ed-11e7-b31a-0242ac12000d",
     "next": "a6fc1818-14ed-11e7-b31a-0242ac12000d",
     "previous": "a6fc1494-14ed-11e7-b31a-0242ac12000d"
    }
   },
   "source": [
    "**■確認内容**"
   ]
  },
  {
   "cell_type": "markdown",
   "metadata": {
    "hidden": true,
    "lc_cell_meme": {
     "current": "a6fc1818-14ed-11e7-b31a-0242ac12000d",
     "next": "a6fc19da-14ed-11e7-b31a-0242ac12000d",
     "previous": "a6fc1656-14ed-11e7-b31a-0242ac12000d"
    }
   },
   "source": [
    "\"number_of_shards\"の数について次を確認してください。\n",
    "\n",
    "- 最初にセットアップしたShard数と一致しているか？\n",
    "- Shard数を設定したことが無いのであれば、現状のData Node数と比べて小さくないか？"
   ]
  },
  {
   "cell_type": "markdown",
   "metadata": {
    "heading_collapsed": true,
    "lc_cell_meme": {
     "current": "a6fc19da-14ed-11e7-b31a-0242ac12000d",
     "next": "a6fc1b9c-14ed-11e7-b31a-0242ac12000d",
     "previous": "a6fc1818-14ed-11e7-b31a-0242ac12000d"
    }
   },
   "source": [
    "## 症状と対処\n",
    "診断の章で異常があった場合、本章の内容に従い対処します。"
   ]
  },
  {
   "cell_type": "markdown",
   "metadata": {
    "hidden": true,
    "lc_cell_meme": {
     "current": "a6fc1b9c-14ed-11e7-b31a-0242ac12000d",
     "next": "a6fc1d72-14ed-11e7-b31a-0242ac12000d",
     "previous": "a6fc19da-14ed-11e7-b31a-0242ac12000d"
    }
   },
   "source": [
    "**先頭から順に**症状を確認してください。  \n",
    "症状に対処したら、いったん[診断](#診断)の章に戻り、コマンドを**全て再実行し直してください。**\n",
    "\n",
    "これは、本章の各節にある対処が、その前までの節に症状が出ていないことを前提に記述しているためです。  \n",
    "※例えば「クラスタ状態が\"green\"でない」節の対処は、その前にある「サーバマシンが稼働していない」節では問題が無いことを前提に記述しています。よってサーバが起動しているかの確認はしていません。"
   ]
  },
  {
   "cell_type": "markdown",
   "metadata": {
    "heading_collapsed": true,
    "hidden": true,
    "lc_cell_meme": {
     "current": "a6fc1d72-14ed-11e7-b31a-0242ac12000d",
     "next": "a6fc1f3e-14ed-11e7-b31a-0242ac12000d",
     "previous": "a6fc1b9c-14ed-11e7-b31a-0242ac12000d"
    }
   },
   "source": [
    "### サーバマシンが稼働していない\n",
    "**■項目**：[サーバマシンが稼働しているか？](#サーバマシンが稼働しているか？)  \n",
    "**■症状**：pingの応答がないマシンが存在する"
   ]
  },
  {
   "cell_type": "markdown",
   "metadata": {
    "hidden": true,
    "lc_cell_meme": {
     "current": "a6fc1f3e-14ed-11e7-b31a-0242ac12000d",
     "next": "a6fc2100-14ed-11e7-b31a-0242ac12000d",
     "previous": "a6fc1d72-14ed-11e7-b31a-0242ac12000d"
    }
   },
   "source": [
    "**■原因**：  \n",
    "ハードウェアの障害や誤操作でサーバが停止している。  \n",
    "または、サーバは稼働しているが、通信経路に問題がありpingが到達しない。"
   ]
  },
  {
   "cell_type": "markdown",
   "metadata": {
    "hidden": true,
    "lc_cell_meme": {
     "current": "a6fc2100-14ed-11e7-b31a-0242ac12000d",
     "next": "a6fc22d6-14ed-11e7-b31a-0242ac12000d",
     "previous": "a6fc1f3e-14ed-11e7-b31a-0242ac12000d"
    }
   },
   "source": [
    "**■対処**：  \n",
    "- マシンが停止している場合は稼働させてください。  \n",
    "なんらかのハードウェア障害が発生している場合は、それを解決してください。\n",
    "- マシンが停止していない場合は、通信経路の状態を確認し、問題を是正してください。"
   ]
  },
  {
   "cell_type": "markdown",
   "metadata": {
    "heading_collapsed": true,
    "hidden": true,
    "lc_cell_meme": {
     "current": "a6fc22d6-14ed-11e7-b31a-0242ac12000d",
     "next": "a6fc24ca-14ed-11e7-b31a-0242ac12000d",
     "previous": "a6fc2100-14ed-11e7-b31a-0242ac12000d"
    }
   },
   "source": [
    "### プロセスが稼働していない\n",
    "**■項目**：[プロセスが稼働しているか？](#プロセスが稼働しているか？)  \n",
    "**■症状**：稼働していないElasticsearchプロセスが存在する"
   ]
  },
  {
   "cell_type": "markdown",
   "metadata": {
    "hidden": true,
    "lc_cell_meme": {
     "current": "a6fc24ca-14ed-11e7-b31a-0242ac12000d",
     "next": "a6fc268c-14ed-11e7-b31a-0242ac12000d",
     "previous": "a6fc22d6-14ed-11e7-b31a-0242ac12000d"
    }
   },
   "source": [
    "**■原因**：  \n",
    "なんらかのエラー発生、または誤操作によりプロセスがダウンしている。もしくは、そもそも起動していない。"
   ]
  },
  {
   "cell_type": "markdown",
   "metadata": {
    "hidden": true,
    "lc_cell_meme": {
     "current": "a6fc268c-14ed-11e7-b31a-0242ac12000d",
     "next": "a6fc2902-14ed-11e7-b31a-0242ac12000d",
     "previous": "a6fc24ca-14ed-11e7-b31a-0242ac12000d"
    }
   },
   "source": [
    "**■対処**：  \n",
    "- 「[エラーログが無いか？](#エラーログが無いか？)」でエラーが発生していない場合は、クラスタを起動してください。  \n",
    "次のコマンドでクラスタを起動できます。"
   ]
  },
  {
   "cell_type": "code",
   "execution_count": 16,
   "metadata": {
    "collapsed": true,
    "hidden": true,
    "lc_cell_meme": {
     "current": "a6fc2902-14ed-11e7-b31a-0242ac12000d",
     "next": "a6fc2af6-14ed-11e7-b31a-0242ac12000d",
     "previous": "a6fc268c-14ed-11e7-b31a-0242ac12000d"
    }
   },
   "outputs": [],
   "source": [
    "#!ansible-playbook playbooks/start_cluster.yml -i ./hosts -u $USER --private-key=$KEYPATH"
   ]
  },
  {
   "cell_type": "markdown",
   "metadata": {
    "hidden": true,
    "lc_cell_meme": {
     "current": "a6fc2af6-14ed-11e7-b31a-0242ac12000d",
     "next": "a6fc2ccc-14ed-11e7-b31a-0242ac12000d",
     "previous": "a6fc2902-14ed-11e7-b31a-0242ac12000d"
    }
   },
   "source": [
    "- エラーログが出力されている場合は「[エラーが出力されている](#エラーが出力されている)」の対処に進んでください。"
   ]
  },
  {
   "cell_type": "markdown",
   "metadata": {
    "heading_collapsed": true,
    "hidden": true,
    "lc_cell_meme": {
     "current": "a6fc2ccc-14ed-11e7-b31a-0242ac12000d",
     "next": "a6fc2e98-14ed-11e7-b31a-0242ac12000d",
     "previous": "a6fc2af6-14ed-11e7-b31a-0242ac12000d"
    }
   },
   "source": [
    "### ディスクの使用量に余裕がない\n",
    "**■項目**：[ディスクの使用量に余裕があるか？](#ディスクの使用量に余裕があるか？)  \n",
    "**■症状**：ディスクの残量が少ない"
   ]
  },
  {
   "cell_type": "markdown",
   "metadata": {
    "hidden": true,
    "lc_cell_meme": {
     "current": "a6fc2e98-14ed-11e7-b31a-0242ac12000d",
     "next": "a6fc3064-14ed-11e7-b31a-0242ac12000d",
     "previous": "a6fc2ccc-14ed-11e7-b31a-0242ac12000d"
    }
   },
   "source": [
    "**■原因**：  \n",
    "Elasticsearchのプロセスか、それ以外のプロセスによる使用量の増加。"
   ]
  },
  {
   "cell_type": "markdown",
   "metadata": {
    "hidden": true,
    "lc_cell_meme": {
     "current": "a6fc3064-14ed-11e7-b31a-0242ac12000d",
     "next": "a6fc3226-14ed-11e7-b31a-0242ac12000d",
     "previous": "a6fc2e98-14ed-11e7-b31a-0242ac12000d"
    }
   },
   "source": [
    "**■対処**：  \n",
    "どのプロセスがディスクサイズを占有しているのか確認します。"
   ]
  },
  {
   "cell_type": "code",
   "execution_count": 17,
   "metadata": {
    "hidden": true,
    "lc_cell_meme": {
     "current": "a6fc3226-14ed-11e7-b31a-0242ac12000d",
     "next": "a6fc33e8-14ed-11e7-b31a-0242ac12000d",
     "previous": "a6fc3064-14ed-11e7-b31a-0242ac12000d"
    },
    "scrolled": true
   },
   "outputs": [],
   "source": [
    "!ansible all -m shell -a \"sudo du -m --max-depth=1 / || exit 0\" -i ./hosts -u $USER --private-key=$KEYPATH\n",
    "# MB単位で、ルートから1階層のみ計測しています。必要に応じてオプションを変更してください。"
   ]
  },
  {
   "cell_type": "markdown",
   "metadata": {
    "hidden": true,
    "lc_cell_meme": {
     "current": "a6fc33e8-14ed-11e7-b31a-0242ac12000d",
     "history": [
      {
       "current": "a6fc33e8-14ed-11e7-b31a-0242ac12000d",
       "next": "a6fc35aa-14ed-11e7-b31a-0242ac12000d",
       "previous": "a6fc3226-14ed-11e7-b31a-0242ac12000d"
      }
     ],
     "next": "08ecb21e-182f-11e7-b31a-0242ac12000d",
     "previous": "a6fc3226-14ed-11e7-b31a-0242ac12000d"
    }
   },
   "source": [
    "- Elasticsearchのデフォルトの設定では、ディスク使用率が85%を越えると、そのノードに新たなシャードを割り当てません。そのため、ディスク使用率が85%を越えないようにしてください。\n",
    "- Elasticsearch以外が占有している場合は、そちらのデータ削減を検討してください。\n",
    "- Elasticsearchが占有している場合は、不要になったインデックス等の削除を検討してください。\n",
    "- 削除できない場合は、Data Nodeを追加してください。  \n",
    "[01_50_Add_Data_Node.ipynb](01_50_Add_Data_Node.ipynb)を実施してください。\n"
   ]
  },
  {
   "cell_type": "markdown",
   "metadata": {
    "hidden": true,
    "lc_cell_meme": {
     "current": "08ecb21e-182f-11e7-b31a-0242ac12000d",
     "next": "08ecb66a-182f-11e7-b31a-0242ac12000d",
     "previous": "a6fc33e8-14ed-11e7-b31a-0242ac12000d"
    }
   },
   "source": [
    "- なおElasticsearchには、ディスク使用率が100%にならないようwater markを設け、状態に応じてShardを割り振る機能があります。\n",
    "  - 詳細はElasticsearch Referenceの[Disk-based Shard Allocation](https://www.elastic.co/guide/en/elasticsearch/reference/5.0/disk-allocator.html)を参照してください。\n",
    "  - 例えばディスク使用率が80%を超えた場合、そのNodeには新しいShardを割り当てなくし、  \n",
    "ディスクの空き領域が50GBあった場合、Shardを再配置するelasticsearch.ymlの設定は次の通りです。\n"
   ]
  },
  {
   "cell_type": "raw",
   "metadata": {
    "hidden": true,
    "lc_cell_meme": {
     "current": "08ecb66a-182f-11e7-b31a-0242ac12000d",
     "next": "a6fc35aa-14ed-11e7-b31a-0242ac12000d",
     "previous": "08ecb21e-182f-11e7-b31a-0242ac12000d"
    }
   },
   "source": [
    "cluster.routing.allocation.disk.watermark.low: \"80%\"\n",
    "cluster.routing.allocation.disk.watermark.high: \"50gb\"\n",
    "cluster.info.update.interval: \"1m\""
   ]
  },
  {
   "cell_type": "markdown",
   "metadata": {
    "heading_collapsed": true,
    "hidden": true,
    "lc_cell_meme": {
     "current": "a6fc35aa-14ed-11e7-b31a-0242ac12000d",
     "history": [
      {
       "current": "a6fc35aa-14ed-11e7-b31a-0242ac12000d",
       "next": "a6fc3776-14ed-11e7-b31a-0242ac12000d",
       "previous": "a6fc33e8-14ed-11e7-b31a-0242ac12000d"
      }
     ],
     "next": "a6fc3776-14ed-11e7-b31a-0242ac12000d",
     "previous": "08ecb66a-182f-11e7-b31a-0242ac12000d"
    }
   },
   "source": [
    "### クラスタと通信できない\n",
    "**■項目**：[クラスタと通信できるか？](#クラスタと通信できるか？)  \n",
    "**■症状**：APIの応答がない、または異常な内容"
   ]
  },
  {
   "cell_type": "markdown",
   "metadata": {
    "hidden": true,
    "lc_cell_meme": {
     "current": "a6fc3776-14ed-11e7-b31a-0242ac12000d",
     "next": "a6fc3938-14ed-11e7-b31a-0242ac12000d",
     "previous": "a6fc35aa-14ed-11e7-b31a-0242ac12000d"
    }
   },
   "source": [
    "**■原因**：  \n",
    "稼働しているElasticsearchに外部通信が許可されていない。"
   ]
  },
  {
   "cell_type": "markdown",
   "metadata": {
    "hidden": true,
    "lc_cell_meme": {
     "current": "a6fc3938-14ed-11e7-b31a-0242ac12000d",
     "next": "a6fc3afa-14ed-11e7-b31a-0242ac12000d",
     "previous": "a6fc3776-14ed-11e7-b31a-0242ac12000d"
    }
   },
   "source": [
    "**■対処**：  \n",
    "- セキュリティの設定等で、クラスタと外部との通信が阻害されていないか確認してください。  \n",
    "Elasticsearchは外部との通信用に**9200**番ポートを利用します。  \n",
    "9200番ポートが許可されているか確認してください。\n",
    "  - 例えば、AWSの場合はセキュリティグループの設定を確認してください。  \n",
    "  次のコマンドで \"FromPort\"と\"ToPort\"の値域に**9200**を含むブロックを確認してください。  \n",
    "  そのブロックの\"IpRanges\"配下に通信先のサーバが登録されていなければ、外部からの通信が遮断されます。"
   ]
  },
  {
   "cell_type": "code",
   "execution_count": 18,
   "metadata": {
    "collapsed": true,
    "hidden": true,
    "lc_cell_meme": {
     "current": "a6fc3afa-14ed-11e7-b31a-0242ac12000d",
     "next": "a6fc3cbc-14ed-11e7-b31a-0242ac12000d",
     "previous": "a6fc3938-14ed-11e7-b31a-0242ac12000d"
    },
    "scrolled": false
   },
   "outputs": [],
   "source": [
    "#!aws ec2 describe-security-groups\n",
    "\n",
    "#VPCのIDがわかっている場合は次のコマンドで表示を絞り込めます。\n",
    "#VPC_ID='vpc-bd3b81d9'\n",
    "#!aws ec2 describe-security-groups --filters \"Name=vpc-id,Values=$VPC_ID\""
   ]
  },
  {
   "cell_type": "markdown",
   "metadata": {
    "heading_collapsed": true,
    "hidden": true,
    "lc_cell_meme": {
     "current": "a6fc3cbc-14ed-11e7-b31a-0242ac12000d",
     "next": "a6fc3e7e-14ed-11e7-b31a-0242ac12000d",
     "previous": "a6fc3afa-14ed-11e7-b31a-0242ac12000d"
    }
   },
   "source": [
    "### クラスタにNodeが参加していない\n",
    "**■項目**：[クラスタに全Nodeが参加しているか？](#クラスタに全Nodeが参加しているか？)  \n",
    "**■症状**：\"status\"がgreenでない、または \"number_of_data_nodes\"の数が、起動しているはずのData Node数より少ない"
   ]
  },
  {
   "cell_type": "markdown",
   "metadata": {
    "hidden": true,
    "lc_cell_meme": {
     "current": "a6fc3e7e-14ed-11e7-b31a-0242ac12000d",
     "next": "a6fc4040-14ed-11e7-b31a-0242ac12000d",
     "previous": "a6fc3cbc-14ed-11e7-b31a-0242ac12000d"
    }
   },
   "source": [
    "**■原因**：  \n",
    "クラスタ内部の通信が阻害されており、検出できないNodeがある。  \n",
    "※ここまでの対処で、サーバもプロセスも稼働しており、pingも正常に応答している前提"
   ]
  },
  {
   "cell_type": "markdown",
   "metadata": {
    "hidden": true,
    "lc_cell_meme": {
     "current": "a6fc4040-14ed-11e7-b31a-0242ac12000d",
     "next": "a6fc4216-14ed-11e7-b31a-0242ac12000d",
     "previous": "a6fc3e7e-14ed-11e7-b31a-0242ac12000d"
    }
   },
   "source": [
    "**■対処**：  \n",
    "- セキュリティの設定等で、クラスタ内部の通信が阻害されていないか確認してください。  \n",
    "Elasticsearchはクラスタ内部の通信用に**9300**番ポートを利用します。9300番ポートが許可されているか確認してください。\n",
    "  - 例えばAWSの場合はセキュリティグループの設定を確認してください。  \n",
    "  次のコマンドで \"FromPort\"と\"ToPort\"の値域に**9300**を含むブロックを確認してください。  \n",
    "  そのブロックの\"IpRanges\"配下に通信先のサーバが登録されていなければ、内部の通信が遮断されます。"
   ]
  },
  {
   "cell_type": "code",
   "execution_count": 19,
   "metadata": {
    "collapsed": true,
    "hidden": true,
    "lc_cell_meme": {
     "current": "a6fc4216-14ed-11e7-b31a-0242ac12000d",
     "next": "a6fc43d8-14ed-11e7-b31a-0242ac12000d",
     "previous": "a6fc4040-14ed-11e7-b31a-0242ac12000d"
    },
    "scrolled": true
   },
   "outputs": [],
   "source": [
    "#!aws ec2 describe-security-groups\n",
    "\n",
    "#VPCのIDがわかっている場合は次のコマンドで表示を絞り込めます。\n",
    "#VPC_ID='vpc-bd3b81d9'\n",
    "#!aws ec2 describe-security-groups --filters \"Name=vpc-id,Values=$VPC_ID\""
   ]
  },
  {
   "cell_type": "markdown",
   "metadata": {
    "heading_collapsed": true,
    "hidden": true,
    "lc_cell_meme": {
     "current": "a6fc43d8-14ed-11e7-b31a-0242ac12000d",
     "next": "a6fc459a-14ed-11e7-b31a-0242ac12000d",
     "previous": "a6fc4216-14ed-11e7-b31a-0242ac12000d"
    }
   },
   "source": [
    "### エラーログが出力されている（ディスクフル）\n",
    "**■項目**：[エラーログが無いか？](#エラーログが無いか？)  \n",
    "**■症状**：ログに次のようなディスクフルを示すメッセージが出力されている"
   ]
  },
  {
   "cell_type": "raw",
   "metadata": {
    "hidden": true,
    "lc_cell_meme": {
     "current": "a6fc459a-14ed-11e7-b31a-0242ac12000d",
     "next": "a6fc475c-14ed-11e7-b31a-0242ac12000d",
     "previous": "a6fc43d8-14ed-11e7-b31a-0242ac12000d"
    }
   },
   "source": [
    "[cluster.routing.allocation.decider] [Milan] low disk watermark [15%] exceeded on [DZqnmWIZRpapZY_TPkkMBw][Milan] free: 58.6gb[12.6%], replicas will not be assigned to this node"
   ]
  },
  {
   "cell_type": "markdown",
   "metadata": {
    "hidden": true,
    "lc_cell_meme": {
     "current": "a6fc475c-14ed-11e7-b31a-0242ac12000d",
     "next": "a6fc4928-14ed-11e7-b31a-0242ac12000d",
     "previous": "a6fc459a-14ed-11e7-b31a-0242ac12000d"
    }
   },
   "source": [
    "**■原因**：  \n",
    "Elasticsearchのプロセスか、それ以外のプロセスによる使用量の増加。"
   ]
  },
  {
   "cell_type": "markdown",
   "metadata": {
    "hidden": true,
    "lc_cell_meme": {
     "current": "a6fc4928-14ed-11e7-b31a-0242ac12000d",
     "next": "a6fc4aea-14ed-11e7-b31a-0242ac12000d",
     "previous": "a6fc475c-14ed-11e7-b31a-0242ac12000d"
    }
   },
   "source": [
    "**■対処**：  \n",
    "適切に「[ディスクの使用量に余裕がない](#ディスクの使用量に余裕がない)」の節での対処を実施している場合は、おそらくこの問題は既に解決しています。  \n",
    "「[ディスクの使用量に余裕がない](#ディスクの使用量に余裕がない)」の対処後、同様のログが出力されるか確認してください。"
   ]
  },
  {
   "cell_type": "markdown",
   "metadata": {
    "heading_collapsed": true,
    "hidden": true,
    "lc_cell_meme": {
     "current": "a6fc4aea-14ed-11e7-b31a-0242ac12000d",
     "next": "a6fc4cac-14ed-11e7-b31a-0242ac12000d",
     "previous": "a6fc4928-14ed-11e7-b31a-0242ac12000d"
    }
   },
   "source": [
    "### エラーログが出力されている（OSのメモリマップ設定誤り）\n",
    "**■項目**：[エラーログが無いか？](#エラーログが無いか？)  \n",
    "**■症状**：ログに次のようなOSのメモリマップ設定誤りを示すメッセージが出力されている"
   ]
  },
  {
   "cell_type": "raw",
   "metadata": {
    "hidden": true,
    "lc_cell_meme": {
     "current": "a6fc4cac-14ed-11e7-b31a-0242ac12000d",
     "next": "a6fc4e64-14ed-11e7-b31a-0242ac12000d",
     "previous": "a6fc4aea-14ed-11e7-b31a-0242ac12000d"
    }
   },
   "source": [
    "publish_address {192.168.0.1:9300}, bound_addresses {[::]:9300}\n",
    "Exception in thread \"main\" java.lang.RuntimeException: bootstrap checks failed\n",
    "initial heap size [268435456] not equal to maximum heap size [2147483648]; this can cause resize pauses and prevents mlockall from locking the entire heap\n",
    "max virtual memory areas vm.max_map_count [65530] likely too low, increase to at least [262144]"
   ]
  },
  {
   "cell_type": "markdown",
   "metadata": {
    "hidden": true,
    "lc_cell_meme": {
     "current": "a6fc4e64-14ed-11e7-b31a-0242ac12000d",
     "next": "a6fc5026-14ed-11e7-b31a-0242ac12000d",
     "previous": "a6fc4cac-14ed-11e7-b31a-0242ac12000d"
    }
   },
   "source": [
    "**■原因**：  \n",
    "カーネルパラメータvm.max_map_countの設定が誤っています。"
   ]
  },
  {
   "cell_type": "markdown",
   "metadata": {
    "hidden": true,
    "lc_cell_meme": {
     "current": "a6fc5026-14ed-11e7-b31a-0242ac12000d",
     "next": "a6fc51f2-14ed-11e7-b31a-0242ac12000d",
     "previous": "a6fc4e64-14ed-11e7-b31a-0242ac12000d"
    }
   },
   "source": [
    "**■対処**：  \n",
    "[01_04_Install.ipynbの「Elasticsearchの設定」](01_04_Install.ipynb#Elasticsearchの設定)にある「カーネルパラメータを変更」のコマンドを実行し、  \n",
    "カーネルパラメータvm.max_map_countを設定してください。"
   ]
  },
  {
   "cell_type": "markdown",
   "metadata": {
    "heading_collapsed": true,
    "hidden": true,
    "lc_cell_meme": {
     "current": "a6fc51f2-14ed-11e7-b31a-0242ac12000d",
     "next": "a6fc53aa-14ed-11e7-b31a-0242ac12000d",
     "previous": "a6fc5026-14ed-11e7-b31a-0242ac12000d"
    }
   },
   "source": [
    "### Slowログが出力されている\n",
    "**■項目**：[Slowログが無いか？](#Slowログが無いか？)  \n",
    "**■症状**：Slowログが出力されている"
   ]
  },
  {
   "cell_type": "markdown",
   "metadata": {
    "hidden": true,
    "lc_cell_meme": {
     "current": "a6fc53aa-14ed-11e7-b31a-0242ac12000d",
     "next": "a6fc556c-14ed-11e7-b31a-0242ac12000d",
     "previous": "a6fc51f2-14ed-11e7-b31a-0242ac12000d"
    }
   },
   "source": [
    "**■原因/対処**：  \n",
    "サーバのスペック不足、サーバ数の不足、ヒープの枯渇、インデックスの作成漏れ等が考えられます。"
   ]
  },
  {
   "cell_type": "markdown",
   "metadata": {
    "hidden": true,
    "lc_cell_meme": {
     "current": "a6fc556c-14ed-11e7-b31a-0242ac12000d",
     "next": "a6fc572e-14ed-11e7-b31a-0242ac12000d",
     "previous": "a6fc53aa-14ed-11e7-b31a-0242ac12000d"
    }
   },
   "source": [
    "[診断](#診断)結果以外に、**Profile API**でクエリの実行状況を調査できます。  \n",
    "Profile APIは、通常の検索query内に  \n",
    "**\"profile\": true **  \n",
    "のパラメータを追加するだけで動作します。  \n",
    "\n",
    "例えば2015年1月分の東京のデータを検索するクエリでProfileを有効にするには次のようにします。"
   ]
  },
  {
   "cell_type": "code",
   "execution_count": 20,
   "metadata": {
    "hidden": true,
    "lc_cell_meme": {
     "current": "a6fc572e-14ed-11e7-b31a-0242ac12000d",
     "next": "a6fc5904-14ed-11e7-b31a-0242ac12000d",
     "previous": "a6fc556c-14ed-11e7-b31a-0242ac12000d"
    }
   },
   "outputs": [],
   "source": [
    "%%bash\n",
    "curl -XGET \"http://$ES_HOST/meteorological-data-2015.01/_search?pretty\" -d @- << EOF\n",
    "{\n",
    "  \"profile\": true,\n",
    "  \"query\": {\n",
    "    \"term\" : { \"location\" : \"tokyo\" } \n",
    "  }\n",
    "}\n",
    "EOF"
   ]
  },
  {
   "cell_type": "markdown",
   "metadata": {
    "hidden": true,
    "lc_cell_meme": {
     "current": "a6fc5904-14ed-11e7-b31a-0242ac12000d",
     "next": "a6fc5ac6-14ed-11e7-b31a-0242ac12000d",
     "previous": "a6fc572e-14ed-11e7-b31a-0242ac12000d"
    }
   },
   "source": [
    "Profile APIの詳細は、Elasticsearch Referenceの[Profile API](https://www.elastic.co/guide/en/elasticsearch/reference/5.0/search-profile.html)を参照してください。\n",
    "\n",
    "ただし、Profileの結果は時間が立つと変化してしまうため注意が必要です。  \n",
    "これは、データがどのshardに入るのかは、データのハッシュ値によって変化するため、  \n",
    "クラスタ状況によってはデータの再配置が起きて、Shard間でデータの移動が行われる可能性があるためです。  \n",
    "（例：ある特定ノードで残容量がwater markを超過したためにshardの移動が発生した。など)  \n"
   ]
  },
  {
   "cell_type": "markdown",
   "metadata": {
    "hidden": true,
    "lc_cell_meme": {
     "current": "a6fc5ac6-14ed-11e7-b31a-0242ac12000d",
     "next": "a6fc5c88-14ed-11e7-b31a-0242ac12000d",
     "previous": "a6fc5904-14ed-11e7-b31a-0242ac12000d"
    }
   },
   "source": [
    "**[診断](#診断)結果とProfile結果を踏まえ、以下の節の内容を確認して対処してください。**"
   ]
  },
  {
   "cell_type": "markdown",
   "metadata": {
    "heading_collapsed": true,
    "hidden": true,
    "lc_cell_meme": {
     "current": "a6fc5c88-14ed-11e7-b31a-0242ac12000d",
     "next": "a6fc5e4a-14ed-11e7-b31a-0242ac12000d",
     "previous": "a6fc5ac6-14ed-11e7-b31a-0242ac12000d"
    }
   },
   "source": [
    "#### クラスタ内のサーバのCPU・メモリが枯渇している\n",
    "**■項目**：[クラスタ内のサーバのCPU・メモリが枯渇していないか？](#クラスタ内のサーバのCPU・メモリが枯渇していないか？)  \n",
    "**■症状**：CPUかメモリのどちらかが枯渇している"
   ]
  },
  {
   "cell_type": "markdown",
   "metadata": {
    "hidden": true,
    "lc_cell_meme": {
     "current": "a6fc5e4a-14ed-11e7-b31a-0242ac12000d",
     "next": "a6fc6002-14ed-11e7-b31a-0242ac12000d",
     "previous": "a6fc5c88-14ed-11e7-b31a-0242ac12000d"
    }
   },
   "source": [
    "**■原因**：  \n",
    "サーバで動作しているElasticsearchかそれ以外のプロセスに対し、サーバのスペックが足りていない。"
   ]
  },
  {
   "cell_type": "markdown",
   "metadata": {
    "hidden": true,
    "lc_cell_meme": {
     "current": "a6fc6002-14ed-11e7-b31a-0242ac12000d",
     "next": "a6fc61d8-14ed-11e7-b31a-0242ac12000d",
     "previous": "a6fc5e4a-14ed-11e7-b31a-0242ac12000d"
    }
   },
   "source": [
    "**■対処**：  \n",
    "- 他のプロセスによるCPUやメモリの使用率が大きい場合は、プロセスの停止か別サーバへの移動を検討してください。\n",
    "- ElasticsearchのCPU使用率が大きい場合は、サーバへのメモリ追加か、サーバ台数の追加を検討してください。\n",
    "  - AWSのインスタンスサイズを変更する場合は、AWS公式ページの[インスタンスのサイズ変更](http://docs.aws.amazon.com/ja_jp/AWSEC2/latest/UserGuide/ec2-instance-resize.html)を参照してください。\n",
    "  - サーバ台数の追加は[01_50_Add_Data_Node.ipynb](01_50_Add_Data_Node.ipynb)を実施してください。\n",
    "- Elasticsearchのメモリ使用量は、Javaの起動オプションに設定した**\"-Xmx\"**（最大ヒープサイズ）の値を超えることはありません。  \n",
    "この使用量が想定外であった場合は次を確認してください。\n",
    "  1. 実際に稼働しているプロセスのオプションを確認します。  \n",
    "  診断の章の[プロセスが稼働しているか？](#プロセスが稼働しているか？)の節で実施したpsコマンドの出力に、Javaプロセスの引数が出ているはずです。\"-Xmx\" オプションの内容が想定通りか確認してください。\n",
    "  2. 想定と異なる場合、Elasticsearch用のJava起動オプションの設定が正しいか確認してください。次のコマンドで確認できます。  \n",
    "  再設定が必要な場合は[01_04_Install.ipynbの「Elasticsearchの設定」](01_04_Install.ipynb#Elasticsearchの設定)を実施してください。"
   ]
  },
  {
   "cell_type": "code",
   "execution_count": 21,
   "metadata": {
    "hidden": true,
    "lc_cell_meme": {
     "current": "a6fc61d8-14ed-11e7-b31a-0242ac12000d",
     "next": "a6fc63a4-14ed-11e7-b31a-0242ac12000d",
     "previous": "a6fc6002-14ed-11e7-b31a-0242ac12000d"
    }
   },
   "outputs": [],
   "source": [
    "!ansible all -m shell -a \"sudo grep -e '^-Xmx' /etc/elasticsearch/jvm.options\" -i ./hosts -u $USER --private-key=$KEYPATH"
   ]
  },
  {
   "cell_type": "markdown",
   "metadata": {
    "heading_collapsed": true,
    "hidden": true,
    "lc_cell_meme": {
     "current": "a6fc63a4-14ed-11e7-b31a-0242ac12000d",
     "next": "a6fc6566-14ed-11e7-b31a-0242ac12000d",
     "previous": "a6fc61d8-14ed-11e7-b31a-0242ac12000d"
    }
   },
   "source": [
    "#### ヒープが枯渇している\n",
    "**■項目**：[ヒープが枯渇していないか？](#ヒープが枯渇していないか？)  \n",
    "**■症状**：ヒープの使用量が100%近くに達している、またはGC数が大きい"
   ]
  },
  {
   "cell_type": "markdown",
   "metadata": {
    "hidden": true,
    "lc_cell_meme": {
     "current": "a6fc6566-14ed-11e7-b31a-0242ac12000d",
     "next": "a6fc6746-14ed-11e7-b31a-0242ac12000d",
     "previous": "a6fc63a4-14ed-11e7-b31a-0242ac12000d"
    }
   },
   "source": [
    "**■原因**：  \n",
    "ヒープサイズの設定漏れ、またはクラスタの負荷状況にサーバ台数が及んでいない。"
   ]
  },
  {
   "cell_type": "markdown",
   "metadata": {
    "hidden": true,
    "lc_cell_meme": {
     "current": "a6fc6746-14ed-11e7-b31a-0242ac12000d",
     "next": "a6fc6908-14ed-11e7-b31a-0242ac12000d",
     "previous": "a6fc6566-14ed-11e7-b31a-0242ac12000d"
    }
   },
   "source": [
    "**■対処**：  \n",
    "- ヒープサイズの設定が想定通りか確認してください。\n",
    "  1. 実際に稼働しているプロセスのオプションを確認します。  \n",
    "  診断の章の[プロセスが稼働しているか？](#プロセスが稼働しているか？)の節で実施したpsコマンドの出力に、Javaプロセスの引数が出ているはずです。\"-Xmx\" オプションの内容が想定通りか確認してください。\n",
    "  2. 想定と異なる場合、Elasticsearch用のJava起動オプションの設定が正しいか確認してください。次のコマンドで確認できます。  \n",
    "  再設定が必要な場合は[01_04_Install.ipynbの「Elasticsearchの設定」](01_04_Install.ipynb#Elasticsearchの設定)を実施してください。\n"
   ]
  },
  {
   "cell_type": "code",
   "execution_count": 22,
   "metadata": {
    "hidden": true,
    "lc_cell_meme": {
     "current": "a6fc6908-14ed-11e7-b31a-0242ac12000d",
     "next": "a6fc6b1a-14ed-11e7-b31a-0242ac12000d",
     "previous": "a6fc6746-14ed-11e7-b31a-0242ac12000d"
    }
   },
   "outputs": [],
   "source": [
    "!ansible all -m shell -a \"sudo grep -e '^-Xmx' /etc/elasticsearch/jvm.options\" -i ./hosts -u $USER --private-key=$KEYPATH"
   ]
  },
  {
   "cell_type": "markdown",
   "metadata": {
    "hidden": true,
    "lc_cell_meme": {
     "current": "a6fc6b1a-14ed-11e7-b31a-0242ac12000d",
     "next": "a6fc6d04-14ed-11e7-b31a-0242ac12000d",
     "previous": "a6fc6908-14ed-11e7-b31a-0242ac12000d"
    }
   },
   "source": [
    "- ヒープサイズが想定通りで、それでもヒープの使用量が100%に近くなってしまっている場合は、Data Nodeの追加を検討してください。  \n",
    "[01_50_Add_Data_Node.ipynb](01_50_Add_Data_Node.ipynb)を実施してください。"
   ]
  },
  {
   "cell_type": "markdown",
   "metadata": {
    "heading_collapsed": true,
    "hidden": true,
    "lc_cell_meme": {
     "current": "a6fc6d04-14ed-11e7-b31a-0242ac12000d",
     "next": "a6fc6ec6-14ed-11e7-b31a-0242ac12000d",
     "previous": "a6fc6b1a-14ed-11e7-b31a-0242ac12000d"
    }
   },
   "source": [
    "#### 実行中の重いタスクがある\n",
    "**■項目**：[実行中の重いタスクが無いか？](#実行中の重いタスクが無いか？)  \n",
    "**■症状**：想定外のタスクや実行時間の長いタスクがある、または大量のタスクが滞留している"
   ]
  },
  {
   "cell_type": "markdown",
   "metadata": {
    "hidden": true,
    "lc_cell_meme": {
     "current": "a6fc6ec6-14ed-11e7-b31a-0242ac12000d",
     "next": "a6fc7088-14ed-11e7-b31a-0242ac12000d",
     "previous": "a6fc6d04-14ed-11e7-b31a-0242ac12000d"
    }
   },
   "source": [
    "**■原因**：  \n",
    "他のタスクがマシンリソースを圧迫し、クエリの応答を遅くしている。"
   ]
  },
  {
   "cell_type": "markdown",
   "metadata": {
    "hidden": true,
    "lc_cell_meme": {
     "current": "a6fc7088-14ed-11e7-b31a-0242ac12000d",
     "history": [
      {
       "current": "a6fc7088-14ed-11e7-b31a-0242ac12000d",
       "next": "a6fc724a-14ed-11e7-b31a-0242ac12000d",
       "previous": "a6fc6ec6-14ed-11e7-b31a-0242ac12000d"
      },
      {
       "current": "a6fc7088-14ed-11e7-b31a-0242ac12000d",
       "next": "a6fba2a2-14ed-11e7-b31a-0242ac12000d",
       "previous": "a6fc6ec6-14ed-11e7-b31a-0242ac12000d"
      },
      {
       "current": "a6fc7088-14ed-11e7-b31a-0242ac12000d",
       "next": "a6fc724a-14ed-11e7-b31a-0242ac12000d",
       "previous": "a6fc6ec6-14ed-11e7-b31a-0242ac12000d"
      }
     ],
     "next": "a6fc6d04-14ed-11e7-b31a-0242ac12000d",
     "previous": "a6fc6ec6-14ed-11e7-b31a-0242ac12000d"
    }
   },
   "source": [
    "**■対処**：  \n",
    "- 呼び出されているタスクの種類や量が想定外の場合、Elasticsearchを呼び出している側のアプリケーションの挙動を確認してください。\n",
    "- 他のタスクがindexingであった場合、マシンへの負荷が高まり応答に時間がかかる場合があります。詳しくはElasticsearch Referenceの[Indexing Performance Tips](https://www.elastic.co/guide/en/elasticsearch/guide/2.x/indexing-performance.html)を参照してください。\n",
    "- タスクがキャンセル処理をサポートしている場合、APIによるキャンセルが可能です。詳しくはElasticsearch Referenceの[Task Cancellation](https://www.elastic.co/guide/en/elasticsearch/reference/5.0/tasks.html#_task_cancellation)を参照してください。\n"
   ]
  },
  {
   "cell_type": "markdown",
   "metadata": {
    "heading_collapsed": true,
    "hidden": true,
    "lc_cell_meme": {
     "current": "a6fc6d04-14ed-11e7-b31a-0242ac12000d",
     "history": [
      {
       "current": "a6fc6d04-14ed-11e7-b31a-0242ac12000d",
       "next": "a6fc6ec6-14ed-11e7-b31a-0242ac12000d",
       "previous": "a6fc6b1a-14ed-11e7-b31a-0242ac12000d"
      }
     ],
     "next": "a6fc6ec6-14ed-11e7-b31a-0242ac12000d",
     "previous": "a6fc7088-14ed-11e7-b31a-0242ac12000d"
    }
   },
   "source": [
    "#### インデックスが作成されていない\n",
    "**■項目**：[インデックスが作成されているか？](#インデックスが作成されているか？)  \n",
    "**■症状**：インデックスが作成されていない"
   ]
  },
  {
   "cell_type": "markdown",
   "metadata": {
    "hidden": true,
    "lc_cell_meme": {
     "current": "a6fc6ec6-14ed-11e7-b31a-0242ac12000d",
     "next": "a6fc7088-14ed-11e7-b31a-0242ac12000d",
     "previous": "a6fc6d04-14ed-11e7-b31a-0242ac12000d"
    }
   },
   "source": [
    "**■原因**：  \n",
    "インデックスでデータが管理されていないため、不要な範囲の検索が走行しており、遅くなっている。"
   ]
  },
  {
   "cell_type": "markdown",
   "metadata": {
    "hidden": true,
    "lc_cell_meme": {
     "current": "a6fc7088-14ed-11e7-b31a-0242ac12000d",
     "history": [
      {
       "current": "a6fc7088-14ed-11e7-b31a-0242ac12000d",
       "next": "a6fc724a-14ed-11e7-b31a-0242ac12000d",
       "previous": "a6fc6ec6-14ed-11e7-b31a-0242ac12000d"
      },
      {
       "current": "a6fc7088-14ed-11e7-b31a-0242ac12000d",
       "next": "a6fba2a2-14ed-11e7-b31a-0242ac12000d",
       "previous": "a6fc6ec6-14ed-11e7-b31a-0242ac12000d"
      }
     ],
     "next": "a6fc724a-14ed-11e7-b31a-0242ac12000d",
     "previous": "a6fc6ec6-14ed-11e7-b31a-0242ac12000d"
    }
   },
   "source": [
    "**■対処**：  \n",
    "- インデックスを設定し、インデックス名が想定通りになっているか（例えば日付インデックスであればインデックス名に日付文字列が入るか）を確認してください。  \n",
    "インデックスについては[05_Indexing.ipynb](05_Indexing.ipynb)を参照してください。"
   ]
  },
  {
   "cell_type": "markdown",
   "metadata": {
    "heading_collapsed": true,
    "hidden": true,
    "lc_cell_meme": {
     "current": "a6fc724a-14ed-11e7-b31a-0242ac12000d",
     "next": "a6fc7416-14ed-11e7-b31a-0242ac12000d",
     "previous": "a6fc7088-14ed-11e7-b31a-0242ac12000d"
    }
   },
   "source": [
    "#### Shard数が足りていない\n",
    "**■項目**：[Shard数が設定通りか？](#Shard数が設定通りか？)  \n",
    "**■症状**：Shard数が設定したはずの数より不足している"
   ]
  },
  {
   "cell_type": "markdown",
   "metadata": {
    "hidden": true,
    "lc_cell_meme": {
     "current": "a6fc7416-14ed-11e7-b31a-0242ac12000d",
     "next": "a6fc75ce-14ed-11e7-b31a-0242ac12000d",
     "previous": "a6fc724a-14ed-11e7-b31a-0242ac12000d"
    }
   },
   "source": [
    "**■原因**：  \n",
    "テンプレートによるShard数の設定漏れ。またはData Nodeを増やしたときにShard数も増やす処理を忘れている。  \n",
    "結果、存在するData Node群での検索処理が十分に並列化できず、遅くなっている。"
   ]
  },
  {
   "cell_type": "markdown",
   "metadata": {
    "hidden": true,
    "lc_cell_meme": {
     "current": "a6fc75ce-14ed-11e7-b31a-0242ac12000d",
     "next": "a6fc7790-14ed-11e7-b31a-0242ac12000d",
     "previous": "a6fc7416-14ed-11e7-b31a-0242ac12000d"
    }
   },
   "source": [
    "**■対処**：  \n",
    "- 作成済みのインデックスのシャード数は変更することができません。  \n",
    "シャード数を増やしたインデックスを作成した後、作成したインデックスにデータを移動させてください。(reindex)  \n",
    "次のコマンドを実行して新しいインデックスのシャード数を設定してください。"
   ]
  },
  {
   "cell_type": "raw",
   "metadata": {
    "collapsed": true,
    "hidden": true,
    "lc_cell_meme": {
     "current": "a6fc7790-14ed-11e7-b31a-0242ac12000d",
     "next": "a6fc795c-14ed-11e7-b31a-0242ac12000d",
     "previous": "a6fc75ce-14ed-11e7-b31a-0242ac12000d"
    }
   },
   "source": [
    "%%bash\n",
    "curl -XPUT \"http://<ホスト名>:<ポート番号>/_template/<テンプレート名>\" -d @- << EOF\n",
    "{\n",
    "  \"template\" : \"<インデックス名>\",\n",
    "  \"settings\": {\n",
    "    \"number_of_shards\": <シャード数>\n",
    "  }\n",
    "  \"mappings\": {\n",
    "    ...\n",
    "  }\n",
    "}\n",
    "EOF"
   ]
  },
  {
   "cell_type": "markdown",
   "metadata": {
    "hidden": true,
    "lc_cell_meme": {
     "current": "a6fc795c-14ed-11e7-b31a-0242ac12000d",
     "next": null,
     "previous": "a6fc7790-14ed-11e7-b31a-0242ac12000d"
    }
   },
   "source": [
    "- reindexを実行し、新しいインデックスにデータを移動します。  \n",
    "reindexについては[05_Indexing.ipynb](05_Indexing.ipynb#reindex-APIを使った投入後データの加工方法)を参考にしてください。  \n",
    "このreindexの説明ではデータを加工していますが、\"script\"や\"pipeline\"を指定しないようにすることで加工せずにデータの移動のみ行うことができます。"
   ]
  }
 ],
 "metadata": {
  "anaconda-cloud": {},
  "kernelspec": {
   "display_name": "Python 2 (LC_wrapper)",
   "language": "python",
   "name": "python2-wrapper"
  },
  "language_info": {
   "file_extension": ".py",
   "mimetype": "text/x-python",
   "name": "python",
   "nbconvert_exporter": "python",
   "pygments_lexer": "ipython2",
   "version": "2.7.9"
  },
  "latex_envs": {
   "bibliofile": "biblio.bib",
   "cite_by": "apalike",
   "current_citInitial": 1,
   "eqLabelWithNumbers": true,
   "eqNumInitial": 0
  },
  "lc_notebook_meme": {
   "current": "a6fb9e56-14ed-11e7-b31a-0242ac12000d"
  },
  "toc": {
   "colors": {
    "hover_highlight": "#DAA520",
    "navigate_num": "#000000",
    "navigate_text": "#333333",
    "running_highlight": "#FF0000",
    "selected_highlight": "#FFD700",
    "sidebar_border": "#EEEEEE",
    "wrapper_background": "#FFFFFF"
   },
   "moveMenuLeft": true,
   "nav_menu": {
    "height": "117px",
    "width": "252px"
   },
   "navigate_menu": true,
   "number_sections": true,
   "sideBar": true,
   "threshold": 4,
   "toc_cell": false,
   "toc_position": {
    "height": "840px",
    "left": "0px",
    "right": "1168px",
    "top": "130px",
    "width": "268px"
   },
   "toc_section_display": "block",
   "toc_window_display": true,
   "widenNotebook": false
  }
 },
 "nbformat": 4,
 "nbformat_minor": 1
}
