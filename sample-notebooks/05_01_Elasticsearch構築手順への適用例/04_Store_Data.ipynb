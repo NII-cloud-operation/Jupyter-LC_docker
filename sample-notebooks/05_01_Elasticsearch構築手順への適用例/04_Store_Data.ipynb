{
 "cells": [
  {
   "cell_type": "markdown",
   "metadata": {
    "lc_cell_meme": {
     "current": "915429dc-152a-11e7-b31a-0242ac12000d",
     "next": "91542c48-152a-11e7-b31a-0242ac12000d",
     "previous": null
    }
   },
   "source": [
    "# サーチエンジンとしての利用手順(データ蓄積)\n",
    "----\n",
    "LogstashからElasticsearchへ、様々な形式の データを蓄積する方法について説明します。"
   ]
  },
  {
   "cell_type": "markdown",
   "metadata": {
    "lc_cell_meme": {
     "current": "91542c48-152a-11e7-b31a-0242ac12000d",
     "next": "91542e64-152a-11e7-b31a-0242ac12000d",
     "previous": "915429dc-152a-11e7-b31a-0242ac12000d"
    }
   },
   "source": [
    "## 準備"
   ]
  },
  {
   "cell_type": "markdown",
   "metadata": {
    "lc_cell_meme": {
     "current": "91542e64-152a-11e7-b31a-0242ac12000d",
     "next": "91543062-152a-11e7-b31a-0242ac12000d",
     "previous": "91542c48-152a-11e7-b31a-0242ac12000d"
    }
   },
   "source": [
    "本章のコマンドを実行するための設定を行います。  \n",
    "\n",
    "セットアップ済みの環境のうちコマンドを送る先であるCoordinating(Client) Nodeのホストアドレスを、次のセルに記入して実行し、保存してください。"
   ]
  },
  {
   "cell_type": "code",
   "execution_count": 1,
   "metadata": {
    "lc_cell_meme": {
     "current": "91543062-152a-11e7-b31a-0242ac12000d",
     "next": "91543256-152a-11e7-b31a-0242ac12000d",
     "previous": "91542e64-152a-11e7-b31a-0242ac12000d"
    }
   },
   "outputs": [
    {
     "name": "stdout",
     "output_type": "stream",
     "text": [
      "env: ES_HOST=10.24.128.93:9200\n"
     ]
    }
   ],
   "source": [
    "%run rc.py\n",
    "%env ES_HOST={es_host}:9200"
   ]
  },
  {
   "cell_type": "markdown",
   "metadata": {
    "lc_cell_meme": {
     "current": "91543256-152a-11e7-b31a-0242ac12000d",
     "next": "91543454-152a-11e7-b31a-0242ac12000d",
     "previous": "91543062-152a-11e7-b31a-0242ac12000d"
    }
   },
   "source": [
    "また、データを蓄積する先のindexとtypeを、次のセルを実行して保存してください。  \n",
    "\n",
    "※特にセルの内容の書き換えは必要ありません。  \n",
    "　前の章と異なるindex名にしているのは、この章のコマンドで投入する内容が前の章までのものと混ざらないようにするためです。"
   ]
  },
  {
   "cell_type": "code",
   "execution_count": 2,
   "metadata": {
    "lc_cell_meme": {
     "current": "91543454-152a-11e7-b31a-0242ac12000d",
     "next": "91543666-152a-11e7-b31a-0242ac12000d",
     "previous": "91543256-152a-11e7-b31a-0242ac12000d"
    }
   },
   "outputs": [
    {
     "name": "stdout",
     "output_type": "stream",
     "text": [
      "env: INDEX=sample_index\n",
      "env: TYPE=logs\n"
     ]
    }
   ],
   "source": [
    "%env INDEX=sample_index\n",
    "%env TYPE=logs"
   ]
  },
  {
   "cell_type": "markdown",
   "metadata": {
    "lc_cell_meme": {
     "current": "91543666-152a-11e7-b31a-0242ac12000d",
     "next": "91543828-152a-11e7-b31a-0242ac12000d",
     "previous": "91543454-152a-11e7-b31a-0242ac12000d"
    }
   },
   "source": [
    "## Logstashとは"
   ]
  },
  {
   "cell_type": "markdown",
   "metadata": {
    "lc_cell_meme": {
     "current": "91543828-152a-11e7-b31a-0242ac12000d",
     "next": "915439fe-152a-11e7-b31a-0242ac12000d",
     "previous": "91543666-152a-11e7-b31a-0242ac12000d"
    }
   },
   "source": [
    "Logstashは、Elastic Stackを構成するプロダクトの１つです。  \n",
    "データの取り込み、加工、出力（格納）を処理するパイプラインを簡単に構築できます。\n",
    "\n",
    "対応できる形式は次のように多岐に渡ります。\n",
    "\n",
    "- 入力：各種ファイル、RDB、通信ストリーム、ログ、S3、BeatsというElasticのデータ収集ツール…\n",
    "- 加工：各種形式の解釈、分割、集計、地理情報の付与、個人情報のマスク…\n",
    "- 出力：Elasticsearch、S3、各種ファイル、通信…\n",
    "\n",
    "対応できる形式などについては、Logstash([公式ページ](https://www.elastic.co/jp/products/logstash))を参照してください。  \n",
    "  \n",
    "本章では、入力に各種ファイル、格納先にElasticsearchを指定する、単純なケースでのデータ蓄積を実施します。  \n",
    "また、変換処理をLogstashで実施するだけでなく、ElasticsearchのIngest Nodeで分散実施するケースについても説明します。\n"
   ]
  },
  {
   "cell_type": "markdown",
   "metadata": {
    "lc_cell_meme": {
     "current": "915439fe-152a-11e7-b31a-0242ac12000d",
     "next": "91543bd4-152a-11e7-b31a-0242ac12000d",
     "previous": "91543828-152a-11e7-b31a-0242ac12000d"
    }
   },
   "source": [
    "## Logstashの設定"
   ]
  },
  {
   "cell_type": "markdown",
   "metadata": {
    "lc_cell_meme": {
     "current": "91543bd4-152a-11e7-b31a-0242ac12000d",
     "next": "91543da0-152a-11e7-b31a-0242ac12000d",
     "previous": "915439fe-152a-11e7-b31a-0242ac12000d"
    }
   },
   "source": [
    "Logstashを利用する際には、\".conf\"という拡張子のファイルに振る舞いを定義し、それを読み込んで実行させます。  \n",
    "sample.confというconfファイルを用いる場合の実行コマンドは次のようになります。"
   ]
  },
  {
   "cell_type": "raw",
   "metadata": {
    "lc_cell_meme": {
     "current": "91543da0-152a-11e7-b31a-0242ac12000d",
     "next": "91543f6c-152a-11e7-b31a-0242ac12000d",
     "previous": "91543bd4-152a-11e7-b31a-0242ac12000d"
    }
   },
   "source": [
    "logstash -f sample.conf"
   ]
  },
  {
   "cell_type": "markdown",
   "metadata": {
    "lc_cell_meme": {
     "current": "91543f6c-152a-11e7-b31a-0242ac12000d",
     "next": "9154412e-152a-11e7-b31a-0242ac12000d",
     "previous": "91543da0-152a-11e7-b31a-0242ac12000d"
    }
   },
   "source": [
    "confファイルはinput・filter・outputの３つの設定によって構成されます。  \n",
    "- **input** : 入力元や形式の設定\n",
    "- **filter** : 入力された内容の加工内容の設定\n",
    "- **output** : 出力先や形式の設定\n",
    "\n",
    "confファイルの例を次に示します。"
   ]
  },
  {
   "cell_type": "markdown",
   "metadata": {
    "lc_cell_meme": {
     "current": "9154412e-152a-11e7-b31a-0242ac12000d",
     "next": "9154443a-152a-11e7-b31a-0242ac12000d",
     "previous": "91543f6c-152a-11e7-b31a-0242ac12000d"
    }
   },
   "source": [
    "```ruby:example.conf\n",
    "input{\n",
    "  stdin{\n",
    "    codec => plain{\n",
    "      charset => \"UTF-8\"\n",
    "    }\n",
    "  }\n",
    "}\n",
    "filter{\n",
    "  grok { \n",
    "    match => [ \"message\", \"%{COMBINEDAPACHELOG}\" ] \n",
    "  }\n",
    "  geoip{\n",
    "    source => \"ip\"\n",
    "  }\n",
    "}\n",
    "output{\n",
    "  stdout{\n",
    "    codec => dots\n",
    "  }\n",
    "  elasticsearch{\n",
    "    hosts => localhost\n",
    "    user => \"elastic\"\n",
    "    password => \"changeme\"\n",
    "    index => \"apache_sample\"\n",
    "  }\n",
    "}\n",
    "```"
   ]
  },
  {
   "cell_type": "markdown",
   "metadata": {
    "lc_cell_meme": {
     "current": "9154443a-152a-11e7-b31a-0242ac12000d",
     "next": "91544642-152a-11e7-b31a-0242ac12000d",
     "previous": "9154412e-152a-11e7-b31a-0242ac12000d"
    }
   },
   "source": [
    "設定ファイルの各要素の内容や、上の例で対応する部分の意味は次の通りです。\n",
    "\n",
    "||意味|設定例の内容|設定内容の参考ページ|\n",
    "|----|----|----|----|\n",
    "|**input**|データの入力元や形式、およびその詳細を定義します。|stdin{}は標準入力からデータを受けとる設定です。<br>また、文字コードをUTF-8に指定しています。<br>stdin{}の代わりにtwitter{},file{}のように指定すれば入力元を標準入力以外にすることもできます。|[Input plugins](https://www.elastic.co/guide/en/logstash/current/input-plugins.html)|\n",
    "|**filter**|inputから受け取った入力の加工内容を定義します。<br>複数のfilterを記述した場合、記述順に加工されます。|入力の特定部分をパースするgrok filterと<br>地理情報を付加するgeoip filterを指定しています。|[Filter plugins](https://www.elastic.co/guide/en/logstash/current/filter-plugins.html)|\n",
    "|**output**|データの出力先や形式、およびその詳細を定義します。|stdout{}とelasticsearch{}の2つを記述することで、標準出力とElasticsearchの両方に出力するよう指定しています。<br>Elasticsearchへの出力設定では、宛先ホストやアカウント、index名を指定しています。|[Output plugins](https://www.elastic.co/guide/en/logstash/current/output-plugins.html)|"
   ]
  },
  {
   "cell_type": "markdown",
   "metadata": {
    "lc_cell_meme": {
     "current": "91544642-152a-11e7-b31a-0242ac12000d",
     "next": "91544818-152a-11e7-b31a-0242ac12000d",
     "previous": "9154443a-152a-11e7-b31a-0242ac12000d"
    }
   },
   "source": [
    "## データフォーマット"
   ]
  },
  {
   "cell_type": "markdown",
   "metadata": {
    "lc_cell_meme": {
     "current": "91544818-152a-11e7-b31a-0242ac12000d",
     "history": [
      {
       "current": "91544818-152a-11e7-b31a-0242ac12000d",
       "next": "915449f8-152a-11e7-b31a-0242ac12000d",
       "previous": "91544642-152a-11e7-b31a-0242ac12000d"
      }
     ],
     "next": "91544da4-152a-11e7-b31a-0242ac12000d",
     "previous": "91544642-152a-11e7-b31a-0242ac12000d"
    }
   },
   "source": [
    "ここでは、様々なデータフォーマットのデータをElasticsearchに登録する際の具体的な設定と手法について説明します。"
   ]
  },
  {
   "cell_type": "markdown",
   "metadata": {
    "lc_cell_meme": {
     "current": "91544da4-152a-11e7-b31a-0242ac12000d",
     "history": [
      {
       "current": "91544da4-152a-11e7-b31a-0242ac12000d",
       "next": "91544f70-152a-11e7-b31a-0242ac12000d",
       "previous": "91544bce-152a-11e7-b31a-0242ac12000d"
      }
     ],
     "next": "91544f70-152a-11e7-b31a-0242ac12000d",
     "previous": "91544818-152a-11e7-b31a-0242ac12000d"
    }
   },
   "source": [
    "### JSON"
   ]
  },
  {
   "cell_type": "markdown",
   "metadata": {
    "lc_cell_meme": {
     "current": "91544f70-152a-11e7-b31a-0242ac12000d",
     "next": "91545146-152a-11e7-b31a-0242ac12000d",
     "previous": "91544da4-152a-11e7-b31a-0242ac12000d"
    }
   },
   "source": [
    "JSON形式のデータとして、次の内容のサンプルを登録します。"
   ]
  },
  {
   "cell_type": "code",
   "execution_count": 3,
   "metadata": {
    "lc_cell_meme": {
     "current": "91545146-152a-11e7-b31a-0242ac12000d",
     "next": "91545344-152a-11e7-b31a-0242ac12000d",
     "previous": "91544f70-152a-11e7-b31a-0242ac12000d"
    }
   },
   "outputs": [
    {
     "name": "stdout",
     "output_type": "stream",
     "text": [
      "{\"timestamp\":\"1\",\"atmospheric_pressure\":\"1000.4\",\"sea_level_pressure\":\"1003.4\",\"precipitation_day\":\"0\",\"precipitation_max_hour\":\"0\",\"precipitation_max_10min\":\"0\",\"temperature_avg\":\"3.7\",\"temperature_max\":\"8.2\",\"temperature_min\":\"0.7\",\"humidity_avg\":\"41\",\"humidity_min\":\"30\",\"wind_speed_avg\":\"4.4\",\"wind_speed_max\":\"9.4\",\"wind_direction\":\"西\",\"wind_speed_max_moment\":\"18.7\",\"wind_direction_max_moment\":\"北西\",\"sunshine_duration\":\"1.3\",\"snowfall\":\"\",\"snowfall_max\":\"\",\"information_daytime\":\"時々晴一時雪\",\"information_night\":\"晴\"}\r\n"
     ]
    }
   ],
   "source": [
    "!head -n 1 sample_data/weather.json"
   ]
  },
  {
   "cell_type": "markdown",
   "metadata": {
    "lc_cell_meme": {
     "current": "91545344-152a-11e7-b31a-0242ac12000d",
     "next": "91545510-152a-11e7-b31a-0242ac12000d",
     "previous": "91545146-152a-11e7-b31a-0242ac12000d"
    }
   },
   "source": [
    "confファイルには、codec => \"json\" と指定することでJSON形式を解釈できるように指定します。  \n",
    "ファイル名は\"json.conf\"とします。"
   ]
  },
  {
   "cell_type": "markdown",
   "metadata": {
    "lc_cell_meme": {
     "current": "91545510-152a-11e7-b31a-0242ac12000d",
     "next": "915456e6-152a-11e7-b31a-0242ac12000d",
     "previous": "91545344-152a-11e7-b31a-0242ac12000d"
    }
   },
   "source": [
    "```ruby:json.conf\n",
    "input{  \n",
    "  stdin{ \n",
    "    codec => \"json\"  \n",
    "  }  \n",
    "}  \n",
    "filter{  \n",
    "}  \n",
    "output{  \n",
    "  elasticsearch{  \n",
    "    hosts => <ES_HOST>  \n",
    "    index => <INDEX>  \n",
    "  }  \n",
    "}  \n",
    "```\n"
   ]
  },
  {
   "cell_type": "markdown",
   "metadata": {
    "lc_cell_meme": {
     "current": "915456e6-152a-11e7-b31a-0242ac12000d",
     "history": [
      {
       "current": "915456e6-152a-11e7-b31a-0242ac12000d",
       "next": "915458b2-152a-11e7-b31a-0242ac12000d",
       "previous": "91545510-152a-11e7-b31a-0242ac12000d"
      }
     ],
     "next": "719fd4ca-4729-11e7-88b1-02420aff0008",
     "previous": "91545510-152a-11e7-b31a-0242ac12000d"
    }
   },
   "source": [
    "weather.jsonとjson.confをLogstashのサーバーに配置してください。"
   ]
  },
  {
   "cell_type": "code",
   "execution_count": 4,
   "metadata": {
    "lc_cell_meme": {
     "current": "719fd4ca-4729-11e7-88b1-02420aff0008",
     "history": [
      {
       "current": "719fd4ca-4729-11e7-88b1-02420aff0008",
       "next": "915458b2-152a-11e7-b31a-0242ac12000d",
       "previous": "915456e6-152a-11e7-b31a-0242ac12000d"
      },
      {
       "current": "719fd4ca-4729-11e7-88b1-02420aff0008",
       "next": "b921cbaa-4729-11e7-88b1-02420aff0008",
       "previous": "915456e6-152a-11e7-b31a-0242ac12000d"
      }
     ],
     "next": "915458b2-152a-11e7-b31a-0242ac12000d",
     "previous": "915456e6-152a-11e7-b31a-0242ac12000d"
    },
    "scrolled": true
   },
   "outputs": [
    {
     "name": "stdout",
     "output_type": "stream",
     "text": [
      "\u001b[0;33m10.24.128.93 | SUCCESS => {\u001b[0m\n",
      "\u001b[0;33m    \"changed\": true, \u001b[0m\n",
      "\u001b[0;33m    \"gid\": 1000, \u001b[0m\n",
      "\u001b[0;33m    \"group\": \"centos\", \u001b[0m\n",
      "\u001b[0;33m    \"mode\": \"0775\", \u001b[0m\n",
      "\u001b[0;33m    \"owner\": \"centos\", \u001b[0m\n",
      "\u001b[0;33m    \"path\": \"/home/centos/sample_data\", \u001b[0m\n",
      "\u001b[0;33m    \"secontext\": \"unconfined_u:object_r:user_home_t:s0\", \u001b[0m\n",
      "\u001b[0;33m    \"size\": 6, \u001b[0m\n",
      "\u001b[0;33m    \"state\": \"directory\", \u001b[0m\n",
      "\u001b[0;33m    \"uid\": 1000\u001b[0m\n",
      "\u001b[0;33m}\u001b[0m\n",
      "\u001b[0;33m10.24.128.93 | SUCCESS => {\u001b[0m\n",
      "\u001b[0;33m    \"changed\": true, \u001b[0m\n",
      "\u001b[0;33m    \"gid\": 1000, \u001b[0m\n",
      "\u001b[0;33m    \"group\": \"centos\", \u001b[0m\n",
      "\u001b[0;33m    \"mode\": \"0775\", \u001b[0m\n",
      "\u001b[0;33m    \"owner\": \"centos\", \u001b[0m\n",
      "\u001b[0;33m    \"path\": \"/home/centos/sample_conf\", \u001b[0m\n",
      "\u001b[0;33m    \"secontext\": \"unconfined_u:object_r:user_home_t:s0\", \u001b[0m\n",
      "\u001b[0;33m    \"size\": 6, \u001b[0m\n",
      "\u001b[0;33m    \"state\": \"directory\", \u001b[0m\n",
      "\u001b[0;33m    \"uid\": 1000\u001b[0m\n",
      "\u001b[0;33m}\u001b[0m\n",
      "\u001b[0;33m10.24.128.93 | SUCCESS => {\u001b[0m\n",
      "\u001b[0;33m    \"changed\": true, \u001b[0m\n",
      "\u001b[0;33m    \"checksum\": \"b7e7b6ede3b70b89dcd9a332e37f4136b6ca91ca\", \u001b[0m\n",
      "\u001b[0;33m    \"dest\": \"/home/centos/sample_data/weather.json\", \u001b[0m\n",
      "\u001b[0;33m    \"gid\": 1000, \u001b[0m\n",
      "\u001b[0;33m    \"group\": \"centos\", \u001b[0m\n",
      "\u001b[0;33m    \"md5sum\": \"da7cb75de960c8251f24fd036b371941\", \u001b[0m\n",
      "\u001b[0;33m    \"mode\": \"0664\", \u001b[0m\n",
      "\u001b[0;33m    \"owner\": \"centos\", \u001b[0m\n",
      "\u001b[0;33m    \"secontext\": \"unconfined_u:object_r:user_home_t:s0\", \u001b[0m\n",
      "\u001b[0;33m    \"size\": 16447, \u001b[0m\n",
      "\u001b[0;33m    \"src\": \"/home/centos/.ansible/tmp/ansible-tmp-1496909068.75-24623665707108/source\", \u001b[0m\n",
      "\u001b[0;33m    \"state\": \"file\", \u001b[0m\n",
      "\u001b[0;33m    \"uid\": 1000\u001b[0m\n",
      "\u001b[0;33m}\u001b[0m\n",
      "\u001b[0;33m10.24.128.93 | SUCCESS => {\u001b[0m\n",
      "\u001b[0;33m    \"changed\": true, \u001b[0m\n",
      "\u001b[0;33m    \"checksum\": \"6063809410a764a5b311cf906d3e913c239e2072\", \u001b[0m\n",
      "\u001b[0;33m    \"dest\": \"/home/centos/sample_conf/json.conf\", \u001b[0m\n",
      "\u001b[0;33m    \"gid\": 1000, \u001b[0m\n",
      "\u001b[0;33m    \"group\": \"centos\", \u001b[0m\n",
      "\u001b[0;33m    \"md5sum\": \"2ae71563953c1c3d4ba550396540218b\", \u001b[0m\n",
      "\u001b[0;33m    \"mode\": \"0664\", \u001b[0m\n",
      "\u001b[0;33m    \"owner\": \"centos\", \u001b[0m\n",
      "\u001b[0;33m    \"secontext\": \"unconfined_u:object_r:user_home_t:s0\", \u001b[0m\n",
      "\u001b[0;33m    \"size\": 176, \u001b[0m\n",
      "\u001b[0;33m    \"src\": \"/home/centos/.ansible/tmp/ansible-tmp-1496909070.47-202644384316172/source\", \u001b[0m\n",
      "\u001b[0;33m    \"state\": \"file\", \u001b[0m\n",
      "\u001b[0;33m    \"uid\": 1000\u001b[0m\n",
      "\u001b[0;33m}\u001b[0m\n"
     ]
    }
   ],
   "source": [
    "!ansible logstash-server -i ./hosts -m file -a \"path=~/sample_data state=directory\" -u $USER --private-key=$KEYPATH\n",
    "!ansible logstash-server -i ./hosts -m file -a \"path=~/sample_conf state=directory\" -u $USER --private-key=$KEYPATH\n",
    "!ansible logstash-server -i ./hosts -m copy -a \"src=sample_data/weather.json dest=~/sample_data/weather.json\" -u $USER --private-key=$KEYPATH\n",
    "!ansible logstash-server -i ./hosts -m copy -a \"src=logstash_conf/json.conf dest=~/sample_conf/json.conf\" -u $USER --private-key=$KEYPATH"
   ]
  },
  {
   "cell_type": "markdown",
   "metadata": {
    "lc_cell_meme": {
     "current": "915458b2-152a-11e7-b31a-0242ac12000d",
     "history": [
      {
       "current": "915458b2-152a-11e7-b31a-0242ac12000d",
       "next": "91545aa6-152a-11e7-b31a-0242ac12000d",
       "previous": "915456e6-152a-11e7-b31a-0242ac12000d"
      },
      {
       "current": "915458b2-152a-11e7-b31a-0242ac12000d",
       "next": "91545aa6-152a-11e7-b31a-0242ac12000d",
       "previous": "719fd4ca-4729-11e7-88b1-02420aff0008"
      },
      {
       "current": "915458b2-152a-11e7-b31a-0242ac12000d",
       "next": "91545aa6-152a-11e7-b31a-0242ac12000d",
       "previous": "b921cbaa-4729-11e7-88b1-02420aff0008"
      }
     ],
     "next": "91545aa6-152a-11e7-b31a-0242ac12000d",
     "previous": "719fd4ca-4729-11e7-88b1-02420aff0008"
    }
   },
   "source": [
    "実際のデータ登録は次のコマンドで実行します。"
   ]
  },
  {
   "cell_type": "code",
   "execution_count": 5,
   "metadata": {
    "lc_cell_meme": {
     "current": "91545aa6-152a-11e7-b31a-0242ac12000d",
     "next": "91545c7c-152a-11e7-b31a-0242ac12000d",
     "previous": "915458b2-152a-11e7-b31a-0242ac12000d"
    },
    "scrolled": false
   },
   "outputs": [
    {
     "name": "stdout",
     "output_type": "stream",
     "text": [
      "\u001b[0;32m10.24.128.93 | SUCCESS | rc=0 >>\u001b[0m\r\n",
      "\u001b[0;32mSending Logstash logs to /var/log/logstash which is now configured via log4j2.properties.\u001b[0m\r\n",
      "\u001b[0;32m\u001b[0m\r\n"
     ]
    }
   ],
   "source": [
    "!ansible logstash-server -i ./hosts -m shell -a \"cat ~/sample_data/weather.json | sudo /usr/share/logstash/bin/logstash --path.settings /etc/logstash -f ~/sample_conf/json.conf\" -u $USER --private-key=$KEYPATH"
   ]
  },
  {
   "cell_type": "markdown",
   "metadata": {
    "lc_cell_meme": {
     "current": "91545c7c-152a-11e7-b31a-0242ac12000d",
     "next": "91545e52-152a-11e7-b31a-0242ac12000d",
     "previous": "91545aa6-152a-11e7-b31a-0242ac12000d"
    }
   },
   "source": [
    "コマンドの実行に成功したら、次の検索APIで正しく登録されているか確認してください。  \n",
    "正しく登録されていれば、json形式で登録されたデータが出力されます。"
   ]
  },
  {
   "cell_type": "code",
   "execution_count": 6,
   "metadata": {
    "lc_cell_meme": {
     "current": "91545e52-152a-11e7-b31a-0242ac12000d",
     "next": "9154601e-152a-11e7-b31a-0242ac12000d",
     "previous": "91545c7c-152a-11e7-b31a-0242ac12000d"
    },
    "scrolled": true
   },
   "outputs": [
    {
     "name": "stdout",
     "output_type": "stream",
     "text": [
      "{\n",
      "  \"took\" : 2,\n",
      "  \"timed_out\" : false,\n",
      "  \"_shards\" : {\n",
      "    \"total\" : 1,\n",
      "    \"successful\" : 1,\n",
      "    \"failed\" : 0\n",
      "  },\n",
      "  \"hits\" : {\n",
      "    \"total\" : 30,\n",
      "    \"max_score\" : 1.0,\n",
      "    \"hits\" : [\n",
      "      {\n",
      "        \"_index\" : \"sample_index\",\n",
      "        \"_type\" : \"sample_json\",\n",
      "        \"_id\" : \"AVyGu-TXdDy3gmLO23ZT\",\n",
      "        \"_score\" : 1.0,\n",
      "        \"_source\" : {\n",
      "          \"precipitation_max_10min\" : \"0\",\n",
      "          \"wind_speed_avg\" : \"4.4\",\n",
      "          \"snowfall\" : \"\",\n",
      "          \"precipitation_max_hour\" : \"0\",\n",
      "          \"temperature_max\" : \"8.2\",\n",
      "          \"wind_direction\" : \"西\",\n",
      "          \"information_daytime\" : \"時々晴一時雪\",\n",
      "          \"precipitation_day\" : \"0\",\n",
      "          \"@timestamp\" : \"2017-06-08T08:04:39.318Z\",\n",
      "          \"humidity_avg\" : \"41\",\n",
      "          \"humidity_min\" : \"30\",\n",
      "          \"wind_speed_max\" : \"9.4\",\n",
      "          \"sunshine_duration\" : \"1.3\",\n",
      "          \"temperature_avg\" : \"3.7\",\n",
      "          \"temperature_min\" : \"0.7\",\n",
      "          \"@version\" : \"1\",\n",
      "          \"host\" : \"0.0.0.0\",\n",
      "          \"atmospheric_pressure\" : \"1000.4\",\n",
      "          \"wind_direction_max_moment\" : \"北西\",\n",
      "          \"wind_speed_max_moment\" : \"18.7\",\n",
      "          \"snowfall_max\" : \"\",\n",
      "          \"sea_level_pressure\" : \"1003.4\",\n",
      "          \"information_night\" : \"晴\",\n",
      "          \"timestamp\" : \"1\"\n",
      "        }\n",
      "      },\n",
      "      {\n",
      "        \"_index\" : \"sample_index\",\n",
      "        \"_type\" : \"sample_json\",\n",
      "        \"_id\" : \"AVyGu-TXdDy3gmLO23ZU\",\n",
      "        \"_score\" : 1.0,\n",
      "        \"_source\" : {\n",
      "          \"precipitation_max_10min\" : \"\",\n",
      "          \"wind_speed_avg\" : \"2.1\",\n",
      "          \"snowfall\" : \"\",\n",
      "          \"precipitation_max_hour\" : \"\",\n",
      "          \"temperature_max\" : \"7.9\",\n",
      "          \"wind_direction\" : \"西\",\n",
      "          \"information_daytime\" : \"時々曇\",\n",
      "          \"precipitation_day\" : \"\",\n",
      "          \"@timestamp\" : \"2017-06-08T08:04:39.571Z\",\n",
      "          \"humidity_avg\" : \"41\",\n",
      "          \"humidity_min\" : \"19\",\n",
      "          \"wind_speed_max\" : \"4.2\",\n",
      "          \"sunshine_duration\" : \"6\",\n",
      "          \"temperature_avg\" : \"2.7\",\n",
      "          \"temperature_min\" : \"-2.2\",\n",
      "          \"@version\" : \"1\",\n",
      "          \"host\" : \"0.0.0.0\",\n",
      "          \"atmospheric_pressure\" : \"1007.4\",\n",
      "          \"wind_direction_max_moment\" : \"西\",\n",
      "          \"wind_speed_max_moment\" : \"7.8\",\n",
      "          \"snowfall_max\" : \"\",\n",
      "          \"sea_level_pressure\" : \"1010.4\",\n",
      "          \"information_night\" : \"一時曇\",\n",
      "          \"timestamp\" : \"2\"\n",
      "        }\n",
      "      },\n",
      "      {\n",
      "        \"_index\" : \"sample_index\",\n",
      "        \"_type\" : \"sample_json\",\n",
      "        \"_id\" : \"AVyGu-TXdDy3gmLO23ZV\",\n",
      "        \"_score\" : 1.0,\n",
      "        \"_source\" : {\n",
      "          \"precipitation_max_10min\" : \"\",\n",
      "          \"wind_speed_avg\" : \"3\",\n",
      "          \"snowfall\" : \"\",\n",
      "          \"precipitation_max_hour\" : \"\",\n",
      "          \"temperature_max\" : \"8.9\",\n",
      "          \"wind_direction\" : \"北西\",\n",
      "          \"information_daytime\" : \"晴\",\n",
      "          \"precipitation_day\" : \"\",\n",
      "          \"@timestamp\" : \"2017-06-08T08:04:39.571Z\",\n",
      "          \"humidity_avg\" : \"42\",\n",
      "          \"humidity_min\" : \"19\",\n",
      "          \"wind_speed_max\" : \"7.4\",\n",
      "          \"sunshine_duration\" : \"8.9\",\n",
      "          \"temperature_avg\" : \"3.8\",\n",
      "          \"temperature_min\" : \"-1.1\",\n",
      "          \"@version\" : \"1\",\n",
      "          \"host\" : \"0.0.0.0\",\n",
      "          \"atmospheric_pressure\" : \"1012\",\n",
      "          \"wind_direction_max_moment\" : \"北西\",\n",
      "          \"wind_speed_max_moment\" : \"10.9\",\n",
      "          \"snowfall_max\" : \"\",\n",
      "          \"sea_level_pressure\" : \"1015.1\",\n",
      "          \"information_night\" : \"後薄曇\",\n",
      "          \"timestamp\" : \"3\"\n",
      "        }\n",
      "      },\n",
      "      {\n",
      "        \"_index\" : \"sample_index\",\n",
      "        \"_type\" : \"sample_json\",\n",
      "        \"_id\" : \"AVyGu-TXdDy3gmLO23ZW\",\n",
      "        \"_score\" : 1.0,\n",
      "        \"_source\" : {\n",
      "          \"precipitation_max_10min\" : \"\",\n",
      "          \"wind_speed_avg\" : \"1.3\",\n",
      "          \"snowfall\" : \"\",\n",
      "          \"precipitation_max_hour\" : \"\",\n",
      "          \"temperature_max\" : \"9.3\",\n",
      "          \"wind_direction\" : \"北西\",\n",
      "          \"information_daytime\" : \"後晴\",\n",
      "          \"precipitation_day\" : \"\",\n",
      "          \"@timestamp\" : \"2017-06-08T08:04:39.572Z\",\n",
      "          \"humidity_avg\" : \"51\",\n",
      "          \"humidity_min\" : \"33\",\n",
      "          \"wind_speed_max\" : \"2.8\",\n",
      "          \"sunshine_duration\" : \"6\",\n",
      "          \"temperature_avg\" : \"4\",\n",
      "          \"temperature_min\" : \"-0.4\",\n",
      "          \"@version\" : \"1\",\n",
      "          \"host\" : \"0.0.0.0\",\n",
      "          \"atmospheric_pressure\" : \"1010.4\",\n",
      "          \"wind_direction_max_moment\" : \"北東\",\n",
      "          \"wind_speed_max_moment\" : \"3.8\",\n",
      "          \"snowfall_max\" : \"\",\n",
      "          \"sea_level_pressure\" : \"1013.4\",\n",
      "          \"information_night\" : \"晴\",\n",
      "          \"timestamp\" : \"4\"\n",
      "        }\n",
      "      },\n",
      "      {\n",
      "        \"_index\" : \"sample_index\",\n",
      "        \"_type\" : \"sample_json\",\n",
      "        \"_id\" : \"AVyGu-TXdDy3gmLO23ZX\",\n",
      "        \"_score\" : 1.0,\n",
      "        \"_source\" : {\n",
      "          \"precipitation_max_10min\" : \"\",\n",
      "          \"wind_speed_avg\" : \"2.4\",\n",
      "          \"snowfall\" : \"\",\n",
      "          \"precipitation_max_hour\" : \"\",\n",
      "          \"temperature_max\" : \"12.9\",\n",
      "          \"wind_direction\" : \"北西\",\n",
      "          \"information_daytime\" : \"晴\",\n",
      "          \"precipitation_day\" : \"\",\n",
      "          \"@timestamp\" : \"2017-06-08T08:04:39.573Z\",\n",
      "          \"humidity_avg\" : \"56\",\n",
      "          \"humidity_min\" : \"29\",\n",
      "          \"wind_speed_max\" : \"5\",\n",
      "          \"sunshine_duration\" : \"8.9\",\n",
      "          \"temperature_avg\" : \"6.9\",\n",
      "          \"temperature_min\" : \"1.3\",\n",
      "          \"@version\" : \"1\",\n",
      "          \"host\" : \"0.0.0.0\",\n",
      "          \"atmospheric_pressure\" : \"1014.6\",\n",
      "          \"wind_direction_max_moment\" : \"北西\",\n",
      "          \"wind_speed_max_moment\" : \"9.1\",\n",
      "          \"snowfall_max\" : \"\",\n",
      "          \"sea_level_pressure\" : \"1017.5\",\n",
      "          \"information_night\" : \"一時晴\",\n",
      "          \"timestamp\" : \"5\"\n",
      "        }\n",
      "      },\n",
      "      {\n",
      "        \"_index\" : \"sample_index\",\n",
      "        \"_type\" : \"sample_json\",\n",
      "        \"_id\" : \"AVyGu-TXdDy3gmLO23ZY\",\n",
      "        \"_score\" : 1.0,\n",
      "        \"_source\" : {\n",
      "          \"precipitation_max_10min\" : \"1.5\",\n",
      "          \"wind_speed_avg\" : \"5.2\",\n",
      "          \"snowfall\" : \"\",\n",
      "          \"precipitation_max_hour\" : \"5\",\n",
      "          \"temperature_max\" : \"16\",\n",
      "          \"wind_direction\" : \"南西\",\n",
      "          \"information_daytime\" : \"後時々雨\",\n",
      "          \"precipitation_day\" : \"6.5\",\n",
      "          \"@timestamp\" : \"2017-06-08T08:04:39.574Z\",\n",
      "          \"humidity_avg\" : \"64\",\n",
      "          \"humidity_min\" : \"40\",\n",
      "          \"wind_speed_max\" : \"8.9\",\n",
      "          \"sunshine_duration\" : \"0.2\",\n",
      "          \"temperature_avg\" : \"10.8\",\n",
      "          \"temperature_min\" : \"5.8\",\n",
      "          \"@version\" : \"1\",\n",
      "          \"host\" : \"0.0.0.0\",\n",
      "          \"atmospheric_pressure\" : \"1000.6\",\n",
      "          \"wind_direction_max_moment\" : \"\",\n",
      "          \"wind_speed_max_moment\" : \"19.3\",\n",
      "          \"snowfall_max\" : \"\",\n",
      "          \"sea_level_pressure\" : \"1003.5\",\n",
      "          \"information_night\" : \"時々晴\",\n",
      "          \"timestamp\" : \"6\"\n",
      "        }\n",
      "      },\n",
      "      {\n",
      "        \"_index\" : \"sample_index\",\n",
      "        \"_type\" : \"sample_json\",\n",
      "        \"_id\" : \"AVyGu-TXdDy3gmLO23ZZ\",\n",
      "        \"_score\" : 1.0,\n",
      "        \"_source\" : {\n",
      "          \"precipitation_max_10min\" : \"\",\n",
      "          \"wind_speed_avg\" : \"4.2\",\n",
      "          \"snowfall\" : \"\",\n",
      "          \"precipitation_max_hour\" : \"\",\n",
      "          \"temperature_max\" : \"10.2\",\n",
      "          \"wind_direction\" : \"北西\",\n",
      "          \"information_daytime\" : \"時々曇\",\n",
      "          \"precipitation_day\" : \"\",\n",
      "          \"@timestamp\" : \"2017-06-08T08:04:39.576Z\",\n",
      "          \"humidity_avg\" : \"35\",\n",
      "          \"humidity_min\" : \"23\",\n",
      "          \"wind_speed_max\" : \"7\",\n",
      "          \"sunshine_duration\" : \"3.3\",\n",
      "          \"temperature_avg\" : \"5.6\",\n",
      "          \"temperature_min\" : \"3\",\n",
      "          \"@version\" : \"1\",\n",
      "          \"host\" : \"0.0.0.0\",\n",
      "          \"atmospheric_pressure\" : \"1000.5\",\n",
      "          \"wind_direction_max_moment\" : \"北西\",\n",
      "          \"wind_speed_max_moment\" : \"16.1\",\n",
      "          \"snowfall_max\" : \"\",\n",
      "          \"sea_level_pressure\" : \"1003.4\",\n",
      "          \"information_night\" : \"晴\",\n",
      "          \"timestamp\" : \"7\"\n",
      "        }\n",
      "      },\n",
      "      {\n",
      "        \"_index\" : \"sample_index\",\n",
      "        \"_type\" : \"sample_json\",\n",
      "        \"_id\" : \"AVyGu-TXdDy3gmLO23Za\",\n",
      "        \"_score\" : 1.0,\n",
      "        \"_source\" : {\n",
      "          \"precipitation_max_10min\" : \"\",\n",
      "          \"wind_speed_avg\" : \"4.4\",\n",
      "          \"snowfall\" : \"\",\n",
      "          \"precipitation_max_hour\" : \"\",\n",
      "          \"temperature_max\" : \"11.2\",\n",
      "          \"wind_direction\" : \"西\",\n",
      "          \"information_daytime\" : \"晴\",\n",
      "          \"precipitation_day\" : \"\",\n",
      "          \"@timestamp\" : \"2017-06-08T08:04:39.577Z\",\n",
      "          \"humidity_avg\" : \"33\",\n",
      "          \"humidity_min\" : \"20\",\n",
      "          \"wind_speed_max\" : \"8.4\",\n",
      "          \"sunshine_duration\" : \"8.9\",\n",
      "          \"temperature_avg\" : \"6.2\",\n",
      "          \"temperature_min\" : \"2\",\n",
      "          \"@version\" : \"1\",\n",
      "          \"host\" : \"0.0.0.0\",\n",
      "          \"atmospheric_pressure\" : \"1006.2\",\n",
      "          \"wind_direction_max_moment\" : \"北西\",\n",
      "          \"wind_speed_max_moment\" : \"13.6\",\n",
      "          \"snowfall_max\" : \"\",\n",
      "          \"sea_level_pressure\" : \"1009.2\",\n",
      "          \"information_night\" : \"晴\",\n",
      "          \"timestamp\" : \"8\"\n",
      "        }\n",
      "      },\n",
      "      {\n",
      "        \"_index\" : \"sample_index\",\n",
      "        \"_type\" : \"sample_json\",\n",
      "        \"_id\" : \"AVyGu-TXdDy3gmLO23Zb\",\n",
      "        \"_score\" : 1.0,\n",
      "        \"_source\" : {\n",
      "          \"precipitation_max_10min\" : \"\",\n",
      "          \"wind_speed_avg\" : \"4.1\",\n",
      "          \"snowfall\" : \"\",\n",
      "          \"precipitation_max_hour\" : \"\",\n",
      "          \"temperature_max\" : \"11\",\n",
      "          \"wind_direction\" : \"西\",\n",
      "          \"information_daytime\" : \"晴\",\n",
      "          \"precipitation_day\" : \"\",\n",
      "          \"@timestamp\" : \"2017-06-08T08:04:39.577Z\",\n",
      "          \"humidity_avg\" : \"31\",\n",
      "          \"humidity_min\" : \"21\",\n",
      "          \"wind_speed_max\" : \"8.1\",\n",
      "          \"sunshine_duration\" : \"8.9\",\n",
      "          \"temperature_avg\" : \"6.7\",\n",
      "          \"temperature_min\" : \"3.5\",\n",
      "          \"@version\" : \"1\",\n",
      "          \"host\" : \"0.0.0.0\",\n",
      "          \"atmospheric_pressure\" : \"1008.2\",\n",
      "          \"wind_direction_max_moment\" : \"西\",\n",
      "          \"wind_speed_max_moment\" : \"14.4\",\n",
      "          \"snowfall_max\" : \"\",\n",
      "          \"sea_level_pressure\" : \"1011.2\",\n",
      "          \"information_night\" : \"晴\",\n",
      "          \"timestamp\" : \"9\"\n",
      "        }\n",
      "      },\n",
      "      {\n",
      "        \"_index\" : \"sample_index\",\n",
      "        \"_type\" : \"sample_json\",\n",
      "        \"_id\" : \"AVyGu-TXdDy3gmLO23Zc\",\n",
      "        \"_score\" : 1.0,\n",
      "        \"_source\" : {\n",
      "          \"precipitation_max_10min\" : \"\",\n",
      "          \"wind_speed_avg\" : \"3.5\",\n",
      "          \"snowfall\" : \"\",\n",
      "          \"precipitation_max_hour\" : \"\",\n",
      "          \"temperature_max\" : \"11.2\",\n",
      "          \"wind_direction\" : \"西\",\n",
      "          \"information_daytime\" : \"晴\",\n",
      "          \"precipitation_day\" : \"\",\n",
      "          \"@timestamp\" : \"2017-06-08T08:04:39.580Z\",\n",
      "          \"humidity_avg\" : \"31\",\n",
      "          \"humidity_min\" : \"16\",\n",
      "          \"wind_speed_max\" : \"8.8\",\n",
      "          \"sunshine_duration\" : \"9.1\",\n",
      "          \"temperature_avg\" : \"6.3\",\n",
      "          \"temperature_min\" : \"1.9\",\n",
      "          \"@version\" : \"1\",\n",
      "          \"host\" : \"0.0.0.0\",\n",
      "          \"atmospheric_pressure\" : \"1008.8\",\n",
      "          \"wind_direction_max_moment\" : \"西\",\n",
      "          \"wind_speed_max_moment\" : \"17.7\",\n",
      "          \"snowfall_max\" : \"\",\n",
      "          \"sea_level_pressure\" : \"1011.8\",\n",
      "          \"information_night\" : \"晴\",\n",
      "          \"timestamp\" : \"10\"\n",
      "        }\n",
      "      }\n",
      "    ]\n",
      "  }\n",
      "}\n"
     ]
    },
    {
     "name": "stderr",
     "output_type": "stream",
     "text": [
      "  % Total    % Received % Xferd  Average Speed   Time    Time     Time  Current\n",
      "                                 Dload  Upload   Total   Spent    Left  Speed\n",
      "\r",
      "  0     0    0     0    0     0      0      0 --:--:-- --:--:-- --:--:--     0\r",
      "100 11085  100 11085    0     0  1745k      0 --:--:-- --:--:-- --:--:-- 1804k\n"
     ]
    }
   ],
   "source": [
    "%%bash\n",
    "curl -XGET \"http://$ES_HOST/$INDEX/sample_json/_search?pretty\""
   ]
  },
  {
   "cell_type": "markdown",
   "metadata": {
    "lc_cell_meme": {
     "current": "9154601e-152a-11e7-b31a-0242ac12000d",
     "next": "915461f4-152a-11e7-b31a-0242ac12000d",
     "previous": "91545e52-152a-11e7-b31a-0242ac12000d"
    }
   },
   "source": [
    "### 複数行JSON"
   ]
  },
  {
   "cell_type": "markdown",
   "metadata": {
    "lc_cell_meme": {
     "current": "915461f4-152a-11e7-b31a-0242ac12000d",
     "next": "915463c0-152a-11e7-b31a-0242ac12000d",
     "previous": "9154601e-152a-11e7-b31a-0242ac12000d"
    }
   },
   "source": [
    "1つのJSONデータが改行を含んだ形式の場合を試します。  \n",
    "次の内容のサンプルを登録します。"
   ]
  },
  {
   "cell_type": "code",
   "execution_count": 7,
   "metadata": {
    "lc_cell_meme": {
     "current": "915463c0-152a-11e7-b31a-0242ac12000d",
     "next": "915465b4-152a-11e7-b31a-0242ac12000d",
     "previous": "915461f4-152a-11e7-b31a-0242ac12000d"
    }
   },
   "outputs": [
    {
     "name": "stdout",
     "output_type": "stream",
     "text": [
      "{\r\n",
      "\"timestamp\":\"1\",\r\n",
      "\"atmospheric_pressure\":\"1000.4\",\r\n"
     ]
    }
   ],
   "source": [
    "!head -n 3 sample_data/weather_multiline.json"
   ]
  },
  {
   "cell_type": "markdown",
   "metadata": {
    "lc_cell_meme": {
     "current": "915465b4-152a-11e7-b31a-0242ac12000d",
     "next": "91546780-152a-11e7-b31a-0242ac12000d",
     "previous": "915463c0-152a-11e7-b31a-0242ac12000d"
    }
   },
   "source": [
    "confファイルには、codec => multilineと指定することで、複数行にまたがるデータ形式を解釈できるように指定します。\n",
    "通常、Logstashでは1行ごとに1つのイベントとして処理しますが、multilineでは特定のパターンを見つけるまで行を読み込み、結合することで１つのイベントとして処理します。  \n",
    "\n",
    "ファイル名は\"json_multiline.conf\"とします。"
   ]
  },
  {
   "cell_type": "markdown",
   "metadata": {
    "lc_cell_meme": {
     "current": "91546780-152a-11e7-b31a-0242ac12000d",
     "next": "9154694c-152a-11e7-b31a-0242ac12000d",
     "previous": "915465b4-152a-11e7-b31a-0242ac12000d"
    }
   },
   "source": [
    "```rubby:weather_multiline.conf\n",
    "input{\n",
    "  stdin{\n",
    "    codec => multiline{\n",
    "      pattern => \"}\"\n",
    "      negate => \"true\"\n",
    "      what => \"next\"\n",
    "    }\n",
    "  }\n",
    "}\n",
    "filter{\n",
    "  json{\n",
    "    source => \"message\"\n",
    "  }\n",
    "}\n",
    "output{\n",
    "  elasticsearch{\n",
    "    hosts => <ES_HOST>\n",
    "    index => <INDEX>\n",
    "  }\n",
    "}\n",
    "```"
   ]
  },
  {
   "cell_type": "markdown",
   "metadata": {
    "lc_cell_meme": {
     "current": "9154694c-152a-11e7-b31a-0242ac12000d",
     "history": [
      {
       "current": "9154694c-152a-11e7-b31a-0242ac12000d",
       "next": "91546b22-152a-11e7-b31a-0242ac12000d",
       "previous": "91546780-152a-11e7-b31a-0242ac12000d"
      }
     ],
     "next": "4835f74e-472a-11e7-88b1-02420aff0008",
     "previous": "91546780-152a-11e7-b31a-0242ac12000d"
    }
   },
   "source": [
    "実際のデータ登録は次のコマンドで実行します。"
   ]
  },
  {
   "cell_type": "code",
   "execution_count": 8,
   "metadata": {
    "lc_cell_meme": {
     "current": "4835f74e-472a-11e7-88b1-02420aff0008",
     "next": "91546b22-152a-11e7-b31a-0242ac12000d",
     "previous": "9154694c-152a-11e7-b31a-0242ac12000d"
    },
    "scrolled": true
   },
   "outputs": [
    {
     "name": "stdout",
     "output_type": "stream",
     "text": [
      "\u001b[0;32m10.24.128.93 | SUCCESS => {\u001b[0m\n",
      "\u001b[0;32m    \"changed\": false, \u001b[0m\n",
      "\u001b[0;32m    \"gid\": 1000, \u001b[0m\n",
      "\u001b[0;32m    \"group\": \"centos\", \u001b[0m\n",
      "\u001b[0;32m    \"mode\": \"0775\", \u001b[0m\n",
      "\u001b[0;32m    \"owner\": \"centos\", \u001b[0m\n",
      "\u001b[0;32m    \"path\": \"/home/centos/sample_data\", \u001b[0m\n",
      "\u001b[0;32m    \"secontext\": \"unconfined_u:object_r:user_home_t:s0\", \u001b[0m\n",
      "\u001b[0;32m    \"size\": 25, \u001b[0m\n",
      "\u001b[0;32m    \"state\": \"directory\", \u001b[0m\n",
      "\u001b[0;32m    \"uid\": 1000\u001b[0m\n",
      "\u001b[0;32m}\u001b[0m\n",
      "\u001b[0;32m10.24.128.93 | SUCCESS => {\u001b[0m\n",
      "\u001b[0;32m    \"changed\": false, \u001b[0m\n",
      "\u001b[0;32m    \"gid\": 1000, \u001b[0m\n",
      "\u001b[0;32m    \"group\": \"centos\", \u001b[0m\n",
      "\u001b[0;32m    \"mode\": \"0775\", \u001b[0m\n",
      "\u001b[0;32m    \"owner\": \"centos\", \u001b[0m\n",
      "\u001b[0;32m    \"path\": \"/home/centos/sample_conf\", \u001b[0m\n",
      "\u001b[0;32m    \"secontext\": \"unconfined_u:object_r:user_home_t:s0\", \u001b[0m\n",
      "\u001b[0;32m    \"size\": 22, \u001b[0m\n",
      "\u001b[0;32m    \"state\": \"directory\", \u001b[0m\n",
      "\u001b[0;32m    \"uid\": 1000\u001b[0m\n",
      "\u001b[0;32m}\u001b[0m\n",
      "\u001b[0;33m10.24.128.93 | SUCCESS => {\u001b[0m\n",
      "\u001b[0;33m    \"changed\": true, \u001b[0m\n",
      "\u001b[0;33m    \"checksum\": \"595d7c33b1630229141fec243e7622008b4bf49a\", \u001b[0m\n",
      "\u001b[0;33m    \"dest\": \"/home/centos/sample_data/weather_multiline.json\", \u001b[0m\n",
      "\u001b[0;33m    \"gid\": 1000, \u001b[0m\n",
      "\u001b[0;33m    \"group\": \"centos\", \u001b[0m\n",
      "\u001b[0;33m    \"md5sum\": \"0beb995c33578c7266262f617c65d87a\", \u001b[0m\n",
      "\u001b[0;33m    \"mode\": \"0664\", \u001b[0m\n",
      "\u001b[0;33m    \"owner\": \"centos\", \u001b[0m\n",
      "\u001b[0;33m    \"secontext\": \"unconfined_u:object_r:user_home_t:s0\", \u001b[0m\n",
      "\u001b[0;33m    \"size\": 17129, \u001b[0m\n",
      "\u001b[0;33m    \"src\": \"/home/centos/.ansible/tmp/ansible-tmp-1496909087.63-179390158077491/source\", \u001b[0m\n",
      "\u001b[0;33m    \"state\": \"file\", \u001b[0m\n",
      "\u001b[0;33m    \"uid\": 1000\u001b[0m\n",
      "\u001b[0;33m}\u001b[0m\n",
      "\u001b[0;33m10.24.128.93 | SUCCESS => {\u001b[0m\n",
      "\u001b[0;33m    \"changed\": true, \u001b[0m\n",
      "\u001b[0;33m    \"checksum\": \"a84011087c4c71b757cbecd1ef7063e6df554d02\", \u001b[0m\n",
      "\u001b[0;33m    \"dest\": \"/home/centos/sample_conf/json_multiline.conf\", \u001b[0m\n",
      "\u001b[0;33m    \"gid\": 1000, \u001b[0m\n",
      "\u001b[0;33m    \"group\": \"centos\", \u001b[0m\n",
      "\u001b[0;33m    \"md5sum\": \"0f9fe47104de9e2c659aaf5ae211ff97\", \u001b[0m\n",
      "\u001b[0;33m    \"mode\": \"0664\", \u001b[0m\n",
      "\u001b[0;33m    \"owner\": \"centos\", \u001b[0m\n",
      "\u001b[0;33m    \"secontext\": \"unconfined_u:object_r:user_home_t:s0\", \u001b[0m\n",
      "\u001b[0;33m    \"size\": 299, \u001b[0m\n",
      "\u001b[0;33m    \"src\": \"/home/centos/.ansible/tmp/ansible-tmp-1496909089.34-272411452651496/source\", \u001b[0m\n",
      "\u001b[0;33m    \"state\": \"file\", \u001b[0m\n",
      "\u001b[0;33m    \"uid\": 1000\u001b[0m\n",
      "\u001b[0;33m}\u001b[0m\n"
     ]
    }
   ],
   "source": [
    "!ansible logstash-server -i ./hosts -m file -a \"path=~/sample_data state=directory\" -u $USER --private-key=$KEYPATH\n",
    "!ansible logstash-server -i ./hosts -m file -a \"path=~/sample_conf state=directory\" -u $USER --private-key=$KEYPATH\n",
    "!ansible logstash-server -i ./hosts -m copy -a \"src=sample_data/weather_multiline.json dest=~/sample_data/weather_multiline.json\" -u $USER --private-key=$KEYPATH\n",
    "!ansible logstash-server -i ./hosts -m copy -a \"src=logstash_conf/json_multiline.conf dest=~/sample_conf/json_multiline.conf\" -u $USER --private-key=$KEYPATH"
   ]
  },
  {
   "cell_type": "code",
   "execution_count": 9,
   "metadata": {
    "lc_cell_meme": {
     "current": "91546b22-152a-11e7-b31a-0242ac12000d",
     "history": [
      {
       "current": "91546b22-152a-11e7-b31a-0242ac12000d",
       "next": "91546d0c-152a-11e7-b31a-0242ac12000d",
       "previous": "9154694c-152a-11e7-b31a-0242ac12000d"
      }
     ],
     "next": "91546d0c-152a-11e7-b31a-0242ac12000d",
     "previous": "4835f74e-472a-11e7-88b1-02420aff0008"
    }
   },
   "outputs": [
    {
     "name": "stdout",
     "output_type": "stream",
     "text": [
      "\u001b[0;32m10.24.128.93 | SUCCESS | rc=0 >>\u001b[0m\r\n",
      "\u001b[0;32mSending Logstash logs to /var/log/logstash which is now configured via log4j2.properties.\u001b[0m\r\n",
      "\u001b[0;32m\u001b[0m\r\n"
     ]
    }
   ],
   "source": [
    "!ansible logstash-server -i ./hosts -m shell -a \"cat ~/sample_data/weather_multiline.json | sudo /usr/share/logstash/bin/logstash --path.settings /etc/logstash -f ~/sample_conf/json_multiline.conf\" -u $USER --private-key=$KEYPATH"
   ]
  },
  {
   "cell_type": "markdown",
   "metadata": {
    "lc_cell_meme": {
     "current": "91546d0c-152a-11e7-b31a-0242ac12000d",
     "next": "91546eec-152a-11e7-b31a-0242ac12000d",
     "previous": "91546b22-152a-11e7-b31a-0242ac12000d"
    }
   },
   "source": [
    "コマンドの実行に成功したら、次の検索APIで正しく登録されているか確認してください。  \n",
    "正しく登録されていれば、json形式で登録されたデータが出力されます。"
   ]
  },
  {
   "cell_type": "code",
   "execution_count": 10,
   "metadata": {
    "lc_cell_meme": {
     "current": "91546eec-152a-11e7-b31a-0242ac12000d",
     "next": "915470b8-152a-11e7-b31a-0242ac12000d",
     "previous": "91546d0c-152a-11e7-b31a-0242ac12000d"
    },
    "scrolled": true
   },
   "outputs": [
    {
     "name": "stdout",
     "output_type": "stream",
     "text": [
      "{\n",
      "  \"took\" : 2,\n",
      "  \"timed_out\" : false,\n",
      "  \"_shards\" : {\n",
      "    \"total\" : 1,\n",
      "    \"successful\" : 1,\n",
      "    \"failed\" : 0\n",
      "  },\n",
      "  \"hits\" : {\n",
      "    \"total\" : 31,\n",
      "    \"max_score\" : 1.0,\n",
      "    \"hits\" : [\n",
      "      {\n",
      "        \"_index\" : \"sample_index\",\n",
      "        \"_type\" : \"sample_multiline_json\",\n",
      "        \"_id\" : \"AVyGvC4bdDy3gmLO23Zx\",\n",
      "        \"_score\" : 1.0,\n",
      "        \"_source\" : {\n",
      "          \"wind_speed_avg\" : \"4.4\",\n",
      "          \"snowfall\" : \"\",\n",
      "          \"temperature_max\" : \"8.2\",\n",
      "          \"precipitation_day\" : \"0\",\n",
      "          \"wind_speed_max\" : \"9.4\",\n",
      "          \"sunshine_duration\" : \"1.3\",\n",
      "          \"temperature_avg\" : \"3.7\",\n",
      "          \"temperature_min\" : \"0.7\",\n",
      "          \"@version\" : \"1\",\n",
      "          \"host\" : \"0.0.0.0\",\n",
      "          \"wind_direction_max_moment\" : \"北西\",\n",
      "          \"information_night\" : \"晴\",\n",
      "          \"timestamp\" : \"1\",\n",
      "          \"precipitation_max_10min\" : \"0\",\n",
      "          \"precipitation_max_hour\" : \"0\",\n",
      "          \"wind_direction\" : \"西\",\n",
      "          \"message\" : \"{\\n\\\"timestamp\\\":\\\"1\\\",\\n\\\"atmospheric_pressure\\\":\\\"1000.4\\\",\\n\\\"sea_level_pressure\\\":\\\"1003.4\\\",\\n\\\"precipitation_day\\\":\\\"0\\\",\\n\\\"precipitation_max_hour\\\":\\\"0\\\",\\n\\\"precipitation_max_10min\\\":\\\"0\\\",\\n\\\"temperature_avg\\\":\\\"3.7\\\",\\n\\\"temperature_max\\\":\\\"8.2\\\",\\n\\\"temperature_min\\\":\\\"0.7\\\",\\n\\\"humidity_avg\\\":\\\"41\\\",\\n\\\"humidity_min\\\":\\\"30\\\",\\n\\\"wind_speed_avg\\\":\\\"4.4\\\",\\n\\\"wind_speed_max\\\":\\\"9.4\\\",\\n\\\"wind_direction\\\":\\\"西\\\",\\n\\\"wind_speed_max_moment\\\":\\\"18.7\\\",\\n\\\"wind_direction_max_moment\\\":\\\"北西\\\",\\n\\\"sunshine_duration\\\":\\\"1.3\\\",\\n\\\"snowfall\\\":\\\"\\\",\\n\\\"snowfall_max\\\":\\\"\\\",\\n\\\"information_daytime\\\":\\\"時々晴一時雪\\\",\\n\\\"information_night\\\":\\\"晴\\\"\\n}\",\n",
      "          \"information_daytime\" : \"時々晴一時雪\",\n",
      "          \"tags\" : [\n",
      "            \"multiline\"\n",
      "          ],\n",
      "          \"@timestamp\" : \"2017-06-08T08:04:58.016Z\",\n",
      "          \"humidity_avg\" : \"41\",\n",
      "          \"humidity_min\" : \"30\",\n",
      "          \"atmospheric_pressure\" : \"1000.4\",\n",
      "          \"wind_speed_max_moment\" : \"18.7\",\n",
      "          \"snowfall_max\" : \"\",\n",
      "          \"sea_level_pressure\" : \"1003.4\"\n",
      "        }\n",
      "      },\n",
      "      {\n",
      "        \"_index\" : \"sample_index\",\n",
      "        \"_type\" : \"sample_multiline_json\",\n",
      "        \"_id\" : \"AVyGvC4bdDy3gmLO23Zy\",\n",
      "        \"_score\" : 1.0,\n",
      "        \"_source\" : {\n",
      "          \"wind_speed_avg\" : \"2.1\",\n",
      "          \"snowfall\" : \"\",\n",
      "          \"temperature_max\" : \"7.9\",\n",
      "          \"precipitation_day\" : \"\",\n",
      "          \"wind_speed_max\" : \"4.2\",\n",
      "          \"sunshine_duration\" : \"6\",\n",
      "          \"temperature_avg\" : \"2.7\",\n",
      "          \"temperature_min\" : \"-2.2\",\n",
      "          \"@version\" : \"1\",\n",
      "          \"host\" : \"0.0.0.0\",\n",
      "          \"wind_direction_max_moment\" : \"西\",\n",
      "          \"information_night\" : \"一時曇\",\n",
      "          \"timestamp\" : \"2\",\n",
      "          \"precipitation_max_10min\" : \"\",\n",
      "          \"precipitation_max_hour\" : \"\",\n",
      "          \"wind_direction\" : \"西\",\n",
      "          \"message\" : \"{\\n\\\"timestamp\\\":\\\"2\\\",\\n\\\"atmospheric_pressure\\\":\\\"1007.4\\\",\\n\\\"sea_level_pressure\\\":\\\"1010.4\\\",\\n\\\"precipitation_day\\\":\\\"\\\",\\n\\\"precipitation_max_hour\\\":\\\"\\\",\\n\\\"precipitation_max_10min\\\":\\\"\\\",\\n\\\"temperature_avg\\\":\\\"2.7\\\",\\n\\\"temperature_max\\\":\\\"7.9\\\",\\n\\\"temperature_min\\\":\\\"-2.2\\\",\\n\\\"humidity_avg\\\":\\\"41\\\",\\n\\\"humidity_min\\\":\\\"19\\\",\\n\\\"wind_speed_avg\\\":\\\"2.1\\\",\\n\\\"wind_speed_max\\\":\\\"4.2\\\",\\n\\\"wind_direction\\\":\\\"西\\\",\\n\\\"wind_speed_max_moment\\\":\\\"7.8\\\",\\n\\\"wind_direction_max_moment\\\":\\\"西\\\",\\n\\\"sunshine_duration\\\":\\\"6\\\",\\n\\\"snowfall\\\":\\\"\\\",\\n\\\"snowfall_max\\\":\\\"\\\",\\n\\\"information_daytime\\\":\\\"時々曇\\\",\\n\\\"information_night\\\":\\\"一時曇\\\"\\n}\",\n",
      "          \"information_daytime\" : \"時々曇\",\n",
      "          \"tags\" : [\n",
      "            \"multiline\"\n",
      "          ],\n",
      "          \"@timestamp\" : \"2017-06-08T08:04:58.342Z\",\n",
      "          \"humidity_avg\" : \"41\",\n",
      "          \"humidity_min\" : \"19\",\n",
      "          \"atmospheric_pressure\" : \"1007.4\",\n",
      "          \"wind_speed_max_moment\" : \"7.8\",\n",
      "          \"snowfall_max\" : \"\",\n",
      "          \"sea_level_pressure\" : \"1010.4\"\n",
      "        }\n",
      "      },\n",
      "      {\n",
      "        \"_index\" : \"sample_index\",\n",
      "        \"_type\" : \"sample_multiline_json\",\n",
      "        \"_id\" : \"AVyGvC4bdDy3gmLO23Zz\",\n",
      "        \"_score\" : 1.0,\n",
      "        \"_source\" : {\n",
      "          \"wind_speed_avg\" : \"3\",\n",
      "          \"snowfall\" : \"\",\n",
      "          \"temperature_max\" : \"8.9\",\n",
      "          \"precipitation_day\" : \"\",\n",
      "          \"wind_speed_max\" : \"7.4\",\n",
      "          \"sunshine_duration\" : \"8.9\",\n",
      "          \"temperature_avg\" : \"3.8\",\n",
      "          \"temperature_min\" : \"-1.1\",\n",
      "          \"@version\" : \"1\",\n",
      "          \"host\" : \"0.0.0.0\",\n",
      "          \"wind_direction_max_moment\" : \"北西\",\n",
      "          \"information_night\" : \"後薄曇\",\n",
      "          \"timestamp\" : \"3\",\n",
      "          \"precipitation_max_10min\" : \"\",\n",
      "          \"precipitation_max_hour\" : \"\",\n",
      "          \"wind_direction\" : \"北西\",\n",
      "          \"message\" : \"{\\n\\\"timestamp\\\":\\\"3\\\",\\n\\\"atmospheric_pressure\\\":\\\"1012\\\",\\n\\\"sea_level_pressure\\\":\\\"1015.1\\\",\\n\\\"precipitation_day\\\":\\\"\\\",\\n\\\"precipitation_max_hour\\\":\\\"\\\",\\n\\\"precipitation_max_10min\\\":\\\"\\\",\\n\\\"temperature_avg\\\":\\\"3.8\\\",\\n\\\"temperature_max\\\":\\\"8.9\\\",\\n\\\"temperature_min\\\":\\\"-1.1\\\",\\n\\\"humidity_avg\\\":\\\"42\\\",\\n\\\"humidity_min\\\":\\\"19\\\",\\n\\\"wind_speed_avg\\\":\\\"3\\\",\\n\\\"wind_speed_max\\\":\\\"7.4\\\",\\n\\\"wind_direction\\\":\\\"北西\\\",\\n\\\"wind_speed_max_moment\\\":\\\"10.9\\\",\\n\\\"wind_direction_max_moment\\\":\\\"北西\\\",\\n\\\"sunshine_duration\\\":\\\"8.9\\\",\\n\\\"snowfall\\\":\\\"\\\",\\n\\\"snowfall_max\\\":\\\"\\\",\\n\\\"information_daytime\\\":\\\"晴\\\",\\n\\\"information_night\\\":\\\"後薄曇\\\"\\n}\",\n",
      "          \"information_daytime\" : \"晴\",\n",
      "          \"tags\" : [\n",
      "            \"multiline\"\n",
      "          ],\n",
      "          \"@timestamp\" : \"2017-06-08T08:04:58.345Z\",\n",
      "          \"humidity_avg\" : \"42\",\n",
      "          \"humidity_min\" : \"19\",\n",
      "          \"atmospheric_pressure\" : \"1012\",\n",
      "          \"wind_speed_max_moment\" : \"10.9\",\n",
      "          \"snowfall_max\" : \"\",\n",
      "          \"sea_level_pressure\" : \"1015.1\"\n",
      "        }\n",
      "      },\n",
      "      {\n",
      "        \"_index\" : \"sample_index\",\n",
      "        \"_type\" : \"sample_multiline_json\",\n",
      "        \"_id\" : \"AVyGvC4bdDy3gmLO23Z0\",\n",
      "        \"_score\" : 1.0,\n",
      "        \"_source\" : {\n",
      "          \"wind_speed_avg\" : \"1.3\",\n",
      "          \"snowfall\" : \"\",\n",
      "          \"temperature_max\" : \"9.3\",\n",
      "          \"precipitation_day\" : \"\",\n",
      "          \"wind_speed_max\" : \"2.8\",\n",
      "          \"sunshine_duration\" : \"6\",\n",
      "          \"temperature_avg\" : \"4\",\n",
      "          \"temperature_min\" : \"-0.4\",\n",
      "          \"@version\" : \"1\",\n",
      "          \"host\" : \"0.0.0.0\",\n",
      "          \"wind_direction_max_moment\" : \"北東\",\n",
      "          \"information_night\" : \"晴\",\n",
      "          \"timestamp\" : \"4\",\n",
      "          \"precipitation_max_10min\" : \"\",\n",
      "          \"precipitation_max_hour\" : \"\",\n",
      "          \"wind_direction\" : \"北西\",\n",
      "          \"message\" : \"{\\n\\\"timestamp\\\":\\\"4\\\",\\n\\\"atmospheric_pressure\\\":\\\"1010.4\\\",\\n\\\"sea_level_pressure\\\":\\\"1013.4\\\",\\n\\\"precipitation_day\\\":\\\"\\\",\\n\\\"precipitation_max_hour\\\":\\\"\\\",\\n\\\"precipitation_max_10min\\\":\\\"\\\",\\n\\\"temperature_avg\\\":\\\"4\\\",\\n\\\"temperature_max\\\":\\\"9.3\\\",\\n\\\"temperature_min\\\":\\\"-0.4\\\",\\n\\\"humidity_avg\\\":\\\"51\\\",\\n\\\"humidity_min\\\":\\\"33\\\",\\n\\\"wind_speed_avg\\\":\\\"1.3\\\",\\n\\\"wind_speed_max\\\":\\\"2.8\\\",\\n\\\"wind_direction\\\":\\\"北西\\\",\\n\\\"wind_speed_max_moment\\\":\\\"3.8\\\",\\n\\\"wind_direction_max_moment\\\":\\\"北東\\\",\\n\\\"sunshine_duration\\\":\\\"6\\\",\\n\\\"snowfall\\\":\\\"\\\",\\n\\\"snowfall_max\\\":\\\"\\\",\\n\\\"information_daytime\\\":\\\"後晴\\\",\\n\\\"information_night\\\":\\\"晴\\\"\\n}\",\n",
      "          \"information_daytime\" : \"後晴\",\n",
      "          \"tags\" : [\n",
      "            \"multiline\"\n",
      "          ],\n",
      "          \"@timestamp\" : \"2017-06-08T08:04:58.351Z\",\n",
      "          \"humidity_avg\" : \"51\",\n",
      "          \"humidity_min\" : \"33\",\n",
      "          \"atmospheric_pressure\" : \"1010.4\",\n",
      "          \"wind_speed_max_moment\" : \"3.8\",\n",
      "          \"snowfall_max\" : \"\",\n",
      "          \"sea_level_pressure\" : \"1013.4\"\n",
      "        }\n",
      "      },\n",
      "      {\n",
      "        \"_index\" : \"sample_index\",\n",
      "        \"_type\" : \"sample_multiline_json\",\n",
      "        \"_id\" : \"AVyGvC4bdDy3gmLO23Z1\",\n",
      "        \"_score\" : 1.0,\n",
      "        \"_source\" : {\n",
      "          \"wind_speed_avg\" : \"2.4\",\n",
      "          \"snowfall\" : \"\",\n",
      "          \"temperature_max\" : \"12.9\",\n",
      "          \"precipitation_day\" : \"\",\n",
      "          \"wind_speed_max\" : \"5\",\n",
      "          \"sunshine_duration\" : \"8.9\",\n",
      "          \"temperature_avg\" : \"6.9\",\n",
      "          \"temperature_min\" : \"1.3\",\n",
      "          \"@version\" : \"1\",\n",
      "          \"host\" : \"0.0.0.0\",\n",
      "          \"wind_direction_max_moment\" : \"北西\",\n",
      "          \"information_night\" : \"一時晴\",\n",
      "          \"timestamp\" : \"5\",\n",
      "          \"precipitation_max_10min\" : \"\",\n",
      "          \"precipitation_max_hour\" : \"\",\n",
      "          \"wind_direction\" : \"北西\",\n",
      "          \"message\" : \"{\\n\\\"timestamp\\\":\\\"5\\\",\\n\\\"atmospheric_pressure\\\":\\\"1014.6\\\",\\n\\\"sea_level_pressure\\\":\\\"1017.5\\\",\\n\\\"precipitation_day\\\":\\\"\\\",\\n\\\"precipitation_max_hour\\\":\\\"\\\",\\n\\\"precipitation_max_10min\\\":\\\"\\\",\\n\\\"temperature_avg\\\":\\\"6.9\\\",\\n\\\"temperature_max\\\":\\\"12.9\\\",\\n\\\"temperature_min\\\":\\\"1.3\\\",\\n\\\"humidity_avg\\\":\\\"56\\\",\\n\\\"humidity_min\\\":\\\"29\\\",\\n\\\"wind_speed_avg\\\":\\\"2.4\\\",\\n\\\"wind_speed_max\\\":\\\"5\\\",\\n\\\"wind_direction\\\":\\\"北西\\\",\\n\\\"wind_speed_max_moment\\\":\\\"9.1\\\",\\n\\\"wind_direction_max_moment\\\":\\\"北西\\\",\\n\\\"sunshine_duration\\\":\\\"8.9\\\",\\n\\\"snowfall\\\":\\\"\\\",\\n\\\"snowfall_max\\\":\\\"\\\",\\n\\\"information_daytime\\\":\\\"晴\\\",\\n\\\"information_night\\\":\\\"一時晴\\\"\\n}\",\n",
      "          \"information_daytime\" : \"晴\",\n",
      "          \"tags\" : [\n",
      "            \"multiline\"\n",
      "          ],\n",
      "          \"@timestamp\" : \"2017-06-08T08:04:58.353Z\",\n",
      "          \"humidity_avg\" : \"56\",\n",
      "          \"humidity_min\" : \"29\",\n",
      "          \"atmospheric_pressure\" : \"1014.6\",\n",
      "          \"wind_speed_max_moment\" : \"9.1\",\n",
      "          \"snowfall_max\" : \"\",\n",
      "          \"sea_level_pressure\" : \"1017.5\"\n",
      "        }\n",
      "      },\n",
      "      {\n",
      "        \"_index\" : \"sample_index\",\n",
      "        \"_type\" : \"sample_multiline_json\",\n",
      "        \"_id\" : \"AVyGvC4bdDy3gmLO23Z2\",\n",
      "        \"_score\" : 1.0,\n",
      "        \"_source\" : {\n",
      "          \"wind_speed_avg\" : \"5.2\",\n",
      "          \"snowfall\" : \"\",\n",
      "          \"temperature_max\" : \"16\",\n",
      "          \"precipitation_day\" : \"6.5\",\n",
      "          \"wind_speed_max\" : \"8.9\",\n",
      "          \"sunshine_duration\" : \"0.2\",\n",
      "          \"temperature_avg\" : \"10.8\",\n",
      "          \"temperature_min\" : \"5.8\",\n",
      "          \"@version\" : \"1\",\n",
      "          \"host\" : \"0.0.0.0\",\n",
      "          \"wind_direction_max_moment\" : \"\",\n",
      "          \"information_night\" : \"時々晴\",\n",
      "          \"timestamp\" : \"6\",\n",
      "          \"precipitation_max_10min\" : \"1.5\",\n",
      "          \"precipitation_max_hour\" : \"5\",\n",
      "          \"wind_direction\" : \"南西\",\n",
      "          \"message\" : \"{\\n\\\"timestamp\\\":\\\"6\\\",\\n\\\"atmospheric_pressure\\\":\\\"1000.6\\\",\\n\\\"sea_level_pressure\\\":\\\"1003.5\\\",\\n\\\"precipitation_day\\\":\\\"6.5\\\",\\n\\\"precipitation_max_hour\\\":\\\"5\\\",\\n\\\"precipitation_max_10min\\\":\\\"1.5\\\",\\n\\\"temperature_avg\\\":\\\"10.8\\\",\\n\\\"temperature_max\\\":\\\"16\\\",\\n\\\"temperature_min\\\":\\\"5.8\\\",\\n\\\"humidity_avg\\\":\\\"64\\\",\\n\\\"humidity_min\\\":\\\"40\\\",\\n\\\"wind_speed_avg\\\":\\\"5.2\\\",\\n\\\"wind_speed_max\\\":\\\"8.9\\\",\\n\\\"wind_direction\\\":\\\"南西\\\",\\n\\\"wind_speed_max_moment\\\":\\\"19.3\\\",\\n\\\"wind_direction_max_moment\\\":\\\"\\\",\\n\\\"sunshine_duration\\\":\\\"0.2\\\",\\n\\\"snowfall\\\":\\\"\\\",\\n\\\"snowfall_max\\\":\\\"\\\",\\n\\\"information_daytime\\\":\\\"後時々雨\\\",\\n\\\"information_night\\\":\\\"時々晴\\\"\\n}\",\n",
      "          \"information_daytime\" : \"後時々雨\",\n",
      "          \"tags\" : [\n",
      "            \"multiline\"\n",
      "          ],\n",
      "          \"@timestamp\" : \"2017-06-08T08:04:58.358Z\",\n",
      "          \"humidity_avg\" : \"64\",\n",
      "          \"humidity_min\" : \"40\",\n",
      "          \"atmospheric_pressure\" : \"1000.6\",\n",
      "          \"wind_speed_max_moment\" : \"19.3\",\n",
      "          \"snowfall_max\" : \"\",\n",
      "          \"sea_level_pressure\" : \"1003.5\"\n",
      "        }\n",
      "      },\n",
      "      {\n",
      "        \"_index\" : \"sample_index\",\n",
      "        \"_type\" : \"sample_multiline_json\",\n",
      "        \"_id\" : \"AVyGvC4bdDy3gmLO23Z3\",\n",
      "        \"_score\" : 1.0,\n",
      "        \"_source\" : {\n",
      "          \"wind_speed_avg\" : \"4.2\",\n",
      "          \"snowfall\" : \"\",\n",
      "          \"temperature_max\" : \"10.2\",\n",
      "          \"precipitation_day\" : \"\",\n",
      "          \"wind_speed_max\" : \"7\",\n",
      "          \"sunshine_duration\" : \"3.3\",\n",
      "          \"temperature_avg\" : \"5.6\",\n",
      "          \"temperature_min\" : \"3\",\n",
      "          \"@version\" : \"1\",\n",
      "          \"host\" : \"0.0.0.0\",\n",
      "          \"wind_direction_max_moment\" : \"北西\",\n",
      "          \"information_night\" : \"晴\",\n",
      "          \"timestamp\" : \"7\",\n",
      "          \"precipitation_max_10min\" : \"\",\n",
      "          \"precipitation_max_hour\" : \"\",\n",
      "          \"wind_direction\" : \"北西\",\n",
      "          \"message\" : \"{\\n\\\"timestamp\\\":\\\"7\\\",\\n\\\"atmospheric_pressure\\\":\\\"1000.5\\\",\\n\\\"sea_level_pressure\\\":\\\"1003.4\\\",\\n\\\"precipitation_day\\\":\\\"\\\",\\n\\\"precipitation_max_hour\\\":\\\"\\\",\\n\\\"precipitation_max_10min\\\":\\\"\\\",\\n\\\"temperature_avg\\\":\\\"5.6\\\",\\n\\\"temperature_max\\\":\\\"10.2\\\",\\n\\\"temperature_min\\\":\\\"3\\\",\\n\\\"humidity_avg\\\":\\\"35\\\",\\n\\\"humidity_min\\\":\\\"23\\\",\\n\\\"wind_speed_avg\\\":\\\"4.2\\\",\\n\\\"wind_speed_max\\\":\\\"7\\\",\\n\\\"wind_direction\\\":\\\"北西\\\",\\n\\\"wind_speed_max_moment\\\":\\\"16.1\\\",\\n\\\"wind_direction_max_moment\\\":\\\"北西\\\",\\n\\\"sunshine_duration\\\":\\\"3.3\\\",\\n\\\"snowfall\\\":\\\"\\\",\\n\\\"snowfall_max\\\":\\\"\\\",\\n\\\"information_daytime\\\":\\\"時々曇\\\",\\n\\\"information_night\\\":\\\"晴\\\"\\n}\",\n",
      "          \"information_daytime\" : \"時々曇\",\n",
      "          \"tags\" : [\n",
      "            \"multiline\"\n",
      "          ],\n",
      "          \"@timestamp\" : \"2017-06-08T08:04:58.360Z\",\n",
      "          \"humidity_avg\" : \"35\",\n",
      "          \"humidity_min\" : \"23\",\n",
      "          \"atmospheric_pressure\" : \"1000.5\",\n",
      "          \"wind_speed_max_moment\" : \"16.1\",\n",
      "          \"snowfall_max\" : \"\",\n",
      "          \"sea_level_pressure\" : \"1003.4\"\n",
      "        }\n",
      "      },\n",
      "      {\n",
      "        \"_index\" : \"sample_index\",\n",
      "        \"_type\" : \"sample_multiline_json\",\n",
      "        \"_id\" : \"AVyGvC4bdDy3gmLO23Z4\",\n",
      "        \"_score\" : 1.0,\n",
      "        \"_source\" : {\n",
      "          \"wind_speed_avg\" : \"4.4\",\n",
      "          \"snowfall\" : \"\",\n",
      "          \"temperature_max\" : \"11.2\",\n",
      "          \"precipitation_day\" : \"\",\n",
      "          \"wind_speed_max\" : \"8.4\",\n",
      "          \"sunshine_duration\" : \"8.9\",\n",
      "          \"temperature_avg\" : \"6.2\",\n",
      "          \"temperature_min\" : \"2\",\n",
      "          \"@version\" : \"1\",\n",
      "          \"host\" : \"0.0.0.0\",\n",
      "          \"wind_direction_max_moment\" : \"北西\",\n",
      "          \"information_night\" : \"晴\",\n",
      "          \"timestamp\" : \"8\",\n",
      "          \"precipitation_max_10min\" : \"\",\n",
      "          \"precipitation_max_hour\" : \"\",\n",
      "          \"wind_direction\" : \"西\",\n",
      "          \"message\" : \"{\\n\\\"timestamp\\\":\\\"8\\\",\\n\\\"atmospheric_pressure\\\":\\\"1006.2\\\",\\n\\\"sea_level_pressure\\\":\\\"1009.2\\\",\\n\\\"precipitation_day\\\":\\\"\\\",\\n\\\"precipitation_max_hour\\\":\\\"\\\",\\n\\\"precipitation_max_10min\\\":\\\"\\\",\\n\\\"temperature_avg\\\":\\\"6.2\\\",\\n\\\"temperature_max\\\":\\\"11.2\\\",\\n\\\"temperature_min\\\":\\\"2\\\",\\n\\\"humidity_avg\\\":\\\"33\\\",\\n\\\"humidity_min\\\":\\\"20\\\",\\n\\\"wind_speed_avg\\\":\\\"4.4\\\",\\n\\\"wind_speed_max\\\":\\\"8.4\\\",\\n\\\"wind_direction\\\":\\\"西\\\",\\n\\\"wind_speed_max_moment\\\":\\\"13.6\\\",\\n\\\"wind_direction_max_moment\\\":\\\"北西\\\",\\n\\\"sunshine_duration\\\":\\\"8.9\\\",\\n\\\"snowfall\\\":\\\"\\\",\\n\\\"snowfall_max\\\":\\\"\\\",\\n\\\"information_daytime\\\":\\\"晴\\\",\\n\\\"information_night\\\":\\\"晴\\\"\\n}\",\n",
      "          \"information_daytime\" : \"晴\",\n",
      "          \"tags\" : [\n",
      "            \"multiline\"\n",
      "          ],\n",
      "          \"@timestamp\" : \"2017-06-08T08:04:58.362Z\",\n",
      "          \"humidity_avg\" : \"33\",\n",
      "          \"humidity_min\" : \"20\",\n",
      "          \"atmospheric_pressure\" : \"1006.2\",\n",
      "          \"wind_speed_max_moment\" : \"13.6\",\n",
      "          \"snowfall_max\" : \"\",\n",
      "          \"sea_level_pressure\" : \"1009.2\"\n",
      "        }\n",
      "      },\n",
      "      {\n",
      "        \"_index\" : \"sample_index\",\n",
      "        \"_type\" : \"sample_multiline_json\",\n",
      "        \"_id\" : \"AVyGvC4bdDy3gmLO23Z5\",\n",
      "        \"_score\" : 1.0,\n",
      "        \"_source\" : {\n",
      "          \"wind_speed_avg\" : \"4.1\",\n",
      "          \"snowfall\" : \"\",\n",
      "          \"temperature_max\" : \"11\",\n",
      "          \"precipitation_day\" : \"\",\n",
      "          \"wind_speed_max\" : \"8.1\",\n",
      "          \"sunshine_duration\" : \"8.9\",\n",
      "          \"temperature_avg\" : \"6.7\",\n",
      "          \"temperature_min\" : \"3.5\",\n",
      "          \"@version\" : \"1\",\n",
      "          \"host\" : \"0.0.0.0\",\n",
      "          \"wind_direction_max_moment\" : \"西\",\n",
      "          \"information_night\" : \"晴\",\n",
      "          \"timestamp\" : \"9\",\n",
      "          \"precipitation_max_10min\" : \"\",\n",
      "          \"precipitation_max_hour\" : \"\",\n",
      "          \"wind_direction\" : \"西\",\n",
      "          \"message\" : \"{\\n\\\"timestamp\\\":\\\"9\\\",\\n\\\"atmospheric_pressure\\\":\\\"1008.2\\\",\\n\\\"sea_level_pressure\\\":\\\"1011.2\\\",\\n\\\"precipitation_day\\\":\\\"\\\",\\n\\\"precipitation_max_hour\\\":\\\"\\\",\\n\\\"precipitation_max_10min\\\":\\\"\\\",\\n\\\"temperature_avg\\\":\\\"6.7\\\",\\n\\\"temperature_max\\\":\\\"11\\\",\\n\\\"temperature_min\\\":\\\"3.5\\\",\\n\\\"humidity_avg\\\":\\\"31\\\",\\n\\\"humidity_min\\\":\\\"21\\\",\\n\\\"wind_speed_avg\\\":\\\"4.1\\\",\\n\\\"wind_speed_max\\\":\\\"8.1\\\",\\n\\\"wind_direction\\\":\\\"西\\\",\\n\\\"wind_speed_max_moment\\\":\\\"14.4\\\",\\n\\\"wind_direction_max_moment\\\":\\\"西\\\",\\n\\\"sunshine_duration\\\":\\\"8.9\\\",\\n\\\"snowfall\\\":\\\"\\\",\\n\\\"snowfall_max\\\":\\\"\\\",\\n\\\"information_daytime\\\":\\\"晴\\\",\\n\\\"information_night\\\":\\\"晴\\\"\\n}\",\n",
      "          \"information_daytime\" : \"晴\",\n",
      "          \"tags\" : [\n",
      "            \"multiline\"\n",
      "          ],\n",
      "          \"@timestamp\" : \"2017-06-08T08:04:58.364Z\",\n",
      "          \"humidity_avg\" : \"31\",\n",
      "          \"humidity_min\" : \"21\",\n",
      "          \"atmospheric_pressure\" : \"1008.2\",\n",
      "          \"wind_speed_max_moment\" : \"14.4\",\n",
      "          \"snowfall_max\" : \"\",\n",
      "          \"sea_level_pressure\" : \"1011.2\"\n",
      "        }\n",
      "      },\n",
      "      {\n",
      "        \"_index\" : \"sample_index\",\n",
      "        \"_type\" : \"sample_multiline_json\",\n",
      "        \"_id\" : \"AVyGvC4bdDy3gmLO23Z6\",\n",
      "        \"_score\" : 1.0,\n",
      "        \"_source\" : {\n",
      "          \"wind_speed_avg\" : \"3.5\",\n",
      "          \"snowfall\" : \"\",\n",
      "          \"temperature_max\" : \"11.2\",\n",
      "          \"precipitation_day\" : \"\",\n",
      "          \"wind_speed_max\" : \"8.8\",\n",
      "          \"sunshine_duration\" : \"9.1\",\n",
      "          \"temperature_avg\" : \"6.3\",\n",
      "          \"temperature_min\" : \"1.9\",\n",
      "          \"@version\" : \"1\",\n",
      "          \"host\" : \"0.0.0.0\",\n",
      "          \"wind_direction_max_moment\" : \"西\",\n",
      "          \"information_night\" : \"晴\",\n",
      "          \"timestamp\" : \"10\",\n",
      "          \"precipitation_max_10min\" : \"\",\n",
      "          \"precipitation_max_hour\" : \"\",\n",
      "          \"wind_direction\" : \"西\",\n",
      "          \"message\" : \"{\\n\\\"timestamp\\\":\\\"10\\\",\\n\\\"atmospheric_pressure\\\":\\\"1008.8\\\",\\n\\\"sea_level_pressure\\\":\\\"1011.8\\\",\\n\\\"precipitation_day\\\":\\\"\\\",\\n\\\"precipitation_max_hour\\\":\\\"\\\",\\n\\\"precipitation_max_10min\\\":\\\"\\\",\\n\\\"temperature_avg\\\":\\\"6.3\\\",\\n\\\"temperature_max\\\":\\\"11.2\\\",\\n\\\"temperature_min\\\":\\\"1.9\\\",\\n\\\"humidity_avg\\\":\\\"31\\\",\\n\\\"humidity_min\\\":\\\"16\\\",\\n\\\"wind_speed_avg\\\":\\\"3.5\\\",\\n\\\"wind_speed_max\\\":\\\"8.8\\\",\\n\\\"wind_direction\\\":\\\"西\\\",\\n\\\"wind_speed_max_moment\\\":\\\"17.7\\\",\\n\\\"wind_direction_max_moment\\\":\\\"西\\\",\\n\\\"sunshine_duration\\\":\\\"9.1\\\",\\n\\\"snowfall\\\":\\\"\\\",\\n\\\"snowfall_max\\\":\\\"\\\",\\n\\\"information_daytime\\\":\\\"晴\\\",\\n\\\"information_night\\\":\\\"晴\\\"\\n}\",\n",
      "          \"information_daytime\" : \"晴\",\n",
      "          \"tags\" : [\n",
      "            \"multiline\"\n",
      "          ],\n",
      "          \"@timestamp\" : \"2017-06-08T08:04:58.365Z\",\n",
      "          \"humidity_avg\" : \"31\",\n",
      "          \"humidity_min\" : \"16\",\n",
      "          \"atmospheric_pressure\" : \"1008.8\",\n",
      "          \"wind_speed_max_moment\" : \"17.7\",\n",
      "          \"snowfall_max\" : \"\",\n",
      "          \"sea_level_pressure\" : \"1011.8\"\n",
      "        }\n",
      "      }\n",
      "    ]\n",
      "  }\n",
      "}\n"
     ]
    },
    {
     "name": "stderr",
     "output_type": "stream",
     "text": [
      "  % Total    % Received % Xferd  Average Speed   Time    Time     Time  Current\n",
      "                                 Dload  Upload   Total   Spent    Left  Speed\n",
      "\r",
      "  0     0    0     0    0     0      0      0 --:--:-- --:--:-- --:--:--     0\r",
      "100 18564  100 18564    0     0  2663k      0 --:--:-- --:--:-- --:--:-- 3021k\n"
     ]
    }
   ],
   "source": [
    "%%bash\n",
    "curl -XGET \"http://$ES_HOST/$INDEX/sample_multiline_json/_search?pretty\""
   ]
  },
  {
   "cell_type": "markdown",
   "metadata": {
    "lc_cell_meme": {
     "current": "915470b8-152a-11e7-b31a-0242ac12000d",
     "next": "91547298-152a-11e7-b31a-0242ac12000d",
     "previous": "91546eec-152a-11e7-b31a-0242ac12000d"
    }
   },
   "source": [
    "### CSV\n"
   ]
  },
  {
   "cell_type": "markdown",
   "metadata": {
    "lc_cell_meme": {
     "current": "91547298-152a-11e7-b31a-0242ac12000d",
     "next": "915474aa-152a-11e7-b31a-0242ac12000d",
     "previous": "915470b8-152a-11e7-b31a-0242ac12000d"
    }
   },
   "source": [
    "CSV形式のデータとして、次の内容のサンプルを登録します。"
   ]
  },
  {
   "cell_type": "code",
   "execution_count": 11,
   "metadata": {
    "lc_cell_meme": {
     "current": "915474aa-152a-11e7-b31a-0242ac12000d",
     "next": "91547676-152a-11e7-b31a-0242ac12000d",
     "previous": "91547298-152a-11e7-b31a-0242ac12000d"
    }
   },
   "outputs": [
    {
     "name": "stdout",
     "output_type": "stream",
     "text": [
      "1,1000.4,1003.4,0,0,0,3.7,8.2,0.7,41,30,4.4,9.4,西,18.7,北西,1.3,,,時々晴一時雪,晴\r\n",
      "2,1007.4,1010.4,,,,2.7,7.9,-2.2,41,19,2.1,4.2,西,7.8,西,6,,,時々曇,一時曇\r\n",
      "3,1012,1015.1,,,,3.8,8.9,-1.1,42,19,3,7.4,北西,10.9,北西,8.9,,,晴,後薄曇\r\n"
     ]
    }
   ],
   "source": [
    "!head -n 3 sample_data/weather.csv"
   ]
  },
  {
   "cell_type": "markdown",
   "metadata": {
    "lc_cell_meme": {
     "current": "91547676-152a-11e7-b31a-0242ac12000d",
     "next": "91547842-152a-11e7-b31a-0242ac12000d",
     "previous": "915474aa-152a-11e7-b31a-0242ac12000d"
    }
   },
   "source": [
    "confファイルには、\"filter\"の下に\"csv\"定義を設定し、列ごとの名前を指定することで、CSVデータの各列を対応する要素に紐づけてCSV形式を解釈できるようになります。  \n",
    "ファイル名は\"csv.conf\"とします。"
   ]
  },
  {
   "cell_type": "markdown",
   "metadata": {
    "lc_cell_meme": {
     "current": "91547842-152a-11e7-b31a-0242ac12000d",
     "history": [
      {
       "current": "91547842-152a-11e7-b31a-0242ac12000d",
       "next": "91547a04-152a-11e7-b31a-0242ac12000d",
       "previous": "91547676-152a-11e7-b31a-0242ac12000d"
      }
     ],
     "next": "a834731e-4752-11e7-a57b-02420aff0008",
     "previous": "91547676-152a-11e7-b31a-0242ac12000d"
    }
   },
   "source": [
    "```ruby:csv.conf\n",
    "input{\n",
    "   stdin{}\n",
    "}\n",
    "filter{\n",
    "  csv{\n",
    "    columns => [\"timestamp\",\"atmospheric_pressure\",\"sea_level_pressure\",\"precipitation_day\",\"precipitation_max_hour\",\"precipitation_max_10min\",\"temperature_avg\",\"temperature_max\",\"temperature_min\",\"humidity_avg\",\"humidity_min\",\"wind_speed_avg\",\"wind_speed_max\",\"wind_direction\",\"wind_speed_max_moment\",\"wind_direction_max_moment\",\"sunshine_duration\",\"snowfall\",\"snowfall_max\",\"information_daytime\",\"information_night\"]\n",
    "  }\n",
    "}\n",
    "output{\n",
    "  elasticsearch{\n",
    "    hosts => <ES_HOST>  \n",
    "    index => <INDEX>\n",
    "  }\n",
    "}\n",
    "```"
   ]
  },
  {
   "cell_type": "code",
   "execution_count": 12,
   "metadata": {
    "lc_cell_meme": {
     "current": "a834731e-4752-11e7-a57b-02420aff0008",
     "next": "91547a04-152a-11e7-b31a-0242ac12000d",
     "previous": "91547842-152a-11e7-b31a-0242ac12000d"
    },
    "scrolled": true
   },
   "outputs": [
    {
     "name": "stdout",
     "output_type": "stream",
     "text": [
      "\u001b[0;32m10.24.128.93 | SUCCESS => {\u001b[0m\n",
      "\u001b[0;32m    \"changed\": false, \u001b[0m\n",
      "\u001b[0;32m    \"gid\": 1000, \u001b[0m\n",
      "\u001b[0;32m    \"group\": \"centos\", \u001b[0m\n",
      "\u001b[0;32m    \"mode\": \"0775\", \u001b[0m\n",
      "\u001b[0;32m    \"owner\": \"centos\", \u001b[0m\n",
      "\u001b[0;32m    \"path\": \"/home/centos/sample_data\", \u001b[0m\n",
      "\u001b[0;32m    \"secontext\": \"unconfined_u:object_r:user_home_t:s0\", \u001b[0m\n",
      "\u001b[0;32m    \"size\": 54, \u001b[0m\n",
      "\u001b[0;32m    \"state\": \"directory\", \u001b[0m\n",
      "\u001b[0;32m    \"uid\": 1000\u001b[0m\n",
      "\u001b[0;32m}\u001b[0m\n",
      "\u001b[0;32m10.24.128.93 | SUCCESS => {\u001b[0m\n",
      "\u001b[0;32m    \"changed\": false, \u001b[0m\n",
      "\u001b[0;32m    \"gid\": 1000, \u001b[0m\n",
      "\u001b[0;32m    \"group\": \"centos\", \u001b[0m\n",
      "\u001b[0;32m    \"mode\": \"0775\", \u001b[0m\n",
      "\u001b[0;32m    \"owner\": \"centos\", \u001b[0m\n",
      "\u001b[0;32m    \"path\": \"/home/centos/sample_conf\", \u001b[0m\n",
      "\u001b[0;32m    \"secontext\": \"unconfined_u:object_r:user_home_t:s0\", \u001b[0m\n",
      "\u001b[0;32m    \"size\": 48, \u001b[0m\n",
      "\u001b[0;32m    \"state\": \"directory\", \u001b[0m\n",
      "\u001b[0;32m    \"uid\": 1000\u001b[0m\n",
      "\u001b[0;32m}\u001b[0m\n",
      "\u001b[0;33m10.24.128.93 | SUCCESS => {\u001b[0m\n",
      "\u001b[0;33m    \"changed\": true, \u001b[0m\n",
      "\u001b[0;33m    \"checksum\": \"c93efa572d2e1a05cf453c051587d8893247b5b7\", \u001b[0m\n",
      "\u001b[0;33m    \"dest\": \"/home/centos/sample_data/weather.csv\", \u001b[0m\n",
      "\u001b[0;33m    \"gid\": 1000, \u001b[0m\n",
      "\u001b[0;33m    \"group\": \"centos\", \u001b[0m\n",
      "\u001b[0;33m    \"md5sum\": \"dab98693b329f1917542f85d475c36af\", \u001b[0m\n",
      "\u001b[0;33m    \"mode\": \"0664\", \u001b[0m\n",
      "\u001b[0;33m    \"owner\": \"centos\", \u001b[0m\n",
      "\u001b[0;33m    \"secontext\": \"unconfined_u:object_r:user_home_t:s0\", \u001b[0m\n",
      "\u001b[0;33m    \"size\": 2621, \u001b[0m\n",
      "\u001b[0;33m    \"src\": \"/home/centos/.ansible/tmp/ansible-tmp-1496909106.44-131779970182341/source\", \u001b[0m\n",
      "\u001b[0;33m    \"state\": \"file\", \u001b[0m\n",
      "\u001b[0;33m    \"uid\": 1000\u001b[0m\n",
      "\u001b[0;33m}\u001b[0m\n",
      "\u001b[0;33m10.24.128.93 | SUCCESS => {\u001b[0m\n",
      "\u001b[0;33m    \"changed\": true, \u001b[0m\n",
      "\u001b[0;33m    \"checksum\": \"fb8bcf9149e4a2063959b22ddf74ee48cf5bf659\", \u001b[0m\n",
      "\u001b[0;33m    \"dest\": \"/home/centos/sample_conf/csv.conf\", \u001b[0m\n",
      "\u001b[0;33m    \"gid\": 1000, \u001b[0m\n",
      "\u001b[0;33m    \"group\": \"centos\", \u001b[0m\n",
      "\u001b[0;33m    \"md5sum\": \"dc8f2fb96d546eac8640fb708527a1f8\", \u001b[0m\n",
      "\u001b[0;33m    \"mode\": \"0664\", \u001b[0m\n",
      "\u001b[0;33m    \"owner\": \"centos\", \u001b[0m\n",
      "\u001b[0;33m    \"secontext\": \"unconfined_u:object_r:user_home_t:s0\", \u001b[0m\n",
      "\u001b[0;33m    \"size\": 585, \u001b[0m\n",
      "\u001b[0;33m    \"src\": \"/home/centos/.ansible/tmp/ansible-tmp-1496909108.18-268517991755305/source\", \u001b[0m\n",
      "\u001b[0;33m    \"state\": \"file\", \u001b[0m\n",
      "\u001b[0;33m    \"uid\": 1000\u001b[0m\n",
      "\u001b[0;33m}\u001b[0m\n"
     ]
    }
   ],
   "source": [
    "!ansible logstash-server -i ./hosts -m file -a \"path=~/sample_data state=directory\" -u $USER --private-key=$KEYPATH\n",
    "!ansible logstash-server -i ./hosts -m file -a \"path=~/sample_conf state=directory\" -u $USER --private-key=$KEYPATH\n",
    "!ansible logstash-server -i ./hosts -m copy -a \"src=sample_data/weather.csv dest=~/sample_data/weather.csv\" -u $USER --private-key=$KEYPATH\n",
    "!ansible logstash-server -i ./hosts -m copy -a \"src=logstash_conf/csv.conf dest=~/sample_conf/csv.conf\" -u $USER --private-key=$KEYPATH"
   ]
  },
  {
   "cell_type": "markdown",
   "metadata": {
    "lc_cell_meme": {
     "current": "91547a04-152a-11e7-b31a-0242ac12000d",
     "history": [
      {
       "current": "91547a04-152a-11e7-b31a-0242ac12000d",
       "next": "91547bd0-152a-11e7-b31a-0242ac12000d",
       "previous": "91547842-152a-11e7-b31a-0242ac12000d"
      }
     ],
     "next": "91547bd0-152a-11e7-b31a-0242ac12000d",
     "previous": "a834731e-4752-11e7-a57b-02420aff0008"
    }
   },
   "source": [
    "実際のデータ登録は次のコマンドで実行します。"
   ]
  },
  {
   "cell_type": "code",
   "execution_count": 13,
   "metadata": {
    "lc_cell_meme": {
     "current": "91547bd0-152a-11e7-b31a-0242ac12000d",
     "next": "91547da6-152a-11e7-b31a-0242ac12000d",
     "previous": "91547a04-152a-11e7-b31a-0242ac12000d"
    }
   },
   "outputs": [
    {
     "name": "stdout",
     "output_type": "stream",
     "text": [
      "\u001b[0;32m10.24.128.93 | SUCCESS | rc=0 >>\u001b[0m\r\n",
      "\u001b[0;32mSending Logstash logs to /var/log/logstash which is now configured via log4j2.properties.\u001b[0m\r\n",
      "\u001b[0;32m\u001b[0m\r\n"
     ]
    }
   ],
   "source": [
    "!ansible logstash-server -i ./hosts -m shell -a \"cat ~/sample_data/weather.csv | sudo /usr/share/logstash/bin/logstash --path.settings /etc/logstash -f ~/sample_conf/csv.conf\" -u $USER --private-key=$KEYPATH"
   ]
  },
  {
   "cell_type": "markdown",
   "metadata": {
    "lc_cell_meme": {
     "current": "91547da6-152a-11e7-b31a-0242ac12000d",
     "next": "91547f68-152a-11e7-b31a-0242ac12000d",
     "previous": "91547bd0-152a-11e7-b31a-0242ac12000d"
    }
   },
   "source": [
    "コマンドの実行に成功したら、次の検索APIで正しく登録されているか確認してください。  \n",
    "正しく登録されていれば、json形式で登録されたデータが出力されます。"
   ]
  },
  {
   "cell_type": "code",
   "execution_count": 14,
   "metadata": {
    "lc_cell_meme": {
     "current": "91547f68-152a-11e7-b31a-0242ac12000d",
     "next": "91548152-152a-11e7-b31a-0242ac12000d",
     "previous": "91547da6-152a-11e7-b31a-0242ac12000d"
    },
    "scrolled": true
   },
   "outputs": [
    {
     "name": "stdout",
     "output_type": "stream",
     "text": [
      "{\n",
      "  \"took\" : 2,\n",
      "  \"timed_out\" : false,\n",
      "  \"_shards\" : {\n",
      "    \"total\" : 1,\n",
      "    \"successful\" : 1,\n",
      "    \"failed\" : 0\n",
      "  },\n",
      "  \"hits\" : {\n",
      "    \"total\" : 30,\n",
      "    \"max_score\" : 1.0,\n",
      "    \"hits\" : [\n",
      "      {\n",
      "        \"_index\" : \"sample_index\",\n",
      "        \"_type\" : \"sample_csv\",\n",
      "        \"_id\" : \"AVyGvHe2dDy3gmLO23aQ\",\n",
      "        \"_score\" : 1.0,\n",
      "        \"_source\" : {\n",
      "          \"wind_speed_avg\" : \"4.4\",\n",
      "          \"snowfall\" : null,\n",
      "          \"temperature_max\" : \"8.2\",\n",
      "          \"precipitation_day\" : \"0\",\n",
      "          \"wind_speed_max\" : \"9.4\",\n",
      "          \"sunshine_duration\" : \"1.3\",\n",
      "          \"temperature_avg\" : \"3.7\",\n",
      "          \"temperature_min\" : \"0.7\",\n",
      "          \"@version\" : \"1\",\n",
      "          \"host\" : \"0.0.0.0\",\n",
      "          \"wind_direction_max_moment\" : \"北西\",\n",
      "          \"information_night\" : \"晴\",\n",
      "          \"timestamp\" : \"1\",\n",
      "          \"precipitation_max_10min\" : \"0\",\n",
      "          \"precipitation_max_hour\" : \"0\",\n",
      "          \"wind_direction\" : \"西\",\n",
      "          \"message\" : \"1,1000.4,1003.4,0,0,0,3.7,8.2,0.7,41,30,4.4,9.4,西,18.7,北西,1.3,,,時々晴一時雪,晴\",\n",
      "          \"information_daytime\" : \"時々晴一時雪\",\n",
      "          \"@timestamp\" : \"2017-06-08T08:05:16.868Z\",\n",
      "          \"humidity_avg\" : \"41\",\n",
      "          \"humidity_min\" : \"30\",\n",
      "          \"atmospheric_pressure\" : \"1000.4\",\n",
      "          \"wind_speed_max_moment\" : \"18.7\",\n",
      "          \"snowfall_max\" : null,\n",
      "          \"sea_level_pressure\" : \"1003.4\"\n",
      "        }\n",
      "      },\n",
      "      {\n",
      "        \"_index\" : \"sample_index\",\n",
      "        \"_type\" : \"sample_csv\",\n",
      "        \"_id\" : \"AVyGvHe2dDy3gmLO23aR\",\n",
      "        \"_score\" : 1.0,\n",
      "        \"_source\" : {\n",
      "          \"wind_speed_avg\" : \"2.1\",\n",
      "          \"snowfall\" : null,\n",
      "          \"temperature_max\" : \"7.9\",\n",
      "          \"precipitation_day\" : null,\n",
      "          \"wind_speed_max\" : \"4.2\",\n",
      "          \"sunshine_duration\" : \"6\",\n",
      "          \"temperature_avg\" : \"2.7\",\n",
      "          \"temperature_min\" : \"-2.2\",\n",
      "          \"@version\" : \"1\",\n",
      "          \"host\" : \"0.0.0.0\",\n",
      "          \"wind_direction_max_moment\" : \"西\",\n",
      "          \"information_night\" : \"一時曇\",\n",
      "          \"timestamp\" : \"2\",\n",
      "          \"precipitation_max_10min\" : null,\n",
      "          \"precipitation_max_hour\" : null,\n",
      "          \"wind_direction\" : \"西\",\n",
      "          \"message\" : \"2,1007.4,1010.4,,,,2.7,7.9,-2.2,41,19,2.1,4.2,西,7.8,西,6,,,時々曇,一時曇\",\n",
      "          \"information_daytime\" : \"時々曇\",\n",
      "          \"@timestamp\" : \"2017-06-08T08:05:17.174Z\",\n",
      "          \"humidity_avg\" : \"41\",\n",
      "          \"humidity_min\" : \"19\",\n",
      "          \"atmospheric_pressure\" : \"1007.4\",\n",
      "          \"wind_speed_max_moment\" : \"7.8\",\n",
      "          \"snowfall_max\" : null,\n",
      "          \"sea_level_pressure\" : \"1010.4\"\n",
      "        }\n",
      "      },\n",
      "      {\n",
      "        \"_index\" : \"sample_index\",\n",
      "        \"_type\" : \"sample_csv\",\n",
      "        \"_id\" : \"AVyGvHe2dDy3gmLO23aS\",\n",
      "        \"_score\" : 1.0,\n",
      "        \"_source\" : {\n",
      "          \"wind_speed_avg\" : \"3\",\n",
      "          \"snowfall\" : null,\n",
      "          \"temperature_max\" : \"8.9\",\n",
      "          \"precipitation_day\" : null,\n",
      "          \"wind_speed_max\" : \"7.4\",\n",
      "          \"sunshine_duration\" : \"8.9\",\n",
      "          \"temperature_avg\" : \"3.8\",\n",
      "          \"temperature_min\" : \"-1.1\",\n",
      "          \"@version\" : \"1\",\n",
      "          \"host\" : \"0.0.0.0\",\n",
      "          \"wind_direction_max_moment\" : \"北西\",\n",
      "          \"information_night\" : \"後薄曇\",\n",
      "          \"timestamp\" : \"3\",\n",
      "          \"precipitation_max_10min\" : null,\n",
      "          \"precipitation_max_hour\" : null,\n",
      "          \"wind_direction\" : \"北西\",\n",
      "          \"message\" : \"3,1012,1015.1,,,,3.8,8.9,-1.1,42,19,3,7.4,北西,10.9,北西,8.9,,,晴,後薄曇\",\n",
      "          \"information_daytime\" : \"晴\",\n",
      "          \"@timestamp\" : \"2017-06-08T08:05:17.174Z\",\n",
      "          \"humidity_avg\" : \"42\",\n",
      "          \"humidity_min\" : \"19\",\n",
      "          \"atmospheric_pressure\" : \"1012\",\n",
      "          \"wind_speed_max_moment\" : \"10.9\",\n",
      "          \"snowfall_max\" : null,\n",
      "          \"sea_level_pressure\" : \"1015.1\"\n",
      "        }\n",
      "      },\n",
      "      {\n",
      "        \"_index\" : \"sample_index\",\n",
      "        \"_type\" : \"sample_csv\",\n",
      "        \"_id\" : \"AVyGvHe2dDy3gmLO23aT\",\n",
      "        \"_score\" : 1.0,\n",
      "        \"_source\" : {\n",
      "          \"wind_speed_avg\" : \"1.3\",\n",
      "          \"snowfall\" : null,\n",
      "          \"temperature_max\" : \"9.3\",\n",
      "          \"precipitation_day\" : null,\n",
      "          \"wind_speed_max\" : \"2.8\",\n",
      "          \"sunshine_duration\" : \"6\",\n",
      "          \"temperature_avg\" : \"4\",\n",
      "          \"temperature_min\" : \"-0.4\",\n",
      "          \"@version\" : \"1\",\n",
      "          \"host\" : \"0.0.0.0\",\n",
      "          \"wind_direction_max_moment\" : \"北東\",\n",
      "          \"information_night\" : \"晴\",\n",
      "          \"timestamp\" : \"4\",\n",
      "          \"precipitation_max_10min\" : null,\n",
      "          \"precipitation_max_hour\" : null,\n",
      "          \"wind_direction\" : \"北西\",\n",
      "          \"message\" : \"4,1010.4,1013.4,,,,4,9.3,-0.4,51,33,1.3,2.8,北西,3.8,北東,6,,,後晴,晴\",\n",
      "          \"information_daytime\" : \"後晴\",\n",
      "          \"@timestamp\" : \"2017-06-08T08:05:17.175Z\",\n",
      "          \"humidity_avg\" : \"51\",\n",
      "          \"humidity_min\" : \"33\",\n",
      "          \"atmospheric_pressure\" : \"1010.4\",\n",
      "          \"wind_speed_max_moment\" : \"3.8\",\n",
      "          \"snowfall_max\" : null,\n",
      "          \"sea_level_pressure\" : \"1013.4\"\n",
      "        }\n",
      "      },\n",
      "      {\n",
      "        \"_index\" : \"sample_index\",\n",
      "        \"_type\" : \"sample_csv\",\n",
      "        \"_id\" : \"AVyGvHe2dDy3gmLO23aU\",\n",
      "        \"_score\" : 1.0,\n",
      "        \"_source\" : {\n",
      "          \"wind_speed_avg\" : \"2.4\",\n",
      "          \"snowfall\" : null,\n",
      "          \"temperature_max\" : \"12.9\",\n",
      "          \"precipitation_day\" : null,\n",
      "          \"wind_speed_max\" : \"5\",\n",
      "          \"sunshine_duration\" : \"8.9\",\n",
      "          \"temperature_avg\" : \"6.9\",\n",
      "          \"temperature_min\" : \"1.3\",\n",
      "          \"@version\" : \"1\",\n",
      "          \"host\" : \"0.0.0.0\",\n",
      "          \"wind_direction_max_moment\" : \"北西\",\n",
      "          \"information_night\" : \"一時晴\",\n",
      "          \"timestamp\" : \"5\",\n",
      "          \"precipitation_max_10min\" : null,\n",
      "          \"precipitation_max_hour\" : null,\n",
      "          \"wind_direction\" : \"北西\",\n",
      "          \"message\" : \"5,1014.6,1017.5,,,,6.9,12.9,1.3,56,29,2.4,5,北西,9.1,北西,8.9,,,晴,一時晴\",\n",
      "          \"information_daytime\" : \"晴\",\n",
      "          \"@timestamp\" : \"2017-06-08T08:05:17.176Z\",\n",
      "          \"humidity_avg\" : \"56\",\n",
      "          \"humidity_min\" : \"29\",\n",
      "          \"atmospheric_pressure\" : \"1014.6\",\n",
      "          \"wind_speed_max_moment\" : \"9.1\",\n",
      "          \"snowfall_max\" : null,\n",
      "          \"sea_level_pressure\" : \"1017.5\"\n",
      "        }\n",
      "      },\n",
      "      {\n",
      "        \"_index\" : \"sample_index\",\n",
      "        \"_type\" : \"sample_csv\",\n",
      "        \"_id\" : \"AVyGvHe2dDy3gmLO23aV\",\n",
      "        \"_score\" : 1.0,\n",
      "        \"_source\" : {\n",
      "          \"wind_speed_avg\" : \"5.2\",\n",
      "          \"snowfall\" : null,\n",
      "          \"temperature_max\" : \"16\",\n",
      "          \"precipitation_day\" : \"6.5\",\n",
      "          \"wind_speed_max\" : \"8.9\",\n",
      "          \"sunshine_duration\" : \"0.2\",\n",
      "          \"temperature_avg\" : \"10.8\",\n",
      "          \"temperature_min\" : \"5.8\",\n",
      "          \"@version\" : \"1\",\n",
      "          \"host\" : \"0.0.0.0\",\n",
      "          \"wind_direction_max_moment\" : null,\n",
      "          \"information_night\" : \"時々晴\",\n",
      "          \"timestamp\" : \"6\",\n",
      "          \"precipitation_max_10min\" : \"1.5\",\n",
      "          \"precipitation_max_hour\" : \"5\",\n",
      "          \"wind_direction\" : \"南西\",\n",
      "          \"message\" : \"6,1000.6,1003.5,6.5,5,1.5,10.8,16,5.8,64,40,5.2,8.9,南西,19.3,,0.2,,,後時々雨,時々晴\",\n",
      "          \"information_daytime\" : \"後時々雨\",\n",
      "          \"@timestamp\" : \"2017-06-08T08:05:17.177Z\",\n",
      "          \"humidity_avg\" : \"64\",\n",
      "          \"humidity_min\" : \"40\",\n",
      "          \"atmospheric_pressure\" : \"1000.6\",\n",
      "          \"wind_speed_max_moment\" : \"19.3\",\n",
      "          \"snowfall_max\" : null,\n",
      "          \"sea_level_pressure\" : \"1003.5\"\n",
      "        }\n",
      "      },\n",
      "      {\n",
      "        \"_index\" : \"sample_index\",\n",
      "        \"_type\" : \"sample_csv\",\n",
      "        \"_id\" : \"AVyGvHe2dDy3gmLO23aW\",\n",
      "        \"_score\" : 1.0,\n",
      "        \"_source\" : {\n",
      "          \"wind_speed_avg\" : \"4.2\",\n",
      "          \"snowfall\" : null,\n",
      "          \"temperature_max\" : \"10.2\",\n",
      "          \"precipitation_day\" : null,\n",
      "          \"wind_speed_max\" : \"7\",\n",
      "          \"sunshine_duration\" : \"3.3\",\n",
      "          \"temperature_avg\" : \"5.6\",\n",
      "          \"temperature_min\" : \"3\",\n",
      "          \"@version\" : \"1\",\n",
      "          \"host\" : \"0.0.0.0\",\n",
      "          \"wind_direction_max_moment\" : \"北西\",\n",
      "          \"information_night\" : \"晴\",\n",
      "          \"timestamp\" : \"7\",\n",
      "          \"precipitation_max_10min\" : null,\n",
      "          \"precipitation_max_hour\" : null,\n",
      "          \"wind_direction\" : \"北西\",\n",
      "          \"message\" : \"7,1000.5,1003.4,,,,5.6,10.2,3,35,23,4.2,7,北西,16.1,北西,3.3,,,時々曇,晴\",\n",
      "          \"information_daytime\" : \"時々曇\",\n",
      "          \"@timestamp\" : \"2017-06-08T08:05:17.177Z\",\n",
      "          \"humidity_avg\" : \"35\",\n",
      "          \"humidity_min\" : \"23\",\n",
      "          \"atmospheric_pressure\" : \"1000.5\",\n",
      "          \"wind_speed_max_moment\" : \"16.1\",\n",
      "          \"snowfall_max\" : null,\n",
      "          \"sea_level_pressure\" : \"1003.4\"\n",
      "        }\n",
      "      },\n",
      "      {\n",
      "        \"_index\" : \"sample_index\",\n",
      "        \"_type\" : \"sample_csv\",\n",
      "        \"_id\" : \"AVyGvHe2dDy3gmLO23aX\",\n",
      "        \"_score\" : 1.0,\n",
      "        \"_source\" : {\n",
      "          \"wind_speed_avg\" : \"4.4\",\n",
      "          \"snowfall\" : null,\n",
      "          \"temperature_max\" : \"11.2\",\n",
      "          \"precipitation_day\" : null,\n",
      "          \"wind_speed_max\" : \"8.4\",\n",
      "          \"sunshine_duration\" : \"8.9\",\n",
      "          \"temperature_avg\" : \"6.2\",\n",
      "          \"temperature_min\" : \"2\",\n",
      "          \"@version\" : \"1\",\n",
      "          \"host\" : \"0.0.0.0\",\n",
      "          \"wind_direction_max_moment\" : \"北西\",\n",
      "          \"information_night\" : \"晴\",\n",
      "          \"timestamp\" : \"8\",\n",
      "          \"precipitation_max_10min\" : null,\n",
      "          \"precipitation_max_hour\" : null,\n",
      "          \"wind_direction\" : \"西\",\n",
      "          \"message\" : \"8,1006.2,1009.2,,,,6.2,11.2,2,33,20,4.4,8.4,西,13.6,北西,8.9,,,晴,晴\",\n",
      "          \"information_daytime\" : \"晴\",\n",
      "          \"@timestamp\" : \"2017-06-08T08:05:17.178Z\",\n",
      "          \"humidity_avg\" : \"33\",\n",
      "          \"humidity_min\" : \"20\",\n",
      "          \"atmospheric_pressure\" : \"1006.2\",\n",
      "          \"wind_speed_max_moment\" : \"13.6\",\n",
      "          \"snowfall_max\" : null,\n",
      "          \"sea_level_pressure\" : \"1009.2\"\n",
      "        }\n",
      "      },\n",
      "      {\n",
      "        \"_index\" : \"sample_index\",\n",
      "        \"_type\" : \"sample_csv\",\n",
      "        \"_id\" : \"AVyGvHe2dDy3gmLO23aY\",\n",
      "        \"_score\" : 1.0,\n",
      "        \"_source\" : {\n",
      "          \"wind_speed_avg\" : \"4.1\",\n",
      "          \"snowfall\" : null,\n",
      "          \"temperature_max\" : \"11\",\n",
      "          \"precipitation_day\" : null,\n",
      "          \"wind_speed_max\" : \"8.1\",\n",
      "          \"sunshine_duration\" : \"8.9\",\n",
      "          \"temperature_avg\" : \"6.7\",\n",
      "          \"temperature_min\" : \"3.5\",\n",
      "          \"@version\" : \"1\",\n",
      "          \"host\" : \"0.0.0.0\",\n",
      "          \"wind_direction_max_moment\" : \"西\",\n",
      "          \"information_night\" : \"晴\",\n",
      "          \"timestamp\" : \"9\",\n",
      "          \"precipitation_max_10min\" : null,\n",
      "          \"precipitation_max_hour\" : null,\n",
      "          \"wind_direction\" : \"西\",\n",
      "          \"message\" : \"9,1008.2,1011.2,,,,6.7,11,3.5,31,21,4.1,8.1,西,14.4,西,8.9,,,晴,晴\",\n",
      "          \"information_daytime\" : \"晴\",\n",
      "          \"@timestamp\" : \"2017-06-08T08:05:17.178Z\",\n",
      "          \"humidity_avg\" : \"31\",\n",
      "          \"humidity_min\" : \"21\",\n",
      "          \"atmospheric_pressure\" : \"1008.2\",\n",
      "          \"wind_speed_max_moment\" : \"14.4\",\n",
      "          \"snowfall_max\" : null,\n",
      "          \"sea_level_pressure\" : \"1011.2\"\n",
      "        }\n",
      "      },\n",
      "      {\n",
      "        \"_index\" : \"sample_index\",\n",
      "        \"_type\" : \"sample_csv\",\n",
      "        \"_id\" : \"AVyGvHe2dDy3gmLO23aZ\",\n",
      "        \"_score\" : 1.0,\n",
      "        \"_source\" : {\n",
      "          \"wind_speed_avg\" : \"3.5\",\n",
      "          \"snowfall\" : null,\n",
      "          \"temperature_max\" : \"11.2\",\n",
      "          \"precipitation_day\" : null,\n",
      "          \"wind_speed_max\" : \"8.8\",\n",
      "          \"sunshine_duration\" : \"9.1\",\n",
      "          \"temperature_avg\" : \"6.3\",\n",
      "          \"temperature_min\" : \"1.9\",\n",
      "          \"@version\" : \"1\",\n",
      "          \"host\" : \"0.0.0.0\",\n",
      "          \"wind_direction_max_moment\" : \"西\",\n",
      "          \"information_night\" : \"晴\",\n",
      "          \"timestamp\" : \"10\",\n",
      "          \"precipitation_max_10min\" : null,\n",
      "          \"precipitation_max_hour\" : null,\n",
      "          \"wind_direction\" : \"西\",\n",
      "          \"message\" : \"10,1008.8,1011.8,,,,6.3,11.2,1.9,31,16,3.5,8.8,西,17.7,西,9.1,,,晴,晴\",\n",
      "          \"information_daytime\" : \"晴\",\n",
      "          \"@timestamp\" : \"2017-06-08T08:05:17.179Z\",\n",
      "          \"humidity_avg\" : \"31\",\n",
      "          \"humidity_min\" : \"16\",\n",
      "          \"atmospheric_pressure\" : \"1008.8\",\n",
      "          \"wind_speed_max_moment\" : \"17.7\",\n",
      "          \"snowfall_max\" : null,\n",
      "          \"sea_level_pressure\" : \"1011.8\"\n",
      "        }\n",
      "      }\n",
      "    ]\n",
      "  }\n",
      "}\n"
     ]
    },
    {
     "name": "stderr",
     "output_type": "stream",
     "text": [
      "  % Total    % Received % Xferd  Average Speed   Time    Time     Time  Current\n",
      "                                 Dload  Upload   Total   Spent    Left  Speed\n",
      "\r",
      "  0     0    0     0    0     0      0      0 --:--:-- --:--:-- --:--:--     0\r",
      "100 12224  100 12224    0     0  2356k      0 --:--:-- --:--:-- --:--:-- 2984k\n"
     ]
    }
   ],
   "source": [
    "%%bash\n",
    "curl -XGET \"http://$ES_HOST/$INDEX/sample_csv/_search?pretty\""
   ]
  },
  {
   "cell_type": "markdown",
   "metadata": {
    "lc_cell_meme": {
     "current": "91548152-152a-11e7-b31a-0242ac12000d",
     "next": "91548328-152a-11e7-b31a-0242ac12000d",
     "previous": "91547f68-152a-11e7-b31a-0242ac12000d"
    }
   },
   "source": [
    "### LTSV"
   ]
  },
  {
   "cell_type": "markdown",
   "metadata": {
    "lc_cell_meme": {
     "current": "91548328-152a-11e7-b31a-0242ac12000d",
     "next": "9154851c-152a-11e7-b31a-0242ac12000d",
     "previous": "91548152-152a-11e7-b31a-0242ac12000d"
    }
   },
   "source": [
    "LTSV形式のデータとして、次の内容のサンプルを登録します。"
   ]
  },
  {
   "cell_type": "code",
   "execution_count": 15,
   "metadata": {
    "lc_cell_meme": {
     "current": "9154851c-152a-11e7-b31a-0242ac12000d",
     "next": "915486fc-152a-11e7-b31a-0242ac12000d",
     "previous": "91548328-152a-11e7-b31a-0242ac12000d"
    }
   },
   "outputs": [
    {
     "name": "stdout",
     "output_type": "stream",
     "text": [
      "\"timestamp\":\"21\"\t\"atmospheric_pressure\":\"1024.3\"\t\"sea_level_pressure\":\"1027.4\"\t\"precipitation_day\":\"4\"\t\"precipitation_max_hour\":\"1.5\"\t\"precipitation_max_10min\":\"0.5\"\t\"temperature_avg\":\"2.5\"\t\"temperature_max\":\"3.8\"\t\"temperature_min\":\"1.5\"\t\"humidity_avg\":\"69\"\t\"humidity_min\":\"38\"\t\"wind_speed_avg\":\"3.1\"\t\"wind_speed_max\":\"5\"\t\"wind_direction\":\"北西\"\t\"wind_speed_max_moment\":\"9.3\"\t\"wind_direction_max_moment\":\"北西\"\t\"sunshine_duration\":\"0\"\t\"snowfall\":\"\"\t\"snowfall_max\":\"\"\t\"information_daytime\":\"時々雪後雨\"\t\"information_night\":\"一時雨\"\r\n"
     ]
    }
   ],
   "source": [
    "!head -n 3 sample_data/weather.ltsv"
   ]
  },
  {
   "cell_type": "markdown",
   "metadata": {
    "lc_cell_meme": {
     "current": "915486fc-152a-11e7-b31a-0242ac12000d",
     "next": "915488d2-152a-11e7-b31a-0242ac12000d",
     "previous": "9154851c-152a-11e7-b31a-0242ac12000d"
    }
   },
   "source": [
    "confファイルの設定では、mutate filterを使って入力をタブで分割したあとに、その内容をパースします。  \n",
    "ファイル名は\"ltsv.conf\"とします。"
   ]
  },
  {
   "cell_type": "markdown",
   "metadata": {
    "lc_cell_meme": {
     "current": "915488d2-152a-11e7-b31a-0242ac12000d",
     "history": [
      {
       "current": "915488d2-152a-11e7-b31a-0242ac12000d",
       "next": "91548a9e-152a-11e7-b31a-0242ac12000d",
       "previous": "915486fc-152a-11e7-b31a-0242ac12000d"
      }
     ],
     "next": "37396fd8-4753-11e7-a57b-02420aff0008",
     "previous": "915486fc-152a-11e7-b31a-0242ac12000d"
    }
   },
   "source": [
    "```ruby:ltsv.conf\n",
    "input{\n",
    "  stdin{}\n",
    "}\n",
    "filter{\n",
    "  mutate{\n",
    "    split => {\"message\" => \"    \"}\n",
    "  }\n",
    "  grok{\n",
    "    match => {\n",
    "      \"message\" => \"\\\"timestamp\\\":\\\"%{DATA:timestamp}\\\"\"\n",
    "    }\n",
    "  }\n",
    "  grok{\n",
    "    match => {\n",
    "      \"message\" => \"\\\"atmospheric_pressure\\\":\\\"%{DATA:atmospheric_pressure}\\\"\"\n",
    "    }\n",
    "  }\n",
    "  grok{\n",
    "    match => {\n",
    "      \"message\" => \"\\\"sea_level_pressure\\\":\\\"%{DATA:sea_level_pressure}\\\"\"\n",
    "    }\n",
    "  }\n",
    "  grok{\n",
    "    match => {\n",
    "      \"message\" => \"\\\"precipitation_day\\\":\\\"%{DATA:precipitation_day}\\\"\"\n",
    "    }\n",
    "  }\n",
    "  grok{\n",
    "    match => {\n",
    "      \"message\" => \"\\\"precipitation_max_hour\\\":\\\"%{DATA:precipitation_max_hour}\\\"\"\n",
    "    }\n",
    "  }\n",
    "  grok{\n",
    "    match => {\n",
    "      \"message\" => \"\\\"precipitation_max_10min\\\":\\\"%{DATA:precipitation_max_10min}\\\"\"\n",
    "    }\n",
    "  }\n",
    "  grok{\n",
    "    match => {\n",
    "      \"message\" => \"\\\"temperature_avg\\\":\\\"%{DATA:temperature_avg}\\\"\"\n",
    "    }\n",
    "  }\n",
    "  grok{\n",
    "    match => {\n",
    "      \"message\" => \"\\\"temperature_max\\\":\\\"%{DATA:temperature_max}\\\"\"\n",
    "    }\n",
    "  }\n",
    "  grok{\n",
    "    match => {\n",
    "      \"message\" => \"\\\"temperature_min\\\":\\\"%{DATA:temperature_min}\\\"\"\n",
    "    }\n",
    "  }\n",
    "  grok{\n",
    "    match => {\n",
    "      \"message\" => \"\\\"humidity_avg\\\":\\\"%{DATA:humidity_avg}\\\"\"\n",
    "    }\n",
    "  }\n",
    "  grok{\n",
    "    match => {\n",
    "      \"message\" => \"\\\"humidity_min\\\":\\\"%{DATA:humidity_min}\\\"\"\n",
    "    }\n",
    "  }\n",
    "  grok{\n",
    "    match => {\n",
    "      \"message\" => \"\\\"wind_speed_avg\\\":\\\"%{DATA:wind_speed_avg}\\\"\"\n",
    "    }\n",
    "  }\n",
    "  grok{\n",
    "    match => {\n",
    "      \"message\" => \"\\\"wind_speed_max\\\":\\\"%{DATA:wind_speed_max}\\\"\"\n",
    "    }\n",
    "  }\n",
    "  grok{\n",
    "    match => {\n",
    "      \"message\" => \"\\\"wind_direction\\\":\\\"%{DATA:wind_direction}\\\"\"\n",
    "    }\n",
    "  }\n",
    "  grok{\n",
    "    match => {\n",
    "      \"message\" => \"\\\"wind_direction_max_moment\\\":\\\"%{DATA:wind_direction_max_moment}\\\"\"\n",
    "    }\n",
    "  }\n",
    "  grok{\n",
    "    match => {\n",
    "      \"message\" => \"\\\"sunshine_duration\\\":\\\"%{DATA:sunshine_duration}\\\"\"\n",
    "    }\n",
    "  }\n",
    "  grok{\n",
    "    match => {\n",
    "      \"message\" => \"\\\"snowfall\\\":\\\"%{DATA:snowfall}\\\"\"\n",
    "    }\n",
    "  }\n",
    "  grok{\n",
    "    match => {\n",
    "      \"message\" => \"\\\"snowfall_max\\\":\\\"%{DATA:snowfall_max}\\\"\"\n",
    "    }\n",
    "  }\n",
    "  grok{\n",
    "    match => {\n",
    "      \"message\" => \"\\\"information_daytime\\\":\\\"%{DATA:information_daytime}\\\"\"\n",
    "    }\n",
    "  }\n",
    "  grok{\n",
    "    match => {\n",
    "      \"message\" => \"\\\"information_night\\\":\\\"%{DATA:information_night}\\\"\"\n",
    "    }\n",
    "  }\n",
    "  date{\n",
    "    match => [\"timestamp\",\"ISO8601\"]\n",
    "    timezone => \"UTC\"\n",
    "    remove_field => [\"timestamp\",\"message\"]\n",
    "  }\n",
    "}\n",
    "output{\n",
    "  elasticsearch{\n",
    "    hosts => \"XXX.XXX.XXX.232\"\n",
    "    index => \"sample_index\"\n",
    "    document_type => \"sample_ltsv\"\n",
    "  }\n",
    "}\n",
    "```"
   ]
  },
  {
   "cell_type": "code",
   "execution_count": 16,
   "metadata": {
    "lc_cell_meme": {
     "current": "37396fd8-4753-11e7-a57b-02420aff0008",
     "next": "91548a9e-152a-11e7-b31a-0242ac12000d",
     "previous": "915488d2-152a-11e7-b31a-0242ac12000d"
    },
    "scrolled": true
   },
   "outputs": [
    {
     "name": "stdout",
     "output_type": "stream",
     "text": [
      "\u001b[0;32m10.24.128.93 | SUCCESS => {\u001b[0m\n",
      "\u001b[0;32m    \"changed\": false, \u001b[0m\n",
      "\u001b[0;32m    \"gid\": 1000, \u001b[0m\n",
      "\u001b[0;32m    \"group\": \"centos\", \u001b[0m\n",
      "\u001b[0;32m    \"mode\": \"0775\", \u001b[0m\n",
      "\u001b[0;32m    \"owner\": \"centos\", \u001b[0m\n",
      "\u001b[0;32m    \"path\": \"/home/centos/sample_data\", \u001b[0m\n",
      "\u001b[0;32m    \"secontext\": \"unconfined_u:object_r:user_home_t:s0\", \u001b[0m\n",
      "\u001b[0;32m    \"size\": 72, \u001b[0m\n",
      "\u001b[0;32m    \"state\": \"directory\", \u001b[0m\n",
      "\u001b[0;32m    \"uid\": 1000\u001b[0m\n",
      "\u001b[0;32m}\u001b[0m\n",
      "\u001b[0;32m10.24.128.93 | SUCCESS => {\u001b[0m\n",
      "\u001b[0;32m    \"changed\": false, \u001b[0m\n",
      "\u001b[0;32m    \"gid\": 1000, \u001b[0m\n",
      "\u001b[0;32m    \"group\": \"centos\", \u001b[0m\n",
      "\u001b[0;32m    \"mode\": \"0775\", \u001b[0m\n",
      "\u001b[0;32m    \"owner\": \"centos\", \u001b[0m\n",
      "\u001b[0;32m    \"path\": \"/home/centos/sample_conf\", \u001b[0m\n",
      "\u001b[0;32m    \"secontext\": \"unconfined_u:object_r:user_home_t:s0\", \u001b[0m\n",
      "\u001b[0;32m    \"size\": 63, \u001b[0m\n",
      "\u001b[0;32m    \"state\": \"directory\", \u001b[0m\n",
      "\u001b[0;32m    \"uid\": 1000\u001b[0m\n",
      "\u001b[0;32m}\u001b[0m\n",
      "\u001b[0;33m10.24.128.93 | SUCCESS => {\u001b[0m\n",
      "\u001b[0;33m    \"changed\": true, \u001b[0m\n",
      "\u001b[0;33m    \"checksum\": \"c93efa572d2e1a05cf453c051587d8893247b5b7\", \u001b[0m\n",
      "\u001b[0;33m    \"dest\": \"/home/centos/sample_data/weather.ltsv\", \u001b[0m\n",
      "\u001b[0;33m    \"gid\": 1000, \u001b[0m\n",
      "\u001b[0;33m    \"group\": \"centos\", \u001b[0m\n",
      "\u001b[0;33m    \"md5sum\": \"dab98693b329f1917542f85d475c36af\", \u001b[0m\n",
      "\u001b[0;33m    \"mode\": \"0664\", \u001b[0m\n",
      "\u001b[0;33m    \"owner\": \"centos\", \u001b[0m\n",
      "\u001b[0;33m    \"secontext\": \"unconfined_u:object_r:user_home_t:s0\", \u001b[0m\n",
      "\u001b[0;33m    \"size\": 2621, \u001b[0m\n",
      "\u001b[0;33m    \"src\": \"/home/centos/.ansible/tmp/ansible-tmp-1496909125.26-57685765043867/source\", \u001b[0m\n",
      "\u001b[0;33m    \"state\": \"file\", \u001b[0m\n",
      "\u001b[0;33m    \"uid\": 1000\u001b[0m\n",
      "\u001b[0;33m}\u001b[0m\n",
      "\u001b[0;33m10.24.128.93 | SUCCESS => {\u001b[0m\n",
      "\u001b[0;33m    \"changed\": true, \u001b[0m\n",
      "\u001b[0;33m    \"checksum\": \"706acec8a1fe0fd6b191212a552306af55211016\", \u001b[0m\n",
      "\u001b[0;33m    \"dest\": \"/home/centos/sample_conf/ltsv.conf\", \u001b[0m\n",
      "\u001b[0;33m    \"gid\": 1000, \u001b[0m\n",
      "\u001b[0;33m    \"group\": \"centos\", \u001b[0m\n",
      "\u001b[0;33m    \"md5sum\": \"9fc239a9c33653045a0b59a06e062bb5\", \u001b[0m\n",
      "\u001b[0;33m    \"mode\": \"0664\", \u001b[0m\n",
      "\u001b[0;33m    \"owner\": \"centos\", \u001b[0m\n",
      "\u001b[0;33m    \"secontext\": \"unconfined_u:object_r:user_home_t:s0\", \u001b[0m\n",
      "\u001b[0;33m    \"size\": 2393, \u001b[0m\n",
      "\u001b[0;33m    \"src\": \"/home/centos/.ansible/tmp/ansible-tmp-1496909126.98-238900554001356/source\", \u001b[0m\n",
      "\u001b[0;33m    \"state\": \"file\", \u001b[0m\n",
      "\u001b[0;33m    \"uid\": 1000\u001b[0m\n",
      "\u001b[0;33m}\u001b[0m\n"
     ]
    }
   ],
   "source": [
    "!ansible logstash-server -i ./hosts -m file -a \"path=~/sample_data state=directory\" -u $USER --private-key=$KEYPATH\n",
    "!ansible logstash-server -i ./hosts -m file -a \"path=~/sample_conf state=directory\" -u $USER --private-key=$KEYPATH\n",
    "!ansible logstash-server -i ./hosts -m copy -a \"src=sample_data/weather.csv dest=~/sample_data/weather.ltsv\" -u $USER --private-key=$KEYPATH\n",
    "!ansible logstash-server -i ./hosts -m copy -a \"src=logstash_conf/ltsv.conf dest=~/sample_conf/ltsv.conf\" -u $USER --private-key=$KEYPATH"
   ]
  },
  {
   "cell_type": "markdown",
   "metadata": {
    "lc_cell_meme": {
     "current": "91548a9e-152a-11e7-b31a-0242ac12000d",
     "history": [
      {
       "current": "91548a9e-152a-11e7-b31a-0242ac12000d",
       "next": "91548c74-152a-11e7-b31a-0242ac12000d",
       "previous": "915488d2-152a-11e7-b31a-0242ac12000d"
      }
     ],
     "next": "91548c74-152a-11e7-b31a-0242ac12000d",
     "previous": "37396fd8-4753-11e7-a57b-02420aff0008"
    }
   },
   "source": [
    "実際のデータ登録は次のコマンドで実行します。"
   ]
  },
  {
   "cell_type": "code",
   "execution_count": 17,
   "metadata": {
    "lc_cell_meme": {
     "current": "91548c74-152a-11e7-b31a-0242ac12000d",
     "next": "91548e54-152a-11e7-b31a-0242ac12000d",
     "previous": "91548a9e-152a-11e7-b31a-0242ac12000d"
    }
   },
   "outputs": [
    {
     "name": "stdout",
     "output_type": "stream",
     "text": [
      "\u001b[0;32m10.24.128.93 | SUCCESS | rc=0 >>\u001b[0m\r\n",
      "\u001b[0;32mSending Logstash logs to /var/log/logstash which is now configured via log4j2.properties.\u001b[0m\r\n",
      "\u001b[0;32m\u001b[0m\r\n"
     ]
    }
   ],
   "source": [
    "!ansible logstash-server -i ./hosts -m shell -a \"cat ~/sample_data/weather.ltsv | sudo /usr/share/logstash/bin/logstash --path.settings /etc/logstash -f ~/sample_conf/ltsv.conf\" -u $USER --private-key=$KEYPATH"
   ]
  },
  {
   "cell_type": "markdown",
   "metadata": {
    "lc_cell_meme": {
     "current": "91548e54-152a-11e7-b31a-0242ac12000d",
     "next": "9154902a-152a-11e7-b31a-0242ac12000d",
     "previous": "91548c74-152a-11e7-b31a-0242ac12000d"
    }
   },
   "source": [
    "コマンドの実行に成功したら、次の検索APIで正しく登録されているか確認してください。  \n",
    "正しく登録されていれば、json形式で登録されたデータが出力されます。"
   ]
  },
  {
   "cell_type": "code",
   "execution_count": 18,
   "metadata": {
    "lc_cell_meme": {
     "current": "9154902a-152a-11e7-b31a-0242ac12000d",
     "next": "915491f6-152a-11e7-b31a-0242ac12000d",
     "previous": "91548e54-152a-11e7-b31a-0242ac12000d"
    },
    "scrolled": true
   },
   "outputs": [
    {
     "name": "stdout",
     "output_type": "stream",
     "text": [
      "{\"took\":1,\"timed_out\":false,\"_shards\":{\"total\":1,\"successful\":1,\"failed\":0},\"hits\":{\"total\":121,\"max_score\":1.0,\"hits\":[{\"_index\":\"sample_index\",\"_type\":\"sample_json\",\"_id\":\"AVyGu-TXdDy3gmLO23ZT\",\"_score\":1.0,\"_source\":{\"precipitation_max_10min\":\"0\",\"wind_speed_avg\":\"4.4\",\"snowfall\":\"\",\"precipitation_max_hour\":\"0\",\"temperature_max\":\"8.2\",\"wind_direction\":\"西\",\"information_daytime\":\"時々晴一時雪\",\"precipitation_day\":\"0\",\"@timestamp\":\"2017-06-08T08:04:39.318Z\",\"humidity_avg\":\"41\",\"humidity_min\":\"30\",\"wind_speed_max\":\"9.4\",\"sunshine_duration\":\"1.3\",\"temperature_avg\":\"3.7\",\"temperature_min\":\"0.7\",\"@version\":\"1\",\"host\":\"0.0.0.0\",\"atmospheric_pressure\":\"1000.4\",\"wind_direction_max_moment\":\"北西\",\"wind_speed_max_moment\":\"18.7\",\"snowfall_max\":\"\",\"sea_level_pressure\":\"1003.4\",\"information_night\":\"晴\",\"timestamp\":\"1\"}},{\"_index\":\"sample_index\",\"_type\":\"sample_json\",\"_id\":\"AVyGu-TXdDy3gmLO23ZU\",\"_score\":1.0,\"_source\":{\"precipitation_max_10min\":\"\",\"wind_speed_avg\":\"2.1\",\"snowfall\":\"\",\"precipitation_max_hour\":\"\",\"temperature_max\":\"7.9\",\"wind_direction\":\"西\",\"information_daytime\":\"時々曇\",\"precipitation_day\":\"\",\"@timestamp\":\"2017-06-08T08:04:39.571Z\",\"humidity_avg\":\"41\",\"humidity_min\":\"19\",\"wind_speed_max\":\"4.2\",\"sunshine_duration\":\"6\",\"temperature_avg\":\"2.7\",\"temperature_min\":\"-2.2\",\"@version\":\"1\",\"host\":\"0.0.0.0\",\"atmospheric_pressure\":\"1007.4\",\"wind_direction_max_moment\":\"西\",\"wind_speed_max_moment\":\"7.8\",\"snowfall_max\":\"\",\"sea_level_pressure\":\"1010.4\",\"information_night\":\"一時曇\",\"timestamp\":\"2\"}},{\"_index\":\"sample_index\",\"_type\":\"sample_json\",\"_id\":\"AVyGu-TXdDy3gmLO23ZV\",\"_score\":1.0,\"_source\":{\"precipitation_max_10min\":\"\",\"wind_speed_avg\":\"3\",\"snowfall\":\"\",\"precipitation_max_hour\":\"\",\"temperature_max\":\"8.9\",\"wind_direction\":\"北西\",\"information_daytime\":\"晴\",\"precipitation_day\":\"\",\"@timestamp\":\"2017-06-08T08:04:39.571Z\",\"humidity_avg\":\"42\",\"humidity_min\":\"19\",\"wind_speed_max\":\"7.4\",\"sunshine_duration\":\"8.9\",\"temperature_avg\":\"3.8\",\"temperature_min\":\"-1.1\",\"@version\":\"1\",\"host\":\"0.0.0.0\",\"atmospheric_pressure\":\"1012\",\"wind_direction_max_moment\":\"北西\",\"wind_speed_max_moment\":\"10.9\",\"snowfall_max\":\"\",\"sea_level_pressure\":\"1015.1\",\"information_night\":\"後薄曇\",\"timestamp\":\"3\"}},{\"_index\":\"sample_index\",\"_type\":\"sample_json\",\"_id\":\"AVyGu-TXdDy3gmLO23ZW\",\"_score\":1.0,\"_source\":{\"precipitation_max_10min\":\"\",\"wind_speed_avg\":\"1.3\",\"snowfall\":\"\",\"precipitation_max_hour\":\"\",\"temperature_max\":\"9.3\",\"wind_direction\":\"北西\",\"information_daytime\":\"後晴\",\"precipitation_day\":\"\",\"@timestamp\":\"2017-06-08T08:04:39.572Z\",\"humidity_avg\":\"51\",\"humidity_min\":\"33\",\"wind_speed_max\":\"2.8\",\"sunshine_duration\":\"6\",\"temperature_avg\":\"4\",\"temperature_min\":\"-0.4\",\"@version\":\"1\",\"host\":\"0.0.0.0\",\"atmospheric_pressure\":\"1010.4\",\"wind_direction_max_moment\":\"北東\",\"wind_speed_max_moment\":\"3.8\",\"snowfall_max\":\"\",\"sea_level_pressure\":\"1013.4\",\"information_night\":\"晴\",\"timestamp\":\"4\"}},{\"_index\":\"sample_index\",\"_type\":\"sample_json\",\"_id\":\"AVyGu-TXdDy3gmLO23ZX\",\"_score\":1.0,\"_source\":{\"precipitation_max_10min\":\"\",\"wind_speed_avg\":\"2.4\",\"snowfall\":\"\",\"precipitation_max_hour\":\"\",\"temperature_max\":\"12.9\",\"wind_direction\":\"北西\",\"information_daytime\":\"晴\",\"precipitation_day\":\"\",\"@timestamp\":\"2017-06-08T08:04:39.573Z\",\"humidity_avg\":\"56\",\"humidity_min\":\"29\",\"wind_speed_max\":\"5\",\"sunshine_duration\":\"8.9\",\"temperature_avg\":\"6.9\",\"temperature_min\":\"1.3\",\"@version\":\"1\",\"host\":\"0.0.0.0\",\"atmospheric_pressure\":\"1014.6\",\"wind_direction_max_moment\":\"北西\",\"wind_speed_max_moment\":\"9.1\",\"snowfall_max\":\"\",\"sea_level_pressure\":\"1017.5\",\"information_night\":\"一時晴\",\"timestamp\":\"5\"}},{\"_index\":\"sample_index\",\"_type\":\"sample_json\",\"_id\":\"AVyGu-TXdDy3gmLO23ZY\",\"_score\":1.0,\"_source\":{\"precipitation_max_10min\":\"1.5\",\"wind_speed_avg\":\"5.2\",\"snowfall\":\"\",\"precipitation_max_hour\":\"5\",\"temperature_max\":\"16\",\"wind_direction\":\"南西\",\"information_daytime\":\"後時々雨\",\"precipitation_day\":\"6.5\",\"@timestamp\":\"2017-06-08T08:04:39.574Z\",\"humidity_avg\":\"64\",\"humidity_min\":\"40\",\"wind_speed_max\":\"8.9\",\"sunshine_duration\":\"0.2\",\"temperature_avg\":\"10.8\",\"temperature_min\":\"5.8\",\"@version\":\"1\",\"host\":\"0.0.0.0\",\"atmospheric_pressure\":\"1000.6\",\"wind_direction_max_moment\":\"\",\"wind_speed_max_moment\":\"19.3\",\"snowfall_max\":\"\",\"sea_level_pressure\":\"1003.5\",\"information_night\":\"時々晴\",\"timestamp\":\"6\"}},{\"_index\":\"sample_index\",\"_type\":\"sample_json\",\"_id\":\"AVyGu-TXdDy3gmLO23ZZ\",\"_score\":1.0,\"_source\":{\"precipitation_max_10min\":\"\",\"wind_speed_avg\":\"4.2\",\"snowfall\":\"\",\"precipitation_max_hour\":\"\",\"temperature_max\":\"10.2\",\"wind_direction\":\"北西\",\"information_daytime\":\"時々曇\",\"precipitation_day\":\"\",\"@timestamp\":\"2017-06-08T08:04:39.576Z\",\"humidity_avg\":\"35\",\"humidity_min\":\"23\",\"wind_speed_max\":\"7\",\"sunshine_duration\":\"3.3\",\"temperature_avg\":\"5.6\",\"temperature_min\":\"3\",\"@version\":\"1\",\"host\":\"0.0.0.0\",\"atmospheric_pressure\":\"1000.5\",\"wind_direction_max_moment\":\"北西\",\"wind_speed_max_moment\":\"16.1\",\"snowfall_max\":\"\",\"sea_level_pressure\":\"1003.4\",\"information_night\":\"晴\",\"timestamp\":\"7\"}},{\"_index\":\"sample_index\",\"_type\":\"sample_json\",\"_id\":\"AVyGu-TXdDy3gmLO23Za\",\"_score\":1.0,\"_source\":{\"precipitation_max_10min\":\"\",\"wind_speed_avg\":\"4.4\",\"snowfall\":\"\",\"precipitation_max_hour\":\"\",\"temperature_max\":\"11.2\",\"wind_direction\":\"西\",\"information_daytime\":\"晴\",\"precipitation_day\":\"\",\"@timestamp\":\"2017-06-08T08:04:39.577Z\",\"humidity_avg\":\"33\",\"humidity_min\":\"20\",\"wind_speed_max\":\"8.4\",\"sunshine_duration\":\"8.9\",\"temperature_avg\":\"6.2\",\"temperature_min\":\"2\",\"@version\":\"1\",\"host\":\"0.0.0.0\",\"atmospheric_pressure\":\"1006.2\",\"wind_direction_max_moment\":\"北西\",\"wind_speed_max_moment\":\"13.6\",\"snowfall_max\":\"\",\"sea_level_pressure\":\"1009.2\",\"information_night\":\"晴\",\"timestamp\":\"8\"}},{\"_index\":\"sample_index\",\"_type\":\"sample_json\",\"_id\":\"AVyGu-TXdDy3gmLO23Zb\",\"_score\":1.0,\"_source\":{\"precipitation_max_10min\":\"\",\"wind_speed_avg\":\"4.1\",\"snowfall\":\"\",\"precipitation_max_hour\":\"\",\"temperature_max\":\"11\",\"wind_direction\":\"西\",\"information_daytime\":\"晴\",\"precipitation_day\":\"\",\"@timestamp\":\"2017-06-08T08:04:39.577Z\",\"humidity_avg\":\"31\",\"humidity_min\":\"21\",\"wind_speed_max\":\"8.1\",\"sunshine_duration\":\"8.9\",\"temperature_avg\":\"6.7\",\"temperature_min\":\"3.5\",\"@version\":\"1\",\"host\":\"0.0.0.0\",\"atmospheric_pressure\":\"1008.2\",\"wind_direction_max_moment\":\"西\",\"wind_speed_max_moment\":\"14.4\",\"snowfall_max\":\"\",\"sea_level_pressure\":\"1011.2\",\"information_night\":\"晴\",\"timestamp\":\"9\"}},{\"_index\":\"sample_index\",\"_type\":\"sample_json\",\"_id\":\"AVyGu-TXdDy3gmLO23Zc\",\"_score\":1.0,\"_source\":{\"precipitation_max_10min\":\"\",\"wind_speed_avg\":\"3.5\",\"snowfall\":\"\",\"precipitation_max_hour\":\"\",\"temperature_max\":\"11.2\",\"wind_direction\":\"西\",\"information_daytime\":\"晴\",\"precipitation_day\":\"\",\"@timestamp\":\"2017-06-08T08:04:39.580Z\",\"humidity_avg\":\"31\",\"humidity_min\":\"16\",\"wind_speed_max\":\"8.8\",\"sunshine_duration\":\"9.1\",\"temperature_avg\":\"6.3\",\"temperature_min\":\"1.9\",\"@version\":\"1\",\"host\":\"0.0.0.0\",\"atmospheric_pressure\":\"1008.8\",\"wind_direction_max_moment\":\"西\",\"wind_speed_max_moment\":\"17.7\",\"snowfall_max\":\"\",\"sea_level_pressure\":\"1011.8\",\"information_night\":\"晴\",\"timestamp\":\"10\"}}]}}"
     ]
    },
    {
     "name": "stderr",
     "output_type": "stream",
     "text": [
      "  % Total    % Received % Xferd  Average Speed   Time    Time     Time  Current\n",
      "                                 Dload  Upload   Total   Spent    Left  Speed\n",
      "\r",
      "  0     0    0     0    0     0      0      0 --:--:-- --:--:-- --:--:--     0\r",
      "100  7111  100  7111    0     0  1644k      0 --:--:-- --:--:-- --:--:-- 1736k\n"
     ]
    }
   ],
   "source": [
    "%%bash\n",
    "curl -XGET \"http://$ES_HOST/$INDEX/_search\""
   ]
  },
  {
   "cell_type": "markdown",
   "metadata": {
    "lc_cell_meme": {
     "current": "915491f6-152a-11e7-b31a-0242ac12000d",
     "next": "915493c2-152a-11e7-b31a-0242ac12000d",
     "previous": "9154902a-152a-11e7-b31a-0242ac12000d"
    }
   },
   "source": [
    "### 任意のテキスト(1行完結)"
   ]
  },
  {
   "cell_type": "markdown",
   "metadata": {
    "lc_cell_meme": {
     "current": "915493c2-152a-11e7-b31a-0242ac12000d",
     "next": "9154958e-152a-11e7-b31a-0242ac12000d",
     "previous": "915491f6-152a-11e7-b31a-0242ac12000d"
    }
   },
   "source": [
    "ここまでの説明のように、JSONやCSVなどの定型のデータであれば設定は簡単ですが、実際に読み込みたいデータはそのように形式がそろっていないことも多くあります。\n",
    "\n",
    "次のサンプルデータのように、「名前=値」という形式がスペース区切りで1行に並んでいるようなデータを登録することを考えます。"
   ]
  },
  {
   "cell_type": "code",
   "execution_count": 19,
   "metadata": {
    "lc_cell_meme": {
     "current": "9154958e-152a-11e7-b31a-0242ac12000d",
     "next": "91549796-152a-11e7-b31a-0242ac12000d",
     "previous": "915493c2-152a-11e7-b31a-0242ac12000d"
    }
   },
   "outputs": [
    {
     "name": "stdout",
     "output_type": "stream",
     "text": [
      "timestamp=2015-01-01T00:00:00 location=tokyo atmospheric_pressure=1000.4 sea_level_pressure=1003.4 precipitation_day=0 precipitation_max_hour=0 precipitation_max_10min=0 temperature_avg=3.7 temperature_max=8.2 temperature_min=0.7 humidity_avg=41.0 humidity_min=30.0 wind_speed_avg=4.4 wind_speed_max=9.4 wind_direction=西 wind_speed_max_moment=18.7 wind_direction_max_moment=北西 sunshine_duration=1.3 information_daytime=時々晴一時雪 information_night=晴"
     ]
    }
   ],
   "source": [
    "!head sample_data/single_line.txt"
   ]
  },
  {
   "cell_type": "markdown",
   "metadata": {
    "lc_cell_meme": {
     "current": "91549796-152a-11e7-b31a-0242ac12000d",
     "next": "91549962-152a-11e7-b31a-0242ac12000d",
     "previous": "9154958e-152a-11e7-b31a-0242ac12000d"
    }
   },
   "source": [
    "この形式のデータを読み込むためのconfファイルは、次のような内容になります。  \n",
    "ファイル名は\"single_line.conf\"とします。"
   ]
  },
  {
   "cell_type": "markdown",
   "metadata": {
    "lc_cell_meme": {
     "current": "91549962-152a-11e7-b31a-0242ac12000d",
     "next": "91549b2e-152a-11e7-b31a-0242ac12000d",
     "previous": "91549796-152a-11e7-b31a-0242ac12000d"
    }
   },
   "source": [
    "```ruby:single_line.conf\n",
    "input{\n",
    "  stdin{}\n",
    "}\n",
    "\n",
    "filter{\n",
    "  grok{\n",
    "    match => {\"message\" => \"timestamp=%{TIMESTAMP_ISO8601:timestamp}\"}\n",
    "  }\n",
    "  grok{\n",
    "    match => {\"message\" => \"location=%{WORD:location}\"}\n",
    "  }\n",
    "  grok{\n",
    "    match => {\"message\" => \"atmospheric_pressure=%{WORD:atmospheric_pressure}\"}\n",
    "  }\n",
    "  grok{\n",
    "    match => {\"message\" => \"sea_level_pressure=%{WORD:sea_level_pressure}\"}\n",
    "  }\n",
    "  grok{\n",
    "    match => {\"message\" => \"precipitation_day=%{WORD:precipitation_day}\"}\n",
    "  }\n",
    "  grok{\n",
    "    match => {\"message\" => \"precipitation_max_hour=%{WORD:precipitation_max_hour}\"}\n",
    "  }\n",
    "  grok{\n",
    "    match => {\"message\" => \"precipitation_max_10min=%{WORD:precipitation_max_10min}\"}\n",
    "  }\n",
    "  grok{\n",
    "    match => {\"message\" => \"temperature_avg=%{WORD:temperature_avg}\"}\n",
    "  }\n",
    "  grok{\n",
    "    match => {\"message\" => \"temperature_max=%{WORD:temperature_max}\"}\n",
    "  }\n",
    "  grok{\n",
    "    match => {\"message\" => \"temperature_min=%{WORD:temperature_min}\"}\n",
    "  }\n",
    "  grok{\n",
    "    match => {\"message\" => \"humidity_avg=%{WORD:humidity_avg}\"}\n",
    "  }\n",
    "  grok{\n",
    "    match => {\"message\" => \"humidity_min=%{WORD:humidity_min}\"}\n",
    "  }\n",
    "  grok{\n",
    "    match => {\"message\" => \"wind_speed_avg=%{WORD:wind_speed_avg}\"}\n",
    "  }\n",
    "  grok{\n",
    "    match => {\"message\" => \"wind_speed_max=%{WORD:wind_speed_max}\"}\n",
    "  }\n",
    "  grok{\n",
    "    match => {\"message\" => \"wind_direction=%{WORD:wind_direction}\"}\n",
    "  }\n",
    "  grok{\n",
    "    match => {\"message\" => \"wind_speed_max_moment=%{WORD:wind_speed_max_moment}\"}\n",
    "  }\n",
    "  grok{\n",
    "    match => {\"message\" => \"wind_direction_max_moment=%{WORD:wind_direction_max_moment}\"}\n",
    "  }\n",
    "  grok{\n",
    "    match => {\"message\" => \"sunshine_duration=%{WORD:sunshine_duration}\"}\n",
    "  }\n",
    "  grok{\n",
    "    match => {\"message\" => \"snowfall=%{WORD:snowfall}\"}\n",
    "  }\n",
    "  grok{\n",
    "    match => {\"message\" => \"snowfall_max=%{WORD:snowfall_max}\"}\n",
    "  }\n",
    "  grok{\n",
    "    match => {\"message\" => \"information_daytime=%{WORD:information_daytime}\"}\n",
    "  }\n",
    "  grok{\n",
    "    match => {\"message\" => \"information_night=%{WORD:information_night}\"}\n",
    "  }\n",
    "  date{\n",
    "    match => [\"timestamp\",\"ISO8601\"]\n",
    "    timezone => \"UTC\"\n",
    "    remove_field => \"timestamp\"\n",
    "  }\n",
    "}\n",
    "\n",
    "output{\n",
    "  elasticsearch{\n",
    "    hosts => <ES_HOST>\n",
    "    index => <INDEX>\n",
    "  }\n",
    "}\n",
    "```"
   ]
  },
  {
   "cell_type": "markdown",
   "metadata": {
    "lc_cell_meme": {
     "current": "91549b2e-152a-11e7-b31a-0242ac12000d",
     "next": "91549cfa-152a-11e7-b31a-0242ac12000d",
     "previous": "91549962-152a-11e7-b31a-0242ac12000d"
    }
   },
   "source": [
    "この設定では、2種類の加工処理を行っています。  \n",
    "入力の特定部分をパースするための「grok filter」と  \n",
    "文字列をタイムスタンプとして認識させるための「date filter」を用いています。  \n",
    "加工処理の詳細に関しては、Logstashの[公式ページ](https://www.elastic.co/guide/en/logstash/current/filter-plugins.html)を参照してください。"
   ]
  },
  {
   "cell_type": "markdown",
   "metadata": {
    "lc_cell_meme": {
     "current": "91549cfa-152a-11e7-b31a-0242ac12000d",
     "history": [
      {
       "current": "91549cfa-152a-11e7-b31a-0242ac12000d",
       "next": "91549ed0-152a-11e7-b31a-0242ac12000d",
       "previous": "91549b2e-152a-11e7-b31a-0242ac12000d"
      }
     ],
     "next": "7ec18b9c-4753-11e7-a57b-02420aff0008",
     "previous": "91549b2e-152a-11e7-b31a-0242ac12000d"
    }
   },
   "source": [
    "実際のデータ登録は次のコマンドで実行します。"
   ]
  },
  {
   "cell_type": "code",
   "execution_count": 20,
   "metadata": {
    "lc_cell_meme": {
     "current": "7ec18b9c-4753-11e7-a57b-02420aff0008",
     "next": "91549ed0-152a-11e7-b31a-0242ac12000d",
     "previous": "91549cfa-152a-11e7-b31a-0242ac12000d"
    }
   },
   "outputs": [
    {
     "name": "stdout",
     "output_type": "stream",
     "text": [
      "\u001b[0;32m10.24.128.93 | SUCCESS => {\u001b[0m\n",
      "\u001b[0;32m    \"changed\": false, \u001b[0m\n",
      "\u001b[0;32m    \"gid\": 1000, \u001b[0m\n",
      "\u001b[0;32m    \"group\": \"centos\", \u001b[0m\n",
      "\u001b[0;32m    \"mode\": \"0775\", \u001b[0m\n",
      "\u001b[0;32m    \"owner\": \"centos\", \u001b[0m\n",
      "\u001b[0;32m    \"path\": \"/home/centos/sample_data\", \u001b[0m\n",
      "\u001b[0;32m    \"secontext\": \"unconfined_u:object_r:user_home_t:s0\", \u001b[0m\n",
      "\u001b[0;32m    \"size\": 91, \u001b[0m\n",
      "\u001b[0;32m    \"state\": \"directory\", \u001b[0m\n",
      "\u001b[0;32m    \"uid\": 1000\u001b[0m\n",
      "\u001b[0;32m}\u001b[0m\n",
      "\u001b[0;32m10.24.128.93 | SUCCESS => {\u001b[0m\n",
      "\u001b[0;32m    \"changed\": false, \u001b[0m\n",
      "\u001b[0;32m    \"gid\": 1000, \u001b[0m\n",
      "\u001b[0;32m    \"group\": \"centos\", \u001b[0m\n",
      "\u001b[0;32m    \"mode\": \"0775\", \u001b[0m\n",
      "\u001b[0;32m    \"owner\": \"centos\", \u001b[0m\n",
      "\u001b[0;32m    \"path\": \"/home/centos/sample_conf\", \u001b[0m\n",
      "\u001b[0;32m    \"secontext\": \"unconfined_u:object_r:user_home_t:s0\", \u001b[0m\n",
      "\u001b[0;32m    \"size\": 79, \u001b[0m\n",
      "\u001b[0;32m    \"state\": \"directory\", \u001b[0m\n",
      "\u001b[0;32m    \"uid\": 1000\u001b[0m\n",
      "\u001b[0;32m}\u001b[0m\n",
      "\u001b[0;33m10.24.128.93 | SUCCESS => {\u001b[0m\n",
      "\u001b[0;33m    \"changed\": true, \u001b[0m\n",
      "\u001b[0;33m    \"checksum\": \"fc112afd578cbfd46b09fc8edfe86bdb7b30cbb5\", \u001b[0m\n",
      "\u001b[0;33m    \"dest\": \"/home/centos/sample_data/single_line.txt\", \u001b[0m\n",
      "\u001b[0;33m    \"gid\": 1000, \u001b[0m\n",
      "\u001b[0;33m    \"group\": \"centos\", \u001b[0m\n",
      "\u001b[0;33m    \"md5sum\": \"924dc6d727a8767fd59b6203ddb83048\", \u001b[0m\n",
      "\u001b[0;33m    \"mode\": \"0664\", \u001b[0m\n",
      "\u001b[0;33m    \"owner\": \"centos\", \u001b[0m\n",
      "\u001b[0;33m    \"secontext\": \"unconfined_u:object_r:user_home_t:s0\", \u001b[0m\n",
      "\u001b[0;33m    \"size\": 465, \u001b[0m\n",
      "\u001b[0;33m    \"src\": \"/home/centos/.ansible/tmp/ansible-tmp-1496909144.31-176590610685079/source\", \u001b[0m\n",
      "\u001b[0;33m    \"state\": \"file\", \u001b[0m\n",
      "\u001b[0;33m    \"uid\": 1000\u001b[0m\n",
      "\u001b[0;33m}\u001b[0m\n",
      "\u001b[0;33m10.24.128.93 | SUCCESS => {\u001b[0m\n",
      "\u001b[0;33m    \"changed\": true, \u001b[0m\n",
      "\u001b[0;33m    \"checksum\": \"1f90bc175d952c3c320858cea96a7d21970c4a9a\", \u001b[0m\n",
      "\u001b[0;33m    \"dest\": \"/home/centos/sample_conf/single_line.conf\", \u001b[0m\n",
      "\u001b[0;33m    \"gid\": 1000, \u001b[0m\n",
      "\u001b[0;33m    \"group\": \"centos\", \u001b[0m\n",
      "\u001b[0;33m    \"md5sum\": \"c45b37bda1b96658ad82ef9f1f277693\", \u001b[0m\n",
      "\u001b[0;33m    \"mode\": \"0664\", \u001b[0m\n",
      "\u001b[0;33m    \"owner\": \"centos\", \u001b[0m\n",
      "\u001b[0;33m    \"secontext\": \"unconfined_u:object_r:user_home_t:s0\", \u001b[0m\n",
      "\u001b[0;33m    \"size\": 2116, \u001b[0m\n",
      "\u001b[0;33m    \"src\": \"/home/centos/.ansible/tmp/ansible-tmp-1496909146.03-256734785081050/source\", \u001b[0m\n",
      "\u001b[0;33m    \"state\": \"file\", \u001b[0m\n",
      "\u001b[0;33m    \"uid\": 1000\u001b[0m\n",
      "\u001b[0;33m}\u001b[0m\n"
     ]
    }
   ],
   "source": [
    "!ansible logstash-server -i ./hosts -m file -a \"path=~/sample_data state=directory\" -u $USER --private-key=$KEYPATH\n",
    "!ansible logstash-server -i ./hosts -m file -a \"path=~/sample_conf state=directory\" -u $USER --private-key=$KEYPATH\n",
    "!ansible logstash-server -i ./hosts -m copy -a \"src=sample_data/single_line.txt dest=~/sample_data/single_line.txt\" -u $USER --private-key=$KEYPATH\n",
    "!ansible logstash-server -i ./hosts -m copy -a \"src=logstash_conf/single_line.conf dest=~/sample_conf/single_line.conf\" -u $USER --private-key=$KEYPATH"
   ]
  },
  {
   "cell_type": "code",
   "execution_count": 21,
   "metadata": {
    "lc_cell_meme": {
     "current": "91549ed0-152a-11e7-b31a-0242ac12000d",
     "history": [
      {
       "current": "91549ed0-152a-11e7-b31a-0242ac12000d",
       "next": "9154a09c-152a-11e7-b31a-0242ac12000d",
       "previous": "91549cfa-152a-11e7-b31a-0242ac12000d"
      }
     ],
     "next": "9154a09c-152a-11e7-b31a-0242ac12000d",
     "previous": "7ec18b9c-4753-11e7-a57b-02420aff0008"
    }
   },
   "outputs": [
    {
     "name": "stdout",
     "output_type": "stream",
     "text": [
      "\u001b[0;32m10.24.128.93 | SUCCESS | rc=0 >>\u001b[0m\r\n",
      "\u001b[0;32mSending Logstash logs to /var/log/logstash which is now configured via log4j2.properties.\u001b[0m\r\n",
      "\u001b[0;32m\u001b[0m\r\n"
     ]
    }
   ],
   "source": [
    "!ansible logstash-server -i ./hosts -m shell -a \"cat ~/sample_data/single_line.txt | sudo /usr/share/logstash/bin/logstash --path.settings /etc/logstash -f ~/sample_conf/single_line.conf\" -u $USER --private-key=$KEYPATH"
   ]
  },
  {
   "cell_type": "markdown",
   "metadata": {
    "lc_cell_meme": {
     "current": "9154a09c-152a-11e7-b31a-0242ac12000d",
     "next": "9154a268-152a-11e7-b31a-0242ac12000d",
     "previous": "91549ed0-152a-11e7-b31a-0242ac12000d"
    }
   },
   "source": [
    "コマンドの実行に成功したら、次の検索APIで正しく登録されているか確認してください。  \n",
    "正しく登録されていれば、json形式で登録されたデータが出力されます。"
   ]
  },
  {
   "cell_type": "code",
   "execution_count": 22,
   "metadata": {
    "lc_cell_meme": {
     "current": "9154a268-152a-11e7-b31a-0242ac12000d",
     "next": "9154a434-152a-11e7-b31a-0242ac12000d",
     "previous": "9154a09c-152a-11e7-b31a-0242ac12000d"
    },
    "scrolled": true
   },
   "outputs": [
    {
     "name": "stdout",
     "output_type": "stream",
     "text": [
      "{\n",
      "  \"took\" : 1,\n",
      "  \"timed_out\" : false,\n",
      "  \"_shards\" : {\n",
      "    \"total\" : 1,\n",
      "    \"successful\" : 1,\n",
      "    \"failed\" : 0\n",
      "  },\n",
      "  \"hits\" : {\n",
      "    \"total\" : 0,\n",
      "    \"max_score\" : null,\n",
      "    \"hits\" : [ ]\n",
      "  }\n",
      "}\n"
     ]
    },
    {
     "name": "stderr",
     "output_type": "stream",
     "text": [
      "  % Total    % Received % Xferd  Average Speed   Time    Time     Time  Current\n",
      "                                 Dload  Upload   Total   Spent    Left  Speed\n",
      "\r",
      "  0     0    0     0    0     0      0      0 --:--:-- --:--:-- --:--:--     0\r",
      "100   193  100   193    0     0  53865      0 --:--:-- --:--:-- --:--:-- 64333\n"
     ]
    }
   ],
   "source": [
    "%%bash\n",
    "curl -XGET \"http://$ES_HOST/$INDEX/sample_single_line/_search?pretty\""
   ]
  },
  {
   "cell_type": "markdown",
   "metadata": {
    "lc_cell_meme": {
     "current": "9154a434-152a-11e7-b31a-0242ac12000d",
     "next": "9154a63c-152a-11e7-b31a-0242ac12000d",
     "previous": "9154a268-152a-11e7-b31a-0242ac12000d"
    }
   },
   "source": [
    "### 任意のテキスト(複数行完結)\n"
   ]
  },
  {
   "cell_type": "markdown",
   "metadata": {
    "lc_cell_meme": {
     "current": "9154a63c-152a-11e7-b31a-0242ac12000d",
     "next": "9154a808-152a-11e7-b31a-0242ac12000d",
     "previous": "9154a434-152a-11e7-b31a-0242ac12000d"
    }
   },
   "source": [
    "前の節の形式に加え、データが複数行にまたがっているような場合であっても、Logstashは対応が可能です。  \n",
    "次のサンプルのようなデータを登録してみましょう。"
   ]
  },
  {
   "cell_type": "code",
   "execution_count": 23,
   "metadata": {
    "lc_cell_meme": {
     "current": "9154a808-152a-11e7-b31a-0242ac12000d",
     "next": "9154a9d4-152a-11e7-b31a-0242ac12000d",
     "previous": "9154a63c-152a-11e7-b31a-0242ac12000d"
    }
   },
   "outputs": [
    {
     "name": "stdout",
     "output_type": "stream",
     "text": [
      "timestamp=2015-01-01T00:00:00 location=tokyo atmospheric_pressure=1000.4\r\n",
      "sea_level_pressure=1003.4 precipitation_day=0 precipitation_max_hour=0\r\n",
      "precipitation_max_10min=0 temperature_avg=3.7 temperature_max=8.2\r\n"
     ]
    }
   ],
   "source": [
    "!head -n 3 sample_data/multi_line.txt"
   ]
  },
  {
   "cell_type": "markdown",
   "metadata": {
    "lc_cell_meme": {
     "current": "9154a9d4-152a-11e7-b31a-0242ac12000d",
     "next": "9154aba0-152a-11e7-b31a-0242ac12000d",
     "previous": "9154a808-152a-11e7-b31a-0242ac12000d"
    }
   },
   "source": [
    "この形式のデータを読み込むためのconfファイルは、次のような内容になります。  \n",
    "ファイル名は\"multi_line.conf\"とします。"
   ]
  },
  {
   "cell_type": "markdown",
   "metadata": {
    "lc_cell_meme": {
     "current": "9154aba0-152a-11e7-b31a-0242ac12000d",
     "next": "9154ad80-152a-11e7-b31a-0242ac12000d",
     "previous": "9154a9d4-152a-11e7-b31a-0242ac12000d"
    }
   },
   "source": [
    "```ruby:multi_line.conf\n",
    "input{\n",
    "  stdin{\n",
    "    codec => multiline{\n",
    "        pattern => \"information_night\"\n",
    "        negate => \"true\"\n",
    "        what => \"next\"\n",
    "    }\n",
    "  }\n",
    "}\n",
    "\n",
    "filter{\n",
    "  grok{\n",
    "    match => {\"message\" => \"timestamp=%{TIMESTAMP_ISO8601:timestamp}\"}\n",
    "  }\n",
    "  grok{\n",
    "    match => {\"message\" => \"location=%{WORD:location}\"}\n",
    "  }\n",
    "  grok{\n",
    "    match => {\"message\" => \"atmospheric_pressure=%{WORD:atmospheric_pressure}\"}\n",
    "  }\n",
    "  grok{\n",
    "    match => {\"message\" => \"sea_level_pressure=%{WORD:sea_level_pressure}\"}\n",
    "  }\n",
    "  grok{\n",
    "    match => {\"message\" => \"precipitation_day=%{WORD:precipitation_day}\"}\n",
    "  }\n",
    "  grok{\n",
    "    match => {\"message\" => \"precipitation_max_hour=%{WORD:precipitation_max_hour}\"}\n",
    "  }\n",
    "  grok{\n",
    "    match => {\"message\" => \"precipitation_max_10min=%{WORD:precipitation_max_10min}\"}\n",
    "  }\n",
    "  grok{\n",
    "    match => {\"message\" => \"temperature_avg=%{WORD:temperature_avg}\"}\n",
    "  }\n",
    "  grok{\n",
    "    match => {\"message\" => \"temperature_max=%{WORD:temperature_max}\"}\n",
    "  }\n",
    "  grok{\n",
    "    match => {\"message\" => \"temperature_min=%{WORD:temperature_min}\"}\n",
    "  }\n",
    "  grok{\n",
    "    match => {\"message\" => \"humidity_avg=%{WORD:humidity_avg}\"}\n",
    "  }\n",
    "  grok{\n",
    "    match => {\"message\" => \"humidity_min=%{WORD:humidity_min}\"}\n",
    "  }\n",
    "  grok{\n",
    "    match => {\"message\" => \"wind_speed_avg=%{WORD:wind_speed_avg}\"}\n",
    "  }\n",
    "  grok{\n",
    "    match => {\"message\" => \"wind_speed_max=%{WORD:wind_speed_max}\"}\n",
    "  }\n",
    "  grok{\n",
    "    match => {\"message\" => \"wind_direction=%{WORD:wind_direction}\"}\n",
    "  }\n",
    "  grok{\n",
    "    match => {\"message\" => \"wind_speed_max_moment=%{WORD:wind_speed_max_moment}\"}\n",
    "  }\n",
    "  grok{\n",
    "    match => {\"message\" => \"wind_direction_max_moment=%{WORD:wind_direction_max_moment}\"}\n",
    "  }\n",
    "  grok{\n",
    "    match => {\"message\" => \"sunshine_duration=%{WORD:sunshine_duration}\"}\n",
    "  }\n",
    "  grok{\n",
    "    match => {\"message\" => \"snowfall=%{WORD:snowfall}\"}\n",
    "  }\n",
    "  grok{\n",
    "    match => {\"message\" => \"snowfall_max=%{WORD:snowfall_max}\"}\n",
    "  }\n",
    "  grok{\n",
    "    match => {\"message\" => \"information_daytime=%{WORD:information_daytime}\"}\n",
    "  }\n",
    "  grok{\n",
    "    match => {\"message\" => \"information_night=%{WORD:information_night}\"}\n",
    "  }\n",
    "  date{\n",
    "    match => [\"timestamp\",\"ISO8601\"]\n",
    "    timezone => \"UTC\"\n",
    "    remove_field => \"timestamp\"\n",
    "  }\n",
    "}\n",
    "\n",
    "output{\n",
    "  elasticsearch{\n",
    "    hosts => \"XXX.XXX.XXX.1:9200\"\n",
    "    index => \"sample_index\"\n",
    "  }\n",
    "}\n",
    "```"
   ]
  },
  {
   "cell_type": "markdown",
   "metadata": {
    "lc_cell_meme": {
     "current": "9154ad80-152a-11e7-b31a-0242ac12000d",
     "next": "9154af56-152a-11e7-b31a-0242ac12000d",
     "previous": "9154aba0-152a-11e7-b31a-0242ac12000d"
    }
   },
   "source": [
    "1行で完結するデータを読み込むときとの差分はcodecでmultilineの設定をしているところです。  \n",
    "Logstashでは通常、入力を１行単位で読み込んで処理します。  \n",
    "multilineの指定をすることで、複数行を一つのイベントとして連結して処理することができます。"
   ]
  },
  {
   "cell_type": "markdown",
   "metadata": {
    "lc_cell_meme": {
     "current": "9154af56-152a-11e7-b31a-0242ac12000d",
     "history": [
      {
       "current": "9154af56-152a-11e7-b31a-0242ac12000d",
       "next": "9154b122-152a-11e7-b31a-0242ac12000d",
       "previous": "9154ad80-152a-11e7-b31a-0242ac12000d"
      }
     ],
     "next": "c6514a1a-4753-11e7-a57b-02420aff0008",
     "previous": "9154ad80-152a-11e7-b31a-0242ac12000d"
    }
   },
   "source": [
    "実際のデータ登録は次のコマンドで実行します。"
   ]
  },
  {
   "cell_type": "code",
   "execution_count": 24,
   "metadata": {
    "lc_cell_meme": {
     "current": "c6514a1a-4753-11e7-a57b-02420aff0008",
     "next": "9154b122-152a-11e7-b31a-0242ac12000d",
     "previous": "9154af56-152a-11e7-b31a-0242ac12000d"
    },
    "scrolled": true
   },
   "outputs": [
    {
     "name": "stdout",
     "output_type": "stream",
     "text": [
      "\u001b[0;32m10.24.128.93 | SUCCESS => {\u001b[0m\n",
      "\u001b[0;32m    \"changed\": false, \u001b[0m\n",
      "\u001b[0;32m    \"gid\": 1000, \u001b[0m\n",
      "\u001b[0;32m    \"group\": \"centos\", \u001b[0m\n",
      "\u001b[0;32m    \"mode\": \"0775\", \u001b[0m\n",
      "\u001b[0;32m    \"owner\": \"centos\", \u001b[0m\n",
      "\u001b[0;32m    \"path\": \"/home/centos/sample_data\", \u001b[0m\n",
      "\u001b[0;32m    \"secontext\": \"unconfined_u:object_r:user_home_t:s0\", \u001b[0m\n",
      "\u001b[0;32m    \"size\": 4096, \u001b[0m\n",
      "\u001b[0;32m    \"state\": \"directory\", \u001b[0m\n",
      "\u001b[0;32m    \"uid\": 1000\u001b[0m\n",
      "\u001b[0;32m}\u001b[0m\n",
      "\u001b[0;32m10.24.128.93 | SUCCESS => {\u001b[0m\n",
      "\u001b[0;32m    \"changed\": false, \u001b[0m\n",
      "\u001b[0;32m    \"gid\": 1000, \u001b[0m\n",
      "\u001b[0;32m    \"group\": \"centos\", \u001b[0m\n",
      "\u001b[0;32m    \"mode\": \"0775\", \u001b[0m\n",
      "\u001b[0;32m    \"owner\": \"centos\", \u001b[0m\n",
      "\u001b[0;32m    \"path\": \"/home/centos/sample_conf\", \u001b[0m\n",
      "\u001b[0;32m    \"secontext\": \"unconfined_u:object_r:user_home_t:s0\", \u001b[0m\n",
      "\u001b[0;32m    \"size\": 102, \u001b[0m\n",
      "\u001b[0;32m    \"state\": \"directory\", \u001b[0m\n",
      "\u001b[0;32m    \"uid\": 1000\u001b[0m\n",
      "\u001b[0;32m}\u001b[0m\n",
      "\u001b[0;33m10.24.128.93 | SUCCESS => {\u001b[0m\n",
      "\u001b[0;33m    \"changed\": true, \u001b[0m\n",
      "\u001b[0;33m    \"checksum\": \"6b40e1b0e0054c035cf0bde73c5b4ea92dd70c88\", \u001b[0m\n",
      "\u001b[0;33m    \"dest\": \"/home/centos/sample_data/multi_line.txt\", \u001b[0m\n",
      "\u001b[0;33m    \"gid\": 1000, \u001b[0m\n",
      "\u001b[0;33m    \"group\": \"centos\", \u001b[0m\n",
      "\u001b[0;33m    \"md5sum\": \"d90328884f60bc638ee617c1a17b89e0\", \u001b[0m\n",
      "\u001b[0;33m    \"mode\": \"0664\", \u001b[0m\n",
      "\u001b[0;33m    \"owner\": \"centos\", \u001b[0m\n",
      "\u001b[0;33m    \"secontext\": \"unconfined_u:object_r:user_home_t:s0\", \u001b[0m\n",
      "\u001b[0;33m    \"size\": 838, \u001b[0m\n",
      "\u001b[0;33m    \"src\": \"/home/centos/.ansible/tmp/ansible-tmp-1496909163.8-82538490438013/source\", \u001b[0m\n",
      "\u001b[0;33m    \"state\": \"file\", \u001b[0m\n",
      "\u001b[0;33m    \"uid\": 1000\u001b[0m\n",
      "\u001b[0;33m}\u001b[0m\n",
      "\u001b[0;33m10.24.128.93 | SUCCESS => {\u001b[0m\n",
      "\u001b[0;33m    \"changed\": true, \u001b[0m\n",
      "\u001b[0;33m    \"checksum\": \"8603bca49b964e657f909c57548a3f70b67d424b\", \u001b[0m\n",
      "\u001b[0;33m    \"dest\": \"/home/centos/sample_conf/multi_line.conf\", \u001b[0m\n",
      "\u001b[0;33m    \"gid\": 1000, \u001b[0m\n",
      "\u001b[0;33m    \"group\": \"centos\", \u001b[0m\n",
      "\u001b[0;33m    \"md5sum\": \"3e9742ed247c82abf7d9b539949dcfb0\", \u001b[0m\n",
      "\u001b[0;33m    \"mode\": \"0664\", \u001b[0m\n",
      "\u001b[0;33m    \"owner\": \"centos\", \u001b[0m\n",
      "\u001b[0;33m    \"secontext\": \"unconfined_u:object_r:user_home_t:s0\", \u001b[0m\n",
      "\u001b[0;33m    \"size\": 2265, \u001b[0m\n",
      "\u001b[0;33m    \"src\": \"/home/centos/.ansible/tmp/ansible-tmp-1496909165.53-83152787765296/source\", \u001b[0m\n",
      "\u001b[0;33m    \"state\": \"file\", \u001b[0m\n",
      "\u001b[0;33m    \"uid\": 1000\u001b[0m\n",
      "\u001b[0;33m}\u001b[0m\n"
     ]
    }
   ],
   "source": [
    "!ansible logstash-server -i ./hosts -m file -a \"path=~/sample_data state=directory\" -u $USER --private-key=$KEYPATH\n",
    "!ansible logstash-server -i ./hosts -m file -a \"path=~/sample_conf state=directory\" -u $USER --private-key=$KEYPATH\n",
    "!ansible logstash-server -i ./hosts -m copy -a \"src=sample_data/multi_line.txt dest=~/sample_data/multi_line.txt\" -u $USER --private-key=$KEYPATH\n",
    "!ansible logstash-server -i ./hosts -m copy -a \"src=logstash_conf/multi_line.conf dest=~/sample_conf/multi_line.conf\" -u $USER --private-key=$KEYPATH"
   ]
  },
  {
   "cell_type": "code",
   "execution_count": 25,
   "metadata": {
    "lc_cell_meme": {
     "current": "9154b122-152a-11e7-b31a-0242ac12000d",
     "history": [
      {
       "current": "9154b122-152a-11e7-b31a-0242ac12000d",
       "next": "9154b2f8-152a-11e7-b31a-0242ac12000d",
       "previous": "9154af56-152a-11e7-b31a-0242ac12000d"
      }
     ],
     "next": "9154b2f8-152a-11e7-b31a-0242ac12000d",
     "previous": "c6514a1a-4753-11e7-a57b-02420aff0008"
    }
   },
   "outputs": [
    {
     "name": "stdout",
     "output_type": "stream",
     "text": [
      "\u001b[0;32m10.24.128.93 | SUCCESS | rc=0 >>\u001b[0m\r\n",
      "\u001b[0;32mSending Logstash logs to /var/log/logstash which is now configured via log4j2.properties.\u001b[0m\r\n",
      "\u001b[0;32m\u001b[0m\r\n"
     ]
    }
   ],
   "source": [
    "!ansible logstash-server -i ./hosts -m shell -a \"cat ~/sample_data/multi_line.txt | sudo /usr/share/logstash/bin/logstash --path.settings /etc/logstash -f ~/sample_conf/multi_line.conf\" -u $USER --private-key=$KEYPATH"
   ]
  },
  {
   "cell_type": "markdown",
   "metadata": {
    "lc_cell_meme": {
     "current": "9154b2f8-152a-11e7-b31a-0242ac12000d",
     "next": "9154b4ce-152a-11e7-b31a-0242ac12000d",
     "previous": "9154b122-152a-11e7-b31a-0242ac12000d"
    }
   },
   "source": [
    "コマンドの実行に成功したら、次の検索APIで正しく登録されているか確認してください。  \n",
    "正しく登録されていれば、json形式で登録されたデータが出力されます。"
   ]
  },
  {
   "cell_type": "code",
   "execution_count": 26,
   "metadata": {
    "lc_cell_meme": {
     "current": "9154b4ce-152a-11e7-b31a-0242ac12000d",
     "next": "9154b690-152a-11e7-b31a-0242ac12000d",
     "previous": "9154b2f8-152a-11e7-b31a-0242ac12000d"
    },
    "scrolled": true
   },
   "outputs": [
    {
     "name": "stdout",
     "output_type": "stream",
     "text": [
      "{\n",
      "  \"took\" : 1,\n",
      "  \"timed_out\" : false,\n",
      "  \"_shards\" : {\n",
      "    \"total\" : 1,\n",
      "    \"successful\" : 1,\n",
      "    \"failed\" : 0\n",
      "  },\n",
      "  \"hits\" : {\n",
      "    \"total\" : 1,\n",
      "    \"max_score\" : 1.0,\n",
      "    \"hits\" : [\n",
      "      {\n",
      "        \"_index\" : \"sample_index\",\n",
      "        \"_type\" : \"sample_multi_line\",\n",
      "        \"_id\" : \"AVyGvViQdDy3gmLO23bM\",\n",
      "        \"_score\" : 1.0,\n",
      "        \"_source\" : {\n",
      "          \"precipitation_max_10min\" : \"0\",\n",
      "          \"wind_speed_avg\" : \"4\",\n",
      "          \"precipitation_max_hour\" : \"0\",\n",
      "          \"temperature_max\" : \"8\",\n",
      "          \"precipitation_day\" : \"0\",\n",
      "          \"tags\" : [\n",
      "            \"_grokparsefailure\"\n",
      "          ],\n",
      "          \"@timestamp\" : \"2015-01-01T00:00:00.000Z\",\n",
      "          \"humidity_avg\" : \"41\",\n",
      "          \"humidity_min\" : \"30\",\n",
      "          \"wind_speed_max\" : \"9\",\n",
      "          \"sunshine_duration\" : \"1\",\n",
      "          \"temperature_avg\" : \"3\",\n",
      "          \"temperature_min\" : \"0\",\n",
      "          \"@version\" : \"1\",\n",
      "          \"host\" : \"0.0.0.0\",\n",
      "          \"atmospheric_pressure\" : \"1000\",\n",
      "          \"location\" : \"tokyo\",\n",
      "          \"wind_speed_max_moment\" : \"18\",\n",
      "          \"sea_level_pressure\" : \"1003\"\n",
      "        }\n",
      "      }\n",
      "    ]\n",
      "  }\n",
      "}\n"
     ]
    },
    {
     "name": "stderr",
     "output_type": "stream",
     "text": [
      "  % Total    % Received % Xferd  Average Speed   Time    Time     Time  Current\n",
      "                                 Dload  Upload   Total   Spent    Left  Speed\n",
      "\r",
      "  0     0    0     0    0     0      0      0 --:--:-- --:--:-- --:--:--     0\r",
      "100  1114  100  1114    0     0   233k      0 --:--:-- --:--:-- --:--:--  271k\n"
     ]
    }
   ],
   "source": [
    "%%bash\n",
    "curl -XGET \"http://$ES_HOST/$INDEX/sample_multi_line/_search?pretty\""
   ]
  },
  {
   "cell_type": "markdown",
   "metadata": {
    "lc_cell_meme": {
     "current": "9154b690-152a-11e7-b31a-0242ac12000d",
     "next": "9154b85c-152a-11e7-b31a-0242ac12000d",
     "previous": "9154b4ce-152a-11e7-b31a-0242ac12000d"
    }
   },
   "source": [
    "## データ加工\n"
   ]
  },
  {
   "cell_type": "markdown",
   "metadata": {
    "lc_cell_meme": {
     "current": "9154b85c-152a-11e7-b31a-0242ac12000d",
     "next": "9154ba28-152a-11e7-b31a-0242ac12000d",
     "previous": "9154b690-152a-11e7-b31a-0242ac12000d"
    }
   },
   "source": [
    "ここまでの例では、読み込んだ値を特に加工せず、そのまま格納していました。  \n",
    "この章では、confファイルの\"filter\"を定義することで値を加工する方法について説明します。"
   ]
  },
  {
   "cell_type": "markdown",
   "metadata": {
    "lc_cell_meme": {
     "current": "9154ba28-152a-11e7-b31a-0242ac12000d",
     "next": "9154bbfe-152a-11e7-b31a-0242ac12000d",
     "previous": "9154b85c-152a-11e7-b31a-0242ac12000d"
    }
   },
   "source": [
    "### geoipの付与"
   ]
  },
  {
   "cell_type": "markdown",
   "metadata": {
    "lc_cell_meme": {
     "current": "9154bbfe-152a-11e7-b31a-0242ac12000d",
     "next": "9154bdca-152a-11e7-b31a-0242ac12000d",
     "previous": "9154ba28-152a-11e7-b31a-0242ac12000d"
    }
   },
   "source": [
    "geoip filterを用いることで、ipアドレスをもとに地理情報を付与することができます。  \n",
    "利用するサンプルデータは次のコマンドを実行することで確認できます。"
   ]
  },
  {
   "cell_type": "code",
   "execution_count": 27,
   "metadata": {
    "lc_cell_meme": {
     "current": "9154bdca-152a-11e7-b31a-0242ac12000d",
     "next": "9154bf96-152a-11e7-b31a-0242ac12000d",
     "previous": "9154bbfe-152a-11e7-b31a-0242ac12000d"
    }
   },
   "outputs": [
    {
     "name": "stdout",
     "output_type": "stream",
     "text": [
      "{\r\n",
      "  \"recordtime\":\"2016-12-02\",\r\n",
      "  \"clientip\":\"12.112.11.134\"\r\n",
      "}\r\n"
     ]
    }
   ],
   "source": [
    "!head -n 4 sample_data/geoip.json"
   ]
  },
  {
   "cell_type": "markdown",
   "metadata": {
    "lc_cell_meme": {
     "current": "9154bf96-152a-11e7-b31a-0242ac12000d",
     "next": "9154c162-152a-11e7-b31a-0242ac12000d",
     "previous": "9154bdca-152a-11e7-b31a-0242ac12000d"
    }
   },
   "source": [
    "具体的な設定を次に示します。"
   ]
  },
  {
   "cell_type": "code",
   "execution_count": 28,
   "metadata": {
    "lc_cell_meme": {
     "current": "9154c162-152a-11e7-b31a-0242ac12000d",
     "history": [
      {
       "current": "9154c162-152a-11e7-b31a-0242ac12000d",
       "next": "9154c32e-152a-11e7-b31a-0242ac12000d",
       "previous": "9154bf96-152a-11e7-b31a-0242ac12000d"
      }
     ],
     "next": "9cee56c6-4754-11e7-a57b-02420aff0008",
     "previous": "9154bf96-152a-11e7-b31a-0242ac12000d"
    },
    "scrolled": true
   },
   "outputs": [
    {
     "name": "stdout",
     "output_type": "stream",
     "text": [
      "input{\r\n",
      "  stdin{\r\n",
      "    codec => multiline{\r\n",
      "      pattern => \"}\"\r\n",
      "      negate => \"true\"\r\n",
      "      what => \"next\"\r\n",
      "    }\r\n",
      "  }\r\n",
      "}\r\n",
      "\r\n",
      "filter{\r\n",
      "  json{\r\n",
      "    source => \"message\"\r\n",
      "  }\r\n",
      "  date{\r\n",
      "    match => [\"recordtime\",\"yyyy-MM-dd\"]\r\n",
      "    remove_field => [\"recordtime\",\"message\",\"host\"]\r\n",
      "  }\r\n",
      "  geoip{\r\n",
      "    source => \"clientip\"\r\n",
      "  }\r\n",
      "}\r\n",
      "\r\n",
      "output{\r\n",
      "  elasticsearch{\r\n",
      "    hosts => \"localhost:9200\"\r\n",
      "    index => \"sample_index\"\r\n",
      "    document_type => \"sample_geoip\"\r\n",
      "  }\r\n",
      "}\r\n"
     ]
    }
   ],
   "source": [
    "!cat logstash_conf/geoip.conf"
   ]
  },
  {
   "cell_type": "code",
   "execution_count": 29,
   "metadata": {
    "lc_cell_meme": {
     "current": "9cee56c6-4754-11e7-a57b-02420aff0008",
     "next": "9154c32e-152a-11e7-b31a-0242ac12000d",
     "previous": "9154c162-152a-11e7-b31a-0242ac12000d"
    },
    "scrolled": true
   },
   "outputs": [
    {
     "name": "stdout",
     "output_type": "stream",
     "text": [
      "\u001b[0;32m10.24.128.93 | SUCCESS => {\u001b[0m\n",
      "\u001b[0;32m    \"changed\": false, \u001b[0m\n",
      "\u001b[0;32m    \"gid\": 1000, \u001b[0m\n",
      "\u001b[0;32m    \"group\": \"centos\", \u001b[0m\n",
      "\u001b[0;32m    \"mode\": \"0775\", \u001b[0m\n",
      "\u001b[0;32m    \"owner\": \"centos\", \u001b[0m\n",
      "\u001b[0;32m    \"path\": \"/home/centos/sample_data\", \u001b[0m\n",
      "\u001b[0;32m    \"secontext\": \"unconfined_u:object_r:user_home_t:s0\", \u001b[0m\n",
      "\u001b[0;32m    \"size\": 4096, \u001b[0m\n",
      "\u001b[0;32m    \"state\": \"directory\", \u001b[0m\n",
      "\u001b[0;32m    \"uid\": 1000\u001b[0m\n",
      "\u001b[0;32m}\u001b[0m\n",
      "\u001b[0;32m10.24.128.93 | SUCCESS => {\u001b[0m\n",
      "\u001b[0;32m    \"changed\": false, \u001b[0m\n",
      "\u001b[0;32m    \"gid\": 1000, \u001b[0m\n",
      "\u001b[0;32m    \"group\": \"centos\", \u001b[0m\n",
      "\u001b[0;32m    \"mode\": \"0775\", \u001b[0m\n",
      "\u001b[0;32m    \"owner\": \"centos\", \u001b[0m\n",
      "\u001b[0;32m    \"path\": \"/home/centos/sample_conf\", \u001b[0m\n",
      "\u001b[0;32m    \"secontext\": \"unconfined_u:object_r:user_home_t:s0\", \u001b[0m\n",
      "\u001b[0;32m    \"size\": 4096, \u001b[0m\n",
      "\u001b[0;32m    \"state\": \"directory\", \u001b[0m\n",
      "\u001b[0;32m    \"uid\": 1000\u001b[0m\n",
      "\u001b[0;32m}\u001b[0m\n",
      "\u001b[0;33m10.24.128.93 | SUCCESS => {\u001b[0m\n",
      "\u001b[0;33m    \"changed\": true, \u001b[0m\n",
      "\u001b[0;33m    \"checksum\": \"f70e48628f5900284f71c010bb2208f2ee57d373\", \u001b[0m\n",
      "\u001b[0;33m    \"dest\": \"/home/centos/sample_data/geoip.json\", \u001b[0m\n",
      "\u001b[0;33m    \"gid\": 1000, \u001b[0m\n",
      "\u001b[0;33m    \"group\": \"centos\", \u001b[0m\n",
      "\u001b[0;33m    \"md5sum\": \"e449125f2b32622791447d44552b0446\", \u001b[0m\n",
      "\u001b[0;33m    \"mode\": \"0664\", \u001b[0m\n",
      "\u001b[0;33m    \"owner\": \"centos\", \u001b[0m\n",
      "\u001b[0;33m    \"secontext\": \"unconfined_u:object_r:user_home_t:s0\", \u001b[0m\n",
      "\u001b[0;33m    \"size\": 794, \u001b[0m\n",
      "\u001b[0;33m    \"src\": \"/home/centos/.ansible/tmp/ansible-tmp-1496909182.98-78280108626391/source\", \u001b[0m\n",
      "\u001b[0;33m    \"state\": \"file\", \u001b[0m\n",
      "\u001b[0;33m    \"uid\": 1000\u001b[0m\n",
      "\u001b[0;33m}\u001b[0m\n",
      "\u001b[0;33m10.24.128.93 | SUCCESS => {\u001b[0m\n",
      "\u001b[0;33m    \"changed\": true, \u001b[0m\n",
      "\u001b[0;33m    \"checksum\": \"746dbb6173297b796efa96535064639d118e787b\", \u001b[0m\n",
      "\u001b[0;33m    \"dest\": \"/home/centos/sample_conf/geoip.conf\", \u001b[0m\n",
      "\u001b[0;33m    \"gid\": 1000, \u001b[0m\n",
      "\u001b[0;33m    \"group\": \"centos\", \u001b[0m\n",
      "\u001b[0;33m    \"md5sum\": \"4fd6f1ffcd63f2dc33a4cba8ee8eb774\", \u001b[0m\n",
      "\u001b[0;33m    \"mode\": \"0664\", \u001b[0m\n",
      "\u001b[0;33m    \"owner\": \"centos\", \u001b[0m\n",
      "\u001b[0;33m    \"secontext\": \"unconfined_u:object_r:user_home_t:s0\", \u001b[0m\n",
      "\u001b[0;33m    \"size\": 433, \u001b[0m\n",
      "\u001b[0;33m    \"src\": \"/home/centos/.ansible/tmp/ansible-tmp-1496909184.67-272426073691388/source\", \u001b[0m\n",
      "\u001b[0;33m    \"state\": \"file\", \u001b[0m\n",
      "\u001b[0;33m    \"uid\": 1000\u001b[0m\n",
      "\u001b[0;33m}\u001b[0m\n"
     ]
    }
   ],
   "source": [
    "!ansible logstash-server -i ./hosts -m file -a \"path=~/sample_data state=directory\" -u $USER --private-key=$KEYPATH\n",
    "!ansible logstash-server -i ./hosts -m file -a \"path=~/sample_conf state=directory\" -u $USER --private-key=$KEYPATH\n",
    "!ansible logstash-server -i ./hosts -m copy -a \"src=sample_data/geoip.json dest=~/sample_data/geoip.json\" -u $USER --private-key=$KEYPATH\n",
    "!ansible logstash-server -i ./hosts -m copy -a \"src=logstash_conf/geoip.conf dest=~/sample_conf/geoip.conf\" -u $USER --private-key=$KEYPATH"
   ]
  },
  {
   "cell_type": "markdown",
   "metadata": {
    "lc_cell_meme": {
     "current": "9154c32e-152a-11e7-b31a-0242ac12000d",
     "history": [
      {
       "current": "9154c32e-152a-11e7-b31a-0242ac12000d",
       "next": "9154c504-152a-11e7-b31a-0242ac12000d",
       "previous": "9154c162-152a-11e7-b31a-0242ac12000d"
      }
     ],
     "next": "9154c504-152a-11e7-b31a-0242ac12000d",
     "previous": "9cee56c6-4754-11e7-a57b-02420aff0008"
    }
   },
   "source": [
    "geoip{}の中のsourceという項目に、地理情報を取得したいipアドレスを指定します。  \n",
    "\n",
    "実際のデータ登録は次のセルのコマンドを実行してください。  "
   ]
  },
  {
   "cell_type": "code",
   "execution_count": 30,
   "metadata": {
    "lc_cell_meme": {
     "current": "9154c504-152a-11e7-b31a-0242ac12000d",
     "next": "9154c6ee-152a-11e7-b31a-0242ac12000d",
     "previous": "9154c32e-152a-11e7-b31a-0242ac12000d"
    }
   },
   "outputs": [
    {
     "name": "stdout",
     "output_type": "stream",
     "text": [
      "\u001b[0;32m10.24.128.93 | SUCCESS | rc=0 >>\u001b[0m\r\n",
      "\u001b[0;32mSending Logstash logs to /var/log/logstash which is now configured via log4j2.properties.\u001b[0m\r\n",
      "\u001b[0;32m\u001b[0m\r\n"
     ]
    }
   ],
   "source": [
    "!ansible logstash-server -i ./hosts -m shell -a \"cat ~/sample_data/geoip.json | sudo /usr/share/logstash/bin/logstash --path.settings /etc/logstash -f ~/sample_conf/geoip.conf\" -u $USER --private-key=$KEYPATH"
   ]
  },
  {
   "cell_type": "markdown",
   "metadata": {
    "lc_cell_meme": {
     "current": "9154c6ee-152a-11e7-b31a-0242ac12000d",
     "next": "9154c8ba-152a-11e7-b31a-0242ac12000d",
     "previous": "9154c504-152a-11e7-b31a-0242ac12000d"
    }
   },
   "source": [
    "コマンドの実行に成功したら、次の検索APIで正しく登録されているか確認してください。  \n",
    "もとのデータに含まれている**recordtime**,**clientip**以外に国名や緯度・経度などが追加されています。"
   ]
  },
  {
   "cell_type": "code",
   "execution_count": 31,
   "metadata": {
    "lc_cell_meme": {
     "current": "9154c8ba-152a-11e7-b31a-0242ac12000d",
     "next": "9154ca90-152a-11e7-b31a-0242ac12000d",
     "previous": "9154c6ee-152a-11e7-b31a-0242ac12000d"
    },
    "scrolled": true
   },
   "outputs": [
    {
     "name": "stdout",
     "output_type": "stream",
     "text": [
      "{\n",
      "  \"took\" : 3,\n",
      "  \"timed_out\" : false,\n",
      "  \"_shards\" : {\n",
      "    \"total\" : 1,\n",
      "    \"successful\" : 1,\n",
      "    \"failed\" : 0\n",
      "  },\n",
      "  \"hits\" : {\n",
      "    \"total\" : 13,\n",
      "    \"max_score\" : 1.0,\n",
      "    \"hits\" : [\n",
      "      {\n",
      "        \"_index\" : \"sample_index\",\n",
      "        \"_type\" : \"sample_geoip\",\n",
      "        \"_id\" : \"AVyGvaAvdDy3gmLO23bN\",\n",
      "        \"_score\" : 1.0,\n",
      "        \"_source\" : {\n",
      "          \"@timestamp\" : \"2016-12-02T00:00:00.000Z\",\n",
      "          \"geoip\" : {\n",
      "            \"timezone\" : null,\n",
      "            \"ip\" : \"12.112.11.134\",\n",
      "            \"latitude\" : 37.751,\n",
      "            \"continent_code\" : \"NA\",\n",
      "            \"city_name\" : null,\n",
      "            \"country_code2\" : \"US\",\n",
      "            \"country_name\" : \"United States\",\n",
      "            \"dma_code\" : null,\n",
      "            \"country_code3\" : \"US\",\n",
      "            \"region_name\" : null,\n",
      "            \"location\" : [\n",
      "              -97.822,\n",
      "              37.751\n",
      "            ],\n",
      "            \"postal_code\" : null,\n",
      "            \"longitude\" : -97.822,\n",
      "            \"region_code\" : null\n",
      "          },\n",
      "          \"clientip\" : \"12.112.11.134\",\n",
      "          \"@version\" : \"1\",\n",
      "          \"tags\" : [\n",
      "            \"multiline\"\n",
      "          ]\n",
      "        }\n",
      "      }\n",
      "    ]\n",
      "  }\n",
      "}\n"
     ]
    },
    {
     "name": "stderr",
     "output_type": "stream",
     "text": [
      "  % Total    % Received % Xferd  Average Speed   Time    Time     Time  Current\n",
      "                                 Dload  Upload   Total   Spent    Left  Speed\n",
      "\r",
      "  0     0    0     0    0     0      0      0 --:--:-- --:--:-- --:--:--     0\r",
      "100  1222  100  1131  100    91   160k  13253 --:--:-- --:--:-- --:--:--  184k\n"
     ]
    }
   ],
   "source": [
    "%%bash\n",
    "curl -XGET \"http://$ES_HOST/$INDEX/_search?pretty\" -d @- <<EOF\n",
    "{\n",
    "    \"size\":\"1\",\n",
    "        \"query\":{\n",
    "            \"match\":{\"_type\":\"sample_geoip\"}\n",
    "            }\n",
    "}\n",
    "EOF"
   ]
  },
  {
   "cell_type": "markdown",
   "metadata": {
    "lc_cell_meme": {
     "current": "9154ca90-152a-11e7-b31a-0242ac12000d",
     "next": "9154cc52-152a-11e7-b31a-0242ac12000d",
     "previous": "9154c8ba-152a-11e7-b31a-0242ac12000d"
    }
   },
   "source": [
    "### useragentの解析"
   ]
  },
  {
   "cell_type": "markdown",
   "metadata": {
    "lc_cell_meme": {
     "current": "9154cc52-152a-11e7-b31a-0242ac12000d",
     "next": "9154ce32-152a-11e7-b31a-0242ac12000d",
     "previous": "9154ca90-152a-11e7-b31a-0242ac12000d"
    }
   },
   "source": [
    "useragentの情報を解析するためには、useragent filterを利用します。  \n",
    "利用するサンプルデータは次のコマンドを実行することで確認できます。"
   ]
  },
  {
   "cell_type": "code",
   "execution_count": 32,
   "metadata": {
    "lc_cell_meme": {
     "current": "9154ce32-152a-11e7-b31a-0242ac12000d",
     "next": "9154cffe-152a-11e7-b31a-0242ac12000d",
     "previous": "9154cc52-152a-11e7-b31a-0242ac12000d"
    }
   },
   "outputs": [
    {
     "name": "stdout",
     "output_type": "stream",
     "text": [
      "Mozilla/5.0 (Macintosh; Intel Mac OS X 10_8) AppleWebKit/536.25 (KHTML, like Gecko) Version/6.0 Safari/536.25\r\n",
      "Mozilla/4.0 (compatible; MSIE 6.0; Nitro) Opera 8.50 [ja]\r\n",
      "Mozilla/5.0 (Macintosh; Intel Mac OS X 10.7; rv:9.0.1) Gecko/20100101 Firefox/9.0.1\r\n"
     ]
    }
   ],
   "source": [
    "!head -n 3 sample_data/useragent.txt"
   ]
  },
  {
   "cell_type": "markdown",
   "metadata": {
    "lc_cell_meme": {
     "current": "9154cffe-152a-11e7-b31a-0242ac12000d",
     "next": "9154d1e8-152a-11e7-b31a-0242ac12000d",
     "previous": "9154ce32-152a-11e7-b31a-0242ac12000d"
    }
   },
   "source": [
    "具体的な設定を次に示します。"
   ]
  },
  {
   "cell_type": "code",
   "execution_count": 33,
   "metadata": {
    "lc_cell_meme": {
     "current": "9154d1e8-152a-11e7-b31a-0242ac12000d",
     "history": [
      {
       "current": "9154d1e8-152a-11e7-b31a-0242ac12000d",
       "next": "9154d3be-152a-11e7-b31a-0242ac12000d",
       "previous": "9154cffe-152a-11e7-b31a-0242ac12000d"
      }
     ],
     "next": "e47544d2-4754-11e7-a57b-02420aff0008",
     "previous": "9154cffe-152a-11e7-b31a-0242ac12000d"
    },
    "scrolled": false
   },
   "outputs": [
    {
     "name": "stdout",
     "output_type": "stream",
     "text": [
      "input{\r\n",
      "  stdin{}\r\n",
      "}\r\n",
      "filter{\r\n",
      "  useragent{\r\n",
      "    source => \"message\"\r\n",
      "    remove_field => [\"message\",\"host\"]\r\n",
      "  }\r\n",
      "}\r\n",
      "output{\r\n",
      "  elasticsearch{\r\n",
      "    hosts => \"localhost:9200\"\r\n",
      "    index => \"sample_index\"\r\n",
      "    document_type => \"sample_useragent\"\r\n",
      "  }\r\n",
      "}\r\n"
     ]
    }
   ],
   "source": [
    "!cat logstash_conf/useragent.conf"
   ]
  },
  {
   "cell_type": "code",
   "execution_count": 34,
   "metadata": {
    "lc_cell_meme": {
     "current": "e47544d2-4754-11e7-a57b-02420aff0008",
     "next": "9154d3be-152a-11e7-b31a-0242ac12000d",
     "previous": "9154d1e8-152a-11e7-b31a-0242ac12000d"
    },
    "scrolled": true
   },
   "outputs": [
    {
     "name": "stdout",
     "output_type": "stream",
     "text": [
      "\u001b[0;32m10.24.128.93 | SUCCESS => {\u001b[0m\n",
      "\u001b[0;32m    \"changed\": false, \u001b[0m\n",
      "\u001b[0;32m    \"gid\": 1000, \u001b[0m\n",
      "\u001b[0;32m    \"group\": \"centos\", \u001b[0m\n",
      "\u001b[0;32m    \"mode\": \"0775\", \u001b[0m\n",
      "\u001b[0;32m    \"owner\": \"centos\", \u001b[0m\n",
      "\u001b[0;32m    \"path\": \"/home/centos/sample_data\", \u001b[0m\n",
      "\u001b[0;32m    \"secontext\": \"unconfined_u:object_r:user_home_t:s0\", \u001b[0m\n",
      "\u001b[0;32m    \"size\": 4096, \u001b[0m\n",
      "\u001b[0;32m    \"state\": \"directory\", \u001b[0m\n",
      "\u001b[0;32m    \"uid\": 1000\u001b[0m\n",
      "\u001b[0;32m}\u001b[0m\n",
      "\u001b[0;32m10.24.128.93 | SUCCESS => {\u001b[0m\n",
      "\u001b[0;32m    \"changed\": false, \u001b[0m\n",
      "\u001b[0;32m    \"gid\": 1000, \u001b[0m\n",
      "\u001b[0;32m    \"group\": \"centos\", \u001b[0m\n",
      "\u001b[0;32m    \"mode\": \"0775\", \u001b[0m\n",
      "\u001b[0;32m    \"owner\": \"centos\", \u001b[0m\n",
      "\u001b[0;32m    \"path\": \"/home/centos/sample_conf\", \u001b[0m\n",
      "\u001b[0;32m    \"secontext\": \"unconfined_u:object_r:user_home_t:s0\", \u001b[0m\n",
      "\u001b[0;32m    \"size\": 4096, \u001b[0m\n",
      "\u001b[0;32m    \"state\": \"directory\", \u001b[0m\n",
      "\u001b[0;32m    \"uid\": 1000\u001b[0m\n",
      "\u001b[0;32m}\u001b[0m\n",
      "\u001b[0;33m10.24.128.93 | SUCCESS => {\u001b[0m\n",
      "\u001b[0;33m    \"changed\": true, \u001b[0m\n",
      "\u001b[0;33m    \"checksum\": \"905770f57017cf2d8bd0e9346f8b97eb422191d5\", \u001b[0m\n",
      "\u001b[0;33m    \"dest\": \"/home/centos/sample_data/useragent.txt\", \u001b[0m\n",
      "\u001b[0;33m    \"gid\": 1000, \u001b[0m\n",
      "\u001b[0;33m    \"group\": \"centos\", \u001b[0m\n",
      "\u001b[0;33m    \"md5sum\": \"93eb6ecc79cdae56ea3f41f38b1032c6\", \u001b[0m\n",
      "\u001b[0;33m    \"mode\": \"0664\", \u001b[0m\n",
      "\u001b[0;33m    \"owner\": \"centos\", \u001b[0m\n",
      "\u001b[0;33m    \"secontext\": \"unconfined_u:object_r:user_home_t:s0\", \u001b[0m\n",
      "\u001b[0;33m    \"size\": 432, \u001b[0m\n",
      "\u001b[0;33m    \"src\": \"/home/centos/.ansible/tmp/ansible-tmp-1496909201.19-223138636541480/source\", \u001b[0m\n",
      "\u001b[0;33m    \"state\": \"file\", \u001b[0m\n",
      "\u001b[0;33m    \"uid\": 1000\u001b[0m\n",
      "\u001b[0;33m}\u001b[0m\n",
      "\u001b[0;33m10.24.128.93 | SUCCESS => {\u001b[0m\n",
      "\u001b[0;33m    \"changed\": true, \u001b[0m\n",
      "\u001b[0;33m    \"checksum\": \"e2502652eb644bc190ade30c3306541b3c94d972\", \u001b[0m\n",
      "\u001b[0;33m    \"dest\": \"/home/centos/sample_conf/useragent.conf\", \u001b[0m\n",
      "\u001b[0;33m    \"gid\": 1000, \u001b[0m\n",
      "\u001b[0;33m    \"group\": \"centos\", \u001b[0m\n",
      "\u001b[0;33m    \"md5sum\": \"3869b125b69afcd0c7f796198186f16a\", \u001b[0m\n",
      "\u001b[0;33m    \"mode\": \"0664\", \u001b[0m\n",
      "\u001b[0;33m    \"owner\": \"centos\", \u001b[0m\n",
      "\u001b[0;33m    \"secontext\": \"unconfined_u:object_r:user_home_t:s0\", \u001b[0m\n",
      "\u001b[0;33m    \"size\": 238, \u001b[0m\n",
      "\u001b[0;33m    \"src\": \"/home/centos/.ansible/tmp/ansible-tmp-1496909202.88-185982240323357/source\", \u001b[0m\n",
      "\u001b[0;33m    \"state\": \"file\", \u001b[0m\n",
      "\u001b[0;33m    \"uid\": 1000\u001b[0m\n",
      "\u001b[0;33m}\u001b[0m\n"
     ]
    }
   ],
   "source": [
    "!ansible logstash-server -i ./hosts -m file -a \"path=~/sample_data state=directory\" -u $USER --private-key=$KEYPATH\n",
    "!ansible logstash-server -i ./hosts -m file -a \"path=~/sample_conf state=directory\" -u $USER --private-key=$KEYPATH\n",
    "!ansible logstash-server -i ./hosts -m copy -a \"src=sample_data/useragent.txt dest=~/sample_data/useragent.txt\" -u $USER --private-key=$KEYPATH\n",
    "!ansible logstash-server -i ./hosts -m copy -a \"src=logstash_conf/useragent.conf dest=~/sample_conf/useragent.conf\" -u $USER --private-key=$KEYPATH"
   ]
  },
  {
   "cell_type": "markdown",
   "metadata": {
    "lc_cell_meme": {
     "current": "9154d3be-152a-11e7-b31a-0242ac12000d",
     "history": [
      {
       "current": "9154d3be-152a-11e7-b31a-0242ac12000d",
       "next": "9154d580-152a-11e7-b31a-0242ac12000d",
       "previous": "9154d1e8-152a-11e7-b31a-0242ac12000d"
      }
     ],
     "next": "9154d580-152a-11e7-b31a-0242ac12000d",
     "previous": "e47544d2-4754-11e7-a57b-02420aff0008"
    }
   },
   "source": [
    "useragent filterを利用すると、自動的にuseragentの情報をパースすることができます。  \n",
    "\n",
    "実際のデータ登録は次のセルのコマンドを実行してください。  "
   ]
  },
  {
   "cell_type": "code",
   "execution_count": 35,
   "metadata": {
    "lc_cell_meme": {
     "current": "9154d580-152a-11e7-b31a-0242ac12000d",
     "next": "9154d760-152a-11e7-b31a-0242ac12000d",
     "previous": "9154d3be-152a-11e7-b31a-0242ac12000d"
    }
   },
   "outputs": [
    {
     "name": "stdout",
     "output_type": "stream",
     "text": [
      "\u001b[0;32m10.24.128.93 | SUCCESS | rc=0 >>\u001b[0m\r\n",
      "\u001b[0;32mSending Logstash logs to /var/log/logstash which is now configured via log4j2.properties.\u001b[0m\r\n",
      "\u001b[0;32m\u001b[0m\r\n"
     ]
    }
   ],
   "source": [
    "!ansible logstash-server -i ./hosts -m shell -a \"cat ~/sample_data/useragent.txt | sudo /usr/share/logstash/bin/logstash --path.settings /etc/logstash -f ~/sample_conf/useragent.conf\" -u $USER --private-key=$KEYPATH"
   ]
  },
  {
   "cell_type": "markdown",
   "metadata": {
    "lc_cell_meme": {
     "current": "9154d760-152a-11e7-b31a-0242ac12000d",
     "next": "9154d92c-152a-11e7-b31a-0242ac12000d",
     "previous": "9154d580-152a-11e7-b31a-0242ac12000d"
    }
   },
   "source": [
    "コマンドの実行に成功したら、次の検索APIで正しく登録されているか確認してください。  \n",
    "もとのデータに含まれているrecordtime,clientip以外に国名や緯度・経度などが追加されています。"
   ]
  },
  {
   "cell_type": "code",
   "execution_count": 36,
   "metadata": {
    "lc_cell_meme": {
     "current": "9154d92c-152a-11e7-b31a-0242ac12000d",
     "next": "9154db02-152a-11e7-b31a-0242ac12000d",
     "previous": "9154d760-152a-11e7-b31a-0242ac12000d"
    },
    "scrolled": true
   },
   "outputs": [
    {
     "name": "stdout",
     "output_type": "stream",
     "text": [
      "{\n",
      "  \"took\" : 1,\n",
      "  \"timed_out\" : false,\n",
      "  \"_shards\" : {\n",
      "    \"total\" : 1,\n",
      "    \"successful\" : 1,\n",
      "    \"failed\" : 0\n",
      "  },\n",
      "  \"hits\" : {\n",
      "    \"total\" : 4,\n",
      "    \"max_score\" : 1.0,\n",
      "    \"hits\" : [\n",
      "      {\n",
      "        \"_index\" : \"sample_index\",\n",
      "        \"_type\" : \"sample_useragent\",\n",
      "        \"_id\" : \"AVyGveg7dDy3gmLO23ba\",\n",
      "        \"_score\" : 1.0,\n",
      "        \"_source\" : {\n",
      "          \"@timestamp\" : \"2017-06-08T08:06:51.054Z\",\n",
      "          \"os\" : \"Mac OS X 10.8\",\n",
      "          \"major\" : \"6\",\n",
      "          \"minor\" : \"0\",\n",
      "          \"os_minor\" : \"8\",\n",
      "          \"os_major\" : \"10\",\n",
      "          \"@version\" : \"1\",\n",
      "          \"name\" : \"Safari\",\n",
      "          \"os_name\" : \"Mac OS X\",\n",
      "          \"device\" : \"Other\"\n",
      "        }\n",
      "      }\n",
      "    ]\n",
      "  }\n",
      "}\n"
     ]
    },
    {
     "name": "stderr",
     "output_type": "stream",
     "text": [
      "bash: line 7: warning: here-document at line 1 delimited by end-of-file (wanted `EOF')\n",
      "  % Total    % Received % Xferd  Average Speed   Time    Time     Time  Current\n",
      "                                 Dload  Upload   Total   Spent    Left  Speed\n",
      "\r",
      "  0     0    0     0    0     0      0      0 --:--:-- --:--:-- --:--:--     0\r",
      "100   790  100   695  100    95   200k  28056 --:--:-- --:--:-- --:--:--  226k\n"
     ]
    }
   ],
   "source": [
    "%%bash\n",
    "curl -XGET \"http://$ES_HOST/$INDEX/_search?pretty\" -d @- <<EOF\n",
    "{\n",
    "    \"size\":\"1\",\n",
    "        \"query\":{\n",
    "            \"match\":{\"_type\":\"sample_useragent\"}\n",
    "            }\n",
    "}"
   ]
  },
  {
   "cell_type": "markdown",
   "metadata": {
    "lc_cell_meme": {
     "current": "9154db02-152a-11e7-b31a-0242ac12000d",
     "next": "9154dcce-152a-11e7-b31a-0242ac12000d",
     "previous": "9154d92c-152a-11e7-b31a-0242ac12000d"
    }
   },
   "source": [
    "## Ingest Nodeの利用方法"
   ]
  },
  {
   "cell_type": "markdown",
   "metadata": {
    "lc_cell_meme": {
     "current": "9154dcce-152a-11e7-b31a-0242ac12000d",
     "next": "9154df12-152a-11e7-b31a-0242ac12000d",
     "previous": "9154db02-152a-11e7-b31a-0242ac12000d"
    }
   },
   "source": [
    "Ingest Nodeを利用するためには、まずpipelineを作成する必要があります。  \n",
    "\n",
    "![images/03_pipeline.png](images/03_pipeline.png)\n",
    "\n",
    "\n",
    "Node種類の説明で記述したように、pipelineはIngest Nodeが受け取ったドキュメントに対して、いくつかの加工処理(processor)を順次実行するものとなります。  \n",
    "\n",
    "pipelineの作成には、Put Pipeline APIを用います。pipelineには次の二つの要素を定義します。  \n",
    "* description : 処理内容の説明\n",
    "* processors : 実際の処理\n",
    "\n",
    "ここでは受け取ったドキュメントに対して新しいフィールドを追加するためのpipelineを作成します。  \n",
    "ここで扱う例では、\"country\"というフィールドを追加し、値を\"japan\"に設定しています。"
   ]
  },
  {
   "cell_type": "code",
   "execution_count": 37,
   "metadata": {
    "lc_cell_meme": {
     "current": "9154df12-152a-11e7-b31a-0242ac12000d",
     "next": "9154e0f2-152a-11e7-b31a-0242ac12000d",
     "previous": "9154dcce-152a-11e7-b31a-0242ac12000d"
    }
   },
   "outputs": [
    {
     "name": "stdout",
     "output_type": "stream",
     "text": [
      "{\"acknowledged\":true}"
     ]
    },
    {
     "name": "stderr",
     "output_type": "stream",
     "text": [
      "  % Total    % Received % Xferd  Average Speed   Time    Time     Time  Current\n",
      "                                 Dload  Upload   Total   Spent    Left  Speed\n",
      "\r",
      "  0     0    0     0    0     0      0      0 --:--:-- --:--:-- --:--:--     0\r",
      "100   158  100    21  100   137    672   4387 --:--:-- --:--:-- --:--:--  4419\n"
     ]
    }
   ],
   "source": [
    "%%bash\n",
    "curl -XPUT \"http://$ES_HOST/_ingest/pipeline/my-pipeline\" -d @- << EOF\n",
    "{\n",
    "  \"description\":\"describe pipeline\",\n",
    "  \"processors\":[\n",
    "    {\n",
    "      \"set\":{\n",
    "        \"field\":\"country\",\n",
    "        \"value\": \"japan\"\n",
    "      }\n",
    "    }\n",
    "  ]\n",
    "}\n",
    "EOF"
   ]
  },
  {
   "cell_type": "markdown",
   "metadata": {
    "lc_cell_meme": {
     "current": "9154e0f2-152a-11e7-b31a-0242ac12000d",
     "next": "9154e2d2-152a-11e7-b31a-0242ac12000d",
     "previous": "9154df12-152a-11e7-b31a-0242ac12000d"
    }
   },
   "source": [
    "作成済みpipelineの確認にはGet Ppeline APIを用います。次のコマンドで作成済みpipelineの確認が可能です。"
   ]
  },
  {
   "cell_type": "code",
   "execution_count": 38,
   "metadata": {
    "lc_cell_meme": {
     "current": "9154e2d2-152a-11e7-b31a-0242ac12000d",
     "next": "9154e4a8-152a-11e7-b31a-0242ac12000d",
     "previous": "9154e0f2-152a-11e7-b31a-0242ac12000d"
    },
    "scrolled": true
   },
   "outputs": [
    {
     "name": "stdout",
     "output_type": "stream",
     "text": [
      "{\n",
      "  \"my-pipeline\" : {\n",
      "    \"description\" : \"describe pipeline\",\n",
      "    \"processors\" : [\n",
      "      {\n",
      "        \"set\" : {\n",
      "          \"field\" : \"country\",\n",
      "          \"value\" : \"japan\"\n",
      "        }\n",
      "      }\n",
      "    ]\n",
      "  }\n",
      "}\n"
     ]
    },
    {
     "name": "stderr",
     "output_type": "stream",
     "text": [
      "  % Total    % Received % Xferd  Average Speed   Time    Time     Time  Current\n",
      "                                 Dload  Upload   Total   Spent    Left  Speed\n",
      "\r",
      "  0     0    0     0    0     0      0      0 --:--:-- --:--:-- --:--:--     0\r",
      "100   199  100   199    0     0  93471      0 --:--:-- --:--:-- --:--:-- 99500\n"
     ]
    }
   ],
   "source": [
    "%%bash\n",
    "curl -XGET \"http://$ES_HOST/_ingest/pipeline?pretty\""
   ]
  },
  {
   "cell_type": "markdown",
   "metadata": {
    "lc_cell_meme": {
     "current": "9154e4a8-152a-11e7-b31a-0242ac12000d",
     "next": "9154e66a-152a-11e7-b31a-0242ac12000d",
     "previous": "9154e2d2-152a-11e7-b31a-0242ac12000d"
    }
   },
   "source": [
    "pipelineの動作をシミュレートするためには、Simulate Pipeline APIを用います。  \n",
    "pipelineの定義と、ドキュメントの内容を記述することで、実際にpipeline処理が行われた時の出力結果を確認することができます。"
   ]
  },
  {
   "cell_type": "code",
   "execution_count": 39,
   "metadata": {
    "lc_cell_meme": {
     "current": "9154e66a-152a-11e7-b31a-0242ac12000d",
     "next": "9154e840-152a-11e7-b31a-0242ac12000d",
     "previous": "9154e4a8-152a-11e7-b31a-0242ac12000d"
    },
    "scrolled": true
   },
   "outputs": [
    {
     "name": "stdout",
     "output_type": "stream",
     "text": [
      "{\n",
      "  \"docs\" : [\n",
      "    {\n",
      "      \"doc\" : {\n",
      "        \"_type\" : \"logs\",\n",
      "        \"_id\" : \"id\",\n",
      "        \"_index\" : \"sample_index\",\n",
      "        \"_source\" : {\n",
      "          \"country\" : \"japan\",\n",
      "          \"wind_speed_avg\" : \"4.4\",\n",
      "          \"snowfall\" : \"\",\n",
      "          \"temperature_max\" : \"8.2\",\n",
      "          \"precipitation_day\" : \"0\",\n",
      "          \"wind_speed_max\" : \"9.4\",\n",
      "          \"sunshine_duration\" : \"1.3\",\n",
      "          \"temperature_avg\" : \"3.7\",\n",
      "          \"temperature_min\" : \"0.7\",\n",
      "          \"wind_direction_max_moment\" : \"北西\",\n",
      "          \"information_night\" : \"晴\",\n",
      "          \"timestamp\" : \"1\",\n",
      "          \"precipitation_max_10min\" : \"0\",\n",
      "          \"precipitation_max_hour\" : \"0\",\n",
      "          \"wind_direction\" : \"西\",\n",
      "          \"information_daytime\" : \"時々晴一時雪\",\n",
      "          \"humidity_avg\" : \"41\",\n",
      "          \"humidity_min\" : \"30\",\n",
      "          \"atmospheric_pressure\" : \"1000.4\",\n",
      "          \"wind_speed_max_moment\" : \"18.7\",\n",
      "          \"snowfall_max\" : \"\",\n",
      "          \"sea_level_pressure\" : \"1003.4\"\n",
      "        },\n",
      "        \"_ingest\" : {\n",
      "          \"timestamp\" : \"2017-06-08T08:06:54.806+0000\"\n",
      "        }\n",
      "      }\n",
      "    },\n",
      "    {\n",
      "      \"doc\" : {\n",
      "        \"_type\" : \"logs\",\n",
      "        \"_id\" : \"id\",\n",
      "        \"_index\" : \"sample_index\",\n",
      "        \"_source\" : {\n",
      "          \"country\" : \"japan\",\n",
      "          \"wind_speed_avg\" : \"2.1\",\n",
      "          \"snowfall\" : \"\",\n",
      "          \"temperature_max\" : \"7.9\",\n",
      "          \"precipitation_day\" : \"\",\n",
      "          \"wind_speed_max\" : \"4.2\",\n",
      "          \"sunshine_duration\" : \"6\",\n",
      "          \"temperature_avg\" : \"2.7\",\n",
      "          \"temperature_min\" : \"-2.2\",\n",
      "          \"wind_direction_max_moment\" : \"西\",\n",
      "          \"information_night\" : \"一時曇\",\n",
      "          \"timestamp\" : \"2\",\n",
      "          \"precipitation_max_10min\" : \"\",\n",
      "          \"precipitation_max_hour\" : \"\",\n",
      "          \"wind_direction\" : \"西\",\n",
      "          \"information_daytime\" : \"時々曇\",\n",
      "          \"humidity_avg\" : \"41\",\n",
      "          \"humidity_min\" : \"19\",\n",
      "          \"atmospheric_pressure\" : \"1007.4\",\n",
      "          \"wind_speed_max_moment\" : \"7.8\",\n",
      "          \"snowfall_max\" : \"\",\n",
      "          \"sea_level_pressure\" : \"1010.4\"\n",
      "        },\n",
      "        \"_ingest\" : {\n",
      "          \"timestamp\" : \"2017-06-08T08:06:54.806+0000\"\n",
      "        }\n",
      "      }\n",
      "    }\n",
      "  ]\n",
      "}\n"
     ]
    },
    {
     "name": "stderr",
     "output_type": "stream",
     "text": [
      "  % Total    % Received % Xferd  Average Speed   Time    Time     Time  Current\n",
      "                                 Dload  Upload   Total   Spent    Left  Speed\n",
      "\r",
      "  0     0    0     0    0     0      0      0 --:--:-- --:--:-- --:--:--     0\r",
      "100  4431  100  2169  100  2262   300k   313k --:--:-- --:--:-- --:--:--  368k\n"
     ]
    }
   ],
   "source": [
    "%%bash\n",
    "curl -XPOST \"http://$ES_HOST/_ingest/pipeline/_simulate?pretty\" -d @- << EOF\n",
    "{\n",
    "    \"pipeline\":{\n",
    "        \"description\":\"_description\",\n",
    "        \"processors\":[\n",
    "            {\n",
    "                \"set\":{\n",
    "                    \"field\":\"country\",\n",
    "                    \"value\":\"japan\"\n",
    "                }\n",
    "            }\n",
    "        ]\n",
    "    },\n",
    "    \"docs\":[\n",
    "        {\n",
    "            \"_index\":\"$INDEX\",\n",
    "            \"_type\":\"$TYPE\",\n",
    "            \"_id\":\"id\",\n",
    "            \"_source\":{\n",
    "                \"timestamp\":\"1\",\n",
    "                \"atmospheric_pressure\":\"1000.4\",\n",
    "                \"sea_level_pressure\":\"1003.4\",\n",
    "                \"precipitation_day\":\"0\",\n",
    "                \"precipitation_max_hour\":\"0\",\n",
    "                \"precipitation_max_10min\":\"0\",\n",
    "                \"temperature_avg\":\"3.7\",\n",
    "                \"temperature_max\":\"8.2\",\n",
    "                \"temperature_min\":\"0.7\",\n",
    "                \"humidity_avg\":\"41\",\n",
    "                \"humidity_min\":\"30\",\n",
    "                \"wind_speed_avg\":\"4.4\",\n",
    "                \"wind_speed_max\":\"9.4\",\n",
    "                \"wind_direction\":\"西\",\n",
    "                \"wind_speed_max_moment\":\"18.7\",\n",
    "                \"wind_direction_max_moment\":\"北西\",\n",
    "                \"sunshine_duration\":\"1.3\",\n",
    "                \"snowfall\":\"\",\n",
    "                \"snowfall_max\":\"\",\n",
    "                \"information_daytime\":\"時々晴一時雪\",\n",
    "                \"information_night\":\"晴\"\n",
    "            }\n",
    "        },\n",
    "        {\n",
    "            \"_index\":\"$INDEX\",\n",
    "            \"_type\":\"$TYPE\",\n",
    "            \"_id\":\"id\",\n",
    "            \"_source\":{\n",
    "                \"timestamp\":\"2\",\n",
    "                \"atmospheric_pressure\":\"1007.4\",\n",
    "                \"sea_level_pressure\":\"1010.4\",\n",
    "                \"precipitation_day\":\"\",\n",
    "                \"precipitation_max_hour\":\"\",\n",
    "                \"precipitation_max_10min\":\"\",\n",
    "                \"temperature_avg\":\"2.7\",\n",
    "                \"temperature_max\":\"7.9\",\n",
    "                \"temperature_min\":\"-2.2\",\n",
    "                \"humidity_avg\":\"41\",\n",
    "                \"humidity_min\":\"19\",\n",
    "                \"wind_speed_avg\":\"2.1\",\n",
    "                \"wind_speed_max\":\"4.2\",\n",
    "                \"wind_direction\":\"西\",\n",
    "                \"wind_speed_max_moment\":\"7.8\",\n",
    "                \"wind_direction_max_moment\":\"西\",\n",
    "                \"sunshine_duration\":\"6\",\n",
    "                \"snowfall\":\"\",\n",
    "                \"snowfall_max\":\"\",\n",
    "                \"information_daytime\":\"時々曇\",\n",
    "                \"information_night\":\"一時曇\"\n",
    "            }\n",
    "        }\n",
    "    ]\n",
    "}\n",
    "EOF"
   ]
  },
  {
   "cell_type": "markdown",
   "metadata": {
    "lc_cell_meme": {
     "current": "9154e840-152a-11e7-b31a-0242ac12000d",
     "next": "9154ea0c-152a-11e7-b31a-0242ac12000d",
     "previous": "9154e66a-152a-11e7-b31a-0242ac12000d"
    }
   },
   "source": [
    "## トラブルシューティング"
   ]
  },
  {
   "cell_type": "markdown",
   "metadata": {
    "lc_cell_meme": {
     "current": "9154ea0c-152a-11e7-b31a-0242ac12000d",
     "next": "9154ebd8-152a-11e7-b31a-0242ac12000d",
     "previous": "9154e840-152a-11e7-b31a-0242ac12000d"
    }
   },
   "source": [
    "### 文字コード指定"
   ]
  },
  {
   "cell_type": "markdown",
   "metadata": {
    "lc_cell_meme": {
     "current": "9154ebd8-152a-11e7-b31a-0242ac12000d",
     "next": "9154ed9a-152a-11e7-b31a-0242ac12000d",
     "previous": "9154ea0c-152a-11e7-b31a-0242ac12000d"
    }
   },
   "source": [
    "Logstashでデータを扱う際には、文字コードを指定することができます。  \n",
    "codecプラグインの中でcharsetという項目を設定することで文字コードが指定されます。  \n",
    "デフォルト設定はutf-8になっています。"
   ]
  },
  {
   "cell_type": "markdown",
   "metadata": {
    "lc_cell_meme": {
     "current": "9154ed9a-152a-11e7-b31a-0242ac12000d",
     "next": "9154ef8e-152a-11e7-b31a-0242ac12000d",
     "previous": "9154ebd8-152a-11e7-b31a-0242ac12000d"
    }
   },
   "source": [
    "文字コードをshift-jisに指定する場合の設定例を示します。"
   ]
  },
  {
   "cell_type": "raw",
   "metadata": {
    "lc_cell_meme": {
     "current": "9154ef8e-152a-11e7-b31a-0242ac12000d",
     "next": "9154f182-152a-11e7-b31a-0242ac12000d",
     "previous": "9154ed9a-152a-11e7-b31a-0242ac12000d"
    }
   },
   "source": [
    "input{\n",
    "  stdin{\n",
    "    codec => plain{\n",
    "      charset => \"Shift_JIS\"\n",
    "    }\n",
    "  }\n",
    "}\n",
    "output{\n",
    "  stdout{\n",
    "    codec => \"rubydebug\"\n",
    "  }\n",
    "}"
   ]
  },
  {
   "cell_type": "markdown",
   "metadata": {
    "lc_cell_meme": {
     "current": "9154f182-152a-11e7-b31a-0242ac12000d",
     "next": "9154f34e-152a-11e7-b31a-0242ac12000d",
     "previous": "9154ef8e-152a-11e7-b31a-0242ac12000d"
    }
   },
   "source": [
    "### 自動で入るフィールドの削除"
   ]
  },
  {
   "cell_type": "markdown",
   "metadata": {
    "lc_cell_meme": {
     "current": "9154f34e-152a-11e7-b31a-0242ac12000d",
     "next": "9154f51a-152a-11e7-b31a-0242ac12000d",
     "previous": "9154f182-152a-11e7-b31a-0242ac12000d"
    }
   },
   "source": [
    "Elasticsearchにドキュメントを登録する際に、自動で付加されるフィールドがいくつかあります。  \n",
    "例えば\\_allフィールドや\\_sourceフィールドなどが自動的に付加されます。  \n",
    "これらのフィールドは高速に検索を行う時などに有用なフィールドですが、削除することでindexのサイズを少なくすることもできます。  \n",
    "_allや_sourceの詳細に関してはElastic Referenceの[Meta-Fields](https://www.elastic.co/guide/en/elasticsearch/reference/current/mapping-fields.html)を参照してください。"
   ]
  },
  {
   "cell_type": "markdown",
   "metadata": {
    "lc_cell_meme": {
     "current": "9154f51a-152a-11e7-b31a-0242ac12000d",
     "next": "9154f6dc-152a-11e7-b31a-0242ac12000d",
     "previous": "9154f34e-152a-11e7-b31a-0242ac12000d"
    }
   },
   "source": [
    "上記の_allや_sourceは、Elasticsearchへの登録時に作成されるフィールドですが、  \n",
    "hostや@timestampなどのようにLogstashで自動的に作成されるフィールドもあります。  \n",
    "これらのフィールドはLogstashの設定ファイルに設定を記述することで削除することができます。  \n",
    "詳しくはElastic Referenceの[mutate](https://www.elastic.co/guide/en/logstash/current/plugins-filters-mutate.html#plugins-filters-mutate-remove_field)を参照してください。"
   ]
  },
  {
   "cell_type": "markdown",
   "metadata": {
    "lc_cell_meme": {
     "current": "9154f6dc-152a-11e7-b31a-0242ac12000d",
     "next": "9154f8a8-152a-11e7-b31a-0242ac12000d",
     "previous": "9154f51a-152a-11e7-b31a-0242ac12000d"
    }
   },
   "source": [
    "### ドキュメントIDの重要性と付与方法"
   ]
  },
  {
   "cell_type": "markdown",
   "metadata": {
    "lc_cell_meme": {
     "current": "9154f8a8-152a-11e7-b31a-0242ac12000d",
     "next": "9154fa7e-152a-11e7-b31a-0242ac12000d",
     "previous": "9154f6dc-152a-11e7-b31a-0242ac12000d"
    }
   },
   "source": [
    "#### ドキュメントID の重要性"
   ]
  },
  {
   "cell_type": "markdown",
   "metadata": {
    "lc_cell_meme": {
     "current": "9154fa7e-152a-11e7-b31a-0242ac12000d",
     "next": "9154fc40-152a-11e7-b31a-0242ac12000d",
     "previous": "9154f8a8-152a-11e7-b31a-0242ac12000d"
    }
   },
   "source": [
    "Elasticsearchに登録されるドキュメントは、ドキュメントごとに固有のドキュメントIDを持ちます。  \n",
    "Logstashを用いてElasticsearchへのドキュメント登録を行う場合、ドキュメントIDを明示的に指定しなければランダムなドキュメントIDが付与されるようになっています。  \n",
    "  \n",
    "既にElasticsearchに登録されているものと重複するドキュメントIDを持ったドキュメントを新たに登録(index)しようとした場合には、ドキュメントは更新されません。  \n",
    "新しいドキュメントで上書きする場合は、更新(update)する必要があります。  \n",
    "この振る舞いは、index時の設定によって変更可能です。  \n",
    "設定の変更方法については、Logstash ReferenceのOutputプラグインelasticsearchの[actionパラメータの説明](https://www.elastic.co/guide/en/logstash/current/plugins-outputs-elasticsearch.html#plugins-outputs-elasticsearch-action)を参照してください。\n",
    "  \n",
    "ドキュメントIDを明示的に指定することの利点として挙げられるのが、ドキュメントの再登録時の重複防止です。  \n",
    "明示的に指定しなかった場合、内容が同一のドキュメントを複数回Elasticsearchに登録すると、その分だけ重複して登録されてしまいます。  \n",
    "ドキュメントIDを指定しておくことで、ドキュメント登録の処理が中断してしまった場合でも重複を気にせず再登録することができます。"
   ]
  },
  {
   "cell_type": "markdown",
   "metadata": {
    "collapsed": true,
    "lc_cell_meme": {
     "current": "9154fc40-152a-11e7-b31a-0242ac12000d",
     "next": "9154fe0c-152a-11e7-b31a-0242ac12000d",
     "previous": "9154fa7e-152a-11e7-b31a-0242ac12000d"
    }
   },
   "source": [
    "#### ドキュメントIDの付与方法"
   ]
  },
  {
   "cell_type": "markdown",
   "metadata": {
    "lc_cell_meme": {
     "current": "9154fe0c-152a-11e7-b31a-0242ac12000d",
     "next": "91550014-152a-11e7-b31a-0242ac12000d",
     "previous": "9154fc40-152a-11e7-b31a-0242ac12000d"
    }
   },
   "source": [
    "LogstashでドキュメントIDを明示的に付与するにはLogstashのoutputにある、elasticsearchプラグインの設定を利用します。  \n",
    "ドキュメントIDという項目で直接指定することができます。  \n",
    "他のフィールドの値を用いることもできるので、例えばmessageの内容をもとにドキュメントIDを付与すれば、同一内容のドキュメントに関して常に一意なidを付与することができます。  \n",
    "具体的な設定は次の通りです。"
   ]
  },
  {
   "cell_type": "code",
   "execution_count": 40,
   "metadata": {
    "lc_cell_meme": {
     "current": "91550014-152a-11e7-b31a-0242ac12000d",
     "next": "915501f4-152a-11e7-b31a-0242ac12000d",
     "previous": "9154fe0c-152a-11e7-b31a-0242ac12000d"
    },
    "scrolled": true
   },
   "outputs": [
    {
     "name": "stdout",
     "output_type": "stream",
     "text": [
      "input{\r\n",
      "  stdin{\r\n",
      "  }\r\n",
      "}\r\n",
      "\r\n",
      "filter{\r\n",
      "  csv{\r\n",
      "    columns => [\"timestamp\",\"location\",\"atmospheric_pressure\",\"sea_level_pressure\",\"precipitation_day\",\"precipitation_max_hour\",\"precipitation_max_10min\",\"temperature_avg\",\"temperature_max\",\"temperature_min\",\"humidity_avg\",\"humidity_min\",\"wind_speed_avg\",\"wind_speed_max\",\"wind_direction\",\"wind_speed_max_moment\",\"wind_direction_max_moment\",\"sunshine_duration\",\"snowfall\",\"snowfall_max\",\"information_daytime\",\"information_night\"]\r\n",
      "  }\r\n",
      "  date{\r\n",
      "    match => [\"timestamp\",\"ISO8601\"]\r\n",
      "    remove_field => \"timestamp\"\r\n",
      "  }\r\n",
      "}\r\n",
      "\r\n",
      "output{\r\n",
      "  elasticsearch{\r\n",
      "    index => \"document_id_test\"\r\n",
      "    document_id => \"%{location}-%{@timestamp}\"\r\n",
      "    hosts => \"localhost\"\r\n",
      "  }\r\n",
      "}"
     ]
    }
   ],
   "source": [
    "!cat logstash_conf/document_id.conf"
   ]
  },
  {
   "cell_type": "markdown",
   "metadata": {
    "lc_cell_meme": {
     "current": "915501f4-152a-11e7-b31a-0242ac12000d",
     "next": "915503c0-152a-11e7-b31a-0242ac12000d",
     "previous": "91550014-152a-11e7-b31a-0242ac12000d"
    }
   },
   "source": [
    "### 処理時間算出"
   ]
  },
  {
   "cell_type": "markdown",
   "metadata": {
    "lc_cell_meme": {
     "current": "915503c0-152a-11e7-b31a-0242ac12000d",
     "next": "91550596-152a-11e7-b31a-0242ac12000d",
     "previous": "915501f4-152a-11e7-b31a-0242ac12000d"
    }
   },
   "source": [
    "データ投入作業時にかかる時間を、概算で算出する方法を示します。  \n",
    "やり方として、定期的にElasticsearchへクエリを送り、単位時間あたりどのくらいデータ投入ができているかを計測し算出します。  \n",
    "次の全件検索コマンドを実行します。"
   ]
  },
  {
   "cell_type": "code",
   "execution_count": 41,
   "metadata": {
    "lc_cell_meme": {
     "current": "91550596-152a-11e7-b31a-0242ac12000d",
     "next": "9155076c-152a-11e7-b31a-0242ac12000d",
     "previous": "915503c0-152a-11e7-b31a-0242ac12000d"
    },
    "scrolled": true
   },
   "outputs": [
    {
     "name": "stdout",
     "output_type": "stream",
     "text": [
      "{\n",
      "  \"took\" : 1,\n",
      "  \"timed_out\" : false,\n",
      "  \"_shards\" : {\n",
      "    \"total\" : 1,\n",
      "    \"successful\" : 1,\n",
      "    \"failed\" : 0\n",
      "  },\n",
      "  \"hits\" : {\n",
      "    \"total\" : 139,\n",
      "    \"max_score\" : 0.0,\n",
      "    \"hits\" : [ ]\n",
      "  }\n",
      "}\n"
     ]
    },
    {
     "name": "stderr",
     "output_type": "stream",
     "text": [
      "  % Total    % Received % Xferd  Average Speed   Time    Time     Time  Current\n",
      "                                 Dload  Upload   Total   Spent    Left  Speed\n",
      "\r",
      "  0     0    0     0    0     0      0      0 --:--:-- --:--:-- --:--:--     0\r",
      "100   247  100   194  100    53  53296  14560 --:--:-- --:--:-- --:--:-- 64666\n"
     ]
    }
   ],
   "source": [
    "%%bash\n",
    "curl -XGET \"http://$ES_HOST/$INDEX/_search?pretty\" -d @- << EOF\n",
    "{\n",
    "  \"size\": 0,\n",
    "  \"query\" : { \n",
    "    \"match_all\" : {} \n",
    "  } \n",
    "}\n",
    "EOF"
   ]
  },
  {
   "cell_type": "markdown",
   "metadata": {
    "lc_cell_meme": {
     "current": "9155076c-152a-11e7-b31a-0242ac12000d",
     "history": [
      {
       "current": "9155076c-152a-11e7-b31a-0242ac12000d",
       "next": null,
       "previous": "91550596-152a-11e7-b31a-0242ac12000d"
      }
     ],
     "next": "a828c718-1830-11e7-b31a-0242ac12000d",
     "previous": "91550596-152a-11e7-b31a-0242ac12000d"
    }
   },
   "source": [
    "\"hits\"配下の\"total\"が投入されたデータ数になり、この値を使用します。  \n",
    "例えば、ある程度の間隔でコマンドを実行し、totalの変化量を知ることでおおまかにですが全体の処理時間を算出することができます。  "
   ]
  },
  {
   "cell_type": "markdown",
   "metadata": {
    "lc_cell_meme": {
     "current": "a828c718-1830-11e7-b31a-0242ac12000d",
     "next": "a828cbc8-1830-11e7-b31a-0242ac12000d",
     "previous": "9155076c-152a-11e7-b31a-0242ac12000d"
    }
   },
   "source": [
    "### タイムゾーンについての注意"
   ]
  },
  {
   "cell_type": "markdown",
   "metadata": {
    "lc_cell_meme": {
     "current": "a828cbc8-1830-11e7-b31a-0242ac12000d",
     "next": "a828ce0c-1830-11e7-b31a-0242ac12000d",
     "previous": "a828c718-1830-11e7-b31a-0242ac12000d"
    }
   },
   "source": [
    "Elasticsearchの内部ではデータの時間をUTCで持っています。  \n",
    "例えば、インダックス名に\"some_index-2015.01.01\"のような日付を使用していた場合、日本時間で1月1日8時のデータは\"some_index-2014.12.31\"の23時のデータとして持ちます。9時間ずれた結果、前日のインデックスに登録されます。インデックスを指定して検索する場合には注意が必要です。  \n",
    "  \n",
    "データ投入時に使用したいタイムゾーンに合わせる必要があります。  \n",
    "データ投入後にタイムゾーンを変更する場合、再投入が必要となります。"
   ]
  },
  {
   "cell_type": "markdown",
   "metadata": {
    "lc_cell_meme": {
     "current": "a828ce0c-1830-11e7-b31a-0242ac12000d",
     "next": null,
     "previous": "a828cbc8-1830-11e7-b31a-0242ac12000d"
    }
   },
   "source": [
    "タイムゾーンを指定したクエリについてはElasticsearch Referenceの[Time Zone](https://www.elastic.co/guide/en/elasticsearch/reference/5.0/search-aggregations-bucket-datehistogram-aggregation.html#_time_zone)を参照してください。"
   ]
  }
 ],
 "metadata": {
  "anaconda-cloud": {},
  "kernelspec": {
   "display_name": "Python 2 (LC_wrapper)",
   "language": "python",
   "name": "python2-wrapper"
  },
  "language_info": {
   "file_extension": ".py",
   "mimetype": "text/x-python",
   "name": "python",
   "nbconvert_exporter": "python",
   "pygments_lexer": "ipython2",
   "version": "2.7.9"
  },
  "lc_notebook_meme": {
   "current": "91542554-152a-11e7-b31a-0242ac12000d"
  },
  "toc": {
   "colors": {
    "hover_highlight": "#DAA520",
    "navigate_num": "#000000",
    "navigate_text": "#333333",
    "running_highlight": "#FF0000",
    "selected_highlight": "#FFD700",
    "sidebar_border": "#EEEEEE",
    "wrapper_background": "#FFFFFF"
   },
   "moveMenuLeft": true,
   "nav_menu": {
    "height": "389px",
    "width": "252px"
   },
   "navigate_menu": true,
   "number_sections": true,
   "sideBar": true,
   "threshold": 4,
   "toc_cell": false,
   "toc_position": {
    "height": "610px",
    "left": "0px",
    "right": "1169.11px",
    "top": "107px",
    "width": "212px"
   },
   "toc_section_display": "block",
   "toc_window_display": true,
   "widenNotebook": false
  }
 },
 "nbformat": 4,
 "nbformat_minor": 1
}
