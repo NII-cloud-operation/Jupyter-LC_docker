{
 "cells": [
  {
   "cell_type": "markdown",
   "metadata": {
    "lc_cell_meme": {
     "current": "c764f7b0-1528-11e7-b31a-0242ac12000d",
     "history": [
      {
       "current": "c764f7b0-1528-11e7-b31a-0242ac12000d",
       "next": "c764f9fe-1528-11e7-b31a-0242ac12000d",
       "previous": null
      }
     ],
     "next": "80a53598-184c-11e7-b31a-0242ac12000d",
     "previous": null
    }
   },
   "source": [
    "# Data Node追加操作\n",
    "----\n",
    "新しいData&nbsp;Nodeを クラスタに追加します。\n",
    "\n",
    "**<font color=\"red\">このデモ環境では実施できません。クラスタを運用した場合のイメージとしてお読みください。</font>**"
   ]
  },
  {
   "cell_type": "markdown",
   "metadata": {
    "lc_cell_meme": {
     "current": "80a53598-184c-11e7-b31a-0242ac12000d",
     "next": "80a53a3e-184c-11e7-b31a-0242ac12000d",
     "previous": "c764f7b0-1528-11e7-b31a-0242ac12000d"
    }
   },
   "source": [
    "## 準備\n",
    "本章のコマンドを実行するための設定を行います。"
   ]
  },
  {
   "cell_type": "markdown",
   "metadata": {
    "lc_cell_meme": {
     "current": "80a53a3e-184c-11e7-b31a-0242ac12000d",
     "next": "80a53cb4-184c-11e7-b31a-0242ac12000d",
     "previous": "80a53598-184c-11e7-b31a-0242ac12000d"
    }
   },
   "source": [
    "セットアップ済みの環境のうちコマンドを送る先であるCoordinating(Client) Nodeのホストアドレスを、次のセルに記入して実行し、保存してください。"
   ]
  },
  {
   "cell_type": "code",
   "execution_count": 1,
   "metadata": {
    "editable": false,
    "lc_cell_meme": {
     "current": "80a53cb4-184c-11e7-b31a-0242ac12000d",
     "next": "c764f9fe-1528-11e7-b31a-0242ac12000d",
     "previous": "80a53a3e-184c-11e7-b31a-0242ac12000d"
    },
    "run_control": {
     "frozen": true
    }
   },
   "outputs": [
    {
     "name": "stdout",
     "output_type": "stream",
     "text": [
      "env: ES_HOST=XXX.XXX.XXX.233:9200\n"
     ]
    }
   ],
   "source": [
    "%env ES_HOST=XXX.XXX.XXX.233:9200"
   ]
  },
  {
   "cell_type": "markdown",
   "metadata": {
    "lc_cell_meme": {
     "current": "c764f9fe-1528-11e7-b31a-0242ac12000d",
     "history": [
      {
       "current": "c764f9fe-1528-11e7-b31a-0242ac12000d",
       "next": "c764fc06-1528-11e7-b31a-0242ac12000d",
       "previous": "c764f7b0-1528-11e7-b31a-0242ac12000d"
      }
     ],
     "next": "c764fc06-1528-11e7-b31a-0242ac12000d",
     "previous": "80a53cb4-184c-11e7-b31a-0242ac12000d"
    }
   },
   "source": [
    "## サーバの追加生成\n",
    "Data Nodeを生成する先のサーバを生成します。"
   ]
  },
  {
   "cell_type": "markdown",
   "metadata": {
    "lc_cell_meme": {
     "current": "c764fc06-1528-11e7-b31a-0242ac12000d",
     "next": "c764fe04-1528-11e7-b31a-0242ac12000d",
     "previous": "c764f9fe-1528-11e7-b31a-0242ac12000d"
    }
   },
   "source": [
    "[01_02_Accommodation_AWS.ipynb](01_02_Accommodation_AWS.ipynb)を開きます。  \n",
    "\n",
    "- 追加したいサーバのスペックを入力してください。\n",
    "- instance_count は全台数でなく、追加したい台数を入力します。\n",
    "- Notebookを最後まで走行させてください。追加したサーバのホスト情報を得ます。"
   ]
  },
  {
   "cell_type": "markdown",
   "metadata": {
    "lc_cell_meme": {
     "current": "c764fe04-1528-11e7-b31a-0242ac12000d",
     "next": "c764fff8-1528-11e7-b31a-0242ac12000d",
     "previous": "c764fc06-1528-11e7-b31a-0242ac12000d"
    }
   },
   "source": [
    "## インベントリへホストを追加\n",
    "追加したホスト情報を既存のインベントリに追記します。"
   ]
  },
  {
   "cell_type": "markdown",
   "metadata": {
    "lc_cell_meme": {
     "current": "c764fff8-1528-11e7-b31a-0242ac12000d",
     "next": "c76501e2-1528-11e7-b31a-0242ac12000d",
     "previous": "c764fe04-1528-11e7-b31a-0242ac12000d"
    }
   },
   "source": [
    "バックアップ用ディレクトリを生成します。"
   ]
  },
  {
   "cell_type": "code",
   "execution_count": 4,
   "metadata": {
    "editable": false,
    "lc_cell_meme": {
     "current": "c76501e2-1528-11e7-b31a-0242ac12000d",
     "next": "c76503cc-1528-11e7-b31a-0242ac12000d",
     "previous": "c764fff8-1528-11e7-b31a-0242ac12000d"
    },
    "run_control": {
     "frozen": true
    }
   },
   "outputs": [
    {
     "name": "stdout",
     "output_type": "stream",
     "text": [
      "./bak_20170322\n"
     ]
    }
   ],
   "source": [
    "from datetime import datetime as dt\n",
    "import os\n",
    "bak_dir = './bak_' + dt.now().strftime('%Y%m%d')\n",
    "if(not os.path.isdir(bak_dir)) : os.mkdir(bak_dir)\n",
    "print(bak_dir)"
   ]
  },
  {
   "cell_type": "markdown",
   "metadata": {
    "lc_cell_meme": {
     "current": "c76503cc-1528-11e7-b31a-0242ac12000d",
     "next": "c76505a2-1528-11e7-b31a-0242ac12000d",
     "previous": "c76501e2-1528-11e7-b31a-0242ac12000d"
    }
   },
   "source": [
    "ファイルを生成したディレクトリにコピーします。"
   ]
  },
  {
   "cell_type": "code",
   "execution_count": 5,
   "metadata": {
    "collapsed": true,
    "editable": false,
    "lc_cell_meme": {
     "current": "c76505a2-1528-11e7-b31a-0242ac12000d",
     "next": "c7650778-1528-11e7-b31a-0242ac12000d",
     "previous": "c76503cc-1528-11e7-b31a-0242ac12000d"
    },
    "run_control": {
     "frozen": true
    }
   },
   "outputs": [],
   "source": [
    "!cp ./hosts {bak_dir}/hosts"
   ]
  },
  {
   "cell_type": "markdown",
   "metadata": {
    "lc_cell_meme": {
     "current": "c7650778-1528-11e7-b31a-0242ac12000d",
     "next": "c765094e-1528-11e7-b31a-0242ac12000d",
     "previous": "c76505a2-1528-11e7-b31a-0242ac12000d"
    }
   },
   "source": [
    "hostsファイルを次のリンクから編集してください。"
   ]
  },
  {
   "cell_type": "markdown",
   "metadata": {
    "lc_cell_meme": {
     "current": "c765094e-1528-11e7-b31a-0242ac12000d",
     "next": "c7650b24-1528-11e7-b31a-0242ac12000d",
     "previous": "c7650778-1528-11e7-b31a-0242ac12000d"
    }
   },
   "source": [
    "- **[hosts](../edit/hosts)**"
   ]
  },
  {
   "cell_type": "markdown",
   "metadata": {
    "lc_cell_meme": {
     "current": "c7650b24-1528-11e7-b31a-0242ac12000d",
     "next": "c7650d04-1528-11e7-b31a-0242ac12000d",
     "previous": "c765094e-1528-11e7-b31a-0242ac12000d"
    }
   },
   "source": [
    "変更結果を既存の内容（バックアップディレクトリに退避しているもの）と比較するには、次のセルを実行してください。"
   ]
  },
  {
   "cell_type": "code",
   "execution_count": 6,
   "metadata": {
    "editable": false,
    "lc_cell_meme": {
     "current": "c7650d04-1528-11e7-b31a-0242ac12000d",
     "next": "c7650ec6-1528-11e7-b31a-0242ac12000d",
     "previous": "c7650b24-1528-11e7-b31a-0242ac12000d"
    },
    "run_control": {
     "frozen": true
    }
   },
   "outputs": [
    {
     "name": "stdout",
     "output_type": "stream",
     "text": [
      "--- ./bak_20170322/hosts\t2017-03-22 14:58:53.348890250 +0900\r\n",
      "+++ hosts\t2017-03-22 14:59:06.044996937 +0900\r\n",
      "@@ -14,8 +14,6 @@\r\n",
      " \r\n",
      " [ingest-nodes]\r\n",
      " ec2-54-238-216-212.ap-northeast-1.compute.amazonaws.com\r\n",
      "-ec2-54-249-8-131.ap-northeast-1.compute.amazonaws.com\r\n",
      "-ec2-54-249-98-66.ap-northeast-1.compute.amazonaws.com\r\n",
      " \r\n",
      " [logstash-server]\r\n",
      " ec2-54-238-216-212.ap-northeast-1.compute.amazonaws.com\r\n"
     ]
    }
   ],
   "source": [
    "!diff -ur {bak_dir}/hosts hosts"
   ]
  },
  {
   "cell_type": "markdown",
   "metadata": {
    "lc_cell_meme": {
     "current": "c7650ec6-1528-11e7-b31a-0242ac12000d",
     "next": "c765109c-1528-11e7-b31a-0242ac12000d",
     "previous": "c7650d04-1528-11e7-b31a-0242ac12000d"
    }
   },
   "source": [
    "## 追加したホストへのインストール\n",
    "追加したホストに、Elasticsearchをインストールし、設定します。"
   ]
  },
  {
   "cell_type": "markdown",
   "metadata": {
    "lc_cell_meme": {
     "current": "c765109c-1528-11e7-b31a-0242ac12000d",
     "next": "c7651268-1528-11e7-b31a-0242ac12000d",
     "previous": "c7650ec6-1528-11e7-b31a-0242ac12000d"
    }
   },
   "source": [
    "[01_04_Install.ipynb](01_04_Install.ipynb)を開き、走行させてください。  "
   ]
  },
  {
   "cell_type": "markdown",
   "metadata": {
    "lc_cell_meme": {
     "current": "c7651268-1528-11e7-b31a-0242ac12000d",
     "next": "c7651448-1528-11e7-b31a-0242ac12000d",
     "previous": "c765109c-1528-11e7-b31a-0242ac12000d"
    }
   },
   "source": [
    "## クラスタの状態確認\n",
    "クラスタに追加したData Nodeが参加できているか確認します。"
   ]
  },
  {
   "cell_type": "markdown",
   "metadata": {
    "lc_cell_meme": {
     "current": "c7651448-1528-11e7-b31a-0242ac12000d",
     "history": [
      {
       "current": "c7651448-1528-11e7-b31a-0242ac12000d",
       "next": "c765161e-1528-11e7-b31a-0242ac12000d",
       "previous": "c7651268-1528-11e7-b31a-0242ac12000d"
      }
     ],
     "next": "c76517f4-1528-11e7-b31a-0242ac12000d",
     "previous": "c7651268-1528-11e7-b31a-0242ac12000d"
    }
   },
   "source": [
    "（[01_04_Install.ipynb](01_04_Install.ipynb)でも実施していますが）クラスタのData Node数が増えていることを確認してください。  \n",
    "\n",
    "Client Nodeのアドレスか、それが無い場合はData Nodeのうちの1つのアドレスを設定してください。 "
   ]
  },
  {
   "cell_type": "markdown",
   "metadata": {
    "lc_cell_meme": {
     "current": "c76517f4-1528-11e7-b31a-0242ac12000d",
     "history": [
      {
       "current": "c76517f4-1528-11e7-b31a-0242ac12000d",
       "next": "c76519c0-1528-11e7-b31a-0242ac12000d",
       "previous": "c765161e-1528-11e7-b31a-0242ac12000d"
      }
     ],
     "next": "c76519c0-1528-11e7-b31a-0242ac12000d",
     "previous": "c7651448-1528-11e7-b31a-0242ac12000d"
    }
   },
   "source": [
    "次のコマンドを実施し、クラスタの状態を確認します。"
   ]
  },
  {
   "cell_type": "code",
   "execution_count": 3,
   "metadata": {
    "editable": false,
    "lc_cell_meme": {
     "current": "c76519c0-1528-11e7-b31a-0242ac12000d",
     "next": "c7651b96-1528-11e7-b31a-0242ac12000d",
     "previous": "c76517f4-1528-11e7-b31a-0242ac12000d"
    },
    "run_control": {
     "frozen": true
    }
   },
   "outputs": [
    {
     "name": "stdout",
     "output_type": "stream",
     "text": [
      "{\r\n",
      "  \"cluster_name\" : \"es-cluster\",\r\n",
      "  \"status\" : \"green\",\r\n",
      "  \"timed_out\" : false,\r\n",
      "  \"number_of_nodes\" : 3,\r\n",
      "  \"number_of_data_nodes\" : 3,\r\n",
      "  \"active_primary_shards\" : 39,\r\n",
      "  \"active_shards\" : 78,\r\n",
      "  \"relocating_shards\" : 0,\r\n",
      "  \"initializing_shards\" : 0,\r\n",
      "  \"unassigned_shards\" : 0,\r\n",
      "  \"delayed_unassigned_shards\" : 0,\r\n",
      "  \"number_of_pending_tasks\" : 0,\r\n",
      "  \"number_of_in_flight_fetch\" : 0,\r\n",
      "  \"task_max_waiting_in_queue_millis\" : 0,\r\n",
      "  \"active_shards_percent_as_number\" : 100.0\r\n",
      "}\r\n"
     ]
    }
   ],
   "source": [
    "!curl -XGET http://$ES_HOST/_cluster/health?pretty"
   ]
  },
  {
   "cell_type": "markdown",
   "metadata": {
    "lc_cell_meme": {
     "current": "c7651b96-1528-11e7-b31a-0242ac12000d",
     "history": [
      {
       "current": "c7651b96-1528-11e7-b31a-0242ac12000d",
       "next": null,
       "previous": "c76519c0-1528-11e7-b31a-0242ac12000d"
      }
     ],
     "next": "7fcfd618-1843-11e7-b31a-0242ac12000d",
     "previous": "c76519c0-1528-11e7-b31a-0242ac12000d"
    }
   },
   "source": [
    "\"number_of_data_nodes\"が、増えた結果のData Node数と一致しているか確認してください。"
   ]
  },
  {
   "cell_type": "markdown",
   "metadata": {
    "lc_cell_meme": {
     "current": "7fcfd618-1843-11e7-b31a-0242ac12000d",
     "next": "7fcfda3c-1843-11e7-b31a-0242ac12000d",
     "previous": "c7651b96-1528-11e7-b31a-0242ac12000d"
    }
   },
   "source": [
    "## Data Node追加・障害復旧時の注意点\n",
    "Data Nodeを追加したり、一度障害が発生してクラスタから抜けたData Nodeを復旧させる際の注意点について説明します。"
   ]
  },
  {
   "cell_type": "markdown",
   "metadata": {
    "lc_cell_meme": {
     "current": "7fcfda3c-1843-11e7-b31a-0242ac12000d",
     "history": [
      {
       "current": "7fcfda3c-1843-11e7-b31a-0242ac12000d",
       "next": "7fcfdc76-1843-11e7-b31a-0242ac12000d",
       "previous": "7fcfd618-1843-11e7-b31a-0242ac12000d"
      }
     ],
     "next": "7fcfde6a-1843-11e7-b31a-0242ac12000d",
     "previous": "7fcfd618-1843-11e7-b31a-0242ac12000d"
    }
   },
   "source": [
    "1. データが入った状態のNodeを追加した場合、ドキュメントIDが重複してしまう可能性があります。  \n",
    "    その場合追加された方が無視されるので結果としてデータが入っていないように見えてしまいます。  \n",
    "    Data Nodeを追加する場合はデータが入っていないものを追加するようにしてください。\n",
    "1. Data Nodeが追加、または削除された場合、クラスタのデータが再構成されて均等に分散されます。  \n",
    "    この処理にはCPU,メモリを消費するためその期間は性能が落ちます。Task Management APIを使用して実行中のイベントを確認することができます。  \n",
    "    Task APIについてはElasticsearch Referenceの[Task Management API](https://www.elastic.co/guide/en/elasticsearch/reference/5.0/tasks.html)を参照してください。\n",
    "    \n",
    "    ノード内の実行中のイベントを確認するコマンドは次の通りです。"
   ]
  },
  {
   "cell_type": "code",
   "execution_count": null,
   "metadata": {
    "collapsed": true,
    "editable": false,
    "lc_cell_meme": {
     "current": "7fcfde6a-1843-11e7-b31a-0242ac12000d",
     "history": [
      {
       "current": "7fcfde6a-1843-11e7-b31a-0242ac12000d",
       "next": null,
       "previous": "7fcfdc76-1843-11e7-b31a-0242ac12000d"
      }
     ],
     "next": null,
     "previous": "7fcfda3c-1843-11e7-b31a-0242ac12000d"
    },
    "run_control": {
     "frozen": true
    }
   },
   "outputs": [],
   "source": [
    "!curl -XGET http://$ES_HOST/_tasks?group_by=parents&pretty"
   ]
  }
 ],
 "metadata": {
  "kernelspec": {
   "display_name": "Python 2 (LC_wrapper)",
   "language": "python",
   "name": "python2-wrapper"
  },
  "language_info": {
   "file_extension": ".py",
   "mimetype": "text/x-python",
   "name": "python",
   "nbconvert_exporter": "python",
   "pygments_lexer": "ipython2",
   "version": "2.7.9"
  },
  "lc_notebook_meme": {
   "current": "c764f364-1528-11e7-b31a-0242ac12000d"
  },
  "toc": {
   "colors": {
    "hover_highlight": "#DAA520",
    "navigate_num": "#000000",
    "navigate_text": "#333333",
    "running_highlight": "#FF0000",
    "selected_highlight": "#FFD700",
    "sidebar_border": "#EEEEEE",
    "wrapper_background": "#FFFFFF"
   },
   "moveMenuLeft": true,
   "nav_menu": {
    "height": "102px",
    "width": "252px"
   },
   "navigate_menu": true,
   "number_sections": true,
   "sideBar": true,
   "threshold": 4,
   "toc_cell": false,
   "toc_section_display": "block",
   "toc_window_display": true,
   "widenNotebook": false
  }
 },
 "nbformat": 4,
 "nbformat_minor": 2
}
