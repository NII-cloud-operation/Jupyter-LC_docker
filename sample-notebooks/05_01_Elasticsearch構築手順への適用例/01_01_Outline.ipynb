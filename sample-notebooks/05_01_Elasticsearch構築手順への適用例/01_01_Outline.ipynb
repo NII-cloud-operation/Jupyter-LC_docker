{
 "cells": [
  {
   "cell_type": "markdown",
   "metadata": {
    "lc_cell_meme": {
     "current": "f8c05dd8-14ea-11e7-b31a-0242ac12000d",
     "next": "f8c0601c-14ea-11e7-b31a-0242ac12000d",
     "previous": null
    }
   },
   "source": [
    "# Elastic Stackの構築：概要\n",
    "----\n",
    "Elastic Stackの概念やNodeの種類、 サイジングの観点について説明します。\n",
    "\n",
    "第1節はアーキテクチャーの説明でドキュメントのみで実行すべき手順は含まれていません。第2節は、この後の構築作業で利用する設定ファイルを生成します。\n",
    "\n",
    "**<font color=\"red\">かんたんに1ノードで試すだけであれば、1節を読み飛ばし、2節から実行しても問題ありません。</font>**"
   ]
  },
  {
   "cell_type": "markdown",
   "metadata": {
    "lc_cell_meme": {
     "current": "f8c0601c-14ea-11e7-b31a-0242ac12000d",
     "history": [
      {
       "current": "f8c0601c-14ea-11e7-b31a-0242ac12000d",
       "next": "f8c0622e-14ea-11e7-b31a-0242ac12000d",
       "previous": "f8c05dd8-14ea-11e7-b31a-0242ac12000d"
      }
     ],
     "next": "f8c06418-14ea-11e7-b31a-0242ac12000d",
     "previous": "f8c05dd8-14ea-11e7-b31a-0242ac12000d"
    }
   },
   "source": [
    "## 基本概念\n",
    "実際の構築の前に、クラスタやそれを構成するNodeに関する基本概念を説明します。"
   ]
  },
  {
   "cell_type": "markdown",
   "metadata": {
    "lc_cell_meme": {
     "current": "f8c06418-14ea-11e7-b31a-0242ac12000d",
     "history": [
      {
       "current": "f8c06418-14ea-11e7-b31a-0242ac12000d",
       "next": "f8c06602-14ea-11e7-b31a-0242ac12000d",
       "previous": "f8c0622e-14ea-11e7-b31a-0242ac12000d"
      }
     ],
     "next": "f8c06602-14ea-11e7-b31a-0242ac12000d",
     "previous": "f8c0601c-14ea-11e7-b31a-0242ac12000d"
    }
   },
   "source": [
    "### Elasticsearchクラスタ"
   ]
  },
  {
   "cell_type": "markdown",
   "metadata": {
    "lc_cell_meme": {
     "current": "f8c06602-14ea-11e7-b31a-0242ac12000d",
     "next": "f8c067ce-14ea-11e7-b31a-0242ac12000d",
     "previous": "f8c06418-14ea-11e7-b31a-0242ac12000d"
    }
   },
   "source": [
    "Elasticsearchは複数台のサーバで起動しているElasticsearch間で連携して、分散処理を行うことができます。  \n",
    "以下のような要素によって構成されます。"
   ]
  },
  {
   "cell_type": "markdown",
   "metadata": {
    "lc_cell_meme": {
     "current": "f8c067ce-14ea-11e7-b31a-0242ac12000d",
     "next": "f8c069a4-14ea-11e7-b31a-0242ac12000d",
     "previous": "f8c06602-14ea-11e7-b31a-0242ac12000d"
    }
   },
   "source": [
    "![images/01_basic_concept.png](images/01_basic_concept.png)\n",
    "\n",
    "**※Node数が3、Shard数が3、Replica数が1の場合の例**"
   ]
  },
  {
   "cell_type": "markdown",
   "metadata": {
    "lc_cell_meme": {
     "current": "f8c069a4-14ea-11e7-b31a-0242ac12000d",
     "next": "f8c06b70-14ea-11e7-b31a-0242ac12000d",
     "previous": "f8c067ce-14ea-11e7-b31a-0242ac12000d"
    }
   },
   "source": [
    "|名称|意味|\n",
    "|----|----|\n",
    "|ノード<br>Node|動作しているElasticsearch Serverのことです。|\n",
    "|クラスタ<br>Cluster|Nodeの集合です。|\n",
    "|インデックス<br>Index|リレーショナルデータベースでのDatabaseに相当する概念です。<br>Indexは複数のType(テーブルに相当)を持ち、<br>Typeは複数のDocument(レコードに相当)を持ちます。<br>1つのClusterに複数のIndexを作成できます。|\n",
    "|シャード<br>Shard|Indexを分割した断片です。Shardの単位でNodeに配置されます。|\n",
    "|プライマリシャード<br>Primary Shard|読み書きの対象となるShardです。|\n",
    "|レプリカシャード<br>Replica Shard|読み取り専用の、Primary Shardの複製です。|\n"
   ]
  },
  {
   "cell_type": "markdown",
   "metadata": {
    "lc_cell_meme": {
     "current": "f8c06b70-14ea-11e7-b31a-0242ac12000d",
     "next": "f8c06d46-14ea-11e7-b31a-0242ac12000d",
     "previous": "f8c069a4-14ea-11e7-b31a-0242ac12000d"
    }
   },
   "source": [
    "複数のNodeを生成してそれぞれを物理マシン等に分散配置することで、蓄積するデータ量や検索の速度を向上できますが、\n",
    "用意した各物理マシンのスペックを十分に発揮させてElasticsearchのクラウドを稼働させるには、蓄積しているデータも分割して分散配置する必要があります。  \n",
    "Shardはそのための分割の単位です。分割するShard数を設定することで、自動的にCluster内のNodeにPrimary Shardとして配置されます。  \n",
    "さらに設定されたReplica数だけ、各Primary Shardが複製され、可用性を確保します。"
   ]
  },
  {
   "cell_type": "markdown",
   "metadata": {
    "lc_cell_meme": {
     "current": "f8c06d46-14ea-11e7-b31a-0242ac12000d",
     "next": "f8c06f12-14ea-11e7-b31a-0242ac12000d",
     "previous": "f8c06b70-14ea-11e7-b31a-0242ac12000d"
    }
   },
   "source": [
    "### Nodeの種類と使い分け\n",
    "\n",
    "Nodeの役割はデータの蓄積だけではありません。Clusterの管理やデータの加工などの役割を持った、複数のNodeの種類が存在します。  \n",
    "種類ごとの役割は次の通りです。"
   ]
  },
  {
   "cell_type": "markdown",
   "metadata": {
    "lc_cell_meme": {
     "current": "f8c06f12-14ea-11e7-b31a-0242ac12000d",
     "next": "f8c070de-14ea-11e7-b31a-0242ac12000d",
     "previous": "f8c06d46-14ea-11e7-b31a-0242ac12000d"
    }
   },
   "source": [
    "![images/01_node_type.png](images/01_node_type.png)"
   ]
  },
  {
   "cell_type": "markdown",
   "metadata": {
    "lc_cell_meme": {
     "current": "f8c070de-14ea-11e7-b31a-0242ac12000d",
     "next": "f8c072aa-14ea-11e7-b31a-0242ac12000d",
     "previous": "f8c06f12-14ea-11e7-b31a-0242ac12000d"
    }
   },
   "source": [
    "| 種別              | 役割                                                                                                                                                                                                                                                                                                                                                                                                                                                                                                                                                                                                                                                      | elasticsearch.ymlの設定内容 |\n",
    "|-------------------|-----------------------------------------------------------------------------------------------------------------------------------------------------------------------------------------------------------------------------------------------------------------------------------------------------------------------------------------------------------------------------------------------------------------------------------------------------------------------------------------------------------------------------------------------------------------------------------------------------------------------------------------------------------| |\n",
    "| Coordinating Node | 検索リクエストやインデクシングリクエストなどを受けつけるノードです。<br>このノードは、リクエストを受けた際に必要なデータを持っているノードに対してリクエストを転送し、返ってきた結果をマージしてからレスポンスとして返す役割を持ちます。|**※特になし**<br><br>全てのノードは、設定によらずCoordinating Nodeとして動作します。実際のどのノードをCoordinating Nodeとするかは利用方法次第となります。 |\n",
    "| Master Node       | クラスタの管理を行うノードです。このノードはクラスタに属するノードを把握したり、データを保持するシャードを決定するなど、クラスタ全体に関わる役割を持ちます。<br>右の設定をしたノードはMaster Eligible Nodeと呼ばれるMasterの候補となります。<br>それらの候補が連携し、うち1台がMaster Nodeとして選出されるよう動きます。 |**node.master=true**<br>(デフォルトはtrue)<br><br>つまりデフォルトでMaster Eligible Nodeとなります。<br>なお、特にData nodeの役割を持たずにMaster Eligible Nodeの役割のみを持つノードをDedicated Master Nodeと呼びます。 |\n",
    "| Data Node         | Elasticsearchのデータを保持するノードです。このノードはデータを保持し、クエリに対応した結果を返す役割を持ちます。<br><br>Data NodeはMaster Nodeとは兼任することも、別にすることもできます。<br>特にノード数の少ないクラスタ構成（～5台程度）では、すべてのノードをMaster NodeかつData Nodeとし、ノード数が増えた場合には役割を分けると良いでしょう。 |**node.data=true**<br>(デフォルトはtrue)<br><br>つまりデフォルトでData Nodeとなります。 |\n",
    "| Client Node       | Master Node、Data Nodeのいずれの役割も担わず、Coordinating Nodeの役割に特化したノードの便宜的な呼び方です。<br><br>Kibanaを配置したサーバにElasticsearchのClient nodeを配置することで、他のElasticsearchのクラスタに負荷を掛けないようにしたり、Elasticsearchのロードバランサのように振る舞わせるようにしたりなどの用途で用います。|**node.master=false**<br>**node.data=false** |\n",
    "| Ingest Node       | 実際のインデクシング処理を行う前に、ドキュメントを加工することができるノードです。<br>いくつかの加工処理を記述した「pipeline」を登録しておけば、その内容に従った処理をすることが可能です。<br>また、pipelineの振る舞いを検査するためのSimulate Pipeline APIも提供されています。 | **node.ingest=true**<br>(デフォルトはtrue)<br><br>つまりデフォルトでIngest Nodeとなります。 |"
   ]
  },
  {
   "cell_type": "markdown",
   "metadata": {
    "lc_cell_meme": {
     "current": "f8c072aa-14ea-11e7-b31a-0242ac12000d",
     "next": "f8c07476-14ea-11e7-b31a-0242ac12000d",
     "previous": "f8c070de-14ea-11e7-b31a-0242ac12000d"
    }
   },
   "source": [
    "### クラスタ構成の例"
   ]
  },
  {
   "cell_type": "markdown",
   "metadata": {
    "lc_cell_meme": {
     "current": "f8c07476-14ea-11e7-b31a-0242ac12000d",
     "next": "f8c07642-14ea-11e7-b31a-0242ac12000d",
     "previous": "f8c072aa-14ea-11e7-b31a-0242ac12000d"
    }
   },
   "source": [
    "クラスタをサーバに配置する例を示します。\n",
    "Data Node3台、Master Node1台、Client Node1台です。  \n",
    "\n",
    "それと別にLogstash用のサーバを1台設けています。  \n",
    "Logstashとは、Elastic Stackをを構成するプロダクトの１つです。  \n",
    "様々な形式のデータの読み込み、加工、格納を処理するパイプラインを簡単に構築できます。  "
   ]
  },
  {
   "cell_type": "markdown",
   "metadata": {
    "lc_cell_meme": {
     "current": "f8c07642-14ea-11e7-b31a-0242ac12000d",
     "next": "f8c0780e-14ea-11e7-b31a-0242ac12000d",
     "previous": "f8c07476-14ea-11e7-b31a-0242ac12000d"
    }
   },
   "source": [
    "![images/01_5server.png](images/01_5server.png)"
   ]
  },
  {
   "cell_type": "markdown",
   "metadata": {
    "lc_cell_meme": {
     "current": "f8c0780e-14ea-11e7-b31a-0242ac12000d",
     "next": "f8c079e4-14ea-11e7-b31a-0242ac12000d",
     "previous": "f8c07642-14ea-11e7-b31a-0242ac12000d"
    }
   },
   "source": [
    "この図の例では、Master Node、Client Node、Logstashは、Data Node群とは別のサーバを確保していますが、実際はサーバ内に同居させることも可能です。  \n",
    "どのような構成とするかはシステムの要件に応じて調整すべきポイントとなります。\n",
    "\n",
    "次の章ではサーバの構成やサーバのスペック等、サイジングの観点について説明します。\n",
    "\n"
   ]
  },
  {
   "cell_type": "markdown",
   "metadata": {
    "lc_cell_meme": {
     "current": "f8c079e4-14ea-11e7-b31a-0242ac12000d",
     "next": "f8c07bb0-14ea-11e7-b31a-0242ac12000d",
     "previous": "f8c0780e-14ea-11e7-b31a-0242ac12000d"
    }
   },
   "source": [
    "## サイジングの考え方\n",
    "構築にあたり、1サーバのスペック、設定するshardの数、各役割のノード数を決める必要があります。  \n",
    "その際の指針となる考えを示します。  "
   ]
  },
  {
   "cell_type": "markdown",
   "metadata": {
    "lc_cell_meme": {
     "current": "f8c07bb0-14ea-11e7-b31a-0242ac12000d",
     "next": "f8c07d86-14ea-11e7-b31a-0242ac12000d",
     "previous": "f8c079e4-14ea-11e7-b31a-0242ac12000d"
    }
   },
   "source": [
    "\n",
    "具体的な数値に関しては用途に応じて決定してください。"
   ]
  },
  {
   "cell_type": "markdown",
   "metadata": {
    "lc_cell_meme": {
     "current": "f8c07d86-14ea-11e7-b31a-0242ac12000d",
     "next": "f8c07f5c-14ea-11e7-b31a-0242ac12000d",
     "previous": "f8c07bb0-14ea-11e7-b31a-0242ac12000d"
    }
   },
   "source": [
    "### 1サーバ当たりのスペック"
   ]
  },
  {
   "cell_type": "markdown",
   "metadata": {
    "lc_cell_meme": {
     "current": "f8c07f5c-14ea-11e7-b31a-0242ac12000d",
     "next": "f8c08236-14ea-11e7-b31a-0242ac12000d",
     "previous": "f8c07d86-14ea-11e7-b31a-0242ac12000d"
    }
   },
   "source": [
    "Elasticsearchに何をさせるかによってボトルネックになる箇所が異なるため、  \n",
    "ハードウェアのスペックを決定する際に、ある程度「どういう処理をするのか」を想定しておく必要があります。  \n",
    "\n",
    "Elasticsearchを利用する際に特に検討が必要なスペックは以下の通りです。  \n",
    "\n",
    "- CPU: 全体の処理速度とコア数はクエリの並列処理  \n",
    "- ディスク: 検索とindexの頻度(データ登録の頻度)  \n",
    "- メモリ: キャッシュとして利用されるため、ディスクと同じく検索のレスポンスに影響します。  "
   ]
  },
  {
   "cell_type": "markdown",
   "metadata": {
    "lc_cell_meme": {
     "current": "f8c08236-14ea-11e7-b31a-0242ac12000d",
     "next": "f8c0840c-14ea-11e7-b31a-0242ac12000d",
     "previous": "f8c07f5c-14ea-11e7-b31a-0242ac12000d"
    }
   },
   "source": [
    "#### CPUのコア数"
   ]
  },
  {
   "cell_type": "markdown",
   "metadata": {
    "lc_cell_meme": {
     "current": "f8c0840c-14ea-11e7-b31a-0242ac12000d",
     "next": "f8c085e2-14ea-11e7-b31a-0242ac12000d",
     "previous": "f8c08236-14ea-11e7-b31a-0242ac12000d"
    }
   },
   "source": [
    "CPUのコア数は検索のスループットに影響します。  \n",
    "コア数に応じて複数の検索リクエストを並行で処理できる機会が増えるためです。"
   ]
  },
  {
   "cell_type": "markdown",
   "metadata": {
    "lc_cell_meme": {
     "current": "f8c085e2-14ea-11e7-b31a-0242ac12000d",
     "next": "f8c087b8-14ea-11e7-b31a-0242ac12000d",
     "previous": "f8c0840c-14ea-11e7-b31a-0242ac12000d"
    }
   },
   "source": [
    "#### ディスクサイズ"
   ]
  },
  {
   "cell_type": "markdown",
   "metadata": {
    "lc_cell_meme": {
     "current": "f8c087b8-14ea-11e7-b31a-0242ac12000d",
     "next": "f8c0898e-14ea-11e7-b31a-0242ac12000d",
     "previous": "f8c085e2-14ea-11e7-b31a-0242ac12000d"
    }
   },
   "source": [
    "蓄積できるデータ量に影響します。  \n",
    "またReplica Shardの仕組みを使って他のノードのデータのバックアップを持ち合う場合は、より大きなディスクサイズを必要とします。"
   ]
  },
  {
   "cell_type": "markdown",
   "metadata": {
    "lc_cell_meme": {
     "current": "f8c0898e-14ea-11e7-b31a-0242ac12000d",
     "next": "f8c08b5a-14ea-11e7-b31a-0242ac12000d",
     "previous": "f8c087b8-14ea-11e7-b31a-0242ac12000d"
    }
   },
   "source": [
    "最低限、必要なディスクサイズは以下の計算式で求められます。\n",
    "\n",
    "**データサイズ ÷ Data Node数 × (１＋Replica数）**"
   ]
  },
  {
   "cell_type": "markdown",
   "metadata": {
    "lc_cell_meme": {
     "current": "f8c08b5a-14ea-11e7-b31a-0242ac12000d",
     "next": "f8c08d26-14ea-11e7-b31a-0242ac12000d",
     "previous": "f8c0898e-14ea-11e7-b31a-0242ac12000d"
    }
   },
   "source": [
    "これに安全率や、同サーバ内の他のプロセスが利用するサイズなどを勘案してディスクサイズを決定してください。"
   ]
  },
  {
   "cell_type": "markdown",
   "metadata": {
    "lc_cell_meme": {
     "current": "f8c08d26-14ea-11e7-b31a-0242ac12000d",
     "next": "f8c08ef2-14ea-11e7-b31a-0242ac12000d",
     "previous": "f8c08b5a-14ea-11e7-b31a-0242ac12000d"
    }
   },
   "source": [
    "#### メモリサイズ"
   ]
  },
  {
   "cell_type": "markdown",
   "metadata": {
    "lc_cell_meme": {
     "current": "f8c08ef2-14ea-11e7-b31a-0242ac12000d",
     "next": "f8c090be-14ea-11e7-b31a-0242ac12000d",
     "previous": "f8c08d26-14ea-11e7-b31a-0242ac12000d"
    }
   },
   "source": [
    "検索のレイテンシに影響します。検索データのキャッシュとしてメモリが利用されるためです。"
   ]
  },
  {
   "cell_type": "markdown",
   "metadata": {
    "lc_cell_meme": {
     "current": "f8c090be-14ea-11e7-b31a-0242ac12000d",
     "next": "f8c0929e-14ea-11e7-b31a-0242ac12000d",
     "previous": "f8c08ef2-14ea-11e7-b31a-0242ac12000d"
    }
   },
   "source": [
    "基本的にメモリが多ければ多いほど、キャッシュヒット率は上がり、応答が速くなる可能性は高まりますが、  \n",
    "メモリ量によって検索が速くなるかについては、発行されるクエリの種類にどれほどのバラつきがあるかによる（バラつきが大きいほどキャッシュヒットする確率は低くなる）ため、  \n",
    "同じ応答速度を保証したい場合でもメモリサイズが異なる場合があります。\n"
   ]
  },
  {
   "cell_type": "markdown",
   "metadata": {
    "lc_cell_meme": {
     "current": "f8c0929e-14ea-11e7-b31a-0242ac12000d",
     "next": "f8c09460-14ea-11e7-b31a-0242ac12000d",
     "previous": "f8c090be-14ea-11e7-b31a-0242ac12000d"
    }
   },
   "source": [
    "単純な検索クエリについてElastic社が性能検証を行った結果、もっともパフォーマンスが出やすいのが「メモリ:ディスク=1:16」と実測されました。  \n",
    "例えば、メモリが64GBの場合には1TBのデータ保持が適切です。  \n",
    "\n",
    "※メモリとディスク容量の比率はElastic社の資料[Sizing Scenario](https://speakerdeck.com/elastic/quantitative-cluster-sizing?slide=16)を参考にしています。\n",
    "\n",
    "|メモリ(GB)|ディスク(GB)|\n",
    "|---------|-----------|\n",
    "| 32      | 512       |\n",
    "| 64      | 1024      |\n",
    "<center>メモリとディスクの割合を1:16で計算した場合</center>"
   ]
  },
  {
   "cell_type": "markdown",
   "metadata": {
    "lc_cell_meme": {
     "current": "f8c09460-14ea-11e7-b31a-0242ac12000d",
     "next": "f8c0962c-14ea-11e7-b31a-0242ac12000d",
     "previous": "f8c0929e-14ea-11e7-b31a-0242ac12000d"
    }
   },
   "source": [
    "ただし、、そもそも検索速度をそれほど必要とせず、蓄積したいデータ量が多い場合は、必要なメモリの比率はさらに下がります。\n",
    "\n",
    "性能要件と費用対効果を勘案して、実測によりメモリサイズを調整してください。  \n",
    "ノード1台あたりのメモリサイズの詳細はElasticsearch Referenceの[Memory](https://www.elastic.co/guide/en/elasticsearch/guide/current/hardware.html#_memory)を参照してください。"
   ]
  },
  {
   "cell_type": "markdown",
   "metadata": {
    "lc_cell_meme": {
     "current": "f8c0962c-14ea-11e7-b31a-0242ac12000d",
     "next": "f8c097ee-14ea-11e7-b31a-0242ac12000d",
     "previous": "f8c09460-14ea-11e7-b31a-0242ac12000d"
    }
   },
   "source": [
    "### Shard数"
   ]
  },
  {
   "cell_type": "markdown",
   "metadata": {
    "lc_cell_meme": {
     "current": "f8c097ee-14ea-11e7-b31a-0242ac12000d",
     "next": "f8c099c4-14ea-11e7-b31a-0242ac12000d",
     "previous": "f8c0962c-14ea-11e7-b31a-0242ac12000d"
    }
   },
   "source": [
    "検索のレイテンシに影響します。  \n",
    "分割されたShardがData Nodeに分散配置されていれば、Data Nodeの数に応じた並列処理が期待できます。必要な性能要件と実測に応じて、Data Nodeの数に合わせてShard数を設定してください。"
   ]
  },
  {
   "cell_type": "markdown",
   "metadata": {
    "lc_cell_meme": {
     "current": "f8c099c4-14ea-11e7-b31a-0242ac12000d",
     "next": "f8c09b90-14ea-11e7-b31a-0242ac12000d",
     "previous": "f8c097ee-14ea-11e7-b31a-0242ac12000d"
    }
   },
   "source": [
    "設定方法としてshard数を縮小するためのAPIが用意されています。  \n",
    "詳細はElasticsearch Referenceの[Shrink Index](https://www.elastic.co/guide/en/elasticsearch/reference/current/indices-shrink-index.html)を参照してください。"
   ]
  },
  {
   "cell_type": "markdown",
   "metadata": {
    "lc_cell_meme": {
     "current": "f8c09b90-14ea-11e7-b31a-0242ac12000d",
     "next": "f8c09d5c-14ea-11e7-b31a-0242ac12000d",
     "previous": "f8c099c4-14ea-11e7-b31a-0242ac12000d"
    }
   },
   "source": [
    "また、shard数はクエリ解析時にも影響があります。  \n",
    "詳細は[01_05_Diagnostics](01_05_Diagnostics.ipynb#Slowログが無いか？-127)を参照してください。"
   ]
  },
  {
   "cell_type": "markdown",
   "metadata": {
    "lc_cell_meme": {
     "current": "f8c09d5c-14ea-11e7-b31a-0242ac12000d",
     "next": "f8c09f50-14ea-11e7-b31a-0242ac12000d",
     "previous": "f8c09b90-14ea-11e7-b31a-0242ac12000d"
    }
   },
   "source": [
    "### Replica数"
   ]
  },
  {
   "cell_type": "markdown",
   "metadata": {
    "lc_cell_meme": {
     "current": "f8c09f50-14ea-11e7-b31a-0242ac12000d",
     "next": "f8c0a126-14ea-11e7-b31a-0242ac12000d",
     "previous": "f8c09d5c-14ea-11e7-b31a-0242ac12000d"
    }
   },
   "source": [
    "Data Nodeが故障した場合の耐障害性に影響します。   \n",
    "Replicaが残っていれば、Data Nodeがクラッシュした際に動作を継続可能です。  \n",
    "Replica数がある分だけ動作継続の可能性は高まりますが、Data Nodeと同数以上の数を設定しても意味はありません。それ未満の数を設定してください。\n",
    "\n",
    "また[ディスクサイズ](#ディスクサイズ)で説明した通り、Replica数が大きくなるほど必要となるディスクサイズは大きくなります。  \n",
    "耐障害性と必要サイズのトレードオフを勘案してReplica数を設定してください。"
   ]
  },
  {
   "cell_type": "markdown",
   "metadata": {
    "lc_cell_meme": {
     "current": "f8c0a126-14ea-11e7-b31a-0242ac12000d",
     "next": "f8c0a2fc-14ea-11e7-b31a-0242ac12000d",
     "previous": "f8c09f50-14ea-11e7-b31a-0242ac12000d"
    }
   },
   "source": [
    "### サーバ台数"
   ]
  },
  {
   "cell_type": "markdown",
   "metadata": {
    "lc_cell_meme": {
     "current": "f8c0a2fc-14ea-11e7-b31a-0242ac12000d",
     "next": "f8c0a4d2-14ea-11e7-b31a-0242ac12000d",
     "previous": "f8c0a126-14ea-11e7-b31a-0242ac12000d"
    }
   },
   "source": [
    "求められる検索速度、扱うデータ量、用意できるサーバスペックによってクラスタを構成する台数は大きく変化します。  \n",
    "そのため、正確な見積もりは難しいため、ベンチマークを実施することを推奨します。  \n",
    "ここでは、データ、マスターノード数を決定する上での考えを示します。"
   ]
  },
  {
   "cell_type": "markdown",
   "metadata": {
    "lc_cell_meme": {
     "current": "f8c0a4d2-14ea-11e7-b31a-0242ac12000d",
     "next": "f8c0a69e-14ea-11e7-b31a-0242ac12000d",
     "previous": "f8c0a2fc-14ea-11e7-b31a-0242ac12000d"
    }
   },
   "source": [
    "#### Data Node数"
   ]
  },
  {
   "cell_type": "markdown",
   "metadata": {
    "lc_cell_meme": {
     "current": "f8c0a69e-14ea-11e7-b31a-0242ac12000d",
     "next": "f8c0a860-14ea-11e7-b31a-0242ac12000d",
     "previous": "f8c0a4d2-14ea-11e7-b31a-0242ac12000d"
    }
   },
   "source": [
    "Data Node数は、蓄積できるデータサイズ、耐障害性、検索のレイテンシに影響します。  \n",
    "それら3つの観点を元に、要件に応じて調整してください。"
   ]
  },
  {
   "cell_type": "markdown",
   "metadata": {
    "lc_cell_meme": {
     "current": "f8c0a860-14ea-11e7-b31a-0242ac12000d",
     "next": "f8c0aa2c-14ea-11e7-b31a-0242ac12000d",
     "previous": "f8c0a69e-14ea-11e7-b31a-0242ac12000d"
    }
   },
   "source": [
    "__(1) 蓄積できるデータサイズ__"
   ]
  },
  {
   "cell_type": "markdown",
   "metadata": {
    "lc_cell_meme": {
     "current": "f8c0aa2c-14ea-11e7-b31a-0242ac12000d",
     "next": "f8c0abf8-14ea-11e7-b31a-0242ac12000d",
     "previous": "f8c0a860-14ea-11e7-b31a-0242ac12000d"
    }
   },
   "source": [
    "前述の[ディスクサイズ](#ディスクサイズ)にもありますが、1台あたりのディスクサイズとData Node数の掛け算で蓄積できるデータサイズが決まります。  "
   ]
  },
  {
   "cell_type": "markdown",
   "metadata": {
    "lc_cell_meme": {
     "current": "f8c0abf8-14ea-11e7-b31a-0242ac12000d",
     "next": "f8c0adce-14ea-11e7-b31a-0242ac12000d",
     "previous": "f8c0aa2c-14ea-11e7-b31a-0242ac12000d"
    }
   },
   "source": [
    "**(2) 耐障害性**"
   ]
  },
  {
   "cell_type": "markdown",
   "metadata": {
    "lc_cell_meme": {
     "current": "f8c0adce-14ea-11e7-b31a-0242ac12000d",
     "next": "f8c0af90-14ea-11e7-b31a-0242ac12000d",
     "previous": "f8c0abf8-14ea-11e7-b31a-0242ac12000d"
    }
   },
   "source": [
    "[Shard数](#Shard数)で設定したReplica数の設定によって、Data Nodeに障害が発生した場合に残ったサーバで動作を継続できます。  \n",
    "そのためにはReplcaを設定した数、別のData Nodeに配置する必要がありますので、  \n",
    "**1＋Replica数**  \n",
    "分のData Nodeが必要になります。"
   ]
  },
  {
   "cell_type": "markdown",
   "metadata": {
    "lc_cell_meme": {
     "current": "f8c0af90-14ea-11e7-b31a-0242ac12000d",
     "next": "f8c0b152-14ea-11e7-b31a-0242ac12000d",
     "previous": "f8c0adce-14ea-11e7-b31a-0242ac12000d"
    }
   },
   "source": [
    "**(3)検索のレイテンシ**"
   ]
  },
  {
   "cell_type": "markdown",
   "metadata": {
    "lc_cell_meme": {
     "current": "f8c0b152-14ea-11e7-b31a-0242ac12000d",
     "next": "f8c0b346-14ea-11e7-b31a-0242ac12000d",
     "previous": "f8c0af90-14ea-11e7-b31a-0242ac12000d"
    }
   },
   "source": [
    "Data Nodeの数に応じて検索クエリを分散処理できます。  \n",
    "実際は、分割された各々のShardの分だけクエリを分散することになるので、  \n",
    "(Primary)Shard数と同数以上のData Nodeを用意することで、分散処理が最大化されます。\n"
   ]
  },
  {
   "cell_type": "markdown",
   "metadata": {
    "lc_cell_meme": {
     "current": "f8c0b346-14ea-11e7-b31a-0242ac12000d",
     "next": "f8c0b530-14ea-11e7-b31a-0242ac12000d",
     "previous": "f8c0b152-14ea-11e7-b31a-0242ac12000d"
    }
   },
   "source": [
    "#### Master Node数"
   ]
  },
  {
   "cell_type": "markdown",
   "metadata": {
    "lc_cell_meme": {
     "current": "f8c0b530-14ea-11e7-b31a-0242ac12000d",
     "next": "f8c0b6fc-14ea-11e7-b31a-0242ac12000d",
     "previous": "f8c0b346-14ea-11e7-b31a-0242ac12000d"
    }
   },
   "source": [
    "Master Node数は耐障害性に影響します。正確には、Master Eligible Node(Master Nodeの候補)の数が影響します。"
   ]
  },
  {
   "cell_type": "markdown",
   "metadata": {
    "lc_cell_meme": {
     "current": "f8c0b6fc-14ea-11e7-b31a-0242ac12000d",
     "next": "f8c0b8be-14ea-11e7-b31a-0242ac12000d",
     "previous": "f8c0b530-14ea-11e7-b31a-0242ac12000d"
    }
   },
   "source": [
    "Split brain問題を避けるために3台以上、かつ奇数台とすることが望ましいです。  \n",
    "Split brainとは、クラスタ内でMaster nodeが複数存在してしまいデータが失われる危険性がある問題です。  \n",
    "詳細はElasticsearch Referenceの[Master Eligible Node](https://www.elastic.co/guide/en/elasticsearch/reference/5.0/modules-node.html#split-brain)を参照してください。"
   ]
  },
  {
   "cell_type": "markdown",
   "metadata": {
    "lc_cell_meme": {
     "current": "f8c0b8be-14ea-11e7-b31a-0242ac12000d",
     "next": "f8c0ba8a-14ea-11e7-b31a-0242ac12000d",
     "previous": "f8c0b6fc-14ea-11e7-b31a-0242ac12000d"
    }
   },
   "source": [
    "また、Master NodeをData Nodeに兼任させるか検討してください。  \n",
    "兼任の場合、Master Nodeとして動作する分の負荷がData Nodeの処理を阻害しますが、  \n",
    "実測上で問題が無ければ、サーバ台数を節約する観点でそのままにすることは有効です。"
   ]
  },
  {
   "cell_type": "markdown",
   "metadata": {
    "lc_cell_meme": {
     "current": "f8c0ba8a-14ea-11e7-b31a-0242ac12000d",
     "next": "f8c0bc56-14ea-11e7-b31a-0242ac12000d",
     "previous": "f8c0b8be-14ea-11e7-b31a-0242ac12000d"
    }
   },
   "source": [
    "#### Client Node数"
   ]
  },
  {
   "cell_type": "markdown",
   "metadata": {
    "lc_cell_meme": {
     "current": "f8c0bc56-14ea-11e7-b31a-0242ac12000d",
     "next": "f8c0be22-14ea-11e7-b31a-0242ac12000d",
     "previous": "f8c0ba8a-14ea-11e7-b31a-0242ac12000d"
    }
   },
   "source": [
    "Client Node（Master Node、Data Nodeのいずれの役割も担わず、Coordinating Nodeの役割に特化したノード）を設けるかについて検討します。  \n",
    "\n",
    "Client Nodeが無い場合は、Data Nodeがリクエストを処理しますが、その処理の重さで検索に悪影響が出ている場合、Client Nodeを立てることで負荷を軽減することができる可能性があります。  \n",
    "実測により判断してください。"
   ]
  },
  {
   "cell_type": "markdown",
   "metadata": {
    "lc_cell_meme": {
     "current": "f8c0be22-14ea-11e7-b31a-0242ac12000d",
     "next": "f8c0bfee-14ea-11e7-b31a-0242ac12000d",
     "previous": "f8c0bc56-14ea-11e7-b31a-0242ac12000d"
    }
   },
   "source": [
    "#### Logstashサーバ数"
   ]
  },
  {
   "cell_type": "markdown",
   "metadata": {
    "lc_cell_meme": {
     "current": "f8c0bfee-14ea-11e7-b31a-0242ac12000d",
     "next": "f8c0c1c4-14ea-11e7-b31a-0242ac12000d",
     "previous": "f8c0be22-14ea-11e7-b31a-0242ac12000d"
    }
   },
   "source": [
    "他のElasticsearchのNodeと同居させるかどうかが、データ書き込みのスループットに影響します。  \n",
    "独立したサーバにLogstashを切り出すことで、スループットが向上します。\n",
    "\n",
    "なお、冗長化の要件で複数のLogstashサーバを立てる場合、  \n",
    "Logstash自身には他のインスタンスと協調してデータを分配する機能は無いため、  \n",
    "前段で分散メッセージングシステムである[Apache Kafka](http://kafka.apache.org/)などの、  \n",
    "データをロードバランシングするシステムが必要になります。\n"
   ]
  },
  {
   "cell_type": "markdown",
   "metadata": {
    "lc_cell_meme": {
     "current": "f8c0c1c4-14ea-11e7-b31a-0242ac12000d",
     "next": "f8c0c390-14ea-11e7-b31a-0242ac12000d",
     "previous": "f8c0bfee-14ea-11e7-b31a-0242ac12000d"
    }
   },
   "source": [
    "### 本体のパラメータ"
   ]
  },
  {
   "cell_type": "markdown",
   "metadata": {
    "lc_cell_meme": {
     "current": "f8c0c390-14ea-11e7-b31a-0242ac12000d",
     "next": "f8c0c55c-14ea-11e7-b31a-0242ac12000d",
     "previous": "f8c0c1c4-14ea-11e7-b31a-0242ac12000d"
    }
   },
   "source": [
    "#### ヒープサイズ"
   ]
  },
  {
   "cell_type": "markdown",
   "metadata": {
    "lc_cell_meme": {
     "current": "f8c0c55c-14ea-11e7-b31a-0242ac12000d",
     "next": "f8c0c732-14ea-11e7-b31a-0242ac12000d",
     "previous": "f8c0c390-14ea-11e7-b31a-0242ac12000d"
    }
   },
   "source": [
    "ヒープサイズについて、Elasticsearch: The Definitive Guideの[Heap: Sizing and Swapping](https://www.elastic.co/guide/en/elasticsearch/guide/current/heap-sizing.html)では、次の2つの条件を両方とも満たすことが推奨されています。\n",
    "\n",
    "1. マシンのメモリの半分とすること  \n",
    "  - 残りの半分をApache Lucene（Elasticsearchが内部で利用している全文検索エンジン）が利用するためです。   \n",
    "  Luceneは検索対象となるデータのファイルをOSによってメモリにキャッシュさせることで高速な検索を実現しています。  \n",
    "  このキャッシュ用に、ヒープがマシンのメモリを占有しきらないようにする必要があります。\n",
    "2. 32GB未満とすること\n",
    "  - Java VMがヒープ上のオブジェクトを高速に扱うための仕組みが、32GBを超えると働かなくなるためです。\n",
    "\n",
    "詳細は[Heap: Sizing and Swapping](https://www.elastic.co/guide/en/elasticsearch/guide/current/heap-sizing.html)を参照してください。\n"
   ]
  },
  {
   "cell_type": "markdown",
   "metadata": {
    "lc_cell_meme": {
     "current": "f8c0c732-14ea-11e7-b31a-0242ac12000d",
     "next": "f8c0c91c-14ea-11e7-b31a-0242ac12000d",
     "previous": "f8c0c55c-14ea-11e7-b31a-0242ac12000d"
    }
   },
   "source": [
    "#### 最小Master Node数"
   ]
  },
  {
   "cell_type": "markdown",
   "metadata": {
    "lc_cell_meme": {
     "current": "f8c0c91c-14ea-11e7-b31a-0242ac12000d",
     "next": "f8c0cafc-14ea-11e7-b31a-0242ac12000d",
     "previous": "f8c0c732-14ea-11e7-b31a-0242ac12000d"
    }
   },
   "source": [
    "最小Master Node数とは、クラスタに参加しているMaster Eligible Nodeが障害等で減った際に、最小で何台までであればクラスタとして動作を継続させるかを示す数です。  \n",
    "数としては、  \n",
    "\n",
    "**（Master Eligible Node数 / 2）＋ 1**  \n",
    "\n",
    "を設定します。  \n",
    "つまり**Master Eligible Node数の過半数**を設定します。  \n",
    "例えばMaster Eligible Nodeが3台であれば2、5台であれば3を設定します。\n",
    "\n",
    "理由については、[Master Node数](#Master-Node数)でもリンクした、Elasticsearch Referenceの[Avoiding split brain with minimum_master_node](https://www.elastic.co/guide/en/elasticsearch/reference/5.0/modules-node.html#split-brain)に説明があります。  \n",
    "\n",
    "簡単に述べると、Split brain問題とは、Master Eligible Node群がネットワーク障害等で2つに分断された際に、それぞれがクラスタとしてデータを扱ってしまうと、障害が解決して再統合された際にデータが失われてしまう問題です。  \n",
    "最小Master Node数はこれを解決するために設定します。つまり過半数（＝最小Master Node数）のMaster Eligible Nodeに満たない側の分断クラスタはMasterになれないようにすることで、分断があっても高々1つの分断クラスタ（内のMaster）しか動作できないようにします。  \n",
    "\n",
    "例えば5台のMasterが3台と2台に分断された場合は、最小マスタノードが3なので、3台の側のクラスタでしかMasterが選出されません。  \n",
    "よってそちらだけが動き続け、5台に再統合されたときもデータの喪失が防げます。\n",
    "\n",
    "最小マスタノード数はelasticsearch.ymlの**discovery.zen.minimum_master_nodes**に設定します。"
   ]
  },
  {
   "cell_type": "markdown",
   "metadata": {
    "lc_cell_meme": {
     "current": "f8c0cafc-14ea-11e7-b31a-0242ac12000d",
     "next": "f8c0ccd2-14ea-11e7-b31a-0242ac12000d",
     "previous": "f8c0c91c-14ea-11e7-b31a-0242ac12000d"
    }
   },
   "source": [
    "#### その他のパフォーマンス改善のためのパラメータ"
   ]
  },
  {
   "cell_type": "markdown",
   "metadata": {
    "collapsed": true,
    "lc_cell_meme": {
     "current": "f8c0ccd2-14ea-11e7-b31a-0242ac12000d",
     "next": "f8c0ce9e-14ea-11e7-b31a-0242ac12000d",
     "previous": "f8c0cafc-14ea-11e7-b31a-0242ac12000d"
    }
   },
   "source": [
    "パフォーマンスを改善するための主なパラメータは次のようなものになります。  \n",
    "設定にはindexごとの設定や、ノードごとの設定、クラスタ全体の設定があり、設定方法が異なります。  \n",
    "設定に関しての詳細はElasticsearch Referenceの[Configuring Elasticsearch](https://www.elastic.co/guide/en/elasticsearch/reference/5.0/settings.html)を参照してください。"
   ]
  },
  {
   "cell_type": "markdown",
   "metadata": {
    "lc_cell_meme": {
     "current": "f8c0ce9e-14ea-11e7-b31a-0242ac12000d",
     "next": "f8c0d060-14ea-11e7-b31a-0242ac12000d",
     "previous": "f8c0ccd2-14ea-11e7-b31a-0242ac12000d"
    }
   },
   "source": [
    "| チューニング項目         | 設定項目名            | チューニング概要       |詳細の参照先       |設定方法                                                                                                                                                                                                      |\n",
    "|--------------------------|-----------------------|-------------------------------------------------------------------------------------------------------------------------------------------------------------------------------------------------|---------------------------------------|\n",
    "| [indexの更新間隔](#1サーバ当たりのスペック)          | refresh_interval      | indexの更新間隔を広げることで、インデックス処理は遅延しますが、Elasticsearchの負荷を下げることができます。|[Index Modules](https://www.elastic.co/guide/en/elasticsearch/reference/5.0/index-modules.html#dynamic-index-settings)         |indexごとに設定することができます。REST APIから設定します。                                                                                                                                            |\n",
    "| [リクエストキューのサイズ](#サーバ台数の決め方) | thread_pool.queue.size | リクエストキューのサイズを増やすことで、高負荷時のエラー発生を防ぐことができます。<br>キューが溢れた場合、Elasticsearchはドキュメントを破棄し、429エラーを返します。<br>Logstashを用いてドキュメント登録を行っている場合、下記のようなエラーが出力されます。<br>その場合はキューのサイズを増やすか、Elasticsearchの処理速度を向上させる必要があります。<br><br>17:42:11.840 [[main]>worker6] INFO  logstash.outputs.elasticsearch - retrying failed action with response code: 429 ({\"type\"=>\"es_rejected_execution_exception\", \"reason\"=>\"rejected execution of org.elasticsearch.transport.TransportService$6@1adec92 on EsThreadPoolExecutor[bulk, queue capacity = 0, org.elasticsearch.common.util.concurrent.EsThreadPoolExecutor@75905a2[Running, pool size = 1, active threads = 0, queued tasks = 0, completed tasks = 1]]\"})|[Thread Pool](https://www.elastic.co/guide/en/elasticsearch/reference/5.0/modules-threadpool.html)             |elasticsearch.ymlで設定することができます。                                                                                                                                                        |\n",
    "| [バルク処理のスレッド数](#1サーバ当たりのスペック)   | thread_pool.bulk.size  | バルクインポート処理（複数のドキュメントをまとめて追加する処理）を受け付けるスレッド数を増減させます。<br>スレッド数を増加させることによって処理が並列化され、パフォーマンスの向上が期待されます。<br>ただし、稼働マシンのコア数を超える値を設定できないように制限されています。|[Thread Pool](https://www.elastic.co/guide/en/elasticsearch/reference/5.0/modules-threadpool.html)   |elasticsearch.ymlで設定することができます。                                                                                              "
   ]
  },
  {
   "cell_type": "markdown",
   "metadata": {
    "lc_cell_meme": {
     "current": "f8c0d060-14ea-11e7-b31a-0242ac12000d",
     "next": "f8c0d22c-14ea-11e7-b31a-0242ac12000d",
     "previous": "f8c0ce9e-14ea-11e7-b31a-0242ac12000d"
    }
   },
   "source": [
    "# 収容を決め設定ファイルを出力する\n",
    "\n",
    "Elasticsearchを構築するにあたり、どのようなクラスタ構成にするかを決定する必要があります。"
   ]
  },
  {
   "cell_type": "markdown",
   "metadata": {
    "lc_cell_meme": {
     "current": "f8c0d22c-14ea-11e7-b31a-0242ac12000d",
     "next": "f8c0d3f8-14ea-11e7-b31a-0242ac12000d",
     "previous": "f8c0d060-14ea-11e7-b31a-0242ac12000d"
    }
   },
   "source": [
    "## 典型的な構成例\n",
    "\n",
    "お試し用構成は、1台のサーバに全ての機能を投入した構成です。冗長性もパフォーマンスも考慮していないため運用には適しませんが、Elasticsearch自体を試したい場合に利用可能です。  \n",
    "運用可能最小構成と運用可能高性能構成は、扱えるデータサイズや前の章のサイジング観点に応じて選んでください。"
   ]
  },
  {
   "cell_type": "markdown",
   "metadata": {
    "lc_cell_meme": {
     "current": "f8c0d3f8-14ea-11e7-b31a-0242ac12000d",
     "next": "f8c0d5c4-14ea-11e7-b31a-0242ac12000d",
     "previous": "f8c0d22c-14ea-11e7-b31a-0242ac12000d"
    }
   },
   "source": [
    "|設定項目|お試し用構成<br>(データ1TB)|運用可能最小構成<br>(データ1.5TB)|運用可能高性能構成<br>(データ2.5TB)|\n",
    "|---|--:|--:|--:|\n",
    "|**1サーバ当たりのスペック**||||\n",
    "|　　CPUのコア数|8|8|8|\n",
    "|　　ディスクサイズ(GB)|1024|3072|5120|\n",
    "|　　メモリサイズ(GB)|64|64|64|\n",
    "|**Shard数**|1|3|5|\n",
    "|**Replica数**|0|1|1|\n",
    "|**サーバ台数**||||\n",
    "|　　Data Node数|1|3|5|\n",
    "|　　Master Node数(※1)|1|3|3|\n",
    "|　　Client Node数|0|0|0|\n",
    "|　　Logstashサーバ数(※1)|1|1|1|\n",
    "|**本体のパラメータ**||||\n",
    "|　　ヒープサイズ(GB)|31|31|31|\n",
    "|　　最小マスタノード数|1|2|2|\n"
   ]
  },
  {
   "cell_type": "markdown",
   "metadata": {
    "lc_cell_meme": {
     "current": "f8c0d5c4-14ea-11e7-b31a-0242ac12000d",
     "next": "f8c0d790-14ea-11e7-b31a-0242ac12000d",
     "previous": "f8c0d3f8-14ea-11e7-b31a-0242ac12000d"
    }
   },
   "source": [
    "※1）この次の章で上の構成を出力させますが、Master NodeやLogstashは全てData Nodeと同居させる構成としています。必要に応じて出力結果を修正してください。"
   ]
  },
  {
   "cell_type": "markdown",
   "metadata": {
    "lc_cell_meme": {
     "current": "f8c0d790-14ea-11e7-b31a-0242ac12000d",
     "next": "f8c0d95c-14ea-11e7-b31a-0242ac12000d",
     "previous": "f8c0d5c4-14ea-11e7-b31a-0242ac12000d"
    }
   },
   "source": [
    "## 設定ファイルの出力\n",
    "\n",
    "この後の「収容」「インストール」のNotebookで用いるパラメータを生成します。"
   ]
  },
  {
   "cell_type": "markdown",
   "metadata": {
    "lc_cell_meme": {
     "current": "f8c0d95c-14ea-11e7-b31a-0242ac12000d",
     "history": [
      {
       "current": "f8c0d95c-14ea-11e7-b31a-0242ac12000d",
       "next": "f8c0db32-14ea-11e7-b31a-0242ac12000d",
       "previous": "f8c0d790-14ea-11e7-b31a-0242ac12000d"
      },
      {
       "current": "f8c0d95c-14ea-11e7-b31a-0242ac12000d",
       "next": "f8c0e60e-14ea-11e7-b31a-0242ac12000d",
       "previous": "f8c0d790-14ea-11e7-b31a-0242ac12000d"
      }
     ],
     "next": "f8c0e7da-14ea-11e7-b31a-0242ac12000d",
     "previous": "f8c0d790-14ea-11e7-b31a-0242ac12000d"
    }
   },
   "source": [
    "Ansibleに環境構築をおこなわせるため、以下の2つのファイルを更新します。\n",
    "- hosts ... インベントリ　グループとホストの対応関係\n",
    "- group_vars ... Ansibleが各サーバに渡すパラメータ\n",
    "\n",
    "ただしhostsは、このNotebookではひな型のみを生成します。  \n",
    "これは01_02_Accommodation_XXX.ipynbでサーバインスタンスを生成しないとIPアドレスが定まらないためです。  \n",
    "実際のIPアドレスを当てはめたhostsファイルの生成は01_03_Install.ipynbにて実施します。"
   ]
  },
  {
   "cell_type": "markdown",
   "metadata": {
    "lc_cell_meme": {
     "current": "f8c0e7da-14ea-11e7-b31a-0242ac12000d",
     "history": [
      {
       "current": "f8c0e7da-14ea-11e7-b31a-0242ac12000d",
       "next": "f8c0e99c-14ea-11e7-b31a-0242ac12000d",
       "previous": "f8c0e60e-14ea-11e7-b31a-0242ac12000d"
      }
     ],
     "next": "f8c0e99c-14ea-11e7-b31a-0242ac12000d",
     "previous": "f8c0d95c-14ea-11e7-b31a-0242ac12000d"
    }
   },
   "source": [
    "まず出力に含めるクラスタ名を指定します。  \n",
    "**同じネットワーク内で複数のクラスタを作成する場合、クラスタ名が重複しないように注意してください。**  \n",
    "同一クラスタだとみなされると、予期しないサーバがクラスタに併合されてしまいます。"
   ]
  },
  {
   "cell_type": "code",
   "execution_count": null,
   "metadata": {
    "collapsed": true,
    "lc_cell_meme": {
     "current": "f8c0e99c-14ea-11e7-b31a-0242ac12000d",
     "next": "f8c0eb7c-14ea-11e7-b31a-0242ac12000d",
     "previous": "f8c0e7da-14ea-11e7-b31a-0242ac12000d"
    }
   },
   "outputs": [],
   "source": [
    "#クラスタ名\n",
    "CLUSTER_NAME = 'es-cluster'"
   ]
  },
  {
   "cell_type": "markdown",
   "metadata": {
    "lc_cell_meme": {
     "current": "f8c0eb7c-14ea-11e7-b31a-0242ac12000d",
     "history": [
      {
       "current": "f8c0eb7c-14ea-11e7-b31a-0242ac12000d",
       "next": "f8c0ed52-14ea-11e7-b31a-0242ac12000d",
       "previous": "f8c0e99c-14ea-11e7-b31a-0242ac12000d"
      },
      {
       "current": "f8c0eb7c-14ea-11e7-b31a-0242ac12000d",
       "next": "b6bea068-450d-11e7-8647-02420aff0006",
       "previous": "f8c0e99c-14ea-11e7-b31a-0242ac12000d"
      },
      {
       "current": "f8c0eb7c-14ea-11e7-b31a-0242ac12000d",
       "next": "f8c0ed52-14ea-11e7-b31a-0242ac12000d",
       "previous": "f8c0e99c-14ea-11e7-b31a-0242ac12000d"
      },
      {
       "current": "f8c0eb7c-14ea-11e7-b31a-0242ac12000d",
       "next": "7e8b65be-4517-11e7-b5bf-02420aff0006",
       "previous": "f8c0e99c-14ea-11e7-b31a-0242ac12000d"
      },
      {
       "current": "f8c0eb7c-14ea-11e7-b31a-0242ac12000d",
       "next": "f8c0ed52-14ea-11e7-b31a-0242ac12000d",
       "previous": "f8c0e99c-14ea-11e7-b31a-0242ac12000d"
      }
     ],
     "next": "aea0bce2-74e0-11e7-b116-0242ac110002",
     "previous": "f8c0e99c-14ea-11e7-b31a-0242ac12000d"
    }
   },
   "source": [
    "**前の章の[典型的な構成](#典型的な構成)に示した構成のうちどれを利用するかを、下のセルを実行して現れる選択肢から選び、  \n",
    "セルを実行してください。  **\n",
    "\n",
    "\n",
    "選択した内容でAnsible用のhostsのテンプレート、およびgroup_varsが出力されます。"
   ]
  },
  {
   "cell_type": "code",
   "execution_count": null,
   "metadata": {
    "lc_cell_meme": {
     "current": "aea0bce2-74e0-11e7-b116-0242ac110002",
     "history": [
      {
       "current": "aea0bce2-74e0-11e7-b116-0242ac110002",
       "next": "f8c0ed52-14ea-11e7-b31a-0242ac12000d",
       "previous": "f8c0eb7c-14ea-11e7-b31a-0242ac12000d"
      },
      {
       "current": "aea0bce2-74e0-11e7-b116-0242ac110002",
       "next": "3e8e33ec-7500-11e7-b116-0242ac110002",
       "previous": "f8c0eb7c-14ea-11e7-b31a-0242ac12000d"
      }
     ],
     "next": "f2f9b324-7500-11e7-b116-0242ac110002",
     "previous": "f8c0eb7c-14ea-11e7-b31a-0242ac12000d"
    }
   },
   "outputs": [],
   "source": [
    "%run ./scripts/get-struct-selector.py\n",
    "\n",
    "print_profiles()"
   ]
  },
  {
   "cell_type": "markdown",
   "metadata": {
    "lc_cell_meme": {
     "current": "f2f9b324-7500-11e7-b116-0242ac110002",
     "next": "3e8e33ec-7500-11e7-b116-0242ac110002",
     "previous": "aea0bce2-74e0-11e7-b116-0242ac110002"
    }
   },
   "source": [
    "利用したい構成番号を以下に入力してください。"
   ]
  },
  {
   "cell_type": "code",
   "execution_count": null,
   "metadata": {
    "collapsed": true,
    "lc_cell_meme": {
     "current": "3e8e33ec-7500-11e7-b116-0242ac110002",
     "history": [
      {
       "current": "3e8e33ec-7500-11e7-b116-0242ac110002",
       "next": "f8c0ed52-14ea-11e7-b31a-0242ac12000d",
       "previous": "aea0bce2-74e0-11e7-b116-0242ac110002"
      }
     ],
     "next": "f2f9b676-7500-11e7-b116-0242ac110002",
     "previous": "f2f9b324-7500-11e7-b116-0242ac110002"
    }
   },
   "outputs": [],
   "source": [
    "# 'お試し用構成 1TB' を選択したい場合\n",
    "# profile_num = 0\n",
    "profile_num = "
   ]
  },
  {
   "cell_type": "markdown",
   "metadata": {
    "lc_cell_meme": {
     "current": "f2f9b676-7500-11e7-b116-0242ac110002",
     "next": "f8c0ed52-14ea-11e7-b31a-0242ac12000d",
     "previous": "3e8e33ec-7500-11e7-b116-0242ac110002"
    }
   },
   "source": [
    "指定された構成に必要な設定ファイルを出力します。"
   ]
  },
  {
   "cell_type": "code",
   "execution_count": null,
   "metadata": {
    "lc_cell_meme": {
     "current": "f8c0ed52-14ea-11e7-b31a-0242ac12000d",
     "history": [
      {
       "current": "f8c0ed52-14ea-11e7-b31a-0242ac12000d",
       "next": "f8c0ef14-14ea-11e7-b31a-0242ac12000d",
       "previous": "f8c0eb7c-14ea-11e7-b31a-0242ac12000d"
      },
      {
       "current": "f8c0ed52-14ea-11e7-b31a-0242ac12000d",
       "next": "f8c0ef14-14ea-11e7-b31a-0242ac12000d",
       "previous": "b6bea068-450d-11e7-8647-02420aff0006"
      },
      {
       "current": "f8c0ed52-14ea-11e7-b31a-0242ac12000d",
       "next": "f8c0ef14-14ea-11e7-b31a-0242ac12000d",
       "previous": "1b842cfc-450e-11e7-8647-02420aff0006"
      },
      {
       "current": "f8c0ed52-14ea-11e7-b31a-0242ac12000d",
       "next": "f8c0ef14-14ea-11e7-b31a-0242ac12000d",
       "previous": "f8c0eb7c-14ea-11e7-b31a-0242ac12000d"
      },
      {
       "current": "f8c0ed52-14ea-11e7-b31a-0242ac12000d",
       "next": "f8c0ef14-14ea-11e7-b31a-0242ac12000d",
       "previous": "7e8b65be-4517-11e7-b5bf-02420aff0006"
      },
      {
       "current": "f8c0ed52-14ea-11e7-b31a-0242ac12000d",
       "next": "f8c0ef14-14ea-11e7-b31a-0242ac12000d",
       "previous": "f8c0eb7c-14ea-11e7-b31a-0242ac12000d"
      },
      {
       "current": "f8c0ed52-14ea-11e7-b31a-0242ac12000d",
       "next": "2bbe37f0-4c13-11e7-8a6b-02420aff0006",
       "previous": "f8c0eb7c-14ea-11e7-b31a-0242ac12000d"
      },
      {
       "current": "f8c0ed52-14ea-11e7-b31a-0242ac12000d",
       "next": "2bbe37f0-4c13-11e7-8a6b-02420aff0006",
       "previous": "aea0bce2-74e0-11e7-b116-0242ac110002"
      },
      {
       "current": "f8c0ed52-14ea-11e7-b31a-0242ac12000d",
       "next": "2bbe37f0-4c13-11e7-8a6b-02420aff0006",
       "previous": "3e8e33ec-7500-11e7-b116-0242ac110002"
      },
      {
       "current": "f8c0ed52-14ea-11e7-b31a-0242ac12000d",
       "next": "2bbe37f0-4c13-11e7-8a6b-02420aff0006",
       "previous": "f2f9b676-7500-11e7-b116-0242ac110002"
      }
     ],
     "next": "f8c0f0e0-14ea-11e7-b31a-0242ac12000d",
     "previous": "f2f9b676-7500-11e7-b116-0242ac110002"
    },
    "scrolled": true
   },
   "outputs": [],
   "source": [
    "select_profile(profile_num, CLUSTER_NAME)"
   ]
  },
  {
   "cell_type": "markdown",
   "metadata": {
    "lc_cell_meme": {
     "current": "f8c0f0e0-14ea-11e7-b31a-0242ac12000d",
     "history": [
      {
       "current": "f8c0f0e0-14ea-11e7-b31a-0242ac12000d",
       "next": "f8c0f2b6-14ea-11e7-b31a-0242ac12000d",
       "previous": "f8c0ef14-14ea-11e7-b31a-0242ac12000d"
      },
      {
       "current": "f8c0f0e0-14ea-11e7-b31a-0242ac12000d",
       "next": "b42e1186-1519-11e7-b31a-0242ac12000d",
       "previous": "f8c0ef14-14ea-11e7-b31a-0242ac12000d"
      },
      {
       "current": "f8c0f0e0-14ea-11e7-b31a-0242ac12000d",
       "next": "b42e1186-1519-11e7-b31a-0242ac12000d",
       "previous": "2bbe37f0-4c13-11e7-8a6b-02420aff0006"
      }
     ],
     "next": "b42e1186-1519-11e7-b31a-0242ac12000d",
     "previous": "f8c0ed52-14ea-11e7-b31a-0242ac12000d"
    }
   },
   "source": [
    "### 内容の確認・修正\n",
    "出力したファイルの内容を確認、修正したり、前回のバージョンと比較したい場合は以下から実施できます。"
   ]
  },
  {
   "cell_type": "markdown",
   "metadata": {
    "lc_cell_meme": {
     "current": "b42e1186-1519-11e7-b31a-0242ac12000d",
     "next": "f8c0f482-14ea-11e7-b31a-0242ac12000d",
     "previous": "f8c0f0e0-14ea-11e7-b31a-0242ac12000d"
    }
   },
   "source": [
    "出力されたhosts_template、group_vars/all のファイルを修正したい場合は、次のリンクから編集してください。"
   ]
  },
  {
   "cell_type": "markdown",
   "metadata": {
    "lc_cell_meme": {
     "current": "f8c0f482-14ea-11e7-b31a-0242ac12000d",
     "history": [
      {
       "current": "f8c0f482-14ea-11e7-b31a-0242ac12000d",
       "next": "f8c0f644-14ea-11e7-b31a-0242ac12000d",
       "previous": "f8c0f2b6-14ea-11e7-b31a-0242ac12000d"
      }
     ],
     "next": "f8c0f644-14ea-11e7-b31a-0242ac12000d",
     "previous": "b42e1186-1519-11e7-b31a-0242ac12000d"
    }
   },
   "source": [
    "- **[hosts_template](../edit/hosts_template)**\n",
    "- **[group_vars/all](../edit/group_vars/all)**"
   ]
  },
  {
   "cell_type": "markdown",
   "metadata": {
    "lc_cell_meme": {
     "current": "f8c0f644-14ea-11e7-b31a-0242ac12000d",
     "history": [
      {
       "current": "f8c0f644-14ea-11e7-b31a-0242ac12000d",
       "next": "f8c0f810-14ea-11e7-b31a-0242ac12000d",
       "previous": "f8c0f482-14ea-11e7-b31a-0242ac12000d"
      }
     ],
     "next": "f8c0f9dc-14ea-11e7-b31a-0242ac12000d",
     "previous": "f8c0f482-14ea-11e7-b31a-0242ac12000d"
    }
   },
   "source": [
    "出力結果を確認するには、次のセルを実行してください。"
   ]
  },
  {
   "cell_type": "code",
   "execution_count": null,
   "metadata": {
    "lc_cell_meme": {
     "current": "f8c0f9dc-14ea-11e7-b31a-0242ac12000d",
     "history": [
      {
       "current": "f8c0f9dc-14ea-11e7-b31a-0242ac12000d",
       "next": "f8c0fb9e-14ea-11e7-b31a-0242ac12000d",
       "previous": "f8c0f810-14ea-11e7-b31a-0242ac12000d"
      }
     ],
     "next": "f8c0fd60-14ea-11e7-b31a-0242ac12000d",
     "previous": "f8c0f644-14ea-11e7-b31a-0242ac12000d"
    },
    "scrolled": false
   },
   "outputs": [],
   "source": [
    "!cat hosts_template"
   ]
  },
  {
   "cell_type": "code",
   "execution_count": null,
   "metadata": {
    "lc_cell_meme": {
     "current": "f8c0fd60-14ea-11e7-b31a-0242ac12000d",
     "history": [
      {
       "current": "f8c0fd60-14ea-11e7-b31a-0242ac12000d",
       "next": null,
       "previous": "f8c0fb9e-14ea-11e7-b31a-0242ac12000d"
      },
      {
       "current": "f8c0fd60-14ea-11e7-b31a-0242ac12000d",
       "next": "6e7cf91a-4681-11e7-978d-02420aff0008",
       "previous": "f8c0fb9e-14ea-11e7-b31a-0242ac12000d"
      }
     ],
     "next": "6e7cf91a-4681-11e7-978d-02420aff0008",
     "previous": "f8c0f9dc-14ea-11e7-b31a-0242ac12000d"
    },
    "scrolled": false
   },
   "outputs": [],
   "source": [
    "!cat group_vars/all"
   ]
  },
  {
   "cell_type": "code",
   "execution_count": null,
   "metadata": {
    "collapsed": true,
    "lc_cell_meme": {
     "current": "6e7cf91a-4681-11e7-978d-02420aff0008",
     "next": null,
     "previous": "f8c0fd60-14ea-11e7-b31a-0242ac12000d"
    }
   },
   "outputs": [],
   "source": []
  }
 ],
 "metadata": {
  "anaconda-cloud": {},
  "kernelspec": {
   "display_name": "Python 2 (LC_wrapper)",
   "language": "python",
   "name": "python2-wrapper"
  },
  "language_info": {
   "file_extension": ".py",
   "mimetype": "text/x-python",
   "name": "python",
   "nbconvert_exporter": "python",
   "pygments_lexer": "ipython2",
   "version": "2.7.9"
  },
  "latex_envs": {
   "bibliofile": "biblio.bib",
   "cite_by": "apalike",
   "current_citInitial": 1,
   "eqLabelWithNumbers": true,
   "eqNumInitial": 0
  },
  "lc_notebook_meme": {
   "current": "f8c05996-14ea-11e7-b31a-0242ac12000d"
  },
  "toc": {
   "colors": {
    "hover_highlight": "#DAA520",
    "navigate_num": "#000000",
    "navigate_text": "#333333",
    "running_highlight": "#FF0000",
    "selected_highlight": "#FFD700",
    "sidebar_border": "#EEEEEE",
    "wrapper_background": "#FFFFFF"
   },
   "moveMenuLeft": true,
   "nav_menu": {
    "height": "407px",
    "width": "252px"
   },
   "navigate_menu": true,
   "number_sections": true,
   "sideBar": true,
   "skip_h1_title": false,
   "threshold": 4,
   "toc_cell": false,
   "toc_position": {
    "height": "810px",
    "left": "0px",
    "right": "1576px",
    "top": "106px",
    "width": "237px"
   },
   "toc_section_display": "block",
   "toc_window_display": true,
   "widenNotebook": false
  }
 },
 "nbformat": 4,
 "nbformat_minor": 1
}
