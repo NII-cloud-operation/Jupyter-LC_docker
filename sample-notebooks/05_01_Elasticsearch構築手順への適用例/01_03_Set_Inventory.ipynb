{
 "cells": [
  {
   "cell_type": "markdown",
   "metadata": {
    "lc_cell_meme": {
     "current": "8c601204-151d-11e7-b31a-0242ac12000d",
     "next": "8c60145c-151d-11e7-b31a-0242ac12000d",
     "previous": null
    }
   },
   "source": [
    "# Elastic Stackの構築手順：インベントリの設定\n",
    "----\n",
    "Ansibleで利用するインベントリ情報を ファイルに出力します。"
   ]
  },
  {
   "cell_type": "markdown",
   "metadata": {
    "lc_cell_meme": {
     "current": "8c60145c-151d-11e7-b31a-0242ac12000d",
     "history": [
      {
       "current": "8c60145c-151d-11e7-b31a-0242ac12000d",
       "next": "8c601682-151d-11e7-b31a-0242ac12000d",
       "previous": "8c601204-151d-11e7-b31a-0242ac12000d"
      },
      {
       "current": "8c60145c-151d-11e7-b31a-0242ac12000d",
       "next": "5f0d8008-1b4d-11e7-b31a-0242ac12000d",
       "previous": "8c601204-151d-11e7-b31a-0242ac12000d"
      }
     ],
     "next": "8c602226-151d-11e7-b31a-0242ac12000d",
     "previous": "8c601204-151d-11e7-b31a-0242ac12000d"
    }
   },
   "source": [
    "具体的には、[01_01_Outline.ipynbの設定の出力](01_01_Outline.ipynb#設定の出力)で生成されたインベントリのテンプレート(hosts_template)に、  \n",
    "01_02_Accommodation_XXX.ipynb で生成したサーバのIPアドレス一覧を適用し、  \n",
    "インベントリファイルを作成します。"
   ]
  },
  {
   "cell_type": "markdown",
   "metadata": {
    "lc_cell_meme": {
     "current": "8c602226-151d-11e7-b31a-0242ac12000d",
     "history": [
      {
       "current": "8c602226-151d-11e7-b31a-0242ac12000d",
       "next": "8c6023f2-151d-11e7-b31a-0242ac12000d",
       "previous": "8c60203c-151d-11e7-b31a-0242ac12000d"
      }
     ],
     "next": "8c6025c8-151d-11e7-b31a-0242ac12000d",
     "previous": "8c60145c-151d-11e7-b31a-0242ac12000d"
    }
   },
   "source": [
    "## ホストリストの設定\n",
    "\n",
    "01_02_Accommodation_XXX.ipynb の「Inventory作成用のインスタンスリストを作成」で生成したホストのリストの文字列をコピーし、以下のセルに貼り付けて実行してください。"
   ]
  },
  {
   "cell_type": "code",
   "execution_count": 1,
   "metadata": {
    "collapsed": true,
    "lc_cell_meme": {
     "current": "8c6025c8-151d-11e7-b31a-0242ac12000d",
     "history": [
      {
       "current": "8c6025c8-151d-11e7-b31a-0242ac12000d",
       "next": "8c602794-151d-11e7-b31a-0242ac12000d",
       "previous": "8c6023f2-151d-11e7-b31a-0242ac12000d"
      },
      {
       "current": "8c6025c8-151d-11e7-b31a-0242ac12000d",
       "next": "5f0d8008-1b4d-11e7-b31a-0242ac12000d",
       "previous": "8c602226-151d-11e7-b31a-0242ac12000d"
      },
      {
       "current": "8c6025c8-151d-11e7-b31a-0242ac12000d",
       "next": "256ae5a8-4c16-11e7-8a6b-02420aff0006",
       "previous": "8c602226-151d-11e7-b31a-0242ac12000d"
      }
     ],
     "next": "92790410-7504-11e7-b116-0242ac110002",
     "previous": "8c602226-151d-11e7-b31a-0242ac12000d"
    }
   },
   "outputs": [],
   "source": [
    "#host_list = {'host1':('name', 'public ip', 'private ip')}\n",
    "host_list = "
   ]
  },
  {
   "cell_type": "markdown",
   "metadata": {
    "lc_cell_meme": {
     "current": "92790410-7504-11e7-b116-0242ac110002",
     "next": "927908d4-7504-11e7-b116-0242ac110002",
     "previous": "8c6025c8-151d-11e7-b31a-0242ac12000d"
    }
   },
   "source": [
    "ホスト定義の値を確認しておきます。"
   ]
  },
  {
   "cell_type": "code",
   "execution_count": 2,
   "metadata": {
    "lc_cell_meme": {
     "current": "927908d4-7504-11e7-b116-0242ac110002",
     "next": "256ae5a8-4c16-11e7-8a6b-02420aff0006",
     "previous": "92790410-7504-11e7-b116-0242ac110002"
    }
   },
   "outputs": [
    {
     "data": {
      "text/plain": [
       "{'host1': (u'i-0bf412a529d12xxxx', u'34.213.xx.xx', u'10.30.xxx.xxx')}"
      ]
     },
     "execution_count": 2,
     "metadata": {},
     "output_type": "execute_result"
    }
   ],
   "source": [
    "host_list"
   ]
  },
  {
   "cell_type": "markdown",
   "metadata": {
    "lc_cell_meme": {
     "current": "256ae5a8-4c16-11e7-8a6b-02420aff0006",
     "history": [
      {
       "current": "256ae5a8-4c16-11e7-8a6b-02420aff0006",
       "next": "256ae86e-4c16-11e7-8a6b-02420aff0006",
       "previous": "8c6025c8-151d-11e7-b31a-0242ac12000d"
      }
     ],
     "next": "256ae86e-4c16-11e7-8a6b-02420aff0006",
     "previous": "927908d4-7504-11e7-b116-0242ac110002"
    }
   },
   "source": [
    "これ以降のNotebookで使用するためのAPIエンドポイントのパブリックIPアドレスをファイルに記録しておきます。"
   ]
  },
  {
   "cell_type": "code",
   "execution_count": 3,
   "metadata": {
    "lc_cell_meme": {
     "current": "256ae86e-4c16-11e7-8a6b-02420aff0006",
     "next": "5f0d8008-1b4d-11e7-b31a-0242ac12000d",
     "previous": "256ae5a8-4c16-11e7-8a6b-02420aff0006"
    }
   },
   "outputs": [
    {
     "name": "stdout",
     "output_type": "stream",
     "text": [
      "es_host = \"34.213.xx.xx\"\r\n",
      "USER = 'centos'\r\n",
      "KEYPATH = '~/.ssh/ansible_id_rsa'\r\n"
     ]
    }
   ],
   "source": [
    "with open('rc.py', 'w') as f:\n",
    "    f.write(u'''es_host = \"{}\"\n",
    "USER = 'centos'\n",
    "KEYPATH = '~/.ssh/ansible_id_rsa'\n",
    "'''.format(host_list['host1'][1]))\n",
    "!cat rc.py"
   ]
  },
  {
   "cell_type": "markdown",
   "metadata": {
    "lc_cell_meme": {
     "current": "5f0d8008-1b4d-11e7-b31a-0242ac12000d",
     "history": [
      {
       "current": "5f0d8008-1b4d-11e7-b31a-0242ac12000d",
       "next": "5f0d8454-1b4d-11e7-b31a-0242ac12000d",
       "previous": "8c60145c-151d-11e7-b31a-0242ac12000d"
      },
      {
       "current": "5f0d8008-1b4d-11e7-b31a-0242ac12000d",
       "next": "5f0d8454-1b4d-11e7-b31a-0242ac12000d",
       "previous": "8c6025c8-151d-11e7-b31a-0242ac12000d"
      }
     ],
     "next": "5f0d8454-1b4d-11e7-b31a-0242ac12000d",
     "previous": "256ae86e-4c16-11e7-8a6b-02420aff0006"
    }
   },
   "source": [
    "## 設定\n",
    "アカウントや通信先などを設定します。"
   ]
  },
  {
   "cell_type": "markdown",
   "metadata": {
    "lc_cell_meme": {
     "current": "5f0d8454-1b4d-11e7-b31a-0242ac12000d",
     "history": [
      {
       "current": "5f0d8454-1b4d-11e7-b31a-0242ac12000d",
       "next": "5f0d86d4-1b4d-11e7-b31a-0242ac12000d",
       "previous": "5f0d8008-1b4d-11e7-b31a-0242ac12000d"
      }
     ],
     "next": "e84f524a-1a78-11e7-b31a-0242ac12000d",
     "previous": "5f0d8008-1b4d-11e7-b31a-0242ac12000d"
    }
   },
   "source": [
    "各サーバにAnsibleコマンドを発行するため、  \n",
    "Ansibleを実行可能なユーザアカウントとそのSSHキーを次のセルで設定してください。"
   ]
  },
  {
   "cell_type": "code",
   "execution_count": 4,
   "metadata": {
    "collapsed": true,
    "lc_cell_meme": {
     "current": "e84f524a-1a78-11e7-b31a-0242ac12000d",
     "history": [
      {
       "current": "e84f524a-1a78-11e7-b31a-0242ac12000d",
       "next": "e84f5420-1a78-11e7-b31a-0242ac12000d",
       "previous": "e84f5074-1a78-11e7-b31a-0242ac12000d"
      },
      {
       "current": "e84f524a-1a78-11e7-b31a-0242ac12000d",
       "next": "e84f5420-1a78-11e7-b31a-0242ac12000d",
       "previous": "17863540-1b4d-11e7-b31a-0242ac12000d"
      }
     ],
     "next": "8c601682-151d-11e7-b31a-0242ac12000d",
     "previous": "5f0d8454-1b4d-11e7-b31a-0242ac12000d"
    }
   },
   "outputs": [],
   "source": [
    "#elasticsearchをインストールするサーバーでansibleコマンドを実行するユーザー\n",
    "USER='centos'\n",
    "\n",
    "#公開鍵認証を行う場合の秘密鍵のパス\n",
    "#KEYPATH='/notebooks/etc/key/id_rsa'\n",
    "KEYPATH = '~/.ssh/ansible_id_rsa'"
   ]
  },
  {
   "cell_type": "markdown",
   "metadata": {
    "lc_cell_meme": {
     "current": "8c601682-151d-11e7-b31a-0242ac12000d",
     "history": [
      {
       "current": "8c601682-151d-11e7-b31a-0242ac12000d",
       "next": "8c601876-151d-11e7-b31a-0242ac12000d",
       "previous": "8c60145c-151d-11e7-b31a-0242ac12000d"
      },
      {
       "current": "8c601682-151d-11e7-b31a-0242ac12000d",
       "next": "8c601a74-151d-11e7-b31a-0242ac12000d",
       "previous": "8c60145c-151d-11e7-b31a-0242ac12000d"
      },
      {
       "current": "8c601682-151d-11e7-b31a-0242ac12000d",
       "next": "8c601a74-151d-11e7-b31a-0242ac12000d",
       "previous": "5f0d88e6-1b4d-11e7-b31a-0242ac12000d"
      }
     ],
     "next": "8c601a74-151d-11e7-b31a-0242ac12000d",
     "previous": "e84f524a-1a78-11e7-b31a-0242ac12000d"
    }
   },
   "source": [
    "## 既存のインベントリのバックアップ\n",
    "出力前に、既存の内容をバックアップ用ディレクトリに退避します。"
   ]
  },
  {
   "cell_type": "markdown",
   "metadata": {
    "lc_cell_meme": {
     "current": "8c601a74-151d-11e7-b31a-0242ac12000d",
     "history": [
      {
       "current": "8c601a74-151d-11e7-b31a-0242ac12000d",
       "next": "8c601c5e-151d-11e7-b31a-0242ac12000d",
       "previous": "8c601876-151d-11e7-b31a-0242ac12000d"
      }
     ],
     "next": "8c601c5e-151d-11e7-b31a-0242ac12000d",
     "previous": "8c601682-151d-11e7-b31a-0242ac12000d"
    }
   },
   "source": [
    "バックアップ用ディレクトリを生成します。"
   ]
  },
  {
   "cell_type": "code",
   "execution_count": 5,
   "metadata": {
    "lc_cell_meme": {
     "current": "8c601c5e-151d-11e7-b31a-0242ac12000d",
     "next": "8c601e5c-151d-11e7-b31a-0242ac12000d",
     "previous": "8c601a74-151d-11e7-b31a-0242ac12000d"
    }
   },
   "outputs": [
    {
     "name": "stdout",
     "output_type": "stream",
     "text": [
      "./bak_20170730\n"
     ]
    }
   ],
   "source": [
    "from datetime import datetime as dt\n",
    "import os\n",
    "bak_dir = './bak_' + dt.now().strftime('%Y%m%d')\n",
    "if(not os.path.isdir(bak_dir)) : os.mkdir(bak_dir)\n",
    "print(bak_dir)"
   ]
  },
  {
   "cell_type": "markdown",
   "metadata": {
    "lc_cell_meme": {
     "current": "8c601e5c-151d-11e7-b31a-0242ac12000d",
     "next": "8c60203c-151d-11e7-b31a-0242ac12000d",
     "previous": "8c601c5e-151d-11e7-b31a-0242ac12000d"
    }
   },
   "source": [
    "ファイルを生成したディレクトリにコピーします。"
   ]
  },
  {
   "cell_type": "code",
   "execution_count": 6,
   "metadata": {
    "collapsed": true,
    "lc_cell_meme": {
     "current": "8c60203c-151d-11e7-b31a-0242ac12000d",
     "history": [
      {
       "current": "8c60203c-151d-11e7-b31a-0242ac12000d",
       "next": "8c602226-151d-11e7-b31a-0242ac12000d",
       "previous": "8c601e5c-151d-11e7-b31a-0242ac12000d"
      }
     ],
     "next": "8c602794-151d-11e7-b31a-0242ac12000d",
     "previous": "8c601e5c-151d-11e7-b31a-0242ac12000d"
    },
    "scrolled": true
   },
   "outputs": [],
   "source": [
    "if os.path.exists('hosts'):\n",
    "    !cp ./hosts {bak_dir}/hosts"
   ]
  },
  {
   "cell_type": "markdown",
   "metadata": {
    "lc_cell_meme": {
     "current": "8c602794-151d-11e7-b31a-0242ac12000d",
     "history": [
      {
       "current": "8c602794-151d-11e7-b31a-0242ac12000d",
       "next": "8c60297e-151d-11e7-b31a-0242ac12000d",
       "previous": "8c6025c8-151d-11e7-b31a-0242ac12000d"
      }
     ],
     "next": "8c60297e-151d-11e7-b31a-0242ac12000d",
     "previous": "8c60203c-151d-11e7-b31a-0242ac12000d"
    }
   },
   "source": [
    "次のセルを実行すると、上のセルで記録したIPリストをインベントリのテンプレート(hosts_template)と合成し、  \n",
    "新しいhostsファイルを生成します。  \n",
    "生成したhostsの内容は画面にも出力されます。"
   ]
  },
  {
   "cell_type": "code",
   "execution_count": 7,
   "metadata": {
    "lc_cell_meme": {
     "current": "8c60297e-151d-11e7-b31a-0242ac12000d",
     "next": "8c602b4a-151d-11e7-b31a-0242ac12000d",
     "previous": "8c602794-151d-11e7-b31a-0242ac12000d"
    }
   },
   "outputs": [
    {
     "name": "stdout",
     "output_type": "stream",
     "text": [
      "[all]\r\n",
      "i-0bf412a529d12xxxx ansible_ssh_host=34.213.xx.xx\r\n",
      "\r\n",
      "[master-nodes]\r\n",
      "i-0bf412a529d12xxxx ansible_ssh_host=34.213.xx.xx\r\n",
      "\r\n",
      "[data-nodes]\r\n",
      "i-0bf412a529d12xxxx ansible_ssh_host=34.213.xx.xx\r\n",
      "\r\n",
      "[ingest-nodes]\r\n",
      "i-0bf412a529d12xxxx ansible_ssh_host=34.213.xx.xx\r\n",
      "\r\n",
      "[logstash-server]\r\n",
      "i-0bf412a529d12xxxx ansible_ssh_host=34.213.xx.xx\r\n"
     ]
    }
   ],
   "source": [
    "%run scripts/get-replace-file.py\n",
    "replace_file('hosts_template', 'hosts', host_list)\n",
    "!cat ./hosts"
   ]
  },
  {
   "cell_type": "markdown",
   "metadata": {
    "lc_cell_meme": {
     "current": "8c602b4a-151d-11e7-b31a-0242ac12000d",
     "next": "8c602eb0-151d-11e7-b31a-0242ac12000d",
     "previous": "8c60297e-151d-11e7-b31a-0242ac12000d"
    }
   },
   "source": [
    "## 内容の確認・修正\n",
    "生成したインベントリファイルの内容を確認、修正したり、前回のバージョンと比較したい場合は以下から実施できます。"
   ]
  },
  {
   "cell_type": "markdown",
   "metadata": {
    "lc_cell_meme": {
     "current": "8c602eb0-151d-11e7-b31a-0242ac12000d",
     "next": "8c6030c2-151d-11e7-b31a-0242ac12000d",
     "previous": "8c602b4a-151d-11e7-b31a-0242ac12000d"
    }
   },
   "source": [
    "インベントリに出力しているグループの意味と、そのグループに応じたこの後の処理は次の通りです。  \n",
    "各グループに重複して同じサーバアドレスを記入することは、特に問題ありません。"
   ]
  },
  {
   "cell_type": "markdown",
   "metadata": {
    "lc_cell_meme": {
     "current": "8c6030c2-151d-11e7-b31a-0242ac12000d",
     "next": "8c6032ca-151d-11e7-b31a-0242ac12000d",
     "previous": "8c602eb0-151d-11e7-b31a-0242ac12000d"
    }
   },
   "source": [
    "|グループ|グループに入れるべきサーバ|設定によるこのあとの実際の処理の違い|\n",
    "|---|---|---|\n",
    "|[master-nodes]|master-eligible node<br>（Master Nodeの候補）にしたいサーバ|elasticsearch.ymlの設定内容を変更します。<br>グループ内のサーバか否かで、<br>**\"node.master\"**<br>をtrue/falseに切り替えます。<br>また、**\"discovery.zen.ping.unicast.hosts\"**<br>にグループ内のホスト名またはIPアドレスを配列で指定します。|\n",
    "|[data-nodes]|Data Nodeにしたいサーバ|elasticsearch.ymlの設定内容を変更します。<br>グループ内のサーバか否かで、<br>**\"node.data\"**<br>をtrue/falseに切り替えます。|\n",
    "|[ingest-nodes]|Ingest Nodeにしたいサーバ|elasticsearch.ymlの設定内容を変更します。<br>グループ内のサーバか否かで、<br>**\"node.ingest\"**<br>をtrue/falseに切り替えます。|\n",
    "|[logstash-server]|Logstash用にしたいサーバ|グループ内のサーバか否かで、<br>Logstashをインストールするかを切り替えます。|\n"
   ]
  },
  {
   "cell_type": "markdown",
   "metadata": {
    "lc_cell_meme": {
     "current": "8c6032ca-151d-11e7-b31a-0242ac12000d",
     "next": "8c6034aa-151d-11e7-b31a-0242ac12000d",
     "previous": "8c6030c2-151d-11e7-b31a-0242ac12000d"
    }
   },
   "source": [
    "出力されたhosts のファイルを修正したい場合は、次のリンクから編集してください。"
   ]
  },
  {
   "cell_type": "markdown",
   "metadata": {
    "lc_cell_meme": {
     "current": "8c6034aa-151d-11e7-b31a-0242ac12000d",
     "history": [
      {
       "current": "8c6034aa-151d-11e7-b31a-0242ac12000d",
       "next": "8c603676-151d-11e7-b31a-0242ac12000d",
       "previous": "8c6032ca-151d-11e7-b31a-0242ac12000d"
      },
      {
       "current": "8c6034aa-151d-11e7-b31a-0242ac12000d",
       "next": "8c6023f2-151d-11e7-b31a-0242ac12000d",
       "previous": "8c6032ca-151d-11e7-b31a-0242ac12000d"
      }
     ],
     "next": "8c603676-151d-11e7-b31a-0242ac12000d",
     "previous": "8c6032ca-151d-11e7-b31a-0242ac12000d"
    }
   },
   "source": [
    "- **[hosts](../edit/hosts)**"
   ]
  },
  {
   "cell_type": "markdown",
   "metadata": {
    "lc_cell_meme": {
     "current": "8c603676-151d-11e7-b31a-0242ac12000d",
     "history": [
      {
       "current": "8c603676-151d-11e7-b31a-0242ac12000d",
       "next": "8c603842-151d-11e7-b31a-0242ac12000d",
       "previous": "8c6034aa-151d-11e7-b31a-0242ac12000d"
      },
      {
       "current": "8c603676-151d-11e7-b31a-0242ac12000d",
       "next": "8c6023f2-151d-11e7-b31a-0242ac12000d",
       "previous": "8c6034aa-151d-11e7-b31a-0242ac12000d"
      },
      {
       "current": "8c603676-151d-11e7-b31a-0242ac12000d",
       "next": "8c603842-151d-11e7-b31a-0242ac12000d",
       "previous": "8c6023f2-151d-11e7-b31a-0242ac12000d"
      }
     ],
     "next": "8c603842-151d-11e7-b31a-0242ac12000d",
     "previous": "8c6034aa-151d-11e7-b31a-0242ac12000d"
    }
   },
   "source": [
    "変更結果を既存の内容（バックアップディレクトリに退避しているもの）と比較するには  \n",
    "次のセルを実行してください。"
   ]
  },
  {
   "cell_type": "code",
   "execution_count": 8,
   "metadata": {
    "lc_cell_meme": {
     "current": "8c603842-151d-11e7-b31a-0242ac12000d",
     "history": [
      {
       "current": "8c603842-151d-11e7-b31a-0242ac12000d",
       "next": null,
       "previous": "8c603676-151d-11e7-b31a-0242ac12000d"
      },
      {
       "current": "8c603842-151d-11e7-b31a-0242ac12000d",
       "next": "1e76976a-1b4c-11e7-b31a-0242ac12000d",
       "previous": "8c603676-151d-11e7-b31a-0242ac12000d"
      },
      {
       "current": "8c603842-151d-11e7-b31a-0242ac12000d",
       "next": "e84f4e94-1a78-11e7-b31a-0242ac12000d",
       "previous": "8c603676-151d-11e7-b31a-0242ac12000d"
      },
      {
       "current": "8c603842-151d-11e7-b31a-0242ac12000d",
       "next": "e84f4e94-1a78-11e7-b31a-0242ac12000d",
       "previous": "8c6023f2-151d-11e7-b31a-0242ac12000d"
      }
     ],
     "next": "e84f4e94-1a78-11e7-b31a-0242ac12000d",
     "previous": "8c603676-151d-11e7-b31a-0242ac12000d"
    },
    "scrolled": true
   },
   "outputs": [
    {
     "name": "stdout",
     "output_type": "stream",
     "text": [
      "--- ./bak_20170730/hosts\t2017-07-30 12:50:21.453174247 +0000\r\n",
      "+++ hosts\t2017-07-30 12:50:22.142384586 +0000\r\n",
      "@@ -1,28 +1,14 @@\r\n",
      " [all]\r\n",
      "-i-070e599a2f340f55a ansible_ssh_host=35.164.172.32\r\n",
      "-i-0f83d4a2a48ff74cf ansible_ssh_host=52.40.22.166\r\n",
      "-i-02400d21bcac8ecdb ansible_ssh_host=52.26.116.204\r\n",
      "-i-0171aabd7aed539fb ansible_ssh_host=52.34.182.253\r\n",
      "-i-083741ca08986ec92 ansible_ssh_host=34.213.150.135\r\n",
      "+i-0bf412a529d12xxxx ansible_ssh_host=34.213.xx.xx\r\n",
      " \r\n",
      " [master-nodes]\r\n",
      "-i-070e599a2f340f55a ansible_ssh_host=35.164.172.32\r\n",
      "-i-0f83d4a2a48ff74cf ansible_ssh_host=52.40.22.166\r\n",
      "-i-02400d21bcac8ecdb ansible_ssh_host=52.26.116.204\r\n",
      "+i-0bf412a529d12xxxx ansible_ssh_host=34.213.xx.xx\r\n",
      " \r\n",
      " [data-nodes]\r\n",
      "-i-070e599a2f340f55a ansible_ssh_host=35.164.172.32\r\n",
      "-i-0f83d4a2a48ff74cf ansible_ssh_host=52.40.22.166\r\n",
      "-i-02400d21bcac8ecdb ansible_ssh_host=52.26.116.204\r\n",
      "-i-0171aabd7aed539fb ansible_ssh_host=52.34.182.253\r\n",
      "-i-083741ca08986ec92 ansible_ssh_host=34.213.150.135\r\n",
      "+i-0bf412a529d12xxxx ansible_ssh_host=34.213.xx.xx\r\n",
      " \r\n",
      " [ingest-nodes]\r\n",
      "-i-070e599a2f340f55a ansible_ssh_host=35.164.172.32\r\n",
      "-i-0f83d4a2a48ff74cf ansible_ssh_host=52.40.22.166\r\n",
      "-i-02400d21bcac8ecdb ansible_ssh_host=52.26.116.204\r\n",
      "-i-0171aabd7aed539fb ansible_ssh_host=52.34.182.253\r\n",
      "-i-083741ca08986ec92 ansible_ssh_host=34.213.150.135\r\n",
      "+i-0bf412a529d12xxxx ansible_ssh_host=34.213.xx.xx\r\n",
      " \r\n",
      " [logstash-server]\r\n",
      "-i-0171aabd7aed539fb ansible_ssh_host=52.34.182.253\r\n",
      "+i-0bf412a529d12xxxx ansible_ssh_host=34.213.xx.xx\r\n"
     ]
    }
   ],
   "source": [
    "!diff -ur {bak_dir}/hosts hosts || exit 0"
   ]
  },
  {
   "cell_type": "markdown",
   "metadata": {
    "lc_cell_meme": {
     "current": "e84f4e94-1a78-11e7-b31a-0242ac12000d",
     "history": [
      {
       "current": "e84f4e94-1a78-11e7-b31a-0242ac12000d",
       "next": "e84f5074-1a78-11e7-b31a-0242ac12000d",
       "previous": "e84f4cbe-1a78-11e7-b31a-0242ac12000d"
      },
      {
       "current": "e84f4e94-1a78-11e7-b31a-0242ac12000d",
       "next": "e84f5074-1a78-11e7-b31a-0242ac12000d",
       "previous": "565273c2-1ab4-11e7-b31a-0242ac12000d"
      },
      {
       "current": "e84f4e94-1a78-11e7-b31a-0242ac12000d",
       "next": "e84f5074-1a78-11e7-b31a-0242ac12000d",
       "previous": "717d6db2-1b4c-11e7-b31a-0242ac12000d"
      },
      {
       "current": "e84f4e94-1a78-11e7-b31a-0242ac12000d",
       "next": "e84f5074-1a78-11e7-b31a-0242ac12000d",
       "previous": "8c603842-151d-11e7-b31a-0242ac12000d"
      },
      {
       "current": "e84f4e94-1a78-11e7-b31a-0242ac12000d",
       "next": "5f0d8ac6-1b4d-11e7-b31a-0242ac12000d",
       "previous": "8c603842-151d-11e7-b31a-0242ac12000d"
      }
     ],
     "next": "e84f5074-1a78-11e7-b31a-0242ac12000d",
     "previous": "8c603842-151d-11e7-b31a-0242ac12000d"
    }
   },
   "source": [
    "## インベントリのテスト\n",
    "作成したインベントリにある各ホストに、Ansibleから各種の操作が可能か確認します。\n"
   ]
  },
  {
   "cell_type": "markdown",
   "metadata": {
    "lc_cell_meme": {
     "current": "e84f5074-1a78-11e7-b31a-0242ac12000d",
     "history": [
      {
       "current": "e84f5074-1a78-11e7-b31a-0242ac12000d",
       "next": "e84f524a-1a78-11e7-b31a-0242ac12000d",
       "previous": "e84f4e94-1a78-11e7-b31a-0242ac12000d"
      },
      {
       "current": "e84f5074-1a78-11e7-b31a-0242ac12000d",
       "next": "17863540-1b4d-11e7-b31a-0242ac12000d",
       "previous": "e84f4e94-1a78-11e7-b31a-0242ac12000d"
      },
      {
       "current": "e84f5074-1a78-11e7-b31a-0242ac12000d",
       "next": "17863540-1b4d-11e7-b31a-0242ac12000d",
       "previous": "5f0d905c-1b4d-11e7-b31a-0242ac12000d"
      },
      {
       "current": "e84f5074-1a78-11e7-b31a-0242ac12000d",
       "next": "17863540-1b4d-11e7-b31a-0242ac12000d",
       "previous": "e84f4e94-1a78-11e7-b31a-0242ac12000d"
      }
     ],
     "next": "a692c26c-1b4d-11e7-b31a-0242ac12000d",
     "previous": "e84f4e94-1a78-11e7-b31a-0242ac12000d"
    }
   },
   "source": [
    "### ホストに到達可能か？\n",
    "インベントリの各ホストに、Ansibleからアクセス可能か確認します。"
   ]
  },
  {
   "cell_type": "markdown",
   "metadata": {
    "lc_cell_meme": {
     "current": "a692c26c-1b4d-11e7-b31a-0242ac12000d",
     "history": [
      {
       "current": "a692c26c-1b4d-11e7-b31a-0242ac12000d",
       "next": "a692c816-1b4d-11e7-b31a-0242ac12000d",
       "previous": "e84f55ec-1a78-11e7-b31a-0242ac12000d"
      },
      {
       "current": "a692c26c-1b4d-11e7-b31a-0242ac12000d",
       "next": "e84f55ec-1a78-11e7-b31a-0242ac12000d",
       "previous": "17863540-1b4d-11e7-b31a-0242ac12000d"
      }
     ],
     "next": "e84f55ec-1a78-11e7-b31a-0242ac12000d",
     "previous": "e84f5074-1a78-11e7-b31a-0242ac12000d"
    }
   },
   "source": [
    "次のコマンドを実行し、全ホストにPINGを発行してください。"
   ]
  },
  {
   "cell_type": "code",
   "execution_count": 9,
   "metadata": {
    "lc_cell_meme": {
     "current": "e84f55ec-1a78-11e7-b31a-0242ac12000d",
     "history": [
      {
       "current": "e84f55ec-1a78-11e7-b31a-0242ac12000d",
       "next": "e84f57b8-1a78-11e7-b31a-0242ac12000d",
       "previous": "e84f5420-1a78-11e7-b31a-0242ac12000d"
      },
      {
       "current": "e84f55ec-1a78-11e7-b31a-0242ac12000d",
       "next": "e84f5b46-1a78-11e7-b31a-0242ac12000d",
       "previous": "e84f5420-1a78-11e7-b31a-0242ac12000d"
      },
      {
       "current": "e84f55ec-1a78-11e7-b31a-0242ac12000d",
       "next": "a692c26c-1b4d-11e7-b31a-0242ac12000d",
       "previous": "e84f5420-1a78-11e7-b31a-0242ac12000d"
      }
     ],
     "next": "a692c816-1b4d-11e7-b31a-0242ac12000d",
     "previous": "a692c26c-1b4d-11e7-b31a-0242ac12000d"
    },
    "scrolled": false
   },
   "outputs": [
    {
     "name": "stdout",
     "output_type": "stream",
     "text": [
      "\u001b[0;32mi-0bf412a529d12xxxx | SUCCESS => {\u001b[0m\r\n",
      "\u001b[0;32m    \"changed\": false, \u001b[0m\r\n",
      "\u001b[0;32m    \"ping\": \"pong\"\u001b[0m\r\n",
      "\u001b[0;32m}\u001b[0m\r\n"
     ]
    }
   ],
   "source": [
    "!ansible all -m ping -i ./hosts -u $USER --private-key=$KEYPATH"
   ]
  },
  {
   "cell_type": "markdown",
   "metadata": {
    "lc_cell_meme": {
     "current": "a692c816-1b4d-11e7-b31a-0242ac12000d",
     "history": [
      {
       "current": "a692c816-1b4d-11e7-b31a-0242ac12000d",
       "next": "a692ca82-1b4d-11e7-b31a-0242ac12000d",
       "previous": "a692c26c-1b4d-11e7-b31a-0242ac12000d"
      }
     ],
     "next": "a692ca82-1b4d-11e7-b31a-0242ac12000d",
     "previous": "e84f55ec-1a78-11e7-b31a-0242ac12000d"
    }
   },
   "source": [
    "各サーバから、次のようにSUCCESSという応答が返ってくれば問題なく実行できています。"
   ]
  },
  {
   "cell_type": "raw",
   "metadata": {
    "lc_cell_meme": {
     "current": "a692ca82-1b4d-11e7-b31a-0242ac12000d",
     "history": [
      {
       "current": "a692ca82-1b4d-11e7-b31a-0242ac12000d",
       "next": "a692cc8a-1b4d-11e7-b31a-0242ac12000d",
       "previous": "a692c816-1b4d-11e7-b31a-0242ac12000d"
      }
     ],
     "next": "e84f5b46-1a78-11e7-b31a-0242ac12000d",
     "previous": "a692c816-1b4d-11e7-b31a-0242ac12000d"
    }
   },
   "source": [
    "<各サーバのIPアドレス> | SUCCESS => {\n",
    "    \"changed\": false, \n",
    "    \"ping\": \"pong\"\n",
    "}"
   ]
  },
  {
   "cell_type": "markdown",
   "metadata": {
    "lc_cell_meme": {
     "current": "e84f5b46-1a78-11e7-b31a-0242ac12000d",
     "history": [
      {
       "current": "e84f5b46-1a78-11e7-b31a-0242ac12000d",
       "next": "e84f5d08-1a78-11e7-b31a-0242ac12000d",
       "previous": "e84f5984-1a78-11e7-b31a-0242ac12000d"
      },
      {
       "current": "e84f5b46-1a78-11e7-b31a-0242ac12000d",
       "next": "e84f5d08-1a78-11e7-b31a-0242ac12000d",
       "previous": "e84f55ec-1a78-11e7-b31a-0242ac12000d"
      },
      {
       "current": "e84f5b46-1a78-11e7-b31a-0242ac12000d",
       "next": "e84f5d08-1a78-11e7-b31a-0242ac12000d",
       "previous": "a692ce7e-1b4d-11e7-b31a-0242ac12000d"
      },
      {
       "current": "e84f5b46-1a78-11e7-b31a-0242ac12000d",
       "next": "e84f5d08-1a78-11e7-b31a-0242ac12000d",
       "previous": "a692ca82-1b4d-11e7-b31a-0242ac12000d"
      }
     ],
     "next": "c4b46d8a-1b4e-11e7-b31a-0242ac12000d",
     "previous": "a692ca82-1b4d-11e7-b31a-0242ac12000d"
    }
   },
   "source": [
    "### 適切なユーザで認証されるか？\n",
    "\n",
    "Ansibleからホストへの認証は、一般ユーザとして認証されるか確認します。"
   ]
  },
  {
   "cell_type": "markdown",
   "metadata": {
    "lc_cell_meme": {
     "current": "c4b46d8a-1b4e-11e7-b31a-0242ac12000d",
     "history": [
      {
       "current": "c4b46d8a-1b4e-11e7-b31a-0242ac12000d",
       "next": "e84f5d08-1a78-11e7-b31a-0242ac12000d",
       "previous": "e84f5b46-1a78-11e7-b31a-0242ac12000d"
      },
      {
       "current": "c4b46d8a-1b4e-11e7-b31a-0242ac12000d",
       "next": "35207944-46e0-11e7-88b1-02420aff0008",
       "previous": "e84f5b46-1a78-11e7-b31a-0242ac12000d"
      }
     ],
     "next": "41097db8-4727-11e7-88b1-02420aff0008",
     "previous": "e84f5b46-1a78-11e7-b31a-0242ac12000d"
    }
   },
   "source": [
    "次のコマンドを実行してください。"
   ]
  },
  {
   "cell_type": "code",
   "execution_count": 10,
   "metadata": {
    "lc_cell_meme": {
     "current": "41097db8-4727-11e7-88b1-02420aff0008",
     "next": "7d2534ea-1b4e-11e7-b31a-0242ac12000d",
     "previous": "c4b46d8a-1b4e-11e7-b31a-0242ac12000d"
    }
   },
   "outputs": [
    {
     "name": "stdout",
     "output_type": "stream",
     "text": [
      "\u001b[0;32mi-0bf412a529d12xxxx | SUCCESS | rc=0 >>\u001b[0m\r\n",
      "\u001b[0;32mcentos\u001b[0m\r\n",
      "\u001b[0;32m\u001b[0m\r\n"
     ]
    }
   ],
   "source": [
    "!ansible -a 'whoami' all -i ./hosts -u $USER --private-key=$KEYPATH"
   ]
  },
  {
   "cell_type": "markdown",
   "metadata": {
    "lc_cell_meme": {
     "current": "7d2534ea-1b4e-11e7-b31a-0242ac12000d",
     "history": [
      {
       "current": "7d2534ea-1b4e-11e7-b31a-0242ac12000d",
       "next": "e84f5ede-1a78-11e7-b31a-0242ac12000d",
       "previous": "e84f5d08-1a78-11e7-b31a-0242ac12000d"
      },
      {
       "current": "7d2534ea-1b4e-11e7-b31a-0242ac12000d",
       "next": "c4b471e0-1b4e-11e7-b31a-0242ac12000d",
       "previous": "e84f5d08-1a78-11e7-b31a-0242ac12000d"
      },
      {
       "current": "7d2534ea-1b4e-11e7-b31a-0242ac12000d",
       "next": "c4b471e0-1b4e-11e7-b31a-0242ac12000d",
       "previous": "35207944-46e0-11e7-88b1-02420aff0008"
      },
      {
       "current": "7d2534ea-1b4e-11e7-b31a-0242ac12000d",
       "next": "c4b471e0-1b4e-11e7-b31a-0242ac12000d",
       "previous": "7cab0824-46e0-11e7-88b1-02420aff0008"
      }
     ],
     "next": "c4b471e0-1b4e-11e7-b31a-0242ac12000d",
     "previous": "41097db8-4727-11e7-88b1-02420aff0008"
    }
   },
   "source": [
    "各サーバからSUCCESSという結果と、[設定](#設定)の章で設定したユーザ名が次のように応答されていれば、問題なく認証できています。"
   ]
  },
  {
   "cell_type": "raw",
   "metadata": {
    "lc_cell_meme": {
     "current": "c4b471e0-1b4e-11e7-b31a-0242ac12000d",
     "next": "e84f5ede-1a78-11e7-b31a-0242ac12000d",
     "previous": "7d2534ea-1b4e-11e7-b31a-0242ac12000d"
    }
   },
   "source": [
    "<各サーバのIPアドレス> | SUCCESS | rc=0 >>\n",
    "<設定したユーザ名>"
   ]
  },
  {
   "cell_type": "markdown",
   "metadata": {
    "lc_cell_meme": {
     "current": "e84f5ede-1a78-11e7-b31a-0242ac12000d",
     "history": [
      {
       "current": "e84f5ede-1a78-11e7-b31a-0242ac12000d",
       "next": "e84f60a0-1a78-11e7-b31a-0242ac12000d",
       "previous": "e84f5d08-1a78-11e7-b31a-0242ac12000d"
      },
      {
       "current": "e84f5ede-1a78-11e7-b31a-0242ac12000d",
       "next": "e84f60a0-1a78-11e7-b31a-0242ac12000d",
       "previous": "7d2534ea-1b4e-11e7-b31a-0242ac12000d"
      },
      {
       "current": "e84f5ede-1a78-11e7-b31a-0242ac12000d",
       "next": "e84f60a0-1a78-11e7-b31a-0242ac12000d",
       "previous": "c4b471e0-1b4e-11e7-b31a-0242ac12000d"
      }
     ],
     "next": "0c34a5ee-1b4f-11e7-b31a-0242ac12000d",
     "previous": "c4b471e0-1b4e-11e7-b31a-0242ac12000d"
    }
   },
   "source": [
    "### 対象ホストでsudo可能か？\n",
    "インベントリの各ホストに、Ansibleからsudo可能か確認します。\n"
   ]
  },
  {
   "cell_type": "markdown",
   "metadata": {
    "lc_cell_meme": {
     "current": "0c34a5ee-1b4f-11e7-b31a-0242ac12000d",
     "next": "e84f60a0-1a78-11e7-b31a-0242ac12000d",
     "previous": "e84f5ede-1a78-11e7-b31a-0242ac12000d"
    }
   },
   "source": [
    "次のコマンドを実行し、全ホストにsudoしてください。"
   ]
  },
  {
   "cell_type": "code",
   "execution_count": 11,
   "metadata": {
    "lc_cell_meme": {
     "current": "e84f60a0-1a78-11e7-b31a-0242ac12000d",
     "history": [
      {
       "current": "e84f60a0-1a78-11e7-b31a-0242ac12000d",
       "next": "e84f626c-1a78-11e7-b31a-0242ac12000d",
       "previous": "e84f5ede-1a78-11e7-b31a-0242ac12000d"
      },
      {
       "current": "e84f60a0-1a78-11e7-b31a-0242ac12000d",
       "next": "e84f626c-1a78-11e7-b31a-0242ac12000d",
       "previous": "0c34a5ee-1b4f-11e7-b31a-0242ac12000d"
      }
     ],
     "next": "7d2534ea-1b4e-11e7-b31a-0242ac12000d",
     "previous": "0c34a5ee-1b4f-11e7-b31a-0242ac12000d"
    },
    "scrolled": true
   },
   "outputs": [
    {
     "name": "stdout",
     "output_type": "stream",
     "text": [
      "\u001b[0;32mi-0bf412a529d12xxxx | SUCCESS | rc=0 >>\u001b[0m\r\n",
      "\u001b[0;32mroot\u001b[0m\r\n",
      "\u001b[0;32m\u001b[0m\r\n"
     ]
    }
   ],
   "source": [
    "!ansible --become --become-user root -a 'whoami' all -i ./hosts -u $USER --private-key=$KEYPATH"
   ]
  },
  {
   "cell_type": "markdown",
   "metadata": {
    "lc_cell_meme": {
     "current": "7d2534ea-1b4e-11e7-b31a-0242ac12000d",
     "history": [
      {
       "current": "7d2534ea-1b4e-11e7-b31a-0242ac12000d",
       "next": "e84f5ede-1a78-11e7-b31a-0242ac12000d",
       "previous": "e84f5d08-1a78-11e7-b31a-0242ac12000d"
      },
      {
       "current": "7d2534ea-1b4e-11e7-b31a-0242ac12000d",
       "next": "c4b471e0-1b4e-11e7-b31a-0242ac12000d",
       "previous": "e84f5d08-1a78-11e7-b31a-0242ac12000d"
      }
     ],
     "next": "c4b471e0-1b4e-11e7-b31a-0242ac12000d",
     "previous": "e84f60a0-1a78-11e7-b31a-0242ac12000d"
    }
   },
   "source": [
    "各サーバからSUCCESSという結果と、rootというユーザ名が次のように応答されていれば、問題なくsudoできています。"
   ]
  },
  {
   "cell_type": "raw",
   "metadata": {
    "lc_cell_meme": {
     "current": "c4b471e0-1b4e-11e7-b31a-0242ac12000d",
     "history": [
      {
       "current": "c4b471e0-1b4e-11e7-b31a-0242ac12000d",
       "next": "e84f5ede-1a78-11e7-b31a-0242ac12000d",
       "previous": "7d2534ea-1b4e-11e7-b31a-0242ac12000d"
      },
      {
       "current": "c4b471e0-1b4e-11e7-b31a-0242ac12000d",
       "next": "e84f642e-1a78-11e7-b31a-0242ac12000d",
       "previous": "7d2534ea-1b4e-11e7-b31a-0242ac12000d"
      }
     ],
     "next": "e84f6604-1a78-11e7-b31a-0242ac12000d",
     "previous": "7d2534ea-1b4e-11e7-b31a-0242ac12000d"
    }
   },
   "source": [
    "<各サーバのIPアドレス> | SUCCESS | rc=0 >>\n",
    "root"
   ]
  },
  {
   "cell_type": "markdown",
   "metadata": {
    "lc_cell_meme": {
     "current": "e84f6604-1a78-11e7-b31a-0242ac12000d",
     "history": [
      {
       "current": "e84f6604-1a78-11e7-b31a-0242ac12000d",
       "next": "e84f67d0-1a78-11e7-b31a-0242ac12000d",
       "previous": "e84f642e-1a78-11e7-b31a-0242ac12000d"
      },
      {
       "current": "e84f6604-1a78-11e7-b31a-0242ac12000d",
       "next": "e84f67d0-1a78-11e7-b31a-0242ac12000d",
       "previous": "c4b471e0-1b4e-11e7-b31a-0242ac12000d"
      },
      {
       "current": "e84f6604-1a78-11e7-b31a-0242ac12000d",
       "next": "e2d3fc9e-1b4f-11e7-b31a-0242ac12000d",
       "previous": "c4b471e0-1b4e-11e7-b31a-0242ac12000d"
      }
     ],
     "next": "71d97856-1b50-11e7-b31a-0242ac12000d",
     "previous": "c4b471e0-1b4e-11e7-b31a-0242ac12000d"
    }
   },
   "source": [
    "### Ansibleによる操作ログが記録されているか？\n",
    "Ansibleで各ホストを操作した結果を、過去の分も含めて参照できるか確認します。"
   ]
  },
  {
   "cell_type": "markdown",
   "metadata": {
    "lc_cell_meme": {
     "current": "71d97856-1b50-11e7-b31a-0242ac12000d",
     "next": "e2d3fc9e-1b4f-11e7-b31a-0242ac12000d",
     "previous": "e84f6604-1a78-11e7-b31a-0242ac12000d"
    }
   },
   "source": [
    "ログのディレクトリまたはファイルを指定してください。"
   ]
  },
  {
   "cell_type": "code",
   "execution_count": 12,
   "metadata": {
    "collapsed": true,
    "lc_cell_meme": {
     "current": "e2d3fc9e-1b4f-11e7-b31a-0242ac12000d",
     "history": [
      {
       "current": "e2d3fc9e-1b4f-11e7-b31a-0242ac12000d",
       "next": "e84f67d0-1a78-11e7-b31a-0242ac12000d",
       "previous": "e84f6604-1a78-11e7-b31a-0242ac12000d"
      }
     ],
     "next": "71d97c84-1b50-11e7-b31a-0242ac12000d",
     "previous": "71d97856-1b50-11e7-b31a-0242ac12000d"
    }
   },
   "outputs": [],
   "source": [
    "LOG_PATH = '/var/log/*'"
   ]
  },
  {
   "cell_type": "markdown",
   "metadata": {
    "lc_cell_meme": {
     "current": "71d97c84-1b50-11e7-b31a-0242ac12000d",
     "next": "e84f67d0-1a78-11e7-b31a-0242ac12000d",
     "previous": "e2d3fc9e-1b4f-11e7-b31a-0242ac12000d"
    }
   },
   "source": [
    "次のコマンドを実行し、ansibleの実行ログが出現するか確認してください。"
   ]
  },
  {
   "cell_type": "code",
   "execution_count": 13,
   "metadata": {
    "lc_cell_meme": {
     "current": "e84f67d0-1a78-11e7-b31a-0242ac12000d",
     "history": [
      {
       "current": "e84f67d0-1a78-11e7-b31a-0242ac12000d",
       "next": "e84f6992-1a78-11e7-b31a-0242ac12000d",
       "previous": "e84f6604-1a78-11e7-b31a-0242ac12000d"
      },
      {
       "current": "e84f67d0-1a78-11e7-b31a-0242ac12000d",
       "next": "e84f6992-1a78-11e7-b31a-0242ac12000d",
       "previous": "e2d3fc9e-1b4f-11e7-b31a-0242ac12000d"
      },
      {
       "current": "e84f67d0-1a78-11e7-b31a-0242ac12000d",
       "next": "e84f6992-1a78-11e7-b31a-0242ac12000d",
       "previous": "71d97c84-1b50-11e7-b31a-0242ac12000d"
      }
     ],
     "next": "485e5874-1b51-11e7-b31a-0242ac12000d",
     "previous": "71d97c84-1b50-11e7-b31a-0242ac12000d"
    },
    "scrolled": true
   },
   "outputs": [
    {
     "name": "stdout",
     "output_type": "stream",
     "text": [
      "\u001b[0;32mi-0bf412a529d12xxxx | SUCCESS | rc=0 >>\u001b[0m\r\n",
      "\u001b[0;32m/var/log/secure:Jul 30 12:50:52 ip-10-30-117-160 sudo:  centos : TTY=pts/0 ; PWD=/home/centos ; USER=root ; COMMAND=/bin/sh -c echo BECOME-SUCCESS-egfkmnfeaorsjnsluqpgfnkxvcxylgpf; /usr/bin/python /home/centos/.ansible/tmp/ansible-tmp-1501419048.65-137031746094503/command.py; rm -rf \"/home/centos/.ansible/tmp/ansible-tmp-1501419048.65-137031746094503/\" > /dev/null 2>&1\u001b[0m\r\n",
      "\u001b[0;32m/var/log/secure:Jul 30 12:50:58 ip-10-30-117-160 sudo:  centos : TTY=pts/0 ; PWD=/home/centos ; USER=root ; COMMAND=/bin/sh -c echo BECOME-SUCCESS-ynjmgfnxtmivahhwrpggrfmkghpwhlms; /usr/bin/python /home/centos/.ansible/tmp/ansible-tmp-1501419054.08-52730567935613/command.py; rm -rf \"/home/centos/.ansible/tmp/ansible-tmp-1501419054.08-52730567935613/\" > /dev/null 2>&1grep: /var/log/anaconda: Is a directory\u001b[0m\r\n",
      "\u001b[0;32mgrep: /var/log/audit: Is a directory\u001b[0m\r\n",
      "\u001b[0;32mgrep: /var/log/chrony: Is a directory\u001b[0m\r\n",
      "\u001b[0;32mgrep: /var/log/ppp: Is a directory\u001b[0m\r\n",
      "\u001b[0;32mgrep: /var/log/rhsm: Is a directory\u001b[0m\r\n",
      "\u001b[0;32mgrep: /var/log/tuned: Is a directory\u001b[0m\r\n",
      "\u001b[0;32m\u001b[0m\r\n"
     ]
    }
   ],
   "source": [
    "!ansible -b -m shell -a 'grep ansible- {LOG_PATH} | tail -n 2' all -i ./hosts -u $USER --private-key=$KEYPATH"
   ]
  },
  {
   "cell_type": "markdown",
   "metadata": {
    "lc_cell_meme": {
     "current": "485e5874-1b51-11e7-b31a-0242ac12000d",
     "history": [
      {
       "current": "485e5874-1b51-11e7-b31a-0242ac12000d",
       "next": null,
       "previous": "e84f67d0-1a78-11e7-b31a-0242ac12000d"
      }
     ],
     "next": "cb942466-46e5-11e7-88b1-02420aff0008",
     "previous": "e84f67d0-1a78-11e7-b31a-0242ac12000d"
    }
   },
   "source": [
    "※長期運用にあたっては、実行ログがディスクを圧迫しないようrotateされるかを確認してください。  "
   ]
  },
  {
   "cell_type": "markdown",
   "metadata": {
    "collapsed": true,
    "lc_cell_meme": {
     "current": "cb942466-46e5-11e7-88b1-02420aff0008",
     "history": [
      {
       "current": "cb942466-46e5-11e7-88b1-02420aff0008",
       "next": null,
       "previous": "485e5874-1b51-11e7-b31a-0242ac12000d"
      },
      {
       "current": "cb942466-46e5-11e7-88b1-02420aff0008",
       "next": "eba95604-7520-11e7-a4c6-0242ac110002",
       "previous": "485e5874-1b51-11e7-b31a-0242ac12000d"
      }
     ],
     "next": "eba95848-7520-11e7-a4c6-0242ac110002",
     "previous": "485e5874-1b51-11e7-b31a-0242ac12000d"
    }
   },
   "source": [
    "## /etc/hostsの更新\n",
    "\n",
    "各仮想マシンの `/etc/hosts` に、インスタンスIDを名前としてPrivate IPにアクセスできるよう設定します。"
   ]
  },
  {
   "cell_type": "code",
   "execution_count": 14,
   "metadata": {
    "lc_cell_meme": {
     "current": "eba95848-7520-11e7-a4c6-0242ac110002",
     "history": [
      {
       "current": "eba95848-7520-11e7-a4c6-0242ac110002",
       "next": null,
       "previous": "eba95604-7520-11e7-a4c6-0242ac110002"
      },
      {
       "current": "eba95848-7520-11e7-a4c6-0242ac110002",
       "next": "09c42bf4-7522-11e7-a4c6-0242ac110002",
       "previous": "eba95604-7520-11e7-a4c6-0242ac110002"
      }
     ],
     "next": "81bff4c6-7522-11e7-a4c6-0242ac110002",
     "previous": "cb942466-46e5-11e7-88b1-02420aff0008"
    },
    "scrolled": true
   },
   "outputs": [
    {
     "name": "stdout",
     "output_type": "stream",
     "text": [
      "\u001b[0;33mi-0bf412a529d12xxxx | SUCCESS => {\u001b[0m\r\n",
      "\u001b[0;33m    \"backup\": \"\", \u001b[0m\r\n",
      "\u001b[0;33m    \"changed\": true, \u001b[0m\r\n",
      "\u001b[0;33m    \"msg\": \"line added\"\u001b[0m\r\n",
      "\u001b[0;33m}\u001b[0m\r\n"
     ]
    }
   ],
   "source": [
    "for name, public_ip, private_ip in host_list.values():\n",
    "    !ansible -b -m lineinfile -a 'path=/etc/hosts line=\"{private_ip} {name}\"' all -i ./hosts -u $USER --private-key=$KEYPATH"
   ]
  },
  {
   "cell_type": "markdown",
   "metadata": {
    "lc_cell_meme": {
     "current": "81bff4c6-7522-11e7-a4c6-0242ac110002",
     "next": "09c42bf4-7522-11e7-a4c6-0242ac110002",
     "previous": "eba95848-7520-11e7-a4c6-0242ac110002"
    }
   },
   "source": [
    "変更後の`/etc/hosts` の内容を確認しておく。"
   ]
  },
  {
   "cell_type": "code",
   "execution_count": 15,
   "metadata": {
    "lc_cell_meme": {
     "current": "09c42bf4-7522-11e7-a4c6-0242ac110002",
     "history": [
      {
       "current": "09c42bf4-7522-11e7-a4c6-0242ac110002",
       "next": null,
       "previous": "eba95848-7520-11e7-a4c6-0242ac110002"
      },
      {
       "current": "09c42bf4-7522-11e7-a4c6-0242ac110002",
       "next": "30313bec-7522-11e7-a4c6-0242ac110002",
       "previous": "eba95848-7520-11e7-a4c6-0242ac110002"
      }
     ],
     "next": "30313bec-7522-11e7-a4c6-0242ac110002",
     "previous": "81bff4c6-7522-11e7-a4c6-0242ac110002"
    }
   },
   "outputs": [
    {
     "name": "stdout",
     "output_type": "stream",
     "text": [
      "\u001b[0;32mi-0bf412a529d12xxxx | SUCCESS | rc=0 >>\u001b[0m\r\n",
      "\u001b[0;32m127.0.0.1   localhost localhost.localdomain localhost4 localhost4.localdomain4\u001b[0m\r\n",
      "\u001b[0;32m::1         localhost localhost.localdomain localhost6 localhost6.localdomain6\u001b[0m\r\n",
      "\u001b[0;32m\u001b[0m\r\n",
      "\u001b[0;32m10.30.xxx.xxx i-0bf412a529d12xxxx\u001b[0m\r\n",
      "\u001b[0;32m\u001b[0m\r\n"
     ]
    }
   ],
   "source": [
    "!ansible -a 'cat /etc/hosts' all -i ./hosts -u $USER --private-key=$KEYPATH"
   ]
  },
  {
   "cell_type": "code",
   "execution_count": null,
   "metadata": {
    "collapsed": true,
    "lc_cell_meme": {
     "current": "30313bec-7522-11e7-a4c6-0242ac110002",
     "next": null,
     "previous": "09c42bf4-7522-11e7-a4c6-0242ac110002"
    }
   },
   "outputs": [],
   "source": []
  }
 ],
 "metadata": {
  "anaconda-cloud": {},
  "kernelspec": {
   "display_name": "Python 2 (LC_wrapper)",
   "language": "python",
   "name": "python2-wrapper"
  },
  "language_info": {
   "file_extension": ".py",
   "mimetype": "text/x-python",
   "name": "python",
   "nbconvert_exporter": "python",
   "pygments_lexer": "ipython2",
   "version": "2.7.9"
  },
  "latex_envs": {
   "bibliofile": "biblio.bib",
   "cite_by": "apalike",
   "current_citInitial": 1,
   "eqLabelWithNumbers": true,
   "eqNumInitial": 0
  },
  "lc_notebook_meme": {
   "current": "8c600da4-151d-11e7-b31a-0242ac12000d"
  },
  "toc": {
   "colors": {
    "hover_highlight": "#DAA520",
    "navigate_num": "#000000",
    "navigate_text": "#333333",
    "running_highlight": "#FF0000",
    "selected_highlight": "#FFD700",
    "sidebar_border": "#EEEEEE",
    "wrapper_background": "#FFFFFF"
   },
   "moveMenuLeft": true,
   "nav_menu": {
    "height": "407px",
    "width": "252px"
   },
   "navigate_menu": true,
   "number_sections": true,
   "sideBar": true,
   "skip_h1_title": false,
   "threshold": 4,
   "toc_cell": false,
   "toc_position": {
    "height": "791px",
    "left": "0px",
    "right": "1576px",
    "top": "130px",
    "width": "268px"
   },
   "toc_section_display": "block",
   "toc_window_display": true,
   "widenNotebook": false
  }
 },
 "nbformat": 4,
 "nbformat_minor": 1
}
