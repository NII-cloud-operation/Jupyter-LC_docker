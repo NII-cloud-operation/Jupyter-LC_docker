{
 "cells": [
  {
   "cell_type": "markdown",
   "metadata": {
    "lc_cell_meme": {
     "current": "457c11f0-152a-11e7-b31a-0242ac12000d",
     "next": "457c1448-152a-11e7-b31a-0242ac12000d",
     "previous": null
    }
   },
   "source": [
    "# サーチエンジンとしての利用手順(検索)\n",
    "----\n",
    "様々な条件で投入したドキュメントを検索する 方法について説明します。"
   ]
  },
  {
   "cell_type": "markdown",
   "metadata": {
    "lc_cell_meme": {
     "current": "457c1448-152a-11e7-b31a-0242ac12000d",
     "next": "457c1646-152a-11e7-b31a-0242ac12000d",
     "previous": "457c11f0-152a-11e7-b31a-0242ac12000d"
    }
   },
   "source": [
    "## サーチエンジンとしてのElasticsearch"
   ]
  },
  {
   "cell_type": "markdown",
   "metadata": {
    "lc_cell_meme": {
     "current": "457c1646-152a-11e7-b31a-0242ac12000d",
     "next": "457c183a-152a-11e7-b31a-0242ac12000d",
     "previous": "457c1448-152a-11e7-b31a-0242ac12000d"
    }
   },
   "source": [
    "Elasticsearchは、高速に動作する全文検索エンジンです。  \n",
    "Apache Lucene ([公式ページ](https://lucene.apache.org/))という全文検索のOSSをクラスタ化することで、大量データの高速な全文検索を実現しています。  \n",
    "また、多彩なクエリにより、時系列データに対して高度な検索を行うことができます。  \n",
    "すべてのフィールドに検索用インデックス([05_Indexing ](05_Indexing.ipynb)で説明します)を作成することにより、どのフィールドに対する検索でも高速に動作します。  \n",
    "  \n",
    "Elasticsearchに投入された内容は、Kibana ([公式ページ](https://www.elastic.co/jp/products/kibana))という専用の可視化ツールを用いて検索・表示・集計できますが、REST APIを送信することで同様の処理をさせることもできます。  \n",
    "  \n",
    "本Notebookでは、REST APIによる基本的な操作方法について説明します。  \n",
    "本章では、[01_04_Install](01_04_Install.ipynb#Logstashへのサンプルデータ投入（オプション）-14)で登録したデータを使用します。"
   ]
  },
  {
   "cell_type": "markdown",
   "metadata": {
    "lc_cell_meme": {
     "current": "457c183a-152a-11e7-b31a-0242ac12000d",
     "next": "457c1a1a-152a-11e7-b31a-0242ac12000d",
     "previous": "457c1646-152a-11e7-b31a-0242ac12000d"
    }
   },
   "source": [
    "## リクエストの基本構文"
   ]
  },
  {
   "cell_type": "markdown",
   "metadata": {
    "lc_cell_meme": {
     "current": "457c1a1a-152a-11e7-b31a-0242ac12000d",
     "next": "457c1bf0-152a-11e7-b31a-0242ac12000d",
     "previous": "457c183a-152a-11e7-b31a-0242ac12000d"
    }
   },
   "source": [
    "REST APIのリクエストは、HTTP送信ツール等を利用して送信することができます。  \n",
    "このNotebookではcurlコマンドを用いて送信しいます。  \n",
    "例えば、  \n",
    "「meteorological-data-2015.01 というインデックスの中で、locationがtokyoであるドキュメントを検索する」  \n",
    "という内容のREST APIの呼び出しは次のようになります。"
   ]
  },
  {
   "cell_type": "raw",
   "metadata": {
    "lc_cell_meme": {
     "current": "457c1bf0-152a-11e7-b31a-0242ac12000d",
     "next": "457c1dbc-152a-11e7-b31a-0242ac12000d",
     "previous": "457c1a1a-152a-11e7-b31a-0242ac12000d"
    }
   },
   "source": [
    "curl -XGET \"http://$ES_HOST/meteorological-data-2015.01/_search?pretty\" -d '{\n",
    "  \"query\": {\n",
    "    \"term\" : { \"location\" : \"tokyo\" } \n",
    "  }\n",
    "}'"
   ]
  },
  {
   "cell_type": "markdown",
   "metadata": {
    "lc_cell_meme": {
     "current": "457c1dbc-152a-11e7-b31a-0242ac12000d",
     "next": "457c1f88-152a-11e7-b31a-0242ac12000d",
     "previous": "457c1bf0-152a-11e7-b31a-0242ac12000d"
    }
   },
   "source": [
    "APIの基本構文と構成要素は次の通りです。"
   ]
  },
  {
   "cell_type": "markdown",
   "metadata": {
    "lc_cell_meme": {
     "current": "457c1f88-152a-11e7-b31a-0242ac12000d",
     "next": "457c215e-152a-11e7-b31a-0242ac12000d",
     "previous": "457c1dbc-152a-11e7-b31a-0242ac12000d"
    }
   },
   "source": [
    "** curl -X<メソッド> 'http://<宛先ホスト>/<処理対象>/<処理の種類>?<処理のオプション>' -d '<条件/投入内容>' **\n"
   ]
  },
  {
   "cell_type": "markdown",
   "metadata": {
    "lc_cell_meme": {
     "current": "457c215e-152a-11e7-b31a-0242ac12000d",
     "next": "457c2334-152a-11e7-b31a-0242ac12000d",
     "previous": "457c1f88-152a-11e7-b31a-0242ac12000d"
    }
   },
   "source": [
    "呼び出しの例と対応させると次のような設定内容になっています。  \n",
    "\n",
    "| 構成要素 | 例での対応箇所 | 設定する内容 |\n",
    "|----|----|----|\n",
    "|メソッド|GET|HTTPでのメソッドです。実施したい処理に応じて次を指定します。<br>・検索:GET<br>・追加:PUT<br>・更新:PUSH<br>・削除:DELETE|\n",
    "|宛先ホスト|$ES_HOST|ElasticsearchのCoordinate(Client) Nodeのホスト（＋ポート）を指定します。|\n",
    "|処理対象|meteorological-data-2015.01|検索や編集の対象としたいインデックス、タイプ、ドキュメントを指定します。<br>この例ではインデックスのみを指定してしますが、後ろに<br>～/<インデックス>/<タイプ>/<ドキュメント>/ <br>と続けることで、処理対象をさらに限定することもできます。|\n",
    "|処理の種類|_search|Elasticsearchに実施させたい処理の内容を指定します。\"_search\"は検索処理を示します。<br>処理が自明の場合（例えばメソッドにPUTを指定したときは追加処理であるとわかる）<br>は省略されることもあります。|\n",
    "|処理のオプション|pretty|処理の種類に応じたオプションの指定です。<br>例えば\"?pretty\"は、応答結果を見やすく整形させるオプションです。|\n",
    "|条件/投入内容|{\"query\": {～～|処理の内容や範囲を指定するための条件文です。<br>\"-d\"はcurlコマンドでのデータ部を指定するオプションですが、ここにJSON形式で条件を指定しています。<br>検索条件を指定する\"query\"や、集約条件を指定する\"aggs\"などがあります。<br><br>また追加・更新処理においては、投入したいドキュメント内容をここに記述します。|"
   ]
  },
  {
   "cell_type": "markdown",
   "metadata": {
    "lc_cell_meme": {
     "current": "457c2334-152a-11e7-b31a-0242ac12000d",
     "next": "457c2500-152a-11e7-b31a-0242ac12000d",
     "previous": "457c215e-152a-11e7-b31a-0242ac12000d"
    }
   },
   "source": [
    "----\n",
    "このあとは、実際の具体的なcurlコマンドを用いて、一通りの操作について説明します。  \n",
    "**コマンドを実際に発行するために、以下のセルの実行して宛先のホスト、およびインデックスとタイプを変数に保存してください。**  \n",
    "ES_HOSTには、実際の環境に合わせたCoordinate(Client) Nodeのホストを指定してください。"
   ]
  },
  {
   "cell_type": "code",
   "execution_count": 1,
   "metadata": {
    "lc_cell_meme": {
     "current": "457c2500-152a-11e7-b31a-0242ac12000d",
     "next": "457c26c2-152a-11e7-b31a-0242ac12000d",
     "previous": "457c2334-152a-11e7-b31a-0242ac12000d"
    },
    "scrolled": true
   },
   "outputs": [
    {
     "name": "stdout",
     "output_type": "stream",
     "text": [
      "env: ES_HOST=10.24.128.93:9200\n",
      "env: INDEX=meteorological-data-*\n",
      "env: TYPE=logs\n"
     ]
    }
   ],
   "source": [
    "# 本Notebookで利用する共通的な設定(実行する環境に合わせて書き換えてください)\n",
    "%run rc.py\n",
    "%env ES_HOST={es_host}:9200\n",
    "%env INDEX=meteorological-data-*\n",
    "%env TYPE=logs"
   ]
  },
  {
   "cell_type": "markdown",
   "metadata": {
    "lc_cell_meme": {
     "current": "457c26c2-152a-11e7-b31a-0242ac12000d",
     "next": "457c28b6-152a-11e7-b31a-0242ac12000d",
     "previous": "457c2500-152a-11e7-b31a-0242ac12000d"
    }
   },
   "source": [
    "また各種操作のコマンド例は、1章で登録したサンプルデータを対象にして正常な応答が得られるような内容にしてあります。  \n",
    "未実施の場合、**1章の「[サンプルデータの投入](01_04_Install.ipynb#Logstashへのサンプルデータ投入（オプション）-14)」を実施してください**。  \n",
    "\n",
    "サンプルデータのインデックス名、タイプ名は次のようになっています。\n",
    "\n",
    "| パラメータ | 内容 |\n",
    "|------------|------|\n",
    "|インデックス名|meteorological-data-年.月|\n",
    "|タイプ名|logs|\n",
    "\n",
    "フィールドの内容については、「[サンプルデータの投入](01_04_Install.ipynb#Logstashへのサンプルデータ投入（オプション）-14)」を参照してください。"
   ]
  },
  {
   "cell_type": "markdown",
   "metadata": {
    "lc_cell_meme": {
     "current": "457c28b6-152a-11e7-b31a-0242ac12000d",
     "next": "457c2a8c-152a-11e7-b31a-0242ac12000d",
     "previous": "457c26c2-152a-11e7-b31a-0242ac12000d"
    }
   },
   "source": [
    "## ドキュメントの検索"
   ]
  },
  {
   "cell_type": "markdown",
   "metadata": {
    "lc_cell_meme": {
     "current": "457c2a8c-152a-11e7-b31a-0242ac12000d",
     "next": "457c2c58-152a-11e7-b31a-0242ac12000d",
     "previous": "457c28b6-152a-11e7-b31a-0242ac12000d"
    }
   },
   "source": [
    "### 基本構文"
   ]
  },
  {
   "cell_type": "markdown",
   "metadata": {
    "lc_cell_meme": {
     "current": "457c2c58-152a-11e7-b31a-0242ac12000d",
     "next": "457c2e2e-152a-11e7-b31a-0242ac12000d",
     "previous": "457c2a8c-152a-11e7-b31a-0242ac12000d"
    }
   },
   "source": [
    "検索操作でのREST APIの基本構文は次のようになります。"
   ]
  },
  {
   "cell_type": "raw",
   "metadata": {
    "lc_cell_meme": {
     "current": "457c2e2e-152a-11e7-b31a-0242ac12000d",
     "next": "457c300e-152a-11e7-b31a-0242ac12000d",
     "previous": "457c2c58-152a-11e7-b31a-0242ac12000d"
    }
   },
   "source": [
    "curl -XGET \"http://<宛先ホスト>/<処理対象>/_search?pretty\" -d '<条件>'"
   ]
  },
  {
   "cell_type": "markdown",
   "metadata": {
    "lc_cell_meme": {
     "current": "457c300e-152a-11e7-b31a-0242ac12000d",
     "next": "457c31da-152a-11e7-b31a-0242ac12000d",
     "previous": "457c2e2e-152a-11e7-b31a-0242ac12000d"
    }
   },
   "source": [
    "前述したように、<処理対象>には  \n",
    "\n",
    "** /<インデックス>/<タイプ>/<ドキュメント>/**  \n",
    "\n",
    "のような指定をすることで、検索範囲を限定することができます。\n",
    "具体的には\n",
    "\n",
    "- /<インデックス>/\n",
    "- /<インデックス>/<タイプ>/\n",
    "- /<インデックス>/<タイプ>/<ドキュメント>/\n",
    "\n",
    "のような指定が可能です。後側のドキュメント等は省略できますが、前側のインデックスは省略できません。"
   ]
  },
  {
   "cell_type": "markdown",
   "metadata": {
    "lc_cell_meme": {
     "current": "457c31da-152a-11e7-b31a-0242ac12000d",
     "next": "457c33a6-152a-11e7-b31a-0242ac12000d",
     "previous": "457c300e-152a-11e7-b31a-0242ac12000d"
    }
   },
   "source": [
    "?pretty は応答内容を整形するためのオプションです。指定は任意ですが、見やすさのためには指定した方がよいでしょう。  \n",
    "整形しない場合は次のように1行で表示されます。"
   ]
  },
  {
   "cell_type": "raw",
   "metadata": {
    "lc_cell_meme": {
     "current": "457c33a6-152a-11e7-b31a-0242ac12000d",
     "next": "457c3572-152a-11e7-b31a-0242ac12000d",
     "previous": "457c31da-152a-11e7-b31a-0242ac12000d"
    }
   },
   "source": [
    "{\"_index\":\"meteorological-data-2015.01\",\"_type\":\"logs\",\"_id\":\"AViZonrEvk0XGz-AMH4I\",\"_version\":1,\"found\":true,\"_source\":{\"wind_speed_avg\":\"4.4\",\"snowfall\":null,\"temperature_max\":\"8.2\",\"precipitation_day\":\"0\",\"wind_speed_max\":\"9.4\",\"sunshine_duration\":\"1.3\",\"temperature_avg\":\"3.7\",\"temperature_min\":\"0.7\",\"@version\":\"1\",\"host\":\"cn01041004.ecloud.nii.ac.jp\",\"wind_direction_max_moment\":\"北西\",\"information_night\":\"晴\",\"precipitation_max_10min\":\"0\",\"precipitation_max_hour\":\"0\",\"wind_direction\":\"西\",\"message\":\"2015-01-01T00:00:00,tokyo,1000.4,1003.4,0,0,0,3.7,8.2,0.7,41.0,30.0,4.4,9.4,西,18.7,北西,1.3,,,時々晴一時雪,晴\\r\",\"information_daytime\":\"時々晴一時雪\",\"@timestamp\":\"2014-12-31T15:00:00.000Z\",\"humidity_avg\":\"41.0\",\"humidity_min\":\"30.0\",\"atmospheric_pressure\":\"1000.4\",\"location\":\"tokyo\",\"wind_speed_max_moment\":\"18.7\",\"snowfall_max\":null,\"sea_level_pressure\":\"1003.4\"}}"
   ]
  },
  {
   "cell_type": "markdown",
   "metadata": {
    "lc_cell_meme": {
     "current": "457c3572-152a-11e7-b31a-0242ac12000d",
     "next": "457c373e-152a-11e7-b31a-0242ac12000d",
     "previous": "457c33a6-152a-11e7-b31a-0242ac12000d"
    }
   },
   "source": [
    "整形する場合は次のようになります。"
   ]
  },
  {
   "cell_type": "raw",
   "metadata": {
    "lc_cell_meme": {
     "current": "457c373e-152a-11e7-b31a-0242ac12000d",
     "next": "457c390a-152a-11e7-b31a-0242ac12000d",
     "previous": "457c3572-152a-11e7-b31a-0242ac12000d"
    }
   },
   "source": [
    "{\n",
    "  \"_index\" : \"meteorological-data-2015.01\",\n",
    "  \"_type\" : \"logs\",\n",
    "  \"_id\" : \"AViZonrEvk0XGz-AMH4I\",\n",
    "  \"_version\" : 1,\n",
    "  \"found\" : true,\n",
    "  \"_source\" : {\n",
    "    \"wind_speed_avg\" : \"4.4\",\n",
    "    \"snowfall\" : null,\n",
    "    \"temperature_max\" : \"8.2\",\n",
    "    \"precipitation_day\" : \"0\",\n",
    "    \"wind_speed_max\" : \"9.4\",\n",
    "    \"sunshine_duration\" : \"1.3\",\n",
    "    \"temperature_avg\" : \"3.7\",\n",
    "    \"temperature_min\" : \"0.7\",\n",
    "    \"@version\" : \"1\",\n",
    "    \"host\" : \"cn01041004.ecloud.nii.ac.jp\",\n",
    "    \"wind_direction_max_moment\" : \"北西\",\n",
    "    \"information_night\" : \"晴\",\n",
    "    \"precipitation_max_10min\" : \"0\",\n",
    "    \"precipitation_max_hour\" : \"0\",\n",
    "    \"wind_direction\" : \"西\",\n",
    "    \"message\" : \"2015-01-01T00:00:00,tokyo,1000.4,1003.4,0,0,0,3.7,8.2,0.7,41.0,30.0,4.4,9.4,西,18.7,北西,1.3,,,時々晴一時雪,晴\\r\",\n",
    "    \"information_daytime\" : \"時々晴一時雪\",\n",
    "    \"@timestamp\" : \"2014-12-31T15:00:00.000Z\",\n",
    "    \"humidity_avg\" : \"41.0\",\n",
    "    \"humidity_min\" : \"30.0\",\n",
    "    \"atmospheric_pressure\" : \"1000.4\",\n",
    "    \"location\" : \"tokyo\",\n",
    "    \"wind_speed_max_moment\" : \"18.7\",\n",
    "    \"snowfall_max\" : null,\n",
    "    \"sea_level_pressure\" : \"1003.4\"\n",
    "  }\n",
    "}"
   ]
  },
  {
   "cell_type": "markdown",
   "metadata": {
    "lc_cell_meme": {
     "current": "457c390a-152a-11e7-b31a-0242ac12000d",
     "next": "457c3ae0-152a-11e7-b31a-0242ac12000d",
     "previous": "457c373e-152a-11e7-b31a-0242ac12000d"
    }
   },
   "source": [
    "本Notebookでは?prettyを指定した形式の例を掲載しています。"
   ]
  },
  {
   "cell_type": "markdown",
   "metadata": {
    "lc_cell_meme": {
     "current": "457c3ae0-152a-11e7-b31a-0242ac12000d",
     "next": "457c3cb6-152a-11e7-b31a-0242ac12000d",
     "previous": "457c390a-152a-11e7-b31a-0242ac12000d"
    }
   },
   "source": [
    "条件部にはQuery DSL(Domain Specific Language)と呼ばれる独自のJSON文を指定します。  \n",
    "内容については後述します。"
   ]
  },
  {
   "cell_type": "markdown",
   "metadata": {
    "lc_cell_meme": {
     "current": "457c3cb6-152a-11e7-b31a-0242ac12000d",
     "next": "457c3e82-152a-11e7-b31a-0242ac12000d",
     "previous": "457c3ae0-152a-11e7-b31a-0242ac12000d"
    }
   },
   "source": [
    "この後は、まず処理対象のインデックス、タイプ、ドキュメントの指定方法について説明し、  \n",
    "次に条件部のQuery DSLについて説明し、\n",
    "最後に件数やソート順の指定方法について説明します。"
   ]
  },
  {
   "cell_type": "markdown",
   "metadata": {
    "lc_cell_meme": {
     "current": "457c3e82-152a-11e7-b31a-0242ac12000d",
     "next": "457c4058-152a-11e7-b31a-0242ac12000d",
     "previous": "457c3cb6-152a-11e7-b31a-0242ac12000d"
    }
   },
   "source": [
    "### レスポンスの基本構文（ドキュメントIDで検索した場合）"
   ]
  },
  {
   "cell_type": "markdown",
   "metadata": {
    "lc_cell_meme": {
     "current": "457c4058-152a-11e7-b31a-0242ac12000d",
     "next": "457c4238-152a-11e7-b31a-0242ac12000d",
     "previous": "457c3e82-152a-11e7-b31a-0242ac12000d"
    }
   },
   "source": [
    "[ドキュメントIDで検索](#対象指定:ドキュメントIDで検索)した場合のレスポンスは次のようになります。"
   ]
  },
  {
   "cell_type": "raw",
   "metadata": {
    "lc_cell_meme": {
     "current": "457c4238-152a-11e7-b31a-0242ac12000d",
     "next": "457c4404-152a-11e7-b31a-0242ac12000d",
     "previous": "457c4058-152a-11e7-b31a-0242ac12000d"
    }
   },
   "source": [
    "{\n",
    "  \"_index\" : \"meteorological-data-2014.12\",\n",
    "  \"_type\" : \"logs\",\n",
    "  \"_id\" : \"AViZonrEvk0XGz-AMH4I\",\n",
    "  \"_version\" : 1,\n",
    "  \"found\" : true,\n",
    "  \"_source\" : {\n",
    "    \"@timestamp\" : \"2015-01-01T00:00:00.000Z\",\n",
    "    \"location\" : \"tokyo\",\n",
    "    (略)\n",
    "    \"wind_speed_avg\" : \"4.4\"\n",
    "  }\n",
    "}"
   ]
  },
  {
   "cell_type": "markdown",
   "metadata": {
    "lc_cell_meme": {
     "current": "457c4404-152a-11e7-b31a-0242ac12000d",
     "next": "457c45d0-152a-11e7-b31a-0242ac12000d",
     "previous": "457c4238-152a-11e7-b31a-0242ac12000d"
    }
   },
   "source": [
    "レスポンスの例と対応させると次のような設定内容になっています。  \n",
    "\n",
    "| 構成要素 | 例での対応箇所 | 設定される内容 |\n",
    "|----|----|----|\n",
    "|インデックス名|\\_index|検索したドキュメントのインデックス名。|\n",
    "|タイプ名|\\_type|検索したドキュメントのタイプ名。|\n",
    "|ドキュメントID|\\_id|検索したドキュメントのドキュメントID。|\n",
    "|ドキュメントのバージョン|\\_version|検索したドキュメントのバージョン。<BR>ドキュメントを更新するとバージョンがインクリメントされます。|\n",
    "|検索結果の有無|found|ドキュメントが存在する場合はtrue、<BR>存在しない場合はfalseが設定されます。|\n",
    "|ドキュメントの内容|\\_source|ドキュメントの内容。<BR>JSON形式で設定されます。|\n",
    "\n",
    "詳細は、Elasticsearch Referenceの[Get API](https://www.elastic.co/guide/en/elasticsearch/reference/current/docs-get.html)を参照してください。"
   ]
  },
  {
   "cell_type": "markdown",
   "metadata": {
    "lc_cell_meme": {
     "current": "457c45d0-152a-11e7-b31a-0242ac12000d",
     "next": "457c47b0-152a-11e7-b31a-0242ac12000d",
     "previous": "457c4404-152a-11e7-b31a-0242ac12000d"
    }
   },
   "source": [
    "### レスポンスの基本構文（ドキュメントID以外で検索した場合）"
   ]
  },
  {
   "cell_type": "markdown",
   "metadata": {
    "lc_cell_meme": {
     "current": "457c47b0-152a-11e7-b31a-0242ac12000d",
     "next": "457c497c-152a-11e7-b31a-0242ac12000d",
     "previous": "457c45d0-152a-11e7-b31a-0242ac12000d"
    }
   },
   "source": [
    "ドキュメントID以外の方法(条件指定等)で検索した場合のレスポンスは次のようになります。"
   ]
  },
  {
   "cell_type": "raw",
   "metadata": {
    "lc_cell_meme": {
     "current": "457c497c-152a-11e7-b31a-0242ac12000d",
     "next": "457c4b3e-152a-11e7-b31a-0242ac12000d",
     "previous": "457c47b0-152a-11e7-b31a-0242ac12000d"
    }
   },
   "source": [
    "{\n",
    "  \"took\" : 12,\n",
    "  \"timed_out\" : false,\n",
    "  \"_shards\" : {\n",
    "    \"total\" : 70,\n",
    "    \"successful\" : 70,\n",
    "    \"failed\" : 0\n",
    "  },\n",
    "  \"hits\" : {\n",
    "    \"total\" : 358,\n",
    "    \"max_score\" : 0.2876821,\n",
    "    \"hits\" : [\n",
    "      {\n",
    "        \"_index\" : \"meteorological-data-2015.01\",\n",
    "        \"_type\" : \"logs\",\n",
    "        \"_id\" : \"AViZonrEvk0XGz-AMH4I\",\n",
    "        \"_score\" : 0.2876821,\n",
    "        \"_source\" : {\n",
    "          \"@timestamp\" : \"2015-01-01T00:00:00.000Z\",\n",
    "          \"location\" : \"tokyo\",\n",
    "          (略)\n",
    "          \"wind_speed_avg\" : \"4.4\"\n",
    "        }\n",
    "      },\n",
    "      (略)\n",
    "      {\n",
    "        \"_index\" : \"meteorological-data-2015.05\",\n",
    "        \"_type\" : \"logs\",\n",
    "        \"_id\" : \"AViZonrDvk0XGz-AMH3q\",\n",
    "        \"_score\" : 0.18232156,\n",
    "        \"_source\" : {\n",
    "          \"@timestamp\" : \"2015-05-05T00:00:00.000Z\",\n",
    "          \"location\" : \"tokyo\",\n",
    "          (略)\n",
    "          \"wind_speed_avg\" : \"3.2\"\n",
    "        }\n",
    "      }\n",
    "    ]\n",
    "  }\n",
    "}"
   ]
  },
  {
   "cell_type": "markdown",
   "metadata": {
    "lc_cell_meme": {
     "current": "457c4b3e-152a-11e7-b31a-0242ac12000d",
     "next": "457c4d0a-152a-11e7-b31a-0242ac12000d",
     "previous": "457c497c-152a-11e7-b31a-0242ac12000d"
    }
   },
   "source": [
    "レスポンスの例と対応させると次のような設定内容になっています。  \n",
    "\n",
    "| 構成要素 | 例での対応箇所 | 設定される内容 |\n",
    "|----|----|----|\n",
    "|検索時間|took|Elasticsearch内部で検索に要した時間をミリ秒単位で設定されます。|\n",
    "|タイムアウトの有無|timed_out|レスポンスがタイムアウトした場合はtrue、<BR>タイムアウトしなかった場合はfalseが設定されます。|\n",
    "|ヒットしたシャード数|\\_shards 配下の total|ドキュメントがヒットしたシャード数が設定されます。|\n",
    "|検索に成功したシャード数|\\_shards 配下の successful|検索に成功したシャード数が設定されます。|\n",
    "|検索に失敗したシャード数|\\_shards 配下の failed|検索に失敗したシャード数が設定されます。|\n",
    "|全ヒット件数|hits 配下の total|全ヒット件数が設定されます。|\n",
    "|最大スコア値|hits 配下の max_score|検索結果の最大スコア値が設定されます。|\n",
    "|ドキュメントの内容|hits 配下の hits|ドキュメントの内容がJSON形式の配列で指定されます。<BR>サイズパラメータで指定された件数まで設定されます。<BR>そのため、全ヒット件数より少ない場合があります。|\n",
    "\n",
    "詳細は、Elasticsearch Referenceの[The Search API](https://www.elastic.co/guide/en/elasticsearch/reference/current/_the_search_api.html)を参照してください。"
   ]
  },
  {
   "cell_type": "markdown",
   "metadata": {
    "lc_cell_meme": {
     "current": "457c4d0a-152a-11e7-b31a-0242ac12000d",
     "next": "457c4ee0-152a-11e7-b31a-0242ac12000d",
     "previous": "457c4b3e-152a-11e7-b31a-0242ac12000d"
    }
   },
   "source": [
    "### 対象指定:インデックス名で検索"
   ]
  },
  {
   "cell_type": "markdown",
   "metadata": {
    "lc_cell_meme": {
     "current": "457c4ee0-152a-11e7-b31a-0242ac12000d",
     "next": "457c50b6-152a-11e7-b31a-0242ac12000d",
     "previous": "457c4d0a-152a-11e7-b31a-0242ac12000d"
    }
   },
   "source": [
    "あるインデックス配下を検索する場合、次の形式で指定します。  "
   ]
  },
  {
   "cell_type": "raw",
   "metadata": {
    "lc_cell_meme": {
     "current": "457c50b6-152a-11e7-b31a-0242ac12000d",
     "next": "457c52b4-152a-11e7-b31a-0242ac12000d",
     "previous": "457c4ee0-152a-11e7-b31a-0242ac12000d"
    }
   },
   "source": [
    "curl -XGET \"http://<宛先ホスト>/<インデックス名>/_search?pretty\" -d '<条件>'"
   ]
  },
  {
   "cell_type": "markdown",
   "metadata": {
    "lc_cell_meme": {
     "current": "457c52b4-152a-11e7-b31a-0242ac12000d",
     "next": "457c5480-152a-11e7-b31a-0242ac12000d",
     "previous": "457c50b6-152a-11e7-b31a-0242ac12000d"
    }
   },
   "source": [
    "インデックス名が「meteorological-data-2015.01」でlocationが「tokyo」のドキュメントを検索するコマンドは次の通りです。"
   ]
  },
  {
   "cell_type": "code",
   "execution_count": 2,
   "metadata": {
    "lc_cell_meme": {
     "current": "457c5480-152a-11e7-b31a-0242ac12000d",
     "next": "457c5656-152a-11e7-b31a-0242ac12000d",
     "previous": "457c52b4-152a-11e7-b31a-0242ac12000d"
    },
    "scrolled": true
   },
   "outputs": [
    {
     "name": "stdout",
     "output_type": "stream",
     "text": [
      "{\n",
      "  \"took\" : 3,\n",
      "  \"timed_out\" : false,\n",
      "  \"_shards\" : {\n",
      "    \"total\" : 1,\n",
      "    \"successful\" : 1,\n",
      "    \"failed\" : 0\n",
      "  },\n",
      "  \"hits\" : {\n",
      "    \"total\" : 29,\n",
      "    \"max_score\" : 0.016807118,\n",
      "    \"hits\" : [\n",
      "      {\n",
      "        \"_index\" : \"meteorological-data-2015.01\",\n",
      "        \"_type\" : \"logs\",\n",
      "        \"_id\" : \"tokyo_15-01-01\",\n",
      "        \"_score\" : 0.016807118,\n",
      "        \"_source\" : {\n",
      "          \"date\" : \"15-01-01\",\n",
      "          \"wind_speed_avg\" : \"4.4\",\n",
      "          \"snowfall\" : null,\n",
      "          \"temperature_max\" : \"8.2\",\n",
      "          \"precipitation_day\" : \"0\",\n",
      "          \"wind_speed_max\" : \"9.4\",\n",
      "          \"sunshine_duration\" : \"1.3\",\n",
      "          \"temperature_avg\" : \"3.7\",\n",
      "          \"temperature_min\" : \"0.7\",\n",
      "          \"@version\" : \"1\",\n",
      "          \"wind_direction_max_moment\" : \"北西\",\n",
      "          \"information_night\" : \"晴\",\n",
      "          \"precipitation_max_10min\" : \"0\",\n",
      "          \"precipitation_max_hour\" : \"0\",\n",
      "          \"wind_direction\" : \"西\",\n",
      "          \"information_daytime\" : \"時々晴一時雪\",\n",
      "          \"@timestamp\" : \"2015-01-01T00:00:00.000Z\",\n",
      "          \"humidity_avg\" : \"41.0\",\n",
      "          \"humidity_min\" : \"30.0\",\n",
      "          \"atmospheric_pressure\" : \"1000.4\",\n",
      "          \"location\" : \"tokyo\",\n",
      "          \"wind_speed_max_moment\" : \"18.7\",\n",
      "          \"snowfall_max\" : null,\n",
      "          \"sea_level_pressure\" : \"1003.4\"\n",
      "        }\n",
      "      },\n",
      "      {\n",
      "        \"_index\" : \"meteorological-data-2015.01\",\n",
      "        \"_type\" : \"logs\",\n",
      "        \"_id\" : \"tokyo_15-01-02\",\n",
      "        \"_score\" : 0.016807118,\n",
      "        \"_source\" : {\n",
      "          \"date\" : \"15-01-02\",\n",
      "          \"wind_speed_avg\" : \"2.1\",\n",
      "          \"snowfall\" : null,\n",
      "          \"temperature_max\" : \"7.9\",\n",
      "          \"precipitation_day\" : null,\n",
      "          \"wind_speed_max\" : \"4.2\",\n",
      "          \"sunshine_duration\" : \"6.0\",\n",
      "          \"temperature_avg\" : \"2.7\",\n",
      "          \"temperature_min\" : \"-2.2\",\n",
      "          \"@version\" : \"1\",\n",
      "          \"wind_direction_max_moment\" : \"西\",\n",
      "          \"information_night\" : \"一時曇\",\n",
      "          \"precipitation_max_10min\" : null,\n",
      "          \"precipitation_max_hour\" : null,\n",
      "          \"wind_direction\" : \"西\",\n",
      "          \"information_daytime\" : \"時々曇\",\n",
      "          \"@timestamp\" : \"2015-01-02T00:00:00.000Z\",\n",
      "          \"humidity_avg\" : \"41.0\",\n",
      "          \"humidity_min\" : \"19.0\",\n",
      "          \"atmospheric_pressure\" : \"1007.4\",\n",
      "          \"location\" : \"tokyo\",\n",
      "          \"wind_speed_max_moment\" : \"7.8\",\n",
      "          \"snowfall_max\" : null,\n",
      "          \"sea_level_pressure\" : \"1010.4\"\n",
      "        }\n",
      "      },\n",
      "      {\n",
      "        \"_index\" : \"meteorological-data-2015.01\",\n",
      "        \"_type\" : \"logs\",\n",
      "        \"_id\" : \"tokyo_15-01-03\",\n",
      "        \"_score\" : 0.016807118,\n",
      "        \"_source\" : {\n",
      "          \"date\" : \"15-01-03\",\n",
      "          \"wind_speed_avg\" : \"3.0\",\n",
      "          \"snowfall\" : null,\n",
      "          \"temperature_max\" : \"8.9\",\n",
      "          \"precipitation_day\" : null,\n",
      "          \"wind_speed_max\" : \"7.4\",\n",
      "          \"sunshine_duration\" : \"8.9\",\n",
      "          \"temperature_avg\" : \"3.8\",\n",
      "          \"temperature_min\" : \"-1.1\",\n",
      "          \"@version\" : \"1\",\n",
      "          \"wind_direction_max_moment\" : \"北西\",\n",
      "          \"information_night\" : \"後薄曇\",\n",
      "          \"precipitation_max_10min\" : null,\n",
      "          \"precipitation_max_hour\" : null,\n",
      "          \"wind_direction\" : \"北西\",\n",
      "          \"information_daytime\" : \"晴\",\n",
      "          \"@timestamp\" : \"2015-01-03T00:00:00.000Z\",\n",
      "          \"humidity_avg\" : \"42.0\",\n",
      "          \"humidity_min\" : \"19.0\",\n",
      "          \"atmospheric_pressure\" : \"1012.0\",\n",
      "          \"location\" : \"tokyo\",\n",
      "          \"wind_speed_max_moment\" : \"10.9\",\n",
      "          \"snowfall_max\" : null,\n",
      "          \"sea_level_pressure\" : \"1015.1\"\n",
      "        }\n",
      "      },\n",
      "      {\n",
      "        \"_index\" : \"meteorological-data-2015.01\",\n",
      "        \"_type\" : \"logs\",\n",
      "        \"_id\" : \"tokyo_15-01-04\",\n",
      "        \"_score\" : 0.016807118,\n",
      "        \"_source\" : {\n",
      "          \"date\" : \"15-01-04\",\n",
      "          \"wind_speed_avg\" : \"1.3\",\n",
      "          \"snowfall\" : null,\n",
      "          \"temperature_max\" : \"9.3\",\n",
      "          \"precipitation_day\" : null,\n",
      "          \"wind_speed_max\" : \"2.8\",\n",
      "          \"sunshine_duration\" : \"6.0\",\n",
      "          \"temperature_avg\" : \"4.0\",\n",
      "          \"temperature_min\" : \"-0.4\",\n",
      "          \"@version\" : \"1\",\n",
      "          \"wind_direction_max_moment\" : \"北東\",\n",
      "          \"information_night\" : \"晴\",\n",
      "          \"precipitation_max_10min\" : null,\n",
      "          \"precipitation_max_hour\" : null,\n",
      "          \"wind_direction\" : \"北西\",\n",
      "          \"information_daytime\" : \"後晴\",\n",
      "          \"@timestamp\" : \"2015-01-04T00:00:00.000Z\",\n",
      "          \"humidity_avg\" : \"51.0\",\n",
      "          \"humidity_min\" : \"33.0\",\n",
      "          \"atmospheric_pressure\" : \"1010.4\",\n",
      "          \"location\" : \"tokyo\",\n",
      "          \"wind_speed_max_moment\" : \"3.8\",\n",
      "          \"snowfall_max\" : null,\n",
      "          \"sea_level_pressure\" : \"1013.4\"\n",
      "        }\n",
      "      },\n",
      "      {\n",
      "        \"_index\" : \"meteorological-data-2015.01\",\n",
      "        \"_type\" : \"logs\",\n",
      "        \"_id\" : \"tokyo_15-01-05\",\n",
      "        \"_score\" : 0.016807118,\n",
      "        \"_source\" : {\n",
      "          \"date\" : \"15-01-05\",\n",
      "          \"wind_speed_avg\" : \"2.4\",\n",
      "          \"snowfall\" : null,\n",
      "          \"temperature_max\" : \"12.9\",\n",
      "          \"precipitation_day\" : null,\n",
      "          \"wind_speed_max\" : \"5.0\",\n",
      "          \"sunshine_duration\" : \"8.9\",\n",
      "          \"temperature_avg\" : \"6.9\",\n",
      "          \"temperature_min\" : \"1.3\",\n",
      "          \"@version\" : \"1\",\n",
      "          \"wind_direction_max_moment\" : \"北西\",\n",
      "          \"information_night\" : \"一時晴\",\n",
      "          \"precipitation_max_10min\" : null,\n",
      "          \"precipitation_max_hour\" : null,\n",
      "          \"wind_direction\" : \"北西\",\n",
      "          \"information_daytime\" : \"晴\",\n",
      "          \"@timestamp\" : \"2015-01-05T00:00:00.000Z\",\n",
      "          \"humidity_avg\" : \"56.0\",\n",
      "          \"humidity_min\" : \"29.0\",\n",
      "          \"atmospheric_pressure\" : \"1014.6\",\n",
      "          \"location\" : \"tokyo\",\n",
      "          \"wind_speed_max_moment\" : \"9.1\",\n",
      "          \"snowfall_max\" : null,\n",
      "          \"sea_level_pressure\" : \"1017.5\"\n",
      "        }\n",
      "      },\n",
      "      {\n",
      "        \"_index\" : \"meteorological-data-2015.01\",\n",
      "        \"_type\" : \"logs\",\n",
      "        \"_id\" : \"tokyo_15-01-06\",\n",
      "        \"_score\" : 0.016807118,\n",
      "        \"_source\" : {\n",
      "          \"date\" : \"15-01-06\",\n",
      "          \"wind_speed_avg\" : \"5.2\",\n",
      "          \"snowfall\" : null,\n",
      "          \"temperature_max\" : \"16.0\",\n",
      "          \"precipitation_day\" : \"6.5\",\n",
      "          \"wind_speed_max\" : \"8.9\",\n",
      "          \"sunshine_duration\" : \"0.2\",\n",
      "          \"temperature_avg\" : \"10.8\",\n",
      "          \"temperature_min\" : \"5.8\",\n",
      "          \"@version\" : \"1\",\n",
      "          \"wind_direction_max_moment\" : null,\n",
      "          \"information_night\" : \"時々晴\",\n",
      "          \"precipitation_max_10min\" : \"1.5\",\n",
      "          \"precipitation_max_hour\" : \"5.0\",\n",
      "          \"wind_direction\" : \"南西\",\n",
      "          \"information_daytime\" : \"後時々雨\",\n",
      "          \"@timestamp\" : \"2015-01-06T00:00:00.000Z\",\n",
      "          \"humidity_avg\" : \"64.0\",\n",
      "          \"humidity_min\" : \"40.0\",\n",
      "          \"atmospheric_pressure\" : \"1000.6\",\n",
      "          \"location\" : \"tokyo\",\n",
      "          \"wind_speed_max_moment\" : \"19.3\",\n",
      "          \"snowfall_max\" : null,\n",
      "          \"sea_level_pressure\" : \"1003.5\"\n",
      "        }\n",
      "      },\n",
      "      {\n",
      "        \"_index\" : \"meteorological-data-2015.01\",\n",
      "        \"_type\" : \"logs\",\n",
      "        \"_id\" : \"tokyo_15-01-07\",\n",
      "        \"_score\" : 0.016807118,\n",
      "        \"_source\" : {\n",
      "          \"date\" : \"15-01-07\",\n",
      "          \"wind_speed_avg\" : \"4.2\",\n",
      "          \"snowfall\" : null,\n",
      "          \"temperature_max\" : \"10.2\",\n",
      "          \"precipitation_day\" : null,\n",
      "          \"wind_speed_max\" : \"7.0\",\n",
      "          \"sunshine_duration\" : \"3.3\",\n",
      "          \"temperature_avg\" : \"5.6\",\n",
      "          \"temperature_min\" : \"3.0\",\n",
      "          \"@version\" : \"1\",\n",
      "          \"wind_direction_max_moment\" : \"北西\",\n",
      "          \"information_night\" : \"晴\",\n",
      "          \"precipitation_max_10min\" : null,\n",
      "          \"precipitation_max_hour\" : null,\n",
      "          \"wind_direction\" : \"北西\",\n",
      "          \"information_daytime\" : \"時々曇\",\n",
      "          \"@timestamp\" : \"2015-01-07T00:00:00.000Z\",\n",
      "          \"humidity_avg\" : \"35.0\",\n",
      "          \"humidity_min\" : \"23.0\",\n",
      "          \"atmospheric_pressure\" : \"1000.5\",\n",
      "          \"location\" : \"tokyo\",\n",
      "          \"wind_speed_max_moment\" : \"16.1\",\n",
      "          \"snowfall_max\" : null,\n",
      "          \"sea_level_pressure\" : \"1003.4\"\n",
      "        }\n",
      "      },\n",
      "      {\n",
      "        \"_index\" : \"meteorological-data-2015.01\",\n",
      "        \"_type\" : \"logs\",\n",
      "        \"_id\" : \"tokyo_15-01-08\",\n",
      "        \"_score\" : 0.016807118,\n",
      "        \"_source\" : {\n",
      "          \"date\" : \"15-01-08\",\n",
      "          \"wind_speed_avg\" : \"4.4\",\n",
      "          \"snowfall\" : null,\n",
      "          \"temperature_max\" : \"11.2\",\n",
      "          \"precipitation_day\" : null,\n",
      "          \"wind_speed_max\" : \"8.4\",\n",
      "          \"sunshine_duration\" : \"8.9\",\n",
      "          \"temperature_avg\" : \"6.2\",\n",
      "          \"temperature_min\" : \"2.0\",\n",
      "          \"@version\" : \"1\",\n",
      "          \"wind_direction_max_moment\" : \"北西\",\n",
      "          \"information_night\" : \"晴\",\n",
      "          \"precipitation_max_10min\" : null,\n",
      "          \"precipitation_max_hour\" : null,\n",
      "          \"wind_direction\" : \"西\",\n",
      "          \"information_daytime\" : \"晴\",\n",
      "          \"@timestamp\" : \"2015-01-08T00:00:00.000Z\",\n",
      "          \"humidity_avg\" : \"33.0\",\n",
      "          \"humidity_min\" : \"20.0\",\n",
      "          \"atmospheric_pressure\" : \"1006.2\",\n",
      "          \"location\" : \"tokyo\",\n",
      "          \"wind_speed_max_moment\" : \"13.6\",\n",
      "          \"snowfall_max\" : null,\n",
      "          \"sea_level_pressure\" : \"1009.2\"\n",
      "        }\n",
      "      },\n",
      "      {\n",
      "        \"_index\" : \"meteorological-data-2015.01\",\n",
      "        \"_type\" : \"logs\",\n",
      "        \"_id\" : \"tokyo_15-01-09\",\n",
      "        \"_score\" : 0.016807118,\n",
      "        \"_source\" : {\n",
      "          \"date\" : \"15-01-09\",\n",
      "          \"wind_speed_avg\" : \"4.1\",\n",
      "          \"snowfall\" : null,\n",
      "          \"temperature_max\" : \"11.0\",\n",
      "          \"precipitation_day\" : null,\n",
      "          \"wind_speed_max\" : \"8.1\",\n",
      "          \"sunshine_duration\" : \"8.9\",\n",
      "          \"temperature_avg\" : \"6.7\",\n",
      "          \"temperature_min\" : \"3.5\",\n",
      "          \"@version\" : \"1\",\n",
      "          \"wind_direction_max_moment\" : \"西\",\n",
      "          \"information_night\" : \"晴\",\n",
      "          \"precipitation_max_10min\" : null,\n",
      "          \"precipitation_max_hour\" : null,\n",
      "          \"wind_direction\" : \"西\",\n",
      "          \"information_daytime\" : \"晴\",\n",
      "          \"@timestamp\" : \"2015-01-09T00:00:00.000Z\",\n",
      "          \"humidity_avg\" : \"31.0\",\n",
      "          \"humidity_min\" : \"21.0\",\n",
      "          \"atmospheric_pressure\" : \"1008.2\",\n",
      "          \"location\" : \"tokyo\",\n",
      "          \"wind_speed_max_moment\" : \"14.4\",\n",
      "          \"snowfall_max\" : null,\n",
      "          \"sea_level_pressure\" : \"1011.2\"\n",
      "        }\n",
      "      },\n",
      "      {\n",
      "        \"_index\" : \"meteorological-data-2015.01\",\n",
      "        \"_type\" : \"logs\",\n",
      "        \"_id\" : \"tokyo_15-01-10\",\n",
      "        \"_score\" : 0.016807118,\n",
      "        \"_source\" : {\n",
      "          \"date\" : \"15-01-10\",\n",
      "          \"wind_speed_avg\" : \"3.5\",\n",
      "          \"snowfall\" : null,\n",
      "          \"temperature_max\" : \"11.2\",\n",
      "          \"precipitation_day\" : null,\n",
      "          \"wind_speed_max\" : \"8.8\",\n",
      "          \"sunshine_duration\" : \"9.1\",\n",
      "          \"temperature_avg\" : \"6.3\",\n",
      "          \"temperature_min\" : \"1.9\",\n",
      "          \"@version\" : \"1\",\n",
      "          \"wind_direction_max_moment\" : \"西\",\n",
      "          \"information_night\" : \"晴\",\n",
      "          \"precipitation_max_10min\" : null,\n",
      "          \"precipitation_max_hour\" : null,\n",
      "          \"wind_direction\" : \"西\",\n",
      "          \"information_daytime\" : \"晴\",\n",
      "          \"@timestamp\" : \"2015-01-10T00:00:00.000Z\",\n",
      "          \"humidity_avg\" : \"31.0\",\n",
      "          \"humidity_min\" : \"16.0\",\n",
      "          \"atmospheric_pressure\" : \"1008.8\",\n",
      "          \"location\" : \"tokyo\",\n",
      "          \"wind_speed_max_moment\" : \"17.7\",\n",
      "          \"snowfall_max\" : null,\n",
      "          \"sea_level_pressure\" : \"1011.8\"\n",
      "        }\n",
      "      }\n",
      "    ]\n",
      "  }\n",
      "}\n"
     ]
    },
    {
     "name": "stderr",
     "output_type": "stream",
     "text": [
      "  % Total    % Received % Xferd  Average Speed   Time    Time     Time  Current\n",
      "                                 Dload  Upload   Total   Spent    Left  Speed\n",
      "\r",
      "  0     0    0     0    0     0      0      0 --:--:-- --:--:-- --:--:--     0\r",
      "100 11441  100 11386  100    55   675k   3340 --:--:-- --:--:-- --:--:--  694k\n"
     ]
    }
   ],
   "source": [
    "%%bash\n",
    "curl -XGET \"http://$ES_HOST/meteorological-data-2015.01/_search?pretty\" -d @- << EOF\n",
    "{\n",
    "  \"query\": {\n",
    "    \"term\" : { \"location\" : \"tokyo\" } \n",
    "  }\n",
    "}\n",
    "EOF"
   ]
  },
  {
   "cell_type": "markdown",
   "metadata": {
    "lc_cell_meme": {
     "current": "457c5656-152a-11e7-b31a-0242ac12000d",
     "next": "457c5822-152a-11e7-b31a-0242ac12000d",
     "previous": "457c5480-152a-11e7-b31a-0242ac12000d"
    }
   },
   "source": [
    "### 対象指定:複数のインデックス名で検索"
   ]
  },
  {
   "cell_type": "markdown",
   "metadata": {
    "lc_cell_meme": {
     "current": "457c5822-152a-11e7-b31a-0242ac12000d",
     "next": "457c59ee-152a-11e7-b31a-0242ac12000d",
     "previous": "457c5656-152a-11e7-b31a-0242ac12000d"
    }
   },
   "source": [
    "複数のインデックス名を指定したい場合、インデックス名をカンマ(,)で区切って列記します。"
   ]
  },
  {
   "cell_type": "raw",
   "metadata": {
    "lc_cell_meme": {
     "current": "457c59ee-152a-11e7-b31a-0242ac12000d",
     "next": "457c5bc4-152a-11e7-b31a-0242ac12000d",
     "previous": "457c5822-152a-11e7-b31a-0242ac12000d"
    }
   },
   "source": [
    "curl -XGET \"http://<ホスト名>:<ポート番号>/<インデックス名1>,<インデックス名2>/_search?pretty\" -d '<条件>'"
   ]
  },
  {
   "cell_type": "markdown",
   "metadata": {
    "lc_cell_meme": {
     "current": "457c5bc4-152a-11e7-b31a-0242ac12000d",
     "next": "457c5e58-152a-11e7-b31a-0242ac12000d",
     "previous": "457c59ee-152a-11e7-b31a-0242ac12000d"
    }
   },
   "source": [
    "インデックス名が「meteorological-data-2015.01」「meteorological-data-2015.02」のどちらからにあるドキュメントを検索するコマンドは次の通りです。"
   ]
  },
  {
   "cell_type": "code",
   "execution_count": 3,
   "metadata": {
    "lc_cell_meme": {
     "current": "457c5e58-152a-11e7-b31a-0242ac12000d",
     "next": "457c6056-152a-11e7-b31a-0242ac12000d",
     "previous": "457c5bc4-152a-11e7-b31a-0242ac12000d"
    }
   },
   "outputs": [
    {
     "name": "stdout",
     "output_type": "stream",
     "text": [
      "{\n",
      "  \"took\" : 3,\n",
      "  \"timed_out\" : false,\n",
      "  \"_shards\" : {\n",
      "    \"total\" : 2,\n",
      "    \"successful\" : 2,\n",
      "    \"failed\" : 0\n",
      "  },\n",
      "  \"hits\" : {\n",
      "    \"total\" : 57,\n",
      "    \"max_score\" : 0.017391743,\n",
      "    \"hits\" : [\n",
      "      {\n",
      "        \"_index\" : \"meteorological-data-2015.02\",\n",
      "        \"_type\" : \"logs\",\n",
      "        \"_id\" : \"tokyo_15-02-01\",\n",
      "        \"_score\" : 0.017391743,\n",
      "        \"_source\" : {\n",
      "          \"date\" : \"15-02-01\",\n",
      "          \"wind_speed_avg\" : \"5.5\",\n",
      "          \"snowfall\" : null,\n",
      "          \"temperature_max\" : \"8.6\",\n",
      "          \"precipitation_day\" : null,\n",
      "          \"wind_speed_max\" : \"10.4\",\n",
      "          \"sunshine_duration\" : \"9.6\",\n",
      "          \"temperature_avg\" : \"4.0\",\n",
      "          \"temperature_min\" : \"0.7\",\n",
      "          \"@version\" : \"1\",\n",
      "          \"wind_direction_max_moment\" : \"北西\",\n",
      "          \"information_night\" : \"晴\",\n",
      "          \"precipitation_max_10min\" : null,\n",
      "          \"precipitation_max_hour\" : null,\n",
      "          \"wind_direction\" : \"北西\",\n",
      "          \"information_daytime\" : \"晴\",\n",
      "          \"@timestamp\" : \"2015-02-01T00:00:00.000Z\",\n",
      "          \"humidity_avg\" : \"32.0\",\n",
      "          \"humidity_min\" : \"22.0\",\n",
      "          \"atmospheric_pressure\" : \"1016.5\",\n",
      "          \"location\" : \"tokyo\",\n",
      "          \"wind_speed_max_moment\" : \"17.3\",\n",
      "          \"snowfall_max\" : null,\n",
      "          \"sea_level_pressure\" : \"1019.5\"\n",
      "        }\n",
      "      },\n",
      "      {\n",
      "        \"_index\" : \"meteorological-data-2015.02\",\n",
      "        \"_type\" : \"logs\",\n",
      "        \"_id\" : \"tokyo_15-02-02\",\n",
      "        \"_score\" : 0.017391743,\n",
      "        \"_source\" : {\n",
      "          \"date\" : \"15-02-02\",\n",
      "          \"wind_speed_avg\" : \"4.7\",\n",
      "          \"snowfall\" : null,\n",
      "          \"temperature_max\" : \"9.6\",\n",
      "          \"precipitation_day\" : null,\n",
      "          \"wind_speed_max\" : \"9.1\",\n",
      "          \"sunshine_duration\" : \"9.6\",\n",
      "          \"temperature_avg\" : \"4.7\",\n",
      "          \"temperature_min\" : \"1.0\",\n",
      "          \"@version\" : \"1\",\n",
      "          \"wind_direction_max_moment\" : \"西\",\n",
      "          \"information_night\" : null,\n",
      "          \"precipitation_max_10min\" : null,\n",
      "          \"precipitation_max_hour\" : null,\n",
      "          \"wind_direction\" : \"西\",\n",
      "          \"information_daytime\" : \"晴\",\n",
      "          \"@timestamp\" : \"2015-02-02T00:00:00.000Z\",\n",
      "          \"humidity_avg\" : \"34.0\",\n",
      "          \"humidity_min\" : \"22.0\",\n",
      "          \"atmospheric_pressure\" : \"1018.8\",\n",
      "          \"location\" : \"tokyo\",\n",
      "          \"wind_speed_max_moment\" : \"15.4\",\n",
      "          \"snowfall_max\" : null,\n",
      "          \"sea_level_pressure\" : \"1021.8\"\n",
      "        }\n",
      "      },\n",
      "      {\n",
      "        \"_index\" : \"meteorological-data-2015.02\",\n",
      "        \"_type\" : \"logs\",\n",
      "        \"_id\" : \"tokyo_15-02-03\",\n",
      "        \"_score\" : 0.017391743,\n",
      "        \"_source\" : {\n",
      "          \"date\" : \"15-02-03\",\n",
      "          \"wind_speed_avg\" : \"2.5\",\n",
      "          \"snowfall\" : null,\n",
      "          \"temperature_max\" : \"10.3\",\n",
      "          \"precipitation_day\" : null,\n",
      "          \"wind_speed_max\" : \"4.8\",\n",
      "          \"sunshine_duration\" : \"9.4\",\n",
      "          \"temperature_avg\" : \"4.7\",\n",
      "          \"temperature_min\" : \"0.4\",\n",
      "          \"@version\" : \"1\",\n",
      "          \"wind_direction_max_moment\" : \"北西\",\n",
      "          \"information_night\" : \"時々曇\",\n",
      "          \"precipitation_max_10min\" : null,\n",
      "          \"precipitation_max_hour\" : null,\n",
      "          \"wind_direction\" : \"北西\",\n",
      "          \"information_daytime\" : null,\n",
      "          \"@timestamp\" : \"2015-02-03T00:00:00.000Z\",\n",
      "          \"humidity_avg\" : \"42.0\",\n",
      "          \"humidity_min\" : \"29.0\",\n",
      "          \"atmospheric_pressure\" : \"1019.2\",\n",
      "          \"location\" : \"tokyo\",\n",
      "          \"wind_speed_max_moment\" : \"9.2\",\n",
      "          \"snowfall_max\" : null,\n",
      "          \"sea_level_pressure\" : \"1022.2\"\n",
      "        }\n",
      "      },\n",
      "      {\n",
      "        \"_index\" : \"meteorological-data-2015.02\",\n",
      "        \"_type\" : \"logs\",\n",
      "        \"_id\" : \"tokyo_15-02-04\",\n",
      "        \"_score\" : 0.017391743,\n",
      "        \"_source\" : {\n",
      "          \"date\" : \"15-02-04\",\n",
      "          \"wind_speed_avg\" : \"2.3\",\n",
      "          \"snowfall\" : null,\n",
      "          \"temperature_max\" : \"9.6\",\n",
      "          \"precipitation_day\" : null,\n",
      "          \"wind_speed_max\" : \"4.4\",\n",
      "          \"sunshine_duration\" : \"7.6\",\n",
      "          \"temperature_avg\" : \"5.2\",\n",
      "          \"temperature_min\" : \"1.1\",\n",
      "          \"@version\" : \"1\",\n",
      "          \"wind_direction_max_moment\" : null,\n",
      "          \"information_night\" : null,\n",
      "          \"precipitation_max_10min\" : null,\n",
      "          \"precipitation_max_hour\" : null,\n",
      "          \"wind_direction\" : null,\n",
      "          \"information_daytime\" : \"後時々薄曇\",\n",
      "          \"@timestamp\" : \"2015-02-04T00:00:00.000Z\",\n",
      "          \"humidity_avg\" : \"49.0\",\n",
      "          \"humidity_min\" : \"28.0\",\n",
      "          \"atmospheric_pressure\" : \"1017.2\",\n",
      "          \"location\" : \"tokyo\",\n",
      "          \"wind_speed_max_moment\" : \"7.6\",\n",
      "          \"snowfall_max\" : null,\n",
      "          \"sea_level_pressure\" : \"1020.2\"\n",
      "        }\n",
      "      },\n",
      "      {\n",
      "        \"_index\" : \"meteorological-data-2015.02\",\n",
      "        \"_type\" : \"logs\",\n",
      "        \"_id\" : \"tokyo_15-02-05\",\n",
      "        \"_score\" : 0.017391743,\n",
      "        \"_source\" : {\n",
      "          \"date\" : \"15-02-05\",\n",
      "          \"wind_speed_avg\" : \"2.5\",\n",
      "          \"snowfall\" : null,\n",
      "          \"temperature_max\" : \"5.1\",\n",
      "          \"precipitation_day\" : \"9.0\",\n",
      "          \"wind_speed_max\" : \"4.8\",\n",
      "          \"sunshine_duration\" : \"0\",\n",
      "          \"temperature_avg\" : \"2.6\",\n",
      "          \"temperature_min\" : \"1.1\",\n",
      "          \"@version\" : \"1\",\n",
      "          \"wind_direction_max_moment\" : null,\n",
      "          \"information_night\" : \"後晴\",\n",
      "          \"precipitation_max_10min\" : \"0.5\",\n",
      "          \"precipitation_max_hour\" : \"2.0\",\n",
      "          \"wind_direction\" : \"北西\",\n",
      "          \"information_daytime\" : \"時々みぞれ\",\n",
      "          \"@timestamp\" : \"2015-02-05T00:00:00.000Z\",\n",
      "          \"humidity_avg\" : \"87.0\",\n",
      "          \"humidity_min\" : \"58.0\",\n",
      "          \"atmospheric_pressure\" : \"1011.0\",\n",
      "          \"location\" : \"tokyo\",\n",
      "          \"wind_speed_max_moment\" : \"7.3\",\n",
      "          \"snowfall_max\" : null,\n",
      "          \"sea_level_pressure\" : \"1014.0\"\n",
      "        }\n",
      "      },\n",
      "      {\n",
      "        \"_index\" : \"meteorological-data-2015.02\",\n",
      "        \"_type\" : \"logs\",\n",
      "        \"_id\" : \"tokyo_15-02-06\",\n",
      "        \"_score\" : 0.017391743,\n",
      "        \"_source\" : {\n",
      "          \"date\" : \"15-02-06\",\n",
      "          \"wind_speed_avg\" : \"2.8\",\n",
      "          \"snowfall\" : null,\n",
      "          \"temperature_max\" : \"12.0\",\n",
      "          \"precipitation_day\" : \"0\",\n",
      "          \"wind_speed_max\" : \"5.9\",\n",
      "          \"sunshine_duration\" : \"8.9\",\n",
      "          \"temperature_avg\" : \"5.4\",\n",
      "          \"temperature_min\" : \"-0.3\",\n",
      "          \"@version\" : \"1\",\n",
      "          \"wind_direction_max_moment\" : \"北西\",\n",
      "          \"information_night\" : \"晴\",\n",
      "          \"precipitation_max_10min\" : \"0\",\n",
      "          \"precipitation_max_hour\" : \"0\",\n",
      "          \"wind_direction\" : \"北西\",\n",
      "          \"information_daytime\" : \"晴\",\n",
      "          \"@timestamp\" : \"2015-02-06T00:00:00.000Z\",\n",
      "          \"humidity_avg\" : \"60.0\",\n",
      "          \"humidity_min\" : \"23.0\",\n",
      "          \"atmospheric_pressure\" : \"1013.4\",\n",
      "          \"location\" : \"tokyo\",\n",
      "          \"wind_speed_max_moment\" : \"10.5\",\n",
      "          \"snowfall_max\" : null,\n",
      "          \"sea_level_pressure\" : \"1016.4\"\n",
      "        }\n",
      "      },\n",
      "      {\n",
      "        \"_index\" : \"meteorological-data-2015.02\",\n",
      "        \"_type\" : \"logs\",\n",
      "        \"_id\" : \"tokyo_15-02-07\",\n",
      "        \"_score\" : 0.017391743,\n",
      "        \"_source\" : {\n",
      "          \"date\" : \"15-02-07\",\n",
      "          \"wind_speed_avg\" : \"2.4\",\n",
      "          \"snowfall\" : null,\n",
      "          \"temperature_max\" : \"9.6\",\n",
      "          \"precipitation_day\" : \"1.5\",\n",
      "          \"wind_speed_max\" : \"5.9\",\n",
      "          \"sunshine_duration\" : \"3.6\",\n",
      "          \"temperature_avg\" : \"5.3\",\n",
      "          \"temperature_min\" : \"1.2\",\n",
      "          \"@version\" : \"1\",\n",
      "          \"wind_direction_max_moment\" : \"東\",\n",
      "          \"information_night\" : \"後曇一時晴\",\n",
      "          \"precipitation_max_10min\" : \"0.5\",\n",
      "          \"precipitation_max_hour\" : \"1.0\",\n",
      "          \"wind_direction\" : \"東\",\n",
      "          \"information_daytime\" : null,\n",
      "          \"@timestamp\" : \"2015-02-07T00:00:00.000Z\",\n",
      "          \"humidity_avg\" : \"60.0\",\n",
      "          \"humidity_min\" : \"32.0\",\n",
      "          \"atmospheric_pressure\" : \"1019.2\",\n",
      "          \"location\" : \"tokyo\",\n",
      "          \"wind_speed_max_moment\" : \"9.7\",\n",
      "          \"snowfall_max\" : null,\n",
      "          \"sea_level_pressure\" : \"1022.3\"\n",
      "        }\n",
      "      },\n",
      "      {\n",
      "        \"_index\" : \"meteorological-data-2015.02\",\n",
      "        \"_type\" : \"logs\",\n",
      "        \"_id\" : \"tokyo_15-02-08\",\n",
      "        \"_score\" : 0.017391743,\n",
      "        \"_source\" : {\n",
      "          \"date\" : \"15-02-08\",\n",
      "          \"wind_speed_avg\" : \"1.9\",\n",
      "          \"snowfall\" : null,\n",
      "          \"temperature_max\" : \"6.8\",\n",
      "          \"precipitation_day\" : \"6.0\",\n",
      "          \"wind_speed_max\" : \"4.6\",\n",
      "          \"sunshine_duration\" : \"0.3\",\n",
      "          \"temperature_avg\" : \"4.0\",\n",
      "          \"temperature_min\" : \"2.0\",\n",
      "          \"@version\" : \"1\",\n",
      "          \"wind_direction_max_moment\" : \"西\",\n",
      "          \"information_night\" : \"時々曇\",\n",
      "          \"precipitation_max_10min\" : \"1.0\",\n",
      "          \"precipitation_max_hour\" : \"3.0\",\n",
      "          \"wind_direction\" : \"西\",\n",
      "          \"information_daytime\" : \"一時雨\",\n",
      "          \"@timestamp\" : \"2015-02-08T00:00:00.000Z\",\n",
      "          \"humidity_avg\" : \"87.0\",\n",
      "          \"humidity_min\" : \"66.0\",\n",
      "          \"atmospheric_pressure\" : \"1007.4\",\n",
      "          \"location\" : \"tokyo\",\n",
      "          \"wind_speed_max_moment\" : \"8.5\",\n",
      "          \"snowfall_max\" : null,\n",
      "          \"sea_level_pressure\" : \"1010.4\"\n",
      "        }\n",
      "      },\n",
      "      {\n",
      "        \"_index\" : \"meteorological-data-2015.02\",\n",
      "        \"_type\" : \"logs\",\n",
      "        \"_id\" : \"tokyo_15-02-09\",\n",
      "        \"_score\" : 0.017391743,\n",
      "        \"_source\" : {\n",
      "          \"date\" : \"15-02-09\",\n",
      "          \"wind_speed_avg\" : \"3.2\",\n",
      "          \"snowfall\" : null,\n",
      "          \"temperature_max\" : \"4.9\",\n",
      "          \"precipitation_day\" : null,\n",
      "          \"wind_speed_max\" : \"7.0\",\n",
      "          \"sunshine_duration\" : \"1.7\",\n",
      "          \"temperature_avg\" : \"2.0\",\n",
      "          \"temperature_min\" : \"-0.6\",\n",
      "          \"@version\" : \"1\",\n",
      "          \"wind_direction_max_moment\" : \"北西\",\n",
      "          \"information_night\" : null,\n",
      "          \"precipitation_max_10min\" : null,\n",
      "          \"precipitation_max_hour\" : null,\n",
      "          \"wind_direction\" : \"北西\",\n",
      "          \"information_daytime\" : \"後時々晴\",\n",
      "          \"@timestamp\" : \"2015-02-09T00:00:00.000Z\",\n",
      "          \"humidity_avg\" : \"49.0\",\n",
      "          \"humidity_min\" : \"26.0\",\n",
      "          \"atmospheric_pressure\" : \"1007.3\",\n",
      "          \"location\" : \"tokyo\",\n",
      "          \"wind_speed_max_moment\" : \"15.1\",\n",
      "          \"snowfall_max\" : null,\n",
      "          \"sea_level_pressure\" : \"1010.3\"\n",
      "        }\n",
      "      },\n",
      "      {\n",
      "        \"_index\" : \"meteorological-data-2015.02\",\n",
      "        \"_type\" : \"logs\",\n",
      "        \"_id\" : \"tokyo_15-02-10\",\n",
      "        \"_score\" : 0.017391743,\n",
      "        \"_source\" : {\n",
      "          \"date\" : \"15-02-10\",\n",
      "          \"wind_speed_avg\" : \"2.2\",\n",
      "          \"snowfall\" : null,\n",
      "          \"temperature_max\" : \"8.1\",\n",
      "          \"precipitation_day\" : null,\n",
      "          \"wind_speed_max\" : \"5.0\",\n",
      "          \"sunshine_duration\" : \"9.6\",\n",
      "          \"temperature_avg\" : \"3.2\",\n",
      "          \"temperature_min\" : \"-2.4\",\n",
      "          \"@version\" : \"1\",\n",
      "          \"wind_direction_max_moment\" : \"南東\",\n",
      "          \"information_night\" : \"晴\",\n",
      "          \"precipitation_max_10min\" : null,\n",
      "          \"precipitation_max_hour\" : null,\n",
      "          \"wind_direction\" : \"南東\",\n",
      "          \"information_daytime\" : \"晴\",\n",
      "          \"@timestamp\" : \"2015-02-10T00:00:00.000Z\",\n",
      "          \"humidity_avg\" : \"49.0\",\n",
      "          \"humidity_min\" : \"25.0\",\n",
      "          \"atmospheric_pressure\" : \"1008.3\",\n",
      "          \"location\" : \"tokyo\",\n",
      "          \"wind_speed_max_moment\" : \"8.0\",\n",
      "          \"snowfall_max\" : null,\n",
      "          \"sea_level_pressure\" : \"1011.3\"\n",
      "        }\n",
      "      }\n",
      "    ]\n",
      "  }\n",
      "}\n"
     ]
    },
    {
     "name": "stderr",
     "output_type": "stream",
     "text": [
      "  % Total    % Received % Xferd  Average Speed   Time    Time     Time  Current\n",
      "                                 Dload  Upload   Total   Spent    Left  Speed\n",
      "\r",
      "  0     0    0     0    0     0      0      0 --:--:-- --:--:-- --:--:--     0\r",
      "100 11434  100 11379  100    55   678k   3357 --:--:-- --:--:-- --:--:--  694k\n"
     ]
    }
   ],
   "source": [
    "%%bash\n",
    "curl -XGET \"http://$ES_HOST/meteorological-data-2015.01,meteorological-data-2015.02/_search?pretty\" -d @- << EOF\n",
    "{\n",
    "  \"query\": {\n",
    "    \"term\" : { \"location\" : \"tokyo\" } \n",
    "  }\n",
    "}\n",
    "EOF"
   ]
  },
  {
   "cell_type": "markdown",
   "metadata": {
    "lc_cell_meme": {
     "current": "457c6056-152a-11e7-b31a-0242ac12000d",
     "next": "457c622c-152a-11e7-b31a-0242ac12000d",
     "previous": "457c5e58-152a-11e7-b31a-0242ac12000d"
    }
   },
   "source": [
    "### 対象指定:インデックス名の部分一致検索"
   ]
  },
  {
   "cell_type": "markdown",
   "metadata": {
    "lc_cell_meme": {
     "current": "457c622c-152a-11e7-b31a-0242ac12000d",
     "next": "457c6402-152a-11e7-b31a-0242ac12000d",
     "previous": "457c6056-152a-11e7-b31a-0242ac12000d"
    }
   },
   "source": [
    "インデックス名は部分一致で指定することもできます。"
   ]
  },
  {
   "cell_type": "raw",
   "metadata": {
    "lc_cell_meme": {
     "current": "457c6402-152a-11e7-b31a-0242ac12000d",
     "next": "457c65ec-152a-11e7-b31a-0242ac12000d",
     "previous": "457c622c-152a-11e7-b31a-0242ac12000d"
    }
   },
   "source": [
    "curl -XGET \"http://<ホスト名>:<ポート番号>/<インデックス名の部分一致指定>/_search?pretty\" -d '<条件>'"
   ]
  },
  {
   "cell_type": "markdown",
   "metadata": {
    "lc_cell_meme": {
     "current": "457c65ec-152a-11e7-b31a-0242ac12000d",
     "next": "457c67fe-152a-11e7-b31a-0242ac12000d",
     "previous": "457c6402-152a-11e7-b31a-0242ac12000d"
    }
   },
   "source": [
    "インデックス名が「meteorological-data-\\*」に一致するものからドキュメントを検索するコマンドは次の通りです。"
   ]
  },
  {
   "cell_type": "code",
   "execution_count": 4,
   "metadata": {
    "lc_cell_meme": {
     "current": "457c67fe-152a-11e7-b31a-0242ac12000d",
     "next": "457c69d4-152a-11e7-b31a-0242ac12000d",
     "previous": "457c65ec-152a-11e7-b31a-0242ac12000d"
    }
   },
   "outputs": [
    {
     "name": "stdout",
     "output_type": "stream",
     "text": [
      "{\n",
      "  \"took\" : 5,\n",
      "  \"timed_out\" : false,\n",
      "  \"_shards\" : {\n",
      "    \"total\" : 13,\n",
      "    \"successful\" : 13,\n",
      "    \"failed\" : 0\n",
      "  },\n",
      "  \"hits\" : {\n",
      "    \"total\" : 358,\n",
      "    \"max_score\" : 0.017391743,\n",
      "    \"hits\" : [\n",
      "      {\n",
      "        \"_index\" : \"meteorological-data-2015.02\",\n",
      "        \"_type\" : \"logs\",\n",
      "        \"_id\" : \"tokyo_15-02-01\",\n",
      "        \"_score\" : 0.017391743,\n",
      "        \"_source\" : {\n",
      "          \"date\" : \"15-02-01\",\n",
      "          \"wind_speed_avg\" : \"5.5\",\n",
      "          \"snowfall\" : null,\n",
      "          \"temperature_max\" : \"8.6\",\n",
      "          \"precipitation_day\" : null,\n",
      "          \"wind_speed_max\" : \"10.4\",\n",
      "          \"sunshine_duration\" : \"9.6\",\n",
      "          \"temperature_avg\" : \"4.0\",\n",
      "          \"temperature_min\" : \"0.7\",\n",
      "          \"@version\" : \"1\",\n",
      "          \"wind_direction_max_moment\" : \"北西\",\n",
      "          \"information_night\" : \"晴\",\n",
      "          \"precipitation_max_10min\" : null,\n",
      "          \"precipitation_max_hour\" : null,\n",
      "          \"wind_direction\" : \"北西\",\n",
      "          \"information_daytime\" : \"晴\",\n",
      "          \"@timestamp\" : \"2015-02-01T00:00:00.000Z\",\n",
      "          \"humidity_avg\" : \"32.0\",\n",
      "          \"humidity_min\" : \"22.0\",\n",
      "          \"atmospheric_pressure\" : \"1016.5\",\n",
      "          \"location\" : \"tokyo\",\n",
      "          \"wind_speed_max_moment\" : \"17.3\",\n",
      "          \"snowfall_max\" : null,\n",
      "          \"sea_level_pressure\" : \"1019.5\"\n",
      "        }\n",
      "      },\n",
      "      {\n",
      "        \"_index\" : \"meteorological-data-2015.02\",\n",
      "        \"_type\" : \"logs\",\n",
      "        \"_id\" : \"tokyo_15-02-02\",\n",
      "        \"_score\" : 0.017391743,\n",
      "        \"_source\" : {\n",
      "          \"date\" : \"15-02-02\",\n",
      "          \"wind_speed_avg\" : \"4.7\",\n",
      "          \"snowfall\" : null,\n",
      "          \"temperature_max\" : \"9.6\",\n",
      "          \"precipitation_day\" : null,\n",
      "          \"wind_speed_max\" : \"9.1\",\n",
      "          \"sunshine_duration\" : \"9.6\",\n",
      "          \"temperature_avg\" : \"4.7\",\n",
      "          \"temperature_min\" : \"1.0\",\n",
      "          \"@version\" : \"1\",\n",
      "          \"wind_direction_max_moment\" : \"西\",\n",
      "          \"information_night\" : null,\n",
      "          \"precipitation_max_10min\" : null,\n",
      "          \"precipitation_max_hour\" : null,\n",
      "          \"wind_direction\" : \"西\",\n",
      "          \"information_daytime\" : \"晴\",\n",
      "          \"@timestamp\" : \"2015-02-02T00:00:00.000Z\",\n",
      "          \"humidity_avg\" : \"34.0\",\n",
      "          \"humidity_min\" : \"22.0\",\n",
      "          \"atmospheric_pressure\" : \"1018.8\",\n",
      "          \"location\" : \"tokyo\",\n",
      "          \"wind_speed_max_moment\" : \"15.4\",\n",
      "          \"snowfall_max\" : null,\n",
      "          \"sea_level_pressure\" : \"1021.8\"\n",
      "        }\n",
      "      },\n",
      "      {\n",
      "        \"_index\" : \"meteorological-data-2015.02\",\n",
      "        \"_type\" : \"logs\",\n",
      "        \"_id\" : \"tokyo_15-02-03\",\n",
      "        \"_score\" : 0.017391743,\n",
      "        \"_source\" : {\n",
      "          \"date\" : \"15-02-03\",\n",
      "          \"wind_speed_avg\" : \"2.5\",\n",
      "          \"snowfall\" : null,\n",
      "          \"temperature_max\" : \"10.3\",\n",
      "          \"precipitation_day\" : null,\n",
      "          \"wind_speed_max\" : \"4.8\",\n",
      "          \"sunshine_duration\" : \"9.4\",\n",
      "          \"temperature_avg\" : \"4.7\",\n",
      "          \"temperature_min\" : \"0.4\",\n",
      "          \"@version\" : \"1\",\n",
      "          \"wind_direction_max_moment\" : \"北西\",\n",
      "          \"information_night\" : \"時々曇\",\n",
      "          \"precipitation_max_10min\" : null,\n",
      "          \"precipitation_max_hour\" : null,\n",
      "          \"wind_direction\" : \"北西\",\n",
      "          \"information_daytime\" : null,\n",
      "          \"@timestamp\" : \"2015-02-03T00:00:00.000Z\",\n",
      "          \"humidity_avg\" : \"42.0\",\n",
      "          \"humidity_min\" : \"29.0\",\n",
      "          \"atmospheric_pressure\" : \"1019.2\",\n",
      "          \"location\" : \"tokyo\",\n",
      "          \"wind_speed_max_moment\" : \"9.2\",\n",
      "          \"snowfall_max\" : null,\n",
      "          \"sea_level_pressure\" : \"1022.2\"\n",
      "        }\n",
      "      },\n",
      "      {\n",
      "        \"_index\" : \"meteorological-data-2015.02\",\n",
      "        \"_type\" : \"logs\",\n",
      "        \"_id\" : \"tokyo_15-02-04\",\n",
      "        \"_score\" : 0.017391743,\n",
      "        \"_source\" : {\n",
      "          \"date\" : \"15-02-04\",\n",
      "          \"wind_speed_avg\" : \"2.3\",\n",
      "          \"snowfall\" : null,\n",
      "          \"temperature_max\" : \"9.6\",\n",
      "          \"precipitation_day\" : null,\n",
      "          \"wind_speed_max\" : \"4.4\",\n",
      "          \"sunshine_duration\" : \"7.6\",\n",
      "          \"temperature_avg\" : \"5.2\",\n",
      "          \"temperature_min\" : \"1.1\",\n",
      "          \"@version\" : \"1\",\n",
      "          \"wind_direction_max_moment\" : null,\n",
      "          \"information_night\" : null,\n",
      "          \"precipitation_max_10min\" : null,\n",
      "          \"precipitation_max_hour\" : null,\n",
      "          \"wind_direction\" : null,\n",
      "          \"information_daytime\" : \"後時々薄曇\",\n",
      "          \"@timestamp\" : \"2015-02-04T00:00:00.000Z\",\n",
      "          \"humidity_avg\" : \"49.0\",\n",
      "          \"humidity_min\" : \"28.0\",\n",
      "          \"atmospheric_pressure\" : \"1017.2\",\n",
      "          \"location\" : \"tokyo\",\n",
      "          \"wind_speed_max_moment\" : \"7.6\",\n",
      "          \"snowfall_max\" : null,\n",
      "          \"sea_level_pressure\" : \"1020.2\"\n",
      "        }\n",
      "      },\n",
      "      {\n",
      "        \"_index\" : \"meteorological-data-2015.02\",\n",
      "        \"_type\" : \"logs\",\n",
      "        \"_id\" : \"tokyo_15-02-05\",\n",
      "        \"_score\" : 0.017391743,\n",
      "        \"_source\" : {\n",
      "          \"date\" : \"15-02-05\",\n",
      "          \"wind_speed_avg\" : \"2.5\",\n",
      "          \"snowfall\" : null,\n",
      "          \"temperature_max\" : \"5.1\",\n",
      "          \"precipitation_day\" : \"9.0\",\n",
      "          \"wind_speed_max\" : \"4.8\",\n",
      "          \"sunshine_duration\" : \"0\",\n",
      "          \"temperature_avg\" : \"2.6\",\n",
      "          \"temperature_min\" : \"1.1\",\n",
      "          \"@version\" : \"1\",\n",
      "          \"wind_direction_max_moment\" : null,\n",
      "          \"information_night\" : \"後晴\",\n",
      "          \"precipitation_max_10min\" : \"0.5\",\n",
      "          \"precipitation_max_hour\" : \"2.0\",\n",
      "          \"wind_direction\" : \"北西\",\n",
      "          \"information_daytime\" : \"時々みぞれ\",\n",
      "          \"@timestamp\" : \"2015-02-05T00:00:00.000Z\",\n",
      "          \"humidity_avg\" : \"87.0\",\n",
      "          \"humidity_min\" : \"58.0\",\n",
      "          \"atmospheric_pressure\" : \"1011.0\",\n",
      "          \"location\" : \"tokyo\",\n",
      "          \"wind_speed_max_moment\" : \"7.3\",\n",
      "          \"snowfall_max\" : null,\n",
      "          \"sea_level_pressure\" : \"1014.0\"\n",
      "        }\n",
      "      },\n",
      "      {\n",
      "        \"_index\" : \"meteorological-data-2015.02\",\n",
      "        \"_type\" : \"logs\",\n",
      "        \"_id\" : \"tokyo_15-02-06\",\n",
      "        \"_score\" : 0.017391743,\n",
      "        \"_source\" : {\n",
      "          \"date\" : \"15-02-06\",\n",
      "          \"wind_speed_avg\" : \"2.8\",\n",
      "          \"snowfall\" : null,\n",
      "          \"temperature_max\" : \"12.0\",\n",
      "          \"precipitation_day\" : \"0\",\n",
      "          \"wind_speed_max\" : \"5.9\",\n",
      "          \"sunshine_duration\" : \"8.9\",\n",
      "          \"temperature_avg\" : \"5.4\",\n",
      "          \"temperature_min\" : \"-0.3\",\n",
      "          \"@version\" : \"1\",\n",
      "          \"wind_direction_max_moment\" : \"北西\",\n",
      "          \"information_night\" : \"晴\",\n",
      "          \"precipitation_max_10min\" : \"0\",\n",
      "          \"precipitation_max_hour\" : \"0\",\n",
      "          \"wind_direction\" : \"北西\",\n",
      "          \"information_daytime\" : \"晴\",\n",
      "          \"@timestamp\" : \"2015-02-06T00:00:00.000Z\",\n",
      "          \"humidity_avg\" : \"60.0\",\n",
      "          \"humidity_min\" : \"23.0\",\n",
      "          \"atmospheric_pressure\" : \"1013.4\",\n",
      "          \"location\" : \"tokyo\",\n",
      "          \"wind_speed_max_moment\" : \"10.5\",\n",
      "          \"snowfall_max\" : null,\n",
      "          \"sea_level_pressure\" : \"1016.4\"\n",
      "        }\n",
      "      },\n",
      "      {\n",
      "        \"_index\" : \"meteorological-data-2015.02\",\n",
      "        \"_type\" : \"logs\",\n",
      "        \"_id\" : \"tokyo_15-02-07\",\n",
      "        \"_score\" : 0.017391743,\n",
      "        \"_source\" : {\n",
      "          \"date\" : \"15-02-07\",\n",
      "          \"wind_speed_avg\" : \"2.4\",\n",
      "          \"snowfall\" : null,\n",
      "          \"temperature_max\" : \"9.6\",\n",
      "          \"precipitation_day\" : \"1.5\",\n",
      "          \"wind_speed_max\" : \"5.9\",\n",
      "          \"sunshine_duration\" : \"3.6\",\n",
      "          \"temperature_avg\" : \"5.3\",\n",
      "          \"temperature_min\" : \"1.2\",\n",
      "          \"@version\" : \"1\",\n",
      "          \"wind_direction_max_moment\" : \"東\",\n",
      "          \"information_night\" : \"後曇一時晴\",\n",
      "          \"precipitation_max_10min\" : \"0.5\",\n",
      "          \"precipitation_max_hour\" : \"1.0\",\n",
      "          \"wind_direction\" : \"東\",\n",
      "          \"information_daytime\" : null,\n",
      "          \"@timestamp\" : \"2015-02-07T00:00:00.000Z\",\n",
      "          \"humidity_avg\" : \"60.0\",\n",
      "          \"humidity_min\" : \"32.0\",\n",
      "          \"atmospheric_pressure\" : \"1019.2\",\n",
      "          \"location\" : \"tokyo\",\n",
      "          \"wind_speed_max_moment\" : \"9.7\",\n",
      "          \"snowfall_max\" : null,\n",
      "          \"sea_level_pressure\" : \"1022.3\"\n",
      "        }\n",
      "      },\n",
      "      {\n",
      "        \"_index\" : \"meteorological-data-2015.02\",\n",
      "        \"_type\" : \"logs\",\n",
      "        \"_id\" : \"tokyo_15-02-08\",\n",
      "        \"_score\" : 0.017391743,\n",
      "        \"_source\" : {\n",
      "          \"date\" : \"15-02-08\",\n",
      "          \"wind_speed_avg\" : \"1.9\",\n",
      "          \"snowfall\" : null,\n",
      "          \"temperature_max\" : \"6.8\",\n",
      "          \"precipitation_day\" : \"6.0\",\n",
      "          \"wind_speed_max\" : \"4.6\",\n",
      "          \"sunshine_duration\" : \"0.3\",\n",
      "          \"temperature_avg\" : \"4.0\",\n",
      "          \"temperature_min\" : \"2.0\",\n",
      "          \"@version\" : \"1\",\n",
      "          \"wind_direction_max_moment\" : \"西\",\n",
      "          \"information_night\" : \"時々曇\",\n",
      "          \"precipitation_max_10min\" : \"1.0\",\n",
      "          \"precipitation_max_hour\" : \"3.0\",\n",
      "          \"wind_direction\" : \"西\",\n",
      "          \"information_daytime\" : \"一時雨\",\n",
      "          \"@timestamp\" : \"2015-02-08T00:00:00.000Z\",\n",
      "          \"humidity_avg\" : \"87.0\",\n",
      "          \"humidity_min\" : \"66.0\",\n",
      "          \"atmospheric_pressure\" : \"1007.4\",\n",
      "          \"location\" : \"tokyo\",\n",
      "          \"wind_speed_max_moment\" : \"8.5\",\n",
      "          \"snowfall_max\" : null,\n",
      "          \"sea_level_pressure\" : \"1010.4\"\n",
      "        }\n",
      "      },\n",
      "      {\n",
      "        \"_index\" : \"meteorological-data-2015.02\",\n",
      "        \"_type\" : \"logs\",\n",
      "        \"_id\" : \"tokyo_15-02-09\",\n",
      "        \"_score\" : 0.017391743,\n",
      "        \"_source\" : {\n",
      "          \"date\" : \"15-02-09\",\n",
      "          \"wind_speed_avg\" : \"3.2\",\n",
      "          \"snowfall\" : null,\n",
      "          \"temperature_max\" : \"4.9\",\n",
      "          \"precipitation_day\" : null,\n",
      "          \"wind_speed_max\" : \"7.0\",\n",
      "          \"sunshine_duration\" : \"1.7\",\n",
      "          \"temperature_avg\" : \"2.0\",\n",
      "          \"temperature_min\" : \"-0.6\",\n",
      "          \"@version\" : \"1\",\n",
      "          \"wind_direction_max_moment\" : \"北西\",\n",
      "          \"information_night\" : null,\n",
      "          \"precipitation_max_10min\" : null,\n",
      "          \"precipitation_max_hour\" : null,\n",
      "          \"wind_direction\" : \"北西\",\n",
      "          \"information_daytime\" : \"後時々晴\",\n",
      "          \"@timestamp\" : \"2015-02-09T00:00:00.000Z\",\n",
      "          \"humidity_avg\" : \"49.0\",\n",
      "          \"humidity_min\" : \"26.0\",\n",
      "          \"atmospheric_pressure\" : \"1007.3\",\n",
      "          \"location\" : \"tokyo\",\n",
      "          \"wind_speed_max_moment\" : \"15.1\",\n",
      "          \"snowfall_max\" : null,\n",
      "          \"sea_level_pressure\" : \"1010.3\"\n",
      "        }\n",
      "      },\n",
      "      {\n",
      "        \"_index\" : \"meteorological-data-2015.02\",\n",
      "        \"_type\" : \"logs\",\n",
      "        \"_id\" : \"tokyo_15-02-10\",\n",
      "        \"_score\" : 0.017391743,\n",
      "        \"_source\" : {\n",
      "          \"date\" : \"15-02-10\",\n",
      "          \"wind_speed_avg\" : \"2.2\",\n",
      "          \"snowfall\" : null,\n",
      "          \"temperature_max\" : \"8.1\",\n",
      "          \"precipitation_day\" : null,\n",
      "          \"wind_speed_max\" : \"5.0\",\n",
      "          \"sunshine_duration\" : \"9.6\",\n",
      "          \"temperature_avg\" : \"3.2\",\n",
      "          \"temperature_min\" : \"-2.4\",\n",
      "          \"@version\" : \"1\",\n",
      "          \"wind_direction_max_moment\" : \"南東\",\n",
      "          \"information_night\" : \"晴\",\n",
      "          \"precipitation_max_10min\" : null,\n",
      "          \"precipitation_max_hour\" : null,\n",
      "          \"wind_direction\" : \"南東\",\n",
      "          \"information_daytime\" : \"晴\",\n",
      "          \"@timestamp\" : \"2015-02-10T00:00:00.000Z\",\n",
      "          \"humidity_avg\" : \"49.0\",\n",
      "          \"humidity_min\" : \"25.0\",\n",
      "          \"atmospheric_pressure\" : \"1008.3\",\n",
      "          \"location\" : \"tokyo\",\n",
      "          \"wind_speed_max_moment\" : \"8.0\",\n",
      "          \"snowfall_max\" : null,\n",
      "          \"sea_level_pressure\" : \"1011.3\"\n",
      "        }\n",
      "      }\n",
      "    ]\n",
      "  }\n",
      "}\n"
     ]
    },
    {
     "name": "stderr",
     "output_type": "stream",
     "text": [
      "  % Total    % Received % Xferd  Average Speed   Time    Time     Time  Current\n",
      "                                 Dload  Upload   Total   Spent    Left  Speed\n",
      "\r",
      "  0     0    0     0    0     0      0      0 --:--:-- --:--:-- --:--:--     0\r",
      "100 11437  100 11382  100    55   603k   2987 --:--:-- --:--:-- --:--:--  617k\n"
     ]
    }
   ],
   "source": [
    "%%bash\n",
    "curl -XGET \"http://$ES_HOST/meteorological-data-*/_search?pretty\" -d @- << EOF\n",
    "{\n",
    "  \"query\": {\n",
    "    \"term\" : { \"location\" : \"tokyo\" } \n",
    "  }\n",
    "}\n",
    "EOF"
   ]
  },
  {
   "cell_type": "markdown",
   "metadata": {
    "lc_cell_meme": {
     "current": "457c69d4-152a-11e7-b31a-0242ac12000d",
     "next": "457c6ba0-152a-11e7-b31a-0242ac12000d",
     "previous": "457c67fe-152a-11e7-b31a-0242ac12000d"
    }
   },
   "source": [
    "### 対象指定:全インデックスの検索"
   ]
  },
  {
   "cell_type": "markdown",
   "metadata": {
    "lc_cell_meme": {
     "current": "457c6ba0-152a-11e7-b31a-0242ac12000d",
     "next": "457c6d6c-152a-11e7-b31a-0242ac12000d",
     "previous": "457c69d4-152a-11e7-b31a-0242ac12000d"
    }
   },
   "source": [
    "インデックスを絞らず全ドキュメントを検索したい場合は、インデックス名の代わりに\"_all\"という予約語を指定します。"
   ]
  },
  {
   "cell_type": "raw",
   "metadata": {
    "lc_cell_meme": {
     "current": "457c6d6c-152a-11e7-b31a-0242ac12000d",
     "next": "457c6f42-152a-11e7-b31a-0242ac12000d",
     "previous": "457c6ba0-152a-11e7-b31a-0242ac12000d"
    }
   },
   "source": [
    "curl -XGET \"http://<ホスト名>:<ポート番号>/_all/_search?pretty\" -d '<条件>'"
   ]
  },
  {
   "cell_type": "markdown",
   "metadata": {
    "lc_cell_meme": {
     "current": "457c6f42-152a-11e7-b31a-0242ac12000d",
     "next": "457c7104-152a-11e7-b31a-0242ac12000d",
     "previous": "457c6d6c-152a-11e7-b31a-0242ac12000d"
    }
   },
   "source": [
    "全インデックスからドキュメントを検索するコマンドは次の通りです。"
   ]
  },
  {
   "cell_type": "code",
   "execution_count": 5,
   "metadata": {
    "lc_cell_meme": {
     "current": "457c7104-152a-11e7-b31a-0242ac12000d",
     "next": "457c72da-152a-11e7-b31a-0242ac12000d",
     "previous": "457c6f42-152a-11e7-b31a-0242ac12000d"
    }
   },
   "outputs": [
    {
     "name": "stdout",
     "output_type": "stream",
     "text": [
      "{\n",
      "  \"took\" : 5,\n",
      "  \"timed_out\" : false,\n",
      "  \"_shards\" : {\n",
      "    \"total\" : 13,\n",
      "    \"successful\" : 13,\n",
      "    \"failed\" : 0\n",
      "  },\n",
      "  \"hits\" : {\n",
      "    \"total\" : 358,\n",
      "    \"max_score\" : 0.017391743,\n",
      "    \"hits\" : [\n",
      "      {\n",
      "        \"_index\" : \"meteorological-data-2015.02\",\n",
      "        \"_type\" : \"logs\",\n",
      "        \"_id\" : \"tokyo_15-02-01\",\n",
      "        \"_score\" : 0.017391743,\n",
      "        \"_source\" : {\n",
      "          \"date\" : \"15-02-01\",\n",
      "          \"wind_speed_avg\" : \"5.5\",\n",
      "          \"snowfall\" : null,\n",
      "          \"temperature_max\" : \"8.6\",\n",
      "          \"precipitation_day\" : null,\n",
      "          \"wind_speed_max\" : \"10.4\",\n",
      "          \"sunshine_duration\" : \"9.6\",\n",
      "          \"temperature_avg\" : \"4.0\",\n",
      "          \"temperature_min\" : \"0.7\",\n",
      "          \"@version\" : \"1\",\n",
      "          \"wind_direction_max_moment\" : \"北西\",\n",
      "          \"information_night\" : \"晴\",\n",
      "          \"precipitation_max_10min\" : null,\n",
      "          \"precipitation_max_hour\" : null,\n",
      "          \"wind_direction\" : \"北西\",\n",
      "          \"information_daytime\" : \"晴\",\n",
      "          \"@timestamp\" : \"2015-02-01T00:00:00.000Z\",\n",
      "          \"humidity_avg\" : \"32.0\",\n",
      "          \"humidity_min\" : \"22.0\",\n",
      "          \"atmospheric_pressure\" : \"1016.5\",\n",
      "          \"location\" : \"tokyo\",\n",
      "          \"wind_speed_max_moment\" : \"17.3\",\n",
      "          \"snowfall_max\" : null,\n",
      "          \"sea_level_pressure\" : \"1019.5\"\n",
      "        }\n",
      "      },\n",
      "      {\n",
      "        \"_index\" : \"meteorological-data-2015.02\",\n",
      "        \"_type\" : \"logs\",\n",
      "        \"_id\" : \"tokyo_15-02-02\",\n",
      "        \"_score\" : 0.017391743,\n",
      "        \"_source\" : {\n",
      "          \"date\" : \"15-02-02\",\n",
      "          \"wind_speed_avg\" : \"4.7\",\n",
      "          \"snowfall\" : null,\n",
      "          \"temperature_max\" : \"9.6\",\n",
      "          \"precipitation_day\" : null,\n",
      "          \"wind_speed_max\" : \"9.1\",\n",
      "          \"sunshine_duration\" : \"9.6\",\n",
      "          \"temperature_avg\" : \"4.7\",\n",
      "          \"temperature_min\" : \"1.0\",\n",
      "          \"@version\" : \"1\",\n",
      "          \"wind_direction_max_moment\" : \"西\",\n",
      "          \"information_night\" : null,\n",
      "          \"precipitation_max_10min\" : null,\n",
      "          \"precipitation_max_hour\" : null,\n",
      "          \"wind_direction\" : \"西\",\n",
      "          \"information_daytime\" : \"晴\",\n",
      "          \"@timestamp\" : \"2015-02-02T00:00:00.000Z\",\n",
      "          \"humidity_avg\" : \"34.0\",\n",
      "          \"humidity_min\" : \"22.0\",\n",
      "          \"atmospheric_pressure\" : \"1018.8\",\n",
      "          \"location\" : \"tokyo\",\n",
      "          \"wind_speed_max_moment\" : \"15.4\",\n",
      "          \"snowfall_max\" : null,\n",
      "          \"sea_level_pressure\" : \"1021.8\"\n",
      "        }\n",
      "      },\n",
      "      {\n",
      "        \"_index\" : \"meteorological-data-2015.02\",\n",
      "        \"_type\" : \"logs\",\n",
      "        \"_id\" : \"tokyo_15-02-03\",\n",
      "        \"_score\" : 0.017391743,\n",
      "        \"_source\" : {\n",
      "          \"date\" : \"15-02-03\",\n",
      "          \"wind_speed_avg\" : \"2.5\",\n",
      "          \"snowfall\" : null,\n",
      "          \"temperature_max\" : \"10.3\",\n",
      "          \"precipitation_day\" : null,\n",
      "          \"wind_speed_max\" : \"4.8\",\n",
      "          \"sunshine_duration\" : \"9.4\",\n",
      "          \"temperature_avg\" : \"4.7\",\n",
      "          \"temperature_min\" : \"0.4\",\n",
      "          \"@version\" : \"1\",\n",
      "          \"wind_direction_max_moment\" : \"北西\",\n",
      "          \"information_night\" : \"時々曇\",\n",
      "          \"precipitation_max_10min\" : null,\n",
      "          \"precipitation_max_hour\" : null,\n",
      "          \"wind_direction\" : \"北西\",\n",
      "          \"information_daytime\" : null,\n",
      "          \"@timestamp\" : \"2015-02-03T00:00:00.000Z\",\n",
      "          \"humidity_avg\" : \"42.0\",\n",
      "          \"humidity_min\" : \"29.0\",\n",
      "          \"atmospheric_pressure\" : \"1019.2\",\n",
      "          \"location\" : \"tokyo\",\n",
      "          \"wind_speed_max_moment\" : \"9.2\",\n",
      "          \"snowfall_max\" : null,\n",
      "          \"sea_level_pressure\" : \"1022.2\"\n",
      "        }\n",
      "      },\n",
      "      {\n",
      "        \"_index\" : \"meteorological-data-2015.02\",\n",
      "        \"_type\" : \"logs\",\n",
      "        \"_id\" : \"tokyo_15-02-04\",\n",
      "        \"_score\" : 0.017391743,\n",
      "        \"_source\" : {\n",
      "          \"date\" : \"15-02-04\",\n",
      "          \"wind_speed_avg\" : \"2.3\",\n",
      "          \"snowfall\" : null,\n",
      "          \"temperature_max\" : \"9.6\",\n",
      "          \"precipitation_day\" : null,\n",
      "          \"wind_speed_max\" : \"4.4\",\n",
      "          \"sunshine_duration\" : \"7.6\",\n",
      "          \"temperature_avg\" : \"5.2\",\n",
      "          \"temperature_min\" : \"1.1\",\n",
      "          \"@version\" : \"1\",\n",
      "          \"wind_direction_max_moment\" : null,\n",
      "          \"information_night\" : null,\n",
      "          \"precipitation_max_10min\" : null,\n",
      "          \"precipitation_max_hour\" : null,\n",
      "          \"wind_direction\" : null,\n",
      "          \"information_daytime\" : \"後時々薄曇\",\n",
      "          \"@timestamp\" : \"2015-02-04T00:00:00.000Z\",\n",
      "          \"humidity_avg\" : \"49.0\",\n",
      "          \"humidity_min\" : \"28.0\",\n",
      "          \"atmospheric_pressure\" : \"1017.2\",\n",
      "          \"location\" : \"tokyo\",\n",
      "          \"wind_speed_max_moment\" : \"7.6\",\n",
      "          \"snowfall_max\" : null,\n",
      "          \"sea_level_pressure\" : \"1020.2\"\n",
      "        }\n",
      "      },\n",
      "      {\n",
      "        \"_index\" : \"meteorological-data-2015.02\",\n",
      "        \"_type\" : \"logs\",\n",
      "        \"_id\" : \"tokyo_15-02-05\",\n",
      "        \"_score\" : 0.017391743,\n",
      "        \"_source\" : {\n",
      "          \"date\" : \"15-02-05\",\n",
      "          \"wind_speed_avg\" : \"2.5\",\n",
      "          \"snowfall\" : null,\n",
      "          \"temperature_max\" : \"5.1\",\n",
      "          \"precipitation_day\" : \"9.0\",\n",
      "          \"wind_speed_max\" : \"4.8\",\n",
      "          \"sunshine_duration\" : \"0\",\n",
      "          \"temperature_avg\" : \"2.6\",\n",
      "          \"temperature_min\" : \"1.1\",\n",
      "          \"@version\" : \"1\",\n",
      "          \"wind_direction_max_moment\" : null,\n",
      "          \"information_night\" : \"後晴\",\n",
      "          \"precipitation_max_10min\" : \"0.5\",\n",
      "          \"precipitation_max_hour\" : \"2.0\",\n",
      "          \"wind_direction\" : \"北西\",\n",
      "          \"information_daytime\" : \"時々みぞれ\",\n",
      "          \"@timestamp\" : \"2015-02-05T00:00:00.000Z\",\n",
      "          \"humidity_avg\" : \"87.0\",\n",
      "          \"humidity_min\" : \"58.0\",\n",
      "          \"atmospheric_pressure\" : \"1011.0\",\n",
      "          \"location\" : \"tokyo\",\n",
      "          \"wind_speed_max_moment\" : \"7.3\",\n",
      "          \"snowfall_max\" : null,\n",
      "          \"sea_level_pressure\" : \"1014.0\"\n",
      "        }\n",
      "      },\n",
      "      {\n",
      "        \"_index\" : \"meteorological-data-2015.02\",\n",
      "        \"_type\" : \"logs\",\n",
      "        \"_id\" : \"tokyo_15-02-06\",\n",
      "        \"_score\" : 0.017391743,\n",
      "        \"_source\" : {\n",
      "          \"date\" : \"15-02-06\",\n",
      "          \"wind_speed_avg\" : \"2.8\",\n",
      "          \"snowfall\" : null,\n",
      "          \"temperature_max\" : \"12.0\",\n",
      "          \"precipitation_day\" : \"0\",\n",
      "          \"wind_speed_max\" : \"5.9\",\n",
      "          \"sunshine_duration\" : \"8.9\",\n",
      "          \"temperature_avg\" : \"5.4\",\n",
      "          \"temperature_min\" : \"-0.3\",\n",
      "          \"@version\" : \"1\",\n",
      "          \"wind_direction_max_moment\" : \"北西\",\n",
      "          \"information_night\" : \"晴\",\n",
      "          \"precipitation_max_10min\" : \"0\",\n",
      "          \"precipitation_max_hour\" : \"0\",\n",
      "          \"wind_direction\" : \"北西\",\n",
      "          \"information_daytime\" : \"晴\",\n",
      "          \"@timestamp\" : \"2015-02-06T00:00:00.000Z\",\n",
      "          \"humidity_avg\" : \"60.0\",\n",
      "          \"humidity_min\" : \"23.0\",\n",
      "          \"atmospheric_pressure\" : \"1013.4\",\n",
      "          \"location\" : \"tokyo\",\n",
      "          \"wind_speed_max_moment\" : \"10.5\",\n",
      "          \"snowfall_max\" : null,\n",
      "          \"sea_level_pressure\" : \"1016.4\"\n",
      "        }\n",
      "      },\n",
      "      {\n",
      "        \"_index\" : \"meteorological-data-2015.02\",\n",
      "        \"_type\" : \"logs\",\n",
      "        \"_id\" : \"tokyo_15-02-07\",\n",
      "        \"_score\" : 0.017391743,\n",
      "        \"_source\" : {\n",
      "          \"date\" : \"15-02-07\",\n",
      "          \"wind_speed_avg\" : \"2.4\",\n",
      "          \"snowfall\" : null,\n",
      "          \"temperature_max\" : \"9.6\",\n",
      "          \"precipitation_day\" : \"1.5\",\n",
      "          \"wind_speed_max\" : \"5.9\",\n",
      "          \"sunshine_duration\" : \"3.6\",\n",
      "          \"temperature_avg\" : \"5.3\",\n",
      "          \"temperature_min\" : \"1.2\",\n",
      "          \"@version\" : \"1\",\n",
      "          \"wind_direction_max_moment\" : \"東\",\n",
      "          \"information_night\" : \"後曇一時晴\",\n",
      "          \"precipitation_max_10min\" : \"0.5\",\n",
      "          \"precipitation_max_hour\" : \"1.0\",\n",
      "          \"wind_direction\" : \"東\",\n",
      "          \"information_daytime\" : null,\n",
      "          \"@timestamp\" : \"2015-02-07T00:00:00.000Z\",\n",
      "          \"humidity_avg\" : \"60.0\",\n",
      "          \"humidity_min\" : \"32.0\",\n",
      "          \"atmospheric_pressure\" : \"1019.2\",\n",
      "          \"location\" : \"tokyo\",\n",
      "          \"wind_speed_max_moment\" : \"9.7\",\n",
      "          \"snowfall_max\" : null,\n",
      "          \"sea_level_pressure\" : \"1022.3\"\n",
      "        }\n",
      "      },\n",
      "      {\n",
      "        \"_index\" : \"meteorological-data-2015.02\",\n",
      "        \"_type\" : \"logs\",\n",
      "        \"_id\" : \"tokyo_15-02-08\",\n",
      "        \"_score\" : 0.017391743,\n",
      "        \"_source\" : {\n",
      "          \"date\" : \"15-02-08\",\n",
      "          \"wind_speed_avg\" : \"1.9\",\n",
      "          \"snowfall\" : null,\n",
      "          \"temperature_max\" : \"6.8\",\n",
      "          \"precipitation_day\" : \"6.0\",\n",
      "          \"wind_speed_max\" : \"4.6\",\n",
      "          \"sunshine_duration\" : \"0.3\",\n",
      "          \"temperature_avg\" : \"4.0\",\n",
      "          \"temperature_min\" : \"2.0\",\n",
      "          \"@version\" : \"1\",\n",
      "          \"wind_direction_max_moment\" : \"西\",\n",
      "          \"information_night\" : \"時々曇\",\n",
      "          \"precipitation_max_10min\" : \"1.0\",\n",
      "          \"precipitation_max_hour\" : \"3.0\",\n",
      "          \"wind_direction\" : \"西\",\n",
      "          \"information_daytime\" : \"一時雨\",\n",
      "          \"@timestamp\" : \"2015-02-08T00:00:00.000Z\",\n",
      "          \"humidity_avg\" : \"87.0\",\n",
      "          \"humidity_min\" : \"66.0\",\n",
      "          \"atmospheric_pressure\" : \"1007.4\",\n",
      "          \"location\" : \"tokyo\",\n",
      "          \"wind_speed_max_moment\" : \"8.5\",\n",
      "          \"snowfall_max\" : null,\n",
      "          \"sea_level_pressure\" : \"1010.4\"\n",
      "        }\n",
      "      },\n",
      "      {\n",
      "        \"_index\" : \"meteorological-data-2015.02\",\n",
      "        \"_type\" : \"logs\",\n",
      "        \"_id\" : \"tokyo_15-02-09\",\n",
      "        \"_score\" : 0.017391743,\n",
      "        \"_source\" : {\n",
      "          \"date\" : \"15-02-09\",\n",
      "          \"wind_speed_avg\" : \"3.2\",\n",
      "          \"snowfall\" : null,\n",
      "          \"temperature_max\" : \"4.9\",\n",
      "          \"precipitation_day\" : null,\n",
      "          \"wind_speed_max\" : \"7.0\",\n",
      "          \"sunshine_duration\" : \"1.7\",\n",
      "          \"temperature_avg\" : \"2.0\",\n",
      "          \"temperature_min\" : \"-0.6\",\n",
      "          \"@version\" : \"1\",\n",
      "          \"wind_direction_max_moment\" : \"北西\",\n",
      "          \"information_night\" : null,\n",
      "          \"precipitation_max_10min\" : null,\n",
      "          \"precipitation_max_hour\" : null,\n",
      "          \"wind_direction\" : \"北西\",\n",
      "          \"information_daytime\" : \"後時々晴\",\n",
      "          \"@timestamp\" : \"2015-02-09T00:00:00.000Z\",\n",
      "          \"humidity_avg\" : \"49.0\",\n",
      "          \"humidity_min\" : \"26.0\",\n",
      "          \"atmospheric_pressure\" : \"1007.3\",\n",
      "          \"location\" : \"tokyo\",\n",
      "          \"wind_speed_max_moment\" : \"15.1\",\n",
      "          \"snowfall_max\" : null,\n",
      "          \"sea_level_pressure\" : \"1010.3\"\n",
      "        }\n",
      "      },\n",
      "      {\n",
      "        \"_index\" : \"meteorological-data-2015.02\",\n",
      "        \"_type\" : \"logs\",\n",
      "        \"_id\" : \"tokyo_15-02-10\",\n",
      "        \"_score\" : 0.017391743,\n",
      "        \"_source\" : {\n",
      "          \"date\" : \"15-02-10\",\n",
      "          \"wind_speed_avg\" : \"2.2\",\n",
      "          \"snowfall\" : null,\n",
      "          \"temperature_max\" : \"8.1\",\n",
      "          \"precipitation_day\" : null,\n",
      "          \"wind_speed_max\" : \"5.0\",\n",
      "          \"sunshine_duration\" : \"9.6\",\n",
      "          \"temperature_avg\" : \"3.2\",\n",
      "          \"temperature_min\" : \"-2.4\",\n",
      "          \"@version\" : \"1\",\n",
      "          \"wind_direction_max_moment\" : \"南東\",\n",
      "          \"information_night\" : \"晴\",\n",
      "          \"precipitation_max_10min\" : null,\n",
      "          \"precipitation_max_hour\" : null,\n",
      "          \"wind_direction\" : \"南東\",\n",
      "          \"information_daytime\" : \"晴\",\n",
      "          \"@timestamp\" : \"2015-02-10T00:00:00.000Z\",\n",
      "          \"humidity_avg\" : \"49.0\",\n",
      "          \"humidity_min\" : \"25.0\",\n",
      "          \"atmospheric_pressure\" : \"1008.3\",\n",
      "          \"location\" : \"tokyo\",\n",
      "          \"wind_speed_max_moment\" : \"8.0\",\n",
      "          \"snowfall_max\" : null,\n",
      "          \"sea_level_pressure\" : \"1011.3\"\n",
      "        }\n",
      "      }\n",
      "    ]\n",
      "  }\n",
      "}\n"
     ]
    },
    {
     "name": "stderr",
     "output_type": "stream",
     "text": [
      "  % Total    % Received % Xferd  Average Speed   Time    Time     Time  Current\n",
      "                                 Dload  Upload   Total   Spent    Left  Speed\n",
      "\r",
      "  0     0    0     0    0     0      0      0 --:--:-- --:--:-- --:--:--     0\r",
      "100 11437  100 11382  100    55   632k   3129 --:--:-- --:--:-- --:--:--  653k\n"
     ]
    }
   ],
   "source": [
    "%%bash\n",
    "curl -XGET \"http://$ES_HOST/_all/_search?pretty\" -d @- << EOF\n",
    "{\n",
    "  \"query\": {\n",
    "    \"term\" : { \"location\" : \"tokyo\" } \n",
    "  }\n",
    "}\n",
    "EOF"
   ]
  },
  {
   "cell_type": "markdown",
   "metadata": {
    "lc_cell_meme": {
     "current": "457c72da-152a-11e7-b31a-0242ac12000d",
     "next": "457c74b0-152a-11e7-b31a-0242ac12000d",
     "previous": "457c7104-152a-11e7-b31a-0242ac12000d"
    }
   },
   "source": [
    "### 対象指定:タイプ名で検索"
   ]
  },
  {
   "cell_type": "markdown",
   "metadata": {
    "lc_cell_meme": {
     "current": "457c74b0-152a-11e7-b31a-0242ac12000d",
     "next": "457c7686-152a-11e7-b31a-0242ac12000d",
     "previous": "457c72da-152a-11e7-b31a-0242ac12000d"
    }
   },
   "source": [
    "インデックス名に加えてタイプ名を指定する場合は、インデックス名に続いてタイプ名を指定します。"
   ]
  },
  {
   "cell_type": "raw",
   "metadata": {
    "lc_cell_meme": {
     "current": "457c7686-152a-11e7-b31a-0242ac12000d",
     "next": "457c785c-152a-11e7-b31a-0242ac12000d",
     "previous": "457c74b0-152a-11e7-b31a-0242ac12000d"
    }
   },
   "source": [
    "curl -XGET \"http://<ホスト名>:<ポート番号>/<インデックス名>/<タイプ名>/_search?pretty\" -d '<条件>'"
   ]
  },
  {
   "cell_type": "markdown",
   "metadata": {
    "lc_cell_meme": {
     "current": "457c785c-152a-11e7-b31a-0242ac12000d",
     "next": "457c7a28-152a-11e7-b31a-0242ac12000d",
     "previous": "457c7686-152a-11e7-b31a-0242ac12000d"
    }
   },
   "source": [
    "インデックス名が「meteorological-data-2015.01」、タイプ名が「log」のドキュメントを検索するコマンドは次の通りです。"
   ]
  },
  {
   "cell_type": "code",
   "execution_count": 6,
   "metadata": {
    "lc_cell_meme": {
     "current": "457c7a28-152a-11e7-b31a-0242ac12000d",
     "next": "457c7bea-152a-11e7-b31a-0242ac12000d",
     "previous": "457c785c-152a-11e7-b31a-0242ac12000d"
    }
   },
   "outputs": [
    {
     "name": "stdout",
     "output_type": "stream",
     "text": [
      "{\n",
      "  \"took\" : 16,\n",
      "  \"timed_out\" : false,\n",
      "  \"_shards\" : {\n",
      "    \"total\" : 1,\n",
      "    \"successful\" : 1,\n",
      "    \"failed\" : 0\n",
      "  },\n",
      "  \"hits\" : {\n",
      "    \"total\" : 29,\n",
      "    \"max_score\" : 0.016807118,\n",
      "    \"hits\" : [\n",
      "      {\n",
      "        \"_index\" : \"meteorological-data-2015.01\",\n",
      "        \"_type\" : \"logs\",\n",
      "        \"_id\" : \"tokyo_15-01-01\",\n",
      "        \"_score\" : 0.016807118,\n",
      "        \"_source\" : {\n",
      "          \"date\" : \"15-01-01\",\n",
      "          \"wind_speed_avg\" : \"4.4\",\n",
      "          \"snowfall\" : null,\n",
      "          \"temperature_max\" : \"8.2\",\n",
      "          \"precipitation_day\" : \"0\",\n",
      "          \"wind_speed_max\" : \"9.4\",\n",
      "          \"sunshine_duration\" : \"1.3\",\n",
      "          \"temperature_avg\" : \"3.7\",\n",
      "          \"temperature_min\" : \"0.7\",\n",
      "          \"@version\" : \"1\",\n",
      "          \"wind_direction_max_moment\" : \"北西\",\n",
      "          \"information_night\" : \"晴\",\n",
      "          \"precipitation_max_10min\" : \"0\",\n",
      "          \"precipitation_max_hour\" : \"0\",\n",
      "          \"wind_direction\" : \"西\",\n",
      "          \"information_daytime\" : \"時々晴一時雪\",\n",
      "          \"@timestamp\" : \"2015-01-01T00:00:00.000Z\",\n",
      "          \"humidity_avg\" : \"41.0\",\n",
      "          \"humidity_min\" : \"30.0\",\n",
      "          \"atmospheric_pressure\" : \"1000.4\",\n",
      "          \"location\" : \"tokyo\",\n",
      "          \"wind_speed_max_moment\" : \"18.7\",\n",
      "          \"snowfall_max\" : null,\n",
      "          \"sea_level_pressure\" : \"1003.4\"\n",
      "        }\n",
      "      },\n",
      "      {\n",
      "        \"_index\" : \"meteorological-data-2015.01\",\n",
      "        \"_type\" : \"logs\",\n",
      "        \"_id\" : \"tokyo_15-01-02\",\n",
      "        \"_score\" : 0.016807118,\n",
      "        \"_source\" : {\n",
      "          \"date\" : \"15-01-02\",\n",
      "          \"wind_speed_avg\" : \"2.1\",\n",
      "          \"snowfall\" : null,\n",
      "          \"temperature_max\" : \"7.9\",\n",
      "          \"precipitation_day\" : null,\n",
      "          \"wind_speed_max\" : \"4.2\",\n",
      "          \"sunshine_duration\" : \"6.0\",\n",
      "          \"temperature_avg\" : \"2.7\",\n",
      "          \"temperature_min\" : \"-2.2\",\n",
      "          \"@version\" : \"1\",\n",
      "          \"wind_direction_max_moment\" : \"西\",\n",
      "          \"information_night\" : \"一時曇\",\n",
      "          \"precipitation_max_10min\" : null,\n",
      "          \"precipitation_max_hour\" : null,\n",
      "          \"wind_direction\" : \"西\",\n",
      "          \"information_daytime\" : \"時々曇\",\n",
      "          \"@timestamp\" : \"2015-01-02T00:00:00.000Z\",\n",
      "          \"humidity_avg\" : \"41.0\",\n",
      "          \"humidity_min\" : \"19.0\",\n",
      "          \"atmospheric_pressure\" : \"1007.4\",\n",
      "          \"location\" : \"tokyo\",\n",
      "          \"wind_speed_max_moment\" : \"7.8\",\n",
      "          \"snowfall_max\" : null,\n",
      "          \"sea_level_pressure\" : \"1010.4\"\n",
      "        }\n",
      "      },\n",
      "      {\n",
      "        \"_index\" : \"meteorological-data-2015.01\",\n",
      "        \"_type\" : \"logs\",\n",
      "        \"_id\" : \"tokyo_15-01-03\",\n",
      "        \"_score\" : 0.016807118,\n",
      "        \"_source\" : {\n",
      "          \"date\" : \"15-01-03\",\n",
      "          \"wind_speed_avg\" : \"3.0\",\n",
      "          \"snowfall\" : null,\n",
      "          \"temperature_max\" : \"8.9\",\n",
      "          \"precipitation_day\" : null,\n",
      "          \"wind_speed_max\" : \"7.4\",\n",
      "          \"sunshine_duration\" : \"8.9\",\n",
      "          \"temperature_avg\" : \"3.8\",\n",
      "          \"temperature_min\" : \"-1.1\",\n",
      "          \"@version\" : \"1\",\n",
      "          \"wind_direction_max_moment\" : \"北西\",\n",
      "          \"information_night\" : \"後薄曇\",\n",
      "          \"precipitation_max_10min\" : null,\n",
      "          \"precipitation_max_hour\" : null,\n",
      "          \"wind_direction\" : \"北西\",\n",
      "          \"information_daytime\" : \"晴\",\n",
      "          \"@timestamp\" : \"2015-01-03T00:00:00.000Z\",\n",
      "          \"humidity_avg\" : \"42.0\",\n",
      "          \"humidity_min\" : \"19.0\",\n",
      "          \"atmospheric_pressure\" : \"1012.0\",\n",
      "          \"location\" : \"tokyo\",\n",
      "          \"wind_speed_max_moment\" : \"10.9\",\n",
      "          \"snowfall_max\" : null,\n",
      "          \"sea_level_pressure\" : \"1015.1\"\n",
      "        }\n",
      "      },\n",
      "      {\n",
      "        \"_index\" : \"meteorological-data-2015.01\",\n",
      "        \"_type\" : \"logs\",\n",
      "        \"_id\" : \"tokyo_15-01-04\",\n",
      "        \"_score\" : 0.016807118,\n",
      "        \"_source\" : {\n",
      "          \"date\" : \"15-01-04\",\n",
      "          \"wind_speed_avg\" : \"1.3\",\n",
      "          \"snowfall\" : null,\n",
      "          \"temperature_max\" : \"9.3\",\n",
      "          \"precipitation_day\" : null,\n",
      "          \"wind_speed_max\" : \"2.8\",\n",
      "          \"sunshine_duration\" : \"6.0\",\n",
      "          \"temperature_avg\" : \"4.0\",\n",
      "          \"temperature_min\" : \"-0.4\",\n",
      "          \"@version\" : \"1\",\n",
      "          \"wind_direction_max_moment\" : \"北東\",\n",
      "          \"information_night\" : \"晴\",\n",
      "          \"precipitation_max_10min\" : null,\n",
      "          \"precipitation_max_hour\" : null,\n",
      "          \"wind_direction\" : \"北西\",\n",
      "          \"information_daytime\" : \"後晴\",\n",
      "          \"@timestamp\" : \"2015-01-04T00:00:00.000Z\",\n",
      "          \"humidity_avg\" : \"51.0\",\n",
      "          \"humidity_min\" : \"33.0\",\n",
      "          \"atmospheric_pressure\" : \"1010.4\",\n",
      "          \"location\" : \"tokyo\",\n",
      "          \"wind_speed_max_moment\" : \"3.8\",\n",
      "          \"snowfall_max\" : null,\n",
      "          \"sea_level_pressure\" : \"1013.4\"\n",
      "        }\n",
      "      },\n",
      "      {\n",
      "        \"_index\" : \"meteorological-data-2015.01\",\n",
      "        \"_type\" : \"logs\",\n",
      "        \"_id\" : \"tokyo_15-01-05\",\n",
      "        \"_score\" : 0.016807118,\n",
      "        \"_source\" : {\n",
      "          \"date\" : \"15-01-05\",\n",
      "          \"wind_speed_avg\" : \"2.4\",\n",
      "          \"snowfall\" : null,\n",
      "          \"temperature_max\" : \"12.9\",\n",
      "          \"precipitation_day\" : null,\n",
      "          \"wind_speed_max\" : \"5.0\",\n",
      "          \"sunshine_duration\" : \"8.9\",\n",
      "          \"temperature_avg\" : \"6.9\",\n",
      "          \"temperature_min\" : \"1.3\",\n",
      "          \"@version\" : \"1\",\n",
      "          \"wind_direction_max_moment\" : \"北西\",\n",
      "          \"information_night\" : \"一時晴\",\n",
      "          \"precipitation_max_10min\" : null,\n",
      "          \"precipitation_max_hour\" : null,\n",
      "          \"wind_direction\" : \"北西\",\n",
      "          \"information_daytime\" : \"晴\",\n",
      "          \"@timestamp\" : \"2015-01-05T00:00:00.000Z\",\n",
      "          \"humidity_avg\" : \"56.0\",\n",
      "          \"humidity_min\" : \"29.0\",\n",
      "          \"atmospheric_pressure\" : \"1014.6\",\n",
      "          \"location\" : \"tokyo\",\n",
      "          \"wind_speed_max_moment\" : \"9.1\",\n",
      "          \"snowfall_max\" : null,\n",
      "          \"sea_level_pressure\" : \"1017.5\"\n",
      "        }\n",
      "      },\n",
      "      {\n",
      "        \"_index\" : \"meteorological-data-2015.01\",\n",
      "        \"_type\" : \"logs\",\n",
      "        \"_id\" : \"tokyo_15-01-06\",\n",
      "        \"_score\" : 0.016807118,\n",
      "        \"_source\" : {\n",
      "          \"date\" : \"15-01-06\",\n",
      "          \"wind_speed_avg\" : \"5.2\",\n",
      "          \"snowfall\" : null,\n",
      "          \"temperature_max\" : \"16.0\",\n",
      "          \"precipitation_day\" : \"6.5\",\n",
      "          \"wind_speed_max\" : \"8.9\",\n",
      "          \"sunshine_duration\" : \"0.2\",\n",
      "          \"temperature_avg\" : \"10.8\",\n",
      "          \"temperature_min\" : \"5.8\",\n",
      "          \"@version\" : \"1\",\n",
      "          \"wind_direction_max_moment\" : null,\n",
      "          \"information_night\" : \"時々晴\",\n",
      "          \"precipitation_max_10min\" : \"1.5\",\n",
      "          \"precipitation_max_hour\" : \"5.0\",\n",
      "          \"wind_direction\" : \"南西\",\n",
      "          \"information_daytime\" : \"後時々雨\",\n",
      "          \"@timestamp\" : \"2015-01-06T00:00:00.000Z\",\n",
      "          \"humidity_avg\" : \"64.0\",\n",
      "          \"humidity_min\" : \"40.0\",\n",
      "          \"atmospheric_pressure\" : \"1000.6\",\n",
      "          \"location\" : \"tokyo\",\n",
      "          \"wind_speed_max_moment\" : \"19.3\",\n",
      "          \"snowfall_max\" : null,\n",
      "          \"sea_level_pressure\" : \"1003.5\"\n",
      "        }\n",
      "      },\n",
      "      {\n",
      "        \"_index\" : \"meteorological-data-2015.01\",\n",
      "        \"_type\" : \"logs\",\n",
      "        \"_id\" : \"tokyo_15-01-07\",\n",
      "        \"_score\" : 0.016807118,\n",
      "        \"_source\" : {\n",
      "          \"date\" : \"15-01-07\",\n",
      "          \"wind_speed_avg\" : \"4.2\",\n",
      "          \"snowfall\" : null,\n",
      "          \"temperature_max\" : \"10.2\",\n",
      "          \"precipitation_day\" : null,\n",
      "          \"wind_speed_max\" : \"7.0\",\n",
      "          \"sunshine_duration\" : \"3.3\",\n",
      "          \"temperature_avg\" : \"5.6\",\n",
      "          \"temperature_min\" : \"3.0\",\n",
      "          \"@version\" : \"1\",\n",
      "          \"wind_direction_max_moment\" : \"北西\",\n",
      "          \"information_night\" : \"晴\",\n",
      "          \"precipitation_max_10min\" : null,\n",
      "          \"precipitation_max_hour\" : null,\n",
      "          \"wind_direction\" : \"北西\",\n",
      "          \"information_daytime\" : \"時々曇\",\n",
      "          \"@timestamp\" : \"2015-01-07T00:00:00.000Z\",\n",
      "          \"humidity_avg\" : \"35.0\",\n",
      "          \"humidity_min\" : \"23.0\",\n",
      "          \"atmospheric_pressure\" : \"1000.5\",\n",
      "          \"location\" : \"tokyo\",\n",
      "          \"wind_speed_max_moment\" : \"16.1\",\n",
      "          \"snowfall_max\" : null,\n",
      "          \"sea_level_pressure\" : \"1003.4\"\n",
      "        }\n",
      "      },\n",
      "      {\n",
      "        \"_index\" : \"meteorological-data-2015.01\",\n",
      "        \"_type\" : \"logs\",\n",
      "        \"_id\" : \"tokyo_15-01-08\",\n",
      "        \"_score\" : 0.016807118,\n",
      "        \"_source\" : {\n",
      "          \"date\" : \"15-01-08\",\n",
      "          \"wind_speed_avg\" : \"4.4\",\n",
      "          \"snowfall\" : null,\n",
      "          \"temperature_max\" : \"11.2\",\n",
      "          \"precipitation_day\" : null,\n",
      "          \"wind_speed_max\" : \"8.4\",\n",
      "          \"sunshine_duration\" : \"8.9\",\n",
      "          \"temperature_avg\" : \"6.2\",\n",
      "          \"temperature_min\" : \"2.0\",\n",
      "          \"@version\" : \"1\",\n",
      "          \"wind_direction_max_moment\" : \"北西\",\n",
      "          \"information_night\" : \"晴\",\n",
      "          \"precipitation_max_10min\" : null,\n",
      "          \"precipitation_max_hour\" : null,\n",
      "          \"wind_direction\" : \"西\",\n",
      "          \"information_daytime\" : \"晴\",\n",
      "          \"@timestamp\" : \"2015-01-08T00:00:00.000Z\",\n",
      "          \"humidity_avg\" : \"33.0\",\n",
      "          \"humidity_min\" : \"20.0\",\n",
      "          \"atmospheric_pressure\" : \"1006.2\",\n",
      "          \"location\" : \"tokyo\",\n",
      "          \"wind_speed_max_moment\" : \"13.6\",\n",
      "          \"snowfall_max\" : null,\n",
      "          \"sea_level_pressure\" : \"1009.2\"\n",
      "        }\n",
      "      },\n",
      "      {\n",
      "        \"_index\" : \"meteorological-data-2015.01\",\n",
      "        \"_type\" : \"logs\",\n",
      "        \"_id\" : \"tokyo_15-01-09\",\n",
      "        \"_score\" : 0.016807118,\n",
      "        \"_source\" : {\n",
      "          \"date\" : \"15-01-09\",\n",
      "          \"wind_speed_avg\" : \"4.1\",\n",
      "          \"snowfall\" : null,\n",
      "          \"temperature_max\" : \"11.0\",\n",
      "          \"precipitation_day\" : null,\n",
      "          \"wind_speed_max\" : \"8.1\",\n",
      "          \"sunshine_duration\" : \"8.9\",\n",
      "          \"temperature_avg\" : \"6.7\",\n",
      "          \"temperature_min\" : \"3.5\",\n",
      "          \"@version\" : \"1\",\n",
      "          \"wind_direction_max_moment\" : \"西\",\n",
      "          \"information_night\" : \"晴\",\n",
      "          \"precipitation_max_10min\" : null,\n",
      "          \"precipitation_max_hour\" : null,\n",
      "          \"wind_direction\" : \"西\",\n",
      "          \"information_daytime\" : \"晴\",\n",
      "          \"@timestamp\" : \"2015-01-09T00:00:00.000Z\",\n",
      "          \"humidity_avg\" : \"31.0\",\n",
      "          \"humidity_min\" : \"21.0\",\n",
      "          \"atmospheric_pressure\" : \"1008.2\",\n",
      "          \"location\" : \"tokyo\",\n",
      "          \"wind_speed_max_moment\" : \"14.4\",\n",
      "          \"snowfall_max\" : null,\n",
      "          \"sea_level_pressure\" : \"1011.2\"\n",
      "        }\n",
      "      },\n",
      "      {\n",
      "        \"_index\" : \"meteorological-data-2015.01\",\n",
      "        \"_type\" : \"logs\",\n",
      "        \"_id\" : \"tokyo_15-01-10\",\n",
      "        \"_score\" : 0.016807118,\n",
      "        \"_source\" : {\n",
      "          \"date\" : \"15-01-10\",\n",
      "          \"wind_speed_avg\" : \"3.5\",\n",
      "          \"snowfall\" : null,\n",
      "          \"temperature_max\" : \"11.2\",\n",
      "          \"precipitation_day\" : null,\n",
      "          \"wind_speed_max\" : \"8.8\",\n",
      "          \"sunshine_duration\" : \"9.1\",\n",
      "          \"temperature_avg\" : \"6.3\",\n",
      "          \"temperature_min\" : \"1.9\",\n",
      "          \"@version\" : \"1\",\n",
      "          \"wind_direction_max_moment\" : \"西\",\n",
      "          \"information_night\" : \"晴\",\n",
      "          \"precipitation_max_10min\" : null,\n",
      "          \"precipitation_max_hour\" : null,\n",
      "          \"wind_direction\" : \"西\",\n",
      "          \"information_daytime\" : \"晴\",\n",
      "          \"@timestamp\" : \"2015-01-10T00:00:00.000Z\",\n",
      "          \"humidity_avg\" : \"31.0\",\n",
      "          \"humidity_min\" : \"16.0\",\n",
      "          \"atmospheric_pressure\" : \"1008.8\",\n",
      "          \"location\" : \"tokyo\",\n",
      "          \"wind_speed_max_moment\" : \"17.7\",\n",
      "          \"snowfall_max\" : null,\n",
      "          \"sea_level_pressure\" : \"1011.8\"\n",
      "        }\n",
      "      }\n",
      "    ]\n",
      "  }\n",
      "}\n"
     ]
    },
    {
     "name": "stderr",
     "output_type": "stream",
     "text": [
      "  % Total    % Received % Xferd  Average Speed   Time    Time     Time  Current\n",
      "                                 Dload  Upload   Total   Spent    Left  Speed\n",
      "\r",
      "  0     0    0     0    0     0      0      0 --:--:-- --:--:-- --:--:--     0\r",
      "100 11442  100 11387  100    55   381k   1884 --:--:-- --:--:-- --:--:--  383k\n"
     ]
    }
   ],
   "source": [
    "%%bash\n",
    "curl -XGET \"http://$ES_HOST/meteorological-data-2015.01/logs/_search?pretty\" -d @- << EOF\n",
    "{\n",
    "  \"query\": {\n",
    "    \"term\" : { \"location\" : \"tokyo\" } \n",
    "  }\n",
    "}\n",
    "EOF"
   ]
  },
  {
   "cell_type": "markdown",
   "metadata": {
    "lc_cell_meme": {
     "current": "457c7bea-152a-11e7-b31a-0242ac12000d",
     "next": "457c7df2-152a-11e7-b31a-0242ac12000d",
     "previous": "457c7a28-152a-11e7-b31a-0242ac12000d"
    }
   },
   "source": [
    "### 対象指定:ドキュメントIDで検索"
   ]
  },
  {
   "cell_type": "markdown",
   "metadata": {
    "lc_cell_meme": {
     "current": "457c7df2-152a-11e7-b31a-0242ac12000d",
     "next": "457c7fc8-152a-11e7-b31a-0242ac12000d",
     "previous": "457c7bea-152a-11e7-b31a-0242ac12000d"
    }
   },
   "source": [
    "ドキュメントIDを指定する場合、インデックス名、タイプ名、ドキュメントIDを指定します。"
   ]
  },
  {
   "cell_type": "raw",
   "metadata": {
    "lc_cell_meme": {
     "current": "457c7fc8-152a-11e7-b31a-0242ac12000d",
     "next": "457c8194-152a-11e7-b31a-0242ac12000d",
     "previous": "457c7df2-152a-11e7-b31a-0242ac12000d"
    }
   },
   "source": [
    "curl -XGET \"http://<ホスト名>:<ポート番号>/<インデックス名>/<タイプ名>/<ドキュメントID>?pretty\""
   ]
  },
  {
   "cell_type": "markdown",
   "metadata": {
    "lc_cell_meme": {
     "current": "457c8194-152a-11e7-b31a-0242ac12000d",
     "next": "457c8356-152a-11e7-b31a-0242ac12000d",
     "previous": "457c7fc8-152a-11e7-b31a-0242ac12000d"
    }
   },
   "source": [
    "※条件も指定できますが、ドキュメントIDを指定した場合は応答がたかだか1件ですので、通常は無意味です。"
   ]
  },
  {
   "cell_type": "markdown",
   "metadata": {
    "lc_cell_meme": {
     "current": "457c8356-152a-11e7-b31a-0242ac12000d",
     "next": "457c854a-152a-11e7-b31a-0242ac12000d",
     "previous": "457c8194-152a-11e7-b31a-0242ac12000d"
    }
   },
   "source": [
    "例えば、インデックス名が「meteorological-data-2015.01」、タイプ名が「logs」でドキュメントIDが「tokyo_15-01-08」のドキュメントを検索するコマンドは次の通りです。"
   ]
  },
  {
   "cell_type": "code",
   "execution_count": 7,
   "metadata": {
    "lc_cell_meme": {
     "current": "457c854a-152a-11e7-b31a-0242ac12000d",
     "next": "457c8720-152a-11e7-b31a-0242ac12000d",
     "previous": "457c8356-152a-11e7-b31a-0242ac12000d"
    }
   },
   "outputs": [
    {
     "name": "stdout",
     "output_type": "stream",
     "text": [
      "{\r\n",
      "  \"_index\" : \"meteorological-data-2015.01\",\r\n",
      "  \"_type\" : \"logs\",\r\n",
      "  \"_id\" : \"tokyo_15-01-08\",\r\n",
      "  \"_version\" : 1,\r\n",
      "  \"found\" : true,\r\n",
      "  \"_source\" : {\r\n",
      "    \"date\" : \"15-01-08\",\r\n",
      "    \"wind_speed_avg\" : \"4.4\",\r\n",
      "    \"snowfall\" : null,\r\n",
      "    \"temperature_max\" : \"11.2\",\r\n",
      "    \"precipitation_day\" : null,\r\n",
      "    \"wind_speed_max\" : \"8.4\",\r\n",
      "    \"sunshine_duration\" : \"8.9\",\r\n",
      "    \"temperature_avg\" : \"6.2\",\r\n",
      "    \"temperature_min\" : \"2.0\",\r\n",
      "    \"@version\" : \"1\",\r\n",
      "    \"wind_direction_max_moment\" : \"北西\",\r\n",
      "    \"information_night\" : \"晴\",\r\n",
      "    \"precipitation_max_10min\" : null,\r\n",
      "    \"precipitation_max_hour\" : null,\r\n",
      "    \"wind_direction\" : \"西\",\r\n",
      "    \"information_daytime\" : \"晴\",\r\n",
      "    \"@timestamp\" : \"2015-01-08T00:00:00.000Z\",\r\n",
      "    \"humidity_avg\" : \"33.0\",\r\n",
      "    \"humidity_min\" : \"20.0\",\r\n",
      "    \"atmospheric_pressure\" : \"1006.2\",\r\n",
      "    \"location\" : \"tokyo\",\r\n",
      "    \"wind_speed_max_moment\" : \"13.6\",\r\n",
      "    \"snowfall_max\" : null,\r\n",
      "    \"sea_level_pressure\" : \"1009.2\"\r\n",
      "  }\r\n",
      "}\r\n"
     ]
    }
   ],
   "source": [
    "!curl -XGET \"http://$ES_HOST/meteorological-data-2015.01/logs/tokyo_15-01-08?pretty\""
   ]
  },
  {
   "cell_type": "markdown",
   "metadata": {
    "lc_cell_meme": {
     "current": "457c8720-152a-11e7-b31a-0242ac12000d",
     "next": "457c88f6-152a-11e7-b31a-0242ac12000d",
     "previous": "457c854a-152a-11e7-b31a-0242ac12000d"
    }
   },
   "source": [
    "### 条件指定:Query DSLの共通的な説明"
   ]
  },
  {
   "cell_type": "markdown",
   "metadata": {
    "lc_cell_meme": {
     "current": "457c88f6-152a-11e7-b31a-0242ac12000d",
     "next": "457c8acc-152a-11e7-b31a-0242ac12000d",
     "previous": "457c8720-152a-11e7-b31a-0242ac12000d"
    }
   },
   "source": [
    "Elasticsearchに操作を行う際、HTTPのボディはQuery DSL(Domain Specific Language)と呼ばれる独自言語で記述します。\n",
    "\n",
    "JSONの第一階層に、size(取得サイズ)、query(条件)といったパラメータを指定します。  \n",
    "第二階層以下の階層については、第一階層毎に異なるため、個々の条件の説明で記載します。  \n",
    "パラメータは複数設定することができます。"
   ]
  },
  {
   "cell_type": "raw",
   "metadata": {
    "lc_cell_meme": {
     "current": "457c8acc-152a-11e7-b31a-0242ac12000d",
     "next": "457c8ca2-152a-11e7-b31a-0242ac12000d",
     "previous": "457c88f6-152a-11e7-b31a-0242ac12000d"
    }
   },
   "source": [
    "curl -XGET \"http://<ホスト名>:<ポート番号>/<インデックス名>/_search?pretty\" -d '{\n",
    "  \"<パラメータ1>\": <パラメータ1の詳細>,\n",
    "  \"<パラメータ2>\": <パラメータ2の詳細>\n",
    "  }\n",
    "}'"
   ]
  },
  {
   "cell_type": "markdown",
   "metadata": {
    "lc_cell_meme": {
     "current": "457c8ca2-152a-11e7-b31a-0242ac12000d",
     "next": "457c8e6e-152a-11e7-b31a-0242ac12000d",
     "previous": "457c8acc-152a-11e7-b31a-0242ac12000d"
    }
   },
   "source": [
    "第一階層に複数のパラメータを設定することで、「条件と取得サイズを指定」のような検索を行うことができます。"
   ]
  },
  {
   "cell_type": "raw",
   "metadata": {
    "lc_cell_meme": {
     "current": "457c8e6e-152a-11e7-b31a-0242ac12000d",
     "next": "457c9044-152a-11e7-b31a-0242ac12000d",
     "previous": "457c8ca2-152a-11e7-b31a-0242ac12000d"
    }
   },
   "source": [
    "curl -XGET \"http://<ホスト名>:<ポート番号>/<インデックス名>/_search?pretty\" -d '{\n",
    "  \"size\": <取得サイズ>,\n",
    "  \"query\": <条件>\n",
    "  }\n",
    "}'"
   ]
  },
  {
   "cell_type": "markdown",
   "metadata": {
    "lc_cell_meme": {
     "current": "457c9044-152a-11e7-b31a-0242ac12000d",
     "next": "457c9210-152a-11e7-b31a-0242ac12000d",
     "previous": "457c8e6e-152a-11e7-b31a-0242ac12000d"
    }
   },
   "source": [
    "詳細は、Elasticsearch Referenceの[Request Body Search](https://www.elastic.co/guide/en/elasticsearch/reference/5.0/search-request-body.html)を参照してください。"
   ]
  },
  {
   "cell_type": "markdown",
   "metadata": {
    "lc_cell_meme": {
     "current": "457c9210-152a-11e7-b31a-0242ac12000d",
     "next": "457c93e6-152a-11e7-b31a-0242ac12000d",
     "previous": "457c9044-152a-11e7-b31a-0242ac12000d"
    }
   },
   "source": [
    "### 条件指定:単数値で検索"
   ]
  },
  {
   "cell_type": "markdown",
   "metadata": {
    "lc_cell_meme": {
     "current": "457c93e6-152a-11e7-b31a-0242ac12000d",
     "next": "457c95b2-152a-11e7-b31a-0242ac12000d",
     "previous": "457c9210-152a-11e7-b31a-0242ac12000d"
    }
   },
   "source": [
    "特定のフィールドの値を指定する場合、\"term\"に続いてフィールド名と値を記述します。\n"
   ]
  },
  {
   "cell_type": "raw",
   "metadata": {
    "lc_cell_meme": {
     "current": "457c95b2-152a-11e7-b31a-0242ac12000d",
     "next": "457c97b0-152a-11e7-b31a-0242ac12000d",
     "previous": "457c93e6-152a-11e7-b31a-0242ac12000d"
    }
   },
   "source": [
    "curl -XGET \"http://<ホスト名>:<ポート番号>/<インデックス名>/_search?pretty\" -d '{\n",
    "  \"query\": {\n",
    "    \"term\" : {\n",
    "      \"フィールド名\": \"値\"\n",
    "    }\n",
    "  }\n",
    "}'"
   ]
  },
  {
   "cell_type": "markdown",
   "metadata": {
    "cell_style": "center",
    "lc_cell_meme": {
     "current": "457c97b0-152a-11e7-b31a-0242ac12000d",
     "next": "457c997c-152a-11e7-b31a-0242ac12000d",
     "previous": "457c95b2-152a-11e7-b31a-0242ac12000d"
    }
   },
   "source": [
    "詳細は、Elasticsearch Referenceの[Term Query](https://www.elastic.co/guide/en/elasticsearch/reference/current/query-dsl-term-query.html)を参照してください。"
   ]
  },
  {
   "cell_type": "markdown",
   "metadata": {
    "lc_cell_meme": {
     "current": "457c997c-152a-11e7-b31a-0242ac12000d",
     "next": "457c9b52-152a-11e7-b31a-0242ac12000d",
     "previous": "457c97b0-152a-11e7-b31a-0242ac12000d"
    }
   },
   "source": [
    "locationが「tokyo」のドキュメントを検索するコマンドは次の通りです。"
   ]
  },
  {
   "cell_type": "code",
   "execution_count": 8,
   "metadata": {
    "lc_cell_meme": {
     "current": "457c9b52-152a-11e7-b31a-0242ac12000d",
     "next": "457c9d1e-152a-11e7-b31a-0242ac12000d",
     "previous": "457c997c-152a-11e7-b31a-0242ac12000d"
    }
   },
   "outputs": [
    {
     "name": "stdout",
     "output_type": "stream",
     "text": [
      "{\n",
      "  \"took\" : 3,\n",
      "  \"timed_out\" : false,\n",
      "  \"_shards\" : {\n",
      "    \"total\" : 13,\n",
      "    \"successful\" : 13,\n",
      "    \"failed\" : 0\n",
      "  },\n",
      "  \"hits\" : {\n",
      "    \"total\" : 358,\n",
      "    \"max_score\" : 0.017391743,\n",
      "    \"hits\" : [\n",
      "      {\n",
      "        \"_index\" : \"meteorological-data-2015.02\",\n",
      "        \"_type\" : \"logs\",\n",
      "        \"_id\" : \"tokyo_15-02-01\",\n",
      "        \"_score\" : 0.017391743,\n",
      "        \"_source\" : {\n",
      "          \"date\" : \"15-02-01\",\n",
      "          \"wind_speed_avg\" : \"5.5\",\n",
      "          \"snowfall\" : null,\n",
      "          \"temperature_max\" : \"8.6\",\n",
      "          \"precipitation_day\" : null,\n",
      "          \"wind_speed_max\" : \"10.4\",\n",
      "          \"sunshine_duration\" : \"9.6\",\n",
      "          \"temperature_avg\" : \"4.0\",\n",
      "          \"temperature_min\" : \"0.7\",\n",
      "          \"@version\" : \"1\",\n",
      "          \"wind_direction_max_moment\" : \"北西\",\n",
      "          \"information_night\" : \"晴\",\n",
      "          \"precipitation_max_10min\" : null,\n",
      "          \"precipitation_max_hour\" : null,\n",
      "          \"wind_direction\" : \"北西\",\n",
      "          \"information_daytime\" : \"晴\",\n",
      "          \"@timestamp\" : \"2015-02-01T00:00:00.000Z\",\n",
      "          \"humidity_avg\" : \"32.0\",\n",
      "          \"humidity_min\" : \"22.0\",\n",
      "          \"atmospheric_pressure\" : \"1016.5\",\n",
      "          \"location\" : \"tokyo\",\n",
      "          \"wind_speed_max_moment\" : \"17.3\",\n",
      "          \"snowfall_max\" : null,\n",
      "          \"sea_level_pressure\" : \"1019.5\"\n",
      "        }\n",
      "      },\n",
      "      {\n",
      "        \"_index\" : \"meteorological-data-2015.02\",\n",
      "        \"_type\" : \"logs\",\n",
      "        \"_id\" : \"tokyo_15-02-02\",\n",
      "        \"_score\" : 0.017391743,\n",
      "        \"_source\" : {\n",
      "          \"date\" : \"15-02-02\",\n",
      "          \"wind_speed_avg\" : \"4.7\",\n",
      "          \"snowfall\" : null,\n",
      "          \"temperature_max\" : \"9.6\",\n",
      "          \"precipitation_day\" : null,\n",
      "          \"wind_speed_max\" : \"9.1\",\n",
      "          \"sunshine_duration\" : \"9.6\",\n",
      "          \"temperature_avg\" : \"4.7\",\n",
      "          \"temperature_min\" : \"1.0\",\n",
      "          \"@version\" : \"1\",\n",
      "          \"wind_direction_max_moment\" : \"西\",\n",
      "          \"information_night\" : null,\n",
      "          \"precipitation_max_10min\" : null,\n",
      "          \"precipitation_max_hour\" : null,\n",
      "          \"wind_direction\" : \"西\",\n",
      "          \"information_daytime\" : \"晴\",\n",
      "          \"@timestamp\" : \"2015-02-02T00:00:00.000Z\",\n",
      "          \"humidity_avg\" : \"34.0\",\n",
      "          \"humidity_min\" : \"22.0\",\n",
      "          \"atmospheric_pressure\" : \"1018.8\",\n",
      "          \"location\" : \"tokyo\",\n",
      "          \"wind_speed_max_moment\" : \"15.4\",\n",
      "          \"snowfall_max\" : null,\n",
      "          \"sea_level_pressure\" : \"1021.8\"\n",
      "        }\n",
      "      },\n",
      "      {\n",
      "        \"_index\" : \"meteorological-data-2015.02\",\n",
      "        \"_type\" : \"logs\",\n",
      "        \"_id\" : \"tokyo_15-02-03\",\n",
      "        \"_score\" : 0.017391743,\n",
      "        \"_source\" : {\n",
      "          \"date\" : \"15-02-03\",\n",
      "          \"wind_speed_avg\" : \"2.5\",\n",
      "          \"snowfall\" : null,\n",
      "          \"temperature_max\" : \"10.3\",\n",
      "          \"precipitation_day\" : null,\n",
      "          \"wind_speed_max\" : \"4.8\",\n",
      "          \"sunshine_duration\" : \"9.4\",\n",
      "          \"temperature_avg\" : \"4.7\",\n",
      "          \"temperature_min\" : \"0.4\",\n",
      "          \"@version\" : \"1\",\n",
      "          \"wind_direction_max_moment\" : \"北西\",\n",
      "          \"information_night\" : \"時々曇\",\n",
      "          \"precipitation_max_10min\" : null,\n",
      "          \"precipitation_max_hour\" : null,\n",
      "          \"wind_direction\" : \"北西\",\n",
      "          \"information_daytime\" : null,\n",
      "          \"@timestamp\" : \"2015-02-03T00:00:00.000Z\",\n",
      "          \"humidity_avg\" : \"42.0\",\n",
      "          \"humidity_min\" : \"29.0\",\n",
      "          \"atmospheric_pressure\" : \"1019.2\",\n",
      "          \"location\" : \"tokyo\",\n",
      "          \"wind_speed_max_moment\" : \"9.2\",\n",
      "          \"snowfall_max\" : null,\n",
      "          \"sea_level_pressure\" : \"1022.2\"\n",
      "        }\n",
      "      },\n",
      "      {\n",
      "        \"_index\" : \"meteorological-data-2015.02\",\n",
      "        \"_type\" : \"logs\",\n",
      "        \"_id\" : \"tokyo_15-02-04\",\n",
      "        \"_score\" : 0.017391743,\n",
      "        \"_source\" : {\n",
      "          \"date\" : \"15-02-04\",\n",
      "          \"wind_speed_avg\" : \"2.3\",\n",
      "          \"snowfall\" : null,\n",
      "          \"temperature_max\" : \"9.6\",\n",
      "          \"precipitation_day\" : null,\n",
      "          \"wind_speed_max\" : \"4.4\",\n",
      "          \"sunshine_duration\" : \"7.6\",\n",
      "          \"temperature_avg\" : \"5.2\",\n",
      "          \"temperature_min\" : \"1.1\",\n",
      "          \"@version\" : \"1\",\n",
      "          \"wind_direction_max_moment\" : null,\n",
      "          \"information_night\" : null,\n",
      "          \"precipitation_max_10min\" : null,\n",
      "          \"precipitation_max_hour\" : null,\n",
      "          \"wind_direction\" : null,\n",
      "          \"information_daytime\" : \"後時々薄曇\",\n",
      "          \"@timestamp\" : \"2015-02-04T00:00:00.000Z\",\n",
      "          \"humidity_avg\" : \"49.0\",\n",
      "          \"humidity_min\" : \"28.0\",\n",
      "          \"atmospheric_pressure\" : \"1017.2\",\n",
      "          \"location\" : \"tokyo\",\n",
      "          \"wind_speed_max_moment\" : \"7.6\",\n",
      "          \"snowfall_max\" : null,\n",
      "          \"sea_level_pressure\" : \"1020.2\"\n",
      "        }\n",
      "      },\n",
      "      {\n",
      "        \"_index\" : \"meteorological-data-2015.02\",\n",
      "        \"_type\" : \"logs\",\n",
      "        \"_id\" : \"tokyo_15-02-05\",\n",
      "        \"_score\" : 0.017391743,\n",
      "        \"_source\" : {\n",
      "          \"date\" : \"15-02-05\",\n",
      "          \"wind_speed_avg\" : \"2.5\",\n",
      "          \"snowfall\" : null,\n",
      "          \"temperature_max\" : \"5.1\",\n",
      "          \"precipitation_day\" : \"9.0\",\n",
      "          \"wind_speed_max\" : \"4.8\",\n",
      "          \"sunshine_duration\" : \"0\",\n",
      "          \"temperature_avg\" : \"2.6\",\n",
      "          \"temperature_min\" : \"1.1\",\n",
      "          \"@version\" : \"1\",\n",
      "          \"wind_direction_max_moment\" : null,\n",
      "          \"information_night\" : \"後晴\",\n",
      "          \"precipitation_max_10min\" : \"0.5\",\n",
      "          \"precipitation_max_hour\" : \"2.0\",\n",
      "          \"wind_direction\" : \"北西\",\n",
      "          \"information_daytime\" : \"時々みぞれ\",\n",
      "          \"@timestamp\" : \"2015-02-05T00:00:00.000Z\",\n",
      "          \"humidity_avg\" : \"87.0\",\n",
      "          \"humidity_min\" : \"58.0\",\n",
      "          \"atmospheric_pressure\" : \"1011.0\",\n",
      "          \"location\" : \"tokyo\",\n",
      "          \"wind_speed_max_moment\" : \"7.3\",\n",
      "          \"snowfall_max\" : null,\n",
      "          \"sea_level_pressure\" : \"1014.0\"\n",
      "        }\n",
      "      },\n",
      "      {\n",
      "        \"_index\" : \"meteorological-data-2015.02\",\n",
      "        \"_type\" : \"logs\",\n",
      "        \"_id\" : \"tokyo_15-02-06\",\n",
      "        \"_score\" : 0.017391743,\n",
      "        \"_source\" : {\n",
      "          \"date\" : \"15-02-06\",\n",
      "          \"wind_speed_avg\" : \"2.8\",\n",
      "          \"snowfall\" : null,\n",
      "          \"temperature_max\" : \"12.0\",\n",
      "          \"precipitation_day\" : \"0\",\n",
      "          \"wind_speed_max\" : \"5.9\",\n",
      "          \"sunshine_duration\" : \"8.9\",\n",
      "          \"temperature_avg\" : \"5.4\",\n",
      "          \"temperature_min\" : \"-0.3\",\n",
      "          \"@version\" : \"1\",\n",
      "          \"wind_direction_max_moment\" : \"北西\",\n",
      "          \"information_night\" : \"晴\",\n",
      "          \"precipitation_max_10min\" : \"0\",\n",
      "          \"precipitation_max_hour\" : \"0\",\n",
      "          \"wind_direction\" : \"北西\",\n",
      "          \"information_daytime\" : \"晴\",\n",
      "          \"@timestamp\" : \"2015-02-06T00:00:00.000Z\",\n",
      "          \"humidity_avg\" : \"60.0\",\n",
      "          \"humidity_min\" : \"23.0\",\n",
      "          \"atmospheric_pressure\" : \"1013.4\",\n",
      "          \"location\" : \"tokyo\",\n",
      "          \"wind_speed_max_moment\" : \"10.5\",\n",
      "          \"snowfall_max\" : null,\n",
      "          \"sea_level_pressure\" : \"1016.4\"\n",
      "        }\n",
      "      },\n",
      "      {\n",
      "        \"_index\" : \"meteorological-data-2015.02\",\n",
      "        \"_type\" : \"logs\",\n",
      "        \"_id\" : \"tokyo_15-02-07\",\n",
      "        \"_score\" : 0.017391743,\n",
      "        \"_source\" : {\n",
      "          \"date\" : \"15-02-07\",\n",
      "          \"wind_speed_avg\" : \"2.4\",\n",
      "          \"snowfall\" : null,\n",
      "          \"temperature_max\" : \"9.6\",\n",
      "          \"precipitation_day\" : \"1.5\",\n",
      "          \"wind_speed_max\" : \"5.9\",\n",
      "          \"sunshine_duration\" : \"3.6\",\n",
      "          \"temperature_avg\" : \"5.3\",\n",
      "          \"temperature_min\" : \"1.2\",\n",
      "          \"@version\" : \"1\",\n",
      "          \"wind_direction_max_moment\" : \"東\",\n",
      "          \"information_night\" : \"後曇一時晴\",\n",
      "          \"precipitation_max_10min\" : \"0.5\",\n",
      "          \"precipitation_max_hour\" : \"1.0\",\n",
      "          \"wind_direction\" : \"東\",\n",
      "          \"information_daytime\" : null,\n",
      "          \"@timestamp\" : \"2015-02-07T00:00:00.000Z\",\n",
      "          \"humidity_avg\" : \"60.0\",\n",
      "          \"humidity_min\" : \"32.0\",\n",
      "          \"atmospheric_pressure\" : \"1019.2\",\n",
      "          \"location\" : \"tokyo\",\n",
      "          \"wind_speed_max_moment\" : \"9.7\",\n",
      "          \"snowfall_max\" : null,\n",
      "          \"sea_level_pressure\" : \"1022.3\"\n",
      "        }\n",
      "      },\n",
      "      {\n",
      "        \"_index\" : \"meteorological-data-2015.02\",\n",
      "        \"_type\" : \"logs\",\n",
      "        \"_id\" : \"tokyo_15-02-08\",\n",
      "        \"_score\" : 0.017391743,\n",
      "        \"_source\" : {\n",
      "          \"date\" : \"15-02-08\",\n",
      "          \"wind_speed_avg\" : \"1.9\",\n",
      "          \"snowfall\" : null,\n",
      "          \"temperature_max\" : \"6.8\",\n",
      "          \"precipitation_day\" : \"6.0\",\n",
      "          \"wind_speed_max\" : \"4.6\",\n",
      "          \"sunshine_duration\" : \"0.3\",\n",
      "          \"temperature_avg\" : \"4.0\",\n",
      "          \"temperature_min\" : \"2.0\",\n",
      "          \"@version\" : \"1\",\n",
      "          \"wind_direction_max_moment\" : \"西\",\n",
      "          \"information_night\" : \"時々曇\",\n",
      "          \"precipitation_max_10min\" : \"1.0\",\n",
      "          \"precipitation_max_hour\" : \"3.0\",\n",
      "          \"wind_direction\" : \"西\",\n",
      "          \"information_daytime\" : \"一時雨\",\n",
      "          \"@timestamp\" : \"2015-02-08T00:00:00.000Z\",\n",
      "          \"humidity_avg\" : \"87.0\",\n",
      "          \"humidity_min\" : \"66.0\",\n",
      "          \"atmospheric_pressure\" : \"1007.4\",\n",
      "          \"location\" : \"tokyo\",\n",
      "          \"wind_speed_max_moment\" : \"8.5\",\n",
      "          \"snowfall_max\" : null,\n",
      "          \"sea_level_pressure\" : \"1010.4\"\n",
      "        }\n",
      "      },\n",
      "      {\n",
      "        \"_index\" : \"meteorological-data-2015.02\",\n",
      "        \"_type\" : \"logs\",\n",
      "        \"_id\" : \"tokyo_15-02-09\",\n",
      "        \"_score\" : 0.017391743,\n",
      "        \"_source\" : {\n",
      "          \"date\" : \"15-02-09\",\n",
      "          \"wind_speed_avg\" : \"3.2\",\n",
      "          \"snowfall\" : null,\n",
      "          \"temperature_max\" : \"4.9\",\n",
      "          \"precipitation_day\" : null,\n",
      "          \"wind_speed_max\" : \"7.0\",\n",
      "          \"sunshine_duration\" : \"1.7\",\n",
      "          \"temperature_avg\" : \"2.0\",\n",
      "          \"temperature_min\" : \"-0.6\",\n",
      "          \"@version\" : \"1\",\n",
      "          \"wind_direction_max_moment\" : \"北西\",\n",
      "          \"information_night\" : null,\n",
      "          \"precipitation_max_10min\" : null,\n",
      "          \"precipitation_max_hour\" : null,\n",
      "          \"wind_direction\" : \"北西\",\n",
      "          \"information_daytime\" : \"後時々晴\",\n",
      "          \"@timestamp\" : \"2015-02-09T00:00:00.000Z\",\n",
      "          \"humidity_avg\" : \"49.0\",\n",
      "          \"humidity_min\" : \"26.0\",\n",
      "          \"atmospheric_pressure\" : \"1007.3\",\n",
      "          \"location\" : \"tokyo\",\n",
      "          \"wind_speed_max_moment\" : \"15.1\",\n",
      "          \"snowfall_max\" : null,\n",
      "          \"sea_level_pressure\" : \"1010.3\"\n",
      "        }\n",
      "      },\n",
      "      {\n",
      "        \"_index\" : \"meteorological-data-2015.02\",\n",
      "        \"_type\" : \"logs\",\n",
      "        \"_id\" : \"tokyo_15-02-10\",\n",
      "        \"_score\" : 0.017391743,\n",
      "        \"_source\" : {\n",
      "          \"date\" : \"15-02-10\",\n",
      "          \"wind_speed_avg\" : \"2.2\",\n",
      "          \"snowfall\" : null,\n",
      "          \"temperature_max\" : \"8.1\",\n",
      "          \"precipitation_day\" : null,\n",
      "          \"wind_speed_max\" : \"5.0\",\n",
      "          \"sunshine_duration\" : \"9.6\",\n",
      "          \"temperature_avg\" : \"3.2\",\n",
      "          \"temperature_min\" : \"-2.4\",\n",
      "          \"@version\" : \"1\",\n",
      "          \"wind_direction_max_moment\" : \"南東\",\n",
      "          \"information_night\" : \"晴\",\n",
      "          \"precipitation_max_10min\" : null,\n",
      "          \"precipitation_max_hour\" : null,\n",
      "          \"wind_direction\" : \"南東\",\n",
      "          \"information_daytime\" : \"晴\",\n",
      "          \"@timestamp\" : \"2015-02-10T00:00:00.000Z\",\n",
      "          \"humidity_avg\" : \"49.0\",\n",
      "          \"humidity_min\" : \"25.0\",\n",
      "          \"atmospheric_pressure\" : \"1008.3\",\n",
      "          \"location\" : \"tokyo\",\n",
      "          \"wind_speed_max_moment\" : \"8.0\",\n",
      "          \"snowfall_max\" : null,\n",
      "          \"sea_level_pressure\" : \"1011.3\"\n",
      "        }\n",
      "      }\n",
      "    ]\n",
      "  }\n",
      "}\n"
     ]
    },
    {
     "name": "stderr",
     "output_type": "stream",
     "text": [
      "  % Total    % Received % Xferd  Average Speed   Time    Time     Time  Current\n",
      "                                 Dload  Upload   Total   Spent    Left  Speed\n",
      "\r",
      "  0     0    0     0    0     0      0      0 --:--:-- --:--:-- --:--:--     0\r",
      "100 11437  100 11382  100    55   653k   3234 --:--:-- --:--:-- --:--:--  694k\n"
     ]
    }
   ],
   "source": [
    "%%bash\n",
    "curl -XGET \"http://$ES_HOST/$INDEX/_search?pretty\" -d @- << EOF\n",
    "{\n",
    "  \"query\": {\n",
    "    \"term\" : { \"location\" : \"tokyo\" } \n",
    "  }\n",
    "}\n",
    "EOF"
   ]
  },
  {
   "cell_type": "markdown",
   "metadata": {
    "lc_cell_meme": {
     "current": "457c9d1e-152a-11e7-b31a-0242ac12000d",
     "next": "457c9f30-152a-11e7-b31a-0242ac12000d",
     "previous": "457c9b52-152a-11e7-b31a-0242ac12000d"
    }
   },
   "source": [
    "### 条件指定:複数値で検索"
   ]
  },
  {
   "cell_type": "markdown",
   "metadata": {
    "lc_cell_meme": {
     "current": "457c9f30-152a-11e7-b31a-0242ac12000d",
     "next": "457ca110-152a-11e7-b31a-0242ac12000d",
     "previous": "457c9d1e-152a-11e7-b31a-0242ac12000d"
    }
   },
   "source": [
    "特定のフィールドの複数値を指定する場合、\"terms\"に続いてフィールド名と複数の値を記述します。"
   ]
  },
  {
   "cell_type": "raw",
   "metadata": {
    "lc_cell_meme": {
     "current": "457ca110-152a-11e7-b31a-0242ac12000d",
     "next": "457ca2dc-152a-11e7-b31a-0242ac12000d",
     "previous": "457c9f30-152a-11e7-b31a-0242ac12000d"
    }
   },
   "source": [
    "curl -XGET \"http://<ホスト名>:<ポート番号>/<インデックス名>/_search?pretty\" -d '{\n",
    "  \"query\": {\n",
    "    \"terms\" : {\n",
    "      \"フィールド名\": [\"値1\", \"値2\"]\n",
    "    }\n",
    "  }\n",
    "}'"
   ]
  },
  {
   "cell_type": "markdown",
   "metadata": {
    "lc_cell_meme": {
     "current": "457ca2dc-152a-11e7-b31a-0242ac12000d",
     "next": "457ca4b2-152a-11e7-b31a-0242ac12000d",
     "previous": "457ca110-152a-11e7-b31a-0242ac12000d"
    }
   },
   "source": [
    "単数値は\"term\"を指定していたのに対し、複数値では\"term**s**\"と複数形になっている点に注意してください。\n",
    "また、検索する値は配列で指定します。\n",
    "詳細は、Elasticsearch Referenceの[Terms Query](https://www.elastic.co/guide/en/elasticsearch/reference/current/query-dsl-terms-query.html)を参照してください。"
   ]
  },
  {
   "cell_type": "markdown",
   "metadata": {
    "lc_cell_meme": {
     "current": "457ca4b2-152a-11e7-b31a-0242ac12000d",
     "next": "457ca674-152a-11e7-b31a-0242ac12000d",
     "previous": "457ca2dc-152a-11e7-b31a-0242ac12000d"
    }
   },
   "source": [
    "wind_direction（風向き）が「西」と「東」のドキュメントを検索するコマンドは次の通りです。"
   ]
  },
  {
   "cell_type": "code",
   "execution_count": 9,
   "metadata": {
    "lc_cell_meme": {
     "current": "457ca674-152a-11e7-b31a-0242ac12000d",
     "next": "457ca84a-152a-11e7-b31a-0242ac12000d",
     "previous": "457ca4b2-152a-11e7-b31a-0242ac12000d"
    }
   },
   "outputs": [
    {
     "name": "stdout",
     "output_type": "stream",
     "text": [
      "{\n",
      "  \"took\" : 8,\n",
      "  \"timed_out\" : false,\n",
      "  \"_shards\" : {\n",
      "    \"total\" : 13,\n",
      "    \"successful\" : 13,\n",
      "    \"failed\" : 0\n",
      "  },\n",
      "  \"hits\" : {\n",
      "    \"total\" : 123,\n",
      "    \"max_score\" : 2.8134108,\n",
      "    \"hits\" : [\n",
      "      {\n",
      "        \"_index\" : \"meteorological-data-2015.04\",\n",
      "        \"_type\" : \"logs\",\n",
      "        \"_id\" : \"tokyo_15-04-14\",\n",
      "        \"_score\" : 2.8134108,\n",
      "        \"_source\" : {\n",
      "          \"date\" : \"15-04-14\",\n",
      "          \"wind_speed_avg\" : \"2.0\",\n",
      "          \"snowfall\" : null,\n",
      "          \"temperature_max\" : \"14.1\",\n",
      "          \"precipitation_day\" : \"22.5\",\n",
      "          \"wind_speed_max\" : \"4.8\",\n",
      "          \"sunshine_duration\" : \"0\",\n",
      "          \"temperature_avg\" : \"12.1\",\n",
      "          \"temperature_min\" : \"9.3\",\n",
      "          \"@version\" : \"1\",\n",
      "          \"wind_direction_max_moment\" : \"西\",\n",
      "          \"information_night\" : \"後一時晴\",\n",
      "          \"precipitation_max_10min\" : \"2.0\",\n",
      "          \"precipitation_max_hour\" : \"6.5\",\n",
      "          \"wind_direction\" : \"西\",\n",
      "          \"information_daytime\" : \"一時曇\",\n",
      "          \"@timestamp\" : \"2015-04-14T00:00:00.000Z\",\n",
      "          \"humidity_avg\" : \"96.0\",\n",
      "          \"humidity_min\" : \"86.0\",\n",
      "          \"atmospheric_pressure\" : \"1007.7\",\n",
      "          \"location\" : \"tokyo\",\n",
      "          \"wind_speed_max_moment\" : \"8.0\",\n",
      "          \"snowfall_max\" : null,\n",
      "          \"sea_level_pressure\" : \"1010.6\"\n",
      "        }\n",
      "      },\n",
      "      {\n",
      "        \"_index\" : \"meteorological-data-2015.07\",\n",
      "        \"_type\" : \"logs\",\n",
      "        \"_id\" : \"tokyo_15-07-03\",\n",
      "        \"_score\" : 2.8134108,\n",
      "        \"_source\" : {\n",
      "          \"date\" : \"15-07-03\",\n",
      "          \"wind_speed_avg\" : \"2.0\",\n",
      "          \"snowfall\" : null,\n",
      "          \"temperature_max\" : \"23.4\",\n",
      "          \"precipitation_day\" : \"67.5\",\n",
      "          \"wind_speed_max\" : \"4.0\",\n",
      "          \"sunshine_duration\" : \"0\",\n",
      "          \"temperature_avg\" : \"21.9\",\n",
      "          \"temperature_min\" : \"20.8\",\n",
      "          \"@version\" : \"1\",\n",
      "          \"wind_direction_max_moment\" : \"西\",\n",
      "          \"information_night\" : \"後一時曇\",\n",
      "          \"precipitation_max_10min\" : \"4.0\",\n",
      "          \"precipitation_max_hour\" : \"12.0\",\n",
      "          \"wind_direction\" : \"西\",\n",
      "          \"information_daytime\" : \"雨後一時曇\",\n",
      "          \"@timestamp\" : \"2015-07-03T00:00:00.000Z\",\n",
      "          \"humidity_avg\" : \"99.0\",\n",
      "          \"humidity_min\" : \"89.0\",\n",
      "          \"atmospheric_pressure\" : \"1003.1\",\n",
      "          \"location\" : \"tokyo\",\n",
      "          \"wind_speed_max_moment\" : \"7.2\",\n",
      "          \"snowfall_max\" : null,\n",
      "          \"sea_level_pressure\" : \"1005.9\"\n",
      "        }\n",
      "      },\n",
      "      {\n",
      "        \"_index\" : \"meteorological-data-2015.12\",\n",
      "        \"_type\" : \"logs\",\n",
      "        \"_id\" : \"tokyo_15-12-08\",\n",
      "        \"_score\" : 2.5494452,\n",
      "        \"_source\" : {\n",
      "          \"date\" : \"15-12-08\",\n",
      "          \"wind_speed_avg\" : \"2.4\",\n",
      "          \"snowfall\" : null,\n",
      "          \"temperature_max\" : \"11.3\",\n",
      "          \"precipitation_day\" : \"0\",\n",
      "          \"wind_speed_max\" : \"4.0\",\n",
      "          \"sunshine_duration\" : \"2.3\",\n",
      "          \"temperature_avg\" : \"8.0\",\n",
      "          \"temperature_min\" : \"5.7\",\n",
      "          \"@version\" : \"1\",\n",
      "          \"wind_direction_max_moment\" : \"東\",\n",
      "          \"information_night\" : \"晴\",\n",
      "          \"precipitation_max_10min\" : \"0\",\n",
      "          \"precipitation_max_hour\" : \"0\",\n",
      "          \"wind_direction\" : \"東\",\n",
      "          \"information_daytime\" : \"後晴\",\n",
      "          \"@timestamp\" : \"2015-12-08T00:00:00.000Z\",\n",
      "          \"humidity_avg\" : \"60.0\",\n",
      "          \"humidity_min\" : \"42.0\",\n",
      "          \"atmospheric_pressure\" : \"1025.6\",\n",
      "          \"location\" : \"tokyo\",\n",
      "          \"wind_speed_max_moment\" : \"6.9\",\n",
      "          \"snowfall_max\" : null,\n",
      "          \"sea_level_pressure\" : \"1028.6\"\n",
      "        }\n",
      "      },\n",
      "      {\n",
      "        \"_index\" : \"meteorological-data-2015.12\",\n",
      "        \"_type\" : \"logs\",\n",
      "        \"_id\" : \"tokyo_15-12-24\",\n",
      "        \"_score\" : 2.5494452,\n",
      "        \"_source\" : {\n",
      "          \"date\" : \"15-12-24\",\n",
      "          \"wind_speed_avg\" : \"2.3\",\n",
      "          \"snowfall\" : null,\n",
      "          \"temperature_max\" : \"15.4\",\n",
      "          \"precipitation_day\" : \"5.0\",\n",
      "          \"wind_speed_max\" : \"4.4\",\n",
      "          \"sunshine_duration\" : \"3.9\",\n",
      "          \"temperature_avg\" : \"10.3\",\n",
      "          \"temperature_min\" : \"5.5\",\n",
      "          \"@version\" : \"1\",\n",
      "          \"wind_direction_max_moment\" : \"南東\",\n",
      "          \"information_night\" : \"後一時晴\",\n",
      "          \"precipitation_max_10min\" : \"0.5\",\n",
      "          \"precipitation_max_hour\" : \"2.0\",\n",
      "          \"wind_direction\" : \"東\",\n",
      "          \"information_daytime\" : \"後時々晴\",\n",
      "          \"@timestamp\" : \"2015-12-24T00:00:00.000Z\",\n",
      "          \"humidity_avg\" : \"82.0\",\n",
      "          \"humidity_min\" : \"62.0\",\n",
      "          \"atmospheric_pressure\" : \"1009.8\",\n",
      "          \"location\" : \"tokyo\",\n",
      "          \"wind_speed_max_moment\" : \"7.1\",\n",
      "          \"snowfall_max\" : null,\n",
      "          \"sea_level_pressure\" : \"1012.7\"\n",
      "        }\n",
      "      },\n",
      "      {\n",
      "        \"_index\" : \"meteorological-data-2015.01\",\n",
      "        \"_type\" : \"logs\",\n",
      "        \"_id\" : \"tokyo_15-01-16\",\n",
      "        \"_score\" : 2.451005,\n",
      "        \"_source\" : {\n",
      "          \"date\" : \"15-01-16\",\n",
      "          \"wind_speed_avg\" : \"2.8\",\n",
      "          \"snowfall\" : null,\n",
      "          \"temperature_max\" : \"13.2\",\n",
      "          \"precipitation_day\" : \"0\",\n",
      "          \"wind_speed_max\" : \"5.7\",\n",
      "          \"sunshine_duration\" : \"6.9\",\n",
      "          \"temperature_avg\" : \"8.9\",\n",
      "          \"temperature_min\" : \"4.9\",\n",
      "          \"@version\" : \"1\",\n",
      "          \"wind_direction_max_moment\" : \"北西\",\n",
      "          \"information_night\" : \"後晴\",\n",
      "          \"precipitation_max_10min\" : \"0\",\n",
      "          \"precipitation_max_hour\" : \"0\",\n",
      "          \"wind_direction\" : \"東\",\n",
      "          \"information_daytime\" : \"後曇\",\n",
      "          \"@timestamp\" : \"2015-01-16T00:00:00.000Z\",\n",
      "          \"humidity_avg\" : \"54.0\",\n",
      "          \"humidity_min\" : \"23.0\",\n",
      "          \"atmospheric_pressure\" : \"1009.7\",\n",
      "          \"location\" : \"tokyo\",\n",
      "          \"wind_speed_max_moment\" : \"10.7\",\n",
      "          \"snowfall_max\" : null,\n",
      "          \"sea_level_pressure\" : \"1012.6\"\n",
      "        }\n",
      "      },\n",
      "      {\n",
      "        \"_index\" : \"meteorological-data-2015.01\",\n",
      "        \"_type\" : \"logs\",\n",
      "        \"_id\" : \"tokyo_15-01-25\",\n",
      "        \"_score\" : 2.451005,\n",
      "        \"_source\" : {\n",
      "          \"date\" : \"15-01-25\",\n",
      "          \"wind_speed_avg\" : \"2.0\",\n",
      "          \"snowfall\" : null,\n",
      "          \"temperature_max\" : \"12.2\",\n",
      "          \"precipitation_day\" : null,\n",
      "          \"wind_speed_max\" : \"4.9\",\n",
      "          \"sunshine_duration\" : \"7.1\",\n",
      "          \"temperature_avg\" : \"7.0\",\n",
      "          \"temperature_min\" : \"0.9\",\n",
      "          \"@version\" : \"1\",\n",
      "          \"wind_direction_max_moment\" : \"南東\",\n",
      "          \"information_night\" : \"後一時雨\",\n",
      "          \"precipitation_max_10min\" : null,\n",
      "          \"precipitation_max_hour\" : null,\n",
      "          \"wind_direction\" : \"東\",\n",
      "          \"information_daytime\" : \"後薄曇\",\n",
      "          \"@timestamp\" : \"2015-01-25T00:00:00.000Z\",\n",
      "          \"humidity_avg\" : \"59.0\",\n",
      "          \"humidity_min\" : \"40.0\",\n",
      "          \"atmospheric_pressure\" : \"1024.3\",\n",
      "          \"location\" : \"tokyo\",\n",
      "          \"wind_speed_max_moment\" : \"8.2\",\n",
      "          \"snowfall_max\" : null,\n",
      "          \"sea_level_pressure\" : \"1027.3\"\n",
      "        }\n",
      "      },\n",
      "      {\n",
      "        \"_index\" : \"meteorological-data-2015.08\",\n",
      "        \"_type\" : \"logs\",\n",
      "        \"_id\" : \"tokyo_15-08-26\",\n",
      "        \"_score\" : 2.043074,\n",
      "        \"_source\" : {\n",
      "          \"date\" : \"15-08-26\",\n",
      "          \"wind_speed_avg\" : \"3.3\",\n",
      "          \"snowfall\" : null,\n",
      "          \"temperature_max\" : \"21.3\",\n",
      "          \"precipitation_day\" : \"35.5\",\n",
      "          \"wind_speed_max\" : \"5.3\",\n",
      "          \"sunshine_duration\" : \"0\",\n",
      "          \"temperature_avg\" : \"19.5\",\n",
      "          \"temperature_min\" : \"17.9\",\n",
      "          \"@version\" : \"1\",\n",
      "          \"wind_direction_max_moment\" : \"北西\",\n",
      "          \"information_night\" : \"時々雨後一時晴\",\n",
      "          \"precipitation_max_10min\" : \"3.0\",\n",
      "          \"precipitation_max_hour\" : \"10.0\",\n",
      "          \"wind_direction\" : \"西\",\n",
      "          \"information_daytime\" : null,\n",
      "          \"@timestamp\" : \"2015-08-26T00:00:00.000Z\",\n",
      "          \"humidity_avg\" : \"99.0\",\n",
      "          \"humidity_min\" : \"92.0\",\n",
      "          \"atmospheric_pressure\" : \"1004.9\",\n",
      "          \"location\" : \"tokyo\",\n",
      "          \"wind_speed_max_moment\" : \"10.2\",\n",
      "          \"snowfall_max\" : null,\n",
      "          \"sea_level_pressure\" : \"1007.7\"\n",
      "        }\n",
      "      },\n",
      "      {\n",
      "        \"_index\" : \"meteorological-data-2015.08\",\n",
      "        \"_type\" : \"logs\",\n",
      "        \"_id\" : \"tokyo_15-08-27\",\n",
      "        \"_score\" : 2.043074,\n",
      "        \"_source\" : {\n",
      "          \"date\" : \"15-08-27\",\n",
      "          \"wind_speed_avg\" : \"2.4\",\n",
      "          \"snowfall\" : null,\n",
      "          \"temperature_max\" : \"27.3\",\n",
      "          \"precipitation_day\" : \"0\",\n",
      "          \"wind_speed_max\" : \"4.0\",\n",
      "          \"sunshine_duration\" : \"1.3\",\n",
      "          \"temperature_avg\" : \"23.6\",\n",
      "          \"temperature_min\" : \"20.2\",\n",
      "          \"@version\" : \"1\",\n",
      "          \"wind_direction_max_moment\" : \"西\",\n",
      "          \"information_night\" : \"後一時雨\",\n",
      "          \"precipitation_max_10min\" : \"0\",\n",
      "          \"precipitation_max_hour\" : \"0\",\n",
      "          \"wind_direction\" : \"西\",\n",
      "          \"information_daytime\" : null,\n",
      "          \"@timestamp\" : \"2015-08-27T00:00:00.000Z\",\n",
      "          \"humidity_avg\" : \"81.0\",\n",
      "          \"humidity_min\" : \"61.0\",\n",
      "          \"atmospheric_pressure\" : \"1006.5\",\n",
      "          \"location\" : \"tokyo\",\n",
      "          \"wind_speed_max_moment\" : \"6.7\",\n",
      "          \"snowfall_max\" : null,\n",
      "          \"sea_level_pressure\" : \"1009.3\"\n",
      "        }\n",
      "      },\n",
      "      {\n",
      "        \"_index\" : \"meteorological-data-2015.08\",\n",
      "        \"_type\" : \"logs\",\n",
      "        \"_id\" : \"tokyo_15-08-29\",\n",
      "        \"_score\" : 2.043074,\n",
      "        \"_source\" : {\n",
      "          \"date\" : \"15-08-29\",\n",
      "          \"wind_speed_avg\" : \"2.4\",\n",
      "          \"snowfall\" : null,\n",
      "          \"temperature_max\" : \"21.0\",\n",
      "          \"precipitation_day\" : \"2.5\",\n",
      "          \"wind_speed_max\" : \"4.3\",\n",
      "          \"sunshine_duration\" : \"0\",\n",
      "          \"temperature_avg\" : \"20.0\",\n",
      "          \"temperature_min\" : \"19.1\",\n",
      "          \"@version\" : \"1\",\n",
      "          \"wind_direction_max_moment\" : null,\n",
      "          \"information_night\" : \"時々雨\",\n",
      "          \"precipitation_max_10min\" : \"0.5\",\n",
      "          \"precipitation_max_hour\" : \"1.0\",\n",
      "          \"wind_direction\" : \"西\",\n",
      "          \"information_daytime\" : \"後一時曇\",\n",
      "          \"@timestamp\" : \"2015-08-29T00:00:00.000Z\",\n",
      "          \"humidity_avg\" : \"98.0\",\n",
      "          \"humidity_min\" : \"91.0\",\n",
      "          \"atmospheric_pressure\" : \"1010.1\",\n",
      "          \"location\" : \"tokyo\",\n",
      "          \"wind_speed_max_moment\" : \"7.2\",\n",
      "          \"snowfall_max\" : null,\n",
      "          \"sea_level_pressure\" : \"1012.9\"\n",
      "        }\n",
      "      },\n",
      "      {\n",
      "        \"_index\" : \"meteorological-data-2015.11\",\n",
      "        \"_type\" : \"logs\",\n",
      "        \"_id\" : \"tokyo_15-11-01\",\n",
      "        \"_score\" : 2.043074,\n",
      "        \"_source\" : {\n",
      "          \"date\" : \"15-11-01\",\n",
      "          \"wind_speed_avg\" : \"1.7\",\n",
      "          \"snowfall\" : null,\n",
      "          \"temperature_max\" : \"17.4\",\n",
      "          \"precipitation_day\" : null,\n",
      "          \"wind_speed_max\" : \"3.0\",\n",
      "          \"sunshine_duration\" : \"8.6\",\n",
      "          \"temperature_avg\" : \"13.1\",\n",
      "          \"temperature_min\" : \"9.5\",\n",
      "          \"@version\" : \"1\",\n",
      "          \"wind_direction_max_moment\" : \"東\",\n",
      "          \"information_night\" : \"時々雨\",\n",
      "          \"precipitation_max_10min\" : null,\n",
      "          \"precipitation_max_hour\" : null,\n",
      "          \"wind_direction\" : \"東\",\n",
      "          \"information_daytime\" : \"曇時々晴\",\n",
      "          \"@timestamp\" : \"2015-11-01T00:00:00.000Z\",\n",
      "          \"humidity_avg\" : \"61.0\",\n",
      "          \"humidity_min\" : \"35.0\",\n",
      "          \"atmospheric_pressure\" : \"1023.0\",\n",
      "          \"location\" : \"tokyo\",\n",
      "          \"wind_speed_max_moment\" : \"5.3\",\n",
      "          \"snowfall_max\" : null,\n",
      "          \"sea_level_pressure\" : \"1025.9\"\n",
      "        }\n",
      "      }\n",
      "    ]\n",
      "  }\n",
      "}\n"
     ]
    },
    {
     "name": "stderr",
     "output_type": "stream",
     "text": [
      "  % Total    % Received % Xferd  Average Speed   Time    Time     Time  Current\n",
      "                                 Dload  Upload   Total   Spent    Left  Speed\n",
      "\r",
      "  0     0    0     0    0     0      0      0 --:--:-- --:--:-- --:--:--     0\r",
      "100 11494  100 11419  100    75   542k   3648 --:--:-- --:--:-- --:--:--  557k\n"
     ]
    }
   ],
   "source": [
    "%%bash\n",
    "curl -XGET \"http://$ES_HOST/$INDEX/_search?pretty\" -d @- << EOF\n",
    "{\n",
    "  \"query\": {\n",
    "    \"terms\" : {\n",
    "      \"wind_direction\": [\"西\", \"東\"]\n",
    "    }\n",
    "  }\n",
    "}\n",
    "EOF"
   ]
  },
  {
   "cell_type": "markdown",
   "metadata": {
    "lc_cell_meme": {
     "current": "457ca84a-152a-11e7-b31a-0242ac12000d",
     "next": "457caa16-152a-11e7-b31a-0242ac12000d",
     "previous": "457ca674-152a-11e7-b31a-0242ac12000d"
    }
   },
   "source": [
    "### 条件指定:範囲検索（数値）"
   ]
  },
  {
   "cell_type": "markdown",
   "metadata": {
    "lc_cell_meme": {
     "current": "457caa16-152a-11e7-b31a-0242ac12000d",
     "next": "457cabe2-152a-11e7-b31a-0242ac12000d",
     "previous": "457ca84a-152a-11e7-b31a-0242ac12000d"
    }
   },
   "source": [
    "特定のフィールドが取る数値の範囲を指定する場合、\"range\"を用います。"
   ]
  },
  {
   "cell_type": "raw",
   "metadata": {
    "lc_cell_meme": {
     "current": "457cabe2-152a-11e7-b31a-0242ac12000d",
     "next": "457cadae-152a-11e7-b31a-0242ac12000d",
     "previous": "457caa16-152a-11e7-b31a-0242ac12000d"
    }
   },
   "source": [
    "curl -XGET \"http://<ホスト名>:<ポート番号>/<インデックス名>/_search?pretty\" -d '{\n",
    "  \"query\": {\n",
    "    \"range\" : {\n",
    "      \"フィールド名\" : {\n",
    "        \"gte\" : 下限値,\n",
    "        \"lte\" : 上限値\n",
    "      }\n",
    "    }\n",
    "  }\n",
    "}'"
   ]
  },
  {
   "cell_type": "markdown",
   "metadata": {
    "lc_cell_meme": {
     "current": "457cadae-152a-11e7-b31a-0242ac12000d",
     "next": "457caf70-152a-11e7-b31a-0242ac12000d",
     "previous": "457cabe2-152a-11e7-b31a-0242ac12000d"
    }
   },
   "source": [
    "指定可能なパラメータは次の通りです。  \n",
    "どの項目も指定は任意であり、下限だけ指定するようなクエリも可能です。"
   ]
  },
  {
   "cell_type": "markdown",
   "metadata": {
    "lc_cell_meme": {
     "current": "457caf70-152a-11e7-b31a-0242ac12000d",
     "next": "457cb15a-152a-11e7-b31a-0242ac12000d",
     "previous": "457cadae-152a-11e7-b31a-0242ac12000d"
    }
   },
   "source": [
    "| パラメータ名 | 意味 |\n",
    "|--------------|------|\n",
    "|gte|「検索対象 ≧ 指定値」という条件。|\n",
    "|gt|「検索対象 ＞ 指定値」という条件。|\n",
    "|lte|「検索対象 ≦ 指定値」という条件。|\n",
    "|lt|「検索対象 ＜ 指定値」という条件。|\n",
    "|boost|検索結果に対する重みづけ。<br>詳細は、The Definitive Guideの[Query-Time Boosting](https://www.elastic.co/guide/en/elasticsearch/guide/current/query-time-boosting.html)を参照してください。|\n",
    "\n",
    "詳細は、Elasticsearch Referenceの[Range Query](https://www.elastic.co/guide/en/elasticsearch/reference/current/query-dsl-range-query.html)を参照してください。"
   ]
  },
  {
   "cell_type": "markdown",
   "metadata": {
    "lc_cell_meme": {
     "current": "457cb15a-152a-11e7-b31a-0242ac12000d",
     "next": "457cb330-152a-11e7-b31a-0242ac12000d",
     "previous": "457caf70-152a-11e7-b31a-0242ac12000d"
    }
   },
   "source": [
    "temperature_maxが「30℃以上」かつ「35℃未満」のドキュメントを検索するケース(2015年8月の真夏日を検索するケース)のコマンドは次の通りです。"
   ]
  },
  {
   "cell_type": "code",
   "execution_count": 10,
   "metadata": {
    "lc_cell_meme": {
     "current": "457cb330-152a-11e7-b31a-0242ac12000d",
     "next": "457cb4fc-152a-11e7-b31a-0242ac12000d",
     "previous": "457cb15a-152a-11e7-b31a-0242ac12000d"
    }
   },
   "outputs": [
    {
     "name": "stdout",
     "output_type": "stream",
     "text": [
      "{\n",
      "  \"took\" : 6,\n",
      "  \"timed_out\" : false,\n",
      "  \"_shards\" : {\n",
      "    \"total\" : 1,\n",
      "    \"successful\" : 1,\n",
      "    \"failed\" : 0\n",
      "  },\n",
      "  \"hits\" : {\n",
      "    \"total\" : 12,\n",
      "    \"max_score\" : 1.0,\n",
      "    \"hits\" : [\n",
      "      {\n",
      "        \"_index\" : \"meteorological-data-2015.08\",\n",
      "        \"_type\" : \"logs\",\n",
      "        \"_id\" : \"tokyo_15-08-08\",\n",
      "        \"_score\" : 1.0,\n",
      "        \"_source\" : {\n",
      "          \"date\" : \"15-08-08\",\n",
      "          \"wind_speed_avg\" : \"3.2\",\n",
      "          \"snowfall\" : null,\n",
      "          \"temperature_max\" : \"32.6\",\n",
      "          \"precipitation_day\" : null,\n",
      "          \"wind_speed_max\" : \"5.7\",\n",
      "          \"sunshine_duration\" : \"4.3\",\n",
      "          \"temperature_avg\" : \"27.6\",\n",
      "          \"temperature_min\" : \"24.9\",\n",
      "          \"@version\" : \"1\",\n",
      "          \"wind_direction_max_moment\" : \"北東\",\n",
      "          \"information_night\" : \"一時晴\",\n",
      "          \"precipitation_max_10min\" : null,\n",
      "          \"precipitation_max_hour\" : null,\n",
      "          \"wind_direction\" : \"北東\",\n",
      "          \"information_daytime\" : \"時々晴\",\n",
      "          \"@timestamp\" : \"2015-08-08T00:00:00.000Z\",\n",
      "          \"humidity_avg\" : \"71.0\",\n",
      "          \"humidity_min\" : \"53.0\",\n",
      "          \"atmospheric_pressure\" : \"1011.6\",\n",
      "          \"location\" : \"tokyo\",\n",
      "          \"wind_speed_max_moment\" : \"10.6\",\n",
      "          \"snowfall_max\" : null,\n",
      "          \"sea_level_pressure\" : \"1014.4\"\n",
      "        }\n",
      "      },\n",
      "      {\n",
      "        \"_index\" : \"meteorological-data-2015.08\",\n",
      "        \"_type\" : \"logs\",\n",
      "        \"_id\" : \"tokyo_15-08-09\",\n",
      "        \"_score\" : 1.0,\n",
      "        \"_source\" : {\n",
      "          \"date\" : \"15-08-09\",\n",
      "          \"wind_speed_avg\" : \"2.5\",\n",
      "          \"snowfall\" : null,\n",
      "          \"temperature_max\" : \"33.4\",\n",
      "          \"precipitation_day\" : null,\n",
      "          \"wind_speed_max\" : \"4.6\",\n",
      "          \"sunshine_duration\" : \"3.4\",\n",
      "          \"temperature_avg\" : \"27.9\",\n",
      "          \"temperature_min\" : \"24.7\",\n",
      "          \"@version\" : \"1\",\n",
      "          \"wind_direction_max_moment\" : \"南東\",\n",
      "          \"information_night\" : \"後曇\",\n",
      "          \"precipitation_max_10min\" : null,\n",
      "          \"precipitation_max_hour\" : null,\n",
      "          \"wind_direction\" : \"南東\",\n",
      "          \"information_daytime\" : \"一時曇\",\n",
      "          \"@timestamp\" : \"2015-08-09T00:00:00.000Z\",\n",
      "          \"humidity_avg\" : \"68.0\",\n",
      "          \"humidity_min\" : \"47.0\",\n",
      "          \"atmospheric_pressure\" : \"1008.4\",\n",
      "          \"location\" : \"tokyo\",\n",
      "          \"wind_speed_max_moment\" : \"7.7\",\n",
      "          \"snowfall_max\" : null,\n",
      "          \"sea_level_pressure\" : \"1011.2\"\n",
      "        }\n",
      "      },\n",
      "      {\n",
      "        \"_index\" : \"meteorological-data-2015.08\",\n",
      "        \"_type\" : \"logs\",\n",
      "        \"_id\" : \"tokyo_15-08-10\",\n",
      "        \"_score\" : 1.0,\n",
      "        \"_source\" : {\n",
      "          \"date\" : \"15-08-10\",\n",
      "          \"wind_speed_avg\" : \"2.6\",\n",
      "          \"snowfall\" : null,\n",
      "          \"temperature_max\" : \"31.9\",\n",
      "          \"precipitation_day\" : \"1.0\",\n",
      "          \"wind_speed_max\" : \"6.1\",\n",
      "          \"sunshine_duration\" : \"2.0\",\n",
      "          \"temperature_avg\" : \"27.9\",\n",
      "          \"temperature_min\" : \"25.5\",\n",
      "          \"@version\" : \"1\",\n",
      "          \"wind_direction_max_moment\" : null,\n",
      "          \"information_night\" : \"時々晴\",\n",
      "          \"precipitation_max_10min\" : \"1.0\",\n",
      "          \"precipitation_max_hour\" : \"1.0\",\n",
      "          \"wind_direction\" : \"南東\",\n",
      "          \"information_daytime\" : \"一時雨、雷を伴う\",\n",
      "          \"@timestamp\" : \"2015-08-10T00:00:00.000Z\",\n",
      "          \"humidity_avg\" : \"79.0\",\n",
      "          \"humidity_min\" : \"59.0\",\n",
      "          \"atmospheric_pressure\" : \"1006.0\",\n",
      "          \"location\" : \"tokyo\",\n",
      "          \"wind_speed_max_moment\" : \"10.5\",\n",
      "          \"snowfall_max\" : null,\n",
      "          \"sea_level_pressure\" : \"1008.7\"\n",
      "        }\n",
      "      },\n",
      "      {\n",
      "        \"_index\" : \"meteorological-data-2015.08\",\n",
      "        \"_type\" : \"logs\",\n",
      "        \"_id\" : \"tokyo_15-08-12\",\n",
      "        \"_score\" : 1.0,\n",
      "        \"_source\" : {\n",
      "          \"date\" : \"15-08-12\",\n",
      "          \"wind_speed_avg\" : \"2.3\",\n",
      "          \"snowfall\" : null,\n",
      "          \"temperature_max\" : \"33.7\",\n",
      "          \"precipitation_day\" : \"0\",\n",
      "          \"wind_speed_max\" : \"4.8\",\n",
      "          \"sunshine_duration\" : \"3.0\",\n",
      "          \"temperature_avg\" : \"28.9\",\n",
      "          \"temperature_min\" : \"26.3\",\n",
      "          \"@version\" : \"1\",\n",
      "          \"wind_direction_max_moment\" : null,\n",
      "          \"information_night\" : \"後一時雨\",\n",
      "          \"precipitation_max_10min\" : \"0\",\n",
      "          \"precipitation_max_hour\" : \"0\",\n",
      "          \"wind_direction\" : \"東\",\n",
      "          \"information_daytime\" : \"一時晴\",\n",
      "          \"@timestamp\" : \"2015-08-12T00:00:00.000Z\",\n",
      "          \"humidity_avg\" : \"73.0\",\n",
      "          \"humidity_min\" : \"53.0\",\n",
      "          \"atmospheric_pressure\" : \"1002.5\",\n",
      "          \"location\" : \"tokyo\",\n",
      "          \"wind_speed_max_moment\" : \"7.8\",\n",
      "          \"snowfall_max\" : null,\n",
      "          \"sea_level_pressure\" : \"1005.2\"\n",
      "        }\n",
      "      },\n",
      "      {\n",
      "        \"_index\" : \"meteorological-data-2015.08\",\n",
      "        \"_type\" : \"logs\",\n",
      "        \"_id\" : \"tokyo_15-08-13\",\n",
      "        \"_score\" : 1.0,\n",
      "        \"_source\" : {\n",
      "          \"date\" : \"15-08-13\",\n",
      "          \"wind_speed_avg\" : \"3.0\",\n",
      "          \"snowfall\" : null,\n",
      "          \"temperature_max\" : \"30.5\",\n",
      "          \"precipitation_day\" : \"1.0\",\n",
      "          \"wind_speed_max\" : \"6.4\",\n",
      "          \"sunshine_duration\" : \"2.2\",\n",
      "          \"temperature_avg\" : \"27.5\",\n",
      "          \"temperature_min\" : \"25.3\",\n",
      "          \"@version\" : \"1\",\n",
      "          \"wind_direction_max_moment\" : \"南東\",\n",
      "          \"information_night\" : \"後一時雨\",\n",
      "          \"precipitation_max_10min\" : \"0.5\",\n",
      "          \"precipitation_max_hour\" : \"1.0\",\n",
      "          \"wind_direction\" : \"東\",\n",
      "          \"information_daytime\" : \"一時雨\",\n",
      "          \"@timestamp\" : \"2015-08-13T00:00:00.000Z\",\n",
      "          \"humidity_avg\" : \"82.0\",\n",
      "          \"humidity_min\" : \"62.0\",\n",
      "          \"atmospheric_pressure\" : \"1000.4\",\n",
      "          \"location\" : \"tokyo\",\n",
      "          \"wind_speed_max_moment\" : \"10.3\",\n",
      "          \"snowfall_max\" : null,\n",
      "          \"sea_level_pressure\" : \"1003.1\"\n",
      "        }\n",
      "      },\n",
      "      {\n",
      "        \"_index\" : \"meteorological-data-2015.08\",\n",
      "        \"_type\" : \"logs\",\n",
      "        \"_id\" : \"tokyo_15-08-14\",\n",
      "        \"_score\" : 1.0,\n",
      "        \"_source\" : {\n",
      "          \"date\" : \"15-08-14\",\n",
      "          \"wind_speed_avg\" : \"2.3\",\n",
      "          \"snowfall\" : null,\n",
      "          \"temperature_max\" : \"31.8\",\n",
      "          \"precipitation_day\" : \"2.0\",\n",
      "          \"wind_speed_max\" : \"5.3\",\n",
      "          \"sunshine_duration\" : \"1.5\",\n",
      "          \"temperature_avg\" : \"26.9\",\n",
      "          \"temperature_min\" : \"24.0\",\n",
      "          \"@version\" : \"1\",\n",
      "          \"wind_direction_max_moment\" : \"東\",\n",
      "          \"information_night\" : \"時々雨\",\n",
      "          \"precipitation_max_10min\" : \"1.5\",\n",
      "          \"precipitation_max_hour\" : \"2.0\",\n",
      "          \"wind_direction\" : null,\n",
      "          \"information_daytime\" : \"一時晴\",\n",
      "          \"@timestamp\" : \"2015-08-14T00:00:00.000Z\",\n",
      "          \"humidity_avg\" : \"84.0\",\n",
      "          \"humidity_min\" : \"62.0\",\n",
      "          \"atmospheric_pressure\" : \"1000.6\",\n",
      "          \"location\" : \"tokyo\",\n",
      "          \"wind_speed_max_moment\" : \"10.8\",\n",
      "          \"snowfall_max\" : null,\n",
      "          \"sea_level_pressure\" : \"1003.3\"\n",
      "        }\n",
      "      },\n",
      "      {\n",
      "        \"_index\" : \"meteorological-data-2015.08\",\n",
      "        \"_type\" : \"logs\",\n",
      "        \"_id\" : \"tokyo_15-08-15\",\n",
      "        \"_score\" : 1.0,\n",
      "        \"_source\" : {\n",
      "          \"date\" : \"15-08-15\",\n",
      "          \"wind_speed_avg\" : \"2.5\",\n",
      "          \"snowfall\" : null,\n",
      "          \"temperature_max\" : \"33.1\",\n",
      "          \"precipitation_day\" : \"0\",\n",
      "          \"wind_speed_max\" : \"6.1\",\n",
      "          \"sunshine_duration\" : \"7.3\",\n",
      "          \"temperature_avg\" : \"27.7\",\n",
      "          \"temperature_min\" : \"24.1\",\n",
      "          \"@version\" : \"1\",\n",
      "          \"wind_direction_max_moment\" : \"南東\",\n",
      "          \"information_night\" : \"後一時曇\",\n",
      "          \"precipitation_max_10min\" : \"0\",\n",
      "          \"precipitation_max_hour\" : \"0\",\n",
      "          \"wind_direction\" : \"南東\",\n",
      "          \"information_daytime\" : \"一時曇\",\n",
      "          \"@timestamp\" : \"2015-08-15T00:00:00.000Z\",\n",
      "          \"humidity_avg\" : \"76.0\",\n",
      "          \"humidity_min\" : \"52.0\",\n",
      "          \"atmospheric_pressure\" : \"1004.8\",\n",
      "          \"location\" : \"tokyo\",\n",
      "          \"wind_speed_max_moment\" : \"9.6\",\n",
      "          \"snowfall_max\" : null,\n",
      "          \"sea_level_pressure\" : \"1007.5\"\n",
      "        }\n",
      "      },\n",
      "      {\n",
      "        \"_index\" : \"meteorological-data-2015.08\",\n",
      "        \"_type\" : \"logs\",\n",
      "        \"_id\" : \"tokyo_15-08-16\",\n",
      "        \"_score\" : 1.0,\n",
      "        \"_source\" : {\n",
      "          \"date\" : \"15-08-16\",\n",
      "          \"wind_speed_avg\" : \"2.7\",\n",
      "          \"snowfall\" : null,\n",
      "          \"temperature_max\" : \"31.9\",\n",
      "          \"precipitation_day\" : \"8.0\",\n",
      "          \"wind_speed_max\" : \"5.5\",\n",
      "          \"sunshine_duration\" : \"4.7\",\n",
      "          \"temperature_avg\" : \"27.8\",\n",
      "          \"temperature_min\" : \"24.6\",\n",
      "          \"@version\" : \"1\",\n",
      "          \"wind_direction_max_moment\" : \"北東\",\n",
      "          \"information_night\" : \"時々曇、雷を伴う\",\n",
      "          \"precipitation_max_10min\" : \"4.5\",\n",
      "          \"precipitation_max_hour\" : \"8.0\",\n",
      "          \"wind_direction\" : \"北東\",\n",
      "          \"information_daytime\" : \"時々晴\",\n",
      "          \"@timestamp\" : \"2015-08-16T00:00:00.000Z\",\n",
      "          \"humidity_avg\" : \"77.0\",\n",
      "          \"humidity_min\" : \"56.0\",\n",
      "          \"atmospheric_pressure\" : \"1006.7\",\n",
      "          \"location\" : \"tokyo\",\n",
      "          \"wind_speed_max_moment\" : \"8.6\",\n",
      "          \"snowfall_max\" : null,\n",
      "          \"sea_level_pressure\" : \"1009.4\"\n",
      "        }\n",
      "      },\n",
      "      {\n",
      "        \"_index\" : \"meteorological-data-2015.08\",\n",
      "        \"_type\" : \"logs\",\n",
      "        \"_id\" : \"tokyo_15-08-18\",\n",
      "        \"_score\" : 1.0,\n",
      "        \"_source\" : {\n",
      "          \"date\" : \"15-08-18\",\n",
      "          \"wind_speed_avg\" : \"3.8\",\n",
      "          \"snowfall\" : null,\n",
      "          \"temperature_max\" : \"31.9\",\n",
      "          \"precipitation_day\" : \"0\",\n",
      "          \"wind_speed_max\" : \"7.2\",\n",
      "          \"sunshine_duration\" : \"4.6\",\n",
      "          \"temperature_avg\" : \"28.2\",\n",
      "          \"temperature_min\" : \"26.0\",\n",
      "          \"@version\" : \"1\",\n",
      "          \"wind_direction_max_moment\" : \"南西\",\n",
      "          \"information_night\" : null,\n",
      "          \"precipitation_max_10min\" : \"0\",\n",
      "          \"precipitation_max_hour\" : \"0\",\n",
      "          \"wind_direction\" : null,\n",
      "          \"information_daytime\" : null,\n",
      "          \"@timestamp\" : \"2015-08-18T00:00:00.000Z\",\n",
      "          \"humidity_avg\" : \"76.0\",\n",
      "          \"humidity_min\" : \"63.0\",\n",
      "          \"atmospheric_pressure\" : \"1005.3\",\n",
      "          \"location\" : \"tokyo\",\n",
      "          \"wind_speed_max_moment\" : \"12.6\",\n",
      "          \"snowfall_max\" : null,\n",
      "          \"sea_level_pressure\" : \"1008.1\"\n",
      "        }\n",
      "      },\n",
      "      {\n",
      "        \"_index\" : \"meteorological-data-2015.08\",\n",
      "        \"_type\" : \"logs\",\n",
      "        \"_id\" : \"tokyo_15-08-19\",\n",
      "        \"_score\" : 1.0,\n",
      "        \"_source\" : {\n",
      "          \"date\" : \"15-08-19\",\n",
      "          \"wind_speed_avg\" : \"3.0\",\n",
      "          \"snowfall\" : null,\n",
      "          \"temperature_max\" : \"31.4\",\n",
      "          \"precipitation_day\" : \"0\",\n",
      "          \"wind_speed_max\" : \"6.0\",\n",
      "          \"sunshine_duration\" : \"5.0\",\n",
      "          \"temperature_avg\" : \"27.8\",\n",
      "          \"temperature_min\" : \"25.7\",\n",
      "          \"@version\" : \"1\",\n",
      "          \"wind_direction_max_moment\" : \"南東\",\n",
      "          \"information_night\" : \"後一時雨\",\n",
      "          \"precipitation_max_10min\" : \"0\",\n",
      "          \"precipitation_max_hour\" : \"0\",\n",
      "          \"wind_direction\" : \"東\",\n",
      "          \"information_daytime\" : null,\n",
      "          \"@timestamp\" : \"2015-08-19T00:00:00.000Z\",\n",
      "          \"humidity_avg\" : \"70.0\",\n",
      "          \"humidity_min\" : \"52.0\",\n",
      "          \"atmospheric_pressure\" : \"1009.7\",\n",
      "          \"location\" : \"tokyo\",\n",
      "          \"wind_speed_max_moment\" : \"9.5\",\n",
      "          \"snowfall_max\" : null,\n",
      "          \"sea_level_pressure\" : \"1012.5\"\n",
      "        }\n",
      "      }\n",
      "    ]\n",
      "  }\n",
      "}\n"
     ]
    },
    {
     "name": "stderr",
     "output_type": "stream",
     "text": [
      "  % Total    % Received % Xferd  Average Speed   Time    Time     Time  Current\n",
      "                                 Dload  Upload   Total   Spent    Left  Speed\n",
      "\r",
      "  0     0    0     0    0     0      0      0 --:--:-- --:--:-- --:--:--     0\r",
      "100 11498  100 11391  100   107   123k   1188 --:--:-- --:--:-- --:--:--  124k\n"
     ]
    }
   ],
   "source": [
    "%%bash\n",
    "curl -XGET \"http://$ES_HOST/meteorological-data-2015.08/_search?pretty\" -d @- << EOF\n",
    "{\n",
    "  \"query\": {\n",
    "    \"range\" : {\n",
    "      \"temperature_max\" : {\n",
    "        \"gte\" : 30,\n",
    "        \"lt\" : 35\n",
    "      }\n",
    "    }\n",
    "  }\n",
    "}\n",
    "EOF"
   ]
  },
  {
   "cell_type": "markdown",
   "metadata": {
    "lc_cell_meme": {
     "current": "457cb4fc-152a-11e7-b31a-0242ac12000d",
     "next": "457cb6c8-152a-11e7-b31a-0242ac12000d",
     "previous": "457cb330-152a-11e7-b31a-0242ac12000d"
    }
   },
   "source": [
    "### 条件指定:範囲検索（日時）"
   ]
  },
  {
   "cell_type": "markdown",
   "metadata": {
    "lc_cell_meme": {
     "current": "457cb6c8-152a-11e7-b31a-0242ac12000d",
     "next": "457cb894-152a-11e7-b31a-0242ac12000d",
     "previous": "457cb4fc-152a-11e7-b31a-0242ac12000d"
    }
   },
   "source": [
    "数値でなく日時の範囲を指定する場合も\"range\"が使えますが、利用できるパラメータが異なります。"
   ]
  },
  {
   "cell_type": "raw",
   "metadata": {
    "lc_cell_meme": {
     "current": "457cb894-152a-11e7-b31a-0242ac12000d",
     "next": "457cba6a-152a-11e7-b31a-0242ac12000d",
     "previous": "457cb6c8-152a-11e7-b31a-0242ac12000d"
    }
   },
   "source": [
    "curl -XGET \"http://<ホスト名>:<ポート番号>/<インデックス名>/_search?pretty\" -d '{\n",
    "  \"query\": {\n",
    "    \"range\" : {\n",
    "      \"フィールド名\" : {\n",
    "        \"gte\" : 下限値,\n",
    "        \"lte\" : 上限値,\n",
    "        \"format\": \"日付フォーマット\",\n",
    "        \"time_zone\": \"タイムゾーン\"\n",
    "      }\n",
    "    }\n",
    "  }\n",
    "}'"
   ]
  },
  {
   "cell_type": "markdown",
   "metadata": {
    "lc_cell_meme": {
     "current": "457cba6a-152a-11e7-b31a-0242ac12000d",
     "next": "457cbc54-152a-11e7-b31a-0242ac12000d",
     "previous": "457cb894-152a-11e7-b31a-0242ac12000d"
    }
   },
   "source": [
    "指定可能なパラメータは次の通りです。  \n",
    "どの項目も指定は任意であり、下限だけ指定するようなクエリも可能です。"
   ]
  },
  {
   "cell_type": "markdown",
   "metadata": {
    "lc_cell_meme": {
     "current": "457cbc54-152a-11e7-b31a-0242ac12000d",
     "next": "457cbe20-152a-11e7-b31a-0242ac12000d",
     "previous": "457cba6a-152a-11e7-b31a-0242ac12000d"
    }
   },
   "source": [
    "| パラメータ名 | 意味 |\n",
    "|--------------|------|\n",
    "|gte|「検索対象 ≧ 指定値」という条件。|\n",
    "|gt|「検索対象 ＞ 指定値」という条件。|\n",
    "|lte|「検索対象 ≦ 指定値」という条件。|\n",
    "|lt|「検索対象 ＜ 指定値」という条件。|\n",
    "|boost|検索結果に対する重みづけ。<br>詳細は、The Definitive Guideの[Query-Time Boosting](https://www.elastic.co/guide/en/elasticsearch/guide/current/query-time-boosting.html)を参照してください。|\n",
    "|format|下限値、上限値のフォーマット。<br>詳細は、Elasticsearch Referenceの[format](https://www.elastic.co/guide/en/elasticsearch/reference/current/mapping-date-format.html)を参照してください。|\n",
    "|time_zone|下限値、上限値のタイムゾーン。<br>例えば日本であれば\"+9:00\"と指定するなどです。<br>また、\"Asia/Tokyo\"のような名称でも記述することができます。[Joda-Time](http://www.joda.org/joda-time/timezones.html)の「Canonical ID」を名称に利用できます。|\n",
    "\n",
    "なお、日時の代わりに\"**now**\"という予約語を設定すると、現在日時という意味になります。  \n",
    "詳細は、Elasticsearch Referenceの[Date Math](https://www.elastic.co/guide/en/elasticsearch/reference/current/common-options.html#date-math)を参照してください。  \n",
    "  \n",
    "クエリの詳細は、Elasticsearch Referenceの[Range Query](https://www.elastic.co/guide/en/elasticsearch/reference/current/query-dsl-range-query.html)を参照してください。\n"
   ]
  },
  {
   "cell_type": "markdown",
   "metadata": {
    "lc_cell_meme": {
     "current": "457cbe20-152a-11e7-b31a-0242ac12000d",
     "next": "457cbfe2-152a-11e7-b31a-0242ac12000d",
     "previous": "457cbc54-152a-11e7-b31a-0242ac12000d"
    }
   },
   "source": [
    "日本時間で2015/8/2からの１週間のドキュメントを検索するコマンドは次の通りです。"
   ]
  },
  {
   "cell_type": "code",
   "execution_count": 11,
   "metadata": {
    "lc_cell_meme": {
     "current": "457cbfe2-152a-11e7-b31a-0242ac12000d",
     "next": "457cc1ae-152a-11e7-b31a-0242ac12000d",
     "previous": "457cbe20-152a-11e7-b31a-0242ac12000d"
    }
   },
   "outputs": [
    {
     "name": "stdout",
     "output_type": "stream",
     "text": [
      "{\n",
      "  \"took\" : 6,\n",
      "  \"timed_out\" : false,\n",
      "  \"_shards\" : {\n",
      "    \"total\" : 1,\n",
      "    \"successful\" : 1,\n",
      "    \"failed\" : 0\n",
      "  },\n",
      "  \"hits\" : {\n",
      "    \"total\" : 7,\n",
      "    \"max_score\" : 1.0,\n",
      "    \"hits\" : [\n",
      "      {\n",
      "        \"_index\" : \"meteorological-data-2015.08\",\n",
      "        \"_type\" : \"logs\",\n",
      "        \"_id\" : \"tokyo_15-08-02\",\n",
      "        \"_score\" : 1.0,\n",
      "        \"_source\" : {\n",
      "          \"date\" : \"15-08-02\",\n",
      "          \"wind_speed_avg\" : \"2.6\",\n",
      "          \"snowfall\" : null,\n",
      "          \"temperature_max\" : \"35.1\",\n",
      "          \"precipitation_day\" : \"0\",\n",
      "          \"wind_speed_max\" : \"5.6\",\n",
      "          \"sunshine_duration\" : \"9.6\",\n",
      "          \"temperature_avg\" : \"30.2\",\n",
      "          \"temperature_min\" : \"26.3\",\n",
      "          \"@version\" : \"1\",\n",
      "          \"wind_direction_max_moment\" : \"東\",\n",
      "          \"information_night\" : \"時々晴\",\n",
      "          \"precipitation_max_10min\" : \"0\",\n",
      "          \"precipitation_max_hour\" : \"0\",\n",
      "          \"wind_direction\" : \"南東\",\n",
      "          \"information_daytime\" : null,\n",
      "          \"@timestamp\" : \"2015-08-02T00:00:00.000Z\",\n",
      "          \"humidity_avg\" : \"71.0\",\n",
      "          \"humidity_min\" : \"54.0\",\n",
      "          \"atmospheric_pressure\" : \"1009.2\",\n",
      "          \"location\" : \"tokyo\",\n",
      "          \"wind_speed_max_moment\" : \"9.3\",\n",
      "          \"snowfall_max\" : null,\n",
      "          \"sea_level_pressure\" : \"1011.9\"\n",
      "        }\n",
      "      },\n",
      "      {\n",
      "        \"_index\" : \"meteorological-data-2015.08\",\n",
      "        \"_type\" : \"logs\",\n",
      "        \"_id\" : \"tokyo_15-08-03\",\n",
      "        \"_score\" : 1.0,\n",
      "        \"_source\" : {\n",
      "          \"date\" : \"15-08-03\",\n",
      "          \"wind_speed_avg\" : \"3.1\",\n",
      "          \"snowfall\" : null,\n",
      "          \"temperature_max\" : \"35.0\",\n",
      "          \"precipitation_day\" : null,\n",
      "          \"wind_speed_max\" : \"6.7\",\n",
      "          \"sunshine_duration\" : \"12.0\",\n",
      "          \"temperature_avg\" : \"29.8\",\n",
      "          \"temperature_min\" : \"26.1\",\n",
      "          \"@version\" : \"1\",\n",
      "          \"wind_direction_max_moment\" : null,\n",
      "          \"information_night\" : null,\n",
      "          \"precipitation_max_10min\" : null,\n",
      "          \"precipitation_max_hour\" : null,\n",
      "          \"wind_direction\" : null,\n",
      "          \"information_daytime\" : null,\n",
      "          \"@timestamp\" : \"2015-08-03T00:00:00.000Z\",\n",
      "          \"humidity_avg\" : \"69.0\",\n",
      "          \"humidity_min\" : \"52.0\",\n",
      "          \"atmospheric_pressure\" : \"1008.7\",\n",
      "          \"location\" : \"tokyo\",\n",
      "          \"wind_speed_max_moment\" : \"10.8\",\n",
      "          \"snowfall_max\" : null,\n",
      "          \"sea_level_pressure\" : \"1011.4\"\n",
      "        }\n",
      "      },\n",
      "      {\n",
      "        \"_index\" : \"meteorological-data-2015.08\",\n",
      "        \"_type\" : \"logs\",\n",
      "        \"_id\" : \"tokyo_15-08-04\",\n",
      "        \"_score\" : 1.0,\n",
      "        \"_source\" : {\n",
      "          \"date\" : \"15-08-04\",\n",
      "          \"wind_speed_avg\" : \"3.4\",\n",
      "          \"snowfall\" : null,\n",
      "          \"temperature_max\" : \"35.1\",\n",
      "          \"precipitation_day\" : null,\n",
      "          \"wind_speed_max\" : \"6.6\",\n",
      "          \"sunshine_duration\" : \"11.4\",\n",
      "          \"temperature_avg\" : \"30.0\",\n",
      "          \"temperature_min\" : \"26.5\",\n",
      "          \"@version\" : \"1\",\n",
      "          \"wind_direction_max_moment\" : \"南東\",\n",
      "          \"information_night\" : null,\n",
      "          \"precipitation_max_10min\" : null,\n",
      "          \"precipitation_max_hour\" : null,\n",
      "          \"wind_direction\" : \"南東\",\n",
      "          \"information_daytime\" : null,\n",
      "          \"@timestamp\" : \"2015-08-04T00:00:00.000Z\",\n",
      "          \"humidity_avg\" : \"69.0\",\n",
      "          \"humidity_min\" : \"53.0\",\n",
      "          \"atmospheric_pressure\" : \"1007.4\",\n",
      "          \"location\" : \"tokyo\",\n",
      "          \"wind_speed_max_moment\" : \"10.5\",\n",
      "          \"snowfall_max\" : null,\n",
      "          \"sea_level_pressure\" : \"1010.1\"\n",
      "        }\n",
      "      },\n",
      "      {\n",
      "        \"_index\" : \"meteorological-data-2015.08\",\n",
      "        \"_type\" : \"logs\",\n",
      "        \"_id\" : \"tokyo_15-08-05\",\n",
      "        \"_score\" : 1.0,\n",
      "        \"_source\" : {\n",
      "          \"date\" : \"15-08-05\",\n",
      "          \"wind_speed_avg\" : \"4.1\",\n",
      "          \"snowfall\" : null,\n",
      "          \"temperature_max\" : \"35.2\",\n",
      "          \"precipitation_day\" : null,\n",
      "          \"wind_speed_max\" : \"8.2\",\n",
      "          \"sunshine_duration\" : \"12.8\",\n",
      "          \"temperature_avg\" : \"30.2\",\n",
      "          \"temperature_min\" : \"25.7\",\n",
      "          \"@version\" : \"1\",\n",
      "          \"wind_direction_max_moment\" : \"南東\",\n",
      "          \"information_night\" : \"晴\",\n",
      "          \"precipitation_max_10min\" : null,\n",
      "          \"precipitation_max_hour\" : null,\n",
      "          \"wind_direction\" : \"南東\",\n",
      "          \"information_daytime\" : \"晴\",\n",
      "          \"@timestamp\" : \"2015-08-05T00:00:00.000Z\",\n",
      "          \"humidity_avg\" : \"69.0\",\n",
      "          \"humidity_min\" : \"47.0\",\n",
      "          \"atmospheric_pressure\" : \"1007.4\",\n",
      "          \"location\" : \"tokyo\",\n",
      "          \"wind_speed_max_moment\" : \"13.1\",\n",
      "          \"snowfall_max\" : null,\n",
      "          \"sea_level_pressure\" : \"1010.1\"\n",
      "        }\n",
      "      },\n",
      "      {\n",
      "        \"_index\" : \"meteorological-data-2015.08\",\n",
      "        \"_type\" : \"logs\",\n",
      "        \"_id\" : \"tokyo_15-08-06\",\n",
      "        \"_score\" : 1.0,\n",
      "        \"_source\" : {\n",
      "          \"date\" : \"15-08-06\",\n",
      "          \"wind_speed_avg\" : \"3.0\",\n",
      "          \"snowfall\" : null,\n",
      "          \"temperature_max\" : \"35.9\",\n",
      "          \"precipitation_day\" : null,\n",
      "          \"wind_speed_max\" : \"6.7\",\n",
      "          \"sunshine_duration\" : \"11.9\",\n",
      "          \"temperature_avg\" : \"30.9\",\n",
      "          \"temperature_min\" : \"26.8\",\n",
      "          \"@version\" : \"1\",\n",
      "          \"wind_direction_max_moment\" : \"東\",\n",
      "          \"information_night\" : \"後一時薄曇\",\n",
      "          \"precipitation_max_10min\" : null,\n",
      "          \"precipitation_max_hour\" : null,\n",
      "          \"wind_direction\" : \"東\",\n",
      "          \"information_daytime\" : null,\n",
      "          \"@timestamp\" : \"2015-08-06T00:00:00.000Z\",\n",
      "          \"humidity_avg\" : \"68.0\",\n",
      "          \"humidity_min\" : \"52.0\",\n",
      "          \"atmospheric_pressure\" : \"1009.8\",\n",
      "          \"location\" : \"tokyo\",\n",
      "          \"wind_speed_max_moment\" : \"10.0\",\n",
      "          \"snowfall_max\" : null,\n",
      "          \"sea_level_pressure\" : \"1012.5\"\n",
      "        }\n",
      "      },\n",
      "      {\n",
      "        \"_index\" : \"meteorological-data-2015.08\",\n",
      "        \"_type\" : \"logs\",\n",
      "        \"_id\" : \"tokyo_15-08-07\",\n",
      "        \"_score\" : 1.0,\n",
      "        \"_source\" : {\n",
      "          \"date\" : \"15-08-07\",\n",
      "          \"wind_speed_avg\" : \"2.6\",\n",
      "          \"snowfall\" : null,\n",
      "          \"temperature_max\" : \"37.7\",\n",
      "          \"precipitation_day\" : null,\n",
      "          \"wind_speed_max\" : \"6.1\",\n",
      "          \"sunshine_duration\" : \"9.2\",\n",
      "          \"temperature_avg\" : \"31.5\",\n",
      "          \"temperature_min\" : \"26.8\",\n",
      "          \"@version\" : \"1\",\n",
      "          \"wind_direction_max_moment\" : \"南東\",\n",
      "          \"information_night\" : \"時々晴\",\n",
      "          \"precipitation_max_10min\" : null,\n",
      "          \"precipitation_max_hour\" : null,\n",
      "          \"wind_direction\" : \"東\",\n",
      "          \"information_daytime\" : \"後時々薄曇\",\n",
      "          \"@timestamp\" : \"2015-08-07T00:00:00.000Z\",\n",
      "          \"humidity_avg\" : \"61.0\",\n",
      "          \"humidity_min\" : \"42.0\",\n",
      "          \"atmospheric_pressure\" : \"1011.6\",\n",
      "          \"location\" : \"tokyo\",\n",
      "          \"wind_speed_max_moment\" : \"9.8\",\n",
      "          \"snowfall_max\" : null,\n",
      "          \"sea_level_pressure\" : \"1014.3\"\n",
      "        }\n",
      "      },\n",
      "      {\n",
      "        \"_index\" : \"meteorological-data-2015.08\",\n",
      "        \"_type\" : \"logs\",\n",
      "        \"_id\" : \"tokyo_15-08-08\",\n",
      "        \"_score\" : 1.0,\n",
      "        \"_source\" : {\n",
      "          \"date\" : \"15-08-08\",\n",
      "          \"wind_speed_avg\" : \"3.2\",\n",
      "          \"snowfall\" : null,\n",
      "          \"temperature_max\" : \"32.6\",\n",
      "          \"precipitation_day\" : null,\n",
      "          \"wind_speed_max\" : \"5.7\",\n",
      "          \"sunshine_duration\" : \"4.3\",\n",
      "          \"temperature_avg\" : \"27.6\",\n",
      "          \"temperature_min\" : \"24.9\",\n",
      "          \"@version\" : \"1\",\n",
      "          \"wind_direction_max_moment\" : \"北東\",\n",
      "          \"information_night\" : \"一時晴\",\n",
      "          \"precipitation_max_10min\" : null,\n",
      "          \"precipitation_max_hour\" : null,\n",
      "          \"wind_direction\" : \"北東\",\n",
      "          \"information_daytime\" : \"時々晴\",\n",
      "          \"@timestamp\" : \"2015-08-08T00:00:00.000Z\",\n",
      "          \"humidity_avg\" : \"71.0\",\n",
      "          \"humidity_min\" : \"53.0\",\n",
      "          \"atmospheric_pressure\" : \"1011.6\",\n",
      "          \"location\" : \"tokyo\",\n",
      "          \"wind_speed_max_moment\" : \"10.6\",\n",
      "          \"snowfall_max\" : null,\n",
      "          \"sea_level_pressure\" : \"1014.4\"\n",
      "        }\n",
      "      }\n",
      "    ]\n",
      "  }\n",
      "}\n"
     ]
    },
    {
     "name": "stderr",
     "output_type": "stream",
     "text": [
      "  % Total    % Received % Xferd  Average Speed   Time    Time     Time  Current\n",
      "                                 Dload  Upload   Total   Spent    Left  Speed\n",
      "\r",
      "  0     0    0     0    0     0      0      0 --:--:-- --:--:-- --:--:--     0\r",
      "100  8129  100  7979  100   150   289k   5567 --:--:-- --:--:-- --:--:--  299k\n"
     ]
    }
   ],
   "source": [
    "%%bash\n",
    "curl -XGET \"http://$ES_HOST/meteorological-data-2015.08/_search?pretty\" -d @- << EOF\n",
    "{\n",
    "  \"query\": {\n",
    "    \"range\" : {\n",
    "      \"@timestamp\" : {\n",
    "        \"gte\": \"2015-08-02\",\n",
    "        \"lt\": \"2015-08-09\",\n",
    "        \"time_zone\": \"+09:00\"\n",
    "      }\n",
    "    }\n",
    "  }\n",
    "}\n",
    "EOF"
   ]
  },
  {
   "cell_type": "markdown",
   "metadata": {
    "lc_cell_meme": {
     "current": "457cc1ae-152a-11e7-b31a-0242ac12000d",
     "next": "457cc38e-152a-11e7-b31a-0242ac12000d",
     "previous": "457cbfe2-152a-11e7-b31a-0242ac12000d"
    }
   },
   "source": [
    "### 条件指定:AND条件で検索"
   ]
  },
  {
   "cell_type": "markdown",
   "metadata": {
    "lc_cell_meme": {
     "current": "457cc38e-152a-11e7-b31a-0242ac12000d",
     "next": "457cc578-152a-11e7-b31a-0242ac12000d",
     "previous": "457cc1ae-152a-11e7-b31a-0242ac12000d"
    }
   },
   "source": [
    "複数の条件のすべてに一致するドキュメントを検索する場合、\"bool\"の下に\"must\"を指定し、その中に条件を列挙します。"
   ]
  },
  {
   "cell_type": "raw",
   "metadata": {
    "lc_cell_meme": {
     "current": "457cc578-152a-11e7-b31a-0242ac12000d",
     "next": "457cc74e-152a-11e7-b31a-0242ac12000d",
     "previous": "457cc38e-152a-11e7-b31a-0242ac12000d"
    }
   },
   "source": [
    "curl -XGET \"http://<ホスト名>:<ポート番号>/<インデックス名>/_search?pretty\" -d '{\n",
    "  \"query\": {\n",
    "    \"bool\" : {\n",
    "      \"must\" : [ 条件1, 条件2]\n",
    "    }\n",
    "  }\n",
    "}'"
   ]
  },
  {
   "cell_type": "markdown",
   "metadata": {
    "lc_cell_meme": {
     "current": "457cc74e-152a-11e7-b31a-0242ac12000d",
     "next": "457cc92e-152a-11e7-b31a-0242ac12000d",
     "previous": "457cc578-152a-11e7-b31a-0242ac12000d"
    }
   },
   "source": [
    "詳細は、Elasticsearch Referenceの[Bool Query](https://www.elastic.co/guide/en/elasticsearch/reference/current/query-dsl-bool-query.html)を参照してください。"
   ]
  },
  {
   "cell_type": "markdown",
   "metadata": {
    "lc_cell_meme": {
     "current": "457cc92e-152a-11e7-b31a-0242ac12000d",
     "next": "457ccafa-152a-11e7-b31a-0242ac12000d",
     "previous": "457cc74e-152a-11e7-b31a-0242ac12000d"
    }
   },
   "source": [
    "例えば、\n",
    "\n",
    "- locationが「東京」\n",
    "- temperature_maxが「30℃以上」かつ「35℃未満」\n",
    "\n",
    "という条件をすべて満たすドキュメントを検索するケース(東京の真夏日を検索するケース)のコマンドは次の通りです。"
   ]
  },
  {
   "cell_type": "code",
   "execution_count": 12,
   "metadata": {
    "lc_cell_meme": {
     "current": "457ccafa-152a-11e7-b31a-0242ac12000d",
     "next": "457cccd0-152a-11e7-b31a-0242ac12000d",
     "previous": "457cc92e-152a-11e7-b31a-0242ac12000d"
    }
   },
   "outputs": [
    {
     "name": "stdout",
     "output_type": "stream",
     "text": [
      "{\n",
      "  \"took\" : 5,\n",
      "  \"timed_out\" : false,\n",
      "  \"_shards\" : {\n",
      "    \"total\" : 13,\n",
      "    \"successful\" : 13,\n",
      "    \"failed\" : 0\n",
      "  },\n",
      "  \"hits\" : {\n",
      "    \"total\" : 36,\n",
      "    \"max_score\" : 1.0168071,\n",
      "    \"hits\" : [\n",
      "      {\n",
      "        \"_index\" : \"meteorological-data-2015.05\",\n",
      "        \"_type\" : \"logs\",\n",
      "        \"_id\" : \"tokyo_15-05-26\",\n",
      "        \"_score\" : 1.0168071,\n",
      "        \"_source\" : {\n",
      "          \"date\" : \"15-05-26\",\n",
      "          \"wind_speed_avg\" : \"2.6\",\n",
      "          \"snowfall\" : null,\n",
      "          \"temperature_max\" : \"30.9\",\n",
      "          \"precipitation_day\" : null,\n",
      "          \"wind_speed_max\" : \"5.5\",\n",
      "          \"sunshine_duration\" : \"12.5\",\n",
      "          \"temperature_avg\" : \"23.3\",\n",
      "          \"temperature_min\" : \"16.9\",\n",
      "          \"@version\" : \"1\",\n",
      "          \"wind_direction_max_moment\" : \"西\",\n",
      "          \"information_night\" : \"晴\",\n",
      "          \"precipitation_max_10min\" : null,\n",
      "          \"precipitation_max_hour\" : null,\n",
      "          \"wind_direction\" : null,\n",
      "          \"information_daytime\" : null,\n",
      "          \"@timestamp\" : \"2015-05-26T00:00:00.000Z\",\n",
      "          \"humidity_avg\" : \"53.0\",\n",
      "          \"humidity_min\" : \"13.0\",\n",
      "          \"atmospheric_pressure\" : \"1005.0\",\n",
      "          \"location\" : \"tokyo\",\n",
      "          \"wind_speed_max_moment\" : \"8.0\",\n",
      "          \"snowfall_max\" : null,\n",
      "          \"sea_level_pressure\" : \"1007.8\"\n",
      "        }\n",
      "      },\n",
      "      {\n",
      "        \"_index\" : \"meteorological-data-2015.05\",\n",
      "        \"_type\" : \"logs\",\n",
      "        \"_id\" : \"tokyo_15-05-27\",\n",
      "        \"_score\" : 1.0168071,\n",
      "        \"_source\" : {\n",
      "          \"date\" : \"15-05-27\",\n",
      "          \"wind_speed_avg\" : \"3.2\",\n",
      "          \"snowfall\" : null,\n",
      "          \"temperature_max\" : \"30.2\",\n",
      "          \"precipitation_day\" : null,\n",
      "          \"wind_speed_max\" : \"7.0\",\n",
      "          \"sunshine_duration\" : \"12.6\",\n",
      "          \"temperature_avg\" : \"23.9\",\n",
      "          \"temperature_min\" : \"18.7\",\n",
      "          \"@version\" : \"1\",\n",
      "          \"wind_direction_max_moment\" : \"南東\",\n",
      "          \"information_night\" : \"一時晴\",\n",
      "          \"precipitation_max_10min\" : null,\n",
      "          \"precipitation_max_hour\" : null,\n",
      "          \"wind_direction\" : \"東\",\n",
      "          \"information_daytime\" : \"後一時薄曇\",\n",
      "          \"@timestamp\" : \"2015-05-27T00:00:00.000Z\",\n",
      "          \"humidity_avg\" : \"55.0\",\n",
      "          \"humidity_min\" : \"30.0\",\n",
      "          \"atmospheric_pressure\" : \"1007.2\",\n",
      "          \"location\" : \"tokyo\",\n",
      "          \"wind_speed_max_moment\" : \"10.0\",\n",
      "          \"snowfall_max\" : null,\n",
      "          \"sea_level_pressure\" : \"1010.0\"\n",
      "        }\n",
      "      },\n",
      "      {\n",
      "        \"_index\" : \"meteorological-data-2015.05\",\n",
      "        \"_type\" : \"logs\",\n",
      "        \"_id\" : \"tokyo_15-05-31\",\n",
      "        \"_score\" : 1.0168071,\n",
      "        \"_source\" : {\n",
      "          \"date\" : \"15-05-31\",\n",
      "          \"wind_speed_avg\" : \"2.6\",\n",
      "          \"snowfall\" : null,\n",
      "          \"temperature_max\" : \"32.2\",\n",
      "          \"precipitation_day\" : \"0\",\n",
      "          \"wind_speed_max\" : \"6.0\",\n",
      "          \"sunshine_duration\" : \"10.4\",\n",
      "          \"temperature_avg\" : \"25.7\",\n",
      "          \"temperature_min\" : \"20.6\",\n",
      "          \"@version\" : \"1\",\n",
      "          \"wind_direction_max_moment\" : \"西\",\n",
      "          \"information_night\" : null,\n",
      "          \"precipitation_max_10min\" : \"0\",\n",
      "          \"precipitation_max_hour\" : \"0\",\n",
      "          \"wind_direction\" : \"南東\",\n",
      "          \"information_daytime\" : \"後一時薄曇\",\n",
      "          \"@timestamp\" : \"2015-05-31T00:00:00.000Z\",\n",
      "          \"humidity_avg\" : \"59.0\",\n",
      "          \"humidity_min\" : \"20.0\",\n",
      "          \"atmospheric_pressure\" : \"1000.2\",\n",
      "          \"location\" : \"tokyo\",\n",
      "          \"wind_speed_max_moment\" : \"10.7\",\n",
      "          \"snowfall_max\" : null,\n",
      "          \"sea_level_pressure\" : \"1002.9\"\n",
      "        }\n",
      "      },\n",
      "      {\n",
      "        \"_index\" : \"meteorological-data-2015.06\",\n",
      "        \"_type\" : \"logs\",\n",
      "        \"_id\" : \"tokyo_15-06-15\",\n",
      "        \"_score\" : 1.0168071,\n",
      "        \"_source\" : {\n",
      "          \"date\" : \"15-06-15\",\n",
      "          \"wind_speed_avg\" : \"2.5\",\n",
      "          \"snowfall\" : null,\n",
      "          \"temperature_max\" : \"30.8\",\n",
      "          \"precipitation_day\" : null,\n",
      "          \"wind_speed_max\" : \"6.5\",\n",
      "          \"sunshine_duration\" : \"12.2\",\n",
      "          \"temperature_avg\" : \"24.6\",\n",
      "          \"temperature_min\" : \"19.5\",\n",
      "          \"@version\" : \"1\",\n",
      "          \"wind_direction_max_moment\" : \"東\",\n",
      "          \"information_night\" : \"曇\",\n",
      "          \"precipitation_max_10min\" : null,\n",
      "          \"precipitation_max_hour\" : null,\n",
      "          \"wind_direction\" : \"東\",\n",
      "          \"information_daytime\" : \"曇一時晴\",\n",
      "          \"@timestamp\" : \"2015-06-15T00:00:00.000Z\",\n",
      "          \"humidity_avg\" : \"69.0\",\n",
      "          \"humidity_min\" : \"42.0\",\n",
      "          \"atmospheric_pressure\" : \"1005.4\",\n",
      "          \"location\" : \"tokyo\",\n",
      "          \"wind_speed_max_moment\" : \"10.4\",\n",
      "          \"snowfall_max\" : null,\n",
      "          \"sea_level_pressure\" : \"1008.2\"\n",
      "        }\n",
      "      },\n",
      "      {\n",
      "        \"_index\" : \"meteorological-data-2015.06\",\n",
      "        \"_type\" : \"logs\",\n",
      "        \"_id\" : \"tokyo_15-06-28\",\n",
      "        \"_score\" : 1.0168071,\n",
      "        \"_source\" : {\n",
      "          \"date\" : \"15-06-28\",\n",
      "          \"wind_speed_avg\" : \"2.7\",\n",
      "          \"snowfall\" : null,\n",
      "          \"temperature_max\" : \"31.4\",\n",
      "          \"precipitation_day\" : null,\n",
      "          \"wind_speed_max\" : \"5.9\",\n",
      "          \"sunshine_duration\" : \"8.0\",\n",
      "          \"temperature_avg\" : \"23.2\",\n",
      "          \"temperature_min\" : \"18.4\",\n",
      "          \"@version\" : \"1\",\n",
      "          \"wind_direction_max_moment\" : \"南東\",\n",
      "          \"information_night\" : null,\n",
      "          \"precipitation_max_10min\" : null,\n",
      "          \"precipitation_max_hour\" : null,\n",
      "          \"wind_direction\" : \"東\",\n",
      "          \"information_daytime\" : \"後曇\",\n",
      "          \"@timestamp\" : \"2015-06-28T00:00:00.000Z\",\n",
      "          \"humidity_avg\" : \"70.0\",\n",
      "          \"humidity_min\" : \"36.0\",\n",
      "          \"atmospheric_pressure\" : \"998.4\",\n",
      "          \"location\" : \"tokyo\",\n",
      "          \"wind_speed_max_moment\" : \"10.7\",\n",
      "          \"snowfall_max\" : null,\n",
      "          \"sea_level_pressure\" : \"1001.2\"\n",
      "        }\n",
      "      },\n",
      "      {\n",
      "        \"_index\" : \"meteorological-data-2015.09\",\n",
      "        \"_type\" : \"logs\",\n",
      "        \"_id\" : \"tokyo_15-09-02\",\n",
      "        \"_score\" : 1.0162605,\n",
      "        \"_source\" : {\n",
      "          \"date\" : \"15-09-02\",\n",
      "          \"wind_speed_avg\" : \"5.0\",\n",
      "          \"snowfall\" : null,\n",
      "          \"temperature_max\" : \"31.5\",\n",
      "          \"precipitation_day\" : \"5.5\",\n",
      "          \"wind_speed_max\" : \"9.1\",\n",
      "          \"sunshine_duration\" : \"6.1\",\n",
      "          \"temperature_avg\" : \"26.9\",\n",
      "          \"temperature_min\" : \"24.5\",\n",
      "          \"@version\" : \"1\",\n",
      "          \"wind_direction_max_moment\" : \"南東\",\n",
      "          \"information_night\" : \"後曇\",\n",
      "          \"precipitation_max_10min\" : \"1.0\",\n",
      "          \"precipitation_max_hour\" : \"2.0\",\n",
      "          \"wind_direction\" : null,\n",
      "          \"information_daytime\" : \"時々雨後晴\",\n",
      "          \"@timestamp\" : \"2015-09-02T00:00:00.000Z\",\n",
      "          \"humidity_avg\" : \"82.0\",\n",
      "          \"humidity_min\" : \"60.0\",\n",
      "          \"atmospheric_pressure\" : \"1007.4\",\n",
      "          \"location\" : \"tokyo\",\n",
      "          \"wind_speed_max_moment\" : \"15.4\",\n",
      "          \"snowfall_max\" : null,\n",
      "          \"sea_level_pressure\" : \"1010.1\"\n",
      "        }\n",
      "      },\n",
      "      {\n",
      "        \"_index\" : \"meteorological-data-2015.09\",\n",
      "        \"_type\" : \"logs\",\n",
      "        \"_id\" : \"tokyo_15-09-03\",\n",
      "        \"_score\" : 1.0162605,\n",
      "        \"_source\" : {\n",
      "          \"date\" : \"15-09-03\",\n",
      "          \"wind_speed_avg\" : \"2.6\",\n",
      "          \"snowfall\" : null,\n",
      "          \"temperature_max\" : \"30.4\",\n",
      "          \"precipitation_day\" : \"1.5\",\n",
      "          \"wind_speed_max\" : \"6.5\",\n",
      "          \"sunshine_duration\" : \"1.5\",\n",
      "          \"temperature_avg\" : \"25.7\",\n",
      "          \"temperature_min\" : \"22.9\",\n",
      "          \"@version\" : \"1\",\n",
      "          \"wind_direction_max_moment\" : \"南西\",\n",
      "          \"information_night\" : \"時々曇\",\n",
      "          \"precipitation_max_10min\" : \"0.5\",\n",
      "          \"precipitation_max_hour\" : \"1.0\",\n",
      "          \"wind_direction\" : \"南西\",\n",
      "          \"information_daytime\" : \"後一時雨\",\n",
      "          \"@timestamp\" : \"2015-09-03T00:00:00.000Z\",\n",
      "          \"humidity_avg\" : \"78.0\",\n",
      "          \"humidity_min\" : \"55.0\",\n",
      "          \"atmospheric_pressure\" : \"1008.7\",\n",
      "          \"location\" : \"tokyo\",\n",
      "          \"wind_speed_max_moment\" : \"10.2\",\n",
      "          \"snowfall_max\" : null,\n",
      "          \"sea_level_pressure\" : \"1011.5\"\n",
      "        }\n",
      "      },\n",
      "      {\n",
      "        \"_index\" : \"meteorological-data-2015.09\",\n",
      "        \"_type\" : \"logs\",\n",
      "        \"_id\" : \"tokyo_15-09-04\",\n",
      "        \"_score\" : 1.0162605,\n",
      "        \"_source\" : {\n",
      "          \"date\" : \"15-09-04\",\n",
      "          \"wind_speed_avg\" : \"2.5\",\n",
      "          \"snowfall\" : null,\n",
      "          \"temperature_max\" : \"30.1\",\n",
      "          \"precipitation_day\" : \"14.0\",\n",
      "          \"wind_speed_max\" : \"5.4\",\n",
      "          \"sunshine_duration\" : \"6.3\",\n",
      "          \"temperature_avg\" : \"24.7\",\n",
      "          \"temperature_min\" : \"22.3\",\n",
      "          \"@version\" : \"1\",\n",
      "          \"wind_direction_max_moment\" : \"南西\",\n",
      "          \"information_night\" : \"一時晴\",\n",
      "          \"precipitation_max_10min\" : \"4.5\",\n",
      "          \"precipitation_max_hour\" : \"8.0\",\n",
      "          \"wind_direction\" : null,\n",
      "          \"information_daytime\" : \"後一時雨、雷を伴う\",\n",
      "          \"@timestamp\" : \"2015-09-04T00:00:00.000Z\",\n",
      "          \"humidity_avg\" : \"88.0\",\n",
      "          \"humidity_min\" : \"55.0\",\n",
      "          \"atmospheric_pressure\" : \"1004.9\",\n",
      "          \"location\" : \"tokyo\",\n",
      "          \"wind_speed_max_moment\" : \"9.9\",\n",
      "          \"snowfall_max\" : null,\n",
      "          \"sea_level_pressure\" : \"1007.7\"\n",
      "        }\n",
      "      },\n",
      "      {\n",
      "        \"_index\" : \"meteorological-data-2015.07\",\n",
      "        \"_type\" : \"logs\",\n",
      "        \"_id\" : \"tokyo_15-07-11\",\n",
      "        \"_score\" : 1.0157484,\n",
      "        \"_source\" : {\n",
      "          \"date\" : \"15-07-11\",\n",
      "          \"wind_speed_avg\" : \"2.8\",\n",
      "          \"snowfall\" : null,\n",
      "          \"temperature_max\" : \"31.3\",\n",
      "          \"precipitation_day\" : null,\n",
      "          \"wind_speed_max\" : \"5.8\",\n",
      "          \"sunshine_duration\" : \"11.5\",\n",
      "          \"temperature_avg\" : \"25.9\",\n",
      "          \"temperature_min\" : \"21.1\",\n",
      "          \"@version\" : \"1\",\n",
      "          \"wind_direction_max_moment\" : null,\n",
      "          \"information_night\" : \"一時薄曇\",\n",
      "          \"precipitation_max_10min\" : null,\n",
      "          \"precipitation_max_hour\" : null,\n",
      "          \"wind_direction\" : null,\n",
      "          \"information_daytime\" : \"一時曇\",\n",
      "          \"@timestamp\" : \"2015-07-11T00:00:00.000Z\",\n",
      "          \"humidity_avg\" : \"76.0\",\n",
      "          \"humidity_min\" : \"51.0\",\n",
      "          \"atmospheric_pressure\" : \"1009.8\",\n",
      "          \"location\" : \"tokyo\",\n",
      "          \"wind_speed_max_moment\" : \"9.0\",\n",
      "          \"snowfall_max\" : null,\n",
      "          \"sea_level_pressure\" : \"1012.5\"\n",
      "        }\n",
      "      },\n",
      "      {\n",
      "        \"_index\" : \"meteorological-data-2015.07\",\n",
      "        \"_type\" : \"logs\",\n",
      "        \"_id\" : \"tokyo_15-07-12\",\n",
      "        \"_score\" : 1.0157484,\n",
      "        \"_source\" : {\n",
      "          \"date\" : \"15-07-12\",\n",
      "          \"wind_speed_avg\" : \"2.7\",\n",
      "          \"snowfall\" : null,\n",
      "          \"temperature_max\" : \"32.0\",\n",
      "          \"precipitation_day\" : null,\n",
      "          \"wind_speed_max\" : \"5.8\",\n",
      "          \"sunshine_duration\" : \"12.6\",\n",
      "          \"temperature_avg\" : \"27.2\",\n",
      "          \"temperature_min\" : \"22.4\",\n",
      "          \"@version\" : \"1\",\n",
      "          \"wind_direction_max_moment\" : \"東\",\n",
      "          \"information_night\" : \"曇時々晴\",\n",
      "          \"precipitation_max_10min\" : null,\n",
      "          \"precipitation_max_hour\" : null,\n",
      "          \"wind_direction\" : \"東\",\n",
      "          \"information_daytime\" : \"時々薄曇\",\n",
      "          \"@timestamp\" : \"2015-07-12T00:00:00.000Z\",\n",
      "          \"humidity_avg\" : \"74.0\",\n",
      "          \"humidity_min\" : \"48.0\",\n",
      "          \"atmospheric_pressure\" : \"1006.9\",\n",
      "          \"location\" : \"tokyo\",\n",
      "          \"wind_speed_max_moment\" : \"9.4\",\n",
      "          \"snowfall_max\" : null,\n",
      "          \"sea_level_pressure\" : \"1009.7\"\n",
      "        }\n",
      "      }\n",
      "    ]\n",
      "  }\n",
      "}\n"
     ]
    },
    {
     "name": "stderr",
     "output_type": "stream",
     "text": [
      "  % Total    % Received % Xferd  Average Speed   Time    Time     Time  Current\n",
      "                                 Dload  Upload   Total   Spent    Left  Speed\n",
      "\r",
      "  0     0    0     0    0     0      0      0 --:--:-- --:--:-- --:--:--     0\r",
      "100 11730  100 11450  100   280   596k  14943 --:--:-- --:--:-- --:--:--  621k\n"
     ]
    }
   ],
   "source": [
    "%%bash\n",
    "curl -XGET \"http://$ES_HOST/$INDEX/_search?pretty\" -d @- << EOF\n",
    "{\n",
    "  \"query\": {\n",
    "    \"bool\": {\n",
    "      \"must\": [\n",
    "        {\n",
    "          \"term\": {\n",
    "            \"location\": \"tokyo\"\n",
    "          }\n",
    "        },\n",
    "        {\n",
    "          \"range\": {\n",
    "            \"temperature_max\" : {\n",
    "              \"gte\" : 30,\n",
    "              \"lt\" : 35\n",
    "            }\n",
    "          }\n",
    "        }\n",
    "      ]\n",
    "    }\n",
    "  }\n",
    "}\n",
    "EOF"
   ]
  },
  {
   "cell_type": "markdown",
   "metadata": {
    "lc_cell_meme": {
     "current": "457cccd0-152a-11e7-b31a-0242ac12000d",
     "next": "457ccea6-152a-11e7-b31a-0242ac12000d",
     "previous": "457ccafa-152a-11e7-b31a-0242ac12000d"
    }
   },
   "source": [
    "### 条件指定:OR条件で検索"
   ]
  },
  {
   "cell_type": "markdown",
   "metadata": {
    "lc_cell_meme": {
     "current": "457ccea6-152a-11e7-b31a-0242ac12000d",
     "next": "457cd068-152a-11e7-b31a-0242ac12000d",
     "previous": "457cccd0-152a-11e7-b31a-0242ac12000d"
    }
   },
   "source": [
    "複数の条件のいずれか1つ以上に一致するドキュメントを検索する場合、\"bool\"の下に\"should\"を指定し、その中に条件を列挙します。"
   ]
  },
  {
   "cell_type": "raw",
   "metadata": {
    "lc_cell_meme": {
     "current": "457cd068-152a-11e7-b31a-0242ac12000d",
     "next": "457cd23e-152a-11e7-b31a-0242ac12000d",
     "previous": "457ccea6-152a-11e7-b31a-0242ac12000d"
    }
   },
   "source": [
    "curl -XGET \"http://<ホスト名>:<ポート番号>/<インデックス名>/_search?pretty\" -d '{\n",
    "  \"query\": {\n",
    "    \"bool\" : {\n",
    "      \"should\" : [ 条件1, 条件2]\n",
    "    }\n",
    "  }\n",
    "}'"
   ]
  },
  {
   "cell_type": "markdown",
   "metadata": {
    "lc_cell_meme": {
     "current": "457cd23e-152a-11e7-b31a-0242ac12000d",
     "next": "457cd40a-152a-11e7-b31a-0242ac12000d",
     "previous": "457cd068-152a-11e7-b31a-0242ac12000d"
    }
   },
   "source": [
    "詳細は、Elasticsearch Referenceの[Bool Query](https://www.elastic.co/guide/en/elasticsearch/reference/current/query-dsl-bool-query.html)を参照してください。"
   ]
  },
  {
   "cell_type": "markdown",
   "metadata": {
    "lc_cell_meme": {
     "current": "457cd40a-152a-11e7-b31a-0242ac12000d",
     "next": "457cd5ea-152a-11e7-b31a-0242ac12000d",
     "previous": "457cd23e-152a-11e7-b31a-0242ac12000d"
    }
   },
   "source": [
    "例えば、\n",
    "\n",
    "- locationが「東京」\n",
    "- temperature_maxが「30℃以上」かつ「35℃未満」\n",
    "\n",
    "という条件のいずれか1つ以上を満たすドキュメントを検索するケース(東京の真夏日を検索するケース)のコマンドは次の通りです。"
   ]
  },
  {
   "cell_type": "code",
   "execution_count": 13,
   "metadata": {
    "lc_cell_meme": {
     "current": "457cd5ea-152a-11e7-b31a-0242ac12000d",
     "next": "457cd7c0-152a-11e7-b31a-0242ac12000d",
     "previous": "457cd40a-152a-11e7-b31a-0242ac12000d"
    }
   },
   "outputs": [
    {
     "name": "stdout",
     "output_type": "stream",
     "text": [
      "{\n",
      "  \"took\" : 4,\n",
      "  \"timed_out\" : false,\n",
      "  \"_shards\" : {\n",
      "    \"total\" : 13,\n",
      "    \"successful\" : 13,\n",
      "    \"failed\" : 0\n",
      "  },\n",
      "  \"hits\" : {\n",
      "    \"total\" : 358,\n",
      "    \"max_score\" : 1.0168071,\n",
      "    \"hits\" : [\n",
      "      {\n",
      "        \"_index\" : \"meteorological-data-2015.05\",\n",
      "        \"_type\" : \"logs\",\n",
      "        \"_id\" : \"tokyo_15-05-26\",\n",
      "        \"_score\" : 1.0168071,\n",
      "        \"_source\" : {\n",
      "          \"date\" : \"15-05-26\",\n",
      "          \"wind_speed_avg\" : \"2.6\",\n",
      "          \"snowfall\" : null,\n",
      "          \"temperature_max\" : \"30.9\",\n",
      "          \"precipitation_day\" : null,\n",
      "          \"wind_speed_max\" : \"5.5\",\n",
      "          \"sunshine_duration\" : \"12.5\",\n",
      "          \"temperature_avg\" : \"23.3\",\n",
      "          \"temperature_min\" : \"16.9\",\n",
      "          \"@version\" : \"1\",\n",
      "          \"wind_direction_max_moment\" : \"西\",\n",
      "          \"information_night\" : \"晴\",\n",
      "          \"precipitation_max_10min\" : null,\n",
      "          \"precipitation_max_hour\" : null,\n",
      "          \"wind_direction\" : null,\n",
      "          \"information_daytime\" : null,\n",
      "          \"@timestamp\" : \"2015-05-26T00:00:00.000Z\",\n",
      "          \"humidity_avg\" : \"53.0\",\n",
      "          \"humidity_min\" : \"13.0\",\n",
      "          \"atmospheric_pressure\" : \"1005.0\",\n",
      "          \"location\" : \"tokyo\",\n",
      "          \"wind_speed_max_moment\" : \"8.0\",\n",
      "          \"snowfall_max\" : null,\n",
      "          \"sea_level_pressure\" : \"1007.8\"\n",
      "        }\n",
      "      },\n",
      "      {\n",
      "        \"_index\" : \"meteorological-data-2015.05\",\n",
      "        \"_type\" : \"logs\",\n",
      "        \"_id\" : \"tokyo_15-05-27\",\n",
      "        \"_score\" : 1.0168071,\n",
      "        \"_source\" : {\n",
      "          \"date\" : \"15-05-27\",\n",
      "          \"wind_speed_avg\" : \"3.2\",\n",
      "          \"snowfall\" : null,\n",
      "          \"temperature_max\" : \"30.2\",\n",
      "          \"precipitation_day\" : null,\n",
      "          \"wind_speed_max\" : \"7.0\",\n",
      "          \"sunshine_duration\" : \"12.6\",\n",
      "          \"temperature_avg\" : \"23.9\",\n",
      "          \"temperature_min\" : \"18.7\",\n",
      "          \"@version\" : \"1\",\n",
      "          \"wind_direction_max_moment\" : \"南東\",\n",
      "          \"information_night\" : \"一時晴\",\n",
      "          \"precipitation_max_10min\" : null,\n",
      "          \"precipitation_max_hour\" : null,\n",
      "          \"wind_direction\" : \"東\",\n",
      "          \"information_daytime\" : \"後一時薄曇\",\n",
      "          \"@timestamp\" : \"2015-05-27T00:00:00.000Z\",\n",
      "          \"humidity_avg\" : \"55.0\",\n",
      "          \"humidity_min\" : \"30.0\",\n",
      "          \"atmospheric_pressure\" : \"1007.2\",\n",
      "          \"location\" : \"tokyo\",\n",
      "          \"wind_speed_max_moment\" : \"10.0\",\n",
      "          \"snowfall_max\" : null,\n",
      "          \"sea_level_pressure\" : \"1010.0\"\n",
      "        }\n",
      "      },\n",
      "      {\n",
      "        \"_index\" : \"meteorological-data-2015.05\",\n",
      "        \"_type\" : \"logs\",\n",
      "        \"_id\" : \"tokyo_15-05-31\",\n",
      "        \"_score\" : 1.0168071,\n",
      "        \"_source\" : {\n",
      "          \"date\" : \"15-05-31\",\n",
      "          \"wind_speed_avg\" : \"2.6\",\n",
      "          \"snowfall\" : null,\n",
      "          \"temperature_max\" : \"32.2\",\n",
      "          \"precipitation_day\" : \"0\",\n",
      "          \"wind_speed_max\" : \"6.0\",\n",
      "          \"sunshine_duration\" : \"10.4\",\n",
      "          \"temperature_avg\" : \"25.7\",\n",
      "          \"temperature_min\" : \"20.6\",\n",
      "          \"@version\" : \"1\",\n",
      "          \"wind_direction_max_moment\" : \"西\",\n",
      "          \"information_night\" : null,\n",
      "          \"precipitation_max_10min\" : \"0\",\n",
      "          \"precipitation_max_hour\" : \"0\",\n",
      "          \"wind_direction\" : \"南東\",\n",
      "          \"information_daytime\" : \"後一時薄曇\",\n",
      "          \"@timestamp\" : \"2015-05-31T00:00:00.000Z\",\n",
      "          \"humidity_avg\" : \"59.0\",\n",
      "          \"humidity_min\" : \"20.0\",\n",
      "          \"atmospheric_pressure\" : \"1000.2\",\n",
      "          \"location\" : \"tokyo\",\n",
      "          \"wind_speed_max_moment\" : \"10.7\",\n",
      "          \"snowfall_max\" : null,\n",
      "          \"sea_level_pressure\" : \"1002.9\"\n",
      "        }\n",
      "      },\n",
      "      {\n",
      "        \"_index\" : \"meteorological-data-2015.06\",\n",
      "        \"_type\" : \"logs\",\n",
      "        \"_id\" : \"tokyo_15-06-15\",\n",
      "        \"_score\" : 1.0168071,\n",
      "        \"_source\" : {\n",
      "          \"date\" : \"15-06-15\",\n",
      "          \"wind_speed_avg\" : \"2.5\",\n",
      "          \"snowfall\" : null,\n",
      "          \"temperature_max\" : \"30.8\",\n",
      "          \"precipitation_day\" : null,\n",
      "          \"wind_speed_max\" : \"6.5\",\n",
      "          \"sunshine_duration\" : \"12.2\",\n",
      "          \"temperature_avg\" : \"24.6\",\n",
      "          \"temperature_min\" : \"19.5\",\n",
      "          \"@version\" : \"1\",\n",
      "          \"wind_direction_max_moment\" : \"東\",\n",
      "          \"information_night\" : \"曇\",\n",
      "          \"precipitation_max_10min\" : null,\n",
      "          \"precipitation_max_hour\" : null,\n",
      "          \"wind_direction\" : \"東\",\n",
      "          \"information_daytime\" : \"曇一時晴\",\n",
      "          \"@timestamp\" : \"2015-06-15T00:00:00.000Z\",\n",
      "          \"humidity_avg\" : \"69.0\",\n",
      "          \"humidity_min\" : \"42.0\",\n",
      "          \"atmospheric_pressure\" : \"1005.4\",\n",
      "          \"location\" : \"tokyo\",\n",
      "          \"wind_speed_max_moment\" : \"10.4\",\n",
      "          \"snowfall_max\" : null,\n",
      "          \"sea_level_pressure\" : \"1008.2\"\n",
      "        }\n",
      "      },\n",
      "      {\n",
      "        \"_index\" : \"meteorological-data-2015.06\",\n",
      "        \"_type\" : \"logs\",\n",
      "        \"_id\" : \"tokyo_15-06-28\",\n",
      "        \"_score\" : 1.0168071,\n",
      "        \"_source\" : {\n",
      "          \"date\" : \"15-06-28\",\n",
      "          \"wind_speed_avg\" : \"2.7\",\n",
      "          \"snowfall\" : null,\n",
      "          \"temperature_max\" : \"31.4\",\n",
      "          \"precipitation_day\" : null,\n",
      "          \"wind_speed_max\" : \"5.9\",\n",
      "          \"sunshine_duration\" : \"8.0\",\n",
      "          \"temperature_avg\" : \"23.2\",\n",
      "          \"temperature_min\" : \"18.4\",\n",
      "          \"@version\" : \"1\",\n",
      "          \"wind_direction_max_moment\" : \"南東\",\n",
      "          \"information_night\" : null,\n",
      "          \"precipitation_max_10min\" : null,\n",
      "          \"precipitation_max_hour\" : null,\n",
      "          \"wind_direction\" : \"東\",\n",
      "          \"information_daytime\" : \"後曇\",\n",
      "          \"@timestamp\" : \"2015-06-28T00:00:00.000Z\",\n",
      "          \"humidity_avg\" : \"70.0\",\n",
      "          \"humidity_min\" : \"36.0\",\n",
      "          \"atmospheric_pressure\" : \"998.4\",\n",
      "          \"location\" : \"tokyo\",\n",
      "          \"wind_speed_max_moment\" : \"10.7\",\n",
      "          \"snowfall_max\" : null,\n",
      "          \"sea_level_pressure\" : \"1001.2\"\n",
      "        }\n",
      "      },\n",
      "      {\n",
      "        \"_index\" : \"meteorological-data-2015.09\",\n",
      "        \"_type\" : \"logs\",\n",
      "        \"_id\" : \"tokyo_15-09-02\",\n",
      "        \"_score\" : 1.0162605,\n",
      "        \"_source\" : {\n",
      "          \"date\" : \"15-09-02\",\n",
      "          \"wind_speed_avg\" : \"5.0\",\n",
      "          \"snowfall\" : null,\n",
      "          \"temperature_max\" : \"31.5\",\n",
      "          \"precipitation_day\" : \"5.5\",\n",
      "          \"wind_speed_max\" : \"9.1\",\n",
      "          \"sunshine_duration\" : \"6.1\",\n",
      "          \"temperature_avg\" : \"26.9\",\n",
      "          \"temperature_min\" : \"24.5\",\n",
      "          \"@version\" : \"1\",\n",
      "          \"wind_direction_max_moment\" : \"南東\",\n",
      "          \"information_night\" : \"後曇\",\n",
      "          \"precipitation_max_10min\" : \"1.0\",\n",
      "          \"precipitation_max_hour\" : \"2.0\",\n",
      "          \"wind_direction\" : null,\n",
      "          \"information_daytime\" : \"時々雨後晴\",\n",
      "          \"@timestamp\" : \"2015-09-02T00:00:00.000Z\",\n",
      "          \"humidity_avg\" : \"82.0\",\n",
      "          \"humidity_min\" : \"60.0\",\n",
      "          \"atmospheric_pressure\" : \"1007.4\",\n",
      "          \"location\" : \"tokyo\",\n",
      "          \"wind_speed_max_moment\" : \"15.4\",\n",
      "          \"snowfall_max\" : null,\n",
      "          \"sea_level_pressure\" : \"1010.1\"\n",
      "        }\n",
      "      },\n",
      "      {\n",
      "        \"_index\" : \"meteorological-data-2015.09\",\n",
      "        \"_type\" : \"logs\",\n",
      "        \"_id\" : \"tokyo_15-09-03\",\n",
      "        \"_score\" : 1.0162605,\n",
      "        \"_source\" : {\n",
      "          \"date\" : \"15-09-03\",\n",
      "          \"wind_speed_avg\" : \"2.6\",\n",
      "          \"snowfall\" : null,\n",
      "          \"temperature_max\" : \"30.4\",\n",
      "          \"precipitation_day\" : \"1.5\",\n",
      "          \"wind_speed_max\" : \"6.5\",\n",
      "          \"sunshine_duration\" : \"1.5\",\n",
      "          \"temperature_avg\" : \"25.7\",\n",
      "          \"temperature_min\" : \"22.9\",\n",
      "          \"@version\" : \"1\",\n",
      "          \"wind_direction_max_moment\" : \"南西\",\n",
      "          \"information_night\" : \"時々曇\",\n",
      "          \"precipitation_max_10min\" : \"0.5\",\n",
      "          \"precipitation_max_hour\" : \"1.0\",\n",
      "          \"wind_direction\" : \"南西\",\n",
      "          \"information_daytime\" : \"後一時雨\",\n",
      "          \"@timestamp\" : \"2015-09-03T00:00:00.000Z\",\n",
      "          \"humidity_avg\" : \"78.0\",\n",
      "          \"humidity_min\" : \"55.0\",\n",
      "          \"atmospheric_pressure\" : \"1008.7\",\n",
      "          \"location\" : \"tokyo\",\n",
      "          \"wind_speed_max_moment\" : \"10.2\",\n",
      "          \"snowfall_max\" : null,\n",
      "          \"sea_level_pressure\" : \"1011.5\"\n",
      "        }\n",
      "      },\n",
      "      {\n",
      "        \"_index\" : \"meteorological-data-2015.09\",\n",
      "        \"_type\" : \"logs\",\n",
      "        \"_id\" : \"tokyo_15-09-04\",\n",
      "        \"_score\" : 1.0162605,\n",
      "        \"_source\" : {\n",
      "          \"date\" : \"15-09-04\",\n",
      "          \"wind_speed_avg\" : \"2.5\",\n",
      "          \"snowfall\" : null,\n",
      "          \"temperature_max\" : \"30.1\",\n",
      "          \"precipitation_day\" : \"14.0\",\n",
      "          \"wind_speed_max\" : \"5.4\",\n",
      "          \"sunshine_duration\" : \"6.3\",\n",
      "          \"temperature_avg\" : \"24.7\",\n",
      "          \"temperature_min\" : \"22.3\",\n",
      "          \"@version\" : \"1\",\n",
      "          \"wind_direction_max_moment\" : \"南西\",\n",
      "          \"information_night\" : \"一時晴\",\n",
      "          \"precipitation_max_10min\" : \"4.5\",\n",
      "          \"precipitation_max_hour\" : \"8.0\",\n",
      "          \"wind_direction\" : null,\n",
      "          \"information_daytime\" : \"後一時雨、雷を伴う\",\n",
      "          \"@timestamp\" : \"2015-09-04T00:00:00.000Z\",\n",
      "          \"humidity_avg\" : \"88.0\",\n",
      "          \"humidity_min\" : \"55.0\",\n",
      "          \"atmospheric_pressure\" : \"1004.9\",\n",
      "          \"location\" : \"tokyo\",\n",
      "          \"wind_speed_max_moment\" : \"9.9\",\n",
      "          \"snowfall_max\" : null,\n",
      "          \"sea_level_pressure\" : \"1007.7\"\n",
      "        }\n",
      "      },\n",
      "      {\n",
      "        \"_index\" : \"meteorological-data-2015.07\",\n",
      "        \"_type\" : \"logs\",\n",
      "        \"_id\" : \"tokyo_15-07-11\",\n",
      "        \"_score\" : 1.0157484,\n",
      "        \"_source\" : {\n",
      "          \"date\" : \"15-07-11\",\n",
      "          \"wind_speed_avg\" : \"2.8\",\n",
      "          \"snowfall\" : null,\n",
      "          \"temperature_max\" : \"31.3\",\n",
      "          \"precipitation_day\" : null,\n",
      "          \"wind_speed_max\" : \"5.8\",\n",
      "          \"sunshine_duration\" : \"11.5\",\n",
      "          \"temperature_avg\" : \"25.9\",\n",
      "          \"temperature_min\" : \"21.1\",\n",
      "          \"@version\" : \"1\",\n",
      "          \"wind_direction_max_moment\" : null,\n",
      "          \"information_night\" : \"一時薄曇\",\n",
      "          \"precipitation_max_10min\" : null,\n",
      "          \"precipitation_max_hour\" : null,\n",
      "          \"wind_direction\" : null,\n",
      "          \"information_daytime\" : \"一時曇\",\n",
      "          \"@timestamp\" : \"2015-07-11T00:00:00.000Z\",\n",
      "          \"humidity_avg\" : \"76.0\",\n",
      "          \"humidity_min\" : \"51.0\",\n",
      "          \"atmospheric_pressure\" : \"1009.8\",\n",
      "          \"location\" : \"tokyo\",\n",
      "          \"wind_speed_max_moment\" : \"9.0\",\n",
      "          \"snowfall_max\" : null,\n",
      "          \"sea_level_pressure\" : \"1012.5\"\n",
      "        }\n",
      "      },\n",
      "      {\n",
      "        \"_index\" : \"meteorological-data-2015.07\",\n",
      "        \"_type\" : \"logs\",\n",
      "        \"_id\" : \"tokyo_15-07-12\",\n",
      "        \"_score\" : 1.0157484,\n",
      "        \"_source\" : {\n",
      "          \"date\" : \"15-07-12\",\n",
      "          \"wind_speed_avg\" : \"2.7\",\n",
      "          \"snowfall\" : null,\n",
      "          \"temperature_max\" : \"32.0\",\n",
      "          \"precipitation_day\" : null,\n",
      "          \"wind_speed_max\" : \"5.8\",\n",
      "          \"sunshine_duration\" : \"12.6\",\n",
      "          \"temperature_avg\" : \"27.2\",\n",
      "          \"temperature_min\" : \"22.4\",\n",
      "          \"@version\" : \"1\",\n",
      "          \"wind_direction_max_moment\" : \"東\",\n",
      "          \"information_night\" : \"曇時々晴\",\n",
      "          \"precipitation_max_10min\" : null,\n",
      "          \"precipitation_max_hour\" : null,\n",
      "          \"wind_direction\" : \"東\",\n",
      "          \"information_daytime\" : \"時々薄曇\",\n",
      "          \"@timestamp\" : \"2015-07-12T00:00:00.000Z\",\n",
      "          \"humidity_avg\" : \"74.0\",\n",
      "          \"humidity_min\" : \"48.0\",\n",
      "          \"atmospheric_pressure\" : \"1006.9\",\n",
      "          \"location\" : \"tokyo\",\n",
      "          \"wind_speed_max_moment\" : \"9.4\",\n",
      "          \"snowfall_max\" : null,\n",
      "          \"sea_level_pressure\" : \"1009.7\"\n",
      "        }\n",
      "      }\n",
      "    ]\n",
      "  }\n",
      "}\n"
     ]
    },
    {
     "name": "stderr",
     "output_type": "stream",
     "text": [
      "  % Total    % Received % Xferd  Average Speed   Time    Time     Time  Current\n",
      "                                 Dload  Upload   Total   Spent    Left  Speed\n",
      "\r",
      "  0     0    0     0    0     0      0      0 --:--:-- --:--:-- --:--:--     0\r",
      "100 11733  100 11451  100   282   637k  16066 --:--:-- --:--:-- --:--:--  657k\n"
     ]
    }
   ],
   "source": [
    "%%bash\n",
    "curl -XGET \"http://$ES_HOST/$INDEX/_search?pretty\" -d @- << EOF\n",
    "{\n",
    "  \"query\": {\n",
    "    \"bool\": {\n",
    "      \"should\": [\n",
    "        {\n",
    "          \"term\": {\n",
    "            \"location\": \"tokyo\"\n",
    "          }\n",
    "        },\n",
    "        {\n",
    "          \"range\": {\n",
    "            \"temperature_max\" : {\n",
    "              \"gte\" : 30,\n",
    "              \"lt\" : 35\n",
    "            }\n",
    "          }\n",
    "        }\n",
    "      ]\n",
    "    }\n",
    "  }\n",
    "}\n",
    "EOF"
   ]
  },
  {
   "cell_type": "markdown",
   "metadata": {
    "lc_cell_meme": {
     "current": "457cd7c0-152a-11e7-b31a-0242ac12000d",
     "next": "457cd982-152a-11e7-b31a-0242ac12000d",
     "previous": "457cd5ea-152a-11e7-b31a-0242ac12000d"
    }
   },
   "source": [
    "実は「should」は「複数条件のうち、指定数以上に一致する」ドキュメントを検索することができます。\n",
    "\n",
    "例えば、3つの条件のうち、2つ以上に一致するドキュメントを検索する場合、次の形式でリクエストを送信します。"
   ]
  },
  {
   "cell_type": "raw",
   "metadata": {
    "lc_cell_meme": {
     "current": "457cd982-152a-11e7-b31a-0242ac12000d",
     "next": "457cdb4e-152a-11e7-b31a-0242ac12000d",
     "previous": "457cd7c0-152a-11e7-b31a-0242ac12000d"
    }
   },
   "source": [
    "curl -XGET \"http://<ホスト名>:<ポート番号>/<インデックス名>/_search?pretty\" -d '{\n",
    "  \"query\": {\n",
    "    \"bool\" : {\n",
    "      \"should\" : [ 条件1, 条件2, 条件3],\n",
    "      \"minimum_should_match\" : 2\n",
    "    }\n",
    "  }\n",
    "}'"
   ]
  },
  {
   "cell_type": "markdown",
   "metadata": {
    "lc_cell_meme": {
     "current": "457cdb4e-152a-11e7-b31a-0242ac12000d",
     "next": "457cdd1a-152a-11e7-b31a-0242ac12000d",
     "previous": "457cd982-152a-11e7-b31a-0242ac12000d"
    }
   },
   "source": [
    "一致する最低数を「minimum_should_match」で指定します。  \n",
    "    「minimum_should_match」のデフォルト値が1であるため、省略すると「複数の条件のいずれか1つ以上に一致」という検索(OR検索)になります。"
   ]
  },
  {
   "cell_type": "markdown",
   "metadata": {
    "lc_cell_meme": {
     "current": "457cdd1a-152a-11e7-b31a-0242ac12000d",
     "next": "457cdef0-152a-11e7-b31a-0242ac12000d",
     "previous": "457cdb4e-152a-11e7-b31a-0242ac12000d"
    }
   },
   "source": [
    "### 検索結果のソート"
   ]
  },
  {
   "cell_type": "markdown",
   "metadata": {
    "lc_cell_meme": {
     "current": "457cdef0-152a-11e7-b31a-0242ac12000d",
     "next": "457ce0bc-152a-11e7-b31a-0242ac12000d",
     "previous": "457cdd1a-152a-11e7-b31a-0242ac12000d"
    }
   },
   "source": [
    "ソートした検索結果を取得したい場合、\"query\"と同じ階層に\"sort\"を指定することで、ソート条件を指定できます。  "
   ]
  },
  {
   "cell_type": "raw",
   "metadata": {
    "lc_cell_meme": {
     "current": "457ce0bc-152a-11e7-b31a-0242ac12000d",
     "next": "457ce288-152a-11e7-b31a-0242ac12000d",
     "previous": "457cdef0-152a-11e7-b31a-0242ac12000d"
    }
   },
   "source": [
    "curl -XGET \"http://<ホスト名>:<ポート番号>/<インデックス名>/_search?pretty\" -d '{\n",
    "  \"sort\": [\n",
    "    { 1番目に優先するフィールド名: ソート順 },\n",
    "    { 2番目に優先するフィールド名: ソート順 }\n",
    "  ],\n",
    "  \"query\": 条件\n",
    "}'"
   ]
  },
  {
   "cell_type": "markdown",
   "metadata": {
    "lc_cell_meme": {
     "current": "457ce288-152a-11e7-b31a-0242ac12000d",
     "next": "457ce45e-152a-11e7-b31a-0242ac12000d",
     "previous": "457ce0bc-152a-11e7-b31a-0242ac12000d"
    }
   },
   "source": [
    "優先度の高い順にフィールド名と、ソート順(昇順・降順)を配列で指定します。  \n",
    "昇順の場合は「asc」、降順の場合は「desc」を指定します。\n",
    "\n",
    "詳細は、Elasticsearch Referenceの[Sort](https://www.elastic.co/guide/en/elasticsearch/reference/current/search-request-sort.html)を参照してください。"
   ]
  },
  {
   "cell_type": "markdown",
   "metadata": {
    "lc_cell_meme": {
     "current": "457ce45e-152a-11e7-b31a-0242ac12000d",
     "next": "457ce620-152a-11e7-b31a-0242ac12000d",
     "previous": "457ce288-152a-11e7-b31a-0242ac12000d"
    }
   },
   "source": [
    "locationが「tokyo」のドキュメントを、最高気温の高い順（降順）で検索するコマンドは次の通りです。"
   ]
  },
  {
   "cell_type": "code",
   "execution_count": 14,
   "metadata": {
    "lc_cell_meme": {
     "current": "457ce620-152a-11e7-b31a-0242ac12000d",
     "next": "457ce7f6-152a-11e7-b31a-0242ac12000d",
     "previous": "457ce45e-152a-11e7-b31a-0242ac12000d"
    },
    "scrolled": true
   },
   "outputs": [
    {
     "name": "stdout",
     "output_type": "stream",
     "text": [
      "{\n",
      "  \"took\" : 20,\n",
      "  \"timed_out\" : false,\n",
      "  \"_shards\" : {\n",
      "    \"total\" : 13,\n",
      "    \"successful\" : 13,\n",
      "    \"failed\" : 0\n",
      "  },\n",
      "  \"hits\" : {\n",
      "    \"total\" : 358,\n",
      "    \"max_score\" : null,\n",
      "    \"hits\" : [\n",
      "      {\n",
      "        \"_index\" : \"meteorological-data-2015.08\",\n",
      "        \"_type\" : \"logs\",\n",
      "        \"_id\" : \"tokyo_15-08-07\",\n",
      "        \"_score\" : null,\n",
      "        \"_source\" : {\n",
      "          \"date\" : \"15-08-07\",\n",
      "          \"wind_speed_avg\" : \"2.6\",\n",
      "          \"snowfall\" : null,\n",
      "          \"temperature_max\" : \"37.7\",\n",
      "          \"precipitation_day\" : null,\n",
      "          \"wind_speed_max\" : \"6.1\",\n",
      "          \"sunshine_duration\" : \"9.2\",\n",
      "          \"temperature_avg\" : \"31.5\",\n",
      "          \"temperature_min\" : \"26.8\",\n",
      "          \"@version\" : \"1\",\n",
      "          \"wind_direction_max_moment\" : \"南東\",\n",
      "          \"information_night\" : \"時々晴\",\n",
      "          \"precipitation_max_10min\" : null,\n",
      "          \"precipitation_max_hour\" : null,\n",
      "          \"wind_direction\" : \"東\",\n",
      "          \"information_daytime\" : \"後時々薄曇\",\n",
      "          \"@timestamp\" : \"2015-08-07T00:00:00.000Z\",\n",
      "          \"humidity_avg\" : \"61.0\",\n",
      "          \"humidity_min\" : \"42.0\",\n",
      "          \"atmospheric_pressure\" : \"1011.6\",\n",
      "          \"location\" : \"tokyo\",\n",
      "          \"wind_speed_max_moment\" : \"9.8\",\n",
      "          \"snowfall_max\" : null,\n",
      "          \"sea_level_pressure\" : \"1014.3\"\n",
      "        },\n",
      "        \"sort\" : [\n",
      "          37.7\n",
      "        ]\n",
      "      },\n",
      "      {\n",
      "        \"_index\" : \"meteorological-data-2015.08\",\n",
      "        \"_type\" : \"logs\",\n",
      "        \"_id\" : \"tokyo_15-08-06\",\n",
      "        \"_score\" : null,\n",
      "        \"_source\" : {\n",
      "          \"date\" : \"15-08-06\",\n",
      "          \"wind_speed_avg\" : \"3.0\",\n",
      "          \"snowfall\" : null,\n",
      "          \"temperature_max\" : \"35.9\",\n",
      "          \"precipitation_day\" : null,\n",
      "          \"wind_speed_max\" : \"6.7\",\n",
      "          \"sunshine_duration\" : \"11.9\",\n",
      "          \"temperature_avg\" : \"30.9\",\n",
      "          \"temperature_min\" : \"26.8\",\n",
      "          \"@version\" : \"1\",\n",
      "          \"wind_direction_max_moment\" : \"東\",\n",
      "          \"information_night\" : \"後一時薄曇\",\n",
      "          \"precipitation_max_10min\" : null,\n",
      "          \"precipitation_max_hour\" : null,\n",
      "          \"wind_direction\" : \"東\",\n",
      "          \"information_daytime\" : null,\n",
      "          \"@timestamp\" : \"2015-08-06T00:00:00.000Z\",\n",
      "          \"humidity_avg\" : \"68.0\",\n",
      "          \"humidity_min\" : \"52.0\",\n",
      "          \"atmospheric_pressure\" : \"1009.8\",\n",
      "          \"location\" : \"tokyo\",\n",
      "          \"wind_speed_max_moment\" : \"10.0\",\n",
      "          \"snowfall_max\" : null,\n",
      "          \"sea_level_pressure\" : \"1012.5\"\n",
      "        },\n",
      "        \"sort\" : [\n",
      "          35.9\n",
      "        ]\n",
      "      },\n",
      "      {\n",
      "        \"_index\" : \"meteorological-data-2015.07\",\n",
      "        \"_type\" : \"logs\",\n",
      "        \"_id\" : \"tokyo_15-07-26\",\n",
      "        \"_score\" : null,\n",
      "        \"_source\" : {\n",
      "          \"date\" : \"15-07-26\",\n",
      "          \"wind_speed_avg\" : \"2.4\",\n",
      "          \"snowfall\" : null,\n",
      "          \"temperature_max\" : \"35.8\",\n",
      "          \"precipitation_day\" : null,\n",
      "          \"wind_speed_max\" : \"5.6\",\n",
      "          \"sunshine_duration\" : \"12.4\",\n",
      "          \"temperature_avg\" : \"30.3\",\n",
      "          \"temperature_min\" : \"26.0\",\n",
      "          \"@version\" : \"1\",\n",
      "          \"wind_direction_max_moment\" : \"南東\",\n",
      "          \"information_night\" : null,\n",
      "          \"precipitation_max_10min\" : null,\n",
      "          \"precipitation_max_hour\" : null,\n",
      "          \"wind_direction\" : \"南東\",\n",
      "          \"information_daytime\" : \"曇時々晴\",\n",
      "          \"@timestamp\" : \"2015-07-26T00:00:00.000Z\",\n",
      "          \"humidity_avg\" : \"72.0\",\n",
      "          \"humidity_min\" : \"44.0\",\n",
      "          \"atmospheric_pressure\" : \"1007.3\",\n",
      "          \"location\" : \"tokyo\",\n",
      "          \"wind_speed_max_moment\" : \"8.6\",\n",
      "          \"snowfall_max\" : null,\n",
      "          \"sea_level_pressure\" : \"1010.0\"\n",
      "        },\n",
      "        \"sort\" : [\n",
      "          35.8\n",
      "        ]\n",
      "      },\n",
      "      {\n",
      "        \"_index\" : \"meteorological-data-2015.08\",\n",
      "        \"_type\" : \"logs\",\n",
      "        \"_id\" : \"tokyo_15-08-11\",\n",
      "        \"_score\" : null,\n",
      "        \"_source\" : {\n",
      "          \"date\" : \"15-08-11\",\n",
      "          \"wind_speed_avg\" : \"2.6\",\n",
      "          \"snowfall\" : null,\n",
      "          \"temperature_max\" : \"35.5\",\n",
      "          \"precipitation_day\" : null,\n",
      "          \"wind_speed_max\" : \"4.7\",\n",
      "          \"sunshine_duration\" : \"7.8\",\n",
      "          \"temperature_avg\" : \"29.4\",\n",
      "          \"temperature_min\" : \"25.3\",\n",
      "          \"@version\" : \"1\",\n",
      "          \"wind_direction_max_moment\" : null,\n",
      "          \"information_night\" : null,\n",
      "          \"precipitation_max_10min\" : null,\n",
      "          \"precipitation_max_hour\" : null,\n",
      "          \"wind_direction\" : \"北東\",\n",
      "          \"information_daytime\" : \"後時々晴\",\n",
      "          \"@timestamp\" : \"2015-08-11T00:00:00.000Z\",\n",
      "          \"humidity_avg\" : \"70.0\",\n",
      "          \"humidity_min\" : \"45.0\",\n",
      "          \"atmospheric_pressure\" : \"1003.1\",\n",
      "          \"location\" : \"tokyo\",\n",
      "          \"wind_speed_max_moment\" : \"9.3\",\n",
      "          \"snowfall_max\" : null,\n",
      "          \"sea_level_pressure\" : \"1005.8\"\n",
      "        },\n",
      "        \"sort\" : [\n",
      "          35.5\n",
      "        ]\n",
      "      },\n",
      "      {\n",
      "        \"_index\" : \"meteorological-data-2015.08\",\n",
      "        \"_type\" : \"logs\",\n",
      "        \"_id\" : \"tokyo_15-08-01\",\n",
      "        \"_score\" : null,\n",
      "        \"_source\" : {\n",
      "          \"date\" : \"15-08-01\",\n",
      "          \"wind_speed_avg\" : \"2.6\",\n",
      "          \"snowfall\" : null,\n",
      "          \"temperature_max\" : \"35.3\",\n",
      "          \"precipitation_day\" : null,\n",
      "          \"wind_speed_max\" : \"5.1\",\n",
      "          \"sunshine_duration\" : \"8.9\",\n",
      "          \"temperature_avg\" : \"30.5\",\n",
      "          \"temperature_min\" : \"26.6\",\n",
      "          \"@version\" : \"1\",\n",
      "          \"wind_direction_max_moment\" : null,\n",
      "          \"information_night\" : \"一時曇\",\n",
      "          \"precipitation_max_10min\" : null,\n",
      "          \"precipitation_max_hour\" : null,\n",
      "          \"wind_direction\" : null,\n",
      "          \"information_daytime\" : null,\n",
      "          \"@timestamp\" : \"2015-08-01T00:00:00.000Z\",\n",
      "          \"humidity_avg\" : \"76.0\",\n",
      "          \"humidity_min\" : \"50.0\",\n",
      "          \"atmospheric_pressure\" : \"1007.6\",\n",
      "          \"location\" : \"tokyo\",\n",
      "          \"wind_speed_max_moment\" : \"8.5\",\n",
      "          \"snowfall_max\" : null,\n",
      "          \"sea_level_pressure\" : \"1010.3\"\n",
      "        },\n",
      "        \"sort\" : [\n",
      "          35.3\n",
      "        ]\n",
      "      },\n",
      "      {\n",
      "        \"_index\" : \"meteorological-data-2015.08\",\n",
      "        \"_type\" : \"logs\",\n",
      "        \"_id\" : \"tokyo_15-08-05\",\n",
      "        \"_score\" : null,\n",
      "        \"_source\" : {\n",
      "          \"date\" : \"15-08-05\",\n",
      "          \"wind_speed_avg\" : \"4.1\",\n",
      "          \"snowfall\" : null,\n",
      "          \"temperature_max\" : \"35.2\",\n",
      "          \"precipitation_day\" : null,\n",
      "          \"wind_speed_max\" : \"8.2\",\n",
      "          \"sunshine_duration\" : \"12.8\",\n",
      "          \"temperature_avg\" : \"30.2\",\n",
      "          \"temperature_min\" : \"25.7\",\n",
      "          \"@version\" : \"1\",\n",
      "          \"wind_direction_max_moment\" : \"南東\",\n",
      "          \"information_night\" : \"晴\",\n",
      "          \"precipitation_max_10min\" : null,\n",
      "          \"precipitation_max_hour\" : null,\n",
      "          \"wind_direction\" : \"南東\",\n",
      "          \"information_daytime\" : \"晴\",\n",
      "          \"@timestamp\" : \"2015-08-05T00:00:00.000Z\",\n",
      "          \"humidity_avg\" : \"69.0\",\n",
      "          \"humidity_min\" : \"47.0\",\n",
      "          \"atmospheric_pressure\" : \"1007.4\",\n",
      "          \"location\" : \"tokyo\",\n",
      "          \"wind_speed_max_moment\" : \"13.1\",\n",
      "          \"snowfall_max\" : null,\n",
      "          \"sea_level_pressure\" : \"1010.1\"\n",
      "        },\n",
      "        \"sort\" : [\n",
      "          35.2\n",
      "        ]\n",
      "      },\n",
      "      {\n",
      "        \"_index\" : \"meteorological-data-2015.08\",\n",
      "        \"_type\" : \"logs\",\n",
      "        \"_id\" : \"tokyo_15-08-02\",\n",
      "        \"_score\" : null,\n",
      "        \"_source\" : {\n",
      "          \"date\" : \"15-08-02\",\n",
      "          \"wind_speed_avg\" : \"2.6\",\n",
      "          \"snowfall\" : null,\n",
      "          \"temperature_max\" : \"35.1\",\n",
      "          \"precipitation_day\" : \"0\",\n",
      "          \"wind_speed_max\" : \"5.6\",\n",
      "          \"sunshine_duration\" : \"9.6\",\n",
      "          \"temperature_avg\" : \"30.2\",\n",
      "          \"temperature_min\" : \"26.3\",\n",
      "          \"@version\" : \"1\",\n",
      "          \"wind_direction_max_moment\" : \"東\",\n",
      "          \"information_night\" : \"時々晴\",\n",
      "          \"precipitation_max_10min\" : \"0\",\n",
      "          \"precipitation_max_hour\" : \"0\",\n",
      "          \"wind_direction\" : \"南東\",\n",
      "          \"information_daytime\" : null,\n",
      "          \"@timestamp\" : \"2015-08-02T00:00:00.000Z\",\n",
      "          \"humidity_avg\" : \"71.0\",\n",
      "          \"humidity_min\" : \"54.0\",\n",
      "          \"atmospheric_pressure\" : \"1009.2\",\n",
      "          \"location\" : \"tokyo\",\n",
      "          \"wind_speed_max_moment\" : \"9.3\",\n",
      "          \"snowfall_max\" : null,\n",
      "          \"sea_level_pressure\" : \"1011.9\"\n",
      "        },\n",
      "        \"sort\" : [\n",
      "          35.1\n",
      "        ]\n",
      "      },\n",
      "      {\n",
      "        \"_index\" : \"meteorological-data-2015.08\",\n",
      "        \"_type\" : \"logs\",\n",
      "        \"_id\" : \"tokyo_15-08-04\",\n",
      "        \"_score\" : null,\n",
      "        \"_source\" : {\n",
      "          \"date\" : \"15-08-04\",\n",
      "          \"wind_speed_avg\" : \"3.4\",\n",
      "          \"snowfall\" : null,\n",
      "          \"temperature_max\" : \"35.1\",\n",
      "          \"precipitation_day\" : null,\n",
      "          \"wind_speed_max\" : \"6.6\",\n",
      "          \"sunshine_duration\" : \"11.4\",\n",
      "          \"temperature_avg\" : \"30.0\",\n",
      "          \"temperature_min\" : \"26.5\",\n",
      "          \"@version\" : \"1\",\n",
      "          \"wind_direction_max_moment\" : \"南東\",\n",
      "          \"information_night\" : null,\n",
      "          \"precipitation_max_10min\" : null,\n",
      "          \"precipitation_max_hour\" : null,\n",
      "          \"wind_direction\" : \"南東\",\n",
      "          \"information_daytime\" : null,\n",
      "          \"@timestamp\" : \"2015-08-04T00:00:00.000Z\",\n",
      "          \"humidity_avg\" : \"69.0\",\n",
      "          \"humidity_min\" : \"53.0\",\n",
      "          \"atmospheric_pressure\" : \"1007.4\",\n",
      "          \"location\" : \"tokyo\",\n",
      "          \"wind_speed_max_moment\" : \"10.5\",\n",
      "          \"snowfall_max\" : null,\n",
      "          \"sea_level_pressure\" : \"1010.1\"\n",
      "        },\n",
      "        \"sort\" : [\n",
      "          35.1\n",
      "        ]\n",
      "      },\n",
      "      {\n",
      "        \"_index\" : \"meteorological-data-2015.07\",\n",
      "        \"_type\" : \"logs\",\n",
      "        \"_id\" : \"tokyo_15-07-27\",\n",
      "        \"_score\" : null,\n",
      "        \"_source\" : {\n",
      "          \"date\" : \"15-07-27\",\n",
      "          \"wind_speed_avg\" : \"2.7\",\n",
      "          \"snowfall\" : null,\n",
      "          \"temperature_max\" : \"35.0\",\n",
      "          \"precipitation_day\" : null,\n",
      "          \"wind_speed_max\" : \"5.1\",\n",
      "          \"sunshine_duration\" : \"12.9\",\n",
      "          \"temperature_avg\" : \"30.4\",\n",
      "          \"temperature_min\" : \"25.6\",\n",
      "          \"@version\" : \"1\",\n",
      "          \"wind_direction_max_moment\" : null,\n",
      "          \"information_night\" : \"後曇\",\n",
      "          \"precipitation_max_10min\" : null,\n",
      "          \"precipitation_max_hour\" : null,\n",
      "          \"wind_direction\" : \"東\",\n",
      "          \"information_daytime\" : null,\n",
      "          \"@timestamp\" : \"2015-07-27T00:00:00.000Z\",\n",
      "          \"humidity_avg\" : \"69.0\",\n",
      "          \"humidity_min\" : \"52.0\",\n",
      "          \"atmospheric_pressure\" : \"1004.4\",\n",
      "          \"location\" : \"tokyo\",\n",
      "          \"wind_speed_max_moment\" : \"8.2\",\n",
      "          \"snowfall_max\" : null,\n",
      "          \"sea_level_pressure\" : \"1007.1\"\n",
      "        },\n",
      "        \"sort\" : [\n",
      "          35.0\n",
      "        ]\n",
      "      },\n",
      "      {\n",
      "        \"_index\" : \"meteorological-data-2015.07\",\n",
      "        \"_type\" : \"logs\",\n",
      "        \"_id\" : \"tokyo_15-07-31\",\n",
      "        \"_score\" : null,\n",
      "        \"_source\" : {\n",
      "          \"date\" : \"15-07-31\",\n",
      "          \"wind_speed_avg\" : \"2.7\",\n",
      "          \"snowfall\" : null,\n",
      "          \"temperature_max\" : \"35.0\",\n",
      "          \"precipitation_day\" : null,\n",
      "          \"wind_speed_max\" : \"5.2\",\n",
      "          \"sunshine_duration\" : \"10.0\",\n",
      "          \"temperature_avg\" : \"30.0\",\n",
      "          \"temperature_min\" : \"25.9\",\n",
      "          \"@version\" : \"1\",\n",
      "          \"wind_direction_max_moment\" : \"南東\",\n",
      "          \"information_night\" : \"晴\",\n",
      "          \"precipitation_max_10min\" : null,\n",
      "          \"precipitation_max_hour\" : null,\n",
      "          \"wind_direction\" : \"東\",\n",
      "          \"information_daytime\" : null,\n",
      "          \"@timestamp\" : \"2015-07-31T00:00:00.000Z\",\n",
      "          \"humidity_avg\" : \"72.0\",\n",
      "          \"humidity_min\" : \"42.0\",\n",
      "          \"atmospheric_pressure\" : \"1006.7\",\n",
      "          \"location\" : \"tokyo\",\n",
      "          \"wind_speed_max_moment\" : \"7.4\",\n",
      "          \"snowfall_max\" : null,\n",
      "          \"sea_level_pressure\" : \"1009.4\"\n",
      "        },\n",
      "        \"sort\" : [\n",
      "          35.0\n",
      "        ]\n",
      "      }\n",
      "    ]\n",
      "  }\n",
      "}\n"
     ]
    },
    {
     "name": "stderr",
     "output_type": "stream",
     "text": [
      "  % Total    % Received % Xferd  Average Speed   Time    Time     Time  Current\n",
      "                                 Dload  Upload   Total   Spent    Left  Speed\n",
      "\r",
      "  0     0    0     0    0     0      0      0 --:--:-- --:--:-- --:--:--     0\r",
      "100 11871  100 11767  100   104   288k   2608 --:--:-- --:--:-- --:--:--  294k\n"
     ]
    }
   ],
   "source": [
    "%%bash\n",
    "curl -XGET \"http://$ES_HOST/$INDEX/_search?pretty\" -d @- << EOF\n",
    "{\n",
    "  \"sort\": [\n",
    "    { \"temperature_max\" : \"desc\" }\n",
    "  ],\n",
    "  \"query\": {\n",
    "    \"term\" : { \"location\" : \"tokyo\" } \n",
    "  }\n",
    "}\n",
    "EOF"
   ]
  },
  {
   "cell_type": "markdown",
   "metadata": {
    "lc_cell_meme": {
     "current": "457ce7f6-152a-11e7-b31a-0242ac12000d",
     "next": "457ce9c2-152a-11e7-b31a-0242ac12000d",
     "previous": "457ce620-152a-11e7-b31a-0242ac12000d"
    }
   },
   "source": [
    "### 検索結果の件数指定"
   ]
  },
  {
   "cell_type": "markdown",
   "metadata": {
    "lc_cell_meme": {
     "current": "457ce9c2-152a-11e7-b31a-0242ac12000d",
     "next": "457ceb8e-152a-11e7-b31a-0242ac12000d",
     "previous": "457ce7f6-152a-11e7-b31a-0242ac12000d"
    }
   },
   "source": [
    "検索結果の一部を取得したい場合、オフセットと取得件数を指定して検索結果を取得することができます。  \n",
    "この場合、次の形式でリクエストを送信します。"
   ]
  },
  {
   "cell_type": "raw",
   "metadata": {
    "lc_cell_meme": {
     "current": "457ceb8e-152a-11e7-b31a-0242ac12000d",
     "next": "457ced64-152a-11e7-b31a-0242ac12000d",
     "previous": "457ce9c2-152a-11e7-b31a-0242ac12000d"
    }
   },
   "source": [
    "curl -XGET \"http://<ホスト名>:<ポート番号>/<インデックス名>/_search?pretty\" -d '{\n",
    "  \"from\": オフセット,\n",
    "  \"size\": 取得件数,\n",
    "  \"query\": 条件\n",
    "}'"
   ]
  },
  {
   "cell_type": "markdown",
   "metadata": {
    "lc_cell_meme": {
     "current": "457ced64-152a-11e7-b31a-0242ac12000d",
     "next": "457cef30-152a-11e7-b31a-0242ac12000d",
     "previous": "457ceb8e-152a-11e7-b31a-0242ac12000d"
    }
   },
   "source": [
    "オフセットを省略した場合は、最初の検索結果(オフセット=0)から取得することになります。  \n",
    "取得件数を省略した場合は、最大10件取得することになります。\n",
    "\n",
    "ただし、大量に検索結果があった場合に少しずつ取得したい、というケースでの利用は注意してください。  \n",
    "例えば、1回目検索で最初の何件かを取得し、2回目の検索で残りを取得する、というようなケースを考えます。  \n",
    "毎回再検索を行うため、1回目と2回目の検索の間にデータ更新が行われると、1回目と2回目の検索結果の整合性が取れなくなる可能性があります。  \n",
    "同じ検索結果を何件かずつ取得する場合は[大量データ取得時の検索](#大量データ取得時の検索)を参照してください。  \n",
    "\n",
    "詳細は、Elasticsearch Referenceの[From / Size](https://www.elastic.co/guide/en/elasticsearch/reference/5.0/search-request-from-size.html)を参照してください。"
   ]
  },
  {
   "cell_type": "markdown",
   "metadata": {
    "lc_cell_meme": {
     "current": "457cef30-152a-11e7-b31a-0242ac12000d",
     "next": "457cf106-152a-11e7-b31a-0242ac12000d",
     "previous": "457ced64-152a-11e7-b31a-0242ac12000d"
    }
   },
   "source": [
    "locationが「tokyo」のドキュメントで、最高気温のTOP10を検索するコマンドは次の通りです。"
   ]
  },
  {
   "cell_type": "code",
   "execution_count": 15,
   "metadata": {
    "lc_cell_meme": {
     "current": "457cf106-152a-11e7-b31a-0242ac12000d",
     "next": "457cf2d2-152a-11e7-b31a-0242ac12000d",
     "previous": "457cef30-152a-11e7-b31a-0242ac12000d"
    }
   },
   "outputs": [
    {
     "name": "stdout",
     "output_type": "stream",
     "text": [
      "{\n",
      "  \"took\" : 8,\n",
      "  \"timed_out\" : false,\n",
      "  \"_shards\" : {\n",
      "    \"total\" : 13,\n",
      "    \"successful\" : 13,\n",
      "    \"failed\" : 0\n",
      "  },\n",
      "  \"hits\" : {\n",
      "    \"total\" : 358,\n",
      "    \"max_score\" : null,\n",
      "    \"hits\" : [\n",
      "      {\n",
      "        \"_index\" : \"meteorological-data-2015.08\",\n",
      "        \"_type\" : \"logs\",\n",
      "        \"_id\" : \"tokyo_15-08-07\",\n",
      "        \"_score\" : null,\n",
      "        \"_source\" : {\n",
      "          \"date\" : \"15-08-07\",\n",
      "          \"wind_speed_avg\" : \"2.6\",\n",
      "          \"snowfall\" : null,\n",
      "          \"temperature_max\" : \"37.7\",\n",
      "          \"precipitation_day\" : null,\n",
      "          \"wind_speed_max\" : \"6.1\",\n",
      "          \"sunshine_duration\" : \"9.2\",\n",
      "          \"temperature_avg\" : \"31.5\",\n",
      "          \"temperature_min\" : \"26.8\",\n",
      "          \"@version\" : \"1\",\n",
      "          \"wind_direction_max_moment\" : \"南東\",\n",
      "          \"information_night\" : \"時々晴\",\n",
      "          \"precipitation_max_10min\" : null,\n",
      "          \"precipitation_max_hour\" : null,\n",
      "          \"wind_direction\" : \"東\",\n",
      "          \"information_daytime\" : \"後時々薄曇\",\n",
      "          \"@timestamp\" : \"2015-08-07T00:00:00.000Z\",\n",
      "          \"humidity_avg\" : \"61.0\",\n",
      "          \"humidity_min\" : \"42.0\",\n",
      "          \"atmospheric_pressure\" : \"1011.6\",\n",
      "          \"location\" : \"tokyo\",\n",
      "          \"wind_speed_max_moment\" : \"9.8\",\n",
      "          \"snowfall_max\" : null,\n",
      "          \"sea_level_pressure\" : \"1014.3\"\n",
      "        },\n",
      "        \"sort\" : [\n",
      "          37.7\n",
      "        ]\n",
      "      },\n",
      "      {\n",
      "        \"_index\" : \"meteorological-data-2015.08\",\n",
      "        \"_type\" : \"logs\",\n",
      "        \"_id\" : \"tokyo_15-08-06\",\n",
      "        \"_score\" : null,\n",
      "        \"_source\" : {\n",
      "          \"date\" : \"15-08-06\",\n",
      "          \"wind_speed_avg\" : \"3.0\",\n",
      "          \"snowfall\" : null,\n",
      "          \"temperature_max\" : \"35.9\",\n",
      "          \"precipitation_day\" : null,\n",
      "          \"wind_speed_max\" : \"6.7\",\n",
      "          \"sunshine_duration\" : \"11.9\",\n",
      "          \"temperature_avg\" : \"30.9\",\n",
      "          \"temperature_min\" : \"26.8\",\n",
      "          \"@version\" : \"1\",\n",
      "          \"wind_direction_max_moment\" : \"東\",\n",
      "          \"information_night\" : \"後一時薄曇\",\n",
      "          \"precipitation_max_10min\" : null,\n",
      "          \"precipitation_max_hour\" : null,\n",
      "          \"wind_direction\" : \"東\",\n",
      "          \"information_daytime\" : null,\n",
      "          \"@timestamp\" : \"2015-08-06T00:00:00.000Z\",\n",
      "          \"humidity_avg\" : \"68.0\",\n",
      "          \"humidity_min\" : \"52.0\",\n",
      "          \"atmospheric_pressure\" : \"1009.8\",\n",
      "          \"location\" : \"tokyo\",\n",
      "          \"wind_speed_max_moment\" : \"10.0\",\n",
      "          \"snowfall_max\" : null,\n",
      "          \"sea_level_pressure\" : \"1012.5\"\n",
      "        },\n",
      "        \"sort\" : [\n",
      "          35.9\n",
      "        ]\n",
      "      },\n",
      "      {\n",
      "        \"_index\" : \"meteorological-data-2015.07\",\n",
      "        \"_type\" : \"logs\",\n",
      "        \"_id\" : \"tokyo_15-07-26\",\n",
      "        \"_score\" : null,\n",
      "        \"_source\" : {\n",
      "          \"date\" : \"15-07-26\",\n",
      "          \"wind_speed_avg\" : \"2.4\",\n",
      "          \"snowfall\" : null,\n",
      "          \"temperature_max\" : \"35.8\",\n",
      "          \"precipitation_day\" : null,\n",
      "          \"wind_speed_max\" : \"5.6\",\n",
      "          \"sunshine_duration\" : \"12.4\",\n",
      "          \"temperature_avg\" : \"30.3\",\n",
      "          \"temperature_min\" : \"26.0\",\n",
      "          \"@version\" : \"1\",\n",
      "          \"wind_direction_max_moment\" : \"南東\",\n",
      "          \"information_night\" : null,\n",
      "          \"precipitation_max_10min\" : null,\n",
      "          \"precipitation_max_hour\" : null,\n",
      "          \"wind_direction\" : \"南東\",\n",
      "          \"information_daytime\" : \"曇時々晴\",\n",
      "          \"@timestamp\" : \"2015-07-26T00:00:00.000Z\",\n",
      "          \"humidity_avg\" : \"72.0\",\n",
      "          \"humidity_min\" : \"44.0\",\n",
      "          \"atmospheric_pressure\" : \"1007.3\",\n",
      "          \"location\" : \"tokyo\",\n",
      "          \"wind_speed_max_moment\" : \"8.6\",\n",
      "          \"snowfall_max\" : null,\n",
      "          \"sea_level_pressure\" : \"1010.0\"\n",
      "        },\n",
      "        \"sort\" : [\n",
      "          35.8\n",
      "        ]\n",
      "      },\n",
      "      {\n",
      "        \"_index\" : \"meteorological-data-2015.08\",\n",
      "        \"_type\" : \"logs\",\n",
      "        \"_id\" : \"tokyo_15-08-11\",\n",
      "        \"_score\" : null,\n",
      "        \"_source\" : {\n",
      "          \"date\" : \"15-08-11\",\n",
      "          \"wind_speed_avg\" : \"2.6\",\n",
      "          \"snowfall\" : null,\n",
      "          \"temperature_max\" : \"35.5\",\n",
      "          \"precipitation_day\" : null,\n",
      "          \"wind_speed_max\" : \"4.7\",\n",
      "          \"sunshine_duration\" : \"7.8\",\n",
      "          \"temperature_avg\" : \"29.4\",\n",
      "          \"temperature_min\" : \"25.3\",\n",
      "          \"@version\" : \"1\",\n",
      "          \"wind_direction_max_moment\" : null,\n",
      "          \"information_night\" : null,\n",
      "          \"precipitation_max_10min\" : null,\n",
      "          \"precipitation_max_hour\" : null,\n",
      "          \"wind_direction\" : \"北東\",\n",
      "          \"information_daytime\" : \"後時々晴\",\n",
      "          \"@timestamp\" : \"2015-08-11T00:00:00.000Z\",\n",
      "          \"humidity_avg\" : \"70.0\",\n",
      "          \"humidity_min\" : \"45.0\",\n",
      "          \"atmospheric_pressure\" : \"1003.1\",\n",
      "          \"location\" : \"tokyo\",\n",
      "          \"wind_speed_max_moment\" : \"9.3\",\n",
      "          \"snowfall_max\" : null,\n",
      "          \"sea_level_pressure\" : \"1005.8\"\n",
      "        },\n",
      "        \"sort\" : [\n",
      "          35.5\n",
      "        ]\n",
      "      },\n",
      "      {\n",
      "        \"_index\" : \"meteorological-data-2015.08\",\n",
      "        \"_type\" : \"logs\",\n",
      "        \"_id\" : \"tokyo_15-08-01\",\n",
      "        \"_score\" : null,\n",
      "        \"_source\" : {\n",
      "          \"date\" : \"15-08-01\",\n",
      "          \"wind_speed_avg\" : \"2.6\",\n",
      "          \"snowfall\" : null,\n",
      "          \"temperature_max\" : \"35.3\",\n",
      "          \"precipitation_day\" : null,\n",
      "          \"wind_speed_max\" : \"5.1\",\n",
      "          \"sunshine_duration\" : \"8.9\",\n",
      "          \"temperature_avg\" : \"30.5\",\n",
      "          \"temperature_min\" : \"26.6\",\n",
      "          \"@version\" : \"1\",\n",
      "          \"wind_direction_max_moment\" : null,\n",
      "          \"information_night\" : \"一時曇\",\n",
      "          \"precipitation_max_10min\" : null,\n",
      "          \"precipitation_max_hour\" : null,\n",
      "          \"wind_direction\" : null,\n",
      "          \"information_daytime\" : null,\n",
      "          \"@timestamp\" : \"2015-08-01T00:00:00.000Z\",\n",
      "          \"humidity_avg\" : \"76.0\",\n",
      "          \"humidity_min\" : \"50.0\",\n",
      "          \"atmospheric_pressure\" : \"1007.6\",\n",
      "          \"location\" : \"tokyo\",\n",
      "          \"wind_speed_max_moment\" : \"8.5\",\n",
      "          \"snowfall_max\" : null,\n",
      "          \"sea_level_pressure\" : \"1010.3\"\n",
      "        },\n",
      "        \"sort\" : [\n",
      "          35.3\n",
      "        ]\n",
      "      },\n",
      "      {\n",
      "        \"_index\" : \"meteorological-data-2015.08\",\n",
      "        \"_type\" : \"logs\",\n",
      "        \"_id\" : \"tokyo_15-08-05\",\n",
      "        \"_score\" : null,\n",
      "        \"_source\" : {\n",
      "          \"date\" : \"15-08-05\",\n",
      "          \"wind_speed_avg\" : \"4.1\",\n",
      "          \"snowfall\" : null,\n",
      "          \"temperature_max\" : \"35.2\",\n",
      "          \"precipitation_day\" : null,\n",
      "          \"wind_speed_max\" : \"8.2\",\n",
      "          \"sunshine_duration\" : \"12.8\",\n",
      "          \"temperature_avg\" : \"30.2\",\n",
      "          \"temperature_min\" : \"25.7\",\n",
      "          \"@version\" : \"1\",\n",
      "          \"wind_direction_max_moment\" : \"南東\",\n",
      "          \"information_night\" : \"晴\",\n",
      "          \"precipitation_max_10min\" : null,\n",
      "          \"precipitation_max_hour\" : null,\n",
      "          \"wind_direction\" : \"南東\",\n",
      "          \"information_daytime\" : \"晴\",\n",
      "          \"@timestamp\" : \"2015-08-05T00:00:00.000Z\",\n",
      "          \"humidity_avg\" : \"69.0\",\n",
      "          \"humidity_min\" : \"47.0\",\n",
      "          \"atmospheric_pressure\" : \"1007.4\",\n",
      "          \"location\" : \"tokyo\",\n",
      "          \"wind_speed_max_moment\" : \"13.1\",\n",
      "          \"snowfall_max\" : null,\n",
      "          \"sea_level_pressure\" : \"1010.1\"\n",
      "        },\n",
      "        \"sort\" : [\n",
      "          35.2\n",
      "        ]\n",
      "      },\n",
      "      {\n",
      "        \"_index\" : \"meteorological-data-2015.08\",\n",
      "        \"_type\" : \"logs\",\n",
      "        \"_id\" : \"tokyo_15-08-02\",\n",
      "        \"_score\" : null,\n",
      "        \"_source\" : {\n",
      "          \"date\" : \"15-08-02\",\n",
      "          \"wind_speed_avg\" : \"2.6\",\n",
      "          \"snowfall\" : null,\n",
      "          \"temperature_max\" : \"35.1\",\n",
      "          \"precipitation_day\" : \"0\",\n",
      "          \"wind_speed_max\" : \"5.6\",\n",
      "          \"sunshine_duration\" : \"9.6\",\n",
      "          \"temperature_avg\" : \"30.2\",\n",
      "          \"temperature_min\" : \"26.3\",\n",
      "          \"@version\" : \"1\",\n",
      "          \"wind_direction_max_moment\" : \"東\",\n",
      "          \"information_night\" : \"時々晴\",\n",
      "          \"precipitation_max_10min\" : \"0\",\n",
      "          \"precipitation_max_hour\" : \"0\",\n",
      "          \"wind_direction\" : \"南東\",\n",
      "          \"information_daytime\" : null,\n",
      "          \"@timestamp\" : \"2015-08-02T00:00:00.000Z\",\n",
      "          \"humidity_avg\" : \"71.0\",\n",
      "          \"humidity_min\" : \"54.0\",\n",
      "          \"atmospheric_pressure\" : \"1009.2\",\n",
      "          \"location\" : \"tokyo\",\n",
      "          \"wind_speed_max_moment\" : \"9.3\",\n",
      "          \"snowfall_max\" : null,\n",
      "          \"sea_level_pressure\" : \"1011.9\"\n",
      "        },\n",
      "        \"sort\" : [\n",
      "          35.1\n",
      "        ]\n",
      "      },\n",
      "      {\n",
      "        \"_index\" : \"meteorological-data-2015.08\",\n",
      "        \"_type\" : \"logs\",\n",
      "        \"_id\" : \"tokyo_15-08-04\",\n",
      "        \"_score\" : null,\n",
      "        \"_source\" : {\n",
      "          \"date\" : \"15-08-04\",\n",
      "          \"wind_speed_avg\" : \"3.4\",\n",
      "          \"snowfall\" : null,\n",
      "          \"temperature_max\" : \"35.1\",\n",
      "          \"precipitation_day\" : null,\n",
      "          \"wind_speed_max\" : \"6.6\",\n",
      "          \"sunshine_duration\" : \"11.4\",\n",
      "          \"temperature_avg\" : \"30.0\",\n",
      "          \"temperature_min\" : \"26.5\",\n",
      "          \"@version\" : \"1\",\n",
      "          \"wind_direction_max_moment\" : \"南東\",\n",
      "          \"information_night\" : null,\n",
      "          \"precipitation_max_10min\" : null,\n",
      "          \"precipitation_max_hour\" : null,\n",
      "          \"wind_direction\" : \"南東\",\n",
      "          \"information_daytime\" : null,\n",
      "          \"@timestamp\" : \"2015-08-04T00:00:00.000Z\",\n",
      "          \"humidity_avg\" : \"69.0\",\n",
      "          \"humidity_min\" : \"53.0\",\n",
      "          \"atmospheric_pressure\" : \"1007.4\",\n",
      "          \"location\" : \"tokyo\",\n",
      "          \"wind_speed_max_moment\" : \"10.5\",\n",
      "          \"snowfall_max\" : null,\n",
      "          \"sea_level_pressure\" : \"1010.1\"\n",
      "        },\n",
      "        \"sort\" : [\n",
      "          35.1\n",
      "        ]\n",
      "      },\n",
      "      {\n",
      "        \"_index\" : \"meteorological-data-2015.07\",\n",
      "        \"_type\" : \"logs\",\n",
      "        \"_id\" : \"tokyo_15-07-27\",\n",
      "        \"_score\" : null,\n",
      "        \"_source\" : {\n",
      "          \"date\" : \"15-07-27\",\n",
      "          \"wind_speed_avg\" : \"2.7\",\n",
      "          \"snowfall\" : null,\n",
      "          \"temperature_max\" : \"35.0\",\n",
      "          \"precipitation_day\" : null,\n",
      "          \"wind_speed_max\" : \"5.1\",\n",
      "          \"sunshine_duration\" : \"12.9\",\n",
      "          \"temperature_avg\" : \"30.4\",\n",
      "          \"temperature_min\" : \"25.6\",\n",
      "          \"@version\" : \"1\",\n",
      "          \"wind_direction_max_moment\" : null,\n",
      "          \"information_night\" : \"後曇\",\n",
      "          \"precipitation_max_10min\" : null,\n",
      "          \"precipitation_max_hour\" : null,\n",
      "          \"wind_direction\" : \"東\",\n",
      "          \"information_daytime\" : null,\n",
      "          \"@timestamp\" : \"2015-07-27T00:00:00.000Z\",\n",
      "          \"humidity_avg\" : \"69.0\",\n",
      "          \"humidity_min\" : \"52.0\",\n",
      "          \"atmospheric_pressure\" : \"1004.4\",\n",
      "          \"location\" : \"tokyo\",\n",
      "          \"wind_speed_max_moment\" : \"8.2\",\n",
      "          \"snowfall_max\" : null,\n",
      "          \"sea_level_pressure\" : \"1007.1\"\n",
      "        },\n",
      "        \"sort\" : [\n",
      "          35.0\n",
      "        ]\n",
      "      },\n",
      "      {\n",
      "        \"_index\" : \"meteorological-data-2015.07\",\n",
      "        \"_type\" : \"logs\",\n",
      "        \"_id\" : \"tokyo_15-07-31\",\n",
      "        \"_score\" : null,\n",
      "        \"_source\" : {\n",
      "          \"date\" : \"15-07-31\",\n",
      "          \"wind_speed_avg\" : \"2.7\",\n",
      "          \"snowfall\" : null,\n",
      "          \"temperature_max\" : \"35.0\",\n",
      "          \"precipitation_day\" : null,\n",
      "          \"wind_speed_max\" : \"5.2\",\n",
      "          \"sunshine_duration\" : \"10.0\",\n",
      "          \"temperature_avg\" : \"30.0\",\n",
      "          \"temperature_min\" : \"25.9\",\n",
      "          \"@version\" : \"1\",\n",
      "          \"wind_direction_max_moment\" : \"南東\",\n",
      "          \"information_night\" : \"晴\",\n",
      "          \"precipitation_max_10min\" : null,\n",
      "          \"precipitation_max_hour\" : null,\n",
      "          \"wind_direction\" : \"東\",\n",
      "          \"information_daytime\" : null,\n",
      "          \"@timestamp\" : \"2015-07-31T00:00:00.000Z\",\n",
      "          \"humidity_avg\" : \"72.0\",\n",
      "          \"humidity_min\" : \"42.0\",\n",
      "          \"atmospheric_pressure\" : \"1006.7\",\n",
      "          \"location\" : \"tokyo\",\n",
      "          \"wind_speed_max_moment\" : \"7.4\",\n",
      "          \"snowfall_max\" : null,\n",
      "          \"sea_level_pressure\" : \"1009.4\"\n",
      "        },\n",
      "        \"sort\" : [\n",
      "          35.0\n",
      "        ]\n",
      "      }\n",
      "    ]\n",
      "  }\n",
      "}\n"
     ]
    },
    {
     "name": "stderr",
     "output_type": "stream",
     "text": [
      "  % Total    % Received % Xferd  Average Speed   Time    Time     Time  Current\n",
      "                                 Dload  Upload   Total   Spent    Left  Speed\n",
      "\r",
      "  0     0    0     0    0     0      0      0 --:--:-- --:--:-- --:--:--     0\r",
      "100 11897  100 11766  100   131   578k   6591 --:--:-- --:--:-- --:--:--  604k\n"
     ]
    }
   ],
   "source": [
    "\n",
    "%%bash\n",
    "curl -XGET \"http://$ES_HOST/$INDEX/_search?pretty\" -d @- << EOF\n",
    "{\n",
    "  \"from\" : 0,\n",
    "  \"size\" : 10,\n",
    "  \"sort\": [\n",
    "    { \"temperature_max\" : \"desc\" }\n",
    "  ],\n",
    "  \"query\": {\n",
    "    \"term\" : { \"location\" : \"tokyo\" } \n",
    "  }\n",
    "}\n",
    "EOF"
   ]
  },
  {
   "cell_type": "markdown",
   "metadata": {
    "lc_cell_meme": {
     "current": "457cf2d2-152a-11e7-b31a-0242ac12000d",
     "next": "457cf49e-152a-11e7-b31a-0242ac12000d",
     "previous": "457cf106-152a-11e7-b31a-0242ac12000d"
    }
   },
   "source": [
    "## ドキュメントの追加"
   ]
  },
  {
   "cell_type": "markdown",
   "metadata": {
    "lc_cell_meme": {
     "current": "457cf49e-152a-11e7-b31a-0242ac12000d",
     "next": "457cf674-152a-11e7-b31a-0242ac12000d",
     "previous": "457cf2d2-152a-11e7-b31a-0242ac12000d"
    }
   },
   "source": [
    "ドキュメントを追加する場合、次の形式でリクエストを送信します。"
   ]
  },
  {
   "cell_type": "raw",
   "metadata": {
    "lc_cell_meme": {
     "current": "457cf674-152a-11e7-b31a-0242ac12000d",
     "next": "457cf840-152a-11e7-b31a-0242ac12000d",
     "previous": "457cf49e-152a-11e7-b31a-0242ac12000d"
    }
   },
   "source": [
    "curl -XPUT \"http://<ホスト名>:<ポート番号>/<インデックス名>/<タイプ名>/<ドキュメントID>\" -d '<追加するドキュメント>'"
   ]
  },
  {
   "cell_type": "markdown",
   "metadata": {
    "lc_cell_meme": {
     "current": "457cf840-152a-11e7-b31a-0242ac12000d",
     "next": "457cfa8e-152a-11e7-b31a-0242ac12000d",
     "previous": "457cf674-152a-11e7-b31a-0242ac12000d"
    }
   },
   "source": [
    "詳細は、Elasticsearch Referenceの[Index API](https://www.elastic.co/guide/en/elasticsearch/reference/current/docs-index_.html)を参照してください。"
   ]
  },
  {
   "cell_type": "markdown",
   "metadata": {
    "lc_cell_meme": {
     "current": "457cfa8e-152a-11e7-b31a-0242ac12000d",
     "next": "457cfc78-152a-11e7-b31a-0242ac12000d",
     "previous": "457cf840-152a-11e7-b31a-0242ac12000d"
    }
   },
   "source": [
    "例えば、ドキュメントIDが1の次のドキュメントを追加するケースを考えます。\n",
    "\n",
    "| フィールド | 内容 | \n",
    "|------------|------|\n",
    "|@timestamp|\"2015-01-01T00:00:00\"|\n",
    "|location|\"tokyo\"|\n",
    "|temperature_avg|3.7|\n",
    "\n",
    "この場合、次のコマンドを実行します。"
   ]
  },
  {
   "cell_type": "code",
   "execution_count": null,
   "metadata": {
    "lc_cell_meme": {
     "current": "457cfc78-152a-11e7-b31a-0242ac12000d",
     "next": "457cfe44-152a-11e7-b31a-0242ac12000d",
     "previous": "457cfa8e-152a-11e7-b31a-0242ac12000d"
    },
    "scrolled": false
   },
   "outputs": [],
   "source": [
    "%%bash\n",
    "curl -XPUT \"http://$ES_HOST/meteorological-data-2015.01/$TYPE/1?pretty\" -d @- << EOF\n",
    "{\n",
    "  \"@timestamp\": \"2015-01-01T00:00:00\",\n",
    "  \"location\": \"tokyo\",\n",
    "  \"temperature_avg\": 3.7\n",
    "}\n",
    "EOF"
   ]
  },
  {
   "cell_type": "markdown",
   "metadata": {
    "lc_cell_meme": {
     "current": "457cfe44-152a-11e7-b31a-0242ac12000d",
     "next": "457d001a-152a-11e7-b31a-0242ac12000d",
     "previous": "457cfc78-152a-11e7-b31a-0242ac12000d"
    }
   },
   "source": [
    "応答に  \n",
    "\"created\" : true  \n",
    "と出力されれば、実際に追加が成功しています。\n",
    "\n",
    "本当に追加できているか、検索して確認してみます。"
   ]
  },
  {
   "cell_type": "code",
   "execution_count": null,
   "metadata": {
    "lc_cell_meme": {
     "current": "457d001a-152a-11e7-b31a-0242ac12000d",
     "next": "457d01f0-152a-11e7-b31a-0242ac12000d",
     "previous": "457cfe44-152a-11e7-b31a-0242ac12000d"
    },
    "scrolled": true
   },
   "outputs": [],
   "source": [
    "!curl -XGET \"http://$ES_HOST/meteorological-data-2015.01/$TYPE/1?pretty\""
   ]
  },
  {
   "cell_type": "markdown",
   "metadata": {
    "lc_cell_meme": {
     "current": "457d01f0-152a-11e7-b31a-0242ac12000d",
     "next": "457d03bc-152a-11e7-b31a-0242ac12000d",
     "previous": "457d001a-152a-11e7-b31a-0242ac12000d"
    }
   },
   "source": [
    "## ドキュメントの更新"
   ]
  },
  {
   "cell_type": "markdown",
   "metadata": {
    "lc_cell_meme": {
     "current": "457d03bc-152a-11e7-b31a-0242ac12000d",
     "next": "457d0588-152a-11e7-b31a-0242ac12000d",
     "previous": "457d01f0-152a-11e7-b31a-0242ac12000d"
    }
   },
   "source": [
    "### ドキュメントIDで更新"
   ]
  },
  {
   "cell_type": "markdown",
   "metadata": {
    "lc_cell_meme": {
     "current": "457d0588-152a-11e7-b31a-0242ac12000d",
     "next": "457d0754-152a-11e7-b31a-0242ac12000d",
     "previous": "457d03bc-152a-11e7-b31a-0242ac12000d"
    }
   },
   "source": [
    "具体的なドキュメントIDを指定してドキュメントを更新する場合、次の形式でリクエストを送信します。"
   ]
  },
  {
   "cell_type": "raw",
   "metadata": {
    "lc_cell_meme": {
     "current": "457d0754-152a-11e7-b31a-0242ac12000d",
     "next": "457d0920-152a-11e7-b31a-0242ac12000d",
     "previous": "457d0588-152a-11e7-b31a-0242ac12000d"
    }
   },
   "source": [
    "curl -XPOST \"http://<ホスト名>:<ポート番号>/<インデックス名>/<タイプ名>/<ドキュメントID>/_update\" -d '{\n",
    "  \"doc\": <更新後のドキュメント>\n",
    "}'"
   ]
  },
  {
   "cell_type": "markdown",
   "metadata": {
    "lc_cell_meme": {
     "current": "457d0920-152a-11e7-b31a-0242ac12000d",
     "next": "457d0af6-152a-11e7-b31a-0242ac12000d",
     "previous": "457d0754-152a-11e7-b31a-0242ac12000d"
    }
   },
   "source": [
    "詳細は、Elasticsearch Referenceの[Update API](https://www.elastic.co/guide/en/elasticsearch/reference/current/docs-update.html)を参照してください。"
   ]
  },
  {
   "cell_type": "markdown",
   "metadata": {
    "lc_cell_meme": {
     "current": "457d0af6-152a-11e7-b31a-0242ac12000d",
     "next": "457d0cc2-152a-11e7-b31a-0242ac12000d",
     "previous": "457d0920-152a-11e7-b31a-0242ac12000d"
    }
   },
   "source": [
    "例えば、ドキュメントIDが1のドキュメントを次の内容に更新するケースを考えます。\n",
    "\n",
    "| フィールド | 内容 | \n",
    "|------------|------|\n",
    "|@timestamp|\"2015-01-09T00:00:00\"|\n",
    "|location|\"tokyo\"|\n",
    "|temperature_avg|5.0|\n",
    "\n",
    "この場合、次のコマンドを実行します。"
   ]
  },
  {
   "cell_type": "code",
   "execution_count": null,
   "metadata": {
    "lc_cell_meme": {
     "current": "457d0cc2-152a-11e7-b31a-0242ac12000d",
     "next": "457d0e8e-152a-11e7-b31a-0242ac12000d",
     "previous": "457d0af6-152a-11e7-b31a-0242ac12000d"
    }
   },
   "outputs": [],
   "source": [
    "%%bash\n",
    "curl -XPOST \"http://$ES_HOST/meteorological-data-2015.01/$TYPE/tokyo_15-01-09/_update?pretty\" -d @- << EOF\n",
    "{\n",
    "  \"doc\": {\n",
    "    \"@timestamp\": \"2015-01-09T00:00:00\",\n",
    "    \"location\": \"tokyo\",\n",
    "    \"temperature_avg\": 5.0\n",
    "  }\n",
    "}\n",
    "EOF"
   ]
  },
  {
   "cell_type": "markdown",
   "metadata": {
    "lc_cell_meme": {
     "current": "457d0e8e-152a-11e7-b31a-0242ac12000d",
     "next": "457d1064-152a-11e7-b31a-0242ac12000d",
     "previous": "457d0cc2-152a-11e7-b31a-0242ac12000d"
    }
   },
   "source": [
    "### 条件指定して更新"
   ]
  },
  {
   "cell_type": "markdown",
   "metadata": {
    "lc_cell_meme": {
     "current": "457d1064-152a-11e7-b31a-0242ac12000d",
     "next": "457d123a-152a-11e7-b31a-0242ac12000d",
     "previous": "457d0e8e-152a-11e7-b31a-0242ac12000d"
    }
   },
   "source": [
    "特定の条件に一致したドキュメントを更新する場合、次の形式でリクエストを送信します。"
   ]
  },
  {
   "cell_type": "raw",
   "metadata": {
    "lc_cell_meme": {
     "current": "457d123a-152a-11e7-b31a-0242ac12000d",
     "next": "457d1406-152a-11e7-b31a-0242ac12000d",
     "previous": "457d1064-152a-11e7-b31a-0242ac12000d"
    }
   },
   "source": [
    "curl -XPOST \"http://<ホスト名>:<ポート番号>/<インデックス名>/_update_by_query?conflicts=proceed\" -d '{\n",
    "  \"query\": <条件>,\n",
    "  \"script\": <更新処理>\n",
    "}'"
   ]
  },
  {
   "cell_type": "markdown",
   "metadata": {
    "lc_cell_meme": {
     "current": "457d1406-152a-11e7-b31a-0242ac12000d",
     "next": "457d15c8-152a-11e7-b31a-0242ac12000d",
     "previous": "457d123a-152a-11e7-b31a-0242ac12000d"
    }
   },
   "source": [
    "条件指定を行う場合は、タイプ名、ドキュメントIDを指定する必要はありません。  \n",
    "\n",
    "詳細は、Elasticsearch Referenceの[Update By Query API](https://www.elastic.co/guide/en/elasticsearch/reference/current/docs-update-by-query.html)を参照してください。"
   ]
  },
  {
   "cell_type": "markdown",
   "metadata": {
    "lc_cell_meme": {
     "current": "457d15c8-152a-11e7-b31a-0242ac12000d",
     "next": "457d1794-152a-11e7-b31a-0242ac12000d",
     "previous": "457d1406-152a-11e7-b31a-0242ac12000d"
    }
   },
   "source": [
    "例えば、locationがtokyoであるドキュメントを次の内容に更新するケースを考えます。\n",
    "\n",
    "| フィールド | 内容 | \n",
    "|------------|------|\n",
    "|location|\"shinjuku\"|\n",
    "\n",
    "この場合、次のコマンドを実行します。"
   ]
  },
  {
   "cell_type": "code",
   "execution_count": null,
   "metadata": {
    "lc_cell_meme": {
     "current": "457d1794-152a-11e7-b31a-0242ac12000d",
     "next": "457d1960-152a-11e7-b31a-0242ac12000d",
     "previous": "457d15c8-152a-11e7-b31a-0242ac12000d"
    }
   },
   "outputs": [],
   "source": [
    "%%bash\n",
    "curl -XPOST \"http://$ES_HOST/meteorological-data-*/_update_by_query?conflicts=proceed&pretty\" -d @- << EOF\n",
    "{\n",
    "  \"query\": {\n",
    "    \"term\": {\n",
    "      \"location\": \"tokyo\"\n",
    "    }\n",
    "  },\n",
    "  \"script\": {\n",
    "    \"inline\": \"ctx._source.location = 'shinjuku'\"\n",
    "  }\n",
    "}\n",
    "EOF"
   ]
  },
  {
   "cell_type": "markdown",
   "metadata": {
    "lc_cell_meme": {
     "current": "457d1960-152a-11e7-b31a-0242ac12000d",
     "next": "457d1b22-152a-11e7-b31a-0242ac12000d",
     "previous": "457d1794-152a-11e7-b31a-0242ac12000d"
    }
   },
   "source": [
    "## ドキュメントの削除"
   ]
  },
  {
   "cell_type": "markdown",
   "metadata": {
    "lc_cell_meme": {
     "current": "457d1b22-152a-11e7-b31a-0242ac12000d",
     "next": "457d1cee-152a-11e7-b31a-0242ac12000d",
     "previous": "457d1960-152a-11e7-b31a-0242ac12000d"
    }
   },
   "source": [
    "### ドキュメントIDで削除"
   ]
  },
  {
   "cell_type": "markdown",
   "metadata": {
    "lc_cell_meme": {
     "current": "457d1cee-152a-11e7-b31a-0242ac12000d",
     "next": "457d1eba-152a-11e7-b31a-0242ac12000d",
     "previous": "457d1b22-152a-11e7-b31a-0242ac12000d"
    }
   },
   "source": [
    "具体的なドキュメントIDを指定してドキュメントを削除する場合、次の形式でリクエストを送信します。"
   ]
  },
  {
   "cell_type": "raw",
   "metadata": {
    "lc_cell_meme": {
     "current": "457d1eba-152a-11e7-b31a-0242ac12000d",
     "next": "457d207c-152a-11e7-b31a-0242ac12000d",
     "previous": "457d1cee-152a-11e7-b31a-0242ac12000d"
    }
   },
   "source": [
    "curl -XDELETE \"http://<ホスト名>:<ポート番号>/<インデックス名>/<タイプ名>/<ドキュメントID>\""
   ]
  },
  {
   "cell_type": "markdown",
   "metadata": {
    "lc_cell_meme": {
     "current": "457d207c-152a-11e7-b31a-0242ac12000d",
     "next": "457d225c-152a-11e7-b31a-0242ac12000d",
     "previous": "457d1eba-152a-11e7-b31a-0242ac12000d"
    }
   },
   "source": [
    "詳細は、Elasticsearch Referenceの[Delete API](https://www.elastic.co/guide/en/elasticsearch/reference/current/docs-delete.html)を参照してください。"
   ]
  },
  {
   "cell_type": "markdown",
   "metadata": {
    "lc_cell_meme": {
     "current": "457d225c-152a-11e7-b31a-0242ac12000d",
     "next": "457d2428-152a-11e7-b31a-0242ac12000d",
     "previous": "457d207c-152a-11e7-b31a-0242ac12000d"
    }
   },
   "source": [
    "例えば、ドキュメントIDが1のドキュメントを削除する場合、次のコマンドを実行します。"
   ]
  },
  {
   "cell_type": "code",
   "execution_count": null,
   "metadata": {
    "lc_cell_meme": {
     "current": "457d2428-152a-11e7-b31a-0242ac12000d",
     "history": [
      {
       "current": "457d2428-152a-11e7-b31a-0242ac12000d",
       "next": "457d25f4-152a-11e7-b31a-0242ac12000d",
       "previous": "457d225c-152a-11e7-b31a-0242ac12000d"
      }
     ],
     "next": "457d1b22-152a-11e7-b31a-0242ac12000d",
     "previous": "457d225c-152a-11e7-b31a-0242ac12000d"
    },
    "scrolled": true
   },
   "outputs": [],
   "source": [
    "!curl -XDELETE \"http://$ES_HOST/meteorological-data-2015.01/$TYPE/1?pretty\""
   ]
  },
  {
   "cell_type": "markdown",
   "metadata": {
    "lc_cell_meme": {
     "current": "457d1b22-152a-11e7-b31a-0242ac12000d",
     "history": [
      {
       "current": "457d1b22-152a-11e7-b31a-0242ac12000d",
       "next": "457d1cee-152a-11e7-b31a-0242ac12000d",
       "previous": "457d1960-152a-11e7-b31a-0242ac12000d"
      }
     ],
     "next": "457d1cee-152a-11e7-b31a-0242ac12000d",
     "previous": "457d2428-152a-11e7-b31a-0242ac12000d"
    }
   },
   "source": [
    "### インデックス単位で削除"
   ]
  },
  {
   "cell_type": "markdown",
   "metadata": {
    "lc_cell_meme": {
     "current": "457d1cee-152a-11e7-b31a-0242ac12000d",
     "next": "457d1eba-152a-11e7-b31a-0242ac12000d",
     "previous": "457d1b22-152a-11e7-b31a-0242ac12000d"
    }
   },
   "source": [
    "インデックスを指定してドキュメントを削除する場合、次の形式でリクエストを送信します。"
   ]
  },
  {
   "cell_type": "raw",
   "metadata": {
    "lc_cell_meme": {
     "current": "457d1eba-152a-11e7-b31a-0242ac12000d",
     "history": [
      {
       "current": "457d1eba-152a-11e7-b31a-0242ac12000d",
       "next": "457d207c-152a-11e7-b31a-0242ac12000d",
       "previous": "457d1cee-152a-11e7-b31a-0242ac12000d"
      }
     ],
     "next": "457d225c-152a-11e7-b31a-0242ac12000d",
     "previous": "457d1cee-152a-11e7-b31a-0242ac12000d"
    }
   },
   "source": [
    "curl -XDELETE \"http://<ホスト名>:<ポート番号>/<インデックス名>/\""
   ]
  },
  {
   "cell_type": "markdown",
   "metadata": {
    "lc_cell_meme": {
     "current": "457d225c-152a-11e7-b31a-0242ac12000d",
     "history": [
      {
       "current": "457d225c-152a-11e7-b31a-0242ac12000d",
       "next": "457d2428-152a-11e7-b31a-0242ac12000d",
       "previous": "457d207c-152a-11e7-b31a-0242ac12000d"
      }
     ],
     "next": "457d2428-152a-11e7-b31a-0242ac12000d",
     "previous": "457d1eba-152a-11e7-b31a-0242ac12000d"
    }
   },
   "source": [
    "例えば、meteorological-data-2015.01のインデックスを削除する場合、次のコマンドを実行します。"
   ]
  },
  {
   "cell_type": "code",
   "execution_count": null,
   "metadata": {
    "lc_cell_meme": {
     "current": "457d2428-152a-11e7-b31a-0242ac12000d",
     "history": [
      {
       "current": "457d2428-152a-11e7-b31a-0242ac12000d",
       "next": "457d25f4-152a-11e7-b31a-0242ac12000d",
       "previous": "457d225c-152a-11e7-b31a-0242ac12000d"
      }
     ],
     "next": "f22512ca-184b-11e7-b31a-0242ac12000d",
     "previous": "457d225c-152a-11e7-b31a-0242ac12000d"
    },
    "scrolled": true
   },
   "outputs": [],
   "source": [
    "!curl -XDELETE \"http://$ES_HOST/meteorological-data-2015.01/\""
   ]
  },
  {
   "cell_type": "markdown",
   "metadata": {
    "lc_cell_meme": {
     "current": "f22512ca-184b-11e7-b31a-0242ac12000d",
     "next": "f2251680-184b-11e7-b31a-0242ac12000d",
     "previous": "457d2428-152a-11e7-b31a-0242ac12000d"
    }
   },
   "source": [
    "インデックス名の部分にはワイルドカードが指定可能です。  \n",
    "例えば次のコマンドを実行すると全インデックスの全データが削除されます。注意してください。"
   ]
  },
  {
   "cell_type": "raw",
   "metadata": {
    "lc_cell_meme": {
     "current": "f2251680-184b-11e7-b31a-0242ac12000d",
     "next": "457d25f4-152a-11e7-b31a-0242ac12000d",
     "previous": "f22512ca-184b-11e7-b31a-0242ac12000d"
    }
   },
   "source": [
    "curl -XDELETE \"http://<ホスト名>:<ポート番号>/*\""
   ]
  },
  {
   "cell_type": "markdown",
   "metadata": {
    "lc_cell_meme": {
     "current": "457d25f4-152a-11e7-b31a-0242ac12000d",
     "history": [
      {
       "current": "457d25f4-152a-11e7-b31a-0242ac12000d",
       "next": "457d27c0-152a-11e7-b31a-0242ac12000d",
       "previous": "457d2428-152a-11e7-b31a-0242ac12000d"
      }
     ],
     "next": "457d27c0-152a-11e7-b31a-0242ac12000d",
     "previous": "f2251680-184b-11e7-b31a-0242ac12000d"
    }
   },
   "source": [
    "### 条件指定して削除"
   ]
  },
  {
   "cell_type": "markdown",
   "metadata": {
    "lc_cell_meme": {
     "current": "457d27c0-152a-11e7-b31a-0242ac12000d",
     "next": "457d29b4-152a-11e7-b31a-0242ac12000d",
     "previous": "457d25f4-152a-11e7-b31a-0242ac12000d"
    }
   },
   "source": [
    "特定の条件に一致したドキュメントを削除する場合、次の形式でリクエストを送信します。"
   ]
  },
  {
   "cell_type": "raw",
   "metadata": {
    "lc_cell_meme": {
     "current": "457d29b4-152a-11e7-b31a-0242ac12000d",
     "next": "457d2bf8-152a-11e7-b31a-0242ac12000d",
     "previous": "457d27c0-152a-11e7-b31a-0242ac12000d"
    }
   },
   "source": [
    "curl -XPOST \"http://<ホスト名>:<ポート番号>/<インデックス名>/_delete_by_query?conflicts=proceed\" -d '<条件>'"
   ]
  },
  {
   "cell_type": "markdown",
   "metadata": {
    "lc_cell_meme": {
     "current": "457d2bf8-152a-11e7-b31a-0242ac12000d",
     "next": "457d2dd8-152a-11e7-b31a-0242ac12000d",
     "previous": "457d29b4-152a-11e7-b31a-0242ac12000d"
    }
   },
   "source": [
    "条件指定を行う場合は、タイプ名、ドキュメントIDを指定する必要はありません。  \n",
    "削除処理ですが、POSTメソッドであることに注意してください。  \n",
    "\n",
    "詳細は、Elasticsearch Referenceの[Delete By Query API](https://www.elastic.co/guide/en/elasticsearch/reference/current/docs-delete-by-query.html)を参照してください。"
   ]
  },
  {
   "cell_type": "markdown",
   "metadata": {
    "lc_cell_meme": {
     "current": "457d2dd8-152a-11e7-b31a-0242ac12000d",
     "next": "457d2f9a-152a-11e7-b31a-0242ac12000d",
     "previous": "457d2bf8-152a-11e7-b31a-0242ac12000d"
    }
   },
   "source": [
    "例えば、locationがtokyoであるドキュメントを削除する場合、次のコマンドを実行します。"
   ]
  },
  {
   "cell_type": "code",
   "execution_count": null,
   "metadata": {
    "lc_cell_meme": {
     "current": "457d2f9a-152a-11e7-b31a-0242ac12000d",
     "next": "457d315c-152a-11e7-b31a-0242ac12000d",
     "previous": "457d2dd8-152a-11e7-b31a-0242ac12000d"
    },
    "scrolled": false
   },
   "outputs": [],
   "source": [
    "%%bash\n",
    "curl -POST \"http://$ES_HOST/meteorological-data-2015.01/_delete_by_query?conflicts=proceed&pretty\" -d @- << EOF\n",
    "{\n",
    "  \"query\": {\n",
    "    \"term\": {\n",
    "      \"location\": \"tokyo\"\n",
    "    }\n",
    "  }\n",
    "}\n",
    "EOF"
   ]
  },
  {
   "cell_type": "markdown",
   "metadata": {
    "lc_cell_meme": {
     "current": "457d315c-152a-11e7-b31a-0242ac12000d",
     "next": "457d331e-152a-11e7-b31a-0242ac12000d",
     "previous": "457d2f9a-152a-11e7-b31a-0242ac12000d"
    }
   },
   "source": [
    "## 大量データ取得時の検索"
   ]
  },
  {
   "cell_type": "markdown",
   "metadata": {
    "lc_cell_meme": {
     "current": "457d331e-152a-11e7-b31a-0242ac12000d",
     "next": "457d34fe-152a-11e7-b31a-0242ac12000d",
     "previous": "457d315c-152a-11e7-b31a-0242ac12000d"
    }
   },
   "source": [
    "大量データ検索による性能への負荷を防ぐため、デフォルトでは検索結果を最大10件までしか返しません。  \n",
    "また、sizeパラメータを利用しても最大10000件までしか返すことができません。  \n",
    "ただし、実際には、10000件以上のデータを返したいケースもあります。  \n",
    "このようなケースでは、Scroll APIを利用して、何回かに分けて検索結果を取得します。  \n",
    "\n",
    "Scroll APIを利用するには、検索結果保持期間を指定してリクエストを送信します。"
   ]
  },
  {
   "cell_type": "raw",
   "metadata": {
    "lc_cell_meme": {
     "current": "457d34fe-152a-11e7-b31a-0242ac12000d",
     "next": "457d36d4-152a-11e7-b31a-0242ac12000d",
     "previous": "457d331e-152a-11e7-b31a-0242ac12000d"
    }
   },
   "source": [
    "curl -XGET \"http://<ホスト名>:<ポート番号>/<インデックス名>/_search?pretty&scroll=<検索結果保持期間>\" -d '{\n",
    "  \"size\": <1回目の件数>,\n",
    "  \"query\": <条件>\n",
    "}'"
   ]
  },
  {
   "cell_type": "markdown",
   "metadata": {
    "lc_cell_meme": {
     "current": "457d36d4-152a-11e7-b31a-0242ac12000d",
     "next": "457d38aa-152a-11e7-b31a-0242ac12000d",
     "previous": "457d34fe-152a-11e7-b31a-0242ac12000d"
    }
   },
   "source": [
    "すると、「_scroll_id」というフィールドを含んだレスポンスにが返ってきます。  \n",
    "この値を「スクロールID」と呼びます。  \n",
    "2回目以降は以下のリクエストを送信します。"
   ]
  },
  {
   "cell_type": "raw",
   "metadata": {
    "lc_cell_meme": {
     "current": "457d38aa-152a-11e7-b31a-0242ac12000d",
     "next": "457d3a80-152a-11e7-b31a-0242ac12000d",
     "previous": "457d36d4-152a-11e7-b31a-0242ac12000d"
    }
   },
   "source": [
    "curl -XGET \"http://<ホスト名>:<ポート番号>/_search/scroll\" -d '{\n",
    "  \"scroll\" : \"<検索結果保持期間>\", \n",
    "  \"scroll_id\" : \"<スクロールID>\" \n",
    "}'"
   ]
  },
  {
   "cell_type": "markdown",
   "metadata": {
    "lc_cell_meme": {
     "current": "457d3a80-152a-11e7-b31a-0242ac12000d",
     "next": "457d3c56-152a-11e7-b31a-0242ac12000d",
     "previous": "457d38aa-152a-11e7-b31a-0242ac12000d"
    }
   },
   "source": [
    "Scroll APIを利用する場合は、次の点に注意してください。\n",
    "\n",
    "- HTTPメソッドはGETでもPOSTでも構いません。\n",
    "- 大量データを返す処理であるため、通常の検索処理に比べると時間がかかる可能性があります。\n",
    "- 1回目の検索時に結果をElasticsearch内部に保持し、この結果を順次返します。そのため、大量の検索結果が存在する場合は、Elasticsearchに負荷がかかります。\n",
    "- 検索結果保持期間を過ぎた場合、Elasticsearch内部で検索結果は破棄されます。破棄後に検索すると「search_context_missing_exception」というエラー応答が返ってきます。\n",
    "- 1回目の検索時に結果をElasticsearch内部に保持するため、その後データが更新されてもScroll APIのレスポンスは変化しません。\n",
    "- 2回目以降のリクエストURLに、インデックス名やタイプ名は記載しないでください。\n",
    "- 2回目以降のリクエストの際に検索結果保持期間は更新されます。\n",
    "- すべての検索結果を取得すると、以降の検索結果が0件になります。これにより、検索結果が残っていないと判断できます。\n",
    "\n",
    "詳細は、Elasticsearch Referenceの[Scroll](https://www.elastic.co/guide/en/elasticsearch/reference/5.0/search-request-scroll.html)を参照してください。"
   ]
  },
  {
   "cell_type": "markdown",
   "metadata": {
    "lc_cell_meme": {
     "current": "457d3c56-152a-11e7-b31a-0242ac12000d",
     "next": "457d3e2c-152a-11e7-b31a-0242ac12000d",
     "previous": "457d3a80-152a-11e7-b31a-0242ac12000d"
    }
   },
   "source": [
    "検索結果保持期間を1分にして、東京のドキュメントを10件ずつ検索するコマンドは次の通りです。"
   ]
  },
  {
   "cell_type": "code",
   "execution_count": null,
   "metadata": {
    "lc_cell_meme": {
     "current": "457d3e2c-152a-11e7-b31a-0242ac12000d",
     "next": "457d4002-152a-11e7-b31a-0242ac12000d",
     "previous": "457d3c56-152a-11e7-b31a-0242ac12000d"
    }
   },
   "outputs": [],
   "source": [
    "%%bash\n",
    "curl -XGET \"http://$ES_HOST/meteorological-data-2015.08/_search?pretty&scroll=1m\" -d @- << EOF\n",
    "{\n",
    "  \"size\": 10,\n",
    "  \"query\": {\n",
    "    \"term\" : { \"location\" : \"tokyo\" }\n",
    "  }\n",
    "}\n",
    "EOF"
   ]
  },
  {
   "cell_type": "markdown",
   "metadata": {
    "lc_cell_meme": {
     "current": "457d4002-152a-11e7-b31a-0242ac12000d",
     "next": "457d41d8-152a-11e7-b31a-0242ac12000d",
     "previous": "457d3e2c-152a-11e7-b31a-0242ac12000d"
    }
   },
   "source": [
    "2回目以降の検索を行うコマンドは次の通りです。(scroll_idパラメータに渡す<スクロールID>の部分は、上の1回目の応答で出力された\"_scroll_id\"パラメータの値と置き換えて実行してください)"
   ]
  },
  {
   "cell_type": "code",
   "execution_count": null,
   "metadata": {
    "lc_cell_meme": {
     "current": "457d41d8-152a-11e7-b31a-0242ac12000d",
     "next": "457d43ae-152a-11e7-b31a-0242ac12000d",
     "previous": "457d4002-152a-11e7-b31a-0242ac12000d"
    }
   },
   "outputs": [],
   "source": [
    "%%bash\n",
    "curl -XGET \"http://$ES_HOST/_search/scroll?pretty\" -d @- << EOF\n",
    "{\n",
    "  \"scroll\" : \"1m\",\n",
    "  \"scroll_id\" : \"<スクロールID>\"\n",
    "}\n",
    "EOF"
   ]
  },
  {
   "cell_type": "markdown",
   "metadata": {
    "lc_cell_meme": {
     "current": "457d43ae-152a-11e7-b31a-0242ac12000d",
     "next": "457d4584-152a-11e7-b31a-0242ac12000d",
     "previous": "457d41d8-152a-11e7-b31a-0242ac12000d"
    }
   },
   "source": [
    "すべての検索結果を取得すると、以降の検索結果が0件になります。(次の例では、60秒スリープすることで、タイムアウトさせています)"
   ]
  },
  {
   "cell_type": "code",
   "execution_count": null,
   "metadata": {
    "lc_cell_meme": {
     "current": "457d4584-152a-11e7-b31a-0242ac12000d",
     "next": "457d476e-152a-11e7-b31a-0242ac12000d",
     "previous": "457d43ae-152a-11e7-b31a-0242ac12000d"
    },
    "scrolled": true
   },
   "outputs": [],
   "source": [
    "%%bash\n",
    "sleep 60\n",
    "curl -XGET \"http://$ES_HOST/_search/scroll?pretty\" -d @- << EOF\n",
    "{\n",
    "  \"scroll\" : \"1m\",\n",
    "  \"scroll_id\" : \"<スクロールID>\"\n",
    "}\n",
    "EOF"
   ]
  },
  {
   "cell_type": "markdown",
   "metadata": {
    "lc_cell_meme": {
     "current": "457d476e-152a-11e7-b31a-0242ac12000d",
     "next": "457d494e-152a-11e7-b31a-0242ac12000d",
     "previous": "457d4584-152a-11e7-b31a-0242ac12000d"
    }
   },
   "source": [
    "検索結果保持期間を過ぎた場合、「search_context_missing_exception」というエラー応答が返ってきます。"
   ]
  },
  {
   "cell_type": "markdown",
   "metadata": {
    "lc_cell_meme": {
     "current": "457d494e-152a-11e7-b31a-0242ac12000d",
     "next": "457d4b24-152a-11e7-b31a-0242ac12000d",
     "previous": "457d476e-152a-11e7-b31a-0242ac12000d"
    }
   },
   "source": [
    "## 実行クエリ解析"
   ]
  },
  {
   "cell_type": "markdown",
   "metadata": {
    "lc_cell_meme": {
     "current": "457d4b24-152a-11e7-b31a-0242ac12000d",
     "next": "457d4d04-152a-11e7-b31a-0242ac12000d",
     "previous": "457d494e-152a-11e7-b31a-0242ac12000d"
    }
   },
   "source": [
    "クエリを解析するためにProfile APIを使用します。  "
   ]
  },
  {
   "cell_type": "markdown",
   "metadata": {
    "lc_cell_meme": {
     "current": "457d4d04-152a-11e7-b31a-0242ac12000d",
     "next": "457d4ed0-152a-11e7-b31a-0242ac12000d",
     "previous": "457d4b24-152a-11e7-b31a-0242ac12000d"
    }
   },
   "source": [
    "Profile APIは、実行クエリについて詳細情報を提供します。  \n",
    "クエリがどのように実行されるかをユーザーに示し、特定のクエリが遅い理由を理解し、改善するために使用します。"
   ]
  },
  {
   "cell_type": "markdown",
   "metadata": {
    "lc_cell_meme": {
     "current": "457d4ed0-152a-11e7-b31a-0242ac12000d",
     "next": "457d50a6-152a-11e7-b31a-0242ac12000d",
     "previous": "457d4d04-152a-11e7-b31a-0242ac12000d"
    }
   },
   "source": [
    "例として、Profile APIのコマンドは次の通りです。"
   ]
  },
  {
   "cell_type": "code",
   "execution_count": null,
   "metadata": {
    "lc_cell_meme": {
     "current": "457d50a6-152a-11e7-b31a-0242ac12000d",
     "next": "457d5272-152a-11e7-b31a-0242ac12000d",
     "previous": "457d4ed0-152a-11e7-b31a-0242ac12000d"
    },
    "scrolled": true
   },
   "outputs": [],
   "source": [
    "%%bash\n",
    "curl -XGET \"http://$ES_HOST/meteorological-data-2015.01/_search?pretty\" -d @- << EOF\n",
    "{\n",
    "  \"profile\": true,\n",
    "  \"query\": {\n",
    "    \"term\" : { \"location\" : \"tokyo\" } \n",
    "  }\n",
    "}\n",
    "EOF"
   ]
  },
  {
   "cell_type": "markdown",
   "metadata": {
    "lc_cell_meme": {
     "current": "457d5272-152a-11e7-b31a-0242ac12000d",
     "next": null,
     "previous": "457d50a6-152a-11e7-b31a-0242ac12000d"
    }
   },
   "source": [
    "shard毎に実行したクエリの処理時間を見ることができます。\n",
    "\n",
    "Profile APIの詳細は、Elasticsearch Referenceの[Profile API](https://www.elastic.co/guide/en/elasticsearch/reference/5.0/search-profile.html)を参照してください。"
   ]
  }
 ],
 "metadata": {
  "anaconda-cloud": {},
  "kernelspec": {
   "display_name": "Python 2 (LC_wrapper)",
   "language": "python",
   "name": "python2-wrapper"
  },
  "language_info": {
   "file_extension": ".py",
   "mimetype": "text/x-python",
   "name": "python",
   "nbconvert_exporter": "python",
   "pygments_lexer": "ipython2",
   "version": "2.7.9"
  },
  "latex_envs": {
   "bibliofile": "biblio.bib",
   "cite_by": "apalike",
   "current_citInitial": 1,
   "eqLabelWithNumbers": true,
   "eqNumInitial": 0
  },
  "lc_notebook_meme": {
   "current": "457c0dae-152a-11e7-b31a-0242ac12000d"
  },
  "toc": {
   "colors": {
    "hover_highlight": "#DAA520",
    "navigate_num": "#000000",
    "navigate_text": "#333333",
    "running_highlight": "#FF0000",
    "selected_highlight": "#FFD700",
    "sidebar_border": "#EEEEEE",
    "wrapper_background": "#FFFFFF"
   },
   "moveMenuLeft": true,
   "nav_menu": {
    "height": "512px",
    "width": "252px"
   },
   "navigate_menu": true,
   "number_sections": true,
   "sideBar": true,
   "threshold": 4,
   "toc_cell": false,
   "toc_position": {
    "height": "547px",
    "left": "0px",
    "right": "840px",
    "top": "106px",
    "width": "290px"
   },
   "toc_section_display": "block",
   "toc_window_display": true,
   "widenNotebook": false
  }
 },
 "nbformat": 4,
 "nbformat_minor": 1
}
