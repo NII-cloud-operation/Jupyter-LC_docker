{
 "cells": [
  {
   "cell_type": "markdown",
   "metadata": {
    "lc_cell_meme": {
     "current": "271c81f8-152b-11e7-b31a-0242ac12000d",
     "next": "271c8446-152b-11e7-b31a-0242ac12000d",
     "previous": null
    }
   },
   "source": [
    "# サーチエンジンとしての利用手順(インデックス設計)\n",
    "----\n",
    "インデックスに与えるマッピング定義の内容や、 reindexの方法について説明します。"
   ]
  },
  {
   "cell_type": "markdown",
   "metadata": {
    "lc_cell_meme": {
     "current": "271c8446-152b-11e7-b31a-0242ac12000d",
     "next": "271c864e-152b-11e7-b31a-0242ac12000d",
     "previous": "271c81f8-152b-11e7-b31a-0242ac12000d"
    }
   },
   "source": [
    "## 準備"
   ]
  },
  {
   "cell_type": "markdown",
   "metadata": {
    "lc_cell_meme": {
     "current": "271c864e-152b-11e7-b31a-0242ac12000d",
     "next": "271c882e-152b-11e7-b31a-0242ac12000d",
     "previous": "271c8446-152b-11e7-b31a-0242ac12000d"
    }
   },
   "source": [
    "本章のコマンドを実行するための設定を行います。  \n",
    "\n",
    "セットアップ済みの環境のうちコマンドを送る先であるCoordinating(Client) Nodeのホストアドレスを、次のセルに記入して実行し、保存してください。"
   ]
  },
  {
   "cell_type": "code",
   "execution_count": 1,
   "metadata": {
    "lc_cell_meme": {
     "current": "271c882e-152b-11e7-b31a-0242ac12000d",
     "next": "271c8a0e-152b-11e7-b31a-0242ac12000d",
     "previous": "271c864e-152b-11e7-b31a-0242ac12000d"
    }
   },
   "outputs": [
    {
     "name": "stdout",
     "output_type": "stream",
     "text": [
      "env: ES_HOST=10.24.128.93:9200\n"
     ]
    }
   ],
   "source": [
    "%run rc.py\n",
    "%env ES_HOST={es_host}:9200"
   ]
  },
  {
   "cell_type": "markdown",
   "metadata": {
    "lc_cell_meme": {
     "current": "271c8a0e-152b-11e7-b31a-0242ac12000d",
     "next": "271c8be4-152b-11e7-b31a-0242ac12000d",
     "previous": "271c882e-152b-11e7-b31a-0242ac12000d"
    }
   },
   "source": [
    "## マッピング設定\n"
   ]
  },
  {
   "cell_type": "markdown",
   "metadata": {
    "lc_cell_meme": {
     "current": "271c8be4-152b-11e7-b31a-0242ac12000d",
     "next": "271c8db0-152b-11e7-b31a-0242ac12000d",
     "previous": "271c8a0e-152b-11e7-b31a-0242ac12000d"
    }
   },
   "source": [
    "一般的なリレーショナルデータベースと同様に、Elasticsearchにも「データ型」の概念が存在します。  \n",
    "例えば、date型は日付を表現し、日付の演算を適用して検索を行うことができる、というようなものです。\n",
    "\n",
    "次の表に一部のデータ型の分類と説明を記載します。  \n",
    "データ型に関する詳細はElasticsearch Referenceの[Field datatypes](https://www.elastic.co/guide/en/elasticsearch/reference/current/mapping-types.html)を参照してください。\n",
    "\n",
    "\n",
    "\n",
    "| データ型の分類 | データ型の説明 | 例 |\n",
    "|----------------|----------------|----------------|\n",
    "|[numeric](https://www.elastic.co/guide/en/elasticsearch/reference/current/number.html)|数値を扱うためのデータ型です。整数を示すデータ型と小数を扱うためのデータ型などがあります。<BR>整数と小数のいずれも、表現できる値の範囲や精度に応じていくつかのデータ型が用意されています。|int : -23<BR>float : 12.3|\n",
    "|string|string形式のデータ型には[text](https://www.elastic.co/guide/en/elasticsearch/reference/current/text.html)と[keyword](https://www.elastic.co/guide/en/elasticsearch/reference/current/keyword.html)の2種類があり、両者の違いは、1つのデータ内で単語に分割されて検索インデックスが作成されるかという点です。<BR>例えば、文章をtext型としてelasticsearchに登録すれば、単語単位に分割されて検索インデックスが作成されるため検索時に文章内の単語を使って検索することができます。<BR>逆に、人名などのようにそれ以上分割してほしくない文字列を登録する時には、keyword型として登録することでそのままの文字列に対して検索インデックスが作成されます。<BR>※「検索インデックス」はElasticsearchの「インデックス」とは意味が異なります。<BR>「検索インデックス」は検索処理に利用される内部データを指します。| text : \"このように長い文章はtext型として扱うのがよい。\"<BR>keyword : \"江戸幕府\"\n",
    "|[date](https://www.elastic.co/guide/en/elasticsearch/reference/current/date.html)|日付の表現にフォーマットされた文字列は、日付を表すデータ型としてdate型で登録することができます。|date : \"2016-12-31T00:00:000Z\", \"2016-12-31\"|\n",
    "|[boolean](https://www.elastic.co/guide/en/elasticsearch/reference/current/boolean.html)|trueまたはfalseの値を扱うことができます。|boolean : true|\n",
    "|[complex](https://www.elastic.co/guide/en/elasticsearch/reference/current/mapping-types.html#_geo_datatypes)|JSON形式のデータは[object型](https://www.elastic.co/guide/en/elasticsearch/reference/current/object.html)として登録することができます。さらにJSONが入れ子になっているようなデータ形式のものも[nested型](https://www.elastic.co/guide/en/elasticsearch/reference/current/nested.html)として扱うことができます。|object : {\"temperature\":\"20.0\",\"rain\":\"1.5\"}|\n",
    "|[geo](https://www.elastic.co/guide/en/elasticsearch/reference/current/mapping-types.html#_geo_datatypes)|緯度経度のペアからなる地点情報は[geo_point型](https://www.elastic.co/guide/en/elasticsearch/reference/current/geo-point.html)として扱うことができます。<BR>ある特定の地点を示すgeo_point型のほかに、領域を表現することができる[geo_shape型](https://www.elastic.co/guide/en/elasticsearch/reference/current/geo-shape.html)というデータ型もあります。|geo_point : [133.15 , 23.2]|\n",
    "|[ip](https://www.elastic.co/guide/en/elasticsearch/reference/current/ip.html)|IPアドレスを表すデータはip型として扱うことができます。<BR>keyword型などで文字列として登録しておくこともできますが、<BR>ip型を明示的に指定することはソート時や範囲を指定しての検索などを行う場合に有用です。|ip : 192.168.0.1|\n"
   ]
  },
  {
   "cell_type": "markdown",
   "metadata": {
    "lc_cell_meme": {
     "current": "271c8db0-152b-11e7-b31a-0242ac12000d",
     "next": "271c8f86-152b-11e7-b31a-0242ac12000d",
     "previous": "271c8be4-152b-11e7-b31a-0242ac12000d"
    }
   },
   "source": [
    "\n"
   ]
  },
  {
   "cell_type": "markdown",
   "metadata": {
    "lc_cell_meme": {
     "current": "271c8f86-152b-11e7-b31a-0242ac12000d",
     "next": "271c915c-152b-11e7-b31a-0242ac12000d",
     "previous": "271c8db0-152b-11e7-b31a-0242ac12000d"
    }
   },
   "source": [
    "マッピング定義はJSON形式で記述します。  \n",
    "基本的には、フィールド毎に名前とデータ型を指定するという構成になります。  \n",
    "次のようなフォーマットでリクエストを送ることでマッピング定義を行うことができます。"
   ]
  },
  {
   "cell_type": "raw",
   "metadata": {
    "lc_cell_meme": {
     "current": "271c915c-152b-11e7-b31a-0242ac12000d",
     "next": "271c9332-152b-11e7-b31a-0242ac12000d",
     "previous": "271c8f86-152b-11e7-b31a-0242ac12000d"
    }
   },
   "source": [
    "curl -XPUT \"http://<ホスト名>/<インデックス名>\" -d \n",
    "{\n",
    "  \"mappings\": { \n",
    "    \"<タイプ名>\": { \n",
    "      \"properties\": {\n",
    "        \"<フィールド名>\": {\n",
    "          \"type\": \"<データ型>\"\n",
    "        }\n",
    "      }\n",
    "    }\n",
    "  }\n",
    "}"
   ]
  },
  {
   "cell_type": "markdown",
   "metadata": {
    "lc_cell_meme": {
     "current": "271c9332-152b-11e7-b31a-0242ac12000d",
     "next": "271c94fe-152b-11e7-b31a-0242ac12000d",
     "previous": "271c915c-152b-11e7-b31a-0242ac12000d"
    }
   },
   "source": [
    "上記の例のように\"mappings\"という項目の中にタイプを指定し、  \n",
    "フィールドごとの設定は\"properties\"の中に記述していきます。  \n",
    "この例では\"message\"というフィールドのデータ型をtext型として定義しています。"
   ]
  },
  {
   "cell_type": "markdown",
   "metadata": {
    "lc_cell_meme": {
     "current": "271c94fe-152b-11e7-b31a-0242ac12000d",
     "next": "271c96c0-152b-11e7-b31a-0242ac12000d",
     "previous": "271c9332-152b-11e7-b31a-0242ac12000d"
    }
   },
   "source": [
    "ここではフィールド名を指定してデータ型を定義していますが、  \n",
    "フィールド名のパターンを指定することで複数のフィールドに対して定義を行うdynamic mappingという機能もあります。   \n",
    "また、単一のインデックスに対してマッピング定義をする方法のほかに、  \n",
    "ワイルドカードを使って複数のインデックスにマッピングを適用できるテンプレートという機能もあります。  \n",
    "\n",
    "詳細はElasticsearch Referenceの[Mapping](https://www.elastic.co/guide/en/elasticsearch/reference/current/mapping.html)および[Dynamic Mapping](https://www.elastic.co/guide/en/elasticsearch/reference/current/dynamic-mapping.html)を参照してください。"
   ]
  },
  {
   "cell_type": "markdown",
   "metadata": {
    "lc_cell_meme": {
     "current": "271c96c0-152b-11e7-b31a-0242ac12000d",
     "next": "271c98aa-152b-11e7-b31a-0242ac12000d",
     "previous": "271c94fe-152b-11e7-b31a-0242ac12000d"
    }
   },
   "source": [
    "## マッピングの設定方法と注意点"
   ]
  },
  {
   "cell_type": "markdown",
   "metadata": {
    "lc_cell_meme": {
     "current": "271c98aa-152b-11e7-b31a-0242ac12000d",
     "next": "271c9a76-152b-11e7-b31a-0242ac12000d",
     "previous": "271c96c0-152b-11e7-b31a-0242ac12000d"
    }
   },
   "source": [
    "マッピング定義が存在しないフィールドは、自動で解釈され、text型とkeyword型の両方でElasticsearchに登録されます。  \n",
    "例えば、数値データであるにも関わらずtext型で解釈された場合、大小比較による検索ができない等、想定と異なる動作となってしまいます。\n",
    "\n",
    "次のような場合には、マッピング定義によりデータ型を明示的に指定する必要があります。  \n",
    "\n",
    "- [string形式のデータに対して単語分割を行うかどうかを指定したい場合](#text-,-keyword)\n",
    "- [日付のフォーマット指定を行いたい場合](#日付のフォーマット指定)\n",
    "- [適切な数値型を利用したい場合](#配列)\n",
    "- [geo_point型を利用する場合](#geolocation)"
   ]
  },
  {
   "cell_type": "markdown",
   "metadata": {
    "lc_cell_meme": {
     "current": "271c9a76-152b-11e7-b31a-0242ac12000d",
     "next": "271c9c56-152b-11e7-b31a-0242ac12000d",
     "previous": "271c98aa-152b-11e7-b31a-0242ac12000d"
    }
   },
   "source": [
    "### text型 , keyword型"
   ]
  },
  {
   "cell_type": "markdown",
   "metadata": {
    "lc_cell_meme": {
     "current": "271c9c56-152b-11e7-b31a-0242ac12000d",
     "next": "271c9e22-152b-11e7-b31a-0242ac12000d",
     "previous": "271c9a76-152b-11e7-b31a-0242ac12000d"
    }
   },
   "source": [
    "string型として解釈されたデータは、明示的に指定しない場合keyword型とtext型の両方が自動的に登録されます。  \n",
    "明示的に指定することで、無駄なフィールドが登録されるのを防止し、インデックスのサイズを削減することができます。  \n",
    "  \n",
    "例えば「meteorological-data」インデックスの「information_daytime」フィールドに対して  \n",
    "明示的にkeyword型を指定すればtext型で二重に登録されてしまうことはありません。  \n",
    "\n",
    "具体的には下記のように設定します。"
   ]
  },
  {
   "cell_type": "raw",
   "metadata": {
    "lc_cell_meme": {
     "current": "271c9e22-152b-11e7-b31a-0242ac12000d",
     "next": "271c9ff8-152b-11e7-b31a-0242ac12000d",
     "previous": "271c9c56-152b-11e7-b31a-0242ac12000d"
    }
   },
   "source": [
    "curl -XPUT \"http://<ホスト名>/meteorological-data\" -d \n",
    "{\n",
    "  \"mappings\": { \n",
    "    \"logs\": { \n",
    "      \"properties\": {\n",
    "        \"information_daytime\": {\n",
    "          \"type\": \"keyword\"\n",
    "        }\n",
    "      }\n",
    "    }\n",
    "  }\n",
    "}"
   ]
  },
  {
   "cell_type": "markdown",
   "metadata": {
    "lc_cell_meme": {
     "current": "271c9ff8-152b-11e7-b31a-0242ac12000d",
     "next": "271ca1c4-152b-11e7-b31a-0242ac12000d",
     "previous": "271c9e22-152b-11e7-b31a-0242ac12000d"
    }
   },
   "source": [
    "フィールドのマッピングを確認するコマンドは次の通りです。"
   ]
  },
  {
   "cell_type": "code",
   "execution_count": 2,
   "metadata": {
    "lc_cell_meme": {
     "current": "271ca1c4-152b-11e7-b31a-0242ac12000d",
     "next": "271ca390-152b-11e7-b31a-0242ac12000d",
     "previous": "271c9ff8-152b-11e7-b31a-0242ac12000d"
    }
   },
   "outputs": [
    {
     "name": "stdout",
     "output_type": "stream",
     "text": [
      "{\n",
      "  \"meteorological-data-2015.04\" : {\n",
      "    \"mappings\" : {\n",
      "      \"logs\" : {\n",
      "        \"dynamic_templates\" : [\n",
      "          {\n",
      "            \"my_strings\" : {\n",
      "              \"match_mapping_type\" : \"string\",\n",
      "              \"mapping\" : {\n",
      "                \"type\" : \"keyword\"\n",
      "              }\n",
      "            }\n",
      "          }\n",
      "        ],\n",
      "        \"properties\" : {\n",
      "          \"@timestamp\" : {\n",
      "            \"type\" : \"date\"\n",
      "          },\n",
      "          \"@version\" : {\n",
      "            \"type\" : \"keyword\"\n",
      "          },\n",
      "          \"atmospheric_pressure\" : {\n",
      "            \"type\" : \"float\"\n",
      "          },\n",
      "          \"date\" : {\n",
      "            \"type\" : \"keyword\"\n",
      "          },\n",
      "          \"humidity_avg\" : {\n",
      "            \"type\" : \"float\"\n",
      "          },\n",
      "          \"humidity_min\" : {\n",
      "            \"type\" : \"float\"\n",
      "          },\n",
      "          \"information_daytime\" : {\n",
      "            \"type\" : \"keyword\"\n",
      "          },\n",
      "          \"information_night\" : {\n",
      "            \"type\" : \"keyword\"\n",
      "          },\n",
      "          \"location\" : {\n",
      "            \"type\" : \"keyword\"\n",
      "          },\n",
      "          \"precipitation_day\" : {\n",
      "            \"type\" : \"float\"\n",
      "          },\n",
      "          \"precipitation_max_10min\" : {\n",
      "            \"type\" : \"float\"\n",
      "          },\n",
      "          \"precipitation_max_hour\" : {\n",
      "            \"type\" : \"float\"\n",
      "          },\n",
      "          \"sea_level_pressure\" : {\n",
      "            \"type\" : \"float\"\n",
      "          },\n",
      "          \"snowfall\" : {\n",
      "            \"type\" : \"float\"\n",
      "          },\n",
      "          \"snowfall_max\" : {\n",
      "            \"type\" : \"float\"\n",
      "          },\n",
      "          \"sunshine_duration\" : {\n",
      "            \"type\" : \"float\"\n",
      "          },\n",
      "          \"temperature_avg\" : {\n",
      "            \"type\" : \"float\"\n",
      "          },\n",
      "          \"temperature_max\" : {\n",
      "            \"type\" : \"float\"\n",
      "          },\n",
      "          \"temperature_min\" : {\n",
      "            \"type\" : \"float\"\n",
      "          },\n",
      "          \"wind_direction\" : {\n",
      "            \"type\" : \"keyword\"\n",
      "          },\n",
      "          \"wind_direction_max_moment\" : {\n",
      "            \"type\" : \"keyword\"\n",
      "          },\n",
      "          \"wind_speed_avg\" : {\n",
      "            \"type\" : \"float\"\n",
      "          },\n",
      "          \"wind_speed_max\" : {\n",
      "            \"type\" : \"float\"\n",
      "          },\n",
      "          \"wind_speed_max_moment\" : {\n",
      "            \"type\" : \"float\"\n",
      "          }\n",
      "        }\n",
      "      }\n",
      "    }\n",
      "  },\n",
      "  \"meteorological-data-2015.03\" : {\n",
      "    \"mappings\" : {\n",
      "      \"logs\" : {\n",
      "        \"dynamic_templates\" : [\n",
      "          {\n",
      "            \"my_strings\" : {\n",
      "              \"match_mapping_type\" : \"string\",\n",
      "              \"mapping\" : {\n",
      "                \"type\" : \"keyword\"\n",
      "              }\n",
      "            }\n",
      "          }\n",
      "        ],\n",
      "        \"properties\" : {\n",
      "          \"@timestamp\" : {\n",
      "            \"type\" : \"date\"\n",
      "          },\n",
      "          \"@version\" : {\n",
      "            \"type\" : \"keyword\"\n",
      "          },\n",
      "          \"atmospheric_pressure\" : {\n",
      "            \"type\" : \"float\"\n",
      "          },\n",
      "          \"date\" : {\n",
      "            \"type\" : \"keyword\"\n",
      "          },\n",
      "          \"humidity_avg\" : {\n",
      "            \"type\" : \"float\"\n",
      "          },\n",
      "          \"humidity_min\" : {\n",
      "            \"type\" : \"float\"\n",
      "          },\n",
      "          \"information_daytime\" : {\n",
      "            \"type\" : \"keyword\"\n",
      "          },\n",
      "          \"information_night\" : {\n",
      "            \"type\" : \"keyword\"\n",
      "          },\n",
      "          \"location\" : {\n",
      "            \"type\" : \"keyword\"\n",
      "          },\n",
      "          \"precipitation_day\" : {\n",
      "            \"type\" : \"float\"\n",
      "          },\n",
      "          \"precipitation_max_10min\" : {\n",
      "            \"type\" : \"float\"\n",
      "          },\n",
      "          \"precipitation_max_hour\" : {\n",
      "            \"type\" : \"float\"\n",
      "          },\n",
      "          \"sea_level_pressure\" : {\n",
      "            \"type\" : \"float\"\n",
      "          },\n",
      "          \"snowfall\" : {\n",
      "            \"type\" : \"float\"\n",
      "          },\n",
      "          \"snowfall_max\" : {\n",
      "            \"type\" : \"float\"\n",
      "          },\n",
      "          \"sunshine_duration\" : {\n",
      "            \"type\" : \"float\"\n",
      "          },\n",
      "          \"temperature_avg\" : {\n",
      "            \"type\" : \"float\"\n",
      "          },\n",
      "          \"temperature_max\" : {\n",
      "            \"type\" : \"float\"\n",
      "          },\n",
      "          \"temperature_min\" : {\n",
      "            \"type\" : \"float\"\n",
      "          },\n",
      "          \"wind_direction\" : {\n",
      "            \"type\" : \"keyword\"\n",
      "          },\n",
      "          \"wind_direction_max_moment\" : {\n",
      "            \"type\" : \"keyword\"\n",
      "          },\n",
      "          \"wind_speed_avg\" : {\n",
      "            \"type\" : \"float\"\n",
      "          },\n",
      "          \"wind_speed_max\" : {\n",
      "            \"type\" : \"float\"\n",
      "          },\n",
      "          \"wind_speed_max_moment\" : {\n",
      "            \"type\" : \"float\"\n",
      "          }\n",
      "        }\n",
      "      }\n",
      "    }\n",
      "  },\n",
      "  \"meteorological-data-2015.08\" : {\n",
      "    \"mappings\" : {\n",
      "      \"logs\" : {\n",
      "        \"dynamic_templates\" : [\n",
      "          {\n",
      "            \"my_strings\" : {\n",
      "              \"match_mapping_type\" : \"string\",\n",
      "              \"mapping\" : {\n",
      "                \"type\" : \"keyword\"\n",
      "              }\n",
      "            }\n",
      "          }\n",
      "        ],\n",
      "        \"properties\" : {\n",
      "          \"@timestamp\" : {\n",
      "            \"type\" : \"date\"\n",
      "          },\n",
      "          \"@version\" : {\n",
      "            \"type\" : \"keyword\"\n",
      "          },\n",
      "          \"atmospheric_pressure\" : {\n",
      "            \"type\" : \"float\"\n",
      "          },\n",
      "          \"date\" : {\n",
      "            \"type\" : \"keyword\"\n",
      "          },\n",
      "          \"humidity_avg\" : {\n",
      "            \"type\" : \"float\"\n",
      "          },\n",
      "          \"humidity_min\" : {\n",
      "            \"type\" : \"float\"\n",
      "          },\n",
      "          \"information_daytime\" : {\n",
      "            \"type\" : \"keyword\"\n",
      "          },\n",
      "          \"information_night\" : {\n",
      "            \"type\" : \"keyword\"\n",
      "          },\n",
      "          \"location\" : {\n",
      "            \"type\" : \"keyword\"\n",
      "          },\n",
      "          \"precipitation_day\" : {\n",
      "            \"type\" : \"float\"\n",
      "          },\n",
      "          \"precipitation_max_10min\" : {\n",
      "            \"type\" : \"float\"\n",
      "          },\n",
      "          \"precipitation_max_hour\" : {\n",
      "            \"type\" : \"float\"\n",
      "          },\n",
      "          \"sea_level_pressure\" : {\n",
      "            \"type\" : \"float\"\n",
      "          },\n",
      "          \"snowfall\" : {\n",
      "            \"type\" : \"float\"\n",
      "          },\n",
      "          \"snowfall_max\" : {\n",
      "            \"type\" : \"float\"\n",
      "          },\n",
      "          \"sunshine_duration\" : {\n",
      "            \"type\" : \"float\"\n",
      "          },\n",
      "          \"temperature_avg\" : {\n",
      "            \"type\" : \"float\"\n",
      "          },\n",
      "          \"temperature_max\" : {\n",
      "            \"type\" : \"float\"\n",
      "          },\n",
      "          \"temperature_min\" : {\n",
      "            \"type\" : \"float\"\n",
      "          },\n",
      "          \"wind_direction\" : {\n",
      "            \"type\" : \"keyword\"\n",
      "          },\n",
      "          \"wind_direction_max_moment\" : {\n",
      "            \"type\" : \"keyword\"\n",
      "          },\n",
      "          \"wind_speed_avg\" : {\n",
      "            \"type\" : \"float\"\n",
      "          },\n",
      "          \"wind_speed_max\" : {\n",
      "            \"type\" : \"float\"\n",
      "          },\n",
      "          \"wind_speed_max_moment\" : {\n",
      "            \"type\" : \"float\"\n",
      "          }\n",
      "        }\n",
      "      }\n",
      "    }\n",
      "  },\n",
      "  \"meteorological-data-2015.10\" : {\n",
      "    \"mappings\" : {\n",
      "      \"logs\" : {\n",
      "        \"dynamic_templates\" : [\n",
      "          {\n",
      "            \"my_strings\" : {\n",
      "              \"match_mapping_type\" : \"string\",\n",
      "              \"mapping\" : {\n",
      "                \"type\" : \"keyword\"\n",
      "              }\n",
      "            }\n",
      "          }\n",
      "        ],\n",
      "        \"properties\" : {\n",
      "          \"@timestamp\" : {\n",
      "            \"type\" : \"date\"\n",
      "          },\n",
      "          \"@version\" : {\n",
      "            \"type\" : \"keyword\"\n",
      "          },\n",
      "          \"atmospheric_pressure\" : {\n",
      "            \"type\" : \"float\"\n",
      "          },\n",
      "          \"date\" : {\n",
      "            \"type\" : \"keyword\"\n",
      "          },\n",
      "          \"humidity_avg\" : {\n",
      "            \"type\" : \"float\"\n",
      "          },\n",
      "          \"humidity_min\" : {\n",
      "            \"type\" : \"float\"\n",
      "          },\n",
      "          \"information_daytime\" : {\n",
      "            \"type\" : \"keyword\"\n",
      "          },\n",
      "          \"information_night\" : {\n",
      "            \"type\" : \"keyword\"\n",
      "          },\n",
      "          \"location\" : {\n",
      "            \"type\" : \"keyword\"\n",
      "          },\n",
      "          \"precipitation_day\" : {\n",
      "            \"type\" : \"float\"\n",
      "          },\n",
      "          \"precipitation_max_10min\" : {\n",
      "            \"type\" : \"float\"\n",
      "          },\n",
      "          \"precipitation_max_hour\" : {\n",
      "            \"type\" : \"float\"\n",
      "          },\n",
      "          \"sea_level_pressure\" : {\n",
      "            \"type\" : \"float\"\n",
      "          },\n",
      "          \"snowfall\" : {\n",
      "            \"type\" : \"float\"\n",
      "          },\n",
      "          \"snowfall_max\" : {\n",
      "            \"type\" : \"float\"\n",
      "          },\n",
      "          \"sunshine_duration\" : {\n",
      "            \"type\" : \"float\"\n",
      "          },\n",
      "          \"temperature_avg\" : {\n",
      "            \"type\" : \"float\"\n",
      "          },\n",
      "          \"temperature_max\" : {\n",
      "            \"type\" : \"float\"\n",
      "          },\n",
      "          \"temperature_min\" : {\n",
      "            \"type\" : \"float\"\n",
      "          },\n",
      "          \"wind_direction\" : {\n",
      "            \"type\" : \"keyword\"\n",
      "          },\n",
      "          \"wind_direction_max_moment\" : {\n",
      "            \"type\" : \"keyword\"\n",
      "          },\n",
      "          \"wind_speed_avg\" : {\n",
      "            \"type\" : \"float\"\n",
      "          },\n",
      "          \"wind_speed_max\" : {\n",
      "            \"type\" : \"float\"\n",
      "          },\n",
      "          \"wind_speed_max_moment\" : {\n",
      "            \"type\" : \"float\"\n",
      "          }\n",
      "        }\n",
      "      }\n",
      "    }\n",
      "  },\n",
      "  \"meteorological-data-2015.11\" : {\n",
      "    \"mappings\" : {\n",
      "      \"logs\" : {\n",
      "        \"dynamic_templates\" : [\n",
      "          {\n",
      "            \"my_strings\" : {\n",
      "              \"match_mapping_type\" : \"string\",\n",
      "              \"mapping\" : {\n",
      "                \"type\" : \"keyword\"\n",
      "              }\n",
      "            }\n",
      "          }\n",
      "        ],\n",
      "        \"properties\" : {\n",
      "          \"@timestamp\" : {\n",
      "            \"type\" : \"date\"\n",
      "          },\n",
      "          \"@version\" : {\n",
      "            \"type\" : \"keyword\"\n",
      "          },\n",
      "          \"atmospheric_pressure\" : {\n",
      "            \"type\" : \"float\"\n",
      "          },\n",
      "          \"date\" : {\n",
      "            \"type\" : \"keyword\"\n",
      "          },\n",
      "          \"humidity_avg\" : {\n",
      "            \"type\" : \"float\"\n",
      "          },\n",
      "          \"humidity_min\" : {\n",
      "            \"type\" : \"float\"\n",
      "          },\n",
      "          \"information_daytime\" : {\n",
      "            \"type\" : \"keyword\"\n",
      "          },\n",
      "          \"information_night\" : {\n",
      "            \"type\" : \"keyword\"\n",
      "          },\n",
      "          \"location\" : {\n",
      "            \"type\" : \"keyword\"\n",
      "          },\n",
      "          \"precipitation_day\" : {\n",
      "            \"type\" : \"float\"\n",
      "          },\n",
      "          \"precipitation_max_10min\" : {\n",
      "            \"type\" : \"float\"\n",
      "          },\n",
      "          \"precipitation_max_hour\" : {\n",
      "            \"type\" : \"float\"\n",
      "          },\n",
      "          \"sea_level_pressure\" : {\n",
      "            \"type\" : \"float\"\n",
      "          },\n",
      "          \"snowfall\" : {\n",
      "            \"type\" : \"float\"\n",
      "          },\n",
      "          \"snowfall_max\" : {\n",
      "            \"type\" : \"float\"\n",
      "          },\n",
      "          \"sunshine_duration\" : {\n",
      "            \"type\" : \"float\"\n",
      "          },\n",
      "          \"temperature_avg\" : {\n",
      "            \"type\" : \"float\"\n",
      "          },\n",
      "          \"temperature_max\" : {\n",
      "            \"type\" : \"float\"\n",
      "          },\n",
      "          \"temperature_min\" : {\n",
      "            \"type\" : \"float\"\n",
      "          },\n",
      "          \"wind_direction\" : {\n",
      "            \"type\" : \"keyword\"\n",
      "          },\n",
      "          \"wind_direction_max_moment\" : {\n",
      "            \"type\" : \"keyword\"\n",
      "          },\n",
      "          \"wind_speed_avg\" : {\n",
      "            \"type\" : \"float\"\n",
      "          },\n",
      "          \"wind_speed_max\" : {\n",
      "            \"type\" : \"float\"\n",
      "          },\n",
      "          \"wind_speed_max_moment\" : {\n",
      "            \"type\" : \"float\"\n",
      "          }\n",
      "        }\n",
      "      }\n",
      "    }\n",
      "  },\n",
      "  \"meteorological-data-2015.05\" : {\n",
      "    \"mappings\" : {\n",
      "      \"logs\" : {\n",
      "        \"dynamic_templates\" : [\n",
      "          {\n",
      "            \"my_strings\" : {\n",
      "              \"match_mapping_type\" : \"string\",\n",
      "              \"mapping\" : {\n",
      "                \"type\" : \"keyword\"\n",
      "              }\n",
      "            }\n",
      "          }\n",
      "        ],\n",
      "        \"properties\" : {\n",
      "          \"@timestamp\" : {\n",
      "            \"type\" : \"date\"\n",
      "          },\n",
      "          \"@version\" : {\n",
      "            \"type\" : \"keyword\"\n",
      "          },\n",
      "          \"atmospheric_pressure\" : {\n",
      "            \"type\" : \"float\"\n",
      "          },\n",
      "          \"date\" : {\n",
      "            \"type\" : \"keyword\"\n",
      "          },\n",
      "          \"humidity_avg\" : {\n",
      "            \"type\" : \"float\"\n",
      "          },\n",
      "          \"humidity_min\" : {\n",
      "            \"type\" : \"float\"\n",
      "          },\n",
      "          \"information_daytime\" : {\n",
      "            \"type\" : \"keyword\"\n",
      "          },\n",
      "          \"information_night\" : {\n",
      "            \"type\" : \"keyword\"\n",
      "          },\n",
      "          \"location\" : {\n",
      "            \"type\" : \"keyword\"\n",
      "          },\n",
      "          \"precipitation_day\" : {\n",
      "            \"type\" : \"float\"\n",
      "          },\n",
      "          \"precipitation_max_10min\" : {\n",
      "            \"type\" : \"float\"\n",
      "          },\n",
      "          \"precipitation_max_hour\" : {\n",
      "            \"type\" : \"float\"\n",
      "          },\n",
      "          \"sea_level_pressure\" : {\n",
      "            \"type\" : \"float\"\n",
      "          },\n",
      "          \"snowfall\" : {\n",
      "            \"type\" : \"float\"\n",
      "          },\n",
      "          \"snowfall_max\" : {\n",
      "            \"type\" : \"float\"\n",
      "          },\n",
      "          \"sunshine_duration\" : {\n",
      "            \"type\" : \"float\"\n",
      "          },\n",
      "          \"temperature_avg\" : {\n",
      "            \"type\" : \"float\"\n",
      "          },\n",
      "          \"temperature_max\" : {\n",
      "            \"type\" : \"float\"\n",
      "          },\n",
      "          \"temperature_min\" : {\n",
      "            \"type\" : \"float\"\n",
      "          },\n",
      "          \"wind_direction\" : {\n",
      "            \"type\" : \"keyword\"\n",
      "          },\n",
      "          \"wind_direction_max_moment\" : {\n",
      "            \"type\" : \"keyword\"\n",
      "          },\n",
      "          \"wind_speed_avg\" : {\n",
      "            \"type\" : \"float\"\n",
      "          },\n",
      "          \"wind_speed_max\" : {\n",
      "            \"type\" : \"float\"\n",
      "          },\n",
      "          \"wind_speed_max_moment\" : {\n",
      "            \"type\" : \"float\"\n",
      "          }\n",
      "        }\n",
      "      }\n",
      "    }\n",
      "  },\n",
      "  \"meteorological-data-2015.06\" : {\n",
      "    \"mappings\" : {\n",
      "      \"logs\" : {\n",
      "        \"dynamic_templates\" : [\n",
      "          {\n",
      "            \"my_strings\" : {\n",
      "              \"match_mapping_type\" : \"string\",\n",
      "              \"mapping\" : {\n",
      "                \"type\" : \"keyword\"\n",
      "              }\n",
      "            }\n",
      "          }\n",
      "        ],\n",
      "        \"properties\" : {\n",
      "          \"@timestamp\" : {\n",
      "            \"type\" : \"date\"\n",
      "          },\n",
      "          \"@version\" : {\n",
      "            \"type\" : \"keyword\"\n",
      "          },\n",
      "          \"atmospheric_pressure\" : {\n",
      "            \"type\" : \"float\"\n",
      "          },\n",
      "          \"date\" : {\n",
      "            \"type\" : \"keyword\"\n",
      "          },\n",
      "          \"humidity_avg\" : {\n",
      "            \"type\" : \"float\"\n",
      "          },\n",
      "          \"humidity_min\" : {\n",
      "            \"type\" : \"float\"\n",
      "          },\n",
      "          \"information_daytime\" : {\n",
      "            \"type\" : \"keyword\"\n",
      "          },\n",
      "          \"information_night\" : {\n",
      "            \"type\" : \"keyword\"\n",
      "          },\n",
      "          \"location\" : {\n",
      "            \"type\" : \"keyword\"\n",
      "          },\n",
      "          \"precipitation_day\" : {\n",
      "            \"type\" : \"float\"\n",
      "          },\n",
      "          \"precipitation_max_10min\" : {\n",
      "            \"type\" : \"float\"\n",
      "          },\n",
      "          \"precipitation_max_hour\" : {\n",
      "            \"type\" : \"float\"\n",
      "          },\n",
      "          \"sea_level_pressure\" : {\n",
      "            \"type\" : \"float\"\n",
      "          },\n",
      "          \"snowfall\" : {\n",
      "            \"type\" : \"float\"\n",
      "          },\n",
      "          \"snowfall_max\" : {\n",
      "            \"type\" : \"float\"\n",
      "          },\n",
      "          \"sunshine_duration\" : {\n",
      "            \"type\" : \"float\"\n",
      "          },\n",
      "          \"temperature_avg\" : {\n",
      "            \"type\" : \"float\"\n",
      "          },\n",
      "          \"temperature_max\" : {\n",
      "            \"type\" : \"float\"\n",
      "          },\n",
      "          \"temperature_min\" : {\n",
      "            \"type\" : \"float\"\n",
      "          },\n",
      "          \"wind_direction\" : {\n",
      "            \"type\" : \"keyword\"\n",
      "          },\n",
      "          \"wind_direction_max_moment\" : {\n",
      "            \"type\" : \"keyword\"\n",
      "          },\n",
      "          \"wind_speed_avg\" : {\n",
      "            \"type\" : \"float\"\n",
      "          },\n",
      "          \"wind_speed_max\" : {\n",
      "            \"type\" : \"float\"\n",
      "          },\n",
      "          \"wind_speed_max_moment\" : {\n",
      "            \"type\" : \"float\"\n",
      "          }\n",
      "        }\n",
      "      }\n",
      "    }\n",
      "  },\n",
      "  \"meteorological-data-2015.12\" : {\n",
      "    \"mappings\" : {\n",
      "      \"logs\" : {\n",
      "        \"dynamic_templates\" : [\n",
      "          {\n",
      "            \"my_strings\" : {\n",
      "              \"match_mapping_type\" : \"string\",\n",
      "              \"mapping\" : {\n",
      "                \"type\" : \"keyword\"\n",
      "              }\n",
      "            }\n",
      "          }\n",
      "        ],\n",
      "        \"properties\" : {\n",
      "          \"@timestamp\" : {\n",
      "            \"type\" : \"date\"\n",
      "          },\n",
      "          \"@version\" : {\n",
      "            \"type\" : \"keyword\"\n",
      "          },\n",
      "          \"atmospheric_pressure\" : {\n",
      "            \"type\" : \"float\"\n",
      "          },\n",
      "          \"date\" : {\n",
      "            \"type\" : \"keyword\"\n",
      "          },\n",
      "          \"humidity_avg\" : {\n",
      "            \"type\" : \"float\"\n",
      "          },\n",
      "          \"humidity_min\" : {\n",
      "            \"type\" : \"float\"\n",
      "          },\n",
      "          \"information_daytime\" : {\n",
      "            \"type\" : \"keyword\"\n",
      "          },\n",
      "          \"information_night\" : {\n",
      "            \"type\" : \"keyword\"\n",
      "          },\n",
      "          \"location\" : {\n",
      "            \"type\" : \"keyword\"\n",
      "          },\n",
      "          \"precipitation_day\" : {\n",
      "            \"type\" : \"float\"\n",
      "          },\n",
      "          \"precipitation_max_10min\" : {\n",
      "            \"type\" : \"float\"\n",
      "          },\n",
      "          \"precipitation_max_hour\" : {\n",
      "            \"type\" : \"float\"\n",
      "          },\n",
      "          \"sea_level_pressure\" : {\n",
      "            \"type\" : \"float\"\n",
      "          },\n",
      "          \"snowfall\" : {\n",
      "            \"type\" : \"float\"\n",
      "          },\n",
      "          \"snowfall_max\" : {\n",
      "            \"type\" : \"float\"\n",
      "          },\n",
      "          \"sunshine_duration\" : {\n",
      "            \"type\" : \"float\"\n",
      "          },\n",
      "          \"temperature_avg\" : {\n",
      "            \"type\" : \"float\"\n",
      "          },\n",
      "          \"temperature_max\" : {\n",
      "            \"type\" : \"float\"\n",
      "          },\n",
      "          \"temperature_min\" : {\n",
      "            \"type\" : \"float\"\n",
      "          },\n",
      "          \"wind_direction\" : {\n",
      "            \"type\" : \"keyword\"\n",
      "          },\n",
      "          \"wind_direction_max_moment\" : {\n",
      "            \"type\" : \"keyword\"\n",
      "          },\n",
      "          \"wind_speed_avg\" : {\n",
      "            \"type\" : \"float\"\n",
      "          },\n",
      "          \"wind_speed_max\" : {\n",
      "            \"type\" : \"float\"\n",
      "          },\n",
      "          \"wind_speed_max_moment\" : {\n",
      "            \"type\" : \"float\"\n",
      "          }\n",
      "        }\n",
      "      }\n",
      "    }\n",
      "  },\n",
      "  \"meteorological-data-2017.06\" : {\n",
      "    \"mappings\" : {\n",
      "      \"logs\" : {\n",
      "        \"dynamic_templates\" : [\n",
      "          {\n",
      "            \"my_strings\" : {\n",
      "              \"match_mapping_type\" : \"string\",\n",
      "              \"mapping\" : {\n",
      "                \"type\" : \"keyword\"\n",
      "              }\n",
      "            }\n",
      "          }\n",
      "        ],\n",
      "        \"properties\" : {\n",
      "          \"atmospheric_pressure\" : {\n",
      "            \"type\" : \"float\"\n",
      "          },\n",
      "          \"humidity_avg\" : {\n",
      "            \"type\" : \"float\"\n",
      "          },\n",
      "          \"humidity_min\" : {\n",
      "            \"type\" : \"float\"\n",
      "          },\n",
      "          \"precipitation_day\" : {\n",
      "            \"type\" : \"float\"\n",
      "          },\n",
      "          \"precipitation_max_10min\" : {\n",
      "            \"type\" : \"float\"\n",
      "          },\n",
      "          \"precipitation_max_hour\" : {\n",
      "            \"type\" : \"float\"\n",
      "          },\n",
      "          \"sea_level_pressure\" : {\n",
      "            \"type\" : \"float\"\n",
      "          },\n",
      "          \"snowfall\" : {\n",
      "            \"type\" : \"float\"\n",
      "          },\n",
      "          \"snowfall_max\" : {\n",
      "            \"type\" : \"float\"\n",
      "          },\n",
      "          \"sunshine_duration\" : {\n",
      "            \"type\" : \"float\"\n",
      "          },\n",
      "          \"temperature_avg\" : {\n",
      "            \"type\" : \"float\"\n",
      "          },\n",
      "          \"temperature_max\" : {\n",
      "            \"type\" : \"float\"\n",
      "          },\n",
      "          \"temperature_min\" : {\n",
      "            \"type\" : \"float\"\n",
      "          },\n",
      "          \"wind_speed_avg\" : {\n",
      "            \"type\" : \"float\"\n",
      "          },\n",
      "          \"wind_speed_max\" : {\n",
      "            \"type\" : \"float\"\n",
      "          },\n",
      "          \"wind_speed_max_moment\" : {\n",
      "            \"type\" : \"float\"\n",
      "          }\n",
      "        }\n",
      "      }\n",
      "    }\n",
      "  },\n",
      "  \"meteorological-data-2015.09\" : {\n",
      "    \"mappings\" : {\n",
      "      \"logs\" : {\n",
      "        \"dynamic_templates\" : [\n",
      "          {\n",
      "            \"my_strings\" : {\n",
      "              \"match_mapping_type\" : \"string\",\n",
      "              \"mapping\" : {\n",
      "                \"type\" : \"keyword\"\n",
      "              }\n",
      "            }\n",
      "          }\n",
      "        ],\n",
      "        \"properties\" : {\n",
      "          \"@timestamp\" : {\n",
      "            \"type\" : \"date\"\n",
      "          },\n",
      "          \"@version\" : {\n",
      "            \"type\" : \"keyword\"\n",
      "          },\n",
      "          \"atmospheric_pressure\" : {\n",
      "            \"type\" : \"float\"\n",
      "          },\n",
      "          \"date\" : {\n",
      "            \"type\" : \"keyword\"\n",
      "          },\n",
      "          \"humidity_avg\" : {\n",
      "            \"type\" : \"float\"\n",
      "          },\n",
      "          \"humidity_min\" : {\n",
      "            \"type\" : \"float\"\n",
      "          },\n",
      "          \"information_daytime\" : {\n",
      "            \"type\" : \"keyword\"\n",
      "          },\n",
      "          \"information_night\" : {\n",
      "            \"type\" : \"keyword\"\n",
      "          },\n",
      "          \"location\" : {\n",
      "            \"type\" : \"keyword\"\n",
      "          },\n",
      "          \"precipitation_day\" : {\n",
      "            \"type\" : \"float\"\n",
      "          },\n",
      "          \"precipitation_max_10min\" : {\n",
      "            \"type\" : \"float\"\n",
      "          },\n",
      "          \"precipitation_max_hour\" : {\n",
      "            \"type\" : \"float\"\n",
      "          },\n",
      "          \"sea_level_pressure\" : {\n",
      "            \"type\" : \"float\"\n",
      "          },\n",
      "          \"snowfall\" : {\n",
      "            \"type\" : \"float\"\n",
      "          },\n",
      "          \"snowfall_max\" : {\n",
      "            \"type\" : \"float\"\n",
      "          },\n",
      "          \"sunshine_duration\" : {\n",
      "            \"type\" : \"float\"\n",
      "          },\n",
      "          \"temperature_avg\" : {\n",
      "            \"type\" : \"float\"\n",
      "          },\n",
      "          \"temperature_max\" : {\n",
      "            \"type\" : \"float\"\n",
      "          },\n",
      "          \"temperature_min\" : {\n",
      "            \"type\" : \"float\"\n",
      "          },\n",
      "          \"wind_direction\" : {\n",
      "            \"type\" : \"keyword\"\n",
      "          },\n",
      "          \"wind_direction_max_moment\" : {\n",
      "            \"type\" : \"keyword\"\n",
      "          },\n",
      "          \"wind_speed_avg\" : {\n",
      "            \"type\" : \"float\"\n",
      "          },\n",
      "          \"wind_speed_max\" : {\n",
      "            \"type\" : \"float\"\n",
      "          },\n",
      "          \"wind_speed_max_moment\" : {\n",
      "            \"type\" : \"float\"\n",
      "          }\n",
      "        }\n",
      "      }\n",
      "    }\n",
      "  },\n",
      "  \"meteorological-data-2015.07\" : {\n",
      "    \"mappings\" : {\n",
      "      \"logs\" : {\n",
      "        \"dynamic_templates\" : [\n",
      "          {\n",
      "            \"my_strings\" : {\n",
      "              \"match_mapping_type\" : \"string\",\n",
      "              \"mapping\" : {\n",
      "                \"type\" : \"keyword\"\n",
      "              }\n",
      "            }\n",
      "          }\n",
      "        ],\n",
      "        \"properties\" : {\n",
      "          \"@timestamp\" : {\n",
      "            \"type\" : \"date\"\n",
      "          },\n",
      "          \"@version\" : {\n",
      "            \"type\" : \"keyword\"\n",
      "          },\n",
      "          \"atmospheric_pressure\" : {\n",
      "            \"type\" : \"float\"\n",
      "          },\n",
      "          \"date\" : {\n",
      "            \"type\" : \"keyword\"\n",
      "          },\n",
      "          \"humidity_avg\" : {\n",
      "            \"type\" : \"float\"\n",
      "          },\n",
      "          \"humidity_min\" : {\n",
      "            \"type\" : \"float\"\n",
      "          },\n",
      "          \"information_daytime\" : {\n",
      "            \"type\" : \"keyword\"\n",
      "          },\n",
      "          \"information_night\" : {\n",
      "            \"type\" : \"keyword\"\n",
      "          },\n",
      "          \"location\" : {\n",
      "            \"type\" : \"keyword\"\n",
      "          },\n",
      "          \"precipitation_day\" : {\n",
      "            \"type\" : \"float\"\n",
      "          },\n",
      "          \"precipitation_max_10min\" : {\n",
      "            \"type\" : \"float\"\n",
      "          },\n",
      "          \"precipitation_max_hour\" : {\n",
      "            \"type\" : \"float\"\n",
      "          },\n",
      "          \"sea_level_pressure\" : {\n",
      "            \"type\" : \"float\"\n",
      "          },\n",
      "          \"snowfall\" : {\n",
      "            \"type\" : \"float\"\n",
      "          },\n",
      "          \"snowfall_max\" : {\n",
      "            \"type\" : \"float\"\n",
      "          },\n",
      "          \"sunshine_duration\" : {\n",
      "            \"type\" : \"float\"\n",
      "          },\n",
      "          \"temperature_avg\" : {\n",
      "            \"type\" : \"float\"\n",
      "          },\n",
      "          \"temperature_max\" : {\n",
      "            \"type\" : \"float\"\n",
      "          },\n",
      "          \"temperature_min\" : {\n",
      "            \"type\" : \"float\"\n",
      "          },\n",
      "          \"wind_direction\" : {\n",
      "            \"type\" : \"keyword\"\n",
      "          },\n",
      "          \"wind_direction_max_moment\" : {\n",
      "            \"type\" : \"keyword\"\n",
      "          },\n",
      "          \"wind_speed_avg\" : {\n",
      "            \"type\" : \"float\"\n",
      "          },\n",
      "          \"wind_speed_max\" : {\n",
      "            \"type\" : \"float\"\n",
      "          },\n",
      "          \"wind_speed_max_moment\" : {\n",
      "            \"type\" : \"float\"\n",
      "          }\n",
      "        }\n",
      "      }\n",
      "    }\n",
      "  },\n",
      "  \"meteorological-data-2015.02\" : {\n",
      "    \"mappings\" : {\n",
      "      \"logs\" : {\n",
      "        \"dynamic_templates\" : [\n",
      "          {\n",
      "            \"my_strings\" : {\n",
      "              \"match_mapping_type\" : \"string\",\n",
      "              \"mapping\" : {\n",
      "                \"type\" : \"keyword\"\n",
      "              }\n",
      "            }\n",
      "          }\n",
      "        ],\n",
      "        \"properties\" : {\n",
      "          \"@timestamp\" : {\n",
      "            \"type\" : \"date\"\n",
      "          },\n",
      "          \"@version\" : {\n",
      "            \"type\" : \"keyword\"\n",
      "          },\n",
      "          \"atmospheric_pressure\" : {\n",
      "            \"type\" : \"float\"\n",
      "          },\n",
      "          \"date\" : {\n",
      "            \"type\" : \"keyword\"\n",
      "          },\n",
      "          \"humidity_avg\" : {\n",
      "            \"type\" : \"float\"\n",
      "          },\n",
      "          \"humidity_min\" : {\n",
      "            \"type\" : \"float\"\n",
      "          },\n",
      "          \"information_daytime\" : {\n",
      "            \"type\" : \"keyword\"\n",
      "          },\n",
      "          \"information_night\" : {\n",
      "            \"type\" : \"keyword\"\n",
      "          },\n",
      "          \"location\" : {\n",
      "            \"type\" : \"keyword\"\n",
      "          },\n",
      "          \"precipitation_day\" : {\n",
      "            \"type\" : \"float\"\n",
      "          },\n",
      "          \"precipitation_max_10min\" : {\n",
      "            \"type\" : \"float\"\n",
      "          },\n",
      "          \"precipitation_max_hour\" : {\n",
      "            \"type\" : \"float\"\n",
      "          },\n",
      "          \"sea_level_pressure\" : {\n",
      "            \"type\" : \"float\"\n",
      "          },\n",
      "          \"snowfall\" : {\n",
      "            \"type\" : \"float\"\n",
      "          },\n",
      "          \"snowfall_max\" : {\n",
      "            \"type\" : \"float\"\n",
      "          },\n",
      "          \"sunshine_duration\" : {\n",
      "            \"type\" : \"float\"\n",
      "          },\n",
      "          \"temperature_avg\" : {\n",
      "            \"type\" : \"float\"\n",
      "          },\n",
      "          \"temperature_max\" : {\n",
      "            \"type\" : \"float\"\n",
      "          },\n",
      "          \"temperature_min\" : {\n",
      "            \"type\" : \"float\"\n",
      "          },\n",
      "          \"wind_direction\" : {\n",
      "            \"type\" : \"keyword\"\n",
      "          },\n",
      "          \"wind_direction_max_moment\" : {\n",
      "            \"type\" : \"keyword\"\n",
      "          },\n",
      "          \"wind_speed_avg\" : {\n",
      "            \"type\" : \"float\"\n",
      "          },\n",
      "          \"wind_speed_max\" : {\n",
      "            \"type\" : \"float\"\n",
      "          },\n",
      "          \"wind_speed_max_moment\" : {\n",
      "            \"type\" : \"float\"\n",
      "          }\n",
      "        }\n",
      "      }\n",
      "    }\n",
      "  }\n",
      "}\n"
     ]
    },
    {
     "name": "stderr",
     "output_type": "stream",
     "text": [
      "  % Total    % Received % Xferd  Average Speed   Time    Time     Time  Current\n",
      "                                 Dload  Upload   Total   Spent    Left  Speed\n",
      "\r",
      "  0     0    0     0    0     0      0      0 --:--:-- --:--:-- --:--:--     0\r",
      "100 25213  100 25213    0     0  3964k      0 --:--:-- --:--:-- --:--:-- 4103k\n"
     ]
    }
   ],
   "source": [
    "%%bash\n",
    "curl -XGET \"http://$ES_HOST/meteorological-data*/_mapping?pretty\""
   ]
  },
  {
   "cell_type": "markdown",
   "metadata": {
    "lc_cell_meme": {
     "current": "271ca390-152b-11e7-b31a-0242ac12000d",
     "next": "271ca566-152b-11e7-b31a-0242ac12000d",
     "previous": "271ca1c4-152b-11e7-b31a-0242ac12000d"
    }
   },
   "source": [
    "### 配列"
   ]
  },
  {
   "cell_type": "markdown",
   "metadata": {
    "lc_cell_meme": {
     "current": "271ca566-152b-11e7-b31a-0242ac12000d",
     "next": "271ca732-152b-11e7-b31a-0242ac12000d",
     "previous": "271ca390-152b-11e7-b31a-0242ac12000d"
    }
   },
   "source": [
    "配列内の要素はすべて同じデータ型である必要があります。  \n",
    "\n",
    "データ型を定義する時は、単一のフィールドに対してデータ型を指定する時と同じ方法で  \n",
    "配列の型を指定することができます。\n",
    "\n",
    "たとえば  \n",
    "float_array : [2.5, 4.0, -8.2]  \n",
    "といったような、float型の要素を持つ配列であれば、  \n",
    "下記のようにマッピング定義を登録すれば、配列の各要素に対してデータ型の指定が適用されます。"
   ]
  },
  {
   "cell_type": "raw",
   "metadata": {
    "lc_cell_meme": {
     "current": "271ca732-152b-11e7-b31a-0242ac12000d",
     "next": "271ca8fe-152b-11e7-b31a-0242ac12000d",
     "previous": "271ca566-152b-11e7-b31a-0242ac12000d"
    }
   },
   "source": [
    "curl -XPUT \"http://<ホスト名>/meteorological-data\" -d \n",
    "{\n",
    "  \"mappings\": { \n",
    "    \"logs\": { \n",
    "      \"properties\": {\n",
    "        \"float_array\": {\n",
    "          \"type\": \"float\"\n",
    "        }\n",
    "      }\n",
    "    }\n",
    "  }\n",
    "}"
   ]
  },
  {
   "cell_type": "markdown",
   "metadata": {
    "lc_cell_meme": {
     "current": "271ca8fe-152b-11e7-b31a-0242ac12000d",
     "next": "271caad4-152b-11e7-b31a-0242ac12000d",
     "previous": "271ca732-152b-11e7-b31a-0242ac12000d"
    }
   },
   "source": [
    "配列に関する詳細はElasticsearch Referenceの[Array datatype](https://www.elastic.co/guide/en/elasticsearch/reference/current/array.html)を参照してください。"
   ]
  },
  {
   "cell_type": "markdown",
   "metadata": {
    "lc_cell_meme": {
     "current": "271caad4-152b-11e7-b31a-0242ac12000d",
     "next": "271cacaa-152b-11e7-b31a-0242ac12000d",
     "previous": "271ca8fe-152b-11e7-b31a-0242ac12000d"
    }
   },
   "source": [
    "### nested JSON\n"
   ]
  },
  {
   "cell_type": "markdown",
   "metadata": {
    "lc_cell_meme": {
     "current": "271cacaa-152b-11e7-b31a-0242ac12000d",
     "next": "271cae6c-152b-11e7-b31a-0242ac12000d",
     "previous": "271caad4-152b-11e7-b31a-0242ac12000d"
    }
   },
   "source": [
    "ネストされたJSON形式のデータも扱うことができます。  \n",
    "例えば、下記のようなデータを扱うことを想定してマッピングの設定方法を説明します。"
   ]
  },
  {
   "cell_type": "raw",
   "metadata": {
    "lc_cell_meme": {
     "current": "271cae6c-152b-11e7-b31a-0242ac12000d",
     "next": "271cb038-152b-11e7-b31a-0242ac12000d",
     "previous": "271cacaa-152b-11e7-b31a-0242ac12000d"
    }
   },
   "source": [
    "{\n",
    "  \"group\" : \"fans\",\n",
    "  \"user\" : [ \n",
    "    {\n",
    "      \"first\" : \"John\",\n",
    "      \"last\" :  \"Smith\"\n",
    "    },\n",
    "    {\n",
    "      \"first\" : \"Alice\",\n",
    "      \"last\" :  \"White\"\n",
    "    }\n",
    "  ]\n",
    "}"
   ]
  },
  {
   "cell_type": "markdown",
   "metadata": {
    "lc_cell_meme": {
     "current": "271cb038-152b-11e7-b31a-0242ac12000d",
     "next": "271cb22c-152b-11e7-b31a-0242ac12000d",
     "previous": "271cae6c-152b-11e7-b31a-0242ac12000d"
    }
   },
   "source": [
    "上の例では、userというフィールドが内部に2つのobjectを持っています。  \n",
    "内部のobjectに対してデータが型指定を行いたい場合は、  \n",
    "user.firstといったように、\".\"を使って表現することでアクセスが可能です。\n",
    "\n",
    "マッピングは下記のようなリクエストで定義できます。"
   ]
  },
  {
   "cell_type": "raw",
   "metadata": {
    "lc_cell_meme": {
     "current": "271cb22c-152b-11e7-b31a-0242ac12000d",
     "next": "271cb402-152b-11e7-b31a-0242ac12000d",
     "previous": "271cb038-152b-11e7-b31a-0242ac12000d"
    }
   },
   "source": [
    "curl -XPUT \"http://<ホスト名>/<インデックス名>\" -d \n",
    "{\n",
    "  \"mappings\": { \n",
    "    \"<タイプ名>\": { \n",
    "      \"properties\": {\n",
    "        \"user.first\": {\n",
    "          \"type\": \"keyword\"\n",
    "        }\n",
    "      }\n",
    "    }\n",
    "  }\n",
    "}"
   ]
  },
  {
   "cell_type": "markdown",
   "metadata": {
    "lc_cell_meme": {
     "current": "271cb402-152b-11e7-b31a-0242ac12000d",
     "next": "271cb5d8-152b-11e7-b31a-0242ac12000d",
     "previous": "271cb22c-152b-11e7-b31a-0242ac12000d"
    }
   },
   "source": [
    "### geolocation\n"
   ]
  },
  {
   "cell_type": "markdown",
   "metadata": {
    "lc_cell_meme": {
     "current": "271cb5d8-152b-11e7-b31a-0242ac12000d",
     "next": "271cb7a4-152b-11e7-b31a-0242ac12000d",
     "previous": "271cb402-152b-11e7-b31a-0242ac12000d"
    }
   },
   "source": [
    "緯度・経度の情報からなる地点情報は、geo_point型として扱います。  \n",
    "具体的なマッピング方法は下記の通りです。"
   ]
  },
  {
   "cell_type": "raw",
   "metadata": {
    "lc_cell_meme": {
     "current": "271cb7a4-152b-11e7-b31a-0242ac12000d",
     "next": "271cb970-152b-11e7-b31a-0242ac12000d",
     "previous": "271cb5d8-152b-11e7-b31a-0242ac12000d"
    }
   },
   "source": [
    "curl -XPUT \"http://<ホスト名>/<インデックス名>\" -d \n",
    "{\n",
    "  \"mappings\": { \n",
    "    \"<タイプ名>\": { \n",
    "      \"properties\": {\n",
    "        \"<フィールド名>\": {\n",
    "          \"type\": \"geo_point\"\n",
    "        }\n",
    "      }\n",
    "    }\n",
    "  }\n",
    "}"
   ]
  },
  {
   "cell_type": "markdown",
   "metadata": {
    "lc_cell_meme": {
     "current": "271cb970-152b-11e7-b31a-0242ac12000d",
     "next": "271cbb3c-152b-11e7-b31a-0242ac12000d",
     "previous": "271cb7a4-152b-11e7-b31a-0242ac12000d"
    }
   },
   "source": [
    "geo_point型として登録されているデータに対して利用できるGeo queriesが多数用意されています。    \n",
    "詳細はElasticsearch Referenceの[Geo queries](https://www.elastic.co/guide/en/elasticsearch/reference/current/geo-queries.html)を参照してください。"
   ]
  },
  {
   "cell_type": "markdown",
   "metadata": {
    "lc_cell_meme": {
     "current": "271cbb3c-152b-11e7-b31a-0242ac12000d",
     "next": "271cbd12-152b-11e7-b31a-0242ac12000d",
     "previous": "271cb970-152b-11e7-b31a-0242ac12000d"
    }
   },
   "source": [
    "### 日付のフォーマット指定"
   ]
  },
  {
   "cell_type": "markdown",
   "metadata": {
    "lc_cell_meme": {
     "current": "271cbd12-152b-11e7-b31a-0242ac12000d",
     "next": "271cbed4-152b-11e7-b31a-0242ac12000d",
     "previous": "271cbb3c-152b-11e7-b31a-0242ac12000d"
    }
   },
   "source": [
    "マッピング定義を行う際に、日付のフォーマットを指定することができます。  \n",
    "具体的な設定例を次に示します。  "
   ]
  },
  {
   "cell_type": "raw",
   "metadata": {
    "lc_cell_meme": {
     "current": "271cbed4-152b-11e7-b31a-0242ac12000d",
     "next": "271cc0aa-152b-11e7-b31a-0242ac12000d",
     "previous": "271cbd12-152b-11e7-b31a-0242ac12000d"
    }
   },
   "source": [
    "curl -XPUT \"http://<ホスト名>/<インデックス名>\" -d\n",
    "{\n",
    "  \"mappings\": {\n",
    "    \"<タイプ名>\":{\n",
    "      \"properties\": {\n",
    "        \"<フィールド名>\":{\n",
    "          \"type\": \"date\",\n",
    "          \"format\": \"yyyy-MM-dd\"\n",
    "        }\n",
    "      }\n",
    "    }\n",
    "  }\n",
    "}"
   ]
  },
  {
   "cell_type": "markdown",
   "metadata": {
    "lc_cell_meme": {
     "current": "271cc0aa-152b-11e7-b31a-0242ac12000d",
     "next": "271cc2b2-152b-11e7-b31a-0242ac12000d",
     "previous": "271cbed4-152b-11e7-b31a-0242ac12000d"
    }
   },
   "source": [
    "日付フォーマットについての詳細は、Elasticsearch Referenceの[format](https://www.elastic.co/guide/en/elasticsearch/reference/5.0/mapping-date-format.html)を参照してください。"
   ]
  },
  {
   "cell_type": "markdown",
   "metadata": {
    "lc_cell_meme": {
     "current": "271cc2b2-152b-11e7-b31a-0242ac12000d",
     "next": "271cc47e-152b-11e7-b31a-0242ac12000d",
     "previous": "271cc0aa-152b-11e7-b31a-0242ac12000d"
    }
   },
   "source": [
    "## reindex APIを使った投入後データの加工方法"
   ]
  },
  {
   "cell_type": "markdown",
   "metadata": {
    "lc_cell_meme": {
     "current": "271cc47e-152b-11e7-b31a-0242ac12000d",
     "next": "271cc64a-152b-11e7-b31a-0242ac12000d",
     "previous": "271cc2b2-152b-11e7-b31a-0242ac12000d"
    }
   },
   "source": [
    "一度登録したデータに対して、型を変更する必要が生じた場合や、  \n",
    "フィールドの値を計算した結果を登録したい場合にはreindex APIを用いることができます。  \n",
    "次にreindex APIの使用例を示します。\n",
    "\n",
    "登録してあるドキュメントは下記のものを想定します。\n",
    "実行してドキュメントを登録してください。"
   ]
  },
  {
   "cell_type": "code",
   "execution_count": 3,
   "metadata": {
    "lc_cell_meme": {
     "current": "271cc64a-152b-11e7-b31a-0242ac12000d",
     "next": "271cc816-152b-11e7-b31a-0242ac12000d",
     "previous": "271cc47e-152b-11e7-b31a-0242ac12000d"
    }
   },
   "outputs": [
    {
     "name": "stdout",
     "output_type": "stream",
     "text": [
      "{\n",
      "  \"_index\" : \"reindex_source\",\n",
      "  \"_type\" : \"logs\",\n",
      "  \"_id\" : \"1\",\n",
      "  \"_version\" : 1,\n",
      "  \"result\" : \"created\",\n",
      "  \"_shards\" : {\n",
      "    \"total\" : 1,\n",
      "    \"successful\" : 1,\n",
      "    \"failed\" : 0\n",
      "  },\n",
      "  \"created\" : true\n",
      "}\n"
     ]
    },
    {
     "name": "stderr",
     "output_type": "stream",
     "text": [
      "  % Total    % Received % Xferd  Average Speed   Time    Time     Time  Current\n",
      "                                 Dload  Upload   Total   Spent    Left  Speed\n",
      "\r",
      "  0     0    0     0    0     0      0      0 --:--:-- --:--:-- --:--:--     0\r",
      "100   268  100   208  100    60   4784   1380 --:--:-- --:--:-- --:--:--  4837\n"
     ]
    }
   ],
   "source": [
    "%%bash\n",
    "curl -XPUT \"http://$ES_HOST/reindex_source/logs/1?pretty\" -d @- << EOF \n",
    "{\n",
    "  \"max_temperature\":31,\n",
    "  \"min_temperature\":18,\n",
    "  \"rain\":\"3\"\n",
    "}\n",
    "EOF"
   ]
  },
  {
   "cell_type": "markdown",
   "metadata": {
    "lc_cell_meme": {
     "current": "271cc816-152b-11e7-b31a-0242ac12000d",
     "next": "271cc9ec-152b-11e7-b31a-0242ac12000d",
     "previous": "271cc64a-152b-11e7-b31a-0242ac12000d"
    }
   },
   "source": [
    "上のセルを実行することで登録したドキュメントを加工します。\n",
    "\n",
    "- 降水量を意味する\"rain\"というフィールドをfloat型と誤ってkeyword型として登録してしまった\n",
    "- 最高気温と最低気温の差分をフィールドとして追加したい\n",
    "\n",
    "という状況での再加工を想定します。"
   ]
  },
  {
   "cell_type": "markdown",
   "metadata": {
    "lc_cell_meme": {
     "current": "271cc9ec-152b-11e7-b31a-0242ac12000d",
     "next": "271ccbae-152b-11e7-b31a-0242ac12000d",
     "previous": "271cc816-152b-11e7-b31a-0242ac12000d"
    }
   },
   "source": [
    "ingest nodeの機能であるconvert processorを用いることで、型変換の処理を行います。  \n",
    "ingest nodeに関しては[04_Store_Data](04_Store_Data.ipynb)を参照してください。\n",
    "\n",
    "次のセルを実行することで、ingest nodeのpipelineを登録してください。"
   ]
  },
  {
   "cell_type": "code",
   "execution_count": 4,
   "metadata": {
    "lc_cell_meme": {
     "current": "271ccbae-152b-11e7-b31a-0242ac12000d",
     "next": "271ccd70-152b-11e7-b31a-0242ac12000d",
     "previous": "271cc9ec-152b-11e7-b31a-0242ac12000d"
    }
   },
   "outputs": [
    {
     "name": "stdout",
     "output_type": "stream",
     "text": [
      "{\"acknowledged\":true}"
     ]
    },
    {
     "name": "stderr",
     "output_type": "stream",
     "text": [
      "  % Total    % Received % Xferd  Average Speed   Time    Time     Time  Current\n",
      "                                 Dload  Upload   Total   Spent    Left  Speed\n",
      "\r",
      "  0     0    0     0    0     0      0      0 --:--:-- --:--:-- --:--:--     0\r",
      "100   111  100    21  100    90   1935   8294 --:--:-- --:--:-- --:--:--  9000\n"
     ]
    }
   ],
   "source": [
    "%%bash\n",
    "curl -XPUT \"http://$ES_HOST/_ingest/pipeline/convert_to_float\" -d @- << EOF \n",
    "{\n",
    "  \"processors\":[\n",
    "  {\n",
    "    \"convert\":{\n",
    "      \"field\":\"rain\",\n",
    "      \"type\" : \"float\"\n",
    "    }\n",
    "  }\n",
    "  ]\n",
    "}\n",
    "EOF"
   ]
  },
  {
   "cell_type": "markdown",
   "metadata": {
    "lc_cell_meme": {
     "current": "271ccd70-152b-11e7-b31a-0242ac12000d",
     "next": "271ccf46-152b-11e7-b31a-0242ac12000d",
     "previous": "271ccbae-152b-11e7-b31a-0242ac12000d"
    }
   },
   "source": [
    "下記のリクエストによって、reindex処理が実行されます。  \n",
    "下の例では\"reindex_source\"から\"reindex_dest\"が作成され、\"reindex_dest\"の\"rain\"フィールドはfloatに変換されています。  \n",
    "また、\"gap_temperature\"が追加され、最高気温と最低気温の差分が登録されています。"
   ]
  },
  {
   "cell_type": "code",
   "execution_count": 5,
   "metadata": {
    "lc_cell_meme": {
     "current": "271ccf46-152b-11e7-b31a-0242ac12000d",
     "next": "271cd112-152b-11e7-b31a-0242ac12000d",
     "previous": "271ccd70-152b-11e7-b31a-0242ac12000d"
    },
    "scrolled": true
   },
   "outputs": [
    {
     "name": "stdout",
     "output_type": "stream",
     "text": [
      "{\n",
      "  \"took\" : 87,\n",
      "  \"timed_out\" : false,\n",
      "  \"total\" : 1,\n",
      "  \"updated\" : 0,\n",
      "  \"created\" : 1,\n",
      "  \"deleted\" : 0,\n",
      "  \"batches\" : 1,\n",
      "  \"version_conflicts\" : 0,\n",
      "  \"noops\" : 0,\n",
      "  \"retries\" : {\n",
      "    \"bulk\" : 0,\n",
      "    \"search\" : 0\n",
      "  },\n",
      "  \"throttled_millis\" : 0,\n",
      "  \"requests_per_second\" : -1.0,\n",
      "  \"throttled_until_millis\" : 0,\n",
      "  \"failures\" : [ ]\n",
      "}\n"
     ]
    },
    {
     "name": "stderr",
     "output_type": "stream",
     "text": [
      "  % Total    % Received % Xferd  Average Speed   Time    Time     Time  Current\n",
      "                                 Dload  Upload   Total   Spent    Left  Speed\n",
      "\r",
      "  0     0    0     0    0     0      0      0 --:--:-- --:--:-- --:--:--     0\r",
      "100   623  100   330  100   293   3497   3105 --:--:-- --:--:-- --:--:--  3510\n"
     ]
    }
   ],
   "source": [
    "%%bash\n",
    "curl -XPOST \"http://$ES_HOST/_reindex?pretty\" -d @- << EOF\n",
    "{\n",
    "  \"source\":{\n",
    "    \"index\":\"reindex_source\"   \n",
    "  },\n",
    "  \"dest\":{\n",
    "    \"index\":\"reindex_dest\",\n",
    "    \"version_type\": \"external\",\n",
    "    \"pipeline\":\"convert_to_float\"\n",
    "  },\n",
    "  \"script\":{\n",
    "    \"lang\": \"painless\",\n",
    "    \"inline\": \"ctx._source.gap_temperature = ctx._source.max_temperature-ctx._source.min_temperature\"\n",
    "  }\n",
    "}\n",
    "EOF"
   ]
  },
  {
   "cell_type": "markdown",
   "metadata": {
    "lc_cell_meme": {
     "current": "271cd112-152b-11e7-b31a-0242ac12000d",
     "next": "271cd2de-152b-11e7-b31a-0242ac12000d",
     "previous": "271ccf46-152b-11e7-b31a-0242ac12000d"
    }
   },
   "source": [
    "次のセルを実行して、reindexされたドキュメントを確認してください。  \n",
    "最高気温と最低気温の差分を示す\"gap_temperature\"のフィールドが追加されていればreindex処理が正常に行われています。  \n",
    "また、rainのデータ型をfloat型に変更したことで、値がダブルクォーテションで囲われていないことも確認してください。  "
   ]
  },
  {
   "cell_type": "code",
   "execution_count": 6,
   "metadata": {
    "lc_cell_meme": {
     "current": "271cd2de-152b-11e7-b31a-0242ac12000d",
     "next": "271cd4aa-152b-11e7-b31a-0242ac12000d",
     "previous": "271cd112-152b-11e7-b31a-0242ac12000d"
    }
   },
   "outputs": [
    {
     "name": "stdout",
     "output_type": "stream",
     "text": [
      "{\n",
      "  \"took\" : 1,\n",
      "  \"timed_out\" : false,\n",
      "  \"_shards\" : {\n",
      "    \"total\" : 1,\n",
      "    \"successful\" : 1,\n",
      "    \"failed\" : 0\n",
      "  },\n",
      "  \"hits\" : {\n",
      "    \"total\" : 1,\n",
      "    \"max_score\" : 1.0,\n",
      "    \"hits\" : [\n",
      "      {\n",
      "        \"_index\" : \"reindex_dest\",\n",
      "        \"_type\" : \"logs\",\n",
      "        \"_id\" : \"1\",\n",
      "        \"_score\" : 1.0,\n",
      "        \"_source\" : {\n",
      "          \"max_temperature\" : 31,\n",
      "          \"rain\" : 3.0,\n",
      "          \"gap_temperature\" : 13,\n",
      "          \"min_temperature\" : 18\n",
      "        }\n",
      "      }\n",
      "    ]\n",
      "  }\n",
      "}\n"
     ]
    },
    {
     "name": "stderr",
     "output_type": "stream",
     "text": [
      "  % Total    % Received % Xferd  Average Speed   Time    Time     Time  Current\n",
      "                                 Dload  Upload   Total   Spent    Left  Speed\n",
      "\r",
      "  0     0    0     0    0     0      0      0 --:--:-- --:--:-- --:--:--     0\r",
      "100   475  100   475    0     0   124k      0 --:--:-- --:--:-- --:--:--  154k\n"
     ]
    }
   ],
   "source": [
    "%%bash\n",
    "curl -XGET \"http://$ES_HOST/reindex_dest/_search?pretty\""
   ]
  },
  {
   "cell_type": "markdown",
   "metadata": {
    "lc_cell_meme": {
     "current": "271cd4aa-152b-11e7-b31a-0242ac12000d",
     "next": "271cd6bc-152b-11e7-b31a-0242ac12000d",
     "previous": "271cd2de-152b-11e7-b31a-0242ac12000d"
    }
   },
   "source": [
    "reindex APIのより詳細な使い方については、Elasticsearch Referenceの[Reindex API](https://www.elastic.co/guide/en/elasticsearch/reference/current/docs-reindex.html)を参照してください。"
   ]
  },
  {
   "cell_type": "markdown",
   "metadata": {
    "lc_cell_meme": {
     "current": "271cd6bc-152b-11e7-b31a-0242ac12000d",
     "next": "271cd888-152b-11e7-b31a-0242ac12000d",
     "previous": "271cd4aa-152b-11e7-b31a-0242ac12000d"
    }
   },
   "source": [
    "## パラメータ設定\n"
   ]
  },
  {
   "cell_type": "markdown",
   "metadata": {
    "lc_cell_meme": {
     "current": "271cd888-152b-11e7-b31a-0242ac12000d",
     "next": "271cda68-152b-11e7-b31a-0242ac12000d",
     "previous": "271cd6bc-152b-11e7-b31a-0242ac12000d"
    }
   },
   "source": [
    "REST APIを利用して、インデックスのパラメータ設定を変更することができます。  \n",
    "ここでは、代表的なパラメータ設定と、その変更方法について説明します。  \n",
    "\n",
    "インデックスのパラメータは下記のようなフォーマットで指定します。"
   ]
  },
  {
   "cell_type": "raw",
   "metadata": {
    "lc_cell_meme": {
     "current": "271cda68-152b-11e7-b31a-0242ac12000d",
     "next": "271cdc34-152b-11e7-b31a-0242ac12000d",
     "previous": "271cd888-152b-11e7-b31a-0242ac12000d"
    }
   },
   "source": [
    "PUT <インデックス名>\n",
    "{\n",
    "  \"settings\": {\n",
    "    \"<パラメータ名>\": \"<値>\"\n",
    "  }\n",
    "}"
   ]
  },
  {
   "cell_type": "markdown",
   "metadata": {
    "lc_cell_meme": {
     "current": "271cdc34-152b-11e7-b31a-0242ac12000d",
     "next": "271cde1e-152b-11e7-b31a-0242ac12000d",
     "previous": "271cda68-152b-11e7-b31a-0242ac12000d"
    }
   },
   "source": [
    "### シャード・レプリカ数\n"
   ]
  },
  {
   "cell_type": "markdown",
   "metadata": {
    "lc_cell_meme": {
     "current": "271cde1e-152b-11e7-b31a-0242ac12000d",
     "next": "271cdfea-152b-11e7-b31a-0242ac12000d",
     "previous": "271cdc34-152b-11e7-b31a-0242ac12000d"
    }
   },
   "source": [
    "インデックスの作成時にのみ設定することができるパラメータです。  \n",
    "シャード数は**index.number_of_shards**、レプリカ数は**index.number_of_replicas**  \n",
    "という項目で設定することができます。  \n",
    "\n",
    "シャード数やレプリカ数を変更することにはメリットとデメリットの両面があります。  \n",
    "詳細に関してはElasticsearch Referenceの[Index Modules](https://www.elastic.co/guide/en/elasticsearch/reference/current/index-modules.html#_static_index_settings)および[Index Settings](https://www.elastic.co/guide/en/elasticsearch/guide/2.x/_index_settings.html)を参照してください。"
   ]
  },
  {
   "cell_type": "markdown",
   "metadata": {
    "lc_cell_meme": {
     "current": "271cdfea-152b-11e7-b31a-0242ac12000d",
     "next": "271ce1b6-152b-11e7-b31a-0242ac12000d",
     "previous": "271cde1e-152b-11e7-b31a-0242ac12000d"
    }
   },
   "source": [
    "### 圧縮方式指定\n"
   ]
  },
  {
   "cell_type": "markdown",
   "metadata": {
    "lc_cell_meme": {
     "current": "271ce1b6-152b-11e7-b31a-0242ac12000d",
     "next": "271ce396-152b-11e7-b31a-0242ac12000d",
     "previous": "271cdfea-152b-11e7-b31a-0242ac12000d"
    }
   },
   "source": [
    "データを保持する際の圧縮形式も指定することができます。  \n",
    "設定を変更することで圧縮率を上げることができますが、パフォーマンスは低下する可能性があります。  \n",
    "詳細に関してはElasticsearch Referenceの[Index Modules](https://www.elastic.co/guide/en/elasticsearch/reference/current/index-modules.html#_static_index_settings)を参照してください。"
   ]
  },
  {
   "cell_type": "markdown",
   "metadata": {
    "lc_cell_meme": {
     "current": "271ce396-152b-11e7-b31a-0242ac12000d",
     "next": "271ce558-152b-11e7-b31a-0242ac12000d",
     "previous": "271ce1b6-152b-11e7-b31a-0242ac12000d"
    }
   },
   "source": [
    "### 検索結果上限数"
   ]
  },
  {
   "cell_type": "markdown",
   "metadata": {
    "lc_cell_meme": {
     "current": "271ce558-152b-11e7-b31a-0242ac12000d",
     "next": "271ce724-152b-11e7-b31a-0242ac12000d",
     "previous": "271ce396-152b-11e7-b31a-0242ac12000d"
    }
   },
   "source": [
    "検索結果として返ってくるデータの上限数を明示的に指定して数を制限することができます。  \n",
    "具体的にはリクエストの中の\"size\"というパラメータを指定することになります。  \n",
    "実際のリクエストフォーマットは下記の通りです。"
   ]
  },
  {
   "cell_type": "raw",
   "metadata": {
    "lc_cell_meme": {
     "current": "271ce724-152b-11e7-b31a-0242ac12000d",
     "next": "271ce8f0-152b-11e7-b31a-0242ac12000d",
     "previous": "271ce558-152b-11e7-b31a-0242ac12000d"
    }
   },
   "source": [
    "GET <インデックス名>/_search\n",
    "{\n",
    "  \"size\":0,\n",
    "  \"query\":{\n",
    "    \"match_all\": {}\n",
    "  }\n",
    "}"
   ]
  },
  {
   "cell_type": "markdown",
   "metadata": {
    "lc_cell_meme": {
     "current": "271ce8f0-152b-11e7-b31a-0242ac12000d",
     "history": [
      {
       "current": "271ce8f0-152b-11e7-b31a-0242ac12000d",
       "next": null,
       "previous": "271ce724-152b-11e7-b31a-0242ac12000d"
      }
     ],
     "next": "acd4655a-472a-11e7-88b1-02420aff0008",
     "previous": "271ce724-152b-11e7-b31a-0242ac12000d"
    }
   },
   "source": [
    "上記のようにsizeを0に指定した場合は、ヒット件数などの情報は出力されますが、  \n",
    "ヒットしたドキュメントの内容は一切出力されません。  \n",
    "詳細は、Elasticsearch Referenceの[From / Size](https://www.elastic.co/guide/en/elasticsearch/reference/5.0/search-request-from-size.html)を参照してください。"
   ]
  },
  {
   "cell_type": "code",
   "execution_count": null,
   "metadata": {
    "collapsed": true,
    "lc_cell_meme": {
     "current": "acd4655a-472a-11e7-88b1-02420aff0008",
     "next": null,
     "previous": "271ce8f0-152b-11e7-b31a-0242ac12000d"
    }
   },
   "outputs": [],
   "source": []
  }
 ],
 "metadata": {
  "anaconda-cloud": {},
  "kernelspec": {
   "display_name": "Python 2 (LC_wrapper)",
   "language": "python",
   "name": "python2-wrapper"
  },
  "language_info": {
   "file_extension": ".py",
   "mimetype": "text/x-python",
   "name": "python",
   "nbconvert_exporter": "python",
   "pygments_lexer": "ipython2",
   "version": "2.7.9"
  },
  "lc_notebook_meme": {
   "current": "271c7dac-152b-11e7-b31a-0242ac12000d"
  },
  "toc": {
   "colors": {
    "hover_highlight": "#DAA520",
    "navigate_num": "#000000",
    "navigate_text": "#333333",
    "running_highlight": "#FF0000",
    "selected_highlight": "#FFD700",
    "sidebar_border": "#EEEEEE",
    "wrapper_background": "#FFFFFF"
   },
   "moveMenuLeft": true,
   "nav_menu": {
    "height": "280px",
    "width": "252px"
   },
   "navigate_menu": true,
   "number_sections": true,
   "sideBar": true,
   "threshold": 4,
   "toc_cell": false,
   "toc_section_display": "block",
   "toc_window_display": true,
   "widenNotebook": false
  }
 },
 "nbformat": 4,
 "nbformat_minor": 1
}
