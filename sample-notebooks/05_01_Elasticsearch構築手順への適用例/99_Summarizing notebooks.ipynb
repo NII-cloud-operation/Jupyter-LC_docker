{
 "cells": [
  {
   "cell_type": "markdown",
   "metadata": {
    "collapsed": true,
    "lc_cell_meme": {
     "current": "f64e43ee-13c3-11e7-b31a-0242ac12000d",
     "history": [
      {
       "current": "f64e43ee-13c3-11e7-b31a-0242ac12000d",
       "next": "f64e4628-13c3-11e7-b31a-0242ac12000d",
       "previous": null
      }
     ],
     "next": "771e4f2e-1fd0-11e7-b31a-0242ac12000d",
     "previous": null
    },
    "nbpresent": {
     "id": "40314b59-e8b3-4aad-a218-07584ba2b71d"
    }
   },
   "source": [
    "# About: Notebookの利用フローまとめ\n",
    "\n",
    "----\n",
    "\n",
    "Notebookの利用フローを図としてまとめる例です。"
   ]
  },
  {
   "cell_type": "markdown",
   "metadata": {
    "lc_cell_meme": {
     "current": "771e4f2e-1fd0-11e7-b31a-0242ac12000d",
     "history": [
      {
       "current": "771e4f2e-1fd0-11e7-b31a-0242ac12000d",
       "next": "f64e4628-13c3-11e7-b31a-0242ac12000d",
       "previous": "f64e43ee-13c3-11e7-b31a-0242ac12000d"
      },
      {
       "current": "771e4f2e-1fd0-11e7-b31a-0242ac12000d",
       "next": "bea97c06-1fd0-11e7-b31a-0242ac12000d",
       "previous": "f64e43ee-13c3-11e7-b31a-0242ac12000d"
      }
     ],
     "next": "0630e4d8-1fd1-11e7-b31a-0242ac12000d",
     "previous": "f64e43ee-13c3-11e7-b31a-0242ac12000d"
    }
   },
   "source": [
    "# 必要なツール\n",
    "\n",
    "このNotebookの実行には[blockdiag](http://blockdiag.com/ja/blockdiag/)が必要です。"
   ]
  },
  {
   "cell_type": "code",
   "execution_count": 1,
   "metadata": {
    "editable": false,
    "lc_cell_meme": {
     "current": "0630e4d8-1fd1-11e7-b31a-0242ac12000d",
     "next": "0630e942-1fd1-11e7-b31a-0242ac12000d",
     "previous": "771e4f2e-1fd0-11e7-b31a-0242ac12000d"
    },
    "run_control": {
     "frozen": true
    }
   },
   "outputs": [
    {
     "name": "stdout",
     "output_type": "stream",
     "text": [
      "/home/bit_kun/.virtualenv/aws/bin/blockdiag\r\n"
     ]
    }
   ],
   "source": [
    "!which blockdiag"
   ]
  },
  {
   "cell_type": "markdown",
   "metadata": {
    "lc_cell_meme": {
     "current": "0630e942-1fd1-11e7-b31a-0242ac12000d",
     "next": "bea97c06-1fd0-11e7-b31a-0242ac12000d",
     "previous": "0630e4d8-1fd1-11e7-b31a-0242ac12000d"
    }
   },
   "source": [
    "このNotebook環境にblockdiagコマンドがインストールされていない場合は、以下のようにしてblockdiagパッケージをインストールします。\n",
    "(pipコマンドの場所は環境により異なります。)"
   ]
  },
  {
   "cell_type": "code",
   "execution_count": 2,
   "metadata": {
    "collapsed": true,
    "editable": false,
    "lc_cell_meme": {
     "current": "bea97c06-1fd0-11e7-b31a-0242ac12000d",
     "history": [
      {
       "current": "bea97c06-1fd0-11e7-b31a-0242ac12000d",
       "next": "f64e4628-13c3-11e7-b31a-0242ac12000d",
       "previous": "771e4f2e-1fd0-11e7-b31a-0242ac12000d"
      }
     ],
     "next": "f64e4bfa-13c3-11e7-b31a-0242ac12000d",
     "previous": "0630e942-1fd1-11e7-b31a-0242ac12000d"
    },
    "run_control": {
     "frozen": true
    }
   },
   "outputs": [],
   "source": [
    "#!pip2 install blockdiag"
   ]
  },
  {
   "cell_type": "markdown",
   "metadata": {
    "collapsed": true,
    "lc_cell_meme": {
     "current": "f64e4bfa-13c3-11e7-b31a-0242ac12000d",
     "history": [
      {
       "current": "f64e4bfa-13c3-11e7-b31a-0242ac12000d",
       "next": "f64e4dd0-13c3-11e7-b31a-0242ac12000d",
       "previous": "f64e4a1a-13c3-11e7-b31a-0242ac12000d"
      },
      {
       "current": "f64e4bfa-13c3-11e7-b31a-0242ac12000d",
       "next": "3dd51a6c-13c4-11e7-b31a-0242ac12000d",
       "previous": "f64e4a1a-13c3-11e7-b31a-0242ac12000d"
      },
      {
       "current": "f64e4bfa-13c3-11e7-b31a-0242ac12000d",
       "next": "3dd51a6c-13c4-11e7-b31a-0242ac12000d",
       "previous": "250a00b2-13f9-11e7-b31a-0242ac12000d"
      },
      {
       "current": "f64e4bfa-13c3-11e7-b31a-0242ac12000d",
       "next": "3dd51a6c-13c4-11e7-b31a-0242ac12000d",
       "previous": "f64e5c30-13c3-11e7-b31a-0242ac12000d"
      },
      {
       "current": "f64e4bfa-13c3-11e7-b31a-0242ac12000d",
       "next": "f64e4dd0-13c3-11e7-b31a-0242ac12000d",
       "previous": "bea97c06-1fd0-11e7-b31a-0242ac12000d"
      }
     ],
     "next": "4db6179c-1fd1-11e7-b31a-0242ac12000d",
     "previous": "bea97c06-1fd0-11e7-b31a-0242ac12000d"
    },
    "nbpresent": {
     "id": "254432a4-e8fc-4d50-ac21-04a62e34643a"
    }
   },
   "source": [
    "# ブロック図による一覧生成\n",
    "\n",
    "以下のセルを実行(`Run All Below`)することで、Notebookがそれぞれどのような局面での利用を想定しているのか、ブロック図で確認することができます。\n",
    "\n",
    "ブロック図は `images/notebooks-filled.svg` として保存し、他のNotebookから必要に応じて参照することとします。"
   ]
  },
  {
   "cell_type": "markdown",
   "metadata": {
    "lc_cell_meme": {
     "current": "4db6179c-1fd1-11e7-b31a-0242ac12000d",
     "next": "f64e4dd0-13c3-11e7-b31a-0242ac12000d",
     "previous": "f64e4bfa-13c3-11e7-b31a-0242ac12000d"
    }
   },
   "source": [
    "一時ファイルは以下のディレクトリに作成します。"
   ]
  },
  {
   "cell_type": "code",
   "execution_count": 3,
   "metadata": {
    "editable": false,
    "lc_cell_meme": {
     "current": "f64e4dd0-13c3-11e7-b31a-0242ac12000d",
     "history": [
      {
       "current": "f64e4dd0-13c3-11e7-b31a-0242ac12000d",
       "next": "f64e4f9c-13c3-11e7-b31a-0242ac12000d",
       "previous": "f64e4bfa-13c3-11e7-b31a-0242ac12000d"
      },
      {
       "current": "f64e4dd0-13c3-11e7-b31a-0242ac12000d",
       "next": "f64e4f9c-13c3-11e7-b31a-0242ac12000d",
       "previous": "3dd51a6c-13c4-11e7-b31a-0242ac12000d"
      },
      {
       "current": "f64e4dd0-13c3-11e7-b31a-0242ac12000d",
       "next": "f64e4f9c-13c3-11e7-b31a-0242ac12000d",
       "previous": "f64e4bfa-13c3-11e7-b31a-0242ac12000d"
      }
     ],
     "next": "4db61d64-1fd1-11e7-b31a-0242ac12000d",
     "previous": "4db6179c-1fd1-11e7-b31a-0242ac12000d"
    },
    "run_control": {
     "frozen": true
    }
   },
   "outputs": [
    {
     "data": {
      "text/plain": [
       "'/tmp/tmpj1MoE9'"
      ]
     },
     "execution_count": 3,
     "metadata": {},
     "output_type": "execute_result"
    }
   ],
   "source": [
    "import tempfile\n",
    "work_dir = tempfile.mkdtemp()\n",
    "work_dir"
   ]
  },
  {
   "cell_type": "markdown",
   "metadata": {
    "lc_cell_meme": {
     "current": "4db61d64-1fd1-11e7-b31a-0242ac12000d",
     "next": "f64e4f9c-13c3-11e7-b31a-0242ac12000d",
     "previous": "f64e4dd0-13c3-11e7-b31a-0242ac12000d"
    }
   },
   "source": [
    "## 雛形の生成\n",
    "\n",
    "まず、Notebookの利用フローを表したブロック図の雛形を作成します。\n",
    "\n",
    "今回は雛形作成は人手により行っています。各ブロックには、Notebook名の先頭文字列を与えるものとします。"
   ]
  },
  {
   "cell_type": "code",
   "execution_count": 4,
   "metadata": {
    "editable": false,
    "lc_cell_meme": {
     "current": "f64e4f9c-13c3-11e7-b31a-0242ac12000d",
     "history": [
      {
       "current": "f64e4f9c-13c3-11e7-b31a-0242ac12000d",
       "next": "f64e5168-13c3-11e7-b31a-0242ac12000d",
       "previous": "f64e4dd0-13c3-11e7-b31a-0242ac12000d"
      },
      {
       "current": "f64e4f9c-13c3-11e7-b31a-0242ac12000d",
       "next": "f64e5168-13c3-11e7-b31a-0242ac12000d",
       "previous": "4db61d64-1fd1-11e7-b31a-0242ac12000d"
      }
     ],
     "next": "855aa226-13c4-11e7-b31a-0242ac12000d",
     "previous": "4db61d64-1fd1-11e7-b31a-0242ac12000d"
    },
    "run_control": {
     "frozen": true
    }
   },
   "outputs": [
    {
     "name": "stdout",
     "output_type": "stream",
     "text": [
      "Writing /tmp/tmpj1MoE9/notebooks.diag\n"
     ]
    }
   ],
   "source": [
    "%%writefile {work_dir}/notebooks.diag\n",
    "blockdiag {\n",
    "    node_width = 210;\n",
    "    node_height = 160;\n",
    "    \n",
    "    00_Prereq -> 01_01_Outline\n",
    "    01_01_Outline -> 01_02_Accommodation_AWS -> 01_03_Set_Inventory -> 01_04_Install -> 01_05_Diagnostics\n",
    "    01_01_Outline -> 01_02g_Accommodation_GCE [style=dotted]\n",
    "    01_02g_Accommodation_GCE -> 01_03_Set_Inventory [style=dotted]\n",
    "    01_05_Diagnostics -> 01_50_Add_Data_Node\n",
    "    01_50_Add_Data_Node <- 01_51_Force_Merge [dir=none, style=dotted]\n",
    "    01_50_Add_Data_Node <- 01_52_Backup_Restore [dir=none, style=dotted]\n",
    "    01_50_Add_Data_Node -> 01_02_Accommodation_AWS\n",
    "    01_04_Install -> 02_Search [folded]\n",
    "    02_Search -> 03_Aggregation -> 04_Store_Data -> 05_Indexing\n",
    "    \n",
    "    group {\n",
    "        label = \"運用者向け\"\n",
    "        color = \"#f0f8ff\";\n",
    "        group {\n",
    "            orientation=portrait;\n",
    "            color=\"#f0f8ff\";\n",
    "\n",
    "            00_Prereq\n",
    "            01_01_Outline;\n",
    "            group do {\n",
    "                label=\"構築\";\n",
    "                color=\"#87cefa\";\n",
    "\n",
    "                01_02_Accommodation_AWS;\n",
    "                01_02g_Accommodation_GCE;\n",
    "                01_03_Set_Inventory;\n",
    "                01_04_Install;\n",
    "            }\n",
    "        }\n",
    "        group check {\n",
    "            orientation=portrait;\n",
    "            label=\"確認・診断\";\n",
    "            color=\"#87cefa\";\n",
    "\n",
    "            01_05_Diagnostics;\n",
    "        }\n",
    "        group action {\n",
    "            orientation=portrait;\n",
    "            label=\"改善\";\n",
    "            color=\"#87cefa\";\n",
    "\n",
    "            01_50_Add_Data_Node;\n",
    "            01_51_Force_Merge;\n",
    "            01_52_Backup_Restore;\n",
    "        }\n",
    "    }\n",
    "    group use {\n",
    "        label=\"利用者向け\";\n",
    "        color = \"#f0f8ff\";\n",
    "        \n",
    "        02_Search;\n",
    "        03_Aggregation;\n",
    "        04_Store_Data;\n",
    "        05_Indexing;\n",
    "    }\n",
    "}"
   ]
  },
  {
   "cell_type": "markdown",
   "metadata": {
    "lc_cell_meme": {
     "current": "855aa226-13c4-11e7-b31a-0242ac12000d",
     "history": [
      {
       "current": "855aa226-13c4-11e7-b31a-0242ac12000d",
       "next": "f64e5334-13c3-11e7-b31a-0242ac12000d",
       "previous": "f64e5168-13c3-11e7-b31a-0242ac12000d"
      }
     ],
     "next": "f64e5334-13c3-11e7-b31a-0242ac12000d",
     "previous": "f64e4f9c-13c3-11e7-b31a-0242ac12000d"
    }
   },
   "source": [
    "雛形を作成します。以下のような表示となります。"
   ]
  },
  {
   "cell_type": "code",
   "execution_count": 5,
   "metadata": {
    "editable": false,
    "lc_cell_meme": {
     "current": "f64e5334-13c3-11e7-b31a-0242ac12000d",
     "history": [
      {
       "current": "f64e5334-13c3-11e7-b31a-0242ac12000d",
       "next": "f64e550a-13c3-11e7-b31a-0242ac12000d",
       "previous": "f64e5168-13c3-11e7-b31a-0242ac12000d"
      }
     ],
     "next": "855aa7d0-13c4-11e7-b31a-0242ac12000d",
     "previous": "855aa226-13c4-11e7-b31a-0242ac12000d"
    },
    "run_control": {
     "frozen": true
    },
    "scrolled": false
   },
   "outputs": [
    {
     "data": {
      "image/svg+xml": [
       "<svg viewBox=\"0 0 1434 1440\" xmlns=\"http://www.w3.org/2000/svg\" xmlns:inkspace=\"http://www.inkscape.org/namespaces/inkscape\" xmlns:xlink=\"http://www.w3.org/1999/xlink\">\n",
       "  <defs id=\"defs_block\">\n",
       "    <filter height=\"1.504\" id=\"filter_blur\" inkspace:collect=\"always\" width=\"1.1575\" x=\"-0.07875\" y=\"-0.252\">\n",
       "      <feGaussianBlur id=\"feGaussianBlur3780\" inkspace:collect=\"always\" stdDeviation=\"4.2\"/>\n",
       "    </filter>\n",
       "  </defs>\n",
       "  <title>blockdiag</title>\n",
       "  <desc>blockdiag {\n",
       "    node_width = 210;\n",
       "    node_height = 160;\n",
       "    \n",
       "    00_Prereq -&gt; 01_01_Outline\n",
       "    01_01_Outline -&gt; 01_02_Accommodation_AWS -&gt; 01_03_Set_Inventory -&gt; 01_04_Install -&gt; 01_05_Diagnostics\n",
       "    01_01_Outline -&gt; 01_02g_Accommodation_GCE [style=dotted]\n",
       "    01_02g_Accommodation_GCE -&gt; 01_03_Set_Inventory [style=dotted]\n",
       "    01_05_Diagnostics -&gt; 01_50_Add_Data_Node\n",
       "    01_50_Add_Data_Node &lt;- 01_51_Force_Merge [dir=none, style=dotted]\n",
       "    01_50_Add_Data_Node &lt;- 01_52_Backup_Restore [dir=none, style=dotted]\n",
       "    01_50_Add_Data_Node -&gt; 01_02_Accommodation_AWS\n",
       "    01_04_Install -&gt; 02_Search [folded]\n",
       "    02_Search -&gt; 03_Aggregation -&gt; 04_Store_Data -&gt; 05_Indexing\n",
       "    \n",
       "    group {\n",
       "        label = &quot;運用者向け&quot;\n",
       "        color = &quot;#f0f8ff&quot;;\n",
       "        group {\n",
       "            orientation=portrait;\n",
       "            color=&quot;#f0f8ff&quot;;\n",
       "\n",
       "            00_Prereq\n",
       "            01_01_Outline;\n",
       "            group do {\n",
       "                label=&quot;構築&quot;;\n",
       "                color=&quot;#87cefa&quot;;\n",
       "\n",
       "                01_02_Accommodation_AWS;\n",
       "                01_02g_Accommodation_GCE;\n",
       "                01_03_Set_Inventory;\n",
       "                01_04_Install;\n",
       "            }\n",
       "        }\n",
       "        group check {\n",
       "            orientation=portrait;\n",
       "            label=&quot;確認・診断&quot;;\n",
       "            color=&quot;#87cefa&quot;;\n",
       "\n",
       "            01_05_Diagnostics;\n",
       "        }\n",
       "        group action {\n",
       "            orientation=portrait;\n",
       "            label=&quot;改善&quot;;\n",
       "            color=&quot;#87cefa&quot;;\n",
       "\n",
       "            01_50_Add_Data_Node;\n",
       "            01_51_Force_Merge;\n",
       "            01_52_Backup_Restore;\n",
       "        }\n",
       "    }\n",
       "    group use {\n",
       "        label=&quot;利用者向け&quot;;\n",
       "        color = &quot;#f0f8ff&quot;;\n",
       "        \n",
       "        02_Search;\n",
       "        03_Aggregation;\n",
       "        04_Store_Data;\n",
       "        05_Indexing;\n",
       "    }\n",
       "}</desc>\n",
       "  <rect fill=\"rgb(240,248,255)\" height=\"1180\" style=\"filter:url(#filter_blur)\" width=\"1322\" x=\"56\" y=\"30\"/>\n",
       "  <rect fill=\"rgb(240,248,255)\" height=\"980\" style=\"filter:url(#filter_blur)\" width=\"500\" x=\"56\" y=\"30\"/>\n",
       "  <rect fill=\"rgb(135,206,250)\" height=\"580\" style=\"filter:url(#filter_blur)\" width=\"500\" x=\"56\" y=\"430\"/>\n",
       "  <rect fill=\"rgb(135,206,250)\" height=\"180\" style=\"filter:url(#filter_blur)\" width=\"226\" x=\"604\" y=\"830\"/>\n",
       "  <rect fill=\"rgb(135,206,250)\" height=\"380\" style=\"filter:url(#filter_blur)\" width=\"500\" x=\"878\" y=\"830\"/>\n",
       "  <rect fill=\"rgb(240,248,255)\" height=\"180\" style=\"filter:url(#filter_blur)\" width=\"1048\" x=\"56\" y=\"1230\"/>\n",
       "  <rect fill=\"rgb(0,0,0)\" height=\"160\" stroke=\"rgb(0,0,0)\" style=\"filter:url(#filter_blur);opacity:0.7;fill-opacity:1\" width=\"210\" x=\"67\" y=\"46\"/>\n",
       "  <rect fill=\"rgb(0,0,0)\" height=\"160\" stroke=\"rgb(0,0,0)\" style=\"filter:url(#filter_blur);opacity:0.7;fill-opacity:1\" width=\"210\" x=\"67\" y=\"246\"/>\n",
       "  <rect fill=\"rgb(0,0,0)\" height=\"160\" stroke=\"rgb(0,0,0)\" style=\"filter:url(#filter_blur);opacity:0.7;fill-opacity:1\" width=\"210\" x=\"67\" y=\"446\"/>\n",
       "  <rect fill=\"rgb(0,0,0)\" height=\"160\" stroke=\"rgb(0,0,0)\" style=\"filter:url(#filter_blur);opacity:0.7;fill-opacity:1\" width=\"210\" x=\"341\" y=\"446\"/>\n",
       "  <rect fill=\"rgb(0,0,0)\" height=\"160\" stroke=\"rgb(0,0,0)\" style=\"filter:url(#filter_blur);opacity:0.7;fill-opacity:1\" width=\"210\" x=\"67\" y=\"646\"/>\n",
       "  <rect fill=\"rgb(0,0,0)\" height=\"160\" stroke=\"rgb(0,0,0)\" style=\"filter:url(#filter_blur);opacity:0.7;fill-opacity:1\" width=\"210\" x=\"67\" y=\"846\"/>\n",
       "  <rect fill=\"rgb(0,0,0)\" height=\"160\" stroke=\"rgb(0,0,0)\" style=\"filter:url(#filter_blur);opacity:0.7;fill-opacity:1\" width=\"210\" x=\"615\" y=\"846\"/>\n",
       "  <rect fill=\"rgb(0,0,0)\" height=\"160\" stroke=\"rgb(0,0,0)\" style=\"filter:url(#filter_blur);opacity:0.7;fill-opacity:1\" width=\"210\" x=\"889\" y=\"846\"/>\n",
       "  <rect fill=\"rgb(0,0,0)\" height=\"160\" stroke=\"rgb(0,0,0)\" style=\"filter:url(#filter_blur);opacity:0.7;fill-opacity:1\" width=\"210\" x=\"889\" y=\"1046\"/>\n",
       "  <rect fill=\"rgb(0,0,0)\" height=\"160\" stroke=\"rgb(0,0,0)\" style=\"filter:url(#filter_blur);opacity:0.7;fill-opacity:1\" width=\"210\" x=\"1163\" y=\"1046\"/>\n",
       "  <rect fill=\"rgb(0,0,0)\" height=\"160\" stroke=\"rgb(0,0,0)\" style=\"filter:url(#filter_blur);opacity:0.7;fill-opacity:1\" width=\"210\" x=\"67\" y=\"1246\"/>\n",
       "  <rect fill=\"rgb(0,0,0)\" height=\"160\" stroke=\"rgb(0,0,0)\" style=\"filter:url(#filter_blur);opacity:0.7;fill-opacity:1\" width=\"210\" x=\"341\" y=\"1246\"/>\n",
       "  <rect fill=\"rgb(0,0,0)\" height=\"160\" stroke=\"rgb(0,0,0)\" style=\"filter:url(#filter_blur);opacity:0.7;fill-opacity:1\" width=\"210\" x=\"615\" y=\"1246\"/>\n",
       "  <rect fill=\"rgb(0,0,0)\" height=\"160\" stroke=\"rgb(0,0,0)\" style=\"filter:url(#filter_blur);opacity:0.7;fill-opacity:1\" width=\"210\" x=\"889\" y=\"1246\"/>\n",
       "  <rect fill=\"rgb(255,255,255)\" height=\"160\" stroke=\"rgb(0,0,0)\" width=\"210\" x=\"64\" y=\"40\"/>\n",
       "  <text fill=\"rgb(0,0,0)\" font-family=\"sans-serif\" font-size=\"11\" font-style=\"normal\" font-weight=\"normal\" text-anchor=\"middle\" textLength=\"54\" x=\"169\" y=\"126\">00_Prereq</text>\n",
       "  <rect fill=\"rgb(255,255,255)\" height=\"160\" stroke=\"rgb(0,0,0)\" width=\"210\" x=\"64\" y=\"240\"/>\n",
       "  <text fill=\"rgb(0,0,0)\" font-family=\"sans-serif\" font-size=\"11\" font-style=\"normal\" font-weight=\"normal\" text-anchor=\"middle\" textLength=\"79\" x=\"169\" y=\"326\">01_01_Outline</text>\n",
       "  <rect fill=\"rgb(255,255,255)\" height=\"160\" stroke=\"rgb(0,0,0)\" width=\"210\" x=\"64\" y=\"440\"/>\n",
       "  <text fill=\"rgb(0,0,0)\" font-family=\"sans-serif\" font-size=\"11\" font-style=\"normal\" font-weight=\"normal\" text-anchor=\"middle\" textLength=\"156\" x=\"169\" y=\"526\">01_02_Accommodation_AWS</text>\n",
       "  <rect fill=\"rgb(255,255,255)\" height=\"160\" stroke=\"rgb(0,0,0)\" width=\"210\" x=\"338\" y=\"440\"/>\n",
       "  <text fill=\"rgb(0,0,0)\" font-family=\"sans-serif\" font-size=\"11\" font-style=\"normal\" font-weight=\"normal\" text-anchor=\"middle\" textLength=\"162\" x=\"443\" y=\"526\">01_02g_Accommodation_GCE</text>\n",
       "  <rect fill=\"rgb(255,255,255)\" height=\"160\" stroke=\"rgb(0,0,0)\" width=\"210\" x=\"64\" y=\"640\"/>\n",
       "  <text fill=\"rgb(0,0,0)\" font-family=\"sans-serif\" font-size=\"11\" font-style=\"normal\" font-weight=\"normal\" text-anchor=\"middle\" textLength=\"111\" x=\"169\" y=\"727\">01_03_Set_Inventory</text>\n",
       "  <rect fill=\"rgb(255,255,255)\" height=\"160\" stroke=\"rgb(0,0,0)\" width=\"210\" x=\"64\" y=\"840\"/>\n",
       "  <text fill=\"rgb(0,0,0)\" font-family=\"sans-serif\" font-size=\"11\" font-style=\"normal\" font-weight=\"normal\" text-anchor=\"middle\" textLength=\"71\" x=\"169\" y=\"926\">01_04_Install</text>\n",
       "  <rect fill=\"rgb(255,255,255)\" height=\"160\" stroke=\"rgb(0,0,0)\" width=\"210\" x=\"612\" y=\"840\"/>\n",
       "  <text fill=\"rgb(0,0,0)\" font-family=\"sans-serif\" font-size=\"11\" font-style=\"normal\" font-weight=\"normal\" text-anchor=\"middle\" textLength=\"100\" x=\"717\" y=\"926\">01_05_Diagnostics</text>\n",
       "  <rect fill=\"rgb(255,255,255)\" height=\"160\" stroke=\"rgb(0,0,0)\" width=\"210\" x=\"886\" y=\"840\"/>\n",
       "  <text fill=\"rgb(0,0,0)\" font-family=\"sans-serif\" font-size=\"11\" font-style=\"normal\" font-weight=\"normal\" text-anchor=\"middle\" textLength=\"125\" x=\"991\" y=\"926\">01_50_Add_Data_Node</text>\n",
       "  <rect fill=\"rgb(255,255,255)\" height=\"160\" stroke=\"rgb(0,0,0)\" width=\"210\" x=\"886\" y=\"1040\"/>\n",
       "  <text fill=\"rgb(0,0,0)\" font-family=\"sans-serif\" font-size=\"11\" font-style=\"normal\" font-weight=\"normal\" text-anchor=\"middle\" textLength=\"107\" x=\"991\" y=\"1126\">01_51_Force_Merge</text>\n",
       "  <rect fill=\"rgb(255,255,255)\" height=\"160\" stroke=\"rgb(0,0,0)\" width=\"210\" x=\"1160\" y=\"1040\"/>\n",
       "  <text fill=\"rgb(0,0,0)\" font-family=\"sans-serif\" font-size=\"11\" font-style=\"normal\" font-weight=\"normal\" text-anchor=\"middle\" textLength=\"124\" x=\"1265\" y=\"1126\">01_52_Backup_Restore</text>\n",
       "  <rect fill=\"rgb(255,255,255)\" height=\"160\" stroke=\"rgb(0,0,0)\" width=\"210\" x=\"64\" y=\"1240\"/>\n",
       "  <text fill=\"rgb(0,0,0)\" font-family=\"sans-serif\" font-size=\"11\" font-style=\"normal\" font-weight=\"normal\" text-anchor=\"middle\" textLength=\"55\" x=\"169\" y=\"1326\">02_Search</text>\n",
       "  <rect fill=\"rgb(255,255,255)\" height=\"160\" stroke=\"rgb(0,0,0)\" width=\"210\" x=\"338\" y=\"1240\"/>\n",
       "  <text fill=\"rgb(0,0,0)\" font-family=\"sans-serif\" font-size=\"11\" font-style=\"normal\" font-weight=\"normal\" text-anchor=\"middle\" textLength=\"82\" x=\"443\" y=\"1326\">03_Aggregation</text>\n",
       "  <rect fill=\"rgb(255,255,255)\" height=\"160\" stroke=\"rgb(0,0,0)\" width=\"210\" x=\"612\" y=\"1240\"/>\n",
       "  <text fill=\"rgb(0,0,0)\" font-family=\"sans-serif\" font-size=\"11\" font-style=\"normal\" font-weight=\"normal\" text-anchor=\"middle\" textLength=\"77\" x=\"717\" y=\"1326\">04_Store_Data</text>\n",
       "  <rect fill=\"rgb(255,255,255)\" height=\"160\" stroke=\"rgb(0,0,0)\" width=\"210\" x=\"886\" y=\"1240\"/>\n",
       "  <text fill=\"rgb(0,0,0)\" font-family=\"sans-serif\" font-size=\"11\" font-style=\"normal\" font-weight=\"normal\" text-anchor=\"middle\" textLength=\"64\" x=\"991\" y=\"1326\">05_Indexing</text>\n",
       "  <path d=\"M 169 200 L 169 232\" fill=\"none\" stroke=\"rgb(0,0,0)\"/>\n",
       "  <polygon fill=\"rgb(0,0,0)\" points=\"169,239 165,232 173,232 169,239\" stroke=\"rgb(0,0,0)\"/>\n",
       "  <path d=\"M 169 400 L 169 432\" fill=\"none\" stroke=\"rgb(0,0,0)\"/>\n",
       "  <polygon fill=\"rgb(0,0,0)\" points=\"169,439 165,432 173,432 169,439\" stroke=\"rgb(0,0,0)\"/>\n",
       "  <path d=\"M 169 400 L 169 420\" fill=\"none\" stroke=\"rgb(0,0,0)\" stroke-dasharray=\"2\"/>\n",
       "  <path d=\"M 169 420 L 443 420\" fill=\"none\" stroke=\"rgb(0,0,0)\" stroke-dasharray=\"2\"/>\n",
       "  <path d=\"M 443 420 L 443 432\" fill=\"none\" stroke=\"rgb(0,0,0)\" stroke-dasharray=\"2\"/>\n",
       "  <polygon fill=\"rgb(0,0,0)\" points=\"443,439 439,432 447,432 443,439\" stroke=\"rgb(0,0,0)\"/>\n",
       "  <path d=\"M 169 600 L 169 632\" fill=\"none\" stroke=\"rgb(0,0,0)\"/>\n",
       "  <polygon fill=\"rgb(0,0,0)\" points=\"169,639 165,632 173,632 169,639\" stroke=\"rgb(0,0,0)\"/>\n",
       "  <path d=\"M 443 600 L 443 620\" fill=\"none\" stroke=\"rgb(0,0,0)\" stroke-dasharray=\"2\"/>\n",
       "  <path d=\"M 169 620 L 443 620\" fill=\"none\" stroke=\"rgb(0,0,0)\" stroke-dasharray=\"2\"/>\n",
       "  <path d=\"M 169 620 L 169 632\" fill=\"none\" stroke=\"rgb(0,0,0)\" stroke-dasharray=\"2\"/>\n",
       "  <polygon fill=\"rgb(0,0,0)\" points=\"169,639 165,632 173,632 169,639\" stroke=\"rgb(0,0,0)\"/>\n",
       "  <path d=\"M 169 800 L 169 832\" fill=\"none\" stroke=\"rgb(0,0,0)\"/>\n",
       "  <polygon fill=\"rgb(0,0,0)\" points=\"169,839 165,832 173,832 169,839\" stroke=\"rgb(0,0,0)\"/>\n",
       "  <path d=\"M 274 920 L 604 920\" fill=\"none\" stroke=\"rgb(0,0,0)\"/>\n",
       "  <polygon fill=\"rgb(0,0,0)\" points=\"611,920 604,916 604,924 611,920\" stroke=\"rgb(0,0,0)\"/>\n",
       "  <path d=\"M 169 1000 L 169 1232\" fill=\"none\" stroke=\"rgb(0,0,0)\"/>\n",
       "  <polygon fill=\"rgb(0,0,0)\" points=\"169,1239 165,1232 173,1232 169,1239\" stroke=\"rgb(0,0,0)\"/>\n",
       "  <path d=\"M 169 600 L 169 632\" fill=\"none\" stroke=\"rgb(0,0,0)\"/>\n",
       "  <polygon fill=\"rgb(0,0,0)\" points=\"169,639 165,632 173,632 169,639\" stroke=\"rgb(0,0,0)\"/>\n",
       "  <path d=\"M 443 600 L 443 620\" fill=\"none\" stroke=\"rgb(0,0,0)\" stroke-dasharray=\"2\"/>\n",
       "  <path d=\"M 169 620 L 443 620\" fill=\"none\" stroke=\"rgb(0,0,0)\" stroke-dasharray=\"2\"/>\n",
       "  <path d=\"M 169 620 L 169 632\" fill=\"none\" stroke=\"rgb(0,0,0)\" stroke-dasharray=\"2\"/>\n",
       "  <polygon fill=\"rgb(0,0,0)\" points=\"169,639 165,632 173,632 169,639\" stroke=\"rgb(0,0,0)\"/>\n",
       "  <path d=\"M 169 800 L 169 832\" fill=\"none\" stroke=\"rgb(0,0,0)\"/>\n",
       "  <polygon fill=\"rgb(0,0,0)\" points=\"169,839 165,832 173,832 169,839\" stroke=\"rgb(0,0,0)\"/>\n",
       "  <path d=\"M 274 920 L 604 920\" fill=\"none\" stroke=\"rgb(0,0,0)\"/>\n",
       "  <polygon fill=\"rgb(0,0,0)\" points=\"611,920 604,916 604,924 611,920\" stroke=\"rgb(0,0,0)\"/>\n",
       "  <path d=\"M 169 1000 L 169 1232\" fill=\"none\" stroke=\"rgb(0,0,0)\"/>\n",
       "  <polygon fill=\"rgb(0,0,0)\" points=\"169,1239 165,1232 173,1232 169,1239\" stroke=\"rgb(0,0,0)\"/>\n",
       "  <path d=\"M 822 920 L 878 920\" fill=\"none\" stroke=\"rgb(0,0,0)\"/>\n",
       "  <polygon fill=\"rgb(0,0,0)\" points=\"885,920 878,916 878,924 885,920\" stroke=\"rgb(0,0,0)\"/>\n",
       "  <path d=\"M 1096 920 L 1112 920\" fill=\"none\" stroke=\"rgb(0,0,0)\"/>\n",
       "  <path d=\"M 1112 920 L 1112 425\" fill=\"none\" stroke=\"rgb(0,0,0)\"/>\n",
       "  <path d=\"M 169 425 L 439 425\" fill=\"none\" stroke=\"rgb(0,0,0)\"/>\n",
       "  <path d=\"M 439.0 425.0 A4,4 0 0 1 447.0 425.0\" fill=\"none\" stroke=\"rgb(0,0,0)\"/>\n",
       "  <path d=\"M 447 425 L 1112 425\" fill=\"none\" stroke=\"rgb(0,0,0)\"/>\n",
       "  <path d=\"M 169 425 L 169 432\" fill=\"none\" stroke=\"rgb(0,0,0)\"/>\n",
       "  <polygon fill=\"rgb(0,0,0)\" points=\"169,439 165,432 173,432 169,439\" stroke=\"rgb(0,0,0)\"/>\n",
       "  <path d=\"M 991 1000 L 991 1040\" fill=\"none\" stroke=\"rgb(0,0,0)\" stroke-dasharray=\"2\"/>\n",
       "  <path d=\"M 991 1000 L 991 1020\" fill=\"none\" stroke=\"rgb(0,0,0)\" stroke-dasharray=\"2\"/>\n",
       "  <path d=\"M 991 1020 L 1265 1020\" fill=\"none\" stroke=\"rgb(0,0,0)\" stroke-dasharray=\"2\"/>\n",
       "  <path d=\"M 1265 1020 L 1265 1040\" fill=\"none\" stroke=\"rgb(0,0,0)\" stroke-dasharray=\"2\"/>\n",
       "  <path d=\"M 169 200 L 169 232\" fill=\"none\" stroke=\"rgb(0,0,0)\"/>\n",
       "  <polygon fill=\"rgb(0,0,0)\" points=\"169,239 165,232 173,232 169,239\" stroke=\"rgb(0,0,0)\"/>\n",
       "  <path d=\"M 169 400 L 169 432\" fill=\"none\" stroke=\"rgb(0,0,0)\"/>\n",
       "  <polygon fill=\"rgb(0,0,0)\" points=\"169,439 165,432 173,432 169,439\" stroke=\"rgb(0,0,0)\"/>\n",
       "  <path d=\"M 169 400 L 169 420\" fill=\"none\" stroke=\"rgb(0,0,0)\" stroke-dasharray=\"2\"/>\n",
       "  <path d=\"M 169 420 L 443 420\" fill=\"none\" stroke=\"rgb(0,0,0)\" stroke-dasharray=\"2\"/>\n",
       "  <path d=\"M 443 420 L 443 432\" fill=\"none\" stroke=\"rgb(0,0,0)\" stroke-dasharray=\"2\"/>\n",
       "  <polygon fill=\"rgb(0,0,0)\" points=\"443,439 439,432 447,432 443,439\" stroke=\"rgb(0,0,0)\"/>\n",
       "  <path d=\"M 169 600 L 169 632\" fill=\"none\" stroke=\"rgb(0,0,0)\"/>\n",
       "  <polygon fill=\"rgb(0,0,0)\" points=\"169,639 165,632 173,632 169,639\" stroke=\"rgb(0,0,0)\"/>\n",
       "  <path d=\"M 443 600 L 443 620\" fill=\"none\" stroke=\"rgb(0,0,0)\" stroke-dasharray=\"2\"/>\n",
       "  <path d=\"M 169 620 L 443 620\" fill=\"none\" stroke=\"rgb(0,0,0)\" stroke-dasharray=\"2\"/>\n",
       "  <path d=\"M 169 620 L 169 632\" fill=\"none\" stroke=\"rgb(0,0,0)\" stroke-dasharray=\"2\"/>\n",
       "  <polygon fill=\"rgb(0,0,0)\" points=\"169,639 165,632 173,632 169,639\" stroke=\"rgb(0,0,0)\"/>\n",
       "  <path d=\"M 169 800 L 169 832\" fill=\"none\" stroke=\"rgb(0,0,0)\"/>\n",
       "  <polygon fill=\"rgb(0,0,0)\" points=\"169,839 165,832 173,832 169,839\" stroke=\"rgb(0,0,0)\"/>\n",
       "  <path d=\"M 274 920 L 604 920\" fill=\"none\" stroke=\"rgb(0,0,0)\"/>\n",
       "  <polygon fill=\"rgb(0,0,0)\" points=\"611,920 604,916 604,924 611,920\" stroke=\"rgb(0,0,0)\"/>\n",
       "  <path d=\"M 169 1000 L 169 1232\" fill=\"none\" stroke=\"rgb(0,0,0)\"/>\n",
       "  <polygon fill=\"rgb(0,0,0)\" points=\"169,1239 165,1232 173,1232 169,1239\" stroke=\"rgb(0,0,0)\"/>\n",
       "  <path d=\"M 169 600 L 169 632\" fill=\"none\" stroke=\"rgb(0,0,0)\"/>\n",
       "  <polygon fill=\"rgb(0,0,0)\" points=\"169,639 165,632 173,632 169,639\" stroke=\"rgb(0,0,0)\"/>\n",
       "  <path d=\"M 443 600 L 443 620\" fill=\"none\" stroke=\"rgb(0,0,0)\" stroke-dasharray=\"2\"/>\n",
       "  <path d=\"M 169 620 L 443 620\" fill=\"none\" stroke=\"rgb(0,0,0)\" stroke-dasharray=\"2\"/>\n",
       "  <path d=\"M 169 620 L 169 632\" fill=\"none\" stroke=\"rgb(0,0,0)\" stroke-dasharray=\"2\"/>\n",
       "  <polygon fill=\"rgb(0,0,0)\" points=\"169,639 165,632 173,632 169,639\" stroke=\"rgb(0,0,0)\"/>\n",
       "  <path d=\"M 169 800 L 169 832\" fill=\"none\" stroke=\"rgb(0,0,0)\"/>\n",
       "  <polygon fill=\"rgb(0,0,0)\" points=\"169,839 165,832 173,832 169,839\" stroke=\"rgb(0,0,0)\"/>\n",
       "  <path d=\"M 274 920 L 604 920\" fill=\"none\" stroke=\"rgb(0,0,0)\"/>\n",
       "  <polygon fill=\"rgb(0,0,0)\" points=\"611,920 604,916 604,924 611,920\" stroke=\"rgb(0,0,0)\"/>\n",
       "  <path d=\"M 169 1000 L 169 1232\" fill=\"none\" stroke=\"rgb(0,0,0)\"/>\n",
       "  <polygon fill=\"rgb(0,0,0)\" points=\"169,1239 165,1232 173,1232 169,1239\" stroke=\"rgb(0,0,0)\"/>\n",
       "  <path d=\"M 822 920 L 878 920\" fill=\"none\" stroke=\"rgb(0,0,0)\"/>\n",
       "  <polygon fill=\"rgb(0,0,0)\" points=\"885,920 878,916 878,924 885,920\" stroke=\"rgb(0,0,0)\"/>\n",
       "  <path d=\"M 1096 920 L 1112 920\" fill=\"none\" stroke=\"rgb(0,0,0)\"/>\n",
       "  <path d=\"M 1112 920 L 1112 425\" fill=\"none\" stroke=\"rgb(0,0,0)\"/>\n",
       "  <path d=\"M 169 425 L 439 425\" fill=\"none\" stroke=\"rgb(0,0,0)\"/>\n",
       "  <path d=\"M 439.0 425.0 A4,4 0 0 1 447.0 425.0\" fill=\"none\" stroke=\"rgb(0,0,0)\"/>\n",
       "  <path d=\"M 447 425 L 1112 425\" fill=\"none\" stroke=\"rgb(0,0,0)\"/>\n",
       "  <path d=\"M 169 425 L 169 432\" fill=\"none\" stroke=\"rgb(0,0,0)\"/>\n",
       "  <polygon fill=\"rgb(0,0,0)\" points=\"169,439 165,432 173,432 169,439\" stroke=\"rgb(0,0,0)\"/>\n",
       "  <path d=\"M 991 1000 L 991 1040\" fill=\"none\" stroke=\"rgb(0,0,0)\" stroke-dasharray=\"2\"/>\n",
       "  <path d=\"M 991 1000 L 991 1020\" fill=\"none\" stroke=\"rgb(0,0,0)\" stroke-dasharray=\"2\"/>\n",
       "  <path d=\"M 991 1020 L 1265 1020\" fill=\"none\" stroke=\"rgb(0,0,0)\" stroke-dasharray=\"2\"/>\n",
       "  <path d=\"M 1265 1020 L 1265 1040\" fill=\"none\" stroke=\"rgb(0,0,0)\" stroke-dasharray=\"2\"/>\n",
       "  <path d=\"M 274 1320 L 330 1320\" fill=\"none\" stroke=\"rgb(0,0,0)\"/>\n",
       "  <polygon fill=\"rgb(0,0,0)\" points=\"337,1320 330,1316 330,1324 337,1320\" stroke=\"rgb(0,0,0)\"/>\n",
       "  <path d=\"M 548 1320 L 604 1320\" fill=\"none\" stroke=\"rgb(0,0,0)\"/>\n",
       "  <polygon fill=\"rgb(0,0,0)\" points=\"611,1320 604,1316 604,1324 611,1320\" stroke=\"rgb(0,0,0)\"/>\n",
       "  <path d=\"M 822 1320 L 878 1320\" fill=\"none\" stroke=\"rgb(0,0,0)\"/>\n",
       "  <polygon fill=\"rgb(0,0,0)\" points=\"885,1320 878,1316 878,1324 885,1320\" stroke=\"rgb(0,0,0)\"/>\n",
       "  <text fill=\"rgb(0,0,0)\" font-family=\"sans-serif\" font-size=\"11\" font-style=\"normal\" font-weight=\"normal\" text-anchor=\"middle\" textLength=\"54\" x=\"717\" y=\"36\">運用者向け</text>\n",
       "  <text fill=\"rgb(0,0,0)\" font-family=\"sans-serif\" font-size=\"11\" font-style=\"normal\" font-weight=\"normal\" text-anchor=\"middle\" textLength=\"22\" x=\"306\" y=\"436\">構築</text>\n",
       "  <text fill=\"rgb(0,0,0)\" font-family=\"sans-serif\" font-size=\"11\" font-style=\"normal\" font-weight=\"normal\" text-anchor=\"middle\" textLength=\"50\" x=\"717\" y=\"836\">確認・診断</text>\n",
       "  <text fill=\"rgb(0,0,0)\" font-family=\"sans-serif\" font-size=\"11\" font-style=\"normal\" font-weight=\"normal\" text-anchor=\"middle\" textLength=\"22\" x=\"1128\" y=\"836\">改善</text>\n",
       "  <text fill=\"rgb(0,0,0)\" font-family=\"sans-serif\" font-size=\"11\" font-style=\"normal\" font-weight=\"normal\" text-anchor=\"middle\" textLength=\"54\" x=\"580\" y=\"1236\">利用者向け</text>\n",
       "</svg>"
      ],
      "text/plain": [
       "<IPython.core.display.SVG object>"
      ]
     },
     "execution_count": 5,
     "metadata": {},
     "output_type": "execute_result"
    }
   ],
   "source": [
    "import os\n",
    "from IPython.display import SVG\n",
    "\n",
    "!blockdiag -f /usr/share/fonts/truetype/fonts-japanese-gothic.ttf -Tsvg \\\n",
    "           -o {work_dir}/notebooks.svg {work_dir}/notebooks.diag\n",
    "SVG(filename=os.path.join(work_dir, 'notebooks.svg'))"
   ]
  },
  {
   "cell_type": "markdown",
   "metadata": {
    "lc_cell_meme": {
     "current": "855aa7d0-13c4-11e7-b31a-0242ac12000d",
     "history": [
      {
       "current": "855aa7d0-13c4-11e7-b31a-0242ac12000d",
       "next": "f64e550a-13c3-11e7-b31a-0242ac12000d",
       "previous": "f64e5334-13c3-11e7-b31a-0242ac12000d"
      },
      {
       "current": "855aa7d0-13c4-11e7-b31a-0242ac12000d",
       "next": "a4bb6fc2-4a7b-11e7-b37f-02420aff0006",
       "previous": "f64e5334-13c3-11e7-b31a-0242ac12000d"
      }
     ],
     "next": "ec3bef98-4a7b-11e7-b37f-02420aff0006",
     "previous": "f64e5334-13c3-11e7-b31a-0242ac12000d"
    }
   },
   "source": [
    "## 詳細情報の埋め込み\n",
    "\n",
    "生成した雛形に対して、見出しの情報など詳細な情報を埋め込みます。\n",
    "\n",
    "この手順により、人手での図編集作業を最低限にとどめつつ、Notebookのわかりやすい利用フロー図を生成できるようにしています。"
   ]
  },
  {
   "cell_type": "code",
   "execution_count": 6,
   "metadata": {
    "collapsed": true,
    "editable": false,
    "lc_cell_meme": {
     "current": "ec3bef98-4a7b-11e7-b37f-02420aff0006",
     "next": "f64e550a-13c3-11e7-b31a-0242ac12000d",
     "previous": "855aa7d0-13c4-11e7-b31a-0242ac12000d"
    },
    "run_control": {
     "frozen": true
    }
   },
   "outputs": [],
   "source": [
    "disabled = {'00_Prereq': (u'Prerequisites for Literate Computing via Notebook',\n",
    "                          [(u'- Ansibleの設定', None),\n",
    "                           (u'- 資材の準備', None)]),\n",
    "            '01_02g_Accommodation_GCE': (u'Elastic Stackの構築手順：収容(GCE)',\n",
    "                                         [(u'- Libraryの確認', None),\n",
    "                                          (u'- Credentialの確認', None),\n",
    "                                          (u'- インスタンスの起動', None),\n",
    "                                          (u'- Inventory作成用のインスタンスリストを作成', None)])}"
   ]
  },
  {
   "cell_type": "code",
   "execution_count": 7,
   "metadata": {
    "editable": false,
    "lc_cell_meme": {
     "current": "f64e550a-13c3-11e7-b31a-0242ac12000d",
     "history": [
      {
       "current": "f64e550a-13c3-11e7-b31a-0242ac12000d",
       "next": "f64e56d6-13c3-11e7-b31a-0242ac12000d",
       "previous": "f64e5334-13c3-11e7-b31a-0242ac12000d"
      },
      {
       "current": "f64e550a-13c3-11e7-b31a-0242ac12000d",
       "next": "f64e56d6-13c3-11e7-b31a-0242ac12000d",
       "previous": "855aa7d0-13c4-11e7-b31a-0242ac12000d"
      },
      {
       "current": "f64e550a-13c3-11e7-b31a-0242ac12000d",
       "next": "ccdd077e-13c4-11e7-b31a-0242ac12000d",
       "previous": "855aa7d0-13c4-11e7-b31a-0242ac12000d"
      },
      {
       "current": "f64e550a-13c3-11e7-b31a-0242ac12000d",
       "next": "f64e5c30-13c3-11e7-b31a-0242ac12000d",
       "previous": "855aa7d0-13c4-11e7-b31a-0242ac12000d"
      },
      {
       "current": "f64e550a-13c3-11e7-b31a-0242ac12000d",
       "next": "f64e5e10-13c3-11e7-b31a-0242ac12000d",
       "previous": "855aa7d0-13c4-11e7-b31a-0242ac12000d"
      },
      {
       "current": "f64e550a-13c3-11e7-b31a-0242ac12000d",
       "next": "0d37e028-1fd2-11e7-b31a-0242ac12000d",
       "previous": "855aa7d0-13c4-11e7-b31a-0242ac12000d"
      },
      {
       "current": "f64e550a-13c3-11e7-b31a-0242ac12000d",
       "next": "0d37e028-1fd2-11e7-b31a-0242ac12000d",
       "previous": "a4bb6fc2-4a7b-11e7-b37f-02420aff0006"
      }
     ],
     "next": "0d37e028-1fd2-11e7-b31a-0242ac12000d",
     "previous": "ec3bef98-4a7b-11e7-b37f-02420aff0006"
    },
    "run_control": {
     "frozen": true
    },
    "scrolled": false
   },
   "outputs": [
    {
     "data": {
      "image/svg+xml": [
       "<svg viewBox=\"0 0 1434 1440\" xmlns=\"http://www.w3.org/2000/svg\" xmlns:inkspace=\"http://www.inkscape.org/namespaces/inkscape\" xmlns:xlink=\"http://www.w3.org/1999/xlink\">\n",
       "  <defs id=\"defs_block\">\n",
       "    <filter height=\"1.504\" id=\"filter_blur\" inkspace:collect=\"always\" width=\"1.1575\" x=\"-0.07875\" y=\"-0.252\">\n",
       "      <feGaussianBlur id=\"feGaussianBlur3780\" inkspace:collect=\"always\" stdDeviation=\"4.2\"/>\n",
       "    </filter>\n",
       "  </defs>\n",
       "  <title>blockdiag</title>\n",
       "  <desc>blockdiag {\n",
       "    node_width = 210;\n",
       "    node_height = 160;\n",
       "    \n",
       "    00_Prereq -&gt; 01_01_Outline\n",
       "    01_01_Outline -&gt; 01_02_Accommodation_AWS -&gt; 01_03_Set_Inventory -&gt; 01_04_Install -&gt; 01_05_Diagnostics\n",
       "    01_01_Outline -&gt; 01_02g_Accommodation_GCE [style=dotted]\n",
       "    01_02g_Accommodation_GCE -&gt; 01_03_Set_Inventory [style=dotted]\n",
       "    01_05_Diagnostics -&gt; 01_50_Add_Data_Node\n",
       "    01_50_Add_Data_Node &lt;- 01_51_Force_Merge [dir=none, style=dotted]\n",
       "    01_50_Add_Data_Node &lt;- 01_52_Backup_Restore [dir=none, style=dotted]\n",
       "    01_50_Add_Data_Node -&gt; 01_02_Accommodation_AWS\n",
       "    01_04_Install -&gt; 02_Search [folded]\n",
       "    02_Search -&gt; 03_Aggregation -&gt; 04_Store_Data -&gt; 05_Indexing\n",
       "    \n",
       "    group {\n",
       "        label = &quot;運用者向け&quot;\n",
       "        color = &quot;#f0f8ff&quot;;\n",
       "        group {\n",
       "            orientation=portrait;\n",
       "            color=&quot;#f0f8ff&quot;;\n",
       "\n",
       "            00_Prereq\n",
       "            01_01_Outline;\n",
       "            group do {\n",
       "                label=&quot;構築&quot;;\n",
       "                color=&quot;#87cefa&quot;;\n",
       "\n",
       "                01_02_Accommodation_AWS;\n",
       "                01_02g_Accommodation_GCE;\n",
       "                01_03_Set_Inventory;\n",
       "                01_04_Install;\n",
       "            }\n",
       "        }\n",
       "        group check {\n",
       "            orientation=portrait;\n",
       "            label=&quot;確認・診断&quot;;\n",
       "            color=&quot;#87cefa&quot;;\n",
       "\n",
       "            01_05_Diagnostics;\n",
       "        }\n",
       "        group action {\n",
       "            orientation=portrait;\n",
       "            label=&quot;改善&quot;;\n",
       "            color=&quot;#87cefa&quot;;\n",
       "\n",
       "            01_50_Add_Data_Node;\n",
       "            01_51_Force_Merge;\n",
       "            01_52_Backup_Restore;\n",
       "        }\n",
       "    }\n",
       "    group use {\n",
       "        label=&quot;利用者向け&quot;;\n",
       "        color = &quot;#f0f8ff&quot;;\n",
       "        \n",
       "        02_Search;\n",
       "        03_Aggregation;\n",
       "        04_Store_Data;\n",
       "        05_Indexing;\n",
       "    }\n",
       "}</desc>\n",
       "  <rect fill=\"rgb(240,248,255)\" height=\"1180\" style=\"filter:url(#filter_blur)\" width=\"1322\" x=\"56\" y=\"30\"/>\n",
       "  <rect fill=\"rgb(240,248,255)\" height=\"980\" style=\"filter:url(#filter_blur)\" width=\"500\" x=\"56\" y=\"30\"/>\n",
       "  <rect fill=\"rgb(135,206,250)\" height=\"580\" style=\"filter:url(#filter_blur)\" width=\"500\" x=\"56\" y=\"430\"/>\n",
       "  <rect fill=\"rgb(135,206,250)\" height=\"180\" style=\"filter:url(#filter_blur)\" width=\"226\" x=\"604\" y=\"830\"/>\n",
       "  <rect fill=\"rgb(135,206,250)\" height=\"380\" style=\"filter:url(#filter_blur)\" width=\"500\" x=\"878\" y=\"830\"/>\n",
       "  <rect fill=\"rgb(240,248,255)\" height=\"180\" style=\"filter:url(#filter_blur)\" width=\"1048\" x=\"56\" y=\"1230\"/>\n",
       "  <rect fill=\"rgb(0,0,0)\" height=\"160\" stroke=\"rgb(0,0,0)\" style=\"filter:url(#filter_blur);opacity:0.7;fill-opacity:1\" width=\"210\" x=\"67\" y=\"46\"/>\n",
       "  <rect fill=\"rgb(0,0,0)\" height=\"160\" stroke=\"rgb(0,0,0)\" style=\"filter:url(#filter_blur);opacity:0.7;fill-opacity:1\" width=\"210\" x=\"67\" y=\"246\"/>\n",
       "  <rect fill=\"rgb(0,0,0)\" height=\"160\" stroke=\"rgb(0,0,0)\" style=\"filter:url(#filter_blur);opacity:0.7;fill-opacity:1\" width=\"210\" x=\"67\" y=\"446\"/>\n",
       "  <rect fill=\"rgb(0,0,0)\" height=\"160\" stroke=\"rgb(0,0,0)\" style=\"filter:url(#filter_blur);opacity:0.7;fill-opacity:1\" width=\"210\" x=\"341\" y=\"446\"/>\n",
       "  <rect fill=\"rgb(0,0,0)\" height=\"160\" stroke=\"rgb(0,0,0)\" style=\"filter:url(#filter_blur);opacity:0.7;fill-opacity:1\" width=\"210\" x=\"67\" y=\"646\"/>\n",
       "  <rect fill=\"rgb(0,0,0)\" height=\"160\" stroke=\"rgb(0,0,0)\" style=\"filter:url(#filter_blur);opacity:0.7;fill-opacity:1\" width=\"210\" x=\"67\" y=\"846\"/>\n",
       "  <rect fill=\"rgb(0,0,0)\" height=\"160\" stroke=\"rgb(0,0,0)\" style=\"filter:url(#filter_blur);opacity:0.7;fill-opacity:1\" width=\"210\" x=\"615\" y=\"846\"/>\n",
       "  <rect fill=\"rgb(0,0,0)\" height=\"160\" stroke=\"rgb(0,0,0)\" style=\"filter:url(#filter_blur);opacity:0.7;fill-opacity:1\" width=\"210\" x=\"889\" y=\"846\"/>\n",
       "  <rect fill=\"rgb(0,0,0)\" height=\"160\" stroke=\"rgb(0,0,0)\" style=\"filter:url(#filter_blur);opacity:0.7;fill-opacity:1\" width=\"210\" x=\"889\" y=\"1046\"/>\n",
       "  <rect fill=\"rgb(0,0,0)\" height=\"160\" stroke=\"rgb(0,0,0)\" style=\"filter:url(#filter_blur);opacity:0.7;fill-opacity:1\" width=\"210\" x=\"1163\" y=\"1046\"/>\n",
       "  <rect fill=\"rgb(0,0,0)\" height=\"160\" stroke=\"rgb(0,0,0)\" style=\"filter:url(#filter_blur);opacity:0.7;fill-opacity:1\" width=\"210\" x=\"67\" y=\"1246\"/>\n",
       "  <rect fill=\"rgb(0,0,0)\" height=\"160\" stroke=\"rgb(0,0,0)\" style=\"filter:url(#filter_blur);opacity:0.7;fill-opacity:1\" width=\"210\" x=\"341\" y=\"1246\"/>\n",
       "  <rect fill=\"rgb(0,0,0)\" height=\"160\" stroke=\"rgb(0,0,0)\" style=\"filter:url(#filter_blur);opacity:0.7;fill-opacity:1\" width=\"210\" x=\"615\" y=\"1246\"/>\n",
       "  <rect fill=\"rgb(0,0,0)\" height=\"160\" stroke=\"rgb(0,0,0)\" style=\"filter:url(#filter_blur);opacity:0.7;fill-opacity:1\" width=\"210\" x=\"889\" y=\"1246\"/>\n",
       "  <rect fill=\"rgb(192, 192, 192)\" height=\"160\" stroke=\"rgb(0,0,0)\" width=\"210\" x=\"64\" y=\"40\"/>\n",
       "  <text fill=\"rgb(0,0,0)\" font-anchor=\"middle\" font-family=\"sans-serif\" font-size=\"9\" font-style=\"normal\" font-weight=\"normal\" width=\"206\" x=\"66\" y=\"120\">- 資材の準備</text><text fill=\"rgb(0,0,0)\" font-anchor=\"middle\" font-family=\"sans-serif\" font-size=\"9\" font-style=\"normal\" font-weight=\"normal\" width=\"206\" x=\"66\" y=\"109\">- Ansibleの設定</text><text fill=\"rgb(0,0,0)\" font-anchor=\"middle\" font-family=\"sans-serif\" font-size=\"9\" font-style=\"italic\" font-weight=\"normal\" width=\"206\" x=\"66\" y=\"85\">本デモ環境では利用できません</text><text fill=\"rgb(0,0,0)\" font-anchor=\"middle\" font-family=\"sans-serif\" font-size=\"11\" font-style=\"normal\" font-weight=\"bold\" width=\"206\" x=\"66\" y=\"69\">Computing via Notebook</text><text fill=\"rgb(0,0,0)\" font-anchor=\"middle\" font-family=\"sans-serif\" font-size=\"11\" font-style=\"normal\" font-weight=\"bold\" width=\"206\" x=\"66\" y=\"56\">Prerequisites for Literate</text><rect fill=\"rgb(255,255,255)\" height=\"160\" stroke=\"rgb(0,0,0)\" width=\"210\" x=\"64\" y=\"240\"/>\n",
       "  <text fill=\"rgb(0,0,0)\" font-anchor=\"middle\" font-family=\"sans-serif\" font-size=\"9\" font-style=\"normal\" font-weight=\"normal\" width=\"206\" x=\"66\" y=\"342\">- 設定の出力</text><text fill=\"rgb(0,0,0)\" font-anchor=\"middle\" font-family=\"sans-serif\" font-size=\"9\" font-style=\"normal\" font-weight=\"normal\" width=\"206\" x=\"66\" y=\"331\">- 典型的な構成</text><text fill=\"rgb(0,0,0)\" font-anchor=\"middle\" font-family=\"sans-serif\" font-size=\"9\" font-style=\"normal\" font-weight=\"normal\" width=\"206\" x=\"66\" y=\"320\">- サイジングの考え方</text><text fill=\"rgb(0,0,0)\" font-anchor=\"middle\" font-family=\"sans-serif\" font-size=\"9\" font-style=\"normal\" font-weight=\"normal\" width=\"206\" x=\"66\" y=\"309\">- 基本概念</text><text fill=\"rgb(0,0,0)\" font-anchor=\"middle\" font-family=\"sans-serif\" font-size=\"9\" font-style=\"italic\" font-weight=\"normal\" width=\"206\" x=\"66\" y=\"296\"> サイジングの観点について説明します。</text><text fill=\"rgb(0,0,0)\" font-anchor=\"middle\" font-family=\"sans-serif\" font-size=\"9\" font-style=\"italic\" font-weight=\"normal\" width=\"206\" x=\"66\" y=\"285\">Elastic Stackの概念やNodeの種類、</text><a xlink:href=\"01_01_Outline.ipynb\"><text fill=\"rgb(0,0,0)\" font-anchor=\"middle\" font-family=\"sans-serif\" font-size=\"11\" font-style=\"normal\" font-weight=\"bold\" width=\"206\" x=\"66\" y=\"256\">Elastic Stackの構築：</text><text fill=\"rgb(0,0,0)\" font-anchor=\"middle\" font-family=\"sans-serif\" font-size=\"11\" font-style=\"normal\" font-weight=\"bold\" width=\"206\" x=\"66\" y=\"269\">概要</text></a><rect fill=\"rgb(255,255,255)\" height=\"160\" stroke=\"rgb(0,0,0)\" width=\"210\" x=\"64\" y=\"440\"/>\n",
       "  <text fill=\"rgb(0,0,0)\" font-anchor=\"middle\" font-family=\"sans-serif\" font-size=\"9\" font-style=\"normal\" font-weight=\"normal\" width=\"206\" x=\"66\" y=\"531\">- Inventory作成用のインスタンスリストを作成</text><text fill=\"rgb(0,0,0)\" font-anchor=\"middle\" font-family=\"sans-serif\" font-size=\"9\" font-style=\"normal\" font-weight=\"normal\" width=\"206\" x=\"66\" y=\"520\">- EC2インスタンスの設定と生成</text><text fill=\"rgb(0,0,0)\" font-anchor=\"middle\" font-family=\"sans-serif\" font-size=\"9\" font-style=\"normal\" font-weight=\"normal\" width=\"206\" x=\"66\" y=\"509\">- 設定</text><text fill=\"rgb(0,0,0)\" font-anchor=\"middle\" font-family=\"sans-serif\" font-size=\"9\" font-style=\"italic\" font-weight=\"normal\" width=\"206\" x=\"66\" y=\"496\"> Amazon EC2インスタンスを確保します。</text><text fill=\"rgb(0,0,0)\" font-anchor=\"middle\" font-family=\"sans-serif\" font-size=\"9\" font-style=\"italic\" font-weight=\"normal\" width=\"206\" x=\"66\" y=\"485\">Elasticsearchのインストール先となる</text><a xlink:href=\"01_02_Accommodation_AWS.ipynb\"><text fill=\"rgb(0,0,0)\" font-anchor=\"middle\" font-family=\"sans-serif\" font-size=\"11\" font-style=\"normal\" font-weight=\"bold\" width=\"206\" x=\"66\" y=\"456\">Elastic Stackの構築手順：</text><text fill=\"rgb(0,0,0)\" font-anchor=\"middle\" font-family=\"sans-serif\" font-size=\"11\" font-style=\"normal\" font-weight=\"bold\" width=\"206\" x=\"66\" y=\"469\">収容（AWS）</text></a><rect fill=\"rgb(192, 192, 192)\" height=\"160\" stroke=\"rgb(0,0,0)\" width=\"210\" x=\"338\" y=\"440\"/>\n",
       "  <text fill=\"rgb(0,0,0)\" font-anchor=\"middle\" font-family=\"sans-serif\" font-size=\"9\" font-style=\"normal\" font-weight=\"normal\" width=\"206\" x=\"340\" y=\"542\">- Inventory作成用のインスタンスリストを作成</text><text fill=\"rgb(0,0,0)\" font-anchor=\"middle\" font-family=\"sans-serif\" font-size=\"9\" font-style=\"normal\" font-weight=\"normal\" width=\"206\" x=\"340\" y=\"531\">- インスタンスの起動</text><text fill=\"rgb(0,0,0)\" font-anchor=\"middle\" font-family=\"sans-serif\" font-size=\"9\" font-style=\"normal\" font-weight=\"normal\" width=\"206\" x=\"340\" y=\"520\">- Credentialの確認</text><text fill=\"rgb(0,0,0)\" font-anchor=\"middle\" font-family=\"sans-serif\" font-size=\"9\" font-style=\"normal\" font-weight=\"normal\" width=\"206\" x=\"340\" y=\"509\">- Libraryの確認</text><text fill=\"rgb(0,0,0)\" font-anchor=\"middle\" font-family=\"sans-serif\" font-size=\"9\" font-style=\"italic\" font-weight=\"normal\" width=\"206\" x=\"340\" y=\"485\">本デモ環境では利用できません</text><text fill=\"rgb(0,0,0)\" font-anchor=\"middle\" font-family=\"sans-serif\" font-size=\"11\" font-style=\"normal\" font-weight=\"bold\" width=\"206\" x=\"340\" y=\"469\">収容(GCE)</text><text fill=\"rgb(0,0,0)\" font-anchor=\"middle\" font-family=\"sans-serif\" font-size=\"11\" font-style=\"normal\" font-weight=\"bold\" width=\"206\" x=\"340\" y=\"456\">Elastic Stackの構築手順：</text><rect fill=\"rgb(255,255,255)\" height=\"160\" stroke=\"rgb(0,0,0)\" width=\"210\" x=\"64\" y=\"640\"/>\n",
       "  <text fill=\"rgb(0,0,0)\" font-anchor=\"middle\" font-family=\"sans-serif\" font-size=\"9\" font-style=\"normal\" font-weight=\"normal\" width=\"206\" x=\"66\" y=\"753\">- インベントリのテスト</text><text fill=\"rgb(0,0,0)\" font-anchor=\"middle\" font-family=\"sans-serif\" font-size=\"9\" font-style=\"normal\" font-weight=\"normal\" width=\"206\" x=\"66\" y=\"742\">- 内容の確認・修正</text><text fill=\"rgb(0,0,0)\" font-anchor=\"middle\" font-family=\"sans-serif\" font-size=\"9\" font-style=\"normal\" font-weight=\"normal\" width=\"206\" x=\"66\" y=\"731\">- ファイルの生成</text><text fill=\"rgb(0,0,0)\" font-anchor=\"middle\" font-family=\"sans-serif\" font-size=\"9\" font-style=\"normal\" font-weight=\"normal\" width=\"206\" x=\"66\" y=\"720\">- 既存のインベントリのバックアップ</text><text fill=\"rgb(0,0,0)\" font-anchor=\"middle\" font-family=\"sans-serif\" font-size=\"9\" font-style=\"normal\" font-weight=\"normal\" width=\"206\" x=\"66\" y=\"709\">- 設定</text><text fill=\"rgb(0,0,0)\" font-anchor=\"middle\" font-family=\"sans-serif\" font-size=\"9\" font-style=\"italic\" font-weight=\"normal\" width=\"206\" x=\"66\" y=\"696\"> ファイルに出力します。</text><text fill=\"rgb(0,0,0)\" font-anchor=\"middle\" font-family=\"sans-serif\" font-size=\"9\" font-style=\"italic\" font-weight=\"normal\" width=\"206\" x=\"66\" y=\"685\">Ansibleで利用するインベントリ情報を</text><a xlink:href=\"01_03_Set_Inventory.ipynb\"><text fill=\"rgb(0,0,0)\" font-anchor=\"middle\" font-family=\"sans-serif\" font-size=\"11\" font-style=\"normal\" font-weight=\"bold\" width=\"206\" x=\"66\" y=\"656\">Elastic Stackの構築手順：</text><text fill=\"rgb(0,0,0)\" font-anchor=\"middle\" font-family=\"sans-serif\" font-size=\"11\" font-style=\"normal\" font-weight=\"bold\" width=\"206\" x=\"66\" y=\"669\">インベントリの設定</text></a><rect fill=\"rgb(255,255,255)\" height=\"160\" stroke=\"rgb(0,0,0)\" width=\"210\" x=\"64\" y=\"840\"/>\n",
       "  <text fill=\"rgb(0,0,0)\" font-anchor=\"middle\" font-family=\"sans-serif\" font-size=\"9\" font-style=\"normal\" font-weight=\"normal\" width=\"206\" x=\"66\" y=\"942\">- Logstashへのサンプルデータ投入（オプション）</text><text fill=\"rgb(0,0,0)\" font-anchor=\"middle\" font-family=\"sans-serif\" font-size=\"9\" font-style=\"normal\" font-weight=\"normal\" width=\"206\" x=\"66\" y=\"931\">- クラスタのステータスの確認方法と監視方法</text><text fill=\"rgb(0,0,0)\" font-anchor=\"middle\" font-family=\"sans-serif\" font-size=\"9\" font-style=\"normal\" font-weight=\"normal\" width=\"206\" x=\"66\" y=\"920\">- インストール</text><text fill=\"rgb(0,0,0)\" font-anchor=\"middle\" font-family=\"sans-serif\" font-size=\"9\" font-style=\"normal\" font-weight=\"normal\" width=\"206\" x=\"66\" y=\"909\">- 設定</text><text fill=\"rgb(0,0,0)\" font-anchor=\"middle\" font-family=\"sans-serif\" font-size=\"9\" font-style=\"italic\" font-weight=\"normal\" width=\"206\" x=\"66\" y=\"896\"> 各種パラメータを設定してクラスタを構築します。</text><text fill=\"rgb(0,0,0)\" font-anchor=\"middle\" font-family=\"sans-serif\" font-size=\"9\" font-style=\"italic\" font-weight=\"normal\" width=\"206\" x=\"66\" y=\"885\">Elasticsearchをインストールし、</text><a xlink:href=\"01_04_Install.ipynb\"><text fill=\"rgb(0,0,0)\" font-anchor=\"middle\" font-family=\"sans-serif\" font-size=\"11\" font-style=\"normal\" font-weight=\"bold\" width=\"206\" x=\"66\" y=\"856\">Elastic Stackの構築手順：</text><text fill=\"rgb(0,0,0)\" font-anchor=\"middle\" font-family=\"sans-serif\" font-size=\"11\" font-style=\"normal\" font-weight=\"bold\" width=\"206\" x=\"66\" y=\"869\">インストール</text></a><rect fill=\"rgb(255,255,255)\" height=\"160\" stroke=\"rgb(0,0,0)\" width=\"210\" x=\"612\" y=\"840\"/>\n",
       "  <text fill=\"rgb(0,0,0)\" font-anchor=\"middle\" font-family=\"sans-serif\" font-size=\"9\" font-style=\"normal\" font-weight=\"normal\" width=\"206\" x=\"614\" y=\"931\">- 症状と対処</text><text fill=\"rgb(0,0,0)\" font-anchor=\"middle\" font-family=\"sans-serif\" font-size=\"9\" font-style=\"normal\" font-weight=\"normal\" width=\"206\" x=\"614\" y=\"920\">- 診断</text><text fill=\"rgb(0,0,0)\" font-anchor=\"middle\" font-family=\"sans-serif\" font-size=\"9\" font-style=\"normal\" font-weight=\"normal\" width=\"206\" x=\"614\" y=\"909\">- 準備</text><text fill=\"rgb(0,0,0)\" font-anchor=\"middle\" font-family=\"sans-serif\" font-size=\"9\" font-style=\"italic\" font-weight=\"normal\" width=\"206\" x=\"614\" y=\"896\"> 異常がある場合の対処手順について説明します。</text><text fill=\"rgb(0,0,0)\" font-anchor=\"middle\" font-family=\"sans-serif\" font-size=\"9\" font-style=\"italic\" font-weight=\"normal\" width=\"206\" x=\"614\" y=\"885\">稼働しているElasticsearchに異常がないか調べ、</text><a xlink:href=\"01_05_Diagnostics.ipynb\"><text fill=\"rgb(0,0,0)\" font-anchor=\"middle\" font-family=\"sans-serif\" font-size=\"11\" font-style=\"normal\" font-weight=\"bold\" width=\"206\" x=\"614\" y=\"856\">Elastic Stackの構築：</text><text fill=\"rgb(0,0,0)\" font-anchor=\"middle\" font-family=\"sans-serif\" font-size=\"11\" font-style=\"normal\" font-weight=\"bold\" width=\"206\" x=\"614\" y=\"869\">状態の診断</text></a><rect fill=\"rgb(255,255,255)\" height=\"160\" stroke=\"rgb(0,0,0)\" width=\"210\" x=\"886\" y=\"840\"/>\n",
       "  <text fill=\"rgb(0,0,0)\" font-anchor=\"middle\" font-family=\"sans-serif\" font-size=\"9\" font-style=\"normal\" font-weight=\"normal\" width=\"206\" x=\"888\" y=\"964\">- Data Node追加・障害復旧時の注意点</text><text fill=\"rgb(0,0,0)\" font-anchor=\"middle\" font-family=\"sans-serif\" font-size=\"9\" font-style=\"normal\" font-weight=\"normal\" width=\"206\" x=\"888\" y=\"953\">- クラスタの状態確認</text><text fill=\"rgb(0,0,0)\" font-anchor=\"middle\" font-family=\"sans-serif\" font-size=\"9\" font-style=\"normal\" font-weight=\"normal\" width=\"206\" x=\"888\" y=\"942\">- 追加したホストへのインストール</text><text fill=\"rgb(0,0,0)\" font-anchor=\"middle\" font-family=\"sans-serif\" font-size=\"9\" font-style=\"normal\" font-weight=\"normal\" width=\"206\" x=\"888\" y=\"931\">- インベントリへホストを追加</text><text fill=\"rgb(0,0,0)\" font-anchor=\"middle\" font-family=\"sans-serif\" font-size=\"9\" font-style=\"normal\" font-weight=\"normal\" width=\"206\" x=\"888\" y=\"920\">- サーバの追加生成</text><text fill=\"rgb(0,0,0)\" font-anchor=\"middle\" font-family=\"sans-serif\" font-size=\"9\" font-style=\"normal\" font-weight=\"normal\" width=\"206\" x=\"888\" y=\"909\">- 準備</text><text fill=\"rgb(0,0,0)\" font-anchor=\"middle\" font-family=\"sans-serif\" font-size=\"9\" font-style=\"italic\" font-weight=\"normal\" width=\"206\" x=\"888\" y=\"896\"> クラスタに追加します。</text><text fill=\"rgb(0,0,0)\" font-anchor=\"middle\" font-family=\"sans-serif\" font-size=\"9\" font-style=\"italic\" font-weight=\"normal\" width=\"206\" x=\"888\" y=\"885\">新しいData Nodeを</text><a xlink:href=\"01_50_Add_Data_Node.ipynb\"><text fill=\"rgb(0,0,0)\" font-anchor=\"middle\" font-family=\"sans-serif\" font-size=\"11\" font-style=\"normal\" font-weight=\"bold\" width=\"206\" x=\"888\" y=\"862\">Data Node追加操作</text></a><rect fill=\"rgb(255,255,255)\" height=\"160\" stroke=\"rgb(0,0,0)\" width=\"210\" x=\"886\" y=\"1040\"/>\n",
       "  <text fill=\"rgb(0,0,0)\" font-anchor=\"middle\" font-family=\"sans-serif\" font-size=\"9\" font-style=\"normal\" font-weight=\"normal\" width=\"206\" x=\"888\" y=\"1131\">- Force Merge APIの発行</text><text fill=\"rgb(0,0,0)\" font-anchor=\"middle\" font-family=\"sans-serif\" font-size=\"9\" font-style=\"normal\" font-weight=\"normal\" width=\"206\" x=\"888\" y=\"1120\">- 削除可能なデータ件数の確認</text><text fill=\"rgb(0,0,0)\" font-anchor=\"middle\" font-family=\"sans-serif\" font-size=\"9\" font-style=\"normal\" font-weight=\"normal\" width=\"206\" x=\"888\" y=\"1109\">- 準備</text><text fill=\"rgb(0,0,0)\" font-anchor=\"middle\" font-family=\"sans-serif\" font-size=\"9\" font-style=\"italic\" font-weight=\"normal\" width=\"206\" x=\"888\" y=\"1096\"> Merge操作によってセグメント数を減らします。</text><text fill=\"rgb(0,0,0)\" font-anchor=\"middle\" font-family=\"sans-serif\" font-size=\"9\" font-style=\"italic\" font-weight=\"normal\" width=\"206\" x=\"888\" y=\"1085\">ディスクの使用量を削減するために、強制的な</text><a xlink:href=\"01_51_Force_Merge.ipynb\"><text fill=\"rgb(0,0,0)\" font-anchor=\"middle\" font-family=\"sans-serif\" font-size=\"11\" font-style=\"normal\" font-weight=\"bold\" width=\"206\" x=\"888\" y=\"1062\">Force Merge操作</text></a><rect fill=\"rgb(255,255,255)\" height=\"160\" stroke=\"rgb(0,0,0)\" width=\"210\" x=\"1160\" y=\"1040\"/>\n",
       "  <text fill=\"rgb(0,0,0)\" font-anchor=\"middle\" font-family=\"sans-serif\" font-size=\"9\" font-style=\"normal\" font-weight=\"normal\" width=\"206\" x=\"1162\" y=\"1131\">- リストア</text><text fill=\"rgb(0,0,0)\" font-anchor=\"middle\" font-family=\"sans-serif\" font-size=\"9\" font-style=\"normal\" font-weight=\"normal\" width=\"206\" x=\"1162\" y=\"1120\">- バックアップ</text><text fill=\"rgb(0,0,0)\" font-anchor=\"middle\" font-family=\"sans-serif\" font-size=\"9\" font-style=\"normal\" font-weight=\"normal\" width=\"206\" x=\"1162\" y=\"1109\">- 準備</text><text fill=\"rgb(0,0,0)\" font-anchor=\"middle\" font-family=\"sans-serif\" font-size=\"9\" font-style=\"italic\" font-weight=\"normal\" width=\"206\" x=\"1162\" y=\"1096\"> リストアについて説明します。</text><text fill=\"rgb(0,0,0)\" font-anchor=\"middle\" font-family=\"sans-serif\" font-size=\"9\" font-style=\"italic\" font-weight=\"normal\" width=\"206\" x=\"1162\" y=\"1085\">Data Node上にあるデータのバックアップと</text><a xlink:href=\"01_52_Backup_Restore.ipynb\"><text fill=\"rgb(0,0,0)\" font-anchor=\"middle\" font-family=\"sans-serif\" font-size=\"11\" font-style=\"normal\" font-weight=\"bold\" width=\"206\" x=\"1162\" y=\"1062\">バックアップ＆リストア</text></a><rect fill=\"rgb(255,255,255)\" height=\"160\" stroke=\"rgb(0,0,0)\" width=\"210\" x=\"64\" y=\"1240\"/>\n",
       "  <text fill=\"rgb(0,0,0)\" font-anchor=\"middle\" font-family=\"sans-serif\" font-size=\"9\" font-style=\"normal\" font-weight=\"normal\" width=\"206\" x=\"66\" y=\"1386\">- 実行クエリ解析</text><text fill=\"rgb(0,0,0)\" font-anchor=\"middle\" font-family=\"sans-serif\" font-size=\"9\" font-style=\"normal\" font-weight=\"normal\" width=\"206\" x=\"66\" y=\"1375\">- 大量データ取得時の検索</text><text fill=\"rgb(0,0,0)\" font-anchor=\"middle\" font-family=\"sans-serif\" font-size=\"9\" font-style=\"normal\" font-weight=\"normal\" width=\"206\" x=\"66\" y=\"1364\">- ドキュメントの削除</text><text fill=\"rgb(0,0,0)\" font-anchor=\"middle\" font-family=\"sans-serif\" font-size=\"9\" font-style=\"normal\" font-weight=\"normal\" width=\"206\" x=\"66\" y=\"1353\">- ドキュメントの更新</text><text fill=\"rgb(0,0,0)\" font-anchor=\"middle\" font-family=\"sans-serif\" font-size=\"9\" font-style=\"normal\" font-weight=\"normal\" width=\"206\" x=\"66\" y=\"1342\">- ドキュメントの追加</text><text fill=\"rgb(0,0,0)\" font-anchor=\"middle\" font-family=\"sans-serif\" font-size=\"9\" font-style=\"normal\" font-weight=\"normal\" width=\"206\" x=\"66\" y=\"1331\">- ドキュメントの検索</text><text fill=\"rgb(0,0,0)\" font-anchor=\"middle\" font-family=\"sans-serif\" font-size=\"9\" font-style=\"normal\" font-weight=\"normal\" width=\"206\" x=\"66\" y=\"1320\">- リクエストの基本構文</text><text fill=\"rgb(0,0,0)\" font-anchor=\"middle\" font-family=\"sans-serif\" font-size=\"9\" font-style=\"normal\" font-weight=\"normal\" width=\"206\" x=\"66\" y=\"1309\">- サーチエンジンとしてのElasticsearch</text><text fill=\"rgb(0,0,0)\" font-anchor=\"middle\" font-family=\"sans-serif\" font-size=\"9\" font-style=\"italic\" font-weight=\"normal\" width=\"206\" x=\"66\" y=\"1296\"> 方法について説明します。</text><text fill=\"rgb(0,0,0)\" font-anchor=\"middle\" font-family=\"sans-serif\" font-size=\"9\" font-style=\"italic\" font-weight=\"normal\" width=\"206\" x=\"66\" y=\"1285\">様々な条件で投入したドキュメントを検索する</text><a xlink:href=\"02_Search.ipynb\"><text fill=\"rgb(0,0,0)\" font-anchor=\"middle\" font-family=\"sans-serif\" font-size=\"11\" font-style=\"normal\" font-weight=\"bold\" width=\"206\" x=\"66\" y=\"1256\">サーチエンジンとしての</text><text fill=\"rgb(0,0,0)\" font-anchor=\"middle\" font-family=\"sans-serif\" font-size=\"11\" font-style=\"normal\" font-weight=\"bold\" width=\"206\" x=\"66\" y=\"1269\">利用手順(検索)</text></a><rect fill=\"rgb(255,255,255)\" height=\"160\" stroke=\"rgb(0,0,0)\" width=\"210\" x=\"338\" y=\"1240\"/>\n",
       "  <text fill=\"rgb(0,0,0)\" font-anchor=\"middle\" font-family=\"sans-serif\" font-size=\"9\" font-style=\"normal\" font-weight=\"normal\" width=\"206\" x=\"340\" y=\"1397\">- 実行クエリ解析</text><text fill=\"rgb(0,0,0)\" font-anchor=\"middle\" font-family=\"sans-serif\" font-size=\"9\" font-style=\"normal\" font-weight=\"normal\" width=\"206\" x=\"340\" y=\"1386\">- Matrix Aggregations</text><text fill=\"rgb(0,0,0)\" font-anchor=\"middle\" font-family=\"sans-serif\" font-size=\"9\" font-style=\"normal\" font-weight=\"normal\" width=\"206\" x=\"340\" y=\"1375\">- Pipeline Aggregations</text><text fill=\"rgb(0,0,0)\" font-anchor=\"middle\" font-family=\"sans-serif\" font-size=\"9\" font-style=\"normal\" font-weight=\"normal\" width=\"206\" x=\"340\" y=\"1364\">- Bucket Aggregations</text><text fill=\"rgb(0,0,0)\" font-anchor=\"middle\" font-family=\"sans-serif\" font-size=\"9\" font-style=\"normal\" font-weight=\"normal\" width=\"206\" x=\"340\" y=\"1353\">- Metrics Aggregations</text><text fill=\"rgb(0,0,0)\" font-anchor=\"middle\" font-family=\"sans-serif\" font-size=\"9\" font-style=\"normal\" font-weight=\"normal\" width=\"206\" x=\"340\" y=\"1342\">- レスポンスの基本構文</text><text fill=\"rgb(0,0,0)\" font-anchor=\"middle\" font-family=\"sans-serif\" font-size=\"9\" font-style=\"normal\" font-weight=\"normal\" width=\"206\" x=\"340\" y=\"1331\">- リクエストの基本構文</text><text fill=\"rgb(0,0,0)\" font-anchor=\"middle\" font-family=\"sans-serif\" font-size=\"9\" font-style=\"normal\" font-weight=\"normal\" width=\"206\" x=\"340\" y=\"1320\">- Aggregationとは</text><text fill=\"rgb(0,0,0)\" font-anchor=\"middle\" font-family=\"sans-serif\" font-size=\"9\" font-style=\"normal\" font-weight=\"normal\" width=\"206\" x=\"340\" y=\"1309\">- 準備</text><text fill=\"rgb(0,0,0)\" font-anchor=\"middle\" font-family=\"sans-serif\" font-size=\"9\" font-style=\"italic\" font-weight=\"normal\" width=\"206\" x=\"340\" y=\"1296\"> 方法について説明します。</text><text fill=\"rgb(0,0,0)\" font-anchor=\"middle\" font-family=\"sans-serif\" font-size=\"9\" font-style=\"italic\" font-weight=\"normal\" width=\"206\" x=\"340\" y=\"1285\">検索したドキュメントをさらに集計する</text><a xlink:href=\"03_Aggregation.ipynb\"><text fill=\"rgb(0,0,0)\" font-anchor=\"middle\" font-family=\"sans-serif\" font-size=\"11\" font-style=\"normal\" font-weight=\"bold\" width=\"206\" x=\"340\" y=\"1256\">サーチエンジンとしての</text><text fill=\"rgb(0,0,0)\" font-anchor=\"middle\" font-family=\"sans-serif\" font-size=\"11\" font-style=\"normal\" font-weight=\"bold\" width=\"206\" x=\"340\" y=\"1269\">利用手順(集計)</text></a><rect fill=\"rgb(255,255,255)\" height=\"160\" stroke=\"rgb(0,0,0)\" width=\"210\" x=\"612\" y=\"1240\"/>\n",
       "  <text fill=\"rgb(0,0,0)\" font-anchor=\"middle\" font-family=\"sans-serif\" font-size=\"9\" font-style=\"normal\" font-weight=\"normal\" width=\"206\" x=\"614\" y=\"1375\">- トラブルシューティング</text><text fill=\"rgb(0,0,0)\" font-anchor=\"middle\" font-family=\"sans-serif\" font-size=\"9\" font-style=\"normal\" font-weight=\"normal\" width=\"206\" x=\"614\" y=\"1364\">- Ingest Nodeの利用方法</text><text fill=\"rgb(0,0,0)\" font-anchor=\"middle\" font-family=\"sans-serif\" font-size=\"9\" font-style=\"normal\" font-weight=\"normal\" width=\"206\" x=\"614\" y=\"1353\">- データ加工</text><text fill=\"rgb(0,0,0)\" font-anchor=\"middle\" font-family=\"sans-serif\" font-size=\"9\" font-style=\"normal\" font-weight=\"normal\" width=\"206\" x=\"614\" y=\"1342\">- データフォーマット</text><text fill=\"rgb(0,0,0)\" font-anchor=\"middle\" font-family=\"sans-serif\" font-size=\"9\" font-style=\"normal\" font-weight=\"normal\" width=\"206\" x=\"614\" y=\"1331\">- Logstashの設定</text><text fill=\"rgb(0,0,0)\" font-anchor=\"middle\" font-family=\"sans-serif\" font-size=\"9\" font-style=\"normal\" font-weight=\"normal\" width=\"206\" x=\"614\" y=\"1320\">- Logstashとは</text><text fill=\"rgb(0,0,0)\" font-anchor=\"middle\" font-family=\"sans-serif\" font-size=\"9\" font-style=\"normal\" font-weight=\"normal\" width=\"206\" x=\"614\" y=\"1309\">- 準備</text><text fill=\"rgb(0,0,0)\" font-anchor=\"middle\" font-family=\"sans-serif\" font-size=\"9\" font-style=\"italic\" font-weight=\"normal\" width=\"206\" x=\"614\" y=\"1296\"> データを蓄積する方法について説明します。</text><text fill=\"rgb(0,0,0)\" font-anchor=\"middle\" font-family=\"sans-serif\" font-size=\"9\" font-style=\"italic\" font-weight=\"normal\" width=\"206\" x=\"614\" y=\"1285\">LogstashからElasticsearchへ、様々な形式の</text><a xlink:href=\"04_Store_Data.ipynb\"><text fill=\"rgb(0,0,0)\" font-anchor=\"middle\" font-family=\"sans-serif\" font-size=\"11\" font-style=\"normal\" font-weight=\"bold\" width=\"206\" x=\"614\" y=\"1256\">サーチエンジンとしての</text><text fill=\"rgb(0,0,0)\" font-anchor=\"middle\" font-family=\"sans-serif\" font-size=\"11\" font-style=\"normal\" font-weight=\"bold\" width=\"206\" x=\"614\" y=\"1269\">利用手順(データ蓄積)</text></a><rect fill=\"rgb(255,255,255)\" height=\"160\" stroke=\"rgb(0,0,0)\" width=\"210\" x=\"886\" y=\"1240\"/>\n",
       "  <text fill=\"rgb(0,0,0)\" font-anchor=\"middle\" font-family=\"sans-serif\" font-size=\"9\" font-style=\"normal\" font-weight=\"normal\" width=\"206\" x=\"888\" y=\"1353\">- パラメータ設定</text><text fill=\"rgb(0,0,0)\" font-anchor=\"middle\" font-family=\"sans-serif\" font-size=\"9\" font-style=\"normal\" font-weight=\"normal\" width=\"206\" x=\"888\" y=\"1342\">- reindex APIを使った投入後データの加工方法</text><text fill=\"rgb(0,0,0)\" font-anchor=\"middle\" font-family=\"sans-serif\" font-size=\"9\" font-style=\"normal\" font-weight=\"normal\" width=\"206\" x=\"888\" y=\"1331\">- マッピングの設定方法と注意点</text><text fill=\"rgb(0,0,0)\" font-anchor=\"middle\" font-family=\"sans-serif\" font-size=\"9\" font-style=\"normal\" font-weight=\"normal\" width=\"206\" x=\"888\" y=\"1320\">- マッピング設定</text><text fill=\"rgb(0,0,0)\" font-anchor=\"middle\" font-family=\"sans-serif\" font-size=\"9\" font-style=\"normal\" font-weight=\"normal\" width=\"206\" x=\"888\" y=\"1309\">- 準備</text><text fill=\"rgb(0,0,0)\" font-anchor=\"middle\" font-family=\"sans-serif\" font-size=\"9\" font-style=\"italic\" font-weight=\"normal\" width=\"206\" x=\"888\" y=\"1296\"> reindexの方法について説明します。</text><text fill=\"rgb(0,0,0)\" font-anchor=\"middle\" font-family=\"sans-serif\" font-size=\"9\" font-style=\"italic\" font-weight=\"normal\" width=\"206\" x=\"888\" y=\"1285\">インデックスに与えるマッピング定義の内容や、</text><a xlink:href=\"05_Indexing.ipynb\"><text fill=\"rgb(0,0,0)\" font-anchor=\"middle\" font-family=\"sans-serif\" font-size=\"11\" font-style=\"normal\" font-weight=\"bold\" width=\"206\" x=\"888\" y=\"1256\">サーチエンジンとしての</text><text fill=\"rgb(0,0,0)\" font-anchor=\"middle\" font-family=\"sans-serif\" font-size=\"11\" font-style=\"normal\" font-weight=\"bold\" width=\"206\" x=\"888\" y=\"1269\">利用手順(インデックス設計)</text></a><path d=\"M 169 200 L 169 232\" fill=\"none\" stroke=\"rgb(0,0,0)\"/>\n",
       "  <polygon fill=\"rgb(0,0,0)\" points=\"169,239 165,232 173,232 169,239\" stroke=\"rgb(0,0,0)\"/>\n",
       "  <path d=\"M 169 400 L 169 432\" fill=\"none\" stroke=\"rgb(0,0,0)\"/>\n",
       "  <polygon fill=\"rgb(0,0,0)\" points=\"169,439 165,432 173,432 169,439\" stroke=\"rgb(0,0,0)\"/>\n",
       "  <path d=\"M 169 400 L 169 420\" fill=\"none\" stroke=\"rgb(0,0,0)\" stroke-dasharray=\"2\"/>\n",
       "  <path d=\"M 169 420 L 443 420\" fill=\"none\" stroke=\"rgb(0,0,0)\" stroke-dasharray=\"2\"/>\n",
       "  <path d=\"M 443 420 L 443 432\" fill=\"none\" stroke=\"rgb(0,0,0)\" stroke-dasharray=\"2\"/>\n",
       "  <polygon fill=\"rgb(0,0,0)\" points=\"443,439 439,432 447,432 443,439\" stroke=\"rgb(0,0,0)\"/>\n",
       "  <path d=\"M 169 600 L 169 632\" fill=\"none\" stroke=\"rgb(0,0,0)\"/>\n",
       "  <polygon fill=\"rgb(0,0,0)\" points=\"169,639 165,632 173,632 169,639\" stroke=\"rgb(0,0,0)\"/>\n",
       "  <path d=\"M 443 600 L 443 620\" fill=\"none\" stroke=\"rgb(0,0,0)\" stroke-dasharray=\"2\"/>\n",
       "  <path d=\"M 169 620 L 443 620\" fill=\"none\" stroke=\"rgb(0,0,0)\" stroke-dasharray=\"2\"/>\n",
       "  <path d=\"M 169 620 L 169 632\" fill=\"none\" stroke=\"rgb(0,0,0)\" stroke-dasharray=\"2\"/>\n",
       "  <polygon fill=\"rgb(0,0,0)\" points=\"169,639 165,632 173,632 169,639\" stroke=\"rgb(0,0,0)\"/>\n",
       "  <path d=\"M 169 800 L 169 832\" fill=\"none\" stroke=\"rgb(0,0,0)\"/>\n",
       "  <polygon fill=\"rgb(0,0,0)\" points=\"169,839 165,832 173,832 169,839\" stroke=\"rgb(0,0,0)\"/>\n",
       "  <path d=\"M 274 920 L 604 920\" fill=\"none\" stroke=\"rgb(0,0,0)\"/>\n",
       "  <polygon fill=\"rgb(0,0,0)\" points=\"611,920 604,916 604,924 611,920\" stroke=\"rgb(0,0,0)\"/>\n",
       "  <path d=\"M 169 1000 L 169 1232\" fill=\"none\" stroke=\"rgb(0,0,0)\"/>\n",
       "  <polygon fill=\"rgb(0,0,0)\" points=\"169,1239 165,1232 173,1232 169,1239\" stroke=\"rgb(0,0,0)\"/>\n",
       "  <path d=\"M 169 600 L 169 632\" fill=\"none\" stroke=\"rgb(0,0,0)\"/>\n",
       "  <polygon fill=\"rgb(0,0,0)\" points=\"169,639 165,632 173,632 169,639\" stroke=\"rgb(0,0,0)\"/>\n",
       "  <path d=\"M 443 600 L 443 620\" fill=\"none\" stroke=\"rgb(0,0,0)\" stroke-dasharray=\"2\"/>\n",
       "  <path d=\"M 169 620 L 443 620\" fill=\"none\" stroke=\"rgb(0,0,0)\" stroke-dasharray=\"2\"/>\n",
       "  <path d=\"M 169 620 L 169 632\" fill=\"none\" stroke=\"rgb(0,0,0)\" stroke-dasharray=\"2\"/>\n",
       "  <polygon fill=\"rgb(0,0,0)\" points=\"169,639 165,632 173,632 169,639\" stroke=\"rgb(0,0,0)\"/>\n",
       "  <path d=\"M 169 800 L 169 832\" fill=\"none\" stroke=\"rgb(0,0,0)\"/>\n",
       "  <polygon fill=\"rgb(0,0,0)\" points=\"169,839 165,832 173,832 169,839\" stroke=\"rgb(0,0,0)\"/>\n",
       "  <path d=\"M 274 920 L 604 920\" fill=\"none\" stroke=\"rgb(0,0,0)\"/>\n",
       "  <polygon fill=\"rgb(0,0,0)\" points=\"611,920 604,916 604,924 611,920\" stroke=\"rgb(0,0,0)\"/>\n",
       "  <path d=\"M 169 1000 L 169 1232\" fill=\"none\" stroke=\"rgb(0,0,0)\"/>\n",
       "  <polygon fill=\"rgb(0,0,0)\" points=\"169,1239 165,1232 173,1232 169,1239\" stroke=\"rgb(0,0,0)\"/>\n",
       "  <path d=\"M 822 920 L 878 920\" fill=\"none\" stroke=\"rgb(0,0,0)\"/>\n",
       "  <polygon fill=\"rgb(0,0,0)\" points=\"885,920 878,916 878,924 885,920\" stroke=\"rgb(0,0,0)\"/>\n",
       "  <path d=\"M 1096 920 L 1112 920\" fill=\"none\" stroke=\"rgb(0,0,0)\"/>\n",
       "  <path d=\"M 1112 920 L 1112 425\" fill=\"none\" stroke=\"rgb(0,0,0)\"/>\n",
       "  <path d=\"M 169 425 L 439 425\" fill=\"none\" stroke=\"rgb(0,0,0)\"/>\n",
       "  <path d=\"M 439.0 425.0 A4,4 0 0 1 447.0 425.0\" fill=\"none\" stroke=\"rgb(0,0,0)\"/>\n",
       "  <path d=\"M 447 425 L 1112 425\" fill=\"none\" stroke=\"rgb(0,0,0)\"/>\n",
       "  <path d=\"M 169 425 L 169 432\" fill=\"none\" stroke=\"rgb(0,0,0)\"/>\n",
       "  <polygon fill=\"rgb(0,0,0)\" points=\"169,439 165,432 173,432 169,439\" stroke=\"rgb(0,0,0)\"/>\n",
       "  <path d=\"M 991 1000 L 991 1040\" fill=\"none\" stroke=\"rgb(0,0,0)\" stroke-dasharray=\"2\"/>\n",
       "  <path d=\"M 991 1000 L 991 1020\" fill=\"none\" stroke=\"rgb(0,0,0)\" stroke-dasharray=\"2\"/>\n",
       "  <path d=\"M 991 1020 L 1265 1020\" fill=\"none\" stroke=\"rgb(0,0,0)\" stroke-dasharray=\"2\"/>\n",
       "  <path d=\"M 1265 1020 L 1265 1040\" fill=\"none\" stroke=\"rgb(0,0,0)\" stroke-dasharray=\"2\"/>\n",
       "  <path d=\"M 169 200 L 169 232\" fill=\"none\" stroke=\"rgb(0,0,0)\"/>\n",
       "  <polygon fill=\"rgb(0,0,0)\" points=\"169,239 165,232 173,232 169,239\" stroke=\"rgb(0,0,0)\"/>\n",
       "  <path d=\"M 169 400 L 169 432\" fill=\"none\" stroke=\"rgb(0,0,0)\"/>\n",
       "  <polygon fill=\"rgb(0,0,0)\" points=\"169,439 165,432 173,432 169,439\" stroke=\"rgb(0,0,0)\"/>\n",
       "  <path d=\"M 169 400 L 169 420\" fill=\"none\" stroke=\"rgb(0,0,0)\" stroke-dasharray=\"2\"/>\n",
       "  <path d=\"M 169 420 L 443 420\" fill=\"none\" stroke=\"rgb(0,0,0)\" stroke-dasharray=\"2\"/>\n",
       "  <path d=\"M 443 420 L 443 432\" fill=\"none\" stroke=\"rgb(0,0,0)\" stroke-dasharray=\"2\"/>\n",
       "  <polygon fill=\"rgb(0,0,0)\" points=\"443,439 439,432 447,432 443,439\" stroke=\"rgb(0,0,0)\"/>\n",
       "  <path d=\"M 169 600 L 169 632\" fill=\"none\" stroke=\"rgb(0,0,0)\"/>\n",
       "  <polygon fill=\"rgb(0,0,0)\" points=\"169,639 165,632 173,632 169,639\" stroke=\"rgb(0,0,0)\"/>\n",
       "  <path d=\"M 443 600 L 443 620\" fill=\"none\" stroke=\"rgb(0,0,0)\" stroke-dasharray=\"2\"/>\n",
       "  <path d=\"M 169 620 L 443 620\" fill=\"none\" stroke=\"rgb(0,0,0)\" stroke-dasharray=\"2\"/>\n",
       "  <path d=\"M 169 620 L 169 632\" fill=\"none\" stroke=\"rgb(0,0,0)\" stroke-dasharray=\"2\"/>\n",
       "  <polygon fill=\"rgb(0,0,0)\" points=\"169,639 165,632 173,632 169,639\" stroke=\"rgb(0,0,0)\"/>\n",
       "  <path d=\"M 169 800 L 169 832\" fill=\"none\" stroke=\"rgb(0,0,0)\"/>\n",
       "  <polygon fill=\"rgb(0,0,0)\" points=\"169,839 165,832 173,832 169,839\" stroke=\"rgb(0,0,0)\"/>\n",
       "  <path d=\"M 274 920 L 604 920\" fill=\"none\" stroke=\"rgb(0,0,0)\"/>\n",
       "  <polygon fill=\"rgb(0,0,0)\" points=\"611,920 604,916 604,924 611,920\" stroke=\"rgb(0,0,0)\"/>\n",
       "  <path d=\"M 169 1000 L 169 1232\" fill=\"none\" stroke=\"rgb(0,0,0)\"/>\n",
       "  <polygon fill=\"rgb(0,0,0)\" points=\"169,1239 165,1232 173,1232 169,1239\" stroke=\"rgb(0,0,0)\"/>\n",
       "  <path d=\"M 169 600 L 169 632\" fill=\"none\" stroke=\"rgb(0,0,0)\"/>\n",
       "  <polygon fill=\"rgb(0,0,0)\" points=\"169,639 165,632 173,632 169,639\" stroke=\"rgb(0,0,0)\"/>\n",
       "  <path d=\"M 443 600 L 443 620\" fill=\"none\" stroke=\"rgb(0,0,0)\" stroke-dasharray=\"2\"/>\n",
       "  <path d=\"M 169 620 L 443 620\" fill=\"none\" stroke=\"rgb(0,0,0)\" stroke-dasharray=\"2\"/>\n",
       "  <path d=\"M 169 620 L 169 632\" fill=\"none\" stroke=\"rgb(0,0,0)\" stroke-dasharray=\"2\"/>\n",
       "  <polygon fill=\"rgb(0,0,0)\" points=\"169,639 165,632 173,632 169,639\" stroke=\"rgb(0,0,0)\"/>\n",
       "  <path d=\"M 169 800 L 169 832\" fill=\"none\" stroke=\"rgb(0,0,0)\"/>\n",
       "  <polygon fill=\"rgb(0,0,0)\" points=\"169,839 165,832 173,832 169,839\" stroke=\"rgb(0,0,0)\"/>\n",
       "  <path d=\"M 274 920 L 604 920\" fill=\"none\" stroke=\"rgb(0,0,0)\"/>\n",
       "  <polygon fill=\"rgb(0,0,0)\" points=\"611,920 604,916 604,924 611,920\" stroke=\"rgb(0,0,0)\"/>\n",
       "  <path d=\"M 169 1000 L 169 1232\" fill=\"none\" stroke=\"rgb(0,0,0)\"/>\n",
       "  <polygon fill=\"rgb(0,0,0)\" points=\"169,1239 165,1232 173,1232 169,1239\" stroke=\"rgb(0,0,0)\"/>\n",
       "  <path d=\"M 822 920 L 878 920\" fill=\"none\" stroke=\"rgb(0,0,0)\"/>\n",
       "  <polygon fill=\"rgb(0,0,0)\" points=\"885,920 878,916 878,924 885,920\" stroke=\"rgb(0,0,0)\"/>\n",
       "  <path d=\"M 1096 920 L 1112 920\" fill=\"none\" stroke=\"rgb(0,0,0)\"/>\n",
       "  <path d=\"M 1112 920 L 1112 425\" fill=\"none\" stroke=\"rgb(0,0,0)\"/>\n",
       "  <path d=\"M 169 425 L 439 425\" fill=\"none\" stroke=\"rgb(0,0,0)\"/>\n",
       "  <path d=\"M 439.0 425.0 A4,4 0 0 1 447.0 425.0\" fill=\"none\" stroke=\"rgb(0,0,0)\"/>\n",
       "  <path d=\"M 447 425 L 1112 425\" fill=\"none\" stroke=\"rgb(0,0,0)\"/>\n",
       "  <path d=\"M 169 425 L 169 432\" fill=\"none\" stroke=\"rgb(0,0,0)\"/>\n",
       "  <polygon fill=\"rgb(0,0,0)\" points=\"169,439 165,432 173,432 169,439\" stroke=\"rgb(0,0,0)\"/>\n",
       "  <path d=\"M 991 1000 L 991 1040\" fill=\"none\" stroke=\"rgb(0,0,0)\" stroke-dasharray=\"2\"/>\n",
       "  <path d=\"M 991 1000 L 991 1020\" fill=\"none\" stroke=\"rgb(0,0,0)\" stroke-dasharray=\"2\"/>\n",
       "  <path d=\"M 991 1020 L 1265 1020\" fill=\"none\" stroke=\"rgb(0,0,0)\" stroke-dasharray=\"2\"/>\n",
       "  <path d=\"M 1265 1020 L 1265 1040\" fill=\"none\" stroke=\"rgb(0,0,0)\" stroke-dasharray=\"2\"/>\n",
       "  <path d=\"M 274 1320 L 330 1320\" fill=\"none\" stroke=\"rgb(0,0,0)\"/>\n",
       "  <polygon fill=\"rgb(0,0,0)\" points=\"337,1320 330,1316 330,1324 337,1320\" stroke=\"rgb(0,0,0)\"/>\n",
       "  <path d=\"M 548 1320 L 604 1320\" fill=\"none\" stroke=\"rgb(0,0,0)\"/>\n",
       "  <polygon fill=\"rgb(0,0,0)\" points=\"611,1320 604,1316 604,1324 611,1320\" stroke=\"rgb(0,0,0)\"/>\n",
       "  <path d=\"M 822 1320 L 878 1320\" fill=\"none\" stroke=\"rgb(0,0,0)\"/>\n",
       "  <polygon fill=\"rgb(0,0,0)\" points=\"885,1320 878,1316 878,1324 885,1320\" stroke=\"rgb(0,0,0)\"/>\n",
       "  <text fill=\"rgb(0,0,0)\" font-family=\"sans-serif\" font-size=\"11\" font-style=\"normal\" font-weight=\"normal\" text-anchor=\"middle\" textLength=\"54\" x=\"717\" y=\"36\">運用者向け</text>\n",
       "  <text fill=\"rgb(0,0,0)\" font-family=\"sans-serif\" font-size=\"11\" font-style=\"normal\" font-weight=\"normal\" text-anchor=\"middle\" textLength=\"22\" x=\"306\" y=\"436\">構築</text>\n",
       "  <text fill=\"rgb(0,0,0)\" font-family=\"sans-serif\" font-size=\"11\" font-style=\"normal\" font-weight=\"normal\" text-anchor=\"middle\" textLength=\"50\" x=\"717\" y=\"836\">確認・診断</text>\n",
       "  <text fill=\"rgb(0,0,0)\" font-family=\"sans-serif\" font-size=\"11\" font-style=\"normal\" font-weight=\"normal\" text-anchor=\"middle\" textLength=\"22\" x=\"1128\" y=\"836\">改善</text>\n",
       "  <text fill=\"rgb(0,0,0)\" font-family=\"sans-serif\" font-size=\"11\" font-style=\"normal\" font-weight=\"normal\" text-anchor=\"middle\" textLength=\"54\" x=\"580\" y=\"1236\">利用者向け</text>\n",
       "</svg>"
      ],
      "text/plain": [
       "<IPython.core.display.SVG object>"
      ]
     },
     "execution_count": 7,
     "metadata": {},
     "output_type": "execute_result"
    }
   ],
   "source": [
    "import re\n",
    "from lxml import etree\n",
    "%run scripts/generate-diagram.py\n",
    "\n",
    "# Notebookの一覧列挙\n",
    "ref_notebooks = filter(lambda m: m, map(lambda n: re.match(r'([0-9][0-9a-z]+_.*)\\.ipynb', n), os.listdir('.')))\n",
    "ref_notebooks = sorted(ref_notebooks, key=lambda m: m.group(1))\n",
    "notebook_headers = [(m.group(1), parse_headers(m.group(0))) for m in ref_notebooks]\n",
    "\n",
    "# 雛形の読み込み\n",
    "tree = etree.parse(os.path.join(work_dir, 'notebooks.svg'))\n",
    "        \n",
    "# 雛形をNotebook情報で置き換え\n",
    "for elem in list(tree.findall('{http://www.w3.org/2000/svg}text')):\n",
    "    if elem.getprevious() is not None and elem.getprevious().tag == '{http://www.w3.org/2000/svg}rect' \\\n",
    "       and len(elem.text) > 0:\n",
    "        target_headers = [(name, h) for name, h in notebook_headers if name.startswith(elem.text)]\n",
    "        rect_elem = elem.getprevious()\n",
    "        if len(target_headers) > 0:\n",
    "            rect = ((int(rect_elem.attrib['x']), int(rect_elem.attrib['y'])), (int(rect_elem.attrib['width']),\n",
    "                                                                               int(rect_elem.attrib['height'])))\n",
    "        \n",
    "            childpos = elem.getparent().index(elem)\n",
    "            parent_elem = elem.getparent()\n",
    "            remove_texts(elem)\n",
    "            insert_title(parent_elem, childpos, rect, target_headers[0][1][0][0], target_headers[0][0] + '.ipynb')            \n",
    "            insert_summary(parent_elem, childpos, rect, target_headers[0][1][0][1])\n",
    "            insert_headers(parent_elem, childpos, rect, target_headers[0][1][1:])\n",
    "        elif elem.text in disabled:\n",
    "            rect_elem.attrib['fill'] = 'rgb(192, 192, 192)'\n",
    "            rect = ((int(rect_elem.attrib['x']), int(rect_elem.attrib['y'])), (int(rect_elem.attrib['width']),\n",
    "                                                                               int(rect_elem.attrib['height'])))\n",
    "        \n",
    "            childpos = elem.getparent().index(elem)\n",
    "            parent_elem = elem.getparent()\n",
    "            remove_texts(elem)\n",
    "            insert_title(parent_elem, childpos, rect, disabled[elem.text][0])\n",
    "            insert_summary(parent_elem, childpos, rect, u'本デモ環境では利用できません')\n",
    "            insert_headers(parent_elem, childpos, rect, disabled[elem.text][1])\n",
    "        else:\n",
    "            print(elem.text)\n",
    "\n",
    "# SVGの保存・表示\n",
    "with open('images/notebooks-filled.svg', 'w') as f:\n",
    "    f.write(etree.tostring(tree, method='xml', pretty_print=True))\n",
    "\n",
    "SVG(filename='images/notebooks-filled.svg')"
   ]
  },
  {
   "cell_type": "markdown",
   "metadata": {
    "lc_cell_meme": {
     "current": "0d37e028-1fd2-11e7-b31a-0242ac12000d",
     "next": "f11e7dfc-13c4-11e7-b31a-0242ac12000d",
     "previous": "f64e550a-13c3-11e7-b31a-0242ac12000d"
    }
   },
   "source": [
    "# 後始末\n",
    "\n",
    "一時ファイルを削除します。"
   ]
  },
  {
   "cell_type": "code",
   "execution_count": 8,
   "metadata": {
    "collapsed": true,
    "editable": false,
    "lc_cell_meme": {
     "current": "f11e7dfc-13c4-11e7-b31a-0242ac12000d",
     "history": [
      {
       "current": "f11e7dfc-13c4-11e7-b31a-0242ac12000d",
       "next": null,
       "previous": "f64e6540-13c3-11e7-b31a-0242ac12000d"
      }
     ],
     "next": "0d37e3f2-1fd2-11e7-b31a-0242ac12000d",
     "previous": "0d37e028-1fd2-11e7-b31a-0242ac12000d"
    },
    "run_control": {
     "frozen": true
    }
   },
   "outputs": [],
   "source": [
    "!rm -fr {work_dir}"
   ]
  },
  {
   "cell_type": "code",
   "execution_count": null,
   "metadata": {
    "collapsed": true,
    "editable": false,
    "lc_cell_meme": {
     "current": "0d37e3f2-1fd2-11e7-b31a-0242ac12000d",
     "next": null,
     "previous": "f11e7dfc-13c4-11e7-b31a-0242ac12000d"
    },
    "run_control": {
     "frozen": true
    }
   },
   "outputs": [],
   "source": []
  }
 ],
 "metadata": {
  "anaconda-cloud": {},
  "kernelspec": {
   "display_name": "Python 2 (LC_wrapper)",
   "language": "python",
   "name": "python2-wrapper"
  },
  "language_info": {
   "file_extension": ".py",
   "mimetype": "text/x-python",
   "name": "python",
   "nbconvert_exporter": "python",
   "pygments_lexer": "ipython2",
   "version": "2.7.9"
  },
  "lc_notebook_meme": {
   "current": "f64e4038-13c3-11e7-b31a-0242ac12000d"
  },
  "toc": {
   "colors": {
    "hover_highlight": "#DAA520",
    "navigate_num": "#000000",
    "navigate_text": "#333333",
    "running_highlight": "#FF0000",
    "selected_highlight": "#FFD700",
    "sidebar_border": "#EEEEEE",
    "wrapper_background": "#FFFFFF"
   },
   "moveMenuLeft": true,
   "nav_menu": {
    "height": "191px",
    "width": "252px"
   },
   "navigate_menu": true,
   "number_sections": true,
   "sideBar": true,
   "threshold": 4,
   "toc_cell": false,
   "toc_position": {
    "height": "823px",
    "left": "0px",
    "right": "1455px",
    "top": "106px",
    "width": "212px"
   },
   "toc_section_display": "block",
   "toc_window_display": true,
   "widenNotebook": false
  }
 },
 "nbformat": 4,
 "nbformat_minor": 1
}
