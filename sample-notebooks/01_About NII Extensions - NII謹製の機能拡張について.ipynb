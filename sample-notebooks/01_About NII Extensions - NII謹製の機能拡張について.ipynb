{
 "cells": [
  {
   "cell_type": "markdown",
   "metadata": {
    "lc_cell_meme": {
     "current": "88c7719a-de54-11e7-b331-0242ac110002",
     "history": [
      {
       "current": "88c7719a-de54-11e7-b331-0242ac110002",
       "next": "88c7735c-de54-11e7-b331-0242ac110002",
       "previous": null
      },
      {
       "current": "88c7719a-de54-11e7-b331-0242ac110002",
       "next": "d155c66a-79d0-11e8-853f-0242ac110002",
       "previous": null
      }
     ],
     "next": "88c7735c-de54-11e7-b331-0242ac110002",
     "previous": null
    }
   },
   "source": [
    "# Literate Computing for Reproducible Infrastructure\n",
    "---\n",
    "\n",
    "<img src=\"./images/literate_computing-logo.png\" alt='LC_LOGO' align='left'/>\n",
    "NII Cloud Operation is a team supporting researchers and teachers in our institute.  To make users more productive our team serves many roles, which are maintaining private OpenStack infrastructure, setting up various software stacks, consulting their configuration and optimization, and managing almost everything.<br>\n",
    "\n",
    "**Literate Computing for Reproducible Infrastrucre** is our project, which seeks to utilize Jupyter Notebook in operational engineering area for seeking ..<br>\n",
    "\n",
    "計算機インフラの御守では種々雑多なドキュメンテーションが不可欠です。日々の作業で証跡を残す、手順を整理して共有・再利用する、ユーザマニュアルや教材を整備する.. 国立情報学研究所（NII）のクラウド運用担当では、これらをシームレスに記述・蓄積する方法を研究しています。\n",
    "\n",
    "表題の *Literate Computing for Reproducible Infrastructure* は、そのような取り組みのプロジェクト名です。プロジェクトでは [Jupyter Notebook]( http://jupyter.org ) を用いてドキュメンテーションを行うことで、運用作業の信頼性向上、手順やノウハウの蓄積・流通が容易になることを目指しています。\n",
    "\n",
    "インフラ運用の場面において **機械的に再現できる、人が読み解ける手順** を手段として、過度に自動化に依存することのない、レジリエントな **人間中心の機械化** をめざしています。そこでは、*作業を効率化しつつもブラックボックス化せず、作業に対する理解をチーム内でコミュニケーションできる*、また、目的と手段の整合性や限界を理解し議論・評価できると言った場を維持することで、*ノウハウの移転・共有を促し運用者のスキル向上とエンジニアリングチームの再生産をはかる* ことを重視しています。\n",
    "\n",
    "多くの現場では、管理サーバにログインしコンソール上で作業を行う、作業内容や証跡はWiki等に随時転記して共有する.. といった形態が一般的と思います。これに対しLC4RIでは運用管理サーバ上にNotebookサーバを配備し、作業単位毎にNotebookを作成、作業内容やメモを記述しながら随時実行するといった作業形態を推奨しています。作業の証跡を齟齬なく記録する仕組み、過去の作業記録を参照して機械的に再現あるいは流用できる仕組み、機械的に実行できるとともに人が読み解き補完することもできるNotebook手順を整備しています。\n",
    "\n",
    "プロジェクトの成果物は GitHub [NII Cloud Operation Team]( https://github.com/NII-cloud-operation )で公開しています。\n",
    "Hadoop や Elastic Search など学術機関でポピュラーなインフラにに関する構築や **運用の手順を整理したもの**、また、構築や運用の手順を記述するために便利な **Jupyterの機能拡張** を掲載しています。\n",
    "\n",
    "---\n",
    "\n",
    "This notebook demonstrates our project's extensions for Literate Computing for Reproducible Infrastructure. <br>\n",
    "この Notebook では拡張した機能の概要を紹介します。 \n",
    "\n",
    "(2019.06.20)"
   ]
  },
  {
   "cell_type": "markdown",
   "metadata": {
    "lc_cell_meme": {
     "current": "88c7735c-de54-11e7-b331-0242ac110002",
     "history": [
      {
       "current": "88c7735c-de54-11e7-b331-0242ac110002",
       "next": "88c774d8-de54-11e7-b331-0242ac110002",
       "previous": "88c7719a-de54-11e7-b331-0242ac110002"
      },
      {
       "current": "88c7735c-de54-11e7-b331-0242ac110002",
       "next": "88c774d8-de54-11e7-b331-0242ac110002",
       "previous": "d155c66a-79d0-11e8-853f-0242ac110002"
      }
     ],
     "next": "88c774d8-de54-11e7-b331-0242ac110002",
     "previous": "88c7719a-de54-11e7-b331-0242ac110002"
    }
   },
   "source": [
    "## Jupyter-run_through <span lang=\"ja\">- まとめ実行機能</span>\n",
    "\n",
    "Usage:\n",
    "* **Freeze**: Preventing miss-operation; once a code cell has been executed, it freezes against unintended execution and modification. Note that the freeze is implemented as different state from standard cell lock's. The freeze only make an executed cell un-editable temporally.<br>\n",
    "//誤操作を防ぐ; いったんセルを実行すると\"凍結\"され解凍しないと再実行できない。また、セルの編集をロックすることもできる。\n",
    "\n",
    "* **Bricks**: Giving a summarized perspective for execution control; embedded \"cells\" underneath are represented as bricks and be able to run through altogether with a click, while markdowns and codes are collapsed using <span class='fa fa-fw fa-external-link'></span>[Collapsible Headings](https://github.com/ipython-contrib/jupyter_contrib_nbextensions/tree/master/src/jupyter_contrib_nbextensions/nbextensions/collapsible_headings)<br>\n",
    "//まとめ実行; マークダウンを畳み込んだ際に、畳み込まれた範囲にあるすべての\"Cell\"を一連の\"brick\"として表示する。一連の\"brick\"を1-clickでまとめて実行できる。\n",
    "\n",
    "* **Run_through**: Execute collapsed code cells as a whole; Simply reuse workflows without paying much attention to details, whithout needs for arrenge nor customization. Run throughout the notebook as an executable checklist, then verify error if it occurs.<br>\n",
    "//定型的な作業をまとめて実行する; 詳細は気にせずNotebook形式の手順を気軽に利用, アレンジやカスタマイズはあまり必要がない。まとめて実行してエラーが発生した時だけ詳細を確認したい; 実行可能なチェックリストとして用いる。\n",
    "\n",
    "<span class='fa fa-fw fa-external-link'></span> [GitHub: Jupyter-LC_run_through](https://github.com/NII-cloud-operation/Jupyter-LC_run_through)\n",
    "\n",
    "<div style=\"width:30%;right\">\n",
    "\n",
    "[![DEMO LC_run_through](http://img.youtube.com/vi/pkzE_nwtEKQ/0.jpg)<span class='fa fa-fw fa-youtube'></span>LC_run_through](https://www.youtube.com/watch?v=pkzE_nwtEKQ)</div>\n",
    "\n",
    "\n",
    "---\n",
    "\n",
    "**How-to: run_through** <br>\n",
    "The <span class='fa fa-fw fa-caret-right' style='color:#a0a0a0;'></span> on the collapsed headding indicates there are collapsed markdowns and cells.  With clicking <span class='fa fa-fw fa-caret-right' style='color:#a0a0a0;'></span> and <span class='fa fa-fw fa-caret-down' style='color:#a0a0a0;'></span> switch the expand/collapse.<br clear=\"right\">\n",
    "\n",
    "<img src=\"./images/run_through.png\" align=\"right\" width=30% />When headings are collapsed, executable cells underneath are represented as blicks. Each blick <span class='fa fa-fw fa-square' style='color:#cccccc;'></span> represents its collesponding cell's status, the gray means 'not executed yet'. \n",
    "Click <span class='fa fa-fw fa-play-circle'></span> runs through cells altogeather.<br clear=\"right\">\n",
    "\n",
    "<img src=\"./images/run_through_OK.png\" width=30% align=right /> Normally executed and completed cells truned to light green <span class='fa fa-fw fa-square' style='color:#88ff88;'></span>. In addition completed cells are \"frozen\" <span class='fa fa-fw fa-snowflake-o' style='background-color:cornflowerblue;color:white;'></span>, that would not be executed again until \"unfrozen\" via toolbar <span class='fa fa-fw fa-snowflake-o'style='color:gray;'></span>.<br clear=\"right\">\n",
    "\n",
    "<img src=\"./images/run_through_NG.png\" width=30% align=right /> In the case of error cells' execution is aborted and the blick turned to light coral<span class='fa fa-fw fa-square' style='color:#ff8888;'></span>.  You can examine the error by expanding folded cells with <span class='fa fa-fw fa-caret-right'></span>.\n",
    "\n",
    "\n",
    "**まとめ実行機能** <br>\n",
    "表題の左側にある <span class='fa fa-fw fa-caret-right' style='color:#a0a0a0;'></span> は、詳細な手順が畳み込まれていることを示しています。  <span class='fa fa-fw fa-caret-right' style='color:#a0a0a0;'></span>  をクリックすると、 <span class='fa fa-fw fa-caret-down' style='color:#a0a0a0;'></span>  に変化し、畳み込まれている内容を表示することができます。この畳み込み表示機能は [\"Collapsible Headings\"](https://github.com/ipython-contrib/jupyter_contrib_nbextensions/tree/master/src/jupyter_contrib_nbextensions/nbextensions/collapsible_headings)を利用しています。オリジナルの Collapsible Headings ではマークダウンの階層を畳み込むだけだったのですが、、\n",
    "<br><br>\n",
    "<img src=\"./images/run_through.png\" align=\"right\" width=30% /> まとめ実行機能では、畳みこまれている内容に「手順」（実行可能なセル）が含まれていると右のように正方形の箱 <span class='fa fa-fw fa-square' style='color:#cccccc;'></span>として可視化されます。箱の数は畳み込まれている手順のステップ数を示しています。\n",
    "また、表示領域右上の<span class='fa fa-fw fa-play-circle'></span> を押すと、配下の手順をまとめて実行することができます。<br clear=\"right\">\n",
    "\n",
    "<img src=\"./images/run_through_OK.png\" width=30% align=right /> すべてのステップが終了すると右のように箱の表示が変化します。実行が正常に完了したステップは薄緑 <span class='fa fa-fw fa-square' style='color:#88ff88;'></span>に表示されます。また、完了したステップは、再度 まとめ実行ボタン<span class='fa fa-fw fa-play-circle'></span>をクリックしても実行されないよう凍結されます。 箱内側のスノーフレーク &ldquo;<span class='fa fa-fw fa-snowflake-o' style='background-color:#cccccc;color:white;'></span>&rdquo; \n",
    "は、セルが凍結状態 <span class='fa fa-fw fa-snowflake-o' style='background-color:#88ff88;color:white;'></span><span class='fa fa-fw fa-snowflake-o' style='background-color:cornflowerblue;color:white;'></span>であることを示しています。<br clear=\"right\">\n",
    "\n",
    "\n",
    "<img src=\"./images/run_through_NG.png\" width=30% align=right /> 途中でエラーが発生した場合は当該のステップが薄紅<span class='fa fa-fw fa-square' style='color:#ff8888;'></span>に表示されます。畳み込み表示を <span class='fa fa-fw fa-caret-right' style='color:#a0a0a0;'></span> をクリックし解除すると、それぞれのステップの実行内容を確認することができます。<br clear=\"right\">\n",
    "\n",
    "<img src=\"./images/run_through_Frozen2.png\" width=20% align=right /> **セルの凍結** <br>\n",
    "実行が正常に終わったセルは凍結 <span class='fa fa-fw fa-snowflake-o' style='background-color:cornflowerblue;color:white;'></span> されます。凍結状態のセルはそのままでは実行することも、修正することもできません。凍結状態を解除するにはツールから<span class='fa fa-fw fa-snowflake-o' style='color:gray;'></span>をクリックします。\n",
    "凍結機能は、実行済みの範囲を識別するとともに、偶発的な重複実行を防止するためのものです。また、まとめ実行ボタン<span class='fa fa-fw fa-play-circle'></span>は一定期間、チャタリングを防止するように制御しています。<br>\n",
    "エラーのセル<span class='fa fa-fw fa-square' style='color:#ff8888;'></span>は内容を修正して再実行することができます。実行が終わって凍結状態 <span class='fa fa-fw fa-snowflake-o' style='background-color:cornflowerblue;color:white;'></span> のセルはスキップされるので、エラーを修正した後、まとめ実行ボタン<span class='fa fa-fw fa-play-circle'></span>を再度押すことで作業を継続できます。修正したセル<span class='fa fa-fw fa-square' style='color:#ff8888;'></span>（未実行）と継続する未実行のセル<span class='fa fa-fw fa-square' style='color:#cccccc;'></span>が実行されます。<br>\n",
    "<br>\n",
    "エラーの原因が当該のセル単体ではなく、遡ったセルの実行結果に依存している場合は、必要な範囲まで凍結を解除することになります。まとめて凍結を解除するには、ツールから<span class='fa fa-fw fa-snowflake-o' style='color:gray;'></span><span class='fa fa-fw fa-fast-forward'></span>、<span class='fa fa-fw fa-snowflake-o' style='color:gray;'></span><span class='fa fa-fw fa-forward'></span>を利用することができます。\n",
    "<br clear=\"right\">\n",
    "\n"
   ]
  },
  {
   "cell_type": "markdown",
   "metadata": {
    "heading_collapsed": true,
    "lc_cell_meme": {
     "current": "88c774d8-de54-11e7-b331-0242ac110002",
     "history": [],
     "next": "88c77640-de54-11e7-b331-0242ac110002",
     "previous": "88c7735c-de54-11e7-b331-0242ac110002"
    }
   },
   "source": [
    "### Example\n",
    "\n",
    "**Run_through:**  Try &ldquo;<span class='fa fa-fw fa-caret-right' style='color:#a0a0a0;'></span>&rdquo;, which will collapse cells, then, &ldquo;<span class='fa fa-fw fa-play-circle'></span>&rdquo; will run through four bricks.<br>\n",
    "<br>\n",
    "<span class='fa fa-fw fa-square' style='color:#88ff88;'></span>: The light green bricks indicate successfull completion.<br>\n",
    "<span class='fa fa-fw fa-square' style='color:#ff8888;'></span>: The third light coral brick indicates some error.<br>\n",
    "<br>\n",
    "<span class='fa fa-fw fa-snowflake-o' style='background-color:#cccccc;color:white;'></span><span class='fa fa-fw fa-snowflake-o' style='background-color:#88ff88;color:white;'></span><span class='fa fa-fw fa-snowflake-o' style='background-color:cornflowerblue;color:white;'></span>: The snow flake indicates those bricks are frozen.  Executions and edits are prohibitted.  The &ldquo;<span class='fa fa-fw fa-snowflake-o' style='color:gray;'></span>&rdquo; will unfrozen bricks.<br>\n",
    "The succeeded cells <span class='fa fa-fw fa-square' style='color:#88ff88;'></span> will be automatically frozen in order to prevent accidental duplicate operations.  Error cells\n",
    "<span class='fa fa-fw fa-square' style='color:#ff8888;'></span> remain unfrozen, then you can fix errors and re-execute the cell.  You can continue execution on following not-yet-executed cells <span class='fa fa-fw fa-square' style='color:#cccccc;'></span>.\n",
    "\n",
    "\n",
    "**畳み込んだステップのまとめ実行**: 表題の横に <span class='fa fa-fw fa-caret-down' style='color:#a0a0a0;'></span> が表示されている場合はクリックしてセルを畳み込んでください。畳み込まれた状態では <span class='fa fa-fw fa-caret-right' style='color:#a0a0a0;'></span>に変化します。<br>\n",
    "この例では <span class='fa fa-fw fa-play-circle'></span> をクリックすると４ステップをまとめ実行します。実行が終わったステップは薄緑の表示<span class='fa fa-fw fa-square' style='color:#88ff88;'></span>となります。以下では３番目がエラーとなり薄紅表示<span class='fa fa-fw fa-square' style='color:#ff8888;'></span>され、実行が中断します。<br>\n",
    "<span class='fa fa-fw fa-caret-right' style='color:#a0a0a0;'></span> をクリックしてエラーの内容を確認します。\n",
    "エラーのセルを修正すると、続きから実行することができます。<br>\n",
    "<br>\n",
    "凍結状態のセルは実行することも、修正することもできません。再度実行する場合にはウインドウ上部の<span class='fa fa-fw fa-snowflake-o' style='color:gray;'></span>をクリックすることで凍結を解除します。<br>"
   ]
  },
  {
   "cell_type": "code",
   "execution_count": null,
   "metadata": {
    "hidden": true,
    "lc_cell_meme": {
     "current": "88c77640-de54-11e7-b331-0242ac110002",
     "history": [],
     "next": "88c7779e-de54-11e7-b331-0242ac110002",
     "previous": "88c774d8-de54-11e7-b331-0242ac110002"
    }
   },
   "outputs": [],
   "source": [
    "! echo \"This is 1st step\" > foo; cat foo"
   ]
  },
  {
   "cell_type": "code",
   "execution_count": null,
   "metadata": {
    "hidden": true,
    "lc_cell_meme": {
     "current": "88c7779e-de54-11e7-b331-0242ac110002",
     "history": [],
     "next": "88c778fc-de54-11e7-b331-0242ac110002",
     "previous": "88c77640-de54-11e7-b331-0242ac110002"
    },
    "scrolled": true
   },
   "outputs": [],
   "source": [
    "! echo \".. 2nd step...\" >> foo && cat foo"
   ]
  },
  {
   "cell_type": "code",
   "execution_count": null,
   "metadata": {
    "hidden": true,
    "lc_cell_meme": {
     "current": "88c778fc-de54-11e7-b331-0242ac110002",
     "history": [],
     "next": "88c77a50-de54-11e7-b331-0242ac110002",
     "previous": "88c7779e-de54-11e7-b331-0242ac110002"
    }
   },
   "outputs": [],
   "source": [
    "!echooooo \".. 3rd step... will fail\" >> foo && cat foo"
   ]
  },
  {
   "cell_type": "markdown",
   "metadata": {
    "hidden": true,
    "lc_cell_meme": {
     "current": "88c77a50-de54-11e7-b331-0242ac110002",
     "history": [],
     "next": "88c77ba4-de54-11e7-b331-0242ac110002",
     "previous": "88c778fc-de54-11e7-b331-0242ac110002"
    }
   },
   "source": [
    "\"echo\" に修正して実行してみましょう。 "
   ]
  },
  {
   "cell_type": "code",
   "execution_count": null,
   "metadata": {
    "hidden": true,
    "lc_cell_meme": {
     "current": "88c77ba4-de54-11e7-b331-0242ac110002",
     "history": [],
     "next": "88c77cf8-de54-11e7-b331-0242ac110002",
     "previous": "88c77a50-de54-11e7-b331-0242ac110002"
    }
   },
   "outputs": [],
   "source": [
    "! cat foo"
   ]
  },
  {
   "cell_type": "markdown",
   "metadata": {
    "lc_cell_meme": {
     "current": "88c77cf8-de54-11e7-b331-0242ac110002",
     "history": [],
     "next": "88c77e4c-de54-11e7-b331-0242ac110002",
     "previous": "88c77ba4-de54-11e7-b331-0242ac110002"
    }
   },
   "source": [
    "## Jupyter-LC_wrapper\n",
    "\n",
    "\n",
    "Usage:\n",
    "* Summarize massive output lines.<br>\n",
    "//大量のログ出力を要約表示する。\n",
    "* At each cell’s execution all original output lines are saved into an individual file with a time stamp.<br>\n",
    "//複数の実行ログを各々ファイルに保存し、後で全体を参照したり、結果を比較できるようにする。\n",
    "\n",
    "<span class='fa fa-fw fa-external-link'></span> [GitHub: Jupyter-LC_wrapper](https://github.com/NII-cloud-operation/Jupyter-LC_wrapper)\n",
    "\n",
    "<p lang=\"all\"><div style=\"width:30%\">\n",
    "\n",
    "[![DEMO LC_wrapper](http://img.youtube.com/vi/-28XG7aHYY8/0.jpg) <span class='fa fa-fw fa-youtube'></span>LC_wrapper Kernel](https://www.youtube.com/watch?v=-28XG7aHYY8)</div>\n",
    "</p>\n",
    "\n",
    "---\n",
    "\n",
    "You can review whole output and compare with previous results from different executions.<br>\n",
    "When you install some pakages, there would be massive log lines.  Jupyter Web UI is inefficient for handling a large number of output lines.\n",
    "\n",
    "例えば、某かのパッケージ群をインストールしたりすると大量のログが出力されますが、JupyetrのWeb UI上で大量の出力を扱うのはなにかと不便です。 Jupyterの Cell の中でログの内容を検索したり、比較したりするのはまどろっこしく手間がかかります。<br>\n",
    "\n",
    "Jupyter-LC_wrapper を用いると:<br>\n",
    "・ Output Cell には要約されてた結果が出力されるようになります（例：最初10行と最後の10行）。<br>\n",
    "・ オリジナルの出力結果全体はファイルに保存されます。<br>\n",
    "・ 実行毎に各々のファイルに結果が保存されるので出力結果を比較することができます。<br>\n",
    "・ 要約中でも、エラーなど特定のパターン含む行を表示します（lc_wrapper_regex.txt などいくつかの方法でカスタマイズ可）。<br>\n",
    "\n",
    "Cellでコマンドを実行する際に先頭に \"!!\" を付加すると、LC_wrapper の機能が有効になります。\n",
    "Cellで shell を呼び出す場合は \"!!!\" を付加してください。"
   ]
  },
  {
   "cell_type": "code",
   "execution_count": null,
   "metadata": {
    "lc_cell_meme": {
     "current": "88c77e4c-de54-11e7-b331-0242ac110002",
     "history": [],
     "next": "88c77f96-de54-11e7-b331-0242ac110002",
     "previous": "88c77cf8-de54-11e7-b331-0242ac110002"
    }
   },
   "outputs": [],
   "source": [
    "%env lc_wrapper 8:8:10:10\n",
    "# lc_wrapper s:h:e:f\n",
    "#\n",
    "# s : Summary starts when # of output lines exceed 's' (default s=1)\n",
    "# h : Summary displays the first h lines and max 2 x h error lines.\n",
    "# e : Max # of output lines in progress. \n",
    "# f : Summary displays the last f lines (default f=1)"
   ]
  },
  {
   "cell_type": "code",
   "execution_count": null,
   "metadata": {
    "lc_cell_meme": {
     "current": "88c77f96-de54-11e7-b331-0242ac110002",
     "history": [
      {
       "current": "88c77f96-de54-11e7-b331-0242ac110002",
       "next": "88c780e0-de54-11e7-b331-0242ac110002",
       "previous": "88c77e4c-de54-11e7-b331-0242ac110002"
      },
      {
       "current": "88c77f96-de54-11e7-b331-0242ac110002",
       "next": "7f940d4e-79d2-11e8-853f-0242ac110002",
       "previous": "88c77e4c-de54-11e7-b331-0242ac110002"
      },
      {
       "current": "88c77f96-de54-11e7-b331-0242ac110002",
       "next": "88c780e0-de54-11e7-b331-0242ac110002",
       "previous": "88c77e4c-de54-11e7-b331-0242ac110002"
      }
     ],
     "next": "88c78234-de54-11e7-b331-0242ac110002",
     "previous": "88c77e4c-de54-11e7-b331-0242ac110002"
    }
   },
   "outputs": [],
   "source": [
    "!!from time import sleep\n",
    "with open(\"./resources/bootstrap.log\", \"r\") as f: # \"/var/log/bootstrap.log\"\n",
    "    count = 0\n",
    "    limit = 100\n",
    "    for line in f:\n",
    "        count = count+1\n",
    "        if count > limit: break\n",
    "        print(line, end=''),\n",
    "        sleep(0.05)\n",
    "print (\"after\", limit, \"lines are ignored\")\n",
    "#\n",
    "# Emulate large log output.."
   ]
  },
  {
   "cell_type": "markdown",
   "metadata": {
    "lc_cell_meme": {
     "current": "88c78234-de54-11e7-b331-0242ac110002",
     "history": [
      {
       "current": "88c78234-de54-11e7-b331-0242ac110002",
       "next": "88c7837e-de54-11e7-b331-0242ac110002",
       "previous": "88c780e0-de54-11e7-b331-0242ac110002"
      }
     ],
     "next": "88c7837e-de54-11e7-b331-0242ac110002",
     "previous": "88c77f96-de54-11e7-b331-0242ac110002"
    }
   },
   "source": [
    "## Jupyter-multi_outputs\n",
    "\n",
    "用途:\n",
    "* 出力結果を保存する。\n",
    "* 現在の出力結果と、以前の出力結果を比較する（いまのところ文字列のみ）。\n",
    "\n",
    "<span class='fa fa-fw fa-external-link'></span> [Jupyter-multi-outputs](https://github.com/NII-cloud-operation/Jupyter-multi_outputs)\n",
    "\n",
    "---\n",
    "<img src=\"./images/multi_outputs.png\" align=\"right\" width=40% />実行後セルの左側に表示される <span class='fa fa-fw fa-thumb-tack'></span> をクリックすると、出力セルの内容がタブ形式で保存されます。\n",
    "保存された出力のタブを選択した際に表示される <span class='fa fa-fw fa-exchange'></span> をクリックすると、現在の出力と比較することができます。<br><br>\n",
    "何度もセルを試行する場合、毎回の結果を保存しておくことができます。<br>\n",
    "お手本となる手順や教材を Notebook で作成する際に、期待される結果や正解を保存しておくなどの用途が考えられます。"
   ]
  },
  {
   "cell_type": "code",
   "execution_count": 9,
   "metadata": {
    "lc_cell_meme": {
     "current": "88c7837e-de54-11e7-b331-0242ac110002",
     "history": [],
     "next": "88c784c8-de54-11e7-b331-0242ac110002",
     "previous": "88c78234-de54-11e7-b331-0242ac110002"
    }
   },
   "outputs": [],
   "source": [
    "import pandas\n",
    "import matplotlib\n",
    "import matplotlib.pyplot as plt\n",
    "import random"
   ]
  },
  {
   "cell_type": "code",
   "execution_count": 10,
   "metadata": {
    "lc_cell_meme": {
     "current": "88c784c8-de54-11e7-b331-0242ac110002",
     "history": [],
     "next": "88c78612-de54-11e7-b331-0242ac110002",
     "previous": "88c7837e-de54-11e7-b331-0242ac110002"
    },
    "multi_outputs": false
   },
   "outputs": [],
   "source": [
    "%matplotlib inline"
   ]
  },
  {
   "cell_type": "code",
   "execution_count": 15,
   "metadata": {
    "lc_cell_meme": {
     "current": "88c78612-de54-11e7-b331-0242ac110002",
     "history": [
      {
       "current": "88c78612-de54-11e7-b331-0242ac110002",
       "next": "88c78766-de54-11e7-b331-0242ac110002",
       "previous": "88c784c8-de54-11e7-b331-0242ac110002"
      },
      {
       "current": "88c78612-de54-11e7-b331-0242ac110002",
       "next": "35964fe8-79d9-11e8-853f-0242ac110002",
       "previous": "88c784c8-de54-11e7-b331-0242ac110002"
      }
     ],
     "next": "b617d82a-7322-11e8-abe3-02420aff004f",
     "previous": "88c784c8-de54-11e7-b331-0242ac110002"
    },
    "multi_outputs": true,
    "pinned_outputs": [
     {
      "execution_count": 11,
      "outputs": [
       {
        "data": {
         "text/plain": "<matplotlib.axes._subplots.AxesSubplot at 0x7ff1d49c5898>"
        },
        "execution_count": 11,
        "metadata": {},
        "output_type": "execute_result"
       },
       {
        "data": {
         "image/png": "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\n",
         "text/plain": "<Figure size 432x288 with 1 Axes>"
        },
        "metadata": {},
        "output_type": "display_data"
       }
      ]
     },
     {
      "execution_count": 14,
      "outputs": [
       {
        "data": {
         "text/plain": "<matplotlib.axes._subplots.AxesSubplot at 0x7ff1d4994e48>"
        },
        "execution_count": 14,
        "metadata": {},
        "output_type": "execute_result"
       },
       {
        "data": {
         "image/png": "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\n",
         "text/plain": "<Figure size 432x288 with 1 Axes>"
        },
        "metadata": {},
        "output_type": "display_data"
       }
      ]
     }
    ]
   },
   "outputs": [
    {
     "data": {
      "text/plain": [
       "<matplotlib.axes._subplots.AxesSubplot at 0x7ff1d4960400>"
      ]
     },
     "execution_count": 15,
     "metadata": {},
     "output_type": "execute_result"
    },
    {
     "data": {
      "image/png": "[encoded data removed]",
      "text/plain": [
       "<Figure size 432x288 with 1 Axes>"
      ]
     },
     "metadata": {},
     "output_type": "display_data"
    }
   ],
   "source": [
    "plot_df = pandas.DataFrame({\n",
    "    'col1': [12, 3, random.randint(1,10), 4],\n",
    "    'col2': [3, 12, 5, 2],\n",
    "    'col3': [random.randint(4,7), 10, 3, random.randint(0,2)],\n",
    "    'col4': [random.randint(0,11), 5, random.randint(6,12), random.randint(0,5)],\n",
    "})\n",
    "plot_df\n",
    "plot_df.plot()"
   ]
  },
  {
   "cell_type": "markdown",
   "metadata": {
    "lc_cell_meme": {
     "current": "b617d82a-7322-11e8-abe3-02420aff004f",
     "history": [
      {
       "current": "b617d82a-7322-11e8-abe3-02420aff004f",
       "next": "1915c840-72fd-11e8-abe3-02420aff004f",
       "previous": "cd0218c2-72f8-11e8-abe3-02420aff004f"
      }
     ],
     "next": "88c78766-de54-11e7-b331-0242ac110002",
     "previous": "88c78612-de54-11e7-b331-0242ac110002"
    }
   },
   "source": [
    "上の例では、タブをクリックすると以前の出力結果を参照することができます。"
   ]
  },
  {
   "cell_type": "code",
   "execution_count": 16,
   "metadata": {
    "lc_cell_meme": {
     "current": "88c78766-de54-11e7-b331-0242ac110002",
     "history": [
      {
       "current": "88c78766-de54-11e7-b331-0242ac110002",
       "next": "88c78978-de54-11e7-b331-0242ac110002",
       "previous": "88c78612-de54-11e7-b331-0242ac110002"
      },
      {
       "current": "88c78766-de54-11e7-b331-0242ac110002",
       "next": "88c780e0-de54-11e7-b331-0242ac110002",
       "previous": "88c78612-de54-11e7-b331-0242ac110002"
      },
      {
       "current": "88c78766-de54-11e7-b331-0242ac110002",
       "next": "f8b7ace0-79d6-11e8-853f-0242ac110002",
       "previous": "88c78612-de54-11e7-b331-0242ac110002"
      },
      {
       "current": "88c78766-de54-11e7-b331-0242ac110002",
       "next": "f8b7ace0-79d6-11e8-853f-0242ac110002",
       "previous": "35964fe8-79d9-11e8-853f-0242ac110002"
      }
     ],
     "next": "aacb661a-7324-11e8-abe3-02420aff004f",
     "previous": "b617d82a-7322-11e8-abe3-02420aff004f"
    },
    "pinned_outputs": [
     {
      "execution_count": 12,
      "outputs": [
       {
        "data": {
         "text/html": "<div>\n<style scoped>\n    .dataframe tbody tr th:only-of-type {\n        vertical-align: middle;\n    }\n\n    .dataframe tbody tr th {\n        vertical-align: top;\n    }\n\n    .dataframe thead th {\n        text-align: right;\n    }\n</style>\n<table border=\"1\" class=\"dataframe\">\n  <thead>\n    <tr style=\"text-align: right;\">\n      <th></th>\n      <th>col1</th>\n      <th>col2</th>\n      <th>col3</th>\n      <th>col4</th>\n    </tr>\n  </thead>\n  <tbody>\n    <tr>\n      <th>0</th>\n      <td>12</td>\n      <td>3</td>\n      <td>4</td>\n      <td>6</td>\n    </tr>\n    <tr>\n      <th>1</th>\n      <td>3</td>\n      <td>12</td>\n      <td>10</td>\n      <td>5</td>\n    </tr>\n    <tr>\n      <th>2</th>\n      <td>8</td>\n      <td>5</td>\n      <td>3</td>\n      <td>8</td>\n    </tr>\n    <tr>\n      <th>3</th>\n      <td>4</td>\n      <td>2</td>\n      <td>2</td>\n      <td>2</td>\n    </tr>\n  </tbody>\n</table>\n</div>",
         "text/plain": "   col1  col2  col3  col4\n0    12     3     4     6\n1     3    12    10     5\n2     8     5     3     8\n3     4     2     2     2"
        },
        "execution_count": 12,
        "metadata": {},
        "output_type": "execute_result"
       }
      ]
     }
    ]
   },
   "outputs": [
    {
     "data": {
      "text/html": [
       "<div>\n",
       "<style scoped>\n",
       "    .dataframe tbody tr th:only-of-type {\n",
       "        vertical-align: middle;\n",
       "    }\n",
       "\n",
       "    .dataframe tbody tr th {\n",
       "        vertical-align: top;\n",
       "    }\n",
       "\n",
       "    .dataframe thead th {\n",
       "        text-align: right;\n",
       "    }\n",
       "</style>\n",
       "<table border=\"1\" class=\"dataframe\">\n",
       "  <thead>\n",
       "    <tr style=\"text-align: right;\">\n",
       "      <th></th>\n",
       "      <th>col1</th>\n",
       "      <th>col2</th>\n",
       "      <th>col3</th>\n",
       "      <th>col4</th>\n",
       "    </tr>\n",
       "  </thead>\n",
       "  <tbody>\n",
       "    <tr>\n",
       "      <th>0</th>\n",
       "      <td>12</td>\n",
       "      <td>3</td>\n",
       "      <td>6</td>\n",
       "      <td>9</td>\n",
       "    </tr>\n",
       "    <tr>\n",
       "      <th>1</th>\n",
       "      <td>3</td>\n",
       "      <td>12</td>\n",
       "      <td>10</td>\n",
       "      <td>5</td>\n",
       "    </tr>\n",
       "    <tr>\n",
       "      <th>2</th>\n",
       "      <td>9</td>\n",
       "      <td>5</td>\n",
       "      <td>3</td>\n",
       "      <td>7</td>\n",
       "    </tr>\n",
       "    <tr>\n",
       "      <th>3</th>\n",
       "      <td>4</td>\n",
       "      <td>2</td>\n",
       "      <td>2</td>\n",
       "      <td>3</td>\n",
       "    </tr>\n",
       "  </tbody>\n",
       "</table>\n",
       "</div>"
      ],
      "text/plain": [
       "   col1  col2  col3  col4\n",
       "0    12     3     6     9\n",
       "1     3    12    10     5\n",
       "2     9     5     3     7\n",
       "3     4     2     2     3"
      ]
     },
     "execution_count": 16,
     "metadata": {},
     "output_type": "execute_result"
    }
   ],
   "source": [
    "plot_df"
   ]
  },
  {
   "cell_type": "markdown",
   "metadata": {
    "lc_cell_meme": {
     "current": "aacb661a-7324-11e8-abe3-02420aff004f",
     "history": [
      {
       "current": "aacb661a-7324-11e8-abe3-02420aff004f",
       "next": "efa74ee2-72fd-11e8-abe3-02420aff004f",
       "previous": "1915c840-72fd-11e8-abe3-02420aff004f"
      }
     ],
     "next": "f8b7ace0-79d6-11e8-853f-0242ac110002",
     "previous": "88c78766-de54-11e7-b331-0242ac110002"
    }
   },
   "source": [
    "以前の出力結果を選択表示すると <span class='fa fa-fw fa-thumb-tack'></span> が <span class='fa fa-fw fa-exchange'></span> に変わります。この <span class='fa fa-fw fa-exchange'></span>をクリックすると、選択している出力と現在の出力を比較することができます。"
   ]
  },
  {
   "cell_type": "code",
   "execution_count": null,
   "metadata": {
    "lc_cell_meme": {
     "current": "f8b7ace0-79d6-11e8-853f-0242ac110002",
     "history": [
      {
       "current": "f8b7ace0-79d6-11e8-853f-0242ac110002",
       "next": "88c780e0-de54-11e7-b331-0242ac110002",
       "previous": "88c78766-de54-11e7-b331-0242ac110002"
      }
     ],
     "next": "88c780e0-de54-11e7-b331-0242ac110002",
     "previous": "aacb661a-7324-11e8-abe3-02420aff004f"
    }
   },
   "outputs": [],
   "source": [
    "plot_df.transpose"
   ]
  },
  {
   "cell_type": "markdown",
   "metadata": {
    "lc_cell_meme": {
     "current": "88c780e0-de54-11e7-b331-0242ac110002",
     "history": [
      {
       "current": "88c780e0-de54-11e7-b331-0242ac110002",
       "next": "88c78234-de54-11e7-b331-0242ac110002",
       "previous": "88c77f96-de54-11e7-b331-0242ac110002"
      },
      {
       "current": "88c780e0-de54-11e7-b331-0242ac110002",
       "next": "88c78234-de54-11e7-b331-0242ac110002",
       "previous": "7f940d4e-79d2-11e8-853f-0242ac110002"
      },
      {
       "current": "88c780e0-de54-11e7-b331-0242ac110002",
       "next": "88c78234-de54-11e7-b331-0242ac110002",
       "previous": "88c77f96-de54-11e7-b331-0242ac110002"
      },
      {
       "current": "88c780e0-de54-11e7-b331-0242ac110002",
       "next": "88c78978-de54-11e7-b331-0242ac110002",
       "previous": "88c78766-de54-11e7-b331-0242ac110002"
      }
     ],
     "next": "88c78978-de54-11e7-b331-0242ac110002",
     "previous": "f8b7ace0-79d6-11e8-853f-0242ac110002"
    }
   },
   "source": [
    "## Jupyter-code_cell_status\n",
    "\n",
    "<span class='fa fa-fw fa-external-link'></span> [Jupyter-code_cell_status](https://github.com/NII-cloud-operation/Jupyter-code_cell_status)"
   ]
  },
  {
   "cell_type": "markdown",
   "metadata": {
    "lc_cell_meme": {
     "current": "88c78978-de54-11e7-b331-0242ac110002",
     "history": [
      {
       "current": "88c78978-de54-11e7-b331-0242ac110002",
       "next": null,
       "previous": "88c78766-de54-11e7-b331-0242ac110002"
      }
     ],
     "next": null,
     "previous": "88c780e0-de54-11e7-b331-0242ac110002"
    }
   },
   "source": [
    "## Jupyter-LC_nblineage\n",
    "\n",
    "<span class='fa fa-fw fa-external-link'></span> [Jupyter-LC_nblineage](https://github.com/NII-cloud-operation/Jupyter-LC_nblineage)"
   ]
  }
 ],
 "metadata": {
  "kernelspec": {
   "display_name": "Python 3",
   "language": "python",
   "name": "python3"
  },
  "language_info": {
   "file_extension": ".py",
   "mimetype": "text/x-python",
   "name": "python",
   "nbconvert_exporter": "python",
   "pygments_lexer": "ipython3",
   "version": "3.7.3"
  },
  "lc_notebook_meme": {
   "current": "88c76cb8-de54-11e7-b331-0242ac110002",
   "history": [],
   "lc_server_signature": {
    "current": {
     "notebook_dir": "/home/jovyan",
     "notebook_path": "/",
     "server_url": "http://localhost:8000/",
     "signature_id": "27b19e52-9303-11e9-810c-0242ac110002"
    },
    "history": [
     {
      "notebook_dir": "/notebooks",
      "notebook_path": "/",
      "server_url": "http://localhost:8000/",
      "signature_id": "aebb220e-79ca-11e8-853f-0242ac110002"
     },
     {
      "notebook_dir": "/notebooks",
      "notebook_path": "/",
      "server_url": "http://localhost:8000/",
      "signature_id": "ca733208-79dd-11e8-8429-0242ac110002"
     },
     {
      "notebook_dir": "/notebooks",
      "notebook_path": "/",
      "server_url": "http://localhost:8000/",
      "signature_id": "48b6b290-e70a-11e8-9504-0242ac110002"
     },
     {
      "notebook_dir": "/home/jovyan",
      "notebook_path": "/sample-notebooks",
      "server_url": "http://localhost:8888/",
      "signature_id": "faa3f1b2-86aa-11e9-86e0-0242ac110002"
     }
    ]
   },
   "root_cells": [
    "88c7719a-de54-11e7-b331-0242ac110002",
    "88c7735c-de54-11e7-b331-0242ac110002",
    "88c774d8-de54-11e7-b331-0242ac110002",
    "88c77640-de54-11e7-b331-0242ac110002",
    "88c7779e-de54-11e7-b331-0242ac110002",
    "88c778fc-de54-11e7-b331-0242ac110002",
    "88c77a50-de54-11e7-b331-0242ac110002",
    "88c77ba4-de54-11e7-b331-0242ac110002",
    "88c77cf8-de54-11e7-b331-0242ac110002",
    "88c77e4c-de54-11e7-b331-0242ac110002",
    "88c77f96-de54-11e7-b331-0242ac110002",
    "88c780e0-de54-11e7-b331-0242ac110002",
    "88c78234-de54-11e7-b331-0242ac110002",
    "88c7837e-de54-11e7-b331-0242ac110002",
    "88c784c8-de54-11e7-b331-0242ac110002",
    "88c78612-de54-11e7-b331-0242ac110002",
    "88c78766-de54-11e7-b331-0242ac110002",
    "88c78978-de54-11e7-b331-0242ac110002"
   ]
  },
  "toc": {
   "base_numbering": 1,
   "nav_menu": {
    "height": "12px",
    "width": "252px"
   },
   "number_sections": true,
   "sideBar": true,
   "skip_h1_title": false,
   "title_cell": "Table of Contents",
   "title_sidebar": "Contents",
   "toc_cell": false,
   "toc_position": {},
   "toc_section_display": "block",
   "toc_window_display": true
  }
 },
 "nbformat": 4,
 "nbformat_minor": 2
}
