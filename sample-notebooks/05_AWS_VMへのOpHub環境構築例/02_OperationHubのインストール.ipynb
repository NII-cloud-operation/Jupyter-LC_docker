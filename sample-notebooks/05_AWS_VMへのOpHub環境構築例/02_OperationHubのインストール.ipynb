{
 "cells": [
  {
   "cell_type": "markdown",
   "metadata": {
    "lc_cell_meme": {
     "current": "395b47aa-bc03-11ea-a44b-0242ac110002-2-0064-b9de",
     "history": [
      {
       "current": "395b47aa-bc03-11ea-a44b-0242ac110002-1-0064",
       "next": "395b48ae-bc03-11ea-a44b-0242ac110002",
       "previous": null
      },
      {
       "current": "395b47aa-bc03-11ea-a44b-0242ac110002-2-0064-b9de",
       "next": "395b48ae-bc03-11ea-a44b-0242ac110002-1-269e",
       "previous": null
      }
     ],
     "next": "395b48ae-bc03-11ea-a44b-0242ac110002-2-269e-34fd",
     "previous": null
    }
   },
   "source": [
    "# About: OperationHubのインストール"
   ]
  },
  {
   "cell_type": "markdown",
   "metadata": {
    "lc_cell_meme": {
     "current": "395b48ae-bc03-11ea-a44b-0242ac110002-2-269e-34fd",
     "history": [
      {
       "current": "395b48ae-bc03-11ea-a44b-0242ac110002",
       "next": "395b4a8e-bc03-11ea-a44b-0242ac110002",
       "previous": "395b47aa-bc03-11ea-a44b-0242ac110002"
      },
      {
       "current": "395b48ae-bc03-11ea-a44b-0242ac110002-1-269e",
       "next": "ba4a5b60-bc05-11ea-a44b-0242ac110002",
       "previous": "395b47aa-bc03-11ea-a44b-0242ac110002"
      },
      {
       "current": "395b48ae-bc03-11ea-a44b-0242ac110002-2-269e-34fd",
       "next": "ba4a5b60-bc05-11ea-a44b-0242ac110002-1-74d7",
       "previous": "395b47aa-bc03-11ea-a44b-0242ac110002-1-0064"
      }
     ],
     "next": "ba4a5b60-bc05-11ea-a44b-0242ac110002-2-74d7-06a1",
     "previous": "395b47aa-bc03-11ea-a44b-0242ac110002-2-0064-b9de"
    }
   },
   "source": [
    "# 各種設定"
   ]
  },
  {
   "cell_type": "markdown",
   "metadata": {
    "lc_cell_meme": {
     "current": "ba4a5b60-bc05-11ea-a44b-0242ac110002-2-74d7-06a1",
     "history": [
      {
       "current": "ba4a5b60-bc05-11ea-a44b-0242ac110002-1-74d7",
       "next": "395b4a8e-bc03-11ea-a44b-0242ac110002",
       "previous": "395b48ae-bc03-11ea-a44b-0242ac110002"
      },
      {
       "current": "ba4a5b60-bc05-11ea-a44b-0242ac110002-2-74d7-06a1",
       "next": "395b4a8e-bc03-11ea-a44b-0242ac110002-1-9ad0",
       "previous": "395b48ae-bc03-11ea-a44b-0242ac110002-1-269e"
      }
     ],
     "next": "395b4a8e-bc03-11ea-a44b-0242ac110002-2-9ad0-8f3d",
     "previous": "395b48ae-bc03-11ea-a44b-0242ac110002-2-269e-34fd"
    }
   },
   "source": [
    "## インストール対象VM"
   ]
  },
  {
   "cell_type": "code",
   "execution_count": 3,
   "metadata": {
    "deletable": false,
    "editable": false,
    "lc_cell_meme": {
     "current": "395b4a8e-bc03-11ea-a44b-0242ac110002-2-9ad0-8f3d",
     "execution_end_time": "2020-07-02T02:16:16.751129Z",
     "history": [
      {
       "current": "395b4a8e-bc03-11ea-a44b-0242ac110002",
       "next": "395b4c1e-bc03-11ea-a44b-0242ac110002",
       "previous": "395b48ae-bc03-11ea-a44b-0242ac110002"
      },
      {
       "current": "395b4a8e-bc03-11ea-a44b-0242ac110002-1-9ad0",
       "next": "395b4c1e-bc03-11ea-a44b-0242ac110002",
       "previous": "ba4a5b60-bc05-11ea-a44b-0242ac110002"
      },
      {
       "current": "395b4a8e-bc03-11ea-a44b-0242ac110002-2-9ad0-8f3d",
       "next": "395b4c1e-bc03-11ea-a44b-0242ac110002-1-5b53",
       "previous": "ba4a5b60-bc05-11ea-a44b-0242ac110002-1-74d7"
      }
     ],
     "next": "395b4c1e-bc03-11ea-a44b-0242ac110002-2-5b53-3483",
     "previous": "ba4a5b60-bc05-11ea-a44b-0242ac110002-2-74d7-06a1"
    },
    "lc_wrapper": {
     "log_history": [
      "/home/jovyan/05_AWS_VMへのOpHub環境構築例/.log/20200702/20200702-012729-0047.log",
      "/home/jovyan/05_AWS_VMへのOpHub環境構築例/.log/20200702/20200702-013527-0945.log",
      "/home/jovyan/05_AWS_VMへのOpHub環境構築例/.log/20200702/20200702-020755-0389.log",
      "/home/jovyan/05_AWS_VMへのOpHub環境構築例/.log/20200702/20200702-021609-0932.log"
     ]
    },
    "run_through_control": {
     "frozen": true,
     "read_only": false
    }
   },
   "outputs": [
    {
     "name": "stdout",
     "output_type": "stream",
     "text": [
      "\u001b[0;32mec2-52-42-214-180.us-west-2.compute.amazonaws.com | SUCCESS => {\u001b[0m\r\n",
      "\u001b[0;32m    \"changed\": false,\u001b[0m\r\n",
      "\u001b[0;32m    \"ping\": \"pong\"\u001b[0m\r\n",
      "\u001b[0;32m}\u001b[0m\r\n"
     ]
    }
   ],
   "source": [
    "target_group = '-i ./hosts compute'\n",
    "\n",
    "!ansible -m ping {target_group}"
   ]
  },
  {
   "cell_type": "code",
   "execution_count": 4,
   "metadata": {
    "deletable": false,
    "editable": false,
    "lc_cell_meme": {
     "current": "395b4c1e-bc03-11ea-a44b-0242ac110002-2-5b53-3483",
     "execution_end_time": "2020-07-02T02:16:22.549697Z",
     "history": [
      {
       "current": "395b4c1e-bc03-11ea-a44b-0242ac110002",
       "next": null,
       "previous": "395b4a8e-bc03-11ea-a44b-0242ac110002"
      },
      {
       "current": "395b4c1e-bc03-11ea-a44b-0242ac110002",
       "next": "815db4e8-bc03-11ea-a44b-0242ac110002",
       "previous": "395b4a8e-bc03-11ea-a44b-0242ac110002"
      },
      {
       "current": "395b4c1e-bc03-11ea-a44b-0242ac110002-1-5b53",
       "next": "c849b9ba-bc03-11ea-a44b-0242ac110002",
       "previous": "395b4a8e-bc03-11ea-a44b-0242ac110002"
      },
      {
       "current": "395b4c1e-bc03-11ea-a44b-0242ac110002-2-5b53-3483",
       "next": "c849b9ba-bc03-11ea-a44b-0242ac110002-1-fe60",
       "previous": "395b4a8e-bc03-11ea-a44b-0242ac110002-1-9ad0"
      }
     ],
     "next": "c849b9ba-bc03-11ea-a44b-0242ac110002-2-fe60-d6da",
     "previous": "395b4a8e-bc03-11ea-a44b-0242ac110002-2-9ad0-8f3d"
    },
    "lc_wrapper": {
     "log_history": [
      "/home/jovyan/05_AWS_VMへのOpHub環境構築例/.log/20200702/20200702-012758-0601.log",
      "/home/jovyan/05_AWS_VMへのOpHub環境構築例/.log/20200702/20200702-013535-0800.log",
      "/home/jovyan/05_AWS_VMへのOpHub環境構築例/.log/20200702/20200702-020757-0388.log",
      "/home/jovyan/05_AWS_VMへのOpHub環境構築例/.log/20200702/20200702-021616-0770.log"
     ]
    },
    "run_through_control": {
     "frozen": true,
     "read_only": false
    }
   },
   "outputs": [
    {
     "name": "stdout",
     "output_type": "stream",
     "text": [
      "\u001b[0;33mec2-52-42-214-180.us-west-2.compute.amazonaws.com | CHANGED => {\u001b[0m\r\n",
      "\u001b[0;33m    \"changed\": true,\u001b[0m\r\n",
      "\u001b[0;33m    \"gid\": 0,\u001b[0m\r\n",
      "\u001b[0;33m    \"group\": \"root\",\u001b[0m\r\n",
      "\u001b[0;33m    \"mode\": \"0755\",\u001b[0m\r\n",
      "\u001b[0;33m    \"owner\": \"root\",\u001b[0m\r\n",
      "\u001b[0;33m    \"path\": \"/opt/ophub\",\u001b[0m\r\n",
      "\u001b[0;33m    \"secontext\": \"unconfined_u:object_r:usr_t:s0\",\u001b[0m\r\n",
      "\u001b[0;33m    \"size\": 6,\u001b[0m\r\n",
      "\u001b[0;33m    \"state\": \"directory\",\u001b[0m\r\n",
      "\u001b[0;33m    \"uid\": 0\u001b[0m\r\n",
      "\u001b[0;33m}\u001b[0m\r\n"
     ]
    }
   ],
   "source": [
    "ophub_dir = '/opt/ophub'\n",
    "\n",
    "!ansible -b -m file -a 'path={ophub_dir} state=directory' {target_group}"
   ]
  },
  {
   "cell_type": "markdown",
   "metadata": {
    "lc_cell_meme": {
     "current": "c849b9ba-bc03-11ea-a44b-0242ac110002-2-fe60-d6da",
     "history": [
      {
       "current": "c849b9ba-bc03-11ea-a44b-0242ac110002-1-fe60",
       "next": "c849bbd6-bc03-11ea-a44b-0242ac110002",
       "previous": "395b4c1e-bc03-11ea-a44b-0242ac110002"
      },
      {
       "current": "c849b9ba-bc03-11ea-a44b-0242ac110002-2-fe60-d6da",
       "next": "c849bbd6-bc03-11ea-a44b-0242ac110002-1-b64a",
       "previous": "395b4c1e-bc03-11ea-a44b-0242ac110002-1-5b53"
      }
     ],
     "next": "c849bbd6-bc03-11ea-a44b-0242ac110002-2-b64a-ac2a",
     "previous": "395b4c1e-bc03-11ea-a44b-0242ac110002-2-5b53-3483"
    }
   },
   "source": [
    "対象ホストはCentOS 7がデプロイされているものとします。"
   ]
  },
  {
   "cell_type": "code",
   "execution_count": 5,
   "metadata": {
    "deletable": false,
    "editable": false,
    "lc_cell_meme": {
     "current": "c849bbd6-bc03-11ea-a44b-0242ac110002-2-b64a-ac2a",
     "execution_end_time": "2020-07-02T02:16:30.638982Z",
     "history": [
      {
       "current": "c849bbd6-bc03-11ea-a44b-0242ac110002",
       "next": "815db4e8-bc03-11ea-a44b-0242ac110002",
       "previous": "c849b9ba-bc03-11ea-a44b-0242ac110002"
      },
      {
       "current": "c849bbd6-bc03-11ea-a44b-0242ac110002-1-b64a",
       "next": "ba4a5d04-bc05-11ea-a44b-0242ac110002",
       "previous": "c849b9ba-bc03-11ea-a44b-0242ac110002"
      },
      {
       "current": "c849bbd6-bc03-11ea-a44b-0242ac110002-2-b64a-ac2a",
       "next": "ba4a5d04-bc05-11ea-a44b-0242ac110002-1-ca02",
       "previous": "c849b9ba-bc03-11ea-a44b-0242ac110002-1-fe60"
      }
     ],
     "next": "ba4a5d04-bc05-11ea-a44b-0242ac110002-2-ca02-cd30",
     "previous": "c849b9ba-bc03-11ea-a44b-0242ac110002-2-fe60-d6da"
    },
    "lc_wrapper": {
     "log_history": [
      "/home/jovyan/05_AWS_VMへのOpHub環境構築例/.log/20200702/20200702-013056-0867.log",
      "/home/jovyan/05_AWS_VMへのOpHub環境構築例/.log/20200702/20200702-013137-0732.log",
      "/home/jovyan/05_AWS_VMへのOpHub環境構築例/.log/20200702/20200702-013541-0197.log",
      "/home/jovyan/05_AWS_VMへのOpHub環境構築例/.log/20200702/20200702-021622-0593.log"
     ]
    },
    "pinned_outputs": [
     {
      "execution_count": 6,
      "outputs": [
       {
        "name": "stdout",
        "output_type": "stream",
        "text": "\u001b[0;33mec2-44-227-10-98.us-west-2.compute.amazonaws.com | CHANGED | rc=0 >>\u001b[0m\r\n\u001b[0;33mCentOS Linux release 7.7.1908 (Core)\u001b[0m\r\n"
       }
      ]
     }
    ],
    "run_through_control": {
     "frozen": true,
     "read_only": false
    }
   },
   "outputs": [
    {
     "name": "stdout",
     "output_type": "stream",
     "text": [
      "\u001b[0;33mec2-52-42-214-180.us-west-2.compute.amazonaws.com | CHANGED | rc=0 >>\u001b[0m\r\n",
      "\u001b[0;33mCentOS Linux release 7.7.1908 (Core)\u001b[0m\r\n"
     ]
    }
   ],
   "source": [
    "!ansible -a 'cat /etc/centos-release' {target_group}"
   ]
  },
  {
   "cell_type": "markdown",
   "metadata": {
    "lc_cell_meme": {
     "current": "ba4a5d04-bc05-11ea-a44b-0242ac110002-2-ca02-cd30",
     "history": [
      {
       "current": "ba4a5d04-bc05-11ea-a44b-0242ac110002-1-ca02",
       "next": "ba4a5dfe-bc05-11ea-a44b-0242ac110002",
       "previous": "c849bbd6-bc03-11ea-a44b-0242ac110002"
      },
      {
       "current": "ba4a5d04-bc05-11ea-a44b-0242ac110002-2-ca02-cd30",
       "next": "ba4a5dfe-bc05-11ea-a44b-0242ac110002-1-e501",
       "previous": "c849bbd6-bc03-11ea-a44b-0242ac110002-1-b64a"
      }
     ],
     "next": "ba4a5dfe-bc05-11ea-a44b-0242ac110002-2-e501-2288",
     "previous": "c849bbd6-bc03-11ea-a44b-0242ac110002-2-b64a-ac2a"
    }
   },
   "source": [
    "## ドメイン名設定"
   ]
  },
  {
   "cell_type": "markdown",
   "metadata": {
    "lc_cell_meme": {
     "current": "ba4a5dfe-bc05-11ea-a44b-0242ac110002-2-e501-2288",
     "history": [
      {
       "current": "ba4a5dfe-bc05-11ea-a44b-0242ac110002",
       "next": "815db4e8-bc03-11ea-a44b-0242ac110002",
       "previous": "ba4a5d04-bc05-11ea-a44b-0242ac110002"
      },
      {
       "current": "ba4a5dfe-bc05-11ea-a44b-0242ac110002-1-e501",
       "next": "01ff03de-bc06-11ea-a44b-0242ac110002",
       "previous": "ba4a5d04-bc05-11ea-a44b-0242ac110002"
      },
      {
       "current": "ba4a5dfe-bc05-11ea-a44b-0242ac110002-2-e501-2288",
       "next": "01ff03de-bc06-11ea-a44b-0242ac110002-1-48a5",
       "previous": "ba4a5d04-bc05-11ea-a44b-0242ac110002-1-ca02"
      }
     ],
     "next": "01ff03de-bc06-11ea-a44b-0242ac110002-2-48a5-eeff",
     "previous": "ba4a5d04-bc05-11ea-a44b-0242ac110002-2-ca02-cd30"
    }
   },
   "source": [
    "`server_name`変数に、OperationHubを動作させるホストのドメイン名を設定する。\n",
    "\n",
    "ここではデモ用と限定して、AWSで確保されたインスタンスである前提で設定する。"
   ]
  },
  {
   "cell_type": "code",
   "execution_count": 6,
   "metadata": {
    "deletable": false,
    "editable": false,
    "lc_cell_meme": {
     "current": "01ff03de-bc06-11ea-a44b-0242ac110002-2-48a5-eeff",
     "execution_end_time": "2020-07-02T02:16:35.549413Z",
     "history": [
      {
       "current": "01ff03de-bc06-11ea-a44b-0242ac110002",
       "next": "815db4e8-bc03-11ea-a44b-0242ac110002",
       "previous": "ba4a5dfe-bc05-11ea-a44b-0242ac110002"
      },
      {
       "current": "01ff03de-bc06-11ea-a44b-0242ac110002-1-48a5",
       "next": "90db0dbe-bc06-11ea-a44b-0242ac110002",
       "previous": "ba4a5dfe-bc05-11ea-a44b-0242ac110002"
      },
      {
       "current": "01ff03de-bc06-11ea-a44b-0242ac110002-2-48a5-eeff",
       "next": "90db0dbe-bc06-11ea-a44b-0242ac110002-1-95b9",
       "previous": "ba4a5dfe-bc05-11ea-a44b-0242ac110002-1-e501"
      }
     ],
     "next": "90db0dbe-bc06-11ea-a44b-0242ac110002-2-95b9-b5d0",
     "previous": "ba4a5dfe-bc05-11ea-a44b-0242ac110002-2-e501-2288"
    },
    "lc_wrapper": {
     "log_history": [
      "/home/jovyan/05_AWS_VMへのOpHub環境構築例/.log/20200702/20200702-014621-0643.log",
      "/home/jovyan/05_AWS_VMへのOpHub環境構築例/.log/20200702/20200702-014647-0607.log",
      "/home/jovyan/05_AWS_VMへのOpHub環境構築例/.log/20200702/20200702-014707-0747.log",
      "/home/jovyan/05_AWS_VMへのOpHub環境構築例/.log/20200702/20200702-015011-0290.log",
      "/home/jovyan/05_AWS_VMへのOpHub環境構築例/.log/20200702/20200702-015015-0871.log",
      "/home/jovyan/05_AWS_VMへのOpHub環境構築例/.log/20200702/20200702-021630-0657.log"
     ]
    },
    "run_through_control": {
     "frozen": true,
     "read_only": false
    }
   },
   "outputs": [
    {
     "data": {
      "text/plain": [
       "'ec2-52-42-214-180.us-west-2.compute.amazonaws.com'"
      ]
     },
     "execution_count": 6,
     "metadata": {},
     "output_type": "execute_result"
    }
   ],
   "source": [
    "import re\n",
    "\n",
    "ping_result = !ansible -m ping {target_group}\n",
    "ec2_domain_pattern = re.compile(r'(ec2-.+\\..+\\.compute\\.amazonaws\\.com)')\n",
    "server_name = None\n",
    "for line in ping_result:\n",
    "    m = ec2_domain_pattern.search(line)\n",
    "    if m:\n",
    "        server_name = m.group(1)\n",
    "\n",
    "assert server_name is not None, 'Unexpected result: {}'.format(''.join(ping_result))\n",
    "server_name"
   ]
  },
  {
   "cell_type": "markdown",
   "metadata": {
    "lc_cell_meme": {
     "current": "90db0dbe-bc06-11ea-a44b-0242ac110002-2-95b9-b5d0",
     "history": [
      {
       "current": "90db0dbe-bc06-11ea-a44b-0242ac110002-1-95b9",
       "next": "90db0fe4-bc06-11ea-a44b-0242ac110002",
       "previous": "01ff03de-bc06-11ea-a44b-0242ac110002"
      },
      {
       "current": "90db0dbe-bc06-11ea-a44b-0242ac110002-2-95b9-b5d0",
       "next": "90db0fe4-bc06-11ea-a44b-0242ac110002-1-3e45",
       "previous": "01ff03de-bc06-11ea-a44b-0242ac110002-1-48a5"
      }
     ],
     "next": "90db0fe4-bc06-11ea-a44b-0242ac110002-2-3e45-605d",
     "previous": "01ff03de-bc06-11ea-a44b-0242ac110002-2-48a5-eeff"
    }
   },
   "source": [
    "## サーバ証明書設定\n",
    "\n",
    "`cert_file`, `key_file` 変数に、サーバ証明書と秘密鍵のパス(Notebookサーバ上のパス)を指定する。\n",
    "\n",
    "ここではデモ用と限定して、自己署名の証明書を設定する。"
   ]
  },
  {
   "cell_type": "code",
   "execution_count": 7,
   "metadata": {
    "deletable": false,
    "editable": false,
    "lc_cell_meme": {
     "current": "90db0fe4-bc06-11ea-a44b-0242ac110002-2-3e45-605d",
     "execution_end_time": "2020-07-02T02:16:37.941753Z",
     "history": [
      {
       "current": "90db0fe4-bc06-11ea-a44b-0242ac110002",
       "next": "815db4e8-bc03-11ea-a44b-0242ac110002",
       "previous": "90db0dbe-bc06-11ea-a44b-0242ac110002"
      },
      {
       "current": "90db0fe4-bc06-11ea-a44b-0242ac110002",
       "next": "815db4e8-bc03-11ea-a44b-0242ac110002",
       "previous": "90db0dbe-bc06-11ea-a44b-0242ac110002"
      },
      {
       "current": "90db0fe4-bc06-11ea-a44b-0242ac110002",
       "next": "815db4e8-bc03-11ea-a44b-0242ac110002",
       "previous": "90db0dbe-bc06-11ea-a44b-0242ac110002"
      },
      {
       "current": "90db0fe4-bc06-11ea-a44b-0242ac110002",
       "next": "815db4e8-bc03-11ea-a44b-0242ac110002",
       "previous": "90db0dbe-bc06-11ea-a44b-0242ac110002"
      },
      {
       "current": "90db0fe4-bc06-11ea-a44b-0242ac110002",
       "next": "815db4e8-bc03-11ea-a44b-0242ac110002",
       "previous": "90db0dbe-bc06-11ea-a44b-0242ac110002"
      },
      {
       "current": "90db0fe4-bc06-11ea-a44b-0242ac110002",
       "next": "815db4e8-bc03-11ea-a44b-0242ac110002",
       "previous": "90db0dbe-bc06-11ea-a44b-0242ac110002"
      },
      {
       "current": "90db0fe4-bc06-11ea-a44b-0242ac110002-1-3e45",
       "next": "cdd43306-bc08-11ea-9c24-0242ac110002",
       "previous": "90db0dbe-bc06-11ea-a44b-0242ac110002"
      },
      {
       "current": "90db0fe4-bc06-11ea-a44b-0242ac110002-2-3e45-605d",
       "next": "cdd43306-bc08-11ea-9c24-0242ac110002-1-872a",
       "previous": "90db0dbe-bc06-11ea-a44b-0242ac110002-1-95b9"
      }
     ],
     "next": "cdd43306-bc08-11ea-9c24-0242ac110002-2-872a-456b",
     "previous": "90db0dbe-bc06-11ea-a44b-0242ac110002-2-95b9-b5d0"
    },
    "lc_wrapper": {
     "log_history": [
      "/home/jovyan/05_AWS_VMへのOpHub環境構築例/.log/20200702/20200702-015728-0621.log",
      "/home/jovyan/05_AWS_VMへのOpHub環境構築例/.log/20200702/20200702-015733-0016.log",
      "/home/jovyan/05_AWS_VMへのOpHub環境構築例/.log/20200702/20200702-015747-0004.log",
      "/home/jovyan/05_AWS_VMへのOpHub環境構築例/.log/20200702/20200702-015750-0812.log",
      "/home/jovyan/05_AWS_VMへのOpHub環境構築例/.log/20200702/20200702-021635-0562.log"
     ]
    },
    "run_through_control": {
     "frozen": true,
     "read_only": false
    }
   },
   "outputs": [
    {
     "name": "stdout",
     "output_type": "stream",
     "text": [
      "Generating RSA private key, 2048 bit long modulus (2 primes)\n",
      ".........................................................................................................................................................+++++\n",
      ".........+++++\n",
      "e is 65537 (0x010001)\n"
     ]
    }
   ],
   "source": [
    "import os\n",
    "\n",
    "key_file = '.cert-20200702/demo.key'\n",
    "\n",
    "!mkdir -p {os.path.split(key_file)[0]}\n",
    "!openssl genrsa 2048 > {key_file}"
   ]
  },
  {
   "cell_type": "code",
   "execution_count": 9,
   "metadata": {
    "deletable": false,
    "editable": false,
    "lc_cell_meme": {
     "current": "cdd43306-bc08-11ea-9c24-0242ac110002-2-872a-456b",
     "execution_end_time": "2020-07-02T02:17:29.358078Z",
     "history": [
      {
       "current": "cdd43306-bc08-11ea-9c24-0242ac110002-1-872a",
       "next": "815db4e8-bc03-11ea-a44b-0242ac110002",
       "previous": "90db0fe4-bc06-11ea-a44b-0242ac110002"
      },
      {
       "current": "cdd43306-bc08-11ea-9c24-0242ac110002-1-872a",
       "next": "815db4e8-bc03-11ea-a44b-0242ac110002-1-8dc3",
       "previous": "90db0fe4-bc06-11ea-a44b-0242ac110002-1-3e45"
      },
      {
       "current": "cdd43306-bc08-11ea-9c24-0242ac110002-1-872a",
       "next": "39ef6e1a-bc0a-11ea-9c24-0242ac110002",
       "previous": "90db0fe4-bc06-11ea-a44b-0242ac110002-1-3e45"
      },
      {
       "current": "cdd43306-bc08-11ea-9c24-0242ac110002-2-872a-456b",
       "next": "81f9f8f6-bc0a-11ea-9c24-0242ac110002",
       "previous": "90db0fe4-bc06-11ea-a44b-0242ac110002-1-3e45"
      }
     ],
     "next": "81f9f8f6-bc0a-11ea-9c24-0242ac110002-1-2260",
     "previous": "90db0fe4-bc06-11ea-a44b-0242ac110002-2-3e45-605d"
    },
    "lc_wrapper": {
     "log_history": [
      "/home/jovyan/05_AWS_VMへのOpHub環境構築例/.log/20200702/20200702-021637-0950.log",
      "/home/jovyan/05_AWS_VMへのOpHub環境構築例/.log/20200702/20200702-021728-0403.log"
     ]
    },
    "run_through_control": {
     "frozen": true,
     "read_only": false
    }
   },
   "outputs": [],
   "source": [
    "cert_file = '.cert-20200702/demo.cer'\n",
    "\n",
    "!openssl req -new -subj \"/C=JP/CN={server_name}\" -x509 -days 31 -key {key_file} -sha512 -out {cert_file}"
   ]
  },
  {
   "cell_type": "markdown",
   "metadata": {
    "lc_cell_meme": {
     "current": "81f9f8f6-bc0a-11ea-9c24-0242ac110002-1-2260",
     "history": [
      {
       "current": "81f9f8f6-bc0a-11ea-9c24-0242ac110002-1-2260",
       "next": "39ef6e1a-bc0a-11ea-9c24-0242ac110002",
       "previous": "cdd43306-bc08-11ea-9c24-0242ac110002-1-872a"
      }
     ],
     "next": "39ef6e1a-bc0a-11ea-9c24-0242ac110002-1-6095",
     "previous": "cdd43306-bc08-11ea-9c24-0242ac110002-2-872a-456b"
    }
   },
   "source": [
    "内容を確認する。"
   ]
  },
  {
   "cell_type": "code",
   "execution_count": 10,
   "metadata": {
    "deletable": false,
    "editable": false,
    "lc_cell_meme": {
     "current": "39ef6e1a-bc0a-11ea-9c24-0242ac110002-1-6095",
     "execution_end_time": "2020-07-02T02:17:51.555349Z",
     "history": [
      {
       "current": "39ef6e1a-bc0a-11ea-9c24-0242ac110002",
       "next": "815db4e8-bc03-11ea-a44b-0242ac110002-1-8dc3",
       "previous": "cdd43306-bc08-11ea-9c24-0242ac110002-1-872a"
      },
      {
       "current": "39ef6e1a-bc0a-11ea-9c24-0242ac110002",
       "next": "815db4e8-bc03-11ea-a44b-0242ac110002-1-8dc3",
       "previous": "81f9f8f6-bc0a-11ea-9c24-0242ac110002"
      },
      {
       "current": "39ef6e1a-bc0a-11ea-9c24-0242ac110002-1-6095",
       "next": "a0d419fe-bc0b-11ea-9c24-0242ac110002",
       "previous": "81f9f8f6-bc0a-11ea-9c24-0242ac110002"
      }
     ],
     "next": "a0d419fe-bc0b-11ea-9c24-0242ac110002-1-2cdf",
     "previous": "81f9f8f6-bc0a-11ea-9c24-0242ac110002-1-2260"
    },
    "lc_wrapper": {
     "log_history": [
      "/home/jovyan/05_AWS_VMへのOpHub環境構築例/.log/20200702/20200702-021750-0511.log"
     ]
    },
    "run_through_control": {
     "frozen": true,
     "read_only": false
    },
    "scrolled": true
   },
   "outputs": [
    {
     "name": "stdout",
     "output_type": "stream",
     "text": [
      "Certificate:\r\n",
      "    Data:\r\n",
      "        Version: 3 (0x2)\r\n",
      "        Serial Number:\r\n",
      "            0e:30:3e:66:68:9e:ba:f2:7f:ac:3e:0f:e0:8a:2b:35:48:de:e9:f3\r\n",
      "        Signature Algorithm: sha512WithRSAEncryption\r\n",
      "        Issuer: C = JP, CN = ec2-52-42-214-180.us-west-2.compute.amazonaws.com\r\n",
      "        Validity\r\n",
      "            Not Before: Jul  2 02:17:29 2020 GMT\r\n",
      "            Not After : Aug  2 02:17:29 2020 GMT\r\n",
      "        Subject: C = JP, CN = ec2-52-42-214-180.us-west-2.compute.amazonaws.com\r\n",
      "        Subject Public Key Info:\r\n",
      "            Public Key Algorithm: rsaEncryption\r\n",
      "                RSA Public-Key: (2048 bit)\r\n",
      "                Modulus:\r\n",
      "                    00:b2:51:66:20:b3:18:37:46:fb:97:0a:db:af:88:\r\n",
      "                    e0:f3:8b:b6:25:83:5b:0f:b6:3d:13:d9:a5:83:55:\r\n",
      "                    f6:cf:48:c2:5d:4b:e0:4d:15:54:3c:4d:eb:59:62:\r\n",
      "                    7d:f0:e3:91:e0:72:d1:05:b1:71:7d:6b:2d:7b:ce:\r\n",
      "                    12:84:05:d0:fd:de:c4:a9:90:38:18:cf:24:d6:ed:\r\n",
      "                    96:5d:05:f5:c4:55:d4:4b:ef:87:c2:49:54:b8:8f:\r\n",
      "                    7c:9f:69:3e:08:c8:1e:85:f0:39:5e:5f:5e:f8:d8:\r\n",
      "                    80:04:a2:75:4e:48:b4:e2:5a:91:1d:67:30:14:f6:\r\n",
      "                    96:1a:99:1a:1c:e1:f6:3e:3f:fd:54:50:30:0d:ab:\r\n",
      "                    8f:26:ac:6e:1a:db:84:d4:f6:a1:ec:5f:2b:f4:7b:\r\n",
      "                    43:5e:a2:4d:cf:c0:39:36:16:0b:f4:ff:c9:1c:77:\r\n",
      "                    8c:6e:76:69:d3:f6:2c:8d:bd:42:51:52:52:41:ca:\r\n",
      "                    13:0f:bb:82:36:f0:c6:d6:ae:03:57:a6:d0:28:04:\r\n",
      "                    9b:20:6d:df:40:e7:cf:1f:b7:b6:4b:b4:07:a7:89:\r\n",
      "                    75:eb:cb:63:a8:d8:07:b1:fe:f1:c1:42:d7:86:58:\r\n",
      "                    35:b8:50:f4:26:4b:a2:08:b1:16:63:76:62:0e:74:\r\n",
      "                    c7:04:f7:9f:27:2b:96:12:ac:e7:e6:60:ea:9a:d8:\r\n",
      "                    c4:89\r\n",
      "                Exponent: 65537 (0x10001)\r\n",
      "        X509v3 extensions:\r\n",
      "            X509v3 Subject Key Identifier: \r\n",
      "                8C:31:96:F2:80:BC:F7:56:56:21:F0:80:69:A3:EB:64:5D:A3:D6:FA\r\n",
      "            X509v3 Authority Key Identifier: \r\n",
      "                keyid:8C:31:96:F2:80:BC:F7:56:56:21:F0:80:69:A3:EB:64:5D:A3:D6:FA\r\n",
      "\r\n",
      "            X509v3 Basic Constraints: critical\r\n",
      "                CA:TRUE\r\n",
      "    Signature Algorithm: sha512WithRSAEncryption\r\n",
      "         27:b9:84:46:cb:5f:d3:85:18:eb:f8:12:a4:a6:db:48:50:49:\r\n",
      "         f0:31:7b:ea:aa:4f:6a:ff:10:48:b0:9a:bb:31:e6:4b:2f:00:\r\n",
      "         17:96:d6:97:10:4d:8c:a1:c0:f3:2f:a2:5a:5f:1f:00:bb:bb:\r\n",
      "         d0:45:cb:28:d3:c6:68:63:cb:24:96:ab:59:fe:b2:bb:55:06:\r\n",
      "         01:61:03:28:40:cb:e3:35:82:0d:3c:8d:ba:52:25:1c:ac:be:\r\n",
      "         55:fd:07:a4:b6:8c:4c:32:93:7a:82:ff:4d:a7:1d:21:15:1c:\r\n",
      "         c8:99:d7:a5:3d:3f:16:26:c8:fa:bf:ac:6a:5c:cc:ae:da:a8:\r\n",
      "         e3:24:05:0f:89:76:fd:95:89:ab:b1:0d:e0:0b:4b:1e:2a:7f:\r\n",
      "         dd:ba:a8:d0:d9:82:85:9d:81:8c:19:7f:7f:a6:a2:9f:6f:8d:\r\n",
      "         4e:1b:b1:7f:bb:ca:92:80:af:08:e8:f1:e4:3e:b0:8d:a6:a8:\r\n",
      "         30:85:ad:aa:27:2e:8c:bf:5f:e4:9b:08:9e:06:7b:db:30:33:\r\n",
      "         35:ee:e7:e3:46:db:76:a9:06:70:27:6b:9e:a1:d9:ec:64:d6:\r\n",
      "         c9:02:21:d3:29:ce:13:4e:b1:4e:b9:23:22:6b:a2:46:c2:5d:\r\n",
      "         47:2e:5d:33:cc:01:07:fd:1e:27:62:84:6a:a5:48:55:6e:21:\r\n",
      "         5f:2d:18:94\r\n"
     ]
    }
   ],
   "source": [
    "!openssl x509 -in {cert_file} -noout -text"
   ]
  },
  {
   "cell_type": "markdown",
   "metadata": {
    "lc_cell_meme": {
     "current": "a0d419fe-bc0b-11ea-9c24-0242ac110002-1-2cdf",
     "history": [
      {
       "current": "a0d419fe-bc0b-11ea-9c24-0242ac110002",
       "next": "a0d41eea-bc0b-11ea-9c24-0242ac110002",
       "previous": "39ef6e1a-bc0a-11ea-9c24-0242ac110002"
      },
      {
       "current": "a0d419fe-bc0b-11ea-9c24-0242ac110002-1-2cdf",
       "next": "e753b68c-bc0b-11ea-9c24-0242ac110002",
       "previous": "39ef6e1a-bc0a-11ea-9c24-0242ac110002"
      }
     ],
     "next": "e753b68c-bc0b-11ea-9c24-0242ac110002-1-76cb",
     "previous": "39ef6e1a-bc0a-11ea-9c24-0242ac110002-1-6095"
    }
   },
   "source": [
    "## 管理者ユーザ設定"
   ]
  },
  {
   "cell_type": "markdown",
   "metadata": {
    "lc_cell_meme": {
     "current": "e753b68c-bc0b-11ea-9c24-0242ac110002-1-76cb",
     "history": [
      {
       "current": "e753b68c-bc0b-11ea-9c24-0242ac110002-1-76cb",
       "next": "a0d41eea-bc0b-11ea-9c24-0242ac110002",
       "previous": "a0d419fe-bc0b-11ea-9c24-0242ac110002"
      }
     ],
     "next": "a0d41eea-bc0b-11ea-9c24-0242ac110002-1-919b",
     "previous": "a0d419fe-bc0b-11ea-9c24-0242ac110002-1-2cdf"
    }
   },
   "source": [
    "最初に作る管理者ユーザのユーザ名及びパスワードを指定する。\n",
    "\n",
    "PasswordはNotebookに残らないよう、getpassを使用して入力する。"
   ]
  },
  {
   "cell_type": "code",
   "execution_count": 24,
   "metadata": {
    "lc_cell_meme": {
     "current": "a0d41eea-bc0b-11ea-9c24-0242ac110002-1-919b",
     "execution_end_time": "2020-07-02T02:29:01.562524Z",
     "history": [
      {
       "current": "a0d41eea-bc0b-11ea-9c24-0242ac110002",
       "next": "815db4e8-bc03-11ea-a44b-0242ac110002-1-8dc3",
       "previous": "a0d419fe-bc0b-11ea-9c24-0242ac110002"
      },
      {
       "current": "a0d41eea-bc0b-11ea-9c24-0242ac110002-1-919b",
       "next": "815db4e8-bc03-11ea-a44b-0242ac110002-1-8dc3",
       "previous": "e753b68c-bc0b-11ea-9c24-0242ac110002"
      }
     ],
     "next": "815db4e8-bc03-11ea-a44b-0242ac110002-2-8dc3-31d2",
     "previous": "e753b68c-bc0b-11ea-9c24-0242ac110002-1-76cb"
    },
    "lc_wrapper": {
     "log_history": [
      "/home/jovyan/05_AWS_VMへのOpHub環境構築例/.log/20200702/20200702-022751-0794.log",
      "/home/jovyan/05_AWS_VMへのOpHub環境構築例/.log/20200702/20200702-022853-0268.log"
     ]
    }
   },
   "outputs": [
    {
     "name": "stdout",
     "output_type": "stream",
     "text": [
      "········\n"
     ]
    }
   ],
   "source": [
    "import getpass\n",
    "\n",
    "admin_username = 'john'\n",
    "admin_password = getpass.getpass()"
   ]
  },
  {
   "cell_type": "markdown",
   "metadata": {
    "lc_cell_meme": {
     "current": "815db4e8-bc03-11ea-a44b-0242ac110002-2-8dc3-31d2",
     "history": [
      {
       "current": "815db4e8-bc03-11ea-a44b-0242ac110002",
       "next": "815db6d2-bc03-11ea-a44b-0242ac110002",
       "previous": "395b4c1e-bc03-11ea-a44b-0242ac110002"
      },
      {
       "current": "815db4e8-bc03-11ea-a44b-0242ac110002",
       "next": "c849bcda-bc03-11ea-a44b-0242ac110002",
       "previous": "c849bbd6-bc03-11ea-a44b-0242ac110002"
      },
      {
       "current": "815db4e8-bc03-11ea-a44b-0242ac110002",
       "next": "c849bcda-bc03-11ea-a44b-0242ac110002",
       "previous": "ba4a5dfe-bc05-11ea-a44b-0242ac110002"
      },
      {
       "current": "815db4e8-bc03-11ea-a44b-0242ac110002",
       "next": "c849bcda-bc03-11ea-a44b-0242ac110002",
       "previous": "01ff03de-bc06-11ea-a44b-0242ac110002"
      },
      {
       "current": "815db4e8-bc03-11ea-a44b-0242ac110002",
       "next": "c849bcda-bc03-11ea-a44b-0242ac110002",
       "previous": "90db0fe4-bc06-11ea-a44b-0242ac110002"
      },
      {
       "current": "815db4e8-bc03-11ea-a44b-0242ac110002",
       "next": "c849bcda-bc03-11ea-a44b-0242ac110002",
       "previous": "90db0fe4-bc06-11ea-a44b-0242ac110002"
      },
      {
       "current": "815db4e8-bc03-11ea-a44b-0242ac110002",
       "next": "c849bcda-bc03-11ea-a44b-0242ac110002",
       "previous": "90db0fe4-bc06-11ea-a44b-0242ac110002"
      },
      {
       "current": "815db4e8-bc03-11ea-a44b-0242ac110002",
       "next": "c849bcda-bc03-11ea-a44b-0242ac110002",
       "previous": "90db0fe4-bc06-11ea-a44b-0242ac110002"
      },
      {
       "current": "815db4e8-bc03-11ea-a44b-0242ac110002",
       "next": "c849bcda-bc03-11ea-a44b-0242ac110002",
       "previous": "90db0fe4-bc06-11ea-a44b-0242ac110002"
      },
      {
       "current": "815db4e8-bc03-11ea-a44b-0242ac110002",
       "next": "c849bcda-bc03-11ea-a44b-0242ac110002",
       "previous": "90db0fe4-bc06-11ea-a44b-0242ac110002"
      },
      {
       "current": "815db4e8-bc03-11ea-a44b-0242ac110002-1-8dc3",
       "next": "c849bcda-bc03-11ea-a44b-0242ac110002",
       "previous": "cdd43306-bc08-11ea-9c24-0242ac110002"
      },
      {
       "current": "815db4e8-bc03-11ea-a44b-0242ac110002-1-8dc3",
       "next": "c849bcda-bc03-11ea-a44b-0242ac110002-1-20eb",
       "previous": "cdd43306-bc08-11ea-9c24-0242ac110002-1-872a"
      },
      {
       "current": "815db4e8-bc03-11ea-a44b-0242ac110002-1-8dc3",
       "next": "c849bcda-bc03-11ea-a44b-0242ac110002-1-20eb",
       "previous": "39ef6e1a-bc0a-11ea-9c24-0242ac110002"
      },
      {
       "current": "815db4e8-bc03-11ea-a44b-0242ac110002-2-8dc3-31d2",
       "next": "c849bcda-bc03-11ea-a44b-0242ac110002-1-20eb",
       "previous": "a0d41eea-bc0b-11ea-9c24-0242ac110002"
      }
     ],
     "next": "c849bcda-bc03-11ea-a44b-0242ac110002-2-20eb-6308",
     "previous": "a0d41eea-bc0b-11ea-9c24-0242ac110002-1-919b"
    }
   },
   "source": [
    "# インストールの実施\n",
    "\n",
    "https://github.com/NII-cloud-operation/OperationHub に従いながら..."
   ]
  },
  {
   "cell_type": "markdown",
   "metadata": {
    "lc_cell_meme": {
     "current": "c849bcda-bc03-11ea-a44b-0242ac110002-2-20eb-6308",
     "history": [
      {
       "current": "c849bcda-bc03-11ea-a44b-0242ac110002-1-20eb",
       "next": "815db6d2-bc03-11ea-a44b-0242ac110002",
       "previous": "815db4e8-bc03-11ea-a44b-0242ac110002"
      },
      {
       "current": "c849bcda-bc03-11ea-a44b-0242ac110002-2-20eb-6308",
       "next": "815db6d2-bc03-11ea-a44b-0242ac110002-1-1cdd",
       "previous": "815db4e8-bc03-11ea-a44b-0242ac110002-1-8dc3"
      }
     ],
     "next": "815db6d2-bc03-11ea-a44b-0242ac110002-2-1cdd-0e02",
     "previous": "815db4e8-bc03-11ea-a44b-0242ac110002-2-8dc3-31d2"
    }
   },
   "source": [
    "## Step 1: Download OperationHub files\n",
    "\n",
    "まず、対象のホストにgitをインストールする。"
   ]
  },
  {
   "cell_type": "code",
   "execution_count": 11,
   "metadata": {
    "deletable": false,
    "editable": false,
    "lc_cell_meme": {
     "current": "815db6d2-bc03-11ea-a44b-0242ac110002-2-1cdd-0e02",
     "execution_end_time": "2020-07-02T02:18:51.273029Z",
     "history": [
      {
       "current": "815db6d2-bc03-11ea-a44b-0242ac110002",
       "next": "815db7d6-bc03-11ea-a44b-0242ac110002",
       "previous": "815db4e8-bc03-11ea-a44b-0242ac110002"
      },
      {
       "current": "815db6d2-bc03-11ea-a44b-0242ac110002",
       "next": "815db7d6-bc03-11ea-a44b-0242ac110002",
       "previous": "c849bcda-bc03-11ea-a44b-0242ac110002"
      },
      {
       "current": "815db6d2-bc03-11ea-a44b-0242ac110002-1-1cdd",
       "next": "04de4cc4-bc04-11ea-a44b-0242ac110002",
       "previous": "c849bcda-bc03-11ea-a44b-0242ac110002"
      },
      {
       "current": "815db6d2-bc03-11ea-a44b-0242ac110002-2-1cdd-0e02",
       "next": "04de4cc4-bc04-11ea-a44b-0242ac110002-1-a426",
       "previous": "c849bcda-bc03-11ea-a44b-0242ac110002-1-20eb"
      }
     ],
     "next": "04de4cc4-bc04-11ea-a44b-0242ac110002-2-a426-b9a0",
     "previous": "c849bcda-bc03-11ea-a44b-0242ac110002-2-20eb-6308"
    },
    "lc_wrapper": {
     "log_history": [
      "/home/jovyan/05_AWS_VMへのOpHub環境構築例/.log/20200702/20200702-013002-0903.log",
      "/home/jovyan/05_AWS_VMへのOpHub環境構築例/.log/20200702/20200702-013547-0935.log",
      "/home/jovyan/05_AWS_VMへのOpHub環境構築例/.log/20200702/20200702-021823-0049.log"
     ]
    },
    "run_through_control": {
     "frozen": true,
     "read_only": false
    }
   },
   "outputs": [
    {
     "name": "stdout",
     "output_type": "stream",
     "text": [
      "\u001b[0;33mec2-52-42-214-180.us-west-2.compute.amazonaws.com | CHANGED => {\u001b[0m\r\n",
      "\u001b[0;33m    \"ansible_facts\": {\u001b[0m\r\n",
      "\u001b[0;33m        \"pkg_mgr\": \"yum\"\u001b[0m\r\n",
      "\u001b[0;33m    },\u001b[0m\r\n",
      "\u001b[0;33m    \"changed\": true,\u001b[0m\r\n",
      "\u001b[0;33m    \"changes\": {\u001b[0m\r\n",
      "\u001b[0;33m        \"installed\": [\u001b[0m\r\n",
      "\u001b[0;33m            \"git\"\u001b[0m\r\n",
      "\u001b[0;33m        ]\u001b[0m\r\n",
      "\u001b[0;33m    },\u001b[0m\r\n",
      "\u001b[0;33m    \"msg\": \"warning: /var/cache/yum/x86_64/7/base/packages/perl-Carp-1.26-244.el7.noarch.rpm: Header V3 RSA/SHA256 Signature, key ID f4a80eb5: NOKEY\\nImporting GPG key 0xF4A80EB5:\\n Userid     : \\\"CentOS-7 Key (CentOS 7 Official Signing Key) <security@centos.org>\\\"\\n Fingerprint: 6341 ab27 53d7 8a78 a7c2 7bb1 24c6 a8a7 f4a8 0eb5\\n Package    : centos-release-7-7.1908.0.el7.centos.x86_64 (installed)\\n From       : /etc/pki/rpm-gpg/RPM-GPG-KEY-CentOS-7\\n\",\u001b[0m\r\n",
      "\u001b[0;33m    \"rc\": 0,\u001b[0m\r\n",
      "\u001b[0;33m    \"results\": [\u001b[0m\r\n",
      "\u001b[0;33m        \"Loaded plugins: fastestmirror\\nLoading mirror speeds from cached hostfile\\n * base: d36uatko69830t.cloudfront.net\\n * extras: d36uatko69830t.cloudfront.net\\n * updates: d36uatko69830t.cloudfront.net\\nResolving Dependencies\\n--> Running transaction check\\n---> Package git.x86_64 0:1.8.3.1-23.el7_8 will be installed\\n--> Processing Dependency: perl-Git = 1.8.3.1-23.el7_8 for package: git-1.8.3.1-23.el7_8.x86_64\\n--> Processing Dependency: perl >= 5.008 for package: git-1.8.3.1-23.el7_8.x86_64\\n--> Processing Dependency: perl(warnings) for package: git-1.8.3.1-23.el7_8.x86_64\\n--> Processing Dependency: perl(vars) for package: git-1.8.3.1-23.el7_8.x86_64\\n--> Processing Dependency: perl(strict) for package: git-1.8.3.1-23.el7_8.x86_64\\n--> Processing Dependency: perl(lib) for package: git-1.8.3.1-23.el7_8.x86_64\\n--> Processing Dependency: perl(Term::ReadKey) for package: git-1.8.3.1-23.el7_8.x86_64\\n--> Processing Dependency: perl(Git) for package: git-1.8.3.1-23.el7_8.x86_64\\n--> Processing Dependency: perl(Getopt::Long) for package: git-1.8.3.1-23.el7_8.x86_64\\n--> Processing Dependency: perl(File::stat) for package: git-1.8.3.1-23.el7_8.x86_64\\n--> Processing Dependency: perl(File::Temp) for package: git-1.8.3.1-23.el7_8.x86_64\\n--> Processing Dependency: perl(File::Spec) for package: git-1.8.3.1-23.el7_8.x86_64\\n--> Processing Dependency: perl(File::Path) for package: git-1.8.3.1-23.el7_8.x86_64\\n--> Processing Dependency: perl(File::Find) for package: git-1.8.3.1-23.el7_8.x86_64\\n--> Processing Dependency: perl(File::Copy) for package: git-1.8.3.1-23.el7_8.x86_64\\n--> Processing Dependency: perl(File::Basename) for package: git-1.8.3.1-23.el7_8.x86_64\\n--> Processing Dependency: perl(Exporter) for package: git-1.8.3.1-23.el7_8.x86_64\\n--> Processing Dependency: perl(Error) for package: git-1.8.3.1-23.el7_8.x86_64\\n--> Processing Dependency: /usr/bin/perl for package: git-1.8.3.1-23.el7_8.x86_64\\n--> Running transaction check\\n---> Package perl.x86_64 4:5.16.3-295.el7 will be installed\\n--> Processing Dependency: perl-libs = 4:5.16.3-295.el7 for package: 4:perl-5.16.3-295.el7.x86_64\\n--> Processing Dependency: perl(Socket) >= 1.3 for package: 4:perl-5.16.3-295.el7.x86_64\\n--> Processing Dependency: perl(Scalar::Util) >= 1.10 for package: 4:perl-5.16.3-295.el7.x86_64\\n--> Processing Dependency: perl-macros for package: 4:perl-5.16.3-295.el7.x86_64\\n--> Processing Dependency: perl-libs for package: 4:perl-5.16.3-295.el7.x86_64\\n--> Processing Dependency: perl(threads::shared) for package: 4:perl-5.16.3-295.el7.x86_64\\n--> Processing Dependency: perl(threads) for package: 4:perl-5.16.3-295.el7.x86_64\\n--> Processing Dependency: perl(constant) for package: 4:perl-5.16.3-295.el7.x86_64\\n--> Processing Dependency: perl(Time::Local) for package: 4:perl-5.16.3-295.el7.x86_64\\n--> Processing Dependency: perl(Time::HiRes) for package: 4:perl-5.16.3-295.el7.x86_64\\n--> Processing Dependency: perl(Storable) for package: 4:perl-5.16.3-295.el7.x86_64\\n--> Processing Dependency: perl(Socket) for package: 4:perl-5.16.3-295.el7.x86_64\\n--> Processing Dependency: perl(Scalar::Util) for package: 4:perl-5.16.3-295.el7.x86_64\\n--> Processing Dependency: perl(Pod::Simple::XHTML) for package: 4:perl-5.16.3-295.el7.x86_64\\n--> Processing Dependency: perl(Pod::Simple::Search) for package: 4:perl-5.16.3-295.el7.x86_64\\n--> Processing Dependency: perl(Filter::Util::Call) for package: 4:perl-5.16.3-295.el7.x86_64\\n--> Processing Dependency: perl(Carp) for package: 4:perl-5.16.3-295.el7.x86_64\\n--> Processing Dependency: libperl.so()(64bit) for package: 4:perl-5.16.3-295.el7.x86_64\\n---> Package perl-Error.noarch 1:0.17020-2.el7 will be installed\\n---> Package perl-Exporter.noarch 0:5.68-3.el7 will be installed\\n---> Package perl-File-Path.noarch 0:2.09-2.el7 will be installed\\n---> Package perl-File-Temp.noarch 0:0.23.01-3.el7 will be installed\\n---> Package perl-Getopt-Long.noarch 0:2.40-3.el7 will be installed\\n--> Processing Dependency: perl(Pod::Usage) >= 1.14 for package: perl-Getopt-Long-2.40-3.el7.noarch\\n--> Processing Dependency: perl(Text::ParseWords) for package: perl-Getopt-Long-2.40-3.el7.noarch\\n---> Package perl-Git.noarch 0:1.8.3.1-23.el7_8 will be installed\\n---> Package perl-PathTools.x86_64 0:3.40-5.el7 will be installed\\n---> Package perl-TermReadKey.x86_64 0:2.30-20.el7 will be installed\\n--> Running transaction check\\n---> Package perl-Carp.noarch 0:1.26-244.el7 will be installed\\n---> Package perl-Filter.x86_64 0:1.49-3.el7 will be installed\\n---> Package perl-Pod-Simple.noarch 1:3.28-4.el7 will be installed\\n--> Processing Dependency: perl(Pod::Escapes) >= 1.04 for package: 1:perl-Pod-Simple-3.28-4.el7.noarch\\n--> Processing Dependency: perl(Encode) for package: 1:perl-Pod-Simple-3.28-4.el7.noarch\\n---> Package perl-Pod-Usage.noarch 0:1.63-3.el7 will be installed\\n--> Processing Dependency: perl(Pod::Text) >= 3.15 for package: perl-Pod-Usage-1.63-3.el7.noarch\\n--> Processing Dependency: perl-Pod-Perldoc for package: perl-Pod-Usage-1.63-3.el7.noarch\\n---> Package perl-Scalar-List-Utils.x86_64 0:1.27-248.el7 will be installed\\n---> Package perl-Socket.x86_64 0:2.010-5.el7 will be installed\\n---> Package perl-Storable.x86_64 0:2.45-3.el7 will be installed\\n---> Package perl-Text-ParseWords.noarch 0:3.29-4.el7 will be installed\\n---> Package perl-Time-HiRes.x86_64 4:1.9725-3.el7 will be installed\\n---> Package perl-Time-Local.noarch 0:1.2300-2.el7 will be installed\\n---> Package perl-constant.noarch 0:1.27-2.el7 will be installed\\n---> Package perl-libs.x86_64 4:5.16.3-295.el7 will be installed\\n---> Package perl-macros.x86_64 4:5.16.3-295.el7 will be installed\\n---> Package perl-threads.x86_64 0:1.87-4.el7 will be installed\\n---> Package perl-threads-shared.x86_64 0:1.43-6.el7 will be installed\\n--> Running transaction check\\n---> Package perl-Encode.x86_64 0:2.51-7.el7 will be installed\\n---> Package perl-Pod-Escapes.noarch 1:1.04-295.el7 will be installed\\n---> Package perl-Pod-Perldoc.noarch 0:3.20-4.el7 will be installed\\n--> Processing Dependency: perl(parent) for package: perl-Pod-Perldoc-3.20-4.el7.noarch\\n--> Processing Dependency: perl(HTTP::Tiny) for package: perl-Pod-Perldoc-3.20-4.el7.noarch\\n---> Package perl-podlators.noarch 0:2.5.1-3.el7 will be installed\\n--> Running transaction check\\n---> Package perl-HTTP-Tiny.noarch 0:0.033-3.el7 will be installed\\n---> Package perl-parent.noarch 1:0.225-244.el7 will be installed\\n--> Finished Dependency Resolution\\n\\nDependencies Resolved\\n\\n================================================================================\\n Package                    Arch       Version                Repository   Size\\n================================================================================\\nInstalling:\\n git                        x86_64     1.8.3.1-23.el7_8       updates     4.4 M\\nInstalling for dependencies:\\n perl                       x86_64     4:5.16.3-295.el7       base        8.0 M\\n perl-Carp                  noarch     1.26-244.el7           base         19 k\\n perl-Encode                x86_64     2.51-7.el7             base        1.5 M\\n perl-Error                 noarch     1:0.17020-2.el7        base         32 k\\n perl-Exporter              noarch     5.68-3.el7             base         28 k\\n perl-File-Path             noarch     2.09-2.el7             base         26 k\\n perl-File-Temp             noarch     0.23.01-3.el7          base         56 k\\n perl-Filter                x86_64     1.49-3.el7             base         76 k\\n perl-Getopt-Long           noarch     2.40-3.el7             base         56 k\\n perl-Git                   noarch     1.8.3.1-23.el7_8       updates      56 k\\n perl-HTTP-Tiny             noarch     0.033-3.el7            base         38 k\\n perl-PathTools             x86_64     3.40-5.el7             base         82 k\\n perl-Pod-Escapes           noarch     1:1.04-295.el7         base         51 k\\n perl-Pod-Perldoc           noarch     3.20-4.el7             base         87 k\\n perl-Pod-Simple            noarch     1:3.28-4.el7           base        216 k\\n perl-Pod-Usage             noarch     1.63-3.el7             base         27 k\\n perl-Scalar-List-Utils     x86_64     1.27-248.el7           base         36 k\\n perl-Socket                x86_64     2.010-5.el7            base         49 k\\n perl-Storable              x86_64     2.45-3.el7             base         77 k\\n perl-TermReadKey           x86_64     2.30-20.el7            base         31 k\\n perl-Text-ParseWords       noarch     3.29-4.el7             base         14 k\\n perl-Time-HiRes            x86_64     4:1.9725-3.el7         base         45 k\\n perl-Time-Local            noarch     1.2300-2.el7           base         24 k\\n perl-constant              noarch     1.27-2.el7             base         19 k\\n perl-libs                  x86_64     4:5.16.3-295.el7       base        689 k\\n perl-macros                x86_64     4:5.16.3-295.el7       base         44 k\\n perl-parent                noarch     1:0.225-244.el7        base         12 k\\n perl-podlators             noarch     2.5.1-3.el7            base        112 k\\n perl-threads               x86_64     1.87-4.el7             base         49 k\\n perl-threads-shared        x86_64     1.43-6.el7             base         39 k\\n\\nTransaction Summary\\n================================================================================\\nInstall  1 Package (+30 Dependent packages)\\n\\nTotal download size: 16 M\\nInstalled size: 59 M\\nDownloading packages:\\nPublic key for perl-Carp-1.26-244.el7.noarch.rpm is not installed\\nPublic key for git-1.8.3.1-23.el7_8.x86_64.rpm is not installed\\n--------------------------------------------------------------------------------\\nTotal                                               15 MB/s |  16 MB  00:01     \\nRetrieving key from file:///etc/pki/rpm-gpg/RPM-GPG-KEY-CentOS-7\\nRunning transaction check\\nRunning transaction test\\nTransaction test succeeded\\nRunning transaction\\n  Installing : 1:perl-parent-0.225-244.el7.noarch                          1/31 \\n  Installing : perl-HTTP-Tiny-0.033-3.el7.noarch                           2/31 \\n  Installing : perl-podlators-2.5.1-3.el7.noarch                           3/31 \\n  Installing : perl-Pod-Perldoc-3.20-4.el7.noarch                          4/31 \\n  Installing : 1:perl-Pod-Escapes-1.04-295.el7.noarch                      5/31 \\n  Installing : perl-Text-ParseWords-3.29-4.el7.noarch                      6/31 \\n  Installing : perl-Encode-2.51-7.el7.x86_64                               7/31 \\n  Installing : perl-Pod-Usage-1.63-3.el7.noarch                            8/31 \\n  Installing : 4:perl-libs-5.16.3-295.el7.x86_64                           9/31 \\n  Installing : 4:perl-macros-5.16.3-295.el7.x86_64                        10/31 \\n  Installing : perl-Storable-2.45-3.el7.x86_64                            11/31 \\n  Installing : perl-Exporter-5.68-3.el7.noarch                            12/31 \\n  Installing : perl-constant-1.27-2.el7.noarch                            13/31 \\n  Installing : perl-Socket-2.010-5.el7.x86_64                             14/31 \\n  Installing : perl-Time-Local-1.2300-2.el7.noarch                        15/31 \\n  Installing : perl-Carp-1.26-244.el7.noarch                              16/31 \\n  Installing : 4:perl-Time-HiRes-1.9725-3.el7.x86_64                      17/31 \\n  Installing : perl-PathTools-3.40-5.el7.x86_64                           18/31 \\n  Installing : perl-Scalar-List-Utils-1.27-248.el7.x86_64                 19/31 \\n  Installing : perl-File-Temp-0.23.01-3.el7.noarch                        20/31 \\n  Installing : perl-File-Path-2.09-2.el7.noarch                           21/31 \\n  Installing : perl-threads-shared-1.43-6.el7.x86_64                      22/31 \\n  Installing : perl-threads-1.87-4.el7.x86_64                             23/31 \\n  Installing : perl-Filter-1.49-3.el7.x86_64                              24/31 \\n  Installing : 1:perl-Pod-Simple-3.28-4.el7.noarch                        25/31 \\n  Installing : perl-Getopt-Long-2.40-3.el7.noarch                         26/31 \\n  Installing : 4:perl-5.16.3-295.el7.x86_64                               27/31 \\n  Installing : 1:perl-Error-0.17020-2.el7.noarch                          28/31 \\n  Installing : perl-TermReadKey-2.30-20.el7.x86_64                        29/31 \\n  Installing : git-1.8.3.1-23.el7_8.x86_64                                30/31 \\n  Installing : perl-Git-1.8.3.1-23.el7_8.noarch                           31/31 \\n  Verifying  : perl-HTTP-Tiny-0.033-3.el7.noarch                           1/31 \\n  Verifying  : perl-threads-shared-1.43-6.el7.x86_64                       2/31 \\n  Verifying  : perl-Storable-2.45-3.el7.x86_64                             3/31 \\n  Verifying  : 1:perl-Pod-Escapes-1.04-295.el7.noarch                      4/31 \\n  Verifying  : perl-Exporter-5.68-3.el7.noarch                             5/31 \\n  Verifying  : perl-constant-1.27-2.el7.noarch                             6/31 \\n  Verifying  : perl-PathTools-3.40-5.el7.x86_64                            7/31 \\n  Verifying  : perl-Socket-2.010-5.el7.x86_64                              8/31 \\n  Verifying  : git-1.8.3.1-23.el7_8.x86_64                                 9/31 \\n  Verifying  : 1:perl-parent-0.225-244.el7.noarch                         10/31 \\n  Verifying  : perl-TermReadKey-2.30-20.el7.x86_64                        11/31 \\n  Verifying  : 4:perl-libs-5.16.3-295.el7.x86_64                          12/31 \\n  Verifying  : perl-File-Temp-0.23.01-3.el7.noarch                        13/31 \\n  Verifying  : 1:perl-Pod-Simple-3.28-4.el7.noarch                        14/31 \\n  Verifying  : perl-Time-Local-1.2300-2.el7.noarch                        15/31 \\n  Verifying  : 4:perl-macros-5.16.3-295.el7.x86_64                        16/31 \\n  Verifying  : 4:perl-5.16.3-295.el7.x86_64                               17/31 \\n  Verifying  : perl-Carp-1.26-244.el7.noarch                              18/31 \\n  Verifying  : 1:perl-Error-0.17020-2.el7.noarch                          19/31 \\n  Verifying  : 4:perl-Time-HiRes-1.9725-3.el7.x86_64                      20/31 \\n  Verifying  : perl-Scalar-List-Utils-1.27-248.el7.x86_64                 21/31 \\n  Verifying  : perl-Pod-Usage-1.63-3.el7.noarch                           22/31 \\n  Verifying  : perl-Encode-2.51-7.el7.x86_64                              23/31 \\n  Verifying  : perl-Pod-Perldoc-3.20-4.el7.noarch                         24/31 \\n  Verifying  : perl-podlators-2.5.1-3.el7.noarch                          25/31 \\n  Verifying  : perl-File-Path-2.09-2.el7.noarch                           26/31 \\n  Verifying  : perl-threads-1.87-4.el7.x86_64                             27/31 \\n  Verifying  : perl-Git-1.8.3.1-23.el7_8.noarch                           28/31 \\n  Verifying  : perl-Filter-1.49-3.el7.x86_64                              29/31 \\n  Verifying  : perl-Getopt-Long-2.40-3.el7.noarch                         30/31 \\n  Verifying  : perl-Text-ParseWords-3.29-4.el7.noarch                     31/31 \\n\\nInstalled:\\n  git.x86_64 0:1.8.3.1-23.el7_8                                                 \\n\\nDependency Installed:\\n  perl.x86_64 4:5.16.3-295.el7                                                  \\n  perl-Carp.noarch 0:1.26-244.el7                                               \\n  perl-Encode.x86_64 0:2.51-7.el7                                               \\n  perl-Error.noarch 1:0.17020-2.el7                                             \\n  perl-Exporter.noarch 0:5.68-3.el7                                             \\n  perl-File-Path.noarch 0:2.09-2.el7                                            \\n  perl-File-Temp.noarch 0:0.23.01-3.el7                                         \\n  perl-Filter.x86_64 0:1.49-3.el7                                               \\n  perl-Getopt-Long.noarch 0:2.40-3.el7                                          \\n  perl-Git.noarch 0:1.8.3.1-23.el7_8                                            \\n  perl-HTTP-Tiny.noarch 0:0.033-3.el7                                           \\n  perl-PathTools.x86_64 0:3.40-5.el7                                            \\n  perl-Pod-Escapes.noarch 1:1.04-295.el7                                        \\n  perl-Pod-Perldoc.noarch 0:3.20-4.el7                                          \\n  perl-Pod-Simple.noarch 1:3.28-4.el7                                           \\n  perl-Pod-Usage.noarch 0:1.63-3.el7                                            \\n  perl-Scalar-List-Utils.x86_64 0:1.27-248.el7                                  \\n  perl-Socket.x86_64 0:2.010-5.el7                                              \\n  perl-Storable.x86_64 0:2.45-3.el7                                             \\n  perl-TermReadKey.x86_64 0:2.30-20.el7                                         \\n  perl-Text-ParseWords.noarch 0:3.29-4.el7                                      \\n  perl-Time-HiRes.x86_64 4:1.9725-3.el7                                         \\n  perl-Time-Local.noarch 0:1.2300-2.el7                                         \\n  perl-constant.noarch 0:1.27-2.el7                                             \\n  perl-libs.x86_64 4:5.16.3-295.el7                                             \\n  perl-macros.x86_64 4:5.16.3-295.el7                                           \\n  perl-parent.noarch 1:0.225-244.el7                                            \\n  perl-podlators.noarch 0:2.5.1-3.el7                                           \\n  perl-threads.x86_64 0:1.87-4.el7                                              \\n  perl-threads-shared.x86_64 0:1.43-6.el7                                       \\n\\nComplete!\\n\"\u001b[0m\r\n",
      "\u001b[0;33m    ]\u001b[0m\r\n",
      "\u001b[0;33m}\u001b[0m\r\n"
     ]
    }
   ],
   "source": [
    "!ansible -b -m yum -a 'name=git' {target_group}"
   ]
  },
  {
   "cell_type": "markdown",
   "metadata": {
    "lc_cell_meme": {
     "current": "04de4cc4-bc04-11ea-a44b-0242ac110002-2-a426-b9a0",
     "history": [
      {
       "current": "04de4cc4-bc04-11ea-a44b-0242ac110002-1-a426",
       "next": "815db7d6-bc03-11ea-a44b-0242ac110002",
       "previous": "815db6d2-bc03-11ea-a44b-0242ac110002"
      },
      {
       "current": "04de4cc4-bc04-11ea-a44b-0242ac110002-2-a426-b9a0",
       "next": "815db7d6-bc03-11ea-a44b-0242ac110002-1-608b",
       "previous": "815db6d2-bc03-11ea-a44b-0242ac110002-1-1cdd"
      }
     ],
     "next": "815db7d6-bc03-11ea-a44b-0242ac110002-2-608b-a92a",
     "previous": "815db6d2-bc03-11ea-a44b-0242ac110002-2-1cdd-0e02"
    }
   },
   "source": [
    "リポジトリのcloneはAnsible gitモジュールを使う。"
   ]
  },
  {
   "cell_type": "code",
   "execution_count": 12,
   "metadata": {
    "deletable": false,
    "editable": false,
    "lc_cell_meme": {
     "current": "815db7d6-bc03-11ea-a44b-0242ac110002-2-608b-a92a",
     "execution_end_time": "2020-07-02T02:18:59.888783Z",
     "history": [
      {
       "current": "815db7d6-bc03-11ea-a44b-0242ac110002",
       "next": "815db8b2-bc03-11ea-a44b-0242ac110002",
       "previous": "815db6d2-bc03-11ea-a44b-0242ac110002"
      },
      {
       "current": "815db7d6-bc03-11ea-a44b-0242ac110002-1-608b",
       "next": "04de4e9a-bc04-11ea-a44b-0242ac110002",
       "previous": "04de4cc4-bc04-11ea-a44b-0242ac110002"
      },
      {
       "current": "815db7d6-bc03-11ea-a44b-0242ac110002-2-608b-a92a",
       "next": "04de4e9a-bc04-11ea-a44b-0242ac110002-1-1795",
       "previous": "04de4cc4-bc04-11ea-a44b-0242ac110002-1-a426"
      }
     ],
     "next": "04de4e9a-bc04-11ea-a44b-0242ac110002-2-1795-8aa2",
     "previous": "04de4cc4-bc04-11ea-a44b-0242ac110002-2-a426-b9a0"
    },
    "lc_wrapper": {
     "log_history": [
      "/home/jovyan/05_AWS_VMへのOpHub環境構築例/.log/20200702/20200702-012915-0414.log",
      "/home/jovyan/05_AWS_VMへのOpHub環境構築例/.log/20200702/20200702-013158-0887.log",
      "/home/jovyan/05_AWS_VMへのOpHub環境構築例/.log/20200702/20200702-013557-0518.log",
      "/home/jovyan/05_AWS_VMへのOpHub環境構築例/.log/20200702/20200702-021851-0285.log"
     ]
    },
    "run_through_control": {
     "frozen": true,
     "read_only": false
    }
   },
   "outputs": [
    {
     "name": "stdout",
     "output_type": "stream",
     "text": [
      "\u001b[0;33mec2-52-42-214-180.us-west-2.compute.amazonaws.com | CHANGED => {\u001b[0m\r\n",
      "\u001b[0;33m    \"after\": \"7efb3c44bc8bd8c34344be39d1bd3ff3d4b00c2c\",\u001b[0m\r\n",
      "\u001b[0;33m    \"before\": null,\u001b[0m\r\n",
      "\u001b[0;33m    \"changed\": true\u001b[0m\r\n",
      "\u001b[0;33m}\u001b[0m\r\n"
     ]
    }
   ],
   "source": [
    "!ansible -b -m git -a 'repo=https://github.com/NII-cloud-operation/OperationHub.git dest={ophub_dir}' {target_group}"
   ]
  },
  {
   "cell_type": "markdown",
   "metadata": {
    "lc_cell_meme": {
     "current": "04de4e9a-bc04-11ea-a44b-0242ac110002-2-1795-8aa2",
     "history": [
      {
       "current": "04de4e9a-bc04-11ea-a44b-0242ac110002-1-1795",
       "next": "815db8b2-bc03-11ea-a44b-0242ac110002",
       "previous": "815db7d6-bc03-11ea-a44b-0242ac110002"
      },
      {
       "current": "04de4e9a-bc04-11ea-a44b-0242ac110002-2-1795-8aa2",
       "next": "815db8b2-bc03-11ea-a44b-0242ac110002-1-0c66",
       "previous": "815db7d6-bc03-11ea-a44b-0242ac110002-1-608b"
      }
     ],
     "next": "815db8b2-bc03-11ea-a44b-0242ac110002-2-0c66-6d67",
     "previous": "815db7d6-bc03-11ea-a44b-0242ac110002-2-608b-a92a"
    }
   },
   "source": [
    "cloneされたバージョンを押さえておこう... あとでうまく動作しなくなった！と言う時に良いヒントとなります。"
   ]
  },
  {
   "cell_type": "code",
   "execution_count": 13,
   "metadata": {
    "deletable": false,
    "editable": false,
    "lc_cell_meme": {
     "current": "815db8b2-bc03-11ea-a44b-0242ac110002-2-0c66-6d67",
     "execution_end_time": "2020-07-02T02:19:12.903233Z",
     "history": [
      {
       "current": "815db8b2-bc03-11ea-a44b-0242ac110002",
       "next": null,
       "previous": "815db7d6-bc03-11ea-a44b-0242ac110002"
      },
      {
       "current": "815db8b2-bc03-11ea-a44b-0242ac110002",
       "next": "04de4f9e-bc04-11ea-a44b-0242ac110002",
       "previous": "04de4e9a-bc04-11ea-a44b-0242ac110002"
      },
      {
       "current": "815db8b2-bc03-11ea-a44b-0242ac110002-1-0c66",
       "next": "04de4f9e-bc04-11ea-a44b-0242ac110002-1-504a",
       "previous": "04de4e9a-bc04-11ea-a44b-0242ac110002"
      },
      {
       "current": "815db8b2-bc03-11ea-a44b-0242ac110002-2-0c66-6d67",
       "next": "04de4f9e-bc04-11ea-a44b-0242ac110002-2-504a-6f03",
       "previous": "04de4e9a-bc04-11ea-a44b-0242ac110002-1-1795"
      }
     ],
     "next": "04de4f9e-bc04-11ea-a44b-0242ac110002-3-504a-6f03-7360",
     "previous": "04de4e9a-bc04-11ea-a44b-0242ac110002-2-1795-8aa2"
    },
    "lc_wrapper": {
     "log_history": [
      "/home/jovyan/05_AWS_VMへのOpHub環境構築例/.log/20200702/20200702-013604-0562.log",
      "/home/jovyan/05_AWS_VMへのOpHub環境構築例/.log/20200702/20200702-013621-0193.log",
      "/home/jovyan/05_AWS_VMへのOpHub環境構築例/.log/20200702/20200702-021859-0899.log"
     ]
    },
    "run_through_control": {
     "frozen": true,
     "read_only": false
    },
    "scrolled": true
   },
   "outputs": [
    {
     "name": "stdout",
     "output_type": "stream",
     "text": [
      "\u001b[0;33mec2-52-42-214-180.us-west-2.compute.amazonaws.com | CHANGED | rc=0 >>\u001b[0m\n",
      "\u001b[0;33mtotal 48\u001b[0m\n",
      "\u001b[0;33mdrwxr-xr-x. 6 root root   244 Jul  2 02:18 .\u001b[0m\n",
      "\u001b[0;33mdrwxr-xr-x. 3 root root    19 Jul  2 02:16 ..\u001b[0m\n",
      "\u001b[0;33m-rw-r--r--. 1 root root  3127 Jul  2 02:18 docker-compose.yml\u001b[0m\n",
      "\u001b[0;33m-rw-r--r--. 1 root root   566 Jul  2 02:18 .env.sample\u001b[0m\n",
      "\u001b[0;33mdrwxr-xr-x. 8 root root   180 Jul  2 02:18 .git\u001b[0m\n",
      "\u001b[0;33m-rw-r--r--. 1 root root    14 Jul  2 02:18 .gitignore\u001b[0m\n",
      "\u001b[0;33mdrwxr-xr-x. 2 root root   126 Jul  2 02:18 host-service\u001b[0m\n",
      "\u001b[0;33mdrwxr-xr-x. 4 root root    37 Jul  2 02:18 images\u001b[0m\n",
      "\u001b[0;33m-rwxr-xr-x. 1 root root   598 Jul  2 02:18 install-docker.sh\u001b[0m\n",
      "\u001b[0;33m-rwxr-xr-x. 1 root root   972 Jul  2 02:18 install-host-services.sh\u001b[0m\n",
      "\u001b[0;33m-rw-r--r--. 1 root root 10321 Jul  2 02:18 jupyterhub-logo.png\u001b[0m\n",
      "\u001b[0;33m-rw-r--r--. 1 root root  1534 Jul  2 02:18 LICENSE\u001b[0m\n",
      "\u001b[0;33mdrwxr-xr-x. 2 root root    33 Jul  2 02:18 nginx\u001b[0m\n",
      "\u001b[0;33m-rw-r--r--. 1 root root  8304 Jul  2 02:18 README.md\u001b[0m\n",
      "\u001b[0;33mec2-52-42-214-180.us-west-2.compute.amazonaws.com | CHANGED | rc=0 >>\u001b[0m\n",
      "\u001b[0;33mcommit 7efb3c44bc8bd8c34344be39d1bd3ff3d4b00c2c\u001b[0m\n",
      "\u001b[0;33mMerge: f04d0b1 6f2bf53\u001b[0m\n",
      "\u001b[0;33mAuthor: Shingo Nakagawa <shingo.nakagawa@gmail.com>\u001b[0m\n",
      "\u001b[0;33mDate:   Wed Jul 1 12:03:40 2020 +0900\u001b[0m\n",
      "\u001b[0;33m\u001b[0m\n",
      "\u001b[0;33m    Merge pull request #10 from shingo78/fix/systemd-units-install\u001b[0m\n",
      "\u001b[0;33m    \u001b[0m\n",
      "\u001b[0;33m    Add Install section to the Systemd unit files\u001b[0m\n"
     ]
    }
   ],
   "source": [
    "!ansible -a 'ls -la {ophub_dir}' {target_group}\n",
    "!ansible -a 'chdir={ophub_dir} git log -1' {target_group}"
   ]
  },
  {
   "cell_type": "markdown",
   "metadata": {
    "lc_cell_meme": {
     "current": "04de4f9e-bc04-11ea-a44b-0242ac110002-3-504a-6f03-7360",
     "history": [
      {
       "current": "04de4f9e-bc04-11ea-a44b-0242ac110002",
       "next": null,
       "previous": "815db8b2-bc03-11ea-a44b-0242ac110002"
      },
      {
       "current": "04de4f9e-bc04-11ea-a44b-0242ac110002-2-504a-6f03",
       "next": "391eed90-bc04-11ea-a44b-0242ac110002",
       "previous": "815db8b2-bc03-11ea-a44b-0242ac110002"
      },
      {
       "current": "04de4f9e-bc04-11ea-a44b-0242ac110002-3-504a-6f03-7360",
       "next": "391eed90-bc04-11ea-a44b-0242ac110002-1-913f",
       "previous": "815db8b2-bc03-11ea-a44b-0242ac110002-1-0c66"
      }
     ],
     "next": "391eed90-bc04-11ea-a44b-0242ac110002-2-913f-27ee",
     "previous": "815db8b2-bc03-11ea-a44b-0242ac110002-2-0c66-6d67"
    }
   },
   "source": [
    "##  Step 2: Install Docker Engine and docker-compose\n",
    "\n",
    "Docker EngineとDocker Composeを対象ホストにインストールする。"
   ]
  },
  {
   "cell_type": "code",
   "execution_count": 14,
   "metadata": {
    "deletable": false,
    "editable": false,
    "lc_cell_meme": {
     "current": "391eed90-bc04-11ea-a44b-0242ac110002-2-913f-27ee",
     "execution_end_time": "2020-07-02T02:19:55.339534Z",
     "history": [
      {
       "current": "391eed90-bc04-11ea-a44b-0242ac110002",
       "next": null,
       "previous": "04de4f9e-bc04-11ea-a44b-0242ac110002"
      },
      {
       "current": "391eed90-bc04-11ea-a44b-0242ac110002",
       "next": null,
       "previous": "04de4f9e-bc04-11ea-a44b-0242ac110002-1-504a"
      },
      {
       "current": "391eed90-bc04-11ea-a44b-0242ac110002-1-913f",
       "next": "e3b116f2-bc04-11ea-a44b-0242ac110002",
       "previous": "04de4f9e-bc04-11ea-a44b-0242ac110002-1-504a"
      },
      {
       "current": "391eed90-bc04-11ea-a44b-0242ac110002-2-913f-27ee",
       "next": "e3b116f2-bc04-11ea-a44b-0242ac110002-1-0c94",
       "previous": "04de4f9e-bc04-11ea-a44b-0242ac110002-2-504a-6f03"
      }
     ],
     "next": "e3b116f2-bc04-11ea-a44b-0242ac110002-2-0c94-e42e",
     "previous": "04de4f9e-bc04-11ea-a44b-0242ac110002-3-504a-6f03-7360"
    },
    "lc_wrapper": {
     "log_history": [
      "/home/jovyan/05_AWS_VMへのOpHub環境構築例/.log/20200702/20200702-013738-0494.log",
      "/home/jovyan/05_AWS_VMへのOpHub環境構築例/.log/20200702/20200702-021912-0913.log"
     ]
    },
    "run_through_control": {
     "frozen": true,
     "read_only": false
    }
   },
   "outputs": [
    {
     "name": "stdout",
     "output_type": "stream",
     "text": [
      "\u001b[0;33mec2-52-42-214-180.us-west-2.compute.amazonaws.com | CHANGED | rc=0 >>\u001b[0m\r\n",
      "\u001b[0;33mLoaded plugins: fastestmirror\u001b[0m\r\n",
      "\u001b[0;33mLoading mirror speeds from cached hostfile\u001b[0m\r\n",
      "\u001b[0;33m * base: d36uatko69830t.cloudfront.net\u001b[0m\r\n",
      "\u001b[0;33m * extras: d36uatko69830t.cloudfront.net\u001b[0m\r\n",
      "\u001b[0;33m * updates: d36uatko69830t.cloudfront.net\u001b[0m\r\n",
      "\u001b[0;33mResolving Dependencies\u001b[0m\r\n",
      "\u001b[0;33m--> Running transaction check\u001b[0m\r\n",
      "\u001b[0;33m---> Package device-mapper-persistent-data.x86_64 0:0.8.5-2.el7 will be installed\u001b[0m\r\n",
      "\u001b[0;33m--> Processing Dependency: libaio.so.1(LIBAIO_0.4)(64bit) for package: device-mapper-persistent-data-0.8.5-2.el7.x86_64\u001b[0m\r\n",
      "\u001b[0;33m--> Processing Dependency: libaio.so.1(LIBAIO_0.1)(64bit) for package: device-mapper-persistent-data-0.8.5-2.el7.x86_64\u001b[0m\r\n",
      "\u001b[0;33m--> Processing Dependency: libaio.so.1()(64bit) for package: device-mapper-persistent-data-0.8.5-2.el7.x86_64\u001b[0m\r\n",
      "\u001b[0;33m---> Package lvm2.x86_64 7:2.02.186-7.el7_8.2 will be installed\u001b[0m\r\n",
      "\u001b[0;33m--> Processing Dependency: lvm2-libs = 7:2.02.186-7.el7_8.2 for package: 7:lvm2-2.02.186-7.el7_8.2.x86_64\u001b[0m\r\n",
      "\u001b[0;33m--> Processing Dependency: liblvm2app.so.2.2(Base)(64bit) for package: 7:lvm2-2.02.186-7.el7_8.2.x86_64\u001b[0m\r\n",
      "\u001b[0;33m--> Processing Dependency: libdevmapper-event.so.1.02(Base)(64bit) for package: 7:lvm2-2.02.186-7.el7_8.2.x86_64\u001b[0m\r\n",
      "\u001b[0;33m--> Processing Dependency: liblvm2app.so.2.2()(64bit) for package: 7:lvm2-2.02.186-7.el7_8.2.x86_64\u001b[0m\r\n",
      "\u001b[0;33m--> Processing Dependency: libdevmapper-event.so.1.02()(64bit) for package: 7:lvm2-2.02.186-7.el7_8.2.x86_64\u001b[0m\r\n",
      "\u001b[0;33m---> Package yum-utils.noarch 0:1.1.31-52.el7 will be updated\u001b[0m\r\n",
      "\u001b[0;33m---> Package yum-utils.noarch 0:1.1.31-54.el7_8 will be an update\u001b[0m\r\n",
      "\u001b[0;33m--> Running transaction check\u001b[0m\r\n",
      "\u001b[0;33m---> Package device-mapper-event-libs.x86_64 7:1.02.164-7.el7_8.2 will be installed\u001b[0m\r\n",
      "\u001b[0;33m---> Package libaio.x86_64 0:0.3.109-13.el7 will be installed\u001b[0m\r\n",
      "\u001b[0;33m---> Package lvm2-libs.x86_64 7:2.02.186-7.el7_8.2 will be installed\u001b[0m\r\n",
      "\u001b[0;33m--> Processing Dependency: device-mapper-event = 7:1.02.164-7.el7_8.2 for package: 7:lvm2-libs-2.02.186-7.el7_8.2.x86_64\u001b[0m\r\n",
      "\u001b[0;33m--> Running transaction check\u001b[0m\r\n",
      "\u001b[0;33m---> Package device-mapper-event.x86_64 7:1.02.164-7.el7_8.2 will be installed\u001b[0m\r\n",
      "\u001b[0;33m--> Processing Dependency: device-mapper = 7:1.02.164-7.el7_8.2 for package: 7:device-mapper-event-1.02.164-7.el7_8.2.x86_64\u001b[0m\r\n",
      "\u001b[0;33m--> Running transaction check\u001b[0m\r\n",
      "\u001b[0;33m---> Package device-mapper.x86_64 7:1.02.158-2.el7_7.2 will be updated\u001b[0m\r\n",
      "\u001b[0;33m--> Processing Dependency: device-mapper = 7:1.02.158-2.el7_7.2 for package: 7:device-mapper-libs-1.02.158-2.el7_7.2.x86_64\u001b[0m\r\n",
      "\u001b[0;33m---> Package device-mapper.x86_64 7:1.02.164-7.el7_8.2 will be an update\u001b[0m\r\n",
      "\u001b[0;33m--> Running transaction check\u001b[0m\r\n",
      "\u001b[0;33m---> Package device-mapper-libs.x86_64 7:1.02.158-2.el7_7.2 will be updated\u001b[0m\r\n",
      "\u001b[0;33m---> Package device-mapper-libs.x86_64 7:1.02.164-7.el7_8.2 will be an update\u001b[0m\r\n",
      "\u001b[0;33m--> Finished Dependency Resolution\u001b[0m\r\n",
      "\u001b[0;33m\u001b[0m\r\n",
      "\u001b[0;33mDependencies Resolved\u001b[0m\r\n",
      "\u001b[0;33m\u001b[0m\r\n",
      "\u001b[0;33m================================================================================\u001b[0m\r\n",
      "\u001b[0;33m Package                        Arch    Version                  Repository\u001b[0m\r\n",
      "\u001b[0;33m                                                                           Size\u001b[0m\r\n",
      "\u001b[0;33m================================================================================\u001b[0m\r\n",
      "\u001b[0;33mInstalling:\u001b[0m\r\n",
      "\u001b[0;33m device-mapper-persistent-data  x86_64  0.8.5-2.el7              base     422 k\u001b[0m\r\n",
      "\u001b[0;33m lvm2                           x86_64  7:2.02.186-7.el7_8.2     updates  1.3 M\u001b[0m\r\n",
      "\u001b[0;33mUpdating:\u001b[0m\r\n",
      "\u001b[0;33m yum-utils                      noarch  1.1.31-54.el7_8          updates  122 k\u001b[0m\r\n",
      "\u001b[0;33mInstalling for dependencies:\u001b[0m\r\n",
      "\u001b[0;33m device-mapper-event            x86_64  7:1.02.164-7.el7_8.2     updates  191 k\u001b[0m\r\n",
      "\u001b[0;33m device-mapper-event-libs       x86_64  7:1.02.164-7.el7_8.2     updates  190 k\u001b[0m\r\n",
      "\u001b[0;33m libaio                         x86_64  0.3.109-13.el7           base      24 k\u001b[0m\r\n",
      "\u001b[0;33m lvm2-libs                      x86_64  7:2.02.186-7.el7_8.2     updates  1.1 M\u001b[0m\r\n",
      "\u001b[0;33mUpdating for dependencies:\u001b[0m\r\n",
      "\u001b[0;33m device-mapper                  x86_64  7:1.02.164-7.el7_8.2     updates  295 k\u001b[0m\r\n",
      "\u001b[0;33m device-mapper-libs             x86_64  7:1.02.164-7.el7_8.2     updates  324 k\u001b[0m\r\n",
      "\u001b[0;33m\u001b[0m\r\n",
      "\u001b[0;33mTransaction Summary\u001b[0m\r\n",
      "\u001b[0;33m================================================================================\u001b[0m\r\n",
      "\u001b[0;33mInstall  2 Packages (+4 Dependent packages)\u001b[0m\r\n",
      "\u001b[0;33mUpgrade  1 Package  (+2 Dependent packages)\u001b[0m\r\n",
      "\u001b[0;33m\u001b[0m\r\n",
      "\u001b[0;33mTotal download size: 3.9 M\u001b[0m\r\n",
      "\u001b[0;33mDownloading packages:\u001b[0m\r\n",
      "\u001b[0;33mDelta RPMs disabled because /usr/bin/applydeltarpm not installed.\u001b[0m\r\n",
      "\u001b[0;33m--------------------------------------------------------------------------------\u001b[0m\r\n",
      "\u001b[0;33mTotal                                              9.6 MB/s | 3.9 MB  00:00     \u001b[0m\r\n",
      "\u001b[0;33mRunning transaction check\u001b[0m\r\n",
      "\u001b[0;33mRunning transaction test\u001b[0m\r\n",
      "\u001b[0;33mTransaction test succeeded\u001b[0m\r\n",
      "\u001b[0;33mRunning transaction\u001b[0m\r\n",
      "\u001b[0;33m  Updating   : 7:device-mapper-1.02.164-7.el7_8.2.x86_64                   1/12 \u001b[0m\r\n",
      "\u001b[0;33m  Updating   : 7:device-mapper-libs-1.02.164-7.el7_8.2.x86_64              2/12 \u001b[0m\r\n",
      "\u001b[0;33m  Installing : 7:device-mapper-event-libs-1.02.164-7.el7_8.2.x86_64        3/12 \u001b[0m\r\n",
      "\u001b[0;33m  Installing : libaio-0.3.109-13.el7.x86_64                                4/12 \u001b[0m\r\n",
      "\u001b[0;33m  Installing : device-mapper-persistent-data-0.8.5-2.el7.x86_64            5/12 \u001b[0m\r\n",
      "\u001b[0;33m  Installing : 7:device-mapper-event-1.02.164-7.el7_8.2.x86_64             6/12 \u001b[0m\r\n",
      "\u001b[0;33m  Installing : 7:lvm2-libs-2.02.186-7.el7_8.2.x86_64                       7/12 \u001b[0m\r\n",
      "\u001b[0;33m  Installing : 7:lvm2-2.02.186-7.el7_8.2.x86_64                            8/12 \u001b[0m\r\n",
      "\u001b[0;33m  Updating   : yum-utils-1.1.31-54.el7_8.noarch                            9/12 \u001b[0m\r\n",
      "\u001b[0;33m  Cleanup    : yum-utils-1.1.31-52.el7.noarch                             10/12 \u001b[0m\r\n",
      "\u001b[0;33m  Cleanup    : 7:device-mapper-1.02.158-2.el7_7.2.x86_64                  11/12 \u001b[0m\r\n",
      "\u001b[0;33m  Cleanup    : 7:device-mapper-libs-1.02.158-2.el7_7.2.x86_64             12/12 \u001b[0m\r\n",
      "\u001b[0;33m  Verifying  : device-mapper-persistent-data-0.8.5-2.el7.x86_64            1/12 \u001b[0m\r\n",
      "\u001b[0;33m  Verifying  : 7:lvm2-libs-2.02.186-7.el7_8.2.x86_64                       2/12 \u001b[0m\r\n",
      "\u001b[0;33m  Verifying  : 7:device-mapper-event-1.02.164-7.el7_8.2.x86_64             3/12 \u001b[0m\r\n",
      "\u001b[0;33m  Verifying  : 7:lvm2-2.02.186-7.el7_8.2.x86_64                            4/12 \u001b[0m\r\n",
      "\u001b[0;33m  Verifying  : 7:device-mapper-libs-1.02.164-7.el7_8.2.x86_64              5/12 \u001b[0m\r\n",
      "\u001b[0;33m  Verifying  : libaio-0.3.109-13.el7.x86_64                                6/12 \u001b[0m\r\n",
      "\u001b[0;33m  Verifying  : yum-utils-1.1.31-54.el7_8.noarch                            7/12 \u001b[0m\r\n",
      "\u001b[0;33m  Verifying  : 7:device-mapper-1.02.164-7.el7_8.2.x86_64                   8/12 \u001b[0m\r\n",
      "\u001b[0;33m  Verifying  : 7:device-mapper-event-libs-1.02.164-7.el7_8.2.x86_64        9/12 \u001b[0m\r\n",
      "\u001b[0;33m  Verifying  : 7:device-mapper-libs-1.02.158-2.el7_7.2.x86_64             10/12 \u001b[0m\r\n",
      "\u001b[0;33m  Verifying  : 7:device-mapper-1.02.158-2.el7_7.2.x86_64                  11/12 \u001b[0m\r\n",
      "\u001b[0;33m  Verifying  : yum-utils-1.1.31-52.el7.noarch                             12/12 \u001b[0m\r\n",
      "\u001b[0;33m\u001b[0m\r\n",
      "\u001b[0;33mInstalled:\u001b[0m\r\n",
      "\u001b[0;33m  device-mapper-persistent-data.x86_64 0:0.8.5-2.el7                            \u001b[0m\r\n",
      "\u001b[0;33m  lvm2.x86_64 7:2.02.186-7.el7_8.2                                              \u001b[0m\r\n",
      "\u001b[0;33m\u001b[0m\r\n",
      "\u001b[0;33mDependency Installed:\u001b[0m\r\n",
      "\u001b[0;33m  device-mapper-event.x86_64 7:1.02.164-7.el7_8.2                               \u001b[0m\r\n",
      "\u001b[0;33m  device-mapper-event-libs.x86_64 7:1.02.164-7.el7_8.2                          \u001b[0m\r\n",
      "\u001b[0;33m  libaio.x86_64 0:0.3.109-13.el7                                                \u001b[0m\r\n",
      "\u001b[0;33m  lvm2-libs.x86_64 7:2.02.186-7.el7_8.2                                         \u001b[0m\r\n",
      "\u001b[0;33m\u001b[0m\r\n",
      "\u001b[0;33mUpdated:\u001b[0m\r\n",
      "\u001b[0;33m  yum-utils.noarch 0:1.1.31-54.el7_8                                            \u001b[0m\r\n",
      "\u001b[0;33m\u001b[0m\r\n",
      "\u001b[0;33mDependency Updated:\u001b[0m\r\n",
      "\u001b[0;33m  device-mapper.x86_64 7:1.02.164-7.el7_8.2                                     \u001b[0m\r\n",
      "\u001b[0;33m  device-mapper-libs.x86_64 7:1.02.164-7.el7_8.2                                \u001b[0m\r\n",
      "\u001b[0;33m\u001b[0m\r\n",
      "\u001b[0;33mComplete!\u001b[0m\r\n",
      "\u001b[0;33mLoaded plugins: fastestmirror\u001b[0m\r\n",
      "\u001b[0;33madding repo from: https://download.docker.com/linux/centos/docker-ce.repo\u001b[0m\r\n",
      "\u001b[0;33mgrabbing file https://download.docker.com/linux/centos/docker-ce.repo to /etc/yum.repos.d/docker-ce.repo\u001b[0m\r\n",
      "\u001b[0;33mrepo saved to /etc/yum.repos.d/docker-ce.repo\u001b[0m\r\n",
      "\u001b[0;33mLoaded plugins: fastestmirror\u001b[0m\r\n",
      "\u001b[0;33mLoading mirror speeds from cached hostfile\u001b[0m\r\n",
      "\u001b[0;33m * base: d36uatko69830t.cloudfront.net\u001b[0m\r\n",
      "\u001b[0;33m * extras: d36uatko69830t.cloudfront.net\u001b[0m\r\n",
      "\u001b[0;33m * updates: d36uatko69830t.cloudfront.net\u001b[0m\r\n",
      "\u001b[0;33mResolving Dependencies\u001b[0m\r\n",
      "\u001b[0;33m--> Running transaction check\u001b[0m\r\n",
      "\u001b[0;33m---> Package containerd.io.x86_64 0:1.2.13-3.2.el7 will be installed\u001b[0m\r\n",
      "\u001b[0;33m--> Processing Dependency: container-selinux >= 2:2.74 for package: containerd.io-1.2.13-3.2.el7.x86_64\u001b[0m\r\n",
      "\u001b[0;33m---> Package docker-ce.x86_64 3:19.03.12-3.el7 will be installed\u001b[0m\r\n",
      "\u001b[0;33m---> Package docker-ce-cli.x86_64 1:19.03.12-3.el7 will be installed\u001b[0m\r\n",
      "\u001b[0;33m--> Running transaction check\u001b[0m\r\n",
      "\u001b[0;33m---> Package container-selinux.noarch 2:2.119.1-1.c57a6f9.el7 will be installed\u001b[0m\r\n",
      "\u001b[0;33m--> Finished Dependency Resolution\u001b[0m\r\n",
      "\u001b[0;33m\u001b[0m\r\n",
      "\u001b[0;33mDependencies Resolved\u001b[0m\r\n",
      "\u001b[0;33m\u001b[0m\r\n",
      "\u001b[0;33m================================================================================\u001b[0m\r\n",
      "\u001b[0;33m Package            Arch    Version                     Repository         Size\u001b[0m\r\n",
      "\u001b[0;33m================================================================================\u001b[0m\r\n",
      "\u001b[0;33mInstalling:\u001b[0m\r\n",
      "\u001b[0;33m containerd.io      x86_64  1.2.13-3.2.el7              docker-ce-stable   25 M\u001b[0m\r\n",
      "\u001b[0;33m docker-ce          x86_64  3:19.03.12-3.el7            docker-ce-stable   24 M\u001b[0m\r\n",
      "\u001b[0;33m docker-ce-cli      x86_64  1:19.03.12-3.el7            docker-ce-stable   38 M\u001b[0m\r\n",
      "\u001b[0;33mInstalling for dependencies:\u001b[0m\r\n",
      "\u001b[0;33m container-selinux  noarch  2:2.119.1-1.c57a6f9.el7     extras             40 k\u001b[0m\r\n",
      "\u001b[0;33m\u001b[0m\r\n",
      "\u001b[0;33mTransaction Summary\u001b[0m\r\n",
      "\u001b[0;33m================================================================================\u001b[0m\r\n",
      "\u001b[0;33mInstall  3 Packages (+1 Dependent package)\u001b[0m\r\n",
      "\u001b[0;33m\u001b[0m\r\n",
      "\u001b[0;33mTotal download size: 88 M\u001b[0m\r\n",
      "\u001b[0;33mInstalled size: 360 M\u001b[0m\r\n",
      "\u001b[0;33mDownloading packages:\u001b[0m\r\n",
      "\u001b[0;33mPublic key for containerd.io-1.2.13-3.2.el7.x86_64.rpm is not installed\u001b[0m\r\n",
      "\u001b[0;33m--------------------------------------------------------------------------------\u001b[0m\r\n",
      "\u001b[0;33mTotal                                               95 MB/s |  88 MB  00:00     \u001b[0m\r\n",
      "\u001b[0;33mRetrieving key from https://download.docker.com/linux/centos/gpg\u001b[0m\r\n",
      "\u001b[0;33mRunning transaction check\u001b[0m\r\n",
      "\u001b[0;33mRunning transaction test\u001b[0m\r\n",
      "\u001b[0;33mTransaction test succeeded\u001b[0m\r\n",
      "\u001b[0;33mRunning transaction\u001b[0m\r\n",
      "\u001b[0;33m  Installing : 2:container-selinux-2.119.1-1.c57a6f9.el7.noarch             1/4 \u001b[0m\r\n",
      "\u001b[0;33m  Installing : containerd.io-1.2.13-3.2.el7.x86_64                          2/4 \u001b[0m\r\n",
      "\u001b[0;33m  Installing : 1:docker-ce-cli-19.03.12-3.el7.x86_64                        3/4 \u001b[0m\r\n",
      "\u001b[0;33m  Installing : 3:docker-ce-19.03.12-3.el7.x86_64                            4/4 \u001b[0m\r\n",
      "\u001b[0;33m  Verifying  : 2:container-selinux-2.119.1-1.c57a6f9.el7.noarch             1/4 \u001b[0m\r\n",
      "\u001b[0;33m  Verifying  : 1:docker-ce-cli-19.03.12-3.el7.x86_64                        2/4 \u001b[0m\r\n",
      "\u001b[0;33m  Verifying  : 3:docker-ce-19.03.12-3.el7.x86_64                            3/4 \u001b[0m\r\n",
      "\u001b[0;33m  Verifying  : containerd.io-1.2.13-3.2.el7.x86_64                          4/4 \u001b[0m\r\n",
      "\u001b[0;33m\u001b[0m\r\n",
      "\u001b[0;33mInstalled:\u001b[0m\r\n",
      "\u001b[0;33m  containerd.io.x86_64 0:1.2.13-3.2.el7    docker-ce.x86_64 3:19.03.12-3.el7   \u001b[0m\r\n",
      "\u001b[0;33m  docker-ce-cli.x86_64 1:19.03.12-3.el7   \u001b[0m\r\n",
      "\u001b[0;33m\u001b[0m\r\n",
      "\u001b[0;33mDependency Installed:\u001b[0m\r\n",
      "\u001b[0;33m  container-selinux.noarch 2:2.119.1-1.c57a6f9.el7                              \u001b[0m\r\n",
      "\u001b[0;33m\u001b[0m\r\n",
      "\u001b[0;33mComplete!warning: /var/cache/yum/x86_64/7/docker-ce-stable/packages/containerd.io-1.2.13-3.2.el7.x86_64.rpm: Header V4 RSA/SHA512 Signature, key ID 621e9f35: NOKEY\u001b[0m\r\n",
      "\u001b[0;33mImporting GPG key 0x621E9F35:\u001b[0m\r\n",
      "\u001b[0;33m Userid     : \"Docker Release (CE rpm) <docker@docker.com>\"\u001b[0m\r\n",
      "\u001b[0;33m Fingerprint: 060a 61c5 1b55 8a7f 742b 77aa c52f eb6b 621e 9f35\u001b[0m\r\n",
      "\u001b[0;33m From       : https://download.docker.com/linux/centos/gpg\u001b[0m\r\n",
      "\u001b[0;33mCreated symlink from /etc/systemd/system/multi-user.target.wants/docker.service to /usr/lib/systemd/system/docker.service.\u001b[0m\r\n",
      "\u001b[0;33m  % Total    % Received % Xferd  Average Speed   Time    Time     Time  Current\u001b[0m\r\n",
      "\u001b[0;33m                                 Dload  Upload   Total   Spent    Left  Speed\u001b[0m\r\n",
      "100   638  100   638    0     0   1732      0 --:--:-- --:--:-- --:--:--  1733\u001b[0m\r\n",
      "100 15.4M  100 15.4M    0     0  8612k      0  0:00:01  0:00:01 --:--:-- 20.7M\u001b[0m\r\n"
     ]
    }
   ],
   "source": [
    "!ansible -b -a 'chdir={ophub_dir} ./install-docker.sh' {target_group}"
   ]
  },
  {
   "cell_type": "markdown",
   "metadata": {
    "lc_cell_meme": {
     "current": "e3b116f2-bc04-11ea-a44b-0242ac110002-2-0c94-e42e",
     "history": [
      {
       "current": "e3b116f2-bc04-11ea-a44b-0242ac110002-1-0c94",
       "next": "e3b118fa-bc04-11ea-a44b-0242ac110002",
       "previous": "391eed90-bc04-11ea-a44b-0242ac110002"
      },
      {
       "current": "e3b116f2-bc04-11ea-a44b-0242ac110002-2-0c94-e42e",
       "next": "e3b118fa-bc04-11ea-a44b-0242ac110002-1-0e70",
       "previous": "391eed90-bc04-11ea-a44b-0242ac110002-1-913f"
      }
     ],
     "next": "e3b118fa-bc04-11ea-a44b-0242ac110002-2-0e70-0848",
     "previous": "391eed90-bc04-11ea-a44b-0242ac110002-2-913f-27ee"
    }
   },
   "source": [
    "## Step 3: Install the host services for OperationHub\n",
    "\n",
    "OperationHubに必要なサービスを対象ホストにインストールする。"
   ]
  },
  {
   "cell_type": "code",
   "execution_count": 15,
   "metadata": {
    "deletable": false,
    "editable": false,
    "lc_cell_meme": {
     "current": "e3b118fa-bc04-11ea-a44b-0242ac110002-2-0e70-0848",
     "execution_end_time": "2020-07-02T02:20:52.360336Z",
     "history": [
      {
       "current": "e3b118fa-bc04-11ea-a44b-0242ac110002",
       "next": "e3b119e0-bc04-11ea-a44b-0242ac110002",
       "previous": "e3b116f2-bc04-11ea-a44b-0242ac110002"
      },
      {
       "current": "e3b118fa-bc04-11ea-a44b-0242ac110002-1-0e70",
       "next": "e3b119e0-bc04-11ea-a44b-0242ac110002-1-2c2f",
       "previous": "e3b116f2-bc04-11ea-a44b-0242ac110002"
      },
      {
       "current": "e3b118fa-bc04-11ea-a44b-0242ac110002-2-0e70-0848",
       "next": "e3b119e0-bc04-11ea-a44b-0242ac110002-2-2c2f-dc81",
       "previous": "e3b116f2-bc04-11ea-a44b-0242ac110002-1-0c94"
      }
     ],
     "next": "e3b119e0-bc04-11ea-a44b-0242ac110002-3-2c2f-dc81-95b3",
     "previous": "e3b116f2-bc04-11ea-a44b-0242ac110002-2-0c94-e42e"
    },
    "lc_wrapper": {
     "log_history": [
      "/home/jovyan/05_AWS_VMへのOpHub環境構築例/.log/20200702/20200702-013931-0681.log",
      "/home/jovyan/05_AWS_VMへのOpHub環境構築例/.log/20200702/20200702-021955-0350.log"
     ]
    },
    "run_through_control": {
     "frozen": true,
     "read_only": false
    }
   },
   "outputs": [
    {
     "name": "stdout",
     "output_type": "stream",
     "text": [
      "\u001b[0;33mec2-52-42-214-180.us-west-2.compute.amazonaws.com | CHANGED | rc=0 >>\u001b[0m\r\n",
      "\u001b[0;33mLoaded plugins: fastestmirror\u001b[0m\r\n",
      "\u001b[0;33mLoading mirror speeds from cached hostfile\u001b[0m\r\n",
      "\u001b[0;33m * base: d36uatko69830t.cloudfront.net\u001b[0m\r\n",
      "\u001b[0;33m * extras: d36uatko69830t.cloudfront.net\u001b[0m\r\n",
      "\u001b[0;33m * updates: d36uatko69830t.cloudfront.net\u001b[0m\r\n",
      "\u001b[0;33mResolving Dependencies\u001b[0m\r\n",
      "\u001b[0;33m--> Running transaction check\u001b[0m\r\n",
      "\u001b[0;33m---> Package epel-release.noarch 0:7-11 will be installed\u001b[0m\r\n",
      "\u001b[0;33m--> Finished Dependency Resolution\u001b[0m\r\n",
      "\u001b[0;33m\u001b[0m\r\n",
      "\u001b[0;33mDependencies Resolved\u001b[0m\r\n",
      "\u001b[0;33m\u001b[0m\r\n",
      "\u001b[0;33m================================================================================\u001b[0m\r\n",
      "\u001b[0;33m Package                Arch             Version         Repository        Size\u001b[0m\r\n",
      "\u001b[0;33m================================================================================\u001b[0m\r\n",
      "\u001b[0;33mInstalling:\u001b[0m\r\n",
      "\u001b[0;33m epel-release           noarch           7-11            extras            15 k\u001b[0m\r\n",
      "\u001b[0;33m\u001b[0m\r\n",
      "\u001b[0;33mTransaction Summary\u001b[0m\r\n",
      "\u001b[0;33m================================================================================\u001b[0m\r\n",
      "\u001b[0;33mInstall  1 Package\u001b[0m\r\n",
      "\u001b[0;33m\u001b[0m\r\n",
      "\u001b[0;33mTotal download size: 15 k\u001b[0m\r\n",
      "\u001b[0;33mInstalled size: 24 k\u001b[0m\r\n",
      "\u001b[0;33mDownloading packages:\u001b[0m\r\n",
      "\u001b[0;33mRunning transaction check\u001b[0m\r\n",
      "\u001b[0;33mRunning transaction test\u001b[0m\r\n",
      "\u001b[0;33mTransaction test succeeded\u001b[0m\r\n",
      "\u001b[0;33mRunning transaction\u001b[0m\r\n",
      "\u001b[0;33m  Installing : epel-release-7-11.noarch                                     1/1 \u001b[0m\r\n",
      "\u001b[0;33m  Verifying  : epel-release-7-11.noarch                                     1/1 \u001b[0m\r\n",
      "\u001b[0;33m\u001b[0m\r\n",
      "\u001b[0;33mInstalled:\u001b[0m\r\n",
      "\u001b[0;33m  epel-release.noarch 0:7-11                                                    \u001b[0m\r\n",
      "\u001b[0;33m\u001b[0m\r\n",
      "\u001b[0;33mComplete!\u001b[0m\r\n",
      "\u001b[0;33mLoaded plugins: fastestmirror\u001b[0m\r\n",
      "\u001b[0;33mLoading mirror speeds from cached hostfile\u001b[0m\r\n",
      "\u001b[0;33m * base: d36uatko69830t.cloudfront.net\u001b[0m\r\n",
      "\u001b[0;33m * epel: d2lzkl7pfhq30w.cloudfront.net\u001b[0m\r\n",
      "\u001b[0;33m * extras: d36uatko69830t.cloudfront.net\u001b[0m\r\n",
      "\u001b[0;33m * updates: d36uatko69830t.cloudfront.net\u001b[0m\r\n",
      "\u001b[0;33mResolving Dependencies\u001b[0m\r\n",
      "\u001b[0;33m--> Running transaction check\u001b[0m\r\n",
      "\u001b[0;33m---> Package python3.x86_64 0:3.6.8-13.el7 will be installed\u001b[0m\r\n",
      "\u001b[0;33m--> Processing Dependency: python3-setuptools for package: python3-3.6.8-13.el7.x86_64\u001b[0m\r\n",
      "\u001b[0;33m---> Package python3-devel.x86_64 0:3.6.8-13.el7 will be installed\u001b[0m\r\n",
      "\u001b[0;33m--> Processing Dependency: redhat-rpm-config for package: python3-devel-3.6.8-13.el7.x86_64\u001b[0m\r\n",
      "\u001b[0;33m--> Processing Dependency: python3-rpm-macros for package: python3-devel-3.6.8-13.el7.x86_64\u001b[0m\r\n",
      "\u001b[0;33m--> Processing Dependency: python3-rpm-generators for package: python3-devel-3.6.8-13.el7.x86_64\u001b[0m\r\n",
      "\u001b[0;33m--> Processing Dependency: python-rpm-macros for package: python3-devel-3.6.8-13.el7.x86_64\u001b[0m\r\n",
      "\u001b[0;33m---> Package python3-libs.x86_64 0:3.6.8-13.el7 will be installed\u001b[0m\r\n",
      "\u001b[0;33m---> Package python3-pip.noarch 0:9.0.3-7.el7_7 will be installed\u001b[0m\r\n",
      "\u001b[0;33m--> Running transaction check\u001b[0m\r\n",
      "\u001b[0;33m---> Package python-rpm-macros.noarch 0:3-32.el7 will be installed\u001b[0m\r\n",
      "\u001b[0;33m--> Processing Dependency: python-srpm-macros for package: python-rpm-macros-3-32.el7.noarch\u001b[0m\r\n",
      "\u001b[0;33m---> Package python3-rpm-generators.noarch 0:6-2.el7 will be installed\u001b[0m\r\n",
      "\u001b[0;33m---> Package python3-rpm-macros.noarch 0:3-32.el7 will be installed\u001b[0m\r\n",
      "\u001b[0;33m---> Package python3-setuptools.noarch 0:39.2.0-10.el7 will be installed\u001b[0m\r\n",
      "\u001b[0;33m---> Package redhat-rpm-config.noarch 0:9.1.0-88.el7.centos will be installed\u001b[0m\r\n",
      "\u001b[0;33m--> Processing Dependency: dwz >= 0.4 for package: redhat-rpm-config-9.1.0-88.el7.centos.noarch\u001b[0m\r\n",
      "\u001b[0;33m--> Processing Dependency: zip for package: redhat-rpm-config-9.1.0-88.el7.centos.noarch\u001b[0m\r\n",
      "\u001b[0;33m--> Processing Dependency: perl-srpm-macros for package: redhat-rpm-config-9.1.0-88.el7.centos.noarch\u001b[0m\r\n",
      "\u001b[0;33m--> Running transaction check\u001b[0m\r\n",
      "\u001b[0;33m---> Package dwz.x86_64 0:0.11-3.el7 will be installed\u001b[0m\r\n",
      "\u001b[0;33m---> Package perl-srpm-macros.noarch 0:1-8.el7 will be installed\u001b[0m\r\n",
      "\u001b[0;33m---> Package python-srpm-macros.noarch 0:3-32.el7 will be installed\u001b[0m\r\n",
      "\u001b[0;33m---> Package zip.x86_64 0:3.0-11.el7 will be installed\u001b[0m\r\n",
      "\u001b[0;33m--> Finished Dependency Resolution\u001b[0m\r\n",
      "\u001b[0;33m\u001b[0m\r\n",
      "\u001b[0;33mDependencies Resolved\u001b[0m\r\n",
      "\u001b[0;33m\u001b[0m\r\n",
      "\u001b[0;33m================================================================================\u001b[0m\r\n",
      "\u001b[0;33m Package                   Arch      Version                   Repository  Size\u001b[0m\r\n",
      "\u001b[0;33m================================================================================\u001b[0m\r\n",
      "\u001b[0;33mInstalling:\u001b[0m\r\n",
      "\u001b[0;33m python3                   x86_64    3.6.8-13.el7              base        69 k\u001b[0m\r\n",
      "\u001b[0;33m python3-devel             x86_64    3.6.8-13.el7              base       215 k\u001b[0m\r\n",
      "\u001b[0;33m python3-libs              x86_64    3.6.8-13.el7              base       7.0 M\u001b[0m\r\n",
      "\u001b[0;33m python3-pip               noarch    9.0.3-7.el7_7             updates    1.8 M\u001b[0m\r\n",
      "\u001b[0;33mInstalling for dependencies:\u001b[0m\r\n",
      "\u001b[0;33m dwz                       x86_64    0.11-3.el7                base        99 k\u001b[0m\r\n",
      "\u001b[0;33m perl-srpm-macros          noarch    1-8.el7                   base       4.6 k\u001b[0m\r\n",
      "\u001b[0;33m python-rpm-macros         noarch    3-32.el7                  base       8.8 k\u001b[0m\r\n",
      "\u001b[0;33m python-srpm-macros        noarch    3-32.el7                  base       8.4 k\u001b[0m\r\n",
      "\u001b[0;33m python3-rpm-generators    noarch    6-2.el7                   base        20 k\u001b[0m\r\n",
      "\u001b[0;33m python3-rpm-macros        noarch    3-32.el7                  base       7.7 k\u001b[0m\r\n",
      "\u001b[0;33m python3-setuptools        noarch    39.2.0-10.el7             base       629 k\u001b[0m\r\n",
      "\u001b[0;33m redhat-rpm-config         noarch    9.1.0-88.el7.centos       base        81 k\u001b[0m\r\n",
      "\u001b[0;33m zip                       x86_64    3.0-11.el7                base       260 k\u001b[0m\r\n",
      "\u001b[0;33m\u001b[0m\r\n",
      "\u001b[0;33mTransaction Summary\u001b[0m\r\n",
      "\u001b[0;33m================================================================================\u001b[0m\r\n",
      "\u001b[0;33mInstall  4 Packages (+9 Dependent packages)\u001b[0m\r\n",
      "\u001b[0;33m\u001b[0m\r\n",
      "\u001b[0;33mTotal download size: 10 M\u001b[0m\r\n",
      "\u001b[0;33mInstalled size: 50 M\u001b[0m\r\n",
      "\u001b[0;33mDownloading packages:\u001b[0m\r\n",
      "\u001b[0;33m--------------------------------------------------------------------------------\u001b[0m\r\n",
      "\u001b[0;33mTotal                                               13 MB/s |  10 MB  00:00     \u001b[0m\r\n",
      "\u001b[0;33mRunning transaction check\u001b[0m\r\n",
      "\u001b[0;33mRunning transaction test\u001b[0m\r\n",
      "\u001b[0;33mTransaction test succeeded\u001b[0m\r\n",
      "\u001b[0;33mRunning transaction\u001b[0m\r\n",
      "\u001b[0;33m  Installing : python3-pip-9.0.3-7.el7_7.noarch                            1/13 \u001b[0m\r\n",
      "\u001b[0;33m  Installing : python3-setuptools-39.2.0-10.el7.noarch                     2/13 \u001b[0m\r\n",
      "\u001b[0;33m  Installing : python3-libs-3.6.8-13.el7.x86_64                            3/13 \u001b[0m\r\n",
      "\u001b[0;33m  Installing : python3-3.6.8-13.el7.x86_64                                 4/13 \u001b[0m\r\n",
      "\u001b[0;33m  Installing : python-srpm-macros-3-32.el7.noarch                          5/13 \u001b[0m\r\n",
      "\u001b[0;33m  Installing : python-rpm-macros-3-32.el7.noarch                           6/13 \u001b[0m\r\n",
      "\u001b[0;33m  Installing : python3-rpm-generators-6-2.el7.noarch                       7/13 \u001b[0m\r\n",
      "\u001b[0;33m  Installing : dwz-0.11-3.el7.x86_64                                       8/13 \u001b[0m\r\n",
      "\u001b[0;33m  Installing : python3-rpm-macros-3-32.el7.noarch                          9/13 \u001b[0m\r\n",
      "\u001b[0;33m  Installing : zip-3.0-11.el7.x86_64                                      10/13 \u001b[0m\r\n",
      "\u001b[0;33m  Installing : perl-srpm-macros-1-8.el7.noarch                            11/13 \u001b[0m\r\n",
      "\u001b[0;33m  Installing : redhat-rpm-config-9.1.0-88.el7.centos.noarch               12/13 \u001b[0m\r\n",
      "\u001b[0;33m  Installing : python3-devel-3.6.8-13.el7.x86_64                          13/13 \u001b[0m\r\n",
      "\u001b[0;33m  Verifying  : python3-rpm-generators-6-2.el7.noarch                       1/13 \u001b[0m\r\n",
      "\u001b[0;33m  Verifying  : python3-devel-3.6.8-13.el7.x86_64                           2/13 \u001b[0m\r\n",
      "\u001b[0;33m  Verifying  : python3-3.6.8-13.el7.x86_64                                 3/13 \u001b[0m\r\n",
      "\u001b[0;33m  Verifying  : perl-srpm-macros-1-8.el7.noarch                             4/13 \u001b[0m\r\n",
      "\u001b[0;33m  Verifying  : zip-3.0-11.el7.x86_64                                       5/13 \u001b[0m\r\n",
      "\u001b[0;33m  Verifying  : python3-pip-9.0.3-7.el7_7.noarch                            6/13 \u001b[0m\r\n",
      "\u001b[0;33m  Verifying  : python3-rpm-macros-3-32.el7.noarch                          7/13 \u001b[0m\r\n",
      "\u001b[0;33m  Verifying  : python3-setuptools-39.2.0-10.el7.noarch                     8/13 \u001b[0m\r\n",
      "\u001b[0;33m  Verifying  : python-rpm-macros-3-32.el7.noarch                           9/13 \u001b[0m\r\n",
      "\u001b[0;33m  Verifying  : python3-libs-3.6.8-13.el7.x86_64                           10/13 \u001b[0m\r\n",
      "\u001b[0;33m  Verifying  : dwz-0.11-3.el7.x86_64                                      11/13 \u001b[0m\r\n",
      "\u001b[0;33m  Verifying  : python-srpm-macros-3-32.el7.noarch                         12/13 \u001b[0m\r\n",
      "\u001b[0;33m  Verifying  : redhat-rpm-config-9.1.0-88.el7.centos.noarch               13/13 \u001b[0m\r\n",
      "\u001b[0;33m\u001b[0m\r\n",
      "\u001b[0;33mInstalled:\u001b[0m\r\n",
      "\u001b[0;33m  python3.x86_64 0:3.6.8-13.el7          python3-devel.x86_64 0:3.6.8-13.el7    \u001b[0m\r\n",
      "\u001b[0;33m  python3-libs.x86_64 0:3.6.8-13.el7     python3-pip.noarch 0:9.0.3-7.el7_7     \u001b[0m\r\n",
      "\u001b[0;33m\u001b[0m\r\n",
      "\u001b[0;33mDependency Installed:\u001b[0m\r\n",
      "\u001b[0;33m  dwz.x86_64 0:0.11-3.el7                                                       \u001b[0m\r\n",
      "\u001b[0;33m  perl-srpm-macros.noarch 0:1-8.el7                                             \u001b[0m\r\n",
      "\u001b[0;33m  python-rpm-macros.noarch 0:3-32.el7                                           \u001b[0m\r\n",
      "\u001b[0;33m  python-srpm-macros.noarch 0:3-32.el7                                          \u001b[0m\r\n",
      "\u001b[0;33m  python3-rpm-generators.noarch 0:6-2.el7                                       \u001b[0m\r\n",
      "\u001b[0;33m  python3-rpm-macros.noarch 0:3-32.el7                                          \u001b[0m\r\n",
      "\u001b[0;33m  python3-setuptools.noarch 0:39.2.0-10.el7                                     \u001b[0m\r\n",
      "\u001b[0;33m  redhat-rpm-config.noarch 0:9.1.0-88.el7.centos                                \u001b[0m\r\n",
      "\u001b[0;33m  zip.x86_64 0:3.0-11.el7                                                       \u001b[0m\r\n",
      "\u001b[0;33m\u001b[0m\r\n",
      "\u001b[0;33mComplete!\u001b[0m\r\n",
      "\u001b[0;33mCollecting tornado\u001b[0m\r\n",
      "\u001b[0;33m  Downloading https://files.pythonhosted.org/packages/95/84/119a46d494f008969bf0c775cb2c6b3579d3c4cc1bb1b41a022aa93ee242/tornado-6.0.4.tar.gz (496kB)\u001b[0m\r\n",
      "\u001b[0;33mInstalling collected packages: tornado\u001b[0m\r\n",
      "\u001b[0;33m  Running setup.py install for tornado: started\u001b[0m\r\n",
      "\u001b[0;33m    Running setup.py install for tornado: finished with status 'done'\u001b[0m\r\n",
      "\u001b[0;33mSuccessfully installed tornado-6.0.4http://csc.mcs.sdsmt.edu/epel/7/x86_64/repodata/repomd.xml: [Errno 12] Timeout on http://csc.mcs.sdsmt.edu/epel/7/x86_64/repodata/repomd.xml: (28, 'Operation too slow. Less than 1000 bytes/sec transferred the last 30 seconds')\u001b[0m\r\n",
      "\u001b[0;33mTrying other mirror.\u001b[0m\r\n",
      "\u001b[0;33mWARNING: Running pip install with root privileges is generally not a good idea. Try `pip3 install --user` instead.\u001b[0m\r\n",
      "\u001b[0;33m  % Total    % Received % Xferd  Average Speed   Time    Time     Time  Current\u001b[0m\r\n",
      "\u001b[0;33m                                 Dload  Upload   Total   Spent    Left  Speed\u001b[0m\r\n",
      "100  3369  100  3369    0     0  11085      0 --:--:-- --:--:-- --:--:-- 11082\u001b[0m\r\n",
      "\u001b[0;33mCreated symlink from /etc/systemd/system/multi-user.target.wants/restuser.service to /etc/systemd/system/restuser.service.\u001b[0m\r\n",
      "\u001b[0;33mCreated symlink from /etc/systemd/system/multi-user.target.wants/ophubuser.service to /etc/systemd/system/ophubuser.service.\u001b[0m\r\n",
      "\u001b[0;33mCreated symlink from /etc/systemd/system/multi-user.target.wants/copy-passwd.path to /etc/systemd/system/copy-passwd.path.\u001b[0m\r\n"
     ]
    }
   ],
   "source": [
    "!ansible -b -a 'chdir={ophub_dir} ./install-host-services.sh' {target_group}"
   ]
  },
  {
   "cell_type": "markdown",
   "metadata": {
    "lc_cell_meme": {
     "current": "e3b119e0-bc04-11ea-a44b-0242ac110002-3-2c2f-dc81-95b3",
     "history": [
      {
       "current": "e3b119e0-bc04-11ea-a44b-0242ac110002-1-2c2f",
       "next": null,
       "previous": "e3b118fa-bc04-11ea-a44b-0242ac110002"
      },
      {
       "current": "e3b119e0-bc04-11ea-a44b-0242ac110002-2-2c2f-dc81",
       "next": "2b3788ee-bc05-11ea-a44b-0242ac110002",
       "previous": "e3b118fa-bc04-11ea-a44b-0242ac110002"
      },
      {
       "current": "e3b119e0-bc04-11ea-a44b-0242ac110002-2-2c2f-dc81",
       "next": "2b3788ee-bc05-11ea-a44b-0242ac110002-1-36c5",
       "previous": "e3b118fa-bc04-11ea-a44b-0242ac110002-1-0e70"
      },
      {
       "current": "e3b119e0-bc04-11ea-a44b-0242ac110002-3-2c2f-dc81-95b3",
       "next": "2b378ab0-bc05-11ea-a44b-0242ac110002-1-8728",
       "previous": "e3b118fa-bc04-11ea-a44b-0242ac110002-1-0e70"
      }
     ],
     "next": "2b378ab0-bc05-11ea-a44b-0242ac110002-2-8728-43ef",
     "previous": "e3b118fa-bc04-11ea-a44b-0242ac110002-2-0e70-0848"
    }
   },
   "source": [
    "## Step 4: Setting domain name\n",
    "\n",
    "DNS名を設定します。"
   ]
  },
  {
   "cell_type": "code",
   "execution_count": 17,
   "metadata": {
    "deletable": false,
    "editable": false,
    "lc_cell_meme": {
     "current": "2b378ab0-bc05-11ea-a44b-0242ac110002-2-8728-43ef",
     "execution_end_time": "2020-07-02T02:21:21.655703Z",
     "history": [
      {
       "current": "2b378ab0-bc05-11ea-a44b-0242ac110002-1-8728",
       "next": null,
       "previous": "2b3788ee-bc05-11ea-a44b-0242ac110002"
      },
      {
       "current": "2b378ab0-bc05-11ea-a44b-0242ac110002-1-8728",
       "next": null,
       "previous": "2b3788ee-bc05-11ea-a44b-0242ac110002-1-36c5"
      },
      {
       "current": "2b378ab0-bc05-11ea-a44b-0242ac110002-2-8728-43ef",
       "next": "2b3788ee-bc05-11ea-a44b-0242ac110002-1-36c5",
       "previous": "e3b119e0-bc04-11ea-a44b-0242ac110002-2-2c2f-dc81"
      }
     ],
     "next": "2b3788ee-bc05-11ea-a44b-0242ac110002-2-36c5-0e0b",
     "previous": "e3b119e0-bc04-11ea-a44b-0242ac110002-3-2c2f-dc81-95b3"
    },
    "lc_wrapper": {
     "log_history": [
      "/home/jovyan/05_AWS_VMへのOpHub環境構築例/.log/20200702/20200702-022121-0619.log"
     ]
    },
    "run_through_control": {
     "frozen": true,
     "read_only": false
    }
   },
   "outputs": [
    {
     "data": {
      "text/plain": [
       "'/tmp/tmpov_y4a_6'"
      ]
     },
     "execution_count": 17,
     "metadata": {},
     "output_type": "execute_result"
    }
   ],
   "source": [
    "import tempfile\n",
    "\n",
    "work_dir = tempfile.mkdtemp()\n",
    "work_dir"
   ]
  },
  {
   "cell_type": "code",
   "execution_count": 16,
   "metadata": {
    "deletable": false,
    "editable": false,
    "lc_cell_meme": {
     "current": "2b3788ee-bc05-11ea-a44b-0242ac110002-2-36c5-0e0b",
     "execution_end_time": "2020-07-02T02:20:57.481949Z",
     "history": [
      {
       "current": "2b3788ee-bc05-11ea-a44b-0242ac110002-1-36c5",
       "next": "2b378ab0-bc05-11ea-a44b-0242ac110002",
       "previous": "e3b119e0-bc04-11ea-a44b-0242ac110002-1-2c2f"
      },
      {
       "current": "2b3788ee-bc05-11ea-a44b-0242ac110002-1-36c5",
       "next": "2b378ab0-bc05-11ea-a44b-0242ac110002-1-8728",
       "previous": "e3b119e0-bc04-11ea-a44b-0242ac110002-2-2c2f-dc81"
      },
      {
       "current": "2b3788ee-bc05-11ea-a44b-0242ac110002-2-36c5-0e0b",
       "next": "c9127bfa-bc0a-11ea-9c24-0242ac110002",
       "previous": "2b378ab0-bc05-11ea-a44b-0242ac110002-1-8728"
      }
     ],
     "next": "c9127bfa-bc0a-11ea-9c24-0242ac110002-1-be21",
     "previous": "2b378ab0-bc05-11ea-a44b-0242ac110002-2-8728-43ef"
    },
    "lc_wrapper": {
     "log_history": [
      "/home/jovyan/05_AWS_VMへのOpHub環境構築例/.log/20200702/20200702-014136-0669.log",
      "/home/jovyan/05_AWS_VMへのOpHub環境構築例/.log/20200702/20200702-022052-0368.log"
     ]
    },
    "run_through_control": {
     "frozen": true,
     "read_only": false
    }
   },
   "outputs": [
    {
     "name": "stdout",
     "output_type": "stream",
     "text": [
      "\u001b[0;33mec2-52-42-214-180.us-west-2.compute.amazonaws.com | CHANGED | rc=0 >>\u001b[0m\r\n",
      "\u001b[0;33m# Server Name for nginx TLS communication (reverse proxy)\u001b[0m\r\n",
      "\u001b[0;33mSERVER_NAME=example.com\u001b[0m\r\n",
      "\u001b[0;33m\u001b[0m\r\n",
      "\u001b[0;33m# JupyterHub single-user docker image\u001b[0m\r\n",
      "\u001b[0;33mSINGLE_USER_IMAGE=niicloudoperation/notebook\u001b[0m\r\n",
      "\u001b[0;33m\u001b[0m\r\n",
      "\u001b[0;33m# Configuration for culling idle servers\u001b[0m\r\n",
      "\u001b[0;33m## Enable culling\u001b[0m\r\n",
      "\u001b[0;33mCULL_SERVER=yes\u001b[0m\r\n",
      "\u001b[0;33m\u001b[0m\r\n",
      "\u001b[0;33m## The idle timeout (in seconds) for culling server\u001b[0m\r\n",
      "\u001b[0;33mCULL_SERVER_IDLE_TIMEOUT=300\u001b[0m\r\n",
      "\u001b[0;33m\u001b[0m\r\n",
      "\u001b[0;33m## The maximum age (in seconds) of servers that should be culled even if they are active\u001b[0m\r\n",
      "\u001b[0;33mCULL_SERVER_MAX_AGE=86400\u001b[0m\r\n",
      "\u001b[0;33m\u001b[0m\r\n",
      "\u001b[0;33m## The interval (in seconds) for checking for idle servers to cull\u001b[0m\r\n",
      "\u001b[0;33mCULL_SERVER_EVERY=60\u001b[0m\r\n",
      "\u001b[0;33m\u001b[0m\r\n",
      "\u001b[0;33m# Enable Debug Logging\u001b[0m\r\n",
      "\u001b[0;33m# DEBUG=yes\u001b[0m\r\n"
     ]
    }
   ],
   "source": [
    "!ansible -b -a 'chdir={ophub_dir} cat .env.sample' {target_group}"
   ]
  },
  {
   "cell_type": "code",
   "execution_count": 18,
   "metadata": {
    "deletable": false,
    "editable": false,
    "lc_cell_meme": {
     "current": "c9127bfa-bc0a-11ea-9c24-0242ac110002-1-be21",
     "execution_end_time": "2020-07-02T02:22:26.468643Z",
     "history": [
      {
       "current": "c9127bfa-bc0a-11ea-9c24-0242ac110002-1-be21",
       "next": "108f8f54-bc0b-11ea-9c24-0242ac110002",
       "previous": "2b3788ee-bc05-11ea-a44b-0242ac110002-1-36c5"
      }
     ],
     "next": "108f8f54-bc0b-11ea-9c24-0242ac110002-1-1477",
     "previous": "2b3788ee-bc05-11ea-a44b-0242ac110002-2-36c5-0e0b"
    },
    "lc_wrapper": {
     "log_history": [
      "/home/jovyan/05_AWS_VMへのOpHub環境構築例/.log/20200702/20200702-022225-0676.log"
     ]
    },
    "run_through_control": {
     "frozen": true,
     "read_only": false
    },
    "scrolled": true
   },
   "outputs": [
    {
     "name": "stdout",
     "output_type": "stream",
     "text": [
      "# Server Name for nginx TLS communication (reverse proxy)\r\n",
      "SERVER_NAME=ec2-52-42-214-180.us-west-2.compute.amazonaws.com\r\n",
      "\r\n",
      "# JupyterHub single-user docker image\r\n",
      "SINGLE_USER_IMAGE=niicloudoperation/notebook\r\n",
      "\r\n",
      "# Configuration for culling idle servers\r\n",
      "## Enable culling\r\n",
      "CULL_SERVER=yes\r\n",
      "\r\n",
      "## The idle timeout (in seconds) for culling server\r\n",
      "CULL_SERVER_IDLE_TIMEOUT=300\r\n",
      "\r\n",
      "## The maximum age (in seconds) of servers that should be culled even if they are active\r\n",
      "CULL_SERVER_MAX_AGE=86400\r\n",
      "\r\n",
      "## The interval (in seconds) for checking for idle servers to cull\r\n",
      "CULL_SERVER_EVERY=60\r\n",
      "\r\n",
      "# Enable Debug Logging\r\n",
      "# DEBUG=yes\r\n"
     ]
    }
   ],
   "source": [
    "with open(os.path.join(work_dir, '.env'), 'w') as f:\n",
    "    f.write('''# Server Name for nginx TLS communication (reverse proxy)\n",
    "SERVER_NAME={server_name}\n",
    "\n",
    "# JupyterHub single-user docker image\n",
    "SINGLE_USER_IMAGE=niicloudoperation/notebook\n",
    "\n",
    "# Configuration for culling idle servers\n",
    "## Enable culling\n",
    "CULL_SERVER=yes\n",
    "\n",
    "## The idle timeout (in seconds) for culling server\n",
    "CULL_SERVER_IDLE_TIMEOUT=300\n",
    "\n",
    "## The maximum age (in seconds) of servers that should be culled even if they are active\n",
    "CULL_SERVER_MAX_AGE=86400\n",
    "\n",
    "## The interval (in seconds) for checking for idle servers to cull\n",
    "CULL_SERVER_EVERY=60\n",
    "\n",
    "# Enable Debug Logging\n",
    "# DEBUG=yes\n",
    "'''.format(**locals()))\n",
    "\n",
    "!cat {work_dir}/.env"
   ]
  },
  {
   "cell_type": "code",
   "execution_count": 20,
   "metadata": {
    "deletable": false,
    "editable": false,
    "lc_cell_meme": {
     "current": "108f8f54-bc0b-11ea-9c24-0242ac110002-1-1477",
     "execution_end_time": "2020-07-02T02:23:47.627017Z",
     "history": [
      {
       "current": "108f8f54-bc0b-11ea-9c24-0242ac110002-1-1477",
       "next": "108f9576-bc0b-11ea-9c24-0242ac110002",
       "previous": "c9127bfa-bc0a-11ea-9c24-0242ac110002"
      }
     ],
     "next": "108f9576-bc0b-11ea-9c24-0242ac110002-1-7116",
     "previous": "c9127bfa-bc0a-11ea-9c24-0242ac110002-1-be21"
    },
    "lc_wrapper": {
     "log_history": [
      "/home/jovyan/05_AWS_VMへのOpHub環境構築例/.log/20200702/20200702-022336-0951.log"
     ]
    },
    "run_through_control": {
     "frozen": true,
     "read_only": false
    }
   },
   "outputs": [
    {
     "name": "stdout",
     "output_type": "stream",
     "text": [
      "\u001b[0;33mec2-52-42-214-180.us-west-2.compute.amazonaws.com | CHANGED => {\u001b[0m\r\n",
      "\u001b[0;33m    \"changed\": true,\u001b[0m\r\n",
      "\u001b[0;33m    \"checksum\": \"a654bc7cae186140ddd81d02f9ee4f5ae8e7ae2d\",\u001b[0m\r\n",
      "\u001b[0;33m    \"dest\": \"/opt/ophub/.env\",\u001b[0m\r\n",
      "\u001b[0;33m    \"gid\": 0,\u001b[0m\r\n",
      "\u001b[0;33m    \"group\": \"root\",\u001b[0m\r\n",
      "\u001b[0;33m    \"md5sum\": \"99091c6b22298e01e95cc0746b9b5dae\",\u001b[0m\r\n",
      "\u001b[0;33m    \"mode\": \"0644\",\u001b[0m\r\n",
      "\u001b[0;33m    \"owner\": \"root\",\u001b[0m\r\n",
      "\u001b[0;33m    \"secontext\": \"system_u:object_r:usr_t:s0\",\u001b[0m\r\n",
      "\u001b[0;33m    \"size\": 603,\u001b[0m\r\n",
      "\u001b[0;33m    \"src\": \"/home/centos/.ansible/tmp/ansible-tmp-1593656618.9467075-528-132812348185173/source\",\u001b[0m\r\n",
      "\u001b[0;33m    \"state\": \"file\",\u001b[0m\r\n",
      "\u001b[0;33m    \"uid\": 0\u001b[0m\r\n",
      "\u001b[0;33m}\u001b[0m\r\n"
     ]
    }
   ],
   "source": [
    "!ansible -b -m copy -a 'src={work_dir}/.env dest={ophub_dir}/.env' {target_group}"
   ]
  },
  {
   "cell_type": "markdown",
   "metadata": {
    "lc_cell_meme": {
     "current": "108f9576-bc0b-11ea-9c24-0242ac110002-1-7116",
     "history": [
      {
       "current": "108f9576-bc0b-11ea-9c24-0242ac110002-1-7116",
       "next": "58afdf64-bc0b-11ea-9c24-0242ac110002",
       "previous": "108f8f54-bc0b-11ea-9c24-0242ac110002"
      }
     ],
     "next": "58afdf64-bc0b-11ea-9c24-0242ac110002-1-95e1",
     "previous": "108f8f54-bc0b-11ea-9c24-0242ac110002-1-1477"
    }
   },
   "source": [
    "## Step 5: Install TLS certificate and key"
   ]
  },
  {
   "cell_type": "code",
   "execution_count": 22,
   "metadata": {
    "deletable": false,
    "editable": false,
    "lc_cell_meme": {
     "current": "58afdf64-bc0b-11ea-9c24-0242ac110002-1-95e1",
     "execution_end_time": "2020-07-02T02:25:55.416468Z",
     "history": [
      {
       "current": "58afdf64-bc0b-11ea-9c24-0242ac110002",
       "next": "58afe112-bc0b-11ea-9c24-0242ac110002",
       "previous": "108f9576-bc0b-11ea-9c24-0242ac110002"
      },
      {
       "current": "58afdf64-bc0b-11ea-9c24-0242ac110002-1-95e1",
       "next": "58afe112-bc0b-11ea-9c24-0242ac110002-1-f446",
       "previous": "108f9576-bc0b-11ea-9c24-0242ac110002"
      }
     ],
     "next": "58afe112-bc0b-11ea-9c24-0242ac110002-2-f446-eabe",
     "previous": "108f9576-bc0b-11ea-9c24-0242ac110002-1-7116"
    },
    "lc_wrapper": {
     "log_history": [
      "/home/jovyan/05_AWS_VMへのOpHub環境構築例/.log/20200702/20200702-022437-0584.log",
      "/home/jovyan/05_AWS_VMへのOpHub環境構築例/.log/20200702/20200702-022526-0616.log"
     ]
    },
    "run_through_control": {
     "frozen": true,
     "read_only": false
    },
    "scrolled": true
   },
   "outputs": [
    {
     "name": "stdout",
     "output_type": "stream",
     "text": [
      "\u001b[0;33mec2-52-42-214-180.us-west-2.compute.amazonaws.com | CHANGED => {\u001b[0m\n",
      "\u001b[0;33m    \"changed\": true,\u001b[0m\n",
      "\u001b[0;33m    \"gid\": 0,\u001b[0m\n",
      "\u001b[0;33m    \"group\": \"root\",\u001b[0m\n",
      "\u001b[0;33m    \"mode\": \"0755\",\u001b[0m\n",
      "\u001b[0;33m    \"owner\": \"root\",\u001b[0m\n",
      "\u001b[0;33m    \"path\": \"/opt/ophub/cert\",\u001b[0m\n",
      "\u001b[0;33m    \"secontext\": \"unconfined_u:object_r:usr_t:s0\",\u001b[0m\n",
      "\u001b[0;33m    \"size\": 6,\u001b[0m\n",
      "\u001b[0;33m    \"state\": \"directory\",\u001b[0m\n",
      "\u001b[0;33m    \"uid\": 0\u001b[0m\n",
      "\u001b[0;33m}\u001b[0m\n",
      "\u001b[0;33mec2-52-42-214-180.us-west-2.compute.amazonaws.com | CHANGED => {\u001b[0m\n",
      "\u001b[0;33m    \"changed\": true,\u001b[0m\n",
      "\u001b[0;33m    \"checksum\": \"51b947d932dddb69d9c2215157dce0faad7adda9\",\u001b[0m\n",
      "\u001b[0;33m    \"dest\": \"/opt/ophub/cert/server.cer\",\u001b[0m\n",
      "\u001b[0;33m    \"gid\": 0,\u001b[0m\n",
      "\u001b[0;33m    \"group\": \"root\",\u001b[0m\n",
      "\u001b[0;33m    \"md5sum\": \"0ee9443649f032253fb2a08b6006b5f8\",\u001b[0m\n",
      "\u001b[0;33m    \"mode\": \"0644\",\u001b[0m\n",
      "\u001b[0;33m    \"owner\": \"root\",\u001b[0m\n",
      "\u001b[0;33m    \"secontext\": \"system_u:object_r:usr_t:s0\",\u001b[0m\n",
      "\u001b[0;33m    \"size\": 1257,\u001b[0m\n",
      "\u001b[0;33m    \"src\": \"/home/centos/.ansible/tmp/ansible-tmp-1593656735.809981-593-159453422361420/source\",\u001b[0m\n",
      "\u001b[0;33m    \"state\": \"file\",\u001b[0m\n",
      "\u001b[0;33m    \"uid\": 0\u001b[0m\n",
      "\u001b[0;33m}\u001b[0m\n",
      "\u001b[0;33mec2-52-42-214-180.us-west-2.compute.amazonaws.com | CHANGED => {\u001b[0m\n",
      "\u001b[0;33m    \"changed\": true,\u001b[0m\n",
      "\u001b[0;33m    \"checksum\": \"d284ecdad13933b7b214d1d43f771b9162df4d86\",\u001b[0m\n",
      "\u001b[0;33m    \"dest\": \"/opt/ophub/cert/server.key\",\u001b[0m\n",
      "\u001b[0;33m    \"gid\": 0,\u001b[0m\n",
      "\u001b[0;33m    \"group\": \"root\",\u001b[0m\n",
      "\u001b[0;33m    \"md5sum\": \"170c8cdd4593a8c6c87362d02f2f41df\",\u001b[0m\n",
      "\u001b[0;33m    \"mode\": \"0644\",\u001b[0m\n",
      "\u001b[0;33m    \"owner\": \"root\",\u001b[0m\n",
      "\u001b[0;33m    \"secontext\": \"system_u:object_r:usr_t:s0\",\u001b[0m\n",
      "\u001b[0;33m    \"size\": 1675,\u001b[0m\n",
      "\u001b[0;33m    \"src\": \"/home/centos/.ansible/tmp/ansible-tmp-1593656745.6658294-617-11651676052128/source\",\u001b[0m\n",
      "\u001b[0;33m    \"state\": \"file\",\u001b[0m\n",
      "\u001b[0;33m    \"uid\": 0\u001b[0m\n",
      "\u001b[0;33m}\u001b[0m\n"
     ]
    }
   ],
   "source": [
    "!ansible -b -m file -a 'path={ophub_dir}/cert state=directory' {target_group}\n",
    "!ansible -b -m copy -a 'src={cert_file} dest={ophub_dir}/cert/server.cer' {target_group}\n",
    "!ansible -b -m copy -a 'src={key_file} dest={ophub_dir}/cert/server.key' {target_group}"
   ]
  },
  {
   "cell_type": "markdown",
   "metadata": {
    "lc_cell_meme": {
     "current": "58afe112-bc0b-11ea-9c24-0242ac110002-2-f446-eabe",
     "history": [
      {
       "current": "58afe112-bc0b-11ea-9c24-0242ac110002-1-f446",
       "next": null,
       "previous": "58afdf64-bc0b-11ea-9c24-0242ac110002"
      },
      {
       "current": "58afe112-bc0b-11ea-9c24-0242ac110002-1-f446",
       "next": "a0d41ff8-bc0b-11ea-9c24-0242ac110002",
       "previous": "58afdf64-bc0b-11ea-9c24-0242ac110002"
      },
      {
       "current": "58afe112-bc0b-11ea-9c24-0242ac110002-2-f446-eabe",
       "next": "04da4e5e-bc0d-11ea-9c24-0242ac110002",
       "previous": "58afdf64-bc0b-11ea-9c24-0242ac110002"
      }
     ],
     "next": "04da4e5e-bc0d-11ea-9c24-0242ac110002-1-31d0",
     "previous": "58afdf64-bc0b-11ea-9c24-0242ac110002-1-95e1"
    }
   },
   "source": [
    "## Step 6: Setting JupyterHub administrator"
   ]
  },
  {
   "cell_type": "markdown",
   "metadata": {
    "lc_cell_meme": {
     "current": "04da4e5e-bc0d-11ea-9c24-0242ac110002-1-31d0",
     "history": [
      {
       "current": "04da4e5e-bc0d-11ea-9c24-0242ac110002-1-31d0",
       "next": "a0d41ff8-bc0b-11ea-9c24-0242ac110002",
       "previous": "58afe112-bc0b-11ea-9c24-0242ac110002-1-f446"
      }
     ],
     "next": "a0d41ff8-bc0b-11ea-9c24-0242ac110002-1-fa09",
     "previous": "58afe112-bc0b-11ea-9c24-0242ac110002-2-f446-eabe"
    }
   },
   "source": [
    "最初の管理者ユーザを設定する。ユーザ名とパスワードは 各種設定 - 管理者ユーザ設定 で実施されているものとする。"
   ]
  },
  {
   "cell_type": "code",
   "execution_count": 28,
   "metadata": {
    "deletable": false,
    "editable": false,
    "lc_cell_meme": {
     "current": "a0d41ff8-bc0b-11ea-9c24-0242ac110002-1-fa09",
     "execution_end_time": "2020-07-02T02:34:38.033842Z",
     "history": [
      {
       "current": "a0d41ff8-bc0b-11ea-9c24-0242ac110002",
       "next": null,
       "previous": "58afe112-bc0b-11ea-9c24-0242ac110002-1-f446"
      },
      {
       "current": "a0d41ff8-bc0b-11ea-9c24-0242ac110002",
       "next": "120a8626-bc0c-11ea-9c24-0242ac110002",
       "previous": "58afe112-bc0b-11ea-9c24-0242ac110002-1-f446"
      },
      {
       "current": "a0d41ff8-bc0b-11ea-9c24-0242ac110002-1-fa09",
       "next": "120a8626-bc0c-11ea-9c24-0242ac110002",
       "previous": "04da4e5e-bc0d-11ea-9c24-0242ac110002"
      }
     ],
     "next": "120a8626-bc0c-11ea-9c24-0242ac110002-1-ebad",
     "previous": "04da4e5e-bc0d-11ea-9c24-0242ac110002-1-31d0"
    },
    "lc_wrapper": {
     "log_history": [
      "/home/jovyan/05_AWS_VMへのOpHub環境構築例/.log/20200702/20200702-023036-0589.log",
      "/home/jovyan/05_AWS_VMへのOpHub環境構築例/.log/20200702/20200702-023305-0912.log",
      "/home/jovyan/05_AWS_VMへのOpHub環境構築例/.log/20200702/20200702-023322-0079.log",
      "/home/jovyan/05_AWS_VMへのOpHub環境構築例/.log/20200702/20200702-023429-0498.log"
     ]
    },
    "run_through_control": {
     "frozen": true,
     "read_only": false
    }
   },
   "outputs": [
    {
     "name": "stdout",
     "output_type": "stream",
     "text": [
      "\u001b[0;33mec2-52-42-214-180.us-west-2.compute.amazonaws.com | CHANGED => {\u001b[0m\r\n",
      "\u001b[0;33m    \"changed\": true,\u001b[0m\r\n",
      "\u001b[0;33m    \"comment\": \"\",\u001b[0m\r\n",
      "\u001b[0;33m    \"create_home\": true,\u001b[0m\r\n",
      "\u001b[0;33m    \"group\": 1001,\u001b[0m\r\n",
      "\u001b[0;33m    \"home\": \"/home/yazawa\",\u001b[0m\r\n",
      "\u001b[0;33m    \"name\": \"yazawa\",\u001b[0m\r\n",
      "\u001b[0;33m    \"password\": \"NOT_LOGGING_PASSWORD\",\u001b[0m\r\n",
      "\u001b[0;33m    \"shell\": \"/bin/bash\",\u001b[0m\r\n",
      "\u001b[0;33m    \"state\": \"present\",\u001b[0m\r\n",
      "\u001b[0;33m    \"system\": false,\u001b[0m\r\n",
      "\u001b[0;33m    \"uid\": 1001\u001b[0m\r\n",
      "\u001b[0;33m}\u001b[0m\r\n"
     ]
    }
   ],
   "source": [
    "from passlib.hash import sha512_crypt\n",
    "\n",
    "# 参考: https://docs.ansible.com/ansible/faq.html#how-do-i-generate-encrypted-passwords-for-the-user-module\n",
    "!ansible -b -m user -a 'name={admin_username} password={sha512_crypt.using(rounds=5000).hash(admin_password)}' {target_group}"
   ]
  },
  {
   "cell_type": "code",
   "execution_count": 29,
   "metadata": {
    "deletable": false,
    "editable": false,
    "lc_cell_meme": {
     "current": "120a8626-bc0c-11ea-9c24-0242ac110002-1-ebad",
     "execution_end_time": "2020-07-02T02:35:36.126486Z",
     "history": [
      {
       "current": "120a8626-bc0c-11ea-9c24-0242ac110002",
       "next": null,
       "previous": "a0d41ff8-bc0b-11ea-9c24-0242ac110002"
      },
      {
       "current": "120a8626-bc0c-11ea-9c24-0242ac110002-1-ebad",
       "next": "bd74f3de-bc0c-11ea-9c24-0242ac110002",
       "previous": "a0d41ff8-bc0b-11ea-9c24-0242ac110002"
      }
     ],
     "next": "bd74f3de-bc0c-11ea-9c24-0242ac110002-1-a514",
     "previous": "a0d41ff8-bc0b-11ea-9c24-0242ac110002-1-fa09"
    },
    "lc_wrapper": {
     "log_history": [
      "/home/jovyan/05_AWS_VMへのOpHub環境構築例/.log/20200702/20200702-023530-0297.log"
     ]
    },
    "run_through_control": {
     "frozen": true,
     "read_only": false
    }
   },
   "outputs": [
    {
     "name": "stdout",
     "output_type": "stream",
     "text": [
      "\u001b[0;33mec2-52-42-214-180.us-west-2.compute.amazonaws.com | CHANGED | rc=0 >>\u001b[0m\r\n",
      "\u001b[0;33m\u001b[0m\r\n"
     ]
    }
   ],
   "source": [
    "!ansible -b -a 'usermod -aG wheel {admin_username}' {target_group}"
   ]
  },
  {
   "cell_type": "markdown",
   "metadata": {
    "lc_cell_meme": {
     "current": "bd74f3de-bc0c-11ea-9c24-0242ac110002-1-a514",
     "history": [
      {
       "current": "bd74f3de-bc0c-11ea-9c24-0242ac110002",
       "next": "bd74f596-bc0c-11ea-9c24-0242ac110002",
       "previous": "120a8626-bc0c-11ea-9c24-0242ac110002"
      },
      {
       "current": "bd74f3de-bc0c-11ea-9c24-0242ac110002",
       "next": "04da5052-bc0d-11ea-9c24-0242ac110002",
       "previous": "120a8626-bc0c-11ea-9c24-0242ac110002"
      },
      {
       "current": "bd74f3de-bc0c-11ea-9c24-0242ac110002-1-a514",
       "next": "6b29d818-bc0e-11ea-9c24-0242ac110002",
       "previous": "120a8626-bc0c-11ea-9c24-0242ac110002"
      }
     ],
     "next": "6b29d818-bc0e-11ea-9c24-0242ac110002-1-3e86",
     "previous": "120a8626-bc0c-11ea-9c24-0242ac110002-1-ebad"
    }
   },
   "source": [
    "## Step 7: Starting OperationHub"
   ]
  },
  {
   "cell_type": "markdown",
   "metadata": {
    "lc_cell_meme": {
     "current": "6b29d818-bc0e-11ea-9c24-0242ac110002-1-3e86",
     "history": [
      {
       "current": "6b29d818-bc0e-11ea-9c24-0242ac110002-1-3e86",
       "next": "22f53d9e-bc0e-11ea-9c24-0242ac110002",
       "previous": "bd74f3de-bc0c-11ea-9c24-0242ac110002"
      }
     ],
     "next": "22f53d9e-bc0e-11ea-9c24-0242ac110002-1-ec01",
     "previous": "bd74f3de-bc0c-11ea-9c24-0242ac110002-1-a514"
    }
   },
   "source": [
    "ユーザ用イメージをあらかじめPullしておく。"
   ]
  },
  {
   "cell_type": "code",
   "execution_count": 37,
   "metadata": {
    "deletable": false,
    "editable": false,
    "lc_cell_meme": {
     "current": "22f53d9e-bc0e-11ea-9c24-0242ac110002-1-ec01",
     "execution_end_time": "2020-07-02T02:47:39.985267Z",
     "history": [
      {
       "current": "22f53d9e-bc0e-11ea-9c24-0242ac110002",
       "next": "bd74f596-bc0c-11ea-9c24-0242ac110002",
       "previous": "04da5052-bc0d-11ea-9c24-0242ac110002"
      },
      {
       "current": "22f53d9e-bc0e-11ea-9c24-0242ac110002-1-ec01",
       "next": "04da5052-bc0d-11ea-9c24-0242ac110002",
       "previous": "6b29d818-bc0e-11ea-9c24-0242ac110002"
      }
     ],
     "next": "04da5052-bc0d-11ea-9c24-0242ac110002-1-68b4",
     "previous": "6b29d818-bc0e-11ea-9c24-0242ac110002-1-3e86"
    },
    "lc_wrapper": {
     "log_history": [
      "/home/jovyan/05_AWS_VMへのOpHub環境構築例/.log/20200702/20200702-024548-0670.log",
      "/home/jovyan/05_AWS_VMへのOpHub環境構築例/.log/20200702/20200702-024730-0665.log"
     ]
    },
    "run_through_control": {
     "frozen": true,
     "read_only": false
    }
   },
   "outputs": [
    {
     "name": "stdout",
     "output_type": "stream",
     "text": [
      "\u001b[0;33mec2-52-42-214-180.us-west-2.compute.amazonaws.com | CHANGED | rc=0 >>\u001b[0m\r\n",
      "\u001b[0;33mUsing default tag: latest\u001b[0m\r\n",
      "\u001b[0;33mlatest: Pulling from niicloudoperation/notebook\u001b[0m\r\n",
      "\u001b[0;33mDigest: sha256:20438297076cb1997833471eba78ff50a1a5f82154d9ece0ac9a1c9a54779651\u001b[0m\r\n",
      "\u001b[0;33mStatus: Image is up to date for niicloudoperation/notebook:latest\u001b[0m\r\n",
      "\u001b[0;33mdocker.io/niicloudoperation/notebook:latest\u001b[0m\r\n"
     ]
    }
   ],
   "source": [
    "!ansible -b -a 'docker pull niicloudoperation/notebook' {target_group}"
   ]
  },
  {
   "cell_type": "markdown",
   "metadata": {
    "lc_cell_meme": {
     "current": "04da5052-bc0d-11ea-9c24-0242ac110002-1-68b4",
     "history": [
      {
       "current": "04da5052-bc0d-11ea-9c24-0242ac110002",
       "next": "bd74f596-bc0c-11ea-9c24-0242ac110002",
       "previous": "bd74f3de-bc0c-11ea-9c24-0242ac110002"
      },
      {
       "current": "04da5052-bc0d-11ea-9c24-0242ac110002",
       "next": "22f53d9e-bc0e-11ea-9c24-0242ac110002",
       "previous": "bd74f3de-bc0c-11ea-9c24-0242ac110002"
      },
      {
       "current": "04da5052-bc0d-11ea-9c24-0242ac110002-1-68b4",
       "next": "bd74f596-bc0c-11ea-9c24-0242ac110002",
       "previous": "22f53d9e-bc0e-11ea-9c24-0242ac110002"
      }
     ],
     "next": "bd74f596-bc0c-11ea-9c24-0242ac110002-1-05be",
     "previous": "22f53d9e-bc0e-11ea-9c24-0242ac110002-1-ec01"
    }
   },
   "source": [
    "関連イメージをビルドする。"
   ]
  },
  {
   "cell_type": "code",
   "execution_count": 30,
   "metadata": {
    "deletable": false,
    "editable": false,
    "lc_cell_meme": {
     "current": "bd74f596-bc0c-11ea-9c24-0242ac110002-1-05be",
     "execution_end_time": "2020-07-02T02:37:50.420337Z",
     "history": [
      {
       "current": "bd74f596-bc0c-11ea-9c24-0242ac110002",
       "next": null,
       "previous": "bd74f3de-bc0c-11ea-9c24-0242ac110002"
      },
      {
       "current": "bd74f596-bc0c-11ea-9c24-0242ac110002",
       "next": "04da514c-bc0d-11ea-9c24-0242ac110002",
       "previous": "04da5052-bc0d-11ea-9c24-0242ac110002"
      },
      {
       "current": "bd74f596-bc0c-11ea-9c24-0242ac110002",
       "next": "04da514c-bc0d-11ea-9c24-0242ac110002",
       "previous": "22f53d9e-bc0e-11ea-9c24-0242ac110002"
      },
      {
       "current": "bd74f596-bc0c-11ea-9c24-0242ac110002-1-05be",
       "next": "04da514c-bc0d-11ea-9c24-0242ac110002",
       "previous": "04da5052-bc0d-11ea-9c24-0242ac110002"
      }
     ],
     "next": "04da514c-bc0d-11ea-9c24-0242ac110002-1-29f0",
     "previous": "04da5052-bc0d-11ea-9c24-0242ac110002-1-68b4"
    },
    "lc_wrapper": {
     "log_history": [
      "/home/jovyan/05_AWS_VMへのOpHub環境構築例/.log/20200702/20200702-023611-0545.log"
     ]
    },
    "run_through_control": {
     "frozen": true,
     "read_only": false
    }
   },
   "outputs": [
    {
     "name": "stdout",
     "output_type": "stream",
     "text": [
      "\u001b[0;33mec2-52-42-214-180.us-west-2.compute.amazonaws.com | CHANGED | rc=0 >>\u001b[0m\r\n",
      "\u001b[0;33mStep 1/12 : FROM jupyterhub/jupyterhub:1.0.0\u001b[0m\r\n",
      "\u001b[0;33m1.0.0: Pulling from jupyterhub/jupyterhub\u001b[0m\r\n",
      "\u001b[0;33mDigest: sha256:2bd3ea9602f61aa719a4f9458c64966c9cd839145cec08f0f1980124595dbd69\u001b[0m\r\n",
      "\u001b[0;33mStatus: Downloaded newer image for jupyterhub/jupyterhub:1.0.0\u001b[0m\r\n",
      "\u001b[0;33m ---> 64d82994fd55\u001b[0m\r\n",
      "\u001b[0;33mStep 2/12 : RUN apt-get update && apt-get install -y make && apt-get autoclean && apt-get clean && apt-get autoremove\u001b[0m\r\n",
      "\u001b[0;33m ---> Running in 9f56fd7a826f\u001b[0m\r\n",
      "\u001b[0;33mGet:1 http://security.ubuntu.com/ubuntu bionic-security InRelease [88.7 kB]\u001b[0m\r\n",
      "\u001b[0;33mGet:2 http://archive.ubuntu.com/ubuntu bionic InRelease [242 kB]\u001b[0m\r\n",
      "\u001b[0;33mGet:3 http://security.ubuntu.com/ubuntu bionic-security/multiverse amd64 Packages [9012 B]\u001b[0m\r\n",
      "\u001b[0;33mGet:4 http://security.ubuntu.com/ubuntu bionic-security/universe amd64 Packages [863 kB]\u001b[0m\r\n",
      "\u001b[0;33mGet:5 http://security.ubuntu.com/ubuntu bionic-security/restricted amd64 Packages [82.2 kB]\u001b[0m\r\n",
      "\u001b[0;33mGet:6 http://security.ubuntu.com/ubuntu bionic-security/main amd64 Packages [977 kB]\u001b[0m\r\n",
      "\u001b[0;33mGet:7 http://archive.ubuntu.com/ubuntu bionic-updates InRelease [88.7 kB]\u001b[0m\r\n",
      "\u001b[0;33mGet:8 http://archive.ubuntu.com/ubuntu bionic-backports InRelease [74.6 kB]\u001b[0m\r\n",
      "\u001b[0;33mGet:9 http://archive.ubuntu.com/ubuntu bionic/multiverse amd64 Packages [186 kB]\u001b[0m\r\n",
      "\u001b[0;33mGet:10 http://archive.ubuntu.com/ubuntu bionic/main amd64 Packages [1344 kB]\u001b[0m\r\n",
      "\u001b[0;33mGet:11 http://archive.ubuntu.com/ubuntu bionic/restricted amd64 Packages [13.5 kB]\u001b[0m\r\n",
      "\u001b[0;33mGet:12 http://archive.ubuntu.com/ubuntu bionic/universe amd64 Packages [11.3 MB]\u001b[0m\r\n",
      "\u001b[0;33mGet:13 http://archive.ubuntu.com/ubuntu bionic-updates/main amd64 Packages [1292 kB]\u001b[0m\r\n",
      "\u001b[0;33mGet:14 http://archive.ubuntu.com/ubuntu bionic-updates/restricted amd64 Packages [101 kB]\u001b[0m\r\n",
      "\u001b[0;33mGet:15 http://archive.ubuntu.com/ubuntu bionic-updates/multiverse amd64 Packages [13.6 kB]\u001b[0m\r\n",
      "\u001b[0;33mGet:16 http://archive.ubuntu.com/ubuntu bionic-updates/universe amd64 Packages [1403 kB]\u001b[0m\r\n",
      "\u001b[0;33mGet:17 http://archive.ubuntu.com/ubuntu bionic-backports/universe amd64 Packages [8158 B]\u001b[0m\r\n",
      "\u001b[0;33mGet:18 http://archive.ubuntu.com/ubuntu bionic-backports/main amd64 Packages [8286 B]\u001b[0m\r\n",
      "\u001b[0;33mFetched 18.1 MB in 4s (4265 kB/s)\u001b[0m\r\n",
      "\u001b[0;33mReading package lists...\u001b[0m\r\n",
      "\u001b[0;33mReading package lists...\u001b[0m\r\n",
      "\u001b[0;33mBuilding dependency tree...\u001b[0m\r\n",
      "\u001b[0;33mReading state information...\u001b[0m\r\n",
      "\u001b[0;33mSuggested packages:\u001b[0m\r\n",
      "\u001b[0;33m  make-doc\u001b[0m\r\n",
      "\u001b[0;33mThe following NEW packages will be installed:\u001b[0m\r\n",
      "\u001b[0;33m  make\u001b[0m\r\n",
      "\u001b[0;33m0 upgraded, 1 newly installed, 0 to remove and 51 not upgraded.\u001b[0m\r\n",
      "\u001b[0;33mNeed to get 154 kB of archives.\u001b[0m\r\n",
      "\u001b[0;33mAfter this operation, 381 kB of additional disk space will be used.\u001b[0m\r\n",
      "\u001b[0;33mGet:1 http://archive.ubuntu.com/ubuntu bionic/main amd64 make amd64 4.1-9.1ubuntu1 [154 kB]\u001b[0m\r\n",
      "\u001b[0;33m\u001b[91mdebconf: delaying package configuration, since apt-utils is not installed\u001b[0m\r\n",
      "\u001b[0;33m\u001b[0mFetched 154 kB in 1s (193 kB/s)\u001b[0m\r\n",
      "\u001b[0m\r\n",
      "\u001b[0m\r\n",
      "\u001b[0m\r\n",
      "\u001b[0m\r\n",
      "\u001b[0m\r\n",
      "\u001b[0;33mReading package lists...\u001b[0m\r\n",
      "\u001b[0;33mBuilding dependency tree...\u001b[0m\r\n",
      "\u001b[0;33mReading state information...\u001b[0m\r\n",
      "\u001b[0;33mReading package lists...\u001b[0m\r\n",
      "\u001b[0;33mBuilding dependency tree...\u001b[0m\r\n",
      "\u001b[0;33mReading state information...\u001b[0m\r\n",
      "\u001b[0;33m0 upgraded, 0 newly installed, 0 to remove and 51 not upgraded.\u001b[0m\r\n",
      "\u001b[0;33mRemoving intermediate container 9f56fd7a826f\u001b[0m\r\n",
      "\u001b[0;33m ---> 910c84afe7d3\u001b[0m\r\n",
      "\u001b[0;33mStep 3/12 : RUN curl -fsSL https://get.docker.com/ | sh\u001b[0m\r\n",
      "\u001b[0;33m ---> Running in 2ffbb308c748\u001b[0m\r\n",
      "\u001b[0;33m\u001b[91m/bin/sh: 1: curl: not found\u001b[0m\r\n",
      "\u001b[0;33m\u001b[0mRemoving intermediate container 2ffbb308c748\u001b[0m\r\n",
      "\u001b[0;33m ---> 516bff24cf96\u001b[0m\r\n",
      "\u001b[0;33mStep 4/12 : RUN apt-get update && apt-get install -y acl && apt-get autoclean && apt-get clean && apt-get autoremove\u001b[0m\r\n",
      "\u001b[0;33m ---> Running in 18868273c618\u001b[0m\r\n",
      "\u001b[0;33mHit:1 http://archive.ubuntu.com/ubuntu bionic InRelease\u001b[0m\r\n",
      "\u001b[0;33mHit:2 http://security.ubuntu.com/ubuntu bionic-security InRelease\u001b[0m\r\n",
      "\u001b[0;33mHit:3 http://archive.ubuntu.com/ubuntu bionic-updates InRelease\u001b[0m\r\n",
      "\u001b[0;33mHit:4 http://archive.ubuntu.com/ubuntu bionic-backports InRelease\u001b[0m\r\n",
      "\u001b[0;33mReading package lists...\u001b[0m\r\n",
      "\u001b[0;33mReading package lists...\u001b[0m\r\n",
      "\u001b[0;33mBuilding dependency tree...\u001b[0m\r\n",
      "\u001b[0;33mReading state information...\u001b[0m\r\n",
      "\u001b[0;33mThe following NEW packages will be installed:\u001b[0m\r\n",
      "\u001b[0;33m  acl\u001b[0m\r\n",
      "\u001b[0;33m0 upgraded, 1 newly installed, 0 to remove and 51 not upgraded.\u001b[0m\r\n",
      "\u001b[0;33mNeed to get 38.5 kB of archives.\u001b[0m\r\n",
      "\u001b[0;33mAfter this operation, 205 kB of additional disk space will be used.\u001b[0m\r\n",
      "\u001b[0;33mGet:1 http://archive.ubuntu.com/ubuntu bionic/main amd64 acl amd64 2.2.52-3build1 [38.5 kB]\u001b[0m\r\n",
      "\u001b[0;33m\u001b[91mdebconf: delaying package configuration, since apt-utils is not installed\u001b[0m\r\n",
      "\u001b[0;33m\u001b[0mFetched 38.5 kB in 0s (85.5 kB/s)\u001b[0m\r\n",
      "\u001b[0m\r\n",
      "\u001b[0m\r\n",
      "\u001b[0m\r\n",
      "\u001b[0m\r\n",
      "\u001b[0m\r\n",
      "\u001b[0;33mReading package lists...\u001b[0m\r\n",
      "\u001b[0;33mBuilding dependency tree...\u001b[0m\r\n",
      "\u001b[0;33mReading state information...\u001b[0m\r\n",
      "\u001b[0;33mReading package lists...\u001b[0m\r\n",
      "\u001b[0;33mBuilding dependency tree...\u001b[0m\r\n",
      "\u001b[0;33mReading state information...\u001b[0m\r\n",
      "\u001b[0;33m0 upgraded, 0 newly installed, 0 to remove and 51 not upgraded.\u001b[0m\r\n",
      "\u001b[0;33mRemoving intermediate container 18868273c618\u001b[0m\r\n",
      "\u001b[0;33m ---> 77be7b532263\u001b[0m\r\n",
      "\u001b[0;33mStep 5/12 : RUN pip --no-cache-dir install git+https://github.com/NII-cloud-operation/Jupyter-LC_nblineage.git\u001b[0m\r\n",
      "\u001b[0;33m ---> Running in d690c4724e82\u001b[0m\r\n",
      "\u001b[0;33mCollecting git+https://github.com/NII-cloud-operation/Jupyter-LC_nblineage.git\u001b[0m\r\n",
      "\u001b[0;33m  Cloning https://github.com/NII-cloud-operation/Jupyter-LC_nblineage.git to /tmp/pip-req-build-9i47e6wd\u001b[0m\r\n",
      "\u001b[0;33m\u001b[91m  Running command git clone -q https://github.com/NII-cloud-operation/Jupyter-LC_nblineage.git /tmp/pip-req-build-9i47e6wd\u001b[0m\r\n",
      "\u001b[0;33m\u001b[0mCollecting notebook>=4.2.0 (from lc-nblineage==0.1.0.dev1)\u001b[0m\r\n",
      "\u001b[0;33m  Downloading https://files.pythonhosted.org/packages/b1/f1/0a67f09ef53a342403ffa66646ee39273e0ac79ffa5de5dbe2f3e28b5bdf/notebook-6.0.3-py3-none-any.whl (9.7MB)\u001b[0m\r\n",
      "\u001b[0;33mRequirement already satisfied: traitlets>=4.2.1 in /opt/conda/lib/python3.6/site-packages (from notebook>=4.2.0->lc-nblineage==0.1.0.dev1) (4.3.2)\u001b[0m\r\n",
      "\u001b[0;33mCollecting nbformat (from notebook>=4.2.0->lc-nblineage==0.1.0.dev1)\u001b[0m\r\n",
      "\u001b[0;33m  Downloading https://files.pythonhosted.org/packages/4d/d1/b568bd35f95321f152f594b3647cd080e96d3347843ff2fa34dce871b8bf/nbformat-5.0.7-py3-none-any.whl (170kB)\u001b[0m\r\n",
      "\u001b[0;33mCollecting terminado>=0.8.1 (from notebook>=4.2.0->lc-nblineage==0.1.0.dev1)\u001b[0m\r\n",
      "\u001b[0;33m  Downloading https://files.pythonhosted.org/packages/ff/96/1d9a2c23990aea8f8e0b5c3b6627d03196a73771a17a2d9860bbe9823ab6/terminado-0.8.3-py2.py3-none-any.whl\u001b[0m\r\n",
      "\u001b[0;33mCollecting jupyter-core>=4.6.1 (from notebook>=4.2.0->lc-nblineage==0.1.0.dev1)\u001b[0m\r\n",
      "\u001b[0;33m  Downloading https://files.pythonhosted.org/packages/63/0d/df2d17cdf389cea83e2efa9a4d32f7d527ba78667e0153a8e676e957b2f7/jupyter_core-4.6.3-py2.py3-none-any.whl (83kB)\u001b[0m\r\n",
      "\u001b[0;33mCollecting jupyter-client>=5.3.4 (from notebook>=4.2.0->lc-nblineage==0.1.0.dev1)\u001b[0m\r\n",
      "\u001b[0;33m  Downloading https://files.pythonhosted.org/packages/93/4b/26eabcf24b3e7cfdf063858609af45eecea245cf64d82e2fc88d2ef57857/jupyter_client-6.1.5-py3-none-any.whl (107kB)\u001b[0m\r\n",
      "\u001b[0;33mRequirement already satisfied: tornado>=5.0 in /opt/conda/lib/python3.6/site-packages (from notebook>=4.2.0->lc-nblineage==0.1.0.dev1) (6.0.2)\u001b[0m\r\n",
      "\u001b[0;33mCollecting nbconvert (from notebook>=4.2.0->lc-nblineage==0.1.0.dev1)\u001b[0m\r\n",
      "\u001b[0;33m  Downloading https://files.pythonhosted.org/packages/79/6c/05a569e9f703d18aacb89b7ad6075b404e8a4afde2c26b73ca77bb644b14/nbconvert-5.6.1-py2.py3-none-any.whl (455kB)\u001b[0m\r\n",
      "\u001b[0;33mRequirement already satisfied: jinja2 in /opt/conda/lib/python3.6/site-packages (from notebook>=4.2.0->lc-nblineage==0.1.0.dev1) (2.10.1)\u001b[0m\r\n",
      "\u001b[0;33mCollecting Send2Trash (from notebook>=4.2.0->lc-nblineage==0.1.0.dev1)\u001b[0m\r\n",
      "\u001b[0;33m  Downloading https://files.pythonhosted.org/packages/49/46/c3dc27481d1cc57b9385aff41c474ceb7714f7935b1247194adae45db714/Send2Trash-1.5.0-py3-none-any.whl\u001b[0m\r\n",
      "\u001b[0;33mRequirement already satisfied: prometheus-client in /opt/conda/lib/python3.6/site-packages (from notebook>=4.2.0->lc-nblineage==0.1.0.dev1) (0.6.0)\u001b[0m\r\n",
      "\u001b[0;33mRequirement already satisfied: ipython-genutils in /opt/conda/lib/python3.6/site-packages (from notebook>=4.2.0->lc-nblineage==0.1.0.dev1) (0.2.0)\u001b[0m\r\n",
      "\u001b[0;33mCollecting pyzmq>=17 (from notebook>=4.2.0->lc-nblineage==0.1.0.dev1)\u001b[0m\r\n",
      "\u001b[0;33m  Downloading https://files.pythonhosted.org/packages/c9/11/bb28199dd8f186a4053b7dd94a33abf0c1162d99203e7ab32a6b71fa045b/pyzmq-19.0.1-cp36-cp36m-manylinux1_x86_64.whl (1.1MB)\u001b[0m\r\n",
      "\u001b[0;33mCollecting ipykernel (from notebook>=4.2.0->lc-nblineage==0.1.0.dev1)\u001b[0m\r\n",
      "\u001b[0;33m  Downloading https://files.pythonhosted.org/packages/61/18/f2350f0396fca562c22f880e25d668eaf6de129b6a56bf5b6786796a12e1/ipykernel-5.3.0-py3-none-any.whl (119kB)\u001b[0m\r\n",
      "\u001b[0;33mRequirement already satisfied: six in /opt/conda/lib/python3.6/site-packages (from traitlets>=4.2.1->notebook>=4.2.0->lc-nblineage==0.1.0.dev1) (1.12.0)\u001b[0m\r\n",
      "\u001b[0;33mRequirement already satisfied: decorator in /opt/conda/lib/python3.6/site-packages (from traitlets>=4.2.1->notebook>=4.2.0->lc-nblineage==0.1.0.dev1) (4.4.0)\u001b[0m\r\n",
      "\u001b[0;33mCollecting jsonschema!=2.5.0,>=2.4 (from nbformat->notebook>=4.2.0->lc-nblineage==0.1.0.dev1)\u001b[0m\r\n",
      "\u001b[0;33m  Downloading https://files.pythonhosted.org/packages/c5/8f/51e89ce52a085483359217bc72cdbf6e75ee595d5b1d4b5ade40c7e018b8/jsonschema-3.2.0-py2.py3-none-any.whl (56kB)\u001b[0m\r\n",
      "\u001b[0;33mCollecting ptyprocess; os_name != \"nt\" (from terminado>=0.8.1->notebook>=4.2.0->lc-nblineage==0.1.0.dev1)\u001b[0m\r\n",
      "\u001b[0;33m  Downloading https://files.pythonhosted.org/packages/d1/29/605c2cc68a9992d18dada28206eeada56ea4bd07a239669da41674648b6f/ptyprocess-0.6.0-py2.py3-none-any.whl\u001b[0m\r\n",
      "\u001b[0;33mRequirement already satisfied: python-dateutil>=2.1 in /opt/conda/lib/python3.6/site-packages (from jupyter-client>=5.3.4->notebook>=4.2.0->lc-nblineage==0.1.0.dev1) (2.8.0)\u001b[0m\r\n",
      "\u001b[0;33mCollecting defusedxml (from nbconvert->notebook>=4.2.0->lc-nblineage==0.1.0.dev1)\u001b[0m\r\n",
      "\u001b[0;33m  Downloading https://files.pythonhosted.org/packages/06/74/9b387472866358ebc08732de3da6dc48e44b0aacd2ddaa5cb85ab7e986a2/defusedxml-0.6.0-py2.py3-none-any.whl\u001b[0m\r\n",
      "\u001b[0;33mCollecting bleach (from nbconvert->notebook>=4.2.0->lc-nblineage==0.1.0.dev1)\u001b[0m\r\n",
      "\u001b[0;33m  Downloading https://files.pythonhosted.org/packages/9a/1e/7d6cb3b27cd2c490558349ca5d5cc05b390b017da1c704cac807ac8bd9fb/bleach-3.1.5-py2.py3-none-any.whl (151kB)\u001b[0m\r\n",
      "\u001b[0;33mRequirement already satisfied: entrypoints>=0.2.2 in /opt/conda/lib/python3.6/site-packages (from nbconvert->notebook>=4.2.0->lc-nblineage==0.1.0.dev1) (0.3)\u001b[0m\r\n",
      "\u001b[0;33mCollecting testpath (from nbconvert->notebook>=4.2.0->lc-nblineage==0.1.0.dev1)\u001b[0m\r\n",
      "\u001b[0;33m  Downloading https://files.pythonhosted.org/packages/1b/9e/1a170feaa54f22aeb5a5d16c9015e82234275a3c8ab630b552493f9cb8a9/testpath-0.4.4-py2.py3-none-any.whl (163kB)\u001b[0m\r\n",
      "\u001b[0;33mCollecting pandocfilters>=1.4.1 (from nbconvert->notebook>=4.2.0->lc-nblineage==0.1.0.dev1)\u001b[0m\r\n",
      "\u001b[0;33m  Downloading https://files.pythonhosted.org/packages/4c/ea/236e2584af67bb6df960832731a6e5325fd4441de001767da328c33368ce/pandocfilters-1.4.2.tar.gz\u001b[0m\r\n",
      "\u001b[0;33mCollecting mistune<2,>=0.8.1 (from nbconvert->notebook>=4.2.0->lc-nblineage==0.1.0.dev1)\u001b[0m\r\n",
      "\u001b[0;33m  Downloading https://files.pythonhosted.org/packages/09/ec/4b43dae793655b7d8a25f76119624350b4d65eb663459eb9603d7f1f0345/mistune-0.8.4-py2.py3-none-any.whl\u001b[0m\r\n",
      "\u001b[0;33mCollecting pygments (from nbconvert->notebook>=4.2.0->lc-nblineage==0.1.0.dev1)\u001b[0m\r\n",
      "\u001b[0;33m  Downloading https://files.pythonhosted.org/packages/2d/68/106af3ae51daf807e9cdcba6a90e518954eb8b70341cee52995540a53ead/Pygments-2.6.1-py3-none-any.whl (914kB)\u001b[0m\r\n",
      "\u001b[0;33mRequirement already satisfied: MarkupSafe>=0.23 in /opt/conda/lib/python3.6/site-packages (from jinja2->notebook>=4.2.0->lc-nblineage==0.1.0.dev1) (1.1.1)\u001b[0m\r\n",
      "\u001b[0;33mCollecting ipython>=5.0.0 (from ipykernel->notebook>=4.2.0->lc-nblineage==0.1.0.dev1)\u001b[0m\r\n",
      "\u001b[0;33m  Downloading https://files.pythonhosted.org/packages/23/6a/210816c943c9aeeb29e4e18a298f14bf0e118fe222a23e13bfcc2d41b0a4/ipython-7.16.1-py3-none-any.whl (785kB)\u001b[0m\r\n",
      "\u001b[0;33mRequirement already satisfied: setuptools in /opt/conda/lib/python3.6/site-packages (from jsonschema!=2.5.0,>=2.4->nbformat->notebook>=4.2.0->lc-nblineage==0.1.0.dev1) (41.0.1)\u001b[0m\r\n",
      "\u001b[0;33mCollecting pyrsistent>=0.14.0 (from jsonschema!=2.5.0,>=2.4->nbformat->notebook>=4.2.0->lc-nblineage==0.1.0.dev1)\u001b[0m\r\n",
      "\u001b[0;33m  Downloading https://files.pythonhosted.org/packages/9f/0d/cbca4d0bbc5671822a59f270e4ce3f2195f8a899c97d0d5abb81b191efb5/pyrsistent-0.16.0.tar.gz (108kB)\u001b[0m\r\n",
      "\u001b[0;33mCollecting importlib-metadata; python_version < \"3.8\" (from jsonschema!=2.5.0,>=2.4->nbformat->notebook>=4.2.0->lc-nblineage==0.1.0.dev1)\u001b[0m\r\n",
      "\u001b[0;33m  Downloading https://files.pythonhosted.org/packages/8e/58/cdea07eb51fc2b906db0968a94700866fc46249bdc75cac23f9d13168929/importlib_metadata-1.7.0-py2.py3-none-any.whl\u001b[0m\r\n",
      "\u001b[0;33mCollecting attrs>=17.4.0 (from jsonschema!=2.5.0,>=2.4->nbformat->notebook>=4.2.0->lc-nblineage==0.1.0.dev1)\u001b[0m\r\n",
      "\u001b[0;33m  Downloading https://files.pythonhosted.org/packages/a2/db/4313ab3be961f7a763066401fb77f7748373b6094076ae2bda2806988af6/attrs-19.3.0-py2.py3-none-any.whl\u001b[0m\r\n",
      "\u001b[0;33mCollecting webencodings (from bleach->nbconvert->notebook>=4.2.0->lc-nblineage==0.1.0.dev1)\u001b[0m\r\n",
      "\u001b[0;33m  Downloading https://files.pythonhosted.org/packages/f4/24/2a3e3df732393fed8b3ebf2ec078f05546de641fe1b667ee316ec1dcf3b7/webencodings-0.5.1-py2.py3-none-any.whl\u001b[0m\r\n",
      "\u001b[0;33mCollecting packaging (from bleach->nbconvert->notebook>=4.2.0->lc-nblineage==0.1.0.dev1)\u001b[0m\r\n",
      "\u001b[0;33m  Downloading https://files.pythonhosted.org/packages/46/19/c5ab91b1b05cfe63cccd5cfc971db9214c6dd6ced54e33c30d5af1d2bc43/packaging-20.4-py2.py3-none-any.whl\u001b[0m\r\n",
      "\u001b[0;33mCollecting prompt-toolkit!=3.0.0,!=3.0.1,<3.1.0,>=2.0.0 (from ipython>=5.0.0->ipykernel->notebook>=4.2.0->lc-nblineage==0.1.0.dev1)\u001b[0m\r\n",
      "\u001b[0;33m  Downloading https://files.pythonhosted.org/packages/e4/a7/81b39aa50e9284fe2cb21cc7fb7de7817b224172d42793fd57451d38842b/prompt_toolkit-3.0.5-py3-none-any.whl (351kB)\u001b[0m\r\n",
      "\u001b[0;33mCollecting pexpect; sys_platform != \"win32\" (from ipython>=5.0.0->ipykernel->notebook>=4.2.0->lc-nblineage==0.1.0.dev1)\u001b[0m\r\n",
      "\u001b[0;33m  Downloading https://files.pythonhosted.org/packages/39/7b/88dbb785881c28a102619d46423cb853b46dbccc70d3ac362d99773a78ce/pexpect-4.8.0-py2.py3-none-any.whl (59kB)\u001b[0m\r\n",
      "\u001b[0;33mCollecting backcall (from ipython>=5.0.0->ipykernel->notebook>=4.2.0->lc-nblineage==0.1.0.dev1)\u001b[0m\r\n",
      "\u001b[0;33m  Downloading https://files.pythonhosted.org/packages/4c/1c/ff6546b6c12603d8dd1070aa3c3d273ad4c07f5771689a7b69a550e8c951/backcall-0.2.0-py2.py3-none-any.whl\u001b[0m\r\n",
      "\u001b[0;33mCollecting pickleshare (from ipython>=5.0.0->ipykernel->notebook>=4.2.0->lc-nblineage==0.1.0.dev1)\u001b[0m\r\n",
      "\u001b[0;33m  Downloading https://files.pythonhosted.org/packages/9a/41/220f49aaea88bc6fa6cba8d05ecf24676326156c23b991e80b3f2fc24c77/pickleshare-0.7.5-py2.py3-none-any.whl\u001b[0m\r\n",
      "\u001b[0;33mCollecting jedi>=0.10 (from ipython>=5.0.0->ipykernel->notebook>=4.2.0->lc-nblineage==0.1.0.dev1)\u001b[0m\r\n",
      "\u001b[0;33m  Downloading https://files.pythonhosted.org/packages/07/83/7e711550fcb2722f1ca9c8564d5bb23f625ae67d99f4a360b428c0f3e932/jedi-0.17.1-py2.py3-none-any.whl (1.4MB)\u001b[0m\r\n",
      "\u001b[0;33mCollecting zipp>=0.5 (from importlib-metadata; python_version < \"3.8\"->jsonschema!=2.5.0,>=2.4->nbformat->notebook>=4.2.0->lc-nblineage==0.1.0.dev1)\u001b[0m\r\n",
      "\u001b[0;33m  Downloading https://files.pythonhosted.org/packages/b2/34/bfcb43cc0ba81f527bc4f40ef41ba2ff4080e047acb0586b56b3d017ace4/zipp-3.1.0-py3-none-any.whl\u001b[0m\r\n",
      "\u001b[0;33mCollecting pyparsing>=2.0.2 (from packaging->bleach->nbconvert->notebook>=4.2.0->lc-nblineage==0.1.0.dev1)\u001b[0m\r\n",
      "\u001b[0;33m  Downloading https://files.pythonhosted.org/packages/8a/bb/488841f56197b13700afd5658fc279a2025a39e22449b7cf29864669b15d/pyparsing-2.4.7-py2.py3-none-any.whl (67kB)\u001b[0m\r\n",
      "\u001b[0;33mCollecting wcwidth (from prompt-toolkit!=3.0.0,!=3.0.1,<3.1.0,>=2.0.0->ipython>=5.0.0->ipykernel->notebook>=4.2.0->lc-nblineage==0.1.0.dev1)\u001b[0m\r\n",
      "\u001b[0;33m  Downloading https://files.pythonhosted.org/packages/59/7c/e39aca596badaf1b78e8f547c807b04dae603a433d3e7a7e04d67f2ef3e5/wcwidth-0.2.5-py2.py3-none-any.whl\u001b[0m\r\n",
      "\u001b[0;33mCollecting parso<0.8.0,>=0.7.0 (from jedi>=0.10->ipython>=5.0.0->ipykernel->notebook>=4.2.0->lc-nblineage==0.1.0.dev1)\u001b[0m\r\n",
      "\u001b[0;33m  Downloading https://files.pythonhosted.org/packages/b5/61/998cce9e7476de000d031874df26a18f67cb73448164fc44a98f0c55920b/parso-0.7.0-py2.py3-none-any.whl (100kB)\u001b[0m\r\n",
      "\u001b[0;33mBuilding wheels for collected packages: lc-nblineage, pandocfilters, pyrsistent\u001b[0m\r\n",
      "\u001b[0;33m  Building wheel for lc-nblineage (setup.py): started\u001b[0m\r\n",
      "\u001b[0;33m  Building wheel for lc-nblineage (setup.py): finished with status 'done'\u001b[0m\r\n",
      "\u001b[0;33m  Stored in directory: /tmp/pip-ephem-wheel-cache-bvv93mbs/wheels/42/e3/e4/ebe4dfa86f0a7c2db741c65879b8fbcb67ce52b753d9c69e61\u001b[0m\r\n",
      "\u001b[0;33m  Building wheel for pandocfilters (setup.py): started\u001b[0m\r\n",
      "\u001b[0;33m  Building wheel for pandocfilters (setup.py): finished with status 'done'\u001b[0m\r\n",
      "\u001b[0;33m  Stored in directory: /tmp/pip-ephem-wheel-cache-bvv93mbs/wheels/39/01/56/f1b08a6275acc59e846fa4c1e1b65dbc1919f20157d9e66c20\u001b[0m\r\n",
      "\u001b[0;33m  Building wheel for pyrsistent (setup.py): started\u001b[0m\r\n",
      "\u001b[0;33m  Building wheel for pyrsistent (setup.py): finished with status 'done'\u001b[0m\r\n",
      "\u001b[0;33m  Stored in directory: /tmp/pip-ephem-wheel-cache-bvv93mbs/wheels/c2/85/ad/bc6d41e2c4b35c9fdfed48f0fcd411ffc4164e67755ddf9ebb\u001b[0m\r\n",
      "\u001b[0;33mSuccessfully built lc-nblineage pandocfilters pyrsistent\u001b[0m\r\n",
      "\u001b[0;33mInstalling collected packages: pyrsistent, zipp, importlib-metadata, attrs, jsonschema, jupyter-core, nbformat, ptyprocess, terminado, pyzmq, jupyter-client, defusedxml, webencodings, pyparsing, packaging, bleach, testpath, pandocfilters, mistune, pygments, nbconvert, Send2Trash, wcwidth, prompt-toolkit, pexpect, backcall, pickleshare, parso, jedi, ipython, ipykernel, notebook, lc-nblineage\u001b[0m\r\n",
      "\u001b[0;33mSuccessfully installed Send2Trash-1.5.0 attrs-19.3.0 backcall-0.2.0 bleach-3.1.5 defusedxml-0.6.0 importlib-metadata-1.7.0 ipykernel-5.3.0 ipython-7.16.1 jedi-0.17.1 jsonschema-3.2.0 jupyter-client-6.1.5 jupyter-core-4.6.3 lc-nblineage-0.1.0.dev1 mistune-0.8.4 nbconvert-5.6.1 nbformat-5.0.7 notebook-6.0.3 packaging-20.4 pandocfilters-1.4.2 parso-0.7.0 pexpect-4.8.0 pickleshare-0.7.5 prompt-toolkit-3.0.5 ptyprocess-0.6.0 pygments-2.6.1 pyparsing-2.4.7 pyrsistent-0.16.0 pyzmq-19.0.1 terminado-0.8.3 testpath-0.4.4 wcwidth-0.2.5 webencodings-0.5.1 zipp-3.1.0\u001b[0m\r\n",
      "\u001b[0;33mRemoving intermediate container d690c4724e82\u001b[0m\r\n",
      "\u001b[0;33m ---> 1a3e9818665d\u001b[0m\r\n",
      "\u001b[0;33mStep 6/12 : RUN pip --no-cache-dir install git+https://github.com/jupyterhub/dockerspawner.git     requests-unixsocket\u001b[0m\r\n",
      "\u001b[0;33m ---> Running in cb13b5647b7f\u001b[0m\r\n",
      "\u001b[0;33mCollecting git+https://github.com/jupyterhub/dockerspawner.git\u001b[0m\r\n",
      "\u001b[0;33m  Cloning https://github.com/jupyterhub/dockerspawner.git to /tmp/pip-req-build-8cw58kdb\u001b[0m\r\n",
      "\u001b[0;33m\u001b[91m  Running command git clone -q https://github.com/jupyterhub/dockerspawner.git /tmp/pip-req-build-8cw58kdb\u001b[0m\r\n",
      "\u001b[0;33m\u001b[0mCollecting requests-unixsocket\u001b[0m\r\n",
      "\u001b[0;33m  Downloading https://files.pythonhosted.org/packages/d0/63/97662a6f7175c08381447a09f6bc35464075f0ea6549cf6daf2668b51f04/requests_unixsocket-0.2.0-py2.py3-none-any.whl\u001b[0m\r\n",
      "\u001b[0;33mRequirement already satisfied: jupyterhub>=0.4 in /opt/conda/lib/python3.6/site-packages (from dockerspawner==0.12.0.dev0) (1.0.0)\u001b[0m\r\n",
      "\u001b[0;33mCollecting escapism (from dockerspawner==0.12.0.dev0)\u001b[0m\r\n",
      "\u001b[0;33m  Downloading https://files.pythonhosted.org/packages/fa/d2/b68857f1f98678ce5cd01edc2e7082f1124760373d610fc01fa6da1ee757/escapism-1.0.1-py2.py3-none-any.whl\u001b[0m\r\n",
      "\u001b[0;33mCollecting docker (from dockerspawner==0.12.0.dev0)\u001b[0m\r\n",
      "\u001b[0;33m  Downloading https://files.pythonhosted.org/packages/3c/15/7a2f095a3b8b0fff9a0a5f56bd941e05fa958d4ca31105541001a5f7d3eb/docker-4.2.2-py2.py3-none-any.whl (144kB)\u001b[0m\r\n",
      "\u001b[0;33mRequirement already satisfied: urllib3>=1.8 in /opt/conda/lib/python3.6/site-packages (from requests-unixsocket) (1.24.2)\u001b[0m\r\n",
      "\u001b[0;33mRequirement already satisfied: requests>=1.1 in /opt/conda/lib/python3.6/site-packages (from requests-unixsocket) (2.21.0)\u001b[0m\r\n",
      "\u001b[0;33mRequirement already satisfied: pamela in /opt/conda/lib/python3.6/site-packages (from jupyterhub>=0.4->dockerspawner==0.12.0.dev0) (1.0.0)\u001b[0m\r\n",
      "\u001b[0;33mRequirement already satisfied: tornado>=5.0 in /opt/conda/lib/python3.6/site-packages (from jupyterhub>=0.4->dockerspawner==0.12.0.dev0) (6.0.2)\u001b[0m\r\n",
      "\u001b[0;33mRequirement already satisfied: jinja2 in /opt/conda/lib/python3.6/site-packages (from jupyterhub>=0.4->dockerspawner==0.12.0.dev0) (2.10.1)\u001b[0m\r\n",
      "\u001b[0;33mRequirement already satisfied: certipy>=0.1.2 in /opt/conda/lib/python3.6/site-packages (from jupyterhub>=0.4->dockerspawner==0.12.0.dev0) (0.1.3)\u001b[0m\r\n",
      "\u001b[0;33mRequirement already satisfied: entrypoints in /opt/conda/lib/python3.6/site-packages (from jupyterhub>=0.4->dockerspawner==0.12.0.dev0) (0.3)\u001b[0m\r\n",
      "\u001b[0;33mRequirement already satisfied: oauthlib>=3.0 in /opt/conda/lib/python3.6/site-packages (from jupyterhub>=0.4->dockerspawner==0.12.0.dev0) (3.0.1)\u001b[0m\r\n",
      "\u001b[0;33mRequirement already satisfied: prometheus-client>=0.0.21 in /opt/conda/lib/python3.6/site-packages (from jupyterhub>=0.4->dockerspawner==0.12.0.dev0) (0.6.0)\u001b[0m\r\n",
      "\u001b[0;33mRequirement already satisfied: SQLAlchemy>=1.1 in /opt/conda/lib/python3.6/site-packages (from jupyterhub>=0.4->dockerspawner==0.12.0.dev0) (1.3.3)\u001b[0m\r\n",
      "\u001b[0;33mRequirement already satisfied: async-generator>=1.8 in /opt/conda/lib/python3.6/site-packages (from jupyterhub>=0.4->dockerspawner==0.12.0.dev0) (1.10)\u001b[0m\r\n",
      "\u001b[0;33mRequirement already satisfied: python-dateutil in /opt/conda/lib/python3.6/site-packages (from jupyterhub>=0.4->dockerspawner==0.12.0.dev0) (2.8.0)\u001b[0m\r\n",
      "\u001b[0;33mRequirement already satisfied: traitlets>=4.3.2 in /opt/conda/lib/python3.6/site-packages (from jupyterhub>=0.4->dockerspawner==0.12.0.dev0) (4.3.2)\u001b[0m\r\n",
      "\u001b[0;33mRequirement already satisfied: alembic in /opt/conda/lib/python3.6/site-packages (from jupyterhub>=0.4->dockerspawner==0.12.0.dev0) (1.0.10)\u001b[0m\r\n",
      "\u001b[0;33mRequirement already satisfied: six>=1.4.0 in /opt/conda/lib/python3.6/site-packages (from docker->dockerspawner==0.12.0.dev0) (1.12.0)\u001b[0m\r\n",
      "\u001b[0;33mCollecting websocket-client>=0.32.0 (from docker->dockerspawner==0.12.0.dev0)\u001b[0m\r\n",
      "\u001b[0;33m  Downloading https://files.pythonhosted.org/packages/4c/5f/f61b420143ed1c8dc69f9eaec5ff1ac36109d52c80de49d66e0c36c3dfdf/websocket_client-0.57.0-py2.py3-none-any.whl (200kB)\u001b[0m\r\n",
      "\u001b[0;33mRequirement already satisfied: chardet<3.1.0,>=3.0.2 in /opt/conda/lib/python3.6/site-packages (from requests>=1.1->requests-unixsocket) (3.0.4)\u001b[0m\r\n",
      "\u001b[0;33mRequirement already satisfied: certifi>=2017.4.17 in /opt/conda/lib/python3.6/site-packages (from requests>=1.1->requests-unixsocket) (2019.3.9)\u001b[0m\r\n",
      "\u001b[0;33mRequirement already satisfied: idna<2.9,>=2.5 in /opt/conda/lib/python3.6/site-packages (from requests>=1.1->requests-unixsocket) (2.8)\u001b[0m\r\n",
      "\u001b[0;33mRequirement already satisfied: MarkupSafe>=0.23 in /opt/conda/lib/python3.6/site-packages (from jinja2->jupyterhub>=0.4->dockerspawner==0.12.0.dev0) (1.1.1)\u001b[0m\r\n",
      "\u001b[0;33mRequirement already satisfied: pyopenssl in /opt/conda/lib/python3.6/site-packages (from certipy>=0.1.2->jupyterhub>=0.4->dockerspawner==0.12.0.dev0) (19.0.0)\u001b[0m\r\n",
      "\u001b[0;33mRequirement already satisfied: ipython_genutils in /opt/conda/lib/python3.6/site-packages (from traitlets>=4.3.2->jupyterhub>=0.4->dockerspawner==0.12.0.dev0) (0.2.0)\u001b[0m\r\n",
      "\u001b[0;33mRequirement already satisfied: decorator in /opt/conda/lib/python3.6/site-packages (from traitlets>=4.3.2->jupyterhub>=0.4->dockerspawner==0.12.0.dev0) (4.4.0)\u001b[0m\r\n",
      "\u001b[0;33mRequirement already satisfied: Mako in /opt/conda/lib/python3.6/site-packages (from alembic->jupyterhub>=0.4->dockerspawner==0.12.0.dev0) (1.0.9)\u001b[0m\r\n",
      "\u001b[0;33mRequirement already satisfied: python-editor>=0.3 in /opt/conda/lib/python3.6/site-packages (from alembic->jupyterhub>=0.4->dockerspawner==0.12.0.dev0) (1.0.4)\u001b[0m\r\n",
      "\u001b[0;33mRequirement already satisfied: cryptography>=2.3 in /opt/conda/lib/python3.6/site-packages (from pyopenssl->certipy>=0.1.2->jupyterhub>=0.4->dockerspawner==0.12.0.dev0) (2.6.1)\u001b[0m\r\n",
      "\u001b[0;33mRequirement already satisfied: asn1crypto>=0.21.0 in /opt/conda/lib/python3.6/site-packages (from cryptography>=2.3->pyopenssl->certipy>=0.1.2->jupyterhub>=0.4->dockerspawner==0.12.0.dev0) (0.24.0)\u001b[0m\r\n",
      "\u001b[0;33mRequirement already satisfied: cffi!=1.11.3,>=1.8 in /opt/conda/lib/python3.6/site-packages (from cryptography>=2.3->pyopenssl->certipy>=0.1.2->jupyterhub>=0.4->dockerspawner==0.12.0.dev0) (1.12.3)\u001b[0m\r\n",
      "\u001b[0;33mRequirement already satisfied: pycparser in /opt/conda/lib/python3.6/site-packages (from cffi!=1.11.3,>=1.8->cryptography>=2.3->pyopenssl->certipy>=0.1.2->jupyterhub>=0.4->dockerspawner==0.12.0.dev0) (2.19)\u001b[0m\r\n",
      "\u001b[0;33mBuilding wheels for collected packages: dockerspawner\u001b[0m\r\n",
      "\u001b[0;33m  Building wheel for dockerspawner (setup.py): started\u001b[0m\r\n",
      "\u001b[0;33m  Building wheel for dockerspawner (setup.py): finished with status 'done'\u001b[0m\r\n",
      "\u001b[0;33m  Stored in directory: /tmp/pip-ephem-wheel-cache-czd5hv_t/wheels/ef/91/1d/a8c8bd33a088ba5fbf0bf8384d4eee859807056f2af3c71a5b\u001b[0m\r\n",
      "\u001b[0;33mSuccessfully built dockerspawner\u001b[0m\r\n",
      "\u001b[0;33mInstalling collected packages: requests-unixsocket, escapism, websocket-client, docker, dockerspawner\u001b[0m\r\n",
      "\u001b[0;33mSuccessfully installed docker-4.2.2 dockerspawner-0.12.0.dev0 escapism-1.0.1 requests-unixsocket-0.2.0 websocket-client-0.57.0\u001b[0m\r\n",
      "\u001b[0;33mRemoving intermediate container cb13b5647b7f\u001b[0m\r\n",
      "\u001b[0;33m ---> 0dab14f8b178\u001b[0m\r\n",
      "\u001b[0;33mStep 7/12 : COPY authenticator /tmp/authenticator\u001b[0m\r\n",
      "\u001b[0;33m ---> fd395bc0c517\u001b[0m\r\n",
      "\u001b[0;33mStep 8/12 : RUN pip --no-cache-dir install /tmp/authenticator &&     rm -rf /tmp/authenticator\u001b[0m\r\n",
      "\u001b[0;33m ---> Running in d61e160deed4\u001b[0m\r\n",
      "\u001b[0;33mProcessing /tmp/authenticator\u001b[0m\r\n",
      "\u001b[0;33mBuilding wheels for collected packages: ophubauthenticator\u001b[0m\r\n",
      "\u001b[0;33m  Building wheel for ophubauthenticator (setup.py): started\u001b[0m\r\n",
      "\u001b[0;33m  Building wheel for ophubauthenticator (setup.py): finished with status 'done'\u001b[0m\r\n",
      "\u001b[0;33m  Stored in directory: /tmp/pip-ephem-wheel-cache-eppo43as/wheels/4b/99/89/7939668736137b003844e16ac35fada90bd06c6ffc4cb78459\u001b[0m\r\n",
      "\u001b[0;33mSuccessfully built ophubauthenticator\u001b[0m\r\n",
      "\u001b[0;33mInstalling collected packages: ophubauthenticator\u001b[0m\r\n",
      "\u001b[0;33mSuccessfully installed ophubauthenticator-0.1.0\u001b[0m\r\n",
      "\u001b[0;33mRemoving intermediate container d61e160deed4\u001b[0m\r\n",
      "\u001b[0;33m ---> b3a3bacd05f1\u001b[0m\r\n",
      "\u001b[0;33mStep 9/12 : ADD cull_idle_servers.py /usr/local/bin/cull_idle_servers.py\u001b[0m\r\n",
      "\u001b[0;33m ---> bc040773f964\u001b[0m\r\n",
      "\u001b[0;33mStep 10/12 : ADD add_user.py /usr/local/bin/add_user.py\u001b[0m\r\n",
      "\u001b[0;33m ---> 85b922c5a4f5\u001b[0m\r\n",
      "\u001b[0;33mStep 11/12 : RUN mkdir /var/jupyterhub/\u001b[0m\r\n",
      "\u001b[0;33m ---> Running in 5da7501fc317\u001b[0m\r\n",
      "\u001b[0;33mRemoving intermediate container 5da7501fc317\u001b[0m\r\n",
      "\u001b[0;33m ---> 55a188dda904\u001b[0m\r\n",
      "\u001b[0;33mStep 12/12 : ADD jupyterhub_config.py /srv/jupyterhub/\u001b[0m\r\n",
      "\u001b[0;33m ---> 29212c23d22f\u001b[0m\r\n",
      "\u001b[0;33m\u001b[0m\r\n",
      "\u001b[0;33mSuccessfully built 29212c23d22f\u001b[0m\r\n",
      "\u001b[0;33mSuccessfully tagged ophub_jupyterhub:latest\u001b[0m\r\n",
      "\u001b[0;33mStep 1/3 : FROM nginx:stable\u001b[0m\r\n",
      "\u001b[0;33mstable: Pulling from library/nginx\u001b[0m\r\n",
      "\u001b[0;33mDigest: sha256:159aedcc6acb8147c524ec2d11f02112bc21f9e8eb33e328fb7c04b05fc44e1c\u001b[0m\r\n",
      "\u001b[0;33mStatus: Downloaded newer image for nginx:stable\u001b[0m\r\n",
      "\u001b[0;33m ---> 9fc56f7e4c11\u001b[0m\r\n",
      "\u001b[0;33mStep 2/3 : RUN ln -sfT /dev/stderr \"/var/log/nginx/error.log\" &&     ln -sfT /dev/stdout \"/var/log/nginx/access.log\"\u001b[0m\r\n",
      "\u001b[0;33m ---> Running in 2b951c27486a\u001b[0m\r\n",
      "\u001b[0;33mRemoving intermediate container 2b951c27486a\u001b[0m\r\n",
      "\u001b[0;33m ---> a73c576c53b9\u001b[0m\r\n",
      "\u001b[0;33mStep 3/3 : RUN rm -f /etc/localtime\u001b[0m\r\n",
      "\u001b[0;33m ---> Running in 865ece62173b\u001b[0m\r\n",
      "\u001b[0;33mRemoving intermediate container 865ece62173b\u001b[0m\r\n",
      "\u001b[0;33m ---> c725b2b789b1\u001b[0m\r\n",
      "\u001b[0;33m\u001b[0m\r\n",
      "\u001b[0;33mSuccessfully built c725b2b789b1\u001b[0m\r\n",
      "\u001b[0;33mSuccessfully tagged ophub_proxy:latestBuilding jupyterhub\u001b[0m\r\n",
      "\u001b[0;33mBuilding proxy\u001b[0m\r\n"
     ]
    }
   ],
   "source": [
    "!ansible -b -a 'chdir={ophub_dir} docker-compose build' {target_group}"
   ]
  },
  {
   "cell_type": "markdown",
   "metadata": {
    "lc_cell_meme": {
     "current": "04da514c-bc0d-11ea-9c24-0242ac110002-1-29f0",
     "history": [
      {
       "current": "04da514c-bc0d-11ea-9c24-0242ac110002-1-29f0",
       "next": "04da5232-bc0d-11ea-9c24-0242ac110002",
       "previous": "bd74f596-bc0c-11ea-9c24-0242ac110002"
      }
     ],
     "next": "04da5232-bc0d-11ea-9c24-0242ac110002-1-762c",
     "previous": "bd74f596-bc0c-11ea-9c24-0242ac110002-1-05be"
    }
   },
   "source": [
    "サービスを起動する。"
   ]
  },
  {
   "cell_type": "code",
   "execution_count": 31,
   "metadata": {
    "deletable": false,
    "editable": false,
    "lc_cell_meme": {
     "current": "04da5232-bc0d-11ea-9c24-0242ac110002-1-762c",
     "execution_end_time": "2020-07-02T02:38:04.967308Z",
     "history": [
      {
       "current": "04da5232-bc0d-11ea-9c24-0242ac110002",
       "next": null,
       "previous": "04da514c-bc0d-11ea-9c24-0242ac110002"
      },
      {
       "current": "04da5232-bc0d-11ea-9c24-0242ac110002-1-762c",
       "next": "4cc0e822-bc0d-11ea-9c24-0242ac110002",
       "previous": "04da514c-bc0d-11ea-9c24-0242ac110002"
      }
     ],
     "next": "4cc0e822-bc0d-11ea-9c24-0242ac110002-1-b4e6",
     "previous": "04da514c-bc0d-11ea-9c24-0242ac110002-1-29f0"
    },
    "lc_wrapper": {
     "log_history": [
      "/home/jovyan/05_AWS_VMへのOpHub環境構築例/.log/20200702/20200702-023755-0701.log"
     ]
    },
    "run_through_control": {
     "frozen": true,
     "read_only": false
    }
   },
   "outputs": [
    {
     "name": "stdout",
     "output_type": "stream",
     "text": [
      "\u001b[0;33mec2-52-42-214-180.us-west-2.compute.amazonaws.com | CHANGED | rc=0 >>\u001b[0m\r\n",
      "\u001b[0;33mCreating network \"jupyterhub_backend\" with driver \"bridge\"\u001b[0m\r\n",
      "\u001b[0m\r\n",
      "\u001b[0m\r\n",
      "\u001b[1B\u001b[0m\r\n"
     ]
    }
   ],
   "source": [
    "!ansible -b -a 'chdir={ophub_dir} docker-compose up -d' {target_group}"
   ]
  },
  {
   "cell_type": "markdown",
   "metadata": {
    "lc_cell_meme": {
     "current": "4cc0e822-bc0d-11ea-9c24-0242ac110002-1-b4e6",
     "history": [
      {
       "current": "4cc0e822-bc0d-11ea-9c24-0242ac110002-1-b4e6",
       "next": "4cc0ead4-bc0d-11ea-9c24-0242ac110002",
       "previous": "04da5232-bc0d-11ea-9c24-0242ac110002"
      }
     ],
     "next": "4cc0ead4-bc0d-11ea-9c24-0242ac110002-1-7a8c",
     "previous": "04da5232-bc0d-11ea-9c24-0242ac110002-1-762c"
    }
   },
   "source": [
    "# 動作確認"
   ]
  },
  {
   "cell_type": "markdown",
   "metadata": {
    "lc_cell_meme": {
     "current": "4cc0ead4-bc0d-11ea-9c24-0242ac110002-1-7a8c",
     "history": [
      {
       "current": "4cc0ead4-bc0d-11ea-9c24-0242ac110002-1-7a8c",
       "next": "4cc0ecaa-bc0d-11ea-9c24-0242ac110002",
       "previous": "4cc0e822-bc0d-11ea-9c24-0242ac110002"
      }
     ],
     "next": "4cc0ecaa-bc0d-11ea-9c24-0242ac110002-1-d70e",
     "previous": "4cc0e822-bc0d-11ea-9c24-0242ac110002-1-b4e6"
    }
   },
   "source": [
    "自身のPCからVMのHTTPS (TCP 443)を許可するように設定し、以下のURLにブラウザからアクセスする。\n",
    "\n",
    "サーバ証明書に関する警告が出るので、例外設定して確認すること。ユーザ名とパスワードを求められたら、管理者ユーザ設定で実施したユーザ名及びパスワードを与える。\n",
    "\n",
    "> 下記のURLのアクセスがタイムアウトになる場合は、Security GroupでHTTPSが許可されていない可能性が高い..."
   ]
  },
  {
   "cell_type": "code",
   "execution_count": 32,
   "metadata": {
    "deletable": false,
    "editable": false,
    "lc_cell_meme": {
     "current": "4cc0ecaa-bc0d-11ea-9c24-0242ac110002-1-d70e",
     "execution_end_time": "2020-07-02T02:40:03.694059Z",
     "history": [
      {
       "current": "4cc0ecaa-bc0d-11ea-9c24-0242ac110002",
       "next": null,
       "previous": "4cc0ead4-bc0d-11ea-9c24-0242ac110002"
      },
      {
       "current": "4cc0ecaa-bc0d-11ea-9c24-0242ac110002",
       "next": "948451da-bc0d-11ea-9c24-0242ac110002",
       "previous": "4cc0ead4-bc0d-11ea-9c24-0242ac110002"
      },
      {
       "current": "4cc0ecaa-bc0d-11ea-9c24-0242ac110002-1-d70e",
       "next": "948451da-bc0d-11ea-9c24-0242ac110002-1-0731",
       "previous": "4cc0ead4-bc0d-11ea-9c24-0242ac110002"
      }
     ],
     "next": "948451da-bc0d-11ea-9c24-0242ac110002-2-0731-0fb3",
     "previous": "4cc0ead4-bc0d-11ea-9c24-0242ac110002-1-7a8c"
    },
    "lc_wrapper": {
     "log_history": [
      "/home/jovyan/05_AWS_VMへのOpHub環境構築例/.log/20200702/20200702-024003-0683.log"
     ]
    },
    "run_through_control": {
     "frozen": true,
     "read_only": false
    }
   },
   "outputs": [
    {
     "name": "stdout",
     "output_type": "stream",
     "text": [
      "https://ec2-52-42-214-180.us-west-2.compute.amazonaws.com\n"
     ]
    }
   ],
   "source": [
    "print('https://' + server_name)"
   ]
  },
  {
   "cell_type": "markdown",
   "metadata": {
    "lc_cell_meme": {
     "current": "948451da-bc0d-11ea-9c24-0242ac110002-2-0731-0fb3",
     "history": [
      {
       "current": "948451da-bc0d-11ea-9c24-0242ac110002-2-0731-0fb3",
       "next": "db6fd362-bc0d-11ea-9c24-0242ac110002",
       "previous": "4cc0ecaa-bc0d-11ea-9c24-0242ac110002"
      }
     ],
     "next": "db6fd362-bc0d-11ea-9c24-0242ac110002-1-5fb6",
     "previous": "4cc0ecaa-bc0d-11ea-9c24-0242ac110002-1-d70e"
    }
   },
   "source": [
    "サービスの状態・ログは以下から確認することができます。"
   ]
  },
  {
   "cell_type": "code",
   "execution_count": 33,
   "metadata": {
    "deletable": false,
    "editable": false,
    "lc_cell_meme": {
     "current": "db6fd362-bc0d-11ea-9c24-0242ac110002-1-5fb6",
     "execution_end_time": "2020-07-02T02:42:51.698402Z",
     "history": [
      {
       "current": "db6fd362-bc0d-11ea-9c24-0242ac110002-1-5fb6",
       "next": "db6fd524-bc0d-11ea-9c24-0242ac110002",
       "previous": "948451da-bc0d-11ea-9c24-0242ac110002-1-0731"
      }
     ],
     "next": "db6fd524-bc0d-11ea-9c24-0242ac110002-1-5d23",
     "previous": "948451da-bc0d-11ea-9c24-0242ac110002-2-0731-0fb3"
    },
    "lc_wrapper": {
     "log_history": [
      "/home/jovyan/05_AWS_VMへのOpHub環境構築例/.log/20200702/20200702-024239-0384.log"
     ]
    },
    "run_through_control": {
     "frozen": true,
     "read_only": false
    }
   },
   "outputs": [
    {
     "name": "stdout",
     "output_type": "stream",
     "text": [
      "\u001b[0;33mec2-52-42-214-180.us-west-2.compute.amazonaws.com | CHANGED | rc=0 >>\u001b[0m\r\n",
      "\u001b[0;33m       Name                     Command               State               Ports            \u001b[0m\r\n",
      "\u001b[0;33m-------------------------------------------------------------------------------------------\u001b[0m\r\n",
      "\u001b[0;33mophub_jupyterhub_1   jupyterhub                       Up      8000/tcp                     \u001b[0m\r\n",
      "\u001b[0;33mophub_proxy_1        /bin/bash -c envsubst '$SE ...   Up      80/tcp, 0.0.0.0:443->8443/tcp\u001b[0m\r\n"
     ]
    }
   ],
   "source": [
    "!ansible -b -a 'chdir={ophub_dir} docker-compose ps' {target_group}"
   ]
  },
  {
   "cell_type": "code",
   "execution_count": 36,
   "metadata": {
    "deletable": false,
    "editable": false,
    "lc_cell_meme": {
     "current": "db6fd524-bc0d-11ea-9c24-0242ac110002-1-5d23",
     "execution_end_time": "2020-07-02T02:46:11.395705Z",
     "history": [
      {
       "current": "db6fd524-bc0d-11ea-9c24-0242ac110002",
       "next": "db6fd61e-bc0d-11ea-9c24-0242ac110002",
       "previous": "db6fd362-bc0d-11ea-9c24-0242ac110002"
      },
      {
       "current": "db6fd524-bc0d-11ea-9c24-0242ac110002-1-5d23",
       "next": "22f53ee8-bc0e-11ea-9c24-0242ac110002",
       "previous": "db6fd362-bc0d-11ea-9c24-0242ac110002"
      }
     ],
     "next": "22f53ee8-bc0e-11ea-9c24-0242ac110002-1-635b",
     "previous": "db6fd362-bc0d-11ea-9c24-0242ac110002-1-5fb6"
    },
    "lc_wrapper": {
     "log_history": [
      "/home/jovyan/05_AWS_VMへのOpHub環境構築例/.log/20200702/20200702-024306-0000.log",
      "/home/jovyan/05_AWS_VMへのOpHub環境構築例/.log/20200702/20200702-024604-0681.log"
     ]
    },
    "run_through_control": {
     "frozen": true,
     "read_only": false
    },
    "scrolled": true
   },
   "outputs": [
    {
     "name": "stdout",
     "output_type": "stream",
     "text": [
      "\u001b[0;33mec2-52-42-214-180.us-west-2.compute.amazonaws.com | CHANGED | rc=0 >>\u001b[0m\r\n",
      "\u001b[0;33mAttaching to ophub_jupyterhub_1\u001b[0m\r\n",
      "\u001b[0;33m\u001b[36mjupyterhub_1  |\u001b[0m [I 2020-07-02 02:38:04.758 JupyterHub tracking_server:44] Writing server signature to /srv/jupyterhub/data/server_signature\u001b[0m\r\n",
      "\u001b[0;33m\u001b[36mjupyterhub_1  |\u001b[0m [I 2020-07-02 02:38:04.790 JupyterHub app:2120] Using Authenticator: ophubauthenticator.OphubPAMAuthenticator\u001b[0m\r\n",
      "\u001b[0;33m\u001b[36mjupyterhub_1  |\u001b[0m [I 2020-07-02 02:38:04.790 JupyterHub app:2120] Using Spawner: dockerspawner.dockerspawner.DockerSpawner-0.12.0.dev\u001b[0m\r\n",
      "\u001b[0;33m\u001b[36mjupyterhub_1  |\u001b[0m [I 2020-07-02 02:38:04.818 JupyterHub app:1302] Writing cookie_secret to /srv/jupyterhub/jupyterhub_cookie_secret\u001b[0m\r\n",
      "\u001b[0;33m\u001b[36mjupyterhub_1  |\u001b[0m [I 2020-07-02 02:38:04.861 alembic.runtime.migration migration:130] Context impl SQLiteImpl.\u001b[0m\r\n",
      "\u001b[0;33m\u001b[36mjupyterhub_1  |\u001b[0m [I 2020-07-02 02:38:04.862 alembic.runtime.migration migration:137] Will assume non-transactional DDL.\u001b[0m\r\n",
      "\u001b[0;33m\u001b[36mjupyterhub_1  |\u001b[0m [I 2020-07-02 02:38:04.871 alembic.runtime.migration migration:356] Running stamp_revision  -> 4dc2d5a8c53c\u001b[0m\r\n",
      "\u001b[0;33m\u001b[36mjupyterhub_1  |\u001b[0m [I 2020-07-02 02:38:04.929 JupyterHub proxy:460] Generating new CONFIGPROXY_AUTH_TOKEN\u001b[0m\r\n",
      "\u001b[0;33m\u001b[36mjupyterhub_1  |\u001b[0m [W 2020-07-02 02:38:04.931 JupyterHub app:1532] No admin users, admin interface will be unavailable.\u001b[0m\r\n",
      "\u001b[0;33m\u001b[36mjupyterhub_1  |\u001b[0m [W 2020-07-02 02:38:04.931 JupyterHub app:1534] Add any administrative users to `c.Authenticator.admin_users` in config.\u001b[0m\r\n",
      "\u001b[0;33m\u001b[36mjupyterhub_1  |\u001b[0m [I 2020-07-02 02:38:04.931 JupyterHub app:1563] Not using whitelist. Any authenticated user will be allowed.\u001b[0m\r\n",
      "\u001b[0;33m\u001b[36mjupyterhub_1  |\u001b[0m [I 2020-07-02 02:38:04.999 JupyterHub app:2337] Hub API listening on http://0.0.0.0:8081/hub/\u001b[0m\r\n",
      "\u001b[0;33m\u001b[36mjupyterhub_1  |\u001b[0m [I 2020-07-02 02:38:04.999 JupyterHub app:2339] Private Hub API connect url http://jupyterhub:8081/hub/\u001b[0m\r\n",
      "\u001b[0;33m\u001b[36mjupyterhub_1  |\u001b[0m [W 2020-07-02 02:38:05.000 JupyterHub proxy:642] Running JupyterHub without SSL.  I hope there is SSL termination happening somewhere else...\u001b[0m\r\n",
      "\u001b[0;33m\u001b[36mjupyterhub_1  |\u001b[0m [I 2020-07-02 02:38:05.000 JupyterHub proxy:645] Starting proxy @ http://0.0.0.0:8000/\u001b[0m\r\n",
      "\u001b[0;33m\u001b[36mjupyterhub_1  |\u001b[0m 02:38:06.100 - info: [ConfigProxy] Proxying http://0.0.0.0:8000 to (no default)\u001b[0m\r\n",
      "\u001b[0;33m\u001b[36mjupyterhub_1  |\u001b[0m 02:38:06.107 - info: [ConfigProxy] Proxy API at http://127.0.0.1:8001/api/routes\u001b[0m\r\n",
      "\u001b[0;33m\u001b[36mjupyterhub_1  |\u001b[0m [I 2020-07-02 02:38:06.250 JupyterHub app:2362] Starting managed service cull-idle\u001b[0m\r\n",
      "\u001b[0;33m\u001b[36mjupyterhub_1  |\u001b[0m [I 2020-07-02 02:38:06.251 JupyterHub service:316] Starting service 'cull-idle': ['/opt/conda/bin/python', '/usr/local/bin/cull_idle_servers.py', '--timeout=300', '--max-age=86400', '--cull-every=60']\u001b[0m\r\n",
      "\u001b[0;33m\u001b[36mjupyterhub_1  |\u001b[0m [I 2020-07-02 02:38:06.257 JupyterHub service:121] Spawning /opt/conda/bin/python /usr/local/bin/cull_idle_servers.py --timeout=300 --max-age=86400 --cull-every=60\u001b[0m\r\n",
      "\u001b[0;33m\u001b[36mjupyterhub_1  |\u001b[0m [I 2020-07-02 02:38:06.275 JupyterHub proxy:319] Checking routes\u001b[0m\r\n",
      "\u001b[0;33m\u001b[36mjupyterhub_1  |\u001b[0m [I 2020-07-02 02:38:06.275 JupyterHub proxy:399] Adding default route for Hub: / => http://jupyterhub:8081\u001b[0m\r\n",
      "\u001b[0;33m\u001b[36mjupyterhub_1  |\u001b[0m [I 2020-07-02 02:38:06.283 JupyterHub app:2422] JupyterHub is now running at http://0.0.0.0:8000/\u001b[0m\r\n",
      "\u001b[0;33m\u001b[36mjupyterhub_1  |\u001b[0m [I 2020-07-02 02:38:06.477 JupyterHub log:174] 200 GET /hub/api/users (cull-idle@172.18.0.2) 12.73ms\u001b[0m\r\n",
      "\u001b[0;33m\u001b[36mjupyterhub_1  |\u001b[0m [I 2020-07-02 02:39:06.473 JupyterHub log:174] 200 GET /hub/api/users (cull-idle@172.18.0.2) 10.23ms\u001b[0m\r\n",
      "\u001b[0;33m\u001b[36mjupyterhub_1  |\u001b[0m [I 2020-07-02 02:40:06.474 JupyterHub log:174] 200 GET /hub/api/users (cull-idle@172.18.0.2) 10.57ms\u001b[0m\r\n",
      "\u001b[0;33m\u001b[36mjupyterhub_1  |\u001b[0m [I 2020-07-02 02:41:06.474 JupyterHub log:174] 200 GET /hub/api/users (cull-idle@172.18.0.2) 9.94ms\u001b[0m\r\n",
      "\u001b[0;33m\u001b[36mjupyterhub_1  |\u001b[0m [I 2020-07-02 02:41:16.707 JupyterHub log:174] 302 GET / -> /hub/ (@122.214.152.139) 1.10ms\u001b[0m\r\n",
      "\u001b[0;33m\u001b[36mjupyterhub_1  |\u001b[0m [I 2020-07-02 02:41:16.843 JupyterHub log:174] 302 GET /hub/ -> /hub/login (@122.214.152.139) 0.77ms\u001b[0m\r\n",
      "\u001b[0;33m\u001b[36mjupyterhub_1  |\u001b[0m [I 2020-07-02 02:41:17.034 JupyterHub log:174] 200 GET /hub/login (@122.214.152.139) 56.26ms\u001b[0m\r\n",
      "\u001b[0;33m\u001b[36mjupyterhub_1  |\u001b[0m [I 2020-07-02 02:41:26.640 JupyterHub __init__:14] Mount user notebook dir: {\"username\": \"yazawa\", \"notebookdir\": \"/home/yazawa/notebooks\", \"mountpoint\": \"/home/user-notebooks/yazawa\"}\u001b[0m\r\n",
      "\u001b[0;33m\u001b[36mjupyterhub_1  |\u001b[0m [I 2020-07-02 02:41:26.652 JupyterHub base:663] User logged in: yazawa\u001b[0m\r\n",
      "\u001b[0;33m\u001b[36mjupyterhub_1  |\u001b[0m [I 2020-07-02 02:41:26.668 JupyterHub log:174] 302 POST /hub/login?next= -> /hub/spawn (yazawa@122.214.152.139) 163.88ms\u001b[0m\r\n",
      "\u001b[0;33m\u001b[36mjupyterhub_1  |\u001b[0m [W 2020-07-02 02:41:26.877 JupyterHub auth:941] Failed to open PAM session for yazawa: [PAM Error 14] Cannot make/remove an entry for the specified session\u001b[0m\r\n",
      "\u001b[0;33m\u001b[36mjupyterhub_1  |\u001b[0m [W 2020-07-02 02:41:26.878 JupyterHub auth:942] Disabling PAM sessions from now on.\u001b[0m\r\n",
      "\u001b[0;33m\u001b[36mjupyterhub_1  |\u001b[0m [I 2020-07-02 02:41:26.899 JupyterHub __init__:14] Mount user notebook dir: {\"username\": \"yazawa\", \"notebookdir\": \"/home/yazawa/notebooks\", \"mountpoint\": \"/home/user-notebooks/yazawa\"}\u001b[0m\r\n",
      "\u001b[0;33m\u001b[36mjupyterhub_1  |\u001b[0m [I 2020-07-02 02:41:26.918 JupyterHub dockerspawner:979] pulling image niicloudoperation/notebook\u001b[0m\r\n",
      "\u001b[0;33m\u001b[36mjupyterhub_1  |\u001b[0m [I 2020-07-02 02:41:27.821 JupyterHub log:174] 302 GET /hub/spawn -> /hub/spawn-pending/yazawa (yazawa@122.214.152.139) 1010.29ms\u001b[0m\r\n",
      "\u001b[0;33m\u001b[36mjupyterhub_1  |\u001b[0m [I 2020-07-02 02:41:28.015 JupyterHub pages:303] yazawa is pending spawn\u001b[0m\r\n",
      "\u001b[0;33m\u001b[36mjupyterhub_1  |\u001b[0m [I 2020-07-02 02:41:28.021 JupyterHub log:174] 200 GET /hub/spawn-pending/yazawa (yazawa@122.214.152.139) 23.60ms\u001b[0m\r\n",
      "\u001b[0;33m\u001b[36mjupyterhub_1  |\u001b[0m [W 2020-07-02 02:41:36.821 JupyterHub base:900] User yazawa is slow to start (timeout=10)\u001b[0m\r\n",
      "\u001b[0;33m\u001b[36mjupyterhub_1  |\u001b[0m [I 2020-07-02 02:42:06.525 JupyterHub log:174] 200 GET /hub/api/users (cull-idle@172.18.0.2) 39.03ms\u001b[0m\r\n",
      "\u001b[0;33m\u001b[36mjupyterhub_1  |\u001b[0m [W 200702 02:42:06 cull_idle_servers:134] Not culling server yazawa with pending spawn\u001b[0m\r\n",
      "\u001b[0;33m\u001b[36mjupyterhub_1  |\u001b[0m [W 2020-07-02 02:42:26.902 JupyterHub user:618] yazawa's server failed to start in 60 seconds, giving up\u001b[0m\r\n",
      "\u001b[0;33m\u001b[36mjupyterhub_1  |\u001b[0m [I 2020-07-02 02:43:06.446 JupyterHub proxy:319] Checking routes\u001b[0m\r\n",
      "\u001b[0;33m\u001b[36mjupyterhub_1  |\u001b[0m [I 2020-07-02 02:43:06.506 JupyterHub log:174] 200 GET /hub/api/users (cull-idle@172.18.0.2) 27.43ms\u001b[0m\r\n",
      "\u001b[0;33m\u001b[36mjupyterhub_1  |\u001b[0m [W 200702 02:43:06 cull_idle_servers:134] Not culling server yazawa with pending stop\u001b[0m\r\n",
      "\u001b[0;33m\u001b[36mjupyterhub_1  |\u001b[0m [I 2020-07-02 02:44:06.478 JupyterHub log:174] 200 GET /hub/api/users (cull-idle@172.18.0.2) 15.01ms\u001b[0m\r\n",
      "\u001b[0;33m\u001b[36mjupyterhub_1  |\u001b[0m [W 200702 02:44:06 cull_idle_servers:134] Not culling server yazawa with pending stop\u001b[0m\r\n",
      "\u001b[0;33m\u001b[36mjupyterhub_1  |\u001b[0m [I 2020-07-02 02:44:10.187 JupyterHub dockerspawner:829] Container 'jupyter-yazawa' is gone\u001b[0m\r\n",
      "\u001b[0;33m\u001b[36mjupyterhub_1  |\u001b[0m [W 2020-07-02 02:44:10.189 JupyterHub dockerspawner:802] Container not found: jupyter-yazawa\u001b[0m\r\n",
      "\u001b[0;33m\u001b[36mjupyterhub_1  |\u001b[0m [I 2020-07-02 02:44:10.225 JupyterHub dockerspawner:829] Container 'jupyter-yazawa' is gone\u001b[0m\r\n",
      "\u001b[0;33m\u001b[36mjupyterhub_1  |\u001b[0m [E 2020-07-02 02:44:10.236 JupyterHub gen:593] Exception in Future <Task finished coro=<BaseHandler.spawn_single_user.<locals>.finish_user_spawn() done, defined at /opt/conda/lib/python3.6/site-packages/jupyterhub/handlers/base.py:800> exception=TimeoutError('Timeout',)> after timeout\u001b[0m\r\n",
      "\u001b[0;33m\u001b[36mjupyterhub_1  |\u001b[0m     Traceback (most recent call last):\u001b[0m\r\n",
      "\u001b[0;33m\u001b[36mjupyterhub_1  |\u001b[0m       File \"/opt/conda/lib/python3.6/site-packages/tornado/gen.py\", line 589, in error_callback\u001b[0m\r\n",
      "\u001b[0;33m\u001b[36mjupyterhub_1  |\u001b[0m         future.result()\u001b[0m\r\n",
      "\u001b[0;33m\u001b[36mjupyterhub_1  |\u001b[0m       File \"/opt/conda/lib/python3.6/site-packages/jupyterhub/handlers/base.py\", line 807, in finish_user_spawn\u001b[0m\r\n",
      "\u001b[0;33m\u001b[36mjupyterhub_1  |\u001b[0m         await spawn_future\u001b[0m\r\n",
      "\u001b[0;33m\u001b[36mjupyterhub_1  |\u001b[0m       File \"/opt/conda/lib/python3.6/site-packages/jupyterhub/user.py\", line 642, in spawn\u001b[0m\r\n",
      "\u001b[0;33m\u001b[36mjupyterhub_1  |\u001b[0m         raise e\u001b[0m\r\n",
      "\u001b[0;33m\u001b[36mjupyterhub_1  |\u001b[0m       File \"/opt/conda/lib/python3.6/site-packages/jupyterhub/user.py\", line 546, in spawn\u001b[0m\r\n",
      "\u001b[0;33m\u001b[36mjupyterhub_1  |\u001b[0m         url = await gen.with_timeout(timedelta(seconds=spawner.start_timeout), f)\u001b[0m\r\n",
      "\u001b[0;33m\u001b[36mjupyterhub_1  |\u001b[0m     tornado.util.TimeoutError: Timeout\u001b[0m\r\n",
      "\u001b[0;33m\u001b[36mjupyterhub_1  |\u001b[0m     \u001b[0m\r\n",
      "\u001b[0;33m\u001b[36mjupyterhub_1  |\u001b[0m [I 2020-07-02 02:44:10.251 JupyterHub log:174] 200 GET /hub/api/users/yazawa/server/progress (yazawa@122.214.152.139) 161934.33ms\u001b[0m\r\n",
      "\u001b[0;33m\u001b[36mjupyterhub_1  |\u001b[0m [I 2020-07-02 02:44:10.437 JupyterHub dockerspawner:1039] Created container jupyter-yazawa (id: 9cf6556) from image niicloudoperation/notebook\u001b[0m\r\n",
      "\u001b[0;33m\u001b[36mjupyterhub_1  |\u001b[0m [I 2020-07-02 02:44:10.437 JupyterHub dockerspawner:1062] Starting container jupyter-yazawa (id: 9cf6556)\u001b[0m\r\n",
      "\u001b[0;33m\u001b[36mjupyterhub_1  |\u001b[0m [I 2020-07-02 02:45:06.479 JupyterHub log:174] 200 GET /hub/api/users (cull-idle@172.18.0.2) 15.39ms\u001b[0m\r\n",
      "\u001b[0;33m\u001b[36mjupyterhub_1  |\u001b[0m [E 2020-07-02 02:45:17.868 JupyterHub pages:284] Previous spawn for yazawa failed: Timeout\u001b[0m\r\n",
      "\u001b[0;33m\u001b[36mjupyterhub_1  |\u001b[0m [E 2020-07-02 02:45:17.882 JupyterHub log:166] {\u001b[0m\r\n",
      "\u001b[0;33m\u001b[36mjupyterhub_1  |\u001b[0m       \"Cache-Control\": \"max-age=0\",\u001b[0m\r\n",
      "\u001b[0;33m\u001b[36mjupyterhub_1  |\u001b[0m       \"If-None-Match\": \"\\\"001fc64ac54af48b39773904362850ba18d9b3aa\\\"\",\u001b[0m\r\n",
      "\u001b[0;33m\u001b[36mjupyterhub_1  |\u001b[0m       \"Upgrade-Insecure-Requests\": \"1\",\u001b[0m\r\n",
      "\u001b[0;33m\u001b[36mjupyterhub_1  |\u001b[0m       \"Cookie\": \"jupyterhub-hub-login=[secret]; jupyterhub-session-id=[secret]\",\u001b[0m\r\n",
      "\u001b[0;33m\u001b[36mjupyterhub_1  |\u001b[0m       \"Accept-Encoding\": \"gzip, deflate, br\",\u001b[0m\r\n",
      "\u001b[0;33m\u001b[36mjupyterhub_1  |\u001b[0m       \"Accept-Language\": \"ja,en-US;q=0.7,en;q=0.3\",\u001b[0m\r\n",
      "\u001b[0;33m\u001b[36mjupyterhub_1  |\u001b[0m       \"Accept\": \"text/html,application/xhtml+xml,application/xml;q=0.9,image/webp,*/*;q=0.8\",\u001b[0m\r\n",
      "\u001b[0;33m\u001b[36mjupyterhub_1  |\u001b[0m       \"User-Agent\": \"Mozilla/5.0 (Macintosh; Intel Mac OS X 10.15; rv:77.0) Gecko/20100101 Firefox/77.0\",\u001b[0m\r\n",
      "\u001b[0;33m\u001b[36mjupyterhub_1  |\u001b[0m       \"Referer\": \"https://ec2-52-42-214-180.us-west-2.compute.amazonaws.com/hub/login\",\u001b[0m\r\n",
      "\u001b[0;33m\u001b[36mjupyterhub_1  |\u001b[0m       \"X-Forwarded-For\": \"122.214.152.139\",\u001b[0m\r\n",
      "\u001b[0;33m\u001b[36mjupyterhub_1  |\u001b[0m       \"X-Forwarded-Server\": \"ec2-52-42-214-180.us-west-2.compute.amazonaws.com\",\u001b[0m\r\n",
      "\u001b[0;33m\u001b[36mjupyterhub_1  |\u001b[0m       \"X-Forwarded-Host\": \"ec2-52-42-214-180.us-west-2.compute.amazonaws.com\",\u001b[0m\r\n",
      "\u001b[0;33m\u001b[36mjupyterhub_1  |\u001b[0m       \"X-Forwarded-Proto\": \"https\",\u001b[0m\r\n",
      "\u001b[0;33m\u001b[36mjupyterhub_1  |\u001b[0m       \"X-Scheme\": \"https\",\u001b[0m\r\n",
      "\u001b[0;33m\u001b[36mjupyterhub_1  |\u001b[0m       \"X-Real-Ip\": \"122.214.152.139\",\u001b[0m\r\n",
      "\u001b[0;33m\u001b[36mjupyterhub_1  |\u001b[0m       \"Host\": \"ec2-52-42-214-180.us-west-2.compute.amazonaws.com\",\u001b[0m\r\n",
      "\u001b[0;33m\u001b[36mjupyterhub_1  |\u001b[0m       \"Connection\": \"upgrade\"\u001b[0m\r\n",
      "\u001b[0;33m\u001b[36mjupyterhub_1  |\u001b[0m     }\u001b[0m\r\n",
      "\u001b[0;33m\u001b[36mjupyterhub_1  |\u001b[0m [E 2020-07-02 02:45:17.882 JupyterHub log:174] 500 GET /hub/spawn-pending/yazawa (yazawa@122.214.152.139) 28.88ms\u001b[0m\r\n",
      "\u001b[0;33m\u001b[36mjupyterhub_1  |\u001b[0m [I 2020-07-02 02:45:20.337 JupyterHub __init__:14] Mount user notebook dir: {\"username\": \"yazawa\", \"notebookdir\": \"/home/yazawa/notebooks\", \"mountpoint\": \"/home/user-notebooks/yazawa\"}\u001b[0m\r\n",
      "\u001b[0;33m\u001b[36mjupyterhub_1  |\u001b[0m [W 2020-07-02 02:45:20.349 JupyterHub dockerspawner:1025] Removing container that should have been cleaned up: jupyter-yazawa (id: 9cf6556)\u001b[0m\r\n",
      "\u001b[0;33m\u001b[36mjupyterhub_1  |\u001b[0m [I 2020-07-02 02:45:20.350 JupyterHub dockerspawner:860] Removing container 9cf6556692426e77ef28b136e4663e7b7fff8c41a3e7c87d493240dce4f515b7\u001b[0m\r\n",
      "\u001b[0;33m\u001b[36mjupyterhub_1  |\u001b[0m [E 2020-07-02 02:45:20.367 JupyterHub user:626] Unhandled error starting yazawa's server: 409 Client Error: Conflict (\"Conflict. The container name \"/jupyter-yazawa\" is already in use by container \"9cf6556692426e77ef28b136e4663e7b7fff8c41a3e7c87d493240dce4f515b7\". You have to remove (or rename) that container to be able to reuse that name.\")\u001b[0m\r\n",
      "\u001b[0;33m\u001b[36mjupyterhub_1  |\u001b[0m [I 2020-07-02 02:45:20.372 JupyterHub dockerspawner:1159] Stopping container jupyter-yazawa (id: 9cf6556)\u001b[0m\r\n",
      "\u001b[0;33m\u001b[36mjupyterhub_1  |\u001b[0m [I 2020-07-02 02:45:20.372 JupyterHub dockerspawner:860] Removing container 9cf6556692426e77ef28b136e4663e7b7fff8c41a3e7c87d493240dce4f515b7\u001b[0m\r\n",
      "\u001b[0;33m\u001b[36mjupyterhub_1  |\u001b[0m [I 2020-07-02 02:45:21.222 JupyterHub log:174] 302 GET /hub/spawn/yazawa -> /hub/spawn-pending/yazawa (yazawa@122.214.152.139) 1009.77ms\u001b[0m\r\n",
      "\u001b[0;33m\u001b[36mjupyterhub_1  |\u001b[0m [I 2020-07-02 02:45:21.364 JupyterHub pages:303] yazawa is pending stop\u001b[0m\r\n",
      "\u001b[0;33m\u001b[36mjupyterhub_1  |\u001b[0m [I 2020-07-02 02:45:21.369 JupyterHub log:174] 200 GET /hub/spawn-pending/yazawa (yazawa@122.214.152.139) 13.68ms\u001b[0m\r\n",
      "\u001b[0;33m\u001b[36mjupyterhub_1  |\u001b[0m ERROR:asyncio:Task exception was never retrieved\u001b[0m\r\n",
      "\u001b[0;33m\u001b[36mjupyterhub_1  |\u001b[0m future: <Task finished coro=<BaseHandler.spawn_single_user() done, defined at /opt/conda/lib/python3.6/site-packages/jupyterhub/handlers/base.py:697> exception=APIError(HTTPError('409 Client Error: Conflict for url: http+docker://localhost/v1.40/containers/create?name=jupyter-yazawa',),)>\u001b[0m\r\n",
      "\u001b[0;33m\u001b[36mjupyterhub_1  |\u001b[0m Traceback (most recent call last):\u001b[0m\r\n",
      "\u001b[0;33m\u001b[36mjupyterhub_1  |\u001b[0m   File \"/opt/conda/lib/python3.6/site-packages/docker/api/client.py\", line 261, in _raise_for_status\u001b[0m\r\n",
      "\u001b[0;33m\u001b[36mjupyterhub_1  |\u001b[0m     response.raise_for_status()\u001b[0m\r\n",
      "\u001b[0;33m\u001b[36mjupyterhub_1  |\u001b[0m   File \"/opt/conda/lib/python3.6/site-packages/requests/models.py\", line 940, in raise_for_status\u001b[0m\r\n",
      "\u001b[0;33m\u001b[36mjupyterhub_1  |\u001b[0m     raise HTTPError(http_error_msg, response=self)\u001b[0m\r\n",
      "\u001b[0;33m\u001b[36mjupyterhub_1  |\u001b[0m requests.exceptions.HTTPError: 409 Client Error: Conflict for url: http+docker://localhost/v1.40/containers/create?name=jupyter-yazawa\u001b[0m\r\n",
      "\u001b[0;33m\u001b[36mjupyterhub_1  |\u001b[0m \u001b[0m\r\n",
      "\u001b[0;33m\u001b[36mjupyterhub_1  |\u001b[0m During handling of the above exception, another exception occurred:\u001b[0m\r\n",
      "\u001b[0;33m\u001b[36mjupyterhub_1  |\u001b[0m \u001b[0m\r\n",
      "\u001b[0;33m\u001b[36mjupyterhub_1  |\u001b[0m Traceback (most recent call last):\u001b[0m\r\n",
      "\u001b[0;33m\u001b[36mjupyterhub_1  |\u001b[0m   File \"/opt/conda/lib/python3.6/site-packages/jupyterhub/handlers/base.py\", line 889, in spawn_single_user\u001b[0m\r\n",
      "\u001b[0;33m\u001b[36mjupyterhub_1  |\u001b[0m     timedelta(seconds=self.slow_spawn_timeout), finish_spawn_future\u001b[0m\r\n",
      "\u001b[0;33m\u001b[36mjupyterhub_1  |\u001b[0m   File \"/opt/conda/lib/python3.6/site-packages/jupyterhub/handlers/base.py\", line 807, in finish_user_spawn\u001b[0m\r\n",
      "\u001b[0;33m\u001b[36mjupyterhub_1  |\u001b[0m     await spawn_future\u001b[0m\r\n",
      "\u001b[0;33m\u001b[36mjupyterhub_1  |\u001b[0m   File \"/opt/conda/lib/python3.6/site-packages/jupyterhub/user.py\", line 642, in spawn\u001b[0m\r\n",
      "\u001b[0;33m\u001b[36mjupyterhub_1  |\u001b[0m     raise e\u001b[0m\r\n",
      "\u001b[0;33m\u001b[36mjupyterhub_1  |\u001b[0m   File \"/opt/conda/lib/python3.6/site-packages/jupyterhub/user.py\", line 546, in spawn\u001b[0m\r\n",
      "\u001b[0;33m\u001b[36mjupyterhub_1  |\u001b[0m     url = await gen.with_timeout(timedelta(seconds=spawner.start_timeout), f)\u001b[0m\r\n",
      "\u001b[0;33m\u001b[36mjupyterhub_1  |\u001b[0m   File \"/opt/conda/lib/python3.6/site-packages/tornado/gen.py\", line 736, in run\u001b[0m\r\n",
      "\u001b[0;33m\u001b[36mjupyterhub_1  |\u001b[0m     yielded = self.gen.throw(*exc_info)  # type: ignore\u001b[0m\r\n",
      "\u001b[0;33m\u001b[36mjupyterhub_1  |\u001b[0m   File \"/opt/conda/lib/python3.6/site-packages/dockerspawner/dockerspawner.py\", line 1032, in start\u001b[0m\r\n",
      "\u001b[0;33m\u001b[36mjupyterhub_1  |\u001b[0m     obj = yield self.create_object()\u001b[0m\r\n",
      "\u001b[0;33m\u001b[36mjupyterhub_1  |\u001b[0m   File \"/opt/conda/lib/python3.6/site-packages/tornado/gen.py\", line 729, in run\u001b[0m\r\n",
      "\u001b[0;33m\u001b[36mjupyterhub_1  |\u001b[0m     value = future.result()\u001b[0m\r\n",
      "\u001b[0;33m\u001b[36mjupyterhub_1  |\u001b[0m   File \"/opt/conda/lib/python3.6/site-packages/tornado/gen.py\", line 736, in run\u001b[0m\r\n",
      "\u001b[0;33m\u001b[36mjupyterhub_1  |\u001b[0m     yielded = self.gen.throw(*exc_info)  # type: ignore\u001b[0m\r\n",
      "\u001b[0;33m\u001b[36mjupyterhub_1  |\u001b[0m   File \"/opt/conda/lib/python3.6/site-packages/dockerspawner/dockerspawner.py\", line 924, in create_object\u001b[0m\r\n",
      "\u001b[0;33m\u001b[36mjupyterhub_1  |\u001b[0m     obj = yield self.docker(\"create_container\", **create_kwargs)\u001b[0m\r\n",
      "\u001b[0;33m\u001b[36mjupyterhub_1  |\u001b[0m   File \"/opt/conda/lib/python3.6/site-packages/tornado/gen.py\", line 729, in run\u001b[0m\r\n",
      "\u001b[0;33m\u001b[36mjupyterhub_1  |\u001b[0m     value = future.result()\u001b[0m\r\n",
      "\u001b[0;33m\u001b[36mjupyterhub_1  |\u001b[0m   File \"/opt/conda/lib/python3.6/concurrent/futures/_base.py\", line 425, in result\u001b[0m\r\n",
      "\u001b[0;33m\u001b[36mjupyterhub_1  |\u001b[0m     return self.__get_result()\u001b[0m\r\n",
      "\u001b[0;33m\u001b[36mjupyterhub_1  |\u001b[0m   File \"/opt/conda/lib/python3.6/concurrent/futures/_base.py\", line 384, in __get_result\u001b[0m\r\n",
      "\u001b[0;33m\u001b[36mjupyterhub_1  |\u001b[0m     raise self._exception\u001b[0m\r\n",
      "\u001b[0;33m\u001b[36mjupyterhub_1  |\u001b[0m   File \"/opt/conda/lib/python3.6/concurrent/futures/thread.py\", line 56, in run\u001b[0m\r\n",
      "\u001b[0;33m\u001b[36mjupyterhub_1  |\u001b[0m     result = self.fn(*self.args, **self.kwargs)\u001b[0m\r\n",
      "\u001b[0;33m\u001b[36mjupyterhub_1  |\u001b[0m   File \"/opt/conda/lib/python3.6/site-packages/dockerspawner/dockerspawner.py\", line 788, in _docker\u001b[0m\r\n",
      "\u001b[0;33m\u001b[36mjupyterhub_1  |\u001b[0m     return m(*args, **kwargs)\u001b[0m\r\n",
      "\u001b[0;33m\u001b[36mjupyterhub_1  |\u001b[0m   File \"/opt/conda/lib/python3.6/site-packages/docker/api/container.py\", line 430, in create_container\u001b[0m\r\n",
      "\u001b[0;33m\u001b[36mjupyterhub_1  |\u001b[0m     return self.create_container_from_config(config, name)\u001b[0m\r\n",
      "\u001b[0;33m\u001b[36mjupyterhub_1  |\u001b[0m   File \"/opt/conda/lib/python3.6/site-packages/docker/api/container.py\", line 441, in create_container_from_config\u001b[0m\r\n",
      "\u001b[0;33m\u001b[36mjupyterhub_1  |\u001b[0m     return self._result(res, True)\u001b[0m\r\n",
      "\u001b[0;33m\u001b[36mjupyterhub_1  |\u001b[0m   File \"/opt/conda/lib/python3.6/site-packages/docker/api/client.py\", line 267, in _result\u001b[0m\r\n",
      "\u001b[0;33m\u001b[36mjupyterhub_1  |\u001b[0m     self._raise_for_status(response)\u001b[0m\r\n",
      "\u001b[0;33m\u001b[36mjupyterhub_1  |\u001b[0m   File \"/opt/conda/lib/python3.6/site-packages/docker/api/client.py\", line 263, in _raise_for_status\u001b[0m\r\n",
      "\u001b[0;33m\u001b[36mjupyterhub_1  |\u001b[0m     raise create_api_error_from_http_exception(e)\u001b[0m\r\n",
      "\u001b[0;33m\u001b[36mjupyterhub_1  |\u001b[0m   File \"/opt/conda/lib/python3.6/site-packages/docker/errors.py\", line 31, in create_api_error_from_http_exception\u001b[0m\r\n",
      "\u001b[0;33m\u001b[36mjupyterhub_1  |\u001b[0m     raise cls(e, response=response, explanation=explanation)\u001b[0m\r\n",
      "\u001b[0;33m\u001b[36mjupyterhub_1  |\u001b[0m docker.errors.APIError: 409 Client Error: Conflict (\"Conflict. The container name \"/jupyter-yazawa\" is already in use by container \"9cf6556692426e77ef28b136e4663e7b7fff8c41a3e7c87d493240dce4f515b7\". You have to remove (or rename) that container to be able to reuse that name.\")\u001b[0m\r\n",
      "\u001b[0;33m\u001b[36mjupyterhub_1  |\u001b[0m [E 2020-07-02 02:45:26.638 JupyterHub pages:284] Previous spawn for yazawa failed: 409 Client Error: Conflict (\"Conflict. The container name \"/jupyter-yazawa\" is already in use by container \"9cf6556692426e77ef28b136e4663e7b7fff8c41a3e7c87d493240dce4f515b7\". You have to remove (or rename) that container to be able to reuse that name.\")\u001b[0m\r\n",
      "\u001b[0;33m\u001b[36mjupyterhub_1  |\u001b[0m [E 2020-07-02 02:45:26.639 JupyterHub log:166] {\u001b[0m\r\n",
      "\u001b[0;33m\u001b[36mjupyterhub_1  |\u001b[0m       \"Cache-Control\": \"max-age=0\",\u001b[0m\r\n",
      "\u001b[0;33m\u001b[36mjupyterhub_1  |\u001b[0m       \"If-None-Match\": \"\\\"e55dab1a6c1572cb9c9baba34f81ec044bfc6cb8\\\"\",\u001b[0m\r\n",
      "\u001b[0;33m\u001b[36mjupyterhub_1  |\u001b[0m       \"Upgrade-Insecure-Requests\": \"1\",\u001b[0m\r\n",
      "\u001b[0;33m\u001b[36mjupyterhub_1  |\u001b[0m       \"Cookie\": \"jupyterhub-hub-login=[secret]; jupyterhub-session-id=[secret]\",\u001b[0m\r\n",
      "\u001b[0;33m\u001b[36mjupyterhub_1  |\u001b[0m       \"Accept-Encoding\": \"gzip, deflate, br\",\u001b[0m\r\n",
      "\u001b[0;33m\u001b[36mjupyterhub_1  |\u001b[0m       \"Accept-Language\": \"ja,en-US;q=0.7,en;q=0.3\",\u001b[0m\r\n",
      "\u001b[0;33m\u001b[36mjupyterhub_1  |\u001b[0m       \"Accept\": \"text/html,application/xhtml+xml,application/xml;q=0.9,image/webp,*/*;q=0.8\",\u001b[0m\r\n",
      "\u001b[0;33m\u001b[36mjupyterhub_1  |\u001b[0m       \"User-Agent\": \"Mozilla/5.0 (Macintosh; Intel Mac OS X 10.15; rv:77.0) Gecko/20100101 Firefox/77.0\",\u001b[0m\r\n",
      "\u001b[0;33m\u001b[36mjupyterhub_1  |\u001b[0m       \"Referer\": \"https://ec2-52-42-214-180.us-west-2.compute.amazonaws.com/hub/spawn-pending/yazawa\",\u001b[0m\r\n",
      "\u001b[0;33m\u001b[36mjupyterhub_1  |\u001b[0m       \"X-Forwarded-For\": \"122.214.152.139\",\u001b[0m\r\n",
      "\u001b[0;33m\u001b[36mjupyterhub_1  |\u001b[0m       \"X-Forwarded-Server\": \"ec2-52-42-214-180.us-west-2.compute.amazonaws.com\",\u001b[0m\r\n",
      "\u001b[0;33m\u001b[36mjupyterhub_1  |\u001b[0m       \"X-Forwarded-Host\": \"ec2-52-42-214-180.us-west-2.compute.amazonaws.com\",\u001b[0m\r\n",
      "\u001b[0;33m\u001b[36mjupyterhub_1  |\u001b[0m       \"X-Forwarded-Proto\": \"https\",\u001b[0m\r\n",
      "\u001b[0;33m\u001b[36mjupyterhub_1  |\u001b[0m       \"X-Scheme\": \"https\",\u001b[0m\r\n",
      "\u001b[0;33m\u001b[36mjupyterhub_1  |\u001b[0m       \"X-Real-Ip\": \"122.214.152.139\",\u001b[0m\r\n",
      "\u001b[0;33m\u001b[36mjupyterhub_1  |\u001b[0m       \"Host\": \"ec2-52-42-214-180.us-west-2.compute.amazonaws.com\",\u001b[0m\r\n",
      "\u001b[0;33m\u001b[36mjupyterhub_1  |\u001b[0m       \"Connection\": \"upgrade\"\u001b[0m\r\n",
      "\u001b[0;33m\u001b[36mjupyterhub_1  |\u001b[0m     }\u001b[0m\r\n",
      "\u001b[0;33m\u001b[36mjupyterhub_1  |\u001b[0m [E 2020-07-02 02:45:26.640 JupyterHub log:174] 500 GET /hub/spawn-pending/yazawa (yazawa@122.214.152.139) 18.50ms\u001b[0m\r\n",
      "\u001b[0;33m\u001b[36mjupyterhub_1  |\u001b[0m [I 2020-07-02 02:46:06.476 JupyterHub log:174] 200 GET /hub/api/users (cull-idle@172.18.0.2) 12.19ms\u001b[0m\r\n"
     ]
    }
   ],
   "source": [
    "!ansible -b -a 'chdir={ophub_dir} docker-compose logs jupyterhub' {target_group}"
   ]
  },
  {
   "cell_type": "code",
   "execution_count": null,
   "metadata": {
    "lc_cell_meme": {
     "current": "22f53ee8-bc0e-11ea-9c24-0242ac110002-1-635b",
     "history": [
      {
       "current": "22f53ee8-bc0e-11ea-9c24-0242ac110002-1-635b",
       "next": null,
       "previous": "db6fd524-bc0d-11ea-9c24-0242ac110002"
      }
     ],
     "next": null,
     "previous": "db6fd524-bc0d-11ea-9c24-0242ac110002-1-5d23"
    }
   },
   "outputs": [],
   "source": []
  }
 ],
 "metadata": {
  "kernelspec": {
   "display_name": "Python 3",
   "language": "python",
   "name": "python3"
  },
  "language_info": {
   "file_extension": ".py",
   "mimetype": "text/x-python",
   "name": "python",
   "nbconvert_exporter": "python",
   "pygments_lexer": "ipython3",
   "version": "3.7.6"
  },
  "lc_notebook_meme": {
   "current": "395b453e-bc03-11ea-a44b-0242ac110002",
   "lc_server_signature": {
    "current": {
     "notebook_dir": "/home/jovyan",
     "notebook_path": "/05_AWS_VMへのOpHub環境構築例",
     "server_url": "http://localhost:9999/",
     "signature_id": "c8e8b11c-bc23-11ea-8e2f-0242ac110002"
    },
    "history": [
     {
      "notebook_dir": "/home/jovyan",
      "notebook_path": "/05_AWS_VMへのOpHub環境構築例",
      "server_url": "http://localhost:9999/",
      "signature_id": "abb5c448-bbf3-11ea-a44b-0242ac110002"
     },
     {
      "notebook_dir": "/home/jovyan",
      "notebook_path": "/05_AWS_VMへのOpHub環境構築例",
      "server_url": "http://localhost:9999/",
      "signature_id": "b614d964-bc08-11ea-9c24-0242ac110002"
     }
    ]
   }
  },
  "toc": {
   "base_numbering": 1,
   "nav_menu": {},
   "number_sections": true,
   "sideBar": true,
   "skip_h1_title": false,
   "title_cell": "Table of Contents",
   "title_sidebar": "Contents",
   "toc_cell": false,
   "toc_position": {},
   "toc_section_display": true,
   "toc_window_display": true
  }
 },
 "nbformat": 4,
 "nbformat_minor": 4
}
